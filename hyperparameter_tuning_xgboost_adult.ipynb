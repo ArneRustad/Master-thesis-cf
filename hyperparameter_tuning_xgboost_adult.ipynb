{
 "cells": [
  {
   "cell_type": "code",
   "execution_count": 39,
   "id": "08587617",
   "metadata": {},
   "outputs": [],
   "source": [
    "imports_path = \".\\\\imports.ipynb\"\n",
    "tableGAN_path = \".\\\\tableGAN.ipynb\"\n",
    "utils_path = \".\\\\utils.ipynb\"\n",
    "\n",
    "%run \"$imports_path\""
   ]
  },
  {
   "cell_type": "code",
   "execution_count": 40,
   "id": "ea2a1987",
   "metadata": {},
   "outputs": [],
   "source": [
    "%run \"$utils_path\"\n",
    "%run \"$tableGAN_path\"\n",
    "\n",
    "image_dir = \".\\\\Images\"\n",
    "model_dir = \".\\\\Model\\\\tableGAN_ckpt\\\\compare_pred_on_synthetic_adult\\\\\"\n",
    "dataset_dir = \".\\\\Datasets\\\\\"\n",
    "dataset_train_path = os.path.join(dataset_dir, \"df_adult_edited_train.csv\")\n",
    "dataset_test_path = os.path.join(dataset_dir, \"df_adult_edited_test.csv\")\n",
    "dataset_gen_dir = os.path.join(dataset_dir, \"Generated_for_pred_eval_adult//\")\n",
    "\n",
    "data_train = pd.read_csv(dataset_train_path)\n",
    "data_test = pd.read_csv(dataset_test_path)\n",
    "discrete_columns = data_train.columns[data_train.dtypes == \"object\"]\n",
    "response_col=\"income\"\n",
    "categories=\"auto\""
   ]
  },
  {
   "cell_type": "code",
   "execution_count": 64,
   "id": "f9739e89",
   "metadata": {},
   "outputs": [
    {
     "data": {
      "text/plain": [
       "array([[3.90000e+01, 7.75160e+04, 1.30000e+01, ..., 1.00000e+00,\n",
       "        0.00000e+00, 1.00000e+00],\n",
       "       [5.00000e+01, 8.33110e+04, 1.30000e+01, ..., 1.00000e+00,\n",
       "        0.00000e+00, 1.00000e+00],\n",
       "       [3.80000e+01, 2.15646e+05, 9.00000e+00, ..., 1.00000e+00,\n",
       "        0.00000e+00, 1.00000e+00],\n",
       "       ...,\n",
       "       [5.80000e+01, 1.51910e+05, 9.00000e+00, ..., 0.00000e+00,\n",
       "        0.00000e+00, 1.00000e+00],\n",
       "       [2.20000e+01, 2.01490e+05, 9.00000e+00, ..., 1.00000e+00,\n",
       "        0.00000e+00, 1.00000e+00],\n",
       "       [5.20000e+01, 2.87927e+05, 9.00000e+00, ..., 0.00000e+00,\n",
       "        0.00000e+00, 1.00000e+00]])"
      ]
     },
     "execution_count": 64,
     "metadata": {},
     "output_type": "execute_result"
    }
   ],
   "source": [
    "X_train = data_train.iloc[:,data_train.columns != response_col]\n",
    "Y_train = data_train[response_col]\n",
    "X_test = data_test.iloc[:,data_train.columns != response_col]\n",
    "Y_test = data_test[response_col]\n",
    "\n",
    "\n",
    "columns_discrete_bool = [b in [\"object\", \"category\"] for b in X_train.dtypes]\n",
    "discrete_columns_of_X = X_train.columns[columns_discrete_bool]\n",
    "numeric_columns_of_X = X_train.columns[np.logical_not(columns_discrete_bool)]\n",
    "\n",
    "X_train[discrete_columns_of_X].astype(\"category\")\n",
    "X_test[discrete_columns_of_X].astype(\"category\")\n",
    "\n",
    "label_encoder = LabelEncoder()\n",
    "Y_train = label_encoder.fit_transform(Y_train)\n",
    "Y_test = label_encoder.transform(Y_test)\n",
    "\n",
    "#categories = OneHotEncoder().fit(X_train[discrete_columns_of_X]).categories_\n",
    "oh_encoder = OneHotEncoder(categories = categories, sparse = False)\n",
    "X_train_discr = oh_encoder.fit_transform(X_train[discrete_columns_of_X])\n",
    "X_train = np.concatenate((X_train[numeric_columns_of_X].to_numpy(),\n",
    "                          oh_encoder.fit_transform(X_train[discrete_columns_of_X])),\n",
    "                         axis = 1)\n",
    "X_test = np.concatenate((X_test[numeric_columns_of_X].to_numpy(),\n",
    "                          oh_encoder.transform(X_test[discrete_columns_of_X])),\n",
    "                         axis = 1)\n",
    "X_train"
   ]
  },
  {
   "cell_type": "code",
   "execution_count": 80,
   "id": "e9615999",
   "metadata": {},
   "outputs": [],
   "source": [
    "X_train_small, X_validation, Y_train_small,  Y_validation = train_test_split(X_train, Y_train)"
   ]
  },
  {
   "cell_type": "code",
   "execution_count": 83,
   "id": "9c081ae9",
   "metadata": {},
   "outputs": [
    {
     "data": {
      "text/plain": [
       "-0.6931471805599453"
      ]
     },
     "execution_count": 83,
     "metadata": {},
     "output_type": "execute_result"
    }
   ],
   "source": [
    "np.log(0.5)"
   ]
  },
  {
   "cell_type": "code",
   "execution_count": 166,
   "id": "a706f6c6",
   "metadata": {},
   "outputs": [],
   "source": [
    "# import packages for hyperparameters tuning\n",
    "from hyperopt import STATUS_OK, Trials, fmin, hp, tpe\n",
    "\n",
    "\n",
    "space={\"eta\": hp.uniform(\"eta\", 0, 0.5),\n",
    "       'max_depth': hp.quniform(\"max_depth\", 3, 18, 1),\n",
    "        'gamma': hp.uniform ('gamma', 0,9),\n",
    "        'reg_alpha' : hp.quniform('reg_alpha', 40,180,1),\n",
    "        'reg_lambda' : hp.uniform('reg_lambda', 0,1),\n",
    "        'colsample_bytree' : hp.uniform('colsample_bytree', 0.5,1),\n",
    "        'min_child_weight' : hp.quniform('min_child_weight', 0, 10, 1),\n",
    "       \"max_delta_step\" : hp.uniform(\"max_delta_step\", 0, 10),\n",
    "       \"subsample\" : hp.uniform(\"subsample\", 0.5, 1),\n",
    "        'n_estimators': hp.quniform(\"n_estimators\", 100, 500, 1),\n",
    "        'seed': 0\n",
    "    }\n",
    "space2 = {\n",
    "    \"eta\": hp.uniform(\"eta\", 0, 0.5),\n",
    "}"
   ]
  },
  {
   "cell_type": "code",
   "execution_count": 167,
   "id": "865a769c",
   "metadata": {},
   "outputs": [],
   "source": [
    "def objective(space):\n",
    "    clf= XGBClassifier(\n",
    "        eta = space[\"eta\"], \n",
    "        n_estimators = int(space['n_estimators']), max_depth = int(space['max_depth']), gamma = space['gamma'],\n",
    "        reg_alpha = int(space['reg_alpha']), reg_lambda =int(space['reg_lambda']), \n",
    "        min_child_weight=int(space['min_child_weight']), colsample_bytree=int(space['colsample_bytree']),\n",
    "        subsample=space['subsample'])\n",
    "    \n",
    "    evaluation = [( X_train_small, Y_train_small), ( X_validation, Y_validation)]\n",
    "    \n",
    "    clf.fit(X_train_small, Y_train_small,\n",
    "            eval_set=evaluation, eval_metric=\"auc\",\n",
    "            early_stopping_rounds=10,verbose=False)\n",
    "    \n",
    "\n",
    "    pred = clf.predict(X_validation)\n",
    "    accuracy = accuracy_score(Y_validation, pred>0.5)\n",
    "    return {'loss': -accuracy, 'status': STATUS_OK }\n",
    "\n",
    "def objective2(space):\n",
    "    clf= XGBClassifier(eta = int(space[\"eta\"]))\n",
    "    \n",
    "    evaluation = [( X_train_small, Y_train_small), ( X_validation, Y_validation)]\n",
    "    \n",
    "    clf.fit(X_train_small, Y_train_small,\n",
    "            eval_set=evaluation, eval_metric=\"auc\",\n",
    "            early_stopping_rounds=10,verbose=False)\n",
    "    \n",
    "\n",
    "    pred = clf.predict(X_validation)\n",
    "    accuracy = accuracy_score(Y_validation, pred>0.5)\n",
    "    return {'loss': -accuracy, 'status': STATUS_OK }"
   ]
  },
  {
   "cell_type": "code",
   "execution_count": 168,
   "id": "9bc1b80b",
   "metadata": {},
   "outputs": [
    {
     "name": "stdout",
     "output_type": "stream",
     "text": [
      "100%|█████████████████████████████████████████████| 100/100 [00:23<00:00,  4.28trial/s, best loss: -0.7493701100649781]\n"
     ]
    }
   ],
   "source": [
    "trials = Trials()\n",
    "\n",
    "best_hyperparams = fmin(fn = objective2,\n",
    "                        space = space2,\n",
    "                        algo = tpe.suggest,\n",
    "                        max_evals = 100,\n",
    "                        trials = trials)"
   ]
  },
  {
   "cell_type": "code",
   "execution_count": 169,
   "id": "0e9255d6",
   "metadata": {},
   "outputs": [
    {
     "name": "stdout",
     "output_type": "stream",
     "text": [
      "The best hyperparameters are :  \n",
      "\n",
      "{'eta': 0.43784318467350997}\n"
     ]
    }
   ],
   "source": [
    "print(\"The best hyperparameters are : \",\"\\n\")\n",
    "print(best_hyperparams)"
   ]
  },
  {
   "cell_type": "code",
   "execution_count": 170,
   "id": "239443c3",
   "metadata": {},
   "outputs": [
    {
     "data": {
      "text/plain": [
       "{'eta': 0.43784318467350997}"
      ]
     },
     "execution_count": 170,
     "metadata": {},
     "output_type": "execute_result"
    }
   ],
   "source": [
    "best_hyperparams"
   ]
  },
  {
   "cell_type": "code",
   "execution_count": 171,
   "id": "5f36c4e3",
   "metadata": {},
   "outputs": [
    {
     "ename": "KeyError",
     "evalue": "'n_estimators'",
     "output_type": "error",
     "traceback": [
      "\u001b[1;31m---------------------------------------------------------------------------\u001b[0m",
      "\u001b[1;31mKeyError\u001b[0m                                  Traceback (most recent call last)",
      "\u001b[1;32m~\\AppData\\Local\\Temp/ipykernel_16640/3275187552.py\u001b[0m in \u001b[0;36m<module>\u001b[1;34m\u001b[0m\n\u001b[0;32m      1\u001b[0m clf_best= XGBClassifier(\n\u001b[1;32m----> 2\u001b[1;33m                     \u001b[0mn_estimators\u001b[0m \u001b[1;33m=\u001b[0m \u001b[0mint\u001b[0m\u001b[1;33m(\u001b[0m\u001b[0mbest_hyperparams\u001b[0m\u001b[1;33m[\u001b[0m\u001b[1;34m'n_estimators'\u001b[0m\u001b[1;33m]\u001b[0m\u001b[1;33m)\u001b[0m\u001b[1;33m,\u001b[0m \u001b[0mmax_depth\u001b[0m \u001b[1;33m=\u001b[0m \u001b[0mint\u001b[0m\u001b[1;33m(\u001b[0m\u001b[0mbest_hyperparams\u001b[0m\u001b[1;33m[\u001b[0m\u001b[1;34m'max_depth'\u001b[0m\u001b[1;33m]\u001b[0m\u001b[1;33m)\u001b[0m\u001b[1;33m,\u001b[0m \u001b[0mgamma\u001b[0m \u001b[1;33m=\u001b[0m \u001b[0mbest_hyperparams\u001b[0m\u001b[1;33m[\u001b[0m\u001b[1;34m'gamma'\u001b[0m\u001b[1;33m]\u001b[0m\u001b[1;33m,\u001b[0m\u001b[1;33m\u001b[0m\u001b[1;33m\u001b[0m\u001b[0m\n\u001b[0m\u001b[0;32m      3\u001b[0m                     \u001b[0mreg_alpha\u001b[0m \u001b[1;33m=\u001b[0m \u001b[0mint\u001b[0m\u001b[1;33m(\u001b[0m\u001b[0mbest_hyperparams\u001b[0m\u001b[1;33m[\u001b[0m\u001b[1;34m'reg_alpha'\u001b[0m\u001b[1;33m]\u001b[0m\u001b[1;33m)\u001b[0m\u001b[1;33m,\u001b[0m\u001b[0mmin_child_weight\u001b[0m\u001b[1;33m=\u001b[0m\u001b[0mint\u001b[0m\u001b[1;33m(\u001b[0m\u001b[0mbest_hyperparams\u001b[0m\u001b[1;33m[\u001b[0m\u001b[1;34m'min_child_weight'\u001b[0m\u001b[1;33m]\u001b[0m\u001b[1;33m)\u001b[0m\u001b[1;33m,\u001b[0m\u001b[1;33m\u001b[0m\u001b[1;33m\u001b[0m\u001b[0m\n\u001b[0;32m      4\u001b[0m                     colsample_bytree=int(best_hyperparams['colsample_bytree']))\n",
      "\u001b[1;31mKeyError\u001b[0m: 'n_estimators'"
     ]
    }
   ],
   "source": [
    "clf_best= XGBClassifier(\n",
    "                    n_estimators = int(best_hyperparams['n_estimators']), max_depth = int(best_hyperparams['max_depth']), gamma = best_hyperparams['gamma'],\n",
    "                    reg_alpha = int(best_hyperparams['reg_alpha']),min_child_weight=int(best_hyperparams['min_child_weight']),\n",
    "                    colsample_bytree=int(best_hyperparams['colsample_bytree']))"
   ]
  },
  {
   "cell_type": "code",
   "execution_count": 174,
   "id": "c2193725",
   "metadata": {},
   "outputs": [],
   "source": [
    "clf_best= XGBClassifier(\n",
    "                    eta=best_hyperparams['eta'])"
   ]
  },
  {
   "cell_type": "code",
   "execution_count": 175,
   "id": "fa11ddb9",
   "metadata": {},
   "outputs": [
    {
     "name": "stdout",
     "output_type": "stream",
     "text": [
      "[20:50:07] WARNING: C:/Users/Administrator/workspace/xgboost-win64_release_1.5.1/src/learner.cc:1115: Starting in XGBoost 1.3.0, the default evaluation metric used with the objective 'binary:logistic' was changed from 'error' to 'logloss'. Explicitly set eval_metric if you'd like to restore the old behavior.\n"
     ]
    },
    {
     "data": {
      "text/plain": [
       "XGBClassifier(base_score=0.5, booster='gbtree', colsample_bylevel=1,\n",
       "              colsample_bynode=1, colsample_bytree=1, enable_categorical=False,\n",
       "              eta=0.43784318467350997, gamma=0, gpu_id=-1, importance_type=None,\n",
       "              interaction_constraints='', learning_rate=0.437843174,\n",
       "              max_delta_step=0, max_depth=6, min_child_weight=1, missing=nan,\n",
       "              monotone_constraints='()', n_estimators=100, n_jobs=12,\n",
       "              num_parallel_tree=1, predictor='auto', random_state=0,\n",
       "              reg_alpha=0, reg_lambda=1, scale_pos_weight=1, subsample=1,\n",
       "              tree_method='exact', validate_parameters=1, verbosity=None)"
      ]
     },
     "execution_count": 175,
     "metadata": {},
     "output_type": "execute_result"
    }
   ],
   "source": [
    "clf_best.fit(X_train, Y_train)"
   ]
  },
  {
   "cell_type": "code",
   "execution_count": 176,
   "id": "89592358",
   "metadata": {},
   "outputs": [
    {
     "name": "stdout",
     "output_type": "stream",
     "text": [
      "Accurcay: 0.8642762284196547\n",
      "AUC: 0.9210870289303388\n"
     ]
    }
   ],
   "source": [
    "pred = clf_best.predict(X_test)\n",
    "accuracy = accuracy_score(Y_test, pred>0.5)\n",
    "auc = roc_auc_score(Y_test, clf_best.predict_proba(X_test)[:,1])\n",
    "print(\"Accurcay:\", accuracy)\n",
    "print(\"AUC:\", auc)"
   ]
  },
  {
   "cell_type": "code",
   "execution_count": 143,
   "id": "2278c0cd",
   "metadata": {},
   "outputs": [
    {
     "name": "stdout",
     "output_type": "stream",
     "text": [
      "Accurcay: 0.8658034528552457\n",
      "AUC: 0.9221433431671108\n"
     ]
    }
   ],
   "source": [
    "clf = XGBClassifier(\n",
    "        tree_method=\"gpu_hist\", enable_categorical=False, use_label_encoder=False, eval_metric = \"logloss\"\n",
    "    )\n",
    "# X is the dataframe we created in previous snippet\n",
    "clf.fit(X_train, Y_train)\n",
    "# Must use JSON for serialization, otherwise the information is lost\n",
    "clf.save_model(\"categorical-model.json\")\n",
    "\n",
    "accuracy = accuracy_score(Y_test, clf.predict(X_test))\n",
    "auc = roc_auc_score(Y_test, clf.predict_proba(X_test)[:,1])\n",
    "print(\"Accurcay:\", accuracy)\n",
    "print(\"AUC:\", auc)"
   ]
  }
 ],
 "metadata": {
  "kernelspec": {
   "display_name": "tf",
   "language": "python",
   "name": "tf"
  },
  "language_info": {
   "codemirror_mode": {
    "name": "ipython",
    "version": 3
   },
   "file_extension": ".py",
   "mimetype": "text/x-python",
   "name": "python",
   "nbconvert_exporter": "python",
   "pygments_lexer": "ipython3",
   "version": "3.7.11"
  }
 },
 "nbformat": 4,
 "nbformat_minor": 5
}
