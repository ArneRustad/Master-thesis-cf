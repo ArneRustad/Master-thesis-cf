{
 "cells": [
  {
   "cell_type": "code",
   "execution_count": 1,
   "id": "267c39e1",
   "metadata": {},
   "outputs": [
    {
     "name": "stdout",
     "output_type": "stream",
     "text": [
      "Index(['Age', 'fnlwgt', 'Education.Num', 'Capital.Gain', 'Hours.per.week'], dtype='object')\n",
      "32561\n"
     ]
    }
   ],
   "source": [
    "imports_path = \".\\\\imports.ipynb\"\n",
    "tableGAN_path = \".\\\\tableGAN.ipynb\"\n",
    "utils_path = \".\\\\utils.ipynb\"\n",
    "\n",
    "import pandas as pd\n",
    "import os\n",
    "import pickle\n",
    "import time\n",
    "\n",
    "data= pd.read_csv('Datasets\\\\df_adult_edited.csv')\n",
    "data\n",
    "data.dtypes\n",
    "columns_num = data.columns[data.dtypes == \"int64\"]\n",
    "print(columns_num)\n",
    "print(data.shape[0])\n",
    "\n",
    "image_dir = \".\\\\Images\"\n",
    "timer_dir = \".\\\\Timers\"\n",
    "model_dir = \".\\\\Model\\\\tableGAN_ckpt\\\\compare_adult\\\\\"\n",
    "timer_path = os.path.join(timer_dir, \"timer_tgan.pkl\")\n",
    "retrain = True\n",
    "\n",
    "if not os.path.exists(timer_path):\n",
    "    timer = Timer()\n",
    "    timer.save(timer_path)\n",
    "    del timer\n",
    "\n",
    "%run \"$utils_path\""
   ]
  },
  {
   "cell_type": "code",
   "execution_count": 2,
   "id": "c3ae33e6",
   "metadata": {},
   "outputs": [
    {
     "name": "stdout",
     "output_type": "stream",
     "text": [
      "WARNING:tensorflow:From C:\\Users\\Arne\\anaconda3\\envs\\tfv1\\lib\\site-packages\\tensorpack\\callbacks\\hooks.py:17: The name tf.train.SessionRunHook is deprecated. Please use tf.estimator.SessionRunHook instead.\n",
      "\n",
      "WARNING:tensorflow:From C:\\Users\\Arne\\anaconda3\\envs\\tfv1\\lib\\site-packages\\tensorpack\\tfutils\\optimizer.py:18: The name tf.train.Optimizer is deprecated. Please use tf.compat.v1.train.Optimizer instead.\n",
      "\n",
      "WARNING:tensorflow:From C:\\Users\\Arne\\anaconda3\\envs\\tfv1\\lib\\site-packages\\tensorpack\\tfutils\\sesscreate.py:20: The name tf.train.SessionCreator is deprecated. Please use tf.compat.v1.train.SessionCreator instead.\n",
      "\n",
      "WARNING:tensorflow:From C:\\Users\\Arne\\anaconda3\\envs\\tfv1\\lib\\site-packages\\tensorpack\\graph_builder\\model_desc.py:29: The name tf.get_default_graph is deprecated. Please use tf.compat.v1.get_default_graph instead.\n",
      "\n",
      "WARNING:tensorflow:From C:\\Users\\Arne\\anaconda3\\envs\\tfv1\\lib\\site-packages\\tensorpack\\graph_builder\\model_desc.py:39: The name tf.placeholder is deprecated. Please use tf.compat.v1.placeholder instead.\n",
      "\n",
      "WARNING:tensorflow:From C:\\Users\\Arne\\anaconda3\\envs\\tfv1\\lib\\site-packages\\tensorpack\\input_source\\input_source.py:219: The name tf.FIFOQueue is deprecated. Please use tf.queue.FIFOQueue instead.\n",
      "\n",
      "\u001b[32m[1227 12:04:21 @input_source.py:222]\u001b[0m Setting up the queue 'QueueInput/input_queue' for CPU prefetching ...\n",
      "WARNING:tensorflow:From C:\\Users\\Arne\\anaconda3\\envs\\tfv1\\lib\\site-packages\\tensorpack\\tfutils\\summary.py:237: The name tf.get_variable_scope is deprecated. Please use tf.compat.v1.get_variable_scope instead.\n",
      "\n",
      "WARNING:tensorflow:From C:\\Users\\Arne\\anaconda3\\envs\\tfv1\\lib\\site-packages\\tensorpack\\tfutils\\summary.py:27: The name tf.variable_scope is deprecated. Please use tf.compat.v1.variable_scope instead.\n",
      "\n",
      "WARNING:tensorflow:From C:\\Users\\Arne\\anaconda3\\envs\\tfv1\\lib\\site-packages\\tensorpack\\tfutils\\summary.py:254: The name tf.get_variable is deprecated. Please use tf.compat.v1.get_variable instead.\n",
      "\n",
      "WARNING:tensorflow:From C:\\Users\\Arne\\anaconda3\\envs\\tfv1\\lib\\site-packages\\tensorpack\\tfutils\\summary.py:264: The name tf.summary.scalar is deprecated. Please use tf.compat.v1.summary.scalar instead.\n",
      "\n",
      "WARNING:tensorflow:From C:\\Users\\Arne\\anaconda3\\envs\\tfv1\\lib\\site-packages\\tensorpack\\tfutils\\collection.py:105: The name tf.GraphKeys is deprecated. Please use tf.compat.v1.GraphKeys instead.\n",
      "\n",
      "WARNING:tensorflow:From C:\\Users\\Arne\\anaconda3\\envs\\tfv1\\lib\\site-packages\\tensorpack\\tfutils\\collection.py:33: The name tf.get_collection is deprecated. Please use tf.compat.v1.get_collection instead.\n",
      "\n",
      "WARNING:tensorflow:From C:\\Users\\Arne\\anaconda3\\envs\\tfv1\\lib\\site-packages\\tgan\\model.py:455: The name tf.random_normal is deprecated. Please use tf.random.normal instead.\n",
      "\n",
      "WARNING:tensorflow:From C:\\Users\\Arne\\anaconda3\\envs\\tfv1\\lib\\site-packages\\tgan\\model.py:458: The name tf.placeholder_with_default is deprecated. Please use tf.compat.v1.placeholder_with_default instead.\n",
      "\n",
      "WARNING:tensorflow:From C:\\Users\\Arne\\anaconda3\\envs\\tfv1\\lib\\site-packages\\tgan\\model.py:259: LSTMCell.__init__ (from tensorflow.python.ops.rnn_cell_impl) is deprecated and will be removed in a future version.\n",
      "Instructions for updating:\n",
      "This class is equivalent as tf.keras.layers.LSTMCell, and will be replaced by that in Tensorflow 2.0.\n",
      "WARNING:tensorflow:From C:\\Users\\Arne\\anaconda3\\envs\\tfv1\\lib\\site-packages\\tensorflow_core\\python\\ops\\rnn_cell_impl.py:958: Layer.add_variable (from tensorflow.python.keras.engine.base_layer) is deprecated and will be removed in a future version.\n",
      "Instructions for updating:\n",
      "Please use `layer.add_weight` method instead.\n",
      "WARNING:tensorflow:From C:\\Users\\Arne\\anaconda3\\envs\\tfv1\\lib\\site-packages\\tensorflow_core\\python\\ops\\rnn_cell_impl.py:962: calling Zeros.__init__ (from tensorflow.python.ops.init_ops) with dtype is deprecated and will be removed in a future version.\n",
      "Instructions for updating:\n",
      "Call initializer instance with the dtype argument instead of passing it to the constructor\n",
      "\u001b[32m[1227 12:04:21 @registry.py:126]\u001b[0m gen/LSTM/00/FC input: [200, 100]\n",
      "WARNING:tensorflow:From C:\\Users\\Arne\\anaconda3\\envs\\tfv1\\lib\\site-packages\\tensorpack\\models\\fc.py:57: The name tf.layers.Dense is deprecated. Please use tf.compat.v1.layers.Dense instead.\n",
      "\n",
      "WARNING:tensorflow:From C:\\Users\\Arne\\anaconda3\\envs\\tfv1\\lib\\site-packages\\tensorpack\\models\\fc.py:67: Layer.apply (from tensorflow.python.keras.engine.base_layer) is deprecated and will be removed in a future version.\n",
      "Instructions for updating:\n",
      "Please use `layer.__call__` method instead.\n",
      "\u001b[32m[1227 12:04:21 @registry.py:134]\u001b[0m gen/LSTM/00/FC output: [200, 100]\n",
      "\u001b[32m[1227 12:04:21 @registry.py:126]\u001b[0m gen/LSTM/00/FC2 input: [200, 100]\n",
      "\u001b[32m[1227 12:04:21 @registry.py:134]\u001b[0m gen/LSTM/00/FC2 output: [200, 73]\n",
      "\u001b[32m[1227 12:04:21 @registry.py:126]\u001b[0m gen/LSTM/00/FC3 input: [200, 73]\n",
      "\u001b[32m[1227 12:04:21 @registry.py:134]\u001b[0m gen/LSTM/00/FC3 output: [200, 100]\n",
      "\u001b[32m[1227 12:04:21 @registry.py:126]\u001b[0m gen/LSTM/01/FC input: [200, 100]\n",
      "\u001b[32m[1227 12:04:21 @registry.py:134]\u001b[0m gen/LSTM/01/FC output: [200, 100]\n",
      "\u001b[32m[1227 12:04:21 @registry.py:126]\u001b[0m gen/LSTM/01/FC2 input: [200, 100]\n",
      "\u001b[32m[1227 12:04:21 @registry.py:134]\u001b[0m gen/LSTM/01/FC2 output: [200, 3]\n",
      "\u001b[32m[1227 12:04:21 @registry.py:126]\u001b[0m gen/LSTM/01/FC3 input: [200, 3]\n",
      "\u001b[32m[1227 12:04:21 @registry.py:134]\u001b[0m gen/LSTM/01/FC3 output: [200, 100]\n",
      "\u001b[32m[1227 12:04:21 @registry.py:126]\u001b[0m gen/LSTM/02/FC input: [200, 100]\n",
      "\u001b[32m[1227 12:04:21 @registry.py:134]\u001b[0m gen/LSTM/02/FC output: [200, 100]\n",
      "\u001b[32m[1227 12:04:21 @registry.py:126]\u001b[0m gen/LSTM/02/FC2 input: [200, 100]\n",
      "\u001b[32m[1227 12:04:21 @registry.py:134]\u001b[0m gen/LSTM/02/FC2 output: [200, 21648]\n",
      "\u001b[32m[1227 12:04:21 @registry.py:126]\u001b[0m gen/LSTM/02/FC3 input: [200, 21648]\n",
      "\u001b[32m[1227 12:04:21 @registry.py:134]\u001b[0m gen/LSTM/02/FC3 output: [200, 100]\n",
      "\u001b[32m[1227 12:04:21 @registry.py:126]\u001b[0m gen/LSTM/03/FC input: [200, 100]\n",
      "\u001b[32m[1227 12:04:21 @registry.py:134]\u001b[0m gen/LSTM/03/FC output: [200, 100]\n",
      "\u001b[32m[1227 12:04:21 @registry.py:126]\u001b[0m gen/LSTM/03/FC2 input: [200, 100]\n",
      "\u001b[32m[1227 12:04:21 @registry.py:134]\u001b[0m gen/LSTM/03/FC2 output: [200, 9]\n",
      "\u001b[32m[1227 12:04:21 @registry.py:126]\u001b[0m gen/LSTM/03/FC3 input: [200, 9]\n",
      "\u001b[32m[1227 12:04:21 @registry.py:134]\u001b[0m gen/LSTM/03/FC3 output: [200, 100]\n",
      "\u001b[32m[1227 12:04:21 @registry.py:126]\u001b[0m gen/LSTM/04/FC input: [200, 100]\n",
      "\u001b[32m[1227 12:04:21 @registry.py:134]\u001b[0m gen/LSTM/04/FC output: [200, 100]\n",
      "\u001b[32m[1227 12:04:21 @registry.py:126]\u001b[0m gen/LSTM/04/FC2 input: [200, 100]\n",
      "\u001b[32m[1227 12:04:21 @registry.py:134]\u001b[0m gen/LSTM/04/FC2 output: [200, 16]\n",
      "\u001b[32m[1227 12:04:21 @registry.py:126]\u001b[0m gen/LSTM/04/FC3 input: [200, 16]\n",
      "\u001b[32m[1227 12:04:21 @registry.py:134]\u001b[0m gen/LSTM/04/FC3 output: [200, 100]\n",
      "\u001b[32m[1227 12:04:21 @registry.py:126]\u001b[0m gen/LSTM/05/FC input: [200, 100]\n",
      "\u001b[32m[1227 12:04:21 @registry.py:134]\u001b[0m gen/LSTM/05/FC output: [200, 100]\n",
      "\u001b[32m[1227 12:04:21 @registry.py:126]\u001b[0m gen/LSTM/05/FC2 input: [200, 100]\n",
      "\u001b[32m[1227 12:04:21 @registry.py:134]\u001b[0m gen/LSTM/05/FC2 output: [200, 5]\n",
      "\u001b[32m[1227 12:04:21 @registry.py:126]\u001b[0m gen/LSTM/05/FC3 input: [200, 5]\n",
      "\u001b[32m[1227 12:04:21 @registry.py:134]\u001b[0m gen/LSTM/05/FC3 output: [200, 100]\n",
      "\u001b[32m[1227 12:04:21 @registry.py:126]\u001b[0m gen/LSTM/06/FC input: [200, 100]\n",
      "\u001b[32m[1227 12:04:21 @registry.py:134]\u001b[0m gen/LSTM/06/FC output: [200, 100]\n",
      "\u001b[32m[1227 12:04:21 @registry.py:126]\u001b[0m gen/LSTM/06/FC2 input: [200, 100]\n",
      "\u001b[32m[1227 12:04:21 @registry.py:134]\u001b[0m gen/LSTM/06/FC2 output: [200, 15]\n",
      "\u001b[32m[1227 12:04:21 @registry.py:126]\u001b[0m gen/LSTM/06/FC3 input: [200, 15]\n",
      "\u001b[32m[1227 12:04:21 @registry.py:134]\u001b[0m gen/LSTM/06/FC3 output: [200, 100]\n",
      "\u001b[32m[1227 12:04:21 @registry.py:126]\u001b[0m gen/LSTM/07/FC input: [200, 100]\n",
      "\u001b[32m[1227 12:04:21 @registry.py:134]\u001b[0m gen/LSTM/07/FC output: [200, 100]\n",
      "\u001b[32m[1227 12:04:21 @registry.py:126]\u001b[0m gen/LSTM/07/FC2 input: [200, 100]\n",
      "\u001b[32m[1227 12:04:21 @registry.py:134]\u001b[0m gen/LSTM/07/FC2 output: [200, 5]\n",
      "\u001b[32m[1227 12:04:21 @registry.py:126]\u001b[0m gen/LSTM/07/FC3 input: [200, 5]\n",
      "\u001b[32m[1227 12:04:21 @registry.py:134]\u001b[0m gen/LSTM/07/FC3 output: [200, 100]\n",
      "\u001b[32m[1227 12:04:21 @registry.py:126]\u001b[0m gen/LSTM/08/FC input: [200, 100]\n",
      "\u001b[32m[1227 12:04:22 @registry.py:134]\u001b[0m gen/LSTM/08/FC output: [200, 100]\n"
     ]
    },
    {
     "name": "stdout",
     "output_type": "stream",
     "text": [
      "\u001b[32m[1227 12:04:22 @registry.py:126]\u001b[0m gen/LSTM/08/FC2 input: [200, 100]\n",
      "\u001b[32m[1227 12:04:22 @registry.py:134]\u001b[0m gen/LSTM/08/FC2 output: [200, 2]\n",
      "\u001b[32m[1227 12:04:22 @registry.py:126]\u001b[0m gen/LSTM/08/FC3 input: [200, 2]\n",
      "\u001b[32m[1227 12:04:22 @registry.py:134]\u001b[0m gen/LSTM/08/FC3 output: [200, 100]\n",
      "\u001b[32m[1227 12:04:22 @registry.py:126]\u001b[0m gen/LSTM/09/FC input: [200, 100]\n",
      "\u001b[32m[1227 12:04:22 @registry.py:134]\u001b[0m gen/LSTM/09/FC output: [200, 100]\n",
      "\u001b[32m[1227 12:04:22 @registry.py:126]\u001b[0m gen/LSTM/09/FC2 input: [200, 100]\n",
      "\u001b[32m[1227 12:04:22 @registry.py:134]\u001b[0m gen/LSTM/09/FC2 output: [200, 119]\n",
      "\u001b[32m[1227 12:04:22 @registry.py:126]\u001b[0m gen/LSTM/09/FC3 input: [200, 119]\n",
      "\u001b[32m[1227 12:04:22 @registry.py:134]\u001b[0m gen/LSTM/09/FC3 output: [200, 100]\n",
      "\u001b[32m[1227 12:04:22 @registry.py:126]\u001b[0m gen/LSTM/10/FC input: [200, 100]\n",
      "\u001b[32m[1227 12:04:22 @registry.py:134]\u001b[0m gen/LSTM/10/FC output: [200, 100]\n",
      "\u001b[32m[1227 12:04:22 @registry.py:126]\u001b[0m gen/LSTM/10/FC2 input: [200, 100]\n",
      "\u001b[32m[1227 12:04:22 @registry.py:134]\u001b[0m gen/LSTM/10/FC2 output: [200, 94]\n",
      "\u001b[32m[1227 12:04:22 @registry.py:126]\u001b[0m gen/LSTM/10/FC3 input: [200, 94]\n",
      "\u001b[32m[1227 12:04:22 @registry.py:134]\u001b[0m gen/LSTM/10/FC3 output: [200, 100]\n",
      "\u001b[32m[1227 12:04:22 @registry.py:126]\u001b[0m gen/LSTM/11/FC input: [200, 100]\n",
      "\u001b[32m[1227 12:04:22 @registry.py:134]\u001b[0m gen/LSTM/11/FC output: [200, 100]\n",
      "\u001b[32m[1227 12:04:22 @registry.py:126]\u001b[0m gen/LSTM/11/FC2 input: [200, 100]\n",
      "\u001b[32m[1227 12:04:22 @registry.py:134]\u001b[0m gen/LSTM/11/FC2 output: [200, 2]\n",
      "\u001b[32m[1227 12:04:22 @registry.py:126]\u001b[0m gen/LSTM/11/FC3 input: [200, 2]\n",
      "\u001b[32m[1227 12:04:22 @registry.py:134]\u001b[0m gen/LSTM/11/FC3 output: [200, 100]\n",
      "\u001b[32m[1227 12:04:22 @registry.py:126]\u001b[0m gen/LSTM/12/FC input: [200, 100]\n",
      "\u001b[32m[1227 12:04:22 @registry.py:134]\u001b[0m gen/LSTM/12/FC output: [200, 100]\n",
      "\u001b[32m[1227 12:04:22 @registry.py:126]\u001b[0m gen/LSTM/12/FC2 input: [200, 100]\n",
      "\u001b[32m[1227 12:04:22 @registry.py:134]\u001b[0m gen/LSTM/12/FC2 output: [200, 2]\n",
      "\u001b[32m[1227 12:04:22 @registry.py:126]\u001b[0m gen/LSTM/12/FC3 input: [200, 2]\n",
      "\u001b[32m[1227 12:04:22 @registry.py:134]\u001b[0m gen/LSTM/12/FC3 output: [200, 100]\n",
      "WARNING:tensorflow:From C:\\Users\\Arne\\anaconda3\\envs\\tfv1\\lib\\site-packages\\tgan\\model.py:494: The name tf.random_uniform is deprecated. Please use tf.random.uniform instead.\n",
      "\n",
      "WARNING:tensorflow:From C:\\Users\\Arne\\anaconda3\\envs\\tfv1\\lib\\site-packages\\tgan\\model.py:443: The name tf.log is deprecated. Please use tf.math.log instead.\n",
      "\n",
      "\u001b[32m[1227 12:04:22 @registry.py:126]\u001b[0m discrim/dis_fc0/fc input: [200, 21993]\n",
      "\u001b[32m[1227 12:04:22 @registry.py:134]\u001b[0m discrim/dis_fc0/fc output: [200, 256]\n",
      "\u001b[32m[1227 12:04:22 @registry.py:126]\u001b[0m discrim/dis_fc0/fc_diversity input: [200, 256]\n",
      "\u001b[32m[1227 12:04:22 @registry.py:134]\u001b[0m discrim/dis_fc0/fc_diversity output: [200, 100]\n",
      "WARNING:tensorflow:From C:\\Users\\Arne\\anaconda3\\envs\\tfv1\\lib\\site-packages\\tensorpack\\models\\batch_norm.py:204: The name tf.layers.BatchNormalization is deprecated. Please use tf.compat.v1.layers.BatchNormalization instead.\n",
      "\n",
      "WARNING:tensorflow:From C:\\Users\\Arne\\anaconda3\\envs\\tfv1\\lib\\site-packages\\tensorpack\\models\\batch_norm.py:212: The name tf.add_to_collection is deprecated. Please use tf.compat.v1.add_to_collection instead.\n",
      "\n",
      "\u001b[32m[1227 12:04:22 @registry.py:126]\u001b[0m discrim/dis_fc_top input: [200, 266]\n",
      "\u001b[32m[1227 12:04:22 @registry.py:134]\u001b[0m discrim/dis_fc_top output: [200, 1]\n",
      "WARNING:tensorflow:From C:\\Users\\Arne\\anaconda3\\envs\\tfv1\\lib\\site-packages\\tgan\\model.py:118: The name tf.summary.histogram is deprecated. Please use tf.compat.v1.summary.histogram instead.\n",
      "\n",
      "WARNING:tensorflow:From C:\\Users\\Arne\\anaconda3\\envs\\tfv1\\lib\\site-packages\\tensorflow_core\\python\\ops\\nn_impl.py:183: where (from tensorflow.python.ops.array_ops) is deprecated and will be removed in a future version.\n",
      "Instructions for updating:\n",
      "Use tf.where in 2.0, which has the same broadcast rule as np.where\n",
      "WARNING:tensorflow:\n",
      "The TensorFlow contrib module will not be included in TensorFlow 2.0.\n",
      "For more information, please see:\n",
      "  * https://github.com/tensorflow/community/blob/master/rfcs/20180907-contrib-sunset.md\n",
      "  * https://github.com/tensorflow/addons\n",
      "  * https://github.com/tensorflow/io (for I/O related ops)\n",
      "If you depend on functionality not listed there, please file an issue.\n",
      "\n",
      "WARNING:tensorflow:From C:\\Users\\Arne\\anaconda3\\envs\\tfv1\\lib\\site-packages\\tgan\\model.py:551: The name tf.train.AdamOptimizer is deprecated. Please use tf.compat.v1.train.AdamOptimizer instead.\n",
      "\n",
      "WARNING:tensorflow:From C:\\Users\\Arne\\anaconda3\\envs\\tfv1\\lib\\site-packages\\tensorpack\\tfutils\\varmanip.py:178: The name tf.gfile.Exists is deprecated. Please use tf.io.gfile.exists instead.\n",
      "\n",
      "\u001b[32m[1227 12:04:27 @logger.py:83]\u001b[0m Existing log file '.\\Model\\tableGAN_ckpt\\compare_adult\\tgan\\logs\\log.log' backuped to '.\\Model\\tableGAN_ckpt\\compare_adult\\tgan\\logs\\log.log.1227-120427'\n",
      "\u001b[32m[1227 12:04:27 @logger.py:90]\u001b[0m Argv: C:\\Users\\Arne\\anaconda3\\envs\\tfv1\\lib\\site-packages\\ipykernel_launcher.py -f C:\\Users\\Arne\\AppData\\Roaming\\jupyter\\runtime\\kernel-1b65ee66-40b5-4c54-b5fc-fed73025ec43.json\n",
      "WARNING:tensorflow:From C:\\Users\\Arne\\anaconda3\\envs\\tfv1\\lib\\site-packages\\tensorpack\\callbacks\\saver.py:43: The name tf.gfile.IsDirectory is deprecated. Please use tf.io.gfile.isdir instead.\n",
      "\n",
      "WARNING:tensorflow:From C:\\Users\\Arne\\anaconda3\\envs\\tfv1\\lib\\site-packages\\tensorpack\\tfutils\\common.py:41: The name tf.ConfigProto is deprecated. Please use tf.compat.v1.ConfigProto instead.\n",
      "\n",
      "\u001b[32m[1227 12:04:27 @model_utils.py:67]\u001b[0m \u001b[36mList of Trainable Variables: \n",
      "\u001b[0mname                              shape           #elements\n",
      "--------------------------------  ------------  -----------\n",
      "gen/LSTM/go:0                     [1, 100]              100\n",
      "gen/LSTM/lstm_cell/kernel:0       [500, 400]         200000\n",
      "gen/LSTM/lstm_cell/bias:0         [400]                 400\n",
      "gen/LSTM/00/FC/W:0                [100, 100]          10000\n",
      "gen/LSTM/00/FC/b:0                [100]                 100\n",
      "gen/LSTM/00/FC2/W:0               [100, 73]            7300\n",
      "gen/LSTM/00/FC2/b:0               [73]                   73\n",
      "gen/LSTM/00/FC3/W:0               [73, 100]            7300\n",
      "gen/LSTM/00/FC3/b:0               [100]                 100\n",
      "gen/LSTM/00/attw:0                [1, 1, 1]               1\n",
      "gen/LSTM/01/FC/W:0                [100, 100]          10000\n",
      "gen/LSTM/01/FC/b:0                [100]                 100\n",
      "gen/LSTM/01/FC2/W:0               [100, 3]              300\n",
      "gen/LSTM/01/FC2/b:0               [3]                     3\n",
      "gen/LSTM/01/FC3/W:0               [3, 100]              300\n",
      "gen/LSTM/01/FC3/b:0               [100]                 100\n",
      "gen/LSTM/01/attw:0                [2, 1, 1]               2\n",
      "gen/LSTM/02/FC/W:0                [100, 100]          10000\n",
      "gen/LSTM/02/FC/b:0                [100]                 100\n",
      "gen/LSTM/02/FC2/W:0               [100, 21648]      2164800\n",
      "gen/LSTM/02/FC2/b:0               [21648]             21648\n",
      "gen/LSTM/02/FC3/W:0               [21648, 100]      2164800\n",
      "gen/LSTM/02/FC3/b:0               [100]                 100\n",
      "gen/LSTM/02/attw:0                [3, 1, 1]               3\n",
      "gen/LSTM/03/FC/W:0                [100, 100]          10000\n",
      "gen/LSTM/03/FC/b:0                [100]                 100\n",
      "gen/LSTM/03/FC2/W:0               [100, 9]              900\n",
      "gen/LSTM/03/FC2/b:0               [9]                     9\n",
      "gen/LSTM/03/FC3/W:0               [9, 100]              900\n",
      "gen/LSTM/03/FC3/b:0               [100]                 100\n",
      "gen/LSTM/03/attw:0                [4, 1, 1]               4\n",
      "gen/LSTM/04/FC/W:0                [100, 100]          10000\n",
      "gen/LSTM/04/FC/b:0                [100]                 100\n",
      "gen/LSTM/04/FC2/W:0               [100, 16]            1600\n",
      "gen/LSTM/04/FC2/b:0               [16]                   16\n",
      "gen/LSTM/04/FC3/W:0               [16, 100]            1600\n",
      "gen/LSTM/04/FC3/b:0               [100]                 100\n",
      "gen/LSTM/04/attw:0                [5, 1, 1]               5\n",
      "gen/LSTM/05/FC/W:0                [100, 100]          10000\n",
      "gen/LSTM/05/FC/b:0                [100]                 100\n",
      "gen/LSTM/05/FC2/W:0               [100, 5]              500\n",
      "gen/LSTM/05/FC2/b:0               [5]                     5\n",
      "gen/LSTM/05/FC3/W:0               [5, 100]              500\n",
      "gen/LSTM/05/FC3/b:0               [100]                 100\n",
      "gen/LSTM/05/attw:0                [6, 1, 1]               6\n",
      "gen/LSTM/06/FC/W:0                [100, 100]          10000\n",
      "gen/LSTM/06/FC/b:0                [100]                 100\n",
      "gen/LSTM/06/FC2/W:0               [100, 15]            1500\n",
      "gen/LSTM/06/FC2/b:0               [15]                   15\n",
      "gen/LSTM/06/FC3/W:0               [15, 100]            1500\n",
      "gen/LSTM/06/FC3/b:0               [100]                 100\n",
      "gen/LSTM/06/attw:0                [7, 1, 1]               7\n",
      "gen/LSTM/07/FC/W:0                [100, 100]          10000\n",
      "gen/LSTM/07/FC/b:0                [100]                 100\n",
      "gen/LSTM/07/FC2/W:0               [100, 5]              500\n",
      "gen/LSTM/07/FC2/b:0               [5]                     5\n",
      "gen/LSTM/07/FC3/W:0               [5, 100]              500\n",
      "gen/LSTM/07/FC3/b:0               [100]                 100\n",
      "gen/LSTM/07/attw:0                [8, 1, 1]               8\n",
      "gen/LSTM/08/FC/W:0                [100, 100]          10000\n",
      "gen/LSTM/08/FC/b:0                [100]                 100\n",
      "gen/LSTM/08/FC2/W:0               [100, 2]              200\n",
      "gen/LSTM/08/FC2/b:0               [2]                     2\n",
      "gen/LSTM/08/FC3/W:0               [2, 100]              200\n",
      "gen/LSTM/08/FC3/b:0               [100]                 100\n",
      "gen/LSTM/08/attw:0                [9, 1, 1]               9\n",
      "gen/LSTM/09/FC/W:0                [100, 100]          10000\n",
      "gen/LSTM/09/FC/b:0                [100]                 100\n",
      "gen/LSTM/09/FC2/W:0               [100, 119]          11900\n",
      "gen/LSTM/09/FC2/b:0               [119]                 119\n",
      "gen/LSTM/09/FC3/W:0               [119, 100]          11900\n",
      "gen/LSTM/09/FC3/b:0               [100]                 100\n",
      "gen/LSTM/09/attw:0                [10, 1, 1]             10\n",
      "gen/LSTM/10/FC/W:0                [100, 100]          10000\n",
      "gen/LSTM/10/FC/b:0                [100]                 100\n",
      "gen/LSTM/10/FC2/W:0               [100, 94]            9400\n",
      "gen/LSTM/10/FC2/b:0               [94]                   94\n",
      "gen/LSTM/10/FC3/W:0               [94, 100]            9400\n",
      "gen/LSTM/10/FC3/b:0               [100]                 100\n",
      "gen/LSTM/10/attw:0                [11, 1, 1]             11\n",
      "gen/LSTM/11/FC/W:0                [100, 100]          10000\n",
      "gen/LSTM/11/FC/b:0                [100]                 100\n",
      "gen/LSTM/11/FC2/W:0               [100, 2]              200\n",
      "gen/LSTM/11/FC2/b:0               [2]                     2\n",
      "gen/LSTM/11/FC3/W:0               [2, 100]              200\n",
      "gen/LSTM/11/FC3/b:0               [100]                 100\n",
      "gen/LSTM/11/attw:0                [12, 1, 1]             12\n",
      "gen/LSTM/12/FC/W:0                [100, 100]          10000\n",
      "gen/LSTM/12/FC/b:0                [100]                 100\n",
      "gen/LSTM/12/FC2/W:0               [100, 2]              200\n",
      "gen/LSTM/12/FC2/b:0               [2]                     2\n",
      "gen/LSTM/12/FC3/W:0               [2, 100]              200\n",
      "gen/LSTM/12/FC3/b:0               [100]                 100\n",
      "gen/LSTM/12/attw:0                [13, 1, 1]             13\n",
      "discrim/dis_fc0/fc/W:0            [21993, 256]      5630208\n",
      "discrim/dis_fc0/fc/b:0            [256]                 256\n",
      "discrim/dis_fc0/fc_diversity/W:0  [256, 100]          25600\n",
      "discrim/dis_fc0/fc_diversity/b:0  [100]                 100\n",
      "discrim/dis_fc0/bn/beta:0         [266]                 266\n",
      "discrim/dis_fc_top/W:0            [266, 1]              266\n",
      "discrim/dis_fc_top/b:0            [1]                     1\u001b[36m\n",
      "Number of trainable variables: 101\n",
      "Number of parameters (elements): 10410481\n",
      "Storage space needed for all trainable variables: 39.71MB\u001b[0m\n"
     ]
    },
    {
     "name": "stdout",
     "output_type": "stream",
     "text": [
      "\u001b[32m[1227 12:04:27 @base.py:209]\u001b[0m Setup callbacks graph ...\n",
      "WARNING:tensorflow:From C:\\Users\\Arne\\anaconda3\\envs\\tfv1\\lib\\site-packages\\tensorpack\\callbacks\\graph.py:54: The name tf.train.SessionRunArgs is deprecated. Please use tf.estimator.SessionRunArgs instead.\n",
      "\n",
      "WARNING:tensorflow:From C:\\Users\\Arne\\anaconda3\\envs\\tfv1\\lib\\site-packages\\tensorpack\\tfutils\\common.py:75: The name tf.VariableScope is deprecated. Please use tf.compat.v1.VariableScope instead.\n",
      "\n",
      "WARNING:tensorflow:From C:\\Users\\Arne\\anaconda3\\envs\\tfv1\\lib\\site-packages\\tensorpack\\tfutils\\common.py:77: The name tf.train.get_or_create_global_step is deprecated. Please use tf.compat.v1.train.get_or_create_global_step instead.\n",
      "\n",
      "WARNING:tensorflow:From C:\\Users\\Arne\\anaconda3\\envs\\tfv1\\lib\\site-packages\\tensorpack\\callbacks\\steps.py:117: The name tf.assign_add is deprecated. Please use tf.compat.v1.assign_add instead.\n",
      "\n",
      "WARNING:tensorflow:From C:\\Users\\Arne\\anaconda3\\envs\\tfv1\\lib\\site-packages\\tensorpack\\callbacks\\saver.py:55: The name tf.train.Saver is deprecated. Please use tf.compat.v1.train.Saver instead.\n",
      "\n",
      "WARNING:tensorflow:From C:\\Users\\Arne\\anaconda3\\envs\\tfv1\\lib\\site-packages\\tensorpack\\callbacks\\saver.py:59: The name tf.train.SaverDef is deprecated. Please use tf.compat.v1.train.SaverDef instead.\n",
      "\n",
      "\u001b[32m[1227 12:04:27 @summary.py:46]\u001b[0m [MovingAverageSummary] 6 operations in collection 'MOVING_SUMMARY_OPS' will be run with session hooks.\n",
      "\u001b[32m[1227 12:04:27 @summary.py:93]\u001b[0m Summarizing collection 'summaries' of size 9.\n",
      "WARNING:tensorflow:From C:\\Users\\Arne\\anaconda3\\envs\\tfv1\\lib\\site-packages\\tensorpack\\callbacks\\summary.py:94: The name tf.summary.merge_all is deprecated. Please use tf.compat.v1.summary.merge_all instead.\n",
      "\n",
      "\u001b[32m[1227 12:04:27 @graph.py:98]\u001b[0m Applying collection UPDATE_OPS of 4 ops.\n",
      "WARNING:tensorflow:From C:\\Users\\Arne\\anaconda3\\envs\\tfv1\\lib\\site-packages\\tensorpack\\callbacks\\monitor.py:261: The name tf.summary.FileWriter is deprecated. Please use tf.compat.v1.summary.FileWriter instead.\n",
      "\n",
      "WARNING:tensorflow:From C:\\Users\\Arne\\anaconda3\\envs\\tfv1\\lib\\site-packages\\tensorpack\\tfutils\\sessinit.py:120: The name tf.train.NewCheckpointReader is deprecated. Please use tf.compat.v1.train.NewCheckpointReader instead.\n",
      "\n",
      "WARNING:tensorflow:From C:\\Users\\Arne\\anaconda3\\envs\\tfv1\\lib\\site-packages\\tensorpack\\tfutils\\sessinit.py:127: The name tf.global_variables is deprecated. Please use tf.compat.v1.global_variables instead.\n",
      "\n",
      "\u001b[32m[1227 12:04:28 @base.py:230]\u001b[0m Creating the session ...\n",
      "WARNING:tensorflow:From C:\\Users\\Arne\\anaconda3\\envs\\tfv1\\lib\\site-packages\\tensorpack\\tfutils\\sesscreate.py:42: The name tf.Session is deprecated. Please use tf.compat.v1.Session instead.\n",
      "\n",
      "WARNING:tensorflow:From C:\\Users\\Arne\\anaconda3\\envs\\tfv1\\lib\\site-packages\\tensorpack\\tfutils\\sesscreate.py:71: The name tf.global_variables_initializer is deprecated. Please use tf.compat.v1.global_variables_initializer instead.\n",
      "\n",
      "WARNING:tensorflow:From C:\\Users\\Arne\\anaconda3\\envs\\tfv1\\lib\\site-packages\\tensorpack\\tfutils\\sesscreate.py:62: get_backward_walk_ops (from tensorflow.contrib.graph_editor.select) is deprecated and will be removed after 2019-06-06.\n",
      "Instructions for updating:\n",
      "Please use tensorflow.python.ops.op_selector.get_backward_walk_ops.\n",
      "WARNING:tensorflow:From C:\\Users\\Arne\\anaconda3\\envs\\tfv1\\lib\\site-packages\\tensorpack\\tfutils\\sesscreate.py:72: The name tf.local_variables_initializer is deprecated. Please use tf.compat.v1.local_variables_initializer instead.\n",
      "\n",
      "WARNING:tensorflow:From C:\\Users\\Arne\\anaconda3\\envs\\tfv1\\lib\\site-packages\\tensorpack\\tfutils\\sesscreate.py:73: The name tf.tables_initializer is deprecated. Please use tf.compat.v1.tables_initializer instead.\n",
      "\n",
      "WARNING:tensorflow:From C:\\Users\\Arne\\anaconda3\\envs\\tfv1\\lib\\site-packages\\tensorpack\\train\\base.py:254: The name tf.train.MonitoredSession is deprecated. Please use tf.compat.v1.train.MonitoredSession instead.\n",
      "\n",
      "\u001b[32m[1227 12:04:30 @base.py:236]\u001b[0m Initializing the session ...\n",
      "\u001b[32m[1227 12:04:30 @sessinit.py:114]\u001b[0m Restoring checkpoint from .\\Model\\tableGAN_ckpt\\compare_adult\\tgan\\model\\model-130 ...\n",
      "INFO:tensorflow:Restoring parameters from .\\Model\\tableGAN_ckpt\\compare_adult\\tgan\\model\\model-130\n",
      "\u001b[32m[1227 12:04:30 @base.py:243]\u001b[0m Graph Finalized.\n",
      "WARNING:tensorflow:From C:\\Users\\Arne\\anaconda3\\envs\\tfv1\\lib\\site-packages\\tensorpack\\tfutils\\common.py:89: The name tf.train.global_step is deprecated. Please use tf.compat.v1.train.global_step instead.\n",
      "\n",
      "WARNING:tensorflow:From C:\\Users\\Arne\\anaconda3\\envs\\tfv1\\lib\\site-packages\\tensorpack\\tfutils\\common.py:90: The name tf.get_default_session is deprecated. Please use tf.compat.v1.get_default_session instead.\n",
      "\n",
      "\u001b[32m[1227 12:04:31 @concurrency.py:38]\u001b[0m Starting EnqueueThread QueueInput/input_queue ...\n",
      "\u001b[32m[1227 12:04:31 @steps.py:124]\u001b[0m Start training with global_step=130\n",
      "\u001b[32m[1227 12:04:31 @monitor.py:347]\u001b[0m Found existing JSON inside .\\Model\\tableGAN_ckpt\\compare_adult\\tgan\\logs, will append to it.\n",
      "\u001b[32m[1227 12:04:31 @base.py:275]\u001b[0m Start Epoch 3 ...\n"
     ]
    },
    {
     "name": "stderr",
     "output_type": "stream",
     "text": [
      " 97%|##################################################################################3  |63/65[00:26<00:00, 2.58it/s]"
     ]
    },
    {
     "name": "stdout",
     "output_type": "stream",
     "text": [
      "WARNING:tensorflow:From C:\\Users\\Arne\\anaconda3\\envs\\tfv1\\lib\\site-packages\\tensorpack\\callbacks\\monitor.py:148: The name tf.Summary is deprecated. Please use tf.compat.v1.Summary instead.\n",
      "\n"
     ]
    },
    {
     "name": "stderr",
     "output_type": "stream",
     "text": [
      "100%|#####################################################################################|65/65[00:29<00:00, 2.24it/s]"
     ]
    },
    {
     "name": "stdout",
     "output_type": "stream",
     "text": [
      "\u001b[32m[1227 12:05:00 @base.py:285]\u001b[0m Epoch 3 (global_step 195) finished, time:29 seconds.\n",
      "WARNING:tensorflow:From C:\\Users\\Arne\\anaconda3\\envs\\tfv1\\lib\\site-packages\\tensorpack\\callbacks\\saver.py:77: The name tf.train.get_global_step is deprecated. Please use tf.compat.v1.train.get_global_step instead.\n",
      "\n"
     ]
    },
    {
     "name": "stderr",
     "output_type": "stream",
     "text": [
      "\n"
     ]
    },
    {
     "name": "stdout",
     "output_type": "stream",
     "text": [
      "\u001b[32m[1227 12:05:01 @saver.py:79]\u001b[0m Model saved to .\\Model\\tableGAN_ckpt\\compare_adult\\tgan\\model\\model-195.\n",
      "\u001b[32m[1227 12:05:01 @monitor.py:467]\u001b[0m GAN_loss/discrim/accuracy_fake: 0.86\n",
      "\u001b[32m[1227 12:05:01 @monitor.py:467]\u001b[0m GAN_loss/discrim/accuracy_real: 0.305\n",
      "\u001b[32m[1227 12:05:01 @monitor.py:467]\u001b[0m GAN_loss/discrim/loss: 0.63709\n",
      "\u001b[32m[1227 12:05:01 @monitor.py:467]\u001b[0m GAN_loss/gen/final-g-loss: 1.0743\n",
      "\u001b[32m[1227 12:05:01 @monitor.py:467]\u001b[0m GAN_loss/gen/klloss: 0.060939\n",
      "\u001b[32m[1227 12:05:01 @monitor.py:467]\u001b[0m GAN_loss/gen/loss: 1.0134\n",
      "\u001b[32m[1227 12:05:01 @monitor.py:467]\u001b[0m QueueInput/queue_size: 50\n",
      "\u001b[32m[1227 12:05:01 @base.py:275]\u001b[0m Start Epoch 4 ...\n"
     ]
    },
    {
     "name": "stderr",
     "output_type": "stream",
     "text": [
      "100%|#####################################################################################|65/65[00:25<00:00, 2.52it/s]"
     ]
    },
    {
     "name": "stdout",
     "output_type": "stream",
     "text": [
      "\u001b[32m[1227 12:05:27 @base.py:285]\u001b[0m Epoch 4 (global_step 260) finished, time:25.8 seconds.\n"
     ]
    },
    {
     "name": "stderr",
     "output_type": "stream",
     "text": [
      "\n"
     ]
    },
    {
     "name": "stdout",
     "output_type": "stream",
     "text": [
      "\u001b[32m[1227 12:05:28 @saver.py:79]\u001b[0m Model saved to .\\Model\\tableGAN_ckpt\\compare_adult\\tgan\\model\\model-260.\n",
      "\u001b[32m[1227 12:05:28 @monitor.py:467]\u001b[0m GAN_loss/discrim/accuracy_fake: 0.89\n",
      "\u001b[32m[1227 12:05:28 @monitor.py:467]\u001b[0m GAN_loss/discrim/accuracy_real: 0.32\n",
      "\u001b[32m[1227 12:05:28 @monitor.py:467]\u001b[0m GAN_loss/discrim/loss: 0.60865\n",
      "\u001b[32m[1227 12:05:28 @monitor.py:467]\u001b[0m GAN_loss/gen/final-g-loss: 1.0535\n",
      "\u001b[32m[1227 12:05:28 @monitor.py:467]\u001b[0m GAN_loss/gen/klloss: 0.045663\n",
      "\u001b[32m[1227 12:05:28 @monitor.py:467]\u001b[0m GAN_loss/gen/loss: 1.0078\n",
      "\u001b[32m[1227 12:05:28 @monitor.py:467]\u001b[0m QueueInput/queue_size: 50\n",
      "\u001b[32m[1227 12:05:28 @base.py:275]\u001b[0m Start Epoch 5 ...\n"
     ]
    },
    {
     "name": "stderr",
     "output_type": "stream",
     "text": [
      "100%|#####################################################################################|65/65[00:26<00:00, 2.46it/s]"
     ]
    },
    {
     "name": "stdout",
     "output_type": "stream",
     "text": [
      "\u001b[32m[1227 12:05:55 @base.py:285]\u001b[0m Epoch 5 (global_step 325) finished, time:26.4 seconds.\n"
     ]
    },
    {
     "name": "stderr",
     "output_type": "stream",
     "text": [
      "\n"
     ]
    },
    {
     "name": "stdout",
     "output_type": "stream",
     "text": [
      "\u001b[32m[1227 12:05:56 @saver.py:79]\u001b[0m Model saved to .\\Model\\tableGAN_ckpt\\compare_adult\\tgan\\model\\model-325.\n",
      "\u001b[32m[1227 12:05:56 @monitor.py:467]\u001b[0m GAN_loss/discrim/accuracy_fake: 0.85\n",
      "\u001b[32m[1227 12:05:56 @monitor.py:467]\u001b[0m GAN_loss/discrim/accuracy_real: 0.285\n",
      "\u001b[32m[1227 12:05:56 @monitor.py:467]\u001b[0m GAN_loss/discrim/loss: 0.63221\n",
      "\u001b[32m[1227 12:05:56 @monitor.py:467]\u001b[0m GAN_loss/gen/final-g-loss: 1.0848\n",
      "\u001b[32m[1227 12:05:56 @monitor.py:467]\u001b[0m GAN_loss/gen/klloss: 0.074789\n",
      "\u001b[32m[1227 12:05:56 @monitor.py:467]\u001b[0m GAN_loss/gen/loss: 1.01\n",
      "\u001b[32m[1227 12:05:56 @monitor.py:467]\u001b[0m QueueInput/queue_size: 50\n",
      "\u001b[32m[1227 12:05:56 @base.py:275]\u001b[0m Start Epoch 6 ...\n"
     ]
    },
    {
     "name": "stderr",
     "output_type": "stream",
     "text": [
      "100%|#####################################################################################|65/65[00:26<00:00, 2.42it/s]"
     ]
    },
    {
     "name": "stdout",
     "output_type": "stream",
     "text": [
      "\u001b[32m[1227 12:06:23 @base.py:285]\u001b[0m Epoch 6 (global_step 390) finished, time:26.9 seconds.\n"
     ]
    },
    {
     "name": "stderr",
     "output_type": "stream",
     "text": [
      "\n"
     ]
    },
    {
     "name": "stdout",
     "output_type": "stream",
     "text": [
      "\u001b[32m[1227 12:06:24 @saver.py:79]\u001b[0m Model saved to .\\Model\\tableGAN_ckpt\\compare_adult\\tgan\\model\\model-390.\n",
      "\u001b[32m[1227 12:06:24 @monitor.py:467]\u001b[0m GAN_loss/discrim/accuracy_fake: 0.845\n",
      "\u001b[32m[1227 12:06:24 @monitor.py:467]\u001b[0m GAN_loss/discrim/accuracy_real: 0.265\n",
      "\u001b[32m[1227 12:06:24 @monitor.py:467]\u001b[0m GAN_loss/discrim/loss: 0.62251\n",
      "\u001b[32m[1227 12:06:24 @monitor.py:467]\u001b[0m GAN_loss/gen/final-g-loss: 1.0883\n",
      "\u001b[32m[1227 12:06:24 @monitor.py:467]\u001b[0m GAN_loss/gen/klloss: 0.079994\n",
      "\u001b[32m[1227 12:06:24 @monitor.py:467]\u001b[0m GAN_loss/gen/loss: 1.0083\n",
      "\u001b[32m[1227 12:06:24 @monitor.py:467]\u001b[0m QueueInput/queue_size: 50\n",
      "\u001b[32m[1227 12:06:24 @base.py:275]\u001b[0m Start Epoch 7 ...\n"
     ]
    },
    {
     "name": "stderr",
     "output_type": "stream",
     "text": [
      "100%|#####################################################################################|65/65[00:25<00:00, 2.59it/s]"
     ]
    },
    {
     "name": "stdout",
     "output_type": "stream",
     "text": [
      "\u001b[32m[1227 12:06:49 @base.py:285]\u001b[0m Epoch 7 (global_step 455) finished, time:25.1 seconds.\n"
     ]
    },
    {
     "name": "stderr",
     "output_type": "stream",
     "text": [
      "\n"
     ]
    },
    {
     "name": "stdout",
     "output_type": "stream",
     "text": [
      "\u001b[32m[1227 12:06:50 @saver.py:79]\u001b[0m Model saved to .\\Model\\tableGAN_ckpt\\compare_adult\\tgan\\model\\model-455.\n",
      "\u001b[32m[1227 12:06:50 @monitor.py:467]\u001b[0m GAN_loss/discrim/accuracy_fake: 0.815\n",
      "\u001b[32m[1227 12:06:50 @monitor.py:467]\u001b[0m GAN_loss/discrim/accuracy_real: 0.31\n",
      "\u001b[32m[1227 12:06:50 @monitor.py:467]\u001b[0m GAN_loss/discrim/loss: 0.64212\n",
      "\u001b[32m[1227 12:06:50 @monitor.py:467]\u001b[0m GAN_loss/gen/final-g-loss: 1.0498\n",
      "\u001b[32m[1227 12:06:50 @monitor.py:467]\u001b[0m GAN_loss/gen/klloss: 0.060376\n",
      "\u001b[32m[1227 12:06:50 @monitor.py:467]\u001b[0m GAN_loss/gen/loss: 0.9894\n",
      "\u001b[32m[1227 12:06:50 @monitor.py:467]\u001b[0m QueueInput/queue_size: 50\n",
      "\u001b[32m[1227 12:06:50 @base.py:275]\u001b[0m Start Epoch 8 ...\n"
     ]
    },
    {
     "name": "stderr",
     "output_type": "stream",
     "text": [
      "100%|#####################################################################################|65/65[00:25<00:00, 2.55it/s]"
     ]
    },
    {
     "name": "stdout",
     "output_type": "stream",
     "text": [
      "\u001b[32m[1227 12:07:16 @base.py:285]\u001b[0m Epoch 8 (global_step 520) finished, time:25.5 seconds.\n"
     ]
    },
    {
     "name": "stderr",
     "output_type": "stream",
     "text": [
      "\n"
     ]
    },
    {
     "name": "stdout",
     "output_type": "stream",
     "text": [
      "\u001b[32m[1227 12:07:17 @saver.py:79]\u001b[0m Model saved to .\\Model\\tableGAN_ckpt\\compare_adult\\tgan\\model\\model-520.\n",
      "\u001b[32m[1227 12:07:17 @monitor.py:467]\u001b[0m GAN_loss/discrim/accuracy_fake: 0.785\n",
      "\u001b[32m[1227 12:07:17 @monitor.py:467]\u001b[0m GAN_loss/discrim/accuracy_real: 0.3\n",
      "\u001b[32m[1227 12:07:17 @monitor.py:467]\u001b[0m GAN_loss/discrim/loss: 0.63254\n",
      "\u001b[32m[1227 12:07:17 @monitor.py:467]\u001b[0m GAN_loss/gen/final-g-loss: 1.0593\n",
      "\u001b[32m[1227 12:07:17 @monitor.py:467]\u001b[0m GAN_loss/gen/klloss: 0.067694\n",
      "\u001b[32m[1227 12:07:17 @monitor.py:467]\u001b[0m GAN_loss/gen/loss: 0.99165\n",
      "\u001b[32m[1227 12:07:17 @monitor.py:467]\u001b[0m QueueInput/queue_size: 50\n",
      "\u001b[32m[1227 12:07:17 @base.py:275]\u001b[0m Start Epoch 9 ...\n"
     ]
    },
    {
     "name": "stderr",
     "output_type": "stream",
     "text": [
      "100%|#####################################################################################|65/65[00:25<00:00, 2.59it/s]"
     ]
    },
    {
     "name": "stdout",
     "output_type": "stream",
     "text": [
      "\u001b[32m[1227 12:07:42 @base.py:285]\u001b[0m Epoch 9 (global_step 585) finished, time:25.1 seconds.\n"
     ]
    },
    {
     "name": "stderr",
     "output_type": "stream",
     "text": [
      "\n"
     ]
    },
    {
     "name": "stdout",
     "output_type": "stream",
     "text": [
      "\u001b[32m[1227 12:07:43 @saver.py:79]\u001b[0m Model saved to .\\Model\\tableGAN_ckpt\\compare_adult\\tgan\\model\\model-585.\n",
      "\u001b[32m[1227 12:07:43 @monitor.py:467]\u001b[0m GAN_loss/discrim/accuracy_fake: 0.895\n",
      "\u001b[32m[1227 12:07:43 @monitor.py:467]\u001b[0m GAN_loss/discrim/accuracy_real: 0.3\n",
      "\u001b[32m[1227 12:07:43 @monitor.py:467]\u001b[0m GAN_loss/discrim/loss: 0.62108\n",
      "\u001b[32m[1227 12:07:43 @monitor.py:467]\u001b[0m GAN_loss/gen/final-g-loss: 1.1097\n",
      "\u001b[32m[1227 12:07:43 @monitor.py:467]\u001b[0m GAN_loss/gen/klloss: 0.08986\n",
      "\u001b[32m[1227 12:07:43 @monitor.py:467]\u001b[0m GAN_loss/gen/loss: 1.0199\n",
      "\u001b[32m[1227 12:07:43 @monitor.py:467]\u001b[0m QueueInput/queue_size: 50\n",
      "\u001b[32m[1227 12:07:43 @base.py:275]\u001b[0m Start Epoch 10 ...\n"
     ]
    },
    {
     "name": "stderr",
     "output_type": "stream",
     "text": [
      "100%|#####################################################################################|65/65[00:25<00:00, 2.56it/s]"
     ]
    },
    {
     "name": "stdout",
     "output_type": "stream",
     "text": [
      "\u001b[32m[1227 12:08:09 @base.py:285]\u001b[0m Epoch 10 (global_step 650) finished, time:25.4 seconds.\n"
     ]
    },
    {
     "name": "stderr",
     "output_type": "stream",
     "text": [
      "\n"
     ]
    },
    {
     "name": "stdout",
     "output_type": "stream",
     "text": [
      "\u001b[32m[1227 12:08:10 @saver.py:79]\u001b[0m Model saved to .\\Model\\tableGAN_ckpt\\compare_adult\\tgan\\model\\model-650.\n",
      "\u001b[32m[1227 12:08:10 @monitor.py:467]\u001b[0m GAN_loss/discrim/accuracy_fake: 0.86\n",
      "\u001b[32m[1227 12:08:10 @monitor.py:467]\u001b[0m GAN_loss/discrim/accuracy_real: 0.32\n",
      "\u001b[32m[1227 12:08:10 @monitor.py:467]\u001b[0m GAN_loss/discrim/loss: 0.61381\n",
      "\u001b[32m[1227 12:08:10 @monitor.py:467]\u001b[0m GAN_loss/gen/final-g-loss: 1.1431\n",
      "\u001b[32m[1227 12:08:10 @monitor.py:467]\u001b[0m GAN_loss/gen/klloss: 0.077554\n",
      "\u001b[32m[1227 12:08:10 @monitor.py:467]\u001b[0m GAN_loss/gen/loss: 1.0656\n",
      "\u001b[32m[1227 12:08:10 @monitor.py:467]\u001b[0m QueueInput/queue_size: 50\n",
      "\u001b[32m[1227 12:08:10 @base.py:275]\u001b[0m Start Epoch 11 ...\n"
     ]
    },
    {
     "name": "stderr",
     "output_type": "stream",
     "text": [
      "100%|#####################################################################################|65/65[00:26<00:00, 2.47it/s]"
     ]
    },
    {
     "name": "stdout",
     "output_type": "stream",
     "text": [
      "\u001b[32m[1227 12:08:36 @base.py:285]\u001b[0m Epoch 11 (global_step 715) finished, time:26.3 seconds.\n"
     ]
    },
    {
     "name": "stderr",
     "output_type": "stream",
     "text": [
      "\n"
     ]
    },
    {
     "name": "stdout",
     "output_type": "stream",
     "text": [
      "\u001b[32m[1227 12:08:38 @saver.py:79]\u001b[0m Model saved to .\\Model\\tableGAN_ckpt\\compare_adult\\tgan\\model\\model-715.\n",
      "\u001b[32m[1227 12:08:38 @monitor.py:467]\u001b[0m GAN_loss/discrim/accuracy_fake: 0.835\n",
      "\u001b[32m[1227 12:08:38 @monitor.py:467]\u001b[0m GAN_loss/discrim/accuracy_real: 0.365\n",
      "\u001b[32m[1227 12:08:38 @monitor.py:467]\u001b[0m GAN_loss/discrim/loss: 0.62284\n",
      "\u001b[32m[1227 12:08:38 @monitor.py:467]\u001b[0m GAN_loss/gen/final-g-loss: 1.0933\n",
      "\u001b[32m[1227 12:08:38 @monitor.py:467]\u001b[0m GAN_loss/gen/klloss: 0.089854\n",
      "\u001b[32m[1227 12:08:38 @monitor.py:467]\u001b[0m GAN_loss/gen/loss: 1.0034\n",
      "\u001b[32m[1227 12:08:38 @monitor.py:467]\u001b[0m QueueInput/queue_size: 50\n",
      "\u001b[32m[1227 12:08:38 @base.py:275]\u001b[0m Start Epoch 12 ...\n"
     ]
    },
    {
     "name": "stderr",
     "output_type": "stream",
     "text": [
      "100%|#####################################################################################|65/65[00:25<00:00, 2.60it/s]"
     ]
    },
    {
     "name": "stdout",
     "output_type": "stream",
     "text": [
      "\u001b[32m[1227 12:09:03 @base.py:285]\u001b[0m Epoch 12 (global_step 780) finished, time:25 seconds.\n"
     ]
    },
    {
     "name": "stderr",
     "output_type": "stream",
     "text": [
      "\n"
     ]
    },
    {
     "name": "stdout",
     "output_type": "stream",
     "text": [
      "\u001b[32m[1227 12:09:04 @saver.py:79]\u001b[0m Model saved to .\\Model\\tableGAN_ckpt\\compare_adult\\tgan\\model\\model-780.\n",
      "\u001b[32m[1227 12:09:04 @monitor.py:467]\u001b[0m GAN_loss/discrim/accuracy_fake: 0.845\n",
      "\u001b[32m[1227 12:09:04 @monitor.py:467]\u001b[0m GAN_loss/discrim/accuracy_real: 0.325\n",
      "\u001b[32m[1227 12:09:04 @monitor.py:467]\u001b[0m GAN_loss/discrim/loss: 0.64081\n",
      "\u001b[32m[1227 12:09:04 @monitor.py:467]\u001b[0m GAN_loss/gen/final-g-loss: 1.0803\n",
      "\u001b[32m[1227 12:09:04 @monitor.py:467]\u001b[0m GAN_loss/gen/klloss: 0.074196\n",
      "\u001b[32m[1227 12:09:04 @monitor.py:467]\u001b[0m GAN_loss/gen/loss: 1.0061\n",
      "\u001b[32m[1227 12:09:04 @monitor.py:467]\u001b[0m QueueInput/queue_size: 50\n",
      "\u001b[32m[1227 12:09:04 @base.py:275]\u001b[0m Start Epoch 13 ...\n"
     ]
    },
    {
     "name": "stderr",
     "output_type": "stream",
     "text": [
      "100%|#####################################################################################|65/65[00:25<00:00, 2.53it/s]"
     ]
    },
    {
     "name": "stdout",
     "output_type": "stream",
     "text": [
      "\u001b[32m[1227 12:09:30 @base.py:285]\u001b[0m Epoch 13 (global_step 845) finished, time:25.6 seconds.\n"
     ]
    },
    {
     "name": "stderr",
     "output_type": "stream",
     "text": [
      "\n"
     ]
    },
    {
     "name": "stdout",
     "output_type": "stream",
     "text": [
      "WARNING:tensorflow:From C:\\Users\\Arne\\anaconda3\\envs\\tfv1\\lib\\site-packages\\tensorflow_core\\python\\training\\saver.py:963: remove_checkpoint (from tensorflow.python.training.checkpoint_management) is deprecated and will be removed in a future version.\n",
      "Instructions for updating:\n",
      "Use standard file APIs to delete files with this prefix.\n",
      "\u001b[32m[1227 12:09:31 @saver.py:79]\u001b[0m Model saved to .\\Model\\tableGAN_ckpt\\compare_adult\\tgan\\model\\model-845.\n",
      "\u001b[32m[1227 12:09:31 @monitor.py:467]\u001b[0m GAN_loss/discrim/accuracy_fake: 0.89\n",
      "\u001b[32m[1227 12:09:31 @monitor.py:467]\u001b[0m GAN_loss/discrim/accuracy_real: 0.3\n",
      "\u001b[32m[1227 12:09:31 @monitor.py:467]\u001b[0m GAN_loss/discrim/loss: 0.62797\n",
      "\u001b[32m[1227 12:09:31 @monitor.py:467]\u001b[0m GAN_loss/gen/final-g-loss: 1.1072\n",
      "\u001b[32m[1227 12:09:31 @monitor.py:467]\u001b[0m GAN_loss/gen/klloss: 0.089529\n",
      "\u001b[32m[1227 12:09:31 @monitor.py:467]\u001b[0m GAN_loss/gen/loss: 1.0177\n",
      "\u001b[32m[1227 12:09:31 @monitor.py:467]\u001b[0m QueueInput/queue_size: 50\n",
      "\u001b[32m[1227 12:09:31 @base.py:275]\u001b[0m Start Epoch 14 ...\n"
     ]
    },
    {
     "name": "stderr",
     "output_type": "stream",
     "text": [
      "100%|#####################################################################################|65/65[00:25<00:00, 2.55it/s]"
     ]
    },
    {
     "name": "stdout",
     "output_type": "stream",
     "text": [
      "\u001b[32m[1227 12:09:56 @base.py:285]\u001b[0m Epoch 14 (global_step 910) finished, time:25.5 seconds.\n"
     ]
    },
    {
     "name": "stderr",
     "output_type": "stream",
     "text": [
      "\n"
     ]
    },
    {
     "name": "stdout",
     "output_type": "stream",
     "text": [
      "\u001b[32m[1227 12:09:57 @saver.py:79]\u001b[0m Model saved to .\\Model\\tableGAN_ckpt\\compare_adult\\tgan\\model\\model-910.\n",
      "\u001b[32m[1227 12:09:57 @monitor.py:467]\u001b[0m GAN_loss/discrim/accuracy_fake: 0.87\n",
      "\u001b[32m[1227 12:09:57 @monitor.py:467]\u001b[0m GAN_loss/discrim/accuracy_real: 0.285\n",
      "\u001b[32m[1227 12:09:57 @monitor.py:467]\u001b[0m GAN_loss/discrim/loss: 0.62125\n",
      "\u001b[32m[1227 12:09:57 @monitor.py:467]\u001b[0m GAN_loss/gen/final-g-loss: 1.1211\n",
      "\u001b[32m[1227 12:09:57 @monitor.py:467]\u001b[0m GAN_loss/gen/klloss: 0.080881\n",
      "\u001b[32m[1227 12:09:57 @monitor.py:467]\u001b[0m GAN_loss/gen/loss: 1.0402\n",
      "\u001b[32m[1227 12:09:57 @monitor.py:467]\u001b[0m QueueInput/queue_size: 50\n",
      "\u001b[32m[1227 12:09:57 @base.py:275]\u001b[0m Start Epoch 15 ...\n"
     ]
    },
    {
     "name": "stderr",
     "output_type": "stream",
     "text": [
      "100%|#####################################################################################|65/65[00:25<00:00, 2.56it/s]"
     ]
    },
    {
     "name": "stdout",
     "output_type": "stream",
     "text": [
      "\u001b[32m[1227 12:10:22 @base.py:285]\u001b[0m Epoch 15 (global_step 975) finished, time:25.4 seconds.\n"
     ]
    },
    {
     "name": "stderr",
     "output_type": "stream",
     "text": [
      "\n"
     ]
    },
    {
     "name": "stdout",
     "output_type": "stream",
     "text": [
      "\u001b[32m[1227 12:10:24 @saver.py:79]\u001b[0m Model saved to .\\Model\\tableGAN_ckpt\\compare_adult\\tgan\\model\\model-975.\n",
      "\u001b[32m[1227 12:10:24 @monitor.py:467]\u001b[0m GAN_loss/discrim/accuracy_fake: 0.83\n",
      "\u001b[32m[1227 12:10:24 @monitor.py:467]\u001b[0m GAN_loss/discrim/accuracy_real: 0.235\n",
      "\u001b[32m[1227 12:10:24 @monitor.py:467]\u001b[0m GAN_loss/discrim/loss: 0.65775\n",
      "\u001b[32m[1227 12:10:24 @monitor.py:467]\u001b[0m GAN_loss/gen/final-g-loss: 1.1018\n",
      "\u001b[32m[1227 12:10:24 @monitor.py:467]\u001b[0m GAN_loss/gen/klloss: 0.11372\n",
      "\u001b[32m[1227 12:10:24 @monitor.py:467]\u001b[0m GAN_loss/gen/loss: 0.98811\n",
      "\u001b[32m[1227 12:10:24 @monitor.py:467]\u001b[0m QueueInput/queue_size: 50\n",
      "\u001b[32m[1227 12:10:24 @base.py:275]\u001b[0m Start Epoch 16 ...\n"
     ]
    },
    {
     "name": "stderr",
     "output_type": "stream",
     "text": [
      "100%|#####################################################################################|65/65[00:25<00:00, 2.51it/s]"
     ]
    },
    {
     "name": "stdout",
     "output_type": "stream",
     "text": [
      "\u001b[32m[1227 12:10:50 @base.py:285]\u001b[0m Epoch 16 (global_step 1040) finished, time:25.9 seconds.\n"
     ]
    },
    {
     "name": "stderr",
     "output_type": "stream",
     "text": [
      "\n"
     ]
    },
    {
     "name": "stdout",
     "output_type": "stream",
     "text": [
      "\u001b[32m[1227 12:10:51 @saver.py:79]\u001b[0m Model saved to .\\Model\\tableGAN_ckpt\\compare_adult\\tgan\\model\\model-1040.\n",
      "\u001b[32m[1227 12:10:51 @monitor.py:467]\u001b[0m GAN_loss/discrim/accuracy_fake: 0.89\n",
      "\u001b[32m[1227 12:10:51 @monitor.py:467]\u001b[0m GAN_loss/discrim/accuracy_real: 0.255\n",
      "\u001b[32m[1227 12:10:51 @monitor.py:467]\u001b[0m GAN_loss/discrim/loss: 0.62537\n",
      "\u001b[32m[1227 12:10:51 @monitor.py:467]\u001b[0m GAN_loss/gen/final-g-loss: 1.0936\n",
      "\u001b[32m[1227 12:10:51 @monitor.py:467]\u001b[0m GAN_loss/gen/klloss: 0.077154\n",
      "\u001b[32m[1227 12:10:51 @monitor.py:467]\u001b[0m GAN_loss/gen/loss: 1.0164\n",
      "\u001b[32m[1227 12:10:51 @monitor.py:467]\u001b[0m QueueInput/queue_size: 50\n",
      "\u001b[32m[1227 12:10:51 @base.py:275]\u001b[0m Start Epoch 17 ...\n"
     ]
    },
    {
     "name": "stderr",
     "output_type": "stream",
     "text": [
      "100%|#####################################################################################|65/65[00:26<00:00, 2.42it/s]"
     ]
    },
    {
     "name": "stdout",
     "output_type": "stream",
     "text": [
      "\u001b[32m[1227 12:11:18 @base.py:285]\u001b[0m Epoch 17 (global_step 1105) finished, time:26.9 seconds.\n"
     ]
    },
    {
     "name": "stderr",
     "output_type": "stream",
     "text": [
      "\n"
     ]
    },
    {
     "name": "stdout",
     "output_type": "stream",
     "text": [
      "\u001b[32m[1227 12:11:18 @saver.py:79]\u001b[0m Model saved to .\\Model\\tableGAN_ckpt\\compare_adult\\tgan\\model\\model-1105.\n",
      "\u001b[32m[1227 12:11:18 @monitor.py:467]\u001b[0m GAN_loss/discrim/accuracy_fake: 0.875\n",
      "\u001b[32m[1227 12:11:18 @monitor.py:467]\u001b[0m GAN_loss/discrim/accuracy_real: 0.22\n",
      "\u001b[32m[1227 12:11:18 @monitor.py:467]\u001b[0m GAN_loss/discrim/loss: 0.64262\n",
      "\u001b[32m[1227 12:11:18 @monitor.py:467]\u001b[0m GAN_loss/gen/final-g-loss: 1.1131\n",
      "\u001b[32m[1227 12:11:18 @monitor.py:467]\u001b[0m GAN_loss/gen/klloss: 0.092903\n",
      "\u001b[32m[1227 12:11:18 @monitor.py:467]\u001b[0m GAN_loss/gen/loss: 1.0202\n",
      "\u001b[32m[1227 12:11:18 @monitor.py:467]\u001b[0m QueueInput/queue_size: 50\n",
      "\u001b[32m[1227 12:11:18 @base.py:275]\u001b[0m Start Epoch 18 ...\n"
     ]
    },
    {
     "name": "stderr",
     "output_type": "stream",
     "text": [
      "100%|#####################################################################################|65/65[00:27<00:00, 2.38it/s]"
     ]
    },
    {
     "name": "stdout",
     "output_type": "stream",
     "text": [
      "\u001b[32m[1227 12:11:46 @base.py:285]\u001b[0m Epoch 18 (global_step 1170) finished, time:27.3 seconds.\n"
     ]
    },
    {
     "name": "stderr",
     "output_type": "stream",
     "text": [
      "\n"
     ]
    },
    {
     "name": "stdout",
     "output_type": "stream",
     "text": [
      "\u001b[32m[1227 12:11:46 @saver.py:79]\u001b[0m Model saved to .\\Model\\tableGAN_ckpt\\compare_adult\\tgan\\model\\model-1170.\n",
      "\u001b[32m[1227 12:11:46 @monitor.py:467]\u001b[0m GAN_loss/discrim/accuracy_fake: 0.85\n",
      "\u001b[32m[1227 12:11:46 @monitor.py:467]\u001b[0m GAN_loss/discrim/accuracy_real: 0.265\n",
      "\u001b[32m[1227 12:11:46 @monitor.py:467]\u001b[0m GAN_loss/discrim/loss: 0.62948\n",
      "\u001b[32m[1227 12:11:46 @monitor.py:467]\u001b[0m GAN_loss/gen/final-g-loss: 1.0713\n",
      "\u001b[32m[1227 12:11:46 @monitor.py:467]\u001b[0m GAN_loss/gen/klloss: 0.077543\n",
      "\u001b[32m[1227 12:11:46 @monitor.py:467]\u001b[0m GAN_loss/gen/loss: 0.99372\n",
      "\u001b[32m[1227 12:11:46 @monitor.py:467]\u001b[0m QueueInput/queue_size: 50\n",
      "\u001b[32m[1227 12:11:46 @base.py:275]\u001b[0m Start Epoch 19 ...\n"
     ]
    },
    {
     "name": "stderr",
     "output_type": "stream",
     "text": [
      "100%|#####################################################################################|65/65[00:27<00:00, 2.34it/s]"
     ]
    },
    {
     "name": "stdout",
     "output_type": "stream",
     "text": [
      "\u001b[32m[1227 12:12:14 @base.py:285]\u001b[0m Epoch 19 (global_step 1235) finished, time:27.7 seconds.\n"
     ]
    },
    {
     "name": "stderr",
     "output_type": "stream",
     "text": [
      "\n"
     ]
    },
    {
     "name": "stdout",
     "output_type": "stream",
     "text": [
      "\u001b[32m[1227 12:12:15 @saver.py:79]\u001b[0m Model saved to .\\Model\\tableGAN_ckpt\\compare_adult\\tgan\\model\\model-1235.\n",
      "\u001b[32m[1227 12:12:15 @monitor.py:467]\u001b[0m GAN_loss/discrim/accuracy_fake: 0.85\n",
      "\u001b[32m[1227 12:12:15 @monitor.py:467]\u001b[0m GAN_loss/discrim/accuracy_real: 0.215\n",
      "\u001b[32m[1227 12:12:15 @monitor.py:467]\u001b[0m GAN_loss/discrim/loss: 0.65451\n",
      "\u001b[32m[1227 12:12:15 @monitor.py:467]\u001b[0m GAN_loss/gen/final-g-loss: 1.021\n",
      "\u001b[32m[1227 12:12:15 @monitor.py:467]\u001b[0m GAN_loss/gen/klloss: 0.059976\n",
      "\u001b[32m[1227 12:12:15 @monitor.py:467]\u001b[0m GAN_loss/gen/loss: 0.96105\n",
      "\u001b[32m[1227 12:12:15 @monitor.py:467]\u001b[0m QueueInput/queue_size: 50\n",
      "\u001b[32m[1227 12:12:15 @base.py:275]\u001b[0m Start Epoch 20 ...\n"
     ]
    },
    {
     "name": "stderr",
     "output_type": "stream",
     "text": [
      "100%|#####################################################################################|65/65[00:25<00:00, 2.54it/s]"
     ]
    },
    {
     "name": "stdout",
     "output_type": "stream",
     "text": [
      "\u001b[32m[1227 12:12:41 @base.py:285]\u001b[0m Epoch 20 (global_step 1300) finished, time:25.6 seconds.\n"
     ]
    },
    {
     "name": "stderr",
     "output_type": "stream",
     "text": [
      "\n"
     ]
    },
    {
     "name": "stdout",
     "output_type": "stream",
     "text": [
      "\u001b[32m[1227 12:12:41 @saver.py:79]\u001b[0m Model saved to .\\Model\\tableGAN_ckpt\\compare_adult\\tgan\\model\\model-1300.\n",
      "\u001b[32m[1227 12:12:41 @monitor.py:467]\u001b[0m GAN_loss/discrim/accuracy_fake: 0.925\n",
      "\u001b[32m[1227 12:12:41 @monitor.py:467]\u001b[0m GAN_loss/discrim/accuracy_real: 0.175\n",
      "\u001b[32m[1227 12:12:41 @monitor.py:467]\u001b[0m GAN_loss/discrim/loss: 0.64946\n",
      "\u001b[32m[1227 12:12:41 @monitor.py:467]\u001b[0m GAN_loss/gen/final-g-loss: 1.0772\n",
      "\u001b[32m[1227 12:12:41 @monitor.py:467]\u001b[0m GAN_loss/gen/klloss: 0.081109\n",
      "\u001b[32m[1227 12:12:41 @monitor.py:467]\u001b[0m GAN_loss/gen/loss: 0.99611\n",
      "\u001b[32m[1227 12:12:41 @monitor.py:467]\u001b[0m QueueInput/queue_size: 50\n",
      "\u001b[32m[1227 12:12:41 @base.py:289]\u001b[0m Training has finished!\n",
      "WARNING:tensorflow:From C:\\Users\\Arne\\anaconda3\\envs\\tfv1\\lib\\site-packages\\tensorpack\\predict\\config.py:101: The name tf.train.ChiefSessionCreator is deprecated. Please use tf.compat.v1.train.ChiefSessionCreator instead.\n",
      "\n",
      "\u001b[32m[1227 12:12:42 @input_source.py:178]\u001b[0m EnqueueThread QueueInput/input_queue Exited.\n",
      "WARNING:tensorflow:From C:\\Users\\Arne\\anaconda3\\envs\\tfv1\\lib\\site-packages\\tensorpack\\tfutils\\collection.py:45: The name tf.get_collection_ref is deprecated. Please use tf.compat.v1.get_collection_ref instead.\n",
      "\n",
      "\u001b[32m[1227 12:12:43 @collection.py:146]\u001b[0m New collections created in tower : tf.GraphKeys.REGULARIZATION_LOSSES\n",
      "\u001b[32m[1227 12:12:43 @collection.py:165]\u001b[0m These collections were modified but restored in : (tf.GraphKeys.SUMMARIES: 0->2)\n",
      "\u001b[32m[1227 12:12:43 @sessinit.py:87]\u001b[0m \u001b[5m\u001b[31mWRN\u001b[0m The following variables are in the checkpoint, but not found in the graph: global_step, optimize/beta1_power, optimize/beta2_power\n",
      "INFO:tensorflow:Graph was finalized.\n",
      "INFO:tensorflow:Running local_init_op.\n",
      "INFO:tensorflow:Done running local_init_op.\n",
      "\u001b[32m[1227 12:12:44 @sessinit.py:114]\u001b[0m Restoring checkpoint from .\\Model\\tableGAN_ckpt\\compare_adult\\tgan\\model\\model-1300 ...\n",
      "INFO:tensorflow:Restoring parameters from .\\Model\\tableGAN_ckpt\\compare_adult\\tgan\\model\\model-1300\n",
      "Elapsed time for TGAN: 503.174 seconds\n"
     ]
    }
   ],
   "source": [
    "from tgan.model import TGANModel\n",
    "if retrain:\n",
    "    timer_tgan = load_timer(timer_path)\n",
    "    timer_tgan.start(\"TGAN\")\n",
    "    tgan = TGANModel(columns_num, output = model_dir + \"tgan\", \n",
    "                     max_epoch = 20, steps_per_epoch = data.shape[0] / 500, num_dis_hidden = 256)\n",
    "    tgan.fit(data)\n",
    "    timer_tgan.stop(\"TGAN\")\n",
    "    timer_tgan.save(timer_path)\n"
   ]
  },
  {
   "cell_type": "code",
   "execution_count": 3,
   "id": "7de2321d",
   "metadata": {},
   "outputs": [
    {
     "name": "stderr",
     "output_type": "stream",
     "text": [
      " 80%|##################################################################8                |161/200[00:17<00:04, 9.03it/s]\n"
     ]
    }
   ],
   "source": [
    "tgan_synthetic_data = tgan.sample(data.shape[0])\n",
    "tgan_synthetic_data.to_csv(\"Datasets//tgan_synthetic_dataset.csv\")"
   ]
  },
  {
   "cell_type": "code",
   "execution_count": 4,
   "id": "352aa9e0",
   "metadata": {},
   "outputs": [
    {
     "data": {
      "text/html": [
       "<div>\n",
       "<style scoped>\n",
       "    .dataframe tbody tr th:only-of-type {\n",
       "        vertical-align: middle;\n",
       "    }\n",
       "\n",
       "    .dataframe tbody tr th {\n",
       "        vertical-align: top;\n",
       "    }\n",
       "\n",
       "    .dataframe thead th {\n",
       "        text-align: right;\n",
       "    }\n",
       "</style>\n",
       "<table border=\"1\" class=\"dataframe\">\n",
       "  <thead>\n",
       "    <tr style=\"text-align: right;\">\n",
       "      <th></th>\n",
       "      <th>Age</th>\n",
       "      <th>Workclass</th>\n",
       "      <th>fnlwgt</th>\n",
       "      <th>Education</th>\n",
       "      <th>Education.Num</th>\n",
       "      <th>Marital.Status</th>\n",
       "      <th>Occupation</th>\n",
       "      <th>Race</th>\n",
       "      <th>Sex</th>\n",
       "      <th>Capital.Gain</th>\n",
       "      <th>Hours.per.week</th>\n",
       "      <th>Country</th>\n",
       "      <th>Salary</th>\n",
       "    </tr>\n",
       "  </thead>\n",
       "  <tbody>\n",
       "    <tr>\n",
       "      <th>0</th>\n",
       "      <td>44</td>\n",
       "      <td>Other</td>\n",
       "      <td>266681</td>\n",
       "      <td>&lt;=12th</td>\n",
       "      <td>7</td>\n",
       "      <td>Married</td>\n",
       "      <td>Farming-fishing</td>\n",
       "      <td>White</td>\n",
       "      <td>Male</td>\n",
       "      <td>0</td>\n",
       "      <td>45</td>\n",
       "      <td>US</td>\n",
       "      <td>&lt;=50K</td>\n",
       "    </tr>\n",
       "    <tr>\n",
       "      <th>1</th>\n",
       "      <td>55</td>\n",
       "      <td>Private</td>\n",
       "      <td>266681</td>\n",
       "      <td>Some-college</td>\n",
       "      <td>10</td>\n",
       "      <td>Never-married</td>\n",
       "      <td>Machine-op-inspct</td>\n",
       "      <td>White</td>\n",
       "      <td>Male</td>\n",
       "      <td>0</td>\n",
       "      <td>40</td>\n",
       "      <td>US</td>\n",
       "      <td>&gt;50K</td>\n",
       "    </tr>\n",
       "    <tr>\n",
       "      <th>2</th>\n",
       "      <td>46</td>\n",
       "      <td>Private</td>\n",
       "      <td>266681</td>\n",
       "      <td>&lt;=12th</td>\n",
       "      <td>4</td>\n",
       "      <td>Separated</td>\n",
       "      <td>Other-service</td>\n",
       "      <td>Black</td>\n",
       "      <td>Female</td>\n",
       "      <td>0</td>\n",
       "      <td>10</td>\n",
       "      <td>Non-US</td>\n",
       "      <td>&lt;=50K</td>\n",
       "    </tr>\n",
       "    <tr>\n",
       "      <th>3</th>\n",
       "      <td>41</td>\n",
       "      <td>Private</td>\n",
       "      <td>266681</td>\n",
       "      <td>HS-grad</td>\n",
       "      <td>9</td>\n",
       "      <td>Married</td>\n",
       "      <td>Craft-repair</td>\n",
       "      <td>White</td>\n",
       "      <td>Male</td>\n",
       "      <td>0</td>\n",
       "      <td>40</td>\n",
       "      <td>US</td>\n",
       "      <td>&gt;50K</td>\n",
       "    </tr>\n",
       "    <tr>\n",
       "      <th>4</th>\n",
       "      <td>24</td>\n",
       "      <td>Private</td>\n",
       "      <td>266681</td>\n",
       "      <td>Bachelors</td>\n",
       "      <td>13</td>\n",
       "      <td>Married</td>\n",
       "      <td>Prof-specialty</td>\n",
       "      <td>White</td>\n",
       "      <td>Male</td>\n",
       "      <td>0</td>\n",
       "      <td>40</td>\n",
       "      <td>US</td>\n",
       "      <td>&lt;=50K</td>\n",
       "    </tr>\n",
       "    <tr>\n",
       "      <th>...</th>\n",
       "      <td>...</td>\n",
       "      <td>...</td>\n",
       "      <td>...</td>\n",
       "      <td>...</td>\n",
       "      <td>...</td>\n",
       "      <td>...</td>\n",
       "      <td>...</td>\n",
       "      <td>...</td>\n",
       "      <td>...</td>\n",
       "      <td>...</td>\n",
       "      <td>...</td>\n",
       "      <td>...</td>\n",
       "      <td>...</td>\n",
       "    </tr>\n",
       "    <tr>\n",
       "      <th>32395</th>\n",
       "      <td>30</td>\n",
       "      <td>Private</td>\n",
       "      <td>266681</td>\n",
       "      <td>Some-college</td>\n",
       "      <td>10</td>\n",
       "      <td>Never-married</td>\n",
       "      <td>Adm-clerical</td>\n",
       "      <td>White</td>\n",
       "      <td>Male</td>\n",
       "      <td>0</td>\n",
       "      <td>40</td>\n",
       "      <td>US</td>\n",
       "      <td>&lt;=50K</td>\n",
       "    </tr>\n",
       "    <tr>\n",
       "      <th>32396</th>\n",
       "      <td>46</td>\n",
       "      <td>Other</td>\n",
       "      <td>266681</td>\n",
       "      <td>Assoc-acdm</td>\n",
       "      <td>16</td>\n",
       "      <td>Married</td>\n",
       "      <td>?</td>\n",
       "      <td>Asian-Pac-Islander</td>\n",
       "      <td>Female</td>\n",
       "      <td>0</td>\n",
       "      <td>40</td>\n",
       "      <td>US</td>\n",
       "      <td>&gt;50K</td>\n",
       "    </tr>\n",
       "    <tr>\n",
       "      <th>32397</th>\n",
       "      <td>46</td>\n",
       "      <td>Private</td>\n",
       "      <td>266681</td>\n",
       "      <td>HS-grad</td>\n",
       "      <td>9</td>\n",
       "      <td>Married</td>\n",
       "      <td>Exec-managerial</td>\n",
       "      <td>Black</td>\n",
       "      <td>Female</td>\n",
       "      <td>0</td>\n",
       "      <td>40</td>\n",
       "      <td>US</td>\n",
       "      <td>&lt;=50K</td>\n",
       "    </tr>\n",
       "    <tr>\n",
       "      <th>32398</th>\n",
       "      <td>49</td>\n",
       "      <td>Private</td>\n",
       "      <td>266681</td>\n",
       "      <td>Some-college</td>\n",
       "      <td>10</td>\n",
       "      <td>Divorced</td>\n",
       "      <td>Craft-repair</td>\n",
       "      <td>White</td>\n",
       "      <td>Female</td>\n",
       "      <td>0</td>\n",
       "      <td>25</td>\n",
       "      <td>US</td>\n",
       "      <td>&lt;=50K</td>\n",
       "    </tr>\n",
       "    <tr>\n",
       "      <th>32399</th>\n",
       "      <td>44</td>\n",
       "      <td>Private</td>\n",
       "      <td>266681</td>\n",
       "      <td>Assoc-acdm</td>\n",
       "      <td>15</td>\n",
       "      <td>Married</td>\n",
       "      <td>Farming-fishing</td>\n",
       "      <td>Amer-Indian-Eskimo</td>\n",
       "      <td>Male</td>\n",
       "      <td>0</td>\n",
       "      <td>97</td>\n",
       "      <td>US</td>\n",
       "      <td>&lt;=50K</td>\n",
       "    </tr>\n",
       "  </tbody>\n",
       "</table>\n",
       "<p>32400 rows × 13 columns</p>\n",
       "</div>"
      ],
      "text/plain": [
       "      Age Workclass  fnlwgt     Education Education.Num Marital.Status  \\\n",
       "0      44     Other  266681        <=12th             7        Married   \n",
       "1      55   Private  266681  Some-college            10  Never-married   \n",
       "2      46   Private  266681        <=12th             4      Separated   \n",
       "3      41   Private  266681       HS-grad             9        Married   \n",
       "4      24   Private  266681     Bachelors            13        Married   \n",
       "...    ..       ...     ...           ...           ...            ...   \n",
       "32395  30   Private  266681  Some-college            10  Never-married   \n",
       "32396  46     Other  266681    Assoc-acdm            16        Married   \n",
       "32397  46   Private  266681       HS-grad             9        Married   \n",
       "32398  49   Private  266681  Some-college            10       Divorced   \n",
       "32399  44   Private  266681    Assoc-acdm            15        Married   \n",
       "\n",
       "              Occupation                Race     Sex Capital.Gain  \\\n",
       "0        Farming-fishing               White    Male            0   \n",
       "1      Machine-op-inspct               White    Male            0   \n",
       "2          Other-service               Black  Female            0   \n",
       "3           Craft-repair               White    Male            0   \n",
       "4         Prof-specialty               White    Male            0   \n",
       "...                  ...                 ...     ...          ...   \n",
       "32395       Adm-clerical               White    Male            0   \n",
       "32396                  ?  Asian-Pac-Islander  Female            0   \n",
       "32397    Exec-managerial               Black  Female            0   \n",
       "32398       Craft-repair               White  Female            0   \n",
       "32399    Farming-fishing  Amer-Indian-Eskimo    Male            0   \n",
       "\n",
       "      Hours.per.week Country Salary  \n",
       "0                 45      US  <=50K  \n",
       "1                 40      US   >50K  \n",
       "2                 10  Non-US  <=50K  \n",
       "3                 40      US   >50K  \n",
       "4                 40      US  <=50K  \n",
       "...              ...     ...    ...  \n",
       "32395             40      US  <=50K  \n",
       "32396             40      US   >50K  \n",
       "32397             40      US  <=50K  \n",
       "32398             25      US  <=50K  \n",
       "32399             97      US  <=50K  \n",
       "\n",
       "[32400 rows x 13 columns]"
      ]
     },
     "execution_count": 4,
     "metadata": {},
     "output_type": "execute_result"
    }
   ],
   "source": [
    "tgan_synthetic_data"
   ]
  }
 ],
 "metadata": {
  "kernelspec": {
   "display_name": "tfv1",
   "language": "python",
   "name": "tfv1"
  },
  "language_info": {
   "codemirror_mode": {
    "name": "ipython",
    "version": 3
   },
   "file_extension": ".py",
   "mimetype": "text/x-python",
   "name": "python",
   "nbconvert_exporter": "python",
   "pygments_lexer": "ipython3",
   "version": "3.7.11"
  }
 },
 "nbformat": 4,
 "nbformat_minor": 5
}
