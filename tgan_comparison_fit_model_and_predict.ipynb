{
 "cells": [
  {
   "cell_type": "code",
   "execution_count": 1,
   "id": "beab12cc",
   "metadata": {},
   "outputs": [
    {
     "name": "stdout",
     "output_type": "stream",
     "text": [
      "WARNING:tensorflow:From C:\\Users\\Arne\\anaconda3\\envs\\tfv1\\lib\\site-packages\\tensorpack\\callbacks\\hooks.py:17: The name tf.train.SessionRunHook is deprecated. Please use tf.estimator.SessionRunHook instead.\n",
      "\n",
      "WARNING:tensorflow:From C:\\Users\\Arne\\anaconda3\\envs\\tfv1\\lib\\site-packages\\tensorpack\\tfutils\\optimizer.py:18: The name tf.train.Optimizer is deprecated. Please use tf.compat.v1.train.Optimizer instead.\n",
      "\n",
      "WARNING:tensorflow:From C:\\Users\\Arne\\anaconda3\\envs\\tfv1\\lib\\site-packages\\tensorpack\\tfutils\\sesscreate.py:20: The name tf.train.SessionCreator is deprecated. Please use tf.compat.v1.train.SessionCreator instead.\n",
      "\n"
     ]
    }
   ],
   "source": [
    "imports_path = \".\\\\imports.ipynb\"\n",
    "tableGAN_path = \".\\\\tableGAN.ipynb\"\n",
    "utils_path = \".\\\\utils.ipynb\"\n",
    "\n",
    "import pandas as pd\n",
    "import os\n",
    "import pickle\n",
    "import time\n",
    "import tensorflow as tf\n",
    "import shutil\n",
    "from tqdm.notebook import tqdm\n",
    "\n",
    "data= pd.read_csv('Datasets\\\\df_adult_edited.csv')\n",
    "data\n",
    "data.dtypes\n",
    "columns_num = data.columns[data.dtypes == \"int64\"]\n",
    "\n",
    "image_dir = \".\\\\Images\"\n",
    "timer_dir = \".\\\\Timers\"\n",
    "model_dir = \".\\\\Model\\\\tableGAN_ckpt\\\\compare_adult\\\\\"\n",
    "timer_path = os.path.join(timer_dir, \"timer_tgan.pkl\")\n",
    "retrain = True\n",
    "\n",
    "if not os.path.exists(timer_path):\n",
    "    timer = Timer()\n",
    "    timer.save(timer_path)\n",
    "    del timer\n",
    "    \n",
    "from tgan.model import TGANModel\n",
    "\n",
    "%run \"$utils_path\""
   ]
  },
  {
   "cell_type": "code",
   "execution_count": 2,
   "id": "ef23f52b",
   "metadata": {},
   "outputs": [
    {
     "name": "stdout",
     "output_type": "stream",
     "text": [
      "WARNING:tensorflow:From C:\\Users\\Arne\\AppData\\Local\\Temp/ipykernel_11024/2826977272.py:2: The name tf.reset_default_graph is deprecated. Please use tf.compat.v1.reset_default_graph instead.\n",
      "\n",
      "WARNING:tensorflow:From C:\\Users\\Arne\\anaconda3\\envs\\tfv1\\lib\\site-packages\\tensorpack\\graph_builder\\model_desc.py:29: The name tf.get_default_graph is deprecated. Please use tf.compat.v1.get_default_graph instead.\n",
      "\n",
      "WARNING:tensorflow:From C:\\Users\\Arne\\anaconda3\\envs\\tfv1\\lib\\site-packages\\tensorpack\\graph_builder\\model_desc.py:39: The name tf.placeholder is deprecated. Please use tf.compat.v1.placeholder instead.\n",
      "\n",
      "WARNING:tensorflow:From C:\\Users\\Arne\\anaconda3\\envs\\tfv1\\lib\\site-packages\\tensorpack\\input_source\\input_source.py:219: The name tf.FIFOQueue is deprecated. Please use tf.queue.FIFOQueue instead.\n",
      "\n",
      "\u001b[32m[1229 19:15:02 @input_source.py:222]\u001b[0m Setting up the queue 'QueueInput/input_queue' for CPU prefetching ...\n",
      "WARNING:tensorflow:From C:\\Users\\Arne\\anaconda3\\envs\\tfv1\\lib\\site-packages\\tensorpack\\tfutils\\summary.py:237: The name tf.get_variable_scope is deprecated. Please use tf.compat.v1.get_variable_scope instead.\n",
      "\n",
      "WARNING:tensorflow:From C:\\Users\\Arne\\anaconda3\\envs\\tfv1\\lib\\site-packages\\tensorpack\\tfutils\\summary.py:27: The name tf.variable_scope is deprecated. Please use tf.compat.v1.variable_scope instead.\n",
      "\n",
      "WARNING:tensorflow:From C:\\Users\\Arne\\anaconda3\\envs\\tfv1\\lib\\site-packages\\tensorpack\\tfutils\\summary.py:254: The name tf.get_variable is deprecated. Please use tf.compat.v1.get_variable instead.\n",
      "\n",
      "WARNING:tensorflow:From C:\\Users\\Arne\\anaconda3\\envs\\tfv1\\lib\\site-packages\\tensorpack\\tfutils\\summary.py:264: The name tf.summary.scalar is deprecated. Please use tf.compat.v1.summary.scalar instead.\n",
      "\n",
      "WARNING:tensorflow:From C:\\Users\\Arne\\anaconda3\\envs\\tfv1\\lib\\site-packages\\tensorpack\\tfutils\\collection.py:105: The name tf.GraphKeys is deprecated. Please use tf.compat.v1.GraphKeys instead.\n",
      "\n",
      "WARNING:tensorflow:From C:\\Users\\Arne\\anaconda3\\envs\\tfv1\\lib\\site-packages\\tensorpack\\tfutils\\collection.py:33: The name tf.get_collection is deprecated. Please use tf.compat.v1.get_collection instead.\n",
      "\n",
      "WARNING:tensorflow:From C:\\Users\\Arne\\anaconda3\\envs\\tfv1\\lib\\site-packages\\tgan\\model.py:455: The name tf.random_normal is deprecated. Please use tf.random.normal instead.\n",
      "\n",
      "WARNING:tensorflow:From C:\\Users\\Arne\\anaconda3\\envs\\tfv1\\lib\\site-packages\\tgan\\model.py:458: The name tf.placeholder_with_default is deprecated. Please use tf.compat.v1.placeholder_with_default instead.\n",
      "\n",
      "WARNING:tensorflow:From C:\\Users\\Arne\\anaconda3\\envs\\tfv1\\lib\\site-packages\\tgan\\model.py:259: LSTMCell.__init__ (from tensorflow.python.ops.rnn_cell_impl) is deprecated and will be removed in a future version.\n",
      "Instructions for updating:\n",
      "This class is equivalent as tf.keras.layers.LSTMCell, and will be replaced by that in Tensorflow 2.0.\n",
      "WARNING:tensorflow:From C:\\Users\\Arne\\anaconda3\\envs\\tfv1\\lib\\site-packages\\tensorflow_core\\python\\ops\\rnn_cell_impl.py:958: Layer.add_variable (from tensorflow.python.keras.engine.base_layer) is deprecated and will be removed in a future version.\n",
      "Instructions for updating:\n",
      "Please use `layer.add_weight` method instead.\n",
      "WARNING:tensorflow:From C:\\Users\\Arne\\anaconda3\\envs\\tfv1\\lib\\site-packages\\tensorflow_core\\python\\ops\\rnn_cell_impl.py:962: calling Zeros.__init__ (from tensorflow.python.ops.init_ops) with dtype is deprecated and will be removed in a future version.\n",
      "Instructions for updating:\n",
      "Call initializer instance with the dtype argument instead of passing it to the constructor\n",
      "\u001b[32m[1229 19:15:02 @registry.py:126]\u001b[0m gen/LSTM/00/FC input: [200, 100]\n",
      "WARNING:tensorflow:From C:\\Users\\Arne\\anaconda3\\envs\\tfv1\\lib\\site-packages\\tensorpack\\models\\fc.py:57: The name tf.layers.Dense is deprecated. Please use tf.compat.v1.layers.Dense instead.\n",
      "\n",
      "WARNING:tensorflow:From C:\\Users\\Arne\\anaconda3\\envs\\tfv1\\lib\\site-packages\\tensorpack\\models\\fc.py:67: Layer.apply (from tensorflow.python.keras.engine.base_layer) is deprecated and will be removed in a future version.\n",
      "Instructions for updating:\n",
      "Please use `layer.__call__` method instead.\n",
      "\u001b[32m[1229 19:15:02 @registry.py:134]\u001b[0m gen/LSTM/00/FC output: [200, 100]\n",
      "\u001b[32m[1229 19:15:02 @registry.py:126]\u001b[0m gen/LSTM/00/FC2 input: [200, 100]\n",
      "\u001b[32m[1229 19:15:02 @registry.py:134]\u001b[0m gen/LSTM/00/FC2 output: [200, 73]\n",
      "\u001b[32m[1229 19:15:02 @registry.py:126]\u001b[0m gen/LSTM/00/FC3 input: [200, 73]\n",
      "\u001b[32m[1229 19:15:02 @registry.py:134]\u001b[0m gen/LSTM/00/FC3 output: [200, 100]\n",
      "\u001b[32m[1229 19:15:02 @registry.py:126]\u001b[0m gen/LSTM/01/FC input: [200, 100]\n",
      "\u001b[32m[1229 19:15:02 @registry.py:134]\u001b[0m gen/LSTM/01/FC output: [200, 100]\n",
      "\u001b[32m[1229 19:15:02 @registry.py:126]\u001b[0m gen/LSTM/01/FC2 input: [200, 100]\n",
      "\u001b[32m[1229 19:15:02 @registry.py:134]\u001b[0m gen/LSTM/01/FC2 output: [200, 3]\n",
      "\u001b[32m[1229 19:15:02 @registry.py:126]\u001b[0m gen/LSTM/01/FC3 input: [200, 3]\n",
      "\u001b[32m[1229 19:15:02 @registry.py:134]\u001b[0m gen/LSTM/01/FC3 output: [200, 100]\n",
      "\u001b[32m[1229 19:15:02 @registry.py:126]\u001b[0m gen/LSTM/02/FC input: [200, 100]\n",
      "\u001b[32m[1229 19:15:02 @registry.py:134]\u001b[0m gen/LSTM/02/FC output: [200, 100]\n",
      "\u001b[32m[1229 19:15:02 @registry.py:126]\u001b[0m gen/LSTM/02/FC2 input: [200, 100]\n",
      "\u001b[32m[1229 19:15:02 @registry.py:134]\u001b[0m gen/LSTM/02/FC2 output: [200, 21648]\n",
      "\u001b[32m[1229 19:15:02 @registry.py:126]\u001b[0m gen/LSTM/02/FC3 input: [200, 21648]\n",
      "\u001b[32m[1229 19:15:02 @registry.py:134]\u001b[0m gen/LSTM/02/FC3 output: [200, 100]\n",
      "\u001b[32m[1229 19:15:02 @registry.py:126]\u001b[0m gen/LSTM/03/FC input: [200, 100]\n",
      "\u001b[32m[1229 19:15:02 @registry.py:134]\u001b[0m gen/LSTM/03/FC output: [200, 100]\n",
      "\u001b[32m[1229 19:15:02 @registry.py:126]\u001b[0m gen/LSTM/03/FC2 input: [200, 100]\n",
      "\u001b[32m[1229 19:15:02 @registry.py:134]\u001b[0m gen/LSTM/03/FC2 output: [200, 9]\n",
      "\u001b[32m[1229 19:15:02 @registry.py:126]\u001b[0m gen/LSTM/03/FC3 input: [200, 9]\n",
      "\u001b[32m[1229 19:15:02 @registry.py:134]\u001b[0m gen/LSTM/03/FC3 output: [200, 100]\n",
      "\u001b[32m[1229 19:15:02 @registry.py:126]\u001b[0m gen/LSTM/04/FC input: [200, 100]\n",
      "\u001b[32m[1229 19:15:02 @registry.py:134]\u001b[0m gen/LSTM/04/FC output: [200, 100]\n",
      "\u001b[32m[1229 19:15:02 @registry.py:126]\u001b[0m gen/LSTM/04/FC2 input: [200, 100]\n",
      "\u001b[32m[1229 19:15:02 @registry.py:134]\u001b[0m gen/LSTM/04/FC2 output: [200, 16]\n",
      "\u001b[32m[1229 19:15:02 @registry.py:126]\u001b[0m gen/LSTM/04/FC3 input: [200, 16]\n",
      "\u001b[32m[1229 19:15:03 @registry.py:134]\u001b[0m gen/LSTM/04/FC3 output: [200, 100]\n",
      "\u001b[32m[1229 19:15:03 @registry.py:126]\u001b[0m gen/LSTM/05/FC input: [200, 100]\n",
      "\u001b[32m[1229 19:15:03 @registry.py:134]\u001b[0m gen/LSTM/05/FC output: [200, 100]\n",
      "\u001b[32m[1229 19:15:03 @registry.py:126]\u001b[0m gen/LSTM/05/FC2 input: [200, 100]\n",
      "\u001b[32m[1229 19:15:03 @registry.py:134]\u001b[0m gen/LSTM/05/FC2 output: [200, 5]\n",
      "\u001b[32m[1229 19:15:03 @registry.py:126]\u001b[0m gen/LSTM/05/FC3 input: [200, 5]\n",
      "\u001b[32m[1229 19:15:03 @registry.py:134]\u001b[0m gen/LSTM/05/FC3 output: [200, 100]\n",
      "\u001b[32m[1229 19:15:03 @registry.py:126]\u001b[0m gen/LSTM/06/FC input: [200, 100]\n",
      "\u001b[32m[1229 19:15:03 @registry.py:134]\u001b[0m gen/LSTM/06/FC output: [200, 100]\n",
      "\u001b[32m[1229 19:15:03 @registry.py:126]\u001b[0m gen/LSTM/06/FC2 input: [200, 100]\n",
      "\u001b[32m[1229 19:15:03 @registry.py:134]\u001b[0m gen/LSTM/06/FC2 output: [200, 15]\n",
      "\u001b[32m[1229 19:15:03 @registry.py:126]\u001b[0m gen/LSTM/06/FC3 input: [200, 15]\n",
      "\u001b[32m[1229 19:15:03 @registry.py:134]\u001b[0m gen/LSTM/06/FC3 output: [200, 100]\n",
      "\u001b[32m[1229 19:15:03 @registry.py:126]\u001b[0m gen/LSTM/07/FC input: [200, 100]\n",
      "\u001b[32m[1229 19:15:03 @registry.py:134]\u001b[0m gen/LSTM/07/FC output: [200, 100]\n",
      "\u001b[32m[1229 19:15:03 @registry.py:126]\u001b[0m gen/LSTM/07/FC2 input: [200, 100]\n",
      "\u001b[32m[1229 19:15:03 @registry.py:134]\u001b[0m gen/LSTM/07/FC2 output: [200, 5]\n",
      "\u001b[32m[1229 19:15:03 @registry.py:126]\u001b[0m gen/LSTM/07/FC3 input: [200, 5]\n",
      "\u001b[32m[1229 19:15:03 @registry.py:134]\u001b[0m gen/LSTM/07/FC3 output: [200, 100]\n",
      "\u001b[32m[1229 19:15:03 @registry.py:126]\u001b[0m gen/LSTM/08/FC input: [200, 100]\n",
      "\u001b[32m[1229 19:15:03 @registry.py:134]\u001b[0m gen/LSTM/08/FC output: [200, 100]\n",
      "\u001b[32m[1229 19:15:03 @registry.py:126]\u001b[0m gen/LSTM/08/FC2 input: [200, 100]\n",
      "\u001b[32m[1229 19:15:03 @registry.py:134]\u001b[0m gen/LSTM/08/FC2 output: [200, 2]\n",
      "\u001b[32m[1229 19:15:03 @registry.py:126]\u001b[0m gen/LSTM/08/FC3 input: [200, 2]\n",
      "\u001b[32m[1229 19:15:03 @registry.py:134]\u001b[0m gen/LSTM/08/FC3 output: [200, 100]\n",
      "\u001b[32m[1229 19:15:03 @registry.py:126]\u001b[0m gen/LSTM/09/FC input: [200, 100]\n"
     ]
    },
    {
     "name": "stdout",
     "output_type": "stream",
     "text": [
      "\u001b[32m[1229 19:15:03 @registry.py:134]\u001b[0m gen/LSTM/09/FC output: [200, 100]\n",
      "\u001b[32m[1229 19:15:03 @registry.py:126]\u001b[0m gen/LSTM/09/FC2 input: [200, 100]\n",
      "\u001b[32m[1229 19:15:03 @registry.py:134]\u001b[0m gen/LSTM/09/FC2 output: [200, 119]\n",
      "\u001b[32m[1229 19:15:03 @registry.py:126]\u001b[0m gen/LSTM/09/FC3 input: [200, 119]\n",
      "\u001b[32m[1229 19:15:03 @registry.py:134]\u001b[0m gen/LSTM/09/FC3 output: [200, 100]\n",
      "\u001b[32m[1229 19:15:03 @registry.py:126]\u001b[0m gen/LSTM/10/FC input: [200, 100]\n",
      "\u001b[32m[1229 19:15:03 @registry.py:134]\u001b[0m gen/LSTM/10/FC output: [200, 100]\n",
      "\u001b[32m[1229 19:15:03 @registry.py:126]\u001b[0m gen/LSTM/10/FC2 input: [200, 100]\n",
      "\u001b[32m[1229 19:15:03 @registry.py:134]\u001b[0m gen/LSTM/10/FC2 output: [200, 94]\n",
      "\u001b[32m[1229 19:15:03 @registry.py:126]\u001b[0m gen/LSTM/10/FC3 input: [200, 94]\n",
      "\u001b[32m[1229 19:15:03 @registry.py:134]\u001b[0m gen/LSTM/10/FC3 output: [200, 100]\n",
      "\u001b[32m[1229 19:15:03 @registry.py:126]\u001b[0m gen/LSTM/11/FC input: [200, 100]\n",
      "\u001b[32m[1229 19:15:03 @registry.py:134]\u001b[0m gen/LSTM/11/FC output: [200, 100]\n",
      "\u001b[32m[1229 19:15:03 @registry.py:126]\u001b[0m gen/LSTM/11/FC2 input: [200, 100]\n",
      "\u001b[32m[1229 19:15:03 @registry.py:134]\u001b[0m gen/LSTM/11/FC2 output: [200, 2]\n",
      "\u001b[32m[1229 19:15:03 @registry.py:126]\u001b[0m gen/LSTM/11/FC3 input: [200, 2]\n",
      "\u001b[32m[1229 19:15:03 @registry.py:134]\u001b[0m gen/LSTM/11/FC3 output: [200, 100]\n",
      "\u001b[32m[1229 19:15:03 @registry.py:126]\u001b[0m gen/LSTM/12/FC input: [200, 100]\n",
      "\u001b[32m[1229 19:15:03 @registry.py:134]\u001b[0m gen/LSTM/12/FC output: [200, 100]\n",
      "\u001b[32m[1229 19:15:03 @registry.py:126]\u001b[0m gen/LSTM/12/FC2 input: [200, 100]\n",
      "\u001b[32m[1229 19:15:03 @registry.py:134]\u001b[0m gen/LSTM/12/FC2 output: [200, 2]\n",
      "\u001b[32m[1229 19:15:03 @registry.py:126]\u001b[0m gen/LSTM/12/FC3 input: [200, 2]\n",
      "\u001b[32m[1229 19:15:03 @registry.py:134]\u001b[0m gen/LSTM/12/FC3 output: [200, 100]\n",
      "WARNING:tensorflow:From C:\\Users\\Arne\\anaconda3\\envs\\tfv1\\lib\\site-packages\\tgan\\model.py:494: The name tf.random_uniform is deprecated. Please use tf.random.uniform instead.\n",
      "\n",
      "WARNING:tensorflow:From C:\\Users\\Arne\\anaconda3\\envs\\tfv1\\lib\\site-packages\\tgan\\model.py:443: The name tf.log is deprecated. Please use tf.math.log instead.\n",
      "\n",
      "\u001b[32m[1229 19:15:03 @registry.py:126]\u001b[0m discrim/dis_fc0/fc input: [200, 21993]\n",
      "\u001b[32m[1229 19:15:03 @registry.py:134]\u001b[0m discrim/dis_fc0/fc output: [200, 256]\n",
      "\u001b[32m[1229 19:15:03 @registry.py:126]\u001b[0m discrim/dis_fc0/fc_diversity input: [200, 256]\n",
      "\u001b[32m[1229 19:15:03 @registry.py:134]\u001b[0m discrim/dis_fc0/fc_diversity output: [200, 100]\n",
      "WARNING:tensorflow:From C:\\Users\\Arne\\anaconda3\\envs\\tfv1\\lib\\site-packages\\tensorpack\\models\\batch_norm.py:204: The name tf.layers.BatchNormalization is deprecated. Please use tf.compat.v1.layers.BatchNormalization instead.\n",
      "\n",
      "WARNING:tensorflow:From C:\\Users\\Arne\\anaconda3\\envs\\tfv1\\lib\\site-packages\\tensorpack\\models\\batch_norm.py:212: The name tf.add_to_collection is deprecated. Please use tf.compat.v1.add_to_collection instead.\n",
      "\n",
      "\u001b[32m[1229 19:15:03 @registry.py:126]\u001b[0m discrim/dis_fc_top input: [200, 266]\n",
      "\u001b[32m[1229 19:15:03 @registry.py:134]\u001b[0m discrim/dis_fc_top output: [200, 1]\n",
      "WARNING:tensorflow:From C:\\Users\\Arne\\anaconda3\\envs\\tfv1\\lib\\site-packages\\tgan\\model.py:118: The name tf.summary.histogram is deprecated. Please use tf.compat.v1.summary.histogram instead.\n",
      "\n",
      "WARNING:tensorflow:From C:\\Users\\Arne\\anaconda3\\envs\\tfv1\\lib\\site-packages\\tensorflow_core\\python\\ops\\nn_impl.py:183: where (from tensorflow.python.ops.array_ops) is deprecated and will be removed in a future version.\n",
      "Instructions for updating:\n",
      "Use tf.where in 2.0, which has the same broadcast rule as np.where\n",
      "WARNING:tensorflow:\n",
      "The TensorFlow contrib module will not be included in TensorFlow 2.0.\n",
      "For more information, please see:\n",
      "  * https://github.com/tensorflow/community/blob/master/rfcs/20180907-contrib-sunset.md\n",
      "  * https://github.com/tensorflow/addons\n",
      "  * https://github.com/tensorflow/io (for I/O related ops)\n",
      "If you depend on functionality not listed there, please file an issue.\n",
      "\n",
      "WARNING:tensorflow:From C:\\Users\\Arne\\anaconda3\\envs\\tfv1\\lib\\site-packages\\tgan\\model.py:551: The name tf.train.AdamOptimizer is deprecated. Please use tf.compat.v1.train.AdamOptimizer instead.\n",
      "\n",
      "\u001b[32m[1229 19:15:07 @logger.py:125]\u001b[0m \u001b[5m\u001b[31mWRN\u001b[0m Log directory .\\Model\\tableGAN_ckpt\\compare_adult\\tgan\\logs exists! Use 'd' to delete it. \n",
      "\u001b[32m[1229 19:15:07 @logger.py:128]\u001b[0m \u001b[5m\u001b[31mWRN\u001b[0m If you're resuming from a previous run, you can choose to keep it.\n",
      "Press any other key to exit. \n",
      "Select Action: k (keep) / d (delete) / q (quit):d\n",
      "\u001b[32m[1229 19:17:56 @logger.py:90]\u001b[0m Argv: C:\\Users\\Arne\\anaconda3\\envs\\tfv1\\lib\\site-packages\\ipykernel_launcher.py -f C:\\Users\\Arne\\AppData\\Roaming\\jupyter\\runtime\\kernel-a21fe7d2-ab9e-4361-a024-aa01d5cd4376.json\n",
      "WARNING:tensorflow:From C:\\Users\\Arne\\anaconda3\\envs\\tfv1\\lib\\site-packages\\tensorpack\\callbacks\\saver.py:43: The name tf.gfile.IsDirectory is deprecated. Please use tf.io.gfile.isdir instead.\n",
      "\n",
      "WARNING:tensorflow:From C:\\Users\\Arne\\anaconda3\\envs\\tfv1\\lib\\site-packages\\tensorpack\\tfutils\\common.py:41: The name tf.ConfigProto is deprecated. Please use tf.compat.v1.ConfigProto instead.\n",
      "\n",
      "\u001b[32m[1229 19:17:56 @model_utils.py:67]\u001b[0m \u001b[36mList of Trainable Variables: \n",
      "\u001b[0mname                              shape           #elements\n",
      "--------------------------------  ------------  -----------\n",
      "gen/LSTM/go:0                     [1, 100]              100\n",
      "gen/LSTM/lstm_cell/kernel:0       [500, 400]         200000\n",
      "gen/LSTM/lstm_cell/bias:0         [400]                 400\n",
      "gen/LSTM/00/FC/W:0                [100, 100]          10000\n",
      "gen/LSTM/00/FC/b:0                [100]                 100\n",
      "gen/LSTM/00/FC2/W:0               [100, 73]            7300\n",
      "gen/LSTM/00/FC2/b:0               [73]                   73\n",
      "gen/LSTM/00/FC3/W:0               [73, 100]            7300\n",
      "gen/LSTM/00/FC3/b:0               [100]                 100\n",
      "gen/LSTM/00/attw:0                [1, 1, 1]               1\n",
      "gen/LSTM/01/FC/W:0                [100, 100]          10000\n",
      "gen/LSTM/01/FC/b:0                [100]                 100\n",
      "gen/LSTM/01/FC2/W:0               [100, 3]              300\n",
      "gen/LSTM/01/FC2/b:0               [3]                     3\n",
      "gen/LSTM/01/FC3/W:0               [3, 100]              300\n",
      "gen/LSTM/01/FC3/b:0               [100]                 100\n",
      "gen/LSTM/01/attw:0                [2, 1, 1]               2\n",
      "gen/LSTM/02/FC/W:0                [100, 100]          10000\n",
      "gen/LSTM/02/FC/b:0                [100]                 100\n",
      "gen/LSTM/02/FC2/W:0               [100, 21648]      2164800\n",
      "gen/LSTM/02/FC2/b:0               [21648]             21648\n",
      "gen/LSTM/02/FC3/W:0               [21648, 100]      2164800\n",
      "gen/LSTM/02/FC3/b:0               [100]                 100\n",
      "gen/LSTM/02/attw:0                [3, 1, 1]               3\n",
      "gen/LSTM/03/FC/W:0                [100, 100]          10000\n",
      "gen/LSTM/03/FC/b:0                [100]                 100\n",
      "gen/LSTM/03/FC2/W:0               [100, 9]              900\n",
      "gen/LSTM/03/FC2/b:0               [9]                     9\n",
      "gen/LSTM/03/FC3/W:0               [9, 100]              900\n",
      "gen/LSTM/03/FC3/b:0               [100]                 100\n",
      "gen/LSTM/03/attw:0                [4, 1, 1]               4\n",
      "gen/LSTM/04/FC/W:0                [100, 100]          10000\n",
      "gen/LSTM/04/FC/b:0                [100]                 100\n",
      "gen/LSTM/04/FC2/W:0               [100, 16]            1600\n",
      "gen/LSTM/04/FC2/b:0               [16]                   16\n",
      "gen/LSTM/04/FC3/W:0               [16, 100]            1600\n",
      "gen/LSTM/04/FC3/b:0               [100]                 100\n",
      "gen/LSTM/04/attw:0                [5, 1, 1]               5\n",
      "gen/LSTM/05/FC/W:0                [100, 100]          10000\n",
      "gen/LSTM/05/FC/b:0                [100]                 100\n",
      "gen/LSTM/05/FC2/W:0               [100, 5]              500\n",
      "gen/LSTM/05/FC2/b:0               [5]                     5\n",
      "gen/LSTM/05/FC3/W:0               [5, 100]              500\n",
      "gen/LSTM/05/FC3/b:0               [100]                 100\n",
      "gen/LSTM/05/attw:0                [6, 1, 1]               6\n",
      "gen/LSTM/06/FC/W:0                [100, 100]          10000\n",
      "gen/LSTM/06/FC/b:0                [100]                 100\n",
      "gen/LSTM/06/FC2/W:0               [100, 15]            1500\n",
      "gen/LSTM/06/FC2/b:0               [15]                   15\n",
      "gen/LSTM/06/FC3/W:0               [15, 100]            1500\n",
      "gen/LSTM/06/FC3/b:0               [100]                 100\n",
      "gen/LSTM/06/attw:0                [7, 1, 1]               7\n",
      "gen/LSTM/07/FC/W:0                [100, 100]          10000\n",
      "gen/LSTM/07/FC/b:0                [100]                 100\n",
      "gen/LSTM/07/FC2/W:0               [100, 5]              500\n",
      "gen/LSTM/07/FC2/b:0               [5]                     5\n",
      "gen/LSTM/07/FC3/W:0               [5, 100]              500\n",
      "gen/LSTM/07/FC3/b:0               [100]                 100\n",
      "gen/LSTM/07/attw:0                [8, 1, 1]               8\n",
      "gen/LSTM/08/FC/W:0                [100, 100]          10000\n",
      "gen/LSTM/08/FC/b:0                [100]                 100\n",
      "gen/LSTM/08/FC2/W:0               [100, 2]              200\n",
      "gen/LSTM/08/FC2/b:0               [2]                     2\n",
      "gen/LSTM/08/FC3/W:0               [2, 100]              200\n",
      "gen/LSTM/08/FC3/b:0               [100]                 100\n",
      "gen/LSTM/08/attw:0                [9, 1, 1]               9\n",
      "gen/LSTM/09/FC/W:0                [100, 100]          10000\n",
      "gen/LSTM/09/FC/b:0                [100]                 100\n",
      "gen/LSTM/09/FC2/W:0               [100, 119]          11900\n",
      "gen/LSTM/09/FC2/b:0               [119]                 119\n",
      "gen/LSTM/09/FC3/W:0               [119, 100]          11900\n",
      "gen/LSTM/09/FC3/b:0               [100]                 100\n",
      "gen/LSTM/09/attw:0                [10, 1, 1]             10\n",
      "gen/LSTM/10/FC/W:0                [100, 100]          10000\n",
      "gen/LSTM/10/FC/b:0                [100]                 100\n",
      "gen/LSTM/10/FC2/W:0               [100, 94]            9400\n",
      "gen/LSTM/10/FC2/b:0               [94]                   94\n",
      "gen/LSTM/10/FC3/W:0               [94, 100]            9400\n",
      "gen/LSTM/10/FC3/b:0               [100]                 100\n",
      "gen/LSTM/10/attw:0                [11, 1, 1]             11\n",
      "gen/LSTM/11/FC/W:0                [100, 100]          10000\n",
      "gen/LSTM/11/FC/b:0                [100]                 100\n",
      "gen/LSTM/11/FC2/W:0               [100, 2]              200\n",
      "gen/LSTM/11/FC2/b:0               [2]                     2\n",
      "gen/LSTM/11/FC3/W:0               [2, 100]              200\n",
      "gen/LSTM/11/FC3/b:0               [100]                 100\n",
      "gen/LSTM/11/attw:0                [12, 1, 1]             12\n",
      "gen/LSTM/12/FC/W:0                [100, 100]          10000\n",
      "gen/LSTM/12/FC/b:0                [100]                 100\n",
      "gen/LSTM/12/FC2/W:0               [100, 2]              200\n",
      "gen/LSTM/12/FC2/b:0               [2]                     2\n",
      "gen/LSTM/12/FC3/W:0               [2, 100]              200\n",
      "gen/LSTM/12/FC3/b:0               [100]                 100\n",
      "gen/LSTM/12/attw:0                [13, 1, 1]             13\n",
      "discrim/dis_fc0/fc/W:0            [21993, 256]      5630208\n",
      "discrim/dis_fc0/fc/b:0            [256]                 256\n",
      "discrim/dis_fc0/fc_diversity/W:0  [256, 100]          25600\n",
      "discrim/dis_fc0/fc_diversity/b:0  [100]                 100\n",
      "discrim/dis_fc0/bn/beta:0         [266]                 266\n",
      "discrim/dis_fc_top/W:0            [266, 1]              266\n",
      "discrim/dis_fc_top/b:0            [1]                     1\u001b[36m\n",
      "Number of trainable variables: 101\n",
      "Number of parameters (elements): 10410481\n",
      "Storage space needed for all trainable variables: 39.71MB\u001b[0m\n"
     ]
    },
    {
     "name": "stdout",
     "output_type": "stream",
     "text": [
      "\u001b[32m[1229 19:17:56 @base.py:209]\u001b[0m Setup callbacks graph ...\n",
      "WARNING:tensorflow:From C:\\Users\\Arne\\anaconda3\\envs\\tfv1\\lib\\site-packages\\tensorpack\\callbacks\\graph.py:54: The name tf.train.SessionRunArgs is deprecated. Please use tf.estimator.SessionRunArgs instead.\n",
      "\n",
      "WARNING:tensorflow:From C:\\Users\\Arne\\anaconda3\\envs\\tfv1\\lib\\site-packages\\tensorpack\\tfutils\\common.py:75: The name tf.VariableScope is deprecated. Please use tf.compat.v1.VariableScope instead.\n",
      "\n",
      "WARNING:tensorflow:From C:\\Users\\Arne\\anaconda3\\envs\\tfv1\\lib\\site-packages\\tensorpack\\tfutils\\common.py:77: The name tf.train.get_or_create_global_step is deprecated. Please use tf.compat.v1.train.get_or_create_global_step instead.\n",
      "\n",
      "WARNING:tensorflow:From C:\\Users\\Arne\\anaconda3\\envs\\tfv1\\lib\\site-packages\\tensorpack\\callbacks\\steps.py:117: The name tf.assign_add is deprecated. Please use tf.compat.v1.assign_add instead.\n",
      "\n",
      "WARNING:tensorflow:From C:\\Users\\Arne\\anaconda3\\envs\\tfv1\\lib\\site-packages\\tensorpack\\callbacks\\saver.py:55: The name tf.train.Saver is deprecated. Please use tf.compat.v1.train.Saver instead.\n",
      "\n",
      "WARNING:tensorflow:From C:\\Users\\Arne\\anaconda3\\envs\\tfv1\\lib\\site-packages\\tensorpack\\callbacks\\saver.py:59: The name tf.train.SaverDef is deprecated. Please use tf.compat.v1.train.SaverDef instead.\n",
      "\n",
      "\u001b[32m[1229 19:17:57 @summary.py:46]\u001b[0m [MovingAverageSummary] 6 operations in collection 'MOVING_SUMMARY_OPS' will be run with session hooks.\n",
      "\u001b[32m[1229 19:17:57 @summary.py:93]\u001b[0m Summarizing collection 'summaries' of size 9.\n",
      "WARNING:tensorflow:From C:\\Users\\Arne\\anaconda3\\envs\\tfv1\\lib\\site-packages\\tensorpack\\callbacks\\summary.py:94: The name tf.summary.merge_all is deprecated. Please use tf.compat.v1.summary.merge_all instead.\n",
      "\n",
      "\u001b[32m[1229 19:17:57 @graph.py:98]\u001b[0m Applying collection UPDATE_OPS of 4 ops.\n",
      "WARNING:tensorflow:From C:\\Users\\Arne\\anaconda3\\envs\\tfv1\\lib\\site-packages\\tensorpack\\callbacks\\monitor.py:261: The name tf.summary.FileWriter is deprecated. Please use tf.compat.v1.summary.FileWriter instead.\n",
      "\n",
      "\u001b[32m[1229 19:17:57 @base.py:230]\u001b[0m Creating the session ...\n",
      "WARNING:tensorflow:From C:\\Users\\Arne\\anaconda3\\envs\\tfv1\\lib\\site-packages\\tensorpack\\tfutils\\sesscreate.py:42: The name tf.Session is deprecated. Please use tf.compat.v1.Session instead.\n",
      "\n",
      "WARNING:tensorflow:From C:\\Users\\Arne\\anaconda3\\envs\\tfv1\\lib\\site-packages\\tensorpack\\tfutils\\sesscreate.py:71: The name tf.global_variables_initializer is deprecated. Please use tf.compat.v1.global_variables_initializer instead.\n",
      "\n",
      "WARNING:tensorflow:From C:\\Users\\Arne\\anaconda3\\envs\\tfv1\\lib\\site-packages\\tensorpack\\tfutils\\sesscreate.py:62: get_backward_walk_ops (from tensorflow.contrib.graph_editor.select) is deprecated and will be removed after 2019-06-06.\n",
      "Instructions for updating:\n",
      "Please use tensorflow.python.ops.op_selector.get_backward_walk_ops.\n",
      "WARNING:tensorflow:From C:\\Users\\Arne\\anaconda3\\envs\\tfv1\\lib\\site-packages\\tensorpack\\tfutils\\sesscreate.py:72: The name tf.local_variables_initializer is deprecated. Please use tf.compat.v1.local_variables_initializer instead.\n",
      "\n",
      "WARNING:tensorflow:From C:\\Users\\Arne\\anaconda3\\envs\\tfv1\\lib\\site-packages\\tensorpack\\tfutils\\sesscreate.py:73: The name tf.tables_initializer is deprecated. Please use tf.compat.v1.tables_initializer instead.\n",
      "\n",
      "WARNING:tensorflow:From C:\\Users\\Arne\\anaconda3\\envs\\tfv1\\lib\\site-packages\\tensorpack\\train\\base.py:254: The name tf.train.MonitoredSession is deprecated. Please use tf.compat.v1.train.MonitoredSession instead.\n",
      "\n",
      "\u001b[32m[1229 19:17:59 @base.py:236]\u001b[0m Initializing the session ...\n",
      "\u001b[32m[1229 19:17:59 @base.py:243]\u001b[0m Graph Finalized.\n",
      "WARNING:tensorflow:From C:\\Users\\Arne\\anaconda3\\envs\\tfv1\\lib\\site-packages\\tensorpack\\tfutils\\common.py:89: The name tf.train.global_step is deprecated. Please use tf.compat.v1.train.global_step instead.\n",
      "\n",
      "WARNING:tensorflow:From C:\\Users\\Arne\\anaconda3\\envs\\tfv1\\lib\\site-packages\\tensorpack\\tfutils\\common.py:90: The name tf.get_default_session is deprecated. Please use tf.compat.v1.get_default_session instead.\n",
      "\n",
      "\u001b[32m[1229 19:17:59 @concurrency.py:38]\u001b[0m Starting EnqueueThread QueueInput/input_queue ...\n",
      "WARNING:tensorflow:From C:\\Users\\Arne\\anaconda3\\envs\\tfv1\\lib\\site-packages\\tensorpack\\callbacks\\monitor.py:309: The name tf.gfile.Exists is deprecated. Please use tf.io.gfile.exists instead.\n",
      "\n",
      "\u001b[32m[1229 19:17:59 @base.py:275]\u001b[0m Start Epoch 1 ...\n"
     ]
    },
    {
     "name": "stderr",
     "output_type": "stream",
     "text": [
      " 97%|##################################################################################3  |63/65[00:25<00:00, 2.63it/s]"
     ]
    },
    {
     "name": "stdout",
     "output_type": "stream",
     "text": [
      "WARNING:tensorflow:From C:\\Users\\Arne\\anaconda3\\envs\\tfv1\\lib\\site-packages\\tensorpack\\callbacks\\monitor.py:148: The name tf.Summary is deprecated. Please use tf.compat.v1.Summary instead.\n",
      "\n"
     ]
    },
    {
     "name": "stderr",
     "output_type": "stream",
     "text": [
      "100%|#####################################################################################|65/65[00:28<00:00, 2.28it/s]"
     ]
    },
    {
     "name": "stdout",
     "output_type": "stream",
     "text": [
      "\u001b[32m[1229 19:18:28 @base.py:285]\u001b[0m Epoch 1 (global_step 65) finished, time:28.4 seconds.\n",
      "WARNING:tensorflow:From C:\\Users\\Arne\\anaconda3\\envs\\tfv1\\lib\\site-packages\\tensorpack\\callbacks\\saver.py:77: The name tf.train.get_global_step is deprecated. Please use tf.compat.v1.train.get_global_step instead.\n",
      "\n"
     ]
    },
    {
     "name": "stderr",
     "output_type": "stream",
     "text": [
      "\n"
     ]
    },
    {
     "name": "stdout",
     "output_type": "stream",
     "text": [
      "\u001b[32m[1229 19:18:30 @saver.py:79]\u001b[0m Model saved to .\\Model\\tableGAN_ckpt\\compare_adult\\tgan\\model\\model-65.\n",
      "\u001b[32m[1229 19:18:30 @monitor.py:467]\u001b[0m GAN_loss/discrim/accuracy_fake: 0.745\n",
      "\u001b[32m[1229 19:18:30 @monitor.py:467]\u001b[0m GAN_loss/discrim/accuracy_real: 0.37\n",
      "\u001b[32m[1229 19:18:30 @monitor.py:467]\u001b[0m GAN_loss/discrim/loss: 0.72016\n",
      "\u001b[32m[1229 19:18:30 @monitor.py:467]\u001b[0m GAN_loss/gen/final-g-loss: 1.1835\n",
      "\u001b[32m[1229 19:18:30 @monitor.py:467]\u001b[0m GAN_loss/gen/klloss: 0.047565\n",
      "\u001b[32m[1229 19:18:30 @monitor.py:467]\u001b[0m GAN_loss/gen/loss: 1.1359\n",
      "\u001b[32m[1229 19:18:30 @monitor.py:467]\u001b[0m QueueInput/queue_size: 50\n",
      "\u001b[32m[1229 19:18:30 @base.py:275]\u001b[0m Start Epoch 2 ...\n"
     ]
    },
    {
     "name": "stderr",
     "output_type": "stream",
     "text": [
      "100%|#####################################################################################|65/65[00:26<00:00, 2.48it/s]"
     ]
    },
    {
     "name": "stdout",
     "output_type": "stream",
     "text": [
      "\u001b[32m[1229 19:18:56 @base.py:285]\u001b[0m Epoch 2 (global_step 130) finished, time:26.2 seconds.\n"
     ]
    },
    {
     "name": "stderr",
     "output_type": "stream",
     "text": [
      "\n"
     ]
    },
    {
     "name": "stdout",
     "output_type": "stream",
     "text": [
      "\u001b[32m[1229 19:18:58 @saver.py:79]\u001b[0m Model saved to .\\Model\\tableGAN_ckpt\\compare_adult\\tgan\\model\\model-130.\n",
      "\u001b[32m[1229 19:18:58 @monitor.py:467]\u001b[0m GAN_loss/discrim/accuracy_fake: 0.78\n",
      "\u001b[32m[1229 19:18:58 @monitor.py:467]\u001b[0m GAN_loss/discrim/accuracy_real: 0.305\n",
      "\u001b[32m[1229 19:18:58 @monitor.py:467]\u001b[0m GAN_loss/discrim/loss: 0.68576\n",
      "\u001b[32m[1229 19:18:58 @monitor.py:467]\u001b[0m GAN_loss/gen/final-g-loss: 1.0523\n",
      "\u001b[32m[1229 19:18:58 @monitor.py:467]\u001b[0m GAN_loss/gen/klloss: 0.045298\n",
      "\u001b[32m[1229 19:18:58 @monitor.py:467]\u001b[0m GAN_loss/gen/loss: 1.007\n",
      "\u001b[32m[1229 19:18:58 @monitor.py:467]\u001b[0m QueueInput/queue_size: 50\n",
      "\u001b[32m[1229 19:18:58 @base.py:275]\u001b[0m Start Epoch 3 ...\n"
     ]
    },
    {
     "name": "stderr",
     "output_type": "stream",
     "text": [
      "100%|#####################################################################################|65/65[00:26<00:00, 2.49it/s]"
     ]
    },
    {
     "name": "stdout",
     "output_type": "stream",
     "text": [
      "\u001b[32m[1229 19:19:25 @base.py:285]\u001b[0m Epoch 3 (global_step 195) finished, time:26.1 seconds.\n"
     ]
    },
    {
     "name": "stderr",
     "output_type": "stream",
     "text": [
      "\n"
     ]
    },
    {
     "name": "stdout",
     "output_type": "stream",
     "text": [
      "\u001b[32m[1229 19:19:26 @saver.py:79]\u001b[0m Model saved to .\\Model\\tableGAN_ckpt\\compare_adult\\tgan\\model\\model-195.\n",
      "\u001b[32m[1229 19:19:26 @monitor.py:467]\u001b[0m GAN_loss/discrim/accuracy_fake: 0.815\n",
      "\u001b[32m[1229 19:19:26 @monitor.py:467]\u001b[0m GAN_loss/discrim/accuracy_real: 0.27\n",
      "\u001b[32m[1229 19:19:26 @monitor.py:467]\u001b[0m GAN_loss/discrim/loss: 0.65637\n",
      "\u001b[32m[1229 19:19:26 @monitor.py:467]\u001b[0m GAN_loss/gen/final-g-loss: 1.0457\n",
      "\u001b[32m[1229 19:19:26 @monitor.py:467]\u001b[0m GAN_loss/gen/klloss: 0.048828\n",
      "\u001b[32m[1229 19:19:26 @monitor.py:467]\u001b[0m GAN_loss/gen/loss: 0.99687\n",
      "\u001b[32m[1229 19:19:26 @monitor.py:467]\u001b[0m QueueInput/queue_size: 50\n",
      "\u001b[32m[1229 19:19:26 @base.py:275]\u001b[0m Start Epoch 4 ...\n"
     ]
    },
    {
     "name": "stderr",
     "output_type": "stream",
     "text": [
      "100%|#####################################################################################|65/65[00:25<00:00, 2.59it/s]"
     ]
    },
    {
     "name": "stdout",
     "output_type": "stream",
     "text": [
      "\u001b[32m[1229 19:19:51 @base.py:285]\u001b[0m Epoch 4 (global_step 260) finished, time:25.1 seconds.\n"
     ]
    },
    {
     "name": "stderr",
     "output_type": "stream",
     "text": [
      "\n"
     ]
    },
    {
     "name": "stdout",
     "output_type": "stream",
     "text": [
      "\u001b[32m[1229 19:19:52 @saver.py:79]\u001b[0m Model saved to .\\Model\\tableGAN_ckpt\\compare_adult\\tgan\\model\\model-260.\n",
      "\u001b[32m[1229 19:19:52 @monitor.py:467]\u001b[0m GAN_loss/discrim/accuracy_fake: 0.875\n",
      "\u001b[32m[1229 19:19:52 @monitor.py:467]\u001b[0m GAN_loss/discrim/accuracy_real: 0.24\n",
      "\u001b[32m[1229 19:19:52 @monitor.py:467]\u001b[0m GAN_loss/discrim/loss: 0.6432\n",
      "\u001b[32m[1229 19:19:52 @monitor.py:467]\u001b[0m GAN_loss/gen/final-g-loss: 1.062\n",
      "\u001b[32m[1229 19:19:52 @monitor.py:467]\u001b[0m GAN_loss/gen/klloss: 0.067198\n",
      "\u001b[32m[1229 19:19:52 @monitor.py:467]\u001b[0m GAN_loss/gen/loss: 0.99479\n",
      "\u001b[32m[1229 19:19:52 @monitor.py:467]\u001b[0m QueueInput/queue_size: 50\n",
      "\u001b[32m[1229 19:19:52 @base.py:275]\u001b[0m Start Epoch 5 ...\n"
     ]
    },
    {
     "name": "stderr",
     "output_type": "stream",
     "text": [
      "100%|#####################################################################################|65/65[00:25<00:00, 2.51it/s]"
     ]
    },
    {
     "name": "stdout",
     "output_type": "stream",
     "text": [
      "\u001b[32m[1229 19:20:18 @base.py:285]\u001b[0m Epoch 5 (global_step 325) finished, time:25.9 seconds.\n"
     ]
    },
    {
     "name": "stderr",
     "output_type": "stream",
     "text": [
      "\n"
     ]
    },
    {
     "name": "stdout",
     "output_type": "stream",
     "text": [
      "\u001b[32m[1229 19:20:18 @saver.py:79]\u001b[0m Model saved to .\\Model\\tableGAN_ckpt\\compare_adult\\tgan\\model\\model-325.\n",
      "\u001b[32m[1229 19:20:18 @monitor.py:467]\u001b[0m GAN_loss/discrim/accuracy_fake: 0.88\n",
      "\u001b[32m[1229 19:20:18 @monitor.py:467]\u001b[0m GAN_loss/discrim/accuracy_real: 0.255\n",
      "\u001b[32m[1229 19:20:18 @monitor.py:467]\u001b[0m GAN_loss/discrim/loss: 0.63854\n",
      "\u001b[32m[1229 19:20:18 @monitor.py:467]\u001b[0m GAN_loss/gen/final-g-loss: 1.1226\n",
      "\u001b[32m[1229 19:20:18 @monitor.py:467]\u001b[0m GAN_loss/gen/klloss: 0.10944\n",
      "\u001b[32m[1229 19:20:18 @monitor.py:467]\u001b[0m GAN_loss/gen/loss: 1.0132\n",
      "\u001b[32m[1229 19:20:18 @monitor.py:467]\u001b[0m QueueInput/queue_size: 50\n",
      "\u001b[32m[1229 19:20:18 @base.py:275]\u001b[0m Start Epoch 6 ...\n"
     ]
    },
    {
     "name": "stderr",
     "output_type": "stream",
     "text": [
      "100%|#####################################################################################|65/65[00:25<00:00, 2.57it/s]"
     ]
    },
    {
     "name": "stdout",
     "output_type": "stream",
     "text": [
      "\u001b[32m[1229 19:20:44 @base.py:285]\u001b[0m Epoch 6 (global_step 390) finished, time:25.3 seconds.\n"
     ]
    },
    {
     "name": "stderr",
     "output_type": "stream",
     "text": [
      "\n"
     ]
    },
    {
     "name": "stdout",
     "output_type": "stream",
     "text": [
      "\u001b[32m[1229 19:20:44 @saver.py:79]\u001b[0m Model saved to .\\Model\\tableGAN_ckpt\\compare_adult\\tgan\\model\\model-390.\n",
      "\u001b[32m[1229 19:20:44 @monitor.py:467]\u001b[0m GAN_loss/discrim/accuracy_fake: 0.83\n",
      "\u001b[32m[1229 19:20:44 @monitor.py:467]\u001b[0m GAN_loss/discrim/accuracy_real: 0.285\n",
      "\u001b[32m[1229 19:20:44 @monitor.py:467]\u001b[0m GAN_loss/discrim/loss: 0.63261\n",
      "\u001b[32m[1229 19:20:44 @monitor.py:467]\u001b[0m GAN_loss/gen/final-g-loss: 1.0548\n",
      "\u001b[32m[1229 19:20:44 @monitor.py:467]\u001b[0m GAN_loss/gen/klloss: 0.040589\n",
      "\u001b[32m[1229 19:20:44 @monitor.py:467]\u001b[0m GAN_loss/gen/loss: 1.0143\n",
      "\u001b[32m[1229 19:20:44 @monitor.py:467]\u001b[0m QueueInput/queue_size: 50\n",
      "\u001b[32m[1229 19:20:44 @base.py:275]\u001b[0m Start Epoch 7 ...\n"
     ]
    },
    {
     "name": "stderr",
     "output_type": "stream",
     "text": [
      "100%|#####################################################################################|65/65[00:24<00:00, 2.60it/s]"
     ]
    },
    {
     "name": "stdout",
     "output_type": "stream",
     "text": [
      "\u001b[32m[1229 19:21:09 @base.py:285]\u001b[0m Epoch 7 (global_step 455) finished, time:25 seconds.\n"
     ]
    },
    {
     "name": "stderr",
     "output_type": "stream",
     "text": [
      "\n"
     ]
    },
    {
     "name": "stdout",
     "output_type": "stream",
     "text": [
      "\u001b[32m[1229 19:21:10 @saver.py:79]\u001b[0m Model saved to .\\Model\\tableGAN_ckpt\\compare_adult\\tgan\\model\\model-455.\n",
      "\u001b[32m[1229 19:21:10 @monitor.py:467]\u001b[0m GAN_loss/discrim/accuracy_fake: 0.85\n",
      "\u001b[32m[1229 19:21:10 @monitor.py:467]\u001b[0m GAN_loss/discrim/accuracy_real: 0.37\n",
      "\u001b[32m[1229 19:21:10 @monitor.py:467]\u001b[0m GAN_loss/discrim/loss: 0.62057\n",
      "\u001b[32m[1229 19:21:10 @monitor.py:467]\u001b[0m GAN_loss/gen/final-g-loss: 1.0645\n",
      "\u001b[32m[1229 19:21:10 @monitor.py:467]\u001b[0m GAN_loss/gen/klloss: 0.052592\n",
      "\u001b[32m[1229 19:21:10 @monitor.py:467]\u001b[0m GAN_loss/gen/loss: 1.0119\n",
      "\u001b[32m[1229 19:21:10 @monitor.py:467]\u001b[0m QueueInput/queue_size: 50\n",
      "\u001b[32m[1229 19:21:10 @base.py:275]\u001b[0m Start Epoch 8 ...\n"
     ]
    },
    {
     "name": "stderr",
     "output_type": "stream",
     "text": [
      "100%|#####################################################################################|65/65[00:26<00:00, 2.50it/s]"
     ]
    },
    {
     "name": "stdout",
     "output_type": "stream",
     "text": [
      "\u001b[32m[1229 19:21:36 @base.py:285]\u001b[0m Epoch 8 (global_step 520) finished, time:26 seconds.\n"
     ]
    },
    {
     "name": "stderr",
     "output_type": "stream",
     "text": [
      "\n"
     ]
    },
    {
     "name": "stdout",
     "output_type": "stream",
     "text": [
      "\u001b[32m[1229 19:21:37 @saver.py:79]\u001b[0m Model saved to .\\Model\\tableGAN_ckpt\\compare_adult\\tgan\\model\\model-520.\n",
      "\u001b[32m[1229 19:21:37 @monitor.py:467]\u001b[0m GAN_loss/discrim/accuracy_fake: 0.84\n",
      "\u001b[32m[1229 19:21:37 @monitor.py:467]\u001b[0m GAN_loss/discrim/accuracy_real: 0.32\n",
      "\u001b[32m[1229 19:21:37 @monitor.py:467]\u001b[0m GAN_loss/discrim/loss: 0.64099\n",
      "\u001b[32m[1229 19:21:37 @monitor.py:467]\u001b[0m GAN_loss/gen/final-g-loss: 1.0954\n",
      "\u001b[32m[1229 19:21:37 @monitor.py:467]\u001b[0m GAN_loss/gen/klloss: 0.094147\n",
      "\u001b[32m[1229 19:21:37 @monitor.py:467]\u001b[0m GAN_loss/gen/loss: 1.0012\n",
      "\u001b[32m[1229 19:21:37 @monitor.py:467]\u001b[0m QueueInput/queue_size: 50\n",
      "\u001b[32m[1229 19:21:37 @base.py:275]\u001b[0m Start Epoch 9 ...\n"
     ]
    },
    {
     "name": "stderr",
     "output_type": "stream",
     "text": [
      "100%|#####################################################################################|65/65[00:25<00:00, 2.51it/s]"
     ]
    },
    {
     "name": "stdout",
     "output_type": "stream",
     "text": [
      "\u001b[32m[1229 19:22:03 @base.py:285]\u001b[0m Epoch 9 (global_step 585) finished, time:25.9 seconds.\n"
     ]
    },
    {
     "name": "stderr",
     "output_type": "stream",
     "text": [
      "\n"
     ]
    },
    {
     "name": "stdout",
     "output_type": "stream",
     "text": [
      "\u001b[32m[1229 19:22:03 @saver.py:79]\u001b[0m Model saved to .\\Model\\tableGAN_ckpt\\compare_adult\\tgan\\model\\model-585.\n",
      "\u001b[32m[1229 19:22:03 @monitor.py:467]\u001b[0m GAN_loss/discrim/accuracy_fake: 0.845\n",
      "\u001b[32m[1229 19:22:03 @monitor.py:467]\u001b[0m GAN_loss/discrim/accuracy_real: 0.32\n",
      "\u001b[32m[1229 19:22:03 @monitor.py:467]\u001b[0m GAN_loss/discrim/loss: 0.6243\n",
      "\u001b[32m[1229 19:22:03 @monitor.py:467]\u001b[0m GAN_loss/gen/final-g-loss: 1.1031\n",
      "\u001b[32m[1229 19:22:03 @monitor.py:467]\u001b[0m GAN_loss/gen/klloss: 0.10202\n",
      "\u001b[32m[1229 19:22:03 @monitor.py:467]\u001b[0m GAN_loss/gen/loss: 1.0011\n",
      "\u001b[32m[1229 19:22:03 @monitor.py:467]\u001b[0m QueueInput/queue_size: 50\n",
      "\u001b[32m[1229 19:22:03 @base.py:275]\u001b[0m Start Epoch 10 ...\n"
     ]
    },
    {
     "name": "stderr",
     "output_type": "stream",
     "text": [
      "100%|#####################################################################################|65/65[00:25<00:00, 2.51it/s]"
     ]
    },
    {
     "name": "stdout",
     "output_type": "stream",
     "text": [
      "\u001b[32m[1229 19:22:29 @base.py:285]\u001b[0m Epoch 10 (global_step 650) finished, time:25.9 seconds.\n"
     ]
    },
    {
     "name": "stderr",
     "output_type": "stream",
     "text": [
      "\n"
     ]
    },
    {
     "name": "stdout",
     "output_type": "stream",
     "text": [
      "\u001b[32m[1229 19:22:30 @saver.py:79]\u001b[0m Model saved to .\\Model\\tableGAN_ckpt\\compare_adult\\tgan\\model\\model-650.\n",
      "\u001b[32m[1229 19:22:30 @monitor.py:467]\u001b[0m GAN_loss/discrim/accuracy_fake: 0.91\n",
      "\u001b[32m[1229 19:22:30 @monitor.py:467]\u001b[0m GAN_loss/discrim/accuracy_real: 0.32\n",
      "\u001b[32m[1229 19:22:30 @monitor.py:467]\u001b[0m GAN_loss/discrim/loss: 0.61353\n",
      "\u001b[32m[1229 19:22:30 @monitor.py:467]\u001b[0m GAN_loss/gen/final-g-loss: 1.1186\n",
      "\u001b[32m[1229 19:22:30 @monitor.py:467]\u001b[0m GAN_loss/gen/klloss: 0.06149\n",
      "\u001b[32m[1229 19:22:30 @monitor.py:467]\u001b[0m GAN_loss/gen/loss: 1.0571\n",
      "\u001b[32m[1229 19:22:30 @monitor.py:467]\u001b[0m QueueInput/queue_size: 50\n",
      "\u001b[32m[1229 19:22:30 @base.py:275]\u001b[0m Start Epoch 11 ...\n"
     ]
    },
    {
     "name": "stderr",
     "output_type": "stream",
     "text": [
      "100%|#####################################################################################|65/65[00:25<00:00, 2.51it/s]"
     ]
    },
    {
     "name": "stdout",
     "output_type": "stream",
     "text": [
      "\u001b[32m[1229 19:22:56 @base.py:285]\u001b[0m Epoch 11 (global_step 715) finished, time:25.9 seconds.\n"
     ]
    },
    {
     "name": "stderr",
     "output_type": "stream",
     "text": [
      "\n"
     ]
    },
    {
     "name": "stdout",
     "output_type": "stream",
     "text": [
      "WARNING:tensorflow:From C:\\Users\\Arne\\anaconda3\\envs\\tfv1\\lib\\site-packages\\tensorflow_core\\python\\training\\saver.py:963: remove_checkpoint (from tensorflow.python.training.checkpoint_management) is deprecated and will be removed in a future version.\n",
      "Instructions for updating:\n",
      "Use standard file APIs to delete files with this prefix.\n",
      "\u001b[32m[1229 19:22:57 @saver.py:79]\u001b[0m Model saved to .\\Model\\tableGAN_ckpt\\compare_adult\\tgan\\model\\model-715.\n",
      "\u001b[32m[1229 19:22:57 @monitor.py:467]\u001b[0m GAN_loss/discrim/accuracy_fake: 0.88\n",
      "\u001b[32m[1229 19:22:57 @monitor.py:467]\u001b[0m GAN_loss/discrim/accuracy_real: 0.285\n",
      "\u001b[32m[1229 19:22:57 @monitor.py:467]\u001b[0m GAN_loss/discrim/loss: 0.62955\n",
      "\u001b[32m[1229 19:22:57 @monitor.py:467]\u001b[0m GAN_loss/gen/final-g-loss: 1.0434\n",
      "\u001b[32m[1229 19:22:57 @monitor.py:467]\u001b[0m GAN_loss/gen/klloss: 0.045282\n",
      "\u001b[32m[1229 19:22:57 @monitor.py:467]\u001b[0m GAN_loss/gen/loss: 0.99812\n",
      "\u001b[32m[1229 19:22:57 @monitor.py:467]\u001b[0m QueueInput/queue_size: 50\n",
      "\u001b[32m[1229 19:22:57 @base.py:275]\u001b[0m Start Epoch 12 ...\n"
     ]
    },
    {
     "name": "stderr",
     "output_type": "stream",
     "text": [
      "100%|#####################################################################################|65/65[00:25<00:00, 2.55it/s]"
     ]
    },
    {
     "name": "stdout",
     "output_type": "stream",
     "text": [
      "\u001b[32m[1229 19:23:22 @base.py:285]\u001b[0m Epoch 12 (global_step 780) finished, time:25.5 seconds.\n"
     ]
    },
    {
     "name": "stderr",
     "output_type": "stream",
     "text": [
      "\n"
     ]
    },
    {
     "name": "stdout",
     "output_type": "stream",
     "text": [
      "\u001b[32m[1229 19:23:23 @saver.py:79]\u001b[0m Model saved to .\\Model\\tableGAN_ckpt\\compare_adult\\tgan\\model\\model-780.\n",
      "\u001b[32m[1229 19:23:23 @monitor.py:467]\u001b[0m GAN_loss/discrim/accuracy_fake: 0.845\n",
      "\u001b[32m[1229 19:23:23 @monitor.py:467]\u001b[0m GAN_loss/discrim/accuracy_real: 0.265\n",
      "\u001b[32m[1229 19:23:23 @monitor.py:467]\u001b[0m GAN_loss/discrim/loss: 0.64637\n",
      "\u001b[32m[1229 19:23:23 @monitor.py:467]\u001b[0m GAN_loss/gen/final-g-loss: 1.1\n",
      "\u001b[32m[1229 19:23:23 @monitor.py:467]\u001b[0m GAN_loss/gen/klloss: 0.097388\n",
      "\u001b[32m[1229 19:23:23 @monitor.py:467]\u001b[0m GAN_loss/gen/loss: 1.0026\n",
      "\u001b[32m[1229 19:23:23 @monitor.py:467]\u001b[0m QueueInput/queue_size: 50\n",
      "\u001b[32m[1229 19:23:23 @base.py:275]\u001b[0m Start Epoch 13 ...\n"
     ]
    },
    {
     "name": "stderr",
     "output_type": "stream",
     "text": [
      "100%|#####################################################################################|65/65[00:25<00:00, 2.54it/s]"
     ]
    },
    {
     "name": "stdout",
     "output_type": "stream",
     "text": [
      "\u001b[32m[1229 19:23:48 @base.py:285]\u001b[0m Epoch 13 (global_step 845) finished, time:25.6 seconds.\n"
     ]
    },
    {
     "name": "stderr",
     "output_type": "stream",
     "text": [
      "\n"
     ]
    },
    {
     "name": "stdout",
     "output_type": "stream",
     "text": [
      "\u001b[32m[1229 19:23:49 @saver.py:79]\u001b[0m Model saved to .\\Model\\tableGAN_ckpt\\compare_adult\\tgan\\model\\model-845.\n",
      "\u001b[32m[1229 19:23:49 @monitor.py:467]\u001b[0m GAN_loss/discrim/accuracy_fake: 0.875\n",
      "\u001b[32m[1229 19:23:49 @monitor.py:467]\u001b[0m GAN_loss/discrim/accuracy_real: 0.305\n",
      "\u001b[32m[1229 19:23:49 @monitor.py:467]\u001b[0m GAN_loss/discrim/loss: 0.63544\n",
      "\u001b[32m[1229 19:23:49 @monitor.py:467]\u001b[0m GAN_loss/gen/final-g-loss: 1.0626\n",
      "\u001b[32m[1229 19:23:49 @monitor.py:467]\u001b[0m GAN_loss/gen/klloss: 0.054564\n",
      "\u001b[32m[1229 19:23:49 @monitor.py:467]\u001b[0m GAN_loss/gen/loss: 1.0081\n",
      "\u001b[32m[1229 19:23:49 @monitor.py:467]\u001b[0m QueueInput/queue_size: 50\n",
      "\u001b[32m[1229 19:23:49 @base.py:275]\u001b[0m Start Epoch 14 ...\n"
     ]
    },
    {
     "name": "stderr",
     "output_type": "stream",
     "text": [
      "100%|#####################################################################################|65/65[00:25<00:00, 2.57it/s]"
     ]
    },
    {
     "name": "stdout",
     "output_type": "stream",
     "text": [
      "\u001b[32m[1229 19:24:15 @base.py:285]\u001b[0m Epoch 14 (global_step 910) finished, time:25.3 seconds.\n"
     ]
    },
    {
     "name": "stderr",
     "output_type": "stream",
     "text": [
      "\n"
     ]
    },
    {
     "name": "stdout",
     "output_type": "stream",
     "text": [
      "\u001b[32m[1229 19:24:16 @saver.py:79]\u001b[0m Model saved to .\\Model\\tableGAN_ckpt\\compare_adult\\tgan\\model\\model-910.\n",
      "\u001b[32m[1229 19:24:16 @monitor.py:467]\u001b[0m GAN_loss/discrim/accuracy_fake: 0.875\n",
      "\u001b[32m[1229 19:24:16 @monitor.py:467]\u001b[0m GAN_loss/discrim/accuracy_real: 0.325\n",
      "\u001b[32m[1229 19:24:16 @monitor.py:467]\u001b[0m GAN_loss/discrim/loss: 0.63106\n",
      "\u001b[32m[1229 19:24:16 @monitor.py:467]\u001b[0m GAN_loss/gen/final-g-loss: 1.0588\n",
      "\u001b[32m[1229 19:24:16 @monitor.py:467]\u001b[0m GAN_loss/gen/klloss: 0.056054\n",
      "\u001b[32m[1229 19:24:16 @monitor.py:467]\u001b[0m GAN_loss/gen/loss: 1.0028\n",
      "\u001b[32m[1229 19:24:16 @monitor.py:467]\u001b[0m QueueInput/queue_size: 50\n",
      "\u001b[32m[1229 19:24:16 @base.py:275]\u001b[0m Start Epoch 15 ...\n"
     ]
    },
    {
     "name": "stderr",
     "output_type": "stream",
     "text": [
      "100%|#####################################################################################|65/65[00:25<00:00, 2.51it/s]"
     ]
    },
    {
     "name": "stdout",
     "output_type": "stream",
     "text": [
      "\u001b[32m[1229 19:24:41 @base.py:285]\u001b[0m Epoch 15 (global_step 975) finished, time:25.9 seconds.\n"
     ]
    },
    {
     "name": "stderr",
     "output_type": "stream",
     "text": [
      "\n"
     ]
    },
    {
     "name": "stdout",
     "output_type": "stream",
     "text": [
      "\u001b[32m[1229 19:24:42 @saver.py:79]\u001b[0m Model saved to .\\Model\\tableGAN_ckpt\\compare_adult\\tgan\\model\\model-975.\n",
      "\u001b[32m[1229 19:24:42 @monitor.py:467]\u001b[0m GAN_loss/discrim/accuracy_fake: 0.85\n",
      "\u001b[32m[1229 19:24:42 @monitor.py:467]\u001b[0m GAN_loss/discrim/accuracy_real: 0.265\n",
      "\u001b[32m[1229 19:24:42 @monitor.py:467]\u001b[0m GAN_loss/discrim/loss: 0.64661\n",
      "\u001b[32m[1229 19:24:42 @monitor.py:467]\u001b[0m GAN_loss/gen/final-g-loss: 1.0404\n",
      "\u001b[32m[1229 19:24:42 @monitor.py:467]\u001b[0m GAN_loss/gen/klloss: 0.061109\n",
      "\u001b[32m[1229 19:24:42 @monitor.py:467]\u001b[0m GAN_loss/gen/loss: 0.97929\n",
      "\u001b[32m[1229 19:24:42 @monitor.py:467]\u001b[0m QueueInput/queue_size: 50\n",
      "\u001b[32m[1229 19:24:42 @base.py:275]\u001b[0m Start Epoch 16 ...\n"
     ]
    },
    {
     "name": "stderr",
     "output_type": "stream",
     "text": [
      "100%|#####################################################################################|65/65[00:27<00:00, 2.35it/s]"
     ]
    },
    {
     "name": "stdout",
     "output_type": "stream",
     "text": [
      "\u001b[32m[1229 19:25:10 @base.py:285]\u001b[0m Epoch 16 (global_step 1040) finished, time:27.7 seconds.\n"
     ]
    },
    {
     "name": "stderr",
     "output_type": "stream",
     "text": [
      "\n"
     ]
    },
    {
     "name": "stdout",
     "output_type": "stream",
     "text": [
      "\u001b[32m[1229 19:25:11 @saver.py:79]\u001b[0m Model saved to .\\Model\\tableGAN_ckpt\\compare_adult\\tgan\\model\\model-1040.\n",
      "\u001b[32m[1229 19:25:11 @monitor.py:467]\u001b[0m GAN_loss/discrim/accuracy_fake: 0.865\n",
      "\u001b[32m[1229 19:25:11 @monitor.py:467]\u001b[0m GAN_loss/discrim/accuracy_real: 0.195\n",
      "\u001b[32m[1229 19:25:11 @monitor.py:467]\u001b[0m GAN_loss/discrim/loss: 0.64337\n",
      "\u001b[32m[1229 19:25:11 @monitor.py:467]\u001b[0m GAN_loss/gen/final-g-loss: 1.0597\n",
      "\u001b[32m[1229 19:25:11 @monitor.py:467]\u001b[0m GAN_loss/gen/klloss: 0.071633\n",
      "\u001b[32m[1229 19:25:11 @monitor.py:467]\u001b[0m GAN_loss/gen/loss: 0.98807\n",
      "\u001b[32m[1229 19:25:11 @monitor.py:467]\u001b[0m QueueInput/queue_size: 50\n",
      "\u001b[32m[1229 19:25:11 @base.py:275]\u001b[0m Start Epoch 17 ...\n"
     ]
    },
    {
     "name": "stderr",
     "output_type": "stream",
     "text": [
      "100%|#####################################################################################|65/65[00:26<00:00, 2.43it/s]"
     ]
    },
    {
     "name": "stdout",
     "output_type": "stream",
     "text": [
      "\u001b[32m[1229 19:25:38 @base.py:285]\u001b[0m Epoch 17 (global_step 1105) finished, time:26.8 seconds.\n"
     ]
    },
    {
     "name": "stderr",
     "output_type": "stream",
     "text": [
      "\n"
     ]
    },
    {
     "name": "stdout",
     "output_type": "stream",
     "text": [
      "\u001b[32m[1229 19:25:38 @saver.py:79]\u001b[0m Model saved to .\\Model\\tableGAN_ckpt\\compare_adult\\tgan\\model\\model-1105.\n",
      "\u001b[32m[1229 19:25:38 @monitor.py:467]\u001b[0m GAN_loss/discrim/accuracy_fake: 0.865\n",
      "\u001b[32m[1229 19:25:38 @monitor.py:467]\u001b[0m GAN_loss/discrim/accuracy_real: 0.235\n",
      "\u001b[32m[1229 19:25:38 @monitor.py:467]\u001b[0m GAN_loss/discrim/loss: 0.64637\n",
      "\u001b[32m[1229 19:25:38 @monitor.py:467]\u001b[0m GAN_loss/gen/final-g-loss: 1.0289\n",
      "\u001b[32m[1229 19:25:38 @monitor.py:467]\u001b[0m GAN_loss/gen/klloss: 0.069333\n",
      "\u001b[32m[1229 19:25:38 @monitor.py:467]\u001b[0m GAN_loss/gen/loss: 0.95955\n",
      "\u001b[32m[1229 19:25:38 @monitor.py:467]\u001b[0m QueueInput/queue_size: 50\n",
      "\u001b[32m[1229 19:25:38 @base.py:275]\u001b[0m Start Epoch 18 ...\n"
     ]
    },
    {
     "name": "stderr",
     "output_type": "stream",
     "text": [
      "100%|#####################################################################################|65/65[00:26<00:00, 2.42it/s]"
     ]
    },
    {
     "name": "stdout",
     "output_type": "stream",
     "text": [
      "\u001b[32m[1229 19:26:05 @base.py:285]\u001b[0m Epoch 18 (global_step 1170) finished, time:26.8 seconds.\n"
     ]
    },
    {
     "name": "stderr",
     "output_type": "stream",
     "text": [
      "\n"
     ]
    },
    {
     "name": "stdout",
     "output_type": "stream",
     "text": [
      "\u001b[32m[1229 19:26:06 @saver.py:79]\u001b[0m Model saved to .\\Model\\tableGAN_ckpt\\compare_adult\\tgan\\model\\model-1170.\n",
      "\u001b[32m[1229 19:26:06 @monitor.py:467]\u001b[0m GAN_loss/discrim/accuracy_fake: 0.895\n",
      "\u001b[32m[1229 19:26:06 @monitor.py:467]\u001b[0m GAN_loss/discrim/accuracy_real: 0.235\n",
      "\u001b[32m[1229 19:26:06 @monitor.py:467]\u001b[0m GAN_loss/discrim/loss: 0.64595\n",
      "\u001b[32m[1229 19:26:06 @monitor.py:467]\u001b[0m GAN_loss/gen/final-g-loss: 1.0885\n",
      "\u001b[32m[1229 19:26:06 @monitor.py:467]\u001b[0m GAN_loss/gen/klloss: 0.11503\n",
      "\u001b[32m[1229 19:26:06 @monitor.py:467]\u001b[0m GAN_loss/gen/loss: 0.97352\n",
      "\u001b[32m[1229 19:26:06 @monitor.py:467]\u001b[0m QueueInput/queue_size: 50\n",
      "\u001b[32m[1229 19:26:06 @base.py:275]\u001b[0m Start Epoch 19 ...\n"
     ]
    },
    {
     "name": "stderr",
     "output_type": "stream",
     "text": [
      "100%|#####################################################################################|65/65[00:26<00:00, 2.43it/s]"
     ]
    },
    {
     "name": "stdout",
     "output_type": "stream",
     "text": [
      "\u001b[32m[1229 19:26:33 @base.py:285]\u001b[0m Epoch 19 (global_step 1235) finished, time:26.8 seconds.\n"
     ]
    },
    {
     "name": "stderr",
     "output_type": "stream",
     "text": [
      "\n"
     ]
    },
    {
     "name": "stdout",
     "output_type": "stream",
     "text": [
      "\u001b[32m[1229 19:26:33 @saver.py:79]\u001b[0m Model saved to .\\Model\\tableGAN_ckpt\\compare_adult\\tgan\\model\\model-1235.\n",
      "\u001b[32m[1229 19:26:33 @monitor.py:467]\u001b[0m GAN_loss/discrim/accuracy_fake: 0.83\n",
      "\u001b[32m[1229 19:26:33 @monitor.py:467]\u001b[0m GAN_loss/discrim/accuracy_real: 0.315\n",
      "\u001b[32m[1229 19:26:33 @monitor.py:467]\u001b[0m GAN_loss/discrim/loss: 0.63285\n",
      "\u001b[32m[1229 19:26:33 @monitor.py:467]\u001b[0m GAN_loss/gen/final-g-loss: 1.0057\n",
      "\u001b[32m[1229 19:26:33 @monitor.py:467]\u001b[0m GAN_loss/gen/klloss: 0.062566\n",
      "\u001b[32m[1229 19:26:33 @monitor.py:467]\u001b[0m GAN_loss/gen/loss: 0.94313\n",
      "\u001b[32m[1229 19:26:33 @monitor.py:467]\u001b[0m QueueInput/queue_size: 50\n",
      "\u001b[32m[1229 19:26:33 @base.py:275]\u001b[0m Start Epoch 20 ...\n"
     ]
    },
    {
     "name": "stderr",
     "output_type": "stream",
     "text": [
      "100%|#####################################################################################|65/65[00:26<00:00, 2.44it/s]"
     ]
    },
    {
     "name": "stdout",
     "output_type": "stream",
     "text": [
      "\u001b[32m[1229 19:27:00 @base.py:285]\u001b[0m Epoch 20 (global_step 1300) finished, time:26.6 seconds.\n"
     ]
    },
    {
     "name": "stderr",
     "output_type": "stream",
     "text": [
      "\n"
     ]
    },
    {
     "name": "stdout",
     "output_type": "stream",
     "text": [
      "\u001b[32m[1229 19:27:01 @saver.py:79]\u001b[0m Model saved to .\\Model\\tableGAN_ckpt\\compare_adult\\tgan\\model\\model-1300.\n",
      "\u001b[32m[1229 19:27:01 @monitor.py:467]\u001b[0m GAN_loss/discrim/accuracy_fake: 0.865\n",
      "\u001b[32m[1229 19:27:01 @monitor.py:467]\u001b[0m GAN_loss/discrim/accuracy_real: 0.26\n",
      "\u001b[32m[1229 19:27:01 @monitor.py:467]\u001b[0m GAN_loss/discrim/loss: 0.6307\n",
      "\u001b[32m[1229 19:27:01 @monitor.py:467]\u001b[0m GAN_loss/gen/final-g-loss: 1.021\n",
      "\u001b[32m[1229 19:27:01 @monitor.py:467]\u001b[0m GAN_loss/gen/klloss: 0.052966\n",
      "\u001b[32m[1229 19:27:01 @monitor.py:467]\u001b[0m GAN_loss/gen/loss: 0.96806\n",
      "\u001b[32m[1229 19:27:01 @monitor.py:467]\u001b[0m QueueInput/queue_size: 50\n",
      "\u001b[32m[1229 19:27:01 @base.py:289]\u001b[0m Training has finished!\n",
      "WARNING:tensorflow:From C:\\Users\\Arne\\anaconda3\\envs\\tfv1\\lib\\site-packages\\tensorpack\\predict\\config.py:101: The name tf.train.ChiefSessionCreator is deprecated. Please use tf.compat.v1.train.ChiefSessionCreator instead.\n",
      "\n",
      "\u001b[32m[1229 19:27:01 @input_source.py:178]\u001b[0m EnqueueThread QueueInput/input_queue Exited.\n",
      "WARNING:tensorflow:From C:\\Users\\Arne\\anaconda3\\envs\\tfv1\\lib\\site-packages\\tensorpack\\tfutils\\collection.py:45: The name tf.get_collection_ref is deprecated. Please use tf.compat.v1.get_collection_ref instead.\n",
      "\n",
      "\u001b[32m[1229 19:27:02 @collection.py:146]\u001b[0m New collections created in tower : tf.GraphKeys.REGULARIZATION_LOSSES\n",
      "\u001b[32m[1229 19:27:02 @collection.py:165]\u001b[0m These collections were modified but restored in : (tf.GraphKeys.SUMMARIES: 0->2)\n",
      "WARNING:tensorflow:From C:\\Users\\Arne\\anaconda3\\envs\\tfv1\\lib\\site-packages\\tensorpack\\tfutils\\sessinit.py:120: The name tf.train.NewCheckpointReader is deprecated. Please use tf.compat.v1.train.NewCheckpointReader instead.\n",
      "\n",
      "WARNING:tensorflow:From C:\\Users\\Arne\\anaconda3\\envs\\tfv1\\lib\\site-packages\\tensorpack\\tfutils\\sessinit.py:127: The name tf.global_variables is deprecated. Please use tf.compat.v1.global_variables instead.\n",
      "\n",
      "\u001b[32m[1229 19:27:02 @sessinit.py:87]\u001b[0m \u001b[5m\u001b[31mWRN\u001b[0m The following variables are in the checkpoint, but not found in the graph: global_step, optimize/beta1_power, optimize/beta2_power\n",
      "INFO:tensorflow:Graph was finalized.\n",
      "INFO:tensorflow:Running local_init_op.\n",
      "INFO:tensorflow:Done running local_init_op.\n",
      "\u001b[32m[1229 19:27:03 @sessinit.py:114]\u001b[0m Restoring checkpoint from .\\Model\\tableGAN_ckpt\\compare_adult\\tgan\\model\\model-1300 ...\n",
      "INFO:tensorflow:Restoring parameters from .\\Model\\tableGAN_ckpt\\compare_adult\\tgan\\model\\model-1300\n",
      "Elapsed time for TGAN: 721.085 seconds\n"
     ]
    }
   ],
   "source": [
    "if retrain:\n",
    "    tf.reset_default_graph()\n",
    "    timer_tgan = load_timer(timer_path)\n",
    "    timer_tgan.start(\"TGAN\")\n",
    "    tgan = TGANModel(columns_num, output = model_dir + \"tgan\", \n",
    "                     max_epoch = 20, steps_per_epoch = data.shape[0] / 500, num_dis_hidden = 256,\n",
    "                    restore_session = False)\n",
    "    tgan.fit(data)\n",
    "    timer_tgan.stop(\"TGAN\")\n",
    "    timer_tgan.save(timer_path)\n"
   ]
  },
  {
   "cell_type": "code",
   "execution_count": 7,
   "id": "d81ffb74",
   "metadata": {},
   "outputs": [
    {
     "name": "stderr",
     "output_type": "stream",
     "text": [
      " 80%|##################################################################8                |161/200[00:18<00:04, 8.62it/s]\n"
     ]
    }
   ],
   "source": [
    "tgan_synthetic_data = tgan.sample(data.shape[0])\n",
    "#tgan_synthetic_data.to_csv(\"Datasets//tgan_synthetic_dataset.csv\")"
   ]
  },
  {
   "cell_type": "code",
   "execution_count": 8,
   "id": "0a2c664a",
   "metadata": {},
   "outputs": [
    {
     "data": {
      "text/html": [
       "<div>\n",
       "<style scoped>\n",
       "    .dataframe tbody tr th:only-of-type {\n",
       "        vertical-align: middle;\n",
       "    }\n",
       "\n",
       "    .dataframe tbody tr th {\n",
       "        vertical-align: top;\n",
       "    }\n",
       "\n",
       "    .dataframe thead th {\n",
       "        text-align: right;\n",
       "    }\n",
       "</style>\n",
       "<table border=\"1\" class=\"dataframe\">\n",
       "  <thead>\n",
       "    <tr style=\"text-align: right;\">\n",
       "      <th></th>\n",
       "      <th>Age</th>\n",
       "      <th>Workclass</th>\n",
       "      <th>fnlwgt</th>\n",
       "      <th>Education</th>\n",
       "      <th>Education.Num</th>\n",
       "      <th>Marital.Status</th>\n",
       "      <th>Occupation</th>\n",
       "      <th>Race</th>\n",
       "      <th>Sex</th>\n",
       "      <th>Capital.Gain</th>\n",
       "      <th>Hours.per.week</th>\n",
       "      <th>Country</th>\n",
       "      <th>Salary</th>\n",
       "    </tr>\n",
       "  </thead>\n",
       "  <tbody>\n",
       "    <tr>\n",
       "      <th>0</th>\n",
       "      <td>25</td>\n",
       "      <td>Private</td>\n",
       "      <td>297261</td>\n",
       "      <td>Masters</td>\n",
       "      <td>13</td>\n",
       "      <td>Never-married</td>\n",
       "      <td>Prof-specialty</td>\n",
       "      <td>White</td>\n",
       "      <td>Male</td>\n",
       "      <td>0</td>\n",
       "      <td>40</td>\n",
       "      <td>US</td>\n",
       "      <td>&lt;=50K</td>\n",
       "    </tr>\n",
       "    <tr>\n",
       "      <th>1</th>\n",
       "      <td>20</td>\n",
       "      <td>Private</td>\n",
       "      <td>55237</td>\n",
       "      <td>HS-grad</td>\n",
       "      <td>9</td>\n",
       "      <td>Never-married</td>\n",
       "      <td>Adm-clerical</td>\n",
       "      <td>Black</td>\n",
       "      <td>Male</td>\n",
       "      <td>0</td>\n",
       "      <td>64</td>\n",
       "      <td>Non-US</td>\n",
       "      <td>&lt;=50K</td>\n",
       "    </tr>\n",
       "    <tr>\n",
       "      <th>2</th>\n",
       "      <td>20</td>\n",
       "      <td>Private</td>\n",
       "      <td>251694</td>\n",
       "      <td>Some-college</td>\n",
       "      <td>9</td>\n",
       "      <td>Married</td>\n",
       "      <td>Other-service</td>\n",
       "      <td>White</td>\n",
       "      <td>Male</td>\n",
       "      <td>0</td>\n",
       "      <td>40</td>\n",
       "      <td>US</td>\n",
       "      <td>&lt;=50K</td>\n",
       "    </tr>\n",
       "    <tr>\n",
       "      <th>3</th>\n",
       "      <td>56</td>\n",
       "      <td>Private</td>\n",
       "      <td>285020</td>\n",
       "      <td>Assoc-acdm</td>\n",
       "      <td>9</td>\n",
       "      <td>Never-married</td>\n",
       "      <td>Other-service</td>\n",
       "      <td>White</td>\n",
       "      <td>Male</td>\n",
       "      <td>0</td>\n",
       "      <td>40</td>\n",
       "      <td>US</td>\n",
       "      <td>&lt;=50K</td>\n",
       "    </tr>\n",
       "    <tr>\n",
       "      <th>4</th>\n",
       "      <td>18</td>\n",
       "      <td>Private</td>\n",
       "      <td>33842</td>\n",
       "      <td>HS-grad</td>\n",
       "      <td>13</td>\n",
       "      <td>Never-married</td>\n",
       "      <td>Prof-specialty</td>\n",
       "      <td>White</td>\n",
       "      <td>Male</td>\n",
       "      <td>2062</td>\n",
       "      <td>40</td>\n",
       "      <td>US</td>\n",
       "      <td>&lt;=50K</td>\n",
       "    </tr>\n",
       "    <tr>\n",
       "      <th>...</th>\n",
       "      <td>...</td>\n",
       "      <td>...</td>\n",
       "      <td>...</td>\n",
       "      <td>...</td>\n",
       "      <td>...</td>\n",
       "      <td>...</td>\n",
       "      <td>...</td>\n",
       "      <td>...</td>\n",
       "      <td>...</td>\n",
       "      <td>...</td>\n",
       "      <td>...</td>\n",
       "      <td>...</td>\n",
       "      <td>...</td>\n",
       "    </tr>\n",
       "    <tr>\n",
       "      <th>32395</th>\n",
       "      <td>33</td>\n",
       "      <td>Private</td>\n",
       "      <td>373366</td>\n",
       "      <td>Some-college</td>\n",
       "      <td>10</td>\n",
       "      <td>Married</td>\n",
       "      <td>Other-service</td>\n",
       "      <td>White</td>\n",
       "      <td>Female</td>\n",
       "      <td>0</td>\n",
       "      <td>50</td>\n",
       "      <td>US</td>\n",
       "      <td>&lt;=50K</td>\n",
       "    </tr>\n",
       "    <tr>\n",
       "      <th>32396</th>\n",
       "      <td>32</td>\n",
       "      <td>Private</td>\n",
       "      <td>123325</td>\n",
       "      <td>Some-college</td>\n",
       "      <td>9</td>\n",
       "      <td>Married</td>\n",
       "      <td>Prof-specialty</td>\n",
       "      <td>White</td>\n",
       "      <td>Male</td>\n",
       "      <td>0</td>\n",
       "      <td>41</td>\n",
       "      <td>US</td>\n",
       "      <td>&lt;=50K</td>\n",
       "    </tr>\n",
       "    <tr>\n",
       "      <th>32397</th>\n",
       "      <td>53</td>\n",
       "      <td>Private</td>\n",
       "      <td>68882</td>\n",
       "      <td>HS-grad</td>\n",
       "      <td>10</td>\n",
       "      <td>Married</td>\n",
       "      <td>?</td>\n",
       "      <td>White</td>\n",
       "      <td>Female</td>\n",
       "      <td>0</td>\n",
       "      <td>40</td>\n",
       "      <td>US</td>\n",
       "      <td>&lt;=50K</td>\n",
       "    </tr>\n",
       "    <tr>\n",
       "      <th>32398</th>\n",
       "      <td>36</td>\n",
       "      <td>Private</td>\n",
       "      <td>403072</td>\n",
       "      <td>&lt;=12th</td>\n",
       "      <td>10</td>\n",
       "      <td>Married</td>\n",
       "      <td>?</td>\n",
       "      <td>White</td>\n",
       "      <td>Male</td>\n",
       "      <td>5455</td>\n",
       "      <td>40</td>\n",
       "      <td>US</td>\n",
       "      <td>&lt;=50K</td>\n",
       "    </tr>\n",
       "    <tr>\n",
       "      <th>32399</th>\n",
       "      <td>47</td>\n",
       "      <td>Private</td>\n",
       "      <td>78855</td>\n",
       "      <td>Masters</td>\n",
       "      <td>13</td>\n",
       "      <td>Divorced</td>\n",
       "      <td>Exec-managerial</td>\n",
       "      <td>White</td>\n",
       "      <td>Male</td>\n",
       "      <td>0</td>\n",
       "      <td>40</td>\n",
       "      <td>US</td>\n",
       "      <td>&gt;50K</td>\n",
       "    </tr>\n",
       "  </tbody>\n",
       "</table>\n",
       "<p>32400 rows × 13 columns</p>\n",
       "</div>"
      ],
      "text/plain": [
       "      Age Workclass  fnlwgt     Education Education.Num Marital.Status  \\\n",
       "0      25   Private  297261       Masters            13  Never-married   \n",
       "1      20   Private   55237       HS-grad             9  Never-married   \n",
       "2      20   Private  251694  Some-college             9        Married   \n",
       "3      56   Private  285020    Assoc-acdm             9  Never-married   \n",
       "4      18   Private   33842       HS-grad            13  Never-married   \n",
       "...    ..       ...     ...           ...           ...            ...   \n",
       "32395  33   Private  373366  Some-college            10        Married   \n",
       "32396  32   Private  123325  Some-college             9        Married   \n",
       "32397  53   Private   68882       HS-grad            10        Married   \n",
       "32398  36   Private  403072        <=12th            10        Married   \n",
       "32399  47   Private   78855       Masters            13       Divorced   \n",
       "\n",
       "            Occupation   Race     Sex Capital.Gain Hours.per.week Country  \\\n",
       "0       Prof-specialty  White    Male            0             40      US   \n",
       "1         Adm-clerical  Black    Male            0             64  Non-US   \n",
       "2        Other-service  White    Male            0             40      US   \n",
       "3        Other-service  White    Male            0             40      US   \n",
       "4       Prof-specialty  White    Male         2062             40      US   \n",
       "...                ...    ...     ...          ...            ...     ...   \n",
       "32395    Other-service  White  Female            0             50      US   \n",
       "32396   Prof-specialty  White    Male            0             41      US   \n",
       "32397                ?  White  Female            0             40      US   \n",
       "32398                ?  White    Male         5455             40      US   \n",
       "32399  Exec-managerial  White    Male            0             40      US   \n",
       "\n",
       "      Salary  \n",
       "0      <=50K  \n",
       "1      <=50K  \n",
       "2      <=50K  \n",
       "3      <=50K  \n",
       "4      <=50K  \n",
       "...      ...  \n",
       "32395  <=50K  \n",
       "32396  <=50K  \n",
       "32397  <=50K  \n",
       "32398  <=50K  \n",
       "32399   >50K  \n",
       "\n",
       "[32400 rows x 13 columns]"
      ]
     },
     "execution_count": 8,
     "metadata": {},
     "output_type": "execute_result"
    }
   ],
   "source": [
    "tgan_synthetic_data"
   ]
  },
  {
   "cell_type": "code",
   "execution_count": 2,
   "id": "93b21a53",
   "metadata": {},
   "outputs": [],
   "source": [
    "n_synthetic_datasets = 5\n",
    "dataset_dir = \".//Datasets//\"\n",
    "dataset_gen_dir = os.path.join(dataset_dir, \"Generated_for_pred_eval_adult//\")\n",
    "data_train = pd.read_csv(os.path.join(dataset_dir, \"df_adult_edited_train.csv\"), index_col = 0)"
   ]
  },
  {
   "cell_type": "code",
   "execution_count": 3,
   "id": "0a22793a",
   "metadata": {},
   "outputs": [
    {
     "name": "stdout",
     "output_type": "stream",
     "text": [
      "WARNING:tensorflow:From C:\\Users\\Arne\\AppData\\Local\\Temp/ipykernel_7268/2011735150.py:7: The name tf.reset_default_graph is deprecated. Please use tf.compat.v1.reset_default_graph instead.\n",
      "\n",
      "WARNING:tensorflow:From C:\\Users\\Arne\\anaconda3\\envs\\tfv1\\lib\\site-packages\\tensorpack\\graph_builder\\model_desc.py:29: The name tf.get_default_graph is deprecated. Please use tf.compat.v1.get_default_graph instead.\n",
      "\n",
      "WARNING:tensorflow:From C:\\Users\\Arne\\anaconda3\\envs\\tfv1\\lib\\site-packages\\tensorpack\\graph_builder\\model_desc.py:39: The name tf.placeholder is deprecated. Please use tf.compat.v1.placeholder instead.\n",
      "\n",
      "WARNING:tensorflow:From C:\\Users\\Arne\\anaconda3\\envs\\tfv1\\lib\\site-packages\\tensorpack\\input_source\\input_source.py:219: The name tf.FIFOQueue is deprecated. Please use tf.queue.FIFOQueue instead.\n",
      "\n",
      "\u001b[32m[1229 16:14:21 @input_source.py:222]\u001b[0m Setting up the queue 'QueueInput/input_queue' for CPU prefetching ...\n",
      "WARNING:tensorflow:From C:\\Users\\Arne\\anaconda3\\envs\\tfv1\\lib\\site-packages\\tensorpack\\tfutils\\summary.py:237: The name tf.get_variable_scope is deprecated. Please use tf.compat.v1.get_variable_scope instead.\n",
      "\n",
      "WARNING:tensorflow:From C:\\Users\\Arne\\anaconda3\\envs\\tfv1\\lib\\site-packages\\tensorpack\\tfutils\\summary.py:27: The name tf.variable_scope is deprecated. Please use tf.compat.v1.variable_scope instead.\n",
      "\n",
      "WARNING:tensorflow:From C:\\Users\\Arne\\anaconda3\\envs\\tfv1\\lib\\site-packages\\tensorpack\\tfutils\\summary.py:254: The name tf.get_variable is deprecated. Please use tf.compat.v1.get_variable instead.\n",
      "\n",
      "WARNING:tensorflow:From C:\\Users\\Arne\\anaconda3\\envs\\tfv1\\lib\\site-packages\\tensorpack\\tfutils\\summary.py:264: The name tf.summary.scalar is deprecated. Please use tf.compat.v1.summary.scalar instead.\n",
      "\n",
      "WARNING:tensorflow:From C:\\Users\\Arne\\anaconda3\\envs\\tfv1\\lib\\site-packages\\tensorpack\\tfutils\\collection.py:105: The name tf.GraphKeys is deprecated. Please use tf.compat.v1.GraphKeys instead.\n",
      "\n",
      "WARNING:tensorflow:From C:\\Users\\Arne\\anaconda3\\envs\\tfv1\\lib\\site-packages\\tensorpack\\tfutils\\collection.py:33: The name tf.get_collection is deprecated. Please use tf.compat.v1.get_collection instead.\n",
      "\n",
      "WARNING:tensorflow:From C:\\Users\\Arne\\anaconda3\\envs\\tfv1\\lib\\site-packages\\tgan\\model.py:455: The name tf.random_normal is deprecated. Please use tf.random.normal instead.\n",
      "\n",
      "WARNING:tensorflow:From C:\\Users\\Arne\\anaconda3\\envs\\tfv1\\lib\\site-packages\\tgan\\model.py:458: The name tf.placeholder_with_default is deprecated. Please use tf.compat.v1.placeholder_with_default instead.\n",
      "\n",
      "WARNING:tensorflow:From C:\\Users\\Arne\\anaconda3\\envs\\tfv1\\lib\\site-packages\\tgan\\model.py:259: LSTMCell.__init__ (from tensorflow.python.ops.rnn_cell_impl) is deprecated and will be removed in a future version.\n",
      "Instructions for updating:\n",
      "This class is equivalent as tf.keras.layers.LSTMCell, and will be replaced by that in Tensorflow 2.0.\n",
      "WARNING:tensorflow:From C:\\Users\\Arne\\anaconda3\\envs\\tfv1\\lib\\site-packages\\tensorflow_core\\python\\ops\\rnn_cell_impl.py:958: Layer.add_variable (from tensorflow.python.keras.engine.base_layer) is deprecated and will be removed in a future version.\n",
      "Instructions for updating:\n",
      "Please use `layer.add_weight` method instead.\n",
      "WARNING:tensorflow:From C:\\Users\\Arne\\anaconda3\\envs\\tfv1\\lib\\site-packages\\tensorflow_core\\python\\ops\\rnn_cell_impl.py:962: calling Zeros.__init__ (from tensorflow.python.ops.init_ops) with dtype is deprecated and will be removed in a future version.\n",
      "Instructions for updating:\n",
      "Call initializer instance with the dtype argument instead of passing it to the constructor\n",
      "\u001b[32m[1229 16:14:21 @registry.py:126]\u001b[0m gen/LSTM/00/FC input: [200, 100]\n",
      "WARNING:tensorflow:From C:\\Users\\Arne\\anaconda3\\envs\\tfv1\\lib\\site-packages\\tensorpack\\models\\fc.py:57: The name tf.layers.Dense is deprecated. Please use tf.compat.v1.layers.Dense instead.\n",
      "\n",
      "WARNING:tensorflow:From C:\\Users\\Arne\\anaconda3\\envs\\tfv1\\lib\\site-packages\\tensorpack\\models\\fc.py:67: Layer.apply (from tensorflow.python.keras.engine.base_layer) is deprecated and will be removed in a future version.\n",
      "Instructions for updating:\n",
      "Please use `layer.__call__` method instead.\n",
      "\u001b[32m[1229 16:14:21 @registry.py:134]\u001b[0m gen/LSTM/00/FC output: [200, 100]\n",
      "\u001b[32m[1229 16:14:21 @registry.py:126]\u001b[0m gen/LSTM/00/FC2 input: [200, 100]\n",
      "\u001b[32m[1229 16:14:21 @registry.py:134]\u001b[0m gen/LSTM/00/FC2 output: [200, 73]\n",
      "\u001b[32m[1229 16:14:21 @registry.py:126]\u001b[0m gen/LSTM/00/FC3 input: [200, 73]\n",
      "\u001b[32m[1229 16:14:21 @registry.py:134]\u001b[0m gen/LSTM/00/FC3 output: [200, 100]\n",
      "\u001b[32m[1229 16:14:21 @registry.py:126]\u001b[0m gen/LSTM/01/FC input: [200, 100]\n",
      "\u001b[32m[1229 16:14:21 @registry.py:134]\u001b[0m gen/LSTM/01/FC output: [200, 100]\n",
      "\u001b[32m[1229 16:14:21 @registry.py:126]\u001b[0m gen/LSTM/01/FC2 input: [200, 100]\n",
      "\u001b[32m[1229 16:14:21 @registry.py:134]\u001b[0m gen/LSTM/01/FC2 output: [200, 3]\n",
      "\u001b[32m[1229 16:14:21 @registry.py:126]\u001b[0m gen/LSTM/01/FC3 input: [200, 3]\n",
      "\u001b[32m[1229 16:14:21 @registry.py:134]\u001b[0m gen/LSTM/01/FC3 output: [200, 100]\n",
      "\u001b[32m[1229 16:14:21 @registry.py:126]\u001b[0m gen/LSTM/02/FC input: [200, 100]\n",
      "\u001b[32m[1229 16:14:21 @registry.py:134]\u001b[0m gen/LSTM/02/FC output: [200, 100]\n",
      "\u001b[32m[1229 16:14:21 @registry.py:126]\u001b[0m gen/LSTM/02/FC2 input: [200, 100]\n",
      "\u001b[32m[1229 16:14:21 @registry.py:134]\u001b[0m gen/LSTM/02/FC2 output: [200, 14758]\n",
      "\u001b[32m[1229 16:14:21 @registry.py:126]\u001b[0m gen/LSTM/02/FC3 input: [200, 14758]\n",
      "\u001b[32m[1229 16:14:21 @registry.py:134]\u001b[0m gen/LSTM/02/FC3 output: [200, 100]\n",
      "\u001b[32m[1229 16:14:21 @registry.py:126]\u001b[0m gen/LSTM/03/FC input: [200, 100]\n",
      "\u001b[32m[1229 16:14:21 @registry.py:134]\u001b[0m gen/LSTM/03/FC output: [200, 100]\n",
      "\u001b[32m[1229 16:14:21 @registry.py:126]\u001b[0m gen/LSTM/03/FC2 input: [200, 100]\n",
      "\u001b[32m[1229 16:14:21 @registry.py:134]\u001b[0m gen/LSTM/03/FC2 output: [200, 9]\n",
      "\u001b[32m[1229 16:14:21 @registry.py:126]\u001b[0m gen/LSTM/03/FC3 input: [200, 9]\n",
      "\u001b[32m[1229 16:14:21 @registry.py:134]\u001b[0m gen/LSTM/03/FC3 output: [200, 100]\n",
      "\u001b[32m[1229 16:14:21 @registry.py:126]\u001b[0m gen/LSTM/04/FC input: [200, 100]\n",
      "\u001b[32m[1229 16:14:21 @registry.py:134]\u001b[0m gen/LSTM/04/FC output: [200, 100]\n",
      "\u001b[32m[1229 16:14:21 @registry.py:126]\u001b[0m gen/LSTM/04/FC2 input: [200, 100]\n",
      "\u001b[32m[1229 16:14:21 @registry.py:134]\u001b[0m gen/LSTM/04/FC2 output: [200, 16]\n",
      "\u001b[32m[1229 16:14:21 @registry.py:126]\u001b[0m gen/LSTM/04/FC3 input: [200, 16]\n",
      "\u001b[32m[1229 16:14:21 @registry.py:134]\u001b[0m gen/LSTM/04/FC3 output: [200, 100]\n",
      "\u001b[32m[1229 16:14:21 @registry.py:126]\u001b[0m gen/LSTM/05/FC input: [200, 100]\n",
      "\u001b[32m[1229 16:14:21 @registry.py:134]\u001b[0m gen/LSTM/05/FC output: [200, 100]\n",
      "\u001b[32m[1229 16:14:21 @registry.py:126]\u001b[0m gen/LSTM/05/FC2 input: [200, 100]\n",
      "\u001b[32m[1229 16:14:21 @registry.py:134]\u001b[0m gen/LSTM/05/FC2 output: [200, 5]\n",
      "\u001b[32m[1229 16:14:21 @registry.py:126]\u001b[0m gen/LSTM/05/FC3 input: [200, 5]\n",
      "\u001b[32m[1229 16:14:21 @registry.py:134]\u001b[0m gen/LSTM/05/FC3 output: [200, 100]\n",
      "\u001b[32m[1229 16:14:21 @registry.py:126]\u001b[0m gen/LSTM/06/FC input: [200, 100]\n",
      "\u001b[32m[1229 16:14:21 @registry.py:134]\u001b[0m gen/LSTM/06/FC output: [200, 100]\n",
      "\u001b[32m[1229 16:14:21 @registry.py:126]\u001b[0m gen/LSTM/06/FC2 input: [200, 100]\n",
      "\u001b[32m[1229 16:14:21 @registry.py:134]\u001b[0m gen/LSTM/06/FC2 output: [200, 15]\n",
      "\u001b[32m[1229 16:14:21 @registry.py:126]\u001b[0m gen/LSTM/06/FC3 input: [200, 15]\n",
      "\u001b[32m[1229 16:14:21 @registry.py:134]\u001b[0m gen/LSTM/06/FC3 output: [200, 100]\n",
      "\u001b[32m[1229 16:14:21 @registry.py:126]\u001b[0m gen/LSTM/07/FC input: [200, 100]\n",
      "\u001b[32m[1229 16:14:21 @registry.py:134]\u001b[0m gen/LSTM/07/FC output: [200, 100]\n",
      "\u001b[32m[1229 16:14:21 @registry.py:126]\u001b[0m gen/LSTM/07/FC2 input: [200, 100]\n",
      "\u001b[32m[1229 16:14:21 @registry.py:134]\u001b[0m gen/LSTM/07/FC2 output: [200, 5]\n",
      "\u001b[32m[1229 16:14:21 @registry.py:126]\u001b[0m gen/LSTM/07/FC3 input: [200, 5]\n",
      "\u001b[32m[1229 16:14:21 @registry.py:134]\u001b[0m gen/LSTM/07/FC3 output: [200, 100]\n",
      "\u001b[32m[1229 16:14:21 @registry.py:126]\u001b[0m gen/LSTM/08/FC input: [200, 100]\n",
      "\u001b[32m[1229 16:14:21 @registry.py:134]\u001b[0m gen/LSTM/08/FC output: [200, 100]\n",
      "\u001b[32m[1229 16:14:21 @registry.py:126]\u001b[0m gen/LSTM/08/FC2 input: [200, 100]\n",
      "\u001b[32m[1229 16:14:21 @registry.py:134]\u001b[0m gen/LSTM/08/FC2 output: [200, 2]\n",
      "\u001b[32m[1229 16:14:21 @registry.py:126]\u001b[0m gen/LSTM/08/FC3 input: [200, 2]\n",
      "\u001b[32m[1229 16:14:22 @registry.py:134]\u001b[0m gen/LSTM/08/FC3 output: [200, 100]\n",
      "\u001b[32m[1229 16:14:22 @registry.py:126]\u001b[0m gen/LSTM/09/FC input: [200, 100]\n"
     ]
    },
    {
     "name": "stdout",
     "output_type": "stream",
     "text": [
      "\u001b[32m[1229 16:14:22 @registry.py:134]\u001b[0m gen/LSTM/09/FC output: [200, 100]\n",
      "\u001b[32m[1229 16:14:22 @registry.py:126]\u001b[0m gen/LSTM/09/FC2 input: [200, 100]\n",
      "\u001b[32m[1229 16:14:22 @registry.py:134]\u001b[0m gen/LSTM/09/FC2 output: [200, 115]\n",
      "\u001b[32m[1229 16:14:22 @registry.py:126]\u001b[0m gen/LSTM/09/FC3 input: [200, 115]\n",
      "\u001b[32m[1229 16:14:22 @registry.py:134]\u001b[0m gen/LSTM/09/FC3 output: [200, 100]\n",
      "\u001b[32m[1229 16:14:22 @registry.py:126]\u001b[0m gen/LSTM/10/FC input: [200, 100]\n",
      "\u001b[32m[1229 16:14:22 @registry.py:134]\u001b[0m gen/LSTM/10/FC output: [200, 100]\n",
      "\u001b[32m[1229 16:14:22 @registry.py:126]\u001b[0m gen/LSTM/10/FC2 input: [200, 100]\n",
      "\u001b[32m[1229 16:14:22 @registry.py:134]\u001b[0m gen/LSTM/10/FC2 output: [200, 92]\n",
      "\u001b[32m[1229 16:14:22 @registry.py:126]\u001b[0m gen/LSTM/10/FC3 input: [200, 92]\n",
      "\u001b[32m[1229 16:14:22 @registry.py:134]\u001b[0m gen/LSTM/10/FC3 output: [200, 100]\n",
      "\u001b[32m[1229 16:14:22 @registry.py:126]\u001b[0m gen/LSTM/11/FC input: [200, 100]\n",
      "\u001b[32m[1229 16:14:22 @registry.py:134]\u001b[0m gen/LSTM/11/FC output: [200, 100]\n",
      "\u001b[32m[1229 16:14:22 @registry.py:126]\u001b[0m gen/LSTM/11/FC2 input: [200, 100]\n",
      "\u001b[32m[1229 16:14:22 @registry.py:134]\u001b[0m gen/LSTM/11/FC2 output: [200, 2]\n",
      "\u001b[32m[1229 16:14:22 @registry.py:126]\u001b[0m gen/LSTM/11/FC3 input: [200, 2]\n",
      "\u001b[32m[1229 16:14:22 @registry.py:134]\u001b[0m gen/LSTM/11/FC3 output: [200, 100]\n",
      "\u001b[32m[1229 16:14:22 @registry.py:126]\u001b[0m gen/LSTM/12/FC input: [200, 100]\n",
      "\u001b[32m[1229 16:14:22 @registry.py:134]\u001b[0m gen/LSTM/12/FC output: [200, 100]\n",
      "\u001b[32m[1229 16:14:22 @registry.py:126]\u001b[0m gen/LSTM/12/FC2 input: [200, 100]\n",
      "\u001b[32m[1229 16:14:22 @registry.py:134]\u001b[0m gen/LSTM/12/FC2 output: [200, 2]\n",
      "\u001b[32m[1229 16:14:22 @registry.py:126]\u001b[0m gen/LSTM/12/FC3 input: [200, 2]\n",
      "\u001b[32m[1229 16:14:22 @registry.py:134]\u001b[0m gen/LSTM/12/FC3 output: [200, 100]\n",
      "WARNING:tensorflow:From C:\\Users\\Arne\\anaconda3\\envs\\tfv1\\lib\\site-packages\\tgan\\model.py:494: The name tf.random_uniform is deprecated. Please use tf.random.uniform instead.\n",
      "\n",
      "WARNING:tensorflow:From C:\\Users\\Arne\\anaconda3\\envs\\tfv1\\lib\\site-packages\\tgan\\model.py:443: The name tf.log is deprecated. Please use tf.math.log instead.\n",
      "\n",
      "\u001b[32m[1229 16:14:22 @registry.py:126]\u001b[0m discrim/dis_fc0/fc input: [200, 15097]\n",
      "\u001b[32m[1229 16:14:22 @registry.py:134]\u001b[0m discrim/dis_fc0/fc output: [200, 256]\n",
      "\u001b[32m[1229 16:14:22 @registry.py:126]\u001b[0m discrim/dis_fc0/fc_diversity input: [200, 256]\n",
      "\u001b[32m[1229 16:14:22 @registry.py:134]\u001b[0m discrim/dis_fc0/fc_diversity output: [200, 100]\n",
      "WARNING:tensorflow:From C:\\Users\\Arne\\anaconda3\\envs\\tfv1\\lib\\site-packages\\tensorpack\\models\\batch_norm.py:204: The name tf.layers.BatchNormalization is deprecated. Please use tf.compat.v1.layers.BatchNormalization instead.\n",
      "\n",
      "WARNING:tensorflow:From C:\\Users\\Arne\\anaconda3\\envs\\tfv1\\lib\\site-packages\\tensorpack\\models\\batch_norm.py:212: The name tf.add_to_collection is deprecated. Please use tf.compat.v1.add_to_collection instead.\n",
      "\n",
      "\u001b[32m[1229 16:14:22 @registry.py:126]\u001b[0m discrim/dis_fc_top input: [200, 266]\n",
      "\u001b[32m[1229 16:14:22 @registry.py:134]\u001b[0m discrim/dis_fc_top output: [200, 1]\n",
      "WARNING:tensorflow:From C:\\Users\\Arne\\anaconda3\\envs\\tfv1\\lib\\site-packages\\tgan\\model.py:118: The name tf.summary.histogram is deprecated. Please use tf.compat.v1.summary.histogram instead.\n",
      "\n",
      "WARNING:tensorflow:From C:\\Users\\Arne\\anaconda3\\envs\\tfv1\\lib\\site-packages\\tensorflow_core\\python\\ops\\nn_impl.py:183: where (from tensorflow.python.ops.array_ops) is deprecated and will be removed in a future version.\n",
      "Instructions for updating:\n",
      "Use tf.where in 2.0, which has the same broadcast rule as np.where\n",
      "WARNING:tensorflow:\n",
      "The TensorFlow contrib module will not be included in TensorFlow 2.0.\n",
      "For more information, please see:\n",
      "  * https://github.com/tensorflow/community/blob/master/rfcs/20180907-contrib-sunset.md\n",
      "  * https://github.com/tensorflow/addons\n",
      "  * https://github.com/tensorflow/io (for I/O related ops)\n",
      "If you depend on functionality not listed there, please file an issue.\n",
      "\n",
      "WARNING:tensorflow:From C:\\Users\\Arne\\anaconda3\\envs\\tfv1\\lib\\site-packages\\tgan\\model.py:551: The name tf.train.AdamOptimizer is deprecated. Please use tf.compat.v1.train.AdamOptimizer instead.\n",
      "\n",
      "\u001b[32m[1229 16:14:26 @logger.py:90]\u001b[0m Argv: C:\\Users\\Arne\\anaconda3\\envs\\tfv1\\lib\\site-packages\\ipykernel_launcher.py -f C:\\Users\\Arne\\AppData\\Roaming\\jupyter\\runtime\\kernel-35999244-15d2-4577-bec3-c5600cbe31b7.json\n",
      "WARNING:tensorflow:From C:\\Users\\Arne\\anaconda3\\envs\\tfv1\\lib\\site-packages\\tensorpack\\callbacks\\saver.py:43: The name tf.gfile.IsDirectory is deprecated. Please use tf.io.gfile.isdir instead.\n",
      "\n",
      "WARNING:tensorflow:From C:\\Users\\Arne\\anaconda3\\envs\\tfv1\\lib\\site-packages\\tensorpack\\callbacks\\saver.py:44: The name tf.gfile.MakeDirs is deprecated. Please use tf.io.gfile.makedirs instead.\n",
      "\n",
      "WARNING:tensorflow:From C:\\Users\\Arne\\anaconda3\\envs\\tfv1\\lib\\site-packages\\tensorpack\\tfutils\\common.py:41: The name tf.ConfigProto is deprecated. Please use tf.compat.v1.ConfigProto instead.\n",
      "\n",
      "\u001b[32m[1229 16:14:26 @model_utils.py:67]\u001b[0m \u001b[36mList of Trainable Variables: \n",
      "\u001b[0mname                              shape           #elements\n",
      "--------------------------------  ------------  -----------\n",
      "gen/LSTM/go:0                     [1, 100]              100\n",
      "gen/LSTM/lstm_cell/kernel:0       [500, 400]         200000\n",
      "gen/LSTM/lstm_cell/bias:0         [400]                 400\n",
      "gen/LSTM/00/FC/W:0                [100, 100]          10000\n",
      "gen/LSTM/00/FC/b:0                [100]                 100\n",
      "gen/LSTM/00/FC2/W:0               [100, 73]            7300\n",
      "gen/LSTM/00/FC2/b:0               [73]                   73\n",
      "gen/LSTM/00/FC3/W:0               [73, 100]            7300\n",
      "gen/LSTM/00/FC3/b:0               [100]                 100\n",
      "gen/LSTM/00/attw:0                [1, 1, 1]               1\n",
      "gen/LSTM/01/FC/W:0                [100, 100]          10000\n",
      "gen/LSTM/01/FC/b:0                [100]                 100\n",
      "gen/LSTM/01/FC2/W:0               [100, 3]              300\n",
      "gen/LSTM/01/FC2/b:0               [3]                     3\n",
      "gen/LSTM/01/FC3/W:0               [3, 100]              300\n",
      "gen/LSTM/01/FC3/b:0               [100]                 100\n",
      "gen/LSTM/01/attw:0                [2, 1, 1]               2\n",
      "gen/LSTM/02/FC/W:0                [100, 100]          10000\n",
      "gen/LSTM/02/FC/b:0                [100]                 100\n",
      "gen/LSTM/02/FC2/W:0               [100, 14758]      1475800\n",
      "gen/LSTM/02/FC2/b:0               [14758]             14758\n",
      "gen/LSTM/02/FC3/W:0               [14758, 100]      1475800\n",
      "gen/LSTM/02/FC3/b:0               [100]                 100\n",
      "gen/LSTM/02/attw:0                [3, 1, 1]               3\n",
      "gen/LSTM/03/FC/W:0                [100, 100]          10000\n",
      "gen/LSTM/03/FC/b:0                [100]                 100\n",
      "gen/LSTM/03/FC2/W:0               [100, 9]              900\n",
      "gen/LSTM/03/FC2/b:0               [9]                     9\n",
      "gen/LSTM/03/FC3/W:0               [9, 100]              900\n",
      "gen/LSTM/03/FC3/b:0               [100]                 100\n",
      "gen/LSTM/03/attw:0                [4, 1, 1]               4\n",
      "gen/LSTM/04/FC/W:0                [100, 100]          10000\n",
      "gen/LSTM/04/FC/b:0                [100]                 100\n",
      "gen/LSTM/04/FC2/W:0               [100, 16]            1600\n",
      "gen/LSTM/04/FC2/b:0               [16]                   16\n",
      "gen/LSTM/04/FC3/W:0               [16, 100]            1600\n",
      "gen/LSTM/04/FC3/b:0               [100]                 100\n",
      "gen/LSTM/04/attw:0                [5, 1, 1]               5\n",
      "gen/LSTM/05/FC/W:0                [100, 100]          10000\n",
      "gen/LSTM/05/FC/b:0                [100]                 100\n",
      "gen/LSTM/05/FC2/W:0               [100, 5]              500\n",
      "gen/LSTM/05/FC2/b:0               [5]                     5\n",
      "gen/LSTM/05/FC3/W:0               [5, 100]              500\n",
      "gen/LSTM/05/FC3/b:0               [100]                 100\n",
      "gen/LSTM/05/attw:0                [6, 1, 1]               6\n",
      "gen/LSTM/06/FC/W:0                [100, 100]          10000\n",
      "gen/LSTM/06/FC/b:0                [100]                 100\n",
      "gen/LSTM/06/FC2/W:0               [100, 15]            1500\n",
      "gen/LSTM/06/FC2/b:0               [15]                   15\n",
      "gen/LSTM/06/FC3/W:0               [15, 100]            1500\n",
      "gen/LSTM/06/FC3/b:0               [100]                 100\n",
      "gen/LSTM/06/attw:0                [7, 1, 1]               7\n",
      "gen/LSTM/07/FC/W:0                [100, 100]          10000\n",
      "gen/LSTM/07/FC/b:0                [100]                 100\n",
      "gen/LSTM/07/FC2/W:0               [100, 5]              500\n",
      "gen/LSTM/07/FC2/b:0               [5]                     5\n",
      "gen/LSTM/07/FC3/W:0               [5, 100]              500\n",
      "gen/LSTM/07/FC3/b:0               [100]                 100\n",
      "gen/LSTM/07/attw:0                [8, 1, 1]               8\n",
      "gen/LSTM/08/FC/W:0                [100, 100]          10000\n",
      "gen/LSTM/08/FC/b:0                [100]                 100\n",
      "gen/LSTM/08/FC2/W:0               [100, 2]              200\n",
      "gen/LSTM/08/FC2/b:0               [2]                     2\n",
      "gen/LSTM/08/FC3/W:0               [2, 100]              200\n",
      "gen/LSTM/08/FC3/b:0               [100]                 100\n",
      "gen/LSTM/08/attw:0                [9, 1, 1]               9\n",
      "gen/LSTM/09/FC/W:0                [100, 100]          10000\n",
      "gen/LSTM/09/FC/b:0                [100]                 100\n",
      "gen/LSTM/09/FC2/W:0               [100, 115]          11500\n",
      "gen/LSTM/09/FC2/b:0               [115]                 115\n",
      "gen/LSTM/09/FC3/W:0               [115, 100]          11500\n",
      "gen/LSTM/09/FC3/b:0               [100]                 100\n",
      "gen/LSTM/09/attw:0                [10, 1, 1]             10\n",
      "gen/LSTM/10/FC/W:0                [100, 100]          10000\n",
      "gen/LSTM/10/FC/b:0                [100]                 100\n",
      "gen/LSTM/10/FC2/W:0               [100, 92]            9200\n",
      "gen/LSTM/10/FC2/b:0               [92]                   92\n",
      "gen/LSTM/10/FC3/W:0               [92, 100]            9200\n",
      "gen/LSTM/10/FC3/b:0               [100]                 100\n",
      "gen/LSTM/10/attw:0                [11, 1, 1]             11\n",
      "gen/LSTM/11/FC/W:0                [100, 100]          10000\n",
      "gen/LSTM/11/FC/b:0                [100]                 100\n",
      "gen/LSTM/11/FC2/W:0               [100, 2]              200\n",
      "gen/LSTM/11/FC2/b:0               [2]                     2\n",
      "gen/LSTM/11/FC3/W:0               [2, 100]              200\n",
      "gen/LSTM/11/FC3/b:0               [100]                 100\n",
      "gen/LSTM/11/attw:0                [12, 1, 1]             12\n",
      "gen/LSTM/12/FC/W:0                [100, 100]          10000\n",
      "gen/LSTM/12/FC/b:0                [100]                 100\n",
      "gen/LSTM/12/FC2/W:0               [100, 2]              200\n",
      "gen/LSTM/12/FC2/b:0               [2]                     2\n",
      "gen/LSTM/12/FC3/W:0               [2, 100]              200\n",
      "gen/LSTM/12/FC3/b:0               [100]                 100\n",
      "gen/LSTM/12/attw:0                [13, 1, 1]             13\n",
      "discrim/dis_fc0/fc/W:0            [15097, 256]      3864832\n",
      "discrim/dis_fc0/fc/b:0            [256]                 256\n",
      "discrim/dis_fc0/fc_diversity/W:0  [256, 100]          25600\n",
      "discrim/dis_fc0/fc_diversity/b:0  [100]                 100\n",
      "discrim/dis_fc0/bn/beta:0         [266]                 266\n",
      "discrim/dis_fc_top/W:0            [266, 1]              266\n",
      "discrim/dis_fc_top/b:0            [1]                     1\u001b[36m\n",
      "Number of trainable variables: 101\n",
      "Number of parameters (elements): 7259009\n",
      "Storage space needed for all trainable variables: 27.69MB\u001b[0m\n"
     ]
    },
    {
     "name": "stdout",
     "output_type": "stream",
     "text": [
      "\u001b[32m[1229 16:14:26 @base.py:209]\u001b[0m Setup callbacks graph ...\n",
      "WARNING:tensorflow:From C:\\Users\\Arne\\anaconda3\\envs\\tfv1\\lib\\site-packages\\tensorpack\\callbacks\\graph.py:54: The name tf.train.SessionRunArgs is deprecated. Please use tf.estimator.SessionRunArgs instead.\n",
      "\n",
      "WARNING:tensorflow:From C:\\Users\\Arne\\anaconda3\\envs\\tfv1\\lib\\site-packages\\tensorpack\\tfutils\\common.py:75: The name tf.VariableScope is deprecated. Please use tf.compat.v1.VariableScope instead.\n",
      "\n",
      "WARNING:tensorflow:From C:\\Users\\Arne\\anaconda3\\envs\\tfv1\\lib\\site-packages\\tensorpack\\tfutils\\common.py:77: The name tf.train.get_or_create_global_step is deprecated. Please use tf.compat.v1.train.get_or_create_global_step instead.\n",
      "\n",
      "WARNING:tensorflow:From C:\\Users\\Arne\\anaconda3\\envs\\tfv1\\lib\\site-packages\\tensorpack\\callbacks\\steps.py:117: The name tf.assign_add is deprecated. Please use tf.compat.v1.assign_add instead.\n",
      "\n",
      "WARNING:tensorflow:From C:\\Users\\Arne\\anaconda3\\envs\\tfv1\\lib\\site-packages\\tensorpack\\callbacks\\saver.py:55: The name tf.train.Saver is deprecated. Please use tf.compat.v1.train.Saver instead.\n",
      "\n",
      "WARNING:tensorflow:From C:\\Users\\Arne\\anaconda3\\envs\\tfv1\\lib\\site-packages\\tensorpack\\callbacks\\saver.py:59: The name tf.train.SaverDef is deprecated. Please use tf.compat.v1.train.SaverDef instead.\n",
      "\n",
      "\u001b[32m[1229 16:14:26 @summary.py:46]\u001b[0m [MovingAverageSummary] 6 operations in collection 'MOVING_SUMMARY_OPS' will be run with session hooks.\n",
      "\u001b[32m[1229 16:14:26 @summary.py:93]\u001b[0m Summarizing collection 'summaries' of size 9.\n",
      "WARNING:tensorflow:From C:\\Users\\Arne\\anaconda3\\envs\\tfv1\\lib\\site-packages\\tensorpack\\callbacks\\summary.py:94: The name tf.summary.merge_all is deprecated. Please use tf.compat.v1.summary.merge_all instead.\n",
      "\n",
      "\u001b[32m[1229 16:14:26 @graph.py:98]\u001b[0m Applying collection UPDATE_OPS of 4 ops.\n",
      "WARNING:tensorflow:From C:\\Users\\Arne\\anaconda3\\envs\\tfv1\\lib\\site-packages\\tensorpack\\callbacks\\monitor.py:261: The name tf.summary.FileWriter is deprecated. Please use tf.compat.v1.summary.FileWriter instead.\n",
      "\n",
      "\u001b[32m[1229 16:14:27 @base.py:230]\u001b[0m Creating the session ...\n",
      "WARNING:tensorflow:From C:\\Users\\Arne\\anaconda3\\envs\\tfv1\\lib\\site-packages\\tensorpack\\tfutils\\sesscreate.py:42: The name tf.Session is deprecated. Please use tf.compat.v1.Session instead.\n",
      "\n",
      "WARNING:tensorflow:From C:\\Users\\Arne\\anaconda3\\envs\\tfv1\\lib\\site-packages\\tensorpack\\tfutils\\sesscreate.py:71: The name tf.global_variables_initializer is deprecated. Please use tf.compat.v1.global_variables_initializer instead.\n",
      "\n",
      "WARNING:tensorflow:From C:\\Users\\Arne\\anaconda3\\envs\\tfv1\\lib\\site-packages\\tensorpack\\tfutils\\sesscreate.py:62: get_backward_walk_ops (from tensorflow.contrib.graph_editor.select) is deprecated and will be removed after 2019-06-06.\n",
      "Instructions for updating:\n",
      "Please use tensorflow.python.ops.op_selector.get_backward_walk_ops.\n",
      "WARNING:tensorflow:From C:\\Users\\Arne\\anaconda3\\envs\\tfv1\\lib\\site-packages\\tensorpack\\tfutils\\sesscreate.py:72: The name tf.local_variables_initializer is deprecated. Please use tf.compat.v1.local_variables_initializer instead.\n",
      "\n",
      "WARNING:tensorflow:From C:\\Users\\Arne\\anaconda3\\envs\\tfv1\\lib\\site-packages\\tensorpack\\tfutils\\sesscreate.py:73: The name tf.tables_initializer is deprecated. Please use tf.compat.v1.tables_initializer instead.\n",
      "\n",
      "WARNING:tensorflow:From C:\\Users\\Arne\\anaconda3\\envs\\tfv1\\lib\\site-packages\\tensorpack\\train\\base.py:254: The name tf.train.MonitoredSession is deprecated. Please use tf.compat.v1.train.MonitoredSession instead.\n",
      "\n",
      "\u001b[32m[1229 16:14:28 @base.py:236]\u001b[0m Initializing the session ...\n",
      "\u001b[32m[1229 16:14:28 @base.py:243]\u001b[0m Graph Finalized.\n",
      "WARNING:tensorflow:From C:\\Users\\Arne\\anaconda3\\envs\\tfv1\\lib\\site-packages\\tensorpack\\tfutils\\common.py:89: The name tf.train.global_step is deprecated. Please use tf.compat.v1.train.global_step instead.\n",
      "\n",
      "WARNING:tensorflow:From C:\\Users\\Arne\\anaconda3\\envs\\tfv1\\lib\\site-packages\\tensorpack\\tfutils\\common.py:90: The name tf.get_default_session is deprecated. Please use tf.compat.v1.get_default_session instead.\n",
      "\n",
      "\u001b[32m[1229 16:14:28 @concurrency.py:38]\u001b[0m Starting EnqueueThread QueueInput/input_queue ...\n",
      "WARNING:tensorflow:From C:\\Users\\Arne\\anaconda3\\envs\\tfv1\\lib\\site-packages\\tensorpack\\callbacks\\monitor.py:309: The name tf.gfile.Exists is deprecated. Please use tf.io.gfile.exists instead.\n",
      "\n",
      "\u001b[32m[1229 16:14:29 @base.py:275]\u001b[0m Start Epoch 1 ...\n"
     ]
    },
    {
     "name": "stderr",
     "output_type": "stream",
     "text": [
      " 95%|################################################################################6    |37/39[00:12<00:00, 3.38it/s]"
     ]
    },
    {
     "name": "stdout",
     "output_type": "stream",
     "text": [
      "WARNING:tensorflow:From C:\\Users\\Arne\\anaconda3\\envs\\tfv1\\lib\\site-packages\\tensorpack\\callbacks\\monitor.py:148: The name tf.Summary is deprecated. Please use tf.compat.v1.Summary instead.\n",
      "\n"
     ]
    },
    {
     "name": "stderr",
     "output_type": "stream",
     "text": [
      "100%|#####################################################################################|39/39[00:15<00:00, 2.54it/s]"
     ]
    },
    {
     "name": "stdout",
     "output_type": "stream",
     "text": [
      "\u001b[32m[1229 16:14:44 @base.py:285]\u001b[0m Epoch 1 (global_step 39) finished, time:15.3 seconds.\n",
      "WARNING:tensorflow:From C:\\Users\\Arne\\anaconda3\\envs\\tfv1\\lib\\site-packages\\tensorpack\\callbacks\\saver.py:77: The name tf.train.get_global_step is deprecated. Please use tf.compat.v1.train.get_global_step instead.\n",
      "\n"
     ]
    },
    {
     "name": "stderr",
     "output_type": "stream",
     "text": [
      "\n"
     ]
    },
    {
     "name": "stdout",
     "output_type": "stream",
     "text": [
      "\u001b[32m[1229 16:14:45 @saver.py:79]\u001b[0m Model saved to .//Model//temp_model\\TGAN0\\model\\model-39.\n",
      "\u001b[32m[1229 16:14:45 @monitor.py:467]\u001b[0m GAN_loss/discrim/accuracy_fake: 0.685\n",
      "\u001b[32m[1229 16:14:45 @monitor.py:467]\u001b[0m GAN_loss/discrim/accuracy_real: 0.37\n",
      "\u001b[32m[1229 16:14:45 @monitor.py:467]\u001b[0m GAN_loss/discrim/loss: 0.79854\n",
      "\u001b[32m[1229 16:14:45 @monitor.py:467]\u001b[0m GAN_loss/gen/final-g-loss: 1.163\n",
      "\u001b[32m[1229 16:14:45 @monitor.py:467]\u001b[0m GAN_loss/gen/klloss: 0.048213\n",
      "\u001b[32m[1229 16:14:45 @monitor.py:467]\u001b[0m GAN_loss/gen/loss: 1.1147\n",
      "\u001b[32m[1229 16:14:45 @monitor.py:467]\u001b[0m QueueInput/queue_size: 50\n",
      "\u001b[32m[1229 16:14:45 @base.py:275]\u001b[0m Start Epoch 2 ...\n"
     ]
    },
    {
     "name": "stderr",
     "output_type": "stream",
     "text": [
      "100%|#####################################################################################|39/39[00:11<00:00, 3.25it/s]"
     ]
    },
    {
     "name": "stdout",
     "output_type": "stream",
     "text": [
      "\u001b[32m[1229 16:14:57 @base.py:285]\u001b[0m Epoch 2 (global_step 78) finished, time:12 seconds.\n"
     ]
    },
    {
     "name": "stderr",
     "output_type": "stream",
     "text": [
      "\n"
     ]
    },
    {
     "name": "stdout",
     "output_type": "stream",
     "text": [
      "\u001b[32m[1229 16:14:57 @saver.py:79]\u001b[0m Model saved to .//Model//temp_model\\TGAN0\\model\\model-78.\n",
      "\u001b[32m[1229 16:14:57 @monitor.py:467]\u001b[0m GAN_loss/discrim/accuracy_fake: 0.725\n",
      "\u001b[32m[1229 16:14:57 @monitor.py:467]\u001b[0m GAN_loss/discrim/accuracy_real: 0.345\n",
      "\u001b[32m[1229 16:14:57 @monitor.py:467]\u001b[0m GAN_loss/discrim/loss: 0.69175\n",
      "\u001b[32m[1229 16:14:57 @monitor.py:467]\u001b[0m GAN_loss/gen/final-g-loss: 1.1337\n",
      "\u001b[32m[1229 16:14:57 @monitor.py:467]\u001b[0m GAN_loss/gen/klloss: 0.056019\n",
      "\u001b[32m[1229 16:14:57 @monitor.py:467]\u001b[0m GAN_loss/gen/loss: 1.0777\n",
      "\u001b[32m[1229 16:14:57 @monitor.py:467]\u001b[0m QueueInput/queue_size: 50\n",
      "\u001b[32m[1229 16:14:57 @base.py:289]\u001b[0m Training has finished!\n",
      "WARNING:tensorflow:From C:\\Users\\Arne\\anaconda3\\envs\\tfv1\\lib\\site-packages\\tensorpack\\predict\\config.py:101: The name tf.train.ChiefSessionCreator is deprecated. Please use tf.compat.v1.train.ChiefSessionCreator instead.\n",
      "\n",
      "\u001b[32m[1229 16:14:58 @input_source.py:178]\u001b[0m EnqueueThread QueueInput/input_queue Exited.\n",
      "WARNING:tensorflow:From C:\\Users\\Arne\\anaconda3\\envs\\tfv1\\lib\\site-packages\\tensorpack\\tfutils\\collection.py:45: The name tf.get_collection_ref is deprecated. Please use tf.compat.v1.get_collection_ref instead.\n",
      "\n",
      "\u001b[32m[1229 16:14:58 @collection.py:146]\u001b[0m New collections created in tower : tf.GraphKeys.REGULARIZATION_LOSSES\n",
      "\u001b[32m[1229 16:14:58 @collection.py:165]\u001b[0m These collections were modified but restored in : (tf.GraphKeys.SUMMARIES: 0->2)\n",
      "WARNING:tensorflow:From C:\\Users\\Arne\\anaconda3\\envs\\tfv1\\lib\\site-packages\\tensorpack\\tfutils\\sessinit.py:120: The name tf.train.NewCheckpointReader is deprecated. Please use tf.compat.v1.train.NewCheckpointReader instead.\n",
      "\n",
      "WARNING:tensorflow:From C:\\Users\\Arne\\anaconda3\\envs\\tfv1\\lib\\site-packages\\tensorpack\\tfutils\\sessinit.py:127: The name tf.global_variables is deprecated. Please use tf.compat.v1.global_variables instead.\n",
      "\n",
      "\u001b[32m[1229 16:14:58 @sessinit.py:87]\u001b[0m \u001b[5m\u001b[31mWRN\u001b[0m The following variables are in the checkpoint, but not found in the graph: global_step, optimize/beta1_power, optimize/beta2_power\n",
      "INFO:tensorflow:Graph was finalized.\n",
      "INFO:tensorflow:Running local_init_op.\n",
      "INFO:tensorflow:Done running local_init_op.\n",
      "\u001b[32m[1229 16:14:59 @sessinit.py:114]\u001b[0m Restoring checkpoint from .//Model//temp_model\\TGAN0\\model\\model-78 ...\n",
      "INFO:tensorflow:Restoring parameters from .//Model//temp_model\\TGAN0\\model\\model-78\n"
     ]
    },
    {
     "name": "stderr",
     "output_type": "stream",
     "text": [
      " 48%|########################################3                                           |96/200[00:08<00:08,11.69it/s]\n"
     ]
    },
    {
     "name": "stdout",
     "output_type": "stream",
     "text": [
      "\u001b[32m[1229 16:15:08 @input_source.py:222]\u001b[0m Setting up the queue 'QueueInput/input_queue' for CPU prefetching ...\n",
      "\u001b[32m[1229 16:15:12 @logger.py:90]\u001b[0m Argv: C:\\Users\\Arne\\anaconda3\\envs\\tfv1\\lib\\site-packages\\ipykernel_launcher.py -f C:\\Users\\Arne\\AppData\\Roaming\\jupyter\\runtime\\kernel-35999244-15d2-4577-bec3-c5600cbe31b7.json\n",
      "\u001b[32m[1229 16:15:12 @model_utils.py:67]\u001b[0m \u001b[36mList of Trainable Variables: \n",
      "\u001b[0mname                              shape           #elements\n",
      "--------------------------------  ------------  -----------\n",
      "gen/LSTM/go:0                     [1, 100]              100\n",
      "gen/LSTM/lstm_cell/kernel:0       [500, 400]         200000\n",
      "gen/LSTM/lstm_cell/bias:0         [400]                 400\n",
      "gen/LSTM/00/FC/W:0                [100, 100]          10000\n",
      "gen/LSTM/00/FC/b:0                [100]                 100\n",
      "gen/LSTM/00/FC2/W:0               [100, 73]            7300\n",
      "gen/LSTM/00/FC2/b:0               [73]                   73\n",
      "gen/LSTM/00/FC3/W:0               [73, 100]            7300\n",
      "gen/LSTM/00/FC3/b:0               [100]                 100\n",
      "gen/LSTM/00/attw:0                [1, 1, 1]               1\n",
      "gen/LSTM/01/FC/W:0                [100, 100]          10000\n",
      "gen/LSTM/01/FC/b:0                [100]                 100\n",
      "gen/LSTM/01/FC2/W:0               [100, 3]              300\n",
      "gen/LSTM/01/FC2/b:0               [3]                     3\n",
      "gen/LSTM/01/FC3/W:0               [3, 100]              300\n",
      "gen/LSTM/01/FC3/b:0               [100]                 100\n",
      "gen/LSTM/01/attw:0                [2, 1, 1]               2\n",
      "gen/LSTM/02/FC/W:0                [100, 100]          10000\n",
      "gen/LSTM/02/FC/b:0                [100]                 100\n",
      "gen/LSTM/02/FC2/W:0               [100, 14758]      1475800\n",
      "gen/LSTM/02/FC2/b:0               [14758]             14758\n",
      "gen/LSTM/02/FC3/W:0               [14758, 100]      1475800\n",
      "gen/LSTM/02/FC3/b:0               [100]                 100\n",
      "gen/LSTM/02/attw:0                [3, 1, 1]               3\n",
      "gen/LSTM/03/FC/W:0                [100, 100]          10000\n",
      "gen/LSTM/03/FC/b:0                [100]                 100\n",
      "gen/LSTM/03/FC2/W:0               [100, 9]              900\n",
      "gen/LSTM/03/FC2/b:0               [9]                     9\n",
      "gen/LSTM/03/FC3/W:0               [9, 100]              900\n",
      "gen/LSTM/03/FC3/b:0               [100]                 100\n",
      "gen/LSTM/03/attw:0                [4, 1, 1]               4\n",
      "gen/LSTM/04/FC/W:0                [100, 100]          10000\n",
      "gen/LSTM/04/FC/b:0                [100]                 100\n",
      "gen/LSTM/04/FC2/W:0               [100, 16]            1600\n",
      "gen/LSTM/04/FC2/b:0               [16]                   16\n",
      "gen/LSTM/04/FC3/W:0               [16, 100]            1600\n",
      "gen/LSTM/04/FC3/b:0               [100]                 100\n",
      "gen/LSTM/04/attw:0                [5, 1, 1]               5\n",
      "gen/LSTM/05/FC/W:0                [100, 100]          10000\n",
      "gen/LSTM/05/FC/b:0                [100]                 100\n",
      "gen/LSTM/05/FC2/W:0               [100, 5]              500\n",
      "gen/LSTM/05/FC2/b:0               [5]                     5\n",
      "gen/LSTM/05/FC3/W:0               [5, 100]              500\n",
      "gen/LSTM/05/FC3/b:0               [100]                 100\n",
      "gen/LSTM/05/attw:0                [6, 1, 1]               6\n",
      "gen/LSTM/06/FC/W:0                [100, 100]          10000\n",
      "gen/LSTM/06/FC/b:0                [100]                 100\n",
      "gen/LSTM/06/FC2/W:0               [100, 15]            1500\n",
      "gen/LSTM/06/FC2/b:0               [15]                   15\n",
      "gen/LSTM/06/FC3/W:0               [15, 100]            1500\n",
      "gen/LSTM/06/FC3/b:0               [100]                 100\n",
      "gen/LSTM/06/attw:0                [7, 1, 1]               7\n",
      "gen/LSTM/07/FC/W:0                [100, 100]          10000\n",
      "gen/LSTM/07/FC/b:0                [100]                 100\n",
      "gen/LSTM/07/FC2/W:0               [100, 5]              500\n",
      "gen/LSTM/07/FC2/b:0               [5]                     5\n",
      "gen/LSTM/07/FC3/W:0               [5, 100]              500\n",
      "gen/LSTM/07/FC3/b:0               [100]                 100\n",
      "gen/LSTM/07/attw:0                [8, 1, 1]               8\n",
      "gen/LSTM/08/FC/W:0                [100, 100]          10000\n",
      "gen/LSTM/08/FC/b:0                [100]                 100\n",
      "gen/LSTM/08/FC2/W:0               [100, 2]              200\n",
      "gen/LSTM/08/FC2/b:0               [2]                     2\n",
      "gen/LSTM/08/FC3/W:0               [2, 100]              200\n",
      "gen/LSTM/08/FC3/b:0               [100]                 100\n",
      "gen/LSTM/08/attw:0                [9, 1, 1]               9\n",
      "gen/LSTM/09/FC/W:0                [100, 100]          10000\n",
      "gen/LSTM/09/FC/b:0                [100]                 100\n",
      "gen/LSTM/09/FC2/W:0               [100, 115]          11500\n",
      "gen/LSTM/09/FC2/b:0               [115]                 115\n",
      "gen/LSTM/09/FC3/W:0               [115, 100]          11500\n",
      "gen/LSTM/09/FC3/b:0               [100]                 100\n",
      "gen/LSTM/09/attw:0                [10, 1, 1]             10\n",
      "gen/LSTM/10/FC/W:0                [100, 100]          10000\n",
      "gen/LSTM/10/FC/b:0                [100]                 100\n",
      "gen/LSTM/10/FC2/W:0               [100, 92]            9200\n",
      "gen/LSTM/10/FC2/b:0               [92]                   92\n",
      "gen/LSTM/10/FC3/W:0               [92, 100]            9200\n",
      "gen/LSTM/10/FC3/b:0               [100]                 100\n",
      "gen/LSTM/10/attw:0                [11, 1, 1]             11\n",
      "gen/LSTM/11/FC/W:0                [100, 100]          10000\n",
      "gen/LSTM/11/FC/b:0                [100]                 100\n",
      "gen/LSTM/11/FC2/W:0               [100, 2]              200\n",
      "gen/LSTM/11/FC2/b:0               [2]                     2\n",
      "gen/LSTM/11/FC3/W:0               [2, 100]              200\n",
      "gen/LSTM/11/FC3/b:0               [100]                 100\n",
      "gen/LSTM/11/attw:0                [12, 1, 1]             12\n",
      "gen/LSTM/12/FC/W:0                [100, 100]          10000\n",
      "gen/LSTM/12/FC/b:0                [100]                 100\n",
      "gen/LSTM/12/FC2/W:0               [100, 2]              200\n",
      "gen/LSTM/12/FC2/b:0               [2]                     2\n",
      "gen/LSTM/12/FC3/W:0               [2, 100]              200\n",
      "gen/LSTM/12/FC3/b:0               [100]                 100\n",
      "gen/LSTM/12/attw:0                [13, 1, 1]             13\n",
      "discrim/dis_fc0/fc/W:0            [15097, 256]      3864832\n",
      "discrim/dis_fc0/fc/b:0            [256]                 256\n",
      "discrim/dis_fc0/fc_diversity/W:0  [256, 100]          25600\n",
      "discrim/dis_fc0/fc_diversity/b:0  [100]                 100\n",
      "discrim/dis_fc0/bn/beta:0         [266]                 266\n",
      "discrim/dis_fc_top/W:0            [266, 1]              266\n",
      "discrim/dis_fc_top/b:0            [1]                     1\u001b[36m\n",
      "Number of trainable variables: 101\n",
      "Number of parameters (elements): 7259009\n",
      "Storage space needed for all trainable variables: 27.69MB\u001b[0m\n",
      "\u001b[32m[1229 16:15:12 @base.py:209]\u001b[0m Setup callbacks graph ...\n",
      "\u001b[32m[1229 16:15:13 @summary.py:46]\u001b[0m [MovingAverageSummary] 6 operations in collection 'MOVING_SUMMARY_OPS' will be run with session hooks.\n",
      "\u001b[32m[1229 16:15:13 @summary.py:93]\u001b[0m Summarizing collection 'summaries' of size 9.\n",
      "\u001b[32m[1229 16:15:13 @graph.py:98]\u001b[0m Applying collection UPDATE_OPS of 4 ops.\n",
      "\u001b[32m[1229 16:15:14 @base.py:230]\u001b[0m Creating the session ...\n",
      "\u001b[32m[1229 16:15:15 @base.py:236]\u001b[0m Initializing the session ...\n",
      "\u001b[32m[1229 16:15:15 @base.py:243]\u001b[0m Graph Finalized.\n",
      "\u001b[32m[1229 16:15:15 @concurrency.py:38]\u001b[0m Starting EnqueueThread QueueInput/input_queue ...\n",
      "\u001b[32m[1229 16:15:16 @base.py:275]\u001b[0m Start Epoch 1 ...\n"
     ]
    },
    {
     "name": "stderr",
     "output_type": "stream",
     "text": [
      "100%|#####################################################################################|39/39[00:15<00:00, 2.47it/s]"
     ]
    },
    {
     "name": "stdout",
     "output_type": "stream",
     "text": [
      "\u001b[32m[1229 16:15:31 @base.py:285]\u001b[0m Epoch 1 (global_step 39) finished, time:15.8 seconds.\n"
     ]
    },
    {
     "name": "stderr",
     "output_type": "stream",
     "text": [
      "\n"
     ]
    },
    {
     "name": "stdout",
     "output_type": "stream",
     "text": [
      "\u001b[32m[1229 16:15:32 @saver.py:79]\u001b[0m Model saved to .//Model//temp_model\\TGAN1\\model\\model-39.\n",
      "\u001b[32m[1229 16:15:32 @monitor.py:467]\u001b[0m GAN_loss/discrim/accuracy_fake: 0.735\n",
      "\u001b[32m[1229 16:15:32 @monitor.py:467]\u001b[0m GAN_loss/discrim/accuracy_real: 0.285\n",
      "\u001b[32m[1229 16:15:32 @monitor.py:467]\u001b[0m GAN_loss/discrim/loss: 0.77851\n",
      "\u001b[32m[1229 16:15:32 @monitor.py:467]\u001b[0m GAN_loss/gen/final-g-loss: 1.2074\n",
      "\u001b[32m[1229 16:15:32 @monitor.py:467]\u001b[0m GAN_loss/gen/klloss: 0.043134\n",
      "\u001b[32m[1229 16:15:32 @monitor.py:467]\u001b[0m GAN_loss/gen/loss: 1.1642\n",
      "\u001b[32m[1229 16:15:32 @monitor.py:467]\u001b[0m QueueInput/queue_size: 50\n",
      "\u001b[32m[1229 16:15:32 @base.py:275]\u001b[0m Start Epoch 2 ...\n"
     ]
    },
    {
     "name": "stderr",
     "output_type": "stream",
     "text": [
      "100%|#####################################################################################|39/39[00:14<00:00, 2.72it/s]"
     ]
    },
    {
     "name": "stdout",
     "output_type": "stream",
     "text": [
      "\u001b[32m[1229 16:15:46 @base.py:285]\u001b[0m Epoch 2 (global_step 78) finished, time:14.3 seconds.\n"
     ]
    },
    {
     "name": "stderr",
     "output_type": "stream",
     "text": [
      "\n"
     ]
    },
    {
     "name": "stdout",
     "output_type": "stream",
     "text": [
      "\u001b[32m[1229 16:15:47 @saver.py:79]\u001b[0m Model saved to .//Model//temp_model\\TGAN1\\model\\model-78.\n",
      "\u001b[32m[1229 16:15:47 @monitor.py:467]\u001b[0m GAN_loss/discrim/accuracy_fake: 0.755\n",
      "\u001b[32m[1229 16:15:47 @monitor.py:467]\u001b[0m GAN_loss/discrim/accuracy_real: 0.31\n",
      "\u001b[32m[1229 16:15:47 @monitor.py:467]\u001b[0m GAN_loss/discrim/loss: 0.69506\n",
      "\u001b[32m[1229 16:15:47 @monitor.py:467]\u001b[0m GAN_loss/gen/final-g-loss: 1.1205\n",
      "\u001b[32m[1229 16:15:47 @monitor.py:467]\u001b[0m GAN_loss/gen/klloss: 0.041151\n",
      "\u001b[32m[1229 16:15:47 @monitor.py:467]\u001b[0m GAN_loss/gen/loss: 1.0793\n",
      "\u001b[32m[1229 16:15:47 @monitor.py:467]\u001b[0m QueueInput/queue_size: 50\n",
      "\u001b[32m[1229 16:15:47 @base.py:289]\u001b[0m Training has finished!\n",
      "\u001b[32m[1229 16:15:47 @input_source.py:178]\u001b[0m EnqueueThread QueueInput/input_queue Exited.\n",
      "\u001b[32m[1229 16:15:48 @collection.py:146]\u001b[0m New collections created in tower : tf.GraphKeys.REGULARIZATION_LOSSES\n",
      "\u001b[32m[1229 16:15:48 @collection.py:165]\u001b[0m These collections were modified but restored in : (tf.GraphKeys.SUMMARIES: 0->2)\n",
      "\u001b[32m[1229 16:15:48 @sessinit.py:87]\u001b[0m \u001b[5m\u001b[31mWRN\u001b[0m The following variables are in the checkpoint, but not found in the graph: global_step, optimize/beta1_power, optimize/beta2_power\n",
      "INFO:tensorflow:Graph was finalized.\n",
      "INFO:tensorflow:Running local_init_op.\n",
      "INFO:tensorflow:Done running local_init_op.\n",
      "\u001b[32m[1229 16:15:49 @sessinit.py:114]\u001b[0m Restoring checkpoint from .//Model//temp_model\\TGAN1\\model\\model-78 ...\n",
      "INFO:tensorflow:Restoring parameters from .//Model//temp_model\\TGAN1\\model\\model-78\n"
     ]
    },
    {
     "name": "stderr",
     "output_type": "stream",
     "text": [
      " 48%|########################################3                                           |96/200[00:08<00:09,11.07it/s]\n"
     ]
    },
    {
     "name": "stdout",
     "output_type": "stream",
     "text": [
      "\u001b[32m[1229 16:15:58 @input_source.py:222]\u001b[0m Setting up the queue 'QueueInput/input_queue' for CPU prefetching ...\n",
      "\u001b[32m[1229 16:16:02 @logger.py:90]\u001b[0m Argv: C:\\Users\\Arne\\anaconda3\\envs\\tfv1\\lib\\site-packages\\ipykernel_launcher.py -f C:\\Users\\Arne\\AppData\\Roaming\\jupyter\\runtime\\kernel-35999244-15d2-4577-bec3-c5600cbe31b7.json\n",
      "\u001b[32m[1229 16:16:02 @model_utils.py:67]\u001b[0m \u001b[36mList of Trainable Variables: \n",
      "\u001b[0mname                              shape           #elements\n",
      "--------------------------------  ------------  -----------\n",
      "gen/LSTM/go:0                     [1, 100]              100\n",
      "gen/LSTM/lstm_cell/kernel:0       [500, 400]         200000\n",
      "gen/LSTM/lstm_cell/bias:0         [400]                 400\n",
      "gen/LSTM/00/FC/W:0                [100, 100]          10000\n",
      "gen/LSTM/00/FC/b:0                [100]                 100\n",
      "gen/LSTM/00/FC2/W:0               [100, 73]            7300\n",
      "gen/LSTM/00/FC2/b:0               [73]                   73\n",
      "gen/LSTM/00/FC3/W:0               [73, 100]            7300\n",
      "gen/LSTM/00/FC3/b:0               [100]                 100\n",
      "gen/LSTM/00/attw:0                [1, 1, 1]               1\n",
      "gen/LSTM/01/FC/W:0                [100, 100]          10000\n",
      "gen/LSTM/01/FC/b:0                [100]                 100\n",
      "gen/LSTM/01/FC2/W:0               [100, 3]              300\n",
      "gen/LSTM/01/FC2/b:0               [3]                     3\n",
      "gen/LSTM/01/FC3/W:0               [3, 100]              300\n",
      "gen/LSTM/01/FC3/b:0               [100]                 100\n",
      "gen/LSTM/01/attw:0                [2, 1, 1]               2\n",
      "gen/LSTM/02/FC/W:0                [100, 100]          10000\n",
      "gen/LSTM/02/FC/b:0                [100]                 100\n",
      "gen/LSTM/02/FC2/W:0               [100, 14758]      1475800\n",
      "gen/LSTM/02/FC2/b:0               [14758]             14758\n",
      "gen/LSTM/02/FC3/W:0               [14758, 100]      1475800\n",
      "gen/LSTM/02/FC3/b:0               [100]                 100\n",
      "gen/LSTM/02/attw:0                [3, 1, 1]               3\n",
      "gen/LSTM/03/FC/W:0                [100, 100]          10000\n",
      "gen/LSTM/03/FC/b:0                [100]                 100\n",
      "gen/LSTM/03/FC2/W:0               [100, 9]              900\n",
      "gen/LSTM/03/FC2/b:0               [9]                     9\n",
      "gen/LSTM/03/FC3/W:0               [9, 100]              900\n",
      "gen/LSTM/03/FC3/b:0               [100]                 100\n",
      "gen/LSTM/03/attw:0                [4, 1, 1]               4\n",
      "gen/LSTM/04/FC/W:0                [100, 100]          10000\n",
      "gen/LSTM/04/FC/b:0                [100]                 100\n",
      "gen/LSTM/04/FC2/W:0               [100, 16]            1600\n",
      "gen/LSTM/04/FC2/b:0               [16]                   16\n",
      "gen/LSTM/04/FC3/W:0               [16, 100]            1600\n",
      "gen/LSTM/04/FC3/b:0               [100]                 100\n",
      "gen/LSTM/04/attw:0                [5, 1, 1]               5\n",
      "gen/LSTM/05/FC/W:0                [100, 100]          10000\n",
      "gen/LSTM/05/FC/b:0                [100]                 100\n",
      "gen/LSTM/05/FC2/W:0               [100, 5]              500\n",
      "gen/LSTM/05/FC2/b:0               [5]                     5\n",
      "gen/LSTM/05/FC3/W:0               [5, 100]              500\n",
      "gen/LSTM/05/FC3/b:0               [100]                 100\n",
      "gen/LSTM/05/attw:0                [6, 1, 1]               6\n",
      "gen/LSTM/06/FC/W:0                [100, 100]          10000\n",
      "gen/LSTM/06/FC/b:0                [100]                 100\n",
      "gen/LSTM/06/FC2/W:0               [100, 15]            1500\n",
      "gen/LSTM/06/FC2/b:0               [15]                   15\n",
      "gen/LSTM/06/FC3/W:0               [15, 100]            1500\n",
      "gen/LSTM/06/FC3/b:0               [100]                 100\n",
      "gen/LSTM/06/attw:0                [7, 1, 1]               7\n",
      "gen/LSTM/07/FC/W:0                [100, 100]          10000\n",
      "gen/LSTM/07/FC/b:0                [100]                 100\n",
      "gen/LSTM/07/FC2/W:0               [100, 5]              500\n",
      "gen/LSTM/07/FC2/b:0               [5]                     5\n",
      "gen/LSTM/07/FC3/W:0               [5, 100]              500\n",
      "gen/LSTM/07/FC3/b:0               [100]                 100\n",
      "gen/LSTM/07/attw:0                [8, 1, 1]               8\n",
      "gen/LSTM/08/FC/W:0                [100, 100]          10000\n",
      "gen/LSTM/08/FC/b:0                [100]                 100\n",
      "gen/LSTM/08/FC2/W:0               [100, 2]              200\n",
      "gen/LSTM/08/FC2/b:0               [2]                     2\n",
      "gen/LSTM/08/FC3/W:0               [2, 100]              200\n",
      "gen/LSTM/08/FC3/b:0               [100]                 100\n",
      "gen/LSTM/08/attw:0                [9, 1, 1]               9\n",
      "gen/LSTM/09/FC/W:0                [100, 100]          10000\n",
      "gen/LSTM/09/FC/b:0                [100]                 100\n",
      "gen/LSTM/09/FC2/W:0               [100, 115]          11500\n",
      "gen/LSTM/09/FC2/b:0               [115]                 115\n",
      "gen/LSTM/09/FC3/W:0               [115, 100]          11500\n",
      "gen/LSTM/09/FC3/b:0               [100]                 100\n",
      "gen/LSTM/09/attw:0                [10, 1, 1]             10\n",
      "gen/LSTM/10/FC/W:0                [100, 100]          10000\n",
      "gen/LSTM/10/FC/b:0                [100]                 100\n",
      "gen/LSTM/10/FC2/W:0               [100, 92]            9200\n",
      "gen/LSTM/10/FC2/b:0               [92]                   92\n",
      "gen/LSTM/10/FC3/W:0               [92, 100]            9200\n",
      "gen/LSTM/10/FC3/b:0               [100]                 100\n",
      "gen/LSTM/10/attw:0                [11, 1, 1]             11\n",
      "gen/LSTM/11/FC/W:0                [100, 100]          10000\n",
      "gen/LSTM/11/FC/b:0                [100]                 100\n",
      "gen/LSTM/11/FC2/W:0               [100, 2]              200\n",
      "gen/LSTM/11/FC2/b:0               [2]                     2\n",
      "gen/LSTM/11/FC3/W:0               [2, 100]              200\n",
      "gen/LSTM/11/FC3/b:0               [100]                 100\n",
      "gen/LSTM/11/attw:0                [12, 1, 1]             12\n",
      "gen/LSTM/12/FC/W:0                [100, 100]          10000\n",
      "gen/LSTM/12/FC/b:0                [100]                 100\n",
      "gen/LSTM/12/FC2/W:0               [100, 2]              200\n",
      "gen/LSTM/12/FC2/b:0               [2]                     2\n",
      "gen/LSTM/12/FC3/W:0               [2, 100]              200\n",
      "gen/LSTM/12/FC3/b:0               [100]                 100\n",
      "gen/LSTM/12/attw:0                [13, 1, 1]             13\n",
      "discrim/dis_fc0/fc/W:0            [15097, 256]      3864832\n",
      "discrim/dis_fc0/fc/b:0            [256]                 256\n",
      "discrim/dis_fc0/fc_diversity/W:0  [256, 100]          25600\n",
      "discrim/dis_fc0/fc_diversity/b:0  [100]                 100\n",
      "discrim/dis_fc0/bn/beta:0         [266]                 266\n",
      "discrim/dis_fc_top/W:0            [266, 1]              266\n",
      "discrim/dis_fc_top/b:0            [1]                     1\u001b[36m\n",
      "Number of trainable variables: 101\n",
      "Number of parameters (elements): 7259009\n",
      "Storage space needed for all trainable variables: 27.69MB\u001b[0m\n",
      "\u001b[32m[1229 16:16:02 @base.py:209]\u001b[0m Setup callbacks graph ...\n",
      "\u001b[32m[1229 16:16:02 @summary.py:46]\u001b[0m [MovingAverageSummary] 6 operations in collection 'MOVING_SUMMARY_OPS' will be run with session hooks.\n",
      "\u001b[32m[1229 16:16:02 @summary.py:93]\u001b[0m Summarizing collection 'summaries' of size 9.\n",
      "\u001b[32m[1229 16:16:02 @graph.py:98]\u001b[0m Applying collection UPDATE_OPS of 4 ops.\n",
      "\u001b[32m[1229 16:16:03 @base.py:230]\u001b[0m Creating the session ...\n",
      "\u001b[32m[1229 16:16:05 @base.py:236]\u001b[0m Initializing the session ...\n",
      "\u001b[32m[1229 16:16:05 @base.py:243]\u001b[0m Graph Finalized.\n",
      "\u001b[32m[1229 16:16:05 @concurrency.py:38]\u001b[0m Starting EnqueueThread QueueInput/input_queue ...\n",
      "\u001b[32m[1229 16:16:05 @base.py:275]\u001b[0m Start Epoch 1 ...\n"
     ]
    },
    {
     "name": "stderr",
     "output_type": "stream",
     "text": [
      "100%|#####################################################################################|39/39[00:15<00:00, 2.51it/s]"
     ]
    },
    {
     "name": "stdout",
     "output_type": "stream",
     "text": [
      "\u001b[32m[1229 16:16:21 @base.py:285]\u001b[0m Epoch 1 (global_step 39) finished, time:15.5 seconds.\n"
     ]
    },
    {
     "name": "stderr",
     "output_type": "stream",
     "text": [
      "\n"
     ]
    },
    {
     "name": "stdout",
     "output_type": "stream",
     "text": [
      "\u001b[32m[1229 16:16:21 @saver.py:79]\u001b[0m Model saved to .//Model//temp_model\\TGAN2\\model\\model-39.\n",
      "\u001b[32m[1229 16:16:21 @monitor.py:467]\u001b[0m GAN_loss/discrim/accuracy_fake: 0.71\n",
      "\u001b[32m[1229 16:16:21 @monitor.py:467]\u001b[0m GAN_loss/discrim/accuracy_real: 0.375\n",
      "\u001b[32m[1229 16:16:21 @monitor.py:467]\u001b[0m GAN_loss/discrim/loss: 0.76564\n",
      "\u001b[32m[1229 16:16:21 @monitor.py:467]\u001b[0m GAN_loss/gen/final-g-loss: 1.195\n",
      "\u001b[32m[1229 16:16:21 @monitor.py:467]\u001b[0m GAN_loss/gen/klloss: 0.057529\n",
      "\u001b[32m[1229 16:16:21 @monitor.py:467]\u001b[0m GAN_loss/gen/loss: 1.1375\n",
      "\u001b[32m[1229 16:16:21 @monitor.py:467]\u001b[0m QueueInput/queue_size: 50\n",
      "\u001b[32m[1229 16:16:21 @base.py:275]\u001b[0m Start Epoch 2 ...\n"
     ]
    },
    {
     "name": "stderr",
     "output_type": "stream",
     "text": [
      "100%|#####################################################################################|39/39[00:12<00:00, 3.19it/s]"
     ]
    },
    {
     "name": "stdout",
     "output_type": "stream",
     "text": [
      "\u001b[32m[1229 16:16:33 @base.py:285]\u001b[0m Epoch 2 (global_step 78) finished, time:12.2 seconds.\n"
     ]
    },
    {
     "name": "stderr",
     "output_type": "stream",
     "text": [
      "\n"
     ]
    },
    {
     "name": "stdout",
     "output_type": "stream",
     "text": [
      "\u001b[32m[1229 16:16:34 @saver.py:79]\u001b[0m Model saved to .//Model//temp_model\\TGAN2\\model\\model-78.\n",
      "\u001b[32m[1229 16:16:34 @monitor.py:467]\u001b[0m GAN_loss/discrim/accuracy_fake: 0.73\n",
      "\u001b[32m[1229 16:16:34 @monitor.py:467]\u001b[0m GAN_loss/discrim/accuracy_real: 0.295\n",
      "\u001b[32m[1229 16:16:34 @monitor.py:467]\u001b[0m GAN_loss/discrim/loss: 0.70217\n",
      "\u001b[32m[1229 16:16:34 @monitor.py:467]\u001b[0m GAN_loss/gen/final-g-loss: 1.1584\n",
      "\u001b[32m[1229 16:16:34 @monitor.py:467]\u001b[0m GAN_loss/gen/klloss: 0.047247\n",
      "\u001b[32m[1229 16:16:34 @monitor.py:467]\u001b[0m GAN_loss/gen/loss: 1.1111\n",
      "\u001b[32m[1229 16:16:34 @monitor.py:467]\u001b[0m QueueInput/queue_size: 50\n",
      "\u001b[32m[1229 16:16:34 @base.py:289]\u001b[0m Training has finished!\n",
      "\u001b[32m[1229 16:16:34 @input_source.py:178]\u001b[0m EnqueueThread QueueInput/input_queue Exited.\n",
      "\u001b[32m[1229 16:16:35 @collection.py:146]\u001b[0m New collections created in tower : tf.GraphKeys.REGULARIZATION_LOSSES\n",
      "\u001b[32m[1229 16:16:35 @collection.py:165]\u001b[0m These collections were modified but restored in : (tf.GraphKeys.SUMMARIES: 0->2)\n",
      "\u001b[32m[1229 16:16:35 @sessinit.py:87]\u001b[0m \u001b[5m\u001b[31mWRN\u001b[0m The following variables are in the checkpoint, but not found in the graph: global_step, optimize/beta1_power, optimize/beta2_power\n",
      "INFO:tensorflow:Graph was finalized.\n",
      "INFO:tensorflow:Running local_init_op.\n",
      "INFO:tensorflow:Done running local_init_op.\n",
      "\u001b[32m[1229 16:16:36 @sessinit.py:114]\u001b[0m Restoring checkpoint from .//Model//temp_model\\TGAN2\\model\\model-78 ...\n",
      "INFO:tensorflow:Restoring parameters from .//Model//temp_model\\TGAN2\\model\\model-78\n"
     ]
    },
    {
     "name": "stderr",
     "output_type": "stream",
     "text": [
      " 48%|########################################3                                           |96/200[00:09<00:10, 9.77it/s]\n"
     ]
    },
    {
     "name": "stdout",
     "output_type": "stream",
     "text": [
      "\u001b[32m[1229 16:16:46 @input_source.py:222]\u001b[0m Setting up the queue 'QueueInput/input_queue' for CPU prefetching ...\n",
      "\u001b[32m[1229 16:16:52 @logger.py:90]\u001b[0m Argv: C:\\Users\\Arne\\anaconda3\\envs\\tfv1\\lib\\site-packages\\ipykernel_launcher.py -f C:\\Users\\Arne\\AppData\\Roaming\\jupyter\\runtime\\kernel-35999244-15d2-4577-bec3-c5600cbe31b7.json\n",
      "\u001b[32m[1229 16:16:52 @model_utils.py:67]\u001b[0m \u001b[36mList of Trainable Variables: \n",
      "\u001b[0mname                              shape           #elements\n",
      "--------------------------------  ------------  -----------\n",
      "gen/LSTM/go:0                     [1, 100]              100\n",
      "gen/LSTM/lstm_cell/kernel:0       [500, 400]         200000\n",
      "gen/LSTM/lstm_cell/bias:0         [400]                 400\n",
      "gen/LSTM/00/FC/W:0                [100, 100]          10000\n",
      "gen/LSTM/00/FC/b:0                [100]                 100\n",
      "gen/LSTM/00/FC2/W:0               [100, 73]            7300\n",
      "gen/LSTM/00/FC2/b:0               [73]                   73\n",
      "gen/LSTM/00/FC3/W:0               [73, 100]            7300\n",
      "gen/LSTM/00/FC3/b:0               [100]                 100\n",
      "gen/LSTM/00/attw:0                [1, 1, 1]               1\n",
      "gen/LSTM/01/FC/W:0                [100, 100]          10000\n",
      "gen/LSTM/01/FC/b:0                [100]                 100\n",
      "gen/LSTM/01/FC2/W:0               [100, 3]              300\n",
      "gen/LSTM/01/FC2/b:0               [3]                     3\n",
      "gen/LSTM/01/FC3/W:0               [3, 100]              300\n",
      "gen/LSTM/01/FC3/b:0               [100]                 100\n",
      "gen/LSTM/01/attw:0                [2, 1, 1]               2\n",
      "gen/LSTM/02/FC/W:0                [100, 100]          10000\n",
      "gen/LSTM/02/FC/b:0                [100]                 100\n",
      "gen/LSTM/02/FC2/W:0               [100, 14758]      1475800\n",
      "gen/LSTM/02/FC2/b:0               [14758]             14758\n",
      "gen/LSTM/02/FC3/W:0               [14758, 100]      1475800\n",
      "gen/LSTM/02/FC3/b:0               [100]                 100\n",
      "gen/LSTM/02/attw:0                [3, 1, 1]               3\n",
      "gen/LSTM/03/FC/W:0                [100, 100]          10000\n",
      "gen/LSTM/03/FC/b:0                [100]                 100\n",
      "gen/LSTM/03/FC2/W:0               [100, 9]              900\n",
      "gen/LSTM/03/FC2/b:0               [9]                     9\n",
      "gen/LSTM/03/FC3/W:0               [9, 100]              900\n",
      "gen/LSTM/03/FC3/b:0               [100]                 100\n",
      "gen/LSTM/03/attw:0                [4, 1, 1]               4\n",
      "gen/LSTM/04/FC/W:0                [100, 100]          10000\n",
      "gen/LSTM/04/FC/b:0                [100]                 100\n",
      "gen/LSTM/04/FC2/W:0               [100, 16]            1600\n",
      "gen/LSTM/04/FC2/b:0               [16]                   16\n",
      "gen/LSTM/04/FC3/W:0               [16, 100]            1600\n",
      "gen/LSTM/04/FC3/b:0               [100]                 100\n",
      "gen/LSTM/04/attw:0                [5, 1, 1]               5\n",
      "gen/LSTM/05/FC/W:0                [100, 100]          10000\n",
      "gen/LSTM/05/FC/b:0                [100]                 100\n",
      "gen/LSTM/05/FC2/W:0               [100, 5]              500\n",
      "gen/LSTM/05/FC2/b:0               [5]                     5\n",
      "gen/LSTM/05/FC3/W:0               [5, 100]              500\n",
      "gen/LSTM/05/FC3/b:0               [100]                 100\n",
      "gen/LSTM/05/attw:0                [6, 1, 1]               6\n",
      "gen/LSTM/06/FC/W:0                [100, 100]          10000\n",
      "gen/LSTM/06/FC/b:0                [100]                 100\n",
      "gen/LSTM/06/FC2/W:0               [100, 15]            1500\n",
      "gen/LSTM/06/FC2/b:0               [15]                   15\n",
      "gen/LSTM/06/FC3/W:0               [15, 100]            1500\n",
      "gen/LSTM/06/FC3/b:0               [100]                 100\n",
      "gen/LSTM/06/attw:0                [7, 1, 1]               7\n",
      "gen/LSTM/07/FC/W:0                [100, 100]          10000\n",
      "gen/LSTM/07/FC/b:0                [100]                 100\n",
      "gen/LSTM/07/FC2/W:0               [100, 5]              500\n",
      "gen/LSTM/07/FC2/b:0               [5]                     5\n",
      "gen/LSTM/07/FC3/W:0               [5, 100]              500\n",
      "gen/LSTM/07/FC3/b:0               [100]                 100\n",
      "gen/LSTM/07/attw:0                [8, 1, 1]               8\n",
      "gen/LSTM/08/FC/W:0                [100, 100]          10000\n",
      "gen/LSTM/08/FC/b:0                [100]                 100\n",
      "gen/LSTM/08/FC2/W:0               [100, 2]              200\n",
      "gen/LSTM/08/FC2/b:0               [2]                     2\n",
      "gen/LSTM/08/FC3/W:0               [2, 100]              200\n",
      "gen/LSTM/08/FC3/b:0               [100]                 100\n",
      "gen/LSTM/08/attw:0                [9, 1, 1]               9\n",
      "gen/LSTM/09/FC/W:0                [100, 100]          10000\n",
      "gen/LSTM/09/FC/b:0                [100]                 100\n",
      "gen/LSTM/09/FC2/W:0               [100, 115]          11500\n",
      "gen/LSTM/09/FC2/b:0               [115]                 115\n",
      "gen/LSTM/09/FC3/W:0               [115, 100]          11500\n",
      "gen/LSTM/09/FC3/b:0               [100]                 100\n",
      "gen/LSTM/09/attw:0                [10, 1, 1]             10\n",
      "gen/LSTM/10/FC/W:0                [100, 100]          10000\n",
      "gen/LSTM/10/FC/b:0                [100]                 100\n",
      "gen/LSTM/10/FC2/W:0               [100, 92]            9200\n",
      "gen/LSTM/10/FC2/b:0               [92]                   92\n",
      "gen/LSTM/10/FC3/W:0               [92, 100]            9200\n",
      "gen/LSTM/10/FC3/b:0               [100]                 100\n",
      "gen/LSTM/10/attw:0                [11, 1, 1]             11\n",
      "gen/LSTM/11/FC/W:0                [100, 100]          10000\n",
      "gen/LSTM/11/FC/b:0                [100]                 100\n",
      "gen/LSTM/11/FC2/W:0               [100, 2]              200\n",
      "gen/LSTM/11/FC2/b:0               [2]                     2\n",
      "gen/LSTM/11/FC3/W:0               [2, 100]              200\n",
      "gen/LSTM/11/FC3/b:0               [100]                 100\n",
      "gen/LSTM/11/attw:0                [12, 1, 1]             12\n",
      "gen/LSTM/12/FC/W:0                [100, 100]          10000\n",
      "gen/LSTM/12/FC/b:0                [100]                 100\n",
      "gen/LSTM/12/FC2/W:0               [100, 2]              200\n",
      "gen/LSTM/12/FC2/b:0               [2]                     2\n",
      "gen/LSTM/12/FC3/W:0               [2, 100]              200\n",
      "gen/LSTM/12/FC3/b:0               [100]                 100\n",
      "gen/LSTM/12/attw:0                [13, 1, 1]             13\n",
      "discrim/dis_fc0/fc/W:0            [15097, 256]      3864832\n",
      "discrim/dis_fc0/fc/b:0            [256]                 256\n",
      "discrim/dis_fc0/fc_diversity/W:0  [256, 100]          25600\n",
      "discrim/dis_fc0/fc_diversity/b:0  [100]                 100\n",
      "discrim/dis_fc0/bn/beta:0         [266]                 266\n",
      "discrim/dis_fc_top/W:0            [266, 1]              266\n",
      "discrim/dis_fc_top/b:0            [1]                     1\u001b[36m\n",
      "Number of trainable variables: 101\n",
      "Number of parameters (elements): 7259009\n",
      "Storage space needed for all trainable variables: 27.69MB\u001b[0m\n",
      "\u001b[32m[1229 16:16:52 @base.py:209]\u001b[0m Setup callbacks graph ...\n",
      "\u001b[32m[1229 16:16:52 @summary.py:46]\u001b[0m [MovingAverageSummary] 6 operations in collection 'MOVING_SUMMARY_OPS' will be run with session hooks.\n",
      "\u001b[32m[1229 16:16:52 @summary.py:93]\u001b[0m Summarizing collection 'summaries' of size 9.\n",
      "\u001b[32m[1229 16:16:52 @graph.py:98]\u001b[0m Applying collection UPDATE_OPS of 4 ops.\n",
      "\u001b[32m[1229 16:16:53 @base.py:230]\u001b[0m Creating the session ...\n",
      "\u001b[32m[1229 16:16:55 @base.py:236]\u001b[0m Initializing the session ...\n",
      "\u001b[32m[1229 16:16:55 @base.py:243]\u001b[0m Graph Finalized.\n",
      "\u001b[32m[1229 16:16:55 @concurrency.py:38]\u001b[0m Starting EnqueueThread QueueInput/input_queue ...\n",
      "\u001b[32m[1229 16:16:55 @base.py:275]\u001b[0m Start Epoch 1 ...\n"
     ]
    },
    {
     "name": "stderr",
     "output_type": "stream",
     "text": [
      "100%|#####################################################################################|39/39[00:21<00:00, 1.83it/s]"
     ]
    },
    {
     "name": "stdout",
     "output_type": "stream",
     "text": [
      "\u001b[32m[1229 16:17:17 @base.py:285]\u001b[0m Epoch 1 (global_step 39) finished, time:21.3 seconds.\n"
     ]
    },
    {
     "name": "stderr",
     "output_type": "stream",
     "text": [
      "\n"
     ]
    },
    {
     "name": "stdout",
     "output_type": "stream",
     "text": [
      "\u001b[32m[1229 16:17:17 @saver.py:79]\u001b[0m Model saved to .//Model//temp_model\\TGAN3\\model\\model-39.\n",
      "\u001b[32m[1229 16:17:17 @monitor.py:467]\u001b[0m GAN_loss/discrim/accuracy_fake: 0.68\n",
      "\u001b[32m[1229 16:17:17 @monitor.py:467]\u001b[0m GAN_loss/discrim/accuracy_real: 0.395\n",
      "\u001b[32m[1229 16:17:17 @monitor.py:467]\u001b[0m GAN_loss/discrim/loss: 0.77557\n",
      "\u001b[32m[1229 16:17:17 @monitor.py:467]\u001b[0m GAN_loss/gen/final-g-loss: 1.2118\n",
      "\u001b[32m[1229 16:17:17 @monitor.py:467]\u001b[0m GAN_loss/gen/klloss: 0.08118\n",
      "\u001b[32m[1229 16:17:17 @monitor.py:467]\u001b[0m GAN_loss/gen/loss: 1.1307\n",
      "\u001b[32m[1229 16:17:17 @monitor.py:467]\u001b[0m QueueInput/queue_size: 50\n",
      "\u001b[32m[1229 16:17:17 @base.py:275]\u001b[0m Start Epoch 2 ...\n"
     ]
    },
    {
     "name": "stderr",
     "output_type": "stream",
     "text": [
      "100%|#####################################################################################|39/39[00:14<00:00, 2.65it/s]"
     ]
    },
    {
     "name": "stdout",
     "output_type": "stream",
     "text": [
      "\u001b[32m[1229 16:17:32 @base.py:285]\u001b[0m Epoch 2 (global_step 78) finished, time:14.7 seconds.\n"
     ]
    },
    {
     "name": "stderr",
     "output_type": "stream",
     "text": [
      "\n"
     ]
    },
    {
     "name": "stdout",
     "output_type": "stream",
     "text": [
      "\u001b[32m[1229 16:17:32 @saver.py:79]\u001b[0m Model saved to .//Model//temp_model\\TGAN3\\model\\model-78.\n",
      "\u001b[32m[1229 16:17:32 @monitor.py:467]\u001b[0m GAN_loss/discrim/accuracy_fake: 0.715\n",
      "\u001b[32m[1229 16:17:32 @monitor.py:467]\u001b[0m GAN_loss/discrim/accuracy_real: 0.325\n",
      "\u001b[32m[1229 16:17:32 @monitor.py:467]\u001b[0m GAN_loss/discrim/loss: 0.73622\n",
      "\u001b[32m[1229 16:17:32 @monitor.py:467]\u001b[0m GAN_loss/gen/final-g-loss: 1.1341\n",
      "\u001b[32m[1229 16:17:32 @monitor.py:467]\u001b[0m GAN_loss/gen/klloss: 0.086696\n",
      "\u001b[32m[1229 16:17:32 @monitor.py:467]\u001b[0m GAN_loss/gen/loss: 1.0474\n",
      "\u001b[32m[1229 16:17:32 @monitor.py:467]\u001b[0m QueueInput/queue_size: 50\n",
      "\u001b[32m[1229 16:17:32 @base.py:289]\u001b[0m Training has finished!\n",
      "\u001b[32m[1229 16:17:33 @input_source.py:178]\u001b[0m EnqueueThread QueueInput/input_queue Exited.\n",
      "\u001b[32m[1229 16:17:34 @collection.py:146]\u001b[0m New collections created in tower : tf.GraphKeys.REGULARIZATION_LOSSES\n",
      "\u001b[32m[1229 16:17:34 @collection.py:165]\u001b[0m These collections were modified but restored in : (tf.GraphKeys.SUMMARIES: 0->2)\n",
      "\u001b[32m[1229 16:17:34 @sessinit.py:87]\u001b[0m \u001b[5m\u001b[31mWRN\u001b[0m The following variables are in the checkpoint, but not found in the graph: global_step, optimize/beta1_power, optimize/beta2_power\n",
      "INFO:tensorflow:Graph was finalized.\n",
      "INFO:tensorflow:Running local_init_op.\n",
      "INFO:tensorflow:Done running local_init_op.\n",
      "\u001b[32m[1229 16:17:34 @sessinit.py:114]\u001b[0m Restoring checkpoint from .//Model//temp_model\\TGAN3\\model\\model-78 ...\n",
      "INFO:tensorflow:Restoring parameters from .//Model//temp_model\\TGAN3\\model\\model-78\n"
     ]
    },
    {
     "name": "stderr",
     "output_type": "stream",
     "text": [
      " 48%|########################################3                                           |96/200[00:08<00:09,11.34it/s]\n"
     ]
    },
    {
     "name": "stdout",
     "output_type": "stream",
     "text": [
      "\u001b[32m[1229 16:17:43 @input_source.py:222]\u001b[0m Setting up the queue 'QueueInput/input_queue' for CPU prefetching ...\n",
      "\u001b[32m[1229 16:17:47 @logger.py:90]\u001b[0m Argv: C:\\Users\\Arne\\anaconda3\\envs\\tfv1\\lib\\site-packages\\ipykernel_launcher.py -f C:\\Users\\Arne\\AppData\\Roaming\\jupyter\\runtime\\kernel-35999244-15d2-4577-bec3-c5600cbe31b7.json\n",
      "\u001b[32m[1229 16:17:47 @model_utils.py:67]\u001b[0m \u001b[36mList of Trainable Variables: \n",
      "\u001b[0mname                              shape           #elements\n",
      "--------------------------------  ------------  -----------\n",
      "gen/LSTM/go:0                     [1, 100]              100\n",
      "gen/LSTM/lstm_cell/kernel:0       [500, 400]         200000\n",
      "gen/LSTM/lstm_cell/bias:0         [400]                 400\n",
      "gen/LSTM/00/FC/W:0                [100, 100]          10000\n",
      "gen/LSTM/00/FC/b:0                [100]                 100\n",
      "gen/LSTM/00/FC2/W:0               [100, 73]            7300\n",
      "gen/LSTM/00/FC2/b:0               [73]                   73\n",
      "gen/LSTM/00/FC3/W:0               [73, 100]            7300\n",
      "gen/LSTM/00/FC3/b:0               [100]                 100\n",
      "gen/LSTM/00/attw:0                [1, 1, 1]               1\n",
      "gen/LSTM/01/FC/W:0                [100, 100]          10000\n",
      "gen/LSTM/01/FC/b:0                [100]                 100\n",
      "gen/LSTM/01/FC2/W:0               [100, 3]              300\n",
      "gen/LSTM/01/FC2/b:0               [3]                     3\n",
      "gen/LSTM/01/FC3/W:0               [3, 100]              300\n",
      "gen/LSTM/01/FC3/b:0               [100]                 100\n",
      "gen/LSTM/01/attw:0                [2, 1, 1]               2\n",
      "gen/LSTM/02/FC/W:0                [100, 100]          10000\n",
      "gen/LSTM/02/FC/b:0                [100]                 100\n",
      "gen/LSTM/02/FC2/W:0               [100, 14758]      1475800\n",
      "gen/LSTM/02/FC2/b:0               [14758]             14758\n",
      "gen/LSTM/02/FC3/W:0               [14758, 100]      1475800\n",
      "gen/LSTM/02/FC3/b:0               [100]                 100\n",
      "gen/LSTM/02/attw:0                [3, 1, 1]               3\n",
      "gen/LSTM/03/FC/W:0                [100, 100]          10000\n",
      "gen/LSTM/03/FC/b:0                [100]                 100\n",
      "gen/LSTM/03/FC2/W:0               [100, 9]              900\n",
      "gen/LSTM/03/FC2/b:0               [9]                     9\n",
      "gen/LSTM/03/FC3/W:0               [9, 100]              900\n",
      "gen/LSTM/03/FC3/b:0               [100]                 100\n",
      "gen/LSTM/03/attw:0                [4, 1, 1]               4\n",
      "gen/LSTM/04/FC/W:0                [100, 100]          10000\n",
      "gen/LSTM/04/FC/b:0                [100]                 100\n",
      "gen/LSTM/04/FC2/W:0               [100, 16]            1600\n",
      "gen/LSTM/04/FC2/b:0               [16]                   16\n",
      "gen/LSTM/04/FC3/W:0               [16, 100]            1600\n",
      "gen/LSTM/04/FC3/b:0               [100]                 100\n",
      "gen/LSTM/04/attw:0                [5, 1, 1]               5\n",
      "gen/LSTM/05/FC/W:0                [100, 100]          10000\n",
      "gen/LSTM/05/FC/b:0                [100]                 100\n",
      "gen/LSTM/05/FC2/W:0               [100, 5]              500\n",
      "gen/LSTM/05/FC2/b:0               [5]                     5\n",
      "gen/LSTM/05/FC3/W:0               [5, 100]              500\n",
      "gen/LSTM/05/FC3/b:0               [100]                 100\n",
      "gen/LSTM/05/attw:0                [6, 1, 1]               6\n",
      "gen/LSTM/06/FC/W:0                [100, 100]          10000\n",
      "gen/LSTM/06/FC/b:0                [100]                 100\n",
      "gen/LSTM/06/FC2/W:0               [100, 15]            1500\n",
      "gen/LSTM/06/FC2/b:0               [15]                   15\n",
      "gen/LSTM/06/FC3/W:0               [15, 100]            1500\n",
      "gen/LSTM/06/FC3/b:0               [100]                 100\n",
      "gen/LSTM/06/attw:0                [7, 1, 1]               7\n",
      "gen/LSTM/07/FC/W:0                [100, 100]          10000\n",
      "gen/LSTM/07/FC/b:0                [100]                 100\n",
      "gen/LSTM/07/FC2/W:0               [100, 5]              500\n",
      "gen/LSTM/07/FC2/b:0               [5]                     5\n",
      "gen/LSTM/07/FC3/W:0               [5, 100]              500\n",
      "gen/LSTM/07/FC3/b:0               [100]                 100\n",
      "gen/LSTM/07/attw:0                [8, 1, 1]               8\n",
      "gen/LSTM/08/FC/W:0                [100, 100]          10000\n",
      "gen/LSTM/08/FC/b:0                [100]                 100\n",
      "gen/LSTM/08/FC2/W:0               [100, 2]              200\n",
      "gen/LSTM/08/FC2/b:0               [2]                     2\n",
      "gen/LSTM/08/FC3/W:0               [2, 100]              200\n",
      "gen/LSTM/08/FC3/b:0               [100]                 100\n",
      "gen/LSTM/08/attw:0                [9, 1, 1]               9\n",
      "gen/LSTM/09/FC/W:0                [100, 100]          10000\n",
      "gen/LSTM/09/FC/b:0                [100]                 100\n",
      "gen/LSTM/09/FC2/W:0               [100, 115]          11500\n",
      "gen/LSTM/09/FC2/b:0               [115]                 115\n",
      "gen/LSTM/09/FC3/W:0               [115, 100]          11500\n",
      "gen/LSTM/09/FC3/b:0               [100]                 100\n",
      "gen/LSTM/09/attw:0                [10, 1, 1]             10\n",
      "gen/LSTM/10/FC/W:0                [100, 100]          10000\n",
      "gen/LSTM/10/FC/b:0                [100]                 100\n",
      "gen/LSTM/10/FC2/W:0               [100, 92]            9200\n",
      "gen/LSTM/10/FC2/b:0               [92]                   92\n",
      "gen/LSTM/10/FC3/W:0               [92, 100]            9200\n",
      "gen/LSTM/10/FC3/b:0               [100]                 100\n",
      "gen/LSTM/10/attw:0                [11, 1, 1]             11\n",
      "gen/LSTM/11/FC/W:0                [100, 100]          10000\n",
      "gen/LSTM/11/FC/b:0                [100]                 100\n",
      "gen/LSTM/11/FC2/W:0               [100, 2]              200\n",
      "gen/LSTM/11/FC2/b:0               [2]                     2\n",
      "gen/LSTM/11/FC3/W:0               [2, 100]              200\n",
      "gen/LSTM/11/FC3/b:0               [100]                 100\n",
      "gen/LSTM/11/attw:0                [12, 1, 1]             12\n",
      "gen/LSTM/12/FC/W:0                [100, 100]          10000\n",
      "gen/LSTM/12/FC/b:0                [100]                 100\n",
      "gen/LSTM/12/FC2/W:0               [100, 2]              200\n",
      "gen/LSTM/12/FC2/b:0               [2]                     2\n",
      "gen/LSTM/12/FC3/W:0               [2, 100]              200\n",
      "gen/LSTM/12/FC3/b:0               [100]                 100\n",
      "gen/LSTM/12/attw:0                [13, 1, 1]             13\n",
      "discrim/dis_fc0/fc/W:0            [15097, 256]      3864832\n",
      "discrim/dis_fc0/fc/b:0            [256]                 256\n",
      "discrim/dis_fc0/fc_diversity/W:0  [256, 100]          25600\n",
      "discrim/dis_fc0/fc_diversity/b:0  [100]                 100\n",
      "discrim/dis_fc0/bn/beta:0         [266]                 266\n",
      "discrim/dis_fc_top/W:0            [266, 1]              266\n",
      "discrim/dis_fc_top/b:0            [1]                     1\u001b[36m\n",
      "Number of trainable variables: 101\n",
      "Number of parameters (elements): 7259009\n",
      "Storage space needed for all trainable variables: 27.69MB\u001b[0m\n",
      "\u001b[32m[1229 16:17:47 @base.py:209]\u001b[0m Setup callbacks graph ...\n",
      "\u001b[32m[1229 16:17:47 @summary.py:46]\u001b[0m [MovingAverageSummary] 6 operations in collection 'MOVING_SUMMARY_OPS' will be run with session hooks.\n",
      "\u001b[32m[1229 16:17:47 @summary.py:93]\u001b[0m Summarizing collection 'summaries' of size 9.\n",
      "\u001b[32m[1229 16:17:47 @graph.py:98]\u001b[0m Applying collection UPDATE_OPS of 4 ops.\n",
      "\u001b[32m[1229 16:17:48 @base.py:230]\u001b[0m Creating the session ...\n",
      "\u001b[32m[1229 16:17:50 @base.py:236]\u001b[0m Initializing the session ...\n",
      "\u001b[32m[1229 16:17:50 @base.py:243]\u001b[0m Graph Finalized.\n",
      "\u001b[32m[1229 16:17:50 @concurrency.py:38]\u001b[0m Starting EnqueueThread QueueInput/input_queue ...\n",
      "\u001b[32m[1229 16:17:50 @base.py:275]\u001b[0m Start Epoch 1 ...\n"
     ]
    },
    {
     "name": "stderr",
     "output_type": "stream",
     "text": [
      "100%|#####################################################################################|39/39[00:15<00:00, 2.52it/s]"
     ]
    },
    {
     "name": "stdout",
     "output_type": "stream",
     "text": [
      "\u001b[32m[1229 16:18:06 @base.py:285]\u001b[0m Epoch 1 (global_step 39) finished, time:15.5 seconds.\n"
     ]
    },
    {
     "name": "stderr",
     "output_type": "stream",
     "text": [
      "\n"
     ]
    },
    {
     "name": "stdout",
     "output_type": "stream",
     "text": [
      "\u001b[32m[1229 16:18:06 @saver.py:79]\u001b[0m Model saved to .//Model//temp_model\\TGAN4\\model\\model-39.\n",
      "\u001b[32m[1229 16:18:06 @monitor.py:467]\u001b[0m GAN_loss/discrim/accuracy_fake: 0.72\n",
      "\u001b[32m[1229 16:18:06 @monitor.py:467]\u001b[0m GAN_loss/discrim/accuracy_real: 0.3\n",
      "\u001b[32m[1229 16:18:06 @monitor.py:467]\u001b[0m GAN_loss/discrim/loss: 0.7934\n",
      "\u001b[32m[1229 16:18:06 @monitor.py:467]\u001b[0m GAN_loss/gen/final-g-loss: 1.2289\n",
      "\u001b[32m[1229 16:18:06 @monitor.py:467]\u001b[0m GAN_loss/gen/klloss: 0.037979\n",
      "\u001b[32m[1229 16:18:06 @monitor.py:467]\u001b[0m GAN_loss/gen/loss: 1.191\n",
      "\u001b[32m[1229 16:18:06 @monitor.py:467]\u001b[0m QueueInput/queue_size: 50\n",
      "\u001b[32m[1229 16:18:06 @base.py:275]\u001b[0m Start Epoch 2 ...\n"
     ]
    },
    {
     "name": "stderr",
     "output_type": "stream",
     "text": [
      "100%|#####################################################################################|39/39[00:11<00:00, 3.30it/s]"
     ]
    },
    {
     "name": "stdout",
     "output_type": "stream",
     "text": [
      "\u001b[32m[1229 16:18:18 @base.py:285]\u001b[0m Epoch 2 (global_step 78) finished, time:11.8 seconds.\n"
     ]
    },
    {
     "name": "stderr",
     "output_type": "stream",
     "text": [
      "\n"
     ]
    },
    {
     "name": "stdout",
     "output_type": "stream",
     "text": [
      "\u001b[32m[1229 16:18:18 @saver.py:79]\u001b[0m Model saved to .//Model//temp_model\\TGAN4\\model\\model-78.\n",
      "\u001b[32m[1229 16:18:19 @monitor.py:467]\u001b[0m GAN_loss/discrim/accuracy_fake: 0.7\n",
      "\u001b[32m[1229 16:18:19 @monitor.py:467]\u001b[0m GAN_loss/discrim/accuracy_real: 0.34\n",
      "\u001b[32m[1229 16:18:19 @monitor.py:467]\u001b[0m GAN_loss/discrim/loss: 0.70424\n",
      "\u001b[32m[1229 16:18:19 @monitor.py:467]\u001b[0m GAN_loss/gen/final-g-loss: 1.1387\n",
      "\u001b[32m[1229 16:18:19 @monitor.py:467]\u001b[0m GAN_loss/gen/klloss: 0.05377\n",
      "\u001b[32m[1229 16:18:19 @monitor.py:467]\u001b[0m GAN_loss/gen/loss: 1.085\n",
      "\u001b[32m[1229 16:18:19 @monitor.py:467]\u001b[0m QueueInput/queue_size: 50\n",
      "\u001b[32m[1229 16:18:19 @base.py:289]\u001b[0m Training has finished!\n",
      "\u001b[32m[1229 16:18:19 @input_source.py:178]\u001b[0m EnqueueThread QueueInput/input_queue Exited.\n",
      "\u001b[32m[1229 16:18:20 @collection.py:146]\u001b[0m New collections created in tower : tf.GraphKeys.REGULARIZATION_LOSSES\n",
      "\u001b[32m[1229 16:18:20 @collection.py:165]\u001b[0m These collections were modified but restored in : (tf.GraphKeys.SUMMARIES: 0->2)\n",
      "\u001b[32m[1229 16:18:20 @sessinit.py:87]\u001b[0m \u001b[5m\u001b[31mWRN\u001b[0m The following variables are in the checkpoint, but not found in the graph: global_step, optimize/beta1_power, optimize/beta2_power\n",
      "INFO:tensorflow:Graph was finalized.\n",
      "INFO:tensorflow:Running local_init_op.\n",
      "INFO:tensorflow:Done running local_init_op.\n",
      "\u001b[32m[1229 16:18:20 @sessinit.py:114]\u001b[0m Restoring checkpoint from .//Model//temp_model\\TGAN4\\model\\model-78 ...\n",
      "INFO:tensorflow:Restoring parameters from .//Model//temp_model\\TGAN4\\model\\model-78\n"
     ]
    },
    {
     "name": "stderr",
     "output_type": "stream",
     "text": [
      " 48%|########################################3                                           |96/200[00:08<00:09,11.18it/s]\n"
     ]
    }
   ],
   "source": [
    "dataset_dir_tgan = os.path.join(dataset_gen_dir, \"TGAN\") \n",
    "model_temp_dir = \".//Model//temp_model\"\n",
    "if os.path.exists(model_temp_dir):\n",
    "    shutil.rmtree(model_temp_dir)\n",
    "os.makedirs(dataset_dir_tgan, exist_ok = True)\n",
    "for i in tqdm(range(n_synthetic_datasets), desc = \"Generated datasets\", disable = True):\n",
    "    tf.reset_default_graph()\n",
    "    tgan = TGANModel(columns_num, output = os.path.join(model_temp_dir, f\"TGAN{i}\"), \n",
    "                     max_epoch = 2, steps_per_epoch = data_train.shape[0] / 500, num_dis_hidden = 256,\n",
    "                    restore_session=False)\n",
    "    tgan.fit(data_train.reset_index(drop=True))\n",
    "    fake_train = tgan.sample(data_train.shape[0])\n",
    "    fake_train.to_csv(os.path.join(dataset_dir_tgan, f\"gen{i}.csv\"))\n",
    "    del tgan"
   ]
  },
  {
   "cell_type": "code",
   "execution_count": null,
   "id": "9f2826a9",
   "metadata": {},
   "outputs": [],
   "source": []
  }
 ],
 "metadata": {
  "kernelspec": {
   "display_name": "tfv1",
   "language": "python",
   "name": "tfv1"
  },
  "language_info": {
   "codemirror_mode": {
    "name": "ipython",
    "version": 3
   },
   "file_extension": ".py",
   "mimetype": "text/x-python",
   "name": "python",
   "nbconvert_exporter": "python",
   "pygments_lexer": "ipython3",
   "version": "3.7.11"
  }
 },
 "nbformat": 4,
 "nbformat_minor": 5
}
