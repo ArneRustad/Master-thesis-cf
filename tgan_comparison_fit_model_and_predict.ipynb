{
 "cells": [
  {
   "cell_type": "code",
   "execution_count": 27,
   "id": "be148b67",
   "metadata": {},
   "outputs": [],
   "source": [
    "imports_path = \".\\\\imports.ipynb\"\n",
    "tableGAN_path = \".\\\\tableGAN.ipynb\"\n",
    "utils_path = \".\\\\utils.ipynb\"\n",
    "\n",
    "import pandas as pd\n",
    "import os\n",
    "import pickle\n",
    "import time\n",
    "import tensorflow as tf\n",
    "import shutil\n",
    "from tqdm.notebook import tqdm\n",
    "from math import ceil\n",
    "\n",
    "data_train = pd.read_csv('Datasets\\\\df_adult_edited_train.csv')\n",
    "data_test = pd.read_csv('Datasets\\\\df_adult_edited_test.csv')\n",
    "#print(data_train.dtypes)\n",
    "columns_num = data_train.columns[data_train.dtypes == \"int64\"]\n",
    "\n",
    "image_dir = \".\\\\Images\"\n",
    "timer_dir = \".\\\\Timers\"\n",
    "model_dir = \".\\\\Model\\\\tableGAN_ckpt\\\\compare_adult\\\\\"\n",
    "timer_path = os.path.join(timer_dir, \"timer_tgan.pkl\")\n",
    "retrain = True\n",
    "\n",
    "if not os.path.exists(timer_path):\n",
    "    timer = Timer()\n",
    "    timer.save(timer_path)\n",
    "    del timer\n",
    "    \n",
    "from tgan.model import TGANModel\n",
    "\n",
    "%run \"$utils_path\"\n",
    "batch_size = 500"
   ]
  },
  {
   "cell_type": "code",
   "execution_count": 25,
   "id": "9d50319f",
   "metadata": {},
   "outputs": [
    {
     "name": "stdout",
     "output_type": "stream",
     "text": [
      "\u001b[32m[0110 10:14:08 @input_source.py:222]\u001b[0m Setting up the queue 'QueueInput/input_queue' for CPU prefetching ...\n",
      "\u001b[32m[0110 10:14:13 @logger.py:125]\u001b[0m \u001b[5m\u001b[31mWRN\u001b[0m Log directory .\\Model\\tableGAN_ckpt\\compare_adult\\tgan\\logs exists! Use 'd' to delete it. \n",
      "\u001b[32m[0110 10:14:13 @logger.py:128]\u001b[0m \u001b[5m\u001b[31mWRN\u001b[0m If you're resuming from a previous run, you can choose to keep it.\n",
      "Press any other key to exit. \n",
      "Select Action: k (keep) / d (delete) / q (quit):d\n",
      "\u001b[32m[0110 10:14:17 @logger.py:90]\u001b[0m Argv: C:\\Users\\Arne\\anaconda3\\envs\\tfv1\\lib\\site-packages\\ipykernel_launcher.py -f C:\\Users\\Arne\\AppData\\Roaming\\jupyter\\runtime\\kernel-e3f36f9d-faf1-41a8-acc3-436f1e7f847e.json\n",
      "\u001b[32m[0110 10:14:17 @model_utils.py:67]\u001b[0m \u001b[36mList of Trainable Variables: \n",
      "\u001b[0mname                              shape           #elements\n",
      "--------------------------------  ------------  -----------\n",
      "gen/LSTM/go:0                     [1, 100]              100\n",
      "gen/LSTM/lstm_cell/kernel:0       [500, 400]         200000\n",
      "gen/LSTM/lstm_cell/bias:0         [400]                 400\n",
      "gen/LSTM/00/FC/W:0                [100, 100]          10000\n",
      "gen/LSTM/00/FC/b:0                [100]                 100\n",
      "gen/LSTM/00/FC2/W:0               [100, 72]            7200\n",
      "gen/LSTM/00/FC2/b:0               [72]                   72\n",
      "gen/LSTM/00/FC3/W:0               [72, 100]            7200\n",
      "gen/LSTM/00/FC3/b:0               [100]                 100\n",
      "gen/LSTM/00/attw:0                [1, 1, 1]               1\n",
      "gen/LSTM/01/FC/W:0                [100, 100]          10000\n",
      "gen/LSTM/01/FC/b:0                [100]                 100\n",
      "gen/LSTM/01/FC2/W:0               [100, 5]              500\n",
      "gen/LSTM/01/FC2/b:0               [5]                     5\n",
      "gen/LSTM/01/FC3/W:0               [5, 100]              500\n",
      "gen/LSTM/01/FC3/b:0               [100]                 100\n",
      "gen/LSTM/01/attw:0                [2, 1, 1]               2\n",
      "gen/LSTM/02/FC/W:0                [100, 100]          10000\n",
      "gen/LSTM/02/FC/b:0                [100]                 100\n",
      "gen/LSTM/02/FC2/W:0               [100, 20263]      2026300\n",
      "gen/LSTM/02/FC2/b:0               [20263]             20263\n",
      "gen/LSTM/02/FC3/W:0               [20263, 100]      2026300\n",
      "gen/LSTM/02/FC3/b:0               [100]                 100\n",
      "gen/LSTM/02/attw:0                [3, 1, 1]               3\n",
      "gen/LSTM/03/FC/W:0                [100, 100]          10000\n",
      "gen/LSTM/03/FC/b:0                [100]                 100\n",
      "gen/LSTM/03/FC2/W:0               [100, 9]              900\n",
      "gen/LSTM/03/FC2/b:0               [9]                     9\n",
      "gen/LSTM/03/FC3/W:0               [9, 100]              900\n",
      "gen/LSTM/03/FC3/b:0               [100]                 100\n",
      "gen/LSTM/03/attw:0                [4, 1, 1]               4\n",
      "gen/LSTM/04/FC/W:0                [100, 100]          10000\n",
      "gen/LSTM/04/FC/b:0                [100]                 100\n",
      "gen/LSTM/04/FC2/W:0               [100, 16]            1600\n",
      "gen/LSTM/04/FC2/b:0               [16]                   16\n",
      "gen/LSTM/04/FC3/W:0               [16, 100]            1600\n",
      "gen/LSTM/04/FC3/b:0               [100]                 100\n",
      "gen/LSTM/04/attw:0                [5, 1, 1]               5\n",
      "gen/LSTM/05/FC/W:0                [100, 100]          10000\n",
      "gen/LSTM/05/FC/b:0                [100]                 100\n",
      "gen/LSTM/05/FC2/W:0               [100, 7]              700\n",
      "gen/LSTM/05/FC2/b:0               [7]                     7\n",
      "gen/LSTM/05/FC3/W:0               [7, 100]              700\n",
      "gen/LSTM/05/FC3/b:0               [100]                 100\n",
      "gen/LSTM/05/attw:0                [6, 1, 1]               6\n",
      "gen/LSTM/06/FC/W:0                [100, 100]          10000\n",
      "gen/LSTM/06/FC/b:0                [100]                 100\n",
      "gen/LSTM/06/FC2/W:0               [100, 14]            1400\n",
      "gen/LSTM/06/FC2/b:0               [14]                   14\n",
      "gen/LSTM/06/FC3/W:0               [14, 100]            1400\n",
      "gen/LSTM/06/FC3/b:0               [100]                 100\n",
      "gen/LSTM/06/attw:0                [7, 1, 1]               7\n",
      "gen/LSTM/07/FC/W:0                [100, 100]          10000\n",
      "gen/LSTM/07/FC/b:0                [100]                 100\n",
      "gen/LSTM/07/FC2/W:0               [100, 5]              500\n",
      "gen/LSTM/07/FC2/b:0               [5]                     5\n",
      "gen/LSTM/07/FC3/W:0               [5, 100]              500\n",
      "gen/LSTM/07/FC3/b:0               [100]                 100\n",
      "gen/LSTM/07/attw:0                [8, 1, 1]               8\n",
      "gen/LSTM/08/FC/W:0                [100, 100]          10000\n",
      "gen/LSTM/08/FC/b:0                [100]                 100\n",
      "gen/LSTM/08/FC2/W:0               [100, 2]              200\n",
      "gen/LSTM/08/FC2/b:0               [2]                     2\n",
      "gen/LSTM/08/FC3/W:0               [2, 100]              200\n",
      "gen/LSTM/08/FC3/b:0               [100]                 100\n",
      "gen/LSTM/08/attw:0                [9, 1, 1]               9\n",
      "gen/LSTM/09/FC/W:0                [100, 100]          10000\n",
      "gen/LSTM/09/FC/b:0                [100]                 100\n",
      "gen/LSTM/09/FC2/W:0               [100, 118]          11800\n",
      "gen/LSTM/09/FC2/b:0               [118]                 118\n",
      "gen/LSTM/09/FC3/W:0               [118, 100]          11800\n",
      "gen/LSTM/09/FC3/b:0               [100]                 100\n",
      "gen/LSTM/09/attw:0                [10, 1, 1]             10\n",
      "gen/LSTM/10/FC/W:0                [100, 100]          10000\n",
      "gen/LSTM/10/FC/b:0                [100]                 100\n",
      "gen/LSTM/10/FC2/W:0               [100, 90]            9000\n",
      "gen/LSTM/10/FC2/b:0               [90]                   90\n",
      "gen/LSTM/10/FC3/W:0               [90, 100]            9000\n",
      "gen/LSTM/10/FC3/b:0               [100]                 100\n",
      "gen/LSTM/10/attw:0                [11, 1, 1]             11\n",
      "gen/LSTM/11/FC/W:0                [100, 100]          10000\n",
      "gen/LSTM/11/FC/b:0                [100]                 100\n",
      "gen/LSTM/11/FC2/W:0               [100, 94]            9400\n",
      "gen/LSTM/11/FC2/b:0               [94]                   94\n",
      "gen/LSTM/11/FC3/W:0               [94, 100]            9400\n",
      "gen/LSTM/11/FC3/b:0               [100]                 100\n",
      "gen/LSTM/11/attw:0                [12, 1, 1]             12\n",
      "gen/LSTM/12/FC/W:0                [100, 100]          10000\n",
      "gen/LSTM/12/FC/b:0                [100]                 100\n",
      "gen/LSTM/12/FC2/W:0               [100, 2]              200\n",
      "gen/LSTM/12/FC2/b:0               [2]                     2\n",
      "gen/LSTM/12/FC3/W:0               [2, 100]              200\n",
      "gen/LSTM/12/FC3/b:0               [100]                 100\n",
      "gen/LSTM/12/attw:0                [13, 1, 1]             13\n",
      "gen/LSTM/13/FC/W:0                [100, 100]          10000\n",
      "gen/LSTM/13/FC/b:0                [100]                 100\n",
      "gen/LSTM/13/FC2/W:0               [100, 2]              200\n",
      "gen/LSTM/13/FC2/b:0               [2]                     2\n",
      "gen/LSTM/13/FC3/W:0               [2, 100]              200\n",
      "gen/LSTM/13/FC3/b:0               [100]                 100\n",
      "gen/LSTM/13/attw:0                [14, 1, 1]             14\n",
      "gen/LSTM/14/FC/W:0                [100, 100]          10000\n",
      "gen/LSTM/14/FC/b:0                [100]                 100\n",
      "gen/LSTM/14/FC2/W:0               [100, 5]              500\n",
      "gen/LSTM/14/FC2/b:0               [5]                     5\n",
      "gen/LSTM/14/FC3/W:0               [5, 100]              500\n",
      "gen/LSTM/14/FC3/b:0               [100]                 100\n",
      "gen/LSTM/14/attw:0                [15, 1, 1]             15\n",
      "discrim/dis_fc0/fc/W:0            [20704, 256]      5300224\n",
      "discrim/dis_fc0/fc/b:0            [256]                 256\n",
      "discrim/dis_fc0/fc_diversity/W:0  [256, 100]          25600\n",
      "discrim/dis_fc0/fc_diversity/b:0  [100]                 100\n",
      "discrim/dis_fc0/bn/beta:0         [266]                 266\n",
      "discrim/dis_fc_top/W:0            [266, 1]              266\n",
      "discrim/dis_fc_top/b:0            [1]                     1\u001b[36m\n",
      "Number of trainable variables: 115\n",
      "Number of parameters (elements): 9841837\n",
      "Storage space needed for all trainable variables: 37.54MB\u001b[0m\n",
      "\u001b[32m[0110 10:14:17 @base.py:209]\u001b[0m Setup callbacks graph ...\n",
      "\u001b[32m[0110 10:14:17 @summary.py:46]\u001b[0m [MovingAverageSummary] 6 operations in collection 'MOVING_SUMMARY_OPS' will be run with session hooks.\n",
      "\u001b[32m[0110 10:14:17 @summary.py:93]\u001b[0m Summarizing collection 'summaries' of size 9.\n"
     ]
    },
    {
     "name": "stdout",
     "output_type": "stream",
     "text": [
      "\u001b[32m[0110 10:14:17 @graph.py:98]\u001b[0m Applying collection UPDATE_OPS of 4 ops.\n",
      "\u001b[32m[0110 10:14:18 @base.py:230]\u001b[0m Creating the session ...\n",
      "\u001b[32m[0110 10:14:19 @base.py:236]\u001b[0m Initializing the session ...\n",
      "\u001b[32m[0110 10:14:19 @base.py:243]\u001b[0m Graph Finalized.\n",
      "\u001b[32m[0110 10:14:19 @concurrency.py:38]\u001b[0m Starting EnqueueThread QueueInput/input_queue ...\n",
      "\u001b[32m[0110 10:14:20 @base.py:275]\u001b[0m Start Epoch 1 ...\n"
     ]
    },
    {
     "name": "stderr",
     "output_type": "stream",
     "text": [
      "100%|#####################################################################################|60/60[01:10<00:00, 0.85it/s]"
     ]
    },
    {
     "name": "stdout",
     "output_type": "stream",
     "text": [
      "\u001b[32m[0110 10:15:30 @base.py:285]\u001b[0m Epoch 1 (global_step 60) finished, time:1 minute 10 seconds.\n"
     ]
    },
    {
     "name": "stderr",
     "output_type": "stream",
     "text": [
      "\n"
     ]
    },
    {
     "name": "stdout",
     "output_type": "stream",
     "text": [
      "\u001b[32m[0110 10:15:31 @saver.py:79]\u001b[0m Model saved to .\\Model\\tableGAN_ckpt\\compare_adult\\tgan\\model\\model-60.\n",
      "\u001b[32m[0110 10:15:31 @monitor.py:467]\u001b[0m GAN_loss/discrim/accuracy_fake: 0.744\n",
      "\u001b[32m[0110 10:15:31 @monitor.py:467]\u001b[0m GAN_loss/discrim/accuracy_real: 0.366\n",
      "\u001b[32m[0110 10:15:31 @monitor.py:467]\u001b[0m GAN_loss/discrim/loss: 0.71829\n",
      "\u001b[32m[0110 10:15:31 @monitor.py:467]\u001b[0m GAN_loss/gen/final-g-loss: 1.1585\n",
      "\u001b[32m[0110 10:15:31 @monitor.py:467]\u001b[0m GAN_loss/gen/klloss: 0.018167\n",
      "\u001b[32m[0110 10:15:31 @monitor.py:467]\u001b[0m GAN_loss/gen/loss: 1.1404\n",
      "\u001b[32m[0110 10:15:31 @monitor.py:467]\u001b[0m QueueInput/queue_size: 50\n",
      "\u001b[32m[0110 10:15:31 @base.py:275]\u001b[0m Start Epoch 2 ...\n"
     ]
    },
    {
     "name": "stderr",
     "output_type": "stream",
     "text": [
      "100%|#####################################################################################|60/60[01:07<00:00, 0.89it/s]"
     ]
    },
    {
     "name": "stdout",
     "output_type": "stream",
     "text": [
      "\u001b[32m[0110 10:16:38 @base.py:285]\u001b[0m Epoch 2 (global_step 120) finished, time:1 minute 7 seconds.\n"
     ]
    },
    {
     "name": "stderr",
     "output_type": "stream",
     "text": [
      "\n"
     ]
    },
    {
     "name": "stdout",
     "output_type": "stream",
     "text": [
      "\u001b[32m[0110 10:16:39 @saver.py:79]\u001b[0m Model saved to .\\Model\\tableGAN_ckpt\\compare_adult\\tgan\\model\\model-120.\n",
      "\u001b[32m[0110 10:16:39 @monitor.py:467]\u001b[0m GAN_loss/discrim/accuracy_fake: 0.816\n",
      "\u001b[32m[0110 10:16:39 @monitor.py:467]\u001b[0m GAN_loss/discrim/accuracy_real: 0.392\n",
      "\u001b[32m[0110 10:16:39 @monitor.py:467]\u001b[0m GAN_loss/discrim/loss: 0.63746\n",
      "\u001b[32m[0110 10:16:39 @monitor.py:467]\u001b[0m GAN_loss/gen/final-g-loss: 1.0867\n",
      "\u001b[32m[0110 10:16:39 @monitor.py:467]\u001b[0m GAN_loss/gen/klloss: 0.01819\n",
      "\u001b[32m[0110 10:16:39 @monitor.py:467]\u001b[0m GAN_loss/gen/loss: 1.0685\n",
      "\u001b[32m[0110 10:16:39 @monitor.py:467]\u001b[0m QueueInput/queue_size: 50\n",
      "\u001b[32m[0110 10:16:39 @base.py:275]\u001b[0m Start Epoch 3 ...\n"
     ]
    },
    {
     "name": "stderr",
     "output_type": "stream",
     "text": [
      "100%|#####################################################################################|60/60[01:07<00:00, 0.90it/s]"
     ]
    },
    {
     "name": "stdout",
     "output_type": "stream",
     "text": [
      "\u001b[32m[0110 10:17:46 @base.py:285]\u001b[0m Epoch 3 (global_step 180) finished, time:1 minute 7 seconds.\n"
     ]
    },
    {
     "name": "stderr",
     "output_type": "stream",
     "text": [
      "\n"
     ]
    },
    {
     "name": "stdout",
     "output_type": "stream",
     "text": [
      "\u001b[32m[0110 10:17:47 @saver.py:79]\u001b[0m Model saved to .\\Model\\tableGAN_ckpt\\compare_adult\\tgan\\model\\model-180.\n",
      "\u001b[32m[0110 10:17:47 @monitor.py:467]\u001b[0m GAN_loss/discrim/accuracy_fake: 0.862\n",
      "\u001b[32m[0110 10:17:47 @monitor.py:467]\u001b[0m GAN_loss/discrim/accuracy_real: 0.398\n",
      "\u001b[32m[0110 10:17:47 @monitor.py:467]\u001b[0m GAN_loss/discrim/loss: 0.61023\n",
      "\u001b[32m[0110 10:17:47 @monitor.py:467]\u001b[0m GAN_loss/gen/final-g-loss: 1.1387\n",
      "\u001b[32m[0110 10:17:47 @monitor.py:467]\u001b[0m GAN_loss/gen/klloss: 0.058815\n",
      "\u001b[32m[0110 10:17:47 @monitor.py:467]\u001b[0m GAN_loss/gen/loss: 1.0798\n",
      "\u001b[32m[0110 10:17:47 @monitor.py:467]\u001b[0m QueueInput/queue_size: 50\n",
      "\u001b[32m[0110 10:17:47 @base.py:275]\u001b[0m Start Epoch 4 ...\n"
     ]
    },
    {
     "name": "stderr",
     "output_type": "stream",
     "text": [
      "100%|#####################################################################################|60/60[01:07<00:00, 0.89it/s]"
     ]
    },
    {
     "name": "stdout",
     "output_type": "stream",
     "text": [
      "\u001b[32m[0110 10:18:54 @base.py:285]\u001b[0m Epoch 4 (global_step 240) finished, time:1 minute 7 seconds.\n"
     ]
    },
    {
     "name": "stderr",
     "output_type": "stream",
     "text": [
      "\n"
     ]
    },
    {
     "name": "stdout",
     "output_type": "stream",
     "text": [
      "\u001b[32m[0110 10:18:55 @saver.py:79]\u001b[0m Model saved to .\\Model\\tableGAN_ckpt\\compare_adult\\tgan\\model\\model-240.\n",
      "\u001b[32m[0110 10:18:55 @monitor.py:467]\u001b[0m GAN_loss/discrim/accuracy_fake: 0.822\n",
      "\u001b[32m[0110 10:18:55 @monitor.py:467]\u001b[0m GAN_loss/discrim/accuracy_real: 0.36\n",
      "\u001b[32m[0110 10:18:55 @monitor.py:467]\u001b[0m GAN_loss/discrim/loss: 0.62302\n",
      "\u001b[32m[0110 10:18:55 @monitor.py:467]\u001b[0m GAN_loss/gen/final-g-loss: 1.1106\n",
      "\u001b[32m[0110 10:18:55 @monitor.py:467]\u001b[0m GAN_loss/gen/klloss: 0.073747\n",
      "\u001b[32m[0110 10:18:55 @monitor.py:467]\u001b[0m GAN_loss/gen/loss: 1.0369\n",
      "\u001b[32m[0110 10:18:55 @monitor.py:467]\u001b[0m QueueInput/queue_size: 50\n",
      "\u001b[32m[0110 10:18:55 @base.py:275]\u001b[0m Start Epoch 5 ...\n"
     ]
    },
    {
     "name": "stderr",
     "output_type": "stream",
     "text": [
      "100%|#####################################################################################|60/60[01:08<00:00, 0.88it/s]"
     ]
    },
    {
     "name": "stdout",
     "output_type": "stream",
     "text": [
      "\u001b[32m[0110 10:20:03 @base.py:285]\u001b[0m Epoch 5 (global_step 300) finished, time:1 minute 8 seconds.\n"
     ]
    },
    {
     "name": "stderr",
     "output_type": "stream",
     "text": [
      "\n"
     ]
    },
    {
     "name": "stdout",
     "output_type": "stream",
     "text": [
      "\u001b[32m[0110 10:20:03 @saver.py:79]\u001b[0m Model saved to .\\Model\\tableGAN_ckpt\\compare_adult\\tgan\\model\\model-300.\n",
      "\u001b[32m[0110 10:20:03 @monitor.py:467]\u001b[0m GAN_loss/discrim/accuracy_fake: 0.834\n",
      "\u001b[32m[0110 10:20:03 @monitor.py:467]\u001b[0m GAN_loss/discrim/accuracy_real: 0.408\n",
      "\u001b[32m[0110 10:20:03 @monitor.py:467]\u001b[0m GAN_loss/discrim/loss: 0.61448\n",
      "\u001b[32m[0110 10:20:03 @monitor.py:467]\u001b[0m GAN_loss/gen/final-g-loss: 1.0994\n",
      "\u001b[32m[0110 10:20:03 @monitor.py:467]\u001b[0m GAN_loss/gen/klloss: 0.051909\n",
      "\u001b[32m[0110 10:20:03 @monitor.py:467]\u001b[0m GAN_loss/gen/loss: 1.0475\n",
      "\u001b[32m[0110 10:20:03 @monitor.py:467]\u001b[0m QueueInput/queue_size: 50\n",
      "\u001b[32m[0110 10:20:03 @base.py:275]\u001b[0m Start Epoch 6 ...\n"
     ]
    },
    {
     "name": "stderr",
     "output_type": "stream",
     "text": [
      "100%|#####################################################################################|60/60[01:07<00:00, 0.89it/s]"
     ]
    },
    {
     "name": "stdout",
     "output_type": "stream",
     "text": [
      "\u001b[32m[0110 10:21:11 @base.py:285]\u001b[0m Epoch 6 (global_step 360) finished, time:1 minute 7 seconds.\n"
     ]
    },
    {
     "name": "stderr",
     "output_type": "stream",
     "text": [
      "\n"
     ]
    },
    {
     "name": "stdout",
     "output_type": "stream",
     "text": [
      "\u001b[32m[0110 10:21:11 @saver.py:79]\u001b[0m Model saved to .\\Model\\tableGAN_ckpt\\compare_adult\\tgan\\model\\model-360.\n",
      "\u001b[32m[0110 10:21:11 @monitor.py:467]\u001b[0m GAN_loss/discrim/accuracy_fake: 0.83\n",
      "\u001b[32m[0110 10:21:11 @monitor.py:467]\u001b[0m GAN_loss/discrim/accuracy_real: 0.364\n",
      "\u001b[32m[0110 10:21:11 @monitor.py:467]\u001b[0m GAN_loss/discrim/loss: 0.61303\n",
      "\u001b[32m[0110 10:21:11 @monitor.py:467]\u001b[0m GAN_loss/gen/final-g-loss: 1.11\n",
      "\u001b[32m[0110 10:21:11 @monitor.py:467]\u001b[0m GAN_loss/gen/klloss: 0.037802\n",
      "\u001b[32m[0110 10:21:11 @monitor.py:467]\u001b[0m GAN_loss/gen/loss: 1.0722\n",
      "\u001b[32m[0110 10:21:11 @monitor.py:467]\u001b[0m QueueInput/queue_size: 50\n",
      "\u001b[32m[0110 10:21:11 @base.py:275]\u001b[0m Start Epoch 7 ...\n"
     ]
    },
    {
     "name": "stderr",
     "output_type": "stream",
     "text": [
      "100%|#####################################################################################|60/60[01:07<00:00, 0.89it/s]"
     ]
    },
    {
     "name": "stdout",
     "output_type": "stream",
     "text": [
      "\u001b[32m[0110 10:22:19 @base.py:285]\u001b[0m Epoch 7 (global_step 420) finished, time:1 minute 7 seconds.\n"
     ]
    },
    {
     "name": "stderr",
     "output_type": "stream",
     "text": [
      "\n"
     ]
    },
    {
     "name": "stdout",
     "output_type": "stream",
     "text": [
      "\u001b[32m[0110 10:22:20 @saver.py:79]\u001b[0m Model saved to .\\Model\\tableGAN_ckpt\\compare_adult\\tgan\\model\\model-420.\n",
      "\u001b[32m[0110 10:22:20 @monitor.py:467]\u001b[0m GAN_loss/discrim/accuracy_fake: 0.826\n",
      "\u001b[32m[0110 10:22:20 @monitor.py:467]\u001b[0m GAN_loss/discrim/accuracy_real: 0.342\n",
      "\u001b[32m[0110 10:22:20 @monitor.py:467]\u001b[0m GAN_loss/discrim/loss: 0.62302\n",
      "\u001b[32m[0110 10:22:20 @monitor.py:467]\u001b[0m GAN_loss/gen/final-g-loss: 1.0943\n",
      "\u001b[32m[0110 10:22:20 @monitor.py:467]\u001b[0m GAN_loss/gen/klloss: 0.048082\n",
      "\u001b[32m[0110 10:22:20 @monitor.py:467]\u001b[0m GAN_loss/gen/loss: 1.0462\n",
      "\u001b[32m[0110 10:22:20 @monitor.py:467]\u001b[0m QueueInput/queue_size: 50\n",
      "\u001b[32m[0110 10:22:20 @base.py:275]\u001b[0m Start Epoch 8 ...\n"
     ]
    },
    {
     "name": "stderr",
     "output_type": "stream",
     "text": [
      "100%|#####################################################################################|60/60[01:07<00:00, 0.88it/s]"
     ]
    },
    {
     "name": "stdout",
     "output_type": "stream",
     "text": [
      "\u001b[32m[0110 10:23:28 @base.py:285]\u001b[0m Epoch 8 (global_step 480) finished, time:1 minute 7 seconds.\n"
     ]
    },
    {
     "name": "stderr",
     "output_type": "stream",
     "text": [
      "\n"
     ]
    },
    {
     "name": "stdout",
     "output_type": "stream",
     "text": [
      "\u001b[32m[0110 10:23:29 @saver.py:79]\u001b[0m Model saved to .\\Model\\tableGAN_ckpt\\compare_adult\\tgan\\model\\model-480.\n",
      "\u001b[32m[0110 10:23:29 @monitor.py:467]\u001b[0m GAN_loss/discrim/accuracy_fake: 0.836\n",
      "\u001b[32m[0110 10:23:29 @monitor.py:467]\u001b[0m GAN_loss/discrim/accuracy_real: 0.318\n",
      "\u001b[32m[0110 10:23:29 @monitor.py:467]\u001b[0m GAN_loss/discrim/loss: 0.6235\n",
      "\u001b[32m[0110 10:23:29 @monitor.py:467]\u001b[0m GAN_loss/gen/final-g-loss: 1.1154\n",
      "\u001b[32m[0110 10:23:29 @monitor.py:467]\u001b[0m GAN_loss/gen/klloss: 0.046867\n",
      "\u001b[32m[0110 10:23:29 @monitor.py:467]\u001b[0m GAN_loss/gen/loss: 1.0686\n",
      "\u001b[32m[0110 10:23:29 @monitor.py:467]\u001b[0m QueueInput/queue_size: 50\n",
      "\u001b[32m[0110 10:23:29 @base.py:275]\u001b[0m Start Epoch 9 ...\n"
     ]
    },
    {
     "name": "stderr",
     "output_type": "stream",
     "text": [
      "100%|#####################################################################################|60/60[01:07<00:00, 0.89it/s]"
     ]
    },
    {
     "name": "stdout",
     "output_type": "stream",
     "text": [
      "\u001b[32m[0110 10:24:36 @base.py:285]\u001b[0m Epoch 9 (global_step 540) finished, time:1 minute 7 seconds.\n"
     ]
    },
    {
     "name": "stderr",
     "output_type": "stream",
     "text": [
      "\n"
     ]
    },
    {
     "name": "stdout",
     "output_type": "stream",
     "text": [
      "\u001b[32m[0110 10:24:37 @saver.py:79]\u001b[0m Model saved to .\\Model\\tableGAN_ckpt\\compare_adult\\tgan\\model\\model-540.\n",
      "\u001b[32m[0110 10:24:37 @monitor.py:467]\u001b[0m GAN_loss/discrim/accuracy_fake: 0.824\n",
      "\u001b[32m[0110 10:24:37 @monitor.py:467]\u001b[0m GAN_loss/discrim/accuracy_real: 0.344\n",
      "\u001b[32m[0110 10:24:37 @monitor.py:467]\u001b[0m GAN_loss/discrim/loss: 0.6271\n",
      "\u001b[32m[0110 10:24:37 @monitor.py:467]\u001b[0m GAN_loss/gen/final-g-loss: 1.0929\n",
      "\u001b[32m[0110 10:24:37 @monitor.py:467]\u001b[0m GAN_loss/gen/klloss: 0.061362\n",
      "\u001b[32m[0110 10:24:37 @monitor.py:467]\u001b[0m GAN_loss/gen/loss: 1.0315\n",
      "\u001b[32m[0110 10:24:37 @monitor.py:467]\u001b[0m QueueInput/queue_size: 50\n",
      "\u001b[32m[0110 10:24:37 @base.py:275]\u001b[0m Start Epoch 10 ...\n"
     ]
    },
    {
     "name": "stderr",
     "output_type": "stream",
     "text": [
      "100%|#####################################################################################|60/60[01:11<00:00, 0.84it/s]"
     ]
    },
    {
     "name": "stdout",
     "output_type": "stream",
     "text": [
      "\u001b[32m[0110 10:25:48 @base.py:285]\u001b[0m Epoch 10 (global_step 600) finished, time:1 minute 11 seconds.\n"
     ]
    },
    {
     "name": "stderr",
     "output_type": "stream",
     "text": [
      "\n"
     ]
    },
    {
     "name": "stdout",
     "output_type": "stream",
     "text": [
      "\u001b[32m[0110 10:25:49 @saver.py:79]\u001b[0m Model saved to .\\Model\\tableGAN_ckpt\\compare_adult\\tgan\\model\\model-600.\n",
      "\u001b[32m[0110 10:25:49 @monitor.py:467]\u001b[0m GAN_loss/discrim/accuracy_fake: 0.856\n",
      "\u001b[32m[0110 10:25:49 @monitor.py:467]\u001b[0m GAN_loss/discrim/accuracy_real: 0.34\n",
      "\u001b[32m[0110 10:25:49 @monitor.py:467]\u001b[0m GAN_loss/discrim/loss: 0.62113\n",
      "\u001b[32m[0110 10:25:49 @monitor.py:467]\u001b[0m GAN_loss/gen/final-g-loss: 1.0747\n",
      "\u001b[32m[0110 10:25:49 @monitor.py:467]\u001b[0m GAN_loss/gen/klloss: 0.03118\n",
      "\u001b[32m[0110 10:25:49 @monitor.py:467]\u001b[0m GAN_loss/gen/loss: 1.0435\n",
      "\u001b[32m[0110 10:25:49 @monitor.py:467]\u001b[0m QueueInput/queue_size: 50\n",
      "\u001b[32m[0110 10:25:49 @base.py:275]\u001b[0m Start Epoch 11 ...\n"
     ]
    },
    {
     "name": "stderr",
     "output_type": "stream",
     "text": [
      "100%|#####################################################################################|60/60[01:09<00:00, 0.86it/s]"
     ]
    },
    {
     "name": "stdout",
     "output_type": "stream",
     "text": [
      "\u001b[32m[0110 10:26:59 @base.py:285]\u001b[0m Epoch 11 (global_step 660) finished, time:1 minute 9 seconds.\n"
     ]
    },
    {
     "name": "stderr",
     "output_type": "stream",
     "text": [
      "\n"
     ]
    },
    {
     "name": "stdout",
     "output_type": "stream",
     "text": [
      "\u001b[32m[0110 10:27:00 @saver.py:79]\u001b[0m Model saved to .\\Model\\tableGAN_ckpt\\compare_adult\\tgan\\model\\model-660.\n",
      "\u001b[32m[0110 10:27:00 @monitor.py:467]\u001b[0m GAN_loss/discrim/accuracy_fake: 0.844\n",
      "\u001b[32m[0110 10:27:00 @monitor.py:467]\u001b[0m GAN_loss/discrim/accuracy_real: 0.322\n",
      "\u001b[32m[0110 10:27:00 @monitor.py:467]\u001b[0m GAN_loss/discrim/loss: 0.63276\n",
      "\u001b[32m[0110 10:27:00 @monitor.py:467]\u001b[0m GAN_loss/gen/final-g-loss: 1.053\n",
      "\u001b[32m[0110 10:27:00 @monitor.py:467]\u001b[0m GAN_loss/gen/klloss: 0.031336\n",
      "\u001b[32m[0110 10:27:00 @monitor.py:467]\u001b[0m GAN_loss/gen/loss: 1.0216\n",
      "\u001b[32m[0110 10:27:00 @monitor.py:467]\u001b[0m QueueInput/queue_size: 50\n",
      "\u001b[32m[0110 10:27:00 @base.py:275]\u001b[0m Start Epoch 12 ...\n"
     ]
    },
    {
     "name": "stderr",
     "output_type": "stream",
     "text": [
      "100%|#####################################################################################|60/60[01:07<00:00, 0.89it/s]"
     ]
    },
    {
     "name": "stdout",
     "output_type": "stream",
     "text": [
      "\u001b[32m[0110 10:28:07 @base.py:285]\u001b[0m Epoch 12 (global_step 720) finished, time:1 minute 7 seconds.\n"
     ]
    },
    {
     "name": "stderr",
     "output_type": "stream",
     "text": [
      "\n"
     ]
    },
    {
     "name": "stdout",
     "output_type": "stream",
     "text": [
      "\u001b[32m[0110 10:28:08 @saver.py:79]\u001b[0m Model saved to .\\Model\\tableGAN_ckpt\\compare_adult\\tgan\\model\\model-720.\n",
      "\u001b[32m[0110 10:28:08 @monitor.py:467]\u001b[0m GAN_loss/discrim/accuracy_fake: 0.84\n",
      "\u001b[32m[0110 10:28:08 @monitor.py:467]\u001b[0m GAN_loss/discrim/accuracy_real: 0.336\n",
      "\u001b[32m[0110 10:28:08 @monitor.py:467]\u001b[0m GAN_loss/discrim/loss: 0.62163\n",
      "\u001b[32m[0110 10:28:08 @monitor.py:467]\u001b[0m GAN_loss/gen/final-g-loss: 1.0782\n",
      "\u001b[32m[0110 10:28:08 @monitor.py:467]\u001b[0m GAN_loss/gen/klloss: 0.049025\n",
      "\u001b[32m[0110 10:28:08 @monitor.py:467]\u001b[0m GAN_loss/gen/loss: 1.0291\n",
      "\u001b[32m[0110 10:28:08 @monitor.py:467]\u001b[0m QueueInput/queue_size: 50\n",
      "\u001b[32m[0110 10:28:08 @base.py:275]\u001b[0m Start Epoch 13 ...\n"
     ]
    },
    {
     "name": "stderr",
     "output_type": "stream",
     "text": [
      "100%|#####################################################################################|60/60[01:06<00:00, 0.90it/s]"
     ]
    },
    {
     "name": "stdout",
     "output_type": "stream",
     "text": [
      "\u001b[32m[0110 10:29:15 @base.py:285]\u001b[0m Epoch 13 (global_step 780) finished, time:1 minute 6 seconds.\n"
     ]
    },
    {
     "name": "stderr",
     "output_type": "stream",
     "text": [
      "\n"
     ]
    },
    {
     "name": "stdout",
     "output_type": "stream",
     "text": [
      "\u001b[32m[0110 10:29:17 @saver.py:79]\u001b[0m Model saved to .\\Model\\tableGAN_ckpt\\compare_adult\\tgan\\model\\model-780.\n",
      "\u001b[32m[0110 10:29:17 @monitor.py:467]\u001b[0m GAN_loss/discrim/accuracy_fake: 0.82\n",
      "\u001b[32m[0110 10:29:17 @monitor.py:467]\u001b[0m GAN_loss/discrim/accuracy_real: 0.356\n",
      "\u001b[32m[0110 10:29:17 @monitor.py:467]\u001b[0m GAN_loss/discrim/loss: 0.6356\n",
      "\u001b[32m[0110 10:29:17 @monitor.py:467]\u001b[0m GAN_loss/gen/final-g-loss: 1.0414\n",
      "\u001b[32m[0110 10:29:17 @monitor.py:467]\u001b[0m GAN_loss/gen/klloss: 0.056195\n",
      "\u001b[32m[0110 10:29:17 @monitor.py:467]\u001b[0m GAN_loss/gen/loss: 0.98518\n",
      "\u001b[32m[0110 10:29:17 @monitor.py:467]\u001b[0m QueueInput/queue_size: 50\n",
      "\u001b[32m[0110 10:29:17 @base.py:275]\u001b[0m Start Epoch 14 ...\n"
     ]
    },
    {
     "name": "stderr",
     "output_type": "stream",
     "text": [
      "100%|#####################################################################################|60/60[01:06<00:00, 0.90it/s]"
     ]
    },
    {
     "name": "stdout",
     "output_type": "stream",
     "text": [
      "\u001b[32m[0110 10:30:24 @base.py:285]\u001b[0m Epoch 14 (global_step 840) finished, time:1 minute 6 seconds.\n"
     ]
    },
    {
     "name": "stderr",
     "output_type": "stream",
     "text": [
      "\n"
     ]
    },
    {
     "name": "stdout",
     "output_type": "stream",
     "text": [
      "\u001b[32m[0110 10:30:24 @saver.py:79]\u001b[0m Model saved to .\\Model\\tableGAN_ckpt\\compare_adult\\tgan\\model\\model-840.\n",
      "\u001b[32m[0110 10:30:24 @monitor.py:467]\u001b[0m GAN_loss/discrim/accuracy_fake: 0.842\n",
      "\u001b[32m[0110 10:30:24 @monitor.py:467]\u001b[0m GAN_loss/discrim/accuracy_real: 0.35\n",
      "\u001b[32m[0110 10:30:24 @monitor.py:467]\u001b[0m GAN_loss/discrim/loss: 0.6242\n",
      "\u001b[32m[0110 10:30:24 @monitor.py:467]\u001b[0m GAN_loss/gen/final-g-loss: 1.0664\n",
      "\u001b[32m[0110 10:30:24 @monitor.py:467]\u001b[0m GAN_loss/gen/klloss: 0.050911\n",
      "\u001b[32m[0110 10:30:24 @monitor.py:467]\u001b[0m GAN_loss/gen/loss: 1.0155\n",
      "\u001b[32m[0110 10:30:24 @monitor.py:467]\u001b[0m QueueInput/queue_size: 50\n",
      "\u001b[32m[0110 10:30:24 @base.py:275]\u001b[0m Start Epoch 15 ...\n"
     ]
    },
    {
     "name": "stderr",
     "output_type": "stream",
     "text": [
      "100%|#####################################################################################|60/60[01:07<00:00, 0.89it/s]"
     ]
    },
    {
     "name": "stdout",
     "output_type": "stream",
     "text": [
      "\u001b[32m[0110 10:31:32 @base.py:285]\u001b[0m Epoch 15 (global_step 900) finished, time:1 minute 7 seconds.\n"
     ]
    },
    {
     "name": "stderr",
     "output_type": "stream",
     "text": [
      "\n"
     ]
    },
    {
     "name": "stdout",
     "output_type": "stream",
     "text": [
      "\u001b[32m[0110 10:31:32 @saver.py:79]\u001b[0m Model saved to .\\Model\\tableGAN_ckpt\\compare_adult\\tgan\\model\\model-900.\n",
      "\u001b[32m[0110 10:31:32 @monitor.py:467]\u001b[0m GAN_loss/discrim/accuracy_fake: 0.856\n",
      "\u001b[32m[0110 10:31:32 @monitor.py:467]\u001b[0m GAN_loss/discrim/accuracy_real: 0.304\n",
      "\u001b[32m[0110 10:31:32 @monitor.py:467]\u001b[0m GAN_loss/discrim/loss: 0.63071\n",
      "\u001b[32m[0110 10:31:32 @monitor.py:467]\u001b[0m GAN_loss/gen/final-g-loss: 1.0856\n",
      "\u001b[32m[0110 10:31:32 @monitor.py:467]\u001b[0m GAN_loss/gen/klloss: 0.061912\n",
      "\u001b[32m[0110 10:31:32 @monitor.py:467]\u001b[0m GAN_loss/gen/loss: 1.0237\n",
      "\u001b[32m[0110 10:31:32 @monitor.py:467]\u001b[0m QueueInput/queue_size: 50\n",
      "\u001b[32m[0110 10:31:32 @base.py:275]\u001b[0m Start Epoch 16 ...\n"
     ]
    },
    {
     "name": "stderr",
     "output_type": "stream",
     "text": [
      "100%|#####################################################################################|60/60[01:06<00:00, 0.90it/s]"
     ]
    },
    {
     "name": "stdout",
     "output_type": "stream",
     "text": [
      "\u001b[32m[0110 10:32:39 @base.py:285]\u001b[0m Epoch 16 (global_step 960) finished, time:1 minute 6 seconds.\n"
     ]
    },
    {
     "name": "stderr",
     "output_type": "stream",
     "text": [
      "\n"
     ]
    },
    {
     "name": "stdout",
     "output_type": "stream",
     "text": [
      "\u001b[32m[0110 10:32:40 @saver.py:79]\u001b[0m Model saved to .\\Model\\tableGAN_ckpt\\compare_adult\\tgan\\model\\model-960.\n",
      "\u001b[32m[0110 10:32:40 @monitor.py:467]\u001b[0m GAN_loss/discrim/accuracy_fake: 0.816\n",
      "\u001b[32m[0110 10:32:40 @monitor.py:467]\u001b[0m GAN_loss/discrim/accuracy_real: 0.306\n",
      "\u001b[32m[0110 10:32:40 @monitor.py:467]\u001b[0m GAN_loss/discrim/loss: 0.63407\n",
      "\u001b[32m[0110 10:32:40 @monitor.py:467]\u001b[0m GAN_loss/gen/final-g-loss: 1.0272\n",
      "\u001b[32m[0110 10:32:40 @monitor.py:467]\u001b[0m GAN_loss/gen/klloss: 0.040784\n",
      "\u001b[32m[0110 10:32:40 @monitor.py:467]\u001b[0m GAN_loss/gen/loss: 0.98639\n",
      "\u001b[32m[0110 10:32:40 @monitor.py:467]\u001b[0m QueueInput/queue_size: 50\n",
      "\u001b[32m[0110 10:32:40 @base.py:275]\u001b[0m Start Epoch 17 ...\n"
     ]
    },
    {
     "name": "stderr",
     "output_type": "stream",
     "text": [
      "100%|#####################################################################################|60/60[01:06<00:00, 0.90it/s]"
     ]
    },
    {
     "name": "stdout",
     "output_type": "stream",
     "text": [
      "\u001b[32m[0110 10:33:47 @base.py:285]\u001b[0m Epoch 17 (global_step 1020) finished, time:1 minute 6 seconds.\n"
     ]
    },
    {
     "name": "stderr",
     "output_type": "stream",
     "text": [
      "\n"
     ]
    },
    {
     "name": "stdout",
     "output_type": "stream",
     "text": [
      "\u001b[32m[0110 10:33:48 @saver.py:79]\u001b[0m Model saved to .\\Model\\tableGAN_ckpt\\compare_adult\\tgan\\model\\model-1020.\n",
      "\u001b[32m[0110 10:33:48 @monitor.py:467]\u001b[0m GAN_loss/discrim/accuracy_fake: 0.844\n",
      "\u001b[32m[0110 10:33:48 @monitor.py:467]\u001b[0m GAN_loss/discrim/accuracy_real: 0.292\n",
      "\u001b[32m[0110 10:33:48 @monitor.py:467]\u001b[0m GAN_loss/discrim/loss: 0.63561\n",
      "\u001b[32m[0110 10:33:48 @monitor.py:467]\u001b[0m GAN_loss/gen/final-g-loss: 1.0287\n",
      "\u001b[32m[0110 10:33:48 @monitor.py:467]\u001b[0m GAN_loss/gen/klloss: 0.044517\n",
      "\u001b[32m[0110 10:33:48 @monitor.py:467]\u001b[0m GAN_loss/gen/loss: 0.98418\n",
      "\u001b[32m[0110 10:33:48 @monitor.py:467]\u001b[0m QueueInput/queue_size: 50\n",
      "\u001b[32m[0110 10:33:48 @base.py:275]\u001b[0m Start Epoch 18 ...\n"
     ]
    },
    {
     "name": "stderr",
     "output_type": "stream",
     "text": [
      "100%|#####################################################################################|60/60[01:08<00:00, 0.87it/s]"
     ]
    },
    {
     "name": "stdout",
     "output_type": "stream",
     "text": [
      "\u001b[32m[0110 10:34:57 @base.py:285]\u001b[0m Epoch 18 (global_step 1080) finished, time:1 minute 8 seconds.\n"
     ]
    },
    {
     "name": "stderr",
     "output_type": "stream",
     "text": [
      "\n"
     ]
    },
    {
     "name": "stdout",
     "output_type": "stream",
     "text": [
      "\u001b[32m[0110 10:34:58 @saver.py:79]\u001b[0m Model saved to .\\Model\\tableGAN_ckpt\\compare_adult\\tgan\\model\\model-1080.\n",
      "\u001b[32m[0110 10:34:58 @monitor.py:467]\u001b[0m GAN_loss/discrim/accuracy_fake: 0.856\n",
      "\u001b[32m[0110 10:34:58 @monitor.py:467]\u001b[0m GAN_loss/discrim/accuracy_real: 0.232\n",
      "\u001b[32m[0110 10:34:58 @monitor.py:467]\u001b[0m GAN_loss/discrim/loss: 0.64248\n",
      "\u001b[32m[0110 10:34:58 @monitor.py:467]\u001b[0m GAN_loss/gen/final-g-loss: 1.0314\n",
      "\u001b[32m[0110 10:34:58 @monitor.py:467]\u001b[0m GAN_loss/gen/klloss: 0.045628\n",
      "\u001b[32m[0110 10:34:58 @monitor.py:467]\u001b[0m GAN_loss/gen/loss: 0.9858\n",
      "\u001b[32m[0110 10:34:58 @monitor.py:467]\u001b[0m QueueInput/queue_size: 50\n",
      "\u001b[32m[0110 10:34:58 @base.py:275]\u001b[0m Start Epoch 19 ...\n"
     ]
    },
    {
     "name": "stderr",
     "output_type": "stream",
     "text": [
      "100%|#####################################################################################|60/60[01:10<00:00, 0.85it/s]"
     ]
    },
    {
     "name": "stdout",
     "output_type": "stream",
     "text": [
      "\u001b[32m[0110 10:36:08 @base.py:285]\u001b[0m Epoch 19 (global_step 1140) finished, time:1 minute 10 seconds.\n"
     ]
    },
    {
     "name": "stderr",
     "output_type": "stream",
     "text": [
      "\n"
     ]
    },
    {
     "name": "stdout",
     "output_type": "stream",
     "text": [
      "\u001b[32m[0110 10:36:09 @saver.py:79]\u001b[0m Model saved to .\\Model\\tableGAN_ckpt\\compare_adult\\tgan\\model\\model-1140.\n",
      "\u001b[32m[0110 10:36:09 @monitor.py:467]\u001b[0m GAN_loss/discrim/accuracy_fake: 0.84\n",
      "\u001b[32m[0110 10:36:09 @monitor.py:467]\u001b[0m GAN_loss/discrim/accuracy_real: 0.238\n",
      "\u001b[32m[0110 10:36:09 @monitor.py:467]\u001b[0m GAN_loss/discrim/loss: 0.64662\n",
      "\u001b[32m[0110 10:36:09 @monitor.py:467]\u001b[0m GAN_loss/gen/final-g-loss: 0.99149\n",
      "\u001b[32m[0110 10:36:09 @monitor.py:467]\u001b[0m GAN_loss/gen/klloss: 0.024421\n",
      "\u001b[32m[0110 10:36:09 @monitor.py:467]\u001b[0m GAN_loss/gen/loss: 0.96707\n",
      "\u001b[32m[0110 10:36:09 @monitor.py:467]\u001b[0m QueueInput/queue_size: 50\n",
      "\u001b[32m[0110 10:36:09 @base.py:275]\u001b[0m Start Epoch 20 ...\n"
     ]
    },
    {
     "name": "stderr",
     "output_type": "stream",
     "text": [
      "100%|#####################################################################################|60/60[01:06<00:00, 0.90it/s]"
     ]
    },
    {
     "name": "stdout",
     "output_type": "stream",
     "text": [
      "\u001b[32m[0110 10:37:16 @base.py:285]\u001b[0m Epoch 20 (global_step 1200) finished, time:1 minute 6 seconds.\n"
     ]
    },
    {
     "name": "stderr",
     "output_type": "stream",
     "text": [
      "\n"
     ]
    },
    {
     "name": "stdout",
     "output_type": "stream",
     "text": [
      "\u001b[32m[0110 10:37:17 @saver.py:79]\u001b[0m Model saved to .\\Model\\tableGAN_ckpt\\compare_adult\\tgan\\model\\model-1200.\n",
      "\u001b[32m[0110 10:37:17 @monitor.py:467]\u001b[0m GAN_loss/discrim/accuracy_fake: 0.848\n",
      "\u001b[32m[0110 10:37:17 @monitor.py:467]\u001b[0m GAN_loss/discrim/accuracy_real: 0.246\n",
      "\u001b[32m[0110 10:37:17 @monitor.py:467]\u001b[0m GAN_loss/discrim/loss: 0.64529\n",
      "\u001b[32m[0110 10:37:17 @monitor.py:467]\u001b[0m GAN_loss/gen/final-g-loss: 1.0161\n",
      "\u001b[32m[0110 10:37:17 @monitor.py:467]\u001b[0m GAN_loss/gen/klloss: 0.034396\n",
      "\u001b[32m[0110 10:37:17 @monitor.py:467]\u001b[0m GAN_loss/gen/loss: 0.98167\n",
      "\u001b[32m[0110 10:37:17 @monitor.py:467]\u001b[0m QueueInput/queue_size: 50\n",
      "\u001b[32m[0110 10:37:17 @base.py:289]\u001b[0m Training has finished!\n",
      "\u001b[32m[0110 10:37:17 @input_source.py:178]\u001b[0m EnqueueThread QueueInput/input_queue Exited.\n",
      "\u001b[32m[0110 10:37:18 @collection.py:146]\u001b[0m New collections created in tower : tf.GraphKeys.REGULARIZATION_LOSSES\n",
      "\u001b[32m[0110 10:37:18 @collection.py:165]\u001b[0m These collections were modified but restored in : (tf.GraphKeys.SUMMARIES: 0->2)\n",
      "\u001b[32m[0110 10:37:18 @sessinit.py:87]\u001b[0m \u001b[5m\u001b[31mWRN\u001b[0m The following variables are in the checkpoint, but not found in the graph: global_step, optimize/beta1_power, optimize/beta2_power\n",
      "INFO:tensorflow:Graph was finalized.\n",
      "INFO:tensorflow:Running local_init_op.\n",
      "INFO:tensorflow:Done running local_init_op.\n",
      "\u001b[32m[0110 10:37:19 @sessinit.py:114]\u001b[0m Restoring checkpoint from .\\Model\\tableGAN_ckpt\\compare_adult\\tgan\\model\\model-1200 ...\n",
      "INFO:tensorflow:Restoring parameters from .\\Model\\tableGAN_ckpt\\compare_adult\\tgan\\model\\model-1200\n",
      "Elapsed time for TGAN: 1391.420 seconds\n"
     ]
    }
   ],
   "source": [
    "if retrain:\n",
    "    tf.reset_default_graph()\n",
    "    timer_tgan = load_timer(timer_path)\n",
    "    timer_tgan.start(\"TGAN\")\n",
    "    tgan = TGANModel(columns_num, output = model_dir + \"tgan\", \n",
    "                     max_epoch = 20, steps_per_epoch = data_train.shape[0] / batch_size, batch_size=batch_size,\n",
    "                     num_dis_hidden = 256,\n",
    "                    restore_session = False)\n",
    "    tgan.fit(data_train)\n",
    "    timer_tgan.stop(\"TGAN\")\n",
    "    timer_tgan.save(timer_path)\n"
   ]
  },
  {
   "cell_type": "code",
   "execution_count": 28,
   "id": "63fbab1f",
   "metadata": {},
   "outputs": [
    {
     "name": "stderr",
     "output_type": "stream",
     "text": [
      " 12%|##########                                                                          |60/500[00:16<02:02, 3.58it/s]\n",
      " 12%|##########                                                                          |60/500[00:16<02:02, 3.58it/s]\n"
     ]
    }
   ],
   "source": [
    "tgan_synthetic_data_train = tgan.sample(ceil(data_train.shape[0] / batch_size) * batch_size).head(data_train.shape[0])\n",
    "tgan_synthetic_data_train.to_csv(\"Datasets//tgan_synthetic_train_dataset.csv\")\n",
    "tgan_synthetic_data_test = tgan.sample(ceil(data_test.shape[0] / batch_size) * batch_size).head(data_test.shape[0])\n",
    "tgan_synthetic_data_test.to_csv(\"Datasets//tgan_synthetic_test_dataset.csv\")"
   ]
  },
  {
   "cell_type": "code",
   "execution_count": 30,
   "id": "f5873e94",
   "metadata": {},
   "outputs": [
    {
     "name": "stdout",
     "output_type": "stream",
     "text": [
      "30162 vs 30162\n",
      "30162 vs 30162\n"
     ]
    }
   ],
   "source": [
    "print(tgan_synthetic_data_train.shape[0], \"vs\", data_train.shape[0])\n",
    "print(tgan_synthetic_data_test.shape[0], \"vs\", data_test.shape[0])"
   ]
  },
  {
   "cell_type": "code",
   "execution_count": 2,
   "id": "2c88938e",
   "metadata": {},
   "outputs": [],
   "source": [
    "n_synthetic_datasets = 5\n",
    "dataset_dir = \".//Datasets//\"\n",
    "dataset_gen_dir = os.path.join(dataset_dir, \"Generated_for_pred_eval_adult//\")\n",
    "data_train = pd.read_csv(os.path.join(dataset_dir, \"df_adult_edited_train.csv\"), index_col = 0)"
   ]
  },
  {
   "cell_type": "code",
   "execution_count": 3,
   "id": "46113036",
   "metadata": {},
   "outputs": [
    {
     "name": "stdout",
     "output_type": "stream",
     "text": [
      "WARNING:tensorflow:From C:\\Users\\Arne\\AppData\\Local\\Temp/ipykernel_7268/2011735150.py:7: The name tf.reset_default_graph is deprecated. Please use tf.compat.v1.reset_default_graph instead.\n",
      "\n",
      "WARNING:tensorflow:From C:\\Users\\Arne\\anaconda3\\envs\\tfv1\\lib\\site-packages\\tensorpack\\graph_builder\\model_desc.py:29: The name tf.get_default_graph is deprecated. Please use tf.compat.v1.get_default_graph instead.\n",
      "\n",
      "WARNING:tensorflow:From C:\\Users\\Arne\\anaconda3\\envs\\tfv1\\lib\\site-packages\\tensorpack\\graph_builder\\model_desc.py:39: The name tf.placeholder is deprecated. Please use tf.compat.v1.placeholder instead.\n",
      "\n",
      "WARNING:tensorflow:From C:\\Users\\Arne\\anaconda3\\envs\\tfv1\\lib\\site-packages\\tensorpack\\input_source\\input_source.py:219: The name tf.FIFOQueue is deprecated. Please use tf.queue.FIFOQueue instead.\n",
      "\n",
      "\u001b[32m[1229 16:14:21 @input_source.py:222]\u001b[0m Setting up the queue 'QueueInput/input_queue' for CPU prefetching ...\n",
      "WARNING:tensorflow:From C:\\Users\\Arne\\anaconda3\\envs\\tfv1\\lib\\site-packages\\tensorpack\\tfutils\\summary.py:237: The name tf.get_variable_scope is deprecated. Please use tf.compat.v1.get_variable_scope instead.\n",
      "\n",
      "WARNING:tensorflow:From C:\\Users\\Arne\\anaconda3\\envs\\tfv1\\lib\\site-packages\\tensorpack\\tfutils\\summary.py:27: The name tf.variable_scope is deprecated. Please use tf.compat.v1.variable_scope instead.\n",
      "\n",
      "WARNING:tensorflow:From C:\\Users\\Arne\\anaconda3\\envs\\tfv1\\lib\\site-packages\\tensorpack\\tfutils\\summary.py:254: The name tf.get_variable is deprecated. Please use tf.compat.v1.get_variable instead.\n",
      "\n",
      "WARNING:tensorflow:From C:\\Users\\Arne\\anaconda3\\envs\\tfv1\\lib\\site-packages\\tensorpack\\tfutils\\summary.py:264: The name tf.summary.scalar is deprecated. Please use tf.compat.v1.summary.scalar instead.\n",
      "\n",
      "WARNING:tensorflow:From C:\\Users\\Arne\\anaconda3\\envs\\tfv1\\lib\\site-packages\\tensorpack\\tfutils\\collection.py:105: The name tf.GraphKeys is deprecated. Please use tf.compat.v1.GraphKeys instead.\n",
      "\n",
      "WARNING:tensorflow:From C:\\Users\\Arne\\anaconda3\\envs\\tfv1\\lib\\site-packages\\tensorpack\\tfutils\\collection.py:33: The name tf.get_collection is deprecated. Please use tf.compat.v1.get_collection instead.\n",
      "\n",
      "WARNING:tensorflow:From C:\\Users\\Arne\\anaconda3\\envs\\tfv1\\lib\\site-packages\\tgan\\model.py:455: The name tf.random_normal is deprecated. Please use tf.random.normal instead.\n",
      "\n",
      "WARNING:tensorflow:From C:\\Users\\Arne\\anaconda3\\envs\\tfv1\\lib\\site-packages\\tgan\\model.py:458: The name tf.placeholder_with_default is deprecated. Please use tf.compat.v1.placeholder_with_default instead.\n",
      "\n",
      "WARNING:tensorflow:From C:\\Users\\Arne\\anaconda3\\envs\\tfv1\\lib\\site-packages\\tgan\\model.py:259: LSTMCell.__init__ (from tensorflow.python.ops.rnn_cell_impl) is deprecated and will be removed in a future version.\n",
      "Instructions for updating:\n",
      "This class is equivalent as tf.keras.layers.LSTMCell, and will be replaced by that in Tensorflow 2.0.\n",
      "WARNING:tensorflow:From C:\\Users\\Arne\\anaconda3\\envs\\tfv1\\lib\\site-packages\\tensorflow_core\\python\\ops\\rnn_cell_impl.py:958: Layer.add_variable (from tensorflow.python.keras.engine.base_layer) is deprecated and will be removed in a future version.\n",
      "Instructions for updating:\n",
      "Please use `layer.add_weight` method instead.\n",
      "WARNING:tensorflow:From C:\\Users\\Arne\\anaconda3\\envs\\tfv1\\lib\\site-packages\\tensorflow_core\\python\\ops\\rnn_cell_impl.py:962: calling Zeros.__init__ (from tensorflow.python.ops.init_ops) with dtype is deprecated and will be removed in a future version.\n",
      "Instructions for updating:\n",
      "Call initializer instance with the dtype argument instead of passing it to the constructor\n",
      "\u001b[32m[1229 16:14:21 @registry.py:126]\u001b[0m gen/LSTM/00/FC input: [200, 100]\n",
      "WARNING:tensorflow:From C:\\Users\\Arne\\anaconda3\\envs\\tfv1\\lib\\site-packages\\tensorpack\\models\\fc.py:57: The name tf.layers.Dense is deprecated. Please use tf.compat.v1.layers.Dense instead.\n",
      "\n",
      "WARNING:tensorflow:From C:\\Users\\Arne\\anaconda3\\envs\\tfv1\\lib\\site-packages\\tensorpack\\models\\fc.py:67: Layer.apply (from tensorflow.python.keras.engine.base_layer) is deprecated and will be removed in a future version.\n",
      "Instructions for updating:\n",
      "Please use `layer.__call__` method instead.\n",
      "\u001b[32m[1229 16:14:21 @registry.py:134]\u001b[0m gen/LSTM/00/FC output: [200, 100]\n",
      "\u001b[32m[1229 16:14:21 @registry.py:126]\u001b[0m gen/LSTM/00/FC2 input: [200, 100]\n",
      "\u001b[32m[1229 16:14:21 @registry.py:134]\u001b[0m gen/LSTM/00/FC2 output: [200, 73]\n",
      "\u001b[32m[1229 16:14:21 @registry.py:126]\u001b[0m gen/LSTM/00/FC3 input: [200, 73]\n",
      "\u001b[32m[1229 16:14:21 @registry.py:134]\u001b[0m gen/LSTM/00/FC3 output: [200, 100]\n",
      "\u001b[32m[1229 16:14:21 @registry.py:126]\u001b[0m gen/LSTM/01/FC input: [200, 100]\n",
      "\u001b[32m[1229 16:14:21 @registry.py:134]\u001b[0m gen/LSTM/01/FC output: [200, 100]\n",
      "\u001b[32m[1229 16:14:21 @registry.py:126]\u001b[0m gen/LSTM/01/FC2 input: [200, 100]\n",
      "\u001b[32m[1229 16:14:21 @registry.py:134]\u001b[0m gen/LSTM/01/FC2 output: [200, 3]\n",
      "\u001b[32m[1229 16:14:21 @registry.py:126]\u001b[0m gen/LSTM/01/FC3 input: [200, 3]\n",
      "\u001b[32m[1229 16:14:21 @registry.py:134]\u001b[0m gen/LSTM/01/FC3 output: [200, 100]\n",
      "\u001b[32m[1229 16:14:21 @registry.py:126]\u001b[0m gen/LSTM/02/FC input: [200, 100]\n",
      "\u001b[32m[1229 16:14:21 @registry.py:134]\u001b[0m gen/LSTM/02/FC output: [200, 100]\n",
      "\u001b[32m[1229 16:14:21 @registry.py:126]\u001b[0m gen/LSTM/02/FC2 input: [200, 100]\n",
      "\u001b[32m[1229 16:14:21 @registry.py:134]\u001b[0m gen/LSTM/02/FC2 output: [200, 14758]\n",
      "\u001b[32m[1229 16:14:21 @registry.py:126]\u001b[0m gen/LSTM/02/FC3 input: [200, 14758]\n",
      "\u001b[32m[1229 16:14:21 @registry.py:134]\u001b[0m gen/LSTM/02/FC3 output: [200, 100]\n",
      "\u001b[32m[1229 16:14:21 @registry.py:126]\u001b[0m gen/LSTM/03/FC input: [200, 100]\n",
      "\u001b[32m[1229 16:14:21 @registry.py:134]\u001b[0m gen/LSTM/03/FC output: [200, 100]\n",
      "\u001b[32m[1229 16:14:21 @registry.py:126]\u001b[0m gen/LSTM/03/FC2 input: [200, 100]\n",
      "\u001b[32m[1229 16:14:21 @registry.py:134]\u001b[0m gen/LSTM/03/FC2 output: [200, 9]\n",
      "\u001b[32m[1229 16:14:21 @registry.py:126]\u001b[0m gen/LSTM/03/FC3 input: [200, 9]\n",
      "\u001b[32m[1229 16:14:21 @registry.py:134]\u001b[0m gen/LSTM/03/FC3 output: [200, 100]\n",
      "\u001b[32m[1229 16:14:21 @registry.py:126]\u001b[0m gen/LSTM/04/FC input: [200, 100]\n",
      "\u001b[32m[1229 16:14:21 @registry.py:134]\u001b[0m gen/LSTM/04/FC output: [200, 100]\n",
      "\u001b[32m[1229 16:14:21 @registry.py:126]\u001b[0m gen/LSTM/04/FC2 input: [200, 100]\n",
      "\u001b[32m[1229 16:14:21 @registry.py:134]\u001b[0m gen/LSTM/04/FC2 output: [200, 16]\n",
      "\u001b[32m[1229 16:14:21 @registry.py:126]\u001b[0m gen/LSTM/04/FC3 input: [200, 16]\n",
      "\u001b[32m[1229 16:14:21 @registry.py:134]\u001b[0m gen/LSTM/04/FC3 output: [200, 100]\n",
      "\u001b[32m[1229 16:14:21 @registry.py:126]\u001b[0m gen/LSTM/05/FC input: [200, 100]\n",
      "\u001b[32m[1229 16:14:21 @registry.py:134]\u001b[0m gen/LSTM/05/FC output: [200, 100]\n",
      "\u001b[32m[1229 16:14:21 @registry.py:126]\u001b[0m gen/LSTM/05/FC2 input: [200, 100]\n",
      "\u001b[32m[1229 16:14:21 @registry.py:134]\u001b[0m gen/LSTM/05/FC2 output: [200, 5]\n",
      "\u001b[32m[1229 16:14:21 @registry.py:126]\u001b[0m gen/LSTM/05/FC3 input: [200, 5]\n",
      "\u001b[32m[1229 16:14:21 @registry.py:134]\u001b[0m gen/LSTM/05/FC3 output: [200, 100]\n",
      "\u001b[32m[1229 16:14:21 @registry.py:126]\u001b[0m gen/LSTM/06/FC input: [200, 100]\n",
      "\u001b[32m[1229 16:14:21 @registry.py:134]\u001b[0m gen/LSTM/06/FC output: [200, 100]\n",
      "\u001b[32m[1229 16:14:21 @registry.py:126]\u001b[0m gen/LSTM/06/FC2 input: [200, 100]\n",
      "\u001b[32m[1229 16:14:21 @registry.py:134]\u001b[0m gen/LSTM/06/FC2 output: [200, 15]\n",
      "\u001b[32m[1229 16:14:21 @registry.py:126]\u001b[0m gen/LSTM/06/FC3 input: [200, 15]\n",
      "\u001b[32m[1229 16:14:21 @registry.py:134]\u001b[0m gen/LSTM/06/FC3 output: [200, 100]\n",
      "\u001b[32m[1229 16:14:21 @registry.py:126]\u001b[0m gen/LSTM/07/FC input: [200, 100]\n",
      "\u001b[32m[1229 16:14:21 @registry.py:134]\u001b[0m gen/LSTM/07/FC output: [200, 100]\n",
      "\u001b[32m[1229 16:14:21 @registry.py:126]\u001b[0m gen/LSTM/07/FC2 input: [200, 100]\n",
      "\u001b[32m[1229 16:14:21 @registry.py:134]\u001b[0m gen/LSTM/07/FC2 output: [200, 5]\n",
      "\u001b[32m[1229 16:14:21 @registry.py:126]\u001b[0m gen/LSTM/07/FC3 input: [200, 5]\n",
      "\u001b[32m[1229 16:14:21 @registry.py:134]\u001b[0m gen/LSTM/07/FC3 output: [200, 100]\n",
      "\u001b[32m[1229 16:14:21 @registry.py:126]\u001b[0m gen/LSTM/08/FC input: [200, 100]\n",
      "\u001b[32m[1229 16:14:21 @registry.py:134]\u001b[0m gen/LSTM/08/FC output: [200, 100]\n",
      "\u001b[32m[1229 16:14:21 @registry.py:126]\u001b[0m gen/LSTM/08/FC2 input: [200, 100]\n",
      "\u001b[32m[1229 16:14:21 @registry.py:134]\u001b[0m gen/LSTM/08/FC2 output: [200, 2]\n",
      "\u001b[32m[1229 16:14:21 @registry.py:126]\u001b[0m gen/LSTM/08/FC3 input: [200, 2]\n",
      "\u001b[32m[1229 16:14:22 @registry.py:134]\u001b[0m gen/LSTM/08/FC3 output: [200, 100]\n",
      "\u001b[32m[1229 16:14:22 @registry.py:126]\u001b[0m gen/LSTM/09/FC input: [200, 100]\n"
     ]
    },
    {
     "name": "stdout",
     "output_type": "stream",
     "text": [
      "\u001b[32m[1229 16:14:22 @registry.py:134]\u001b[0m gen/LSTM/09/FC output: [200, 100]\n",
      "\u001b[32m[1229 16:14:22 @registry.py:126]\u001b[0m gen/LSTM/09/FC2 input: [200, 100]\n",
      "\u001b[32m[1229 16:14:22 @registry.py:134]\u001b[0m gen/LSTM/09/FC2 output: [200, 115]\n",
      "\u001b[32m[1229 16:14:22 @registry.py:126]\u001b[0m gen/LSTM/09/FC3 input: [200, 115]\n",
      "\u001b[32m[1229 16:14:22 @registry.py:134]\u001b[0m gen/LSTM/09/FC3 output: [200, 100]\n",
      "\u001b[32m[1229 16:14:22 @registry.py:126]\u001b[0m gen/LSTM/10/FC input: [200, 100]\n",
      "\u001b[32m[1229 16:14:22 @registry.py:134]\u001b[0m gen/LSTM/10/FC output: [200, 100]\n",
      "\u001b[32m[1229 16:14:22 @registry.py:126]\u001b[0m gen/LSTM/10/FC2 input: [200, 100]\n",
      "\u001b[32m[1229 16:14:22 @registry.py:134]\u001b[0m gen/LSTM/10/FC2 output: [200, 92]\n",
      "\u001b[32m[1229 16:14:22 @registry.py:126]\u001b[0m gen/LSTM/10/FC3 input: [200, 92]\n",
      "\u001b[32m[1229 16:14:22 @registry.py:134]\u001b[0m gen/LSTM/10/FC3 output: [200, 100]\n",
      "\u001b[32m[1229 16:14:22 @registry.py:126]\u001b[0m gen/LSTM/11/FC input: [200, 100]\n",
      "\u001b[32m[1229 16:14:22 @registry.py:134]\u001b[0m gen/LSTM/11/FC output: [200, 100]\n",
      "\u001b[32m[1229 16:14:22 @registry.py:126]\u001b[0m gen/LSTM/11/FC2 input: [200, 100]\n",
      "\u001b[32m[1229 16:14:22 @registry.py:134]\u001b[0m gen/LSTM/11/FC2 output: [200, 2]\n",
      "\u001b[32m[1229 16:14:22 @registry.py:126]\u001b[0m gen/LSTM/11/FC3 input: [200, 2]\n",
      "\u001b[32m[1229 16:14:22 @registry.py:134]\u001b[0m gen/LSTM/11/FC3 output: [200, 100]\n",
      "\u001b[32m[1229 16:14:22 @registry.py:126]\u001b[0m gen/LSTM/12/FC input: [200, 100]\n",
      "\u001b[32m[1229 16:14:22 @registry.py:134]\u001b[0m gen/LSTM/12/FC output: [200, 100]\n",
      "\u001b[32m[1229 16:14:22 @registry.py:126]\u001b[0m gen/LSTM/12/FC2 input: [200, 100]\n",
      "\u001b[32m[1229 16:14:22 @registry.py:134]\u001b[0m gen/LSTM/12/FC2 output: [200, 2]\n",
      "\u001b[32m[1229 16:14:22 @registry.py:126]\u001b[0m gen/LSTM/12/FC3 input: [200, 2]\n",
      "\u001b[32m[1229 16:14:22 @registry.py:134]\u001b[0m gen/LSTM/12/FC3 output: [200, 100]\n",
      "WARNING:tensorflow:From C:\\Users\\Arne\\anaconda3\\envs\\tfv1\\lib\\site-packages\\tgan\\model.py:494: The name tf.random_uniform is deprecated. Please use tf.random.uniform instead.\n",
      "\n",
      "WARNING:tensorflow:From C:\\Users\\Arne\\anaconda3\\envs\\tfv1\\lib\\site-packages\\tgan\\model.py:443: The name tf.log is deprecated. Please use tf.math.log instead.\n",
      "\n",
      "\u001b[32m[1229 16:14:22 @registry.py:126]\u001b[0m discrim/dis_fc0/fc input: [200, 15097]\n",
      "\u001b[32m[1229 16:14:22 @registry.py:134]\u001b[0m discrim/dis_fc0/fc output: [200, 256]\n",
      "\u001b[32m[1229 16:14:22 @registry.py:126]\u001b[0m discrim/dis_fc0/fc_diversity input: [200, 256]\n",
      "\u001b[32m[1229 16:14:22 @registry.py:134]\u001b[0m discrim/dis_fc0/fc_diversity output: [200, 100]\n",
      "WARNING:tensorflow:From C:\\Users\\Arne\\anaconda3\\envs\\tfv1\\lib\\site-packages\\tensorpack\\models\\batch_norm.py:204: The name tf.layers.BatchNormalization is deprecated. Please use tf.compat.v1.layers.BatchNormalization instead.\n",
      "\n",
      "WARNING:tensorflow:From C:\\Users\\Arne\\anaconda3\\envs\\tfv1\\lib\\site-packages\\tensorpack\\models\\batch_norm.py:212: The name tf.add_to_collection is deprecated. Please use tf.compat.v1.add_to_collection instead.\n",
      "\n",
      "\u001b[32m[1229 16:14:22 @registry.py:126]\u001b[0m discrim/dis_fc_top input: [200, 266]\n",
      "\u001b[32m[1229 16:14:22 @registry.py:134]\u001b[0m discrim/dis_fc_top output: [200, 1]\n",
      "WARNING:tensorflow:From C:\\Users\\Arne\\anaconda3\\envs\\tfv1\\lib\\site-packages\\tgan\\model.py:118: The name tf.summary.histogram is deprecated. Please use tf.compat.v1.summary.histogram instead.\n",
      "\n",
      "WARNING:tensorflow:From C:\\Users\\Arne\\anaconda3\\envs\\tfv1\\lib\\site-packages\\tensorflow_core\\python\\ops\\nn_impl.py:183: where (from tensorflow.python.ops.array_ops) is deprecated and will be removed in a future version.\n",
      "Instructions for updating:\n",
      "Use tf.where in 2.0, which has the same broadcast rule as np.where\n",
      "WARNING:tensorflow:\n",
      "The TensorFlow contrib module will not be included in TensorFlow 2.0.\n",
      "For more information, please see:\n",
      "  * https://github.com/tensorflow/community/blob/master/rfcs/20180907-contrib-sunset.md\n",
      "  * https://github.com/tensorflow/addons\n",
      "  * https://github.com/tensorflow/io (for I/O related ops)\n",
      "If you depend on functionality not listed there, please file an issue.\n",
      "\n",
      "WARNING:tensorflow:From C:\\Users\\Arne\\anaconda3\\envs\\tfv1\\lib\\site-packages\\tgan\\model.py:551: The name tf.train.AdamOptimizer is deprecated. Please use tf.compat.v1.train.AdamOptimizer instead.\n",
      "\n",
      "\u001b[32m[1229 16:14:26 @logger.py:90]\u001b[0m Argv: C:\\Users\\Arne\\anaconda3\\envs\\tfv1\\lib\\site-packages\\ipykernel_launcher.py -f C:\\Users\\Arne\\AppData\\Roaming\\jupyter\\runtime\\kernel-35999244-15d2-4577-bec3-c5600cbe31b7.json\n",
      "WARNING:tensorflow:From C:\\Users\\Arne\\anaconda3\\envs\\tfv1\\lib\\site-packages\\tensorpack\\callbacks\\saver.py:43: The name tf.gfile.IsDirectory is deprecated. Please use tf.io.gfile.isdir instead.\n",
      "\n",
      "WARNING:tensorflow:From C:\\Users\\Arne\\anaconda3\\envs\\tfv1\\lib\\site-packages\\tensorpack\\callbacks\\saver.py:44: The name tf.gfile.MakeDirs is deprecated. Please use tf.io.gfile.makedirs instead.\n",
      "\n",
      "WARNING:tensorflow:From C:\\Users\\Arne\\anaconda3\\envs\\tfv1\\lib\\site-packages\\tensorpack\\tfutils\\common.py:41: The name tf.ConfigProto is deprecated. Please use tf.compat.v1.ConfigProto instead.\n",
      "\n",
      "\u001b[32m[1229 16:14:26 @model_utils.py:67]\u001b[0m \u001b[36mList of Trainable Variables: \n",
      "\u001b[0mname                              shape           #elements\n",
      "--------------------------------  ------------  -----------\n",
      "gen/LSTM/go:0                     [1, 100]              100\n",
      "gen/LSTM/lstm_cell/kernel:0       [500, 400]         200000\n",
      "gen/LSTM/lstm_cell/bias:0         [400]                 400\n",
      "gen/LSTM/00/FC/W:0                [100, 100]          10000\n",
      "gen/LSTM/00/FC/b:0                [100]                 100\n",
      "gen/LSTM/00/FC2/W:0               [100, 73]            7300\n",
      "gen/LSTM/00/FC2/b:0               [73]                   73\n",
      "gen/LSTM/00/FC3/W:0               [73, 100]            7300\n",
      "gen/LSTM/00/FC3/b:0               [100]                 100\n",
      "gen/LSTM/00/attw:0                [1, 1, 1]               1\n",
      "gen/LSTM/01/FC/W:0                [100, 100]          10000\n",
      "gen/LSTM/01/FC/b:0                [100]                 100\n",
      "gen/LSTM/01/FC2/W:0               [100, 3]              300\n",
      "gen/LSTM/01/FC2/b:0               [3]                     3\n",
      "gen/LSTM/01/FC3/W:0               [3, 100]              300\n",
      "gen/LSTM/01/FC3/b:0               [100]                 100\n",
      "gen/LSTM/01/attw:0                [2, 1, 1]               2\n",
      "gen/LSTM/02/FC/W:0                [100, 100]          10000\n",
      "gen/LSTM/02/FC/b:0                [100]                 100\n",
      "gen/LSTM/02/FC2/W:0               [100, 14758]      1475800\n",
      "gen/LSTM/02/FC2/b:0               [14758]             14758\n",
      "gen/LSTM/02/FC3/W:0               [14758, 100]      1475800\n",
      "gen/LSTM/02/FC3/b:0               [100]                 100\n",
      "gen/LSTM/02/attw:0                [3, 1, 1]               3\n",
      "gen/LSTM/03/FC/W:0                [100, 100]          10000\n",
      "gen/LSTM/03/FC/b:0                [100]                 100\n",
      "gen/LSTM/03/FC2/W:0               [100, 9]              900\n",
      "gen/LSTM/03/FC2/b:0               [9]                     9\n",
      "gen/LSTM/03/FC3/W:0               [9, 100]              900\n",
      "gen/LSTM/03/FC3/b:0               [100]                 100\n",
      "gen/LSTM/03/attw:0                [4, 1, 1]               4\n",
      "gen/LSTM/04/FC/W:0                [100, 100]          10000\n",
      "gen/LSTM/04/FC/b:0                [100]                 100\n",
      "gen/LSTM/04/FC2/W:0               [100, 16]            1600\n",
      "gen/LSTM/04/FC2/b:0               [16]                   16\n",
      "gen/LSTM/04/FC3/W:0               [16, 100]            1600\n",
      "gen/LSTM/04/FC3/b:0               [100]                 100\n",
      "gen/LSTM/04/attw:0                [5, 1, 1]               5\n",
      "gen/LSTM/05/FC/W:0                [100, 100]          10000\n",
      "gen/LSTM/05/FC/b:0                [100]                 100\n",
      "gen/LSTM/05/FC2/W:0               [100, 5]              500\n",
      "gen/LSTM/05/FC2/b:0               [5]                     5\n",
      "gen/LSTM/05/FC3/W:0               [5, 100]              500\n",
      "gen/LSTM/05/FC3/b:0               [100]                 100\n",
      "gen/LSTM/05/attw:0                [6, 1, 1]               6\n",
      "gen/LSTM/06/FC/W:0                [100, 100]          10000\n",
      "gen/LSTM/06/FC/b:0                [100]                 100\n",
      "gen/LSTM/06/FC2/W:0               [100, 15]            1500\n",
      "gen/LSTM/06/FC2/b:0               [15]                   15\n",
      "gen/LSTM/06/FC3/W:0               [15, 100]            1500\n",
      "gen/LSTM/06/FC3/b:0               [100]                 100\n",
      "gen/LSTM/06/attw:0                [7, 1, 1]               7\n",
      "gen/LSTM/07/FC/W:0                [100, 100]          10000\n",
      "gen/LSTM/07/FC/b:0                [100]                 100\n",
      "gen/LSTM/07/FC2/W:0               [100, 5]              500\n",
      "gen/LSTM/07/FC2/b:0               [5]                     5\n",
      "gen/LSTM/07/FC3/W:0               [5, 100]              500\n",
      "gen/LSTM/07/FC3/b:0               [100]                 100\n",
      "gen/LSTM/07/attw:0                [8, 1, 1]               8\n",
      "gen/LSTM/08/FC/W:0                [100, 100]          10000\n",
      "gen/LSTM/08/FC/b:0                [100]                 100\n",
      "gen/LSTM/08/FC2/W:0               [100, 2]              200\n",
      "gen/LSTM/08/FC2/b:0               [2]                     2\n",
      "gen/LSTM/08/FC3/W:0               [2, 100]              200\n",
      "gen/LSTM/08/FC3/b:0               [100]                 100\n",
      "gen/LSTM/08/attw:0                [9, 1, 1]               9\n",
      "gen/LSTM/09/FC/W:0                [100, 100]          10000\n",
      "gen/LSTM/09/FC/b:0                [100]                 100\n",
      "gen/LSTM/09/FC2/W:0               [100, 115]          11500\n",
      "gen/LSTM/09/FC2/b:0               [115]                 115\n",
      "gen/LSTM/09/FC3/W:0               [115, 100]          11500\n",
      "gen/LSTM/09/FC3/b:0               [100]                 100\n",
      "gen/LSTM/09/attw:0                [10, 1, 1]             10\n",
      "gen/LSTM/10/FC/W:0                [100, 100]          10000\n",
      "gen/LSTM/10/FC/b:0                [100]                 100\n",
      "gen/LSTM/10/FC2/W:0               [100, 92]            9200\n",
      "gen/LSTM/10/FC2/b:0               [92]                   92\n",
      "gen/LSTM/10/FC3/W:0               [92, 100]            9200\n",
      "gen/LSTM/10/FC3/b:0               [100]                 100\n",
      "gen/LSTM/10/attw:0                [11, 1, 1]             11\n",
      "gen/LSTM/11/FC/W:0                [100, 100]          10000\n",
      "gen/LSTM/11/FC/b:0                [100]                 100\n",
      "gen/LSTM/11/FC2/W:0               [100, 2]              200\n",
      "gen/LSTM/11/FC2/b:0               [2]                     2\n",
      "gen/LSTM/11/FC3/W:0               [2, 100]              200\n",
      "gen/LSTM/11/FC3/b:0               [100]                 100\n",
      "gen/LSTM/11/attw:0                [12, 1, 1]             12\n",
      "gen/LSTM/12/FC/W:0                [100, 100]          10000\n",
      "gen/LSTM/12/FC/b:0                [100]                 100\n",
      "gen/LSTM/12/FC2/W:0               [100, 2]              200\n",
      "gen/LSTM/12/FC2/b:0               [2]                     2\n",
      "gen/LSTM/12/FC3/W:0               [2, 100]              200\n",
      "gen/LSTM/12/FC3/b:0               [100]                 100\n",
      "gen/LSTM/12/attw:0                [13, 1, 1]             13\n",
      "discrim/dis_fc0/fc/W:0            [15097, 256]      3864832\n",
      "discrim/dis_fc0/fc/b:0            [256]                 256\n",
      "discrim/dis_fc0/fc_diversity/W:0  [256, 100]          25600\n",
      "discrim/dis_fc0/fc_diversity/b:0  [100]                 100\n",
      "discrim/dis_fc0/bn/beta:0         [266]                 266\n",
      "discrim/dis_fc_top/W:0            [266, 1]              266\n",
      "discrim/dis_fc_top/b:0            [1]                     1\u001b[36m\n",
      "Number of trainable variables: 101\n",
      "Number of parameters (elements): 7259009\n",
      "Storage space needed for all trainable variables: 27.69MB\u001b[0m\n"
     ]
    },
    {
     "name": "stdout",
     "output_type": "stream",
     "text": [
      "\u001b[32m[1229 16:14:26 @base.py:209]\u001b[0m Setup callbacks graph ...\n",
      "WARNING:tensorflow:From C:\\Users\\Arne\\anaconda3\\envs\\tfv1\\lib\\site-packages\\tensorpack\\callbacks\\graph.py:54: The name tf.train.SessionRunArgs is deprecated. Please use tf.estimator.SessionRunArgs instead.\n",
      "\n",
      "WARNING:tensorflow:From C:\\Users\\Arne\\anaconda3\\envs\\tfv1\\lib\\site-packages\\tensorpack\\tfutils\\common.py:75: The name tf.VariableScope is deprecated. Please use tf.compat.v1.VariableScope instead.\n",
      "\n",
      "WARNING:tensorflow:From C:\\Users\\Arne\\anaconda3\\envs\\tfv1\\lib\\site-packages\\tensorpack\\tfutils\\common.py:77: The name tf.train.get_or_create_global_step is deprecated. Please use tf.compat.v1.train.get_or_create_global_step instead.\n",
      "\n",
      "WARNING:tensorflow:From C:\\Users\\Arne\\anaconda3\\envs\\tfv1\\lib\\site-packages\\tensorpack\\callbacks\\steps.py:117: The name tf.assign_add is deprecated. Please use tf.compat.v1.assign_add instead.\n",
      "\n",
      "WARNING:tensorflow:From C:\\Users\\Arne\\anaconda3\\envs\\tfv1\\lib\\site-packages\\tensorpack\\callbacks\\saver.py:55: The name tf.train.Saver is deprecated. Please use tf.compat.v1.train.Saver instead.\n",
      "\n",
      "WARNING:tensorflow:From C:\\Users\\Arne\\anaconda3\\envs\\tfv1\\lib\\site-packages\\tensorpack\\callbacks\\saver.py:59: The name tf.train.SaverDef is deprecated. Please use tf.compat.v1.train.SaverDef instead.\n",
      "\n",
      "\u001b[32m[1229 16:14:26 @summary.py:46]\u001b[0m [MovingAverageSummary] 6 operations in collection 'MOVING_SUMMARY_OPS' will be run with session hooks.\n",
      "\u001b[32m[1229 16:14:26 @summary.py:93]\u001b[0m Summarizing collection 'summaries' of size 9.\n",
      "WARNING:tensorflow:From C:\\Users\\Arne\\anaconda3\\envs\\tfv1\\lib\\site-packages\\tensorpack\\callbacks\\summary.py:94: The name tf.summary.merge_all is deprecated. Please use tf.compat.v1.summary.merge_all instead.\n",
      "\n",
      "\u001b[32m[1229 16:14:26 @graph.py:98]\u001b[0m Applying collection UPDATE_OPS of 4 ops.\n",
      "WARNING:tensorflow:From C:\\Users\\Arne\\anaconda3\\envs\\tfv1\\lib\\site-packages\\tensorpack\\callbacks\\monitor.py:261: The name tf.summary.FileWriter is deprecated. Please use tf.compat.v1.summary.FileWriter instead.\n",
      "\n",
      "\u001b[32m[1229 16:14:27 @base.py:230]\u001b[0m Creating the session ...\n",
      "WARNING:tensorflow:From C:\\Users\\Arne\\anaconda3\\envs\\tfv1\\lib\\site-packages\\tensorpack\\tfutils\\sesscreate.py:42: The name tf.Session is deprecated. Please use tf.compat.v1.Session instead.\n",
      "\n",
      "WARNING:tensorflow:From C:\\Users\\Arne\\anaconda3\\envs\\tfv1\\lib\\site-packages\\tensorpack\\tfutils\\sesscreate.py:71: The name tf.global_variables_initializer is deprecated. Please use tf.compat.v1.global_variables_initializer instead.\n",
      "\n",
      "WARNING:tensorflow:From C:\\Users\\Arne\\anaconda3\\envs\\tfv1\\lib\\site-packages\\tensorpack\\tfutils\\sesscreate.py:62: get_backward_walk_ops (from tensorflow.contrib.graph_editor.select) is deprecated and will be removed after 2019-06-06.\n",
      "Instructions for updating:\n",
      "Please use tensorflow.python.ops.op_selector.get_backward_walk_ops.\n",
      "WARNING:tensorflow:From C:\\Users\\Arne\\anaconda3\\envs\\tfv1\\lib\\site-packages\\tensorpack\\tfutils\\sesscreate.py:72: The name tf.local_variables_initializer is deprecated. Please use tf.compat.v1.local_variables_initializer instead.\n",
      "\n",
      "WARNING:tensorflow:From C:\\Users\\Arne\\anaconda3\\envs\\tfv1\\lib\\site-packages\\tensorpack\\tfutils\\sesscreate.py:73: The name tf.tables_initializer is deprecated. Please use tf.compat.v1.tables_initializer instead.\n",
      "\n",
      "WARNING:tensorflow:From C:\\Users\\Arne\\anaconda3\\envs\\tfv1\\lib\\site-packages\\tensorpack\\train\\base.py:254: The name tf.train.MonitoredSession is deprecated. Please use tf.compat.v1.train.MonitoredSession instead.\n",
      "\n",
      "\u001b[32m[1229 16:14:28 @base.py:236]\u001b[0m Initializing the session ...\n",
      "\u001b[32m[1229 16:14:28 @base.py:243]\u001b[0m Graph Finalized.\n",
      "WARNING:tensorflow:From C:\\Users\\Arne\\anaconda3\\envs\\tfv1\\lib\\site-packages\\tensorpack\\tfutils\\common.py:89: The name tf.train.global_step is deprecated. Please use tf.compat.v1.train.global_step instead.\n",
      "\n",
      "WARNING:tensorflow:From C:\\Users\\Arne\\anaconda3\\envs\\tfv1\\lib\\site-packages\\tensorpack\\tfutils\\common.py:90: The name tf.get_default_session is deprecated. Please use tf.compat.v1.get_default_session instead.\n",
      "\n",
      "\u001b[32m[1229 16:14:28 @concurrency.py:38]\u001b[0m Starting EnqueueThread QueueInput/input_queue ...\n",
      "WARNING:tensorflow:From C:\\Users\\Arne\\anaconda3\\envs\\tfv1\\lib\\site-packages\\tensorpack\\callbacks\\monitor.py:309: The name tf.gfile.Exists is deprecated. Please use tf.io.gfile.exists instead.\n",
      "\n",
      "\u001b[32m[1229 16:14:29 @base.py:275]\u001b[0m Start Epoch 1 ...\n"
     ]
    },
    {
     "name": "stderr",
     "output_type": "stream",
     "text": [
      " 95%|################################################################################6    |37/39[00:12<00:00, 3.38it/s]"
     ]
    },
    {
     "name": "stdout",
     "output_type": "stream",
     "text": [
      "WARNING:tensorflow:From C:\\Users\\Arne\\anaconda3\\envs\\tfv1\\lib\\site-packages\\tensorpack\\callbacks\\monitor.py:148: The name tf.Summary is deprecated. Please use tf.compat.v1.Summary instead.\n",
      "\n"
     ]
    },
    {
     "name": "stderr",
     "output_type": "stream",
     "text": [
      "100%|#####################################################################################|39/39[00:15<00:00, 2.54it/s]"
     ]
    },
    {
     "name": "stdout",
     "output_type": "stream",
     "text": [
      "\u001b[32m[1229 16:14:44 @base.py:285]\u001b[0m Epoch 1 (global_step 39) finished, time:15.3 seconds.\n",
      "WARNING:tensorflow:From C:\\Users\\Arne\\anaconda3\\envs\\tfv1\\lib\\site-packages\\tensorpack\\callbacks\\saver.py:77: The name tf.train.get_global_step is deprecated. Please use tf.compat.v1.train.get_global_step instead.\n",
      "\n"
     ]
    },
    {
     "name": "stderr",
     "output_type": "stream",
     "text": [
      "\n"
     ]
    },
    {
     "name": "stdout",
     "output_type": "stream",
     "text": [
      "\u001b[32m[1229 16:14:45 @saver.py:79]\u001b[0m Model saved to .//Model//temp_model\\TGAN0\\model\\model-39.\n",
      "\u001b[32m[1229 16:14:45 @monitor.py:467]\u001b[0m GAN_loss/discrim/accuracy_fake: 0.685\n",
      "\u001b[32m[1229 16:14:45 @monitor.py:467]\u001b[0m GAN_loss/discrim/accuracy_real: 0.37\n",
      "\u001b[32m[1229 16:14:45 @monitor.py:467]\u001b[0m GAN_loss/discrim/loss: 0.79854\n",
      "\u001b[32m[1229 16:14:45 @monitor.py:467]\u001b[0m GAN_loss/gen/final-g-loss: 1.163\n",
      "\u001b[32m[1229 16:14:45 @monitor.py:467]\u001b[0m GAN_loss/gen/klloss: 0.048213\n",
      "\u001b[32m[1229 16:14:45 @monitor.py:467]\u001b[0m GAN_loss/gen/loss: 1.1147\n",
      "\u001b[32m[1229 16:14:45 @monitor.py:467]\u001b[0m QueueInput/queue_size: 50\n",
      "\u001b[32m[1229 16:14:45 @base.py:275]\u001b[0m Start Epoch 2 ...\n"
     ]
    },
    {
     "name": "stderr",
     "output_type": "stream",
     "text": [
      "100%|#####################################################################################|39/39[00:11<00:00, 3.25it/s]"
     ]
    },
    {
     "name": "stdout",
     "output_type": "stream",
     "text": [
      "\u001b[32m[1229 16:14:57 @base.py:285]\u001b[0m Epoch 2 (global_step 78) finished, time:12 seconds.\n"
     ]
    },
    {
     "name": "stderr",
     "output_type": "stream",
     "text": [
      "\n"
     ]
    },
    {
     "name": "stdout",
     "output_type": "stream",
     "text": [
      "\u001b[32m[1229 16:14:57 @saver.py:79]\u001b[0m Model saved to .//Model//temp_model\\TGAN0\\model\\model-78.\n",
      "\u001b[32m[1229 16:14:57 @monitor.py:467]\u001b[0m GAN_loss/discrim/accuracy_fake: 0.725\n",
      "\u001b[32m[1229 16:14:57 @monitor.py:467]\u001b[0m GAN_loss/discrim/accuracy_real: 0.345\n",
      "\u001b[32m[1229 16:14:57 @monitor.py:467]\u001b[0m GAN_loss/discrim/loss: 0.69175\n",
      "\u001b[32m[1229 16:14:57 @monitor.py:467]\u001b[0m GAN_loss/gen/final-g-loss: 1.1337\n",
      "\u001b[32m[1229 16:14:57 @monitor.py:467]\u001b[0m GAN_loss/gen/klloss: 0.056019\n",
      "\u001b[32m[1229 16:14:57 @monitor.py:467]\u001b[0m GAN_loss/gen/loss: 1.0777\n",
      "\u001b[32m[1229 16:14:57 @monitor.py:467]\u001b[0m QueueInput/queue_size: 50\n",
      "\u001b[32m[1229 16:14:57 @base.py:289]\u001b[0m Training has finished!\n",
      "WARNING:tensorflow:From C:\\Users\\Arne\\anaconda3\\envs\\tfv1\\lib\\site-packages\\tensorpack\\predict\\config.py:101: The name tf.train.ChiefSessionCreator is deprecated. Please use tf.compat.v1.train.ChiefSessionCreator instead.\n",
      "\n",
      "\u001b[32m[1229 16:14:58 @input_source.py:178]\u001b[0m EnqueueThread QueueInput/input_queue Exited.\n",
      "WARNING:tensorflow:From C:\\Users\\Arne\\anaconda3\\envs\\tfv1\\lib\\site-packages\\tensorpack\\tfutils\\collection.py:45: The name tf.get_collection_ref is deprecated. Please use tf.compat.v1.get_collection_ref instead.\n",
      "\n",
      "\u001b[32m[1229 16:14:58 @collection.py:146]\u001b[0m New collections created in tower : tf.GraphKeys.REGULARIZATION_LOSSES\n",
      "\u001b[32m[1229 16:14:58 @collection.py:165]\u001b[0m These collections were modified but restored in : (tf.GraphKeys.SUMMARIES: 0->2)\n",
      "WARNING:tensorflow:From C:\\Users\\Arne\\anaconda3\\envs\\tfv1\\lib\\site-packages\\tensorpack\\tfutils\\sessinit.py:120: The name tf.train.NewCheckpointReader is deprecated. Please use tf.compat.v1.train.NewCheckpointReader instead.\n",
      "\n",
      "WARNING:tensorflow:From C:\\Users\\Arne\\anaconda3\\envs\\tfv1\\lib\\site-packages\\tensorpack\\tfutils\\sessinit.py:127: The name tf.global_variables is deprecated. Please use tf.compat.v1.global_variables instead.\n",
      "\n",
      "\u001b[32m[1229 16:14:58 @sessinit.py:87]\u001b[0m \u001b[5m\u001b[31mWRN\u001b[0m The following variables are in the checkpoint, but not found in the graph: global_step, optimize/beta1_power, optimize/beta2_power\n",
      "INFO:tensorflow:Graph was finalized.\n",
      "INFO:tensorflow:Running local_init_op.\n",
      "INFO:tensorflow:Done running local_init_op.\n",
      "\u001b[32m[1229 16:14:59 @sessinit.py:114]\u001b[0m Restoring checkpoint from .//Model//temp_model\\TGAN0\\model\\model-78 ...\n",
      "INFO:tensorflow:Restoring parameters from .//Model//temp_model\\TGAN0\\model\\model-78\n"
     ]
    },
    {
     "name": "stderr",
     "output_type": "stream",
     "text": [
      " 48%|########################################3                                           |96/200[00:08<00:08,11.69it/s]\n"
     ]
    },
    {
     "name": "stdout",
     "output_type": "stream",
     "text": [
      "\u001b[32m[1229 16:15:08 @input_source.py:222]\u001b[0m Setting up the queue 'QueueInput/input_queue' for CPU prefetching ...\n",
      "\u001b[32m[1229 16:15:12 @logger.py:90]\u001b[0m Argv: C:\\Users\\Arne\\anaconda3\\envs\\tfv1\\lib\\site-packages\\ipykernel_launcher.py -f C:\\Users\\Arne\\AppData\\Roaming\\jupyter\\runtime\\kernel-35999244-15d2-4577-bec3-c5600cbe31b7.json\n",
      "\u001b[32m[1229 16:15:12 @model_utils.py:67]\u001b[0m \u001b[36mList of Trainable Variables: \n",
      "\u001b[0mname                              shape           #elements\n",
      "--------------------------------  ------------  -----------\n",
      "gen/LSTM/go:0                     [1, 100]              100\n",
      "gen/LSTM/lstm_cell/kernel:0       [500, 400]         200000\n",
      "gen/LSTM/lstm_cell/bias:0         [400]                 400\n",
      "gen/LSTM/00/FC/W:0                [100, 100]          10000\n",
      "gen/LSTM/00/FC/b:0                [100]                 100\n",
      "gen/LSTM/00/FC2/W:0               [100, 73]            7300\n",
      "gen/LSTM/00/FC2/b:0               [73]                   73\n",
      "gen/LSTM/00/FC3/W:0               [73, 100]            7300\n",
      "gen/LSTM/00/FC3/b:0               [100]                 100\n",
      "gen/LSTM/00/attw:0                [1, 1, 1]               1\n",
      "gen/LSTM/01/FC/W:0                [100, 100]          10000\n",
      "gen/LSTM/01/FC/b:0                [100]                 100\n",
      "gen/LSTM/01/FC2/W:0               [100, 3]              300\n",
      "gen/LSTM/01/FC2/b:0               [3]                     3\n",
      "gen/LSTM/01/FC3/W:0               [3, 100]              300\n",
      "gen/LSTM/01/FC3/b:0               [100]                 100\n",
      "gen/LSTM/01/attw:0                [2, 1, 1]               2\n",
      "gen/LSTM/02/FC/W:0                [100, 100]          10000\n",
      "gen/LSTM/02/FC/b:0                [100]                 100\n",
      "gen/LSTM/02/FC2/W:0               [100, 14758]      1475800\n",
      "gen/LSTM/02/FC2/b:0               [14758]             14758\n",
      "gen/LSTM/02/FC3/W:0               [14758, 100]      1475800\n",
      "gen/LSTM/02/FC3/b:0               [100]                 100\n",
      "gen/LSTM/02/attw:0                [3, 1, 1]               3\n",
      "gen/LSTM/03/FC/W:0                [100, 100]          10000\n",
      "gen/LSTM/03/FC/b:0                [100]                 100\n",
      "gen/LSTM/03/FC2/W:0               [100, 9]              900\n",
      "gen/LSTM/03/FC2/b:0               [9]                     9\n",
      "gen/LSTM/03/FC3/W:0               [9, 100]              900\n",
      "gen/LSTM/03/FC3/b:0               [100]                 100\n",
      "gen/LSTM/03/attw:0                [4, 1, 1]               4\n",
      "gen/LSTM/04/FC/W:0                [100, 100]          10000\n",
      "gen/LSTM/04/FC/b:0                [100]                 100\n",
      "gen/LSTM/04/FC2/W:0               [100, 16]            1600\n",
      "gen/LSTM/04/FC2/b:0               [16]                   16\n",
      "gen/LSTM/04/FC3/W:0               [16, 100]            1600\n",
      "gen/LSTM/04/FC3/b:0               [100]                 100\n",
      "gen/LSTM/04/attw:0                [5, 1, 1]               5\n",
      "gen/LSTM/05/FC/W:0                [100, 100]          10000\n",
      "gen/LSTM/05/FC/b:0                [100]                 100\n",
      "gen/LSTM/05/FC2/W:0               [100, 5]              500\n",
      "gen/LSTM/05/FC2/b:0               [5]                     5\n",
      "gen/LSTM/05/FC3/W:0               [5, 100]              500\n",
      "gen/LSTM/05/FC3/b:0               [100]                 100\n",
      "gen/LSTM/05/attw:0                [6, 1, 1]               6\n",
      "gen/LSTM/06/FC/W:0                [100, 100]          10000\n",
      "gen/LSTM/06/FC/b:0                [100]                 100\n",
      "gen/LSTM/06/FC2/W:0               [100, 15]            1500\n",
      "gen/LSTM/06/FC2/b:0               [15]                   15\n",
      "gen/LSTM/06/FC3/W:0               [15, 100]            1500\n",
      "gen/LSTM/06/FC3/b:0               [100]                 100\n",
      "gen/LSTM/06/attw:0                [7, 1, 1]               7\n",
      "gen/LSTM/07/FC/W:0                [100, 100]          10000\n",
      "gen/LSTM/07/FC/b:0                [100]                 100\n",
      "gen/LSTM/07/FC2/W:0               [100, 5]              500\n",
      "gen/LSTM/07/FC2/b:0               [5]                     5\n",
      "gen/LSTM/07/FC3/W:0               [5, 100]              500\n",
      "gen/LSTM/07/FC3/b:0               [100]                 100\n",
      "gen/LSTM/07/attw:0                [8, 1, 1]               8\n",
      "gen/LSTM/08/FC/W:0                [100, 100]          10000\n",
      "gen/LSTM/08/FC/b:0                [100]                 100\n",
      "gen/LSTM/08/FC2/W:0               [100, 2]              200\n",
      "gen/LSTM/08/FC2/b:0               [2]                     2\n",
      "gen/LSTM/08/FC3/W:0               [2, 100]              200\n",
      "gen/LSTM/08/FC3/b:0               [100]                 100\n",
      "gen/LSTM/08/attw:0                [9, 1, 1]               9\n",
      "gen/LSTM/09/FC/W:0                [100, 100]          10000\n",
      "gen/LSTM/09/FC/b:0                [100]                 100\n",
      "gen/LSTM/09/FC2/W:0               [100, 115]          11500\n",
      "gen/LSTM/09/FC2/b:0               [115]                 115\n",
      "gen/LSTM/09/FC3/W:0               [115, 100]          11500\n",
      "gen/LSTM/09/FC3/b:0               [100]                 100\n",
      "gen/LSTM/09/attw:0                [10, 1, 1]             10\n",
      "gen/LSTM/10/FC/W:0                [100, 100]          10000\n",
      "gen/LSTM/10/FC/b:0                [100]                 100\n",
      "gen/LSTM/10/FC2/W:0               [100, 92]            9200\n",
      "gen/LSTM/10/FC2/b:0               [92]                   92\n",
      "gen/LSTM/10/FC3/W:0               [92, 100]            9200\n",
      "gen/LSTM/10/FC3/b:0               [100]                 100\n",
      "gen/LSTM/10/attw:0                [11, 1, 1]             11\n",
      "gen/LSTM/11/FC/W:0                [100, 100]          10000\n",
      "gen/LSTM/11/FC/b:0                [100]                 100\n",
      "gen/LSTM/11/FC2/W:0               [100, 2]              200\n",
      "gen/LSTM/11/FC2/b:0               [2]                     2\n",
      "gen/LSTM/11/FC3/W:0               [2, 100]              200\n",
      "gen/LSTM/11/FC3/b:0               [100]                 100\n",
      "gen/LSTM/11/attw:0                [12, 1, 1]             12\n",
      "gen/LSTM/12/FC/W:0                [100, 100]          10000\n",
      "gen/LSTM/12/FC/b:0                [100]                 100\n",
      "gen/LSTM/12/FC2/W:0               [100, 2]              200\n",
      "gen/LSTM/12/FC2/b:0               [2]                     2\n",
      "gen/LSTM/12/FC3/W:0               [2, 100]              200\n",
      "gen/LSTM/12/FC3/b:0               [100]                 100\n",
      "gen/LSTM/12/attw:0                [13, 1, 1]             13\n",
      "discrim/dis_fc0/fc/W:0            [15097, 256]      3864832\n",
      "discrim/dis_fc0/fc/b:0            [256]                 256\n",
      "discrim/dis_fc0/fc_diversity/W:0  [256, 100]          25600\n",
      "discrim/dis_fc0/fc_diversity/b:0  [100]                 100\n",
      "discrim/dis_fc0/bn/beta:0         [266]                 266\n",
      "discrim/dis_fc_top/W:0            [266, 1]              266\n",
      "discrim/dis_fc_top/b:0            [1]                     1\u001b[36m\n",
      "Number of trainable variables: 101\n",
      "Number of parameters (elements): 7259009\n",
      "Storage space needed for all trainable variables: 27.69MB\u001b[0m\n",
      "\u001b[32m[1229 16:15:12 @base.py:209]\u001b[0m Setup callbacks graph ...\n",
      "\u001b[32m[1229 16:15:13 @summary.py:46]\u001b[0m [MovingAverageSummary] 6 operations in collection 'MOVING_SUMMARY_OPS' will be run with session hooks.\n",
      "\u001b[32m[1229 16:15:13 @summary.py:93]\u001b[0m Summarizing collection 'summaries' of size 9.\n",
      "\u001b[32m[1229 16:15:13 @graph.py:98]\u001b[0m Applying collection UPDATE_OPS of 4 ops.\n",
      "\u001b[32m[1229 16:15:14 @base.py:230]\u001b[0m Creating the session ...\n",
      "\u001b[32m[1229 16:15:15 @base.py:236]\u001b[0m Initializing the session ...\n",
      "\u001b[32m[1229 16:15:15 @base.py:243]\u001b[0m Graph Finalized.\n",
      "\u001b[32m[1229 16:15:15 @concurrency.py:38]\u001b[0m Starting EnqueueThread QueueInput/input_queue ...\n",
      "\u001b[32m[1229 16:15:16 @base.py:275]\u001b[0m Start Epoch 1 ...\n"
     ]
    },
    {
     "name": "stderr",
     "output_type": "stream",
     "text": [
      "100%|#####################################################################################|39/39[00:15<00:00, 2.47it/s]"
     ]
    },
    {
     "name": "stdout",
     "output_type": "stream",
     "text": [
      "\u001b[32m[1229 16:15:31 @base.py:285]\u001b[0m Epoch 1 (global_step 39) finished, time:15.8 seconds.\n"
     ]
    },
    {
     "name": "stderr",
     "output_type": "stream",
     "text": [
      "\n"
     ]
    },
    {
     "name": "stdout",
     "output_type": "stream",
     "text": [
      "\u001b[32m[1229 16:15:32 @saver.py:79]\u001b[0m Model saved to .//Model//temp_model\\TGAN1\\model\\model-39.\n",
      "\u001b[32m[1229 16:15:32 @monitor.py:467]\u001b[0m GAN_loss/discrim/accuracy_fake: 0.735\n",
      "\u001b[32m[1229 16:15:32 @monitor.py:467]\u001b[0m GAN_loss/discrim/accuracy_real: 0.285\n",
      "\u001b[32m[1229 16:15:32 @monitor.py:467]\u001b[0m GAN_loss/discrim/loss: 0.77851\n",
      "\u001b[32m[1229 16:15:32 @monitor.py:467]\u001b[0m GAN_loss/gen/final-g-loss: 1.2074\n",
      "\u001b[32m[1229 16:15:32 @monitor.py:467]\u001b[0m GAN_loss/gen/klloss: 0.043134\n",
      "\u001b[32m[1229 16:15:32 @monitor.py:467]\u001b[0m GAN_loss/gen/loss: 1.1642\n",
      "\u001b[32m[1229 16:15:32 @monitor.py:467]\u001b[0m QueueInput/queue_size: 50\n",
      "\u001b[32m[1229 16:15:32 @base.py:275]\u001b[0m Start Epoch 2 ...\n"
     ]
    },
    {
     "name": "stderr",
     "output_type": "stream",
     "text": [
      "100%|#####################################################################################|39/39[00:14<00:00, 2.72it/s]"
     ]
    },
    {
     "name": "stdout",
     "output_type": "stream",
     "text": [
      "\u001b[32m[1229 16:15:46 @base.py:285]\u001b[0m Epoch 2 (global_step 78) finished, time:14.3 seconds.\n"
     ]
    },
    {
     "name": "stderr",
     "output_type": "stream",
     "text": [
      "\n"
     ]
    },
    {
     "name": "stdout",
     "output_type": "stream",
     "text": [
      "\u001b[32m[1229 16:15:47 @saver.py:79]\u001b[0m Model saved to .//Model//temp_model\\TGAN1\\model\\model-78.\n",
      "\u001b[32m[1229 16:15:47 @monitor.py:467]\u001b[0m GAN_loss/discrim/accuracy_fake: 0.755\n",
      "\u001b[32m[1229 16:15:47 @monitor.py:467]\u001b[0m GAN_loss/discrim/accuracy_real: 0.31\n",
      "\u001b[32m[1229 16:15:47 @monitor.py:467]\u001b[0m GAN_loss/discrim/loss: 0.69506\n",
      "\u001b[32m[1229 16:15:47 @monitor.py:467]\u001b[0m GAN_loss/gen/final-g-loss: 1.1205\n",
      "\u001b[32m[1229 16:15:47 @monitor.py:467]\u001b[0m GAN_loss/gen/klloss: 0.041151\n",
      "\u001b[32m[1229 16:15:47 @monitor.py:467]\u001b[0m GAN_loss/gen/loss: 1.0793\n",
      "\u001b[32m[1229 16:15:47 @monitor.py:467]\u001b[0m QueueInput/queue_size: 50\n",
      "\u001b[32m[1229 16:15:47 @base.py:289]\u001b[0m Training has finished!\n",
      "\u001b[32m[1229 16:15:47 @input_source.py:178]\u001b[0m EnqueueThread QueueInput/input_queue Exited.\n",
      "\u001b[32m[1229 16:15:48 @collection.py:146]\u001b[0m New collections created in tower : tf.GraphKeys.REGULARIZATION_LOSSES\n",
      "\u001b[32m[1229 16:15:48 @collection.py:165]\u001b[0m These collections were modified but restored in : (tf.GraphKeys.SUMMARIES: 0->2)\n",
      "\u001b[32m[1229 16:15:48 @sessinit.py:87]\u001b[0m \u001b[5m\u001b[31mWRN\u001b[0m The following variables are in the checkpoint, but not found in the graph: global_step, optimize/beta1_power, optimize/beta2_power\n",
      "INFO:tensorflow:Graph was finalized.\n",
      "INFO:tensorflow:Running local_init_op.\n",
      "INFO:tensorflow:Done running local_init_op.\n",
      "\u001b[32m[1229 16:15:49 @sessinit.py:114]\u001b[0m Restoring checkpoint from .//Model//temp_model\\TGAN1\\model\\model-78 ...\n",
      "INFO:tensorflow:Restoring parameters from .//Model//temp_model\\TGAN1\\model\\model-78\n"
     ]
    },
    {
     "name": "stderr",
     "output_type": "stream",
     "text": [
      " 48%|########################################3                                           |96/200[00:08<00:09,11.07it/s]\n"
     ]
    },
    {
     "name": "stdout",
     "output_type": "stream",
     "text": [
      "\u001b[32m[1229 16:15:58 @input_source.py:222]\u001b[0m Setting up the queue 'QueueInput/input_queue' for CPU prefetching ...\n",
      "\u001b[32m[1229 16:16:02 @logger.py:90]\u001b[0m Argv: C:\\Users\\Arne\\anaconda3\\envs\\tfv1\\lib\\site-packages\\ipykernel_launcher.py -f C:\\Users\\Arne\\AppData\\Roaming\\jupyter\\runtime\\kernel-35999244-15d2-4577-bec3-c5600cbe31b7.json\n",
      "\u001b[32m[1229 16:16:02 @model_utils.py:67]\u001b[0m \u001b[36mList of Trainable Variables: \n",
      "\u001b[0mname                              shape           #elements\n",
      "--------------------------------  ------------  -----------\n",
      "gen/LSTM/go:0                     [1, 100]              100\n",
      "gen/LSTM/lstm_cell/kernel:0       [500, 400]         200000\n",
      "gen/LSTM/lstm_cell/bias:0         [400]                 400\n",
      "gen/LSTM/00/FC/W:0                [100, 100]          10000\n",
      "gen/LSTM/00/FC/b:0                [100]                 100\n",
      "gen/LSTM/00/FC2/W:0               [100, 73]            7300\n",
      "gen/LSTM/00/FC2/b:0               [73]                   73\n",
      "gen/LSTM/00/FC3/W:0               [73, 100]            7300\n",
      "gen/LSTM/00/FC3/b:0               [100]                 100\n",
      "gen/LSTM/00/attw:0                [1, 1, 1]               1\n",
      "gen/LSTM/01/FC/W:0                [100, 100]          10000\n",
      "gen/LSTM/01/FC/b:0                [100]                 100\n",
      "gen/LSTM/01/FC2/W:0               [100, 3]              300\n",
      "gen/LSTM/01/FC2/b:0               [3]                     3\n",
      "gen/LSTM/01/FC3/W:0               [3, 100]              300\n",
      "gen/LSTM/01/FC3/b:0               [100]                 100\n",
      "gen/LSTM/01/attw:0                [2, 1, 1]               2\n",
      "gen/LSTM/02/FC/W:0                [100, 100]          10000\n",
      "gen/LSTM/02/FC/b:0                [100]                 100\n",
      "gen/LSTM/02/FC2/W:0               [100, 14758]      1475800\n",
      "gen/LSTM/02/FC2/b:0               [14758]             14758\n",
      "gen/LSTM/02/FC3/W:0               [14758, 100]      1475800\n",
      "gen/LSTM/02/FC3/b:0               [100]                 100\n",
      "gen/LSTM/02/attw:0                [3, 1, 1]               3\n",
      "gen/LSTM/03/FC/W:0                [100, 100]          10000\n",
      "gen/LSTM/03/FC/b:0                [100]                 100\n",
      "gen/LSTM/03/FC2/W:0               [100, 9]              900\n",
      "gen/LSTM/03/FC2/b:0               [9]                     9\n",
      "gen/LSTM/03/FC3/W:0               [9, 100]              900\n",
      "gen/LSTM/03/FC3/b:0               [100]                 100\n",
      "gen/LSTM/03/attw:0                [4, 1, 1]               4\n",
      "gen/LSTM/04/FC/W:0                [100, 100]          10000\n",
      "gen/LSTM/04/FC/b:0                [100]                 100\n",
      "gen/LSTM/04/FC2/W:0               [100, 16]            1600\n",
      "gen/LSTM/04/FC2/b:0               [16]                   16\n",
      "gen/LSTM/04/FC3/W:0               [16, 100]            1600\n",
      "gen/LSTM/04/FC3/b:0               [100]                 100\n",
      "gen/LSTM/04/attw:0                [5, 1, 1]               5\n",
      "gen/LSTM/05/FC/W:0                [100, 100]          10000\n",
      "gen/LSTM/05/FC/b:0                [100]                 100\n",
      "gen/LSTM/05/FC2/W:0               [100, 5]              500\n",
      "gen/LSTM/05/FC2/b:0               [5]                     5\n",
      "gen/LSTM/05/FC3/W:0               [5, 100]              500\n",
      "gen/LSTM/05/FC3/b:0               [100]                 100\n",
      "gen/LSTM/05/attw:0                [6, 1, 1]               6\n",
      "gen/LSTM/06/FC/W:0                [100, 100]          10000\n",
      "gen/LSTM/06/FC/b:0                [100]                 100\n",
      "gen/LSTM/06/FC2/W:0               [100, 15]            1500\n",
      "gen/LSTM/06/FC2/b:0               [15]                   15\n",
      "gen/LSTM/06/FC3/W:0               [15, 100]            1500\n",
      "gen/LSTM/06/FC3/b:0               [100]                 100\n",
      "gen/LSTM/06/attw:0                [7, 1, 1]               7\n",
      "gen/LSTM/07/FC/W:0                [100, 100]          10000\n",
      "gen/LSTM/07/FC/b:0                [100]                 100\n",
      "gen/LSTM/07/FC2/W:0               [100, 5]              500\n",
      "gen/LSTM/07/FC2/b:0               [5]                     5\n",
      "gen/LSTM/07/FC3/W:0               [5, 100]              500\n",
      "gen/LSTM/07/FC3/b:0               [100]                 100\n",
      "gen/LSTM/07/attw:0                [8, 1, 1]               8\n",
      "gen/LSTM/08/FC/W:0                [100, 100]          10000\n",
      "gen/LSTM/08/FC/b:0                [100]                 100\n",
      "gen/LSTM/08/FC2/W:0               [100, 2]              200\n",
      "gen/LSTM/08/FC2/b:0               [2]                     2\n",
      "gen/LSTM/08/FC3/W:0               [2, 100]              200\n",
      "gen/LSTM/08/FC3/b:0               [100]                 100\n",
      "gen/LSTM/08/attw:0                [9, 1, 1]               9\n",
      "gen/LSTM/09/FC/W:0                [100, 100]          10000\n",
      "gen/LSTM/09/FC/b:0                [100]                 100\n",
      "gen/LSTM/09/FC2/W:0               [100, 115]          11500\n",
      "gen/LSTM/09/FC2/b:0               [115]                 115\n",
      "gen/LSTM/09/FC3/W:0               [115, 100]          11500\n",
      "gen/LSTM/09/FC3/b:0               [100]                 100\n",
      "gen/LSTM/09/attw:0                [10, 1, 1]             10\n",
      "gen/LSTM/10/FC/W:0                [100, 100]          10000\n",
      "gen/LSTM/10/FC/b:0                [100]                 100\n",
      "gen/LSTM/10/FC2/W:0               [100, 92]            9200\n",
      "gen/LSTM/10/FC2/b:0               [92]                   92\n",
      "gen/LSTM/10/FC3/W:0               [92, 100]            9200\n",
      "gen/LSTM/10/FC3/b:0               [100]                 100\n",
      "gen/LSTM/10/attw:0                [11, 1, 1]             11\n",
      "gen/LSTM/11/FC/W:0                [100, 100]          10000\n",
      "gen/LSTM/11/FC/b:0                [100]                 100\n",
      "gen/LSTM/11/FC2/W:0               [100, 2]              200\n",
      "gen/LSTM/11/FC2/b:0               [2]                     2\n",
      "gen/LSTM/11/FC3/W:0               [2, 100]              200\n",
      "gen/LSTM/11/FC3/b:0               [100]                 100\n",
      "gen/LSTM/11/attw:0                [12, 1, 1]             12\n",
      "gen/LSTM/12/FC/W:0                [100, 100]          10000\n",
      "gen/LSTM/12/FC/b:0                [100]                 100\n",
      "gen/LSTM/12/FC2/W:0               [100, 2]              200\n",
      "gen/LSTM/12/FC2/b:0               [2]                     2\n",
      "gen/LSTM/12/FC3/W:0               [2, 100]              200\n",
      "gen/LSTM/12/FC3/b:0               [100]                 100\n",
      "gen/LSTM/12/attw:0                [13, 1, 1]             13\n",
      "discrim/dis_fc0/fc/W:0            [15097, 256]      3864832\n",
      "discrim/dis_fc0/fc/b:0            [256]                 256\n",
      "discrim/dis_fc0/fc_diversity/W:0  [256, 100]          25600\n",
      "discrim/dis_fc0/fc_diversity/b:0  [100]                 100\n",
      "discrim/dis_fc0/bn/beta:0         [266]                 266\n",
      "discrim/dis_fc_top/W:0            [266, 1]              266\n",
      "discrim/dis_fc_top/b:0            [1]                     1\u001b[36m\n",
      "Number of trainable variables: 101\n",
      "Number of parameters (elements): 7259009\n",
      "Storage space needed for all trainable variables: 27.69MB\u001b[0m\n",
      "\u001b[32m[1229 16:16:02 @base.py:209]\u001b[0m Setup callbacks graph ...\n",
      "\u001b[32m[1229 16:16:02 @summary.py:46]\u001b[0m [MovingAverageSummary] 6 operations in collection 'MOVING_SUMMARY_OPS' will be run with session hooks.\n",
      "\u001b[32m[1229 16:16:02 @summary.py:93]\u001b[0m Summarizing collection 'summaries' of size 9.\n",
      "\u001b[32m[1229 16:16:02 @graph.py:98]\u001b[0m Applying collection UPDATE_OPS of 4 ops.\n",
      "\u001b[32m[1229 16:16:03 @base.py:230]\u001b[0m Creating the session ...\n",
      "\u001b[32m[1229 16:16:05 @base.py:236]\u001b[0m Initializing the session ...\n",
      "\u001b[32m[1229 16:16:05 @base.py:243]\u001b[0m Graph Finalized.\n",
      "\u001b[32m[1229 16:16:05 @concurrency.py:38]\u001b[0m Starting EnqueueThread QueueInput/input_queue ...\n",
      "\u001b[32m[1229 16:16:05 @base.py:275]\u001b[0m Start Epoch 1 ...\n"
     ]
    },
    {
     "name": "stderr",
     "output_type": "stream",
     "text": [
      "100%|#####################################################################################|39/39[00:15<00:00, 2.51it/s]"
     ]
    },
    {
     "name": "stdout",
     "output_type": "stream",
     "text": [
      "\u001b[32m[1229 16:16:21 @base.py:285]\u001b[0m Epoch 1 (global_step 39) finished, time:15.5 seconds.\n"
     ]
    },
    {
     "name": "stderr",
     "output_type": "stream",
     "text": [
      "\n"
     ]
    },
    {
     "name": "stdout",
     "output_type": "stream",
     "text": [
      "\u001b[32m[1229 16:16:21 @saver.py:79]\u001b[0m Model saved to .//Model//temp_model\\TGAN2\\model\\model-39.\n",
      "\u001b[32m[1229 16:16:21 @monitor.py:467]\u001b[0m GAN_loss/discrim/accuracy_fake: 0.71\n",
      "\u001b[32m[1229 16:16:21 @monitor.py:467]\u001b[0m GAN_loss/discrim/accuracy_real: 0.375\n",
      "\u001b[32m[1229 16:16:21 @monitor.py:467]\u001b[0m GAN_loss/discrim/loss: 0.76564\n",
      "\u001b[32m[1229 16:16:21 @monitor.py:467]\u001b[0m GAN_loss/gen/final-g-loss: 1.195\n",
      "\u001b[32m[1229 16:16:21 @monitor.py:467]\u001b[0m GAN_loss/gen/klloss: 0.057529\n",
      "\u001b[32m[1229 16:16:21 @monitor.py:467]\u001b[0m GAN_loss/gen/loss: 1.1375\n",
      "\u001b[32m[1229 16:16:21 @monitor.py:467]\u001b[0m QueueInput/queue_size: 50\n",
      "\u001b[32m[1229 16:16:21 @base.py:275]\u001b[0m Start Epoch 2 ...\n"
     ]
    },
    {
     "name": "stderr",
     "output_type": "stream",
     "text": [
      "100%|#####################################################################################|39/39[00:12<00:00, 3.19it/s]"
     ]
    },
    {
     "name": "stdout",
     "output_type": "stream",
     "text": [
      "\u001b[32m[1229 16:16:33 @base.py:285]\u001b[0m Epoch 2 (global_step 78) finished, time:12.2 seconds.\n"
     ]
    },
    {
     "name": "stderr",
     "output_type": "stream",
     "text": [
      "\n"
     ]
    },
    {
     "name": "stdout",
     "output_type": "stream",
     "text": [
      "\u001b[32m[1229 16:16:34 @saver.py:79]\u001b[0m Model saved to .//Model//temp_model\\TGAN2\\model\\model-78.\n",
      "\u001b[32m[1229 16:16:34 @monitor.py:467]\u001b[0m GAN_loss/discrim/accuracy_fake: 0.73\n",
      "\u001b[32m[1229 16:16:34 @monitor.py:467]\u001b[0m GAN_loss/discrim/accuracy_real: 0.295\n",
      "\u001b[32m[1229 16:16:34 @monitor.py:467]\u001b[0m GAN_loss/discrim/loss: 0.70217\n",
      "\u001b[32m[1229 16:16:34 @monitor.py:467]\u001b[0m GAN_loss/gen/final-g-loss: 1.1584\n",
      "\u001b[32m[1229 16:16:34 @monitor.py:467]\u001b[0m GAN_loss/gen/klloss: 0.047247\n",
      "\u001b[32m[1229 16:16:34 @monitor.py:467]\u001b[0m GAN_loss/gen/loss: 1.1111\n",
      "\u001b[32m[1229 16:16:34 @monitor.py:467]\u001b[0m QueueInput/queue_size: 50\n",
      "\u001b[32m[1229 16:16:34 @base.py:289]\u001b[0m Training has finished!\n",
      "\u001b[32m[1229 16:16:34 @input_source.py:178]\u001b[0m EnqueueThread QueueInput/input_queue Exited.\n",
      "\u001b[32m[1229 16:16:35 @collection.py:146]\u001b[0m New collections created in tower : tf.GraphKeys.REGULARIZATION_LOSSES\n",
      "\u001b[32m[1229 16:16:35 @collection.py:165]\u001b[0m These collections were modified but restored in : (tf.GraphKeys.SUMMARIES: 0->2)\n",
      "\u001b[32m[1229 16:16:35 @sessinit.py:87]\u001b[0m \u001b[5m\u001b[31mWRN\u001b[0m The following variables are in the checkpoint, but not found in the graph: global_step, optimize/beta1_power, optimize/beta2_power\n",
      "INFO:tensorflow:Graph was finalized.\n",
      "INFO:tensorflow:Running local_init_op.\n",
      "INFO:tensorflow:Done running local_init_op.\n",
      "\u001b[32m[1229 16:16:36 @sessinit.py:114]\u001b[0m Restoring checkpoint from .//Model//temp_model\\TGAN2\\model\\model-78 ...\n",
      "INFO:tensorflow:Restoring parameters from .//Model//temp_model\\TGAN2\\model\\model-78\n"
     ]
    },
    {
     "name": "stderr",
     "output_type": "stream",
     "text": [
      " 48%|########################################3                                           |96/200[00:09<00:10, 9.77it/s]\n"
     ]
    },
    {
     "name": "stdout",
     "output_type": "stream",
     "text": [
      "\u001b[32m[1229 16:16:46 @input_source.py:222]\u001b[0m Setting up the queue 'QueueInput/input_queue' for CPU prefetching ...\n",
      "\u001b[32m[1229 16:16:52 @logger.py:90]\u001b[0m Argv: C:\\Users\\Arne\\anaconda3\\envs\\tfv1\\lib\\site-packages\\ipykernel_launcher.py -f C:\\Users\\Arne\\AppData\\Roaming\\jupyter\\runtime\\kernel-35999244-15d2-4577-bec3-c5600cbe31b7.json\n",
      "\u001b[32m[1229 16:16:52 @model_utils.py:67]\u001b[0m \u001b[36mList of Trainable Variables: \n",
      "\u001b[0mname                              shape           #elements\n",
      "--------------------------------  ------------  -----------\n",
      "gen/LSTM/go:0                     [1, 100]              100\n",
      "gen/LSTM/lstm_cell/kernel:0       [500, 400]         200000\n",
      "gen/LSTM/lstm_cell/bias:0         [400]                 400\n",
      "gen/LSTM/00/FC/W:0                [100, 100]          10000\n",
      "gen/LSTM/00/FC/b:0                [100]                 100\n",
      "gen/LSTM/00/FC2/W:0               [100, 73]            7300\n",
      "gen/LSTM/00/FC2/b:0               [73]                   73\n",
      "gen/LSTM/00/FC3/W:0               [73, 100]            7300\n",
      "gen/LSTM/00/FC3/b:0               [100]                 100\n",
      "gen/LSTM/00/attw:0                [1, 1, 1]               1\n",
      "gen/LSTM/01/FC/W:0                [100, 100]          10000\n",
      "gen/LSTM/01/FC/b:0                [100]                 100\n",
      "gen/LSTM/01/FC2/W:0               [100, 3]              300\n",
      "gen/LSTM/01/FC2/b:0               [3]                     3\n",
      "gen/LSTM/01/FC3/W:0               [3, 100]              300\n",
      "gen/LSTM/01/FC3/b:0               [100]                 100\n",
      "gen/LSTM/01/attw:0                [2, 1, 1]               2\n",
      "gen/LSTM/02/FC/W:0                [100, 100]          10000\n",
      "gen/LSTM/02/FC/b:0                [100]                 100\n",
      "gen/LSTM/02/FC2/W:0               [100, 14758]      1475800\n",
      "gen/LSTM/02/FC2/b:0               [14758]             14758\n",
      "gen/LSTM/02/FC3/W:0               [14758, 100]      1475800\n",
      "gen/LSTM/02/FC3/b:0               [100]                 100\n",
      "gen/LSTM/02/attw:0                [3, 1, 1]               3\n",
      "gen/LSTM/03/FC/W:0                [100, 100]          10000\n",
      "gen/LSTM/03/FC/b:0                [100]                 100\n",
      "gen/LSTM/03/FC2/W:0               [100, 9]              900\n",
      "gen/LSTM/03/FC2/b:0               [9]                     9\n",
      "gen/LSTM/03/FC3/W:0               [9, 100]              900\n",
      "gen/LSTM/03/FC3/b:0               [100]                 100\n",
      "gen/LSTM/03/attw:0                [4, 1, 1]               4\n",
      "gen/LSTM/04/FC/W:0                [100, 100]          10000\n",
      "gen/LSTM/04/FC/b:0                [100]                 100\n",
      "gen/LSTM/04/FC2/W:0               [100, 16]            1600\n",
      "gen/LSTM/04/FC2/b:0               [16]                   16\n",
      "gen/LSTM/04/FC3/W:0               [16, 100]            1600\n",
      "gen/LSTM/04/FC3/b:0               [100]                 100\n",
      "gen/LSTM/04/attw:0                [5, 1, 1]               5\n",
      "gen/LSTM/05/FC/W:0                [100, 100]          10000\n",
      "gen/LSTM/05/FC/b:0                [100]                 100\n",
      "gen/LSTM/05/FC2/W:0               [100, 5]              500\n",
      "gen/LSTM/05/FC2/b:0               [5]                     5\n",
      "gen/LSTM/05/FC3/W:0               [5, 100]              500\n",
      "gen/LSTM/05/FC3/b:0               [100]                 100\n",
      "gen/LSTM/05/attw:0                [6, 1, 1]               6\n",
      "gen/LSTM/06/FC/W:0                [100, 100]          10000\n",
      "gen/LSTM/06/FC/b:0                [100]                 100\n",
      "gen/LSTM/06/FC2/W:0               [100, 15]            1500\n",
      "gen/LSTM/06/FC2/b:0               [15]                   15\n",
      "gen/LSTM/06/FC3/W:0               [15, 100]            1500\n",
      "gen/LSTM/06/FC3/b:0               [100]                 100\n",
      "gen/LSTM/06/attw:0                [7, 1, 1]               7\n",
      "gen/LSTM/07/FC/W:0                [100, 100]          10000\n",
      "gen/LSTM/07/FC/b:0                [100]                 100\n",
      "gen/LSTM/07/FC2/W:0               [100, 5]              500\n",
      "gen/LSTM/07/FC2/b:0               [5]                     5\n",
      "gen/LSTM/07/FC3/W:0               [5, 100]              500\n",
      "gen/LSTM/07/FC3/b:0               [100]                 100\n",
      "gen/LSTM/07/attw:0                [8, 1, 1]               8\n",
      "gen/LSTM/08/FC/W:0                [100, 100]          10000\n",
      "gen/LSTM/08/FC/b:0                [100]                 100\n",
      "gen/LSTM/08/FC2/W:0               [100, 2]              200\n",
      "gen/LSTM/08/FC2/b:0               [2]                     2\n",
      "gen/LSTM/08/FC3/W:0               [2, 100]              200\n",
      "gen/LSTM/08/FC3/b:0               [100]                 100\n",
      "gen/LSTM/08/attw:0                [9, 1, 1]               9\n",
      "gen/LSTM/09/FC/W:0                [100, 100]          10000\n",
      "gen/LSTM/09/FC/b:0                [100]                 100\n",
      "gen/LSTM/09/FC2/W:0               [100, 115]          11500\n",
      "gen/LSTM/09/FC2/b:0               [115]                 115\n",
      "gen/LSTM/09/FC3/W:0               [115, 100]          11500\n",
      "gen/LSTM/09/FC3/b:0               [100]                 100\n",
      "gen/LSTM/09/attw:0                [10, 1, 1]             10\n",
      "gen/LSTM/10/FC/W:0                [100, 100]          10000\n",
      "gen/LSTM/10/FC/b:0                [100]                 100\n",
      "gen/LSTM/10/FC2/W:0               [100, 92]            9200\n",
      "gen/LSTM/10/FC2/b:0               [92]                   92\n",
      "gen/LSTM/10/FC3/W:0               [92, 100]            9200\n",
      "gen/LSTM/10/FC3/b:0               [100]                 100\n",
      "gen/LSTM/10/attw:0                [11, 1, 1]             11\n",
      "gen/LSTM/11/FC/W:0                [100, 100]          10000\n",
      "gen/LSTM/11/FC/b:0                [100]                 100\n",
      "gen/LSTM/11/FC2/W:0               [100, 2]              200\n",
      "gen/LSTM/11/FC2/b:0               [2]                     2\n",
      "gen/LSTM/11/FC3/W:0               [2, 100]              200\n",
      "gen/LSTM/11/FC3/b:0               [100]                 100\n",
      "gen/LSTM/11/attw:0                [12, 1, 1]             12\n",
      "gen/LSTM/12/FC/W:0                [100, 100]          10000\n",
      "gen/LSTM/12/FC/b:0                [100]                 100\n",
      "gen/LSTM/12/FC2/W:0               [100, 2]              200\n",
      "gen/LSTM/12/FC2/b:0               [2]                     2\n",
      "gen/LSTM/12/FC3/W:0               [2, 100]              200\n",
      "gen/LSTM/12/FC3/b:0               [100]                 100\n",
      "gen/LSTM/12/attw:0                [13, 1, 1]             13\n",
      "discrim/dis_fc0/fc/W:0            [15097, 256]      3864832\n",
      "discrim/dis_fc0/fc/b:0            [256]                 256\n",
      "discrim/dis_fc0/fc_diversity/W:0  [256, 100]          25600\n",
      "discrim/dis_fc0/fc_diversity/b:0  [100]                 100\n",
      "discrim/dis_fc0/bn/beta:0         [266]                 266\n",
      "discrim/dis_fc_top/W:0            [266, 1]              266\n",
      "discrim/dis_fc_top/b:0            [1]                     1\u001b[36m\n",
      "Number of trainable variables: 101\n",
      "Number of parameters (elements): 7259009\n",
      "Storage space needed for all trainable variables: 27.69MB\u001b[0m\n",
      "\u001b[32m[1229 16:16:52 @base.py:209]\u001b[0m Setup callbacks graph ...\n",
      "\u001b[32m[1229 16:16:52 @summary.py:46]\u001b[0m [MovingAverageSummary] 6 operations in collection 'MOVING_SUMMARY_OPS' will be run with session hooks.\n",
      "\u001b[32m[1229 16:16:52 @summary.py:93]\u001b[0m Summarizing collection 'summaries' of size 9.\n",
      "\u001b[32m[1229 16:16:52 @graph.py:98]\u001b[0m Applying collection UPDATE_OPS of 4 ops.\n",
      "\u001b[32m[1229 16:16:53 @base.py:230]\u001b[0m Creating the session ...\n",
      "\u001b[32m[1229 16:16:55 @base.py:236]\u001b[0m Initializing the session ...\n",
      "\u001b[32m[1229 16:16:55 @base.py:243]\u001b[0m Graph Finalized.\n",
      "\u001b[32m[1229 16:16:55 @concurrency.py:38]\u001b[0m Starting EnqueueThread QueueInput/input_queue ...\n",
      "\u001b[32m[1229 16:16:55 @base.py:275]\u001b[0m Start Epoch 1 ...\n"
     ]
    },
    {
     "name": "stderr",
     "output_type": "stream",
     "text": [
      "100%|#####################################################################################|39/39[00:21<00:00, 1.83it/s]"
     ]
    },
    {
     "name": "stdout",
     "output_type": "stream",
     "text": [
      "\u001b[32m[1229 16:17:17 @base.py:285]\u001b[0m Epoch 1 (global_step 39) finished, time:21.3 seconds.\n"
     ]
    },
    {
     "name": "stderr",
     "output_type": "stream",
     "text": [
      "\n"
     ]
    },
    {
     "name": "stdout",
     "output_type": "stream",
     "text": [
      "\u001b[32m[1229 16:17:17 @saver.py:79]\u001b[0m Model saved to .//Model//temp_model\\TGAN3\\model\\model-39.\n",
      "\u001b[32m[1229 16:17:17 @monitor.py:467]\u001b[0m GAN_loss/discrim/accuracy_fake: 0.68\n",
      "\u001b[32m[1229 16:17:17 @monitor.py:467]\u001b[0m GAN_loss/discrim/accuracy_real: 0.395\n",
      "\u001b[32m[1229 16:17:17 @monitor.py:467]\u001b[0m GAN_loss/discrim/loss: 0.77557\n",
      "\u001b[32m[1229 16:17:17 @monitor.py:467]\u001b[0m GAN_loss/gen/final-g-loss: 1.2118\n",
      "\u001b[32m[1229 16:17:17 @monitor.py:467]\u001b[0m GAN_loss/gen/klloss: 0.08118\n",
      "\u001b[32m[1229 16:17:17 @monitor.py:467]\u001b[0m GAN_loss/gen/loss: 1.1307\n",
      "\u001b[32m[1229 16:17:17 @monitor.py:467]\u001b[0m QueueInput/queue_size: 50\n",
      "\u001b[32m[1229 16:17:17 @base.py:275]\u001b[0m Start Epoch 2 ...\n"
     ]
    },
    {
     "name": "stderr",
     "output_type": "stream",
     "text": [
      "100%|#####################################################################################|39/39[00:14<00:00, 2.65it/s]"
     ]
    },
    {
     "name": "stdout",
     "output_type": "stream",
     "text": [
      "\u001b[32m[1229 16:17:32 @base.py:285]\u001b[0m Epoch 2 (global_step 78) finished, time:14.7 seconds.\n"
     ]
    },
    {
     "name": "stderr",
     "output_type": "stream",
     "text": [
      "\n"
     ]
    },
    {
     "name": "stdout",
     "output_type": "stream",
     "text": [
      "\u001b[32m[1229 16:17:32 @saver.py:79]\u001b[0m Model saved to .//Model//temp_model\\TGAN3\\model\\model-78.\n",
      "\u001b[32m[1229 16:17:32 @monitor.py:467]\u001b[0m GAN_loss/discrim/accuracy_fake: 0.715\n",
      "\u001b[32m[1229 16:17:32 @monitor.py:467]\u001b[0m GAN_loss/discrim/accuracy_real: 0.325\n",
      "\u001b[32m[1229 16:17:32 @monitor.py:467]\u001b[0m GAN_loss/discrim/loss: 0.73622\n",
      "\u001b[32m[1229 16:17:32 @monitor.py:467]\u001b[0m GAN_loss/gen/final-g-loss: 1.1341\n",
      "\u001b[32m[1229 16:17:32 @monitor.py:467]\u001b[0m GAN_loss/gen/klloss: 0.086696\n",
      "\u001b[32m[1229 16:17:32 @monitor.py:467]\u001b[0m GAN_loss/gen/loss: 1.0474\n",
      "\u001b[32m[1229 16:17:32 @monitor.py:467]\u001b[0m QueueInput/queue_size: 50\n",
      "\u001b[32m[1229 16:17:32 @base.py:289]\u001b[0m Training has finished!\n",
      "\u001b[32m[1229 16:17:33 @input_source.py:178]\u001b[0m EnqueueThread QueueInput/input_queue Exited.\n",
      "\u001b[32m[1229 16:17:34 @collection.py:146]\u001b[0m New collections created in tower : tf.GraphKeys.REGULARIZATION_LOSSES\n",
      "\u001b[32m[1229 16:17:34 @collection.py:165]\u001b[0m These collections were modified but restored in : (tf.GraphKeys.SUMMARIES: 0->2)\n",
      "\u001b[32m[1229 16:17:34 @sessinit.py:87]\u001b[0m \u001b[5m\u001b[31mWRN\u001b[0m The following variables are in the checkpoint, but not found in the graph: global_step, optimize/beta1_power, optimize/beta2_power\n",
      "INFO:tensorflow:Graph was finalized.\n",
      "INFO:tensorflow:Running local_init_op.\n",
      "INFO:tensorflow:Done running local_init_op.\n",
      "\u001b[32m[1229 16:17:34 @sessinit.py:114]\u001b[0m Restoring checkpoint from .//Model//temp_model\\TGAN3\\model\\model-78 ...\n",
      "INFO:tensorflow:Restoring parameters from .//Model//temp_model\\TGAN3\\model\\model-78\n"
     ]
    },
    {
     "name": "stderr",
     "output_type": "stream",
     "text": [
      " 48%|########################################3                                           |96/200[00:08<00:09,11.34it/s]\n"
     ]
    },
    {
     "name": "stdout",
     "output_type": "stream",
     "text": [
      "\u001b[32m[1229 16:17:43 @input_source.py:222]\u001b[0m Setting up the queue 'QueueInput/input_queue' for CPU prefetching ...\n",
      "\u001b[32m[1229 16:17:47 @logger.py:90]\u001b[0m Argv: C:\\Users\\Arne\\anaconda3\\envs\\tfv1\\lib\\site-packages\\ipykernel_launcher.py -f C:\\Users\\Arne\\AppData\\Roaming\\jupyter\\runtime\\kernel-35999244-15d2-4577-bec3-c5600cbe31b7.json\n",
      "\u001b[32m[1229 16:17:47 @model_utils.py:67]\u001b[0m \u001b[36mList of Trainable Variables: \n",
      "\u001b[0mname                              shape           #elements\n",
      "--------------------------------  ------------  -----------\n",
      "gen/LSTM/go:0                     [1, 100]              100\n",
      "gen/LSTM/lstm_cell/kernel:0       [500, 400]         200000\n",
      "gen/LSTM/lstm_cell/bias:0         [400]                 400\n",
      "gen/LSTM/00/FC/W:0                [100, 100]          10000\n",
      "gen/LSTM/00/FC/b:0                [100]                 100\n",
      "gen/LSTM/00/FC2/W:0               [100, 73]            7300\n",
      "gen/LSTM/00/FC2/b:0               [73]                   73\n",
      "gen/LSTM/00/FC3/W:0               [73, 100]            7300\n",
      "gen/LSTM/00/FC3/b:0               [100]                 100\n",
      "gen/LSTM/00/attw:0                [1, 1, 1]               1\n",
      "gen/LSTM/01/FC/W:0                [100, 100]          10000\n",
      "gen/LSTM/01/FC/b:0                [100]                 100\n",
      "gen/LSTM/01/FC2/W:0               [100, 3]              300\n",
      "gen/LSTM/01/FC2/b:0               [3]                     3\n",
      "gen/LSTM/01/FC3/W:0               [3, 100]              300\n",
      "gen/LSTM/01/FC3/b:0               [100]                 100\n",
      "gen/LSTM/01/attw:0                [2, 1, 1]               2\n",
      "gen/LSTM/02/FC/W:0                [100, 100]          10000\n",
      "gen/LSTM/02/FC/b:0                [100]                 100\n",
      "gen/LSTM/02/FC2/W:0               [100, 14758]      1475800\n",
      "gen/LSTM/02/FC2/b:0               [14758]             14758\n",
      "gen/LSTM/02/FC3/W:0               [14758, 100]      1475800\n",
      "gen/LSTM/02/FC3/b:0               [100]                 100\n",
      "gen/LSTM/02/attw:0                [3, 1, 1]               3\n",
      "gen/LSTM/03/FC/W:0                [100, 100]          10000\n",
      "gen/LSTM/03/FC/b:0                [100]                 100\n",
      "gen/LSTM/03/FC2/W:0               [100, 9]              900\n",
      "gen/LSTM/03/FC2/b:0               [9]                     9\n",
      "gen/LSTM/03/FC3/W:0               [9, 100]              900\n",
      "gen/LSTM/03/FC3/b:0               [100]                 100\n",
      "gen/LSTM/03/attw:0                [4, 1, 1]               4\n",
      "gen/LSTM/04/FC/W:0                [100, 100]          10000\n",
      "gen/LSTM/04/FC/b:0                [100]                 100\n",
      "gen/LSTM/04/FC2/W:0               [100, 16]            1600\n",
      "gen/LSTM/04/FC2/b:0               [16]                   16\n",
      "gen/LSTM/04/FC3/W:0               [16, 100]            1600\n",
      "gen/LSTM/04/FC3/b:0               [100]                 100\n",
      "gen/LSTM/04/attw:0                [5, 1, 1]               5\n",
      "gen/LSTM/05/FC/W:0                [100, 100]          10000\n",
      "gen/LSTM/05/FC/b:0                [100]                 100\n",
      "gen/LSTM/05/FC2/W:0               [100, 5]              500\n",
      "gen/LSTM/05/FC2/b:0               [5]                     5\n",
      "gen/LSTM/05/FC3/W:0               [5, 100]              500\n",
      "gen/LSTM/05/FC3/b:0               [100]                 100\n",
      "gen/LSTM/05/attw:0                [6, 1, 1]               6\n",
      "gen/LSTM/06/FC/W:0                [100, 100]          10000\n",
      "gen/LSTM/06/FC/b:0                [100]                 100\n",
      "gen/LSTM/06/FC2/W:0               [100, 15]            1500\n",
      "gen/LSTM/06/FC2/b:0               [15]                   15\n",
      "gen/LSTM/06/FC3/W:0               [15, 100]            1500\n",
      "gen/LSTM/06/FC3/b:0               [100]                 100\n",
      "gen/LSTM/06/attw:0                [7, 1, 1]               7\n",
      "gen/LSTM/07/FC/W:0                [100, 100]          10000\n",
      "gen/LSTM/07/FC/b:0                [100]                 100\n",
      "gen/LSTM/07/FC2/W:0               [100, 5]              500\n",
      "gen/LSTM/07/FC2/b:0               [5]                     5\n",
      "gen/LSTM/07/FC3/W:0               [5, 100]              500\n",
      "gen/LSTM/07/FC3/b:0               [100]                 100\n",
      "gen/LSTM/07/attw:0                [8, 1, 1]               8\n",
      "gen/LSTM/08/FC/W:0                [100, 100]          10000\n",
      "gen/LSTM/08/FC/b:0                [100]                 100\n",
      "gen/LSTM/08/FC2/W:0               [100, 2]              200\n",
      "gen/LSTM/08/FC2/b:0               [2]                     2\n",
      "gen/LSTM/08/FC3/W:0               [2, 100]              200\n",
      "gen/LSTM/08/FC3/b:0               [100]                 100\n",
      "gen/LSTM/08/attw:0                [9, 1, 1]               9\n",
      "gen/LSTM/09/FC/W:0                [100, 100]          10000\n",
      "gen/LSTM/09/FC/b:0                [100]                 100\n",
      "gen/LSTM/09/FC2/W:0               [100, 115]          11500\n",
      "gen/LSTM/09/FC2/b:0               [115]                 115\n",
      "gen/LSTM/09/FC3/W:0               [115, 100]          11500\n",
      "gen/LSTM/09/FC3/b:0               [100]                 100\n",
      "gen/LSTM/09/attw:0                [10, 1, 1]             10\n",
      "gen/LSTM/10/FC/W:0                [100, 100]          10000\n",
      "gen/LSTM/10/FC/b:0                [100]                 100\n",
      "gen/LSTM/10/FC2/W:0               [100, 92]            9200\n",
      "gen/LSTM/10/FC2/b:0               [92]                   92\n",
      "gen/LSTM/10/FC3/W:0               [92, 100]            9200\n",
      "gen/LSTM/10/FC3/b:0               [100]                 100\n",
      "gen/LSTM/10/attw:0                [11, 1, 1]             11\n",
      "gen/LSTM/11/FC/W:0                [100, 100]          10000\n",
      "gen/LSTM/11/FC/b:0                [100]                 100\n",
      "gen/LSTM/11/FC2/W:0               [100, 2]              200\n",
      "gen/LSTM/11/FC2/b:0               [2]                     2\n",
      "gen/LSTM/11/FC3/W:0               [2, 100]              200\n",
      "gen/LSTM/11/FC3/b:0               [100]                 100\n",
      "gen/LSTM/11/attw:0                [12, 1, 1]             12\n",
      "gen/LSTM/12/FC/W:0                [100, 100]          10000\n",
      "gen/LSTM/12/FC/b:0                [100]                 100\n",
      "gen/LSTM/12/FC2/W:0               [100, 2]              200\n",
      "gen/LSTM/12/FC2/b:0               [2]                     2\n",
      "gen/LSTM/12/FC3/W:0               [2, 100]              200\n",
      "gen/LSTM/12/FC3/b:0               [100]                 100\n",
      "gen/LSTM/12/attw:0                [13, 1, 1]             13\n",
      "discrim/dis_fc0/fc/W:0            [15097, 256]      3864832\n",
      "discrim/dis_fc0/fc/b:0            [256]                 256\n",
      "discrim/dis_fc0/fc_diversity/W:0  [256, 100]          25600\n",
      "discrim/dis_fc0/fc_diversity/b:0  [100]                 100\n",
      "discrim/dis_fc0/bn/beta:0         [266]                 266\n",
      "discrim/dis_fc_top/W:0            [266, 1]              266\n",
      "discrim/dis_fc_top/b:0            [1]                     1\u001b[36m\n",
      "Number of trainable variables: 101\n",
      "Number of parameters (elements): 7259009\n",
      "Storage space needed for all trainable variables: 27.69MB\u001b[0m\n",
      "\u001b[32m[1229 16:17:47 @base.py:209]\u001b[0m Setup callbacks graph ...\n",
      "\u001b[32m[1229 16:17:47 @summary.py:46]\u001b[0m [MovingAverageSummary] 6 operations in collection 'MOVING_SUMMARY_OPS' will be run with session hooks.\n",
      "\u001b[32m[1229 16:17:47 @summary.py:93]\u001b[0m Summarizing collection 'summaries' of size 9.\n",
      "\u001b[32m[1229 16:17:47 @graph.py:98]\u001b[0m Applying collection UPDATE_OPS of 4 ops.\n",
      "\u001b[32m[1229 16:17:48 @base.py:230]\u001b[0m Creating the session ...\n",
      "\u001b[32m[1229 16:17:50 @base.py:236]\u001b[0m Initializing the session ...\n",
      "\u001b[32m[1229 16:17:50 @base.py:243]\u001b[0m Graph Finalized.\n",
      "\u001b[32m[1229 16:17:50 @concurrency.py:38]\u001b[0m Starting EnqueueThread QueueInput/input_queue ...\n",
      "\u001b[32m[1229 16:17:50 @base.py:275]\u001b[0m Start Epoch 1 ...\n"
     ]
    },
    {
     "name": "stderr",
     "output_type": "stream",
     "text": [
      "100%|#####################################################################################|39/39[00:15<00:00, 2.52it/s]"
     ]
    },
    {
     "name": "stdout",
     "output_type": "stream",
     "text": [
      "\u001b[32m[1229 16:18:06 @base.py:285]\u001b[0m Epoch 1 (global_step 39) finished, time:15.5 seconds.\n"
     ]
    },
    {
     "name": "stderr",
     "output_type": "stream",
     "text": [
      "\n"
     ]
    },
    {
     "name": "stdout",
     "output_type": "stream",
     "text": [
      "\u001b[32m[1229 16:18:06 @saver.py:79]\u001b[0m Model saved to .//Model//temp_model\\TGAN4\\model\\model-39.\n",
      "\u001b[32m[1229 16:18:06 @monitor.py:467]\u001b[0m GAN_loss/discrim/accuracy_fake: 0.72\n",
      "\u001b[32m[1229 16:18:06 @monitor.py:467]\u001b[0m GAN_loss/discrim/accuracy_real: 0.3\n",
      "\u001b[32m[1229 16:18:06 @monitor.py:467]\u001b[0m GAN_loss/discrim/loss: 0.7934\n",
      "\u001b[32m[1229 16:18:06 @monitor.py:467]\u001b[0m GAN_loss/gen/final-g-loss: 1.2289\n",
      "\u001b[32m[1229 16:18:06 @monitor.py:467]\u001b[0m GAN_loss/gen/klloss: 0.037979\n",
      "\u001b[32m[1229 16:18:06 @monitor.py:467]\u001b[0m GAN_loss/gen/loss: 1.191\n",
      "\u001b[32m[1229 16:18:06 @monitor.py:467]\u001b[0m QueueInput/queue_size: 50\n",
      "\u001b[32m[1229 16:18:06 @base.py:275]\u001b[0m Start Epoch 2 ...\n"
     ]
    },
    {
     "name": "stderr",
     "output_type": "stream",
     "text": [
      "100%|#####################################################################################|39/39[00:11<00:00, 3.30it/s]"
     ]
    },
    {
     "name": "stdout",
     "output_type": "stream",
     "text": [
      "\u001b[32m[1229 16:18:18 @base.py:285]\u001b[0m Epoch 2 (global_step 78) finished, time:11.8 seconds.\n"
     ]
    },
    {
     "name": "stderr",
     "output_type": "stream",
     "text": [
      "\n"
     ]
    },
    {
     "name": "stdout",
     "output_type": "stream",
     "text": [
      "\u001b[32m[1229 16:18:18 @saver.py:79]\u001b[0m Model saved to .//Model//temp_model\\TGAN4\\model\\model-78.\n",
      "\u001b[32m[1229 16:18:19 @monitor.py:467]\u001b[0m GAN_loss/discrim/accuracy_fake: 0.7\n",
      "\u001b[32m[1229 16:18:19 @monitor.py:467]\u001b[0m GAN_loss/discrim/accuracy_real: 0.34\n",
      "\u001b[32m[1229 16:18:19 @monitor.py:467]\u001b[0m GAN_loss/discrim/loss: 0.70424\n",
      "\u001b[32m[1229 16:18:19 @monitor.py:467]\u001b[0m GAN_loss/gen/final-g-loss: 1.1387\n",
      "\u001b[32m[1229 16:18:19 @monitor.py:467]\u001b[0m GAN_loss/gen/klloss: 0.05377\n",
      "\u001b[32m[1229 16:18:19 @monitor.py:467]\u001b[0m GAN_loss/gen/loss: 1.085\n",
      "\u001b[32m[1229 16:18:19 @monitor.py:467]\u001b[0m QueueInput/queue_size: 50\n",
      "\u001b[32m[1229 16:18:19 @base.py:289]\u001b[0m Training has finished!\n",
      "\u001b[32m[1229 16:18:19 @input_source.py:178]\u001b[0m EnqueueThread QueueInput/input_queue Exited.\n",
      "\u001b[32m[1229 16:18:20 @collection.py:146]\u001b[0m New collections created in tower : tf.GraphKeys.REGULARIZATION_LOSSES\n",
      "\u001b[32m[1229 16:18:20 @collection.py:165]\u001b[0m These collections were modified but restored in : (tf.GraphKeys.SUMMARIES: 0->2)\n",
      "\u001b[32m[1229 16:18:20 @sessinit.py:87]\u001b[0m \u001b[5m\u001b[31mWRN\u001b[0m The following variables are in the checkpoint, but not found in the graph: global_step, optimize/beta1_power, optimize/beta2_power\n",
      "INFO:tensorflow:Graph was finalized.\n",
      "INFO:tensorflow:Running local_init_op.\n",
      "INFO:tensorflow:Done running local_init_op.\n",
      "\u001b[32m[1229 16:18:20 @sessinit.py:114]\u001b[0m Restoring checkpoint from .//Model//temp_model\\TGAN4\\model\\model-78 ...\n",
      "INFO:tensorflow:Restoring parameters from .//Model//temp_model\\TGAN4\\model\\model-78\n"
     ]
    },
    {
     "name": "stderr",
     "output_type": "stream",
     "text": [
      " 48%|########################################3                                           |96/200[00:08<00:09,11.18it/s]\n"
     ]
    }
   ],
   "source": [
    "dataset_dir_tgan = os.path.join(dataset_gen_dir, \"TGAN\") \n",
    "model_temp_dir = \".//Model//temp_model\"\n",
    "if os.path.exists(model_temp_dir):\n",
    "    shutil.rmtree(model_temp_dir)\n",
    "os.makedirs(dataset_dir_tgan, exist_ok = True)\n",
    "for i in tqdm(range(n_synthetic_datasets), desc = \"Generated datasets\", disable = True):\n",
    "    tf.reset_default_graph()\n",
    "    tgan = TGANModel(columns_num, output = os.path.join(model_temp_dir, f\"TGAN{i}\"), \n",
    "                     max_epoch = 2, steps_per_epoch = data_train.shape[0] / 500, num_dis_hidden = 256,\n",
    "                    restore_session=False)\n",
    "    tgan.fit(data_train.reset_index(drop=True))\n",
    "    fake_train = tgan.sample(data_train.shape[0])\n",
    "    fake_train.to_csv(os.path.join(dataset_dir_tgan, f\"gen{i}.csv\"))\n",
    "    del tgan"
   ]
  },
  {
   "cell_type": "code",
   "execution_count": null,
   "id": "f3b0aff8",
   "metadata": {},
   "outputs": [],
   "source": []
  }
 ],
 "metadata": {
  "kernelspec": {
   "display_name": "tfv1",
   "language": "python",
   "name": "tfv1"
  },
  "language_info": {
   "codemirror_mode": {
    "name": "ipython",
    "version": 3
   },
   "file_extension": ".py",
   "mimetype": "text/x-python",
   "name": "python",
   "nbconvert_exporter": "python",
   "pygments_lexer": "ipython3",
   "version": "3.7.11"
  }
 },
 "nbformat": 4,
 "nbformat_minor": 5
}
