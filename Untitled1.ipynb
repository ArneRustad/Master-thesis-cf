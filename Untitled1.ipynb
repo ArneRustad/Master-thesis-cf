{
 "cells": [
  {
   "cell_type": "code",
   "execution_count": 1,
   "id": "3d7b56e5",
   "metadata": {},
   "outputs": [],
   "source": [
    "import os\n",
    "from tqdm.auto import tqdm\n",
    "import shutil"
   ]
  },
  {
   "cell_type": "code",
   "execution_count": 2,
   "id": "a91435bf",
   "metadata": {},
   "outputs": [],
   "source": [
    "orig_dir = \"V:\\\\hyperparams_tuning\"\n",
    "new_dir = \"S:\\\\arneir\\\\Master-thesis-storage\\\\hyperparams_tuning\"\n",
    "filetype = \".csv\"\n",
    "progress_bar=True"
   ]
  },
  {
   "cell_type": "code",
   "execution_count": 4,
   "id": "d3470a7b",
   "metadata": {},
   "outputs": [],
   "source": [
    "def extract_relative_filepaths(directory, filetype = \"\"):\n",
    "    file_relpaths_of_interest = set()\n",
    "    for dirpath, dirnames, filenames in os.walk(directory):\n",
    "        relative_dirpath = os.path.relpath(dirpath, directory)\n",
    "        file_relpaths_of_interest.update([os.path.join(relative_dirpath, f) for f in filenames if f.endswith(filetype)])\n",
    "    return file_relpaths_of_interest"
   ]
  },
  {
   "cell_type": "code",
   "execution_count": 5,
   "id": "c4600c9f",
   "metadata": {},
   "outputs": [],
   "source": [
    "file_relpaths_of_interest = extract_relative_filepaths(orig_dir, filetype=\".csv\")"
   ]
  },
  {
   "cell_type": "code",
   "execution_count": 6,
   "id": "26fa4d38",
   "metadata": {},
   "outputs": [],
   "source": [
    "file_relpaths_of_interest_existing = extract_relative_filepaths(new_dir, filetype=\".csv\")"
   ]
  },
  {
   "cell_type": "code",
   "execution_count": 7,
   "id": "f525eff6",
   "metadata": {},
   "outputs": [],
   "source": [
    "file_relpaths_of_interest_new = file_relpaths_of_interest.difference(file_relpaths_of_interest_existing)"
   ]
  },
  {
   "cell_type": "code",
   "execution_count": 8,
   "id": "f6654774",
   "metadata": {},
   "outputs": [],
   "source": [
    "progress_bar=True"
   ]
  },
  {
   "cell_type": "code",
   "execution_count": 10,
   "id": "cc9eaeb8",
   "metadata": {},
   "outputs": [
    {
     "data": {
      "application/vnd.jupyter.widget-view+json": {
       "model_id": "7d77420743414246b9d0ebae54703c82",
       "version_major": 2,
       "version_minor": 0
      },
      "text/plain": [
       "  0%|          | 0/20 [00:00<?, ?it/s]"
      ]
     },
     "metadata": {},
     "output_type": "display_data"
    }
   ],
   "source": [
    "with tqdm(total = len(file_relpaths_of_interest_new), disable=not progress_bar) as pbar:\n",
    "    for file_relpath in file_relpaths_of_interest_new:\n",
    "        filepath_orig = os.path.join(orig_dir, file_relpath)\n",
    "        filepath_new = os.path.join(new_dir, file_relpath)\n",
    "        os.makedirs(os.path.dirname(filepath_new), exist_ok = True)\n",
    "        shutil.copyfile(filepath_orig, filepath_new)\n",
    "        pbar.update(1)"
   ]
  }
 ],
 "metadata": {
  "kernelspec": {
   "display_name": "tf",
   "language": "python",
   "name": "tf"
  },
  "language_info": {
   "codemirror_mode": {
    "name": "ipython",
    "version": 3
   },
   "file_extension": ".py",
   "mimetype": "text/x-python",
   "name": "python",
   "nbconvert_exporter": "python",
   "pygments_lexer": "ipython3",
   "version": "3.7.11"
  }
 },
 "nbformat": 4,
 "nbformat_minor": 5
}
