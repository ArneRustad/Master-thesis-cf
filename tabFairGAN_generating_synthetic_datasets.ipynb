{
 "cells": [
  {
   "cell_type": "code",
   "execution_count": 1,
   "id": "67f26b38",
   "metadata": {},
   "outputs": [],
   "source": [
    "imports_path = \".\\\\imports.ipynb\"\n",
    "tableGAN_path = \".\\\\tableGAN.ipynb\"\n",
    "utils_path = \".\\\\utils.ipynb\"\n",
    "\n",
    "%run \"$imports_path\"\n",
    "%run \"$utils_path\"\n",
    "\n",
    "from IPython.display import clear_output"
   ]
  },
  {
   "cell_type": "code",
   "execution_count": 2,
   "id": "f70bea83",
   "metadata": {},
   "outputs": [
    {
     "data": {
      "text/plain": [
       "array([0.  , 0.25, 0.5 , 0.75, 1.  ])"
      ]
     },
     "execution_count": 2,
     "metadata": {},
     "output_type": "execute_result"
    }
   ],
   "source": [
    "np.linspace(0, 1, 5, endpoint=True)"
   ]
  },
  {
   "cell_type": "code",
   "execution_count": 4,
   "id": "d48a9af8",
   "metadata": {},
   "outputs": [],
   "source": [
    "timer_dir = \".\\\\Timers\"\n",
    "timer_path = os.path.join(timer_dir, \"timer_tgan.pkl\")\n",
    "if not os.path.exists(timer_path):\n",
    "    timer = Timer()\n",
    "    timer.save(timer_path)\n",
    "    del timer\n",
    "\n",
    "n_synthetic_datasets = 5\n",
    "dataset_dir = \".//Datasets//\"\n",
    "dataset_gen_dir = os.path.join(dataset_dir, \"Generated_for_pred_eval_adult//\")\n",
    "data_test_tabfairgan = pd.read_csv(os.path.join(dataset_dir, \"df_adult_edited_test.csv\"), index_col = 0)\n",
    "data_train_tabfairgan = pd.read_csv(os.path.join(dataset_dir, \"df_adult_edited_train.csv\"), index_col = 0)\n",
    "\n",
    "dataset_gen_dir_tabfairgan = os.path.join(dataset_gen_dir, \"tabFairGAN-mod\")\n",
    "os.makedirs(dataset_gen_dir_tabfairgan, exist_ok=True)\n",
    "dataset_gen_dir_tabfairgan_orig = os.path.join(dataset_gen_dir, \"tabFairGAN\")\n",
    "os.makedirs(dataset_gen_dir_tabfairgan_orig, exist_ok=True)\n",
    "\n",
    "size_of_fake_data_train = data_train_tabfairgan.shape[0]\n",
    "size_of_fake_data = data_test_tabfairgan.shape[0]\n",
    "\n",
    "data_train_tabfairgan.columns = data_train_tabfairgan.columns.str.replace(\".\", \"_\", regex = False)\n",
    "data_test_tabfairgan.columns = data_test_tabfairgan.columns.str.replace(\".\", \"_\", regex = False)\n",
    "data_train_tabfairgan.to_csv(\".//Datasets//df_adult_edited_train_tabFairGAN.csv\")\n",
    "data_test_tabfairgan.to_csv(\".//Datasets//df_adult_edited_test_tabFairGAN.csv\")\n",
    "\n",
    "n_epochs = 20\n",
    "batch_size = 500\n",
    "n_critics = 10\n",
    "dim_hidden_layer = 256\n",
    "dim_hidden_layer_orig = -1 # same as setting equal to input dim"
   ]
  },
  {
   "cell_type": "code",
   "execution_count": 6,
   "id": "a8984dca",
   "metadata": {},
   "outputs": [
    {
     "data": {
      "application/vnd.jupyter.widget-view+json": {
       "model_id": "",
       "version_major": 2,
       "version_minor": 0
      },
      "text/plain": [
       "  0%|          | 0/20 [00:00<?, ?it/s]"
      ]
     },
     "metadata": {},
     "output_type": "display_data"
    },
    {
     "name": "stdout",
     "output_type": "stream",
     "text": [
      "Elapsed time for tabFairGAN: 128.315 seconds\n"
     ]
    }
   ],
   "source": [
    "dataset_gen_path_tabfairgan = os.path.join(dataset_gen_dir_tabfairgan, \"gen_full.csv\")\n",
    "timer_tgan = load_timer(timer_path)\n",
    "timer_tgan.start(\"tabFairGAN\")\n",
    "%run tabFairGAN_nofair.py \".//Datasets//df_adult_edited_train_tabFairGAN.csv\" $n_epochs $batch_size $dataset_gen_path_tabfairgan $size_of_fake_data --critic_repeat=$n_critics --dim_hidden_layer=$dim_hidden_layer\n",
    "timer_tgan.stop(\"tabFairGAN\")\n",
    "timer_tgan.save(timer_path)\n",
    "#clear_output()\n",
    "data_gen = pd.read_csv(dataset_gen_path_tabfairgan, index_col = 0)\n",
    "data_gen.columns = data_gen.columns.str.replace(\"_\", \".\")\n",
    "data_gen.to_csv(dataset_gen_path_tabfairgan)\n",
    "#df_name=\".//Datasets//adult_edited_train.csv\" num_epochs=20 batch_size=500 fake_name=dataset_gen_path_tabfairgan size_of_fake_data=data_train.shape[0]\n"
   ]
  },
  {
   "cell_type": "code",
   "execution_count": 36,
   "id": "f4445237",
   "metadata": {},
   "outputs": [
    {
     "data": {
      "application/vnd.jupyter.widget-view+json": {
       "model_id": "4c736244577141ad83cc5619962b5427",
       "version_major": 2,
       "version_minor": 0
      },
      "text/plain": [
       "Generated datasets:   0%|          | 0/5 [00:00<?, ?it/s]"
      ]
     },
     "metadata": {},
     "output_type": "display_data"
    },
    {
     "data": {
      "application/vnd.jupyter.widget-view+json": {
       "model_id": "",
       "version_major": 2,
       "version_minor": 0
      },
      "text/plain": [
       "  0%|          | 0/20 [00:00<?, ?it/s]"
      ]
     },
     "metadata": {},
     "output_type": "display_data"
    },
    {
     "data": {
      "application/vnd.jupyter.widget-view+json": {
       "model_id": "",
       "version_major": 2,
       "version_minor": 0
      },
      "text/plain": [
       "  0%|          | 0/20 [00:00<?, ?it/s]"
      ]
     },
     "metadata": {},
     "output_type": "display_data"
    },
    {
     "data": {
      "application/vnd.jupyter.widget-view+json": {
       "model_id": "",
       "version_major": 2,
       "version_minor": 0
      },
      "text/plain": [
       "  0%|          | 0/20 [00:00<?, ?it/s]"
      ]
     },
     "metadata": {},
     "output_type": "display_data"
    },
    {
     "data": {
      "application/vnd.jupyter.widget-view+json": {
       "model_id": "",
       "version_major": 2,
       "version_minor": 0
      },
      "text/plain": [
       "  0%|          | 0/20 [00:00<?, ?it/s]"
      ]
     },
     "metadata": {},
     "output_type": "display_data"
    },
    {
     "data": {
      "application/vnd.jupyter.widget-view+json": {
       "model_id": "",
       "version_major": 2,
       "version_minor": 0
      },
      "text/plain": [
       "  0%|          | 0/20 [00:00<?, ?it/s]"
      ]
     },
     "metadata": {},
     "output_type": "display_data"
    }
   ],
   "source": [
    "#df_name=\".//Datasets//adult_edited_train.csv\" num_epochs=20 batch_size=500 fake_name=dataset_gen_path_tabfairgan size_of_fake_data=data_train.shape[0]\n",
    "for i in tqdm(range(n_synthetic_datasets), desc = \"Generated datasets\", disable = False):\n",
    "    dataset_train_gen_path_tabfairgan = os.path.join(dataset_gen_dir_tabfairgan, f\"gen{i}.csv\")\n",
    "    %run tabFairGAN_nofair.py \".//Datasets//df_adult_edited_train_tabFairGAN.csv\" $n_epochs $batch_size $dataset_train_gen_path_tabfairgan $size_of_fake_data_train --critic_repeat=$n_critics --dim_hidden_layer=$dim_hidden_layer\n",
    "    data_train_gen = pd.read_csv(dataset_train_gen_path_tabfairgan, index_col = 0)\n",
    "    data_train_gen.columns = data_train_gen.columns.str.replace(\"_\", \".\")\n",
    "    data_train_gen.to_csv(dataset_train_gen_path_tabfairgan)"
   ]
  },
  {
   "cell_type": "code",
   "execution_count": 46,
   "id": "170849b8",
   "metadata": {},
   "outputs": [
    {
     "data": {
      "application/vnd.jupyter.widget-view+json": {
       "model_id": "fd48621cf1224ef9b0d08fb06bb347a5",
       "version_major": 2,
       "version_minor": 0
      },
      "text/plain": [
       "Generated datasets:   0%|          | 0/5 [00:00<?, ?it/s]"
      ]
     },
     "metadata": {},
     "output_type": "display_data"
    },
    {
     "data": {
      "application/vnd.jupyter.widget-view+json": {
       "model_id": "",
       "version_major": 2,
       "version_minor": 0
      },
      "text/plain": [
       "  0%|          | 0/20 [00:00<?, ?it/s]"
      ]
     },
     "metadata": {},
     "output_type": "display_data"
    },
    {
     "data": {
      "application/vnd.jupyter.widget-view+json": {
       "model_id": "",
       "version_major": 2,
       "version_minor": 0
      },
      "text/plain": [
       "  0%|          | 0/20 [00:00<?, ?it/s]"
      ]
     },
     "metadata": {},
     "output_type": "display_data"
    },
    {
     "data": {
      "application/vnd.jupyter.widget-view+json": {
       "model_id": "",
       "version_major": 2,
       "version_minor": 0
      },
      "text/plain": [
       "  0%|          | 0/20 [00:00<?, ?it/s]"
      ]
     },
     "metadata": {},
     "output_type": "display_data"
    },
    {
     "data": {
      "application/vnd.jupyter.widget-view+json": {
       "model_id": "",
       "version_major": 2,
       "version_minor": 0
      },
      "text/plain": [
       "  0%|          | 0/20 [00:00<?, ?it/s]"
      ]
     },
     "metadata": {},
     "output_type": "display_data"
    },
    {
     "data": {
      "application/vnd.jupyter.widget-view+json": {
       "model_id": "",
       "version_major": 2,
       "version_minor": 0
      },
      "text/plain": [
       "  0%|          | 0/20 [00:00<?, ?it/s]"
      ]
     },
     "metadata": {},
     "output_type": "display_data"
    }
   ],
   "source": [
    "for i in tqdm(range(n_synthetic_datasets), desc = \"Generated datasets\", disable = False):\n",
    "    dataset_train_gen_path_tabfairgan = os.path.join(dataset_gen_dir_tabfairgan_orig, f\"gen{i}.csv\")\n",
    "    %run tabFairGAN_nofair.py \".//Datasets//df_adult_edited_train_tabFairGAN.csv\" $n_epochs $batch_size $dataset_train_gen_path_tabfairgan $size_of_fake_data_train --critic_repeat=$n_critics --dim_hidden_layer=$dim_hidden_layer_orig\n",
    "    data_train_gen = pd.read_csv(dataset_train_gen_path_tabfairgan, index_col = 0)\n",
    "    data_train_gen.columns = data_train_gen.columns.str.replace(\"_\", \".\")\n",
    "    data_train_gen.to_csv(dataset_train_gen_path_tabfairgan)"
   ]
  },
  {
   "cell_type": "code",
   "execution_count": null,
   "id": "179b5bf6",
   "metadata": {},
   "outputs": [],
   "source": []
  }
 ],
 "metadata": {
  "kernelspec": {
   "display_name": "tf",
   "language": "python",
   "name": "tf"
  },
  "language_info": {
   "codemirror_mode": {
    "name": "ipython",
    "version": 3
   },
   "file_extension": ".py",
   "mimetype": "text/x-python",
   "name": "python",
   "nbconvert_exporter": "python",
   "pygments_lexer": "ipython3",
   "version": "3.7.11"
  }
 },
 "nbformat": 4,
 "nbformat_minor": 5
}
