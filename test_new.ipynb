{
 "cells": [
  {
   "cell_type": "code",
   "execution_count": null,
   "id": "5f948b18",
   "metadata": {},
   "outputs": [],
   "source": [
    "a = pd.Series([\"hei\", \"på\", \"deg\", \"hei\", \"på\", \"på\"])\n",
    "dict_ = {s : i for i,s in enumerate(np.unique(a))}\n",
    "bins = np.arange(0,3, 0.5)-0.25\n",
    "print(bins)\n",
    "print(dict_)\n",
    "fig, ax = plt.subplots(1)\n",
    "plt.hist(a.map(dict_), bins = bins)\n",
    "ax.set_xticks(np.arange(0, 3))\n",
    "ax.set_xticklabels(np.unique(a))\n",
    "b = [\"hei\", \"hei\", \"på\", \"deg\"]"
   ]
  }
 ],
 "metadata": {
  "kernelspec": {
   "display_name": "tf",
   "language": "python",
   "name": "tf"
  },
  "language_info": {
   "codemirror_mode": {
    "name": "ipython",
    "version": 3
   },
   "file_extension": ".py",
   "mimetype": "text/x-python",
   "name": "python",
   "nbconvert_exporter": "python",
   "pygments_lexer": "ipython3",
   "version": "3.7.11"
  }
 },
 "nbformat": 4,
 "nbformat_minor": 5
}
