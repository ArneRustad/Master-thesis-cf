{
 "cells": [
  {
   "cell_type": "code",
   "execution_count": 1,
   "id": "cc3d5d5b",
   "metadata": {},
   "outputs": [],
   "source": [
    "import pathlib\n",
    "import os\n",
    "if not \"changed_working_directory\" in locals():\n",
    "    changed_working_directory = True\n",
    "    os.chdir(pathlib.Path().resolve().parent)\n",
    "    \n",
    "%load_ext autoreload\n",
    "%load_ext line_profiler\n",
    "%autoreload 2"
   ]
  },
  {
   "cell_type": "code",
   "execution_count": 2,
   "id": "966be556",
   "metadata": {},
   "outputs": [],
   "source": [
    "from tabGAN import TabGAN, TabGAN2\n",
    "from src import constants as const\n",
    "import utils\n",
    "from utils.tictoc import *\n",
    "from utils.timer import Timer\n",
    "\n",
    "imports_path = \"src//imports.ipynb\"\n",
    "%run \"$imports_path\"\n",
    "\n",
    "if const.dir.project() != os.getcwd():\n",
    "    raise ValueError(\"Project directory not the same as in consts\")"
   ]
  },
  {
   "cell_type": "code",
   "execution_count": 3,
   "id": "674d7490",
   "metadata": {},
   "outputs": [],
   "source": [
    "dataset_train_path = os.path.join(const.dir.data(), \"df_adult_edited_train.csv\")\n",
    "dataset_test_path = os.path.join(const.dir.data(), \"df_adult_edited_test.csv\")\n",
    "\n",
    "data_train = pd.read_csv(dataset_train_path)\n",
    "data_test = pd.read_csv(dataset_test_path)\n",
    "discrete_columns = data_train.columns[data_train.dtypes == \"object\"]"
   ]
  },
  {
   "cell_type": "code",
   "execution_count": 4,
   "id": "4ff39aae",
   "metadata": {},
   "outputs": [],
   "source": [
    "n_epochs = 100\n",
    "n_critic = 10\n",
    "opt_lr = 0.002\n",
    "adam_beta1 = 0.5\n",
    "noise_discrete_unif_max = 0\n",
    "\n",
    "batch_size = 500\n",
    "ckpt_every = 1\n",
    "loss_plot_update_every = 10\n",
    "\n",
    "timer_path = os.path.join(const.dir.timers(), \"timer_tabGAN_speed.pkl\")\n",
    "retrain = True\n",
    "\n",
    "if not os.path.exists(timer_path):\n",
    "    timer = utils.timer.Timer()\n",
    "    timer.save(timer_path)\n",
    "    del timer"
   ]
  },
  {
   "cell_type": "code",
   "execution_count": 5,
   "id": "9453aa5a",
   "metadata": {},
   "outputs": [
    {
     "data": {
      "text/plain": [
       "<tf.Tensor: shape=(), dtype=int32, numpy=7>"
      ]
     },
     "execution_count": 5,
     "metadata": {},
     "output_type": "execute_result"
    }
   ],
   "source": [
    "@tf.function(experimental_compile=True)\n",
    "def add(a, b):\n",
    "    return a+b\n",
    "\n",
    "add(5,2)"
   ]
  },
  {
   "cell_type": "code",
   "execution_count": null,
   "id": "3f317d09",
   "metadata": {},
   "outputs": [],
   "source": [
    "tf_data_use=False\n",
    "tf_data_prefetch=False\n",
    "tf_data_cache=False\n",
    "tf_make_graph=False\n",
    "jit_compile=False\n",
    "\n",
    "tg_qtr = TabGAN(data_train, n_critic = n_critic, opt_lr = opt_lr, adam_beta1 = adam_beta1,\n",
    "                quantile_transformation_int = True, quantile_rand_transformation = True,\n",
    "                noise_discrete_unif_max = noise_discrete_unif_max,\n",
    "                tf_data_use=tf_data_use, tf_data_prefetch=tf_data_prefetch, tf_data_cache=tf_data_cache,\n",
    "                tf_make_graph=tf_make_graph, jit_compile=jit_compile)\n",
    "\n",
    "timer_key = \"\".join((f\"tf_data_use={tf_data_use}, tf_data_prefetch={tf_data_prefetch}, tf_data_cache={tf_data_cache}, \",\n",
    "                    f\"tf_make_graph={tf_make_graph}, jit_compile={jit_compile}\"\n",
    "                    ))\n",
    "if retrain:\n",
    "    timer_tabGAN = utils.timer.load(timer_path)\n",
    "    timer_tabGAN.start(timer_key)\n",
    "    tg_qtr.train(n_epochs, batch_size = batch_size, restart_training = True, progress_bar=True)\n",
    "    timer_tabGAN.stop(timer_key)\n",
    "    timer_tabGAN.save(timer_path)"
   ]
  },
  {
   "cell_type": "code",
   "execution_count": 14,
   "id": "7b291d6d",
   "metadata": {},
   "outputs": [
    {
     "data": {
      "application/vnd.jupyter.widget-view+json": {
       "model_id": "",
       "version_major": 2,
       "version_minor": 0
      },
      "text/plain": [
       "  0%|          | 0/100 [00:00<?, ?it/s]"
      ]
     },
     "metadata": {},
     "output_type": "display_data"
    },
    {
     "name": "stdout",
     "output_type": "stream",
     "text": [
      "Elapsed time for tf_data_use=False, tf_data_prefetch=False, tf_data_cache=False, tf_make_graph=True, jit_compile=False: 569.120 seconds\n"
     ]
    }
   ],
   "source": [
    "tf_data_use=False\n",
    "tf_data_prefetch=False\n",
    "tf_data_cache=False\n",
    "tf_make_graph=True\n",
    "jit_compile=False\n",
    "\n",
    "tg_qtr = TabGAN(data_train, n_critic = n_critic, opt_lr = opt_lr, adam_beta1 = adam_beta1,\n",
    "                quantile_transformation_int = True, quantile_rand_transformation = True,\n",
    "                noise_discrete_unif_max = noise_discrete_unif_max,\n",
    "                tf_data_use=tf_data_use, tf_data_prefetch=tf_data_prefetch, tf_data_cache=tf_data_cache,\n",
    "                tf_make_graph=tf_make_graph, jit_compile=jit_compile)\n",
    "\n",
    "timer_key = \"\".join((f\"tf_data_use={tf_data_use}, tf_data_prefetch={tf_data_prefetch}, tf_data_cache={tf_data_cache}, \",\n",
    "                    f\"tf_make_graph={tf_make_graph}, jit_compile={jit_compile}\"\n",
    "                    ))\n",
    "if retrain:\n",
    "    timer_tabGAN = utils.timer.load(timer_path)\n",
    "    timer_tabGAN.start(timer_key)\n",
    "    tg_qtr.train(n_epochs, batch_size = batch_size, restart_training = True, progress_bar=True)\n",
    "    timer_tabGAN.stop(timer_key)\n",
    "    timer_tabGAN.save(timer_path)"
   ]
  },
  {
   "cell_type": "code",
   "execution_count": null,
   "id": "6a0d21bd",
   "metadata": {},
   "outputs": [],
   "source": []
  },
  {
   "cell_type": "code",
   "execution_count": 20,
   "id": "2fa1f56b",
   "metadata": {},
   "outputs": [
    {
     "data": {
      "application/vnd.jupyter.widget-view+json": {
       "model_id": "",
       "version_major": 2,
       "version_minor": 0
      },
      "text/plain": [
       "  0%|          | 0/100 [00:00<?, ?it/s]"
      ]
     },
     "metadata": {},
     "output_type": "display_data"
    },
    {
     "name": "stdout",
     "output_type": "stream",
     "text": [
      "Elapsed time for jit_compile=True: 436.841 seconds\n"
     ]
    }
   ],
   "source": [
    "tg_qtr = TabGAN(data_train, n_critic = n_critic, opt_lr = opt_lr, adam_beta1 = adam_beta1,\n",
    "                quantile_transformation_int = True, quantile_rand_transformation = True,\n",
    "                noise_discrete_unif_max = noise_discrete_unif_max, jit_compile_train_step=True)\n",
    "\n",
    "if retrain:\n",
    "    timer_tabGAN = utils.timer.load(timer_path)\n",
    "    timer_tabGAN.start(\"jit_compile=True\")\n",
    "    tg_qtr.train(n_epochs, batch_size = batch_size, restart_training = True,\n",
    "             progress_bar=True)\n",
    "    timer_tabGAN.stop(\"jit_compile=True\")\n",
    "    timer_tabGAN.save(timer_path)"
   ]
  },
  {
   "cell_type": "code",
   "execution_count": 18,
   "id": "76daabb0",
   "metadata": {},
   "outputs": [
    {
     "data": {
      "text/plain": [
       "0.7518136797897509"
      ]
     },
     "execution_count": 18,
     "metadata": {},
     "output_type": "execute_result"
    }
   ],
   "source": [
    "timer_tabGAN = utils.timer.load(timer_path)\n",
    "timer_tabGAN.elapsed_time[\"jit_compile=True\"] / timer_tabGAN.elapsed_time[\"jit_compile=False\"]"
   ]
  },
  {
   "cell_type": "code",
   "execution_count": 21,
   "id": "20c9c19a",
   "metadata": {},
   "outputs": [
    {
     "data": {
      "application/vnd.jupyter.widget-view+json": {
       "model_id": "",
       "version_major": 2,
       "version_minor": 0
      },
      "text/plain": [
       "  0%|          | 0/100 [00:00<?, ?it/s]"
      ]
     },
     "metadata": {},
     "output_type": "display_data"
    },
    {
     "name": "stdout",
     "output_type": "stream",
     "text": [
      "Elapsed time for tabGAN2, jit_compile=False: 334.257 seconds\n"
     ]
    }
   ],
   "source": [
    "tg_qtr2 = TabGAN2(data_train, n_critic = n_critic, opt_lr = opt_lr, adam_beta1 = adam_beta1,\n",
    "                quantile_transformation_int = True, quantile_rand_transformation = True,\n",
    "                noise_discrete_unif_max = noise_discrete_unif_max, jit_compile_train_step=False,\n",
    "                 tf_make_train_step_graph=False)\n",
    "\n",
    "if retrain:\n",
    "    timer_tabGAN = utils.timer.load(timer_path)\n",
    "    timer_tabGAN.start(\"tabGAN2, jit_compile=False\")\n",
    "    %lprun -f tg_qtr2.train_step_func tg_qtr2.train(n_epochs, batch_size = batch_size, restart_training = True, progress_bar=True)\n",
    "    timer_tabGAN.stop(\"tabGAN2, jit_compile=False\")\n",
    "    timer_tabGAN.save(timer_path)"
   ]
  },
  {
   "cell_type": "code",
   "execution_count": 35,
   "id": "cf109277",
   "metadata": {},
   "outputs": [
    {
     "ename": "NameError",
     "evalue": "name 'self' is not defined",
     "output_type": "error",
     "traceback": [
      "\u001b[1;31m---------------------------------------------------------------------------\u001b[0m",
      "\u001b[1;31mNameError\u001b[0m                                 Traceback (most recent call last)",
      "\u001b[1;32m~\\AppData\\Local\\Temp/ipykernel_17156/4106234316.py\u001b[0m in \u001b[0;36m<module>\u001b[1;34m\u001b[0m\n\u001b[1;32m----> 1\u001b[1;33m \u001b[1;32mclass\u001b[0m \u001b[0mab\u001b[0m\u001b[1;33m(\u001b[0m\u001b[1;33m)\u001b[0m\u001b[1;33m:\u001b[0m\u001b[1;33m\u001b[0m\u001b[1;33m\u001b[0m\u001b[0m\n\u001b[0m\u001b[0;32m      2\u001b[0m     \u001b[1;32mdef\u001b[0m \u001b[0m__init__\u001b[0m\u001b[1;33m(\u001b[0m\u001b[0mself\u001b[0m\u001b[1;33m,\u001b[0m \u001b[0mhei\u001b[0m\u001b[1;33m)\u001b[0m\u001b[1;33m:\u001b[0m\u001b[1;33m\u001b[0m\u001b[1;33m\u001b[0m\u001b[0m\n\u001b[0;32m      3\u001b[0m         \u001b[0mprint\u001b[0m\u001b[1;33m(\u001b[0m\u001b[0mhei\u001b[0m\u001b[1;33m)\u001b[0m\u001b[1;33m\u001b[0m\u001b[1;33m\u001b[0m\u001b[0m\n\u001b[0;32m      4\u001b[0m         \u001b[0mself\u001b[0m\u001b[1;33m.\u001b[0m\u001b[0mhei\u001b[0m \u001b[1;33m=\u001b[0m \u001b[1;32mTrue\u001b[0m\u001b[1;33m\u001b[0m\u001b[1;33m\u001b[0m\u001b[0m\n\u001b[0;32m      5\u001b[0m     \u001b[1;33m@\u001b[0m\u001b[0mtf\u001b[0m\u001b[1;33m.\u001b[0m\u001b[0mfunction\u001b[0m\u001b[1;33m(\u001b[0m\u001b[0mexperimental_compile\u001b[0m\u001b[1;33m=\u001b[0m\u001b[0mself\u001b[0m\u001b[1;33m.\u001b[0m\u001b[0mhei\u001b[0m\u001b[1;33m)\u001b[0m\u001b[1;33m\u001b[0m\u001b[1;33m\u001b[0m\u001b[0m\n",
      "\u001b[1;32m~\\AppData\\Local\\Temp/ipykernel_17156/4106234316.py\u001b[0m in \u001b[0;36mab\u001b[1;34m()\u001b[0m\n\u001b[0;32m      3\u001b[0m         \u001b[0mprint\u001b[0m\u001b[1;33m(\u001b[0m\u001b[0mhei\u001b[0m\u001b[1;33m)\u001b[0m\u001b[1;33m\u001b[0m\u001b[1;33m\u001b[0m\u001b[0m\n\u001b[0;32m      4\u001b[0m         \u001b[0mself\u001b[0m\u001b[1;33m.\u001b[0m\u001b[0mhei\u001b[0m \u001b[1;33m=\u001b[0m \u001b[1;32mTrue\u001b[0m\u001b[1;33m\u001b[0m\u001b[1;33m\u001b[0m\u001b[0m\n\u001b[1;32m----> 5\u001b[1;33m     \u001b[1;33m@\u001b[0m\u001b[0mtf\u001b[0m\u001b[1;33m.\u001b[0m\u001b[0mfunction\u001b[0m\u001b[1;33m(\u001b[0m\u001b[0mexperimental_compile\u001b[0m\u001b[1;33m=\u001b[0m\u001b[0mself\u001b[0m\u001b[1;33m.\u001b[0m\u001b[0mhei\u001b[0m\u001b[1;33m)\u001b[0m\u001b[1;33m\u001b[0m\u001b[1;33m\u001b[0m\u001b[0m\n\u001b[0m\u001b[0;32m      6\u001b[0m     \u001b[1;32mdef\u001b[0m \u001b[0mp\u001b[0m\u001b[1;33m(\u001b[0m\u001b[1;33m)\u001b[0m\u001b[1;33m:\u001b[0m\u001b[1;33m\u001b[0m\u001b[1;33m\u001b[0m\u001b[0m\n\u001b[0;32m      7\u001b[0m         \u001b[0mprint\u001b[0m\u001b[1;33m(\u001b[0m\u001b[1;34m\"Jaaaaaa\"\u001b[0m\u001b[1;33m)\u001b[0m\u001b[1;33m\u001b[0m\u001b[1;33m\u001b[0m\u001b[0m\n",
      "\u001b[1;31mNameError\u001b[0m: name 'self' is not defined"
     ]
    }
   ],
   "source": [
    "class ab():\n",
    "    def __init__(self, hei):\n",
    "        print(hei)\n",
    "        self.hei = True\n",
    "    @tf.function(experimental_compile=self.hei)\n",
    "    def p():\n",
    "        print(\"Jaaaaaa\")"
   ]
  },
  {
   "cell_type": "code",
   "execution_count": null,
   "id": "68192a98",
   "metadata": {},
   "outputs": [],
   "source": []
  },
  {
   "cell_type": "code",
   "execution_count": null,
   "id": "5686bca8",
   "metadata": {},
   "outputs": [],
   "source": []
  },
  {
   "cell_type": "code",
   "execution_count": 27,
   "id": "42e3c540",
   "metadata": {},
   "outputs": [
    {
     "data": {
      "application/vnd.jupyter.widget-view+json": {
       "model_id": "",
       "version_major": 2,
       "version_minor": 0
      },
      "text/plain": [
       "  0%|          | 0/100 [00:00<?, ?it/s]"
      ]
     },
     "metadata": {},
     "output_type": "display_data"
    },
    {
     "name": "stdout",
     "output_type": "stream",
     "text": [
      "Elapsed time for tabGAN2, jit_compile=False: 303.208 seconds\n"
     ]
    }
   ],
   "source": [
    "tg_qtr2 = TabGAN2(data_train, n_critic = n_critic, opt_lr = opt_lr, adam_beta1 = adam_beta1,\n",
    "                quantile_transformation_int = True, quantile_rand_transformation = True,\n",
    "                noise_discrete_unif_max = noise_discrete_unif_max, jit_compile_train_step=False,\n",
    "                 tf_make_train_step_graph=False, use_tf_data=False)\n",
    "\n",
    "if retrain:\n",
    "    timer_tabGAN = utils.timer.load(timer_path)\n",
    "    timer_tabGAN.start(\"tabGAN2, jit_compile=False\")\n",
    "    %lprun -f tg_qtr2.train_step_func tg_qtr2.train(n_epochs, batch_size = batch_size, restart_training = True, progress_bar=True)\n",
    "    timer_tabGAN.stop(\"tabGAN2, jit_compile=False\")\n",
    "    timer_tabGAN.save(timer_path)"
   ]
  },
  {
   "cell_type": "code",
   "execution_count": 28,
   "id": "6e77af95",
   "metadata": {},
   "outputs": [
    {
     "data": {
      "application/vnd.jupyter.widget-view+json": {
       "model_id": "",
       "version_major": 2,
       "version_minor": 0
      },
      "text/plain": [
       "  0%|          | 0/100 [00:00<?, ?it/s]"
      ]
     },
     "metadata": {},
     "output_type": "display_data"
    },
    {
     "name": "stdout",
     "output_type": "stream",
     "text": [
      "Elapsed time: 327.493996 seconds.\n",
      "\n"
     ]
    }
   ],
   "source": [
    "tg_qtr2 = TabGAN2(data_train, n_critic = n_critic, opt_lr = opt_lr, adam_beta1 = adam_beta1,\n",
    "                quantile_transformation_int = True, quantile_rand_transformation = True,\n",
    "                noise_discrete_unif_max = noise_discrete_unif_max, jit_compile_train_step=False)\n",
    "\n",
    "tic()\n",
    "tg_qtr2.train(n_epochs, batch_size = batch_size, restart_training = True, progress_bar=True)\n",
    "toc()"
   ]
  },
  {
   "cell_type": "code",
   "execution_count": 15,
   "id": "c146645b",
   "metadata": {},
   "outputs": [
    {
     "data": {
      "application/vnd.jupyter.widget-view+json": {
       "model_id": "",
       "version_major": 2,
       "version_minor": 0
      },
      "text/plain": [
       "  0%|          | 0/100 [00:00<?, ?it/s]"
      ]
     },
     "metadata": {},
     "output_type": "display_data"
    },
    {
     "name": "stdout",
     "output_type": "stream",
     "text": [
      "Elapsed time: 574.917239 seconds.\n",
      "\n"
     ]
    }
   ],
   "source": [
    "tg_qtr2 = TabGAN2(data_train, n_critic = n_critic, opt_lr = opt_lr, adam_beta1 = adam_beta1,\n",
    "                quantile_transformation_int = True, quantile_rand_transformation = True,\n",
    "                noise_discrete_unif_max = noise_discrete_unif_max, jit_compile_train_step=False)\n",
    "\n",
    "tic()\n",
    "tg_qtr2.train(n_epochs, batch_size = batch_size, restart_training = True, progress_bar=True)\n",
    "toc()"
   ]
  },
  {
   "cell_type": "code",
   "execution_count": 16,
   "id": "590454f1",
   "metadata": {},
   "outputs": [
    {
     "data": {
      "application/vnd.jupyter.widget-view+json": {
       "model_id": "",
       "version_major": 2,
       "version_minor": 0
      },
      "text/plain": [
       "  0%|          | 0/100 [00:00<?, ?it/s]"
      ]
     },
     "metadata": {},
     "output_type": "display_data"
    },
    {
     "name": "stdout",
     "output_type": "stream",
     "text": [
      "Elapsed time: 572.547649 seconds.\n",
      "\n"
     ]
    }
   ],
   "source": [
    "tg_qtr2 = TabGAN2(data_train, n_critic = n_critic, opt_lr = opt_lr, adam_beta1 = adam_beta1,\n",
    "                quantile_transformation_int = True, quantile_rand_transformation = True,\n",
    "                noise_discrete_unif_max = noise_discrete_unif_max, jit_compile_train_step=False)\n",
    "\n",
    "tic()\n",
    "tg_qtr2.train(n_epochs, batch_size = batch_size, restart_training = True, progress_bar=True)\n",
    "toc()"
   ]
  },
  {
   "cell_type": "code",
   "execution_count": 18,
   "id": "abfdc9c8",
   "metadata": {},
   "outputs": [
    {
     "data": {
      "application/vnd.jupyter.widget-view+json": {
       "model_id": "",
       "version_major": 2,
       "version_minor": 0
      },
      "text/plain": [
       "  0%|          | 0/100 [00:00<?, ?it/s]"
      ]
     },
     "metadata": {},
     "output_type": "display_data"
    },
    {
     "name": "stdout",
     "output_type": "stream",
     "text": [
      "Elapsed time: 355.904017 seconds.\n",
      "\n"
     ]
    }
   ],
   "source": [
    "tg_qtr2 = TabGAN2(data_train, n_critic = n_critic, opt_lr = opt_lr, adam_beta1 = adam_beta1,\n",
    "                quantile_transformation_int = True, quantile_rand_transformation = True,\n",
    "                noise_discrete_unif_max = noise_discrete_unif_max, jit_compile_train_step=False)\n",
    "\n",
    "tic()\n",
    "tg_qtr2.train(n_epochs, batch_size = batch_size, restart_training = True, progress_bar=True)\n",
    "toc()"
   ]
  },
  {
   "cell_type": "code",
   "execution_count": 19,
   "id": "aa8796de",
   "metadata": {},
   "outputs": [
    {
     "data": {
      "text/plain": [
       "0.6223776223776224"
      ]
     },
     "execution_count": 19,
     "metadata": {},
     "output_type": "execute_result"
    }
   ],
   "source": [
    "356 / 572"
   ]
  }
 ],
 "metadata": {
  "kernelspec": {
   "display_name": "tf",
   "language": "python",
   "name": "tf"
  },
  "language_info": {
   "codemirror_mode": {
    "name": "ipython",
    "version": 3
   },
   "file_extension": ".py",
   "mimetype": "text/x-python",
   "name": "python",
   "nbconvert_exporter": "python",
   "pygments_lexer": "ipython3",
   "version": "3.7.11"
  }
 },
 "nbformat": 4,
 "nbformat_minor": 5
}
