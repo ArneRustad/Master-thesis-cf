{
 "cells": [
  {
   "cell_type": "code",
   "execution_count": 1,
   "id": "383db113",
   "metadata": {},
   "outputs": [],
   "source": [
    "import pathlib\n",
    "import os\n",
    "if not \"changed_working_directory\" in locals():\n",
    "    changed_working_directory = True\n",
    "    os.chdir(pathlib.Path().resolve().parent)\n",
    "    \n",
    "%load_ext autoreload\n",
    "%autoreload 2"
   ]
  },
  {
   "cell_type": "code",
   "execution_count": 2,
   "id": "ce95f51c",
   "metadata": {},
   "outputs": [],
   "source": [
    "from tabGAN import TabGAN\n",
    "from src import constants as const\n",
    "import utils\n",
    "from utils.tictoc import *\n",
    "from utils.timer import Timer\n",
    "\n",
    "imports_path = \"src//imports.ipynb\"\n",
    "%run \"$imports_path\"\n",
    "\n",
    "if const.dir.project() != os.getcwd():\n",
    "    raise ValueError(\"Project directory not the same as in consts\")"
   ]
  },
  {
   "cell_type": "code",
   "execution_count": 3,
   "id": "f57c8d64",
   "metadata": {},
   "outputs": [
    {
     "name": "stdout",
     "output_type": "stream",
     "text": [
      "\\\\sambaad.stud.ntnu.no\\arneir\\Master-thesis-cf\\data\\df_adult_edited_train.csv\n"
     ]
    }
   ],
   "source": [
    "print(os.path.join(const.dir.data(), \"df_adult_edited_train.csv\"))"
   ]
  },
  {
   "cell_type": "code",
   "execution_count": 4,
   "id": "011ba63a",
   "metadata": {},
   "outputs": [],
   "source": [
    "dataset_train_path = os.path.join(const.dir.data(), \"df_adult_edited_train.csv\")\n",
    "dataset_test_path = os.path.join(const.dir.data(), \"df_adult_edited_test.csv\")\n",
    "\n",
    "data_train = pd.read_csv(dataset_train_path)\n",
    "data_test = pd.read_csv(dataset_test_path)\n",
    "discrete_columns = data_train.columns[data_train.dtypes == \"object\"]"
   ]
  },
  {
   "cell_type": "code",
   "execution_count": 5,
   "id": "cfadbb04",
   "metadata": {},
   "outputs": [],
   "source": [
    "n_epochs = 100\n",
    "n_critic = 10\n",
    "opt_lr = 0.002\n",
    "adam_beta1 = 0.5\n",
    "noise_discrete_unif_max = 0\n",
    "\n",
    "batch_size = 500\n",
    "ckpt_every = 1\n",
    "loss_plot_update_every = 10\n",
    "\n",
    "timer_path = os.path.join(const.dir.timers(), \"timer_tabGAN_speed.pkl\")\n",
    "retrain = True\n",
    "\n",
    "if not os.path.exists(timer_path):\n",
    "    timer = utils.timer.Timer()\n",
    "    timer.save(timer_path)\n",
    "    del timer"
   ]
  },
  {
   "cell_type": "code",
   "execution_count": 7,
   "id": "d0bfd6e7",
   "metadata": {},
   "outputs": [],
   "source": []
  },
  {
   "cell_type": "code",
   "execution_count": 10,
   "id": "ea7a7418",
   "metadata": {},
   "outputs": [
    {
     "data": {
      "text/plain": [
       "<tf.Tensor: shape=(), dtype=int32, numpy=7>"
      ]
     },
     "execution_count": 10,
     "metadata": {},
     "output_type": "execute_result"
    }
   ],
   "source": [
    "@tf.function(experimental_compile=True)\n",
    "def add(a, b):\n",
    "    return a+b\n",
    "\n",
    "add(5,2)"
   ]
  },
  {
   "cell_type": "code",
   "execution_count": 14,
   "id": "9537330a",
   "metadata": {},
   "outputs": [
    {
     "data": {
      "application/vnd.jupyter.widget-view+json": {
       "model_id": "",
       "version_major": 2,
       "version_minor": 0
      },
      "text/plain": [
       "  0%|          | 0/100 [00:00<?, ?it/s]"
      ]
     },
     "metadata": {},
     "output_type": "display_data"
    },
    {
     "name": "stdout",
     "output_type": "stream",
     "text": [
      "Elapsed time for jit_compile=False: 575.417 seconds\n"
     ]
    }
   ],
   "source": [
    "tg_qtr = TabGAN(data_train, n_critic = n_critic, opt_lr = opt_lr, adam_beta1 = adam_beta1,\n",
    "                quantile_transformation_int = True, quantile_rand_transformation = True,\n",
    "                noise_discrete_unif_max = noise_discrete_unif_max, jit_compile_train_step=False)\n",
    "\n",
    "if retrain:\n",
    "    timer_tabGAN = utils.timer.load(timer_path)\n",
    "    timer_tabGAN.start(\"jit_compile=False\")\n",
    "    tg_qtr.train(n_epochs, batch_size = batch_size, restart_training = True,\n",
    "             progress_bar=True)\n",
    "    timer_tabGAN.stop(\"jit_compile=False\")\n",
    "    timer_tabGAN.save(timer_path)"
   ]
  },
  {
   "cell_type": "code",
   "execution_count": 15,
   "id": "c650b3d8",
   "metadata": {},
   "outputs": [
    {
     "data": {
      "application/vnd.jupyter.widget-view+json": {
       "model_id": "",
       "version_major": 2,
       "version_minor": 0
      },
      "text/plain": [
       "  0%|          | 0/100 [00:00<?, ?it/s]"
      ]
     },
     "metadata": {},
     "output_type": "display_data"
    },
    {
     "name": "stdout",
     "output_type": "stream",
     "text": [
      "Elapsed time for jit_compile=True: 432.607 seconds\n"
     ]
    }
   ],
   "source": [
    "tg_qtr = TabGAN(data_train, n_critic = n_critic, opt_lr = opt_lr, adam_beta1 = adam_beta1,\n",
    "                quantile_transformation_int = True, quantile_rand_transformation = True,\n",
    "                noise_discrete_unif_max = noise_discrete_unif_max, jit_compile_train_step=True)\n",
    "\n",
    "if retrain:\n",
    "    timer_tabGAN = utils.timer.load(timer_path)\n",
    "    timer_tabGAN.start(\"jit_compile=True\")\n",
    "    tg_qtr.train(n_epochs, batch_size = batch_size, restart_training = True,\n",
    "             progress_bar=True)\n",
    "    timer_tabGAN.stop(\"jit_compile=True\")\n",
    "    timer_tabGAN.save(timer_path)"
   ]
  },
  {
   "cell_type": "code",
   "execution_count": 18,
   "id": "14336577",
   "metadata": {},
   "outputs": [
    {
     "data": {
      "text/plain": [
       "0.7518136797897509"
      ]
     },
     "execution_count": 18,
     "metadata": {},
     "output_type": "execute_result"
    }
   ],
   "source": [
    "timer_tabGAN = utils.timer.load(timer_path)\n",
    "timer_tabGAN.elapsed_time[\"jit_compile=True\"] / timer_tabGAN.elapsed_time[\"jit_compile=False\"]"
   ]
  },
  {
   "cell_type": "code",
   "execution_count": null,
   "id": "d365a22c",
   "metadata": {},
   "outputs": [],
   "source": []
  }
 ],
 "metadata": {
  "kernelspec": {
   "display_name": "tf",
   "language": "python",
   "name": "tf"
  },
  "language_info": {
   "codemirror_mode": {
    "name": "ipython",
    "version": 3
   },
   "file_extension": ".py",
   "mimetype": "text/x-python",
   "name": "python",
   "nbconvert_exporter": "python",
   "pygments_lexer": "ipython3",
   "version": "3.7.11"
  }
 },
 "nbformat": 4,
 "nbformat_minor": 5
}
