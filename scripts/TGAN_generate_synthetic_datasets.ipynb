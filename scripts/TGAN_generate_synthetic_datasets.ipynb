{
 "cells": [
  {
   "cell_type": "code",
   "execution_count": 1,
   "id": "03bff6f1",
   "metadata": {},
   "outputs": [
    {
     "name": "stdout",
     "output_type": "stream",
     "text": [
      "WARNING:tensorflow:From C:\\Users\\Arne\\anaconda3\\envs\\tfv1\\lib\\site-packages\\tensorpack\\callbacks\\hooks.py:17: The name tf.train.SessionRunHook is deprecated. Please use tf.estimator.SessionRunHook instead.\n",
      "\n",
      "WARNING:tensorflow:From C:\\Users\\Arne\\anaconda3\\envs\\tfv1\\lib\\site-packages\\tensorpack\\tfutils\\optimizer.py:18: The name tf.train.Optimizer is deprecated. Please use tf.compat.v1.train.Optimizer instead.\n",
      "\n",
      "WARNING:tensorflow:From C:\\Users\\Arne\\anaconda3\\envs\\tfv1\\lib\\site-packages\\tensorpack\\tfutils\\sesscreate.py:20: The name tf.train.SessionCreator is deprecated. Please use tf.compat.v1.train.SessionCreator instead.\n",
      "\n"
     ]
    },
    {
     "data": {
      "text/html": [
       "<div>\n",
       "<style scoped>\n",
       "    .dataframe tbody tr th:only-of-type {\n",
       "        vertical-align: middle;\n",
       "    }\n",
       "\n",
       "    .dataframe tbody tr th {\n",
       "        vertical-align: top;\n",
       "    }\n",
       "\n",
       "    .dataframe thead th {\n",
       "        text-align: right;\n",
       "    }\n",
       "</style>\n",
       "<table border=\"1\" class=\"dataframe\">\n",
       "  <thead>\n",
       "    <tr style=\"text-align: right;\">\n",
       "      <th></th>\n",
       "      <th>age</th>\n",
       "      <th>workclass</th>\n",
       "      <th>fnlwgt</th>\n",
       "      <th>education</th>\n",
       "      <th>educational.num</th>\n",
       "      <th>marital.status</th>\n",
       "      <th>occupation</th>\n",
       "      <th>race</th>\n",
       "      <th>gender</th>\n",
       "      <th>capital.gain</th>\n",
       "      <th>capital.loss</th>\n",
       "      <th>hours.per.week</th>\n",
       "      <th>native.country</th>\n",
       "      <th>income</th>\n",
       "    </tr>\n",
       "  </thead>\n",
       "  <tbody>\n",
       "    <tr>\n",
       "      <th>0</th>\n",
       "      <td>39</td>\n",
       "      <td>Government</td>\n",
       "      <td>77516</td>\n",
       "      <td>Bachelors</td>\n",
       "      <td>13</td>\n",
       "      <td>Never-married</td>\n",
       "      <td>Adm-clerical</td>\n",
       "      <td>White</td>\n",
       "      <td>Male</td>\n",
       "      <td>2174</td>\n",
       "      <td>0</td>\n",
       "      <td>40</td>\n",
       "      <td>US</td>\n",
       "      <td>&lt;=50K</td>\n",
       "    </tr>\n",
       "    <tr>\n",
       "      <th>1</th>\n",
       "      <td>50</td>\n",
       "      <td>Self-emp-not-inc</td>\n",
       "      <td>83311</td>\n",
       "      <td>Bachelors</td>\n",
       "      <td>13</td>\n",
       "      <td>Married</td>\n",
       "      <td>Exec-managerial</td>\n",
       "      <td>White</td>\n",
       "      <td>Male</td>\n",
       "      <td>0</td>\n",
       "      <td>0</td>\n",
       "      <td>13</td>\n",
       "      <td>US</td>\n",
       "      <td>&lt;=50K</td>\n",
       "    </tr>\n",
       "    <tr>\n",
       "      <th>2</th>\n",
       "      <td>38</td>\n",
       "      <td>Private</td>\n",
       "      <td>215646</td>\n",
       "      <td>HS-grad</td>\n",
       "      <td>9</td>\n",
       "      <td>Divorced</td>\n",
       "      <td>Handlers-cleaners</td>\n",
       "      <td>White</td>\n",
       "      <td>Male</td>\n",
       "      <td>0</td>\n",
       "      <td>0</td>\n",
       "      <td>40</td>\n",
       "      <td>US</td>\n",
       "      <td>&lt;=50K</td>\n",
       "    </tr>\n",
       "    <tr>\n",
       "      <th>3</th>\n",
       "      <td>53</td>\n",
       "      <td>Private</td>\n",
       "      <td>234721</td>\n",
       "      <td>&lt;=12th</td>\n",
       "      <td>7</td>\n",
       "      <td>Married</td>\n",
       "      <td>Handlers-cleaners</td>\n",
       "      <td>Black</td>\n",
       "      <td>Male</td>\n",
       "      <td>0</td>\n",
       "      <td>0</td>\n",
       "      <td>40</td>\n",
       "      <td>US</td>\n",
       "      <td>&lt;=50K</td>\n",
       "    </tr>\n",
       "    <tr>\n",
       "      <th>4</th>\n",
       "      <td>28</td>\n",
       "      <td>Private</td>\n",
       "      <td>338409</td>\n",
       "      <td>Bachelors</td>\n",
       "      <td>13</td>\n",
       "      <td>Married</td>\n",
       "      <td>Prof-specialty</td>\n",
       "      <td>Black</td>\n",
       "      <td>Female</td>\n",
       "      <td>0</td>\n",
       "      <td>0</td>\n",
       "      <td>40</td>\n",
       "      <td>Non-US</td>\n",
       "      <td>&lt;=50K</td>\n",
       "    </tr>\n",
       "    <tr>\n",
       "      <th>...</th>\n",
       "      <td>...</td>\n",
       "      <td>...</td>\n",
       "      <td>...</td>\n",
       "      <td>...</td>\n",
       "      <td>...</td>\n",
       "      <td>...</td>\n",
       "      <td>...</td>\n",
       "      <td>...</td>\n",
       "      <td>...</td>\n",
       "      <td>...</td>\n",
       "      <td>...</td>\n",
       "      <td>...</td>\n",
       "      <td>...</td>\n",
       "      <td>...</td>\n",
       "    </tr>\n",
       "    <tr>\n",
       "      <th>30157</th>\n",
       "      <td>27</td>\n",
       "      <td>Private</td>\n",
       "      <td>257302</td>\n",
       "      <td>Assoc-acdm</td>\n",
       "      <td>12</td>\n",
       "      <td>Married</td>\n",
       "      <td>Tech-support</td>\n",
       "      <td>White</td>\n",
       "      <td>Female</td>\n",
       "      <td>0</td>\n",
       "      <td>0</td>\n",
       "      <td>38</td>\n",
       "      <td>US</td>\n",
       "      <td>&lt;=50K</td>\n",
       "    </tr>\n",
       "    <tr>\n",
       "      <th>30158</th>\n",
       "      <td>40</td>\n",
       "      <td>Private</td>\n",
       "      <td>154374</td>\n",
       "      <td>HS-grad</td>\n",
       "      <td>9</td>\n",
       "      <td>Married</td>\n",
       "      <td>Machine-op-inspct</td>\n",
       "      <td>White</td>\n",
       "      <td>Male</td>\n",
       "      <td>0</td>\n",
       "      <td>0</td>\n",
       "      <td>40</td>\n",
       "      <td>US</td>\n",
       "      <td>&gt;50K</td>\n",
       "    </tr>\n",
       "    <tr>\n",
       "      <th>30159</th>\n",
       "      <td>58</td>\n",
       "      <td>Private</td>\n",
       "      <td>151910</td>\n",
       "      <td>HS-grad</td>\n",
       "      <td>9</td>\n",
       "      <td>Widowed</td>\n",
       "      <td>Adm-clerical</td>\n",
       "      <td>White</td>\n",
       "      <td>Female</td>\n",
       "      <td>0</td>\n",
       "      <td>0</td>\n",
       "      <td>40</td>\n",
       "      <td>US</td>\n",
       "      <td>&lt;=50K</td>\n",
       "    </tr>\n",
       "    <tr>\n",
       "      <th>30160</th>\n",
       "      <td>22</td>\n",
       "      <td>Private</td>\n",
       "      <td>201490</td>\n",
       "      <td>HS-grad</td>\n",
       "      <td>9</td>\n",
       "      <td>Never-married</td>\n",
       "      <td>Adm-clerical</td>\n",
       "      <td>White</td>\n",
       "      <td>Male</td>\n",
       "      <td>0</td>\n",
       "      <td>0</td>\n",
       "      <td>20</td>\n",
       "      <td>US</td>\n",
       "      <td>&lt;=50K</td>\n",
       "    </tr>\n",
       "    <tr>\n",
       "      <th>30161</th>\n",
       "      <td>52</td>\n",
       "      <td>Self-emp-inc</td>\n",
       "      <td>287927</td>\n",
       "      <td>HS-grad</td>\n",
       "      <td>9</td>\n",
       "      <td>Married</td>\n",
       "      <td>Exec-managerial</td>\n",
       "      <td>White</td>\n",
       "      <td>Female</td>\n",
       "      <td>15024</td>\n",
       "      <td>0</td>\n",
       "      <td>40</td>\n",
       "      <td>US</td>\n",
       "      <td>&gt;50K</td>\n",
       "    </tr>\n",
       "  </tbody>\n",
       "</table>\n",
       "<p>30162 rows × 14 columns</p>\n",
       "</div>"
      ],
      "text/plain": [
       "       age         workclass  fnlwgt   education  educational.num  \\\n",
       "0       39        Government   77516   Bachelors               13   \n",
       "1       50  Self-emp-not-inc   83311   Bachelors               13   \n",
       "2       38           Private  215646     HS-grad                9   \n",
       "3       53           Private  234721      <=12th                7   \n",
       "4       28           Private  338409   Bachelors               13   \n",
       "...    ...               ...     ...         ...              ...   \n",
       "30157   27           Private  257302  Assoc-acdm               12   \n",
       "30158   40           Private  154374     HS-grad                9   \n",
       "30159   58           Private  151910     HS-grad                9   \n",
       "30160   22           Private  201490     HS-grad                9   \n",
       "30161   52      Self-emp-inc  287927     HS-grad                9   \n",
       "\n",
       "      marital.status         occupation   race  gender  capital.gain  \\\n",
       "0      Never-married       Adm-clerical  White    Male          2174   \n",
       "1            Married    Exec-managerial  White    Male             0   \n",
       "2           Divorced  Handlers-cleaners  White    Male             0   \n",
       "3            Married  Handlers-cleaners  Black    Male             0   \n",
       "4            Married     Prof-specialty  Black  Female             0   \n",
       "...              ...                ...    ...     ...           ...   \n",
       "30157        Married       Tech-support  White  Female             0   \n",
       "30158        Married  Machine-op-inspct  White    Male             0   \n",
       "30159        Widowed       Adm-clerical  White  Female             0   \n",
       "30160  Never-married       Adm-clerical  White    Male             0   \n",
       "30161        Married    Exec-managerial  White  Female         15024   \n",
       "\n",
       "       capital.loss  hours.per.week native.country income  \n",
       "0                 0              40             US  <=50K  \n",
       "1                 0              13             US  <=50K  \n",
       "2                 0              40             US  <=50K  \n",
       "3                 0              40             US  <=50K  \n",
       "4                 0              40         Non-US  <=50K  \n",
       "...             ...             ...            ...    ...  \n",
       "30157             0              38             US  <=50K  \n",
       "30158             0              40             US   >50K  \n",
       "30159             0              40             US  <=50K  \n",
       "30160             0              20             US  <=50K  \n",
       "30161             0              40             US   >50K  \n",
       "\n",
       "[30162 rows x 14 columns]"
      ]
     },
     "execution_count": 1,
     "metadata": {},
     "output_type": "execute_result"
    }
   ],
   "source": [
    "imports_path = \".\\\\imports.ipynb\"\n",
    "tableGAN_path = \".\\\\tableGAN.ipynb\"\n",
    "utils_path = \".\\\\utils.ipynb\"\n",
    "\n",
    "import pandas as pd\n",
    "import os\n",
    "import pickle\n",
    "import time\n",
    "import tensorflow as tf\n",
    "import shutil\n",
    "from tqdm.notebook import tqdm\n",
    "from math import ceil\n",
    "\n",
    "data_train = pd.read_csv('Datasets\\\\df_adult_edited_train.csv')\n",
    "data_test = pd.read_csv('Datasets\\\\df_adult_edited_test.csv')\n",
    "#print(data_train.dtypes)\n",
    "columns_num = data_train.columns[data_train.dtypes == \"int64\"]\n",
    "\n",
    "image_dir = \".\\\\Images\"\n",
    "timer_dir = \".\\\\Timers\"\n",
    "model_dir = \".\\\\Model\\\\tableGAN_ckpt\\\\compare_adult\\\\\"\n",
    "timer_path = os.path.join(timer_dir, \"timer_tgan.pkl\")\n",
    "retrain = True\n",
    "\n",
    "if not os.path.exists(timer_path):\n",
    "    timer = Timer()\n",
    "    timer.save(timer_path)\n",
    "    del timer\n",
    "    \n",
    "from tgan.model import TGANModel\n",
    "\n",
    "%run \"$utils_path\"\n",
    "batch_size = 500\n",
    "data_train"
   ]
  },
  {
   "cell_type": "code",
   "execution_count": 6,
   "id": "06d69b9c",
   "metadata": {},
   "outputs": [
    {
     "name": "stdout",
     "output_type": "stream",
     "text": [
      "WARNING:tensorflow:From C:\\Users\\Arne\\AppData\\Local\\Temp/ipykernel_3120/2092419233.py:2: The name tf.reset_default_graph is deprecated. Please use tf.compat.v1.reset_default_graph instead.\n",
      "\n",
      "WARNING:tensorflow:From C:\\Users\\Arne\\anaconda3\\envs\\tfv1\\lib\\site-packages\\tensorpack\\graph_builder\\model_desc.py:29: The name tf.get_default_graph is deprecated. Please use tf.compat.v1.get_default_graph instead.\n",
      "\n",
      "WARNING:tensorflow:From C:\\Users\\Arne\\anaconda3\\envs\\tfv1\\lib\\site-packages\\tensorpack\\graph_builder\\model_desc.py:39: The name tf.placeholder is deprecated. Please use tf.compat.v1.placeholder instead.\n",
      "\n",
      "WARNING:tensorflow:From C:\\Users\\Arne\\anaconda3\\envs\\tfv1\\lib\\site-packages\\tensorpack\\input_source\\input_source.py:219: The name tf.FIFOQueue is deprecated. Please use tf.queue.FIFOQueue instead.\n",
      "\n",
      "\u001b[32m[0112 23:29:23 @input_source.py:222]\u001b[0m Setting up the queue 'QueueInput/input_queue' for CPU prefetching ...\n",
      "WARNING:tensorflow:From C:\\Users\\Arne\\anaconda3\\envs\\tfv1\\lib\\site-packages\\tensorpack\\tfutils\\summary.py:237: The name tf.get_variable_scope is deprecated. Please use tf.compat.v1.get_variable_scope instead.\n",
      "\n",
      "WARNING:tensorflow:From C:\\Users\\Arne\\anaconda3\\envs\\tfv1\\lib\\site-packages\\tensorpack\\tfutils\\summary.py:27: The name tf.variable_scope is deprecated. Please use tf.compat.v1.variable_scope instead.\n",
      "\n",
      "WARNING:tensorflow:From C:\\Users\\Arne\\anaconda3\\envs\\tfv1\\lib\\site-packages\\tensorpack\\tfutils\\summary.py:254: The name tf.get_variable is deprecated. Please use tf.compat.v1.get_variable instead.\n",
      "\n",
      "WARNING:tensorflow:From C:\\Users\\Arne\\anaconda3\\envs\\tfv1\\lib\\site-packages\\tensorpack\\tfutils\\summary.py:264: The name tf.summary.scalar is deprecated. Please use tf.compat.v1.summary.scalar instead.\n",
      "\n",
      "WARNING:tensorflow:From C:\\Users\\Arne\\anaconda3\\envs\\tfv1\\lib\\site-packages\\tensorpack\\tfutils\\collection.py:105: The name tf.GraphKeys is deprecated. Please use tf.compat.v1.GraphKeys instead.\n",
      "\n",
      "WARNING:tensorflow:From C:\\Users\\Arne\\anaconda3\\envs\\tfv1\\lib\\site-packages\\tensorpack\\tfutils\\collection.py:33: The name tf.get_collection is deprecated. Please use tf.compat.v1.get_collection instead.\n",
      "\n",
      "WARNING:tensorflow:From C:\\Users\\Arne\\anaconda3\\envs\\tfv1\\lib\\site-packages\\tgan\\model.py:455: The name tf.random_normal is deprecated. Please use tf.random.normal instead.\n",
      "\n",
      "WARNING:tensorflow:From C:\\Users\\Arne\\anaconda3\\envs\\tfv1\\lib\\site-packages\\tgan\\model.py:458: The name tf.placeholder_with_default is deprecated. Please use tf.compat.v1.placeholder_with_default instead.\n",
      "\n",
      "WARNING:tensorflow:From C:\\Users\\Arne\\anaconda3\\envs\\tfv1\\lib\\site-packages\\tgan\\model.py:259: LSTMCell.__init__ (from tensorflow.python.ops.rnn_cell_impl) is deprecated and will be removed in a future version.\n",
      "Instructions for updating:\n",
      "This class is equivalent as tf.keras.layers.LSTMCell, and will be replaced by that in Tensorflow 2.0.\n",
      "WARNING:tensorflow:From C:\\Users\\Arne\\anaconda3\\envs\\tfv1\\lib\\site-packages\\tensorflow_core\\python\\ops\\rnn_cell_impl.py:958: Layer.add_variable (from tensorflow.python.keras.engine.base_layer) is deprecated and will be removed in a future version.\n",
      "Instructions for updating:\n",
      "Please use `layer.add_weight` method instead.\n",
      "WARNING:tensorflow:From C:\\Users\\Arne\\anaconda3\\envs\\tfv1\\lib\\site-packages\\tensorflow_core\\python\\ops\\rnn_cell_impl.py:962: calling Zeros.__init__ (from tensorflow.python.ops.init_ops) with dtype is deprecated and will be removed in a future version.\n",
      "Instructions for updating:\n",
      "Call initializer instance with the dtype argument instead of passing it to the constructor\n",
      "\u001b[32m[0112 23:29:23 @registry.py:126]\u001b[0m gen/LSTM/00/FC input: [500, 100]\n",
      "WARNING:tensorflow:From C:\\Users\\Arne\\anaconda3\\envs\\tfv1\\lib\\site-packages\\tensorpack\\models\\fc.py:57: The name tf.layers.Dense is deprecated. Please use tf.compat.v1.layers.Dense instead.\n",
      "\n",
      "WARNING:tensorflow:From C:\\Users\\Arne\\anaconda3\\envs\\tfv1\\lib\\site-packages\\tensorpack\\models\\fc.py:67: Layer.apply (from tensorflow.python.keras.engine.base_layer) is deprecated and will be removed in a future version.\n",
      "Instructions for updating:\n",
      "Please use `layer.__call__` method instead.\n",
      "\u001b[32m[0112 23:29:23 @registry.py:134]\u001b[0m gen/LSTM/00/FC output: [500, 100]\n",
      "\u001b[32m[0112 23:29:23 @registry.py:126]\u001b[0m gen/LSTM/00/FC2 input: [500, 100]\n",
      "\u001b[32m[0112 23:29:23 @registry.py:134]\u001b[0m gen/LSTM/00/FC2 output: [500, 72]\n",
      "\u001b[32m[0112 23:29:23 @registry.py:126]\u001b[0m gen/LSTM/00/FC3 input: [500, 72]\n",
      "\u001b[32m[0112 23:29:23 @registry.py:134]\u001b[0m gen/LSTM/00/FC3 output: [500, 100]\n",
      "\u001b[32m[0112 23:29:23 @registry.py:126]\u001b[0m gen/LSTM/01/FC input: [500, 100]\n",
      "\u001b[32m[0112 23:29:23 @registry.py:134]\u001b[0m gen/LSTM/01/FC output: [500, 100]\n",
      "\u001b[32m[0112 23:29:23 @registry.py:126]\u001b[0m gen/LSTM/01/FC2 input: [500, 100]\n",
      "\u001b[32m[0112 23:29:23 @registry.py:134]\u001b[0m gen/LSTM/01/FC2 output: [500, 5]\n",
      "\u001b[32m[0112 23:29:23 @registry.py:126]\u001b[0m gen/LSTM/01/FC3 input: [500, 5]\n",
      "\u001b[32m[0112 23:29:24 @registry.py:134]\u001b[0m gen/LSTM/01/FC3 output: [500, 100]\n",
      "\u001b[32m[0112 23:29:24 @registry.py:126]\u001b[0m gen/LSTM/02/FC input: [500, 100]\n",
      "\u001b[32m[0112 23:29:24 @registry.py:134]\u001b[0m gen/LSTM/02/FC output: [500, 100]\n",
      "\u001b[32m[0112 23:29:24 @registry.py:126]\u001b[0m gen/LSTM/02/FC2 input: [500, 100]\n",
      "\u001b[32m[0112 23:29:24 @registry.py:134]\u001b[0m gen/LSTM/02/FC2 output: [500, 20263]\n",
      "\u001b[32m[0112 23:29:24 @registry.py:126]\u001b[0m gen/LSTM/02/FC3 input: [500, 20263]\n",
      "\u001b[32m[0112 23:29:24 @registry.py:134]\u001b[0m gen/LSTM/02/FC3 output: [500, 100]\n",
      "\u001b[32m[0112 23:29:24 @registry.py:126]\u001b[0m gen/LSTM/03/FC input: [500, 100]\n",
      "\u001b[32m[0112 23:29:24 @registry.py:134]\u001b[0m gen/LSTM/03/FC output: [500, 100]\n",
      "\u001b[32m[0112 23:29:24 @registry.py:126]\u001b[0m gen/LSTM/03/FC2 input: [500, 100]\n",
      "\u001b[32m[0112 23:29:24 @registry.py:134]\u001b[0m gen/LSTM/03/FC2 output: [500, 9]\n",
      "\u001b[32m[0112 23:29:24 @registry.py:126]\u001b[0m gen/LSTM/03/FC3 input: [500, 9]\n",
      "\u001b[32m[0112 23:29:24 @registry.py:134]\u001b[0m gen/LSTM/03/FC3 output: [500, 100]\n",
      "\u001b[32m[0112 23:29:24 @registry.py:126]\u001b[0m gen/LSTM/04/FC input: [500, 100]\n",
      "\u001b[32m[0112 23:29:24 @registry.py:134]\u001b[0m gen/LSTM/04/FC output: [500, 100]\n",
      "\u001b[32m[0112 23:29:24 @registry.py:126]\u001b[0m gen/LSTM/04/FC2 input: [500, 100]\n",
      "\u001b[32m[0112 23:29:24 @registry.py:134]\u001b[0m gen/LSTM/04/FC2 output: [500, 16]\n",
      "\u001b[32m[0112 23:29:24 @registry.py:126]\u001b[0m gen/LSTM/04/FC3 input: [500, 16]\n",
      "\u001b[32m[0112 23:29:24 @registry.py:134]\u001b[0m gen/LSTM/04/FC3 output: [500, 100]\n",
      "\u001b[32m[0112 23:29:24 @registry.py:126]\u001b[0m gen/LSTM/05/FC input: [500, 100]\n",
      "\u001b[32m[0112 23:29:24 @registry.py:134]\u001b[0m gen/LSTM/05/FC output: [500, 100]\n",
      "\u001b[32m[0112 23:29:24 @registry.py:126]\u001b[0m gen/LSTM/05/FC2 input: [500, 100]\n",
      "\u001b[32m[0112 23:29:24 @registry.py:134]\u001b[0m gen/LSTM/05/FC2 output: [500, 5]\n",
      "\u001b[32m[0112 23:29:24 @registry.py:126]\u001b[0m gen/LSTM/05/FC3 input: [500, 5]\n",
      "\u001b[32m[0112 23:29:24 @registry.py:134]\u001b[0m gen/LSTM/05/FC3 output: [500, 100]\n",
      "\u001b[32m[0112 23:29:24 @registry.py:126]\u001b[0m gen/LSTM/06/FC input: [500, 100]\n",
      "\u001b[32m[0112 23:29:24 @registry.py:134]\u001b[0m gen/LSTM/06/FC output: [500, 100]\n",
      "\u001b[32m[0112 23:29:24 @registry.py:126]\u001b[0m gen/LSTM/06/FC2 input: [500, 100]\n",
      "\u001b[32m[0112 23:29:24 @registry.py:134]\u001b[0m gen/LSTM/06/FC2 output: [500, 14]\n",
      "\u001b[32m[0112 23:29:24 @registry.py:126]\u001b[0m gen/LSTM/06/FC3 input: [500, 14]\n",
      "\u001b[32m[0112 23:29:24 @registry.py:134]\u001b[0m gen/LSTM/06/FC3 output: [500, 100]\n",
      "\u001b[32m[0112 23:29:24 @registry.py:126]\u001b[0m gen/LSTM/07/FC input: [500, 100]\n",
      "\u001b[32m[0112 23:29:24 @registry.py:134]\u001b[0m gen/LSTM/07/FC output: [500, 100]\n",
      "\u001b[32m[0112 23:29:24 @registry.py:126]\u001b[0m gen/LSTM/07/FC2 input: [500, 100]\n",
      "\u001b[32m[0112 23:29:24 @registry.py:134]\u001b[0m gen/LSTM/07/FC2 output: [500, 5]\n",
      "\u001b[32m[0112 23:29:24 @registry.py:126]\u001b[0m gen/LSTM/07/FC3 input: [500, 5]\n",
      "\u001b[32m[0112 23:29:24 @registry.py:134]\u001b[0m gen/LSTM/07/FC3 output: [500, 100]\n",
      "\u001b[32m[0112 23:29:24 @registry.py:126]\u001b[0m gen/LSTM/08/FC input: [500, 100]\n",
      "\u001b[32m[0112 23:29:24 @registry.py:134]\u001b[0m gen/LSTM/08/FC output: [500, 100]\n",
      "\u001b[32m[0112 23:29:24 @registry.py:126]\u001b[0m gen/LSTM/08/FC2 input: [500, 100]\n",
      "\u001b[32m[0112 23:29:24 @registry.py:134]\u001b[0m gen/LSTM/08/FC2 output: [500, 2]\n",
      "\u001b[32m[0112 23:29:24 @registry.py:126]\u001b[0m gen/LSTM/08/FC3 input: [500, 2]\n",
      "\u001b[32m[0112 23:29:24 @registry.py:134]\u001b[0m gen/LSTM/08/FC3 output: [500, 100]\n",
      "\u001b[32m[0112 23:29:24 @registry.py:126]\u001b[0m gen/LSTM/09/FC input: [500, 100]\n"
     ]
    },
    {
     "name": "stdout",
     "output_type": "stream",
     "text": [
      "\u001b[32m[0112 23:29:24 @registry.py:134]\u001b[0m gen/LSTM/09/FC output: [500, 100]\n",
      "\u001b[32m[0112 23:29:24 @registry.py:126]\u001b[0m gen/LSTM/09/FC2 input: [500, 100]\n",
      "\u001b[32m[0112 23:29:24 @registry.py:134]\u001b[0m gen/LSTM/09/FC2 output: [500, 118]\n",
      "\u001b[32m[0112 23:29:24 @registry.py:126]\u001b[0m gen/LSTM/09/FC3 input: [500, 118]\n",
      "\u001b[32m[0112 23:29:24 @registry.py:134]\u001b[0m gen/LSTM/09/FC3 output: [500, 100]\n",
      "\u001b[32m[0112 23:29:24 @registry.py:126]\u001b[0m gen/LSTM/10/FC input: [500, 100]\n",
      "\u001b[32m[0112 23:29:24 @registry.py:134]\u001b[0m gen/LSTM/10/FC output: [500, 100]\n",
      "\u001b[32m[0112 23:29:24 @registry.py:126]\u001b[0m gen/LSTM/10/FC2 input: [500, 100]\n",
      "\u001b[32m[0112 23:29:24 @registry.py:134]\u001b[0m gen/LSTM/10/FC2 output: [500, 90]\n",
      "\u001b[32m[0112 23:29:24 @registry.py:126]\u001b[0m gen/LSTM/10/FC3 input: [500, 90]\n",
      "\u001b[32m[0112 23:29:24 @registry.py:134]\u001b[0m gen/LSTM/10/FC3 output: [500, 100]\n",
      "\u001b[32m[0112 23:29:24 @registry.py:126]\u001b[0m gen/LSTM/11/FC input: [500, 100]\n",
      "\u001b[32m[0112 23:29:24 @registry.py:134]\u001b[0m gen/LSTM/11/FC output: [500, 100]\n",
      "\u001b[32m[0112 23:29:24 @registry.py:126]\u001b[0m gen/LSTM/11/FC2 input: [500, 100]\n",
      "\u001b[32m[0112 23:29:24 @registry.py:134]\u001b[0m gen/LSTM/11/FC2 output: [500, 94]\n",
      "\u001b[32m[0112 23:29:24 @registry.py:126]\u001b[0m gen/LSTM/11/FC3 input: [500, 94]\n",
      "\u001b[32m[0112 23:29:24 @registry.py:134]\u001b[0m gen/LSTM/11/FC3 output: [500, 100]\n",
      "\u001b[32m[0112 23:29:24 @registry.py:126]\u001b[0m gen/LSTM/12/FC input: [500, 100]\n",
      "\u001b[32m[0112 23:29:24 @registry.py:134]\u001b[0m gen/LSTM/12/FC output: [500, 100]\n",
      "\u001b[32m[0112 23:29:24 @registry.py:126]\u001b[0m gen/LSTM/12/FC2 input: [500, 100]\n",
      "\u001b[32m[0112 23:29:24 @registry.py:134]\u001b[0m gen/LSTM/12/FC2 output: [500, 2]\n",
      "\u001b[32m[0112 23:29:24 @registry.py:126]\u001b[0m gen/LSTM/12/FC3 input: [500, 2]\n",
      "\u001b[32m[0112 23:29:24 @registry.py:134]\u001b[0m gen/LSTM/12/FC3 output: [500, 100]\n",
      "\u001b[32m[0112 23:29:24 @registry.py:126]\u001b[0m gen/LSTM/13/FC input: [500, 100]\n",
      "\u001b[32m[0112 23:29:24 @registry.py:134]\u001b[0m gen/LSTM/13/FC output: [500, 100]\n",
      "\u001b[32m[0112 23:29:24 @registry.py:126]\u001b[0m gen/LSTM/13/FC2 input: [500, 100]\n",
      "\u001b[32m[0112 23:29:24 @registry.py:134]\u001b[0m gen/LSTM/13/FC2 output: [500, 2]\n",
      "\u001b[32m[0112 23:29:24 @registry.py:126]\u001b[0m gen/LSTM/13/FC3 input: [500, 2]\n",
      "\u001b[32m[0112 23:29:24 @registry.py:134]\u001b[0m gen/LSTM/13/FC3 output: [500, 100]\n",
      "WARNING:tensorflow:From C:\\Users\\Arne\\anaconda3\\envs\\tfv1\\lib\\site-packages\\tgan\\model.py:494: The name tf.random_uniform is deprecated. Please use tf.random.uniform instead.\n",
      "\n",
      "WARNING:tensorflow:From C:\\Users\\Arne\\anaconda3\\envs\\tfv1\\lib\\site-packages\\tgan\\model.py:443: The name tf.log is deprecated. Please use tf.math.log instead.\n",
      "\n",
      "\u001b[32m[0112 23:29:25 @registry.py:126]\u001b[0m discrim/dis_fc0/fc input: [500, 20697]\n",
      "\u001b[32m[0112 23:29:25 @registry.py:134]\u001b[0m discrim/dis_fc0/fc output: [500, 256]\n",
      "\u001b[32m[0112 23:29:25 @registry.py:126]\u001b[0m discrim/dis_fc0/fc_diversity input: [500, 256]\n",
      "\u001b[32m[0112 23:29:25 @registry.py:134]\u001b[0m discrim/dis_fc0/fc_diversity output: [500, 100]\n",
      "WARNING:tensorflow:From C:\\Users\\Arne\\anaconda3\\envs\\tfv1\\lib\\site-packages\\tensorpack\\models\\batch_norm.py:204: The name tf.layers.BatchNormalization is deprecated. Please use tf.compat.v1.layers.BatchNormalization instead.\n",
      "\n",
      "WARNING:tensorflow:From C:\\Users\\Arne\\anaconda3\\envs\\tfv1\\lib\\site-packages\\tensorpack\\models\\batch_norm.py:212: The name tf.add_to_collection is deprecated. Please use tf.compat.v1.add_to_collection instead.\n",
      "\n",
      "\u001b[32m[0112 23:29:25 @registry.py:126]\u001b[0m discrim/dis_fc_top input: [500, 266]\n",
      "\u001b[32m[0112 23:29:25 @registry.py:134]\u001b[0m discrim/dis_fc_top output: [500, 1]\n",
      "WARNING:tensorflow:From C:\\Users\\Arne\\anaconda3\\envs\\tfv1\\lib\\site-packages\\tgan\\model.py:118: The name tf.summary.histogram is deprecated. Please use tf.compat.v1.summary.histogram instead.\n",
      "\n",
      "WARNING:tensorflow:From C:\\Users\\Arne\\anaconda3\\envs\\tfv1\\lib\\site-packages\\tensorflow_core\\python\\ops\\nn_impl.py:183: where (from tensorflow.python.ops.array_ops) is deprecated and will be removed in a future version.\n",
      "Instructions for updating:\n",
      "Use tf.where in 2.0, which has the same broadcast rule as np.where\n",
      "WARNING:tensorflow:\n",
      "The TensorFlow contrib module will not be included in TensorFlow 2.0.\n",
      "For more information, please see:\n",
      "  * https://github.com/tensorflow/community/blob/master/rfcs/20180907-contrib-sunset.md\n",
      "  * https://github.com/tensorflow/addons\n",
      "  * https://github.com/tensorflow/io (for I/O related ops)\n",
      "If you depend on functionality not listed there, please file an issue.\n",
      "\n",
      "WARNING:tensorflow:From C:\\Users\\Arne\\anaconda3\\envs\\tfv1\\lib\\site-packages\\tgan\\model.py:551: The name tf.train.AdamOptimizer is deprecated. Please use tf.compat.v1.train.AdamOptimizer instead.\n",
      "\n",
      "\u001b[32m[0112 23:29:28 @logger.py:125]\u001b[0m \u001b[5m\u001b[31mWRN\u001b[0m Log directory .\\Model\\tableGAN_ckpt\\compare_adult\\tgan\\logs exists! Use 'd' to delete it. \n",
      "\u001b[32m[0112 23:29:28 @logger.py:128]\u001b[0m \u001b[5m\u001b[31mWRN\u001b[0m If you're resuming from a previous run, you can choose to keep it.\n",
      "Press any other key to exit. \n",
      "Select Action: k (keep) / d (delete) / q (quit):d\n",
      "\u001b[32m[0112 23:29:31 @logger.py:90]\u001b[0m Argv: C:\\Users\\Arne\\anaconda3\\envs\\tfv1\\lib\\site-packages\\ipykernel_launcher.py -f C:\\Users\\Arne\\AppData\\Roaming\\jupyter\\runtime\\kernel-b246a643-0caa-4934-8045-8e412454873b.json\n",
      "WARNING:tensorflow:From C:\\Users\\Arne\\anaconda3\\envs\\tfv1\\lib\\site-packages\\tensorpack\\callbacks\\saver.py:43: The name tf.gfile.IsDirectory is deprecated. Please use tf.io.gfile.isdir instead.\n",
      "\n",
      "WARNING:tensorflow:From C:\\Users\\Arne\\anaconda3\\envs\\tfv1\\lib\\site-packages\\tensorpack\\tfutils\\common.py:41: The name tf.ConfigProto is deprecated. Please use tf.compat.v1.ConfigProto instead.\n",
      "\n",
      "\u001b[32m[0112 23:29:31 @model_utils.py:67]\u001b[0m \u001b[36mList of Trainable Variables: \n",
      "\u001b[0mname                              shape           #elements\n",
      "--------------------------------  ------------  -----------\n",
      "gen/LSTM/go:0                     [1, 100]              100\n",
      "gen/LSTM/lstm_cell/kernel:0       [500, 400]         200000\n",
      "gen/LSTM/lstm_cell/bias:0         [400]                 400\n",
      "gen/LSTM/00/FC/W:0                [100, 100]          10000\n",
      "gen/LSTM/00/FC/b:0                [100]                 100\n",
      "gen/LSTM/00/FC2/W:0               [100, 72]            7200\n",
      "gen/LSTM/00/FC2/b:0               [72]                   72\n",
      "gen/LSTM/00/FC3/W:0               [72, 100]            7200\n",
      "gen/LSTM/00/FC3/b:0               [100]                 100\n",
      "gen/LSTM/00/attw:0                [1, 1, 1]               1\n",
      "gen/LSTM/01/FC/W:0                [100, 100]          10000\n",
      "gen/LSTM/01/FC/b:0                [100]                 100\n",
      "gen/LSTM/01/FC2/W:0               [100, 5]              500\n",
      "gen/LSTM/01/FC2/b:0               [5]                     5\n",
      "gen/LSTM/01/FC3/W:0               [5, 100]              500\n",
      "gen/LSTM/01/FC3/b:0               [100]                 100\n",
      "gen/LSTM/01/attw:0                [2, 1, 1]               2\n",
      "gen/LSTM/02/FC/W:0                [100, 100]          10000\n",
      "gen/LSTM/02/FC/b:0                [100]                 100\n",
      "gen/LSTM/02/FC2/W:0               [100, 20263]      2026300\n",
      "gen/LSTM/02/FC2/b:0               [20263]             20263\n",
      "gen/LSTM/02/FC3/W:0               [20263, 100]      2026300\n",
      "gen/LSTM/02/FC3/b:0               [100]                 100\n",
      "gen/LSTM/02/attw:0                [3, 1, 1]               3\n",
      "gen/LSTM/03/FC/W:0                [100, 100]          10000\n",
      "gen/LSTM/03/FC/b:0                [100]                 100\n",
      "gen/LSTM/03/FC2/W:0               [100, 9]              900\n",
      "gen/LSTM/03/FC2/b:0               [9]                     9\n",
      "gen/LSTM/03/FC3/W:0               [9, 100]              900\n",
      "gen/LSTM/03/FC3/b:0               [100]                 100\n",
      "gen/LSTM/03/attw:0                [4, 1, 1]               4\n",
      "gen/LSTM/04/FC/W:0                [100, 100]          10000\n",
      "gen/LSTM/04/FC/b:0                [100]                 100\n",
      "gen/LSTM/04/FC2/W:0               [100, 16]            1600\n",
      "gen/LSTM/04/FC2/b:0               [16]                   16\n",
      "gen/LSTM/04/FC3/W:0               [16, 100]            1600\n",
      "gen/LSTM/04/FC3/b:0               [100]                 100\n",
      "gen/LSTM/04/attw:0                [5, 1, 1]               5\n",
      "gen/LSTM/05/FC/W:0                [100, 100]          10000\n",
      "gen/LSTM/05/FC/b:0                [100]                 100\n",
      "gen/LSTM/05/FC2/W:0               [100, 5]              500\n",
      "gen/LSTM/05/FC2/b:0               [5]                     5\n",
      "gen/LSTM/05/FC3/W:0               [5, 100]              500\n",
      "gen/LSTM/05/FC3/b:0               [100]                 100\n",
      "gen/LSTM/05/attw:0                [6, 1, 1]               6\n",
      "gen/LSTM/06/FC/W:0                [100, 100]          10000\n",
      "gen/LSTM/06/FC/b:0                [100]                 100\n",
      "gen/LSTM/06/FC2/W:0               [100, 14]            1400\n",
      "gen/LSTM/06/FC2/b:0               [14]                   14\n",
      "gen/LSTM/06/FC3/W:0               [14, 100]            1400\n",
      "gen/LSTM/06/FC3/b:0               [100]                 100\n",
      "gen/LSTM/06/attw:0                [7, 1, 1]               7\n",
      "gen/LSTM/07/FC/W:0                [100, 100]          10000\n",
      "gen/LSTM/07/FC/b:0                [100]                 100\n",
      "gen/LSTM/07/FC2/W:0               [100, 5]              500\n",
      "gen/LSTM/07/FC2/b:0               [5]                     5\n",
      "gen/LSTM/07/FC3/W:0               [5, 100]              500\n",
      "gen/LSTM/07/FC3/b:0               [100]                 100\n",
      "gen/LSTM/07/attw:0                [8, 1, 1]               8\n",
      "gen/LSTM/08/FC/W:0                [100, 100]          10000\n",
      "gen/LSTM/08/FC/b:0                [100]                 100\n",
      "gen/LSTM/08/FC2/W:0               [100, 2]              200\n",
      "gen/LSTM/08/FC2/b:0               [2]                     2\n",
      "gen/LSTM/08/FC3/W:0               [2, 100]              200\n",
      "gen/LSTM/08/FC3/b:0               [100]                 100\n",
      "gen/LSTM/08/attw:0                [9, 1, 1]               9\n",
      "gen/LSTM/09/FC/W:0                [100, 100]          10000\n",
      "gen/LSTM/09/FC/b:0                [100]                 100\n",
      "gen/LSTM/09/FC2/W:0               [100, 118]          11800\n",
      "gen/LSTM/09/FC2/b:0               [118]                 118\n",
      "gen/LSTM/09/FC3/W:0               [118, 100]          11800\n",
      "gen/LSTM/09/FC3/b:0               [100]                 100\n",
      "gen/LSTM/09/attw:0                [10, 1, 1]             10\n",
      "gen/LSTM/10/FC/W:0                [100, 100]          10000\n",
      "gen/LSTM/10/FC/b:0                [100]                 100\n",
      "gen/LSTM/10/FC2/W:0               [100, 90]            9000\n",
      "gen/LSTM/10/FC2/b:0               [90]                   90\n",
      "gen/LSTM/10/FC3/W:0               [90, 100]            9000\n",
      "gen/LSTM/10/FC3/b:0               [100]                 100\n",
      "gen/LSTM/10/attw:0                [11, 1, 1]             11\n",
      "gen/LSTM/11/FC/W:0                [100, 100]          10000\n",
      "gen/LSTM/11/FC/b:0                [100]                 100\n",
      "gen/LSTM/11/FC2/W:0               [100, 94]            9400\n",
      "gen/LSTM/11/FC2/b:0               [94]                   94\n",
      "gen/LSTM/11/FC3/W:0               [94, 100]            9400\n",
      "gen/LSTM/11/FC3/b:0               [100]                 100\n",
      "gen/LSTM/11/attw:0                [12, 1, 1]             12\n",
      "gen/LSTM/12/FC/W:0                [100, 100]          10000\n",
      "gen/LSTM/12/FC/b:0                [100]                 100\n",
      "gen/LSTM/12/FC2/W:0               [100, 2]              200\n",
      "gen/LSTM/12/FC2/b:0               [2]                     2\n",
      "gen/LSTM/12/FC3/W:0               [2, 100]              200\n",
      "gen/LSTM/12/FC3/b:0               [100]                 100\n",
      "gen/LSTM/12/attw:0                [13, 1, 1]             13\n",
      "gen/LSTM/13/FC/W:0                [100, 100]          10000\n",
      "gen/LSTM/13/FC/b:0                [100]                 100\n",
      "gen/LSTM/13/FC2/W:0               [100, 2]              200\n",
      "gen/LSTM/13/FC2/b:0               [2]                     2\n",
      "gen/LSTM/13/FC3/W:0               [2, 100]              200\n",
      "gen/LSTM/13/FC3/b:0               [100]                 100\n",
      "gen/LSTM/13/attw:0                [14, 1, 1]             14\n",
      "discrim/dis_fc0/fc/W:0            [20697, 256]      5298432\n",
      "discrim/dis_fc0/fc/b:0            [256]                 256\n",
      "discrim/dis_fc0/fc_diversity/W:0  [256, 100]          25600\n",
      "discrim/dis_fc0/fc_diversity/b:0  [100]                 100\n",
      "discrim/dis_fc0/bn/beta:0         [266]                 266\n",
      "discrim/dis_fc_top/W:0            [266, 1]              266\n",
      "discrim/dis_fc_top/b:0            [1]                     1\u001b[36m\n",
      "Number of trainable variables: 108\n",
      "Number of parameters (elements): 9828423\n",
      "Storage space needed for all trainable variables: 37.49MB\u001b[0m\n"
     ]
    },
    {
     "name": "stdout",
     "output_type": "stream",
     "text": [
      "\u001b[32m[0112 23:29:31 @base.py:209]\u001b[0m Setup callbacks graph ...\n",
      "WARNING:tensorflow:From C:\\Users\\Arne\\anaconda3\\envs\\tfv1\\lib\\site-packages\\tensorpack\\callbacks\\graph.py:54: The name tf.train.SessionRunArgs is deprecated. Please use tf.estimator.SessionRunArgs instead.\n",
      "\n",
      "WARNING:tensorflow:From C:\\Users\\Arne\\anaconda3\\envs\\tfv1\\lib\\site-packages\\tensorpack\\tfutils\\common.py:75: The name tf.VariableScope is deprecated. Please use tf.compat.v1.VariableScope instead.\n",
      "\n",
      "WARNING:tensorflow:From C:\\Users\\Arne\\anaconda3\\envs\\tfv1\\lib\\site-packages\\tensorpack\\tfutils\\common.py:77: The name tf.train.get_or_create_global_step is deprecated. Please use tf.compat.v1.train.get_or_create_global_step instead.\n",
      "\n",
      "WARNING:tensorflow:From C:\\Users\\Arne\\anaconda3\\envs\\tfv1\\lib\\site-packages\\tensorpack\\callbacks\\steps.py:117: The name tf.assign_add is deprecated. Please use tf.compat.v1.assign_add instead.\n",
      "\n",
      "WARNING:tensorflow:From C:\\Users\\Arne\\anaconda3\\envs\\tfv1\\lib\\site-packages\\tensorpack\\callbacks\\saver.py:55: The name tf.train.Saver is deprecated. Please use tf.compat.v1.train.Saver instead.\n",
      "\n",
      "WARNING:tensorflow:From C:\\Users\\Arne\\anaconda3\\envs\\tfv1\\lib\\site-packages\\tensorpack\\callbacks\\saver.py:59: The name tf.train.SaverDef is deprecated. Please use tf.compat.v1.train.SaverDef instead.\n",
      "\n",
      "\u001b[32m[0112 23:29:31 @summary.py:46]\u001b[0m [MovingAverageSummary] 6 operations in collection 'MOVING_SUMMARY_OPS' will be run with session hooks.\n",
      "\u001b[32m[0112 23:29:31 @summary.py:93]\u001b[0m Summarizing collection 'summaries' of size 9.\n",
      "WARNING:tensorflow:From C:\\Users\\Arne\\anaconda3\\envs\\tfv1\\lib\\site-packages\\tensorpack\\callbacks\\summary.py:94: The name tf.summary.merge_all is deprecated. Please use tf.compat.v1.summary.merge_all instead.\n",
      "\n",
      "\u001b[32m[0112 23:29:31 @graph.py:98]\u001b[0m Applying collection UPDATE_OPS of 4 ops.\n",
      "WARNING:tensorflow:From C:\\Users\\Arne\\anaconda3\\envs\\tfv1\\lib\\site-packages\\tensorpack\\callbacks\\monitor.py:261: The name tf.summary.FileWriter is deprecated. Please use tf.compat.v1.summary.FileWriter instead.\n",
      "\n",
      "\u001b[32m[0112 23:29:32 @base.py:230]\u001b[0m Creating the session ...\n",
      "WARNING:tensorflow:From C:\\Users\\Arne\\anaconda3\\envs\\tfv1\\lib\\site-packages\\tensorpack\\tfutils\\sesscreate.py:42: The name tf.Session is deprecated. Please use tf.compat.v1.Session instead.\n",
      "\n",
      "WARNING:tensorflow:From C:\\Users\\Arne\\anaconda3\\envs\\tfv1\\lib\\site-packages\\tensorpack\\tfutils\\sesscreate.py:71: The name tf.global_variables_initializer is deprecated. Please use tf.compat.v1.global_variables_initializer instead.\n",
      "\n",
      "WARNING:tensorflow:From C:\\Users\\Arne\\anaconda3\\envs\\tfv1\\lib\\site-packages\\tensorpack\\tfutils\\sesscreate.py:62: get_backward_walk_ops (from tensorflow.contrib.graph_editor.select) is deprecated and will be removed after 2019-06-06.\n",
      "Instructions for updating:\n",
      "Please use tensorflow.python.ops.op_selector.get_backward_walk_ops.\n",
      "WARNING:tensorflow:From C:\\Users\\Arne\\anaconda3\\envs\\tfv1\\lib\\site-packages\\tensorpack\\tfutils\\sesscreate.py:72: The name tf.local_variables_initializer is deprecated. Please use tf.compat.v1.local_variables_initializer instead.\n",
      "\n",
      "WARNING:tensorflow:From C:\\Users\\Arne\\anaconda3\\envs\\tfv1\\lib\\site-packages\\tensorpack\\tfutils\\sesscreate.py:73: The name tf.tables_initializer is deprecated. Please use tf.compat.v1.tables_initializer instead.\n",
      "\n",
      "WARNING:tensorflow:From C:\\Users\\Arne\\anaconda3\\envs\\tfv1\\lib\\site-packages\\tensorpack\\train\\base.py:254: The name tf.train.MonitoredSession is deprecated. Please use tf.compat.v1.train.MonitoredSession instead.\n",
      "\n",
      "\u001b[32m[0112 23:29:34 @base.py:236]\u001b[0m Initializing the session ...\n",
      "\u001b[32m[0112 23:29:34 @base.py:243]\u001b[0m Graph Finalized.\n",
      "WARNING:tensorflow:From C:\\Users\\Arne\\anaconda3\\envs\\tfv1\\lib\\site-packages\\tensorpack\\tfutils\\common.py:89: The name tf.train.global_step is deprecated. Please use tf.compat.v1.train.global_step instead.\n",
      "\n",
      "WARNING:tensorflow:From C:\\Users\\Arne\\anaconda3\\envs\\tfv1\\lib\\site-packages\\tensorpack\\tfutils\\common.py:90: The name tf.get_default_session is deprecated. Please use tf.compat.v1.get_default_session instead.\n",
      "\n",
      "\u001b[32m[0112 23:29:34 @concurrency.py:38]\u001b[0m Starting EnqueueThread QueueInput/input_queue ...\n",
      "WARNING:tensorflow:From C:\\Users\\Arne\\anaconda3\\envs\\tfv1\\lib\\site-packages\\tensorpack\\callbacks\\monitor.py:309: The name tf.gfile.Exists is deprecated. Please use tf.io.gfile.exists instead.\n",
      "\n",
      "\u001b[32m[0112 23:29:34 @base.py:275]\u001b[0m Start Epoch 1 ...\n"
     ]
    },
    {
     "name": "stderr",
     "output_type": "stream",
     "text": [
      " 98%|###################################################################################5 |59/60[01:06<00:01, 0.92it/s]"
     ]
    },
    {
     "name": "stdout",
     "output_type": "stream",
     "text": [
      "WARNING:tensorflow:From C:\\Users\\Arne\\anaconda3\\envs\\tfv1\\lib\\site-packages\\tensorpack\\callbacks\\monitor.py:148: The name tf.Summary is deprecated. Please use tf.compat.v1.Summary instead.\n",
      "\n"
     ]
    },
    {
     "name": "stderr",
     "output_type": "stream",
     "text": [
      "100%|#####################################################################################|60/60[01:09<00:00, 0.86it/s]"
     ]
    },
    {
     "name": "stdout",
     "output_type": "stream",
     "text": [
      "\u001b[32m[0112 23:30:44 @base.py:285]\u001b[0m Epoch 1 (global_step 60) finished, time:1 minute 9 seconds.\n",
      "WARNING:tensorflow:From C:\\Users\\Arne\\anaconda3\\envs\\tfv1\\lib\\site-packages\\tensorpack\\callbacks\\saver.py:77: The name tf.train.get_global_step is deprecated. Please use tf.compat.v1.train.get_global_step instead.\n",
      "\n"
     ]
    },
    {
     "name": "stderr",
     "output_type": "stream",
     "text": [
      "\n"
     ]
    },
    {
     "name": "stdout",
     "output_type": "stream",
     "text": [
      "\u001b[32m[0112 23:30:45 @saver.py:79]\u001b[0m Model saved to .\\Model\\tableGAN_ckpt\\compare_adult\\tgan\\model\\model-60.\n",
      "\u001b[32m[0112 23:30:45 @monitor.py:467]\u001b[0m GAN_loss/discrim/accuracy_fake: 0.736\n",
      "\u001b[32m[0112 23:30:45 @monitor.py:467]\u001b[0m GAN_loss/discrim/accuracy_real: 0.34\n",
      "\u001b[32m[0112 23:30:45 @monitor.py:467]\u001b[0m GAN_loss/discrim/loss: 0.75027\n",
      "\u001b[32m[0112 23:30:45 @monitor.py:467]\u001b[0m GAN_loss/gen/final-g-loss: 1.149\n",
      "\u001b[32m[0112 23:30:45 @monitor.py:467]\u001b[0m GAN_loss/gen/klloss: 0.038294\n",
      "\u001b[32m[0112 23:30:45 @monitor.py:467]\u001b[0m GAN_loss/gen/loss: 1.1107\n",
      "\u001b[32m[0112 23:30:45 @monitor.py:467]\u001b[0m QueueInput/queue_size: 50\n",
      "\u001b[32m[0112 23:30:45 @base.py:275]\u001b[0m Start Epoch 2 ...\n"
     ]
    },
    {
     "name": "stderr",
     "output_type": "stream",
     "text": [
      "100%|#####################################################################################|60/60[01:05<00:00, 0.91it/s]"
     ]
    },
    {
     "name": "stdout",
     "output_type": "stream",
     "text": [
      "\u001b[32m[0112 23:31:51 @base.py:285]\u001b[0m Epoch 2 (global_step 120) finished, time:1 minute 5 seconds.\n"
     ]
    },
    {
     "name": "stderr",
     "output_type": "stream",
     "text": [
      "\n"
     ]
    },
    {
     "name": "stdout",
     "output_type": "stream",
     "text": [
      "\u001b[32m[0112 23:31:52 @saver.py:79]\u001b[0m Model saved to .\\Model\\tableGAN_ckpt\\compare_adult\\tgan\\model\\model-120.\n",
      "\u001b[32m[0112 23:31:52 @monitor.py:467]\u001b[0m GAN_loss/discrim/accuracy_fake: 0.782\n",
      "\u001b[32m[0112 23:31:52 @monitor.py:467]\u001b[0m GAN_loss/discrim/accuracy_real: 0.32\n",
      "\u001b[32m[0112 23:31:52 @monitor.py:467]\u001b[0m GAN_loss/discrim/loss: 0.67442\n",
      "\u001b[32m[0112 23:31:52 @monitor.py:467]\u001b[0m GAN_loss/gen/final-g-loss: 1.066\n",
      "\u001b[32m[0112 23:31:52 @monitor.py:467]\u001b[0m GAN_loss/gen/klloss: 0.023381\n",
      "\u001b[32m[0112 23:31:52 @monitor.py:467]\u001b[0m GAN_loss/gen/loss: 1.0427\n",
      "\u001b[32m[0112 23:31:52 @monitor.py:467]\u001b[0m QueueInput/queue_size: 50\n",
      "\u001b[32m[0112 23:31:52 @base.py:275]\u001b[0m Start Epoch 3 ...\n"
     ]
    },
    {
     "name": "stderr",
     "output_type": "stream",
     "text": [
      "100%|#####################################################################################|60/60[01:05<00:00, 0.91it/s]"
     ]
    },
    {
     "name": "stdout",
     "output_type": "stream",
     "text": [
      "\u001b[32m[0112 23:32:57 @base.py:285]\u001b[0m Epoch 3 (global_step 180) finished, time:1 minute 5 seconds.\n"
     ]
    },
    {
     "name": "stderr",
     "output_type": "stream",
     "text": [
      "\n"
     ]
    },
    {
     "name": "stdout",
     "output_type": "stream",
     "text": [
      "\u001b[32m[0112 23:32:58 @saver.py:79]\u001b[0m Model saved to .\\Model\\tableGAN_ckpt\\compare_adult\\tgan\\model\\model-180.\n",
      "\u001b[32m[0112 23:32:58 @monitor.py:467]\u001b[0m GAN_loss/discrim/accuracy_fake: 0.796\n",
      "\u001b[32m[0112 23:32:58 @monitor.py:467]\u001b[0m GAN_loss/discrim/accuracy_real: 0.358\n",
      "\u001b[32m[0112 23:32:58 @monitor.py:467]\u001b[0m GAN_loss/discrim/loss: 0.634\n",
      "\u001b[32m[0112 23:32:58 @monitor.py:467]\u001b[0m GAN_loss/gen/final-g-loss: 1.0771\n",
      "\u001b[32m[0112 23:32:58 @monitor.py:467]\u001b[0m GAN_loss/gen/klloss: 0.030662\n",
      "\u001b[32m[0112 23:32:58 @monitor.py:467]\u001b[0m GAN_loss/gen/loss: 1.0465\n",
      "\u001b[32m[0112 23:32:58 @monitor.py:467]\u001b[0m QueueInput/queue_size: 50\n",
      "\u001b[32m[0112 23:32:58 @base.py:275]\u001b[0m Start Epoch 4 ...\n"
     ]
    },
    {
     "name": "stderr",
     "output_type": "stream",
     "text": [
      "100%|#####################################################################################|60/60[01:05<00:00, 0.92it/s]"
     ]
    },
    {
     "name": "stdout",
     "output_type": "stream",
     "text": [
      "\u001b[32m[0112 23:34:04 @base.py:285]\u001b[0m Epoch 4 (global_step 240) finished, time:1 minute 5 seconds.\n"
     ]
    },
    {
     "name": "stderr",
     "output_type": "stream",
     "text": [
      "\n"
     ]
    },
    {
     "name": "stdout",
     "output_type": "stream",
     "text": [
      "\u001b[32m[0112 23:34:04 @saver.py:79]\u001b[0m Model saved to .\\Model\\tableGAN_ckpt\\compare_adult\\tgan\\model\\model-240.\n",
      "\u001b[32m[0112 23:34:04 @monitor.py:467]\u001b[0m GAN_loss/discrim/accuracy_fake: 0.836\n",
      "\u001b[32m[0112 23:34:04 @monitor.py:467]\u001b[0m GAN_loss/discrim/accuracy_real: 0.346\n",
      "\u001b[32m[0112 23:34:04 @monitor.py:467]\u001b[0m GAN_loss/discrim/loss: 0.62808\n",
      "\u001b[32m[0112 23:34:04 @monitor.py:467]\u001b[0m GAN_loss/gen/final-g-loss: 1.0613\n",
      "\u001b[32m[0112 23:34:04 @monitor.py:467]\u001b[0m GAN_loss/gen/klloss: 0.035161\n",
      "\u001b[32m[0112 23:34:04 @monitor.py:467]\u001b[0m GAN_loss/gen/loss: 1.0261\n",
      "\u001b[32m[0112 23:34:04 @monitor.py:467]\u001b[0m QueueInput/queue_size: 50\n",
      "\u001b[32m[0112 23:34:04 @base.py:275]\u001b[0m Start Epoch 5 ...\n"
     ]
    },
    {
     "name": "stderr",
     "output_type": "stream",
     "text": [
      "100%|#####################################################################################|60/60[01:07<00:00, 0.89it/s]"
     ]
    },
    {
     "name": "stdout",
     "output_type": "stream",
     "text": [
      "\u001b[32m[0112 23:35:12 @base.py:285]\u001b[0m Epoch 5 (global_step 300) finished, time:1 minute 7 seconds.\n"
     ]
    },
    {
     "name": "stderr",
     "output_type": "stream",
     "text": [
      "\n"
     ]
    },
    {
     "name": "stdout",
     "output_type": "stream",
     "text": [
      "\u001b[32m[0112 23:35:13 @saver.py:79]\u001b[0m Model saved to .\\Model\\tableGAN_ckpt\\compare_adult\\tgan\\model\\model-300.\n",
      "\u001b[32m[0112 23:35:13 @monitor.py:467]\u001b[0m GAN_loss/discrim/accuracy_fake: 0.882\n",
      "\u001b[32m[0112 23:35:13 @monitor.py:467]\u001b[0m GAN_loss/discrim/accuracy_real: 0.34\n",
      "\u001b[32m[0112 23:35:13 @monitor.py:467]\u001b[0m GAN_loss/discrim/loss: 0.61462\n",
      "\u001b[32m[0112 23:35:13 @monitor.py:467]\u001b[0m GAN_loss/gen/final-g-loss: 1.1157\n",
      "\u001b[32m[0112 23:35:13 @monitor.py:467]\u001b[0m GAN_loss/gen/klloss: 0.055713\n",
      "\u001b[32m[0112 23:35:13 @monitor.py:467]\u001b[0m GAN_loss/gen/loss: 1.06\n",
      "\u001b[32m[0112 23:35:13 @monitor.py:467]\u001b[0m QueueInput/queue_size: 50\n",
      "\u001b[32m[0112 23:35:13 @base.py:275]\u001b[0m Start Epoch 6 ...\n"
     ]
    },
    {
     "name": "stderr",
     "output_type": "stream",
     "text": [
      "100%|#####################################################################################|60/60[01:07<00:00, 0.88it/s]"
     ]
    },
    {
     "name": "stdout",
     "output_type": "stream",
     "text": [
      "\u001b[32m[0112 23:36:21 @base.py:285]\u001b[0m Epoch 6 (global_step 360) finished, time:1 minute 7 seconds.\n"
     ]
    },
    {
     "name": "stderr",
     "output_type": "stream",
     "text": [
      "\n"
     ]
    },
    {
     "name": "stdout",
     "output_type": "stream",
     "text": [
      "\u001b[32m[0112 23:36:22 @saver.py:79]\u001b[0m Model saved to .\\Model\\tableGAN_ckpt\\compare_adult\\tgan\\model\\model-360.\n",
      "\u001b[32m[0112 23:36:22 @monitor.py:467]\u001b[0m GAN_loss/discrim/accuracy_fake: 0.874\n",
      "\u001b[32m[0112 23:36:22 @monitor.py:467]\u001b[0m GAN_loss/discrim/accuracy_real: 0.36\n",
      "\u001b[32m[0112 23:36:22 @monitor.py:467]\u001b[0m GAN_loss/discrim/loss: 0.60799\n",
      "\u001b[32m[0112 23:36:22 @monitor.py:467]\u001b[0m GAN_loss/gen/final-g-loss: 1.1108\n",
      "\u001b[32m[0112 23:36:22 @monitor.py:467]\u001b[0m GAN_loss/gen/klloss: 0.036211\n",
      "\u001b[32m[0112 23:36:22 @monitor.py:467]\u001b[0m GAN_loss/gen/loss: 1.0745\n",
      "\u001b[32m[0112 23:36:22 @monitor.py:467]\u001b[0m QueueInput/queue_size: 50\n",
      "\u001b[32m[0112 23:36:22 @base.py:275]\u001b[0m Start Epoch 7 ...\n"
     ]
    },
    {
     "name": "stderr",
     "output_type": "stream",
     "text": [
      "100%|#####################################################################################|60/60[01:06<00:00, 0.91it/s]"
     ]
    },
    {
     "name": "stdout",
     "output_type": "stream",
     "text": [
      "\u001b[32m[0112 23:37:28 @base.py:285]\u001b[0m Epoch 7 (global_step 420) finished, time:1 minute 6 seconds.\n"
     ]
    },
    {
     "name": "stderr",
     "output_type": "stream",
     "text": [
      "\n"
     ]
    },
    {
     "name": "stdout",
     "output_type": "stream",
     "text": [
      "\u001b[32m[0112 23:37:29 @saver.py:79]\u001b[0m Model saved to .\\Model\\tableGAN_ckpt\\compare_adult\\tgan\\model\\model-420.\n",
      "\u001b[32m[0112 23:37:29 @monitor.py:467]\u001b[0m GAN_loss/discrim/accuracy_fake: 0.856\n",
      "\u001b[32m[0112 23:37:29 @monitor.py:467]\u001b[0m GAN_loss/discrim/accuracy_real: 0.348\n",
      "\u001b[32m[0112 23:37:29 @monitor.py:467]\u001b[0m GAN_loss/discrim/loss: 0.61392\n",
      "\u001b[32m[0112 23:37:29 @monitor.py:467]\u001b[0m GAN_loss/gen/final-g-loss: 1.1223\n",
      "\u001b[32m[0112 23:37:29 @monitor.py:467]\u001b[0m GAN_loss/gen/klloss: 0.066104\n",
      "\u001b[32m[0112 23:37:29 @monitor.py:467]\u001b[0m GAN_loss/gen/loss: 1.0562\n",
      "\u001b[32m[0112 23:37:29 @monitor.py:467]\u001b[0m QueueInput/queue_size: 50\n",
      "\u001b[32m[0112 23:37:29 @base.py:275]\u001b[0m Start Epoch 8 ...\n"
     ]
    },
    {
     "name": "stderr",
     "output_type": "stream",
     "text": [
      "100%|#####################################################################################|60/60[01:05<00:00, 0.91it/s]"
     ]
    },
    {
     "name": "stdout",
     "output_type": "stream",
     "text": [
      "\u001b[32m[0112 23:38:34 @base.py:285]\u001b[0m Epoch 8 (global_step 480) finished, time:1 minute 5 seconds.\n"
     ]
    },
    {
     "name": "stderr",
     "output_type": "stream",
     "text": [
      "\n"
     ]
    },
    {
     "name": "stdout",
     "output_type": "stream",
     "text": [
      "\u001b[32m[0112 23:38:35 @saver.py:79]\u001b[0m Model saved to .\\Model\\tableGAN_ckpt\\compare_adult\\tgan\\model\\model-480.\n",
      "\u001b[32m[0112 23:38:35 @monitor.py:467]\u001b[0m GAN_loss/discrim/accuracy_fake: 0.842\n",
      "\u001b[32m[0112 23:38:35 @monitor.py:467]\u001b[0m GAN_loss/discrim/accuracy_real: 0.39\n",
      "\u001b[32m[0112 23:38:35 @monitor.py:467]\u001b[0m GAN_loss/discrim/loss: 0.61341\n",
      "\u001b[32m[0112 23:38:35 @monitor.py:467]\u001b[0m GAN_loss/gen/final-g-loss: 1.1172\n",
      "\u001b[32m[0112 23:38:35 @monitor.py:467]\u001b[0m GAN_loss/gen/klloss: 0.074905\n",
      "\u001b[32m[0112 23:38:35 @monitor.py:467]\u001b[0m GAN_loss/gen/loss: 1.0423\n",
      "\u001b[32m[0112 23:38:35 @monitor.py:467]\u001b[0m QueueInput/queue_size: 50\n",
      "\u001b[32m[0112 23:38:35 @base.py:275]\u001b[0m Start Epoch 9 ...\n"
     ]
    },
    {
     "name": "stderr",
     "output_type": "stream",
     "text": [
      "100%|#####################################################################################|60/60[01:05<00:00, 0.92it/s]"
     ]
    },
    {
     "name": "stdout",
     "output_type": "stream",
     "text": [
      "\u001b[32m[0112 23:39:40 @base.py:285]\u001b[0m Epoch 9 (global_step 540) finished, time:1 minute 5 seconds.\n"
     ]
    },
    {
     "name": "stderr",
     "output_type": "stream",
     "text": [
      "\n"
     ]
    },
    {
     "name": "stdout",
     "output_type": "stream",
     "text": [
      "\u001b[32m[0112 23:39:40 @saver.py:79]\u001b[0m Model saved to .\\Model\\tableGAN_ckpt\\compare_adult\\tgan\\model\\model-540.\n",
      "\u001b[32m[0112 23:39:40 @monitor.py:467]\u001b[0m GAN_loss/discrim/accuracy_fake: 0.832\n",
      "\u001b[32m[0112 23:39:40 @monitor.py:467]\u001b[0m GAN_loss/discrim/accuracy_real: 0.414\n",
      "\u001b[32m[0112 23:39:40 @monitor.py:467]\u001b[0m GAN_loss/discrim/loss: 0.61811\n",
      "\u001b[32m[0112 23:39:40 @monitor.py:467]\u001b[0m GAN_loss/gen/final-g-loss: 1.0737\n",
      "\u001b[32m[0112 23:39:40 @monitor.py:467]\u001b[0m GAN_loss/gen/klloss: 0.041206\n",
      "\u001b[32m[0112 23:39:40 @monitor.py:467]\u001b[0m GAN_loss/gen/loss: 1.0325\n",
      "\u001b[32m[0112 23:39:40 @monitor.py:467]\u001b[0m QueueInput/queue_size: 50\n",
      "\u001b[32m[0112 23:39:40 @base.py:275]\u001b[0m Start Epoch 10 ...\n"
     ]
    },
    {
     "name": "stderr",
     "output_type": "stream",
     "text": [
      "100%|#####################################################################################|60/60[01:05<00:00, 0.92it/s]"
     ]
    },
    {
     "name": "stdout",
     "output_type": "stream",
     "text": [
      "\u001b[32m[0112 23:40:46 @base.py:285]\u001b[0m Epoch 10 (global_step 600) finished, time:1 minute 5 seconds.\n"
     ]
    },
    {
     "name": "stderr",
     "output_type": "stream",
     "text": [
      "\n"
     ]
    },
    {
     "name": "stdout",
     "output_type": "stream",
     "text": [
      "\u001b[32m[0112 23:40:46 @saver.py:79]\u001b[0m Model saved to .\\Model\\tableGAN_ckpt\\compare_adult\\tgan\\model\\model-600.\n",
      "\u001b[32m[0112 23:40:46 @monitor.py:467]\u001b[0m GAN_loss/discrim/accuracy_fake: 0.814\n",
      "\u001b[32m[0112 23:40:46 @monitor.py:467]\u001b[0m GAN_loss/discrim/accuracy_real: 0.314\n",
      "\u001b[32m[0112 23:40:46 @monitor.py:467]\u001b[0m GAN_loss/discrim/loss: 0.64388\n",
      "\u001b[32m[0112 23:40:46 @monitor.py:467]\u001b[0m GAN_loss/gen/final-g-loss: 1.0325\n",
      "\u001b[32m[0112 23:40:46 @monitor.py:467]\u001b[0m GAN_loss/gen/klloss: 0.036513\n",
      "\u001b[32m[0112 23:40:46 @monitor.py:467]\u001b[0m GAN_loss/gen/loss: 0.99597\n",
      "\u001b[32m[0112 23:40:46 @monitor.py:467]\u001b[0m QueueInput/queue_size: 50\n",
      "\u001b[32m[0112 23:40:46 @base.py:275]\u001b[0m Start Epoch 11 ...\n"
     ]
    },
    {
     "name": "stderr",
     "output_type": "stream",
     "text": [
      "100%|#####################################################################################|60/60[01:05<00:00, 0.91it/s]"
     ]
    },
    {
     "name": "stdout",
     "output_type": "stream",
     "text": [
      "\u001b[32m[0112 23:41:52 @base.py:285]\u001b[0m Epoch 11 (global_step 660) finished, time:1 minute 5 seconds.\n"
     ]
    },
    {
     "name": "stderr",
     "output_type": "stream",
     "text": [
      "\n"
     ]
    },
    {
     "name": "stdout",
     "output_type": "stream",
     "text": [
      "WARNING:tensorflow:From C:\\Users\\Arne\\anaconda3\\envs\\tfv1\\lib\\site-packages\\tensorflow_core\\python\\training\\saver.py:963: remove_checkpoint (from tensorflow.python.training.checkpoint_management) is deprecated and will be removed in a future version.\n",
      "Instructions for updating:\n",
      "Use standard file APIs to delete files with this prefix.\n",
      "\u001b[32m[0112 23:41:52 @saver.py:79]\u001b[0m Model saved to .\\Model\\tableGAN_ckpt\\compare_adult\\tgan\\model\\model-660.\n",
      "\u001b[32m[0112 23:41:52 @monitor.py:467]\u001b[0m GAN_loss/discrim/accuracy_fake: 0.824\n",
      "\u001b[32m[0112 23:41:52 @monitor.py:467]\u001b[0m GAN_loss/discrim/accuracy_real: 0.334\n",
      "\u001b[32m[0112 23:41:52 @monitor.py:467]\u001b[0m GAN_loss/discrim/loss: 0.62971\n",
      "\u001b[32m[0112 23:41:52 @monitor.py:467]\u001b[0m GAN_loss/gen/final-g-loss: 1.0575\n",
      "\u001b[32m[0112 23:41:52 @monitor.py:467]\u001b[0m GAN_loss/gen/klloss: 0.038414\n",
      "\u001b[32m[0112 23:41:52 @monitor.py:467]\u001b[0m GAN_loss/gen/loss: 1.0191\n",
      "\u001b[32m[0112 23:41:52 @monitor.py:467]\u001b[0m QueueInput/queue_size: 50\n",
      "\u001b[32m[0112 23:41:52 @base.py:275]\u001b[0m Start Epoch 12 ...\n"
     ]
    },
    {
     "name": "stderr",
     "output_type": "stream",
     "text": [
      "100%|#####################################################################################|60/60[01:05<00:00, 0.92it/s]"
     ]
    },
    {
     "name": "stdout",
     "output_type": "stream",
     "text": [
      "\u001b[32m[0112 23:42:58 @base.py:285]\u001b[0m Epoch 12 (global_step 720) finished, time:1 minute 5 seconds.\n"
     ]
    },
    {
     "name": "stderr",
     "output_type": "stream",
     "text": [
      "\n"
     ]
    },
    {
     "name": "stdout",
     "output_type": "stream",
     "text": [
      "\u001b[32m[0112 23:42:58 @saver.py:79]\u001b[0m Model saved to .\\Model\\tableGAN_ckpt\\compare_adult\\tgan\\model\\model-720.\n",
      "\u001b[32m[0112 23:42:58 @monitor.py:467]\u001b[0m GAN_loss/discrim/accuracy_fake: 0.792\n",
      "\u001b[32m[0112 23:42:58 @monitor.py:467]\u001b[0m GAN_loss/discrim/accuracy_real: 0.326\n",
      "\u001b[32m[0112 23:42:58 @monitor.py:467]\u001b[0m GAN_loss/discrim/loss: 0.64446\n",
      "\u001b[32m[0112 23:42:58 @monitor.py:467]\u001b[0m GAN_loss/gen/final-g-loss: 1.0329\n",
      "\u001b[32m[0112 23:42:58 @monitor.py:467]\u001b[0m GAN_loss/gen/klloss: 0.051381\n",
      "\u001b[32m[0112 23:42:58 @monitor.py:467]\u001b[0m GAN_loss/gen/loss: 0.98148\n",
      "\u001b[32m[0112 23:42:58 @monitor.py:467]\u001b[0m QueueInput/queue_size: 50\n",
      "\u001b[32m[0112 23:42:58 @base.py:275]\u001b[0m Start Epoch 13 ...\n"
     ]
    },
    {
     "name": "stderr",
     "output_type": "stream",
     "text": [
      "100%|#####################################################################################|60/60[01:05<00:00, 0.91it/s]"
     ]
    },
    {
     "name": "stdout",
     "output_type": "stream",
     "text": [
      "\u001b[32m[0112 23:44:04 @base.py:285]\u001b[0m Epoch 13 (global_step 780) finished, time:1 minute 5 seconds.\n"
     ]
    },
    {
     "name": "stderr",
     "output_type": "stream",
     "text": [
      "\n"
     ]
    },
    {
     "name": "stdout",
     "output_type": "stream",
     "text": [
      "\u001b[32m[0112 23:44:05 @saver.py:79]\u001b[0m Model saved to .\\Model\\tableGAN_ckpt\\compare_adult\\tgan\\model\\model-780.\n",
      "\u001b[32m[0112 23:44:05 @monitor.py:467]\u001b[0m GAN_loss/discrim/accuracy_fake: 0.84\n",
      "\u001b[32m[0112 23:44:05 @monitor.py:467]\u001b[0m GAN_loss/discrim/accuracy_real: 0.294\n",
      "\u001b[32m[0112 23:44:05 @monitor.py:467]\u001b[0m GAN_loss/discrim/loss: 0.64047\n",
      "\u001b[32m[0112 23:44:05 @monitor.py:467]\u001b[0m GAN_loss/gen/final-g-loss: 1.0532\n",
      "\u001b[32m[0112 23:44:05 @monitor.py:467]\u001b[0m GAN_loss/gen/klloss: 0.046136\n",
      "\u001b[32m[0112 23:44:05 @monitor.py:467]\u001b[0m GAN_loss/gen/loss: 1.0071\n",
      "\u001b[32m[0112 23:44:05 @monitor.py:467]\u001b[0m QueueInput/queue_size: 50\n",
      "\u001b[32m[0112 23:44:05 @base.py:275]\u001b[0m Start Epoch 14 ...\n"
     ]
    },
    {
     "name": "stderr",
     "output_type": "stream",
     "text": [
      "100%|#####################################################################################|60/60[01:04<00:00, 0.93it/s]"
     ]
    },
    {
     "name": "stdout",
     "output_type": "stream",
     "text": [
      "\u001b[32m[0112 23:45:10 @base.py:285]\u001b[0m Epoch 14 (global_step 840) finished, time:1 minute 4 seconds.\n"
     ]
    },
    {
     "name": "stderr",
     "output_type": "stream",
     "text": [
      "\n"
     ]
    },
    {
     "name": "stdout",
     "output_type": "stream",
     "text": [
      "\u001b[32m[0112 23:45:10 @saver.py:79]\u001b[0m Model saved to .\\Model\\tableGAN_ckpt\\compare_adult\\tgan\\model\\model-840.\n",
      "\u001b[32m[0112 23:45:10 @monitor.py:467]\u001b[0m GAN_loss/discrim/accuracy_fake: 0.844\n",
      "\u001b[32m[0112 23:45:10 @monitor.py:467]\u001b[0m GAN_loss/discrim/accuracy_real: 0.268\n",
      "\u001b[32m[0112 23:45:10 @monitor.py:467]\u001b[0m GAN_loss/discrim/loss: 0.64379\n",
      "\u001b[32m[0112 23:45:10 @monitor.py:467]\u001b[0m GAN_loss/gen/final-g-loss: 1.0278\n",
      "\u001b[32m[0112 23:45:10 @monitor.py:467]\u001b[0m GAN_loss/gen/klloss: 0.036059\n",
      "\u001b[32m[0112 23:45:10 @monitor.py:467]\u001b[0m GAN_loss/gen/loss: 0.99176\n",
      "\u001b[32m[0112 23:45:10 @monitor.py:467]\u001b[0m QueueInput/queue_size: 50\n",
      "\u001b[32m[0112 23:45:10 @base.py:275]\u001b[0m Start Epoch 15 ...\n"
     ]
    },
    {
     "name": "stderr",
     "output_type": "stream",
     "text": [
      "100%|#####################################################################################|60/60[01:04<00:00, 0.92it/s]"
     ]
    },
    {
     "name": "stdout",
     "output_type": "stream",
     "text": [
      "\u001b[32m[0112 23:46:15 @base.py:285]\u001b[0m Epoch 15 (global_step 900) finished, time:1 minute 4 seconds.\n"
     ]
    },
    {
     "name": "stderr",
     "output_type": "stream",
     "text": [
      "\n"
     ]
    },
    {
     "name": "stdout",
     "output_type": "stream",
     "text": [
      "\u001b[32m[0112 23:46:16 @saver.py:79]\u001b[0m Model saved to .\\Model\\tableGAN_ckpt\\compare_adult\\tgan\\model\\model-900.\n",
      "\u001b[32m[0112 23:46:16 @monitor.py:467]\u001b[0m GAN_loss/discrim/accuracy_fake: 0.85\n",
      "\u001b[32m[0112 23:46:16 @monitor.py:467]\u001b[0m GAN_loss/discrim/accuracy_real: 0.26\n",
      "\u001b[32m[0112 23:46:16 @monitor.py:467]\u001b[0m GAN_loss/discrim/loss: 0.63852\n",
      "\u001b[32m[0112 23:46:16 @monitor.py:467]\u001b[0m GAN_loss/gen/final-g-loss: 1.0146\n",
      "\u001b[32m[0112 23:46:16 @monitor.py:467]\u001b[0m GAN_loss/gen/klloss: 0.039993\n",
      "\u001b[32m[0112 23:46:16 @monitor.py:467]\u001b[0m GAN_loss/gen/loss: 0.97459\n",
      "\u001b[32m[0112 23:46:16 @monitor.py:467]\u001b[0m QueueInput/queue_size: 50\n",
      "\u001b[32m[0112 23:46:16 @base.py:275]\u001b[0m Start Epoch 16 ...\n"
     ]
    },
    {
     "name": "stderr",
     "output_type": "stream",
     "text": [
      "100%|#####################################################################################|60/60[01:05<00:00, 0.92it/s]"
     ]
    },
    {
     "name": "stdout",
     "output_type": "stream",
     "text": [
      "\u001b[32m[0112 23:47:21 @base.py:285]\u001b[0m Epoch 16 (global_step 960) finished, time:1 minute 5 seconds.\n"
     ]
    },
    {
     "name": "stderr",
     "output_type": "stream",
     "text": [
      "\n"
     ]
    },
    {
     "name": "stdout",
     "output_type": "stream",
     "text": [
      "\u001b[32m[0112 23:47:22 @saver.py:79]\u001b[0m Model saved to .\\Model\\tableGAN_ckpt\\compare_adult\\tgan\\model\\model-960.\n",
      "\u001b[32m[0112 23:47:22 @monitor.py:467]\u001b[0m GAN_loss/discrim/accuracy_fake: 0.84\n",
      "\u001b[32m[0112 23:47:22 @monitor.py:467]\u001b[0m GAN_loss/discrim/accuracy_real: 0.234\n",
      "\u001b[32m[0112 23:47:22 @monitor.py:467]\u001b[0m GAN_loss/discrim/loss: 0.65358\n",
      "\u001b[32m[0112 23:47:22 @monitor.py:467]\u001b[0m GAN_loss/gen/final-g-loss: 1.0139\n",
      "\u001b[32m[0112 23:47:22 @monitor.py:467]\u001b[0m GAN_loss/gen/klloss: 0.061001\n",
      "\u001b[32m[0112 23:47:22 @monitor.py:467]\u001b[0m GAN_loss/gen/loss: 0.95287\n",
      "\u001b[32m[0112 23:47:22 @monitor.py:467]\u001b[0m QueueInput/queue_size: 50\n",
      "\u001b[32m[0112 23:47:22 @base.py:275]\u001b[0m Start Epoch 17 ...\n"
     ]
    },
    {
     "name": "stderr",
     "output_type": "stream",
     "text": [
      "100%|#####################################################################################|60/60[01:04<00:00, 0.93it/s]"
     ]
    },
    {
     "name": "stdout",
     "output_type": "stream",
     "text": [
      "\u001b[32m[0112 23:48:27 @base.py:285]\u001b[0m Epoch 17 (global_step 1020) finished, time:1 minute 4 seconds.\n"
     ]
    },
    {
     "name": "stderr",
     "output_type": "stream",
     "text": [
      "\n"
     ]
    },
    {
     "name": "stdout",
     "output_type": "stream",
     "text": [
      "\u001b[32m[0112 23:48:27 @saver.py:79]\u001b[0m Model saved to .\\Model\\tableGAN_ckpt\\compare_adult\\tgan\\model\\model-1020.\n",
      "\u001b[32m[0112 23:48:27 @monitor.py:467]\u001b[0m GAN_loss/discrim/accuracy_fake: 0.86\n",
      "\u001b[32m[0112 23:48:27 @monitor.py:467]\u001b[0m GAN_loss/discrim/accuracy_real: 0.22\n",
      "\u001b[32m[0112 23:48:27 @monitor.py:467]\u001b[0m GAN_loss/discrim/loss: 0.64298\n",
      "\u001b[32m[0112 23:48:27 @monitor.py:467]\u001b[0m GAN_loss/gen/final-g-loss: 0.99951\n",
      "\u001b[32m[0112 23:48:27 @monitor.py:467]\u001b[0m GAN_loss/gen/klloss: 0.029833\n",
      "\u001b[32m[0112 23:48:27 @monitor.py:467]\u001b[0m GAN_loss/gen/loss: 0.96968\n",
      "\u001b[32m[0112 23:48:27 @monitor.py:467]\u001b[0m QueueInput/queue_size: 50\n",
      "\u001b[32m[0112 23:48:27 @base.py:275]\u001b[0m Start Epoch 18 ...\n"
     ]
    },
    {
     "name": "stderr",
     "output_type": "stream",
     "text": [
      "100%|#####################################################################################|60/60[01:04<00:00, 0.92it/s]"
     ]
    },
    {
     "name": "stdout",
     "output_type": "stream",
     "text": [
      "\u001b[32m[0112 23:49:32 @base.py:285]\u001b[0m Epoch 18 (global_step 1080) finished, time:1 minute 4 seconds.\n"
     ]
    },
    {
     "name": "stderr",
     "output_type": "stream",
     "text": [
      "\n"
     ]
    },
    {
     "name": "stdout",
     "output_type": "stream",
     "text": [
      "\u001b[32m[0112 23:49:33 @saver.py:79]\u001b[0m Model saved to .\\Model\\tableGAN_ckpt\\compare_adult\\tgan\\model\\model-1080.\n",
      "\u001b[32m[0112 23:49:33 @monitor.py:467]\u001b[0m GAN_loss/discrim/accuracy_fake: 0.884\n",
      "\u001b[32m[0112 23:49:33 @monitor.py:467]\u001b[0m GAN_loss/discrim/accuracy_real: 0.218\n",
      "\u001b[32m[0112 23:49:33 @monitor.py:467]\u001b[0m GAN_loss/discrim/loss: 0.63753\n",
      "\u001b[32m[0112 23:49:33 @monitor.py:467]\u001b[0m GAN_loss/gen/final-g-loss: 1.0076\n",
      "\u001b[32m[0112 23:49:33 @monitor.py:467]\u001b[0m GAN_loss/gen/klloss: 0.024137\n",
      "\u001b[32m[0112 23:49:33 @monitor.py:467]\u001b[0m GAN_loss/gen/loss: 0.98345\n",
      "\u001b[32m[0112 23:49:33 @monitor.py:467]\u001b[0m QueueInput/queue_size: 50\n",
      "\u001b[32m[0112 23:49:33 @base.py:275]\u001b[0m Start Epoch 19 ...\n"
     ]
    },
    {
     "name": "stderr",
     "output_type": "stream",
     "text": [
      "100%|#####################################################################################|60/60[01:04<00:00, 0.92it/s]"
     ]
    },
    {
     "name": "stdout",
     "output_type": "stream",
     "text": [
      "\u001b[32m[0112 23:50:38 @base.py:285]\u001b[0m Epoch 19 (global_step 1140) finished, time:1 minute 4 seconds.\n"
     ]
    },
    {
     "name": "stderr",
     "output_type": "stream",
     "text": [
      "\n"
     ]
    },
    {
     "name": "stdout",
     "output_type": "stream",
     "text": [
      "\u001b[32m[0112 23:50:38 @saver.py:79]\u001b[0m Model saved to .\\Model\\tableGAN_ckpt\\compare_adult\\tgan\\model\\model-1140.\n",
      "\u001b[32m[0112 23:50:38 @monitor.py:467]\u001b[0m GAN_loss/discrim/accuracy_fake: 0.876\n",
      "\u001b[32m[0112 23:50:38 @monitor.py:467]\u001b[0m GAN_loss/discrim/accuracy_real: 0.244\n",
      "\u001b[32m[0112 23:50:38 @monitor.py:467]\u001b[0m GAN_loss/discrim/loss: 0.63175\n",
      "\u001b[32m[0112 23:50:38 @monitor.py:467]\u001b[0m GAN_loss/gen/final-g-loss: 1.0022\n",
      "\u001b[32m[0112 23:50:38 @monitor.py:467]\u001b[0m GAN_loss/gen/klloss: 0.015379\n",
      "\u001b[32m[0112 23:50:38 @monitor.py:467]\u001b[0m GAN_loss/gen/loss: 0.98684\n",
      "\u001b[32m[0112 23:50:38 @monitor.py:467]\u001b[0m QueueInput/queue_size: 50\n",
      "\u001b[32m[0112 23:50:38 @base.py:275]\u001b[0m Start Epoch 20 ...\n"
     ]
    },
    {
     "name": "stderr",
     "output_type": "stream",
     "text": [
      "100%|#####################################################################################|60/60[01:04<00:00, 0.93it/s]"
     ]
    },
    {
     "name": "stdout",
     "output_type": "stream",
     "text": [
      "\u001b[32m[0112 23:51:43 @base.py:285]\u001b[0m Epoch 20 (global_step 1200) finished, time:1 minute 4 seconds.\n"
     ]
    },
    {
     "name": "stderr",
     "output_type": "stream",
     "text": [
      "\n"
     ]
    },
    {
     "name": "stdout",
     "output_type": "stream",
     "text": [
      "\u001b[32m[0112 23:51:44 @saver.py:79]\u001b[0m Model saved to .\\Model\\tableGAN_ckpt\\compare_adult\\tgan\\model\\model-1200.\n",
      "\u001b[32m[0112 23:51:44 @monitor.py:467]\u001b[0m GAN_loss/discrim/accuracy_fake: 0.876\n",
      "\u001b[32m[0112 23:51:44 @monitor.py:467]\u001b[0m GAN_loss/discrim/accuracy_real: 0.258\n",
      "\u001b[32m[0112 23:51:44 @monitor.py:467]\u001b[0m GAN_loss/discrim/loss: 0.63235\n",
      "\u001b[32m[0112 23:51:44 @monitor.py:467]\u001b[0m GAN_loss/gen/final-g-loss: 1.0339\n",
      "\u001b[32m[0112 23:51:44 @monitor.py:467]\u001b[0m GAN_loss/gen/klloss: 0.045691\n",
      "\u001b[32m[0112 23:51:44 @monitor.py:467]\u001b[0m GAN_loss/gen/loss: 0.98826\n",
      "\u001b[32m[0112 23:51:44 @monitor.py:467]\u001b[0m QueueInput/queue_size: 50\n",
      "\u001b[32m[0112 23:51:44 @base.py:275]\u001b[0m Start Epoch 21 ...\n"
     ]
    },
    {
     "name": "stderr",
     "output_type": "stream",
     "text": [
      "100%|#####################################################################################|60/60[01:05<00:00, 0.92it/s]"
     ]
    },
    {
     "name": "stdout",
     "output_type": "stream",
     "text": [
      "\u001b[32m[0112 23:52:49 @base.py:285]\u001b[0m Epoch 21 (global_step 1260) finished, time:1 minute 5 seconds.\n"
     ]
    },
    {
     "name": "stderr",
     "output_type": "stream",
     "text": [
      "\n"
     ]
    },
    {
     "name": "stdout",
     "output_type": "stream",
     "text": [
      "\u001b[32m[0112 23:52:50 @saver.py:79]\u001b[0m Model saved to .\\Model\\tableGAN_ckpt\\compare_adult\\tgan\\model\\model-1260.\n",
      "\u001b[32m[0112 23:52:50 @monitor.py:467]\u001b[0m GAN_loss/discrim/accuracy_fake: 0.87\n",
      "\u001b[32m[0112 23:52:50 @monitor.py:467]\u001b[0m GAN_loss/discrim/accuracy_real: 0.248\n",
      "\u001b[32m[0112 23:52:50 @monitor.py:467]\u001b[0m GAN_loss/discrim/loss: 0.64085\n",
      "\u001b[32m[0112 23:52:50 @monitor.py:467]\u001b[0m GAN_loss/gen/final-g-loss: 1.0016\n",
      "\u001b[32m[0112 23:52:50 @monitor.py:467]\u001b[0m GAN_loss/gen/klloss: 0.032518\n",
      "\u001b[32m[0112 23:52:50 @monitor.py:467]\u001b[0m GAN_loss/gen/loss: 0.96908\n",
      "\u001b[32m[0112 23:52:50 @monitor.py:467]\u001b[0m QueueInput/queue_size: 50\n",
      "\u001b[32m[0112 23:52:50 @base.py:275]\u001b[0m Start Epoch 22 ...\n"
     ]
    },
    {
     "name": "stderr",
     "output_type": "stream",
     "text": [
      "100%|#####################################################################################|60/60[01:04<00:00, 0.93it/s]"
     ]
    },
    {
     "name": "stdout",
     "output_type": "stream",
     "text": [
      "\u001b[32m[0112 23:53:54 @base.py:285]\u001b[0m Epoch 22 (global_step 1320) finished, time:1 minute 4 seconds.\n"
     ]
    },
    {
     "name": "stderr",
     "output_type": "stream",
     "text": [
      "\n"
     ]
    },
    {
     "name": "stdout",
     "output_type": "stream",
     "text": [
      "\u001b[32m[0112 23:53:55 @saver.py:79]\u001b[0m Model saved to .\\Model\\tableGAN_ckpt\\compare_adult\\tgan\\model\\model-1320.\n",
      "\u001b[32m[0112 23:53:55 @monitor.py:467]\u001b[0m GAN_loss/discrim/accuracy_fake: 0.86\n",
      "\u001b[32m[0112 23:53:55 @monitor.py:467]\u001b[0m GAN_loss/discrim/accuracy_real: 0.258\n",
      "\u001b[32m[0112 23:53:55 @monitor.py:467]\u001b[0m GAN_loss/discrim/loss: 0.63438\n",
      "\u001b[32m[0112 23:53:55 @monitor.py:467]\u001b[0m GAN_loss/gen/final-g-loss: 1.0077\n",
      "\u001b[32m[0112 23:53:55 @monitor.py:467]\u001b[0m GAN_loss/gen/klloss: 0.035785\n",
      "\u001b[32m[0112 23:53:55 @monitor.py:467]\u001b[0m GAN_loss/gen/loss: 0.97189\n",
      "\u001b[32m[0112 23:53:55 @monitor.py:467]\u001b[0m QueueInput/queue_size: 50\n",
      "\u001b[32m[0112 23:53:55 @base.py:275]\u001b[0m Start Epoch 23 ...\n"
     ]
    },
    {
     "name": "stderr",
     "output_type": "stream",
     "text": [
      "100%|#####################################################################################|60/60[01:05<00:00, 0.91it/s]"
     ]
    },
    {
     "name": "stdout",
     "output_type": "stream",
     "text": [
      "\u001b[32m[0112 23:55:01 @base.py:285]\u001b[0m Epoch 23 (global_step 1380) finished, time:1 minute 5 seconds.\n"
     ]
    },
    {
     "name": "stderr",
     "output_type": "stream",
     "text": [
      "\n"
     ]
    },
    {
     "name": "stdout",
     "output_type": "stream",
     "text": [
      "\u001b[32m[0112 23:55:01 @saver.py:79]\u001b[0m Model saved to .\\Model\\tableGAN_ckpt\\compare_adult\\tgan\\model\\model-1380.\n",
      "\u001b[32m[0112 23:55:01 @monitor.py:467]\u001b[0m GAN_loss/discrim/accuracy_fake: 0.87\n",
      "\u001b[32m[0112 23:55:01 @monitor.py:467]\u001b[0m GAN_loss/discrim/accuracy_real: 0.202\n",
      "\u001b[32m[0112 23:55:01 @monitor.py:467]\u001b[0m GAN_loss/discrim/loss: 0.63958\n",
      "\u001b[32m[0112 23:55:01 @monitor.py:467]\u001b[0m GAN_loss/gen/final-g-loss: 1.0099\n",
      "\u001b[32m[0112 23:55:01 @monitor.py:467]\u001b[0m GAN_loss/gen/klloss: 0.022714\n",
      "\u001b[32m[0112 23:55:01 @monitor.py:467]\u001b[0m GAN_loss/gen/loss: 0.98722\n",
      "\u001b[32m[0112 23:55:01 @monitor.py:467]\u001b[0m QueueInput/queue_size: 50\n",
      "\u001b[32m[0112 23:55:01 @base.py:275]\u001b[0m Start Epoch 24 ...\n"
     ]
    },
    {
     "name": "stderr",
     "output_type": "stream",
     "text": [
      "100%|#####################################################################################|60/60[01:05<00:00, 0.92it/s]"
     ]
    },
    {
     "name": "stdout",
     "output_type": "stream",
     "text": [
      "\u001b[32m[0112 23:56:07 @base.py:285]\u001b[0m Epoch 24 (global_step 1440) finished, time:1 minute 5 seconds.\n"
     ]
    },
    {
     "name": "stderr",
     "output_type": "stream",
     "text": [
      "\n"
     ]
    },
    {
     "name": "stdout",
     "output_type": "stream",
     "text": [
      "\u001b[32m[0112 23:56:07 @saver.py:79]\u001b[0m Model saved to .\\Model\\tableGAN_ckpt\\compare_adult\\tgan\\model\\model-1440.\n",
      "\u001b[32m[0112 23:56:08 @monitor.py:467]\u001b[0m GAN_loss/discrim/accuracy_fake: 0.868\n",
      "\u001b[32m[0112 23:56:08 @monitor.py:467]\u001b[0m GAN_loss/discrim/accuracy_real: 0.238\n",
      "\u001b[32m[0112 23:56:08 @monitor.py:467]\u001b[0m GAN_loss/discrim/loss: 0.63588\n",
      "\u001b[32m[0112 23:56:08 @monitor.py:467]\u001b[0m GAN_loss/gen/final-g-loss: 1.0327\n",
      "\u001b[32m[0112 23:56:08 @monitor.py:467]\u001b[0m GAN_loss/gen/klloss: 0.049684\n",
      "\u001b[32m[0112 23:56:08 @monitor.py:467]\u001b[0m GAN_loss/gen/loss: 0.98303\n",
      "\u001b[32m[0112 23:56:08 @monitor.py:467]\u001b[0m QueueInput/queue_size: 50\n",
      "\u001b[32m[0112 23:56:08 @base.py:275]\u001b[0m Start Epoch 25 ...\n"
     ]
    },
    {
     "name": "stderr",
     "output_type": "stream",
     "text": [
      "100%|#####################################################################################|60/60[01:05<00:00, 0.92it/s]"
     ]
    },
    {
     "name": "stdout",
     "output_type": "stream",
     "text": [
      "\u001b[32m[0112 23:57:13 @base.py:285]\u001b[0m Epoch 25 (global_step 1500) finished, time:1 minute 5 seconds.\n"
     ]
    },
    {
     "name": "stderr",
     "output_type": "stream",
     "text": [
      "\n"
     ]
    },
    {
     "name": "stdout",
     "output_type": "stream",
     "text": [
      "\u001b[32m[0112 23:57:13 @saver.py:79]\u001b[0m Model saved to .\\Model\\tableGAN_ckpt\\compare_adult\\tgan\\model\\model-1500.\n",
      "\u001b[32m[0112 23:57:13 @monitor.py:467]\u001b[0m GAN_loss/discrim/accuracy_fake: 0.862\n",
      "\u001b[32m[0112 23:57:13 @monitor.py:467]\u001b[0m GAN_loss/discrim/accuracy_real: 0.24\n",
      "\u001b[32m[0112 23:57:13 @monitor.py:467]\u001b[0m GAN_loss/discrim/loss: 0.63629\n",
      "\u001b[32m[0112 23:57:13 @monitor.py:467]\u001b[0m GAN_loss/gen/final-g-loss: 1.0111\n",
      "\u001b[32m[0112 23:57:13 @monitor.py:467]\u001b[0m GAN_loss/gen/klloss: 0.035092\n",
      "\u001b[32m[0112 23:57:13 @monitor.py:467]\u001b[0m GAN_loss/gen/loss: 0.97604\n",
      "\u001b[32m[0112 23:57:13 @monitor.py:467]\u001b[0m QueueInput/queue_size: 50\n",
      "\u001b[32m[0112 23:57:13 @base.py:275]\u001b[0m Start Epoch 26 ...\n"
     ]
    },
    {
     "name": "stderr",
     "output_type": "stream",
     "text": [
      "100%|#####################################################################################|60/60[01:05<00:00, 0.92it/s]"
     ]
    },
    {
     "name": "stdout",
     "output_type": "stream",
     "text": [
      "\u001b[32m[0112 23:58:18 @base.py:285]\u001b[0m Epoch 26 (global_step 1560) finished, time:1 minute 5 seconds.\n"
     ]
    },
    {
     "name": "stderr",
     "output_type": "stream",
     "text": [
      "\n"
     ]
    },
    {
     "name": "stdout",
     "output_type": "stream",
     "text": [
      "\u001b[32m[0112 23:58:19 @saver.py:79]\u001b[0m Model saved to .\\Model\\tableGAN_ckpt\\compare_adult\\tgan\\model\\model-1560.\n",
      "\u001b[32m[0112 23:58:19 @monitor.py:467]\u001b[0m GAN_loss/discrim/accuracy_fake: 0.846\n",
      "\u001b[32m[0112 23:58:19 @monitor.py:467]\u001b[0m GAN_loss/discrim/accuracy_real: 0.248\n",
      "\u001b[32m[0112 23:58:19 @monitor.py:467]\u001b[0m GAN_loss/discrim/loss: 0.64389\n",
      "\u001b[32m[0112 23:58:19 @monitor.py:467]\u001b[0m GAN_loss/gen/final-g-loss: 1.0156\n",
      "\u001b[32m[0112 23:58:19 @monitor.py:467]\u001b[0m GAN_loss/gen/klloss: 0.042603\n",
      "\u001b[32m[0112 23:58:19 @monitor.py:467]\u001b[0m GAN_loss/gen/loss: 0.97299\n",
      "\u001b[32m[0112 23:58:19 @monitor.py:467]\u001b[0m QueueInput/queue_size: 50\n",
      "\u001b[32m[0112 23:58:19 @base.py:275]\u001b[0m Start Epoch 27 ...\n"
     ]
    },
    {
     "name": "stderr",
     "output_type": "stream",
     "text": [
      "100%|#####################################################################################|60/60[01:07<00:00, 0.89it/s]"
     ]
    },
    {
     "name": "stdout",
     "output_type": "stream",
     "text": [
      "\u001b[32m[0112 23:59:27 @base.py:285]\u001b[0m Epoch 27 (global_step 1620) finished, time:1 minute 7 seconds.\n"
     ]
    },
    {
     "name": "stderr",
     "output_type": "stream",
     "text": [
      "\n"
     ]
    },
    {
     "name": "stdout",
     "output_type": "stream",
     "text": [
      "\u001b[32m[0112 23:59:28 @saver.py:79]\u001b[0m Model saved to .\\Model\\tableGAN_ckpt\\compare_adult\\tgan\\model\\model-1620.\n",
      "\u001b[32m[0112 23:59:28 @monitor.py:467]\u001b[0m GAN_loss/discrim/accuracy_fake: 0.868\n",
      "\u001b[32m[0112 23:59:28 @monitor.py:467]\u001b[0m GAN_loss/discrim/accuracy_real: 0.236\n",
      "\u001b[32m[0112 23:59:28 @monitor.py:467]\u001b[0m GAN_loss/discrim/loss: 0.64364\n",
      "\u001b[32m[0112 23:59:28 @monitor.py:467]\u001b[0m GAN_loss/gen/final-g-loss: 1.0331\n",
      "\u001b[32m[0112 23:59:28 @monitor.py:467]\u001b[0m GAN_loss/gen/klloss: 0.045167\n",
      "\u001b[32m[0112 23:59:28 @monitor.py:467]\u001b[0m GAN_loss/gen/loss: 0.98797\n",
      "\u001b[32m[0112 23:59:28 @monitor.py:467]\u001b[0m QueueInput/queue_size: 50\n",
      "\u001b[32m[0112 23:59:28 @base.py:275]\u001b[0m Start Epoch 28 ...\n"
     ]
    },
    {
     "name": "stderr",
     "output_type": "stream",
     "text": [
      "100%|#####################################################################################|60/60[01:09<00:00, 0.86it/s]"
     ]
    },
    {
     "name": "stdout",
     "output_type": "stream",
     "text": [
      "\u001b[32m[0113 00:00:37 @base.py:285]\u001b[0m Epoch 28 (global_step 1680) finished, time:1 minute 9 seconds.\n"
     ]
    },
    {
     "name": "stderr",
     "output_type": "stream",
     "text": [
      "\n"
     ]
    },
    {
     "name": "stdout",
     "output_type": "stream",
     "text": [
      "\u001b[32m[0113 00:00:38 @saver.py:79]\u001b[0m Model saved to .\\Model\\tableGAN_ckpt\\compare_adult\\tgan\\model\\model-1680.\n",
      "\u001b[32m[0113 00:00:38 @monitor.py:467]\u001b[0m GAN_loss/discrim/accuracy_fake: 0.86\n",
      "\u001b[32m[0113 00:00:38 @monitor.py:467]\u001b[0m GAN_loss/discrim/accuracy_real: 0.224\n",
      "\u001b[32m[0113 00:00:38 @monitor.py:467]\u001b[0m GAN_loss/discrim/loss: 0.6422\n",
      "\u001b[32m[0113 00:00:38 @monitor.py:467]\u001b[0m GAN_loss/gen/final-g-loss: 1.0234\n",
      "\u001b[32m[0113 00:00:38 @monitor.py:467]\u001b[0m GAN_loss/gen/klloss: 0.035477\n",
      "\u001b[32m[0113 00:00:38 @monitor.py:467]\u001b[0m GAN_loss/gen/loss: 0.98787\n",
      "\u001b[32m[0113 00:00:38 @monitor.py:467]\u001b[0m QueueInput/queue_size: 50\n",
      "\u001b[32m[0113 00:00:38 @base.py:275]\u001b[0m Start Epoch 29 ...\n"
     ]
    },
    {
     "name": "stderr",
     "output_type": "stream",
     "text": [
      "100%|#####################################################################################|60/60[01:07<00:00, 0.89it/s]"
     ]
    },
    {
     "name": "stdout",
     "output_type": "stream",
     "text": [
      "\u001b[32m[0113 00:01:45 @base.py:285]\u001b[0m Epoch 29 (global_step 1740) finished, time:1 minute 7 seconds.\n"
     ]
    },
    {
     "name": "stderr",
     "output_type": "stream",
     "text": [
      "\n"
     ]
    },
    {
     "name": "stdout",
     "output_type": "stream",
     "text": [
      "\u001b[32m[0113 00:01:46 @saver.py:79]\u001b[0m Model saved to .\\Model\\tableGAN_ckpt\\compare_adult\\tgan\\model\\model-1740.\n",
      "\u001b[32m[0113 00:01:46 @monitor.py:467]\u001b[0m GAN_loss/discrim/accuracy_fake: 0.84\n",
      "\u001b[32m[0113 00:01:46 @monitor.py:467]\u001b[0m GAN_loss/discrim/accuracy_real: 0.26\n",
      "\u001b[32m[0113 00:01:46 @monitor.py:467]\u001b[0m GAN_loss/discrim/loss: 0.64056\n",
      "\u001b[32m[0113 00:01:46 @monitor.py:467]\u001b[0m GAN_loss/gen/final-g-loss: 1.0178\n",
      "\u001b[32m[0113 00:01:46 @monitor.py:467]\u001b[0m GAN_loss/gen/klloss: 0.043241\n",
      "\u001b[32m[0113 00:01:46 @monitor.py:467]\u001b[0m GAN_loss/gen/loss: 0.97458\n",
      "\u001b[32m[0113 00:01:46 @monitor.py:467]\u001b[0m QueueInput/queue_size: 50\n",
      "\u001b[32m[0113 00:01:46 @base.py:275]\u001b[0m Start Epoch 30 ...\n"
     ]
    },
    {
     "name": "stderr",
     "output_type": "stream",
     "text": [
      "100%|#####################################################################################|60/60[01:09<00:00, 0.87it/s]"
     ]
    },
    {
     "name": "stdout",
     "output_type": "stream",
     "text": [
      "\u001b[32m[0113 00:02:55 @base.py:285]\u001b[0m Epoch 30 (global_step 1800) finished, time:1 minute 9 seconds.\n"
     ]
    },
    {
     "name": "stderr",
     "output_type": "stream",
     "text": [
      "\n"
     ]
    },
    {
     "name": "stdout",
     "output_type": "stream",
     "text": [
      "\u001b[32m[0113 00:02:56 @saver.py:79]\u001b[0m Model saved to .\\Model\\tableGAN_ckpt\\compare_adult\\tgan\\model\\model-1800.\n",
      "\u001b[32m[0113 00:02:56 @monitor.py:467]\u001b[0m GAN_loss/discrim/accuracy_fake: 0.892\n",
      "\u001b[32m[0113 00:02:56 @monitor.py:467]\u001b[0m GAN_loss/discrim/accuracy_real: 0.248\n",
      "\u001b[32m[0113 00:02:56 @monitor.py:467]\u001b[0m GAN_loss/discrim/loss: 0.63452\n",
      "\u001b[32m[0113 00:02:56 @monitor.py:467]\u001b[0m GAN_loss/gen/final-g-loss: 1.0207\n",
      "\u001b[32m[0113 00:02:56 @monitor.py:467]\u001b[0m GAN_loss/gen/klloss: 0.040896\n",
      "\u001b[32m[0113 00:02:56 @monitor.py:467]\u001b[0m GAN_loss/gen/loss: 0.97983\n",
      "\u001b[32m[0113 00:02:56 @monitor.py:467]\u001b[0m QueueInput/queue_size: 50\n",
      "\u001b[32m[0113 00:02:56 @base.py:275]\u001b[0m Start Epoch 31 ...\n"
     ]
    },
    {
     "name": "stderr",
     "output_type": "stream",
     "text": [
      "100%|#####################################################################################|60/60[01:10<00:00, 0.85it/s]"
     ]
    },
    {
     "name": "stdout",
     "output_type": "stream",
     "text": [
      "\u001b[32m[0113 00:04:07 @base.py:285]\u001b[0m Epoch 31 (global_step 1860) finished, time:1 minute 10 seconds.\n"
     ]
    },
    {
     "name": "stderr",
     "output_type": "stream",
     "text": [
      "\n"
     ]
    },
    {
     "name": "stdout",
     "output_type": "stream",
     "text": [
      "\u001b[32m[0113 00:04:07 @saver.py:79]\u001b[0m Model saved to .\\Model\\tableGAN_ckpt\\compare_adult\\tgan\\model\\model-1860.\n",
      "\u001b[32m[0113 00:04:07 @monitor.py:467]\u001b[0m GAN_loss/discrim/accuracy_fake: 0.894\n",
      "\u001b[32m[0113 00:04:07 @monitor.py:467]\u001b[0m GAN_loss/discrim/accuracy_real: 0.19\n",
      "\u001b[32m[0113 00:04:07 @monitor.py:467]\u001b[0m GAN_loss/discrim/loss: 0.63932\n",
      "\u001b[32m[0113 00:04:07 @monitor.py:467]\u001b[0m GAN_loss/gen/final-g-loss: 0.99964\n",
      "\u001b[32m[0113 00:04:07 @monitor.py:467]\u001b[0m GAN_loss/gen/klloss: 0.023791\n",
      "\u001b[32m[0113 00:04:07 @monitor.py:467]\u001b[0m GAN_loss/gen/loss: 0.97585\n",
      "\u001b[32m[0113 00:04:07 @monitor.py:467]\u001b[0m QueueInput/queue_size: 50\n",
      "\u001b[32m[0113 00:04:07 @base.py:275]\u001b[0m Start Epoch 32 ...\n"
     ]
    },
    {
     "name": "stderr",
     "output_type": "stream",
     "text": [
      "100%|#####################################################################################|60/60[01:06<00:00, 0.90it/s]"
     ]
    },
    {
     "name": "stdout",
     "output_type": "stream",
     "text": [
      "\u001b[32m[0113 00:05:14 @base.py:285]\u001b[0m Epoch 32 (global_step 1920) finished, time:1 minute 6 seconds.\n"
     ]
    },
    {
     "name": "stderr",
     "output_type": "stream",
     "text": [
      "\n"
     ]
    },
    {
     "name": "stdout",
     "output_type": "stream",
     "text": [
      "\u001b[32m[0113 00:05:15 @saver.py:79]\u001b[0m Model saved to .\\Model\\tableGAN_ckpt\\compare_adult\\tgan\\model\\model-1920.\n",
      "\u001b[32m[0113 00:05:15 @monitor.py:467]\u001b[0m GAN_loss/discrim/accuracy_fake: 0.884\n",
      "\u001b[32m[0113 00:05:15 @monitor.py:467]\u001b[0m GAN_loss/discrim/accuracy_real: 0.242\n",
      "\u001b[32m[0113 00:05:15 @monitor.py:467]\u001b[0m GAN_loss/discrim/loss: 0.64074\n",
      "\u001b[32m[0113 00:05:15 @monitor.py:467]\u001b[0m GAN_loss/gen/final-g-loss: 0.99912\n",
      "\u001b[32m[0113 00:05:15 @monitor.py:467]\u001b[0m GAN_loss/gen/klloss: 0.029544\n",
      "\u001b[32m[0113 00:05:15 @monitor.py:467]\u001b[0m GAN_loss/gen/loss: 0.96957\n",
      "\u001b[32m[0113 00:05:15 @monitor.py:467]\u001b[0m QueueInput/queue_size: 50\n",
      "\u001b[32m[0113 00:05:15 @base.py:275]\u001b[0m Start Epoch 33 ...\n"
     ]
    },
    {
     "name": "stderr",
     "output_type": "stream",
     "text": [
      "100%|#####################################################################################|60/60[01:06<00:00, 0.91it/s]"
     ]
    },
    {
     "name": "stdout",
     "output_type": "stream",
     "text": [
      "\u001b[32m[0113 00:06:21 @base.py:285]\u001b[0m Epoch 33 (global_step 1980) finished, time:1 minute 6 seconds.\n"
     ]
    },
    {
     "name": "stderr",
     "output_type": "stream",
     "text": [
      "\n"
     ]
    },
    {
     "name": "stdout",
     "output_type": "stream",
     "text": [
      "\u001b[32m[0113 00:06:22 @saver.py:79]\u001b[0m Model saved to .\\Model\\tableGAN_ckpt\\compare_adult\\tgan\\model\\model-1980.\n",
      "\u001b[32m[0113 00:06:22 @monitor.py:467]\u001b[0m GAN_loss/discrim/accuracy_fake: 0.884\n",
      "\u001b[32m[0113 00:06:22 @monitor.py:467]\u001b[0m GAN_loss/discrim/accuracy_real: 0.204\n",
      "\u001b[32m[0113 00:06:22 @monitor.py:467]\u001b[0m GAN_loss/discrim/loss: 0.64474\n",
      "\u001b[32m[0113 00:06:22 @monitor.py:467]\u001b[0m GAN_loss/gen/final-g-loss: 0.97427\n",
      "\u001b[32m[0113 00:06:22 @monitor.py:467]\u001b[0m GAN_loss/gen/klloss: 0.019515\n",
      "\u001b[32m[0113 00:06:22 @monitor.py:467]\u001b[0m GAN_loss/gen/loss: 0.95475\n",
      "\u001b[32m[0113 00:06:22 @monitor.py:467]\u001b[0m QueueInput/queue_size: 50\n",
      "\u001b[32m[0113 00:06:22 @base.py:275]\u001b[0m Start Epoch 34 ...\n"
     ]
    },
    {
     "name": "stderr",
     "output_type": "stream",
     "text": [
      "100%|#####################################################################################|60/60[01:05<00:00, 0.92it/s]"
     ]
    },
    {
     "name": "stdout",
     "output_type": "stream",
     "text": [
      "\u001b[32m[0113 00:07:28 @base.py:285]\u001b[0m Epoch 34 (global_step 2040) finished, time:1 minute 5 seconds.\n"
     ]
    },
    {
     "name": "stderr",
     "output_type": "stream",
     "text": [
      "\n"
     ]
    },
    {
     "name": "stdout",
     "output_type": "stream",
     "text": [
      "\u001b[32m[0113 00:07:28 @saver.py:79]\u001b[0m Model saved to .\\Model\\tableGAN_ckpt\\compare_adult\\tgan\\model\\model-2040.\n",
      "\u001b[32m[0113 00:07:28 @monitor.py:467]\u001b[0m GAN_loss/discrim/accuracy_fake: 0.866\n",
      "\u001b[32m[0113 00:07:28 @monitor.py:467]\u001b[0m GAN_loss/discrim/accuracy_real: 0.174\n",
      "\u001b[32m[0113 00:07:28 @monitor.py:467]\u001b[0m GAN_loss/discrim/loss: 0.64805\n",
      "\u001b[32m[0113 00:07:28 @monitor.py:467]\u001b[0m GAN_loss/gen/final-g-loss: 0.97498\n",
      "\u001b[32m[0113 00:07:28 @monitor.py:467]\u001b[0m GAN_loss/gen/klloss: 0.025274\n",
      "\u001b[32m[0113 00:07:28 @monitor.py:467]\u001b[0m GAN_loss/gen/loss: 0.94971\n",
      "\u001b[32m[0113 00:07:28 @monitor.py:467]\u001b[0m QueueInput/queue_size: 50\n",
      "\u001b[32m[0113 00:07:28 @base.py:275]\u001b[0m Start Epoch 35 ...\n"
     ]
    },
    {
     "name": "stderr",
     "output_type": "stream",
     "text": [
      "100%|#####################################################################################|60/60[01:05<00:00, 0.92it/s]"
     ]
    },
    {
     "name": "stdout",
     "output_type": "stream",
     "text": [
      "\u001b[32m[0113 00:08:34 @base.py:285]\u001b[0m Epoch 35 (global_step 2100) finished, time:1 minute 5 seconds.\n"
     ]
    },
    {
     "name": "stderr",
     "output_type": "stream",
     "text": [
      "\n"
     ]
    },
    {
     "name": "stdout",
     "output_type": "stream",
     "text": [
      "\u001b[32m[0113 00:08:34 @saver.py:79]\u001b[0m Model saved to .\\Model\\tableGAN_ckpt\\compare_adult\\tgan\\model\\model-2100.\n",
      "\u001b[32m[0113 00:08:34 @monitor.py:467]\u001b[0m GAN_loss/discrim/accuracy_fake: 0.884\n",
      "\u001b[32m[0113 00:08:34 @monitor.py:467]\u001b[0m GAN_loss/discrim/accuracy_real: 0.182\n",
      "\u001b[32m[0113 00:08:34 @monitor.py:467]\u001b[0m GAN_loss/discrim/loss: 0.64258\n",
      "\u001b[32m[0113 00:08:34 @monitor.py:467]\u001b[0m GAN_loss/gen/final-g-loss: 0.99164\n",
      "\u001b[32m[0113 00:08:34 @monitor.py:467]\u001b[0m GAN_loss/gen/klloss: 0.029405\n",
      "\u001b[32m[0113 00:08:34 @monitor.py:467]\u001b[0m GAN_loss/gen/loss: 0.96223\n",
      "\u001b[32m[0113 00:08:34 @monitor.py:467]\u001b[0m QueueInput/queue_size: 50\n",
      "\u001b[32m[0113 00:08:34 @base.py:275]\u001b[0m Start Epoch 36 ...\n"
     ]
    },
    {
     "name": "stderr",
     "output_type": "stream",
     "text": [
      "100%|#####################################################################################|60/60[01:05<00:00, 0.92it/s]"
     ]
    },
    {
     "name": "stdout",
     "output_type": "stream",
     "text": [
      "\u001b[32m[0113 00:09:40 @base.py:285]\u001b[0m Epoch 36 (global_step 2160) finished, time:1 minute 5 seconds.\n"
     ]
    },
    {
     "name": "stderr",
     "output_type": "stream",
     "text": [
      "\n"
     ]
    },
    {
     "name": "stdout",
     "output_type": "stream",
     "text": [
      "\u001b[32m[0113 00:09:41 @saver.py:79]\u001b[0m Model saved to .\\Model\\tableGAN_ckpt\\compare_adult\\tgan\\model\\model-2160.\n",
      "\u001b[32m[0113 00:09:41 @monitor.py:467]\u001b[0m GAN_loss/discrim/accuracy_fake: 0.918\n",
      "\u001b[32m[0113 00:09:41 @monitor.py:467]\u001b[0m GAN_loss/discrim/accuracy_real: 0.168\n",
      "\u001b[32m[0113 00:09:41 @monitor.py:467]\u001b[0m GAN_loss/discrim/loss: 0.64292\n",
      "\u001b[32m[0113 00:09:41 @monitor.py:467]\u001b[0m GAN_loss/gen/final-g-loss: 0.98339\n",
      "\u001b[32m[0113 00:09:41 @monitor.py:467]\u001b[0m GAN_loss/gen/klloss: 0.027183\n",
      "\u001b[32m[0113 00:09:41 @monitor.py:467]\u001b[0m GAN_loss/gen/loss: 0.9562\n",
      "\u001b[32m[0113 00:09:41 @monitor.py:467]\u001b[0m QueueInput/queue_size: 50\n",
      "\u001b[32m[0113 00:09:41 @base.py:275]\u001b[0m Start Epoch 37 ...\n"
     ]
    },
    {
     "name": "stderr",
     "output_type": "stream",
     "text": [
      "100%|#####################################################################################|60/60[01:04<00:00, 0.92it/s]"
     ]
    },
    {
     "name": "stdout",
     "output_type": "stream",
     "text": [
      "\u001b[32m[0113 00:10:46 @base.py:285]\u001b[0m Epoch 37 (global_step 2220) finished, time:1 minute 4 seconds.\n"
     ]
    },
    {
     "name": "stderr",
     "output_type": "stream",
     "text": [
      "\n"
     ]
    },
    {
     "name": "stdout",
     "output_type": "stream",
     "text": [
      "\u001b[32m[0113 00:10:47 @saver.py:79]\u001b[0m Model saved to .\\Model\\tableGAN_ckpt\\compare_adult\\tgan\\model\\model-2220.\n",
      "\u001b[32m[0113 00:10:47 @monitor.py:467]\u001b[0m GAN_loss/discrim/accuracy_fake: 0.894\n",
      "\u001b[32m[0113 00:10:47 @monitor.py:467]\u001b[0m GAN_loss/discrim/accuracy_real: 0.18\n",
      "\u001b[32m[0113 00:10:47 @monitor.py:467]\u001b[0m GAN_loss/discrim/loss: 0.64763\n",
      "\u001b[32m[0113 00:10:47 @monitor.py:467]\u001b[0m GAN_loss/gen/final-g-loss: 0.99643\n",
      "\u001b[32m[0113 00:10:47 @monitor.py:467]\u001b[0m GAN_loss/gen/klloss: 0.031538\n",
      "\u001b[32m[0113 00:10:47 @monitor.py:467]\u001b[0m GAN_loss/gen/loss: 0.96489\n",
      "\u001b[32m[0113 00:10:47 @monitor.py:467]\u001b[0m QueueInput/queue_size: 50\n",
      "\u001b[32m[0113 00:10:47 @base.py:275]\u001b[0m Start Epoch 38 ...\n"
     ]
    },
    {
     "name": "stderr",
     "output_type": "stream",
     "text": [
      "100%|#####################################################################################|60/60[01:04<00:00, 0.92it/s]"
     ]
    },
    {
     "name": "stdout",
     "output_type": "stream",
     "text": [
      "\u001b[32m[0113 00:11:52 @base.py:285]\u001b[0m Epoch 38 (global_step 2280) finished, time:1 minute 4 seconds.\n"
     ]
    },
    {
     "name": "stderr",
     "output_type": "stream",
     "text": [
      "\n"
     ]
    },
    {
     "name": "stdout",
     "output_type": "stream",
     "text": [
      "\u001b[32m[0113 00:11:52 @saver.py:79]\u001b[0m Model saved to .\\Model\\tableGAN_ckpt\\compare_adult\\tgan\\model\\model-2280.\n",
      "\u001b[32m[0113 00:11:52 @monitor.py:467]\u001b[0m GAN_loss/discrim/accuracy_fake: 0.892\n",
      "\u001b[32m[0113 00:11:52 @monitor.py:467]\u001b[0m GAN_loss/discrim/accuracy_real: 0.146\n",
      "\u001b[32m[0113 00:11:52 @monitor.py:467]\u001b[0m GAN_loss/discrim/loss: 0.65294\n",
      "\u001b[32m[0113 00:11:52 @monitor.py:467]\u001b[0m GAN_loss/gen/final-g-loss: 0.96007\n",
      "\u001b[32m[0113 00:11:52 @monitor.py:467]\u001b[0m GAN_loss/gen/klloss: 0.022056\n",
      "\u001b[32m[0113 00:11:52 @monitor.py:467]\u001b[0m GAN_loss/gen/loss: 0.93801\n",
      "\u001b[32m[0113 00:11:52 @monitor.py:467]\u001b[0m QueueInput/queue_size: 50\n",
      "\u001b[32m[0113 00:11:52 @base.py:275]\u001b[0m Start Epoch 39 ...\n"
     ]
    },
    {
     "name": "stderr",
     "output_type": "stream",
     "text": [
      "100%|#####################################################################################|60/60[01:05<00:00, 0.91it/s]"
     ]
    },
    {
     "name": "stdout",
     "output_type": "stream",
     "text": [
      "\u001b[32m[0113 00:12:58 @base.py:285]\u001b[0m Epoch 39 (global_step 2340) finished, time:1 minute 5 seconds.\n"
     ]
    },
    {
     "name": "stderr",
     "output_type": "stream",
     "text": [
      "\n"
     ]
    },
    {
     "name": "stdout",
     "output_type": "stream",
     "text": [
      "\u001b[32m[0113 00:12:59 @saver.py:79]\u001b[0m Model saved to .\\Model\\tableGAN_ckpt\\compare_adult\\tgan\\model\\model-2340.\n",
      "\u001b[32m[0113 00:12:59 @monitor.py:467]\u001b[0m GAN_loss/discrim/accuracy_fake: 0.92\n",
      "\u001b[32m[0113 00:12:59 @monitor.py:467]\u001b[0m GAN_loss/discrim/accuracy_real: 0.136\n",
      "\u001b[32m[0113 00:12:59 @monitor.py:467]\u001b[0m GAN_loss/discrim/loss: 0.64624\n",
      "\u001b[32m[0113 00:12:59 @monitor.py:467]\u001b[0m GAN_loss/gen/final-g-loss: 0.96211\n",
      "\u001b[32m[0113 00:12:59 @monitor.py:467]\u001b[0m GAN_loss/gen/klloss: 0.017938\n",
      "\u001b[32m[0113 00:12:59 @monitor.py:467]\u001b[0m GAN_loss/gen/loss: 0.94418\n",
      "\u001b[32m[0113 00:12:59 @monitor.py:467]\u001b[0m QueueInput/queue_size: 50\n",
      "\u001b[32m[0113 00:12:59 @base.py:275]\u001b[0m Start Epoch 40 ...\n"
     ]
    },
    {
     "name": "stderr",
     "output_type": "stream",
     "text": [
      "100%|#####################################################################################|60/60[01:05<00:00, 0.92it/s]"
     ]
    },
    {
     "name": "stdout",
     "output_type": "stream",
     "text": [
      "\u001b[32m[0113 00:14:04 @base.py:285]\u001b[0m Epoch 40 (global_step 2400) finished, time:1 minute 5 seconds.\n"
     ]
    },
    {
     "name": "stderr",
     "output_type": "stream",
     "text": [
      "\n"
     ]
    },
    {
     "name": "stdout",
     "output_type": "stream",
     "text": [
      "\u001b[32m[0113 00:14:05 @saver.py:79]\u001b[0m Model saved to .\\Model\\tableGAN_ckpt\\compare_adult\\tgan\\model\\model-2400.\n",
      "\u001b[32m[0113 00:14:05 @monitor.py:467]\u001b[0m GAN_loss/discrim/accuracy_fake: 0.908\n",
      "\u001b[32m[0113 00:14:05 @monitor.py:467]\u001b[0m GAN_loss/discrim/accuracy_real: 0.138\n",
      "\u001b[32m[0113 00:14:05 @monitor.py:467]\u001b[0m GAN_loss/discrim/loss: 0.64848\n",
      "\u001b[32m[0113 00:14:05 @monitor.py:467]\u001b[0m GAN_loss/gen/final-g-loss: 0.96382\n",
      "\u001b[32m[0113 00:14:05 @monitor.py:467]\u001b[0m GAN_loss/gen/klloss: 0.024722\n",
      "\u001b[32m[0113 00:14:05 @monitor.py:467]\u001b[0m GAN_loss/gen/loss: 0.9391\n",
      "\u001b[32m[0113 00:14:05 @monitor.py:467]\u001b[0m QueueInput/queue_size: 50\n",
      "\u001b[32m[0113 00:14:05 @base.py:289]\u001b[0m Training has finished!\n",
      "WARNING:tensorflow:From C:\\Users\\Arne\\anaconda3\\envs\\tfv1\\lib\\site-packages\\tensorpack\\predict\\config.py:101: The name tf.train.ChiefSessionCreator is deprecated. Please use tf.compat.v1.train.ChiefSessionCreator instead.\n",
      "\n",
      "\u001b[32m[0113 00:14:06 @input_source.py:178]\u001b[0m EnqueueThread QueueInput/input_queue Exited.\n",
      "WARNING:tensorflow:From C:\\Users\\Arne\\anaconda3\\envs\\tfv1\\lib\\site-packages\\tensorpack\\tfutils\\collection.py:45: The name tf.get_collection_ref is deprecated. Please use tf.compat.v1.get_collection_ref instead.\n",
      "\n",
      "\u001b[32m[0113 00:14:06 @collection.py:146]\u001b[0m New collections created in tower : tf.GraphKeys.REGULARIZATION_LOSSES\n",
      "\u001b[32m[0113 00:14:06 @collection.py:165]\u001b[0m These collections were modified but restored in : (tf.GraphKeys.SUMMARIES: 0->2)\n",
      "WARNING:tensorflow:From C:\\Users\\Arne\\anaconda3\\envs\\tfv1\\lib\\site-packages\\tensorpack\\tfutils\\sessinit.py:120: The name tf.train.NewCheckpointReader is deprecated. Please use tf.compat.v1.train.NewCheckpointReader instead.\n",
      "\n",
      "WARNING:tensorflow:From C:\\Users\\Arne\\anaconda3\\envs\\tfv1\\lib\\site-packages\\tensorpack\\tfutils\\sessinit.py:127: The name tf.global_variables is deprecated. Please use tf.compat.v1.global_variables instead.\n",
      "\n",
      "\u001b[32m[0113 00:14:06 @sessinit.py:87]\u001b[0m \u001b[5m\u001b[31mWRN\u001b[0m The following variables are in the checkpoint, but not found in the graph: global_step, optimize/beta1_power, optimize/beta2_power\n",
      "INFO:tensorflow:Graph was finalized.\n",
      "INFO:tensorflow:Running local_init_op.\n",
      "INFO:tensorflow:Done running local_init_op.\n",
      "\u001b[32m[0113 00:14:07 @sessinit.py:114]\u001b[0m Restoring checkpoint from .\\Model\\tableGAN_ckpt\\compare_adult\\tgan\\model\\model-2400 ...\n",
      "INFO:tensorflow:Restoring parameters from .\\Model\\tableGAN_ckpt\\compare_adult\\tgan\\model\\model-2400\n",
      "Elapsed time for TGAN: 2684.380 seconds\n"
     ]
    }
   ],
   "source": [
    "if retrain:\n",
    "    tf.reset_default_graph()\n",
    "    timer_tgan = load_timer(timer_path)\n",
    "    timer_tgan.start(\"TGAN\")\n",
    "    tgan = TGANModel(columns_num, output = model_dir + \"tgan\", \n",
    "                     max_epoch = 40, steps_per_epoch = data_train.shape[0] / batch_size, batch_size=batch_size,\n",
    "                     num_dis_hidden = 256,\n",
    "                    restore_session = False, save_checkpoints = True)\n",
    "    tgan.fit(data_train)\n",
    "    timer_tgan.stop(\"TGAN\")\n",
    "    timer_tgan.save(timer_path)\n"
   ]
  },
  {
   "cell_type": "code",
   "execution_count": 10,
   "id": "9203a346",
   "metadata": {},
   "outputs": [
    {
     "name": "stderr",
     "output_type": "stream",
     "text": [
      " 12%|##########                                                                          |60/500[00:15<01:55, 3.80it/s]\n",
      "  6%|#####                                                                               |30/500[00:08<02:05, 3.74it/s]\n"
     ]
    }
   ],
   "source": [
    "tgan_synthetic_data_train = tgan.sample(ceil(data_train.shape[0] / batch_size) * batch_size).head(data_train.shape[0])\n",
    "tgan_synthetic_data_train.to_csv(\"Datasets//tgan_synthetic_train_dataset.csv\", index=False)\n",
    "tgan_synthetic_data_test = tgan.sample(ceil(data_test.shape[0] / batch_size) * batch_size).head(data_test.shape[0])\n",
    "tgan_synthetic_data_test.to_csv(\"Datasets//tgan_synthetic_test_dataset.csv\", index=False)"
   ]
  },
  {
   "cell_type": "code",
   "execution_count": 10,
   "id": "2e38c995",
   "metadata": {},
   "outputs": [
    {
     "name": "stdout",
     "output_type": "stream",
     "text": [
      "30162 vs 30162\n",
      "15060 vs 15060\n"
     ]
    }
   ],
   "source": [
    "print(tgan_synthetic_data_train.shape[0], \"vs\", data_train.shape[0])\n",
    "print(tgan_synthetic_data_test.shape[0], \"vs\", data_test.shape[0])"
   ]
  },
  {
   "cell_type": "code",
   "execution_count": 2,
   "id": "e4f274d8",
   "metadata": {},
   "outputs": [],
   "source": [
    "n_synthetic_datasets = 10\n",
    "dataset_dir = \".//Datasets//\"\n",
    "dataset_gen_dir = os.path.join(dataset_dir, \"Generated_for_pred_eval_adult//\")\n",
    "n_synthetic_datasets_existing = 0"
   ]
  },
  {
   "cell_type": "code",
   "execution_count": 3,
   "id": "83428215",
   "metadata": {},
   "outputs": [
    {
     "name": "stdout",
     "output_type": "stream",
     "text": [
      "WARNING:tensorflow:From C:\\Users\\Arne\\AppData\\Local\\Temp/ipykernel_24944/2375549564.py:8: The name tf.reset_default_graph is deprecated. Please use tf.compat.v1.reset_default_graph instead.\n",
      "\n",
      "WARNING:tensorflow:From C:\\Users\\Arne\\anaconda3\\envs\\tfv1\\lib\\site-packages\\tensorpack\\graph_builder\\model_desc.py:29: The name tf.get_default_graph is deprecated. Please use tf.compat.v1.get_default_graph instead.\n",
      "\n",
      "WARNING:tensorflow:From C:\\Users\\Arne\\anaconda3\\envs\\tfv1\\lib\\site-packages\\tensorpack\\graph_builder\\model_desc.py:39: The name tf.placeholder is deprecated. Please use tf.compat.v1.placeholder instead.\n",
      "\n",
      "WARNING:tensorflow:From C:\\Users\\Arne\\anaconda3\\envs\\tfv1\\lib\\site-packages\\tensorpack\\input_source\\input_source.py:219: The name tf.FIFOQueue is deprecated. Please use tf.queue.FIFOQueue instead.\n",
      "\n",
      "\u001b[32m[0114 17:20:09 @input_source.py:222]\u001b[0m Setting up the queue 'QueueInput/input_queue' for CPU prefetching ...\n",
      "WARNING:tensorflow:From C:\\Users\\Arne\\anaconda3\\envs\\tfv1\\lib\\site-packages\\tensorpack\\tfutils\\summary.py:237: The name tf.get_variable_scope is deprecated. Please use tf.compat.v1.get_variable_scope instead.\n",
      "\n",
      "WARNING:tensorflow:From C:\\Users\\Arne\\anaconda3\\envs\\tfv1\\lib\\site-packages\\tensorpack\\tfutils\\summary.py:27: The name tf.variable_scope is deprecated. Please use tf.compat.v1.variable_scope instead.\n",
      "\n",
      "WARNING:tensorflow:From C:\\Users\\Arne\\anaconda3\\envs\\tfv1\\lib\\site-packages\\tensorpack\\tfutils\\summary.py:254: The name tf.get_variable is deprecated. Please use tf.compat.v1.get_variable instead.\n",
      "\n",
      "WARNING:tensorflow:From C:\\Users\\Arne\\anaconda3\\envs\\tfv1\\lib\\site-packages\\tensorpack\\tfutils\\summary.py:264: The name tf.summary.scalar is deprecated. Please use tf.compat.v1.summary.scalar instead.\n",
      "\n",
      "WARNING:tensorflow:From C:\\Users\\Arne\\anaconda3\\envs\\tfv1\\lib\\site-packages\\tensorpack\\tfutils\\collection.py:105: The name tf.GraphKeys is deprecated. Please use tf.compat.v1.GraphKeys instead.\n",
      "\n",
      "WARNING:tensorflow:From C:\\Users\\Arne\\anaconda3\\envs\\tfv1\\lib\\site-packages\\tensorpack\\tfutils\\collection.py:33: The name tf.get_collection is deprecated. Please use tf.compat.v1.get_collection instead.\n",
      "\n",
      "WARNING:tensorflow:From C:\\Users\\Arne\\anaconda3\\envs\\tfv1\\lib\\site-packages\\tgan\\model.py:455: The name tf.random_normal is deprecated. Please use tf.random.normal instead.\n",
      "\n",
      "WARNING:tensorflow:From C:\\Users\\Arne\\anaconda3\\envs\\tfv1\\lib\\site-packages\\tgan\\model.py:458: The name tf.placeholder_with_default is deprecated. Please use tf.compat.v1.placeholder_with_default instead.\n",
      "\n",
      "WARNING:tensorflow:From C:\\Users\\Arne\\anaconda3\\envs\\tfv1\\lib\\site-packages\\tgan\\model.py:259: LSTMCell.__init__ (from tensorflow.python.ops.rnn_cell_impl) is deprecated and will be removed in a future version.\n",
      "Instructions for updating:\n",
      "This class is equivalent as tf.keras.layers.LSTMCell, and will be replaced by that in Tensorflow 2.0.\n",
      "WARNING:tensorflow:From C:\\Users\\Arne\\anaconda3\\envs\\tfv1\\lib\\site-packages\\tensorflow_core\\python\\ops\\rnn_cell_impl.py:958: Layer.add_variable (from tensorflow.python.keras.engine.base_layer) is deprecated and will be removed in a future version.\n",
      "Instructions for updating:\n",
      "Please use `layer.add_weight` method instead.\n",
      "WARNING:tensorflow:From C:\\Users\\Arne\\anaconda3\\envs\\tfv1\\lib\\site-packages\\tensorflow_core\\python\\ops\\rnn_cell_impl.py:962: calling Zeros.__init__ (from tensorflow.python.ops.init_ops) with dtype is deprecated and will be removed in a future version.\n",
      "Instructions for updating:\n",
      "Call initializer instance with the dtype argument instead of passing it to the constructor\n",
      "\u001b[32m[0114 17:20:09 @registry.py:126]\u001b[0m gen/LSTM/00/FC input: [500, 100]\n",
      "WARNING:tensorflow:From C:\\Users\\Arne\\anaconda3\\envs\\tfv1\\lib\\site-packages\\tensorpack\\models\\fc.py:57: The name tf.layers.Dense is deprecated. Please use tf.compat.v1.layers.Dense instead.\n",
      "\n",
      "WARNING:tensorflow:From C:\\Users\\Arne\\anaconda3\\envs\\tfv1\\lib\\site-packages\\tensorpack\\models\\fc.py:67: Layer.apply (from tensorflow.python.keras.engine.base_layer) is deprecated and will be removed in a future version.\n",
      "Instructions for updating:\n",
      "Please use `layer.__call__` method instead.\n",
      "\u001b[32m[0114 17:20:09 @registry.py:134]\u001b[0m gen/LSTM/00/FC output: [500, 100]\n",
      "\u001b[32m[0114 17:20:09 @registry.py:126]\u001b[0m gen/LSTM/00/FC2 input: [500, 100]\n",
      "\u001b[32m[0114 17:20:09 @registry.py:134]\u001b[0m gen/LSTM/00/FC2 output: [500, 72]\n",
      "\u001b[32m[0114 17:20:09 @registry.py:126]\u001b[0m gen/LSTM/00/FC3 input: [500, 72]\n",
      "\u001b[32m[0114 17:20:09 @registry.py:134]\u001b[0m gen/LSTM/00/FC3 output: [500, 100]\n",
      "\u001b[32m[0114 17:20:09 @registry.py:126]\u001b[0m gen/LSTM/01/FC input: [500, 100]\n",
      "\u001b[32m[0114 17:20:09 @registry.py:134]\u001b[0m gen/LSTM/01/FC output: [500, 100]\n",
      "\u001b[32m[0114 17:20:09 @registry.py:126]\u001b[0m gen/LSTM/01/FC2 input: [500, 100]\n",
      "\u001b[32m[0114 17:20:09 @registry.py:134]\u001b[0m gen/LSTM/01/FC2 output: [500, 5]\n",
      "\u001b[32m[0114 17:20:09 @registry.py:126]\u001b[0m gen/LSTM/01/FC3 input: [500, 5]\n",
      "\u001b[32m[0114 17:20:09 @registry.py:134]\u001b[0m gen/LSTM/01/FC3 output: [500, 100]\n",
      "\u001b[32m[0114 17:20:09 @registry.py:126]\u001b[0m gen/LSTM/02/FC input: [500, 100]\n",
      "\u001b[32m[0114 17:20:09 @registry.py:134]\u001b[0m gen/LSTM/02/FC output: [500, 100]\n",
      "\u001b[32m[0114 17:20:09 @registry.py:126]\u001b[0m gen/LSTM/02/FC2 input: [500, 100]\n",
      "\u001b[32m[0114 17:20:09 @registry.py:134]\u001b[0m gen/LSTM/02/FC2 output: [500, 20263]\n",
      "\u001b[32m[0114 17:20:09 @registry.py:126]\u001b[0m gen/LSTM/02/FC3 input: [500, 20263]\n",
      "\u001b[32m[0114 17:20:09 @registry.py:134]\u001b[0m gen/LSTM/02/FC3 output: [500, 100]\n",
      "\u001b[32m[0114 17:20:09 @registry.py:126]\u001b[0m gen/LSTM/03/FC input: [500, 100]\n",
      "\u001b[32m[0114 17:20:09 @registry.py:134]\u001b[0m gen/LSTM/03/FC output: [500, 100]\n",
      "\u001b[32m[0114 17:20:09 @registry.py:126]\u001b[0m gen/LSTM/03/FC2 input: [500, 100]\n",
      "\u001b[32m[0114 17:20:09 @registry.py:134]\u001b[0m gen/LSTM/03/FC2 output: [500, 9]\n",
      "\u001b[32m[0114 17:20:09 @registry.py:126]\u001b[0m gen/LSTM/03/FC3 input: [500, 9]\n",
      "\u001b[32m[0114 17:20:09 @registry.py:134]\u001b[0m gen/LSTM/03/FC3 output: [500, 100]\n",
      "\u001b[32m[0114 17:20:09 @registry.py:126]\u001b[0m gen/LSTM/04/FC input: [500, 100]\n",
      "\u001b[32m[0114 17:20:10 @registry.py:134]\u001b[0m gen/LSTM/04/FC output: [500, 100]\n",
      "\u001b[32m[0114 17:20:10 @registry.py:126]\u001b[0m gen/LSTM/04/FC2 input: [500, 100]\n",
      "\u001b[32m[0114 17:20:10 @registry.py:134]\u001b[0m gen/LSTM/04/FC2 output: [500, 16]\n",
      "\u001b[32m[0114 17:20:10 @registry.py:126]\u001b[0m gen/LSTM/04/FC3 input: [500, 16]\n",
      "\u001b[32m[0114 17:20:10 @registry.py:134]\u001b[0m gen/LSTM/04/FC3 output: [500, 100]\n",
      "\u001b[32m[0114 17:20:10 @registry.py:126]\u001b[0m gen/LSTM/05/FC input: [500, 100]\n",
      "\u001b[32m[0114 17:20:10 @registry.py:134]\u001b[0m gen/LSTM/05/FC output: [500, 100]\n",
      "\u001b[32m[0114 17:20:10 @registry.py:126]\u001b[0m gen/LSTM/05/FC2 input: [500, 100]\n",
      "\u001b[32m[0114 17:20:10 @registry.py:134]\u001b[0m gen/LSTM/05/FC2 output: [500, 5]\n",
      "\u001b[32m[0114 17:20:10 @registry.py:126]\u001b[0m gen/LSTM/05/FC3 input: [500, 5]\n",
      "\u001b[32m[0114 17:20:10 @registry.py:134]\u001b[0m gen/LSTM/05/FC3 output: [500, 100]\n",
      "\u001b[32m[0114 17:20:10 @registry.py:126]\u001b[0m gen/LSTM/06/FC input: [500, 100]\n",
      "\u001b[32m[0114 17:20:10 @registry.py:134]\u001b[0m gen/LSTM/06/FC output: [500, 100]\n",
      "\u001b[32m[0114 17:20:10 @registry.py:126]\u001b[0m gen/LSTM/06/FC2 input: [500, 100]\n",
      "\u001b[32m[0114 17:20:10 @registry.py:134]\u001b[0m gen/LSTM/06/FC2 output: [500, 14]\n",
      "\u001b[32m[0114 17:20:10 @registry.py:126]\u001b[0m gen/LSTM/06/FC3 input: [500, 14]\n",
      "\u001b[32m[0114 17:20:10 @registry.py:134]\u001b[0m gen/LSTM/06/FC3 output: [500, 100]\n",
      "\u001b[32m[0114 17:20:10 @registry.py:126]\u001b[0m gen/LSTM/07/FC input: [500, 100]\n",
      "\u001b[32m[0114 17:20:10 @registry.py:134]\u001b[0m gen/LSTM/07/FC output: [500, 100]\n",
      "\u001b[32m[0114 17:20:10 @registry.py:126]\u001b[0m gen/LSTM/07/FC2 input: [500, 100]\n",
      "\u001b[32m[0114 17:20:10 @registry.py:134]\u001b[0m gen/LSTM/07/FC2 output: [500, 5]\n",
      "\u001b[32m[0114 17:20:10 @registry.py:126]\u001b[0m gen/LSTM/07/FC3 input: [500, 5]\n",
      "\u001b[32m[0114 17:20:10 @registry.py:134]\u001b[0m gen/LSTM/07/FC3 output: [500, 100]\n",
      "\u001b[32m[0114 17:20:10 @registry.py:126]\u001b[0m gen/LSTM/08/FC input: [500, 100]\n",
      "\u001b[32m[0114 17:20:10 @registry.py:134]\u001b[0m gen/LSTM/08/FC output: [500, 100]\n",
      "\u001b[32m[0114 17:20:10 @registry.py:126]\u001b[0m gen/LSTM/08/FC2 input: [500, 100]\n",
      "\u001b[32m[0114 17:20:10 @registry.py:134]\u001b[0m gen/LSTM/08/FC2 output: [500, 2]\n",
      "\u001b[32m[0114 17:20:10 @registry.py:126]\u001b[0m gen/LSTM/08/FC3 input: [500, 2]\n",
      "\u001b[32m[0114 17:20:10 @registry.py:134]\u001b[0m gen/LSTM/08/FC3 output: [500, 100]\n",
      "\u001b[32m[0114 17:20:10 @registry.py:126]\u001b[0m gen/LSTM/09/FC input: [500, 100]\n"
     ]
    },
    {
     "name": "stdout",
     "output_type": "stream",
     "text": [
      "\u001b[32m[0114 17:20:10 @registry.py:134]\u001b[0m gen/LSTM/09/FC output: [500, 100]\n",
      "\u001b[32m[0114 17:20:10 @registry.py:126]\u001b[0m gen/LSTM/09/FC2 input: [500, 100]\n",
      "\u001b[32m[0114 17:20:10 @registry.py:134]\u001b[0m gen/LSTM/09/FC2 output: [500, 118]\n",
      "\u001b[32m[0114 17:20:10 @registry.py:126]\u001b[0m gen/LSTM/09/FC3 input: [500, 118]\n",
      "\u001b[32m[0114 17:20:10 @registry.py:134]\u001b[0m gen/LSTM/09/FC3 output: [500, 100]\n",
      "\u001b[32m[0114 17:20:10 @registry.py:126]\u001b[0m gen/LSTM/10/FC input: [500, 100]\n",
      "\u001b[32m[0114 17:20:10 @registry.py:134]\u001b[0m gen/LSTM/10/FC output: [500, 100]\n",
      "\u001b[32m[0114 17:20:10 @registry.py:126]\u001b[0m gen/LSTM/10/FC2 input: [500, 100]\n",
      "\u001b[32m[0114 17:20:10 @registry.py:134]\u001b[0m gen/LSTM/10/FC2 output: [500, 90]\n",
      "\u001b[32m[0114 17:20:10 @registry.py:126]\u001b[0m gen/LSTM/10/FC3 input: [500, 90]\n",
      "\u001b[32m[0114 17:20:10 @registry.py:134]\u001b[0m gen/LSTM/10/FC3 output: [500, 100]\n",
      "\u001b[32m[0114 17:20:10 @registry.py:126]\u001b[0m gen/LSTM/11/FC input: [500, 100]\n",
      "\u001b[32m[0114 17:20:10 @registry.py:134]\u001b[0m gen/LSTM/11/FC output: [500, 100]\n",
      "\u001b[32m[0114 17:20:10 @registry.py:126]\u001b[0m gen/LSTM/11/FC2 input: [500, 100]\n",
      "\u001b[32m[0114 17:20:10 @registry.py:134]\u001b[0m gen/LSTM/11/FC2 output: [500, 94]\n",
      "\u001b[32m[0114 17:20:10 @registry.py:126]\u001b[0m gen/LSTM/11/FC3 input: [500, 94]\n",
      "\u001b[32m[0114 17:20:10 @registry.py:134]\u001b[0m gen/LSTM/11/FC3 output: [500, 100]\n",
      "\u001b[32m[0114 17:20:10 @registry.py:126]\u001b[0m gen/LSTM/12/FC input: [500, 100]\n",
      "\u001b[32m[0114 17:20:10 @registry.py:134]\u001b[0m gen/LSTM/12/FC output: [500, 100]\n",
      "\u001b[32m[0114 17:20:10 @registry.py:126]\u001b[0m gen/LSTM/12/FC2 input: [500, 100]\n",
      "\u001b[32m[0114 17:20:10 @registry.py:134]\u001b[0m gen/LSTM/12/FC2 output: [500, 2]\n",
      "\u001b[32m[0114 17:20:10 @registry.py:126]\u001b[0m gen/LSTM/12/FC3 input: [500, 2]\n",
      "\u001b[32m[0114 17:20:10 @registry.py:134]\u001b[0m gen/LSTM/12/FC3 output: [500, 100]\n",
      "\u001b[32m[0114 17:20:10 @registry.py:126]\u001b[0m gen/LSTM/13/FC input: [500, 100]\n",
      "\u001b[32m[0114 17:20:10 @registry.py:134]\u001b[0m gen/LSTM/13/FC output: [500, 100]\n",
      "\u001b[32m[0114 17:20:10 @registry.py:126]\u001b[0m gen/LSTM/13/FC2 input: [500, 100]\n",
      "\u001b[32m[0114 17:20:10 @registry.py:134]\u001b[0m gen/LSTM/13/FC2 output: [500, 2]\n",
      "\u001b[32m[0114 17:20:10 @registry.py:126]\u001b[0m gen/LSTM/13/FC3 input: [500, 2]\n",
      "\u001b[32m[0114 17:20:10 @registry.py:134]\u001b[0m gen/LSTM/13/FC3 output: [500, 100]\n",
      "WARNING:tensorflow:From C:\\Users\\Arne\\anaconda3\\envs\\tfv1\\lib\\site-packages\\tgan\\model.py:494: The name tf.random_uniform is deprecated. Please use tf.random.uniform instead.\n",
      "\n",
      "WARNING:tensorflow:From C:\\Users\\Arne\\anaconda3\\envs\\tfv1\\lib\\site-packages\\tgan\\model.py:443: The name tf.log is deprecated. Please use tf.math.log instead.\n",
      "\n",
      "\u001b[32m[0114 17:20:10 @registry.py:126]\u001b[0m discrim/dis_fc0/fc input: [500, 20697]\n",
      "\u001b[32m[0114 17:20:10 @registry.py:134]\u001b[0m discrim/dis_fc0/fc output: [500, 256]\n",
      "\u001b[32m[0114 17:20:10 @registry.py:126]\u001b[0m discrim/dis_fc0/fc_diversity input: [500, 256]\n",
      "\u001b[32m[0114 17:20:11 @registry.py:134]\u001b[0m discrim/dis_fc0/fc_diversity output: [500, 100]\n",
      "WARNING:tensorflow:From C:\\Users\\Arne\\anaconda3\\envs\\tfv1\\lib\\site-packages\\tensorpack\\models\\batch_norm.py:204: The name tf.layers.BatchNormalization is deprecated. Please use tf.compat.v1.layers.BatchNormalization instead.\n",
      "\n",
      "WARNING:tensorflow:From C:\\Users\\Arne\\anaconda3\\envs\\tfv1\\lib\\site-packages\\tensorpack\\models\\batch_norm.py:212: The name tf.add_to_collection is deprecated. Please use tf.compat.v1.add_to_collection instead.\n",
      "\n",
      "\u001b[32m[0114 17:20:11 @registry.py:126]\u001b[0m discrim/dis_fc_top input: [500, 266]\n",
      "\u001b[32m[0114 17:20:11 @registry.py:134]\u001b[0m discrim/dis_fc_top output: [500, 1]\n",
      "WARNING:tensorflow:From C:\\Users\\Arne\\anaconda3\\envs\\tfv1\\lib\\site-packages\\tgan\\model.py:118: The name tf.summary.histogram is deprecated. Please use tf.compat.v1.summary.histogram instead.\n",
      "\n",
      "WARNING:tensorflow:From C:\\Users\\Arne\\anaconda3\\envs\\tfv1\\lib\\site-packages\\tensorflow_core\\python\\ops\\nn_impl.py:183: where (from tensorflow.python.ops.array_ops) is deprecated and will be removed in a future version.\n",
      "Instructions for updating:\n",
      "Use tf.where in 2.0, which has the same broadcast rule as np.where\n",
      "WARNING:tensorflow:\n",
      "The TensorFlow contrib module will not be included in TensorFlow 2.0.\n",
      "For more information, please see:\n",
      "  * https://github.com/tensorflow/community/blob/master/rfcs/20180907-contrib-sunset.md\n",
      "  * https://github.com/tensorflow/addons\n",
      "  * https://github.com/tensorflow/io (for I/O related ops)\n",
      "If you depend on functionality not listed there, please file an issue.\n",
      "\n",
      "WARNING:tensorflow:From C:\\Users\\Arne\\anaconda3\\envs\\tfv1\\lib\\site-packages\\tgan\\model.py:551: The name tf.train.AdamOptimizer is deprecated. Please use tf.compat.v1.train.AdamOptimizer instead.\n",
      "\n",
      "\u001b[32m[0114 17:20:15 @logger.py:90]\u001b[0m Argv: C:\\Users\\Arne\\anaconda3\\envs\\tfv1\\lib\\site-packages\\ipykernel_launcher.py -f C:\\Users\\Arne\\AppData\\Roaming\\jupyter\\runtime\\kernel-95c990b4-007f-4c92-b889-4b29f1351785.json\n",
      "WARNING:tensorflow:From C:\\Users\\Arne\\anaconda3\\envs\\tfv1\\lib\\site-packages\\tensorpack\\callbacks\\saver.py:43: The name tf.gfile.IsDirectory is deprecated. Please use tf.io.gfile.isdir instead.\n",
      "\n",
      "WARNING:tensorflow:From C:\\Users\\Arne\\anaconda3\\envs\\tfv1\\lib\\site-packages\\tensorpack\\callbacks\\saver.py:44: The name tf.gfile.MakeDirs is deprecated. Please use tf.io.gfile.makedirs instead.\n",
      "\n",
      "WARNING:tensorflow:From C:\\Users\\Arne\\anaconda3\\envs\\tfv1\\lib\\site-packages\\tensorpack\\tfutils\\common.py:41: The name tf.ConfigProto is deprecated. Please use tf.compat.v1.ConfigProto instead.\n",
      "\n",
      "\u001b[32m[0114 17:20:15 @model_utils.py:67]\u001b[0m \u001b[36mList of Trainable Variables: \n",
      "\u001b[0mname                              shape           #elements\n",
      "--------------------------------  ------------  -----------\n",
      "gen/LSTM/go:0                     [1, 100]              100\n",
      "gen/LSTM/lstm_cell/kernel:0       [500, 400]         200000\n",
      "gen/LSTM/lstm_cell/bias:0         [400]                 400\n",
      "gen/LSTM/00/FC/W:0                [100, 100]          10000\n",
      "gen/LSTM/00/FC/b:0                [100]                 100\n",
      "gen/LSTM/00/FC2/W:0               [100, 72]            7200\n",
      "gen/LSTM/00/FC2/b:0               [72]                   72\n",
      "gen/LSTM/00/FC3/W:0               [72, 100]            7200\n",
      "gen/LSTM/00/FC3/b:0               [100]                 100\n",
      "gen/LSTM/00/attw:0                [1, 1, 1]               1\n",
      "gen/LSTM/01/FC/W:0                [100, 100]          10000\n",
      "gen/LSTM/01/FC/b:0                [100]                 100\n",
      "gen/LSTM/01/FC2/W:0               [100, 5]              500\n",
      "gen/LSTM/01/FC2/b:0               [5]                     5\n",
      "gen/LSTM/01/FC3/W:0               [5, 100]              500\n",
      "gen/LSTM/01/FC3/b:0               [100]                 100\n",
      "gen/LSTM/01/attw:0                [2, 1, 1]               2\n",
      "gen/LSTM/02/FC/W:0                [100, 100]          10000\n",
      "gen/LSTM/02/FC/b:0                [100]                 100\n",
      "gen/LSTM/02/FC2/W:0               [100, 20263]      2026300\n",
      "gen/LSTM/02/FC2/b:0               [20263]             20263\n",
      "gen/LSTM/02/FC3/W:0               [20263, 100]      2026300\n",
      "gen/LSTM/02/FC3/b:0               [100]                 100\n",
      "gen/LSTM/02/attw:0                [3, 1, 1]               3\n",
      "gen/LSTM/03/FC/W:0                [100, 100]          10000\n",
      "gen/LSTM/03/FC/b:0                [100]                 100\n",
      "gen/LSTM/03/FC2/W:0               [100, 9]              900\n",
      "gen/LSTM/03/FC2/b:0               [9]                     9\n",
      "gen/LSTM/03/FC3/W:0               [9, 100]              900\n",
      "gen/LSTM/03/FC3/b:0               [100]                 100\n",
      "gen/LSTM/03/attw:0                [4, 1, 1]               4\n",
      "gen/LSTM/04/FC/W:0                [100, 100]          10000\n",
      "gen/LSTM/04/FC/b:0                [100]                 100\n",
      "gen/LSTM/04/FC2/W:0               [100, 16]            1600\n",
      "gen/LSTM/04/FC2/b:0               [16]                   16\n",
      "gen/LSTM/04/FC3/W:0               [16, 100]            1600\n",
      "gen/LSTM/04/FC3/b:0               [100]                 100\n",
      "gen/LSTM/04/attw:0                [5, 1, 1]               5\n",
      "gen/LSTM/05/FC/W:0                [100, 100]          10000\n",
      "gen/LSTM/05/FC/b:0                [100]                 100\n",
      "gen/LSTM/05/FC2/W:0               [100, 5]              500\n",
      "gen/LSTM/05/FC2/b:0               [5]                     5\n",
      "gen/LSTM/05/FC3/W:0               [5, 100]              500\n",
      "gen/LSTM/05/FC3/b:0               [100]                 100\n",
      "gen/LSTM/05/attw:0                [6, 1, 1]               6\n",
      "gen/LSTM/06/FC/W:0                [100, 100]          10000\n",
      "gen/LSTM/06/FC/b:0                [100]                 100\n",
      "gen/LSTM/06/FC2/W:0               [100, 14]            1400\n",
      "gen/LSTM/06/FC2/b:0               [14]                   14\n",
      "gen/LSTM/06/FC3/W:0               [14, 100]            1400\n",
      "gen/LSTM/06/FC3/b:0               [100]                 100\n",
      "gen/LSTM/06/attw:0                [7, 1, 1]               7\n",
      "gen/LSTM/07/FC/W:0                [100, 100]          10000\n",
      "gen/LSTM/07/FC/b:0                [100]                 100\n",
      "gen/LSTM/07/FC2/W:0               [100, 5]              500\n",
      "gen/LSTM/07/FC2/b:0               [5]                     5\n",
      "gen/LSTM/07/FC3/W:0               [5, 100]              500\n",
      "gen/LSTM/07/FC3/b:0               [100]                 100\n",
      "gen/LSTM/07/attw:0                [8, 1, 1]               8\n",
      "gen/LSTM/08/FC/W:0                [100, 100]          10000\n",
      "gen/LSTM/08/FC/b:0                [100]                 100\n",
      "gen/LSTM/08/FC2/W:0               [100, 2]              200\n",
      "gen/LSTM/08/FC2/b:0               [2]                     2\n",
      "gen/LSTM/08/FC3/W:0               [2, 100]              200\n",
      "gen/LSTM/08/FC3/b:0               [100]                 100\n",
      "gen/LSTM/08/attw:0                [9, 1, 1]               9\n",
      "gen/LSTM/09/FC/W:0                [100, 100]          10000\n",
      "gen/LSTM/09/FC/b:0                [100]                 100\n",
      "gen/LSTM/09/FC2/W:0               [100, 118]          11800\n",
      "gen/LSTM/09/FC2/b:0               [118]                 118\n",
      "gen/LSTM/09/FC3/W:0               [118, 100]          11800\n",
      "gen/LSTM/09/FC3/b:0               [100]                 100\n",
      "gen/LSTM/09/attw:0                [10, 1, 1]             10\n",
      "gen/LSTM/10/FC/W:0                [100, 100]          10000\n",
      "gen/LSTM/10/FC/b:0                [100]                 100\n",
      "gen/LSTM/10/FC2/W:0               [100, 90]            9000\n",
      "gen/LSTM/10/FC2/b:0               [90]                   90\n",
      "gen/LSTM/10/FC3/W:0               [90, 100]            9000\n",
      "gen/LSTM/10/FC3/b:0               [100]                 100\n",
      "gen/LSTM/10/attw:0                [11, 1, 1]             11\n",
      "gen/LSTM/11/FC/W:0                [100, 100]          10000\n",
      "gen/LSTM/11/FC/b:0                [100]                 100\n",
      "gen/LSTM/11/FC2/W:0               [100, 94]            9400\n",
      "gen/LSTM/11/FC2/b:0               [94]                   94\n",
      "gen/LSTM/11/FC3/W:0               [94, 100]            9400\n",
      "gen/LSTM/11/FC3/b:0               [100]                 100\n",
      "gen/LSTM/11/attw:0                [12, 1, 1]             12\n",
      "gen/LSTM/12/FC/W:0                [100, 100]          10000\n",
      "gen/LSTM/12/FC/b:0                [100]                 100\n",
      "gen/LSTM/12/FC2/W:0               [100, 2]              200\n",
      "gen/LSTM/12/FC2/b:0               [2]                     2\n",
      "gen/LSTM/12/FC3/W:0               [2, 100]              200\n",
      "gen/LSTM/12/FC3/b:0               [100]                 100\n",
      "gen/LSTM/12/attw:0                [13, 1, 1]             13\n",
      "gen/LSTM/13/FC/W:0                [100, 100]          10000\n",
      "gen/LSTM/13/FC/b:0                [100]                 100\n",
      "gen/LSTM/13/FC2/W:0               [100, 2]              200\n",
      "gen/LSTM/13/FC2/b:0               [2]                     2\n",
      "gen/LSTM/13/FC3/W:0               [2, 100]              200\n",
      "gen/LSTM/13/FC3/b:0               [100]                 100\n",
      "gen/LSTM/13/attw:0                [14, 1, 1]             14\n",
      "discrim/dis_fc0/fc/W:0            [20697, 256]      5298432\n",
      "discrim/dis_fc0/fc/b:0            [256]                 256\n",
      "discrim/dis_fc0/fc_diversity/W:0  [256, 100]          25600\n",
      "discrim/dis_fc0/fc_diversity/b:0  [100]                 100\n",
      "discrim/dis_fc0/bn/beta:0         [266]                 266\n",
      "discrim/dis_fc_top/W:0            [266, 1]              266\n",
      "discrim/dis_fc_top/b:0            [1]                     1\u001b[36m\n",
      "Number of trainable variables: 108\n",
      "Number of parameters (elements): 9828423\n",
      "Storage space needed for all trainable variables: 37.49MB\u001b[0m\n"
     ]
    },
    {
     "name": "stdout",
     "output_type": "stream",
     "text": [
      "\u001b[32m[0114 17:20:15 @base.py:209]\u001b[0m Setup callbacks graph ...\n",
      "WARNING:tensorflow:From C:\\Users\\Arne\\anaconda3\\envs\\tfv1\\lib\\site-packages\\tensorpack\\callbacks\\graph.py:54: The name tf.train.SessionRunArgs is deprecated. Please use tf.estimator.SessionRunArgs instead.\n",
      "\n",
      "WARNING:tensorflow:From C:\\Users\\Arne\\anaconda3\\envs\\tfv1\\lib\\site-packages\\tensorpack\\tfutils\\common.py:75: The name tf.VariableScope is deprecated. Please use tf.compat.v1.VariableScope instead.\n",
      "\n",
      "WARNING:tensorflow:From C:\\Users\\Arne\\anaconda3\\envs\\tfv1\\lib\\site-packages\\tensorpack\\tfutils\\common.py:77: The name tf.train.get_or_create_global_step is deprecated. Please use tf.compat.v1.train.get_or_create_global_step instead.\n",
      "\n",
      "WARNING:tensorflow:From C:\\Users\\Arne\\anaconda3\\envs\\tfv1\\lib\\site-packages\\tensorpack\\callbacks\\steps.py:117: The name tf.assign_add is deprecated. Please use tf.compat.v1.assign_add instead.\n",
      "\n",
      "WARNING:tensorflow:From C:\\Users\\Arne\\anaconda3\\envs\\tfv1\\lib\\site-packages\\tensorpack\\callbacks\\saver.py:55: The name tf.train.Saver is deprecated. Please use tf.compat.v1.train.Saver instead.\n",
      "\n",
      "WARNING:tensorflow:From C:\\Users\\Arne\\anaconda3\\envs\\tfv1\\lib\\site-packages\\tensorpack\\callbacks\\saver.py:59: The name tf.train.SaverDef is deprecated. Please use tf.compat.v1.train.SaverDef instead.\n",
      "\n",
      "\u001b[32m[0114 17:20:15 @summary.py:46]\u001b[0m [MovingAverageSummary] 6 operations in collection 'MOVING_SUMMARY_OPS' will be run with session hooks.\n",
      "\u001b[32m[0114 17:20:15 @summary.py:93]\u001b[0m Summarizing collection 'summaries' of size 9.\n",
      "WARNING:tensorflow:From C:\\Users\\Arne\\anaconda3\\envs\\tfv1\\lib\\site-packages\\tensorpack\\callbacks\\summary.py:94: The name tf.summary.merge_all is deprecated. Please use tf.compat.v1.summary.merge_all instead.\n",
      "\n",
      "\u001b[32m[0114 17:20:15 @graph.py:98]\u001b[0m Applying collection UPDATE_OPS of 4 ops.\n",
      "WARNING:tensorflow:From C:\\Users\\Arne\\anaconda3\\envs\\tfv1\\lib\\site-packages\\tensorpack\\callbacks\\monitor.py:261: The name tf.summary.FileWriter is deprecated. Please use tf.compat.v1.summary.FileWriter instead.\n",
      "\n",
      "\u001b[32m[0114 17:20:16 @base.py:230]\u001b[0m Creating the session ...\n",
      "WARNING:tensorflow:From C:\\Users\\Arne\\anaconda3\\envs\\tfv1\\lib\\site-packages\\tensorpack\\tfutils\\sesscreate.py:42: The name tf.Session is deprecated. Please use tf.compat.v1.Session instead.\n",
      "\n",
      "WARNING:tensorflow:From C:\\Users\\Arne\\anaconda3\\envs\\tfv1\\lib\\site-packages\\tensorpack\\tfutils\\sesscreate.py:71: The name tf.global_variables_initializer is deprecated. Please use tf.compat.v1.global_variables_initializer instead.\n",
      "\n",
      "WARNING:tensorflow:From C:\\Users\\Arne\\anaconda3\\envs\\tfv1\\lib\\site-packages\\tensorpack\\tfutils\\sesscreate.py:62: get_backward_walk_ops (from tensorflow.contrib.graph_editor.select) is deprecated and will be removed after 2019-06-06.\n",
      "Instructions for updating:\n",
      "Please use tensorflow.python.ops.op_selector.get_backward_walk_ops.\n",
      "WARNING:tensorflow:From C:\\Users\\Arne\\anaconda3\\envs\\tfv1\\lib\\site-packages\\tensorpack\\tfutils\\sesscreate.py:72: The name tf.local_variables_initializer is deprecated. Please use tf.compat.v1.local_variables_initializer instead.\n",
      "\n",
      "WARNING:tensorflow:From C:\\Users\\Arne\\anaconda3\\envs\\tfv1\\lib\\site-packages\\tensorpack\\tfutils\\sesscreate.py:73: The name tf.tables_initializer is deprecated. Please use tf.compat.v1.tables_initializer instead.\n",
      "\n",
      "WARNING:tensorflow:From C:\\Users\\Arne\\anaconda3\\envs\\tfv1\\lib\\site-packages\\tensorpack\\train\\base.py:254: The name tf.train.MonitoredSession is deprecated. Please use tf.compat.v1.train.MonitoredSession instead.\n",
      "\n",
      "\u001b[32m[0114 17:20:18 @base.py:236]\u001b[0m Initializing the session ...\n",
      "\u001b[32m[0114 17:20:18 @base.py:243]\u001b[0m Graph Finalized.\n",
      "WARNING:tensorflow:From C:\\Users\\Arne\\anaconda3\\envs\\tfv1\\lib\\site-packages\\tensorpack\\tfutils\\common.py:89: The name tf.train.global_step is deprecated. Please use tf.compat.v1.train.global_step instead.\n",
      "\n",
      "WARNING:tensorflow:From C:\\Users\\Arne\\anaconda3\\envs\\tfv1\\lib\\site-packages\\tensorpack\\tfutils\\common.py:90: The name tf.get_default_session is deprecated. Please use tf.compat.v1.get_default_session instead.\n",
      "\n",
      "\u001b[32m[0114 17:20:18 @concurrency.py:38]\u001b[0m Starting EnqueueThread QueueInput/input_queue ...\n",
      "WARNING:tensorflow:From C:\\Users\\Arne\\anaconda3\\envs\\tfv1\\lib\\site-packages\\tensorpack\\callbacks\\monitor.py:309: The name tf.gfile.Exists is deprecated. Please use tf.io.gfile.exists instead.\n",
      "\n",
      "\u001b[32m[0114 17:20:19 @base.py:275]\u001b[0m Start Epoch 1 ...\n"
     ]
    },
    {
     "name": "stderr",
     "output_type": "stream",
     "text": [
      " 98%|###################################################################################5 |59/60[01:12<00:01, 0.86it/s]"
     ]
    },
    {
     "name": "stdout",
     "output_type": "stream",
     "text": [
      "WARNING:tensorflow:From C:\\Users\\Arne\\anaconda3\\envs\\tfv1\\lib\\site-packages\\tensorpack\\callbacks\\monitor.py:148: The name tf.Summary is deprecated. Please use tf.compat.v1.Summary instead.\n",
      "\n"
     ]
    },
    {
     "name": "stderr",
     "output_type": "stream",
     "text": [
      "100%|#####################################################################################|60/60[01:16<00:00, 0.79it/s]"
     ]
    },
    {
     "name": "stdout",
     "output_type": "stream",
     "text": [
      "\u001b[32m[0114 17:21:35 @base.py:285]\u001b[0m Epoch 1 (global_step 60) finished, time:1 minute 16 seconds.\n",
      "WARNING:tensorflow:From C:\\Users\\Arne\\anaconda3\\envs\\tfv1\\lib\\site-packages\\tensorpack\\callbacks\\saver.py:77: The name tf.train.get_global_step is deprecated. Please use tf.compat.v1.train.get_global_step instead.\n",
      "\n"
     ]
    },
    {
     "name": "stderr",
     "output_type": "stream",
     "text": [
      "\n"
     ]
    },
    {
     "name": "stdout",
     "output_type": "stream",
     "text": [
      "\u001b[32m[0114 17:21:35 @saver.py:79]\u001b[0m Model saved to .//Model//temp_model\\TGAN3\\model\\model-60.\n",
      "\u001b[32m[0114 17:21:35 @monitor.py:467]\u001b[0m GAN_loss/discrim/accuracy_fake: 0.748\n",
      "\u001b[32m[0114 17:21:35 @monitor.py:467]\u001b[0m GAN_loss/discrim/accuracy_real: 0.318\n",
      "\u001b[32m[0114 17:21:35 @monitor.py:467]\u001b[0m GAN_loss/discrim/loss: 0.72725\n",
      "\u001b[32m[0114 17:21:35 @monitor.py:467]\u001b[0m GAN_loss/gen/final-g-loss: 1.1532\n",
      "\u001b[32m[0114 17:21:35 @monitor.py:467]\u001b[0m GAN_loss/gen/klloss: 0.01488\n",
      "\u001b[32m[0114 17:21:35 @monitor.py:467]\u001b[0m GAN_loss/gen/loss: 1.1383\n",
      "\u001b[32m[0114 17:21:35 @monitor.py:467]\u001b[0m QueueInput/queue_size: 50\n",
      "\u001b[32m[0114 17:21:35 @base.py:275]\u001b[0m Start Epoch 2 ...\n"
     ]
    },
    {
     "name": "stderr",
     "output_type": "stream",
     "text": [
      "100%|#####################################################################################|60/60[01:11<00:00, 0.84it/s]"
     ]
    },
    {
     "name": "stdout",
     "output_type": "stream",
     "text": [
      "\u001b[32m[0114 17:22:47 @base.py:285]\u001b[0m Epoch 2 (global_step 120) finished, time:1 minute 11 seconds.\n"
     ]
    },
    {
     "name": "stderr",
     "output_type": "stream",
     "text": [
      "\n"
     ]
    },
    {
     "name": "stdout",
     "output_type": "stream",
     "text": [
      "\u001b[32m[0114 17:22:48 @saver.py:79]\u001b[0m Model saved to .//Model//temp_model\\TGAN3\\model\\model-120.\n",
      "\u001b[32m[0114 17:22:48 @monitor.py:467]\u001b[0m GAN_loss/discrim/accuracy_fake: 0.796\n",
      "\u001b[32m[0114 17:22:48 @monitor.py:467]\u001b[0m GAN_loss/discrim/accuracy_real: 0.342\n",
      "\u001b[32m[0114 17:22:48 @monitor.py:467]\u001b[0m GAN_loss/discrim/loss: 0.65991\n",
      "\u001b[32m[0114 17:22:48 @monitor.py:467]\u001b[0m GAN_loss/gen/final-g-loss: 1.0985\n",
      "\u001b[32m[0114 17:22:48 @monitor.py:467]\u001b[0m GAN_loss/gen/klloss: 0.048263\n",
      "\u001b[32m[0114 17:22:48 @monitor.py:467]\u001b[0m GAN_loss/gen/loss: 1.0503\n",
      "\u001b[32m[0114 17:22:48 @monitor.py:467]\u001b[0m QueueInput/queue_size: 50\n",
      "\u001b[32m[0114 17:22:48 @base.py:275]\u001b[0m Start Epoch 3 ...\n"
     ]
    },
    {
     "name": "stderr",
     "output_type": "stream",
     "text": [
      "100%|#####################################################################################|60/60[01:12<00:00, 0.82it/s]"
     ]
    },
    {
     "name": "stdout",
     "output_type": "stream",
     "text": [
      "\u001b[32m[0114 17:24:00 @base.py:285]\u001b[0m Epoch 3 (global_step 180) finished, time:1 minute 12 seconds.\n"
     ]
    },
    {
     "name": "stderr",
     "output_type": "stream",
     "text": [
      "\n"
     ]
    },
    {
     "name": "stdout",
     "output_type": "stream",
     "text": [
      "\u001b[32m[0114 17:24:01 @saver.py:79]\u001b[0m Model saved to .//Model//temp_model\\TGAN3\\model\\model-180.\n",
      "\u001b[32m[0114 17:24:01 @monitor.py:467]\u001b[0m GAN_loss/discrim/accuracy_fake: 0.836\n",
      "\u001b[32m[0114 17:24:01 @monitor.py:467]\u001b[0m GAN_loss/discrim/accuracy_real: 0.4\n",
      "\u001b[32m[0114 17:24:01 @monitor.py:467]\u001b[0m GAN_loss/discrim/loss: 0.62031\n",
      "\u001b[32m[0114 17:24:01 @monitor.py:467]\u001b[0m GAN_loss/gen/final-g-loss: 1.0899\n",
      "\u001b[32m[0114 17:24:01 @monitor.py:467]\u001b[0m GAN_loss/gen/klloss: 0.03252\n",
      "\u001b[32m[0114 17:24:01 @monitor.py:467]\u001b[0m GAN_loss/gen/loss: 1.0574\n",
      "\u001b[32m[0114 17:24:01 @monitor.py:467]\u001b[0m QueueInput/queue_size: 50\n",
      "\u001b[32m[0114 17:24:01 @base.py:275]\u001b[0m Start Epoch 4 ...\n"
     ]
    },
    {
     "name": "stderr",
     "output_type": "stream",
     "text": [
      "100%|#####################################################################################|60/60[01:08<00:00, 0.88it/s]"
     ]
    },
    {
     "name": "stdout",
     "output_type": "stream",
     "text": [
      "\u001b[32m[0114 17:25:09 @base.py:285]\u001b[0m Epoch 4 (global_step 240) finished, time:1 minute 8 seconds.\n"
     ]
    },
    {
     "name": "stderr",
     "output_type": "stream",
     "text": [
      "\n"
     ]
    },
    {
     "name": "stdout",
     "output_type": "stream",
     "text": [
      "\u001b[32m[0114 17:25:10 @saver.py:79]\u001b[0m Model saved to .//Model//temp_model\\TGAN3\\model\\model-240.\n",
      "\u001b[32m[0114 17:25:10 @monitor.py:467]\u001b[0m GAN_loss/discrim/accuracy_fake: 0.854\n",
      "\u001b[32m[0114 17:25:10 @monitor.py:467]\u001b[0m GAN_loss/discrim/accuracy_real: 0.37\n",
      "\u001b[32m[0114 17:25:10 @monitor.py:467]\u001b[0m GAN_loss/discrim/loss: 0.622\n",
      "\u001b[32m[0114 17:25:10 @monitor.py:467]\u001b[0m GAN_loss/gen/final-g-loss: 1.0863\n",
      "\u001b[32m[0114 17:25:10 @monitor.py:467]\u001b[0m GAN_loss/gen/klloss: 0.030714\n",
      "\u001b[32m[0114 17:25:10 @monitor.py:467]\u001b[0m GAN_loss/gen/loss: 1.0556\n",
      "\u001b[32m[0114 17:25:10 @monitor.py:467]\u001b[0m QueueInput/queue_size: 50\n",
      "\u001b[32m[0114 17:25:10 @base.py:275]\u001b[0m Start Epoch 5 ...\n"
     ]
    },
    {
     "name": "stderr",
     "output_type": "stream",
     "text": [
      "100%|#####################################################################################|60/60[01:10<00:00, 0.85it/s]"
     ]
    },
    {
     "name": "stdout",
     "output_type": "stream",
     "text": [
      "\u001b[32m[0114 17:26:21 @base.py:285]\u001b[0m Epoch 5 (global_step 300) finished, time:1 minute 10 seconds.\n"
     ]
    },
    {
     "name": "stderr",
     "output_type": "stream",
     "text": [
      "\n"
     ]
    },
    {
     "name": "stdout",
     "output_type": "stream",
     "text": [
      "\u001b[32m[0114 17:26:21 @saver.py:79]\u001b[0m Model saved to .//Model//temp_model\\TGAN3\\model\\model-300.\n",
      "\u001b[32m[0114 17:26:21 @monitor.py:467]\u001b[0m GAN_loss/discrim/accuracy_fake: 0.846\n",
      "\u001b[32m[0114 17:26:21 @monitor.py:467]\u001b[0m GAN_loss/discrim/accuracy_real: 0.344\n",
      "\u001b[32m[0114 17:26:21 @monitor.py:467]\u001b[0m GAN_loss/discrim/loss: 0.61611\n",
      "\u001b[32m[0114 17:26:21 @monitor.py:467]\u001b[0m GAN_loss/gen/final-g-loss: 1.1045\n",
      "\u001b[32m[0114 17:26:21 @monitor.py:467]\u001b[0m GAN_loss/gen/klloss: 0.041236\n",
      "\u001b[32m[0114 17:26:21 @monitor.py:467]\u001b[0m GAN_loss/gen/loss: 1.0633\n",
      "\u001b[32m[0114 17:26:21 @monitor.py:467]\u001b[0m QueueInput/queue_size: 50\n",
      "\u001b[32m[0114 17:26:21 @base.py:275]\u001b[0m Start Epoch 6 ...\n"
     ]
    },
    {
     "name": "stderr",
     "output_type": "stream",
     "text": [
      "100%|#####################################################################################|60/60[01:07<00:00, 0.89it/s]"
     ]
    },
    {
     "name": "stdout",
     "output_type": "stream",
     "text": [
      "\u001b[32m[0114 17:27:29 @base.py:285]\u001b[0m Epoch 6 (global_step 360) finished, time:1 minute 7 seconds.\n"
     ]
    },
    {
     "name": "stderr",
     "output_type": "stream",
     "text": [
      "\n"
     ]
    },
    {
     "name": "stdout",
     "output_type": "stream",
     "text": [
      "\u001b[32m[0114 17:27:29 @saver.py:79]\u001b[0m Model saved to .//Model//temp_model\\TGAN3\\model\\model-360.\n",
      "\u001b[32m[0114 17:27:29 @monitor.py:467]\u001b[0m GAN_loss/discrim/accuracy_fake: 0.856\n",
      "\u001b[32m[0114 17:27:29 @monitor.py:467]\u001b[0m GAN_loss/discrim/accuracy_real: 0.326\n",
      "\u001b[32m[0114 17:27:29 @monitor.py:467]\u001b[0m GAN_loss/discrim/loss: 0.62353\n",
      "\u001b[32m[0114 17:27:29 @monitor.py:467]\u001b[0m GAN_loss/gen/final-g-loss: 1.1094\n",
      "\u001b[32m[0114 17:27:29 @monitor.py:467]\u001b[0m GAN_loss/gen/klloss: 0.070146\n",
      "\u001b[32m[0114 17:27:29 @monitor.py:467]\u001b[0m GAN_loss/gen/loss: 1.0392\n",
      "\u001b[32m[0114 17:27:29 @monitor.py:467]\u001b[0m QueueInput/queue_size: 50\n",
      "\u001b[32m[0114 17:27:29 @base.py:275]\u001b[0m Start Epoch 7 ...\n"
     ]
    },
    {
     "name": "stderr",
     "output_type": "stream",
     "text": [
      "100%|#####################################################################################|60/60[01:09<00:00, 0.87it/s]"
     ]
    },
    {
     "name": "stdout",
     "output_type": "stream",
     "text": [
      "\u001b[32m[0114 17:28:38 @base.py:285]\u001b[0m Epoch 7 (global_step 420) finished, time:1 minute 9 seconds.\n"
     ]
    },
    {
     "name": "stderr",
     "output_type": "stream",
     "text": [
      "\n"
     ]
    },
    {
     "name": "stdout",
     "output_type": "stream",
     "text": [
      "\u001b[32m[0114 17:28:40 @saver.py:79]\u001b[0m Model saved to .//Model//temp_model\\TGAN3\\model\\model-420.\n",
      "\u001b[32m[0114 17:28:40 @monitor.py:467]\u001b[0m GAN_loss/discrim/accuracy_fake: 0.842\n",
      "\u001b[32m[0114 17:28:40 @monitor.py:467]\u001b[0m GAN_loss/discrim/accuracy_real: 0.304\n",
      "\u001b[32m[0114 17:28:40 @monitor.py:467]\u001b[0m GAN_loss/discrim/loss: 0.62552\n",
      "\u001b[32m[0114 17:28:40 @monitor.py:467]\u001b[0m GAN_loss/gen/final-g-loss: 1.1196\n",
      "\u001b[32m[0114 17:28:40 @monitor.py:467]\u001b[0m GAN_loss/gen/klloss: 0.047745\n",
      "\u001b[32m[0114 17:28:40 @monitor.py:467]\u001b[0m GAN_loss/gen/loss: 1.0719\n",
      "\u001b[32m[0114 17:28:40 @monitor.py:467]\u001b[0m QueueInput/queue_size: 50\n",
      "\u001b[32m[0114 17:28:40 @base.py:275]\u001b[0m Start Epoch 8 ...\n"
     ]
    },
    {
     "name": "stderr",
     "output_type": "stream",
     "text": [
      "100%|#####################################################################################|60/60[01:08<00:00, 0.87it/s]"
     ]
    },
    {
     "name": "stdout",
     "output_type": "stream",
     "text": [
      "\u001b[32m[0114 17:29:49 @base.py:285]\u001b[0m Epoch 8 (global_step 480) finished, time:1 minute 8 seconds.\n"
     ]
    },
    {
     "name": "stderr",
     "output_type": "stream",
     "text": [
      "\n"
     ]
    },
    {
     "name": "stdout",
     "output_type": "stream",
     "text": [
      "\u001b[32m[0114 17:29:50 @saver.py:79]\u001b[0m Model saved to .//Model//temp_model\\TGAN3\\model\\model-480.\n",
      "\u001b[32m[0114 17:29:50 @monitor.py:467]\u001b[0m GAN_loss/discrim/accuracy_fake: 0.844\n",
      "\u001b[32m[0114 17:29:50 @monitor.py:467]\u001b[0m GAN_loss/discrim/accuracy_real: 0.292\n",
      "\u001b[32m[0114 17:29:50 @monitor.py:467]\u001b[0m GAN_loss/discrim/loss: 0.63529\n",
      "\u001b[32m[0114 17:29:50 @monitor.py:467]\u001b[0m GAN_loss/gen/final-g-loss: 1.1043\n",
      "\u001b[32m[0114 17:29:50 @monitor.py:467]\u001b[0m GAN_loss/gen/klloss: 0.066136\n",
      "\u001b[32m[0114 17:29:50 @monitor.py:467]\u001b[0m GAN_loss/gen/loss: 1.0382\n",
      "\u001b[32m[0114 17:29:50 @monitor.py:467]\u001b[0m QueueInput/queue_size: 50\n",
      "\u001b[32m[0114 17:29:50 @base.py:275]\u001b[0m Start Epoch 9 ...\n"
     ]
    },
    {
     "name": "stderr",
     "output_type": "stream",
     "text": [
      "100%|#####################################################################################|60/60[01:10<00:00, 0.85it/s]"
     ]
    },
    {
     "name": "stdout",
     "output_type": "stream",
     "text": [
      "\u001b[32m[0114 17:31:01 @base.py:285]\u001b[0m Epoch 9 (global_step 540) finished, time:1 minute 10 seconds.\n"
     ]
    },
    {
     "name": "stderr",
     "output_type": "stream",
     "text": [
      "\n"
     ]
    },
    {
     "name": "stdout",
     "output_type": "stream",
     "text": [
      "\u001b[32m[0114 17:31:02 @saver.py:79]\u001b[0m Model saved to .//Model//temp_model\\TGAN3\\model\\model-540.\n",
      "\u001b[32m[0114 17:31:02 @monitor.py:467]\u001b[0m GAN_loss/discrim/accuracy_fake: 0.826\n",
      "\u001b[32m[0114 17:31:02 @monitor.py:467]\u001b[0m GAN_loss/discrim/accuracy_real: 0.326\n",
      "\u001b[32m[0114 17:31:02 @monitor.py:467]\u001b[0m GAN_loss/discrim/loss: 0.62379\n",
      "\u001b[32m[0114 17:31:02 @monitor.py:467]\u001b[0m GAN_loss/gen/final-g-loss: 1.0467\n",
      "\u001b[32m[0114 17:31:02 @monitor.py:467]\u001b[0m GAN_loss/gen/klloss: 0.048891\n",
      "\u001b[32m[0114 17:31:02 @monitor.py:467]\u001b[0m GAN_loss/gen/loss: 0.99778\n",
      "\u001b[32m[0114 17:31:02 @monitor.py:467]\u001b[0m QueueInput/queue_size: 50\n",
      "\u001b[32m[0114 17:31:02 @base.py:275]\u001b[0m Start Epoch 10 ...\n"
     ]
    },
    {
     "name": "stderr",
     "output_type": "stream",
     "text": [
      "100%|#####################################################################################|60/60[01:11<00:00, 0.84it/s]"
     ]
    },
    {
     "name": "stdout",
     "output_type": "stream",
     "text": [
      "\u001b[32m[0114 17:32:13 @base.py:285]\u001b[0m Epoch 10 (global_step 600) finished, time:1 minute 11 seconds.\n"
     ]
    },
    {
     "name": "stderr",
     "output_type": "stream",
     "text": [
      "\n"
     ]
    },
    {
     "name": "stdout",
     "output_type": "stream",
     "text": [
      "\u001b[32m[0114 17:32:15 @saver.py:79]\u001b[0m Model saved to .//Model//temp_model\\TGAN3\\model\\model-600.\n",
      "\u001b[32m[0114 17:32:15 @monitor.py:467]\u001b[0m GAN_loss/discrim/accuracy_fake: 0.854\n",
      "\u001b[32m[0114 17:32:15 @monitor.py:467]\u001b[0m GAN_loss/discrim/accuracy_real: 0.318\n",
      "\u001b[32m[0114 17:32:15 @monitor.py:467]\u001b[0m GAN_loss/discrim/loss: 0.63584\n",
      "\u001b[32m[0114 17:32:15 @monitor.py:467]\u001b[0m GAN_loss/gen/final-g-loss: 1.0656\n",
      "\u001b[32m[0114 17:32:15 @monitor.py:467]\u001b[0m GAN_loss/gen/klloss: 0.044727\n",
      "\u001b[32m[0114 17:32:15 @monitor.py:467]\u001b[0m GAN_loss/gen/loss: 1.0208\n",
      "\u001b[32m[0114 17:32:15 @monitor.py:467]\u001b[0m QueueInput/queue_size: 50\n",
      "\u001b[32m[0114 17:32:15 @base.py:275]\u001b[0m Start Epoch 11 ...\n"
     ]
    },
    {
     "name": "stderr",
     "output_type": "stream",
     "text": [
      "100%|#####################################################################################|60/60[01:11<00:00, 0.84it/s]"
     ]
    },
    {
     "name": "stdout",
     "output_type": "stream",
     "text": [
      "\u001b[32m[0114 17:33:26 @base.py:285]\u001b[0m Epoch 11 (global_step 660) finished, time:1 minute 11 seconds.\n"
     ]
    },
    {
     "name": "stderr",
     "output_type": "stream",
     "text": [
      "\n"
     ]
    },
    {
     "name": "stdout",
     "output_type": "stream",
     "text": [
      "WARNING:tensorflow:From C:\\Users\\Arne\\anaconda3\\envs\\tfv1\\lib\\site-packages\\tensorflow_core\\python\\training\\saver.py:963: remove_checkpoint (from tensorflow.python.training.checkpoint_management) is deprecated and will be removed in a future version.\n",
      "Instructions for updating:\n",
      "Use standard file APIs to delete files with this prefix.\n",
      "\u001b[32m[0114 17:33:27 @saver.py:79]\u001b[0m Model saved to .//Model//temp_model\\TGAN3\\model\\model-660.\n",
      "\u001b[32m[0114 17:33:27 @monitor.py:467]\u001b[0m GAN_loss/discrim/accuracy_fake: 0.81\n",
      "\u001b[32m[0114 17:33:27 @monitor.py:467]\u001b[0m GAN_loss/discrim/accuracy_real: 0.304\n",
      "\u001b[32m[0114 17:33:27 @monitor.py:467]\u001b[0m GAN_loss/discrim/loss: 0.63728\n",
      "\u001b[32m[0114 17:33:27 @monitor.py:467]\u001b[0m GAN_loss/gen/final-g-loss: 1.0327\n",
      "\u001b[32m[0114 17:33:27 @monitor.py:467]\u001b[0m GAN_loss/gen/klloss: 0.051364\n",
      "\u001b[32m[0114 17:33:27 @monitor.py:467]\u001b[0m GAN_loss/gen/loss: 0.98129\n",
      "\u001b[32m[0114 17:33:27 @monitor.py:467]\u001b[0m QueueInput/queue_size: 50\n",
      "\u001b[32m[0114 17:33:27 @base.py:275]\u001b[0m Start Epoch 12 ...\n"
     ]
    },
    {
     "name": "stderr",
     "output_type": "stream",
     "text": [
      "100%|#####################################################################################|60/60[01:10<00:00, 0.85it/s]"
     ]
    },
    {
     "name": "stdout",
     "output_type": "stream",
     "text": [
      "\u001b[32m[0114 17:34:37 @base.py:285]\u001b[0m Epoch 12 (global_step 720) finished, time:1 minute 10 seconds.\n"
     ]
    },
    {
     "name": "stderr",
     "output_type": "stream",
     "text": [
      "\n"
     ]
    },
    {
     "name": "stdout",
     "output_type": "stream",
     "text": [
      "\u001b[32m[0114 17:34:38 @saver.py:79]\u001b[0m Model saved to .//Model//temp_model\\TGAN3\\model\\model-720.\n",
      "\u001b[32m[0114 17:34:38 @monitor.py:467]\u001b[0m GAN_loss/discrim/accuracy_fake: 0.844\n",
      "\u001b[32m[0114 17:34:38 @monitor.py:467]\u001b[0m GAN_loss/discrim/accuracy_real: 0.29\n",
      "\u001b[32m[0114 17:34:38 @monitor.py:467]\u001b[0m GAN_loss/discrim/loss: 0.6298\n",
      "\u001b[32m[0114 17:34:38 @monitor.py:467]\u001b[0m GAN_loss/gen/final-g-loss: 1.0469\n",
      "\u001b[32m[0114 17:34:38 @monitor.py:467]\u001b[0m GAN_loss/gen/klloss: 0.040655\n",
      "\u001b[32m[0114 17:34:38 @monitor.py:467]\u001b[0m GAN_loss/gen/loss: 1.0063\n",
      "\u001b[32m[0114 17:34:38 @monitor.py:467]\u001b[0m QueueInput/queue_size: 50\n",
      "\u001b[32m[0114 17:34:38 @base.py:275]\u001b[0m Start Epoch 13 ...\n"
     ]
    },
    {
     "name": "stderr",
     "output_type": "stream",
     "text": [
      "100%|#####################################################################################|60/60[01:08<00:00, 0.88it/s]"
     ]
    },
    {
     "name": "stdout",
     "output_type": "stream",
     "text": [
      "\u001b[32m[0114 17:35:46 @base.py:285]\u001b[0m Epoch 13 (global_step 780) finished, time:1 minute 8 seconds.\n"
     ]
    },
    {
     "name": "stderr",
     "output_type": "stream",
     "text": [
      "\n"
     ]
    },
    {
     "name": "stdout",
     "output_type": "stream",
     "text": [
      "\u001b[32m[0114 17:35:48 @saver.py:79]\u001b[0m Model saved to .//Model//temp_model\\TGAN3\\model\\model-780.\n",
      "\u001b[32m[0114 17:35:48 @monitor.py:467]\u001b[0m GAN_loss/discrim/accuracy_fake: 0.844\n",
      "\u001b[32m[0114 17:35:48 @monitor.py:467]\u001b[0m GAN_loss/discrim/accuracy_real: 0.278\n",
      "\u001b[32m[0114 17:35:48 @monitor.py:467]\u001b[0m GAN_loss/discrim/loss: 0.63026\n",
      "\u001b[32m[0114 17:35:48 @monitor.py:467]\u001b[0m GAN_loss/gen/final-g-loss: 1.0466\n",
      "\u001b[32m[0114 17:35:48 @monitor.py:467]\u001b[0m GAN_loss/gen/klloss: 0.046953\n",
      "\u001b[32m[0114 17:35:48 @monitor.py:467]\u001b[0m GAN_loss/gen/loss: 0.99966\n",
      "\u001b[32m[0114 17:35:48 @monitor.py:467]\u001b[0m QueueInput/queue_size: 50\n",
      "\u001b[32m[0114 17:35:48 @base.py:275]\u001b[0m Start Epoch 14 ...\n"
     ]
    },
    {
     "name": "stderr",
     "output_type": "stream",
     "text": [
      "100%|#####################################################################################|60/60[01:08<00:00, 0.88it/s]"
     ]
    },
    {
     "name": "stdout",
     "output_type": "stream",
     "text": [
      "\u001b[32m[0114 17:36:56 @base.py:285]\u001b[0m Epoch 14 (global_step 840) finished, time:1 minute 8 seconds.\n"
     ]
    },
    {
     "name": "stderr",
     "output_type": "stream",
     "text": [
      "\n"
     ]
    },
    {
     "name": "stdout",
     "output_type": "stream",
     "text": [
      "\u001b[32m[0114 17:36:56 @saver.py:79]\u001b[0m Model saved to .//Model//temp_model\\TGAN3\\model\\model-840.\n",
      "\u001b[32m[0114 17:36:56 @monitor.py:467]\u001b[0m GAN_loss/discrim/accuracy_fake: 0.852\n",
      "\u001b[32m[0114 17:36:56 @monitor.py:467]\u001b[0m GAN_loss/discrim/accuracy_real: 0.284\n",
      "\u001b[32m[0114 17:36:56 @monitor.py:467]\u001b[0m GAN_loss/discrim/loss: 0.62949\n",
      "\u001b[32m[0114 17:36:56 @monitor.py:467]\u001b[0m GAN_loss/gen/final-g-loss: 1.0501\n",
      "\u001b[32m[0114 17:36:56 @monitor.py:467]\u001b[0m GAN_loss/gen/klloss: 0.038781\n",
      "\u001b[32m[0114 17:36:56 @monitor.py:467]\u001b[0m GAN_loss/gen/loss: 1.0114\n",
      "\u001b[32m[0114 17:36:56 @monitor.py:467]\u001b[0m QueueInput/queue_size: 50\n",
      "\u001b[32m[0114 17:36:56 @base.py:275]\u001b[0m Start Epoch 15 ...\n"
     ]
    },
    {
     "name": "stderr",
     "output_type": "stream",
     "text": [
      "100%|#####################################################################################|60/60[01:07<00:00, 0.89it/s]"
     ]
    },
    {
     "name": "stdout",
     "output_type": "stream",
     "text": [
      "\u001b[32m[0114 17:38:03 @base.py:285]\u001b[0m Epoch 15 (global_step 900) finished, time:1 minute 7 seconds.\n"
     ]
    },
    {
     "name": "stderr",
     "output_type": "stream",
     "text": [
      "\n"
     ]
    },
    {
     "name": "stdout",
     "output_type": "stream",
     "text": [
      "\u001b[32m[0114 17:38:04 @saver.py:79]\u001b[0m Model saved to .//Model//temp_model\\TGAN3\\model\\model-900.\n",
      "\u001b[32m[0114 17:38:04 @monitor.py:467]\u001b[0m GAN_loss/discrim/accuracy_fake: 0.844\n",
      "\u001b[32m[0114 17:38:04 @monitor.py:467]\u001b[0m GAN_loss/discrim/accuracy_real: 0.29\n",
      "\u001b[32m[0114 17:38:04 @monitor.py:467]\u001b[0m GAN_loss/discrim/loss: 0.63357\n",
      "\u001b[32m[0114 17:38:04 @monitor.py:467]\u001b[0m GAN_loss/gen/final-g-loss: 1.0359\n",
      "\u001b[32m[0114 17:38:04 @monitor.py:467]\u001b[0m GAN_loss/gen/klloss: 0.040659\n",
      "\u001b[32m[0114 17:38:04 @monitor.py:467]\u001b[0m GAN_loss/gen/loss: 0.99526\n",
      "\u001b[32m[0114 17:38:04 @monitor.py:467]\u001b[0m QueueInput/queue_size: 50\n",
      "\u001b[32m[0114 17:38:04 @base.py:275]\u001b[0m Start Epoch 16 ...\n"
     ]
    },
    {
     "name": "stderr",
     "output_type": "stream",
     "text": [
      "100%|#####################################################################################|60/60[01:06<00:00, 0.90it/s]"
     ]
    },
    {
     "name": "stdout",
     "output_type": "stream",
     "text": [
      "\u001b[32m[0114 17:39:11 @base.py:285]\u001b[0m Epoch 16 (global_step 960) finished, time:1 minute 6 seconds.\n"
     ]
    },
    {
     "name": "stderr",
     "output_type": "stream",
     "text": [
      "\n"
     ]
    },
    {
     "name": "stdout",
     "output_type": "stream",
     "text": [
      "\u001b[32m[0114 17:39:11 @saver.py:79]\u001b[0m Model saved to .//Model//temp_model\\TGAN3\\model\\model-960.\n",
      "\u001b[32m[0114 17:39:11 @monitor.py:467]\u001b[0m GAN_loss/discrim/accuracy_fake: 0.852\n",
      "\u001b[32m[0114 17:39:11 @monitor.py:467]\u001b[0m GAN_loss/discrim/accuracy_real: 0.218\n",
      "\u001b[32m[0114 17:39:11 @monitor.py:467]\u001b[0m GAN_loss/discrim/loss: 0.63908\n",
      "\u001b[32m[0114 17:39:11 @monitor.py:467]\u001b[0m GAN_loss/gen/final-g-loss: 1.0508\n",
      "\u001b[32m[0114 17:39:11 @monitor.py:467]\u001b[0m GAN_loss/gen/klloss: 0.051394\n",
      "\u001b[32m[0114 17:39:11 @monitor.py:467]\u001b[0m GAN_loss/gen/loss: 0.99939\n",
      "\u001b[32m[0114 17:39:11 @monitor.py:467]\u001b[0m QueueInput/queue_size: 50\n",
      "\u001b[32m[0114 17:39:11 @base.py:275]\u001b[0m Start Epoch 17 ...\n"
     ]
    },
    {
     "name": "stderr",
     "output_type": "stream",
     "text": [
      "100%|#####################################################################################|60/60[01:06<00:00, 0.90it/s]"
     ]
    },
    {
     "name": "stdout",
     "output_type": "stream",
     "text": [
      "\u001b[32m[0114 17:40:18 @base.py:285]\u001b[0m Epoch 17 (global_step 1020) finished, time:1 minute 6 seconds.\n"
     ]
    },
    {
     "name": "stderr",
     "output_type": "stream",
     "text": [
      "\n"
     ]
    },
    {
     "name": "stdout",
     "output_type": "stream",
     "text": [
      "\u001b[32m[0114 17:40:18 @saver.py:79]\u001b[0m Model saved to .//Model//temp_model\\TGAN3\\model\\model-1020.\n",
      "\u001b[32m[0114 17:40:18 @monitor.py:467]\u001b[0m GAN_loss/discrim/accuracy_fake: 0.866\n",
      "\u001b[32m[0114 17:40:18 @monitor.py:467]\u001b[0m GAN_loss/discrim/accuracy_real: 0.238\n",
      "\u001b[32m[0114 17:40:18 @monitor.py:467]\u001b[0m GAN_loss/discrim/loss: 0.63834\n",
      "\u001b[32m[0114 17:40:18 @monitor.py:467]\u001b[0m GAN_loss/gen/final-g-loss: 1.0295\n",
      "\u001b[32m[0114 17:40:18 @monitor.py:467]\u001b[0m GAN_loss/gen/klloss: 0.03981\n",
      "\u001b[32m[0114 17:40:18 @monitor.py:467]\u001b[0m GAN_loss/gen/loss: 0.98966\n",
      "\u001b[32m[0114 17:40:18 @monitor.py:467]\u001b[0m QueueInput/queue_size: 50\n",
      "\u001b[32m[0114 17:40:18 @base.py:275]\u001b[0m Start Epoch 18 ...\n"
     ]
    },
    {
     "name": "stderr",
     "output_type": "stream",
     "text": [
      "100%|#####################################################################################|60/60[01:07<00:00, 0.89it/s]"
     ]
    },
    {
     "name": "stdout",
     "output_type": "stream",
     "text": [
      "\u001b[32m[0114 17:41:26 @base.py:285]\u001b[0m Epoch 18 (global_step 1080) finished, time:1 minute 7 seconds.\n"
     ]
    },
    {
     "name": "stderr",
     "output_type": "stream",
     "text": [
      "\n"
     ]
    },
    {
     "name": "stdout",
     "output_type": "stream",
     "text": [
      "\u001b[32m[0114 17:41:26 @saver.py:79]\u001b[0m Model saved to .//Model//temp_model\\TGAN3\\model\\model-1080.\n",
      "\u001b[32m[0114 17:41:26 @monitor.py:467]\u001b[0m GAN_loss/discrim/accuracy_fake: 0.846\n",
      "\u001b[32m[0114 17:41:26 @monitor.py:467]\u001b[0m GAN_loss/discrim/accuracy_real: 0.244\n",
      "\u001b[32m[0114 17:41:26 @monitor.py:467]\u001b[0m GAN_loss/discrim/loss: 0.64221\n",
      "\u001b[32m[0114 17:41:26 @monitor.py:467]\u001b[0m GAN_loss/gen/final-g-loss: 1.0073\n",
      "\u001b[32m[0114 17:41:26 @monitor.py:467]\u001b[0m GAN_loss/gen/klloss: 0.032756\n",
      "\u001b[32m[0114 17:41:26 @monitor.py:467]\u001b[0m GAN_loss/gen/loss: 0.97453\n",
      "\u001b[32m[0114 17:41:26 @monitor.py:467]\u001b[0m QueueInput/queue_size: 50\n",
      "\u001b[32m[0114 17:41:26 @base.py:275]\u001b[0m Start Epoch 19 ...\n"
     ]
    },
    {
     "name": "stderr",
     "output_type": "stream",
     "text": [
      "100%|#####################################################################################|60/60[01:06<00:00, 0.90it/s]"
     ]
    },
    {
     "name": "stdout",
     "output_type": "stream",
     "text": [
      "\u001b[32m[0114 17:42:33 @base.py:285]\u001b[0m Epoch 19 (global_step 1140) finished, time:1 minute 6 seconds.\n"
     ]
    },
    {
     "name": "stderr",
     "output_type": "stream",
     "text": [
      "\n"
     ]
    },
    {
     "name": "stdout",
     "output_type": "stream",
     "text": [
      "\u001b[32m[0114 17:42:34 @saver.py:79]\u001b[0m Model saved to .//Model//temp_model\\TGAN3\\model\\model-1140.\n",
      "\u001b[32m[0114 17:42:34 @monitor.py:467]\u001b[0m GAN_loss/discrim/accuracy_fake: 0.86\n",
      "\u001b[32m[0114 17:42:34 @monitor.py:467]\u001b[0m GAN_loss/discrim/accuracy_real: 0.252\n",
      "\u001b[32m[0114 17:42:34 @monitor.py:467]\u001b[0m GAN_loss/discrim/loss: 0.63395\n",
      "\u001b[32m[0114 17:42:34 @monitor.py:467]\u001b[0m GAN_loss/gen/final-g-loss: 1.0065\n",
      "\u001b[32m[0114 17:42:34 @monitor.py:467]\u001b[0m GAN_loss/gen/klloss: 0.026115\n",
      "\u001b[32m[0114 17:42:34 @monitor.py:467]\u001b[0m GAN_loss/gen/loss: 0.98042\n",
      "\u001b[32m[0114 17:42:34 @monitor.py:467]\u001b[0m QueueInput/queue_size: 50\n",
      "\u001b[32m[0114 17:42:34 @base.py:275]\u001b[0m Start Epoch 20 ...\n"
     ]
    },
    {
     "name": "stderr",
     "output_type": "stream",
     "text": [
      "100%|#####################################################################################|60/60[01:06<00:00, 0.90it/s]"
     ]
    },
    {
     "name": "stdout",
     "output_type": "stream",
     "text": [
      "\u001b[32m[0114 17:43:40 @base.py:285]\u001b[0m Epoch 20 (global_step 1200) finished, time:1 minute 6 seconds.\n"
     ]
    },
    {
     "name": "stderr",
     "output_type": "stream",
     "text": [
      "\n"
     ]
    },
    {
     "name": "stdout",
     "output_type": "stream",
     "text": [
      "\u001b[32m[0114 17:43:41 @saver.py:79]\u001b[0m Model saved to .//Model//temp_model\\TGAN3\\model\\model-1200.\n",
      "\u001b[32m[0114 17:43:41 @monitor.py:467]\u001b[0m GAN_loss/discrim/accuracy_fake: 0.856\n",
      "\u001b[32m[0114 17:43:41 @monitor.py:467]\u001b[0m GAN_loss/discrim/accuracy_real: 0.212\n",
      "\u001b[32m[0114 17:43:41 @monitor.py:467]\u001b[0m GAN_loss/discrim/loss: 0.6421\n",
      "\u001b[32m[0114 17:43:41 @monitor.py:467]\u001b[0m GAN_loss/gen/final-g-loss: 1.0147\n",
      "\u001b[32m[0114 17:43:41 @monitor.py:467]\u001b[0m GAN_loss/gen/klloss: 0.035664\n",
      "\u001b[32m[0114 17:43:41 @monitor.py:467]\u001b[0m GAN_loss/gen/loss: 0.97905\n",
      "\u001b[32m[0114 17:43:41 @monitor.py:467]\u001b[0m QueueInput/queue_size: 50\n",
      "\u001b[32m[0114 17:43:41 @base.py:275]\u001b[0m Start Epoch 21 ...\n"
     ]
    },
    {
     "name": "stderr",
     "output_type": "stream",
     "text": [
      "100%|#####################################################################################|60/60[01:05<00:00, 0.91it/s]"
     ]
    },
    {
     "name": "stdout",
     "output_type": "stream",
     "text": [
      "\u001b[32m[0114 17:44:47 @base.py:285]\u001b[0m Epoch 21 (global_step 1260) finished, time:1 minute 5 seconds.\n"
     ]
    },
    {
     "name": "stderr",
     "output_type": "stream",
     "text": [
      "\n"
     ]
    },
    {
     "name": "stdout",
     "output_type": "stream",
     "text": [
      "\u001b[32m[0114 17:44:47 @saver.py:79]\u001b[0m Model saved to .//Model//temp_model\\TGAN3\\model\\model-1260.\n",
      "\u001b[32m[0114 17:44:47 @monitor.py:467]\u001b[0m GAN_loss/discrim/accuracy_fake: 0.856\n",
      "\u001b[32m[0114 17:44:47 @monitor.py:467]\u001b[0m GAN_loss/discrim/accuracy_real: 0.204\n",
      "\u001b[32m[0114 17:44:47 @monitor.py:467]\u001b[0m GAN_loss/discrim/loss: 0.64387\n",
      "\u001b[32m[0114 17:44:47 @monitor.py:467]\u001b[0m GAN_loss/gen/final-g-loss: 0.9925\n",
      "\u001b[32m[0114 17:44:47 @monitor.py:467]\u001b[0m GAN_loss/gen/klloss: 0.023682\n",
      "\u001b[32m[0114 17:44:47 @monitor.py:467]\u001b[0m GAN_loss/gen/loss: 0.96882\n",
      "\u001b[32m[0114 17:44:47 @monitor.py:467]\u001b[0m QueueInput/queue_size: 50\n",
      "\u001b[32m[0114 17:44:47 @base.py:275]\u001b[0m Start Epoch 22 ...\n"
     ]
    },
    {
     "name": "stderr",
     "output_type": "stream",
     "text": [
      "100%|#####################################################################################|60/60[01:05<00:00, 0.91it/s]"
     ]
    },
    {
     "name": "stdout",
     "output_type": "stream",
     "text": [
      "\u001b[32m[0114 17:45:53 @base.py:285]\u001b[0m Epoch 22 (global_step 1320) finished, time:1 minute 5 seconds.\n"
     ]
    },
    {
     "name": "stderr",
     "output_type": "stream",
     "text": [
      "\n"
     ]
    },
    {
     "name": "stdout",
     "output_type": "stream",
     "text": [
      "\u001b[32m[0114 17:45:53 @saver.py:79]\u001b[0m Model saved to .//Model//temp_model\\TGAN3\\model\\model-1320.\n",
      "\u001b[32m[0114 17:45:53 @monitor.py:467]\u001b[0m GAN_loss/discrim/accuracy_fake: 0.882\n",
      "\u001b[32m[0114 17:45:53 @monitor.py:467]\u001b[0m GAN_loss/discrim/accuracy_real: 0.234\n",
      "\u001b[32m[0114 17:45:53 @monitor.py:467]\u001b[0m GAN_loss/discrim/loss: 0.64549\n",
      "\u001b[32m[0114 17:45:53 @monitor.py:467]\u001b[0m GAN_loss/gen/final-g-loss: 1.0323\n",
      "\u001b[32m[0114 17:45:53 @monitor.py:467]\u001b[0m GAN_loss/gen/klloss: 0.053203\n",
      "\u001b[32m[0114 17:45:53 @monitor.py:467]\u001b[0m GAN_loss/gen/loss: 0.97912\n",
      "\u001b[32m[0114 17:45:53 @monitor.py:467]\u001b[0m QueueInput/queue_size: 50\n",
      "\u001b[32m[0114 17:45:53 @base.py:275]\u001b[0m Start Epoch 23 ...\n"
     ]
    },
    {
     "name": "stderr",
     "output_type": "stream",
     "text": [
      "100%|#####################################################################################|60/60[01:06<00:00, 0.91it/s]"
     ]
    },
    {
     "name": "stdout",
     "output_type": "stream",
     "text": [
      "\u001b[32m[0114 17:47:00 @base.py:285]\u001b[0m Epoch 23 (global_step 1380) finished, time:1 minute 6 seconds.\n"
     ]
    },
    {
     "name": "stderr",
     "output_type": "stream",
     "text": [
      "\n"
     ]
    },
    {
     "name": "stdout",
     "output_type": "stream",
     "text": [
      "\u001b[32m[0114 17:47:02 @saver.py:79]\u001b[0m Model saved to .//Model//temp_model\\TGAN3\\model\\model-1380.\n",
      "\u001b[32m[0114 17:47:02 @monitor.py:467]\u001b[0m GAN_loss/discrim/accuracy_fake: 0.892\n",
      "\u001b[32m[0114 17:47:02 @monitor.py:467]\u001b[0m GAN_loss/discrim/accuracy_real: 0.176\n",
      "\u001b[32m[0114 17:47:02 @monitor.py:467]\u001b[0m GAN_loss/discrim/loss: 0.6472\n",
      "\u001b[32m[0114 17:47:02 @monitor.py:467]\u001b[0m GAN_loss/gen/final-g-loss: 1.0236\n",
      "\u001b[32m[0114 17:47:02 @monitor.py:467]\u001b[0m GAN_loss/gen/klloss: 0.039431\n",
      "\u001b[32m[0114 17:47:02 @monitor.py:467]\u001b[0m GAN_loss/gen/loss: 0.98419\n",
      "\u001b[32m[0114 17:47:02 @monitor.py:467]\u001b[0m QueueInput/queue_size: 50\n",
      "\u001b[32m[0114 17:47:02 @base.py:275]\u001b[0m Start Epoch 24 ...\n"
     ]
    },
    {
     "name": "stderr",
     "output_type": "stream",
     "text": [
      "100%|#####################################################################################|60/60[01:09<00:00, 0.87it/s]"
     ]
    },
    {
     "name": "stdout",
     "output_type": "stream",
     "text": [
      "\u001b[32m[0114 17:48:11 @base.py:285]\u001b[0m Epoch 24 (global_step 1440) finished, time:1 minute 9 seconds.\n"
     ]
    },
    {
     "name": "stderr",
     "output_type": "stream",
     "text": [
      "\n"
     ]
    },
    {
     "name": "stdout",
     "output_type": "stream",
     "text": [
      "\u001b[32m[0114 17:48:11 @saver.py:79]\u001b[0m Model saved to .//Model//temp_model\\TGAN3\\model\\model-1440.\n",
      "\u001b[32m[0114 17:48:11 @monitor.py:467]\u001b[0m GAN_loss/discrim/accuracy_fake: 0.888\n",
      "\u001b[32m[0114 17:48:11 @monitor.py:467]\u001b[0m GAN_loss/discrim/accuracy_real: 0.256\n",
      "\u001b[32m[0114 17:48:11 @monitor.py:467]\u001b[0m GAN_loss/discrim/loss: 0.63503\n",
      "\u001b[32m[0114 17:48:11 @monitor.py:467]\u001b[0m GAN_loss/gen/final-g-loss: 1.0347\n",
      "\u001b[32m[0114 17:48:11 @monitor.py:467]\u001b[0m GAN_loss/gen/klloss: 0.045726\n",
      "\u001b[32m[0114 17:48:11 @monitor.py:467]\u001b[0m GAN_loss/gen/loss: 0.98897\n",
      "\u001b[32m[0114 17:48:11 @monitor.py:467]\u001b[0m QueueInput/queue_size: 50\n",
      "\u001b[32m[0114 17:48:11 @base.py:275]\u001b[0m Start Epoch 25 ...\n"
     ]
    },
    {
     "name": "stderr",
     "output_type": "stream",
     "text": [
      "100%|#####################################################################################|60/60[01:06<00:00, 0.90it/s]"
     ]
    },
    {
     "name": "stdout",
     "output_type": "stream",
     "text": [
      "\u001b[32m[0114 17:49:18 @base.py:285]\u001b[0m Epoch 25 (global_step 1500) finished, time:1 minute 6 seconds.\n"
     ]
    },
    {
     "name": "stderr",
     "output_type": "stream",
     "text": [
      "\n"
     ]
    },
    {
     "name": "stdout",
     "output_type": "stream",
     "text": [
      "\u001b[32m[0114 17:49:19 @saver.py:79]\u001b[0m Model saved to .//Model//temp_model\\TGAN3\\model\\model-1500.\n",
      "\u001b[32m[0114 17:49:19 @monitor.py:467]\u001b[0m GAN_loss/discrim/accuracy_fake: 0.86\n",
      "\u001b[32m[0114 17:49:19 @monitor.py:467]\u001b[0m GAN_loss/discrim/accuracy_real: 0.228\n",
      "\u001b[32m[0114 17:49:19 @monitor.py:467]\u001b[0m GAN_loss/discrim/loss: 0.64227\n",
      "\u001b[32m[0114 17:49:19 @monitor.py:467]\u001b[0m GAN_loss/gen/final-g-loss: 1.0189\n",
      "\u001b[32m[0114 17:49:19 @monitor.py:467]\u001b[0m GAN_loss/gen/klloss: 0.041328\n",
      "\u001b[32m[0114 17:49:19 @monitor.py:467]\u001b[0m GAN_loss/gen/loss: 0.97759\n",
      "\u001b[32m[0114 17:49:19 @monitor.py:467]\u001b[0m QueueInput/queue_size: 50\n",
      "\u001b[32m[0114 17:49:19 @base.py:275]\u001b[0m Start Epoch 26 ...\n"
     ]
    },
    {
     "name": "stderr",
     "output_type": "stream",
     "text": [
      "100%|#####################################################################################|60/60[01:06<00:00, 0.91it/s]"
     ]
    },
    {
     "name": "stdout",
     "output_type": "stream",
     "text": [
      "\u001b[32m[0114 17:50:25 @base.py:285]\u001b[0m Epoch 26 (global_step 1560) finished, time:1 minute 6 seconds.\n"
     ]
    },
    {
     "name": "stderr",
     "output_type": "stream",
     "text": [
      "\n"
     ]
    },
    {
     "name": "stdout",
     "output_type": "stream",
     "text": [
      "\u001b[32m[0114 17:50:26 @saver.py:79]\u001b[0m Model saved to .//Model//temp_model\\TGAN3\\model\\model-1560.\n",
      "\u001b[32m[0114 17:50:26 @monitor.py:467]\u001b[0m GAN_loss/discrim/accuracy_fake: 0.878\n",
      "\u001b[32m[0114 17:50:26 @monitor.py:467]\u001b[0m GAN_loss/discrim/accuracy_real: 0.22\n",
      "\u001b[32m[0114 17:50:26 @monitor.py:467]\u001b[0m GAN_loss/discrim/loss: 0.63526\n",
      "\u001b[32m[0114 17:50:26 @monitor.py:467]\u001b[0m GAN_loss/gen/final-g-loss: 1.0049\n",
      "\u001b[32m[0114 17:50:26 @monitor.py:467]\u001b[0m GAN_loss/gen/klloss: 0.030656\n",
      "\u001b[32m[0114 17:50:26 @monitor.py:467]\u001b[0m GAN_loss/gen/loss: 0.97428\n",
      "\u001b[32m[0114 17:50:26 @monitor.py:467]\u001b[0m QueueInput/queue_size: 50\n",
      "\u001b[32m[0114 17:50:26 @base.py:275]\u001b[0m Start Epoch 27 ...\n"
     ]
    },
    {
     "name": "stderr",
     "output_type": "stream",
     "text": [
      "100%|#####################################################################################|60/60[01:05<00:00, 0.91it/s]"
     ]
    },
    {
     "name": "stdout",
     "output_type": "stream",
     "text": [
      "\u001b[32m[0114 17:51:32 @base.py:285]\u001b[0m Epoch 27 (global_step 1620) finished, time:1 minute 5 seconds.\n"
     ]
    },
    {
     "name": "stderr",
     "output_type": "stream",
     "text": [
      "\n"
     ]
    },
    {
     "name": "stdout",
     "output_type": "stream",
     "text": [
      "\u001b[32m[0114 17:51:33 @saver.py:79]\u001b[0m Model saved to .//Model//temp_model\\TGAN3\\model\\model-1620.\n",
      "\u001b[32m[0114 17:51:33 @monitor.py:467]\u001b[0m GAN_loss/discrim/accuracy_fake: 0.862\n",
      "\u001b[32m[0114 17:51:33 @monitor.py:467]\u001b[0m GAN_loss/discrim/accuracy_real: 0.244\n",
      "\u001b[32m[0114 17:51:33 @monitor.py:467]\u001b[0m GAN_loss/discrim/loss: 0.64643\n",
      "\u001b[32m[0114 17:51:33 @monitor.py:467]\u001b[0m GAN_loss/gen/final-g-loss: 1.0173\n",
      "\u001b[32m[0114 17:51:33 @monitor.py:467]\u001b[0m GAN_loss/gen/klloss: 0.046268\n",
      "\u001b[32m[0114 17:51:33 @monitor.py:467]\u001b[0m GAN_loss/gen/loss: 0.97107\n",
      "\u001b[32m[0114 17:51:33 @monitor.py:467]\u001b[0m QueueInput/queue_size: 50\n",
      "\u001b[32m[0114 17:51:33 @base.py:275]\u001b[0m Start Epoch 28 ...\n"
     ]
    },
    {
     "name": "stderr",
     "output_type": "stream",
     "text": [
      "100%|#####################################################################################|60/60[01:06<00:00, 0.91it/s]"
     ]
    },
    {
     "name": "stdout",
     "output_type": "stream",
     "text": [
      "\u001b[32m[0114 17:52:39 @base.py:285]\u001b[0m Epoch 28 (global_step 1680) finished, time:1 minute 6 seconds.\n"
     ]
    },
    {
     "name": "stderr",
     "output_type": "stream",
     "text": [
      "\n"
     ]
    },
    {
     "name": "stdout",
     "output_type": "stream",
     "text": [
      "\u001b[32m[0114 17:52:39 @saver.py:79]\u001b[0m Model saved to .//Model//temp_model\\TGAN3\\model\\model-1680.\n",
      "\u001b[32m[0114 17:52:39 @monitor.py:467]\u001b[0m GAN_loss/discrim/accuracy_fake: 0.872\n",
      "\u001b[32m[0114 17:52:39 @monitor.py:467]\u001b[0m GAN_loss/discrim/accuracy_real: 0.232\n",
      "\u001b[32m[0114 17:52:39 @monitor.py:467]\u001b[0m GAN_loss/discrim/loss: 0.63683\n",
      "\u001b[32m[0114 17:52:39 @monitor.py:467]\u001b[0m GAN_loss/gen/final-g-loss: 1.0039\n",
      "\u001b[32m[0114 17:52:39 @monitor.py:467]\u001b[0m GAN_loss/gen/klloss: 0.027707\n",
      "\u001b[32m[0114 17:52:39 @monitor.py:467]\u001b[0m GAN_loss/gen/loss: 0.97619\n",
      "\u001b[32m[0114 17:52:39 @monitor.py:467]\u001b[0m QueueInput/queue_size: 50\n",
      "\u001b[32m[0114 17:52:39 @base.py:275]\u001b[0m Start Epoch 29 ...\n"
     ]
    },
    {
     "name": "stderr",
     "output_type": "stream",
     "text": [
      "100%|#####################################################################################|60/60[01:07<00:00, 0.90it/s]"
     ]
    },
    {
     "name": "stdout",
     "output_type": "stream",
     "text": [
      "\u001b[32m[0114 17:53:46 @base.py:285]\u001b[0m Epoch 29 (global_step 1740) finished, time:1 minute 7 seconds.\n"
     ]
    },
    {
     "name": "stderr",
     "output_type": "stream",
     "text": [
      "\n"
     ]
    },
    {
     "name": "stdout",
     "output_type": "stream",
     "text": [
      "\u001b[32m[0114 17:53:47 @saver.py:79]\u001b[0m Model saved to .//Model//temp_model\\TGAN3\\model\\model-1740.\n",
      "\u001b[32m[0114 17:53:47 @monitor.py:467]\u001b[0m GAN_loss/discrim/accuracy_fake: 0.87\n",
      "\u001b[32m[0114 17:53:47 @monitor.py:467]\u001b[0m GAN_loss/discrim/accuracy_real: 0.22\n",
      "\u001b[32m[0114 17:53:47 @monitor.py:467]\u001b[0m GAN_loss/discrim/loss: 0.63771\n",
      "\u001b[32m[0114 17:53:47 @monitor.py:467]\u001b[0m GAN_loss/gen/final-g-loss: 1.0292\n",
      "\u001b[32m[0114 17:53:47 @monitor.py:467]\u001b[0m GAN_loss/gen/klloss: 0.057131\n",
      "\u001b[32m[0114 17:53:47 @monitor.py:467]\u001b[0m GAN_loss/gen/loss: 0.97203\n",
      "\u001b[32m[0114 17:53:47 @monitor.py:467]\u001b[0m QueueInput/queue_size: 50\n",
      "\u001b[32m[0114 17:53:47 @base.py:275]\u001b[0m Start Epoch 30 ...\n"
     ]
    },
    {
     "name": "stderr",
     "output_type": "stream",
     "text": [
      "100%|#####################################################################################|60/60[01:06<00:00, 0.91it/s]"
     ]
    },
    {
     "name": "stdout",
     "output_type": "stream",
     "text": [
      "\u001b[32m[0114 17:54:53 @base.py:285]\u001b[0m Epoch 30 (global_step 1800) finished, time:1 minute 6 seconds.\n"
     ]
    },
    {
     "name": "stderr",
     "output_type": "stream",
     "text": [
      "\n"
     ]
    },
    {
     "name": "stdout",
     "output_type": "stream",
     "text": [
      "\u001b[32m[0114 17:54:54 @saver.py:79]\u001b[0m Model saved to .//Model//temp_model\\TGAN3\\model\\model-1800.\n",
      "\u001b[32m[0114 17:54:54 @monitor.py:467]\u001b[0m GAN_loss/discrim/accuracy_fake: 0.844\n",
      "\u001b[32m[0114 17:54:54 @monitor.py:467]\u001b[0m GAN_loss/discrim/accuracy_real: 0.202\n",
      "\u001b[32m[0114 17:54:54 @monitor.py:467]\u001b[0m GAN_loss/discrim/loss: 0.64871\n",
      "\u001b[32m[0114 17:54:54 @monitor.py:467]\u001b[0m GAN_loss/gen/final-g-loss: 0.9784\n",
      "\u001b[32m[0114 17:54:54 @monitor.py:467]\u001b[0m GAN_loss/gen/klloss: 0.025451\n",
      "\u001b[32m[0114 17:54:54 @monitor.py:467]\u001b[0m GAN_loss/gen/loss: 0.95295\n",
      "\u001b[32m[0114 17:54:54 @monitor.py:467]\u001b[0m QueueInput/queue_size: 50\n",
      "\u001b[32m[0114 17:54:54 @base.py:275]\u001b[0m Start Epoch 31 ...\n"
     ]
    },
    {
     "name": "stderr",
     "output_type": "stream",
     "text": [
      "100%|#####################################################################################|60/60[01:06<00:00, 0.90it/s]"
     ]
    },
    {
     "name": "stdout",
     "output_type": "stream",
     "text": [
      "\u001b[32m[0114 17:56:00 @base.py:285]\u001b[0m Epoch 31 (global_step 1860) finished, time:1 minute 6 seconds.\n"
     ]
    },
    {
     "name": "stderr",
     "output_type": "stream",
     "text": [
      "\n"
     ]
    },
    {
     "name": "stdout",
     "output_type": "stream",
     "text": [
      "\u001b[32m[0114 17:56:01 @saver.py:79]\u001b[0m Model saved to .//Model//temp_model\\TGAN3\\model\\model-1860.\n",
      "\u001b[32m[0114 17:56:01 @monitor.py:467]\u001b[0m GAN_loss/discrim/accuracy_fake: 0.858\n",
      "\u001b[32m[0114 17:56:01 @monitor.py:467]\u001b[0m GAN_loss/discrim/accuracy_real: 0.222\n",
      "\u001b[32m[0114 17:56:01 @monitor.py:467]\u001b[0m GAN_loss/discrim/loss: 0.6412\n",
      "\u001b[32m[0114 17:56:01 @monitor.py:467]\u001b[0m GAN_loss/gen/final-g-loss: 1.0251\n",
      "\u001b[32m[0114 17:56:01 @monitor.py:467]\u001b[0m GAN_loss/gen/klloss: 0.032805\n",
      "\u001b[32m[0114 17:56:01 @monitor.py:467]\u001b[0m GAN_loss/gen/loss: 0.99225\n",
      "\u001b[32m[0114 17:56:01 @monitor.py:467]\u001b[0m QueueInput/queue_size: 50\n",
      "\u001b[32m[0114 17:56:01 @base.py:275]\u001b[0m Start Epoch 32 ...\n"
     ]
    },
    {
     "name": "stderr",
     "output_type": "stream",
     "text": [
      "100%|#####################################################################################|60/60[01:06<00:00, 0.91it/s]"
     ]
    },
    {
     "name": "stdout",
     "output_type": "stream",
     "text": [
      "\u001b[32m[0114 17:57:07 @base.py:285]\u001b[0m Epoch 32 (global_step 1920) finished, time:1 minute 6 seconds.\n"
     ]
    },
    {
     "name": "stderr",
     "output_type": "stream",
     "text": [
      "\n"
     ]
    },
    {
     "name": "stdout",
     "output_type": "stream",
     "text": [
      "\u001b[32m[0114 17:57:08 @saver.py:79]\u001b[0m Model saved to .//Model//temp_model\\TGAN3\\model\\model-1920.\n",
      "\u001b[32m[0114 17:57:08 @monitor.py:467]\u001b[0m GAN_loss/discrim/accuracy_fake: 0.842\n",
      "\u001b[32m[0114 17:57:08 @monitor.py:467]\u001b[0m GAN_loss/discrim/accuracy_real: 0.236\n",
      "\u001b[32m[0114 17:57:08 @monitor.py:467]\u001b[0m GAN_loss/discrim/loss: 0.64038\n",
      "\u001b[32m[0114 17:57:08 @monitor.py:467]\u001b[0m GAN_loss/gen/final-g-loss: 0.99314\n",
      "\u001b[32m[0114 17:57:08 @monitor.py:467]\u001b[0m GAN_loss/gen/klloss: 0.021099\n",
      "\u001b[32m[0114 17:57:08 @monitor.py:467]\u001b[0m GAN_loss/gen/loss: 0.97204\n",
      "\u001b[32m[0114 17:57:08 @monitor.py:467]\u001b[0m QueueInput/queue_size: 50\n",
      "\u001b[32m[0114 17:57:08 @base.py:275]\u001b[0m Start Epoch 33 ...\n"
     ]
    },
    {
     "name": "stderr",
     "output_type": "stream",
     "text": [
      "100%|#####################################################################################|60/60[01:06<00:00, 0.90it/s]"
     ]
    },
    {
     "name": "stdout",
     "output_type": "stream",
     "text": [
      "\u001b[32m[0114 17:58:15 @base.py:285]\u001b[0m Epoch 33 (global_step 1980) finished, time:1 minute 6 seconds.\n"
     ]
    },
    {
     "name": "stderr",
     "output_type": "stream",
     "text": [
      "\n"
     ]
    },
    {
     "name": "stdout",
     "output_type": "stream",
     "text": [
      "\u001b[32m[0114 17:58:15 @saver.py:79]\u001b[0m Model saved to .//Model//temp_model\\TGAN3\\model\\model-1980.\n",
      "\u001b[32m[0114 17:58:15 @monitor.py:467]\u001b[0m GAN_loss/discrim/accuracy_fake: 0.844\n",
      "\u001b[32m[0114 17:58:15 @monitor.py:467]\u001b[0m GAN_loss/discrim/accuracy_real: 0.22\n",
      "\u001b[32m[0114 17:58:15 @monitor.py:467]\u001b[0m GAN_loss/discrim/loss: 0.64948\n",
      "\u001b[32m[0114 17:58:15 @monitor.py:467]\u001b[0m GAN_loss/gen/final-g-loss: 0.97094\n",
      "\u001b[32m[0114 17:58:15 @monitor.py:467]\u001b[0m GAN_loss/gen/klloss: 0.020412\n",
      "\u001b[32m[0114 17:58:15 @monitor.py:467]\u001b[0m GAN_loss/gen/loss: 0.95053\n",
      "\u001b[32m[0114 17:58:15 @monitor.py:467]\u001b[0m QueueInput/queue_size: 50\n",
      "\u001b[32m[0114 17:58:15 @base.py:275]\u001b[0m Start Epoch 34 ...\n"
     ]
    },
    {
     "name": "stderr",
     "output_type": "stream",
     "text": [
      "100%|#####################################################################################|60/60[01:05<00:00, 0.91it/s]"
     ]
    },
    {
     "name": "stdout",
     "output_type": "stream",
     "text": [
      "\u001b[32m[0114 17:59:21 @base.py:285]\u001b[0m Epoch 34 (global_step 2040) finished, time:1 minute 5 seconds.\n"
     ]
    },
    {
     "name": "stderr",
     "output_type": "stream",
     "text": [
      "\n"
     ]
    },
    {
     "name": "stdout",
     "output_type": "stream",
     "text": [
      "\u001b[32m[0114 17:59:21 @saver.py:79]\u001b[0m Model saved to .//Model//temp_model\\TGAN3\\model\\model-2040.\n",
      "\u001b[32m[0114 17:59:21 @monitor.py:467]\u001b[0m GAN_loss/discrim/accuracy_fake: 0.834\n",
      "\u001b[32m[0114 17:59:21 @monitor.py:467]\u001b[0m GAN_loss/discrim/accuracy_real: 0.238\n",
      "\u001b[32m[0114 17:59:21 @monitor.py:467]\u001b[0m GAN_loss/discrim/loss: 0.64285\n",
      "\u001b[32m[0114 17:59:21 @monitor.py:467]\u001b[0m GAN_loss/gen/final-g-loss: 0.97639\n",
      "\u001b[32m[0114 17:59:21 @monitor.py:467]\u001b[0m GAN_loss/gen/klloss: 0.026516\n",
      "\u001b[32m[0114 17:59:21 @monitor.py:467]\u001b[0m GAN_loss/gen/loss: 0.94988\n",
      "\u001b[32m[0114 17:59:21 @monitor.py:467]\u001b[0m QueueInput/queue_size: 50\n",
      "\u001b[32m[0114 17:59:21 @base.py:275]\u001b[0m Start Epoch 35 ...\n"
     ]
    },
    {
     "name": "stderr",
     "output_type": "stream",
     "text": [
      "100%|#####################################################################################|60/60[01:06<00:00, 0.90it/s]"
     ]
    },
    {
     "name": "stdout",
     "output_type": "stream",
     "text": [
      "\u001b[32m[0114 18:00:28 @base.py:285]\u001b[0m Epoch 35 (global_step 2100) finished, time:1 minute 6 seconds.\n"
     ]
    },
    {
     "name": "stderr",
     "output_type": "stream",
     "text": [
      "\n"
     ]
    },
    {
     "name": "stdout",
     "output_type": "stream",
     "text": [
      "\u001b[32m[0114 18:00:29 @saver.py:79]\u001b[0m Model saved to .//Model//temp_model\\TGAN3\\model\\model-2100.\n",
      "\u001b[32m[0114 18:00:29 @monitor.py:467]\u001b[0m GAN_loss/discrim/accuracy_fake: 0.872\n",
      "\u001b[32m[0114 18:00:29 @monitor.py:467]\u001b[0m GAN_loss/discrim/accuracy_real: 0.196\n",
      "\u001b[32m[0114 18:00:29 @monitor.py:467]\u001b[0m GAN_loss/discrim/loss: 0.641\n",
      "\u001b[32m[0114 18:00:29 @monitor.py:467]\u001b[0m GAN_loss/gen/final-g-loss: 0.99892\n",
      "\u001b[32m[0114 18:00:29 @monitor.py:467]\u001b[0m GAN_loss/gen/klloss: 0.022294\n",
      "\u001b[32m[0114 18:00:29 @monitor.py:467]\u001b[0m GAN_loss/gen/loss: 0.97662\n",
      "\u001b[32m[0114 18:00:29 @monitor.py:467]\u001b[0m QueueInput/queue_size: 50\n",
      "\u001b[32m[0114 18:00:29 @base.py:275]\u001b[0m Start Epoch 36 ...\n"
     ]
    },
    {
     "name": "stderr",
     "output_type": "stream",
     "text": [
      "100%|#####################################################################################|60/60[01:06<00:00, 0.91it/s]"
     ]
    },
    {
     "name": "stdout",
     "output_type": "stream",
     "text": [
      "\u001b[32m[0114 18:01:35 @base.py:285]\u001b[0m Epoch 36 (global_step 2160) finished, time:1 minute 6 seconds.\n"
     ]
    },
    {
     "name": "stderr",
     "output_type": "stream",
     "text": [
      "\n"
     ]
    },
    {
     "name": "stdout",
     "output_type": "stream",
     "text": [
      "\u001b[32m[0114 18:01:35 @saver.py:79]\u001b[0m Model saved to .//Model//temp_model\\TGAN3\\model\\model-2160.\n",
      "\u001b[32m[0114 18:01:35 @monitor.py:467]\u001b[0m GAN_loss/discrim/accuracy_fake: 0.888\n",
      "\u001b[32m[0114 18:01:35 @monitor.py:467]\u001b[0m GAN_loss/discrim/accuracy_real: 0.218\n",
      "\u001b[32m[0114 18:01:35 @monitor.py:467]\u001b[0m GAN_loss/discrim/loss: 0.63812\n",
      "\u001b[32m[0114 18:01:35 @monitor.py:467]\u001b[0m GAN_loss/gen/final-g-loss: 1.0152\n",
      "\u001b[32m[0114 18:01:35 @monitor.py:467]\u001b[0m GAN_loss/gen/klloss: 0.042567\n",
      "\u001b[32m[0114 18:01:35 @monitor.py:467]\u001b[0m GAN_loss/gen/loss: 0.97266\n",
      "\u001b[32m[0114 18:01:35 @monitor.py:467]\u001b[0m QueueInput/queue_size: 50\n",
      "\u001b[32m[0114 18:01:35 @base.py:275]\u001b[0m Start Epoch 37 ...\n"
     ]
    },
    {
     "name": "stderr",
     "output_type": "stream",
     "text": [
      "100%|#####################################################################################|60/60[01:07<00:00, 0.89it/s]"
     ]
    },
    {
     "name": "stdout",
     "output_type": "stream",
     "text": [
      "\u001b[32m[0114 18:02:43 @base.py:285]\u001b[0m Epoch 37 (global_step 2220) finished, time:1 minute 7 seconds.\n"
     ]
    },
    {
     "name": "stderr",
     "output_type": "stream",
     "text": [
      "\n"
     ]
    },
    {
     "name": "stdout",
     "output_type": "stream",
     "text": [
      "\u001b[32m[0114 18:02:44 @saver.py:79]\u001b[0m Model saved to .//Model//temp_model\\TGAN3\\model\\model-2220.\n",
      "\u001b[32m[0114 18:02:44 @monitor.py:467]\u001b[0m GAN_loss/discrim/accuracy_fake: 0.91\n",
      "\u001b[32m[0114 18:02:44 @monitor.py:467]\u001b[0m GAN_loss/discrim/accuracy_real: 0.176\n",
      "\u001b[32m[0114 18:02:44 @monitor.py:467]\u001b[0m GAN_loss/discrim/loss: 0.64138\n",
      "\u001b[32m[0114 18:02:44 @monitor.py:467]\u001b[0m GAN_loss/gen/final-g-loss: 1.0163\n",
      "\u001b[32m[0114 18:02:44 @monitor.py:467]\u001b[0m GAN_loss/gen/klloss: 0.040986\n",
      "\u001b[32m[0114 18:02:44 @monitor.py:467]\u001b[0m GAN_loss/gen/loss: 0.9753\n",
      "\u001b[32m[0114 18:02:44 @monitor.py:467]\u001b[0m QueueInput/queue_size: 50\n",
      "\u001b[32m[0114 18:02:44 @base.py:275]\u001b[0m Start Epoch 38 ...\n"
     ]
    },
    {
     "name": "stderr",
     "output_type": "stream",
     "text": [
      "100%|#####################################################################################|60/60[01:08<00:00, 0.87it/s]"
     ]
    },
    {
     "name": "stdout",
     "output_type": "stream",
     "text": [
      "\u001b[32m[0114 18:03:52 @base.py:285]\u001b[0m Epoch 38 (global_step 2280) finished, time:1 minute 8 seconds.\n"
     ]
    },
    {
     "name": "stderr",
     "output_type": "stream",
     "text": [
      "\n"
     ]
    },
    {
     "name": "stdout",
     "output_type": "stream",
     "text": [
      "\u001b[32m[0114 18:03:53 @saver.py:79]\u001b[0m Model saved to .//Model//temp_model\\TGAN3\\model\\model-2280.\n",
      "\u001b[32m[0114 18:03:53 @monitor.py:467]\u001b[0m GAN_loss/discrim/accuracy_fake: 0.862\n",
      "\u001b[32m[0114 18:03:53 @monitor.py:467]\u001b[0m GAN_loss/discrim/accuracy_real: 0.204\n",
      "\u001b[32m[0114 18:03:53 @monitor.py:467]\u001b[0m GAN_loss/discrim/loss: 0.63989\n",
      "\u001b[32m[0114 18:03:53 @monitor.py:467]\u001b[0m GAN_loss/gen/final-g-loss: 0.98584\n",
      "\u001b[32m[0114 18:03:53 @monitor.py:467]\u001b[0m GAN_loss/gen/klloss: 0.038427\n",
      "\u001b[32m[0114 18:03:53 @monitor.py:467]\u001b[0m GAN_loss/gen/loss: 0.94741\n",
      "\u001b[32m[0114 18:03:53 @monitor.py:467]\u001b[0m QueueInput/queue_size: 50\n",
      "\u001b[32m[0114 18:03:53 @base.py:275]\u001b[0m Start Epoch 39 ...\n"
     ]
    },
    {
     "name": "stderr",
     "output_type": "stream",
     "text": [
      "100%|#####################################################################################|60/60[01:06<00:00, 0.90it/s]"
     ]
    },
    {
     "name": "stdout",
     "output_type": "stream",
     "text": [
      "\u001b[32m[0114 18:05:00 @base.py:285]\u001b[0m Epoch 39 (global_step 2340) finished, time:1 minute 6 seconds.\n"
     ]
    },
    {
     "name": "stderr",
     "output_type": "stream",
     "text": [
      "\n"
     ]
    },
    {
     "name": "stdout",
     "output_type": "stream",
     "text": [
      "\u001b[32m[0114 18:05:01 @saver.py:79]\u001b[0m Model saved to .//Model//temp_model\\TGAN3\\model\\model-2340.\n",
      "\u001b[32m[0114 18:05:01 @monitor.py:467]\u001b[0m GAN_loss/discrim/accuracy_fake: 0.89\n",
      "\u001b[32m[0114 18:05:01 @monitor.py:467]\u001b[0m GAN_loss/discrim/accuracy_real: 0.164\n",
      "\u001b[32m[0114 18:05:01 @monitor.py:467]\u001b[0m GAN_loss/discrim/loss: 0.64627\n",
      "\u001b[32m[0114 18:05:01 @monitor.py:467]\u001b[0m GAN_loss/gen/final-g-loss: 0.97798\n",
      "\u001b[32m[0114 18:05:01 @monitor.py:467]\u001b[0m GAN_loss/gen/klloss: 0.032005\n",
      "\u001b[32m[0114 18:05:01 @monitor.py:467]\u001b[0m GAN_loss/gen/loss: 0.94598\n",
      "\u001b[32m[0114 18:05:01 @monitor.py:467]\u001b[0m QueueInput/queue_size: 50\n",
      "\u001b[32m[0114 18:05:01 @base.py:275]\u001b[0m Start Epoch 40 ...\n"
     ]
    },
    {
     "name": "stderr",
     "output_type": "stream",
     "text": [
      "100%|#####################################################################################|60/60[01:07<00:00, 0.88it/s]"
     ]
    },
    {
     "name": "stdout",
     "output_type": "stream",
     "text": [
      "\u001b[32m[0114 18:06:09 @base.py:285]\u001b[0m Epoch 40 (global_step 2400) finished, time:1 minute 7 seconds.\n"
     ]
    },
    {
     "name": "stderr",
     "output_type": "stream",
     "text": [
      "\n"
     ]
    },
    {
     "name": "stdout",
     "output_type": "stream",
     "text": [
      "\u001b[32m[0114 18:06:09 @saver.py:79]\u001b[0m Model saved to .//Model//temp_model\\TGAN3\\model\\model-2400.\n",
      "\u001b[32m[0114 18:06:09 @monitor.py:467]\u001b[0m GAN_loss/discrim/accuracy_fake: 0.874\n",
      "\u001b[32m[0114 18:06:09 @monitor.py:467]\u001b[0m GAN_loss/discrim/accuracy_real: 0.202\n",
      "\u001b[32m[0114 18:06:09 @monitor.py:467]\u001b[0m GAN_loss/discrim/loss: 0.63679\n",
      "\u001b[32m[0114 18:06:09 @monitor.py:467]\u001b[0m GAN_loss/gen/final-g-loss: 0.98671\n",
      "\u001b[32m[0114 18:06:09 @monitor.py:467]\u001b[0m GAN_loss/gen/klloss: 0.026041\n",
      "\u001b[32m[0114 18:06:09 @monitor.py:467]\u001b[0m GAN_loss/gen/loss: 0.96066\n",
      "\u001b[32m[0114 18:06:09 @monitor.py:467]\u001b[0m QueueInput/queue_size: 50\n",
      "\u001b[32m[0114 18:06:09 @base.py:289]\u001b[0m Training has finished!\n",
      "WARNING:tensorflow:From C:\\Users\\Arne\\anaconda3\\envs\\tfv1\\lib\\site-packages\\tensorpack\\predict\\config.py:101: The name tf.train.ChiefSessionCreator is deprecated. Please use tf.compat.v1.train.ChiefSessionCreator instead.\n",
      "\n",
      "\u001b[32m[0114 18:06:10 @input_source.py:178]\u001b[0m EnqueueThread QueueInput/input_queue Exited.\n",
      "WARNING:tensorflow:From C:\\Users\\Arne\\anaconda3\\envs\\tfv1\\lib\\site-packages\\tensorpack\\tfutils\\collection.py:45: The name tf.get_collection_ref is deprecated. Please use tf.compat.v1.get_collection_ref instead.\n",
      "\n",
      "\u001b[32m[0114 18:06:11 @collection.py:146]\u001b[0m New collections created in tower : tf.GraphKeys.REGULARIZATION_LOSSES\n",
      "\u001b[32m[0114 18:06:11 @collection.py:165]\u001b[0m These collections were modified but restored in : (tf.GraphKeys.SUMMARIES: 0->2)\n",
      "WARNING:tensorflow:From C:\\Users\\Arne\\anaconda3\\envs\\tfv1\\lib\\site-packages\\tensorpack\\tfutils\\sessinit.py:120: The name tf.train.NewCheckpointReader is deprecated. Please use tf.compat.v1.train.NewCheckpointReader instead.\n",
      "\n",
      "WARNING:tensorflow:From C:\\Users\\Arne\\anaconda3\\envs\\tfv1\\lib\\site-packages\\tensorpack\\tfutils\\sessinit.py:127: The name tf.global_variables is deprecated. Please use tf.compat.v1.global_variables instead.\n",
      "\n",
      "\u001b[32m[0114 18:06:11 @sessinit.py:87]\u001b[0m \u001b[5m\u001b[31mWRN\u001b[0m The following variables are in the checkpoint, but not found in the graph: global_step, optimize/beta1_power, optimize/beta2_power\n",
      "INFO:tensorflow:Graph was finalized.\n",
      "INFO:tensorflow:Running local_init_op.\n",
      "INFO:tensorflow:Done running local_init_op.\n",
      "\u001b[32m[0114 18:06:12 @sessinit.py:114]\u001b[0m Restoring checkpoint from .//Model//temp_model\\TGAN3\\model\\model-2400 ...\n",
      "INFO:tensorflow:Restoring parameters from .//Model//temp_model\\TGAN3\\model\\model-2400\n"
     ]
    },
    {
     "name": "stderr",
     "output_type": "stream",
     "text": [
      " 12%|#########9                                                                          |59/500[00:16<01:59, 3.68it/s]\n"
     ]
    },
    {
     "name": "stdout",
     "output_type": "stream",
     "text": [
      "\u001b[32m[0114 18:06:28 @input_source.py:222]\u001b[0m Setting up the queue 'QueueInput/input_queue' for CPU prefetching ...\n",
      "\u001b[32m[0114 18:06:33 @logger.py:90]\u001b[0m Argv: C:\\Users\\Arne\\anaconda3\\envs\\tfv1\\lib\\site-packages\\ipykernel_launcher.py -f C:\\Users\\Arne\\AppData\\Roaming\\jupyter\\runtime\\kernel-95c990b4-007f-4c92-b889-4b29f1351785.json\n",
      "\u001b[32m[0114 18:06:33 @model_utils.py:67]\u001b[0m \u001b[36mList of Trainable Variables: \n",
      "\u001b[0mname                              shape           #elements\n",
      "--------------------------------  ------------  -----------\n",
      "gen/LSTM/go:0                     [1, 100]              100\n",
      "gen/LSTM/lstm_cell/kernel:0       [500, 400]         200000\n",
      "gen/LSTM/lstm_cell/bias:0         [400]                 400\n",
      "gen/LSTM/00/FC/W:0                [100, 100]          10000\n",
      "gen/LSTM/00/FC/b:0                [100]                 100\n",
      "gen/LSTM/00/FC2/W:0               [100, 72]            7200\n",
      "gen/LSTM/00/FC2/b:0               [72]                   72\n",
      "gen/LSTM/00/FC3/W:0               [72, 100]            7200\n",
      "gen/LSTM/00/FC3/b:0               [100]                 100\n",
      "gen/LSTM/00/attw:0                [1, 1, 1]               1\n",
      "gen/LSTM/01/FC/W:0                [100, 100]          10000\n",
      "gen/LSTM/01/FC/b:0                [100]                 100\n",
      "gen/LSTM/01/FC2/W:0               [100, 5]              500\n",
      "gen/LSTM/01/FC2/b:0               [5]                     5\n",
      "gen/LSTM/01/FC3/W:0               [5, 100]              500\n",
      "gen/LSTM/01/FC3/b:0               [100]                 100\n",
      "gen/LSTM/01/attw:0                [2, 1, 1]               2\n",
      "gen/LSTM/02/FC/W:0                [100, 100]          10000\n",
      "gen/LSTM/02/FC/b:0                [100]                 100\n",
      "gen/LSTM/02/FC2/W:0               [100, 20263]      2026300\n",
      "gen/LSTM/02/FC2/b:0               [20263]             20263\n",
      "gen/LSTM/02/FC3/W:0               [20263, 100]      2026300\n",
      "gen/LSTM/02/FC3/b:0               [100]                 100\n",
      "gen/LSTM/02/attw:0                [3, 1, 1]               3\n",
      "gen/LSTM/03/FC/W:0                [100, 100]          10000\n",
      "gen/LSTM/03/FC/b:0                [100]                 100\n",
      "gen/LSTM/03/FC2/W:0               [100, 9]              900\n",
      "gen/LSTM/03/FC2/b:0               [9]                     9\n",
      "gen/LSTM/03/FC3/W:0               [9, 100]              900\n",
      "gen/LSTM/03/FC3/b:0               [100]                 100\n",
      "gen/LSTM/03/attw:0                [4, 1, 1]               4\n",
      "gen/LSTM/04/FC/W:0                [100, 100]          10000\n",
      "gen/LSTM/04/FC/b:0                [100]                 100\n",
      "gen/LSTM/04/FC2/W:0               [100, 16]            1600\n",
      "gen/LSTM/04/FC2/b:0               [16]                   16\n",
      "gen/LSTM/04/FC3/W:0               [16, 100]            1600\n",
      "gen/LSTM/04/FC3/b:0               [100]                 100\n",
      "gen/LSTM/04/attw:0                [5, 1, 1]               5\n",
      "gen/LSTM/05/FC/W:0                [100, 100]          10000\n",
      "gen/LSTM/05/FC/b:0                [100]                 100\n",
      "gen/LSTM/05/FC2/W:0               [100, 5]              500\n",
      "gen/LSTM/05/FC2/b:0               [5]                     5\n",
      "gen/LSTM/05/FC3/W:0               [5, 100]              500\n",
      "gen/LSTM/05/FC3/b:0               [100]                 100\n",
      "gen/LSTM/05/attw:0                [6, 1, 1]               6\n",
      "gen/LSTM/06/FC/W:0                [100, 100]          10000\n",
      "gen/LSTM/06/FC/b:0                [100]                 100\n",
      "gen/LSTM/06/FC2/W:0               [100, 14]            1400\n",
      "gen/LSTM/06/FC2/b:0               [14]                   14\n",
      "gen/LSTM/06/FC3/W:0               [14, 100]            1400\n",
      "gen/LSTM/06/FC3/b:0               [100]                 100\n",
      "gen/LSTM/06/attw:0                [7, 1, 1]               7\n",
      "gen/LSTM/07/FC/W:0                [100, 100]          10000\n",
      "gen/LSTM/07/FC/b:0                [100]                 100\n",
      "gen/LSTM/07/FC2/W:0               [100, 5]              500\n",
      "gen/LSTM/07/FC2/b:0               [5]                     5\n",
      "gen/LSTM/07/FC3/W:0               [5, 100]              500\n",
      "gen/LSTM/07/FC3/b:0               [100]                 100\n",
      "gen/LSTM/07/attw:0                [8, 1, 1]               8\n",
      "gen/LSTM/08/FC/W:0                [100, 100]          10000\n",
      "gen/LSTM/08/FC/b:0                [100]                 100\n",
      "gen/LSTM/08/FC2/W:0               [100, 2]              200\n",
      "gen/LSTM/08/FC2/b:0               [2]                     2\n",
      "gen/LSTM/08/FC3/W:0               [2, 100]              200\n",
      "gen/LSTM/08/FC3/b:0               [100]                 100\n",
      "gen/LSTM/08/attw:0                [9, 1, 1]               9\n",
      "gen/LSTM/09/FC/W:0                [100, 100]          10000\n",
      "gen/LSTM/09/FC/b:0                [100]                 100\n",
      "gen/LSTM/09/FC2/W:0               [100, 118]          11800\n",
      "gen/LSTM/09/FC2/b:0               [118]                 118\n",
      "gen/LSTM/09/FC3/W:0               [118, 100]          11800\n",
      "gen/LSTM/09/FC3/b:0               [100]                 100\n",
      "gen/LSTM/09/attw:0                [10, 1, 1]             10\n",
      "gen/LSTM/10/FC/W:0                [100, 100]          10000\n",
      "gen/LSTM/10/FC/b:0                [100]                 100\n",
      "gen/LSTM/10/FC2/W:0               [100, 90]            9000\n",
      "gen/LSTM/10/FC2/b:0               [90]                   90\n",
      "gen/LSTM/10/FC3/W:0               [90, 100]            9000\n",
      "gen/LSTM/10/FC3/b:0               [100]                 100\n",
      "gen/LSTM/10/attw:0                [11, 1, 1]             11\n",
      "gen/LSTM/11/FC/W:0                [100, 100]          10000\n",
      "gen/LSTM/11/FC/b:0                [100]                 100\n",
      "gen/LSTM/11/FC2/W:0               [100, 94]            9400\n",
      "gen/LSTM/11/FC2/b:0               [94]                   94\n",
      "gen/LSTM/11/FC3/W:0               [94, 100]            9400\n",
      "gen/LSTM/11/FC3/b:0               [100]                 100\n",
      "gen/LSTM/11/attw:0                [12, 1, 1]             12\n",
      "gen/LSTM/12/FC/W:0                [100, 100]          10000\n",
      "gen/LSTM/12/FC/b:0                [100]                 100\n",
      "gen/LSTM/12/FC2/W:0               [100, 2]              200\n",
      "gen/LSTM/12/FC2/b:0               [2]                     2\n",
      "gen/LSTM/12/FC3/W:0               [2, 100]              200\n",
      "gen/LSTM/12/FC3/b:0               [100]                 100\n",
      "gen/LSTM/12/attw:0                [13, 1, 1]             13\n",
      "gen/LSTM/13/FC/W:0                [100, 100]          10000\n",
      "gen/LSTM/13/FC/b:0                [100]                 100\n",
      "gen/LSTM/13/FC2/W:0               [100, 2]              200\n",
      "gen/LSTM/13/FC2/b:0               [2]                     2\n",
      "gen/LSTM/13/FC3/W:0               [2, 100]              200\n",
      "gen/LSTM/13/FC3/b:0               [100]                 100\n",
      "gen/LSTM/13/attw:0                [14, 1, 1]             14\n",
      "discrim/dis_fc0/fc/W:0            [20697, 256]      5298432\n",
      "discrim/dis_fc0/fc/b:0            [256]                 256\n",
      "discrim/dis_fc0/fc_diversity/W:0  [256, 100]          25600\n",
      "discrim/dis_fc0/fc_diversity/b:0  [100]                 100\n",
      "discrim/dis_fc0/bn/beta:0         [266]                 266\n",
      "discrim/dis_fc_top/W:0            [266, 1]              266\n",
      "discrim/dis_fc_top/b:0            [1]                     1\u001b[36m\n",
      "Number of trainable variables: 108\n",
      "Number of parameters (elements): 9828423\n",
      "Storage space needed for all trainable variables: 37.49MB\u001b[0m\n",
      "\u001b[32m[0114 18:06:33 @base.py:209]\u001b[0m Setup callbacks graph ...\n",
      "\u001b[32m[0114 18:06:33 @summary.py:46]\u001b[0m [MovingAverageSummary] 6 operations in collection 'MOVING_SUMMARY_OPS' will be run with session hooks.\n",
      "\u001b[32m[0114 18:06:33 @summary.py:93]\u001b[0m Summarizing collection 'summaries' of size 9.\n",
      "\u001b[32m[0114 18:06:33 @graph.py:98]\u001b[0m Applying collection UPDATE_OPS of 4 ops.\n",
      "\u001b[32m[0114 18:06:34 @base.py:230]\u001b[0m Creating the session ...\n",
      "\u001b[32m[0114 18:06:36 @base.py:236]\u001b[0m Initializing the session ...\n",
      "\u001b[32m[0114 18:06:36 @base.py:243]\u001b[0m Graph Finalized.\n",
      "\u001b[32m[0114 18:06:36 @concurrency.py:38]\u001b[0m Starting EnqueueThread QueueInput/input_queue ...\n",
      "\u001b[32m[0114 18:06:36 @base.py:275]\u001b[0m Start Epoch 1 ...\n"
     ]
    },
    {
     "name": "stderr",
     "output_type": "stream",
     "text": [
      "100%|#####################################################################################|60/60[01:12<00:00, 0.83it/s]"
     ]
    },
    {
     "name": "stdout",
     "output_type": "stream",
     "text": [
      "\u001b[32m[0114 18:07:49 @base.py:285]\u001b[0m Epoch 1 (global_step 60) finished, time:1 minute 12 seconds.\n"
     ]
    },
    {
     "name": "stderr",
     "output_type": "stream",
     "text": [
      "\n"
     ]
    },
    {
     "name": "stdout",
     "output_type": "stream",
     "text": [
      "\u001b[32m[0114 18:07:49 @saver.py:79]\u001b[0m Model saved to .//Model//temp_model\\TGAN4\\model\\model-60.\n",
      "\u001b[32m[0114 18:07:49 @monitor.py:467]\u001b[0m GAN_loss/discrim/accuracy_fake: 0.722\n",
      "\u001b[32m[0114 18:07:49 @monitor.py:467]\u001b[0m GAN_loss/discrim/accuracy_real: 0.352\n",
      "\u001b[32m[0114 18:07:49 @monitor.py:467]\u001b[0m GAN_loss/discrim/loss: 0.73202\n",
      "\u001b[32m[0114 18:07:49 @monitor.py:467]\u001b[0m GAN_loss/gen/final-g-loss: 1.1142\n",
      "\u001b[32m[0114 18:07:49 @monitor.py:467]\u001b[0m GAN_loss/gen/klloss: 0.020921\n",
      "\u001b[32m[0114 18:07:49 @monitor.py:467]\u001b[0m GAN_loss/gen/loss: 1.0932\n",
      "\u001b[32m[0114 18:07:49 @monitor.py:467]\u001b[0m QueueInput/queue_size: 50\n",
      "\u001b[32m[0114 18:07:49 @base.py:275]\u001b[0m Start Epoch 2 ...\n"
     ]
    },
    {
     "name": "stderr",
     "output_type": "stream",
     "text": [
      "100%|#####################################################################################|60/60[01:08<00:00, 0.88it/s]"
     ]
    },
    {
     "name": "stdout",
     "output_type": "stream",
     "text": [
      "\u001b[32m[0114 18:08:58 @base.py:285]\u001b[0m Epoch 2 (global_step 120) finished, time:1 minute 8 seconds.\n"
     ]
    },
    {
     "name": "stderr",
     "output_type": "stream",
     "text": [
      "\n"
     ]
    },
    {
     "name": "stdout",
     "output_type": "stream",
     "text": [
      "\u001b[32m[0114 18:08:58 @saver.py:79]\u001b[0m Model saved to .//Model//temp_model\\TGAN4\\model\\model-120.\n",
      "\u001b[32m[0114 18:08:58 @monitor.py:467]\u001b[0m GAN_loss/discrim/accuracy_fake: 0.828\n",
      "\u001b[32m[0114 18:08:58 @monitor.py:467]\u001b[0m GAN_loss/discrim/accuracy_real: 0.32\n",
      "\u001b[32m[0114 18:08:58 @monitor.py:467]\u001b[0m GAN_loss/discrim/loss: 0.63927\n",
      "\u001b[32m[0114 18:08:58 @monitor.py:467]\u001b[0m GAN_loss/gen/final-g-loss: 1.1037\n",
      "\u001b[32m[0114 18:08:58 @monitor.py:467]\u001b[0m GAN_loss/gen/klloss: 0.032254\n",
      "\u001b[32m[0114 18:08:58 @monitor.py:467]\u001b[0m GAN_loss/gen/loss: 1.0714\n",
      "\u001b[32m[0114 18:08:58 @monitor.py:467]\u001b[0m QueueInput/queue_size: 50\n",
      "\u001b[32m[0114 18:08:58 @base.py:275]\u001b[0m Start Epoch 3 ...\n"
     ]
    },
    {
     "name": "stderr",
     "output_type": "stream",
     "text": [
      "100%|#####################################################################################|60/60[01:08<00:00, 0.87it/s]"
     ]
    },
    {
     "name": "stdout",
     "output_type": "stream",
     "text": [
      "\u001b[32m[0114 18:10:07 @base.py:285]\u001b[0m Epoch 3 (global_step 180) finished, time:1 minute 8 seconds.\n"
     ]
    },
    {
     "name": "stderr",
     "output_type": "stream",
     "text": [
      "\n"
     ]
    },
    {
     "name": "stdout",
     "output_type": "stream",
     "text": [
      "\u001b[32m[0114 18:10:08 @saver.py:79]\u001b[0m Model saved to .//Model//temp_model\\TGAN4\\model\\model-180.\n",
      "\u001b[32m[0114 18:10:08 @monitor.py:467]\u001b[0m GAN_loss/discrim/accuracy_fake: 0.804\n",
      "\u001b[32m[0114 18:10:08 @monitor.py:467]\u001b[0m GAN_loss/discrim/accuracy_real: 0.34\n",
      "\u001b[32m[0114 18:10:08 @monitor.py:467]\u001b[0m GAN_loss/discrim/loss: 0.63325\n",
      "\u001b[32m[0114 18:10:08 @monitor.py:467]\u001b[0m GAN_loss/gen/final-g-loss: 1.0627\n",
      "\u001b[32m[0114 18:10:08 @monitor.py:467]\u001b[0m GAN_loss/gen/klloss: 0.025763\n",
      "\u001b[32m[0114 18:10:08 @monitor.py:467]\u001b[0m GAN_loss/gen/loss: 1.0369\n",
      "\u001b[32m[0114 18:10:08 @monitor.py:467]\u001b[0m QueueInput/queue_size: 50\n",
      "\u001b[32m[0114 18:10:08 @base.py:275]\u001b[0m Start Epoch 4 ...\n"
     ]
    },
    {
     "name": "stderr",
     "output_type": "stream",
     "text": [
      "100%|#####################################################################################|60/60[01:08<00:00, 0.88it/s]"
     ]
    },
    {
     "name": "stdout",
     "output_type": "stream",
     "text": [
      "\u001b[32m[0114 18:11:16 @base.py:285]\u001b[0m Epoch 4 (global_step 240) finished, time:1 minute 8 seconds.\n"
     ]
    },
    {
     "name": "stderr",
     "output_type": "stream",
     "text": [
      "\n"
     ]
    },
    {
     "name": "stdout",
     "output_type": "stream",
     "text": [
      "\u001b[32m[0114 18:11:16 @saver.py:79]\u001b[0m Model saved to .//Model//temp_model\\TGAN4\\model\\model-240.\n",
      "\u001b[32m[0114 18:11:16 @monitor.py:467]\u001b[0m GAN_loss/discrim/accuracy_fake: 0.862\n",
      "\u001b[32m[0114 18:11:16 @monitor.py:467]\u001b[0m GAN_loss/discrim/accuracy_real: 0.374\n",
      "\u001b[32m[0114 18:11:16 @monitor.py:467]\u001b[0m GAN_loss/discrim/loss: 0.60758\n",
      "\u001b[32m[0114 18:11:16 @monitor.py:467]\u001b[0m GAN_loss/gen/final-g-loss: 1.1343\n",
      "\u001b[32m[0114 18:11:16 @monitor.py:467]\u001b[0m GAN_loss/gen/klloss: 0.072436\n",
      "\u001b[32m[0114 18:11:16 @monitor.py:467]\u001b[0m GAN_loss/gen/loss: 1.0618\n",
      "\u001b[32m[0114 18:11:16 @monitor.py:467]\u001b[0m QueueInput/queue_size: 50\n",
      "\u001b[32m[0114 18:11:16 @base.py:275]\u001b[0m Start Epoch 5 ...\n"
     ]
    },
    {
     "name": "stderr",
     "output_type": "stream",
     "text": [
      "100%|#####################################################################################|60/60[01:08<00:00, 0.88it/s]"
     ]
    },
    {
     "name": "stdout",
     "output_type": "stream",
     "text": [
      "\u001b[32m[0114 18:12:25 @base.py:285]\u001b[0m Epoch 5 (global_step 300) finished, time:1 minute 8 seconds.\n"
     ]
    },
    {
     "name": "stderr",
     "output_type": "stream",
     "text": [
      "\n"
     ]
    },
    {
     "name": "stdout",
     "output_type": "stream",
     "text": [
      "\u001b[32m[0114 18:12:26 @saver.py:79]\u001b[0m Model saved to .//Model//temp_model\\TGAN4\\model\\model-300.\n",
      "\u001b[32m[0114 18:12:26 @monitor.py:467]\u001b[0m GAN_loss/discrim/accuracy_fake: 0.854\n",
      "\u001b[32m[0114 18:12:26 @monitor.py:467]\u001b[0m GAN_loss/discrim/accuracy_real: 0.336\n",
      "\u001b[32m[0114 18:12:26 @monitor.py:467]\u001b[0m GAN_loss/discrim/loss: 0.61902\n",
      "\u001b[32m[0114 18:12:26 @monitor.py:467]\u001b[0m GAN_loss/gen/final-g-loss: 1.1024\n",
      "\u001b[32m[0114 18:12:26 @monitor.py:467]\u001b[0m GAN_loss/gen/klloss: 0.040895\n",
      "\u001b[32m[0114 18:12:26 @monitor.py:467]\u001b[0m GAN_loss/gen/loss: 1.0615\n",
      "\u001b[32m[0114 18:12:26 @monitor.py:467]\u001b[0m QueueInput/queue_size: 50\n",
      "\u001b[32m[0114 18:12:26 @base.py:275]\u001b[0m Start Epoch 6 ...\n"
     ]
    },
    {
     "name": "stderr",
     "output_type": "stream",
     "text": [
      "100%|#####################################################################################|60/60[01:08<00:00, 0.88it/s]"
     ]
    },
    {
     "name": "stdout",
     "output_type": "stream",
     "text": [
      "\u001b[32m[0114 18:13:34 @base.py:285]\u001b[0m Epoch 6 (global_step 360) finished, time:1 minute 8 seconds.\n"
     ]
    },
    {
     "name": "stderr",
     "output_type": "stream",
     "text": [
      "\n"
     ]
    },
    {
     "name": "stdout",
     "output_type": "stream",
     "text": [
      "\u001b[32m[0114 18:13:35 @saver.py:79]\u001b[0m Model saved to .//Model//temp_model\\TGAN4\\model\\model-360.\n",
      "\u001b[32m[0114 18:13:35 @monitor.py:467]\u001b[0m GAN_loss/discrim/accuracy_fake: 0.8\n",
      "\u001b[32m[0114 18:13:35 @monitor.py:467]\u001b[0m GAN_loss/discrim/accuracy_real: 0.384\n",
      "\u001b[32m[0114 18:13:35 @monitor.py:467]\u001b[0m GAN_loss/discrim/loss: 0.62315\n",
      "\u001b[32m[0114 18:13:35 @monitor.py:467]\u001b[0m GAN_loss/gen/final-g-loss: 1.0731\n",
      "\u001b[32m[0114 18:13:35 @monitor.py:467]\u001b[0m GAN_loss/gen/klloss: 0.06365\n",
      "\u001b[32m[0114 18:13:35 @monitor.py:467]\u001b[0m GAN_loss/gen/loss: 1.0095\n",
      "\u001b[32m[0114 18:13:35 @monitor.py:467]\u001b[0m QueueInput/queue_size: 50\n",
      "\u001b[32m[0114 18:13:35 @base.py:275]\u001b[0m Start Epoch 7 ...\n"
     ]
    },
    {
     "name": "stderr",
     "output_type": "stream",
     "text": [
      "100%|#####################################################################################|60/60[01:08<00:00, 0.88it/s]"
     ]
    },
    {
     "name": "stdout",
     "output_type": "stream",
     "text": [
      "\u001b[32m[0114 18:14:43 @base.py:285]\u001b[0m Epoch 7 (global_step 420) finished, time:1 minute 8 seconds.\n"
     ]
    },
    {
     "name": "stderr",
     "output_type": "stream",
     "text": [
      "\n"
     ]
    },
    {
     "name": "stdout",
     "output_type": "stream",
     "text": [
      "\u001b[32m[0114 18:14:45 @saver.py:79]\u001b[0m Model saved to .//Model//temp_model\\TGAN4\\model\\model-420.\n",
      "\u001b[32m[0114 18:14:45 @monitor.py:467]\u001b[0m GAN_loss/discrim/accuracy_fake: 0.85\n",
      "\u001b[32m[0114 18:14:45 @monitor.py:467]\u001b[0m GAN_loss/discrim/accuracy_real: 0.328\n",
      "\u001b[32m[0114 18:14:45 @monitor.py:467]\u001b[0m GAN_loss/discrim/loss: 0.62641\n",
      "\u001b[32m[0114 18:14:45 @monitor.py:467]\u001b[0m GAN_loss/gen/final-g-loss: 1.0964\n",
      "\u001b[32m[0114 18:14:45 @monitor.py:467]\u001b[0m GAN_loss/gen/klloss: 0.035543\n",
      "\u001b[32m[0114 18:14:45 @monitor.py:467]\u001b[0m GAN_loss/gen/loss: 1.0609\n",
      "\u001b[32m[0114 18:14:45 @monitor.py:467]\u001b[0m QueueInput/queue_size: 50\n",
      "\u001b[32m[0114 18:14:45 @base.py:275]\u001b[0m Start Epoch 8 ...\n"
     ]
    },
    {
     "name": "stderr",
     "output_type": "stream",
     "text": [
      "100%|#####################################################################################|60/60[01:08<00:00, 0.87it/s]"
     ]
    },
    {
     "name": "stdout",
     "output_type": "stream",
     "text": [
      "\u001b[32m[0114 18:15:54 @base.py:285]\u001b[0m Epoch 8 (global_step 480) finished, time:1 minute 8 seconds.\n"
     ]
    },
    {
     "name": "stderr",
     "output_type": "stream",
     "text": [
      "\n"
     ]
    },
    {
     "name": "stdout",
     "output_type": "stream",
     "text": [
      "\u001b[32m[0114 18:15:54 @saver.py:79]\u001b[0m Model saved to .//Model//temp_model\\TGAN4\\model\\model-480.\n",
      "\u001b[32m[0114 18:15:54 @monitor.py:467]\u001b[0m GAN_loss/discrim/accuracy_fake: 0.812\n",
      "\u001b[32m[0114 18:15:54 @monitor.py:467]\u001b[0m GAN_loss/discrim/accuracy_real: 0.292\n",
      "\u001b[32m[0114 18:15:54 @monitor.py:467]\u001b[0m GAN_loss/discrim/loss: 0.6305\n",
      "\u001b[32m[0114 18:15:54 @monitor.py:467]\u001b[0m GAN_loss/gen/final-g-loss: 1.0781\n",
      "\u001b[32m[0114 18:15:54 @monitor.py:467]\u001b[0m GAN_loss/gen/klloss: 0.056341\n",
      "\u001b[32m[0114 18:15:54 @monitor.py:467]\u001b[0m GAN_loss/gen/loss: 1.0218\n",
      "\u001b[32m[0114 18:15:54 @monitor.py:467]\u001b[0m QueueInput/queue_size: 50\n",
      "\u001b[32m[0114 18:15:54 @base.py:275]\u001b[0m Start Epoch 9 ...\n"
     ]
    },
    {
     "name": "stderr",
     "output_type": "stream",
     "text": [
      "100%|#####################################################################################|60/60[01:08<00:00, 0.88it/s]"
     ]
    },
    {
     "name": "stdout",
     "output_type": "stream",
     "text": [
      "\u001b[32m[0114 18:17:02 @base.py:285]\u001b[0m Epoch 9 (global_step 540) finished, time:1 minute 8 seconds.\n"
     ]
    },
    {
     "name": "stderr",
     "output_type": "stream",
     "text": [
      "\n"
     ]
    },
    {
     "name": "stdout",
     "output_type": "stream",
     "text": [
      "\u001b[32m[0114 18:17:03 @saver.py:79]\u001b[0m Model saved to .//Model//temp_model\\TGAN4\\model\\model-540.\n",
      "\u001b[32m[0114 18:17:03 @monitor.py:467]\u001b[0m GAN_loss/discrim/accuracy_fake: 0.832\n",
      "\u001b[32m[0114 18:17:03 @monitor.py:467]\u001b[0m GAN_loss/discrim/accuracy_real: 0.384\n",
      "\u001b[32m[0114 18:17:03 @monitor.py:467]\u001b[0m GAN_loss/discrim/loss: 0.62847\n",
      "\u001b[32m[0114 18:17:03 @monitor.py:467]\u001b[0m GAN_loss/gen/final-g-loss: 1.0861\n",
      "\u001b[32m[0114 18:17:03 @monitor.py:467]\u001b[0m GAN_loss/gen/klloss: 0.064795\n",
      "\u001b[32m[0114 18:17:03 @monitor.py:467]\u001b[0m GAN_loss/gen/loss: 1.0213\n",
      "\u001b[32m[0114 18:17:03 @monitor.py:467]\u001b[0m QueueInput/queue_size: 50\n",
      "\u001b[32m[0114 18:17:03 @base.py:275]\u001b[0m Start Epoch 10 ...\n"
     ]
    },
    {
     "name": "stderr",
     "output_type": "stream",
     "text": [
      "100%|#####################################################################################|60/60[01:09<00:00, 0.87it/s]"
     ]
    },
    {
     "name": "stdout",
     "output_type": "stream",
     "text": [
      "\u001b[32m[0114 18:18:12 @base.py:285]\u001b[0m Epoch 10 (global_step 600) finished, time:1 minute 9 seconds.\n"
     ]
    },
    {
     "name": "stderr",
     "output_type": "stream",
     "text": [
      "\n"
     ]
    },
    {
     "name": "stdout",
     "output_type": "stream",
     "text": [
      "\u001b[32m[0114 18:18:14 @saver.py:79]\u001b[0m Model saved to .//Model//temp_model\\TGAN4\\model\\model-600.\n",
      "\u001b[32m[0114 18:18:14 @monitor.py:467]\u001b[0m GAN_loss/discrim/accuracy_fake: 0.83\n",
      "\u001b[32m[0114 18:18:14 @monitor.py:467]\u001b[0m GAN_loss/discrim/accuracy_real: 0.358\n",
      "\u001b[32m[0114 18:18:14 @monitor.py:467]\u001b[0m GAN_loss/discrim/loss: 0.63111\n",
      "\u001b[32m[0114 18:18:14 @monitor.py:467]\u001b[0m GAN_loss/gen/final-g-loss: 1.1\n",
      "\u001b[32m[0114 18:18:14 @monitor.py:467]\u001b[0m GAN_loss/gen/klloss: 0.077321\n",
      "\u001b[32m[0114 18:18:14 @monitor.py:467]\u001b[0m GAN_loss/gen/loss: 1.0227\n",
      "\u001b[32m[0114 18:18:14 @monitor.py:467]\u001b[0m QueueInput/queue_size: 50\n",
      "\u001b[32m[0114 18:18:14 @base.py:275]\u001b[0m Start Epoch 11 ...\n"
     ]
    },
    {
     "name": "stderr",
     "output_type": "stream",
     "text": [
      "100%|#####################################################################################|60/60[01:08<00:00, 0.88it/s]"
     ]
    },
    {
     "name": "stdout",
     "output_type": "stream",
     "text": [
      "\u001b[32m[0114 18:19:23 @base.py:285]\u001b[0m Epoch 11 (global_step 660) finished, time:1 minute 8 seconds.\n"
     ]
    },
    {
     "name": "stderr",
     "output_type": "stream",
     "text": [
      "\n"
     ]
    },
    {
     "name": "stdout",
     "output_type": "stream",
     "text": [
      "\u001b[32m[0114 18:19:23 @saver.py:79]\u001b[0m Model saved to .//Model//temp_model\\TGAN4\\model\\model-660.\n",
      "\u001b[32m[0114 18:19:23 @monitor.py:467]\u001b[0m GAN_loss/discrim/accuracy_fake: 0.852\n",
      "\u001b[32m[0114 18:19:23 @monitor.py:467]\u001b[0m GAN_loss/discrim/accuracy_real: 0.322\n",
      "\u001b[32m[0114 18:19:23 @monitor.py:467]\u001b[0m GAN_loss/discrim/loss: 0.62307\n",
      "\u001b[32m[0114 18:19:23 @monitor.py:467]\u001b[0m GAN_loss/gen/final-g-loss: 1.0456\n",
      "\u001b[32m[0114 18:19:23 @monitor.py:467]\u001b[0m GAN_loss/gen/klloss: 0.029373\n",
      "\u001b[32m[0114 18:19:23 @monitor.py:467]\u001b[0m GAN_loss/gen/loss: 1.0162\n",
      "\u001b[32m[0114 18:19:23 @monitor.py:467]\u001b[0m QueueInput/queue_size: 50\n",
      "\u001b[32m[0114 18:19:23 @base.py:275]\u001b[0m Start Epoch 12 ...\n"
     ]
    },
    {
     "name": "stderr",
     "output_type": "stream",
     "text": [
      "100%|#####################################################################################|60/60[01:08<00:00, 0.88it/s]"
     ]
    },
    {
     "name": "stdout",
     "output_type": "stream",
     "text": [
      "\u001b[32m[0114 18:20:32 @base.py:285]\u001b[0m Epoch 12 (global_step 720) finished, time:1 minute 8 seconds.\n"
     ]
    },
    {
     "name": "stderr",
     "output_type": "stream",
     "text": [
      "\n"
     ]
    },
    {
     "name": "stdout",
     "output_type": "stream",
     "text": [
      "\u001b[32m[0114 18:20:32 @saver.py:79]\u001b[0m Model saved to .//Model//temp_model\\TGAN4\\model\\model-720.\n",
      "\u001b[32m[0114 18:20:32 @monitor.py:467]\u001b[0m GAN_loss/discrim/accuracy_fake: 0.85\n",
      "\u001b[32m[0114 18:20:32 @monitor.py:467]\u001b[0m GAN_loss/discrim/accuracy_real: 0.286\n",
      "\u001b[32m[0114 18:20:32 @monitor.py:467]\u001b[0m GAN_loss/discrim/loss: 0.63185\n",
      "\u001b[32m[0114 18:20:32 @monitor.py:467]\u001b[0m GAN_loss/gen/final-g-loss: 1.0735\n",
      "\u001b[32m[0114 18:20:32 @monitor.py:467]\u001b[0m GAN_loss/gen/klloss: 0.037164\n",
      "\u001b[32m[0114 18:20:32 @monitor.py:467]\u001b[0m GAN_loss/gen/loss: 1.0364\n",
      "\u001b[32m[0114 18:20:32 @monitor.py:467]\u001b[0m QueueInput/queue_size: 50\n",
      "\u001b[32m[0114 18:20:32 @base.py:275]\u001b[0m Start Epoch 13 ...\n"
     ]
    },
    {
     "name": "stderr",
     "output_type": "stream",
     "text": [
      "100%|#####################################################################################|60/60[01:08<00:00, 0.87it/s]"
     ]
    },
    {
     "name": "stdout",
     "output_type": "stream",
     "text": [
      "\u001b[32m[0114 18:21:41 @base.py:285]\u001b[0m Epoch 13 (global_step 780) finished, time:1 minute 8 seconds.\n"
     ]
    },
    {
     "name": "stderr",
     "output_type": "stream",
     "text": [
      "\n"
     ]
    },
    {
     "name": "stdout",
     "output_type": "stream",
     "text": [
      "\u001b[32m[0114 18:21:42 @saver.py:79]\u001b[0m Model saved to .//Model//temp_model\\TGAN4\\model\\model-780.\n",
      "\u001b[32m[0114 18:21:42 @monitor.py:467]\u001b[0m GAN_loss/discrim/accuracy_fake: 0.842\n",
      "\u001b[32m[0114 18:21:42 @monitor.py:467]\u001b[0m GAN_loss/discrim/accuracy_real: 0.27\n",
      "\u001b[32m[0114 18:21:42 @monitor.py:467]\u001b[0m GAN_loss/discrim/loss: 0.63514\n",
      "\u001b[32m[0114 18:21:42 @monitor.py:467]\u001b[0m GAN_loss/gen/final-g-loss: 1.0737\n",
      "\u001b[32m[0114 18:21:42 @monitor.py:467]\u001b[0m GAN_loss/gen/klloss: 0.059563\n",
      "\u001b[32m[0114 18:21:42 @monitor.py:467]\u001b[0m GAN_loss/gen/loss: 1.0141\n",
      "\u001b[32m[0114 18:21:42 @monitor.py:467]\u001b[0m QueueInput/queue_size: 50\n",
      "\u001b[32m[0114 18:21:42 @base.py:275]\u001b[0m Start Epoch 14 ...\n"
     ]
    },
    {
     "name": "stderr",
     "output_type": "stream",
     "text": [
      "100%|#####################################################################################|60/60[01:08<00:00, 0.88it/s]"
     ]
    },
    {
     "name": "stdout",
     "output_type": "stream",
     "text": [
      "\u001b[32m[0114 18:22:50 @base.py:285]\u001b[0m Epoch 14 (global_step 840) finished, time:1 minute 8 seconds.\n"
     ]
    },
    {
     "name": "stderr",
     "output_type": "stream",
     "text": [
      "\n"
     ]
    },
    {
     "name": "stdout",
     "output_type": "stream",
     "text": [
      "\u001b[32m[0114 18:22:51 @saver.py:79]\u001b[0m Model saved to .//Model//temp_model\\TGAN4\\model\\model-840.\n",
      "\u001b[32m[0114 18:22:51 @monitor.py:467]\u001b[0m GAN_loss/discrim/accuracy_fake: 0.846\n",
      "\u001b[32m[0114 18:22:51 @monitor.py:467]\u001b[0m GAN_loss/discrim/accuracy_real: 0.294\n",
      "\u001b[32m[0114 18:22:51 @monitor.py:467]\u001b[0m GAN_loss/discrim/loss: 0.63126\n",
      "\u001b[32m[0114 18:22:51 @monitor.py:467]\u001b[0m GAN_loss/gen/final-g-loss: 1.028\n",
      "\u001b[32m[0114 18:22:51 @monitor.py:467]\u001b[0m GAN_loss/gen/klloss: 0.028222\n",
      "\u001b[32m[0114 18:22:51 @monitor.py:467]\u001b[0m GAN_loss/gen/loss: 0.99977\n",
      "\u001b[32m[0114 18:22:51 @monitor.py:467]\u001b[0m QueueInput/queue_size: 50\n",
      "\u001b[32m[0114 18:22:51 @base.py:275]\u001b[0m Start Epoch 15 ...\n"
     ]
    },
    {
     "name": "stderr",
     "output_type": "stream",
     "text": [
      "100%|#####################################################################################|60/60[01:09<00:00, 0.87it/s]"
     ]
    },
    {
     "name": "stdout",
     "output_type": "stream",
     "text": [
      "\u001b[32m[0114 18:24:00 @base.py:285]\u001b[0m Epoch 15 (global_step 900) finished, time:1 minute 9 seconds.\n"
     ]
    },
    {
     "name": "stderr",
     "output_type": "stream",
     "text": [
      "\n"
     ]
    },
    {
     "name": "stdout",
     "output_type": "stream",
     "text": [
      "\u001b[32m[0114 18:24:01 @saver.py:79]\u001b[0m Model saved to .//Model//temp_model\\TGAN4\\model\\model-900.\n",
      "\u001b[32m[0114 18:24:01 @monitor.py:467]\u001b[0m GAN_loss/discrim/accuracy_fake: 0.844\n",
      "\u001b[32m[0114 18:24:01 @monitor.py:467]\u001b[0m GAN_loss/discrim/accuracy_real: 0.264\n",
      "\u001b[32m[0114 18:24:01 @monitor.py:467]\u001b[0m GAN_loss/discrim/loss: 0.64291\n",
      "\u001b[32m[0114 18:24:01 @monitor.py:467]\u001b[0m GAN_loss/gen/final-g-loss: 1.0161\n",
      "\u001b[32m[0114 18:24:01 @monitor.py:467]\u001b[0m GAN_loss/gen/klloss: 0.029914\n",
      "\u001b[32m[0114 18:24:01 @monitor.py:467]\u001b[0m GAN_loss/gen/loss: 0.98615\n",
      "\u001b[32m[0114 18:24:01 @monitor.py:467]\u001b[0m QueueInput/queue_size: 50\n",
      "\u001b[32m[0114 18:24:01 @base.py:275]\u001b[0m Start Epoch 16 ...\n"
     ]
    },
    {
     "name": "stderr",
     "output_type": "stream",
     "text": [
      "100%|#####################################################################################|60/60[01:09<00:00, 0.86it/s]"
     ]
    },
    {
     "name": "stdout",
     "output_type": "stream",
     "text": [
      "\u001b[32m[0114 18:25:10 @base.py:285]\u001b[0m Epoch 16 (global_step 960) finished, time:1 minute 9 seconds.\n"
     ]
    },
    {
     "name": "stderr",
     "output_type": "stream",
     "text": [
      "\n"
     ]
    },
    {
     "name": "stdout",
     "output_type": "stream",
     "text": [
      "\u001b[32m[0114 18:25:11 @saver.py:79]\u001b[0m Model saved to .//Model//temp_model\\TGAN4\\model\\model-960.\n",
      "\u001b[32m[0114 18:25:11 @monitor.py:467]\u001b[0m GAN_loss/discrim/accuracy_fake: 0.832\n",
      "\u001b[32m[0114 18:25:11 @monitor.py:467]\u001b[0m GAN_loss/discrim/accuracy_real: 0.258\n",
      "\u001b[32m[0114 18:25:11 @monitor.py:467]\u001b[0m GAN_loss/discrim/loss: 0.65194\n",
      "\u001b[32m[0114 18:25:11 @monitor.py:467]\u001b[0m GAN_loss/gen/final-g-loss: 1.0179\n",
      "\u001b[32m[0114 18:25:11 @monitor.py:467]\u001b[0m GAN_loss/gen/klloss: 0.031881\n",
      "\u001b[32m[0114 18:25:11 @monitor.py:467]\u001b[0m GAN_loss/gen/loss: 0.98604\n",
      "\u001b[32m[0114 18:25:11 @monitor.py:467]\u001b[0m QueueInput/queue_size: 50\n",
      "\u001b[32m[0114 18:25:11 @base.py:275]\u001b[0m Start Epoch 17 ...\n"
     ]
    },
    {
     "name": "stderr",
     "output_type": "stream",
     "text": [
      "100%|#####################################################################################|60/60[01:08<00:00, 0.88it/s]"
     ]
    },
    {
     "name": "stdout",
     "output_type": "stream",
     "text": [
      "\u001b[32m[0114 18:26:19 @base.py:285]\u001b[0m Epoch 17 (global_step 1020) finished, time:1 minute 8 seconds.\n"
     ]
    },
    {
     "name": "stderr",
     "output_type": "stream",
     "text": [
      "\n"
     ]
    },
    {
     "name": "stdout",
     "output_type": "stream",
     "text": [
      "\u001b[32m[0114 18:26:21 @saver.py:79]\u001b[0m Model saved to .//Model//temp_model\\TGAN4\\model\\model-1020.\n",
      "\u001b[32m[0114 18:26:21 @monitor.py:467]\u001b[0m GAN_loss/discrim/accuracy_fake: 0.85\n",
      "\u001b[32m[0114 18:26:21 @monitor.py:467]\u001b[0m GAN_loss/discrim/accuracy_real: 0.254\n",
      "\u001b[32m[0114 18:26:21 @monitor.py:467]\u001b[0m GAN_loss/discrim/loss: 0.63585\n",
      "\u001b[32m[0114 18:26:21 @monitor.py:467]\u001b[0m GAN_loss/gen/final-g-loss: 1.0323\n",
      "\u001b[32m[0114 18:26:21 @monitor.py:467]\u001b[0m GAN_loss/gen/klloss: 0.033524\n",
      "\u001b[32m[0114 18:26:21 @monitor.py:467]\u001b[0m GAN_loss/gen/loss: 0.99876\n",
      "\u001b[32m[0114 18:26:21 @monitor.py:467]\u001b[0m QueueInput/queue_size: 50\n",
      "\u001b[32m[0114 18:26:21 @base.py:275]\u001b[0m Start Epoch 18 ...\n"
     ]
    },
    {
     "name": "stderr",
     "output_type": "stream",
     "text": [
      "100%|#####################################################################################|60/60[01:11<00:00, 0.84it/s]"
     ]
    },
    {
     "name": "stdout",
     "output_type": "stream",
     "text": [
      "\u001b[32m[0114 18:27:33 @base.py:285]\u001b[0m Epoch 18 (global_step 1080) finished, time:1 minute 11 seconds.\n"
     ]
    },
    {
     "name": "stderr",
     "output_type": "stream",
     "text": [
      "\n"
     ]
    },
    {
     "name": "stdout",
     "output_type": "stream",
     "text": [
      "\u001b[32m[0114 18:27:34 @saver.py:79]\u001b[0m Model saved to .//Model//temp_model\\TGAN4\\model\\model-1080.\n",
      "\u001b[32m[0114 18:27:34 @monitor.py:467]\u001b[0m GAN_loss/discrim/accuracy_fake: 0.842\n",
      "\u001b[32m[0114 18:27:34 @monitor.py:467]\u001b[0m GAN_loss/discrim/accuracy_real: 0.284\n",
      "\u001b[32m[0114 18:27:34 @monitor.py:467]\u001b[0m GAN_loss/discrim/loss: 0.63187\n",
      "\u001b[32m[0114 18:27:34 @monitor.py:467]\u001b[0m GAN_loss/gen/final-g-loss: 1.0356\n",
      "\u001b[32m[0114 18:27:34 @monitor.py:467]\u001b[0m GAN_loss/gen/klloss: 0.038916\n",
      "\u001b[32m[0114 18:27:34 @monitor.py:467]\u001b[0m GAN_loss/gen/loss: 0.99669\n",
      "\u001b[32m[0114 18:27:34 @monitor.py:467]\u001b[0m QueueInput/queue_size: 50\n",
      "\u001b[32m[0114 18:27:34 @base.py:275]\u001b[0m Start Epoch 19 ...\n"
     ]
    },
    {
     "name": "stderr",
     "output_type": "stream",
     "text": [
      "100%|#####################################################################################|60/60[01:09<00:00, 0.86it/s]"
     ]
    },
    {
     "name": "stdout",
     "output_type": "stream",
     "text": [
      "\u001b[32m[0114 18:28:43 @base.py:285]\u001b[0m Epoch 19 (global_step 1140) finished, time:1 minute 9 seconds.\n"
     ]
    },
    {
     "name": "stderr",
     "output_type": "stream",
     "text": [
      "\n"
     ]
    },
    {
     "name": "stdout",
     "output_type": "stream",
     "text": [
      "\u001b[32m[0114 18:28:45 @saver.py:79]\u001b[0m Model saved to .//Model//temp_model\\TGAN4\\model\\model-1140.\n",
      "\u001b[32m[0114 18:28:45 @monitor.py:467]\u001b[0m GAN_loss/discrim/accuracy_fake: 0.856\n",
      "\u001b[32m[0114 18:28:45 @monitor.py:467]\u001b[0m GAN_loss/discrim/accuracy_real: 0.284\n",
      "\u001b[32m[0114 18:28:45 @monitor.py:467]\u001b[0m GAN_loss/discrim/loss: 0.63817\n",
      "\u001b[32m[0114 18:28:45 @monitor.py:467]\u001b[0m GAN_loss/gen/final-g-loss: 1.0213\n",
      "\u001b[32m[0114 18:28:45 @monitor.py:467]\u001b[0m GAN_loss/gen/klloss: 0.029392\n",
      "\u001b[32m[0114 18:28:45 @monitor.py:467]\u001b[0m GAN_loss/gen/loss: 0.9919\n",
      "\u001b[32m[0114 18:28:45 @monitor.py:467]\u001b[0m QueueInput/queue_size: 50\n",
      "\u001b[32m[0114 18:28:45 @base.py:275]\u001b[0m Start Epoch 20 ...\n"
     ]
    },
    {
     "name": "stderr",
     "output_type": "stream",
     "text": [
      "100%|#####################################################################################|60/60[01:08<00:00, 0.87it/s]"
     ]
    },
    {
     "name": "stdout",
     "output_type": "stream",
     "text": [
      "\u001b[32m[0114 18:29:54 @base.py:285]\u001b[0m Epoch 20 (global_step 1200) finished, time:1 minute 8 seconds.\n"
     ]
    },
    {
     "name": "stderr",
     "output_type": "stream",
     "text": [
      "\n"
     ]
    },
    {
     "name": "stdout",
     "output_type": "stream",
     "text": [
      "\u001b[32m[0114 18:29:54 @saver.py:79]\u001b[0m Model saved to .//Model//temp_model\\TGAN4\\model\\model-1200.\n",
      "\u001b[32m[0114 18:29:54 @monitor.py:467]\u001b[0m GAN_loss/discrim/accuracy_fake: 0.842\n",
      "\u001b[32m[0114 18:29:54 @monitor.py:467]\u001b[0m GAN_loss/discrim/accuracy_real: 0.252\n",
      "\u001b[32m[0114 18:29:54 @monitor.py:467]\u001b[0m GAN_loss/discrim/loss: 0.6363\n",
      "\u001b[32m[0114 18:29:54 @monitor.py:467]\u001b[0m GAN_loss/gen/final-g-loss: 1.0236\n",
      "\u001b[32m[0114 18:29:54 @monitor.py:467]\u001b[0m GAN_loss/gen/klloss: 0.029748\n",
      "\u001b[32m[0114 18:29:54 @monitor.py:467]\u001b[0m GAN_loss/gen/loss: 0.99382\n",
      "\u001b[32m[0114 18:29:54 @monitor.py:467]\u001b[0m QueueInput/queue_size: 50\n",
      "\u001b[32m[0114 18:29:54 @base.py:275]\u001b[0m Start Epoch 21 ...\n"
     ]
    },
    {
     "name": "stderr",
     "output_type": "stream",
     "text": [
      "100%|#####################################################################################|60/60[01:08<00:00, 0.88it/s]"
     ]
    },
    {
     "name": "stdout",
     "output_type": "stream",
     "text": [
      "\u001b[32m[0114 18:31:03 @base.py:285]\u001b[0m Epoch 21 (global_step 1260) finished, time:1 minute 8 seconds.\n"
     ]
    },
    {
     "name": "stderr",
     "output_type": "stream",
     "text": [
      "\n"
     ]
    },
    {
     "name": "stdout",
     "output_type": "stream",
     "text": [
      "\u001b[32m[0114 18:31:04 @saver.py:79]\u001b[0m Model saved to .//Model//temp_model\\TGAN4\\model\\model-1260.\n",
      "\u001b[32m[0114 18:31:04 @monitor.py:467]\u001b[0m GAN_loss/discrim/accuracy_fake: 0.856\n",
      "\u001b[32m[0114 18:31:04 @monitor.py:467]\u001b[0m GAN_loss/discrim/accuracy_real: 0.292\n",
      "\u001b[32m[0114 18:31:04 @monitor.py:467]\u001b[0m GAN_loss/discrim/loss: 0.63264\n",
      "\u001b[32m[0114 18:31:04 @monitor.py:467]\u001b[0m GAN_loss/gen/final-g-loss: 1.0265\n",
      "\u001b[32m[0114 18:31:04 @monitor.py:467]\u001b[0m GAN_loss/gen/klloss: 0.030434\n",
      "\u001b[32m[0114 18:31:04 @monitor.py:467]\u001b[0m GAN_loss/gen/loss: 0.99612\n",
      "\u001b[32m[0114 18:31:04 @monitor.py:467]\u001b[0m QueueInput/queue_size: 50\n",
      "\u001b[32m[0114 18:31:04 @base.py:275]\u001b[0m Start Epoch 22 ...\n"
     ]
    },
    {
     "name": "stderr",
     "output_type": "stream",
     "text": [
      "100%|#####################################################################################|60/60[01:06<00:00, 0.90it/s]"
     ]
    },
    {
     "name": "stdout",
     "output_type": "stream",
     "text": [
      "\u001b[32m[0114 18:32:11 @base.py:285]\u001b[0m Epoch 22 (global_step 1320) finished, time:1 minute 6 seconds.\n"
     ]
    },
    {
     "name": "stderr",
     "output_type": "stream",
     "text": [
      "\n"
     ]
    },
    {
     "name": "stdout",
     "output_type": "stream",
     "text": [
      "\u001b[32m[0114 18:32:12 @saver.py:79]\u001b[0m Model saved to .//Model//temp_model\\TGAN4\\model\\model-1320.\n",
      "\u001b[32m[0114 18:32:12 @monitor.py:467]\u001b[0m GAN_loss/discrim/accuracy_fake: 0.85\n",
      "\u001b[32m[0114 18:32:12 @monitor.py:467]\u001b[0m GAN_loss/discrim/accuracy_real: 0.256\n",
      "\u001b[32m[0114 18:32:12 @monitor.py:467]\u001b[0m GAN_loss/discrim/loss: 0.63444\n",
      "\u001b[32m[0114 18:32:12 @monitor.py:467]\u001b[0m GAN_loss/gen/final-g-loss: 1.0398\n",
      "\u001b[32m[0114 18:32:12 @monitor.py:467]\u001b[0m GAN_loss/gen/klloss: 0.048746\n",
      "\u001b[32m[0114 18:32:12 @monitor.py:467]\u001b[0m GAN_loss/gen/loss: 0.99106\n",
      "\u001b[32m[0114 18:32:12 @monitor.py:467]\u001b[0m QueueInput/queue_size: 50\n",
      "\u001b[32m[0114 18:32:12 @base.py:275]\u001b[0m Start Epoch 23 ...\n"
     ]
    },
    {
     "name": "stderr",
     "output_type": "stream",
     "text": [
      "100%|#####################################################################################|60/60[01:06<00:00, 0.91it/s]"
     ]
    },
    {
     "name": "stdout",
     "output_type": "stream",
     "text": [
      "\u001b[32m[0114 18:33:18 @base.py:285]\u001b[0m Epoch 23 (global_step 1380) finished, time:1 minute 6 seconds.\n"
     ]
    },
    {
     "name": "stderr",
     "output_type": "stream",
     "text": [
      "\n"
     ]
    },
    {
     "name": "stdout",
     "output_type": "stream",
     "text": [
      "\u001b[32m[0114 18:33:19 @saver.py:79]\u001b[0m Model saved to .//Model//temp_model\\TGAN4\\model\\model-1380.\n",
      "\u001b[32m[0114 18:33:19 @monitor.py:467]\u001b[0m GAN_loss/discrim/accuracy_fake: 0.842\n",
      "\u001b[32m[0114 18:33:19 @monitor.py:467]\u001b[0m GAN_loss/discrim/accuracy_real: 0.314\n",
      "\u001b[32m[0114 18:33:19 @monitor.py:467]\u001b[0m GAN_loss/discrim/loss: 0.63756\n",
      "\u001b[32m[0114 18:33:19 @monitor.py:467]\u001b[0m GAN_loss/gen/final-g-loss: 1.0113\n",
      "\u001b[32m[0114 18:33:19 @monitor.py:467]\u001b[0m GAN_loss/gen/klloss: 0.039806\n",
      "\u001b[32m[0114 18:33:19 @monitor.py:467]\u001b[0m GAN_loss/gen/loss: 0.97145\n",
      "\u001b[32m[0114 18:33:19 @monitor.py:467]\u001b[0m QueueInput/queue_size: 50\n",
      "\u001b[32m[0114 18:33:19 @base.py:275]\u001b[0m Start Epoch 24 ...\n"
     ]
    },
    {
     "name": "stderr",
     "output_type": "stream",
     "text": [
      "100%|#####################################################################################|60/60[01:05<00:00, 0.91it/s]"
     ]
    },
    {
     "name": "stdout",
     "output_type": "stream",
     "text": [
      "\u001b[32m[0114 18:34:24 @base.py:285]\u001b[0m Epoch 24 (global_step 1440) finished, time:1 minute 5 seconds.\n"
     ]
    },
    {
     "name": "stderr",
     "output_type": "stream",
     "text": [
      "\n"
     ]
    },
    {
     "name": "stdout",
     "output_type": "stream",
     "text": [
      "\u001b[32m[0114 18:34:25 @saver.py:79]\u001b[0m Model saved to .//Model//temp_model\\TGAN4\\model\\model-1440.\n",
      "\u001b[32m[0114 18:34:25 @monitor.py:467]\u001b[0m GAN_loss/discrim/accuracy_fake: 0.876\n",
      "\u001b[32m[0114 18:34:25 @monitor.py:467]\u001b[0m GAN_loss/discrim/accuracy_real: 0.262\n",
      "\u001b[32m[0114 18:34:25 @monitor.py:467]\u001b[0m GAN_loss/discrim/loss: 0.63082\n",
      "\u001b[32m[0114 18:34:25 @monitor.py:467]\u001b[0m GAN_loss/gen/final-g-loss: 1.0461\n",
      "\u001b[32m[0114 18:34:25 @monitor.py:467]\u001b[0m GAN_loss/gen/klloss: 0.039009\n",
      "\u001b[32m[0114 18:34:25 @monitor.py:467]\u001b[0m GAN_loss/gen/loss: 1.0071\n",
      "\u001b[32m[0114 18:34:25 @monitor.py:467]\u001b[0m QueueInput/queue_size: 50\n",
      "\u001b[32m[0114 18:34:25 @base.py:275]\u001b[0m Start Epoch 25 ...\n"
     ]
    },
    {
     "name": "stderr",
     "output_type": "stream",
     "text": [
      "100%|#####################################################################################|60/60[01:06<00:00, 0.90it/s]"
     ]
    },
    {
     "name": "stdout",
     "output_type": "stream",
     "text": [
      "\u001b[32m[0114 18:35:31 @base.py:285]\u001b[0m Epoch 25 (global_step 1500) finished, time:1 minute 6 seconds.\n"
     ]
    },
    {
     "name": "stderr",
     "output_type": "stream",
     "text": [
      "\n"
     ]
    },
    {
     "name": "stdout",
     "output_type": "stream",
     "text": [
      "\u001b[32m[0114 18:35:32 @saver.py:79]\u001b[0m Model saved to .//Model//temp_model\\TGAN4\\model\\model-1500.\n",
      "\u001b[32m[0114 18:35:32 @monitor.py:467]\u001b[0m GAN_loss/discrim/accuracy_fake: 0.868\n",
      "\u001b[32m[0114 18:35:32 @monitor.py:467]\u001b[0m GAN_loss/discrim/accuracy_real: 0.264\n",
      "\u001b[32m[0114 18:35:32 @monitor.py:467]\u001b[0m GAN_loss/discrim/loss: 0.63248\n",
      "\u001b[32m[0114 18:35:32 @monitor.py:467]\u001b[0m GAN_loss/gen/final-g-loss: 1.0558\n",
      "\u001b[32m[0114 18:35:32 @monitor.py:467]\u001b[0m GAN_loss/gen/klloss: 0.037696\n",
      "\u001b[32m[0114 18:35:32 @monitor.py:467]\u001b[0m GAN_loss/gen/loss: 1.0181\n",
      "\u001b[32m[0114 18:35:32 @monitor.py:467]\u001b[0m QueueInput/queue_size: 50\n",
      "\u001b[32m[0114 18:35:32 @base.py:275]\u001b[0m Start Epoch 26 ...\n"
     ]
    },
    {
     "name": "stderr",
     "output_type": "stream",
     "text": [
      "100%|#####################################################################################|60/60[01:07<00:00, 0.89it/s]"
     ]
    },
    {
     "name": "stdout",
     "output_type": "stream",
     "text": [
      "\u001b[32m[0114 18:36:40 @base.py:285]\u001b[0m Epoch 26 (global_step 1560) finished, time:1 minute 7 seconds.\n"
     ]
    },
    {
     "name": "stderr",
     "output_type": "stream",
     "text": [
      "\n"
     ]
    },
    {
     "name": "stdout",
     "output_type": "stream",
     "text": [
      "\u001b[32m[0114 18:36:40 @saver.py:79]\u001b[0m Model saved to .//Model//temp_model\\TGAN4\\model\\model-1560.\n",
      "\u001b[32m[0114 18:36:40 @monitor.py:467]\u001b[0m GAN_loss/discrim/accuracy_fake: 0.888\n",
      "\u001b[32m[0114 18:36:40 @monitor.py:467]\u001b[0m GAN_loss/discrim/accuracy_real: 0.27\n",
      "\u001b[32m[0114 18:36:40 @monitor.py:467]\u001b[0m GAN_loss/discrim/loss: 0.63393\n",
      "\u001b[32m[0114 18:36:40 @monitor.py:467]\u001b[0m GAN_loss/gen/final-g-loss: 1.0299\n",
      "\u001b[32m[0114 18:36:40 @monitor.py:467]\u001b[0m GAN_loss/gen/klloss: 0.02976\n",
      "\u001b[32m[0114 18:36:40 @monitor.py:467]\u001b[0m GAN_loss/gen/loss: 1.0001\n",
      "\u001b[32m[0114 18:36:40 @monitor.py:467]\u001b[0m QueueInput/queue_size: 50\n",
      "\u001b[32m[0114 18:36:40 @base.py:275]\u001b[0m Start Epoch 27 ...\n"
     ]
    },
    {
     "name": "stderr",
     "output_type": "stream",
     "text": [
      "100%|#####################################################################################|60/60[01:08<00:00, 0.88it/s]"
     ]
    },
    {
     "name": "stdout",
     "output_type": "stream",
     "text": [
      "\u001b[32m[0114 18:37:49 @base.py:285]\u001b[0m Epoch 27 (global_step 1620) finished, time:1 minute 8 seconds.\n"
     ]
    },
    {
     "name": "stderr",
     "output_type": "stream",
     "text": [
      "\n"
     ]
    },
    {
     "name": "stdout",
     "output_type": "stream",
     "text": [
      "\u001b[32m[0114 18:37:49 @saver.py:79]\u001b[0m Model saved to .//Model//temp_model\\TGAN4\\model\\model-1620.\n",
      "\u001b[32m[0114 18:37:49 @monitor.py:467]\u001b[0m GAN_loss/discrim/accuracy_fake: 0.836\n",
      "\u001b[32m[0114 18:37:49 @monitor.py:467]\u001b[0m GAN_loss/discrim/accuracy_real: 0.268\n",
      "\u001b[32m[0114 18:37:49 @monitor.py:467]\u001b[0m GAN_loss/discrim/loss: 0.64348\n",
      "\u001b[32m[0114 18:37:49 @monitor.py:467]\u001b[0m GAN_loss/gen/final-g-loss: 1.0345\n",
      "\u001b[32m[0114 18:37:49 @monitor.py:467]\u001b[0m GAN_loss/gen/klloss: 0.041618\n",
      "\u001b[32m[0114 18:37:49 @monitor.py:467]\u001b[0m GAN_loss/gen/loss: 0.99284\n",
      "\u001b[32m[0114 18:37:49 @monitor.py:467]\u001b[0m QueueInput/queue_size: 50\n",
      "\u001b[32m[0114 18:37:49 @base.py:275]\u001b[0m Start Epoch 28 ...\n"
     ]
    },
    {
     "name": "stderr",
     "output_type": "stream",
     "text": [
      "100%|#####################################################################################|60/60[01:06<00:00, 0.90it/s]"
     ]
    },
    {
     "name": "stdout",
     "output_type": "stream",
     "text": [
      "\u001b[32m[0114 18:38:56 @base.py:285]\u001b[0m Epoch 28 (global_step 1680) finished, time:1 minute 6 seconds.\n"
     ]
    },
    {
     "name": "stderr",
     "output_type": "stream",
     "text": [
      "\n"
     ]
    },
    {
     "name": "stdout",
     "output_type": "stream",
     "text": [
      "\u001b[32m[0114 18:38:57 @saver.py:79]\u001b[0m Model saved to .//Model//temp_model\\TGAN4\\model\\model-1680.\n",
      "\u001b[32m[0114 18:38:57 @monitor.py:467]\u001b[0m GAN_loss/discrim/accuracy_fake: 0.84\n",
      "\u001b[32m[0114 18:38:57 @monitor.py:467]\u001b[0m GAN_loss/discrim/accuracy_real: 0.248\n",
      "\u001b[32m[0114 18:38:57 @monitor.py:467]\u001b[0m GAN_loss/discrim/loss: 0.63798\n",
      "\u001b[32m[0114 18:38:57 @monitor.py:467]\u001b[0m GAN_loss/gen/final-g-loss: 1.0207\n",
      "\u001b[32m[0114 18:38:57 @monitor.py:467]\u001b[0m GAN_loss/gen/klloss: 0.030859\n",
      "\u001b[32m[0114 18:38:57 @monitor.py:467]\u001b[0m GAN_loss/gen/loss: 0.98986\n",
      "\u001b[32m[0114 18:38:57 @monitor.py:467]\u001b[0m QueueInput/queue_size: 50\n",
      "\u001b[32m[0114 18:38:57 @base.py:275]\u001b[0m Start Epoch 29 ...\n"
     ]
    },
    {
     "name": "stderr",
     "output_type": "stream",
     "text": [
      "100%|#####################################################################################|60/60[01:07<00:00, 0.89it/s]"
     ]
    },
    {
     "name": "stdout",
     "output_type": "stream",
     "text": [
      "\u001b[32m[0114 18:40:04 @base.py:285]\u001b[0m Epoch 29 (global_step 1740) finished, time:1 minute 7 seconds.\n"
     ]
    },
    {
     "name": "stderr",
     "output_type": "stream",
     "text": [
      "\n"
     ]
    },
    {
     "name": "stdout",
     "output_type": "stream",
     "text": [
      "\u001b[32m[0114 18:40:04 @saver.py:79]\u001b[0m Model saved to .//Model//temp_model\\TGAN4\\model\\model-1740.\n",
      "\u001b[32m[0114 18:40:04 @monitor.py:467]\u001b[0m GAN_loss/discrim/accuracy_fake: 0.846\n",
      "\u001b[32m[0114 18:40:04 @monitor.py:467]\u001b[0m GAN_loss/discrim/accuracy_real: 0.296\n",
      "\u001b[32m[0114 18:40:04 @monitor.py:467]\u001b[0m GAN_loss/discrim/loss: 0.63214\n",
      "\u001b[32m[0114 18:40:04 @monitor.py:467]\u001b[0m GAN_loss/gen/final-g-loss: 1.0173\n",
      "\u001b[32m[0114 18:40:04 @monitor.py:467]\u001b[0m GAN_loss/gen/klloss: 0.031903\n",
      "\u001b[32m[0114 18:40:04 @monitor.py:467]\u001b[0m GAN_loss/gen/loss: 0.98535\n",
      "\u001b[32m[0114 18:40:04 @monitor.py:467]\u001b[0m QueueInput/queue_size: 50\n",
      "\u001b[32m[0114 18:40:04 @base.py:275]\u001b[0m Start Epoch 30 ...\n"
     ]
    },
    {
     "name": "stderr",
     "output_type": "stream",
     "text": [
      "100%|#####################################################################################|60/60[01:07<00:00, 0.89it/s]"
     ]
    },
    {
     "name": "stdout",
     "output_type": "stream",
     "text": [
      "\u001b[32m[0114 18:41:12 @base.py:285]\u001b[0m Epoch 30 (global_step 1800) finished, time:1 minute 7 seconds.\n"
     ]
    },
    {
     "name": "stderr",
     "output_type": "stream",
     "text": [
      "\n"
     ]
    },
    {
     "name": "stdout",
     "output_type": "stream",
     "text": [
      "\u001b[32m[0114 18:41:13 @saver.py:79]\u001b[0m Model saved to .//Model//temp_model\\TGAN4\\model\\model-1800.\n",
      "\u001b[32m[0114 18:41:13 @monitor.py:467]\u001b[0m GAN_loss/discrim/accuracy_fake: 0.862\n",
      "\u001b[32m[0114 18:41:13 @monitor.py:467]\u001b[0m GAN_loss/discrim/accuracy_real: 0.274\n",
      "\u001b[32m[0114 18:41:13 @monitor.py:467]\u001b[0m GAN_loss/discrim/loss: 0.63119\n",
      "\u001b[32m[0114 18:41:13 @monitor.py:467]\u001b[0m GAN_loss/gen/final-g-loss: 1.0637\n",
      "\u001b[32m[0114 18:41:13 @monitor.py:467]\u001b[0m GAN_loss/gen/klloss: 0.04097\n",
      "\u001b[32m[0114 18:41:13 @monitor.py:467]\u001b[0m GAN_loss/gen/loss: 1.0227\n",
      "\u001b[32m[0114 18:41:13 @monitor.py:467]\u001b[0m QueueInput/queue_size: 50\n",
      "\u001b[32m[0114 18:41:13 @base.py:275]\u001b[0m Start Epoch 31 ...\n"
     ]
    },
    {
     "name": "stderr",
     "output_type": "stream",
     "text": [
      "100%|#####################################################################################|60/60[01:06<00:00, 0.90it/s]"
     ]
    },
    {
     "name": "stdout",
     "output_type": "stream",
     "text": [
      "\u001b[32m[0114 18:42:19 @base.py:285]\u001b[0m Epoch 31 (global_step 1860) finished, time:1 minute 6 seconds.\n"
     ]
    },
    {
     "name": "stderr",
     "output_type": "stream",
     "text": [
      "\n"
     ]
    },
    {
     "name": "stdout",
     "output_type": "stream",
     "text": [
      "\u001b[32m[0114 18:42:20 @saver.py:79]\u001b[0m Model saved to .//Model//temp_model\\TGAN4\\model\\model-1860.\n",
      "\u001b[32m[0114 18:42:20 @monitor.py:467]\u001b[0m GAN_loss/discrim/accuracy_fake: 0.88\n",
      "\u001b[32m[0114 18:42:20 @monitor.py:467]\u001b[0m GAN_loss/discrim/accuracy_real: 0.306\n",
      "\u001b[32m[0114 18:42:20 @monitor.py:467]\u001b[0m GAN_loss/discrim/loss: 0.64336\n",
      "\u001b[32m[0114 18:42:20 @monitor.py:467]\u001b[0m GAN_loss/gen/final-g-loss: 1.0368\n",
      "\u001b[32m[0114 18:42:20 @monitor.py:467]\u001b[0m GAN_loss/gen/klloss: 0.045275\n",
      "\u001b[32m[0114 18:42:20 @monitor.py:467]\u001b[0m GAN_loss/gen/loss: 0.9915\n",
      "\u001b[32m[0114 18:42:20 @monitor.py:467]\u001b[0m QueueInput/queue_size: 50\n",
      "\u001b[32m[0114 18:42:20 @base.py:275]\u001b[0m Start Epoch 32 ...\n"
     ]
    },
    {
     "name": "stderr",
     "output_type": "stream",
     "text": [
      "100%|#####################################################################################|60/60[01:06<00:00, 0.90it/s]"
     ]
    },
    {
     "name": "stdout",
     "output_type": "stream",
     "text": [
      "\u001b[32m[0114 18:43:26 @base.py:285]\u001b[0m Epoch 32 (global_step 1920) finished, time:1 minute 6 seconds.\n"
     ]
    },
    {
     "name": "stderr",
     "output_type": "stream",
     "text": [
      "\n"
     ]
    },
    {
     "name": "stdout",
     "output_type": "stream",
     "text": [
      "\u001b[32m[0114 18:43:26 @saver.py:79]\u001b[0m Model saved to .//Model//temp_model\\TGAN4\\model\\model-1920.\n",
      "\u001b[32m[0114 18:43:26 @monitor.py:467]\u001b[0m GAN_loss/discrim/accuracy_fake: 0.864\n",
      "\u001b[32m[0114 18:43:26 @monitor.py:467]\u001b[0m GAN_loss/discrim/accuracy_real: 0.236\n",
      "\u001b[32m[0114 18:43:26 @monitor.py:467]\u001b[0m GAN_loss/discrim/loss: 0.63543\n",
      "\u001b[32m[0114 18:43:26 @monitor.py:467]\u001b[0m GAN_loss/gen/final-g-loss: 1.0422\n",
      "\u001b[32m[0114 18:43:26 @monitor.py:467]\u001b[0m GAN_loss/gen/klloss: 0.034974\n",
      "\u001b[32m[0114 18:43:26 @monitor.py:467]\u001b[0m GAN_loss/gen/loss: 1.0072\n",
      "\u001b[32m[0114 18:43:26 @monitor.py:467]\u001b[0m QueueInput/queue_size: 50\n",
      "\u001b[32m[0114 18:43:26 @base.py:275]\u001b[0m Start Epoch 33 ...\n"
     ]
    },
    {
     "name": "stderr",
     "output_type": "stream",
     "text": [
      "100%|#####################################################################################|60/60[01:06<00:00, 0.91it/s]"
     ]
    },
    {
     "name": "stdout",
     "output_type": "stream",
     "text": [
      "\u001b[32m[0114 18:44:33 @base.py:285]\u001b[0m Epoch 33 (global_step 1980) finished, time:1 minute 6 seconds.\n"
     ]
    },
    {
     "name": "stderr",
     "output_type": "stream",
     "text": [
      "\n"
     ]
    },
    {
     "name": "stdout",
     "output_type": "stream",
     "text": [
      "\u001b[32m[0114 18:44:33 @saver.py:79]\u001b[0m Model saved to .//Model//temp_model\\TGAN4\\model\\model-1980.\n",
      "\u001b[32m[0114 18:44:33 @monitor.py:467]\u001b[0m GAN_loss/discrim/accuracy_fake: 0.886\n",
      "\u001b[32m[0114 18:44:33 @monitor.py:467]\u001b[0m GAN_loss/discrim/accuracy_real: 0.24\n",
      "\u001b[32m[0114 18:44:33 @monitor.py:467]\u001b[0m GAN_loss/discrim/loss: 0.63808\n",
      "\u001b[32m[0114 18:44:33 @monitor.py:467]\u001b[0m GAN_loss/gen/final-g-loss: 1.0354\n",
      "\u001b[32m[0114 18:44:33 @monitor.py:467]\u001b[0m GAN_loss/gen/klloss: 0.031064\n",
      "\u001b[32m[0114 18:44:33 @monitor.py:467]\u001b[0m GAN_loss/gen/loss: 1.0044\n",
      "\u001b[32m[0114 18:44:33 @monitor.py:467]\u001b[0m QueueInput/queue_size: 50\n",
      "\u001b[32m[0114 18:44:33 @base.py:275]\u001b[0m Start Epoch 34 ...\n"
     ]
    },
    {
     "name": "stderr",
     "output_type": "stream",
     "text": [
      "100%|#####################################################################################|60/60[01:05<00:00, 0.91it/s]"
     ]
    },
    {
     "name": "stdout",
     "output_type": "stream",
     "text": [
      "\u001b[32m[0114 18:45:39 @base.py:285]\u001b[0m Epoch 34 (global_step 2040) finished, time:1 minute 5 seconds.\n"
     ]
    },
    {
     "name": "stderr",
     "output_type": "stream",
     "text": [
      "\n"
     ]
    },
    {
     "name": "stdout",
     "output_type": "stream",
     "text": [
      "\u001b[32m[0114 18:45:40 @saver.py:79]\u001b[0m Model saved to .//Model//temp_model\\TGAN4\\model\\model-2040.\n",
      "\u001b[32m[0114 18:45:40 @monitor.py:467]\u001b[0m GAN_loss/discrim/accuracy_fake: 0.834\n",
      "\u001b[32m[0114 18:45:40 @monitor.py:467]\u001b[0m GAN_loss/discrim/accuracy_real: 0.266\n",
      "\u001b[32m[0114 18:45:40 @monitor.py:467]\u001b[0m GAN_loss/discrim/loss: 0.63491\n",
      "\u001b[32m[0114 18:45:40 @monitor.py:467]\u001b[0m GAN_loss/gen/final-g-loss: 1.0089\n",
      "\u001b[32m[0114 18:45:40 @monitor.py:467]\u001b[0m GAN_loss/gen/klloss: 0.030925\n",
      "\u001b[32m[0114 18:45:40 @monitor.py:467]\u001b[0m GAN_loss/gen/loss: 0.97797\n",
      "\u001b[32m[0114 18:45:40 @monitor.py:467]\u001b[0m QueueInput/queue_size: 50\n",
      "\u001b[32m[0114 18:45:40 @base.py:275]\u001b[0m Start Epoch 35 ...\n"
     ]
    },
    {
     "name": "stderr",
     "output_type": "stream",
     "text": [
      "100%|#####################################################################################|60/60[01:06<00:00, 0.91it/s]"
     ]
    },
    {
     "name": "stdout",
     "output_type": "stream",
     "text": [
      "\u001b[32m[0114 18:46:46 @base.py:285]\u001b[0m Epoch 35 (global_step 2100) finished, time:1 minute 6 seconds.\n"
     ]
    },
    {
     "name": "stderr",
     "output_type": "stream",
     "text": [
      "\n"
     ]
    },
    {
     "name": "stdout",
     "output_type": "stream",
     "text": [
      "\u001b[32m[0114 18:46:47 @saver.py:79]\u001b[0m Model saved to .//Model//temp_model\\TGAN4\\model\\model-2100.\n",
      "\u001b[32m[0114 18:46:47 @monitor.py:467]\u001b[0m GAN_loss/discrim/accuracy_fake: 0.856\n",
      "\u001b[32m[0114 18:46:47 @monitor.py:467]\u001b[0m GAN_loss/discrim/accuracy_real: 0.24\n",
      "\u001b[32m[0114 18:46:47 @monitor.py:467]\u001b[0m GAN_loss/discrim/loss: 0.63981\n",
      "\u001b[32m[0114 18:46:47 @monitor.py:467]\u001b[0m GAN_loss/gen/final-g-loss: 1.0004\n",
      "\u001b[32m[0114 18:46:47 @monitor.py:467]\u001b[0m GAN_loss/gen/klloss: 0.01975\n",
      "\u001b[32m[0114 18:46:47 @monitor.py:467]\u001b[0m GAN_loss/gen/loss: 0.98064\n",
      "\u001b[32m[0114 18:46:47 @monitor.py:467]\u001b[0m QueueInput/queue_size: 50\n",
      "\u001b[32m[0114 18:46:47 @base.py:275]\u001b[0m Start Epoch 36 ...\n"
     ]
    },
    {
     "name": "stderr",
     "output_type": "stream",
     "text": [
      "100%|#####################################################################################|60/60[01:06<00:00, 0.90it/s]"
     ]
    },
    {
     "name": "stdout",
     "output_type": "stream",
     "text": [
      "\u001b[32m[0114 18:47:53 @base.py:285]\u001b[0m Epoch 36 (global_step 2160) finished, time:1 minute 6 seconds.\n"
     ]
    },
    {
     "name": "stderr",
     "output_type": "stream",
     "text": [
      "\n"
     ]
    },
    {
     "name": "stdout",
     "output_type": "stream",
     "text": [
      "\u001b[32m[0114 18:47:54 @saver.py:79]\u001b[0m Model saved to .//Model//temp_model\\TGAN4\\model\\model-2160.\n",
      "\u001b[32m[0114 18:47:54 @monitor.py:467]\u001b[0m GAN_loss/discrim/accuracy_fake: 0.872\n",
      "\u001b[32m[0114 18:47:54 @monitor.py:467]\u001b[0m GAN_loss/discrim/accuracy_real: 0.266\n",
      "\u001b[32m[0114 18:47:54 @monitor.py:467]\u001b[0m GAN_loss/discrim/loss: 0.63498\n",
      "\u001b[32m[0114 18:47:54 @monitor.py:467]\u001b[0m GAN_loss/gen/final-g-loss: 1.0064\n",
      "\u001b[32m[0114 18:47:54 @monitor.py:467]\u001b[0m GAN_loss/gen/klloss: 0.030198\n",
      "\u001b[32m[0114 18:47:54 @monitor.py:467]\u001b[0m GAN_loss/gen/loss: 0.97625\n",
      "\u001b[32m[0114 18:47:54 @monitor.py:467]\u001b[0m QueueInput/queue_size: 50\n",
      "\u001b[32m[0114 18:47:54 @base.py:275]\u001b[0m Start Epoch 37 ...\n"
     ]
    },
    {
     "name": "stderr",
     "output_type": "stream",
     "text": [
      "100%|#####################################################################################|60/60[01:07<00:00, 0.89it/s]"
     ]
    },
    {
     "name": "stdout",
     "output_type": "stream",
     "text": [
      "\u001b[32m[0114 18:49:01 @base.py:285]\u001b[0m Epoch 37 (global_step 2220) finished, time:1 minute 7 seconds.\n"
     ]
    },
    {
     "name": "stderr",
     "output_type": "stream",
     "text": [
      "\n"
     ]
    },
    {
     "name": "stdout",
     "output_type": "stream",
     "text": [
      "\u001b[32m[0114 18:49:01 @saver.py:79]\u001b[0m Model saved to .//Model//temp_model\\TGAN4\\model\\model-2220.\n",
      "\u001b[32m[0114 18:49:01 @monitor.py:467]\u001b[0m GAN_loss/discrim/accuracy_fake: 0.888\n",
      "\u001b[32m[0114 18:49:01 @monitor.py:467]\u001b[0m GAN_loss/discrim/accuracy_real: 0.236\n",
      "\u001b[32m[0114 18:49:01 @monitor.py:467]\u001b[0m GAN_loss/discrim/loss: 0.6288\n",
      "\u001b[32m[0114 18:49:01 @monitor.py:467]\u001b[0m GAN_loss/gen/final-g-loss: 1.0015\n",
      "\u001b[32m[0114 18:49:01 @monitor.py:467]\u001b[0m GAN_loss/gen/klloss: 0.018408\n",
      "\u001b[32m[0114 18:49:01 @monitor.py:467]\u001b[0m GAN_loss/gen/loss: 0.98308\n",
      "\u001b[32m[0114 18:49:01 @monitor.py:467]\u001b[0m QueueInput/queue_size: 50\n",
      "\u001b[32m[0114 18:49:01 @base.py:275]\u001b[0m Start Epoch 38 ...\n"
     ]
    },
    {
     "name": "stderr",
     "output_type": "stream",
     "text": [
      "100%|#####################################################################################|60/60[01:07<00:00, 0.89it/s]"
     ]
    },
    {
     "name": "stdout",
     "output_type": "stream",
     "text": [
      "\u001b[32m[0114 18:50:09 @base.py:285]\u001b[0m Epoch 38 (global_step 2280) finished, time:1 minute 7 seconds.\n"
     ]
    },
    {
     "name": "stderr",
     "output_type": "stream",
     "text": [
      "\n"
     ]
    },
    {
     "name": "stdout",
     "output_type": "stream",
     "text": [
      "\u001b[32m[0114 18:50:09 @saver.py:79]\u001b[0m Model saved to .//Model//temp_model\\TGAN4\\model\\model-2280.\n",
      "\u001b[32m[0114 18:50:09 @monitor.py:467]\u001b[0m GAN_loss/discrim/accuracy_fake: 0.846\n",
      "\u001b[32m[0114 18:50:09 @monitor.py:467]\u001b[0m GAN_loss/discrim/accuracy_real: 0.294\n",
      "\u001b[32m[0114 18:50:09 @monitor.py:467]\u001b[0m GAN_loss/discrim/loss: 0.6362\n",
      "\u001b[32m[0114 18:50:09 @monitor.py:467]\u001b[0m GAN_loss/gen/final-g-loss: 1.0032\n",
      "\u001b[32m[0114 18:50:09 @monitor.py:467]\u001b[0m GAN_loss/gen/klloss: 0.052376\n",
      "\u001b[32m[0114 18:50:09 @monitor.py:467]\u001b[0m GAN_loss/gen/loss: 0.9508\n",
      "\u001b[32m[0114 18:50:09 @monitor.py:467]\u001b[0m QueueInput/queue_size: 50\n",
      "\u001b[32m[0114 18:50:09 @base.py:275]\u001b[0m Start Epoch 39 ...\n"
     ]
    },
    {
     "name": "stderr",
     "output_type": "stream",
     "text": [
      "100%|#####################################################################################|60/60[01:06<00:00, 0.91it/s]"
     ]
    },
    {
     "name": "stdout",
     "output_type": "stream",
     "text": [
      "\u001b[32m[0114 18:51:16 @base.py:285]\u001b[0m Epoch 39 (global_step 2340) finished, time:1 minute 6 seconds.\n"
     ]
    },
    {
     "name": "stderr",
     "output_type": "stream",
     "text": [
      "\n"
     ]
    },
    {
     "name": "stdout",
     "output_type": "stream",
     "text": [
      "\u001b[32m[0114 18:51:18 @saver.py:79]\u001b[0m Model saved to .//Model//temp_model\\TGAN4\\model\\model-2340.\n",
      "\u001b[32m[0114 18:51:18 @monitor.py:467]\u001b[0m GAN_loss/discrim/accuracy_fake: 0.882\n",
      "\u001b[32m[0114 18:51:18 @monitor.py:467]\u001b[0m GAN_loss/discrim/accuracy_real: 0.236\n",
      "\u001b[32m[0114 18:51:18 @monitor.py:467]\u001b[0m GAN_loss/discrim/loss: 0.63699\n",
      "\u001b[32m[0114 18:51:18 @monitor.py:467]\u001b[0m GAN_loss/gen/final-g-loss: 0.9909\n",
      "\u001b[32m[0114 18:51:18 @monitor.py:467]\u001b[0m GAN_loss/gen/klloss: 0.018929\n",
      "\u001b[32m[0114 18:51:18 @monitor.py:467]\u001b[0m GAN_loss/gen/loss: 0.97197\n",
      "\u001b[32m[0114 18:51:18 @monitor.py:467]\u001b[0m QueueInput/queue_size: 50\n",
      "\u001b[32m[0114 18:51:18 @base.py:275]\u001b[0m Start Epoch 40 ...\n"
     ]
    },
    {
     "name": "stderr",
     "output_type": "stream",
     "text": [
      "100%|#####################################################################################|60/60[01:05<00:00, 0.91it/s]"
     ]
    },
    {
     "name": "stdout",
     "output_type": "stream",
     "text": [
      "\u001b[32m[0114 18:52:23 @base.py:285]\u001b[0m Epoch 40 (global_step 2400) finished, time:1 minute 5 seconds.\n"
     ]
    },
    {
     "name": "stderr",
     "output_type": "stream",
     "text": [
      "\n"
     ]
    },
    {
     "name": "stdout",
     "output_type": "stream",
     "text": [
      "\u001b[32m[0114 18:52:24 @saver.py:79]\u001b[0m Model saved to .//Model//temp_model\\TGAN4\\model\\model-2400.\n",
      "\u001b[32m[0114 18:52:24 @monitor.py:467]\u001b[0m GAN_loss/discrim/accuracy_fake: 0.868\n",
      "\u001b[32m[0114 18:52:24 @monitor.py:467]\u001b[0m GAN_loss/discrim/accuracy_real: 0.224\n",
      "\u001b[32m[0114 18:52:24 @monitor.py:467]\u001b[0m GAN_loss/discrim/loss: 0.64088\n",
      "\u001b[32m[0114 18:52:24 @monitor.py:467]\u001b[0m GAN_loss/gen/final-g-loss: 1.0002\n",
      "\u001b[32m[0114 18:52:24 @monitor.py:467]\u001b[0m GAN_loss/gen/klloss: 0.035749\n",
      "\u001b[32m[0114 18:52:24 @monitor.py:467]\u001b[0m GAN_loss/gen/loss: 0.96448\n",
      "\u001b[32m[0114 18:52:24 @monitor.py:467]\u001b[0m QueueInput/queue_size: 50\n",
      "\u001b[32m[0114 18:52:24 @base.py:289]\u001b[0m Training has finished!\n",
      "\u001b[32m[0114 18:52:25 @input_source.py:178]\u001b[0m EnqueueThread QueueInput/input_queue Exited.\n",
      "\u001b[32m[0114 18:52:25 @collection.py:146]\u001b[0m New collections created in tower : tf.GraphKeys.REGULARIZATION_LOSSES\n",
      "\u001b[32m[0114 18:52:25 @collection.py:165]\u001b[0m These collections were modified but restored in : (tf.GraphKeys.SUMMARIES: 0->2)\n",
      "\u001b[32m[0114 18:52:25 @sessinit.py:87]\u001b[0m \u001b[5m\u001b[31mWRN\u001b[0m The following variables are in the checkpoint, but not found in the graph: global_step, optimize/beta1_power, optimize/beta2_power\n",
      "INFO:tensorflow:Graph was finalized.\n",
      "INFO:tensorflow:Running local_init_op.\n",
      "INFO:tensorflow:Done running local_init_op.\n",
      "\u001b[32m[0114 18:52:26 @sessinit.py:114]\u001b[0m Restoring checkpoint from .//Model//temp_model\\TGAN4\\model\\model-2400 ...\n",
      "INFO:tensorflow:Restoring parameters from .//Model//temp_model\\TGAN4\\model\\model-2400\n"
     ]
    },
    {
     "name": "stderr",
     "output_type": "stream",
     "text": [
      " 12%|#########9                                                                          |59/500[00:16<02:01, 3.63it/s]\n"
     ]
    },
    {
     "name": "stdout",
     "output_type": "stream",
     "text": [
      "\u001b[32m[0114 18:52:43 @input_source.py:222]\u001b[0m Setting up the queue 'QueueInput/input_queue' for CPU prefetching ...\n",
      "\u001b[32m[0114 18:52:48 @logger.py:90]\u001b[0m Argv: C:\\Users\\Arne\\anaconda3\\envs\\tfv1\\lib\\site-packages\\ipykernel_launcher.py -f C:\\Users\\Arne\\AppData\\Roaming\\jupyter\\runtime\\kernel-95c990b4-007f-4c92-b889-4b29f1351785.json\n",
      "\u001b[32m[0114 18:52:48 @model_utils.py:67]\u001b[0m \u001b[36mList of Trainable Variables: \n",
      "\u001b[0mname                              shape           #elements\n",
      "--------------------------------  ------------  -----------\n",
      "gen/LSTM/go:0                     [1, 100]              100\n",
      "gen/LSTM/lstm_cell/kernel:0       [500, 400]         200000\n",
      "gen/LSTM/lstm_cell/bias:0         [400]                 400\n",
      "gen/LSTM/00/FC/W:0                [100, 100]          10000\n",
      "gen/LSTM/00/FC/b:0                [100]                 100\n",
      "gen/LSTM/00/FC2/W:0               [100, 72]            7200\n",
      "gen/LSTM/00/FC2/b:0               [72]                   72\n",
      "gen/LSTM/00/FC3/W:0               [72, 100]            7200\n",
      "gen/LSTM/00/FC3/b:0               [100]                 100\n",
      "gen/LSTM/00/attw:0                [1, 1, 1]               1\n",
      "gen/LSTM/01/FC/W:0                [100, 100]          10000\n",
      "gen/LSTM/01/FC/b:0                [100]                 100\n",
      "gen/LSTM/01/FC2/W:0               [100, 5]              500\n",
      "gen/LSTM/01/FC2/b:0               [5]                     5\n",
      "gen/LSTM/01/FC3/W:0               [5, 100]              500\n",
      "gen/LSTM/01/FC3/b:0               [100]                 100\n",
      "gen/LSTM/01/attw:0                [2, 1, 1]               2\n",
      "gen/LSTM/02/FC/W:0                [100, 100]          10000\n",
      "gen/LSTM/02/FC/b:0                [100]                 100\n",
      "gen/LSTM/02/FC2/W:0               [100, 20263]      2026300\n",
      "gen/LSTM/02/FC2/b:0               [20263]             20263\n",
      "gen/LSTM/02/FC3/W:0               [20263, 100]      2026300\n",
      "gen/LSTM/02/FC3/b:0               [100]                 100\n",
      "gen/LSTM/02/attw:0                [3, 1, 1]               3\n",
      "gen/LSTM/03/FC/W:0                [100, 100]          10000\n",
      "gen/LSTM/03/FC/b:0                [100]                 100\n",
      "gen/LSTM/03/FC2/W:0               [100, 9]              900\n",
      "gen/LSTM/03/FC2/b:0               [9]                     9\n",
      "gen/LSTM/03/FC3/W:0               [9, 100]              900\n",
      "gen/LSTM/03/FC3/b:0               [100]                 100\n",
      "gen/LSTM/03/attw:0                [4, 1, 1]               4\n",
      "gen/LSTM/04/FC/W:0                [100, 100]          10000\n",
      "gen/LSTM/04/FC/b:0                [100]                 100\n",
      "gen/LSTM/04/FC2/W:0               [100, 16]            1600\n",
      "gen/LSTM/04/FC2/b:0               [16]                   16\n",
      "gen/LSTM/04/FC3/W:0               [16, 100]            1600\n",
      "gen/LSTM/04/FC3/b:0               [100]                 100\n",
      "gen/LSTM/04/attw:0                [5, 1, 1]               5\n",
      "gen/LSTM/05/FC/W:0                [100, 100]          10000\n",
      "gen/LSTM/05/FC/b:0                [100]                 100\n",
      "gen/LSTM/05/FC2/W:0               [100, 5]              500\n",
      "gen/LSTM/05/FC2/b:0               [5]                     5\n",
      "gen/LSTM/05/FC3/W:0               [5, 100]              500\n",
      "gen/LSTM/05/FC3/b:0               [100]                 100\n",
      "gen/LSTM/05/attw:0                [6, 1, 1]               6\n",
      "gen/LSTM/06/FC/W:0                [100, 100]          10000\n",
      "gen/LSTM/06/FC/b:0                [100]                 100\n",
      "gen/LSTM/06/FC2/W:0               [100, 14]            1400\n",
      "gen/LSTM/06/FC2/b:0               [14]                   14\n",
      "gen/LSTM/06/FC3/W:0               [14, 100]            1400\n",
      "gen/LSTM/06/FC3/b:0               [100]                 100\n",
      "gen/LSTM/06/attw:0                [7, 1, 1]               7\n",
      "gen/LSTM/07/FC/W:0                [100, 100]          10000\n",
      "gen/LSTM/07/FC/b:0                [100]                 100\n",
      "gen/LSTM/07/FC2/W:0               [100, 5]              500\n",
      "gen/LSTM/07/FC2/b:0               [5]                     5\n",
      "gen/LSTM/07/FC3/W:0               [5, 100]              500\n",
      "gen/LSTM/07/FC3/b:0               [100]                 100\n",
      "gen/LSTM/07/attw:0                [8, 1, 1]               8\n",
      "gen/LSTM/08/FC/W:0                [100, 100]          10000\n",
      "gen/LSTM/08/FC/b:0                [100]                 100\n",
      "gen/LSTM/08/FC2/W:0               [100, 2]              200\n",
      "gen/LSTM/08/FC2/b:0               [2]                     2\n",
      "gen/LSTM/08/FC3/W:0               [2, 100]              200\n",
      "gen/LSTM/08/FC3/b:0               [100]                 100\n",
      "gen/LSTM/08/attw:0                [9, 1, 1]               9\n",
      "gen/LSTM/09/FC/W:0                [100, 100]          10000\n",
      "gen/LSTM/09/FC/b:0                [100]                 100\n",
      "gen/LSTM/09/FC2/W:0               [100, 118]          11800\n",
      "gen/LSTM/09/FC2/b:0               [118]                 118\n",
      "gen/LSTM/09/FC3/W:0               [118, 100]          11800\n",
      "gen/LSTM/09/FC3/b:0               [100]                 100\n",
      "gen/LSTM/09/attw:0                [10, 1, 1]             10\n",
      "gen/LSTM/10/FC/W:0                [100, 100]          10000\n",
      "gen/LSTM/10/FC/b:0                [100]                 100\n",
      "gen/LSTM/10/FC2/W:0               [100, 90]            9000\n",
      "gen/LSTM/10/FC2/b:0               [90]                   90\n",
      "gen/LSTM/10/FC3/W:0               [90, 100]            9000\n",
      "gen/LSTM/10/FC3/b:0               [100]                 100\n",
      "gen/LSTM/10/attw:0                [11, 1, 1]             11\n",
      "gen/LSTM/11/FC/W:0                [100, 100]          10000\n",
      "gen/LSTM/11/FC/b:0                [100]                 100\n",
      "gen/LSTM/11/FC2/W:0               [100, 94]            9400\n",
      "gen/LSTM/11/FC2/b:0               [94]                   94\n",
      "gen/LSTM/11/FC3/W:0               [94, 100]            9400\n",
      "gen/LSTM/11/FC3/b:0               [100]                 100\n",
      "gen/LSTM/11/attw:0                [12, 1, 1]             12\n",
      "gen/LSTM/12/FC/W:0                [100, 100]          10000\n",
      "gen/LSTM/12/FC/b:0                [100]                 100\n",
      "gen/LSTM/12/FC2/W:0               [100, 2]              200\n",
      "gen/LSTM/12/FC2/b:0               [2]                     2\n",
      "gen/LSTM/12/FC3/W:0               [2, 100]              200\n",
      "gen/LSTM/12/FC3/b:0               [100]                 100\n",
      "gen/LSTM/12/attw:0                [13, 1, 1]             13\n",
      "gen/LSTM/13/FC/W:0                [100, 100]          10000\n",
      "gen/LSTM/13/FC/b:0                [100]                 100\n",
      "gen/LSTM/13/FC2/W:0               [100, 2]              200\n",
      "gen/LSTM/13/FC2/b:0               [2]                     2\n",
      "gen/LSTM/13/FC3/W:0               [2, 100]              200\n",
      "gen/LSTM/13/FC3/b:0               [100]                 100\n",
      "gen/LSTM/13/attw:0                [14, 1, 1]             14\n",
      "discrim/dis_fc0/fc/W:0            [20697, 256]      5298432\n",
      "discrim/dis_fc0/fc/b:0            [256]                 256\n",
      "discrim/dis_fc0/fc_diversity/W:0  [256, 100]          25600\n",
      "discrim/dis_fc0/fc_diversity/b:0  [100]                 100\n",
      "discrim/dis_fc0/bn/beta:0         [266]                 266\n",
      "discrim/dis_fc_top/W:0            [266, 1]              266\n",
      "discrim/dis_fc_top/b:0            [1]                     1\u001b[36m\n",
      "Number of trainable variables: 108\n",
      "Number of parameters (elements): 9828423\n",
      "Storage space needed for all trainable variables: 37.49MB\u001b[0m\n",
      "\u001b[32m[0114 18:52:48 @base.py:209]\u001b[0m Setup callbacks graph ...\n",
      "\u001b[32m[0114 18:52:48 @summary.py:46]\u001b[0m [MovingAverageSummary] 6 operations in collection 'MOVING_SUMMARY_OPS' will be run with session hooks.\n",
      "\u001b[32m[0114 18:52:48 @summary.py:93]\u001b[0m Summarizing collection 'summaries' of size 9.\n",
      "\u001b[32m[0114 18:52:48 @graph.py:98]\u001b[0m Applying collection UPDATE_OPS of 4 ops.\n",
      "\u001b[32m[0114 18:52:49 @base.py:230]\u001b[0m Creating the session ...\n",
      "\u001b[32m[0114 18:52:50 @base.py:236]\u001b[0m Initializing the session ...\n",
      "\u001b[32m[0114 18:52:50 @base.py:243]\u001b[0m Graph Finalized.\n",
      "\u001b[32m[0114 18:52:50 @concurrency.py:38]\u001b[0m Starting EnqueueThread QueueInput/input_queue ...\n",
      "\u001b[32m[0114 18:52:51 @base.py:275]\u001b[0m Start Epoch 1 ...\n"
     ]
    },
    {
     "name": "stderr",
     "output_type": "stream",
     "text": [
      "100%|#####################################################################################|60/60[01:11<00:00, 0.84it/s]"
     ]
    },
    {
     "name": "stdout",
     "output_type": "stream",
     "text": [
      "\u001b[32m[0114 18:54:03 @base.py:285]\u001b[0m Epoch 1 (global_step 60) finished, time:1 minute 11 seconds.\n"
     ]
    },
    {
     "name": "stderr",
     "output_type": "stream",
     "text": [
      "\n"
     ]
    },
    {
     "name": "stdout",
     "output_type": "stream",
     "text": [
      "\u001b[32m[0114 18:54:05 @saver.py:79]\u001b[0m Model saved to .//Model//temp_model\\TGAN5\\model\\model-60.\n",
      "\u001b[32m[0114 18:54:05 @monitor.py:467]\u001b[0m GAN_loss/discrim/accuracy_fake: 0.722\n",
      "\u001b[32m[0114 18:54:05 @monitor.py:467]\u001b[0m GAN_loss/discrim/accuracy_real: 0.364\n",
      "\u001b[32m[0114 18:54:05 @monitor.py:467]\u001b[0m GAN_loss/discrim/loss: 0.72398\n",
      "\u001b[32m[0114 18:54:05 @monitor.py:467]\u001b[0m GAN_loss/gen/final-g-loss: 1.118\n",
      "\u001b[32m[0114 18:54:05 @monitor.py:467]\u001b[0m GAN_loss/gen/klloss: 0.013486\n",
      "\u001b[32m[0114 18:54:05 @monitor.py:467]\u001b[0m GAN_loss/gen/loss: 1.1045\n",
      "\u001b[32m[0114 18:54:05 @monitor.py:467]\u001b[0m QueueInput/queue_size: 50\n",
      "\u001b[32m[0114 18:54:05 @base.py:275]\u001b[0m Start Epoch 2 ...\n"
     ]
    },
    {
     "name": "stderr",
     "output_type": "stream",
     "text": [
      "100%|#####################################################################################|60/60[01:08<00:00, 0.88it/s]"
     ]
    },
    {
     "name": "stdout",
     "output_type": "stream",
     "text": [
      "\u001b[32m[0114 18:55:13 @base.py:285]\u001b[0m Epoch 2 (global_step 120) finished, time:1 minute 8 seconds.\n"
     ]
    },
    {
     "name": "stderr",
     "output_type": "stream",
     "text": [
      "\n"
     ]
    },
    {
     "name": "stdout",
     "output_type": "stream",
     "text": [
      "\u001b[32m[0114 18:55:14 @saver.py:79]\u001b[0m Model saved to .//Model//temp_model\\TGAN5\\model\\model-120.\n",
      "\u001b[32m[0114 18:55:14 @monitor.py:467]\u001b[0m GAN_loss/discrim/accuracy_fake: 0.794\n",
      "\u001b[32m[0114 18:55:14 @monitor.py:467]\u001b[0m GAN_loss/discrim/accuracy_real: 0.318\n",
      "\u001b[32m[0114 18:55:14 @monitor.py:467]\u001b[0m GAN_loss/discrim/loss: 0.64843\n",
      "\u001b[32m[0114 18:55:14 @monitor.py:467]\u001b[0m GAN_loss/gen/final-g-loss: 1.0723\n",
      "\u001b[32m[0114 18:55:14 @monitor.py:467]\u001b[0m GAN_loss/gen/klloss: 0.028746\n",
      "\u001b[32m[0114 18:55:14 @monitor.py:467]\u001b[0m GAN_loss/gen/loss: 1.0436\n",
      "\u001b[32m[0114 18:55:14 @monitor.py:467]\u001b[0m QueueInput/queue_size: 50\n",
      "\u001b[32m[0114 18:55:14 @base.py:275]\u001b[0m Start Epoch 3 ...\n"
     ]
    },
    {
     "name": "stderr",
     "output_type": "stream",
     "text": [
      "100%|#####################################################################################|60/60[01:07<00:00, 0.89it/s]"
     ]
    },
    {
     "name": "stdout",
     "output_type": "stream",
     "text": [
      "\u001b[32m[0114 18:56:21 @base.py:285]\u001b[0m Epoch 3 (global_step 180) finished, time:1 minute 7 seconds.\n"
     ]
    },
    {
     "name": "stderr",
     "output_type": "stream",
     "text": [
      "\n"
     ]
    },
    {
     "name": "stdout",
     "output_type": "stream",
     "text": [
      "\u001b[32m[0114 18:56:23 @saver.py:79]\u001b[0m Model saved to .//Model//temp_model\\TGAN5\\model\\model-180.\n",
      "\u001b[32m[0114 18:56:23 @monitor.py:467]\u001b[0m GAN_loss/discrim/accuracy_fake: 0.87\n",
      "\u001b[32m[0114 18:56:23 @monitor.py:467]\u001b[0m GAN_loss/discrim/accuracy_real: 0.332\n",
      "\u001b[32m[0114 18:56:23 @monitor.py:467]\u001b[0m GAN_loss/discrim/loss: 0.62194\n",
      "\u001b[32m[0114 18:56:23 @monitor.py:467]\u001b[0m GAN_loss/gen/final-g-loss: 1.0791\n",
      "\u001b[32m[0114 18:56:23 @monitor.py:467]\u001b[0m GAN_loss/gen/klloss: 0.02798\n",
      "\u001b[32m[0114 18:56:23 @monitor.py:467]\u001b[0m GAN_loss/gen/loss: 1.0511\n",
      "\u001b[32m[0114 18:56:23 @monitor.py:467]\u001b[0m QueueInput/queue_size: 50\n",
      "\u001b[32m[0114 18:56:23 @base.py:275]\u001b[0m Start Epoch 4 ...\n"
     ]
    },
    {
     "name": "stderr",
     "output_type": "stream",
     "text": [
      "100%|#####################################################################################|60/60[01:07<00:00, 0.89it/s]"
     ]
    },
    {
     "name": "stdout",
     "output_type": "stream",
     "text": [
      "\u001b[32m[0114 18:57:30 @base.py:285]\u001b[0m Epoch 4 (global_step 240) finished, time:1 minute 7 seconds.\n"
     ]
    },
    {
     "name": "stderr",
     "output_type": "stream",
     "text": [
      "\n"
     ]
    },
    {
     "name": "stdout",
     "output_type": "stream",
     "text": [
      "\u001b[32m[0114 18:57:31 @saver.py:79]\u001b[0m Model saved to .//Model//temp_model\\TGAN5\\model\\model-240.\n",
      "\u001b[32m[0114 18:57:31 @monitor.py:467]\u001b[0m GAN_loss/discrim/accuracy_fake: 0.86\n",
      "\u001b[32m[0114 18:57:31 @monitor.py:467]\u001b[0m GAN_loss/discrim/accuracy_real: 0.356\n",
      "\u001b[32m[0114 18:57:31 @monitor.py:467]\u001b[0m GAN_loss/discrim/loss: 0.62221\n",
      "\u001b[32m[0114 18:57:31 @monitor.py:467]\u001b[0m GAN_loss/gen/final-g-loss: 1.0615\n",
      "\u001b[32m[0114 18:57:31 @monitor.py:467]\u001b[0m GAN_loss/gen/klloss: 0.017652\n",
      "\u001b[32m[0114 18:57:31 @monitor.py:467]\u001b[0m GAN_loss/gen/loss: 1.0438\n",
      "\u001b[32m[0114 18:57:31 @monitor.py:467]\u001b[0m QueueInput/queue_size: 50\n",
      "\u001b[32m[0114 18:57:31 @base.py:275]\u001b[0m Start Epoch 5 ...\n"
     ]
    },
    {
     "name": "stderr",
     "output_type": "stream",
     "text": [
      "100%|#####################################################################################|60/60[01:13<00:00, 0.81it/s]"
     ]
    },
    {
     "name": "stdout",
     "output_type": "stream",
     "text": [
      "\u001b[32m[0114 18:58:45 @base.py:285]\u001b[0m Epoch 5 (global_step 300) finished, time:1 minute 13 seconds.\n"
     ]
    },
    {
     "name": "stderr",
     "output_type": "stream",
     "text": [
      "\n"
     ]
    },
    {
     "name": "stdout",
     "output_type": "stream",
     "text": [
      "\u001b[32m[0114 18:58:45 @saver.py:79]\u001b[0m Model saved to .//Model//temp_model\\TGAN5\\model\\model-300.\n",
      "\u001b[32m[0114 18:58:45 @monitor.py:467]\u001b[0m GAN_loss/discrim/accuracy_fake: 0.852\n",
      "\u001b[32m[0114 18:58:45 @monitor.py:467]\u001b[0m GAN_loss/discrim/accuracy_real: 0.348\n",
      "\u001b[32m[0114 18:58:45 @monitor.py:467]\u001b[0m GAN_loss/discrim/loss: 0.61552\n",
      "\u001b[32m[0114 18:58:45 @monitor.py:467]\u001b[0m GAN_loss/gen/final-g-loss: 1.1316\n",
      "\u001b[32m[0114 18:58:45 @monitor.py:467]\u001b[0m GAN_loss/gen/klloss: 0.060404\n",
      "\u001b[32m[0114 18:58:45 @monitor.py:467]\u001b[0m GAN_loss/gen/loss: 1.0712\n",
      "\u001b[32m[0114 18:58:45 @monitor.py:467]\u001b[0m QueueInput/queue_size: 50\n",
      "\u001b[32m[0114 18:58:45 @base.py:275]\u001b[0m Start Epoch 6 ...\n"
     ]
    },
    {
     "name": "stderr",
     "output_type": "stream",
     "text": [
      "100%|#####################################################################################|60/60[01:25<00:00, 0.71it/s]"
     ]
    },
    {
     "name": "stdout",
     "output_type": "stream",
     "text": [
      "\u001b[32m[0114 19:00:10 @base.py:285]\u001b[0m Epoch 6 (global_step 360) finished, time:1 minute 25 seconds.\n"
     ]
    },
    {
     "name": "stderr",
     "output_type": "stream",
     "text": [
      "\n"
     ]
    },
    {
     "name": "stdout",
     "output_type": "stream",
     "text": [
      "\u001b[32m[0114 19:00:11 @saver.py:79]\u001b[0m Model saved to .//Model//temp_model\\TGAN5\\model\\model-360.\n",
      "\u001b[32m[0114 19:00:11 @monitor.py:467]\u001b[0m GAN_loss/discrim/accuracy_fake: 0.82\n",
      "\u001b[32m[0114 19:00:11 @monitor.py:467]\u001b[0m GAN_loss/discrim/accuracy_real: 0.354\n",
      "\u001b[32m[0114 19:00:11 @monitor.py:467]\u001b[0m GAN_loss/discrim/loss: 0.62293\n",
      "\u001b[32m[0114 19:00:11 @monitor.py:467]\u001b[0m GAN_loss/gen/final-g-loss: 1.1015\n",
      "\u001b[32m[0114 19:00:11 @monitor.py:467]\u001b[0m GAN_loss/gen/klloss: 0.056088\n",
      "\u001b[32m[0114 19:00:11 @monitor.py:467]\u001b[0m GAN_loss/gen/loss: 1.0455\n",
      "\u001b[32m[0114 19:00:11 @monitor.py:467]\u001b[0m QueueInput/queue_size: 50\n",
      "\u001b[32m[0114 19:00:11 @base.py:275]\u001b[0m Start Epoch 7 ...\n"
     ]
    },
    {
     "name": "stderr",
     "output_type": "stream",
     "text": [
      "100%|#####################################################################################|60/60[01:08<00:00, 0.88it/s]"
     ]
    },
    {
     "name": "stdout",
     "output_type": "stream",
     "text": [
      "\u001b[32m[0114 19:01:19 @base.py:285]\u001b[0m Epoch 7 (global_step 420) finished, time:1 minute 8 seconds.\n"
     ]
    },
    {
     "name": "stderr",
     "output_type": "stream",
     "text": [
      "\n"
     ]
    },
    {
     "name": "stdout",
     "output_type": "stream",
     "text": [
      "\u001b[32m[0114 19:01:20 @saver.py:79]\u001b[0m Model saved to .//Model//temp_model\\TGAN5\\model\\model-420.\n",
      "\u001b[32m[0114 19:01:20 @monitor.py:467]\u001b[0m GAN_loss/discrim/accuracy_fake: 0.844\n",
      "\u001b[32m[0114 19:01:20 @monitor.py:467]\u001b[0m GAN_loss/discrim/accuracy_real: 0.326\n",
      "\u001b[32m[0114 19:01:20 @monitor.py:467]\u001b[0m GAN_loss/discrim/loss: 0.62679\n",
      "\u001b[32m[0114 19:01:20 @monitor.py:467]\u001b[0m GAN_loss/gen/final-g-loss: 1.1022\n",
      "\u001b[32m[0114 19:01:20 @monitor.py:467]\u001b[0m GAN_loss/gen/klloss: 0.032543\n",
      "\u001b[32m[0114 19:01:20 @monitor.py:467]\u001b[0m GAN_loss/gen/loss: 1.0697\n",
      "\u001b[32m[0114 19:01:20 @monitor.py:467]\u001b[0m QueueInput/queue_size: 50\n",
      "\u001b[32m[0114 19:01:20 @base.py:275]\u001b[0m Start Epoch 8 ...\n"
     ]
    },
    {
     "name": "stderr",
     "output_type": "stream",
     "text": [
      "100%|#####################################################################################|60/60[01:07<00:00, 0.89it/s]"
     ]
    },
    {
     "name": "stdout",
     "output_type": "stream",
     "text": [
      "\u001b[32m[0114 19:02:27 @base.py:285]\u001b[0m Epoch 8 (global_step 480) finished, time:1 minute 7 seconds.\n"
     ]
    },
    {
     "name": "stderr",
     "output_type": "stream",
     "text": [
      "\n"
     ]
    },
    {
     "name": "stdout",
     "output_type": "stream",
     "text": [
      "\u001b[32m[0114 19:02:28 @saver.py:79]\u001b[0m Model saved to .//Model//temp_model\\TGAN5\\model\\model-480.\n",
      "\u001b[32m[0114 19:02:28 @monitor.py:467]\u001b[0m GAN_loss/discrim/accuracy_fake: 0.83\n",
      "\u001b[32m[0114 19:02:28 @monitor.py:467]\u001b[0m GAN_loss/discrim/accuracy_real: 0.332\n",
      "\u001b[32m[0114 19:02:28 @monitor.py:467]\u001b[0m GAN_loss/discrim/loss: 0.63183\n",
      "\u001b[32m[0114 19:02:28 @monitor.py:467]\u001b[0m GAN_loss/gen/final-g-loss: 1.0848\n",
      "\u001b[32m[0114 19:02:28 @monitor.py:467]\u001b[0m GAN_loss/gen/klloss: 0.058352\n",
      "\u001b[32m[0114 19:02:28 @monitor.py:467]\u001b[0m GAN_loss/gen/loss: 1.0264\n",
      "\u001b[32m[0114 19:02:28 @monitor.py:467]\u001b[0m QueueInput/queue_size: 50\n",
      "\u001b[32m[0114 19:02:28 @base.py:275]\u001b[0m Start Epoch 9 ...\n"
     ]
    },
    {
     "name": "stderr",
     "output_type": "stream",
     "text": [
      "100%|#####################################################################################|60/60[01:07<00:00, 0.89it/s]"
     ]
    },
    {
     "name": "stdout",
     "output_type": "stream",
     "text": [
      "\u001b[32m[0114 19:03:35 @base.py:285]\u001b[0m Epoch 9 (global_step 540) finished, time:1 minute 7 seconds.\n"
     ]
    },
    {
     "name": "stderr",
     "output_type": "stream",
     "text": [
      "\n"
     ]
    },
    {
     "name": "stdout",
     "output_type": "stream",
     "text": [
      "\u001b[32m[0114 19:03:36 @saver.py:79]\u001b[0m Model saved to .//Model//temp_model\\TGAN5\\model\\model-540.\n",
      "\u001b[32m[0114 19:03:36 @monitor.py:467]\u001b[0m GAN_loss/discrim/accuracy_fake: 0.86\n",
      "\u001b[32m[0114 19:03:36 @monitor.py:467]\u001b[0m GAN_loss/discrim/accuracy_real: 0.322\n",
      "\u001b[32m[0114 19:03:36 @monitor.py:467]\u001b[0m GAN_loss/discrim/loss: 0.62244\n",
      "\u001b[32m[0114 19:03:36 @monitor.py:467]\u001b[0m GAN_loss/gen/final-g-loss: 1.0634\n",
      "\u001b[32m[0114 19:03:36 @monitor.py:467]\u001b[0m GAN_loss/gen/klloss: 0.03619\n",
      "\u001b[32m[0114 19:03:36 @monitor.py:467]\u001b[0m GAN_loss/gen/loss: 1.0273\n",
      "\u001b[32m[0114 19:03:36 @monitor.py:467]\u001b[0m QueueInput/queue_size: 50\n",
      "\u001b[32m[0114 19:03:36 @base.py:275]\u001b[0m Start Epoch 10 ...\n"
     ]
    },
    {
     "name": "stderr",
     "output_type": "stream",
     "text": [
      "100%|#####################################################################################|60/60[01:08<00:00, 0.88it/s]"
     ]
    },
    {
     "name": "stdout",
     "output_type": "stream",
     "text": [
      "\u001b[32m[0114 19:04:44 @base.py:285]\u001b[0m Epoch 10 (global_step 600) finished, time:1 minute 8 seconds.\n"
     ]
    },
    {
     "name": "stderr",
     "output_type": "stream",
     "text": [
      "\n"
     ]
    },
    {
     "name": "stdout",
     "output_type": "stream",
     "text": [
      "\u001b[32m[0114 19:04:45 @saver.py:79]\u001b[0m Model saved to .//Model//temp_model\\TGAN5\\model\\model-600.\n",
      "\u001b[32m[0114 19:04:45 @monitor.py:467]\u001b[0m GAN_loss/discrim/accuracy_fake: 0.824\n",
      "\u001b[32m[0114 19:04:45 @monitor.py:467]\u001b[0m GAN_loss/discrim/accuracy_real: 0.316\n",
      "\u001b[32m[0114 19:04:45 @monitor.py:467]\u001b[0m GAN_loss/discrim/loss: 0.63538\n",
      "\u001b[32m[0114 19:04:45 @monitor.py:467]\u001b[0m GAN_loss/gen/final-g-loss: 1.0646\n",
      "\u001b[32m[0114 19:04:45 @monitor.py:467]\u001b[0m GAN_loss/gen/klloss: 0.05194\n",
      "\u001b[32m[0114 19:04:45 @monitor.py:467]\u001b[0m GAN_loss/gen/loss: 1.0126\n",
      "\u001b[32m[0114 19:04:45 @monitor.py:467]\u001b[0m QueueInput/queue_size: 50\n",
      "\u001b[32m[0114 19:04:45 @base.py:275]\u001b[0m Start Epoch 11 ...\n"
     ]
    },
    {
     "name": "stderr",
     "output_type": "stream",
     "text": [
      "100%|#####################################################################################|60/60[01:07<00:00, 0.89it/s]"
     ]
    },
    {
     "name": "stdout",
     "output_type": "stream",
     "text": [
      "\u001b[32m[0114 19:05:52 @base.py:285]\u001b[0m Epoch 11 (global_step 660) finished, time:1 minute 7 seconds.\n"
     ]
    },
    {
     "name": "stderr",
     "output_type": "stream",
     "text": [
      "\n"
     ]
    },
    {
     "name": "stdout",
     "output_type": "stream",
     "text": [
      "\u001b[32m[0114 19:05:53 @saver.py:79]\u001b[0m Model saved to .//Model//temp_model\\TGAN5\\model\\model-660.\n",
      "\u001b[32m[0114 19:05:53 @monitor.py:467]\u001b[0m GAN_loss/discrim/accuracy_fake: 0.842\n",
      "\u001b[32m[0114 19:05:53 @monitor.py:467]\u001b[0m GAN_loss/discrim/accuracy_real: 0.328\n",
      "\u001b[32m[0114 19:05:53 @monitor.py:467]\u001b[0m GAN_loss/discrim/loss: 0.63068\n",
      "\u001b[32m[0114 19:05:53 @monitor.py:467]\u001b[0m GAN_loss/gen/final-g-loss: 1.0649\n",
      "\u001b[32m[0114 19:05:53 @monitor.py:467]\u001b[0m GAN_loss/gen/klloss: 0.049522\n",
      "\u001b[32m[0114 19:05:53 @monitor.py:467]\u001b[0m GAN_loss/gen/loss: 1.0154\n",
      "\u001b[32m[0114 19:05:53 @monitor.py:467]\u001b[0m QueueInput/queue_size: 50\n",
      "\u001b[32m[0114 19:05:53 @base.py:275]\u001b[0m Start Epoch 12 ...\n"
     ]
    },
    {
     "name": "stderr",
     "output_type": "stream",
     "text": [
      "100%|#####################################################################################|60/60[01:07<00:00, 0.88it/s]"
     ]
    },
    {
     "name": "stdout",
     "output_type": "stream",
     "text": [
      "\u001b[32m[0114 19:07:01 @base.py:285]\u001b[0m Epoch 12 (global_step 720) finished, time:1 minute 7 seconds.\n"
     ]
    },
    {
     "name": "stderr",
     "output_type": "stream",
     "text": [
      "\n"
     ]
    },
    {
     "name": "stdout",
     "output_type": "stream",
     "text": [
      "\u001b[32m[0114 19:07:02 @saver.py:79]\u001b[0m Model saved to .//Model//temp_model\\TGAN5\\model\\model-720.\n",
      "\u001b[32m[0114 19:07:02 @monitor.py:467]\u001b[0m GAN_loss/discrim/accuracy_fake: 0.828\n",
      "\u001b[32m[0114 19:07:02 @monitor.py:467]\u001b[0m GAN_loss/discrim/accuracy_real: 0.284\n",
      "\u001b[32m[0114 19:07:02 @monitor.py:467]\u001b[0m GAN_loss/discrim/loss: 0.64036\n",
      "\u001b[32m[0114 19:07:02 @monitor.py:467]\u001b[0m GAN_loss/gen/final-g-loss: 1.0283\n",
      "\u001b[32m[0114 19:07:02 @monitor.py:467]\u001b[0m GAN_loss/gen/klloss: 0.035713\n",
      "\u001b[32m[0114 19:07:02 @monitor.py:467]\u001b[0m GAN_loss/gen/loss: 0.99257\n",
      "\u001b[32m[0114 19:07:02 @monitor.py:467]\u001b[0m QueueInput/queue_size: 50\n",
      "\u001b[32m[0114 19:07:02 @base.py:275]\u001b[0m Start Epoch 13 ...\n"
     ]
    },
    {
     "name": "stderr",
     "output_type": "stream",
     "text": [
      "100%|#####################################################################################|60/60[01:08<00:00, 0.88it/s]"
     ]
    },
    {
     "name": "stdout",
     "output_type": "stream",
     "text": [
      "\u001b[32m[0114 19:08:10 @base.py:285]\u001b[0m Epoch 13 (global_step 780) finished, time:1 minute 8 seconds.\n"
     ]
    },
    {
     "name": "stderr",
     "output_type": "stream",
     "text": [
      "\n"
     ]
    },
    {
     "name": "stdout",
     "output_type": "stream",
     "text": [
      "\u001b[32m[0114 19:08:10 @saver.py:79]\u001b[0m Model saved to .//Model//temp_model\\TGAN5\\model\\model-780.\n",
      "\u001b[32m[0114 19:08:10 @monitor.py:467]\u001b[0m GAN_loss/discrim/accuracy_fake: 0.854\n",
      "\u001b[32m[0114 19:08:10 @monitor.py:467]\u001b[0m GAN_loss/discrim/accuracy_real: 0.29\n",
      "\u001b[32m[0114 19:08:10 @monitor.py:467]\u001b[0m GAN_loss/discrim/loss: 0.64013\n",
      "\u001b[32m[0114 19:08:10 @monitor.py:467]\u001b[0m GAN_loss/gen/final-g-loss: 1.0243\n",
      "\u001b[32m[0114 19:08:10 @monitor.py:467]\u001b[0m GAN_loss/gen/klloss: 0.037231\n",
      "\u001b[32m[0114 19:08:10 @monitor.py:467]\u001b[0m GAN_loss/gen/loss: 0.98712\n",
      "\u001b[32m[0114 19:08:10 @monitor.py:467]\u001b[0m QueueInput/queue_size: 50\n",
      "\u001b[32m[0114 19:08:10 @base.py:275]\u001b[0m Start Epoch 14 ...\n"
     ]
    },
    {
     "name": "stderr",
     "output_type": "stream",
     "text": [
      "100%|#####################################################################################|60/60[01:08<00:00, 0.87it/s]"
     ]
    },
    {
     "name": "stdout",
     "output_type": "stream",
     "text": [
      "\u001b[32m[0114 19:09:19 @base.py:285]\u001b[0m Epoch 14 (global_step 840) finished, time:1 minute 8 seconds.\n"
     ]
    },
    {
     "name": "stderr",
     "output_type": "stream",
     "text": [
      "\n"
     ]
    },
    {
     "name": "stdout",
     "output_type": "stream",
     "text": [
      "\u001b[32m[0114 19:09:20 @saver.py:79]\u001b[0m Model saved to .//Model//temp_model\\TGAN5\\model\\model-840.\n",
      "\u001b[32m[0114 19:09:20 @monitor.py:467]\u001b[0m GAN_loss/discrim/accuracy_fake: 0.858\n",
      "\u001b[32m[0114 19:09:20 @monitor.py:467]\u001b[0m GAN_loss/discrim/accuracy_real: 0.266\n",
      "\u001b[32m[0114 19:09:20 @monitor.py:467]\u001b[0m GAN_loss/discrim/loss: 0.63477\n",
      "\u001b[32m[0114 19:09:20 @monitor.py:467]\u001b[0m GAN_loss/gen/final-g-loss: 1.0412\n",
      "\u001b[32m[0114 19:09:20 @monitor.py:467]\u001b[0m GAN_loss/gen/klloss: 0.050029\n",
      "\u001b[32m[0114 19:09:20 @monitor.py:467]\u001b[0m GAN_loss/gen/loss: 0.99115\n",
      "\u001b[32m[0114 19:09:20 @monitor.py:467]\u001b[0m QueueInput/queue_size: 50\n",
      "\u001b[32m[0114 19:09:20 @base.py:275]\u001b[0m Start Epoch 15 ...\n"
     ]
    },
    {
     "name": "stderr",
     "output_type": "stream",
     "text": [
      "100%|#####################################################################################|60/60[01:07<00:00, 0.89it/s]"
     ]
    },
    {
     "name": "stdout",
     "output_type": "stream",
     "text": [
      "\u001b[32m[0114 19:10:28 @base.py:285]\u001b[0m Epoch 15 (global_step 900) finished, time:1 minute 7 seconds.\n"
     ]
    },
    {
     "name": "stderr",
     "output_type": "stream",
     "text": [
      "\n"
     ]
    },
    {
     "name": "stdout",
     "output_type": "stream",
     "text": [
      "\u001b[32m[0114 19:10:29 @saver.py:79]\u001b[0m Model saved to .//Model//temp_model\\TGAN5\\model\\model-900.\n",
      "\u001b[32m[0114 19:10:29 @monitor.py:467]\u001b[0m GAN_loss/discrim/accuracy_fake: 0.824\n",
      "\u001b[32m[0114 19:10:29 @monitor.py:467]\u001b[0m GAN_loss/discrim/accuracy_real: 0.218\n",
      "\u001b[32m[0114 19:10:29 @monitor.py:467]\u001b[0m GAN_loss/discrim/loss: 0.64448\n",
      "\u001b[32m[0114 19:10:29 @monitor.py:467]\u001b[0m GAN_loss/gen/final-g-loss: 1.0007\n",
      "\u001b[32m[0114 19:10:29 @monitor.py:467]\u001b[0m GAN_loss/gen/klloss: 0.023271\n",
      "\u001b[32m[0114 19:10:29 @monitor.py:467]\u001b[0m GAN_loss/gen/loss: 0.97745\n",
      "\u001b[32m[0114 19:10:29 @monitor.py:467]\u001b[0m QueueInput/queue_size: 50\n",
      "\u001b[32m[0114 19:10:29 @base.py:275]\u001b[0m Start Epoch 16 ...\n"
     ]
    },
    {
     "name": "stderr",
     "output_type": "stream",
     "text": [
      "100%|#####################################################################################|60/60[01:07<00:00, 0.89it/s]"
     ]
    },
    {
     "name": "stdout",
     "output_type": "stream",
     "text": [
      "\u001b[32m[0114 19:11:36 @base.py:285]\u001b[0m Epoch 16 (global_step 960) finished, time:1 minute 7 seconds.\n"
     ]
    },
    {
     "name": "stderr",
     "output_type": "stream",
     "text": [
      "\n"
     ]
    },
    {
     "name": "stdout",
     "output_type": "stream",
     "text": [
      "\u001b[32m[0114 19:11:38 @saver.py:79]\u001b[0m Model saved to .//Model//temp_model\\TGAN5\\model\\model-960.\n",
      "\u001b[32m[0114 19:11:38 @monitor.py:467]\u001b[0m GAN_loss/discrim/accuracy_fake: 0.85\n",
      "\u001b[32m[0114 19:11:38 @monitor.py:467]\u001b[0m GAN_loss/discrim/accuracy_real: 0.254\n",
      "\u001b[32m[0114 19:11:38 @monitor.py:467]\u001b[0m GAN_loss/discrim/loss: 0.64645\n",
      "\u001b[32m[0114 19:11:38 @monitor.py:467]\u001b[0m GAN_loss/gen/final-g-loss: 1.0077\n",
      "\u001b[32m[0114 19:11:38 @monitor.py:467]\u001b[0m GAN_loss/gen/klloss: 0.03504\n",
      "\u001b[32m[0114 19:11:38 @monitor.py:467]\u001b[0m GAN_loss/gen/loss: 0.97267\n",
      "\u001b[32m[0114 19:11:38 @monitor.py:467]\u001b[0m QueueInput/queue_size: 50\n",
      "\u001b[32m[0114 19:11:38 @base.py:275]\u001b[0m Start Epoch 17 ...\n"
     ]
    },
    {
     "name": "stderr",
     "output_type": "stream",
     "text": [
      "100%|#####################################################################################|60/60[01:07<00:00, 0.89it/s]"
     ]
    },
    {
     "name": "stdout",
     "output_type": "stream",
     "text": [
      "\u001b[32m[0114 19:12:45 @base.py:285]\u001b[0m Epoch 17 (global_step 1020) finished, time:1 minute 7 seconds.\n"
     ]
    },
    {
     "name": "stderr",
     "output_type": "stream",
     "text": [
      "\n"
     ]
    },
    {
     "name": "stdout",
     "output_type": "stream",
     "text": [
      "\u001b[32m[0114 19:12:46 @saver.py:79]\u001b[0m Model saved to .//Model//temp_model\\TGAN5\\model\\model-1020.\n",
      "\u001b[32m[0114 19:12:46 @monitor.py:467]\u001b[0m GAN_loss/discrim/accuracy_fake: 0.838\n",
      "\u001b[32m[0114 19:12:46 @monitor.py:467]\u001b[0m GAN_loss/discrim/accuracy_real: 0.212\n",
      "\u001b[32m[0114 19:12:46 @monitor.py:467]\u001b[0m GAN_loss/discrim/loss: 0.65045\n",
      "\u001b[32m[0114 19:12:46 @monitor.py:467]\u001b[0m GAN_loss/gen/final-g-loss: 1.009\n",
      "\u001b[32m[0114 19:12:46 @monitor.py:467]\u001b[0m GAN_loss/gen/klloss: 0.037642\n",
      "\u001b[32m[0114 19:12:46 @monitor.py:467]\u001b[0m GAN_loss/gen/loss: 0.97134\n",
      "\u001b[32m[0114 19:12:46 @monitor.py:467]\u001b[0m QueueInput/queue_size: 50\n",
      "\u001b[32m[0114 19:12:46 @base.py:275]\u001b[0m Start Epoch 18 ...\n"
     ]
    },
    {
     "name": "stderr",
     "output_type": "stream",
     "text": [
      "100%|#####################################################################################|60/60[01:07<00:00, 0.88it/s]"
     ]
    },
    {
     "name": "stdout",
     "output_type": "stream",
     "text": [
      "\u001b[32m[0114 19:13:54 @base.py:285]\u001b[0m Epoch 18 (global_step 1080) finished, time:1 minute 7 seconds.\n"
     ]
    },
    {
     "name": "stderr",
     "output_type": "stream",
     "text": [
      "\n"
     ]
    },
    {
     "name": "stdout",
     "output_type": "stream",
     "text": [
      "\u001b[32m[0114 19:13:54 @saver.py:79]\u001b[0m Model saved to .//Model//temp_model\\TGAN5\\model\\model-1080.\n",
      "\u001b[32m[0114 19:13:54 @monitor.py:467]\u001b[0m GAN_loss/discrim/accuracy_fake: 0.874\n",
      "\u001b[32m[0114 19:13:54 @monitor.py:467]\u001b[0m GAN_loss/discrim/accuracy_real: 0.23\n",
      "\u001b[32m[0114 19:13:54 @monitor.py:467]\u001b[0m GAN_loss/discrim/loss: 0.64561\n",
      "\u001b[32m[0114 19:13:54 @monitor.py:467]\u001b[0m GAN_loss/gen/final-g-loss: 1.0072\n",
      "\u001b[32m[0114 19:13:54 @monitor.py:467]\u001b[0m GAN_loss/gen/klloss: 0.036701\n",
      "\u001b[32m[0114 19:13:54 @monitor.py:467]\u001b[0m GAN_loss/gen/loss: 0.97052\n",
      "\u001b[32m[0114 19:13:54 @monitor.py:467]\u001b[0m QueueInput/queue_size: 50\n",
      "\u001b[32m[0114 19:13:54 @base.py:275]\u001b[0m Start Epoch 19 ...\n"
     ]
    },
    {
     "name": "stderr",
     "output_type": "stream",
     "text": [
      "100%|#####################################################################################|60/60[01:07<00:00, 0.89it/s]"
     ]
    },
    {
     "name": "stdout",
     "output_type": "stream",
     "text": [
      "\u001b[32m[0114 19:15:02 @base.py:285]\u001b[0m Epoch 19 (global_step 1140) finished, time:1 minute 7 seconds.\n"
     ]
    },
    {
     "name": "stderr",
     "output_type": "stream",
     "text": [
      "\n"
     ]
    },
    {
     "name": "stdout",
     "output_type": "stream",
     "text": [
      "\u001b[32m[0114 19:15:03 @saver.py:79]\u001b[0m Model saved to .//Model//temp_model\\TGAN5\\model\\model-1140.\n",
      "\u001b[32m[0114 19:15:03 @monitor.py:467]\u001b[0m GAN_loss/discrim/accuracy_fake: 0.856\n",
      "\u001b[32m[0114 19:15:03 @monitor.py:467]\u001b[0m GAN_loss/discrim/accuracy_real: 0.204\n",
      "\u001b[32m[0114 19:15:03 @monitor.py:467]\u001b[0m GAN_loss/discrim/loss: 0.64937\n",
      "\u001b[32m[0114 19:15:03 @monitor.py:467]\u001b[0m GAN_loss/gen/final-g-loss: 0.9919\n",
      "\u001b[32m[0114 19:15:03 @monitor.py:467]\u001b[0m GAN_loss/gen/klloss: 0.030215\n",
      "\u001b[32m[0114 19:15:03 @monitor.py:467]\u001b[0m GAN_loss/gen/loss: 0.96168\n",
      "\u001b[32m[0114 19:15:03 @monitor.py:467]\u001b[0m QueueInput/queue_size: 50\n",
      "\u001b[32m[0114 19:15:03 @base.py:275]\u001b[0m Start Epoch 20 ...\n"
     ]
    },
    {
     "name": "stderr",
     "output_type": "stream",
     "text": [
      "100%|#####################################################################################|60/60[01:07<00:00, 0.89it/s]"
     ]
    },
    {
     "name": "stdout",
     "output_type": "stream",
     "text": [
      "\u001b[32m[0114 19:16:10 @base.py:285]\u001b[0m Epoch 20 (global_step 1200) finished, time:1 minute 7 seconds.\n"
     ]
    },
    {
     "name": "stderr",
     "output_type": "stream",
     "text": [
      "\n"
     ]
    },
    {
     "name": "stdout",
     "output_type": "stream",
     "text": [
      "\u001b[32m[0114 19:16:11 @saver.py:79]\u001b[0m Model saved to .//Model//temp_model\\TGAN5\\model\\model-1200.\n",
      "\u001b[32m[0114 19:16:11 @monitor.py:467]\u001b[0m GAN_loss/discrim/accuracy_fake: 0.864\n",
      "\u001b[32m[0114 19:16:11 @monitor.py:467]\u001b[0m GAN_loss/discrim/accuracy_real: 0.2\n",
      "\u001b[32m[0114 19:16:11 @monitor.py:467]\u001b[0m GAN_loss/discrim/loss: 0.64854\n",
      "\u001b[32m[0114 19:16:11 @monitor.py:467]\u001b[0m GAN_loss/gen/final-g-loss: 0.98232\n",
      "\u001b[32m[0114 19:16:11 @monitor.py:467]\u001b[0m GAN_loss/gen/klloss: 0.025607\n",
      "\u001b[32m[0114 19:16:11 @monitor.py:467]\u001b[0m GAN_loss/gen/loss: 0.95671\n",
      "\u001b[32m[0114 19:16:11 @monitor.py:467]\u001b[0m QueueInput/queue_size: 50\n",
      "\u001b[32m[0114 19:16:11 @base.py:275]\u001b[0m Start Epoch 21 ...\n"
     ]
    },
    {
     "name": "stderr",
     "output_type": "stream",
     "text": [
      "100%|#####################################################################################|60/60[01:06<00:00, 0.90it/s]"
     ]
    },
    {
     "name": "stdout",
     "output_type": "stream",
     "text": [
      "\u001b[32m[0114 19:17:17 @base.py:285]\u001b[0m Epoch 21 (global_step 1260) finished, time:1 minute 6 seconds.\n"
     ]
    },
    {
     "name": "stderr",
     "output_type": "stream",
     "text": [
      "\n"
     ]
    },
    {
     "name": "stdout",
     "output_type": "stream",
     "text": [
      "\u001b[32m[0114 19:17:18 @saver.py:79]\u001b[0m Model saved to .//Model//temp_model\\TGAN5\\model\\model-1260.\n",
      "\u001b[32m[0114 19:17:18 @monitor.py:467]\u001b[0m GAN_loss/discrim/accuracy_fake: 0.872\n",
      "\u001b[32m[0114 19:17:18 @monitor.py:467]\u001b[0m GAN_loss/discrim/accuracy_real: 0.188\n",
      "\u001b[32m[0114 19:17:18 @monitor.py:467]\u001b[0m GAN_loss/discrim/loss: 0.64544\n",
      "\u001b[32m[0114 19:17:18 @monitor.py:467]\u001b[0m GAN_loss/gen/final-g-loss: 0.9891\n",
      "\u001b[32m[0114 19:17:18 @monitor.py:467]\u001b[0m GAN_loss/gen/klloss: 0.034397\n",
      "\u001b[32m[0114 19:17:18 @monitor.py:467]\u001b[0m GAN_loss/gen/loss: 0.9547\n",
      "\u001b[32m[0114 19:17:18 @monitor.py:467]\u001b[0m QueueInput/queue_size: 50\n",
      "\u001b[32m[0114 19:17:18 @base.py:275]\u001b[0m Start Epoch 22 ...\n"
     ]
    },
    {
     "name": "stderr",
     "output_type": "stream",
     "text": [
      "100%|#####################################################################################|60/60[01:07<00:00, 0.89it/s]"
     ]
    },
    {
     "name": "stdout",
     "output_type": "stream",
     "text": [
      "\u001b[32m[0114 19:18:25 @base.py:285]\u001b[0m Epoch 22 (global_step 1320) finished, time:1 minute 7 seconds.\n"
     ]
    },
    {
     "name": "stderr",
     "output_type": "stream",
     "text": [
      "\n"
     ]
    },
    {
     "name": "stdout",
     "output_type": "stream",
     "text": [
      "\u001b[32m[0114 19:18:25 @saver.py:79]\u001b[0m Model saved to .//Model//temp_model\\TGAN5\\model\\model-1320.\n",
      "\u001b[32m[0114 19:18:26 @monitor.py:467]\u001b[0m GAN_loss/discrim/accuracy_fake: 0.886\n",
      "\u001b[32m[0114 19:18:26 @monitor.py:467]\u001b[0m GAN_loss/discrim/accuracy_real: 0.22\n",
      "\u001b[32m[0114 19:18:26 @monitor.py:467]\u001b[0m GAN_loss/discrim/loss: 0.63683\n",
      "\u001b[32m[0114 19:18:26 @monitor.py:467]\u001b[0m GAN_loss/gen/final-g-loss: 1.0255\n",
      "\u001b[32m[0114 19:18:26 @monitor.py:467]\u001b[0m GAN_loss/gen/klloss: 0.049378\n",
      "\u001b[32m[0114 19:18:26 @monitor.py:467]\u001b[0m GAN_loss/gen/loss: 0.97611\n",
      "\u001b[32m[0114 19:18:26 @monitor.py:467]\u001b[0m QueueInput/queue_size: 50\n",
      "\u001b[32m[0114 19:18:26 @base.py:275]\u001b[0m Start Epoch 23 ...\n"
     ]
    },
    {
     "name": "stderr",
     "output_type": "stream",
     "text": [
      "100%|#####################################################################################|60/60[01:06<00:00, 0.90it/s]"
     ]
    },
    {
     "name": "stdout",
     "output_type": "stream",
     "text": [
      "\u001b[32m[0114 19:19:32 @base.py:285]\u001b[0m Epoch 23 (global_step 1380) finished, time:1 minute 6 seconds.\n"
     ]
    },
    {
     "name": "stderr",
     "output_type": "stream",
     "text": [
      "\n"
     ]
    },
    {
     "name": "stdout",
     "output_type": "stream",
     "text": [
      "\u001b[32m[0114 19:19:33 @saver.py:79]\u001b[0m Model saved to .//Model//temp_model\\TGAN5\\model\\model-1380.\n",
      "\u001b[32m[0114 19:19:33 @monitor.py:467]\u001b[0m GAN_loss/discrim/accuracy_fake: 0.868\n",
      "\u001b[32m[0114 19:19:33 @monitor.py:467]\u001b[0m GAN_loss/discrim/accuracy_real: 0.204\n",
      "\u001b[32m[0114 19:19:33 @monitor.py:467]\u001b[0m GAN_loss/discrim/loss: 0.63437\n",
      "\u001b[32m[0114 19:19:33 @monitor.py:467]\u001b[0m GAN_loss/gen/final-g-loss: 1.0227\n",
      "\u001b[32m[0114 19:19:33 @monitor.py:467]\u001b[0m GAN_loss/gen/klloss: 0.046034\n",
      "\u001b[32m[0114 19:19:33 @monitor.py:467]\u001b[0m GAN_loss/gen/loss: 0.97668\n",
      "\u001b[32m[0114 19:19:33 @monitor.py:467]\u001b[0m QueueInput/queue_size: 50\n",
      "\u001b[32m[0114 19:19:33 @base.py:275]\u001b[0m Start Epoch 24 ...\n"
     ]
    },
    {
     "name": "stderr",
     "output_type": "stream",
     "text": [
      "100%|#####################################################################################|60/60[01:06<00:00, 0.90it/s]"
     ]
    },
    {
     "name": "stdout",
     "output_type": "stream",
     "text": [
      "\u001b[32m[0114 19:20:39 @base.py:285]\u001b[0m Epoch 24 (global_step 1440) finished, time:1 minute 6 seconds.\n"
     ]
    },
    {
     "name": "stderr",
     "output_type": "stream",
     "text": [
      "\n"
     ]
    },
    {
     "name": "stdout",
     "output_type": "stream",
     "text": [
      "\u001b[32m[0114 19:20:40 @saver.py:79]\u001b[0m Model saved to .//Model//temp_model\\TGAN5\\model\\model-1440.\n",
      "\u001b[32m[0114 19:20:40 @monitor.py:467]\u001b[0m GAN_loss/discrim/accuracy_fake: 0.87\n",
      "\u001b[32m[0114 19:20:40 @monitor.py:467]\u001b[0m GAN_loss/discrim/accuracy_real: 0.22\n",
      "\u001b[32m[0114 19:20:40 @monitor.py:467]\u001b[0m GAN_loss/discrim/loss: 0.64409\n",
      "\u001b[32m[0114 19:20:40 @monitor.py:467]\u001b[0m GAN_loss/gen/final-g-loss: 1.0046\n",
      "\u001b[32m[0114 19:20:40 @monitor.py:467]\u001b[0m GAN_loss/gen/klloss: 0.041648\n",
      "\u001b[32m[0114 19:20:40 @monitor.py:467]\u001b[0m GAN_loss/gen/loss: 0.96299\n",
      "\u001b[32m[0114 19:20:40 @monitor.py:467]\u001b[0m QueueInput/queue_size: 50\n",
      "\u001b[32m[0114 19:20:40 @base.py:275]\u001b[0m Start Epoch 25 ...\n"
     ]
    },
    {
     "name": "stderr",
     "output_type": "stream",
     "text": [
      "100%|#####################################################################################|60/60[01:07<00:00, 0.89it/s]"
     ]
    },
    {
     "name": "stdout",
     "output_type": "stream",
     "text": [
      "\u001b[32m[0114 19:21:47 @base.py:285]\u001b[0m Epoch 25 (global_step 1500) finished, time:1 minute 7 seconds.\n"
     ]
    },
    {
     "name": "stderr",
     "output_type": "stream",
     "text": [
      "\n"
     ]
    },
    {
     "name": "stdout",
     "output_type": "stream",
     "text": [
      "\u001b[32m[0114 19:21:49 @saver.py:79]\u001b[0m Model saved to .//Model//temp_model\\TGAN5\\model\\model-1500.\n",
      "\u001b[32m[0114 19:21:49 @monitor.py:467]\u001b[0m GAN_loss/discrim/accuracy_fake: 0.846\n",
      "\u001b[32m[0114 19:21:49 @monitor.py:467]\u001b[0m GAN_loss/discrim/accuracy_real: 0.276\n",
      "\u001b[32m[0114 19:21:49 @monitor.py:467]\u001b[0m GAN_loss/discrim/loss: 0.63341\n",
      "\u001b[32m[0114 19:21:49 @monitor.py:467]\u001b[0m GAN_loss/gen/final-g-loss: 1.019\n",
      "\u001b[32m[0114 19:21:49 @monitor.py:467]\u001b[0m GAN_loss/gen/klloss: 0.039359\n",
      "\u001b[32m[0114 19:21:49 @monitor.py:467]\u001b[0m GAN_loss/gen/loss: 0.97968\n",
      "\u001b[32m[0114 19:21:49 @monitor.py:467]\u001b[0m QueueInput/queue_size: 50\n",
      "\u001b[32m[0114 19:21:49 @base.py:275]\u001b[0m Start Epoch 26 ...\n"
     ]
    },
    {
     "name": "stderr",
     "output_type": "stream",
     "text": [
      "100%|#####################################################################################|60/60[01:07<00:00, 0.89it/s]"
     ]
    },
    {
     "name": "stdout",
     "output_type": "stream",
     "text": [
      "\u001b[32m[0114 19:22:57 @base.py:285]\u001b[0m Epoch 26 (global_step 1560) finished, time:1 minute 7 seconds.\n"
     ]
    },
    {
     "name": "stderr",
     "output_type": "stream",
     "text": [
      "\n"
     ]
    },
    {
     "name": "stdout",
     "output_type": "stream",
     "text": [
      "\u001b[32m[0114 19:22:58 @saver.py:79]\u001b[0m Model saved to .//Model//temp_model\\TGAN5\\model\\model-1560.\n",
      "\u001b[32m[0114 19:22:58 @monitor.py:467]\u001b[0m GAN_loss/discrim/accuracy_fake: 0.884\n",
      "\u001b[32m[0114 19:22:58 @monitor.py:467]\u001b[0m GAN_loss/discrim/accuracy_real: 0.258\n",
      "\u001b[32m[0114 19:22:58 @monitor.py:467]\u001b[0m GAN_loss/discrim/loss: 0.63745\n",
      "\u001b[32m[0114 19:22:58 @monitor.py:467]\u001b[0m GAN_loss/gen/final-g-loss: 1.0198\n",
      "\u001b[32m[0114 19:22:58 @monitor.py:467]\u001b[0m GAN_loss/gen/klloss: 0.025377\n",
      "\u001b[32m[0114 19:22:58 @monitor.py:467]\u001b[0m GAN_loss/gen/loss: 0.99439\n",
      "\u001b[32m[0114 19:22:58 @monitor.py:467]\u001b[0m QueueInput/queue_size: 50\n",
      "\u001b[32m[0114 19:22:58 @base.py:275]\u001b[0m Start Epoch 27 ...\n"
     ]
    },
    {
     "name": "stderr",
     "output_type": "stream",
     "text": [
      "100%|#####################################################################################|60/60[01:08<00:00, 0.88it/s]"
     ]
    },
    {
     "name": "stdout",
     "output_type": "stream",
     "text": [
      "\u001b[32m[0114 19:24:06 @base.py:285]\u001b[0m Epoch 27 (global_step 1620) finished, time:1 minute 8 seconds.\n"
     ]
    },
    {
     "name": "stderr",
     "output_type": "stream",
     "text": [
      "\n"
     ]
    },
    {
     "name": "stdout",
     "output_type": "stream",
     "text": [
      "\u001b[32m[0114 19:24:06 @saver.py:79]\u001b[0m Model saved to .//Model//temp_model\\TGAN5\\model\\model-1620.\n",
      "\u001b[32m[0114 19:24:06 @monitor.py:467]\u001b[0m GAN_loss/discrim/accuracy_fake: 0.88\n",
      "\u001b[32m[0114 19:24:06 @monitor.py:467]\u001b[0m GAN_loss/discrim/accuracy_real: 0.242\n",
      "\u001b[32m[0114 19:24:06 @monitor.py:467]\u001b[0m GAN_loss/discrim/loss: 0.63163\n",
      "\u001b[32m[0114 19:24:06 @monitor.py:467]\u001b[0m GAN_loss/gen/final-g-loss: 1.0169\n",
      "\u001b[32m[0114 19:24:06 @monitor.py:467]\u001b[0m GAN_loss/gen/klloss: 0.030872\n",
      "\u001b[32m[0114 19:24:06 @monitor.py:467]\u001b[0m GAN_loss/gen/loss: 0.98599\n",
      "\u001b[32m[0114 19:24:06 @monitor.py:467]\u001b[0m QueueInput/queue_size: 50\n",
      "\u001b[32m[0114 19:24:06 @base.py:275]\u001b[0m Start Epoch 28 ...\n"
     ]
    },
    {
     "name": "stderr",
     "output_type": "stream",
     "text": [
      "100%|#####################################################################################|60/60[01:06<00:00, 0.90it/s]"
     ]
    },
    {
     "name": "stdout",
     "output_type": "stream",
     "text": [
      "\u001b[32m[0114 19:25:13 @base.py:285]\u001b[0m Epoch 28 (global_step 1680) finished, time:1 minute 6 seconds.\n"
     ]
    },
    {
     "name": "stderr",
     "output_type": "stream",
     "text": [
      "\n"
     ]
    },
    {
     "name": "stdout",
     "output_type": "stream",
     "text": [
      "\u001b[32m[0114 19:25:15 @saver.py:79]\u001b[0m Model saved to .//Model//temp_model\\TGAN5\\model\\model-1680.\n",
      "\u001b[32m[0114 19:25:15 @monitor.py:467]\u001b[0m GAN_loss/discrim/accuracy_fake: 0.872\n",
      "\u001b[32m[0114 19:25:15 @monitor.py:467]\u001b[0m GAN_loss/discrim/accuracy_real: 0.244\n",
      "\u001b[32m[0114 19:25:15 @monitor.py:467]\u001b[0m GAN_loss/discrim/loss: 0.63381\n",
      "\u001b[32m[0114 19:25:15 @monitor.py:467]\u001b[0m GAN_loss/gen/final-g-loss: 1.0423\n",
      "\u001b[32m[0114 19:25:15 @monitor.py:467]\u001b[0m GAN_loss/gen/klloss: 0.041405\n",
      "\u001b[32m[0114 19:25:15 @monitor.py:467]\u001b[0m GAN_loss/gen/loss: 1.0009\n",
      "\u001b[32m[0114 19:25:15 @monitor.py:467]\u001b[0m QueueInput/queue_size: 50\n",
      "\u001b[32m[0114 19:25:15 @base.py:275]\u001b[0m Start Epoch 29 ...\n"
     ]
    },
    {
     "name": "stderr",
     "output_type": "stream",
     "text": [
      "100%|#####################################################################################|60/60[01:07<00:00, 0.89it/s]"
     ]
    },
    {
     "name": "stdout",
     "output_type": "stream",
     "text": [
      "\u001b[32m[0114 19:26:22 @base.py:285]\u001b[0m Epoch 29 (global_step 1740) finished, time:1 minute 7 seconds.\n"
     ]
    },
    {
     "name": "stderr",
     "output_type": "stream",
     "text": [
      "\n"
     ]
    },
    {
     "name": "stdout",
     "output_type": "stream",
     "text": [
      "\u001b[32m[0114 19:26:23 @saver.py:79]\u001b[0m Model saved to .//Model//temp_model\\TGAN5\\model\\model-1740.\n",
      "\u001b[32m[0114 19:26:23 @monitor.py:467]\u001b[0m GAN_loss/discrim/accuracy_fake: 0.838\n",
      "\u001b[32m[0114 19:26:23 @monitor.py:467]\u001b[0m GAN_loss/discrim/accuracy_real: 0.264\n",
      "\u001b[32m[0114 19:26:23 @monitor.py:467]\u001b[0m GAN_loss/discrim/loss: 0.63753\n",
      "\u001b[32m[0114 19:26:23 @monitor.py:467]\u001b[0m GAN_loss/gen/final-g-loss: 1.0104\n",
      "\u001b[32m[0114 19:26:23 @monitor.py:467]\u001b[0m GAN_loss/gen/klloss: 0.03046\n",
      "\u001b[32m[0114 19:26:23 @monitor.py:467]\u001b[0m GAN_loss/gen/loss: 0.97995\n",
      "\u001b[32m[0114 19:26:23 @monitor.py:467]\u001b[0m QueueInput/queue_size: 50\n",
      "\u001b[32m[0114 19:26:23 @base.py:275]\u001b[0m Start Epoch 30 ...\n"
     ]
    },
    {
     "name": "stderr",
     "output_type": "stream",
     "text": [
      "100%|#####################################################################################|60/60[01:07<00:00, 0.89it/s]"
     ]
    },
    {
     "name": "stdout",
     "output_type": "stream",
     "text": [
      "\u001b[32m[0114 19:27:30 @base.py:285]\u001b[0m Epoch 30 (global_step 1800) finished, time:1 minute 7 seconds.\n"
     ]
    },
    {
     "name": "stderr",
     "output_type": "stream",
     "text": [
      "\n"
     ]
    },
    {
     "name": "stdout",
     "output_type": "stream",
     "text": [
      "\u001b[32m[0114 19:27:30 @saver.py:79]\u001b[0m Model saved to .//Model//temp_model\\TGAN5\\model\\model-1800.\n",
      "\u001b[32m[0114 19:27:30 @monitor.py:467]\u001b[0m GAN_loss/discrim/accuracy_fake: 0.878\n",
      "\u001b[32m[0114 19:27:30 @monitor.py:467]\u001b[0m GAN_loss/discrim/accuracy_real: 0.238\n",
      "\u001b[32m[0114 19:27:30 @monitor.py:467]\u001b[0m GAN_loss/discrim/loss: 0.63026\n",
      "\u001b[32m[0114 19:27:30 @monitor.py:467]\u001b[0m GAN_loss/gen/final-g-loss: 1.051\n",
      "\u001b[32m[0114 19:27:30 @monitor.py:467]\u001b[0m GAN_loss/gen/klloss: 0.039768\n",
      "\u001b[32m[0114 19:27:30 @monitor.py:467]\u001b[0m GAN_loss/gen/loss: 1.0112\n",
      "\u001b[32m[0114 19:27:30 @monitor.py:467]\u001b[0m QueueInput/queue_size: 50\n",
      "\u001b[32m[0114 19:27:30 @base.py:275]\u001b[0m Start Epoch 31 ...\n"
     ]
    },
    {
     "name": "stderr",
     "output_type": "stream",
     "text": [
      "100%|#####################################################################################|60/60[01:07<00:00, 0.89it/s]"
     ]
    },
    {
     "name": "stdout",
     "output_type": "stream",
     "text": [
      "\u001b[32m[0114 19:28:38 @base.py:285]\u001b[0m Epoch 31 (global_step 1860) finished, time:1 minute 7 seconds.\n"
     ]
    },
    {
     "name": "stderr",
     "output_type": "stream",
     "text": [
      "\n"
     ]
    },
    {
     "name": "stdout",
     "output_type": "stream",
     "text": [
      "\u001b[32m[0114 19:28:38 @saver.py:79]\u001b[0m Model saved to .//Model//temp_model\\TGAN5\\model\\model-1860.\n",
      "\u001b[32m[0114 19:28:38 @monitor.py:467]\u001b[0m GAN_loss/discrim/accuracy_fake: 0.87\n",
      "\u001b[32m[0114 19:28:38 @monitor.py:467]\u001b[0m GAN_loss/discrim/accuracy_real: 0.24\n",
      "\u001b[32m[0114 19:28:38 @monitor.py:467]\u001b[0m GAN_loss/discrim/loss: 0.63503\n",
      "\u001b[32m[0114 19:28:38 @monitor.py:467]\u001b[0m GAN_loss/gen/final-g-loss: 1.0183\n",
      "\u001b[32m[0114 19:28:38 @monitor.py:467]\u001b[0m GAN_loss/gen/klloss: 0.032087\n",
      "\u001b[32m[0114 19:28:38 @monitor.py:467]\u001b[0m GAN_loss/gen/loss: 0.98622\n",
      "\u001b[32m[0114 19:28:38 @monitor.py:467]\u001b[0m QueueInput/queue_size: 50\n",
      "\u001b[32m[0114 19:28:38 @base.py:275]\u001b[0m Start Epoch 32 ...\n"
     ]
    },
    {
     "name": "stderr",
     "output_type": "stream",
     "text": [
      "100%|#####################################################################################|60/60[01:07<00:00, 0.89it/s]"
     ]
    },
    {
     "name": "stdout",
     "output_type": "stream",
     "text": [
      "\u001b[32m[0114 19:29:46 @base.py:285]\u001b[0m Epoch 32 (global_step 1920) finished, time:1 minute 7 seconds.\n"
     ]
    },
    {
     "name": "stderr",
     "output_type": "stream",
     "text": [
      "\n"
     ]
    },
    {
     "name": "stdout",
     "output_type": "stream",
     "text": [
      "\u001b[32m[0114 19:29:46 @saver.py:79]\u001b[0m Model saved to .//Model//temp_model\\TGAN5\\model\\model-1920.\n",
      "\u001b[32m[0114 19:29:46 @monitor.py:467]\u001b[0m GAN_loss/discrim/accuracy_fake: 0.858\n",
      "\u001b[32m[0114 19:29:46 @monitor.py:467]\u001b[0m GAN_loss/discrim/accuracy_real: 0.228\n",
      "\u001b[32m[0114 19:29:46 @monitor.py:467]\u001b[0m GAN_loss/discrim/loss: 0.63608\n",
      "\u001b[32m[0114 19:29:46 @monitor.py:467]\u001b[0m GAN_loss/gen/final-g-loss: 1.0286\n",
      "\u001b[32m[0114 19:29:46 @monitor.py:467]\u001b[0m GAN_loss/gen/klloss: 0.033485\n",
      "\u001b[32m[0114 19:29:46 @monitor.py:467]\u001b[0m GAN_loss/gen/loss: 0.99516\n",
      "\u001b[32m[0114 19:29:46 @monitor.py:467]\u001b[0m QueueInput/queue_size: 50\n",
      "\u001b[32m[0114 19:29:46 @base.py:275]\u001b[0m Start Epoch 33 ...\n"
     ]
    },
    {
     "name": "stderr",
     "output_type": "stream",
     "text": [
      "100%|#####################################################################################|60/60[01:07<00:00, 0.89it/s]"
     ]
    },
    {
     "name": "stdout",
     "output_type": "stream",
     "text": [
      "\u001b[32m[0114 19:30:54 @base.py:285]\u001b[0m Epoch 33 (global_step 1980) finished, time:1 minute 7 seconds.\n"
     ]
    },
    {
     "name": "stderr",
     "output_type": "stream",
     "text": [
      "\n"
     ]
    },
    {
     "name": "stdout",
     "output_type": "stream",
     "text": [
      "\u001b[32m[0114 19:30:55 @saver.py:79]\u001b[0m Model saved to .//Model//temp_model\\TGAN5\\model\\model-1980.\n",
      "\u001b[32m[0114 19:30:55 @monitor.py:467]\u001b[0m GAN_loss/discrim/accuracy_fake: 0.846\n",
      "\u001b[32m[0114 19:30:55 @monitor.py:467]\u001b[0m GAN_loss/discrim/accuracy_real: 0.268\n",
      "\u001b[32m[0114 19:30:55 @monitor.py:467]\u001b[0m GAN_loss/discrim/loss: 0.64189\n",
      "\u001b[32m[0114 19:30:55 @monitor.py:467]\u001b[0m GAN_loss/gen/final-g-loss: 1.0205\n",
      "\u001b[32m[0114 19:30:55 @monitor.py:467]\u001b[0m GAN_loss/gen/klloss: 0.037294\n",
      "\u001b[32m[0114 19:30:55 @monitor.py:467]\u001b[0m GAN_loss/gen/loss: 0.98323\n",
      "\u001b[32m[0114 19:30:55 @monitor.py:467]\u001b[0m QueueInput/queue_size: 50\n",
      "\u001b[32m[0114 19:30:55 @base.py:275]\u001b[0m Start Epoch 34 ...\n"
     ]
    },
    {
     "name": "stderr",
     "output_type": "stream",
     "text": [
      "100%|#####################################################################################|60/60[01:06<00:00, 0.90it/s]"
     ]
    },
    {
     "name": "stdout",
     "output_type": "stream",
     "text": [
      "\u001b[32m[0114 19:32:01 @base.py:285]\u001b[0m Epoch 34 (global_step 2040) finished, time:1 minute 6 seconds.\n"
     ]
    },
    {
     "name": "stderr",
     "output_type": "stream",
     "text": [
      "\n"
     ]
    },
    {
     "name": "stdout",
     "output_type": "stream",
     "text": [
      "\u001b[32m[0114 19:32:02 @saver.py:79]\u001b[0m Model saved to .//Model//temp_model\\TGAN5\\model\\model-2040.\n",
      "\u001b[32m[0114 19:32:02 @monitor.py:467]\u001b[0m GAN_loss/discrim/accuracy_fake: 0.886\n",
      "\u001b[32m[0114 19:32:02 @monitor.py:467]\u001b[0m GAN_loss/discrim/accuracy_real: 0.24\n",
      "\u001b[32m[0114 19:32:02 @monitor.py:467]\u001b[0m GAN_loss/discrim/loss: 0.6303\n",
      "\u001b[32m[0114 19:32:02 @monitor.py:467]\u001b[0m GAN_loss/gen/final-g-loss: 1.027\n",
      "\u001b[32m[0114 19:32:02 @monitor.py:467]\u001b[0m GAN_loss/gen/klloss: 0.033792\n",
      "\u001b[32m[0114 19:32:02 @monitor.py:467]\u001b[0m GAN_loss/gen/loss: 0.9932\n",
      "\u001b[32m[0114 19:32:02 @monitor.py:467]\u001b[0m QueueInput/queue_size: 50\n",
      "\u001b[32m[0114 19:32:02 @base.py:275]\u001b[0m Start Epoch 35 ...\n"
     ]
    },
    {
     "name": "stderr",
     "output_type": "stream",
     "text": [
      "100%|#####################################################################################|60/60[01:07<00:00, 0.89it/s]"
     ]
    },
    {
     "name": "stdout",
     "output_type": "stream",
     "text": [
      "\u001b[32m[0114 19:33:09 @base.py:285]\u001b[0m Epoch 35 (global_step 2100) finished, time:1 minute 7 seconds.\n"
     ]
    },
    {
     "name": "stderr",
     "output_type": "stream",
     "text": [
      "\n"
     ]
    },
    {
     "name": "stdout",
     "output_type": "stream",
     "text": [
      "\u001b[32m[0114 19:33:09 @saver.py:79]\u001b[0m Model saved to .//Model//temp_model\\TGAN5\\model\\model-2100.\n",
      "\u001b[32m[0114 19:33:09 @monitor.py:467]\u001b[0m GAN_loss/discrim/accuracy_fake: 0.864\n",
      "\u001b[32m[0114 19:33:09 @monitor.py:467]\u001b[0m GAN_loss/discrim/accuracy_real: 0.27\n",
      "\u001b[32m[0114 19:33:09 @monitor.py:467]\u001b[0m GAN_loss/discrim/loss: 0.63401\n",
      "\u001b[32m[0114 19:33:09 @monitor.py:467]\u001b[0m GAN_loss/gen/final-g-loss: 1.0207\n",
      "\u001b[32m[0114 19:33:09 @monitor.py:467]\u001b[0m GAN_loss/gen/klloss: 0.033834\n",
      "\u001b[32m[0114 19:33:09 @monitor.py:467]\u001b[0m GAN_loss/gen/loss: 0.98686\n",
      "\u001b[32m[0114 19:33:09 @monitor.py:467]\u001b[0m QueueInput/queue_size: 50\n",
      "\u001b[32m[0114 19:33:09 @base.py:275]\u001b[0m Start Epoch 36 ...\n"
     ]
    },
    {
     "name": "stderr",
     "output_type": "stream",
     "text": [
      "100%|#####################################################################################|60/60[01:06<00:00, 0.90it/s]"
     ]
    },
    {
     "name": "stdout",
     "output_type": "stream",
     "text": [
      "\u001b[32m[0114 19:34:16 @base.py:285]\u001b[0m Epoch 36 (global_step 2160) finished, time:1 minute 6 seconds.\n"
     ]
    },
    {
     "name": "stderr",
     "output_type": "stream",
     "text": [
      "\n"
     ]
    },
    {
     "name": "stdout",
     "output_type": "stream",
     "text": [
      "\u001b[32m[0114 19:34:17 @saver.py:79]\u001b[0m Model saved to .//Model//temp_model\\TGAN5\\model\\model-2160.\n",
      "\u001b[32m[0114 19:34:17 @monitor.py:467]\u001b[0m GAN_loss/discrim/accuracy_fake: 0.84\n",
      "\u001b[32m[0114 19:34:17 @monitor.py:467]\u001b[0m GAN_loss/discrim/accuracy_real: 0.28\n",
      "\u001b[32m[0114 19:34:17 @monitor.py:467]\u001b[0m GAN_loss/discrim/loss: 0.63165\n",
      "\u001b[32m[0114 19:34:17 @monitor.py:467]\u001b[0m GAN_loss/gen/final-g-loss: 1.0195\n",
      "\u001b[32m[0114 19:34:17 @monitor.py:467]\u001b[0m GAN_loss/gen/klloss: 0.028033\n",
      "\u001b[32m[0114 19:34:17 @monitor.py:467]\u001b[0m GAN_loss/gen/loss: 0.99144\n",
      "\u001b[32m[0114 19:34:17 @monitor.py:467]\u001b[0m QueueInput/queue_size: 50\n",
      "\u001b[32m[0114 19:34:17 @base.py:275]\u001b[0m Start Epoch 37 ...\n"
     ]
    },
    {
     "name": "stderr",
     "output_type": "stream",
     "text": [
      "100%|#####################################################################################|60/60[01:06<00:00, 0.90it/s]"
     ]
    },
    {
     "name": "stdout",
     "output_type": "stream",
     "text": [
      "\u001b[32m[0114 19:35:23 @base.py:285]\u001b[0m Epoch 37 (global_step 2220) finished, time:1 minute 6 seconds.\n"
     ]
    },
    {
     "name": "stderr",
     "output_type": "stream",
     "text": [
      "\n"
     ]
    },
    {
     "name": "stdout",
     "output_type": "stream",
     "text": [
      "\u001b[32m[0114 19:35:24 @saver.py:79]\u001b[0m Model saved to .//Model//temp_model\\TGAN5\\model\\model-2220.\n",
      "\u001b[32m[0114 19:35:24 @monitor.py:467]\u001b[0m GAN_loss/discrim/accuracy_fake: 0.828\n",
      "\u001b[32m[0114 19:35:24 @monitor.py:467]\u001b[0m GAN_loss/discrim/accuracy_real: 0.222\n",
      "\u001b[32m[0114 19:35:24 @monitor.py:467]\u001b[0m GAN_loss/discrim/loss: 0.64256\n",
      "\u001b[32m[0114 19:35:24 @monitor.py:467]\u001b[0m GAN_loss/gen/final-g-loss: 0.98349\n",
      "\u001b[32m[0114 19:35:24 @monitor.py:467]\u001b[0m GAN_loss/gen/klloss: 0.025598\n",
      "\u001b[32m[0114 19:35:24 @monitor.py:467]\u001b[0m GAN_loss/gen/loss: 0.95789\n",
      "\u001b[32m[0114 19:35:24 @monitor.py:467]\u001b[0m QueueInput/queue_size: 50\n",
      "\u001b[32m[0114 19:35:24 @base.py:275]\u001b[0m Start Epoch 38 ...\n"
     ]
    },
    {
     "name": "stderr",
     "output_type": "stream",
     "text": [
      "100%|#####################################################################################|60/60[01:06<00:00, 0.90it/s]"
     ]
    },
    {
     "name": "stdout",
     "output_type": "stream",
     "text": [
      "\u001b[32m[0114 19:36:31 @base.py:285]\u001b[0m Epoch 38 (global_step 2280) finished, time:1 minute 6 seconds.\n"
     ]
    },
    {
     "name": "stderr",
     "output_type": "stream",
     "text": [
      "\n"
     ]
    },
    {
     "name": "stdout",
     "output_type": "stream",
     "text": [
      "\u001b[32m[0114 19:36:31 @saver.py:79]\u001b[0m Model saved to .//Model//temp_model\\TGAN5\\model\\model-2280.\n",
      "\u001b[32m[0114 19:36:31 @monitor.py:467]\u001b[0m GAN_loss/discrim/accuracy_fake: 0.87\n",
      "\u001b[32m[0114 19:36:31 @monitor.py:467]\u001b[0m GAN_loss/discrim/accuracy_real: 0.252\n",
      "\u001b[32m[0114 19:36:31 @monitor.py:467]\u001b[0m GAN_loss/discrim/loss: 0.6304\n",
      "\u001b[32m[0114 19:36:31 @monitor.py:467]\u001b[0m GAN_loss/gen/final-g-loss: 1.0154\n",
      "\u001b[32m[0114 19:36:31 @monitor.py:467]\u001b[0m GAN_loss/gen/klloss: 0.024683\n",
      "\u001b[32m[0114 19:36:31 @monitor.py:467]\u001b[0m GAN_loss/gen/loss: 0.99071\n",
      "\u001b[32m[0114 19:36:31 @monitor.py:467]\u001b[0m QueueInput/queue_size: 50\n",
      "\u001b[32m[0114 19:36:31 @base.py:275]\u001b[0m Start Epoch 39 ...\n"
     ]
    },
    {
     "name": "stderr",
     "output_type": "stream",
     "text": [
      "100%|#####################################################################################|60/60[01:06<00:00, 0.90it/s]"
     ]
    },
    {
     "name": "stdout",
     "output_type": "stream",
     "text": [
      "\u001b[32m[0114 19:37:38 @base.py:285]\u001b[0m Epoch 39 (global_step 2340) finished, time:1 minute 6 seconds.\n"
     ]
    },
    {
     "name": "stderr",
     "output_type": "stream",
     "text": [
      "\n"
     ]
    },
    {
     "name": "stdout",
     "output_type": "stream",
     "text": [
      "\u001b[32m[0114 19:37:39 @saver.py:79]\u001b[0m Model saved to .//Model//temp_model\\TGAN5\\model\\model-2340.\n",
      "\u001b[32m[0114 19:37:39 @monitor.py:467]\u001b[0m GAN_loss/discrim/accuracy_fake: 0.86\n",
      "\u001b[32m[0114 19:37:39 @monitor.py:467]\u001b[0m GAN_loss/discrim/accuracy_real: 0.194\n",
      "\u001b[32m[0114 19:37:39 @monitor.py:467]\u001b[0m GAN_loss/discrim/loss: 0.64349\n",
      "\u001b[32m[0114 19:37:39 @monitor.py:467]\u001b[0m GAN_loss/gen/final-g-loss: 1.0195\n",
      "\u001b[32m[0114 19:37:39 @monitor.py:467]\u001b[0m GAN_loss/gen/klloss: 0.031159\n",
      "\u001b[32m[0114 19:37:39 @monitor.py:467]\u001b[0m GAN_loss/gen/loss: 0.98838\n",
      "\u001b[32m[0114 19:37:39 @monitor.py:467]\u001b[0m QueueInput/queue_size: 50\n",
      "\u001b[32m[0114 19:37:39 @base.py:275]\u001b[0m Start Epoch 40 ...\n"
     ]
    },
    {
     "name": "stderr",
     "output_type": "stream",
     "text": [
      "100%|#####################################################################################|60/60[01:07<00:00, 0.89it/s]"
     ]
    },
    {
     "name": "stdout",
     "output_type": "stream",
     "text": [
      "\u001b[32m[0114 19:38:46 @base.py:285]\u001b[0m Epoch 40 (global_step 2400) finished, time:1 minute 7 seconds.\n"
     ]
    },
    {
     "name": "stderr",
     "output_type": "stream",
     "text": [
      "\n"
     ]
    },
    {
     "name": "stdout",
     "output_type": "stream",
     "text": [
      "\u001b[32m[0114 19:38:49 @saver.py:79]\u001b[0m Model saved to .//Model//temp_model\\TGAN5\\model\\model-2400.\n",
      "\u001b[32m[0114 19:38:49 @monitor.py:467]\u001b[0m GAN_loss/discrim/accuracy_fake: 0.84\n",
      "\u001b[32m[0114 19:38:49 @monitor.py:467]\u001b[0m GAN_loss/discrim/accuracy_real: 0.224\n",
      "\u001b[32m[0114 19:38:49 @monitor.py:467]\u001b[0m GAN_loss/discrim/loss: 0.65285\n",
      "\u001b[32m[0114 19:38:49 @monitor.py:467]\u001b[0m GAN_loss/gen/final-g-loss: 1.0139\n",
      "\u001b[32m[0114 19:38:49 @monitor.py:467]\u001b[0m GAN_loss/gen/klloss: 0.058341\n",
      "\u001b[32m[0114 19:38:49 @monitor.py:467]\u001b[0m GAN_loss/gen/loss: 0.95553\n",
      "\u001b[32m[0114 19:38:49 @monitor.py:467]\u001b[0m QueueInput/queue_size: 50\n",
      "\u001b[32m[0114 19:38:49 @base.py:289]\u001b[0m Training has finished!\n",
      "\u001b[32m[0114 19:38:50 @input_source.py:178]\u001b[0m EnqueueThread QueueInput/input_queue Exited.\n",
      "\u001b[32m[0114 19:38:50 @collection.py:146]\u001b[0m New collections created in tower : tf.GraphKeys.REGULARIZATION_LOSSES\n",
      "\u001b[32m[0114 19:38:50 @collection.py:165]\u001b[0m These collections were modified but restored in : (tf.GraphKeys.SUMMARIES: 0->2)\n",
      "\u001b[32m[0114 19:38:50 @sessinit.py:87]\u001b[0m \u001b[5m\u001b[31mWRN\u001b[0m The following variables are in the checkpoint, but not found in the graph: global_step, optimize/beta1_power, optimize/beta2_power\n",
      "INFO:tensorflow:Graph was finalized.\n",
      "INFO:tensorflow:Running local_init_op.\n",
      "INFO:tensorflow:Done running local_init_op.\n",
      "\u001b[32m[0114 19:38:51 @sessinit.py:114]\u001b[0m Restoring checkpoint from .//Model//temp_model\\TGAN5\\model\\model-2400 ...\n",
      "INFO:tensorflow:Restoring parameters from .//Model//temp_model\\TGAN5\\model\\model-2400\n"
     ]
    },
    {
     "name": "stderr",
     "output_type": "stream",
     "text": [
      " 12%|#########9                                                                          |59/500[00:16<02:04, 3.53it/s]\n"
     ]
    },
    {
     "name": "stdout",
     "output_type": "stream",
     "text": [
      "\u001b[32m[0114 19:39:09 @input_source.py:222]\u001b[0m Setting up the queue 'QueueInput/input_queue' for CPU prefetching ...\n",
      "\u001b[32m[0114 19:39:13 @logger.py:90]\u001b[0m Argv: C:\\Users\\Arne\\anaconda3\\envs\\tfv1\\lib\\site-packages\\ipykernel_launcher.py -f C:\\Users\\Arne\\AppData\\Roaming\\jupyter\\runtime\\kernel-95c990b4-007f-4c92-b889-4b29f1351785.json\n",
      "\u001b[32m[0114 19:39:14 @model_utils.py:67]\u001b[0m \u001b[36mList of Trainable Variables: \n",
      "\u001b[0mname                              shape           #elements\n",
      "--------------------------------  ------------  -----------\n",
      "gen/LSTM/go:0                     [1, 100]              100\n",
      "gen/LSTM/lstm_cell/kernel:0       [500, 400]         200000\n",
      "gen/LSTM/lstm_cell/bias:0         [400]                 400\n",
      "gen/LSTM/00/FC/W:0                [100, 100]          10000\n",
      "gen/LSTM/00/FC/b:0                [100]                 100\n",
      "gen/LSTM/00/FC2/W:0               [100, 72]            7200\n",
      "gen/LSTM/00/FC2/b:0               [72]                   72\n",
      "gen/LSTM/00/FC3/W:0               [72, 100]            7200\n",
      "gen/LSTM/00/FC3/b:0               [100]                 100\n",
      "gen/LSTM/00/attw:0                [1, 1, 1]               1\n",
      "gen/LSTM/01/FC/W:0                [100, 100]          10000\n",
      "gen/LSTM/01/FC/b:0                [100]                 100\n",
      "gen/LSTM/01/FC2/W:0               [100, 5]              500\n",
      "gen/LSTM/01/FC2/b:0               [5]                     5\n",
      "gen/LSTM/01/FC3/W:0               [5, 100]              500\n",
      "gen/LSTM/01/FC3/b:0               [100]                 100\n",
      "gen/LSTM/01/attw:0                [2, 1, 1]               2\n",
      "gen/LSTM/02/FC/W:0                [100, 100]          10000\n",
      "gen/LSTM/02/FC/b:0                [100]                 100\n",
      "gen/LSTM/02/FC2/W:0               [100, 20263]      2026300\n",
      "gen/LSTM/02/FC2/b:0               [20263]             20263\n",
      "gen/LSTM/02/FC3/W:0               [20263, 100]      2026300\n",
      "gen/LSTM/02/FC3/b:0               [100]                 100\n",
      "gen/LSTM/02/attw:0                [3, 1, 1]               3\n",
      "gen/LSTM/03/FC/W:0                [100, 100]          10000\n",
      "gen/LSTM/03/FC/b:0                [100]                 100\n",
      "gen/LSTM/03/FC2/W:0               [100, 9]              900\n",
      "gen/LSTM/03/FC2/b:0               [9]                     9\n",
      "gen/LSTM/03/FC3/W:0               [9, 100]              900\n",
      "gen/LSTM/03/FC3/b:0               [100]                 100\n",
      "gen/LSTM/03/attw:0                [4, 1, 1]               4\n",
      "gen/LSTM/04/FC/W:0                [100, 100]          10000\n",
      "gen/LSTM/04/FC/b:0                [100]                 100\n",
      "gen/LSTM/04/FC2/W:0               [100, 16]            1600\n",
      "gen/LSTM/04/FC2/b:0               [16]                   16\n",
      "gen/LSTM/04/FC3/W:0               [16, 100]            1600\n",
      "gen/LSTM/04/FC3/b:0               [100]                 100\n",
      "gen/LSTM/04/attw:0                [5, 1, 1]               5\n",
      "gen/LSTM/05/FC/W:0                [100, 100]          10000\n",
      "gen/LSTM/05/FC/b:0                [100]                 100\n",
      "gen/LSTM/05/FC2/W:0               [100, 5]              500\n",
      "gen/LSTM/05/FC2/b:0               [5]                     5\n",
      "gen/LSTM/05/FC3/W:0               [5, 100]              500\n",
      "gen/LSTM/05/FC3/b:0               [100]                 100\n",
      "gen/LSTM/05/attw:0                [6, 1, 1]               6\n",
      "gen/LSTM/06/FC/W:0                [100, 100]          10000\n",
      "gen/LSTM/06/FC/b:0                [100]                 100\n",
      "gen/LSTM/06/FC2/W:0               [100, 14]            1400\n",
      "gen/LSTM/06/FC2/b:0               [14]                   14\n",
      "gen/LSTM/06/FC3/W:0               [14, 100]            1400\n",
      "gen/LSTM/06/FC3/b:0               [100]                 100\n",
      "gen/LSTM/06/attw:0                [7, 1, 1]               7\n",
      "gen/LSTM/07/FC/W:0                [100, 100]          10000\n",
      "gen/LSTM/07/FC/b:0                [100]                 100\n",
      "gen/LSTM/07/FC2/W:0               [100, 5]              500\n",
      "gen/LSTM/07/FC2/b:0               [5]                     5\n",
      "gen/LSTM/07/FC3/W:0               [5, 100]              500\n",
      "gen/LSTM/07/FC3/b:0               [100]                 100\n",
      "gen/LSTM/07/attw:0                [8, 1, 1]               8\n",
      "gen/LSTM/08/FC/W:0                [100, 100]          10000\n",
      "gen/LSTM/08/FC/b:0                [100]                 100\n",
      "gen/LSTM/08/FC2/W:0               [100, 2]              200\n",
      "gen/LSTM/08/FC2/b:0               [2]                     2\n",
      "gen/LSTM/08/FC3/W:0               [2, 100]              200\n",
      "gen/LSTM/08/FC3/b:0               [100]                 100\n",
      "gen/LSTM/08/attw:0                [9, 1, 1]               9\n",
      "gen/LSTM/09/FC/W:0                [100, 100]          10000\n",
      "gen/LSTM/09/FC/b:0                [100]                 100\n",
      "gen/LSTM/09/FC2/W:0               [100, 118]          11800\n",
      "gen/LSTM/09/FC2/b:0               [118]                 118\n",
      "gen/LSTM/09/FC3/W:0               [118, 100]          11800\n",
      "gen/LSTM/09/FC3/b:0               [100]                 100\n",
      "gen/LSTM/09/attw:0                [10, 1, 1]             10\n",
      "gen/LSTM/10/FC/W:0                [100, 100]          10000\n",
      "gen/LSTM/10/FC/b:0                [100]                 100\n",
      "gen/LSTM/10/FC2/W:0               [100, 90]            9000\n",
      "gen/LSTM/10/FC2/b:0               [90]                   90\n",
      "gen/LSTM/10/FC3/W:0               [90, 100]            9000\n",
      "gen/LSTM/10/FC3/b:0               [100]                 100\n",
      "gen/LSTM/10/attw:0                [11, 1, 1]             11\n",
      "gen/LSTM/11/FC/W:0                [100, 100]          10000\n",
      "gen/LSTM/11/FC/b:0                [100]                 100\n",
      "gen/LSTM/11/FC2/W:0               [100, 94]            9400\n",
      "gen/LSTM/11/FC2/b:0               [94]                   94\n",
      "gen/LSTM/11/FC3/W:0               [94, 100]            9400\n",
      "gen/LSTM/11/FC3/b:0               [100]                 100\n",
      "gen/LSTM/11/attw:0                [12, 1, 1]             12\n",
      "gen/LSTM/12/FC/W:0                [100, 100]          10000\n",
      "gen/LSTM/12/FC/b:0                [100]                 100\n",
      "gen/LSTM/12/FC2/W:0               [100, 2]              200\n",
      "gen/LSTM/12/FC2/b:0               [2]                     2\n",
      "gen/LSTM/12/FC3/W:0               [2, 100]              200\n",
      "gen/LSTM/12/FC3/b:0               [100]                 100\n",
      "gen/LSTM/12/attw:0                [13, 1, 1]             13\n",
      "gen/LSTM/13/FC/W:0                [100, 100]          10000\n",
      "gen/LSTM/13/FC/b:0                [100]                 100\n",
      "gen/LSTM/13/FC2/W:0               [100, 2]              200\n",
      "gen/LSTM/13/FC2/b:0               [2]                     2\n",
      "gen/LSTM/13/FC3/W:0               [2, 100]              200\n",
      "gen/LSTM/13/FC3/b:0               [100]                 100\n",
      "gen/LSTM/13/attw:0                [14, 1, 1]             14\n",
      "discrim/dis_fc0/fc/W:0            [20697, 256]      5298432\n",
      "discrim/dis_fc0/fc/b:0            [256]                 256\n",
      "discrim/dis_fc0/fc_diversity/W:0  [256, 100]          25600\n",
      "discrim/dis_fc0/fc_diversity/b:0  [100]                 100\n",
      "discrim/dis_fc0/bn/beta:0         [266]                 266\n",
      "discrim/dis_fc_top/W:0            [266, 1]              266\n",
      "discrim/dis_fc_top/b:0            [1]                     1\u001b[36m\n",
      "Number of trainable variables: 108\n",
      "Number of parameters (elements): 9828423\n",
      "Storage space needed for all trainable variables: 37.49MB\u001b[0m\n",
      "\u001b[32m[0114 19:39:14 @base.py:209]\u001b[0m Setup callbacks graph ...\n",
      "\u001b[32m[0114 19:39:14 @summary.py:46]\u001b[0m [MovingAverageSummary] 6 operations in collection 'MOVING_SUMMARY_OPS' will be run with session hooks.\n",
      "\u001b[32m[0114 19:39:14 @summary.py:93]\u001b[0m Summarizing collection 'summaries' of size 9.\n",
      "\u001b[32m[0114 19:39:14 @graph.py:98]\u001b[0m Applying collection UPDATE_OPS of 4 ops.\n",
      "\u001b[32m[0114 19:39:15 @base.py:230]\u001b[0m Creating the session ...\n",
      "\u001b[32m[0114 19:39:16 @base.py:236]\u001b[0m Initializing the session ...\n",
      "\u001b[32m[0114 19:39:16 @base.py:243]\u001b[0m Graph Finalized.\n",
      "\u001b[32m[0114 19:39:16 @concurrency.py:38]\u001b[0m Starting EnqueueThread QueueInput/input_queue ...\n",
      "\u001b[32m[0114 19:39:17 @base.py:275]\u001b[0m Start Epoch 1 ...\n"
     ]
    },
    {
     "name": "stderr",
     "output_type": "stream",
     "text": [
      "100%|#####################################################################################|60/60[01:11<00:00, 0.83it/s]"
     ]
    },
    {
     "name": "stdout",
     "output_type": "stream",
     "text": [
      "\u001b[32m[0114 19:40:29 @base.py:285]\u001b[0m Epoch 1 (global_step 60) finished, time:1 minute 11 seconds.\n"
     ]
    },
    {
     "name": "stderr",
     "output_type": "stream",
     "text": [
      "\n"
     ]
    },
    {
     "name": "stdout",
     "output_type": "stream",
     "text": [
      "\u001b[32m[0114 19:40:30 @saver.py:79]\u001b[0m Model saved to .//Model//temp_model\\TGAN6\\model\\model-60.\n",
      "\u001b[32m[0114 19:40:30 @monitor.py:467]\u001b[0m GAN_loss/discrim/accuracy_fake: 0.71\n",
      "\u001b[32m[0114 19:40:30 @monitor.py:467]\u001b[0m GAN_loss/discrim/accuracy_real: 0.302\n",
      "\u001b[32m[0114 19:40:30 @monitor.py:467]\u001b[0m GAN_loss/discrim/loss: 0.74512\n",
      "\u001b[32m[0114 19:40:30 @monitor.py:467]\u001b[0m GAN_loss/gen/final-g-loss: 1.0929\n",
      "\u001b[32m[0114 19:40:30 @monitor.py:467]\u001b[0m GAN_loss/gen/klloss: 0.024114\n",
      "\u001b[32m[0114 19:40:30 @monitor.py:467]\u001b[0m GAN_loss/gen/loss: 1.0688\n",
      "\u001b[32m[0114 19:40:30 @monitor.py:467]\u001b[0m QueueInput/queue_size: 50\n",
      "\u001b[32m[0114 19:40:30 @base.py:275]\u001b[0m Start Epoch 2 ...\n"
     ]
    },
    {
     "name": "stderr",
     "output_type": "stream",
     "text": [
      "100%|#####################################################################################|60/60[01:08<00:00, 0.87it/s]"
     ]
    },
    {
     "name": "stdout",
     "output_type": "stream",
     "text": [
      "\u001b[32m[0114 19:41:38 @base.py:285]\u001b[0m Epoch 2 (global_step 120) finished, time:1 minute 8 seconds.\n"
     ]
    },
    {
     "name": "stderr",
     "output_type": "stream",
     "text": [
      "\n"
     ]
    },
    {
     "name": "stdout",
     "output_type": "stream",
     "text": [
      "\u001b[32m[0114 19:41:39 @saver.py:79]\u001b[0m Model saved to .//Model//temp_model\\TGAN6\\model\\model-120.\n",
      "\u001b[32m[0114 19:41:39 @monitor.py:467]\u001b[0m GAN_loss/discrim/accuracy_fake: 0.826\n",
      "\u001b[32m[0114 19:41:39 @monitor.py:467]\u001b[0m GAN_loss/discrim/accuracy_real: 0.308\n",
      "\u001b[32m[0114 19:41:39 @monitor.py:467]\u001b[0m GAN_loss/discrim/loss: 0.6508\n",
      "\u001b[32m[0114 19:41:39 @monitor.py:467]\u001b[0m GAN_loss/gen/final-g-loss: 1.0922\n",
      "\u001b[32m[0114 19:41:39 @monitor.py:467]\u001b[0m GAN_loss/gen/klloss: 0.036358\n",
      "\u001b[32m[0114 19:41:39 @monitor.py:467]\u001b[0m GAN_loss/gen/loss: 1.0558\n",
      "\u001b[32m[0114 19:41:39 @monitor.py:467]\u001b[0m QueueInput/queue_size: 50\n",
      "\u001b[32m[0114 19:41:39 @base.py:275]\u001b[0m Start Epoch 3 ...\n"
     ]
    },
    {
     "name": "stderr",
     "output_type": "stream",
     "text": [
      "100%|#####################################################################################|60/60[01:07<00:00, 0.89it/s]"
     ]
    },
    {
     "name": "stdout",
     "output_type": "stream",
     "text": [
      "\u001b[32m[0114 19:42:46 @base.py:285]\u001b[0m Epoch 3 (global_step 180) finished, time:1 minute 7 seconds.\n"
     ]
    },
    {
     "name": "stderr",
     "output_type": "stream",
     "text": [
      "\n"
     ]
    },
    {
     "name": "stdout",
     "output_type": "stream",
     "text": [
      "\u001b[32m[0114 19:42:47 @saver.py:79]\u001b[0m Model saved to .//Model//temp_model\\TGAN6\\model\\model-180.\n",
      "\u001b[32m[0114 19:42:47 @monitor.py:467]\u001b[0m GAN_loss/discrim/accuracy_fake: 0.842\n",
      "\u001b[32m[0114 19:42:47 @monitor.py:467]\u001b[0m GAN_loss/discrim/accuracy_real: 0.33\n",
      "\u001b[32m[0114 19:42:47 @monitor.py:467]\u001b[0m GAN_loss/discrim/loss: 0.63206\n",
      "\u001b[32m[0114 19:42:47 @monitor.py:467]\u001b[0m GAN_loss/gen/final-g-loss: 1.0795\n",
      "\u001b[32m[0114 19:42:47 @monitor.py:467]\u001b[0m GAN_loss/gen/klloss: 0.039276\n",
      "\u001b[32m[0114 19:42:47 @monitor.py:467]\u001b[0m GAN_loss/gen/loss: 1.0402\n",
      "\u001b[32m[0114 19:42:47 @monitor.py:467]\u001b[0m QueueInput/queue_size: 50\n",
      "\u001b[32m[0114 19:42:47 @base.py:275]\u001b[0m Start Epoch 4 ...\n"
     ]
    },
    {
     "name": "stderr",
     "output_type": "stream",
     "text": [
      "100%|#####################################################################################|60/60[01:07<00:00, 0.89it/s]"
     ]
    },
    {
     "name": "stdout",
     "output_type": "stream",
     "text": [
      "\u001b[32m[0114 19:43:54 @base.py:285]\u001b[0m Epoch 4 (global_step 240) finished, time:1 minute 7 seconds.\n"
     ]
    },
    {
     "name": "stderr",
     "output_type": "stream",
     "text": [
      "\n"
     ]
    },
    {
     "name": "stdout",
     "output_type": "stream",
     "text": [
      "\u001b[32m[0114 19:43:55 @saver.py:79]\u001b[0m Model saved to .//Model//temp_model\\TGAN6\\model\\model-240.\n",
      "\u001b[32m[0114 19:43:55 @monitor.py:467]\u001b[0m GAN_loss/discrim/accuracy_fake: 0.852\n",
      "\u001b[32m[0114 19:43:55 @monitor.py:467]\u001b[0m GAN_loss/discrim/accuracy_real: 0.346\n",
      "\u001b[32m[0114 19:43:55 @monitor.py:467]\u001b[0m GAN_loss/discrim/loss: 0.62175\n",
      "\u001b[32m[0114 19:43:55 @monitor.py:467]\u001b[0m GAN_loss/gen/final-g-loss: 1.0755\n",
      "\u001b[32m[0114 19:43:55 @monitor.py:467]\u001b[0m GAN_loss/gen/klloss: 0.040293\n",
      "\u001b[32m[0114 19:43:55 @monitor.py:467]\u001b[0m GAN_loss/gen/loss: 1.0352\n",
      "\u001b[32m[0114 19:43:55 @monitor.py:467]\u001b[0m QueueInput/queue_size: 50\n",
      "\u001b[32m[0114 19:43:55 @base.py:275]\u001b[0m Start Epoch 5 ...\n"
     ]
    },
    {
     "name": "stderr",
     "output_type": "stream",
     "text": [
      "100%|#####################################################################################|60/60[01:07<00:00, 0.89it/s]"
     ]
    },
    {
     "name": "stdout",
     "output_type": "stream",
     "text": [
      "\u001b[32m[0114 19:45:02 @base.py:285]\u001b[0m Epoch 5 (global_step 300) finished, time:1 minute 7 seconds.\n"
     ]
    },
    {
     "name": "stderr",
     "output_type": "stream",
     "text": [
      "\n"
     ]
    },
    {
     "name": "stdout",
     "output_type": "stream",
     "text": [
      "\u001b[32m[0114 19:45:04 @saver.py:79]\u001b[0m Model saved to .//Model//temp_model\\TGAN6\\model\\model-300.\n",
      "\u001b[32m[0114 19:45:04 @monitor.py:467]\u001b[0m GAN_loss/discrim/accuracy_fake: 0.856\n",
      "\u001b[32m[0114 19:45:04 @monitor.py:467]\u001b[0m GAN_loss/discrim/accuracy_real: 0.37\n",
      "\u001b[32m[0114 19:45:04 @monitor.py:467]\u001b[0m GAN_loss/discrim/loss: 0.61828\n",
      "\u001b[32m[0114 19:45:04 @monitor.py:467]\u001b[0m GAN_loss/gen/final-g-loss: 1.079\n",
      "\u001b[32m[0114 19:45:04 @monitor.py:467]\u001b[0m GAN_loss/gen/klloss: 0.041663\n",
      "\u001b[32m[0114 19:45:04 @monitor.py:467]\u001b[0m GAN_loss/gen/loss: 1.0374\n",
      "\u001b[32m[0114 19:45:04 @monitor.py:467]\u001b[0m QueueInput/queue_size: 50\n",
      "\u001b[32m[0114 19:45:04 @base.py:275]\u001b[0m Start Epoch 6 ...\n"
     ]
    },
    {
     "name": "stderr",
     "output_type": "stream",
     "text": [
      "100%|#####################################################################################|60/60[01:07<00:00, 0.89it/s]"
     ]
    },
    {
     "name": "stdout",
     "output_type": "stream",
     "text": [
      "\u001b[32m[0114 19:46:11 @base.py:285]\u001b[0m Epoch 6 (global_step 360) finished, time:1 minute 7 seconds.\n"
     ]
    },
    {
     "name": "stderr",
     "output_type": "stream",
     "text": [
      "\n"
     ]
    },
    {
     "name": "stdout",
     "output_type": "stream",
     "text": [
      "\u001b[32m[0114 19:46:12 @saver.py:79]\u001b[0m Model saved to .//Model//temp_model\\TGAN6\\model\\model-360.\n",
      "\u001b[32m[0114 19:46:12 @monitor.py:467]\u001b[0m GAN_loss/discrim/accuracy_fake: 0.864\n",
      "\u001b[32m[0114 19:46:12 @monitor.py:467]\u001b[0m GAN_loss/discrim/accuracy_real: 0.354\n",
      "\u001b[32m[0114 19:46:12 @monitor.py:467]\u001b[0m GAN_loss/discrim/loss: 0.61512\n",
      "\u001b[32m[0114 19:46:12 @monitor.py:467]\u001b[0m GAN_loss/gen/final-g-loss: 1.0995\n",
      "\u001b[32m[0114 19:46:12 @monitor.py:467]\u001b[0m GAN_loss/gen/klloss: 0.03351\n",
      "\u001b[32m[0114 19:46:12 @monitor.py:467]\u001b[0m GAN_loss/gen/loss: 1.066\n",
      "\u001b[32m[0114 19:46:12 @monitor.py:467]\u001b[0m QueueInput/queue_size: 50\n",
      "\u001b[32m[0114 19:46:12 @base.py:275]\u001b[0m Start Epoch 7 ...\n"
     ]
    },
    {
     "name": "stderr",
     "output_type": "stream",
     "text": [
      "100%|#####################################################################################|60/60[01:08<00:00, 0.88it/s]"
     ]
    },
    {
     "name": "stdout",
     "output_type": "stream",
     "text": [
      "\u001b[32m[0114 19:47:20 @base.py:285]\u001b[0m Epoch 7 (global_step 420) finished, time:1 minute 8 seconds.\n"
     ]
    },
    {
     "name": "stderr",
     "output_type": "stream",
     "text": [
      "\n"
     ]
    },
    {
     "name": "stdout",
     "output_type": "stream",
     "text": [
      "\u001b[32m[0114 19:47:21 @saver.py:79]\u001b[0m Model saved to .//Model//temp_model\\TGAN6\\model\\model-420.\n",
      "\u001b[32m[0114 19:47:21 @monitor.py:467]\u001b[0m GAN_loss/discrim/accuracy_fake: 0.846\n",
      "\u001b[32m[0114 19:47:21 @monitor.py:467]\u001b[0m GAN_loss/discrim/accuracy_real: 0.354\n",
      "\u001b[32m[0114 19:47:21 @monitor.py:467]\u001b[0m GAN_loss/discrim/loss: 0.62344\n",
      "\u001b[32m[0114 19:47:21 @monitor.py:467]\u001b[0m GAN_loss/gen/final-g-loss: 1.0967\n",
      "\u001b[32m[0114 19:47:21 @monitor.py:467]\u001b[0m GAN_loss/gen/klloss: 0.04577\n",
      "\u001b[32m[0114 19:47:21 @monitor.py:467]\u001b[0m GAN_loss/gen/loss: 1.051\n",
      "\u001b[32m[0114 19:47:21 @monitor.py:467]\u001b[0m QueueInput/queue_size: 50\n",
      "\u001b[32m[0114 19:47:21 @base.py:275]\u001b[0m Start Epoch 8 ...\n"
     ]
    },
    {
     "name": "stderr",
     "output_type": "stream",
     "text": [
      "100%|#####################################################################################|60/60[01:08<00:00, 0.87it/s]"
     ]
    },
    {
     "name": "stdout",
     "output_type": "stream",
     "text": [
      "\u001b[32m[0114 19:48:30 @base.py:285]\u001b[0m Epoch 8 (global_step 480) finished, time:1 minute 8 seconds.\n"
     ]
    },
    {
     "name": "stderr",
     "output_type": "stream",
     "text": [
      "\n"
     ]
    },
    {
     "name": "stdout",
     "output_type": "stream",
     "text": [
      "\u001b[32m[0114 19:48:31 @saver.py:79]\u001b[0m Model saved to .//Model//temp_model\\TGAN6\\model\\model-480.\n",
      "\u001b[32m[0114 19:48:31 @monitor.py:467]\u001b[0m GAN_loss/discrim/accuracy_fake: 0.82\n",
      "\u001b[32m[0114 19:48:31 @monitor.py:467]\u001b[0m GAN_loss/discrim/accuracy_real: 0.338\n",
      "\u001b[32m[0114 19:48:31 @monitor.py:467]\u001b[0m GAN_loss/discrim/loss: 0.63592\n",
      "\u001b[32m[0114 19:48:31 @monitor.py:467]\u001b[0m GAN_loss/gen/final-g-loss: 1.0713\n",
      "\u001b[32m[0114 19:48:31 @monitor.py:467]\u001b[0m GAN_loss/gen/klloss: 0.061853\n",
      "\u001b[32m[0114 19:48:31 @monitor.py:467]\u001b[0m GAN_loss/gen/loss: 1.0094\n",
      "\u001b[32m[0114 19:48:31 @monitor.py:467]\u001b[0m QueueInput/queue_size: 50\n",
      "\u001b[32m[0114 19:48:31 @base.py:275]\u001b[0m Start Epoch 9 ...\n"
     ]
    },
    {
     "name": "stderr",
     "output_type": "stream",
     "text": [
      "100%|#####################################################################################|60/60[01:08<00:00, 0.88it/s]"
     ]
    },
    {
     "name": "stdout",
     "output_type": "stream",
     "text": [
      "\u001b[32m[0114 19:49:39 @base.py:285]\u001b[0m Epoch 9 (global_step 540) finished, time:1 minute 8 seconds.\n"
     ]
    },
    {
     "name": "stderr",
     "output_type": "stream",
     "text": [
      "\n"
     ]
    },
    {
     "name": "stdout",
     "output_type": "stream",
     "text": [
      "\u001b[32m[0114 19:49:40 @saver.py:79]\u001b[0m Model saved to .//Model//temp_model\\TGAN6\\model\\model-540.\n",
      "\u001b[32m[0114 19:49:40 @monitor.py:467]\u001b[0m GAN_loss/discrim/accuracy_fake: 0.828\n",
      "\u001b[32m[0114 19:49:40 @monitor.py:467]\u001b[0m GAN_loss/discrim/accuracy_real: 0.32\n",
      "\u001b[32m[0114 19:49:40 @monitor.py:467]\u001b[0m GAN_loss/discrim/loss: 0.64001\n",
      "\u001b[32m[0114 19:49:40 @monitor.py:467]\u001b[0m GAN_loss/gen/final-g-loss: 1.1071\n",
      "\u001b[32m[0114 19:49:40 @monitor.py:467]\u001b[0m GAN_loss/gen/klloss: 0.085625\n",
      "\u001b[32m[0114 19:49:40 @monitor.py:467]\u001b[0m GAN_loss/gen/loss: 1.0215\n",
      "\u001b[32m[0114 19:49:40 @monitor.py:467]\u001b[0m QueueInput/queue_size: 50\n",
      "\u001b[32m[0114 19:49:40 @base.py:275]\u001b[0m Start Epoch 10 ...\n"
     ]
    },
    {
     "name": "stderr",
     "output_type": "stream",
     "text": [
      "100%|#####################################################################################|60/60[01:08<00:00, 0.88it/s]"
     ]
    },
    {
     "name": "stdout",
     "output_type": "stream",
     "text": [
      "\u001b[32m[0114 19:50:48 @base.py:285]\u001b[0m Epoch 10 (global_step 600) finished, time:1 minute 8 seconds.\n"
     ]
    },
    {
     "name": "stderr",
     "output_type": "stream",
     "text": [
      "\n"
     ]
    },
    {
     "name": "stdout",
     "output_type": "stream",
     "text": [
      "\u001b[32m[0114 19:50:49 @saver.py:79]\u001b[0m Model saved to .//Model//temp_model\\TGAN6\\model\\model-600.\n",
      "\u001b[32m[0114 19:50:49 @monitor.py:467]\u001b[0m GAN_loss/discrim/accuracy_fake: 0.864\n",
      "\u001b[32m[0114 19:50:49 @monitor.py:467]\u001b[0m GAN_loss/discrim/accuracy_real: 0.384\n",
      "\u001b[32m[0114 19:50:49 @monitor.py:467]\u001b[0m GAN_loss/discrim/loss: 0.60946\n",
      "\u001b[32m[0114 19:50:49 @monitor.py:467]\u001b[0m GAN_loss/gen/final-g-loss: 1.0716\n",
      "\u001b[32m[0114 19:50:49 @monitor.py:467]\u001b[0m GAN_loss/gen/klloss: 0.028713\n",
      "\u001b[32m[0114 19:50:49 @monitor.py:467]\u001b[0m GAN_loss/gen/loss: 1.0429\n",
      "\u001b[32m[0114 19:50:49 @monitor.py:467]\u001b[0m QueueInput/queue_size: 50\n",
      "\u001b[32m[0114 19:50:49 @base.py:275]\u001b[0m Start Epoch 11 ...\n"
     ]
    },
    {
     "name": "stderr",
     "output_type": "stream",
     "text": [
      "100%|#####################################################################################|60/60[01:08<00:00, 0.88it/s]"
     ]
    },
    {
     "name": "stdout",
     "output_type": "stream",
     "text": [
      "\u001b[32m[0114 19:51:57 @base.py:285]\u001b[0m Epoch 11 (global_step 660) finished, time:1 minute 8 seconds.\n"
     ]
    },
    {
     "name": "stderr",
     "output_type": "stream",
     "text": [
      "\n"
     ]
    },
    {
     "name": "stdout",
     "output_type": "stream",
     "text": [
      "\u001b[32m[0114 19:51:58 @saver.py:79]\u001b[0m Model saved to .//Model//temp_model\\TGAN6\\model\\model-660.\n",
      "\u001b[32m[0114 19:51:58 @monitor.py:467]\u001b[0m GAN_loss/discrim/accuracy_fake: 0.826\n",
      "\u001b[32m[0114 19:51:58 @monitor.py:467]\u001b[0m GAN_loss/discrim/accuracy_real: 0.31\n",
      "\u001b[32m[0114 19:51:58 @monitor.py:467]\u001b[0m GAN_loss/discrim/loss: 0.63409\n",
      "\u001b[32m[0114 19:51:58 @monitor.py:467]\u001b[0m GAN_loss/gen/final-g-loss: 1.0511\n",
      "\u001b[32m[0114 19:51:58 @monitor.py:467]\u001b[0m GAN_loss/gen/klloss: 0.041546\n",
      "\u001b[32m[0114 19:51:58 @monitor.py:467]\u001b[0m GAN_loss/gen/loss: 1.0096\n",
      "\u001b[32m[0114 19:51:58 @monitor.py:467]\u001b[0m QueueInput/queue_size: 50\n",
      "\u001b[32m[0114 19:51:58 @base.py:275]\u001b[0m Start Epoch 12 ...\n"
     ]
    },
    {
     "name": "stderr",
     "output_type": "stream",
     "text": [
      "100%|#####################################################################################|60/60[01:08<00:00, 0.88it/s]"
     ]
    },
    {
     "name": "stdout",
     "output_type": "stream",
     "text": [
      "\u001b[32m[0114 19:53:06 @base.py:285]\u001b[0m Epoch 12 (global_step 720) finished, time:1 minute 8 seconds.\n"
     ]
    },
    {
     "name": "stderr",
     "output_type": "stream",
     "text": [
      "\n"
     ]
    },
    {
     "name": "stdout",
     "output_type": "stream",
     "text": [
      "\u001b[32m[0114 19:53:06 @saver.py:79]\u001b[0m Model saved to .//Model//temp_model\\TGAN6\\model\\model-720.\n",
      "\u001b[32m[0114 19:53:06 @monitor.py:467]\u001b[0m GAN_loss/discrim/accuracy_fake: 0.856\n",
      "\u001b[32m[0114 19:53:06 @monitor.py:467]\u001b[0m GAN_loss/discrim/accuracy_real: 0.294\n",
      "\u001b[32m[0114 19:53:06 @monitor.py:467]\u001b[0m GAN_loss/discrim/loss: 0.63286\n",
      "\u001b[32m[0114 19:53:06 @monitor.py:467]\u001b[0m GAN_loss/gen/final-g-loss: 1.0247\n",
      "\u001b[32m[0114 19:53:06 @monitor.py:467]\u001b[0m GAN_loss/gen/klloss: 0.030377\n",
      "\u001b[32m[0114 19:53:06 @monitor.py:467]\u001b[0m GAN_loss/gen/loss: 0.99435\n",
      "\u001b[32m[0114 19:53:06 @monitor.py:467]\u001b[0m QueueInput/queue_size: 50\n",
      "\u001b[32m[0114 19:53:06 @base.py:275]\u001b[0m Start Epoch 13 ...\n"
     ]
    },
    {
     "name": "stderr",
     "output_type": "stream",
     "text": [
      "100%|#####################################################################################|60/60[01:08<00:00, 0.87it/s]"
     ]
    },
    {
     "name": "stdout",
     "output_type": "stream",
     "text": [
      "\u001b[32m[0114 19:54:15 @base.py:285]\u001b[0m Epoch 13 (global_step 780) finished, time:1 minute 8 seconds.\n"
     ]
    },
    {
     "name": "stderr",
     "output_type": "stream",
     "text": [
      "\n"
     ]
    },
    {
     "name": "stdout",
     "output_type": "stream",
     "text": [
      "\u001b[32m[0114 19:54:16 @saver.py:79]\u001b[0m Model saved to .//Model//temp_model\\TGAN6\\model\\model-780.\n",
      "\u001b[32m[0114 19:54:16 @monitor.py:467]\u001b[0m GAN_loss/discrim/accuracy_fake: 0.806\n",
      "\u001b[32m[0114 19:54:16 @monitor.py:467]\u001b[0m GAN_loss/discrim/accuracy_real: 0.286\n",
      "\u001b[32m[0114 19:54:16 @monitor.py:467]\u001b[0m GAN_loss/discrim/loss: 0.64662\n",
      "\u001b[32m[0114 19:54:16 @monitor.py:467]\u001b[0m GAN_loss/gen/final-g-loss: 1.0293\n",
      "\u001b[32m[0114 19:54:16 @monitor.py:467]\u001b[0m GAN_loss/gen/klloss: 0.03628\n",
      "\u001b[32m[0114 19:54:16 @monitor.py:467]\u001b[0m GAN_loss/gen/loss: 0.99307\n",
      "\u001b[32m[0114 19:54:16 @monitor.py:467]\u001b[0m QueueInput/queue_size: 50\n",
      "\u001b[32m[0114 19:54:16 @base.py:275]\u001b[0m Start Epoch 14 ...\n"
     ]
    },
    {
     "name": "stderr",
     "output_type": "stream",
     "text": [
      "100%|#####################################################################################|60/60[01:07<00:00, 0.89it/s]"
     ]
    },
    {
     "name": "stdout",
     "output_type": "stream",
     "text": [
      "\u001b[32m[0114 19:55:24 @base.py:285]\u001b[0m Epoch 14 (global_step 840) finished, time:1 minute 7 seconds.\n"
     ]
    },
    {
     "name": "stderr",
     "output_type": "stream",
     "text": [
      "\n"
     ]
    },
    {
     "name": "stdout",
     "output_type": "stream",
     "text": [
      "\u001b[32m[0114 19:55:24 @saver.py:79]\u001b[0m Model saved to .//Model//temp_model\\TGAN6\\model\\model-840.\n",
      "\u001b[32m[0114 19:55:24 @monitor.py:467]\u001b[0m GAN_loss/discrim/accuracy_fake: 0.86\n",
      "\u001b[32m[0114 19:55:24 @monitor.py:467]\u001b[0m GAN_loss/discrim/accuracy_real: 0.32\n",
      "\u001b[32m[0114 19:55:24 @monitor.py:467]\u001b[0m GAN_loss/discrim/loss: 0.62958\n",
      "\u001b[32m[0114 19:55:24 @monitor.py:467]\u001b[0m GAN_loss/gen/final-g-loss: 1.0412\n",
      "\u001b[32m[0114 19:55:24 @monitor.py:467]\u001b[0m GAN_loss/gen/klloss: 0.03275\n",
      "\u001b[32m[0114 19:55:24 @monitor.py:467]\u001b[0m GAN_loss/gen/loss: 1.0084\n",
      "\u001b[32m[0114 19:55:24 @monitor.py:467]\u001b[0m QueueInput/queue_size: 50\n",
      "\u001b[32m[0114 19:55:24 @base.py:275]\u001b[0m Start Epoch 15 ...\n"
     ]
    },
    {
     "name": "stderr",
     "output_type": "stream",
     "text": [
      "100%|#####################################################################################|60/60[01:07<00:00, 0.88it/s]"
     ]
    },
    {
     "name": "stdout",
     "output_type": "stream",
     "text": [
      "\u001b[32m[0114 19:56:32 @base.py:285]\u001b[0m Epoch 15 (global_step 900) finished, time:1 minute 7 seconds.\n"
     ]
    },
    {
     "name": "stderr",
     "output_type": "stream",
     "text": [
      "\n"
     ]
    },
    {
     "name": "stdout",
     "output_type": "stream",
     "text": [
      "\u001b[32m[0114 19:56:33 @saver.py:79]\u001b[0m Model saved to .//Model//temp_model\\TGAN6\\model\\model-900.\n",
      "\u001b[32m[0114 19:56:33 @monitor.py:467]\u001b[0m GAN_loss/discrim/accuracy_fake: 0.872\n",
      "\u001b[32m[0114 19:56:33 @monitor.py:467]\u001b[0m GAN_loss/discrim/accuracy_real: 0.288\n",
      "\u001b[32m[0114 19:56:33 @monitor.py:467]\u001b[0m GAN_loss/discrim/loss: 0.62911\n",
      "\u001b[32m[0114 19:56:33 @monitor.py:467]\u001b[0m GAN_loss/gen/final-g-loss: 1.0498\n",
      "\u001b[32m[0114 19:56:33 @monitor.py:467]\u001b[0m GAN_loss/gen/klloss: 0.029777\n",
      "\u001b[32m[0114 19:56:33 @monitor.py:467]\u001b[0m GAN_loss/gen/loss: 1.0201\n",
      "\u001b[32m[0114 19:56:33 @monitor.py:467]\u001b[0m QueueInput/queue_size: 50\n",
      "\u001b[32m[0114 19:56:33 @base.py:275]\u001b[0m Start Epoch 16 ...\n"
     ]
    },
    {
     "name": "stderr",
     "output_type": "stream",
     "text": [
      "100%|#####################################################################################|60/60[01:09<00:00, 0.87it/s]"
     ]
    },
    {
     "name": "stdout",
     "output_type": "stream",
     "text": [
      "\u001b[32m[0114 19:57:42 @base.py:285]\u001b[0m Epoch 16 (global_step 960) finished, time:1 minute 9 seconds.\n"
     ]
    },
    {
     "name": "stderr",
     "output_type": "stream",
     "text": [
      "\n"
     ]
    },
    {
     "name": "stdout",
     "output_type": "stream",
     "text": [
      "\u001b[32m[0114 19:57:44 @saver.py:79]\u001b[0m Model saved to .//Model//temp_model\\TGAN6\\model\\model-960.\n",
      "\u001b[32m[0114 19:57:44 @monitor.py:467]\u001b[0m GAN_loss/discrim/accuracy_fake: 0.822\n",
      "\u001b[32m[0114 19:57:44 @monitor.py:467]\u001b[0m GAN_loss/discrim/accuracy_real: 0.286\n",
      "\u001b[32m[0114 19:57:44 @monitor.py:467]\u001b[0m GAN_loss/discrim/loss: 0.64951\n",
      "\u001b[32m[0114 19:57:44 @monitor.py:467]\u001b[0m GAN_loss/gen/final-g-loss: 1.0106\n",
      "\u001b[32m[0114 19:57:44 @monitor.py:467]\u001b[0m GAN_loss/gen/klloss: 0.035371\n",
      "\u001b[32m[0114 19:57:44 @monitor.py:467]\u001b[0m GAN_loss/gen/loss: 0.97524\n",
      "\u001b[32m[0114 19:57:44 @monitor.py:467]\u001b[0m QueueInput/queue_size: 50\n",
      "\u001b[32m[0114 19:57:44 @base.py:275]\u001b[0m Start Epoch 17 ...\n"
     ]
    },
    {
     "name": "stderr",
     "output_type": "stream",
     "text": [
      "100%|#####################################################################################|60/60[01:09<00:00, 0.86it/s]"
     ]
    },
    {
     "name": "stdout",
     "output_type": "stream",
     "text": [
      "\u001b[32m[0114 19:58:54 @base.py:285]\u001b[0m Epoch 17 (global_step 1020) finished, time:1 minute 9 seconds.\n"
     ]
    },
    {
     "name": "stderr",
     "output_type": "stream",
     "text": [
      "\n"
     ]
    },
    {
     "name": "stdout",
     "output_type": "stream",
     "text": [
      "\u001b[32m[0114 19:58:55 @saver.py:79]\u001b[0m Model saved to .//Model//temp_model\\TGAN6\\model\\model-1020.\n",
      "\u001b[32m[0114 19:58:55 @monitor.py:467]\u001b[0m GAN_loss/discrim/accuracy_fake: 0.844\n",
      "\u001b[32m[0114 19:58:55 @monitor.py:467]\u001b[0m GAN_loss/discrim/accuracy_real: 0.26\n",
      "\u001b[32m[0114 19:58:55 @monitor.py:467]\u001b[0m GAN_loss/discrim/loss: 0.65283\n",
      "\u001b[32m[0114 19:58:55 @monitor.py:467]\u001b[0m GAN_loss/gen/final-g-loss: 1.0123\n",
      "\u001b[32m[0114 19:58:55 @monitor.py:467]\u001b[0m GAN_loss/gen/klloss: 0.05856\n",
      "\u001b[32m[0114 19:58:55 @monitor.py:467]\u001b[0m GAN_loss/gen/loss: 0.9537\n",
      "\u001b[32m[0114 19:58:55 @monitor.py:467]\u001b[0m QueueInput/queue_size: 50\n",
      "\u001b[32m[0114 19:58:55 @base.py:275]\u001b[0m Start Epoch 18 ...\n"
     ]
    },
    {
     "name": "stderr",
     "output_type": "stream",
     "text": [
      "100%|#####################################################################################|60/60[01:07<00:00, 0.89it/s]"
     ]
    },
    {
     "name": "stdout",
     "output_type": "stream",
     "text": [
      "\u001b[32m[0114 20:00:02 @base.py:285]\u001b[0m Epoch 18 (global_step 1080) finished, time:1 minute 7 seconds.\n"
     ]
    },
    {
     "name": "stderr",
     "output_type": "stream",
     "text": [
      "\n"
     ]
    },
    {
     "name": "stdout",
     "output_type": "stream",
     "text": [
      "\u001b[32m[0114 20:00:03 @saver.py:79]\u001b[0m Model saved to .//Model//temp_model\\TGAN6\\model\\model-1080.\n",
      "\u001b[32m[0114 20:00:03 @monitor.py:467]\u001b[0m GAN_loss/discrim/accuracy_fake: 0.854\n",
      "\u001b[32m[0114 20:00:03 @monitor.py:467]\u001b[0m GAN_loss/discrim/accuracy_real: 0.216\n",
      "\u001b[32m[0114 20:00:03 @monitor.py:467]\u001b[0m GAN_loss/discrim/loss: 0.64156\n",
      "\u001b[32m[0114 20:00:03 @monitor.py:467]\u001b[0m GAN_loss/gen/final-g-loss: 1.0089\n",
      "\u001b[32m[0114 20:00:03 @monitor.py:467]\u001b[0m GAN_loss/gen/klloss: 0.03282\n",
      "\u001b[32m[0114 20:00:03 @monitor.py:467]\u001b[0m GAN_loss/gen/loss: 0.97608\n",
      "\u001b[32m[0114 20:00:03 @monitor.py:467]\u001b[0m QueueInput/queue_size: 50\n",
      "\u001b[32m[0114 20:00:03 @base.py:275]\u001b[0m Start Epoch 19 ...\n"
     ]
    },
    {
     "name": "stderr",
     "output_type": "stream",
     "text": [
      "100%|#####################################################################################|60/60[01:22<00:00, 0.72it/s]"
     ]
    },
    {
     "name": "stdout",
     "output_type": "stream",
     "text": [
      "\u001b[32m[0114 20:01:26 @base.py:285]\u001b[0m Epoch 19 (global_step 1140) finished, time:1 minute 22 seconds.\n"
     ]
    },
    {
     "name": "stderr",
     "output_type": "stream",
     "text": [
      "\n"
     ]
    },
    {
     "name": "stdout",
     "output_type": "stream",
     "text": [
      "\u001b[32m[0114 20:01:26 @saver.py:79]\u001b[0m Model saved to .//Model//temp_model\\TGAN6\\model\\model-1140.\n",
      "\u001b[32m[0114 20:01:26 @monitor.py:467]\u001b[0m GAN_loss/discrim/accuracy_fake: 0.858\n",
      "\u001b[32m[0114 20:01:26 @monitor.py:467]\u001b[0m GAN_loss/discrim/accuracy_real: 0.212\n",
      "\u001b[32m[0114 20:01:26 @monitor.py:467]\u001b[0m GAN_loss/discrim/loss: 0.6478\n",
      "\u001b[32m[0114 20:01:26 @monitor.py:467]\u001b[0m GAN_loss/gen/final-g-loss: 1.0145\n",
      "\u001b[32m[0114 20:01:26 @monitor.py:467]\u001b[0m GAN_loss/gen/klloss: 0.045881\n",
      "\u001b[32m[0114 20:01:26 @monitor.py:467]\u001b[0m GAN_loss/gen/loss: 0.96863\n",
      "\u001b[32m[0114 20:01:26 @monitor.py:467]\u001b[0m QueueInput/queue_size: 50\n",
      "\u001b[32m[0114 20:01:26 @base.py:275]\u001b[0m Start Epoch 20 ...\n"
     ]
    },
    {
     "name": "stderr",
     "output_type": "stream",
     "text": [
      "100%|#####################################################################################|60/60[01:17<00:00, 0.77it/s]"
     ]
    },
    {
     "name": "stdout",
     "output_type": "stream",
     "text": [
      "\u001b[32m[0114 20:02:44 @base.py:285]\u001b[0m Epoch 20 (global_step 1200) finished, time:1 minute 17 seconds.\n"
     ]
    },
    {
     "name": "stderr",
     "output_type": "stream",
     "text": [
      "\n"
     ]
    },
    {
     "name": "stdout",
     "output_type": "stream",
     "text": [
      "\u001b[32m[0114 20:02:46 @saver.py:79]\u001b[0m Model saved to .//Model//temp_model\\TGAN6\\model\\model-1200.\n",
      "\u001b[32m[0114 20:02:46 @monitor.py:467]\u001b[0m GAN_loss/discrim/accuracy_fake: 0.882\n",
      "\u001b[32m[0114 20:02:46 @monitor.py:467]\u001b[0m GAN_loss/discrim/accuracy_real: 0.216\n",
      "\u001b[32m[0114 20:02:46 @monitor.py:467]\u001b[0m GAN_loss/discrim/loss: 0.63914\n",
      "\u001b[32m[0114 20:02:46 @monitor.py:467]\u001b[0m GAN_loss/gen/final-g-loss: 1.0147\n",
      "\u001b[32m[0114 20:02:46 @monitor.py:467]\u001b[0m GAN_loss/gen/klloss: 0.042315\n",
      "\u001b[32m[0114 20:02:46 @monitor.py:467]\u001b[0m GAN_loss/gen/loss: 0.97242\n",
      "\u001b[32m[0114 20:02:46 @monitor.py:467]\u001b[0m QueueInput/queue_size: 50\n",
      "\u001b[32m[0114 20:02:46 @base.py:275]\u001b[0m Start Epoch 21 ...\n"
     ]
    },
    {
     "name": "stderr",
     "output_type": "stream",
     "text": [
      "100%|#####################################################################################|60/60[01:07<00:00, 0.88it/s]"
     ]
    },
    {
     "name": "stdout",
     "output_type": "stream",
     "text": [
      "\u001b[32m[0114 20:03:54 @base.py:285]\u001b[0m Epoch 21 (global_step 1260) finished, time:1 minute 7 seconds.\n"
     ]
    },
    {
     "name": "stderr",
     "output_type": "stream",
     "text": [
      "\n"
     ]
    },
    {
     "name": "stdout",
     "output_type": "stream",
     "text": [
      "\u001b[32m[0114 20:03:55 @saver.py:79]\u001b[0m Model saved to .//Model//temp_model\\TGAN6\\model\\model-1260.\n",
      "\u001b[32m[0114 20:03:55 @monitor.py:467]\u001b[0m GAN_loss/discrim/accuracy_fake: 0.88\n",
      "\u001b[32m[0114 20:03:55 @monitor.py:467]\u001b[0m GAN_loss/discrim/accuracy_real: 0.234\n",
      "\u001b[32m[0114 20:03:55 @monitor.py:467]\u001b[0m GAN_loss/discrim/loss: 0.64232\n",
      "\u001b[32m[0114 20:03:55 @monitor.py:467]\u001b[0m GAN_loss/gen/final-g-loss: 1.0049\n",
      "\u001b[32m[0114 20:03:55 @monitor.py:467]\u001b[0m GAN_loss/gen/klloss: 0.037186\n",
      "\u001b[32m[0114 20:03:55 @monitor.py:467]\u001b[0m GAN_loss/gen/loss: 0.96771\n",
      "\u001b[32m[0114 20:03:55 @monitor.py:467]\u001b[0m QueueInput/queue_size: 50\n",
      "\u001b[32m[0114 20:03:55 @base.py:275]\u001b[0m Start Epoch 22 ...\n"
     ]
    },
    {
     "name": "stderr",
     "output_type": "stream",
     "text": [
      "100%|#####################################################################################|60/60[01:08<00:00, 0.87it/s]"
     ]
    },
    {
     "name": "stdout",
     "output_type": "stream",
     "text": [
      "\u001b[32m[0114 20:05:04 @base.py:285]\u001b[0m Epoch 22 (global_step 1320) finished, time:1 minute 8 seconds.\n"
     ]
    },
    {
     "name": "stderr",
     "output_type": "stream",
     "text": [
      "\n"
     ]
    },
    {
     "name": "stdout",
     "output_type": "stream",
     "text": [
      "\u001b[32m[0114 20:05:04 @saver.py:79]\u001b[0m Model saved to .//Model//temp_model\\TGAN6\\model\\model-1320.\n",
      "\u001b[32m[0114 20:05:04 @monitor.py:467]\u001b[0m GAN_loss/discrim/accuracy_fake: 0.862\n",
      "\u001b[32m[0114 20:05:04 @monitor.py:467]\u001b[0m GAN_loss/discrim/accuracy_real: 0.216\n",
      "\u001b[32m[0114 20:05:04 @monitor.py:467]\u001b[0m GAN_loss/discrim/loss: 0.65104\n",
      "\u001b[32m[0114 20:05:04 @monitor.py:467]\u001b[0m GAN_loss/gen/final-g-loss: 0.97891\n",
      "\u001b[32m[0114 20:05:04 @monitor.py:467]\u001b[0m GAN_loss/gen/klloss: 0.019721\n",
      "\u001b[32m[0114 20:05:04 @monitor.py:467]\u001b[0m GAN_loss/gen/loss: 0.95919\n",
      "\u001b[32m[0114 20:05:04 @monitor.py:467]\u001b[0m QueueInput/queue_size: 50\n",
      "\u001b[32m[0114 20:05:04 @base.py:275]\u001b[0m Start Epoch 23 ...\n"
     ]
    },
    {
     "name": "stderr",
     "output_type": "stream",
     "text": [
      "100%|#####################################################################################|60/60[01:08<00:00, 0.87it/s]"
     ]
    },
    {
     "name": "stdout",
     "output_type": "stream",
     "text": [
      "\u001b[32m[0114 20:06:13 @base.py:285]\u001b[0m Epoch 23 (global_step 1380) finished, time:1 minute 8 seconds.\n"
     ]
    },
    {
     "name": "stderr",
     "output_type": "stream",
     "text": [
      "\n"
     ]
    },
    {
     "name": "stdout",
     "output_type": "stream",
     "text": [
      "\u001b[32m[0114 20:06:14 @saver.py:79]\u001b[0m Model saved to .//Model//temp_model\\TGAN6\\model\\model-1380.\n",
      "\u001b[32m[0114 20:06:14 @monitor.py:467]\u001b[0m GAN_loss/discrim/accuracy_fake: 0.898\n",
      "\u001b[32m[0114 20:06:14 @monitor.py:467]\u001b[0m GAN_loss/discrim/accuracy_real: 0.184\n",
      "\u001b[32m[0114 20:06:14 @monitor.py:467]\u001b[0m GAN_loss/discrim/loss: 0.64483\n",
      "\u001b[32m[0114 20:06:14 @monitor.py:467]\u001b[0m GAN_loss/gen/final-g-loss: 1.0162\n",
      "\u001b[32m[0114 20:06:14 @monitor.py:467]\u001b[0m GAN_loss/gen/klloss: 0.041969\n",
      "\u001b[32m[0114 20:06:14 @monitor.py:467]\u001b[0m GAN_loss/gen/loss: 0.97424\n",
      "\u001b[32m[0114 20:06:14 @monitor.py:467]\u001b[0m QueueInput/queue_size: 50\n",
      "\u001b[32m[0114 20:06:14 @base.py:275]\u001b[0m Start Epoch 24 ...\n"
     ]
    },
    {
     "name": "stderr",
     "output_type": "stream",
     "text": [
      "100%|#####################################################################################|60/60[01:07<00:00, 0.89it/s]"
     ]
    },
    {
     "name": "stdout",
     "output_type": "stream",
     "text": [
      "\u001b[32m[0114 20:07:21 @base.py:285]\u001b[0m Epoch 24 (global_step 1440) finished, time:1 minute 7 seconds.\n"
     ]
    },
    {
     "name": "stderr",
     "output_type": "stream",
     "text": [
      "\n"
     ]
    },
    {
     "name": "stdout",
     "output_type": "stream",
     "text": [
      "\u001b[32m[0114 20:07:21 @saver.py:79]\u001b[0m Model saved to .//Model//temp_model\\TGAN6\\model\\model-1440.\n",
      "\u001b[32m[0114 20:07:21 @monitor.py:467]\u001b[0m GAN_loss/discrim/accuracy_fake: 0.884\n",
      "\u001b[32m[0114 20:07:21 @monitor.py:467]\u001b[0m GAN_loss/discrim/accuracy_real: 0.228\n",
      "\u001b[32m[0114 20:07:21 @monitor.py:467]\u001b[0m GAN_loss/discrim/loss: 0.63774\n",
      "\u001b[32m[0114 20:07:21 @monitor.py:467]\u001b[0m GAN_loss/gen/final-g-loss: 1.0564\n",
      "\u001b[32m[0114 20:07:21 @monitor.py:467]\u001b[0m GAN_loss/gen/klloss: 0.063102\n",
      "\u001b[32m[0114 20:07:21 @monitor.py:467]\u001b[0m GAN_loss/gen/loss: 0.99329\n",
      "\u001b[32m[0114 20:07:21 @monitor.py:467]\u001b[0m QueueInput/queue_size: 50\n",
      "\u001b[32m[0114 20:07:21 @base.py:275]\u001b[0m Start Epoch 25 ...\n"
     ]
    },
    {
     "name": "stderr",
     "output_type": "stream",
     "text": [
      "100%|#####################################################################################|60/60[01:08<00:00, 0.87it/s]"
     ]
    },
    {
     "name": "stdout",
     "output_type": "stream",
     "text": [
      "\u001b[32m[0114 20:08:30 @base.py:285]\u001b[0m Epoch 25 (global_step 1500) finished, time:1 minute 8 seconds.\n"
     ]
    },
    {
     "name": "stderr",
     "output_type": "stream",
     "text": [
      "\n"
     ]
    },
    {
     "name": "stdout",
     "output_type": "stream",
     "text": [
      "\u001b[32m[0114 20:08:31 @saver.py:79]\u001b[0m Model saved to .//Model//temp_model\\TGAN6\\model\\model-1500.\n",
      "\u001b[32m[0114 20:08:31 @monitor.py:467]\u001b[0m GAN_loss/discrim/accuracy_fake: 0.87\n",
      "\u001b[32m[0114 20:08:31 @monitor.py:467]\u001b[0m GAN_loss/discrim/accuracy_real: 0.198\n",
      "\u001b[32m[0114 20:08:31 @monitor.py:467]\u001b[0m GAN_loss/discrim/loss: 0.63963\n",
      "\u001b[32m[0114 20:08:31 @monitor.py:467]\u001b[0m GAN_loss/gen/final-g-loss: 1.0242\n",
      "\u001b[32m[0114 20:08:31 @monitor.py:467]\u001b[0m GAN_loss/gen/klloss: 0.04057\n",
      "\u001b[32m[0114 20:08:31 @monitor.py:467]\u001b[0m GAN_loss/gen/loss: 0.98361\n",
      "\u001b[32m[0114 20:08:31 @monitor.py:467]\u001b[0m QueueInput/queue_size: 50\n",
      "\u001b[32m[0114 20:08:31 @base.py:275]\u001b[0m Start Epoch 26 ...\n"
     ]
    },
    {
     "name": "stderr",
     "output_type": "stream",
     "text": [
      "100%|#####################################################################################|60/60[01:08<00:00, 0.88it/s]"
     ]
    },
    {
     "name": "stdout",
     "output_type": "stream",
     "text": [
      "\u001b[32m[0114 20:09:39 @base.py:285]\u001b[0m Epoch 26 (global_step 1560) finished, time:1 minute 8 seconds.\n"
     ]
    },
    {
     "name": "stderr",
     "output_type": "stream",
     "text": [
      "\n"
     ]
    },
    {
     "name": "stdout",
     "output_type": "stream",
     "text": [
      "\u001b[32m[0114 20:09:40 @saver.py:79]\u001b[0m Model saved to .//Model//temp_model\\TGAN6\\model\\model-1560.\n",
      "\u001b[32m[0114 20:09:40 @monitor.py:467]\u001b[0m GAN_loss/discrim/accuracy_fake: 0.852\n",
      "\u001b[32m[0114 20:09:40 @monitor.py:467]\u001b[0m GAN_loss/discrim/accuracy_real: 0.234\n",
      "\u001b[32m[0114 20:09:40 @monitor.py:467]\u001b[0m GAN_loss/discrim/loss: 0.64345\n",
      "\u001b[32m[0114 20:09:40 @monitor.py:467]\u001b[0m GAN_loss/gen/final-g-loss: 1.0077\n",
      "\u001b[32m[0114 20:09:40 @monitor.py:467]\u001b[0m GAN_loss/gen/klloss: 0.031777\n",
      "\u001b[32m[0114 20:09:40 @monitor.py:467]\u001b[0m GAN_loss/gen/loss: 0.97591\n",
      "\u001b[32m[0114 20:09:40 @monitor.py:467]\u001b[0m QueueInput/queue_size: 50\n",
      "\u001b[32m[0114 20:09:40 @base.py:275]\u001b[0m Start Epoch 27 ...\n"
     ]
    },
    {
     "name": "stderr",
     "output_type": "stream",
     "text": [
      "100%|#####################################################################################|60/60[01:08<00:00, 0.88it/s]"
     ]
    },
    {
     "name": "stdout",
     "output_type": "stream",
     "text": [
      "\u001b[32m[0114 20:10:48 @base.py:285]\u001b[0m Epoch 27 (global_step 1620) finished, time:1 minute 8 seconds.\n"
     ]
    },
    {
     "name": "stderr",
     "output_type": "stream",
     "text": [
      "\n"
     ]
    },
    {
     "name": "stdout",
     "output_type": "stream",
     "text": [
      "\u001b[32m[0114 20:10:48 @saver.py:79]\u001b[0m Model saved to .//Model//temp_model\\TGAN6\\model\\model-1620.\n",
      "\u001b[32m[0114 20:10:48 @monitor.py:467]\u001b[0m GAN_loss/discrim/accuracy_fake: 0.862\n",
      "\u001b[32m[0114 20:10:48 @monitor.py:467]\u001b[0m GAN_loss/discrim/accuracy_real: 0.24\n",
      "\u001b[32m[0114 20:10:48 @monitor.py:467]\u001b[0m GAN_loss/discrim/loss: 0.64198\n",
      "\u001b[32m[0114 20:10:48 @monitor.py:467]\u001b[0m GAN_loss/gen/final-g-loss: 1.0207\n",
      "\u001b[32m[0114 20:10:48 @monitor.py:467]\u001b[0m GAN_loss/gen/klloss: 0.044362\n",
      "\u001b[32m[0114 20:10:48 @monitor.py:467]\u001b[0m GAN_loss/gen/loss: 0.97639\n",
      "\u001b[32m[0114 20:10:48 @monitor.py:467]\u001b[0m QueueInput/queue_size: 50\n",
      "\u001b[32m[0114 20:10:48 @base.py:275]\u001b[0m Start Epoch 28 ...\n"
     ]
    },
    {
     "name": "stderr",
     "output_type": "stream",
     "text": [
      "100%|#####################################################################################|60/60[01:08<00:00, 0.88it/s]"
     ]
    },
    {
     "name": "stdout",
     "output_type": "stream",
     "text": [
      "\u001b[32m[0114 20:11:57 @base.py:285]\u001b[0m Epoch 28 (global_step 1680) finished, time:1 minute 8 seconds.\n"
     ]
    },
    {
     "name": "stderr",
     "output_type": "stream",
     "text": [
      "\n"
     ]
    },
    {
     "name": "stdout",
     "output_type": "stream",
     "text": [
      "\u001b[32m[0114 20:11:57 @saver.py:79]\u001b[0m Model saved to .//Model//temp_model\\TGAN6\\model\\model-1680.\n",
      "\u001b[32m[0114 20:11:57 @monitor.py:467]\u001b[0m GAN_loss/discrim/accuracy_fake: 0.858\n",
      "\u001b[32m[0114 20:11:57 @monitor.py:467]\u001b[0m GAN_loss/discrim/accuracy_real: 0.246\n",
      "\u001b[32m[0114 20:11:57 @monitor.py:467]\u001b[0m GAN_loss/discrim/loss: 0.64015\n",
      "\u001b[32m[0114 20:11:57 @monitor.py:467]\u001b[0m GAN_loss/gen/final-g-loss: 1.0166\n",
      "\u001b[32m[0114 20:11:57 @monitor.py:467]\u001b[0m GAN_loss/gen/klloss: 0.036528\n",
      "\u001b[32m[0114 20:11:57 @monitor.py:467]\u001b[0m GAN_loss/gen/loss: 0.98006\n",
      "\u001b[32m[0114 20:11:57 @monitor.py:467]\u001b[0m QueueInput/queue_size: 50\n",
      "\u001b[32m[0114 20:11:57 @base.py:275]\u001b[0m Start Epoch 29 ...\n"
     ]
    },
    {
     "name": "stderr",
     "output_type": "stream",
     "text": [
      "100%|#####################################################################################|60/60[01:07<00:00, 0.89it/s]"
     ]
    },
    {
     "name": "stdout",
     "output_type": "stream",
     "text": [
      "\u001b[32m[0114 20:13:05 @base.py:285]\u001b[0m Epoch 29 (global_step 1740) finished, time:1 minute 7 seconds.\n"
     ]
    },
    {
     "name": "stderr",
     "output_type": "stream",
     "text": [
      "\n"
     ]
    },
    {
     "name": "stdout",
     "output_type": "stream",
     "text": [
      "\u001b[32m[0114 20:13:05 @saver.py:79]\u001b[0m Model saved to .//Model//temp_model\\TGAN6\\model\\model-1740.\n",
      "\u001b[32m[0114 20:13:05 @monitor.py:467]\u001b[0m GAN_loss/discrim/accuracy_fake: 0.908\n",
      "\u001b[32m[0114 20:13:05 @monitor.py:467]\u001b[0m GAN_loss/discrim/accuracy_real: 0.234\n",
      "\u001b[32m[0114 20:13:05 @monitor.py:467]\u001b[0m GAN_loss/discrim/loss: 0.63125\n",
      "\u001b[32m[0114 20:13:05 @monitor.py:467]\u001b[0m GAN_loss/gen/final-g-loss: 1.0286\n",
      "\u001b[32m[0114 20:13:05 @monitor.py:467]\u001b[0m GAN_loss/gen/klloss: 0.028717\n",
      "\u001b[32m[0114 20:13:05 @monitor.py:467]\u001b[0m GAN_loss/gen/loss: 0.9999\n",
      "\u001b[32m[0114 20:13:05 @monitor.py:467]\u001b[0m QueueInput/queue_size: 50\n",
      "\u001b[32m[0114 20:13:05 @base.py:275]\u001b[0m Start Epoch 30 ...\n"
     ]
    },
    {
     "name": "stderr",
     "output_type": "stream",
     "text": [
      "100%|#####################################################################################|60/60[01:07<00:00, 0.89it/s]"
     ]
    },
    {
     "name": "stdout",
     "output_type": "stream",
     "text": [
      "\u001b[32m[0114 20:14:13 @base.py:285]\u001b[0m Epoch 30 (global_step 1800) finished, time:1 minute 7 seconds.\n"
     ]
    },
    {
     "name": "stderr",
     "output_type": "stream",
     "text": [
      "\n"
     ]
    },
    {
     "name": "stdout",
     "output_type": "stream",
     "text": [
      "\u001b[32m[0114 20:14:13 @saver.py:79]\u001b[0m Model saved to .//Model//temp_model\\TGAN6\\model\\model-1800.\n",
      "\u001b[32m[0114 20:14:13 @monitor.py:467]\u001b[0m GAN_loss/discrim/accuracy_fake: 0.85\n",
      "\u001b[32m[0114 20:14:13 @monitor.py:467]\u001b[0m GAN_loss/discrim/accuracy_real: 0.218\n",
      "\u001b[32m[0114 20:14:13 @monitor.py:467]\u001b[0m GAN_loss/discrim/loss: 0.64161\n",
      "\u001b[32m[0114 20:14:13 @monitor.py:467]\u001b[0m GAN_loss/gen/final-g-loss: 1.035\n",
      "\u001b[32m[0114 20:14:13 @monitor.py:467]\u001b[0m GAN_loss/gen/klloss: 0.046503\n",
      "\u001b[32m[0114 20:14:13 @monitor.py:467]\u001b[0m GAN_loss/gen/loss: 0.9885\n",
      "\u001b[32m[0114 20:14:13 @monitor.py:467]\u001b[0m QueueInput/queue_size: 50\n",
      "\u001b[32m[0114 20:14:13 @base.py:275]\u001b[0m Start Epoch 31 ...\n"
     ]
    },
    {
     "name": "stderr",
     "output_type": "stream",
     "text": [
      "100%|#####################################################################################|60/60[01:07<00:00, 0.89it/s]"
     ]
    },
    {
     "name": "stdout",
     "output_type": "stream",
     "text": [
      "\u001b[32m[0114 20:15:21 @base.py:285]\u001b[0m Epoch 31 (global_step 1860) finished, time:1 minute 7 seconds.\n"
     ]
    },
    {
     "name": "stderr",
     "output_type": "stream",
     "text": [
      "\n"
     ]
    },
    {
     "name": "stdout",
     "output_type": "stream",
     "text": [
      "\u001b[32m[0114 20:15:22 @saver.py:79]\u001b[0m Model saved to .//Model//temp_model\\TGAN6\\model\\model-1860.\n",
      "\u001b[32m[0114 20:15:22 @monitor.py:467]\u001b[0m GAN_loss/discrim/accuracy_fake: 0.85\n",
      "\u001b[32m[0114 20:15:22 @monitor.py:467]\u001b[0m GAN_loss/discrim/accuracy_real: 0.26\n",
      "\u001b[32m[0114 20:15:22 @monitor.py:467]\u001b[0m GAN_loss/discrim/loss: 0.63625\n",
      "\u001b[32m[0114 20:15:22 @monitor.py:467]\u001b[0m GAN_loss/gen/final-g-loss: 1.0209\n",
      "\u001b[32m[0114 20:15:22 @monitor.py:467]\u001b[0m GAN_loss/gen/klloss: 0.044264\n",
      "\u001b[32m[0114 20:15:22 @monitor.py:467]\u001b[0m GAN_loss/gen/loss: 0.97667\n",
      "\u001b[32m[0114 20:15:22 @monitor.py:467]\u001b[0m QueueInput/queue_size: 50\n",
      "\u001b[32m[0114 20:15:22 @base.py:275]\u001b[0m Start Epoch 32 ...\n"
     ]
    },
    {
     "name": "stderr",
     "output_type": "stream",
     "text": [
      "100%|#####################################################################################|60/60[01:08<00:00, 0.88it/s]"
     ]
    },
    {
     "name": "stdout",
     "output_type": "stream",
     "text": [
      "\u001b[32m[0114 20:16:30 @base.py:285]\u001b[0m Epoch 32 (global_step 1920) finished, time:1 minute 8 seconds.\n"
     ]
    },
    {
     "name": "stderr",
     "output_type": "stream",
     "text": [
      "\n"
     ]
    },
    {
     "name": "stdout",
     "output_type": "stream",
     "text": [
      "\u001b[32m[0114 20:16:31 @saver.py:79]\u001b[0m Model saved to .//Model//temp_model\\TGAN6\\model\\model-1920.\n",
      "\u001b[32m[0114 20:16:31 @monitor.py:467]\u001b[0m GAN_loss/discrim/accuracy_fake: 0.854\n",
      "\u001b[32m[0114 20:16:31 @monitor.py:467]\u001b[0m GAN_loss/discrim/accuracy_real: 0.282\n",
      "\u001b[32m[0114 20:16:31 @monitor.py:467]\u001b[0m GAN_loss/discrim/loss: 0.63604\n",
      "\u001b[32m[0114 20:16:31 @monitor.py:467]\u001b[0m GAN_loss/gen/final-g-loss: 1.0231\n",
      "\u001b[32m[0114 20:16:31 @monitor.py:467]\u001b[0m GAN_loss/gen/klloss: 0.041173\n",
      "\u001b[32m[0114 20:16:31 @monitor.py:467]\u001b[0m GAN_loss/gen/loss: 0.98194\n",
      "\u001b[32m[0114 20:16:31 @monitor.py:467]\u001b[0m QueueInput/queue_size: 50\n",
      "\u001b[32m[0114 20:16:31 @base.py:275]\u001b[0m Start Epoch 33 ...\n"
     ]
    },
    {
     "name": "stderr",
     "output_type": "stream",
     "text": [
      "100%|#####################################################################################|60/60[01:08<00:00, 0.88it/s]"
     ]
    },
    {
     "name": "stdout",
     "output_type": "stream",
     "text": [
      "\u001b[32m[0114 20:17:39 @base.py:285]\u001b[0m Epoch 33 (global_step 1980) finished, time:1 minute 8 seconds.\n"
     ]
    },
    {
     "name": "stderr",
     "output_type": "stream",
     "text": [
      "\n"
     ]
    },
    {
     "name": "stdout",
     "output_type": "stream",
     "text": [
      "\u001b[32m[0114 20:17:40 @saver.py:79]\u001b[0m Model saved to .//Model//temp_model\\TGAN6\\model\\model-1980.\n",
      "\u001b[32m[0114 20:17:40 @monitor.py:467]\u001b[0m GAN_loss/discrim/accuracy_fake: 0.856\n",
      "\u001b[32m[0114 20:17:40 @monitor.py:467]\u001b[0m GAN_loss/discrim/accuracy_real: 0.252\n",
      "\u001b[32m[0114 20:17:40 @monitor.py:467]\u001b[0m GAN_loss/discrim/loss: 0.64351\n",
      "\u001b[32m[0114 20:17:40 @monitor.py:467]\u001b[0m GAN_loss/gen/final-g-loss: 1.0134\n",
      "\u001b[32m[0114 20:17:40 @monitor.py:467]\u001b[0m GAN_loss/gen/klloss: 0.032502\n",
      "\u001b[32m[0114 20:17:40 @monitor.py:467]\u001b[0m GAN_loss/gen/loss: 0.98089\n",
      "\u001b[32m[0114 20:17:40 @monitor.py:467]\u001b[0m QueueInput/queue_size: 50\n",
      "\u001b[32m[0114 20:17:40 @base.py:275]\u001b[0m Start Epoch 34 ...\n"
     ]
    },
    {
     "name": "stderr",
     "output_type": "stream",
     "text": [
      "100%|#####################################################################################|60/60[01:06<00:00, 0.90it/s]"
     ]
    },
    {
     "name": "stdout",
     "output_type": "stream",
     "text": [
      "\u001b[32m[0114 20:18:47 @base.py:285]\u001b[0m Epoch 34 (global_step 2040) finished, time:1 minute 6 seconds.\n"
     ]
    },
    {
     "name": "stderr",
     "output_type": "stream",
     "text": [
      "\n"
     ]
    },
    {
     "name": "stdout",
     "output_type": "stream",
     "text": [
      "\u001b[32m[0114 20:18:47 @saver.py:79]\u001b[0m Model saved to .//Model//temp_model\\TGAN6\\model\\model-2040.\n",
      "\u001b[32m[0114 20:18:47 @monitor.py:467]\u001b[0m GAN_loss/discrim/accuracy_fake: 0.862\n",
      "\u001b[32m[0114 20:18:47 @monitor.py:467]\u001b[0m GAN_loss/discrim/accuracy_real: 0.268\n",
      "\u001b[32m[0114 20:18:47 @monitor.py:467]\u001b[0m GAN_loss/discrim/loss: 0.63514\n",
      "\u001b[32m[0114 20:18:47 @monitor.py:467]\u001b[0m GAN_loss/gen/final-g-loss: 1.0195\n",
      "\u001b[32m[0114 20:18:47 @monitor.py:467]\u001b[0m GAN_loss/gen/klloss: 0.025885\n",
      "\u001b[32m[0114 20:18:47 @monitor.py:467]\u001b[0m GAN_loss/gen/loss: 0.9936\n",
      "\u001b[32m[0114 20:18:47 @monitor.py:467]\u001b[0m QueueInput/queue_size: 50\n",
      "\u001b[32m[0114 20:18:47 @base.py:275]\u001b[0m Start Epoch 35 ...\n"
     ]
    },
    {
     "name": "stderr",
     "output_type": "stream",
     "text": [
      "100%|#####################################################################################|60/60[01:07<00:00, 0.89it/s]"
     ]
    },
    {
     "name": "stdout",
     "output_type": "stream",
     "text": [
      "\u001b[32m[0114 20:19:54 @base.py:285]\u001b[0m Epoch 35 (global_step 2100) finished, time:1 minute 7 seconds.\n"
     ]
    },
    {
     "name": "stderr",
     "output_type": "stream",
     "text": [
      "\n"
     ]
    },
    {
     "name": "stdout",
     "output_type": "stream",
     "text": [
      "\u001b[32m[0114 20:19:55 @saver.py:79]\u001b[0m Model saved to .//Model//temp_model\\TGAN6\\model\\model-2100.\n",
      "\u001b[32m[0114 20:19:55 @monitor.py:467]\u001b[0m GAN_loss/discrim/accuracy_fake: 0.848\n",
      "\u001b[32m[0114 20:19:55 @monitor.py:467]\u001b[0m GAN_loss/discrim/accuracy_real: 0.222\n",
      "\u001b[32m[0114 20:19:55 @monitor.py:467]\u001b[0m GAN_loss/discrim/loss: 0.64288\n",
      "\u001b[32m[0114 20:19:55 @monitor.py:467]\u001b[0m GAN_loss/gen/final-g-loss: 1.0072\n",
      "\u001b[32m[0114 20:19:55 @monitor.py:467]\u001b[0m GAN_loss/gen/klloss: 0.024432\n",
      "\u001b[32m[0114 20:19:55 @monitor.py:467]\u001b[0m GAN_loss/gen/loss: 0.98278\n",
      "\u001b[32m[0114 20:19:55 @monitor.py:467]\u001b[0m QueueInput/queue_size: 50\n",
      "\u001b[32m[0114 20:19:55 @base.py:275]\u001b[0m Start Epoch 36 ...\n"
     ]
    },
    {
     "name": "stderr",
     "output_type": "stream",
     "text": [
      "100%|#####################################################################################|60/60[01:07<00:00, 0.89it/s]"
     ]
    },
    {
     "name": "stdout",
     "output_type": "stream",
     "text": [
      "\u001b[32m[0114 20:21:02 @base.py:285]\u001b[0m Epoch 36 (global_step 2160) finished, time:1 minute 7 seconds.\n"
     ]
    },
    {
     "name": "stderr",
     "output_type": "stream",
     "text": [
      "\n"
     ]
    },
    {
     "name": "stdout",
     "output_type": "stream",
     "text": [
      "\u001b[32m[0114 20:21:03 @saver.py:79]\u001b[0m Model saved to .//Model//temp_model\\TGAN6\\model\\model-2160.\n",
      "\u001b[32m[0114 20:21:03 @monitor.py:467]\u001b[0m GAN_loss/discrim/accuracy_fake: 0.874\n",
      "\u001b[32m[0114 20:21:03 @monitor.py:467]\u001b[0m GAN_loss/discrim/accuracy_real: 0.208\n",
      "\u001b[32m[0114 20:21:03 @monitor.py:467]\u001b[0m GAN_loss/discrim/loss: 0.63961\n",
      "\u001b[32m[0114 20:21:03 @monitor.py:467]\u001b[0m GAN_loss/gen/final-g-loss: 0.99766\n",
      "\u001b[32m[0114 20:21:03 @monitor.py:467]\u001b[0m GAN_loss/gen/klloss: 0.022891\n",
      "\u001b[32m[0114 20:21:03 @monitor.py:467]\u001b[0m GAN_loss/gen/loss: 0.97477\n",
      "\u001b[32m[0114 20:21:03 @monitor.py:467]\u001b[0m QueueInput/queue_size: 50\n",
      "\u001b[32m[0114 20:21:03 @base.py:275]\u001b[0m Start Epoch 37 ...\n"
     ]
    },
    {
     "name": "stderr",
     "output_type": "stream",
     "text": [
      "100%|#####################################################################################|60/60[01:07<00:00, 0.89it/s]"
     ]
    },
    {
     "name": "stdout",
     "output_type": "stream",
     "text": [
      "\u001b[32m[0114 20:22:10 @base.py:285]\u001b[0m Epoch 37 (global_step 2220) finished, time:1 minute 7 seconds.\n"
     ]
    },
    {
     "name": "stderr",
     "output_type": "stream",
     "text": [
      "\n"
     ]
    },
    {
     "name": "stdout",
     "output_type": "stream",
     "text": [
      "\u001b[32m[0114 20:22:11 @saver.py:79]\u001b[0m Model saved to .//Model//temp_model\\TGAN6\\model\\model-2220.\n",
      "\u001b[32m[0114 20:22:11 @monitor.py:467]\u001b[0m GAN_loss/discrim/accuracy_fake: 0.884\n",
      "\u001b[32m[0114 20:22:11 @monitor.py:467]\u001b[0m GAN_loss/discrim/accuracy_real: 0.22\n",
      "\u001b[32m[0114 20:22:11 @monitor.py:467]\u001b[0m GAN_loss/discrim/loss: 0.64279\n",
      "\u001b[32m[0114 20:22:11 @monitor.py:467]\u001b[0m GAN_loss/gen/final-g-loss: 1.0049\n",
      "\u001b[32m[0114 20:22:11 @monitor.py:467]\u001b[0m GAN_loss/gen/klloss: 0.034678\n",
      "\u001b[32m[0114 20:22:11 @monitor.py:467]\u001b[0m GAN_loss/gen/loss: 0.97018\n",
      "\u001b[32m[0114 20:22:11 @monitor.py:467]\u001b[0m QueueInput/queue_size: 50\n",
      "\u001b[32m[0114 20:22:11 @base.py:275]\u001b[0m Start Epoch 38 ...\n"
     ]
    },
    {
     "name": "stderr",
     "output_type": "stream",
     "text": [
      "100%|#####################################################################################|60/60[01:06<00:00, 0.90it/s]"
     ]
    },
    {
     "name": "stdout",
     "output_type": "stream",
     "text": [
      "\u001b[32m[0114 20:23:18 @base.py:285]\u001b[0m Epoch 38 (global_step 2280) finished, time:1 minute 6 seconds.\n"
     ]
    },
    {
     "name": "stderr",
     "output_type": "stream",
     "text": [
      "\n"
     ]
    },
    {
     "name": "stdout",
     "output_type": "stream",
     "text": [
      "\u001b[32m[0114 20:23:20 @saver.py:79]\u001b[0m Model saved to .//Model//temp_model\\TGAN6\\model\\model-2280.\n",
      "\u001b[32m[0114 20:23:20 @monitor.py:467]\u001b[0m GAN_loss/discrim/accuracy_fake: 0.906\n",
      "\u001b[32m[0114 20:23:20 @monitor.py:467]\u001b[0m GAN_loss/discrim/accuracy_real: 0.246\n",
      "\u001b[32m[0114 20:23:20 @monitor.py:467]\u001b[0m GAN_loss/discrim/loss: 0.63514\n",
      "\u001b[32m[0114 20:23:20 @monitor.py:467]\u001b[0m GAN_loss/gen/final-g-loss: 1.0343\n",
      "\u001b[32m[0114 20:23:20 @monitor.py:467]\u001b[0m GAN_loss/gen/klloss: 0.041461\n",
      "\u001b[32m[0114 20:23:20 @monitor.py:467]\u001b[0m GAN_loss/gen/loss: 0.99283\n",
      "\u001b[32m[0114 20:23:20 @monitor.py:467]\u001b[0m QueueInput/queue_size: 50\n",
      "\u001b[32m[0114 20:23:20 @base.py:275]\u001b[0m Start Epoch 39 ...\n"
     ]
    },
    {
     "name": "stderr",
     "output_type": "stream",
     "text": [
      "100%|#####################################################################################|60/60[01:08<00:00, 0.88it/s]"
     ]
    },
    {
     "name": "stdout",
     "output_type": "stream",
     "text": [
      "\u001b[32m[0114 20:24:28 @base.py:285]\u001b[0m Epoch 39 (global_step 2340) finished, time:1 minute 8 seconds.\n"
     ]
    },
    {
     "name": "stderr",
     "output_type": "stream",
     "text": [
      "\n"
     ]
    },
    {
     "name": "stdout",
     "output_type": "stream",
     "text": [
      "\u001b[32m[0114 20:24:29 @saver.py:79]\u001b[0m Model saved to .//Model//temp_model\\TGAN6\\model\\model-2340.\n",
      "\u001b[32m[0114 20:24:29 @monitor.py:467]\u001b[0m GAN_loss/discrim/accuracy_fake: 0.868\n",
      "\u001b[32m[0114 20:24:29 @monitor.py:467]\u001b[0m GAN_loss/discrim/accuracy_real: 0.176\n",
      "\u001b[32m[0114 20:24:29 @monitor.py:467]\u001b[0m GAN_loss/discrim/loss: 0.64836\n",
      "\u001b[32m[0114 20:24:29 @monitor.py:467]\u001b[0m GAN_loss/gen/final-g-loss: 1.0213\n",
      "\u001b[32m[0114 20:24:29 @monitor.py:467]\u001b[0m GAN_loss/gen/klloss: 0.045043\n",
      "\u001b[32m[0114 20:24:29 @monitor.py:467]\u001b[0m GAN_loss/gen/loss: 0.97626\n",
      "\u001b[32m[0114 20:24:29 @monitor.py:467]\u001b[0m QueueInput/queue_size: 50\n",
      "\u001b[32m[0114 20:24:29 @base.py:275]\u001b[0m Start Epoch 40 ...\n"
     ]
    },
    {
     "name": "stderr",
     "output_type": "stream",
     "text": [
      "100%|#####################################################################################|60/60[01:06<00:00, 0.90it/s]"
     ]
    },
    {
     "name": "stdout",
     "output_type": "stream",
     "text": [
      "\u001b[32m[0114 20:25:35 @base.py:285]\u001b[0m Epoch 40 (global_step 2400) finished, time:1 minute 6 seconds.\n"
     ]
    },
    {
     "name": "stderr",
     "output_type": "stream",
     "text": [
      "\n"
     ]
    },
    {
     "name": "stdout",
     "output_type": "stream",
     "text": [
      "\u001b[32m[0114 20:25:36 @saver.py:79]\u001b[0m Model saved to .//Model//temp_model\\TGAN6\\model\\model-2400.\n",
      "\u001b[32m[0114 20:25:36 @monitor.py:467]\u001b[0m GAN_loss/discrim/accuracy_fake: 0.88\n",
      "\u001b[32m[0114 20:25:36 @monitor.py:467]\u001b[0m GAN_loss/discrim/accuracy_real: 0.23\n",
      "\u001b[32m[0114 20:25:36 @monitor.py:467]\u001b[0m GAN_loss/discrim/loss: 0.63943\n",
      "\u001b[32m[0114 20:25:36 @monitor.py:467]\u001b[0m GAN_loss/gen/final-g-loss: 1.0174\n",
      "\u001b[32m[0114 20:25:36 @monitor.py:467]\u001b[0m GAN_loss/gen/klloss: 0.042242\n",
      "\u001b[32m[0114 20:25:36 @monitor.py:467]\u001b[0m GAN_loss/gen/loss: 0.97514\n",
      "\u001b[32m[0114 20:25:36 @monitor.py:467]\u001b[0m QueueInput/queue_size: 50\n",
      "\u001b[32m[0114 20:25:36 @base.py:289]\u001b[0m Training has finished!\n",
      "\u001b[32m[0114 20:25:37 @input_source.py:178]\u001b[0m EnqueueThread QueueInput/input_queue Exited.\n",
      "\u001b[32m[0114 20:25:37 @collection.py:146]\u001b[0m New collections created in tower : tf.GraphKeys.REGULARIZATION_LOSSES\n",
      "\u001b[32m[0114 20:25:37 @collection.py:165]\u001b[0m These collections were modified but restored in : (tf.GraphKeys.SUMMARIES: 0->2)\n",
      "\u001b[32m[0114 20:25:37 @sessinit.py:87]\u001b[0m \u001b[5m\u001b[31mWRN\u001b[0m The following variables are in the checkpoint, but not found in the graph: global_step, optimize/beta1_power, optimize/beta2_power\n",
      "INFO:tensorflow:Graph was finalized.\n",
      "INFO:tensorflow:Running local_init_op.\n",
      "INFO:tensorflow:Done running local_init_op.\n",
      "\u001b[32m[0114 20:25:38 @sessinit.py:114]\u001b[0m Restoring checkpoint from .//Model//temp_model\\TGAN6\\model\\model-2400 ...\n",
      "INFO:tensorflow:Restoring parameters from .//Model//temp_model\\TGAN6\\model\\model-2400\n"
     ]
    },
    {
     "name": "stderr",
     "output_type": "stream",
     "text": [
      " 12%|#########9                                                                          |59/500[00:16<02:04, 3.54it/s]\n"
     ]
    },
    {
     "name": "stdout",
     "output_type": "stream",
     "text": [
      "\u001b[32m[0114 20:25:56 @input_source.py:222]\u001b[0m Setting up the queue 'QueueInput/input_queue' for CPU prefetching ...\n",
      "\u001b[32m[0114 20:26:00 @logger.py:90]\u001b[0m Argv: C:\\Users\\Arne\\anaconda3\\envs\\tfv1\\lib\\site-packages\\ipykernel_launcher.py -f C:\\Users\\Arne\\AppData\\Roaming\\jupyter\\runtime\\kernel-95c990b4-007f-4c92-b889-4b29f1351785.json\n",
      "\u001b[32m[0114 20:26:00 @model_utils.py:67]\u001b[0m \u001b[36mList of Trainable Variables: \n",
      "\u001b[0mname                              shape           #elements\n",
      "--------------------------------  ------------  -----------\n",
      "gen/LSTM/go:0                     [1, 100]              100\n",
      "gen/LSTM/lstm_cell/kernel:0       [500, 400]         200000\n",
      "gen/LSTM/lstm_cell/bias:0         [400]                 400\n",
      "gen/LSTM/00/FC/W:0                [100, 100]          10000\n",
      "gen/LSTM/00/FC/b:0                [100]                 100\n",
      "gen/LSTM/00/FC2/W:0               [100, 72]            7200\n",
      "gen/LSTM/00/FC2/b:0               [72]                   72\n",
      "gen/LSTM/00/FC3/W:0               [72, 100]            7200\n",
      "gen/LSTM/00/FC3/b:0               [100]                 100\n",
      "gen/LSTM/00/attw:0                [1, 1, 1]               1\n",
      "gen/LSTM/01/FC/W:0                [100, 100]          10000\n",
      "gen/LSTM/01/FC/b:0                [100]                 100\n",
      "gen/LSTM/01/FC2/W:0               [100, 5]              500\n",
      "gen/LSTM/01/FC2/b:0               [5]                     5\n",
      "gen/LSTM/01/FC3/W:0               [5, 100]              500\n",
      "gen/LSTM/01/FC3/b:0               [100]                 100\n",
      "gen/LSTM/01/attw:0                [2, 1, 1]               2\n",
      "gen/LSTM/02/FC/W:0                [100, 100]          10000\n",
      "gen/LSTM/02/FC/b:0                [100]                 100\n",
      "gen/LSTM/02/FC2/W:0               [100, 20263]      2026300\n",
      "gen/LSTM/02/FC2/b:0               [20263]             20263\n",
      "gen/LSTM/02/FC3/W:0               [20263, 100]      2026300\n",
      "gen/LSTM/02/FC3/b:0               [100]                 100\n",
      "gen/LSTM/02/attw:0                [3, 1, 1]               3\n",
      "gen/LSTM/03/FC/W:0                [100, 100]          10000\n",
      "gen/LSTM/03/FC/b:0                [100]                 100\n",
      "gen/LSTM/03/FC2/W:0               [100, 9]              900\n",
      "gen/LSTM/03/FC2/b:0               [9]                     9\n",
      "gen/LSTM/03/FC3/W:0               [9, 100]              900\n",
      "gen/LSTM/03/FC3/b:0               [100]                 100\n",
      "gen/LSTM/03/attw:0                [4, 1, 1]               4\n",
      "gen/LSTM/04/FC/W:0                [100, 100]          10000\n",
      "gen/LSTM/04/FC/b:0                [100]                 100\n",
      "gen/LSTM/04/FC2/W:0               [100, 16]            1600\n",
      "gen/LSTM/04/FC2/b:0               [16]                   16\n",
      "gen/LSTM/04/FC3/W:0               [16, 100]            1600\n",
      "gen/LSTM/04/FC3/b:0               [100]                 100\n",
      "gen/LSTM/04/attw:0                [5, 1, 1]               5\n",
      "gen/LSTM/05/FC/W:0                [100, 100]          10000\n",
      "gen/LSTM/05/FC/b:0                [100]                 100\n",
      "gen/LSTM/05/FC2/W:0               [100, 5]              500\n",
      "gen/LSTM/05/FC2/b:0               [5]                     5\n",
      "gen/LSTM/05/FC3/W:0               [5, 100]              500\n",
      "gen/LSTM/05/FC3/b:0               [100]                 100\n",
      "gen/LSTM/05/attw:0                [6, 1, 1]               6\n",
      "gen/LSTM/06/FC/W:0                [100, 100]          10000\n",
      "gen/LSTM/06/FC/b:0                [100]                 100\n",
      "gen/LSTM/06/FC2/W:0               [100, 14]            1400\n",
      "gen/LSTM/06/FC2/b:0               [14]                   14\n",
      "gen/LSTM/06/FC3/W:0               [14, 100]            1400\n",
      "gen/LSTM/06/FC3/b:0               [100]                 100\n",
      "gen/LSTM/06/attw:0                [7, 1, 1]               7\n",
      "gen/LSTM/07/FC/W:0                [100, 100]          10000\n",
      "gen/LSTM/07/FC/b:0                [100]                 100\n",
      "gen/LSTM/07/FC2/W:0               [100, 5]              500\n",
      "gen/LSTM/07/FC2/b:0               [5]                     5\n",
      "gen/LSTM/07/FC3/W:0               [5, 100]              500\n",
      "gen/LSTM/07/FC3/b:0               [100]                 100\n",
      "gen/LSTM/07/attw:0                [8, 1, 1]               8\n",
      "gen/LSTM/08/FC/W:0                [100, 100]          10000\n",
      "gen/LSTM/08/FC/b:0                [100]                 100\n",
      "gen/LSTM/08/FC2/W:0               [100, 2]              200\n",
      "gen/LSTM/08/FC2/b:0               [2]                     2\n",
      "gen/LSTM/08/FC3/W:0               [2, 100]              200\n",
      "gen/LSTM/08/FC3/b:0               [100]                 100\n",
      "gen/LSTM/08/attw:0                [9, 1, 1]               9\n",
      "gen/LSTM/09/FC/W:0                [100, 100]          10000\n",
      "gen/LSTM/09/FC/b:0                [100]                 100\n",
      "gen/LSTM/09/FC2/W:0               [100, 118]          11800\n",
      "gen/LSTM/09/FC2/b:0               [118]                 118\n",
      "gen/LSTM/09/FC3/W:0               [118, 100]          11800\n",
      "gen/LSTM/09/FC3/b:0               [100]                 100\n",
      "gen/LSTM/09/attw:0                [10, 1, 1]             10\n",
      "gen/LSTM/10/FC/W:0                [100, 100]          10000\n",
      "gen/LSTM/10/FC/b:0                [100]                 100\n",
      "gen/LSTM/10/FC2/W:0               [100, 90]            9000\n",
      "gen/LSTM/10/FC2/b:0               [90]                   90\n",
      "gen/LSTM/10/FC3/W:0               [90, 100]            9000\n",
      "gen/LSTM/10/FC3/b:0               [100]                 100\n",
      "gen/LSTM/10/attw:0                [11, 1, 1]             11\n",
      "gen/LSTM/11/FC/W:0                [100, 100]          10000\n",
      "gen/LSTM/11/FC/b:0                [100]                 100\n",
      "gen/LSTM/11/FC2/W:0               [100, 94]            9400\n",
      "gen/LSTM/11/FC2/b:0               [94]                   94\n",
      "gen/LSTM/11/FC3/W:0               [94, 100]            9400\n",
      "gen/LSTM/11/FC3/b:0               [100]                 100\n",
      "gen/LSTM/11/attw:0                [12, 1, 1]             12\n",
      "gen/LSTM/12/FC/W:0                [100, 100]          10000\n",
      "gen/LSTM/12/FC/b:0                [100]                 100\n",
      "gen/LSTM/12/FC2/W:0               [100, 2]              200\n",
      "gen/LSTM/12/FC2/b:0               [2]                     2\n",
      "gen/LSTM/12/FC3/W:0               [2, 100]              200\n",
      "gen/LSTM/12/FC3/b:0               [100]                 100\n",
      "gen/LSTM/12/attw:0                [13, 1, 1]             13\n",
      "gen/LSTM/13/FC/W:0                [100, 100]          10000\n",
      "gen/LSTM/13/FC/b:0                [100]                 100\n",
      "gen/LSTM/13/FC2/W:0               [100, 2]              200\n",
      "gen/LSTM/13/FC2/b:0               [2]                     2\n",
      "gen/LSTM/13/FC3/W:0               [2, 100]              200\n",
      "gen/LSTM/13/FC3/b:0               [100]                 100\n",
      "gen/LSTM/13/attw:0                [14, 1, 1]             14\n",
      "discrim/dis_fc0/fc/W:0            [20697, 256]      5298432\n",
      "discrim/dis_fc0/fc/b:0            [256]                 256\n",
      "discrim/dis_fc0/fc_diversity/W:0  [256, 100]          25600\n",
      "discrim/dis_fc0/fc_diversity/b:0  [100]                 100\n",
      "discrim/dis_fc0/bn/beta:0         [266]                 266\n",
      "discrim/dis_fc_top/W:0            [266, 1]              266\n",
      "discrim/dis_fc_top/b:0            [1]                     1\u001b[36m\n",
      "Number of trainable variables: 108\n",
      "Number of parameters (elements): 9828423\n",
      "Storage space needed for all trainable variables: 37.49MB\u001b[0m\n",
      "\u001b[32m[0114 20:26:00 @base.py:209]\u001b[0m Setup callbacks graph ...\n",
      "\u001b[32m[0114 20:26:01 @summary.py:46]\u001b[0m [MovingAverageSummary] 6 operations in collection 'MOVING_SUMMARY_OPS' will be run with session hooks.\n",
      "\u001b[32m[0114 20:26:01 @summary.py:93]\u001b[0m Summarizing collection 'summaries' of size 9.\n",
      "\u001b[32m[0114 20:26:01 @graph.py:98]\u001b[0m Applying collection UPDATE_OPS of 4 ops.\n",
      "\u001b[32m[0114 20:26:01 @base.py:230]\u001b[0m Creating the session ...\n",
      "\u001b[32m[0114 20:26:03 @base.py:236]\u001b[0m Initializing the session ...\n",
      "\u001b[32m[0114 20:26:03 @base.py:243]\u001b[0m Graph Finalized.\n",
      "\u001b[32m[0114 20:26:03 @concurrency.py:38]\u001b[0m Starting EnqueueThread QueueInput/input_queue ...\n",
      "\u001b[32m[0114 20:26:03 @base.py:275]\u001b[0m Start Epoch 1 ...\n"
     ]
    },
    {
     "name": "stderr",
     "output_type": "stream",
     "text": [
      "100%|#####################################################################################|60/60[01:12<00:00, 0.83it/s]"
     ]
    },
    {
     "name": "stdout",
     "output_type": "stream",
     "text": [
      "\u001b[32m[0114 20:27:16 @base.py:285]\u001b[0m Epoch 1 (global_step 60) finished, time:1 minute 12 seconds.\n"
     ]
    },
    {
     "name": "stderr",
     "output_type": "stream",
     "text": [
      "\n"
     ]
    },
    {
     "name": "stdout",
     "output_type": "stream",
     "text": [
      "\u001b[32m[0114 20:27:18 @saver.py:79]\u001b[0m Model saved to .//Model//temp_model\\TGAN7\\model\\model-60.\n",
      "\u001b[32m[0114 20:27:18 @monitor.py:467]\u001b[0m GAN_loss/discrim/accuracy_fake: 0.774\n",
      "\u001b[32m[0114 20:27:18 @monitor.py:467]\u001b[0m GAN_loss/discrim/accuracy_real: 0.316\n",
      "\u001b[32m[0114 20:27:18 @monitor.py:467]\u001b[0m GAN_loss/discrim/loss: 0.72926\n",
      "\u001b[32m[0114 20:27:18 @monitor.py:467]\u001b[0m GAN_loss/gen/final-g-loss: 1.1563\n",
      "\u001b[32m[0114 20:27:18 @monitor.py:467]\u001b[0m GAN_loss/gen/klloss: 0.0161\n",
      "\u001b[32m[0114 20:27:18 @monitor.py:467]\u001b[0m GAN_loss/gen/loss: 1.1402\n",
      "\u001b[32m[0114 20:27:18 @monitor.py:467]\u001b[0m QueueInput/queue_size: 50\n",
      "\u001b[32m[0114 20:27:18 @base.py:275]\u001b[0m Start Epoch 2 ...\n"
     ]
    },
    {
     "name": "stderr",
     "output_type": "stream",
     "text": [
      "100%|#####################################################################################|60/60[01:07<00:00, 0.89it/s]"
     ]
    },
    {
     "name": "stdout",
     "output_type": "stream",
     "text": [
      "\u001b[32m[0114 20:28:25 @base.py:285]\u001b[0m Epoch 2 (global_step 120) finished, time:1 minute 7 seconds.\n"
     ]
    },
    {
     "name": "stderr",
     "output_type": "stream",
     "text": [
      "\n"
     ]
    },
    {
     "name": "stdout",
     "output_type": "stream",
     "text": [
      "\u001b[32m[0114 20:28:27 @saver.py:79]\u001b[0m Model saved to .//Model//temp_model\\TGAN7\\model\\model-120.\n",
      "\u001b[32m[0114 20:28:27 @monitor.py:467]\u001b[0m GAN_loss/discrim/accuracy_fake: 0.826\n",
      "\u001b[32m[0114 20:28:27 @monitor.py:467]\u001b[0m GAN_loss/discrim/accuracy_real: 0.358\n",
      "\u001b[32m[0114 20:28:27 @monitor.py:467]\u001b[0m GAN_loss/discrim/loss: 0.64837\n",
      "\u001b[32m[0114 20:28:27 @monitor.py:467]\u001b[0m GAN_loss/gen/final-g-loss: 1.0818\n",
      "\u001b[32m[0114 20:28:27 @monitor.py:467]\u001b[0m GAN_loss/gen/klloss: 0.025151\n",
      "\u001b[32m[0114 20:28:27 @monitor.py:467]\u001b[0m GAN_loss/gen/loss: 1.0566\n",
      "\u001b[32m[0114 20:28:27 @monitor.py:467]\u001b[0m QueueInput/queue_size: 50\n",
      "\u001b[32m[0114 20:28:27 @base.py:275]\u001b[0m Start Epoch 3 ...\n"
     ]
    },
    {
     "name": "stderr",
     "output_type": "stream",
     "text": [
      "100%|#####################################################################################|60/60[01:06<00:00, 0.90it/s]"
     ]
    },
    {
     "name": "stdout",
     "output_type": "stream",
     "text": [
      "\u001b[32m[0114 20:29:34 @base.py:285]\u001b[0m Epoch 3 (global_step 180) finished, time:1 minute 6 seconds.\n"
     ]
    },
    {
     "name": "stderr",
     "output_type": "stream",
     "text": [
      "\n"
     ]
    },
    {
     "name": "stdout",
     "output_type": "stream",
     "text": [
      "\u001b[32m[0114 20:29:36 @saver.py:79]\u001b[0m Model saved to .//Model//temp_model\\TGAN7\\model\\model-180.\n",
      "\u001b[32m[0114 20:29:36 @monitor.py:467]\u001b[0m GAN_loss/discrim/accuracy_fake: 0.812\n",
      "\u001b[32m[0114 20:29:36 @monitor.py:467]\u001b[0m GAN_loss/discrim/accuracy_real: 0.32\n",
      "\u001b[32m[0114 20:29:36 @monitor.py:467]\u001b[0m GAN_loss/discrim/loss: 0.63958\n",
      "\u001b[32m[0114 20:29:36 @monitor.py:467]\u001b[0m GAN_loss/gen/final-g-loss: 1.0742\n",
      "\u001b[32m[0114 20:29:36 @monitor.py:467]\u001b[0m GAN_loss/gen/klloss: 0.036245\n",
      "\u001b[32m[0114 20:29:36 @monitor.py:467]\u001b[0m GAN_loss/gen/loss: 1.0379\n",
      "\u001b[32m[0114 20:29:36 @monitor.py:467]\u001b[0m QueueInput/queue_size: 50\n",
      "\u001b[32m[0114 20:29:36 @base.py:275]\u001b[0m Start Epoch 4 ...\n"
     ]
    },
    {
     "name": "stderr",
     "output_type": "stream",
     "text": [
      "100%|#####################################################################################|60/60[01:07<00:00, 0.89it/s]"
     ]
    },
    {
     "name": "stdout",
     "output_type": "stream",
     "text": [
      "\u001b[32m[0114 20:30:43 @base.py:285]\u001b[0m Epoch 4 (global_step 240) finished, time:1 minute 7 seconds.\n"
     ]
    },
    {
     "name": "stderr",
     "output_type": "stream",
     "text": [
      "\n"
     ]
    },
    {
     "name": "stdout",
     "output_type": "stream",
     "text": [
      "\u001b[32m[0114 20:30:45 @saver.py:79]\u001b[0m Model saved to .//Model//temp_model\\TGAN7\\model\\model-240.\n",
      "\u001b[32m[0114 20:30:45 @monitor.py:467]\u001b[0m GAN_loss/discrim/accuracy_fake: 0.842\n",
      "\u001b[32m[0114 20:30:45 @monitor.py:467]\u001b[0m GAN_loss/discrim/accuracy_real: 0.332\n",
      "\u001b[32m[0114 20:30:45 @monitor.py:467]\u001b[0m GAN_loss/discrim/loss: 0.62713\n",
      "\u001b[32m[0114 20:30:45 @monitor.py:467]\u001b[0m GAN_loss/gen/final-g-loss: 1.0652\n",
      "\u001b[32m[0114 20:30:45 @monitor.py:467]\u001b[0m GAN_loss/gen/klloss: 0.031284\n",
      "\u001b[32m[0114 20:30:45 @monitor.py:467]\u001b[0m GAN_loss/gen/loss: 1.034\n",
      "\u001b[32m[0114 20:30:45 @monitor.py:467]\u001b[0m QueueInput/queue_size: 50\n",
      "\u001b[32m[0114 20:30:45 @base.py:275]\u001b[0m Start Epoch 5 ...\n"
     ]
    },
    {
     "name": "stderr",
     "output_type": "stream",
     "text": [
      "100%|#####################################################################################|60/60[01:07<00:00, 0.89it/s]"
     ]
    },
    {
     "name": "stdout",
     "output_type": "stream",
     "text": [
      "\u001b[32m[0114 20:31:53 @base.py:285]\u001b[0m Epoch 5 (global_step 300) finished, time:1 minute 7 seconds.\n"
     ]
    },
    {
     "name": "stderr",
     "output_type": "stream",
     "text": [
      "\n"
     ]
    },
    {
     "name": "stdout",
     "output_type": "stream",
     "text": [
      "\u001b[32m[0114 20:31:54 @saver.py:79]\u001b[0m Model saved to .//Model//temp_model\\TGAN7\\model\\model-300.\n",
      "\u001b[32m[0114 20:31:54 @monitor.py:467]\u001b[0m GAN_loss/discrim/accuracy_fake: 0.854\n",
      "\u001b[32m[0114 20:31:54 @monitor.py:467]\u001b[0m GAN_loss/discrim/accuracy_real: 0.386\n",
      "\u001b[32m[0114 20:31:54 @monitor.py:467]\u001b[0m GAN_loss/discrim/loss: 0.6099\n",
      "\u001b[32m[0114 20:31:54 @monitor.py:467]\u001b[0m GAN_loss/gen/final-g-loss: 1.1008\n",
      "\u001b[32m[0114 20:31:54 @monitor.py:467]\u001b[0m GAN_loss/gen/klloss: 0.038162\n",
      "\u001b[32m[0114 20:31:54 @monitor.py:467]\u001b[0m GAN_loss/gen/loss: 1.0626\n",
      "\u001b[32m[0114 20:31:54 @monitor.py:467]\u001b[0m QueueInput/queue_size: 50\n",
      "\u001b[32m[0114 20:31:54 @base.py:275]\u001b[0m Start Epoch 6 ...\n"
     ]
    },
    {
     "name": "stderr",
     "output_type": "stream",
     "text": [
      "100%|#####################################################################################|60/60[01:07<00:00, 0.89it/s]"
     ]
    },
    {
     "name": "stdout",
     "output_type": "stream",
     "text": [
      "\u001b[32m[0114 20:33:01 @base.py:285]\u001b[0m Epoch 6 (global_step 360) finished, time:1 minute 7 seconds.\n"
     ]
    },
    {
     "name": "stderr",
     "output_type": "stream",
     "text": [
      "\n"
     ]
    },
    {
     "name": "stdout",
     "output_type": "stream",
     "text": [
      "\u001b[32m[0114 20:33:02 @saver.py:79]\u001b[0m Model saved to .//Model//temp_model\\TGAN7\\model\\model-360.\n",
      "\u001b[32m[0114 20:33:02 @monitor.py:467]\u001b[0m GAN_loss/discrim/accuracy_fake: 0.812\n",
      "\u001b[32m[0114 20:33:02 @monitor.py:467]\u001b[0m GAN_loss/discrim/accuracy_real: 0.328\n",
      "\u001b[32m[0114 20:33:02 @monitor.py:467]\u001b[0m GAN_loss/discrim/loss: 0.62615\n",
      "\u001b[32m[0114 20:33:02 @monitor.py:467]\u001b[0m GAN_loss/gen/final-g-loss: 1.0757\n",
      "\u001b[32m[0114 20:33:02 @monitor.py:467]\u001b[0m GAN_loss/gen/klloss: 0.049241\n",
      "\u001b[32m[0114 20:33:02 @monitor.py:467]\u001b[0m GAN_loss/gen/loss: 1.0265\n",
      "\u001b[32m[0114 20:33:02 @monitor.py:467]\u001b[0m QueueInput/queue_size: 50\n",
      "\u001b[32m[0114 20:33:02 @base.py:275]\u001b[0m Start Epoch 7 ...\n"
     ]
    },
    {
     "name": "stderr",
     "output_type": "stream",
     "text": [
      "100%|#####################################################################################|60/60[01:07<00:00, 0.90it/s]"
     ]
    },
    {
     "name": "stdout",
     "output_type": "stream",
     "text": [
      "\u001b[32m[0114 20:34:09 @base.py:285]\u001b[0m Epoch 7 (global_step 420) finished, time:1 minute 7 seconds.\n"
     ]
    },
    {
     "name": "stderr",
     "output_type": "stream",
     "text": [
      "\n"
     ]
    },
    {
     "name": "stdout",
     "output_type": "stream",
     "text": [
      "\u001b[32m[0114 20:34:09 @saver.py:79]\u001b[0m Model saved to .//Model//temp_model\\TGAN7\\model\\model-420.\n",
      "\u001b[32m[0114 20:34:09 @monitor.py:467]\u001b[0m GAN_loss/discrim/accuracy_fake: 0.824\n",
      "\u001b[32m[0114 20:34:09 @monitor.py:467]\u001b[0m GAN_loss/discrim/accuracy_real: 0.344\n",
      "\u001b[32m[0114 20:34:09 @monitor.py:467]\u001b[0m GAN_loss/discrim/loss: 0.62908\n",
      "\u001b[32m[0114 20:34:09 @monitor.py:467]\u001b[0m GAN_loss/gen/final-g-loss: 1.0817\n",
      "\u001b[32m[0114 20:34:09 @monitor.py:467]\u001b[0m GAN_loss/gen/klloss: 0.04616\n",
      "\u001b[32m[0114 20:34:09 @monitor.py:467]\u001b[0m GAN_loss/gen/loss: 1.0355\n",
      "\u001b[32m[0114 20:34:09 @monitor.py:467]\u001b[0m QueueInput/queue_size: 50\n",
      "\u001b[32m[0114 20:34:09 @base.py:275]\u001b[0m Start Epoch 8 ...\n"
     ]
    },
    {
     "name": "stderr",
     "output_type": "stream",
     "text": [
      "100%|#####################################################################################|60/60[01:07<00:00, 0.89it/s]"
     ]
    },
    {
     "name": "stdout",
     "output_type": "stream",
     "text": [
      "\u001b[32m[0114 20:35:17 @base.py:285]\u001b[0m Epoch 8 (global_step 480) finished, time:1 minute 7 seconds.\n"
     ]
    },
    {
     "name": "stderr",
     "output_type": "stream",
     "text": [
      "\n"
     ]
    },
    {
     "name": "stdout",
     "output_type": "stream",
     "text": [
      "\u001b[32m[0114 20:35:19 @saver.py:79]\u001b[0m Model saved to .//Model//temp_model\\TGAN7\\model\\model-480.\n",
      "\u001b[32m[0114 20:35:19 @monitor.py:467]\u001b[0m GAN_loss/discrim/accuracy_fake: 0.848\n",
      "\u001b[32m[0114 20:35:19 @monitor.py:467]\u001b[0m GAN_loss/discrim/accuracy_real: 0.384\n",
      "\u001b[32m[0114 20:35:19 @monitor.py:467]\u001b[0m GAN_loss/discrim/loss: 0.61662\n",
      "\u001b[32m[0114 20:35:19 @monitor.py:467]\u001b[0m GAN_loss/gen/final-g-loss: 1.1171\n",
      "\u001b[32m[0114 20:35:19 @monitor.py:467]\u001b[0m GAN_loss/gen/klloss: 0.069455\n",
      "\u001b[32m[0114 20:35:19 @monitor.py:467]\u001b[0m GAN_loss/gen/loss: 1.0476\n",
      "\u001b[32m[0114 20:35:19 @monitor.py:467]\u001b[0m QueueInput/queue_size: 50\n",
      "\u001b[32m[0114 20:35:19 @base.py:275]\u001b[0m Start Epoch 9 ...\n"
     ]
    },
    {
     "name": "stderr",
     "output_type": "stream",
     "text": [
      "100%|#####################################################################################|60/60[01:07<00:00, 0.89it/s]"
     ]
    },
    {
     "name": "stdout",
     "output_type": "stream",
     "text": [
      "\u001b[32m[0114 20:36:26 @base.py:285]\u001b[0m Epoch 9 (global_step 540) finished, time:1 minute 7 seconds.\n"
     ]
    },
    {
     "name": "stderr",
     "output_type": "stream",
     "text": [
      "\n"
     ]
    },
    {
     "name": "stdout",
     "output_type": "stream",
     "text": [
      "\u001b[32m[0114 20:36:26 @saver.py:79]\u001b[0m Model saved to .//Model//temp_model\\TGAN7\\model\\model-540.\n",
      "\u001b[32m[0114 20:36:26 @monitor.py:467]\u001b[0m GAN_loss/discrim/accuracy_fake: 0.82\n",
      "\u001b[32m[0114 20:36:26 @monitor.py:467]\u001b[0m GAN_loss/discrim/accuracy_real: 0.35\n",
      "\u001b[32m[0114 20:36:26 @monitor.py:467]\u001b[0m GAN_loss/discrim/loss: 0.63012\n",
      "\u001b[32m[0114 20:36:26 @monitor.py:467]\u001b[0m GAN_loss/gen/final-g-loss: 1.1058\n",
      "\u001b[32m[0114 20:36:26 @monitor.py:467]\u001b[0m GAN_loss/gen/klloss: 0.07263\n",
      "\u001b[32m[0114 20:36:26 @monitor.py:467]\u001b[0m GAN_loss/gen/loss: 1.0332\n",
      "\u001b[32m[0114 20:36:26 @monitor.py:467]\u001b[0m QueueInput/queue_size: 50\n",
      "\u001b[32m[0114 20:36:26 @base.py:275]\u001b[0m Start Epoch 10 ...\n"
     ]
    },
    {
     "name": "stderr",
     "output_type": "stream",
     "text": [
      "100%|#####################################################################################|60/60[01:07<00:00, 0.89it/s]"
     ]
    },
    {
     "name": "stdout",
     "output_type": "stream",
     "text": [
      "\u001b[32m[0114 20:37:33 @base.py:285]\u001b[0m Epoch 10 (global_step 600) finished, time:1 minute 7 seconds.\n"
     ]
    },
    {
     "name": "stderr",
     "output_type": "stream",
     "text": [
      "\n"
     ]
    },
    {
     "name": "stdout",
     "output_type": "stream",
     "text": [
      "\u001b[32m[0114 20:37:34 @saver.py:79]\u001b[0m Model saved to .//Model//temp_model\\TGAN7\\model\\model-600.\n",
      "\u001b[32m[0114 20:37:34 @monitor.py:467]\u001b[0m GAN_loss/discrim/accuracy_fake: 0.85\n",
      "\u001b[32m[0114 20:37:34 @monitor.py:467]\u001b[0m GAN_loss/discrim/accuracy_real: 0.328\n",
      "\u001b[32m[0114 20:37:34 @monitor.py:467]\u001b[0m GAN_loss/discrim/loss: 0.62555\n",
      "\u001b[32m[0114 20:37:34 @monitor.py:467]\u001b[0m GAN_loss/gen/final-g-loss: 1.087\n",
      "\u001b[32m[0114 20:37:34 @monitor.py:467]\u001b[0m GAN_loss/gen/klloss: 0.059476\n",
      "\u001b[32m[0114 20:37:34 @monitor.py:467]\u001b[0m GAN_loss/gen/loss: 1.0276\n",
      "\u001b[32m[0114 20:37:34 @monitor.py:467]\u001b[0m QueueInput/queue_size: 50\n",
      "\u001b[32m[0114 20:37:34 @base.py:275]\u001b[0m Start Epoch 11 ...\n"
     ]
    },
    {
     "name": "stderr",
     "output_type": "stream",
     "text": [
      "100%|#####################################################################################|60/60[01:07<00:00, 0.89it/s]"
     ]
    },
    {
     "name": "stdout",
     "output_type": "stream",
     "text": [
      "\u001b[32m[0114 20:38:42 @base.py:285]\u001b[0m Epoch 11 (global_step 660) finished, time:1 minute 7 seconds.\n"
     ]
    },
    {
     "name": "stderr",
     "output_type": "stream",
     "text": [
      "\n"
     ]
    },
    {
     "name": "stdout",
     "output_type": "stream",
     "text": [
      "\u001b[32m[0114 20:38:42 @saver.py:79]\u001b[0m Model saved to .//Model//temp_model\\TGAN7\\model\\model-660.\n",
      "\u001b[32m[0114 20:38:42 @monitor.py:467]\u001b[0m GAN_loss/discrim/accuracy_fake: 0.852\n",
      "\u001b[32m[0114 20:38:42 @monitor.py:467]\u001b[0m GAN_loss/discrim/accuracy_real: 0.372\n",
      "\u001b[32m[0114 20:38:42 @monitor.py:467]\u001b[0m GAN_loss/discrim/loss: 0.62189\n",
      "\u001b[32m[0114 20:38:42 @monitor.py:467]\u001b[0m GAN_loss/gen/final-g-loss: 1.106\n",
      "\u001b[32m[0114 20:38:42 @monitor.py:467]\u001b[0m GAN_loss/gen/klloss: 0.067945\n",
      "\u001b[32m[0114 20:38:42 @monitor.py:467]\u001b[0m GAN_loss/gen/loss: 1.0381\n",
      "\u001b[32m[0114 20:38:42 @monitor.py:467]\u001b[0m QueueInput/queue_size: 50\n",
      "\u001b[32m[0114 20:38:42 @base.py:275]\u001b[0m Start Epoch 12 ...\n"
     ]
    },
    {
     "name": "stderr",
     "output_type": "stream",
     "text": [
      "100%|#####################################################################################|60/60[01:07<00:00, 0.89it/s]"
     ]
    },
    {
     "name": "stdout",
     "output_type": "stream",
     "text": [
      "\u001b[32m[0114 20:39:50 @base.py:285]\u001b[0m Epoch 12 (global_step 720) finished, time:1 minute 7 seconds.\n"
     ]
    },
    {
     "name": "stderr",
     "output_type": "stream",
     "text": [
      "\n"
     ]
    },
    {
     "name": "stdout",
     "output_type": "stream",
     "text": [
      "\u001b[32m[0114 20:39:50 @saver.py:79]\u001b[0m Model saved to .//Model//temp_model\\TGAN7\\model\\model-720.\n",
      "\u001b[32m[0114 20:39:50 @monitor.py:467]\u001b[0m GAN_loss/discrim/accuracy_fake: 0.868\n",
      "\u001b[32m[0114 20:39:50 @monitor.py:467]\u001b[0m GAN_loss/discrim/accuracy_real: 0.326\n",
      "\u001b[32m[0114 20:39:50 @monitor.py:467]\u001b[0m GAN_loss/discrim/loss: 0.62278\n",
      "\u001b[32m[0114 20:39:50 @monitor.py:467]\u001b[0m GAN_loss/gen/final-g-loss: 1.0745\n",
      "\u001b[32m[0114 20:39:50 @monitor.py:467]\u001b[0m GAN_loss/gen/klloss: 0.034434\n",
      "\u001b[32m[0114 20:39:50 @monitor.py:467]\u001b[0m GAN_loss/gen/loss: 1.0401\n",
      "\u001b[32m[0114 20:39:50 @monitor.py:467]\u001b[0m QueueInput/queue_size: 50\n",
      "\u001b[32m[0114 20:39:50 @base.py:275]\u001b[0m Start Epoch 13 ...\n"
     ]
    },
    {
     "name": "stderr",
     "output_type": "stream",
     "text": [
      "100%|#####################################################################################|60/60[01:08<00:00, 0.87it/s]"
     ]
    },
    {
     "name": "stdout",
     "output_type": "stream",
     "text": [
      "\u001b[32m[0114 20:40:59 @base.py:285]\u001b[0m Epoch 13 (global_step 780) finished, time:1 minute 8 seconds.\n"
     ]
    },
    {
     "name": "stderr",
     "output_type": "stream",
     "text": [
      "\n"
     ]
    },
    {
     "name": "stdout",
     "output_type": "stream",
     "text": [
      "\u001b[32m[0114 20:40:59 @saver.py:79]\u001b[0m Model saved to .//Model//temp_model\\TGAN7\\model\\model-780.\n",
      "\u001b[32m[0114 20:40:59 @monitor.py:467]\u001b[0m GAN_loss/discrim/accuracy_fake: 0.852\n",
      "\u001b[32m[0114 20:40:59 @monitor.py:467]\u001b[0m GAN_loss/discrim/accuracy_real: 0.324\n",
      "\u001b[32m[0114 20:40:59 @monitor.py:467]\u001b[0m GAN_loss/discrim/loss: 0.62672\n",
      "\u001b[32m[0114 20:40:59 @monitor.py:467]\u001b[0m GAN_loss/gen/final-g-loss: 1.0614\n",
      "\u001b[32m[0114 20:40:59 @monitor.py:467]\u001b[0m GAN_loss/gen/klloss: 0.041729\n",
      "\u001b[32m[0114 20:40:59 @monitor.py:467]\u001b[0m GAN_loss/gen/loss: 1.0197\n",
      "\u001b[32m[0114 20:40:59 @monitor.py:467]\u001b[0m QueueInput/queue_size: 50\n",
      "\u001b[32m[0114 20:40:59 @base.py:275]\u001b[0m Start Epoch 14 ...\n"
     ]
    },
    {
     "name": "stderr",
     "output_type": "stream",
     "text": [
      "100%|#####################################################################################|60/60[01:07<00:00, 0.89it/s]"
     ]
    },
    {
     "name": "stdout",
     "output_type": "stream",
     "text": [
      "\u001b[32m[0114 20:42:07 @base.py:285]\u001b[0m Epoch 14 (global_step 840) finished, time:1 minute 7 seconds.\n"
     ]
    },
    {
     "name": "stderr",
     "output_type": "stream",
     "text": [
      "\n"
     ]
    },
    {
     "name": "stdout",
     "output_type": "stream",
     "text": [
      "\u001b[32m[0114 20:42:08 @saver.py:79]\u001b[0m Model saved to .//Model//temp_model\\TGAN7\\model\\model-840.\n",
      "\u001b[32m[0114 20:42:08 @monitor.py:467]\u001b[0m GAN_loss/discrim/accuracy_fake: 0.84\n",
      "\u001b[32m[0114 20:42:08 @monitor.py:467]\u001b[0m GAN_loss/discrim/accuracy_real: 0.318\n",
      "\u001b[32m[0114 20:42:08 @monitor.py:467]\u001b[0m GAN_loss/discrim/loss: 0.62399\n",
      "\u001b[32m[0114 20:42:08 @monitor.py:467]\u001b[0m GAN_loss/gen/final-g-loss: 1.0452\n",
      "\u001b[32m[0114 20:42:08 @monitor.py:467]\u001b[0m GAN_loss/gen/klloss: 0.034045\n",
      "\u001b[32m[0114 20:42:08 @monitor.py:467]\u001b[0m GAN_loss/gen/loss: 1.0112\n",
      "\u001b[32m[0114 20:42:08 @monitor.py:467]\u001b[0m QueueInput/queue_size: 50\n",
      "\u001b[32m[0114 20:42:08 @base.py:275]\u001b[0m Start Epoch 15 ...\n"
     ]
    },
    {
     "name": "stderr",
     "output_type": "stream",
     "text": [
      "100%|#####################################################################################|60/60[01:08<00:00, 0.88it/s]"
     ]
    },
    {
     "name": "stdout",
     "output_type": "stream",
     "text": [
      "\u001b[32m[0114 20:43:16 @base.py:285]\u001b[0m Epoch 15 (global_step 900) finished, time:1 minute 8 seconds.\n"
     ]
    },
    {
     "name": "stderr",
     "output_type": "stream",
     "text": [
      "\n"
     ]
    },
    {
     "name": "stdout",
     "output_type": "stream",
     "text": [
      "\u001b[32m[0114 20:43:17 @saver.py:79]\u001b[0m Model saved to .//Model//temp_model\\TGAN7\\model\\model-900.\n",
      "\u001b[32m[0114 20:43:17 @monitor.py:467]\u001b[0m GAN_loss/discrim/accuracy_fake: 0.838\n",
      "\u001b[32m[0114 20:43:17 @monitor.py:467]\u001b[0m GAN_loss/discrim/accuracy_real: 0.294\n",
      "\u001b[32m[0114 20:43:17 @monitor.py:467]\u001b[0m GAN_loss/discrim/loss: 0.63684\n",
      "\u001b[32m[0114 20:43:17 @monitor.py:467]\u001b[0m GAN_loss/gen/final-g-loss: 1.034\n",
      "\u001b[32m[0114 20:43:17 @monitor.py:467]\u001b[0m GAN_loss/gen/klloss: 0.03876\n",
      "\u001b[32m[0114 20:43:17 @monitor.py:467]\u001b[0m GAN_loss/gen/loss: 0.99525\n",
      "\u001b[32m[0114 20:43:17 @monitor.py:467]\u001b[0m QueueInput/queue_size: 50\n",
      "\u001b[32m[0114 20:43:17 @base.py:275]\u001b[0m Start Epoch 16 ...\n"
     ]
    },
    {
     "name": "stderr",
     "output_type": "stream",
     "text": [
      "100%|#####################################################################################|60/60[01:08<00:00, 0.88it/s]"
     ]
    },
    {
     "name": "stdout",
     "output_type": "stream",
     "text": [
      "\u001b[32m[0114 20:44:25 @base.py:285]\u001b[0m Epoch 16 (global_step 960) finished, time:1 minute 8 seconds.\n"
     ]
    },
    {
     "name": "stderr",
     "output_type": "stream",
     "text": [
      "\n"
     ]
    },
    {
     "name": "stdout",
     "output_type": "stream",
     "text": [
      "\u001b[32m[0114 20:44:25 @saver.py:79]\u001b[0m Model saved to .//Model//temp_model\\TGAN7\\model\\model-960.\n",
      "\u001b[32m[0114 20:44:25 @monitor.py:467]\u001b[0m GAN_loss/discrim/accuracy_fake: 0.852\n",
      "\u001b[32m[0114 20:44:25 @monitor.py:467]\u001b[0m GAN_loss/discrim/accuracy_real: 0.27\n",
      "\u001b[32m[0114 20:44:25 @monitor.py:467]\u001b[0m GAN_loss/discrim/loss: 0.64008\n",
      "\u001b[32m[0114 20:44:25 @monitor.py:467]\u001b[0m GAN_loss/gen/final-g-loss: 1.023\n",
      "\u001b[32m[0114 20:44:25 @monitor.py:467]\u001b[0m GAN_loss/gen/klloss: 0.03199\n",
      "\u001b[32m[0114 20:44:25 @monitor.py:467]\u001b[0m GAN_loss/gen/loss: 0.99101\n",
      "\u001b[32m[0114 20:44:25 @monitor.py:467]\u001b[0m QueueInput/queue_size: 50\n",
      "\u001b[32m[0114 20:44:25 @base.py:275]\u001b[0m Start Epoch 17 ...\n"
     ]
    },
    {
     "name": "stderr",
     "output_type": "stream",
     "text": [
      "100%|#####################################################################################|60/60[01:06<00:00, 0.90it/s]"
     ]
    },
    {
     "name": "stdout",
     "output_type": "stream",
     "text": [
      "\u001b[32m[0114 20:45:32 @base.py:285]\u001b[0m Epoch 17 (global_step 1020) finished, time:1 minute 6 seconds.\n"
     ]
    },
    {
     "name": "stderr",
     "output_type": "stream",
     "text": [
      "\n"
     ]
    },
    {
     "name": "stdout",
     "output_type": "stream",
     "text": [
      "\u001b[32m[0114 20:45:33 @saver.py:79]\u001b[0m Model saved to .//Model//temp_model\\TGAN7\\model\\model-1020.\n",
      "\u001b[32m[0114 20:45:33 @monitor.py:467]\u001b[0m GAN_loss/discrim/accuracy_fake: 0.86\n",
      "\u001b[32m[0114 20:45:33 @monitor.py:467]\u001b[0m GAN_loss/discrim/accuracy_real: 0.264\n",
      "\u001b[32m[0114 20:45:33 @monitor.py:467]\u001b[0m GAN_loss/discrim/loss: 0.63726\n",
      "\u001b[32m[0114 20:45:33 @monitor.py:467]\u001b[0m GAN_loss/gen/final-g-loss: 1.0212\n",
      "\u001b[32m[0114 20:45:33 @monitor.py:467]\u001b[0m GAN_loss/gen/klloss: 0.030074\n",
      "\u001b[32m[0114 20:45:33 @monitor.py:467]\u001b[0m GAN_loss/gen/loss: 0.99115\n",
      "\u001b[32m[0114 20:45:33 @monitor.py:467]\u001b[0m QueueInput/queue_size: 50\n",
      "\u001b[32m[0114 20:45:33 @base.py:275]\u001b[0m Start Epoch 18 ...\n"
     ]
    },
    {
     "name": "stderr",
     "output_type": "stream",
     "text": [
      "100%|#####################################################################################|60/60[01:07<00:00, 0.89it/s]"
     ]
    },
    {
     "name": "stdout",
     "output_type": "stream",
     "text": [
      "\u001b[32m[0114 20:46:41 @base.py:285]\u001b[0m Epoch 18 (global_step 1080) finished, time:1 minute 7 seconds.\n"
     ]
    },
    {
     "name": "stderr",
     "output_type": "stream",
     "text": [
      "\n"
     ]
    },
    {
     "name": "stdout",
     "output_type": "stream",
     "text": [
      "\u001b[32m[0114 20:46:41 @saver.py:79]\u001b[0m Model saved to .//Model//temp_model\\TGAN7\\model\\model-1080.\n",
      "\u001b[32m[0114 20:46:41 @monitor.py:467]\u001b[0m GAN_loss/discrim/accuracy_fake: 0.836\n",
      "\u001b[32m[0114 20:46:41 @monitor.py:467]\u001b[0m GAN_loss/discrim/accuracy_real: 0.212\n",
      "\u001b[32m[0114 20:46:41 @monitor.py:467]\u001b[0m GAN_loss/discrim/loss: 0.65211\n",
      "\u001b[32m[0114 20:46:41 @monitor.py:467]\u001b[0m GAN_loss/gen/final-g-loss: 1.0181\n",
      "\u001b[32m[0114 20:46:41 @monitor.py:467]\u001b[0m GAN_loss/gen/klloss: 0.031878\n",
      "\u001b[32m[0114 20:46:41 @monitor.py:467]\u001b[0m GAN_loss/gen/loss: 0.98625\n",
      "\u001b[32m[0114 20:46:41 @monitor.py:467]\u001b[0m QueueInput/queue_size: 50\n",
      "\u001b[32m[0114 20:46:41 @base.py:275]\u001b[0m Start Epoch 19 ...\n"
     ]
    },
    {
     "name": "stderr",
     "output_type": "stream",
     "text": [
      "100%|#####################################################################################|60/60[01:08<00:00, 0.87it/s]"
     ]
    },
    {
     "name": "stdout",
     "output_type": "stream",
     "text": [
      "\u001b[32m[0114 20:47:50 @base.py:285]\u001b[0m Epoch 19 (global_step 1140) finished, time:1 minute 8 seconds.\n"
     ]
    },
    {
     "name": "stderr",
     "output_type": "stream",
     "text": [
      "\n"
     ]
    },
    {
     "name": "stdout",
     "output_type": "stream",
     "text": [
      "\u001b[32m[0114 20:47:51 @saver.py:79]\u001b[0m Model saved to .//Model//temp_model\\TGAN7\\model\\model-1140.\n",
      "\u001b[32m[0114 20:47:51 @monitor.py:467]\u001b[0m GAN_loss/discrim/accuracy_fake: 0.854\n",
      "\u001b[32m[0114 20:47:51 @monitor.py:467]\u001b[0m GAN_loss/discrim/accuracy_real: 0.252\n",
      "\u001b[32m[0114 20:47:51 @monitor.py:467]\u001b[0m GAN_loss/discrim/loss: 0.63757\n",
      "\u001b[32m[0114 20:47:51 @monitor.py:467]\u001b[0m GAN_loss/gen/final-g-loss: 1.0344\n",
      "\u001b[32m[0114 20:47:51 @monitor.py:467]\u001b[0m GAN_loss/gen/klloss: 0.037063\n",
      "\u001b[32m[0114 20:47:51 @monitor.py:467]\u001b[0m GAN_loss/gen/loss: 0.99736\n",
      "\u001b[32m[0114 20:47:51 @monitor.py:467]\u001b[0m QueueInput/queue_size: 50\n",
      "\u001b[32m[0114 20:47:51 @base.py:275]\u001b[0m Start Epoch 20 ...\n"
     ]
    },
    {
     "name": "stderr",
     "output_type": "stream",
     "text": [
      "100%|#####################################################################################|60/60[01:08<00:00, 0.87it/s]"
     ]
    },
    {
     "name": "stdout",
     "output_type": "stream",
     "text": [
      "\u001b[32m[0114 20:49:00 @base.py:285]\u001b[0m Epoch 20 (global_step 1200) finished, time:1 minute 8 seconds.\n"
     ]
    },
    {
     "name": "stderr",
     "output_type": "stream",
     "text": [
      "\n"
     ]
    },
    {
     "name": "stdout",
     "output_type": "stream",
     "text": [
      "\u001b[32m[0114 20:49:01 @saver.py:79]\u001b[0m Model saved to .//Model//temp_model\\TGAN7\\model\\model-1200.\n",
      "\u001b[32m[0114 20:49:01 @monitor.py:467]\u001b[0m GAN_loss/discrim/accuracy_fake: 0.862\n",
      "\u001b[32m[0114 20:49:01 @monitor.py:467]\u001b[0m GAN_loss/discrim/accuracy_real: 0.286\n",
      "\u001b[32m[0114 20:49:01 @monitor.py:467]\u001b[0m GAN_loss/discrim/loss: 0.63622\n",
      "\u001b[32m[0114 20:49:01 @monitor.py:467]\u001b[0m GAN_loss/gen/final-g-loss: 1.0207\n",
      "\u001b[32m[0114 20:49:01 @monitor.py:467]\u001b[0m GAN_loss/gen/klloss: 0.04063\n",
      "\u001b[32m[0114 20:49:01 @monitor.py:467]\u001b[0m GAN_loss/gen/loss: 0.98011\n",
      "\u001b[32m[0114 20:49:01 @monitor.py:467]\u001b[0m QueueInput/queue_size: 50\n",
      "\u001b[32m[0114 20:49:01 @base.py:275]\u001b[0m Start Epoch 21 ...\n"
     ]
    },
    {
     "name": "stderr",
     "output_type": "stream",
     "text": [
      "100%|#####################################################################################|60/60[01:08<00:00, 0.88it/s]"
     ]
    },
    {
     "name": "stdout",
     "output_type": "stream",
     "text": [
      "\u001b[32m[0114 20:50:09 @base.py:285]\u001b[0m Epoch 21 (global_step 1260) finished, time:1 minute 8 seconds.\n"
     ]
    },
    {
     "name": "stderr",
     "output_type": "stream",
     "text": [
      "\n"
     ]
    },
    {
     "name": "stdout",
     "output_type": "stream",
     "text": [
      "\u001b[32m[0114 20:50:10 @saver.py:79]\u001b[0m Model saved to .//Model//temp_model\\TGAN7\\model\\model-1260.\n",
      "\u001b[32m[0114 20:50:10 @monitor.py:467]\u001b[0m GAN_loss/discrim/accuracy_fake: 0.852\n",
      "\u001b[32m[0114 20:50:10 @monitor.py:467]\u001b[0m GAN_loss/discrim/accuracy_real: 0.276\n",
      "\u001b[32m[0114 20:50:10 @monitor.py:467]\u001b[0m GAN_loss/discrim/loss: 0.64042\n",
      "\u001b[32m[0114 20:50:10 @monitor.py:467]\u001b[0m GAN_loss/gen/final-g-loss: 0.99112\n",
      "\u001b[32m[0114 20:50:10 @monitor.py:467]\u001b[0m GAN_loss/gen/klloss: 0.025328\n",
      "\u001b[32m[0114 20:50:10 @monitor.py:467]\u001b[0m GAN_loss/gen/loss: 0.96579\n",
      "\u001b[32m[0114 20:50:10 @monitor.py:467]\u001b[0m QueueInput/queue_size: 50\n",
      "\u001b[32m[0114 20:50:10 @base.py:275]\u001b[0m Start Epoch 22 ...\n"
     ]
    },
    {
     "name": "stderr",
     "output_type": "stream",
     "text": [
      "100%|#####################################################################################|60/60[01:08<00:00, 0.88it/s]"
     ]
    },
    {
     "name": "stdout",
     "output_type": "stream",
     "text": [
      "\u001b[32m[0114 20:51:18 @base.py:285]\u001b[0m Epoch 22 (global_step 1320) finished, time:1 minute 8 seconds.\n"
     ]
    },
    {
     "name": "stderr",
     "output_type": "stream",
     "text": [
      "\n"
     ]
    },
    {
     "name": "stdout",
     "output_type": "stream",
     "text": [
      "\u001b[32m[0114 20:51:18 @saver.py:79]\u001b[0m Model saved to .//Model//temp_model\\TGAN7\\model\\model-1320.\n",
      "\u001b[32m[0114 20:51:18 @monitor.py:467]\u001b[0m GAN_loss/discrim/accuracy_fake: 0.868\n",
      "\u001b[32m[0114 20:51:18 @monitor.py:467]\u001b[0m GAN_loss/discrim/accuracy_real: 0.292\n",
      "\u001b[32m[0114 20:51:18 @monitor.py:467]\u001b[0m GAN_loss/discrim/loss: 0.63184\n",
      "\u001b[32m[0114 20:51:18 @monitor.py:467]\u001b[0m GAN_loss/gen/final-g-loss: 1.0527\n",
      "\u001b[32m[0114 20:51:18 @monitor.py:467]\u001b[0m GAN_loss/gen/klloss: 0.06343\n",
      "\u001b[32m[0114 20:51:18 @monitor.py:467]\u001b[0m GAN_loss/gen/loss: 0.98924\n",
      "\u001b[32m[0114 20:51:18 @monitor.py:467]\u001b[0m QueueInput/queue_size: 50\n",
      "\u001b[32m[0114 20:51:18 @base.py:275]\u001b[0m Start Epoch 23 ...\n"
     ]
    },
    {
     "name": "stderr",
     "output_type": "stream",
     "text": [
      "100%|#####################################################################################|60/60[01:08<00:00, 0.87it/s]"
     ]
    },
    {
     "name": "stdout",
     "output_type": "stream",
     "text": [
      "\u001b[32m[0114 20:52:27 @base.py:285]\u001b[0m Epoch 23 (global_step 1380) finished, time:1 minute 8 seconds.\n"
     ]
    },
    {
     "name": "stderr",
     "output_type": "stream",
     "text": [
      "\n"
     ]
    },
    {
     "name": "stdout",
     "output_type": "stream",
     "text": [
      "\u001b[32m[0114 20:52:28 @saver.py:79]\u001b[0m Model saved to .//Model//temp_model\\TGAN7\\model\\model-1380.\n",
      "\u001b[32m[0114 20:52:28 @monitor.py:467]\u001b[0m GAN_loss/discrim/accuracy_fake: 0.886\n",
      "\u001b[32m[0114 20:52:28 @monitor.py:467]\u001b[0m GAN_loss/discrim/accuracy_real: 0.258\n",
      "\u001b[32m[0114 20:52:28 @monitor.py:467]\u001b[0m GAN_loss/discrim/loss: 0.63657\n",
      "\u001b[32m[0114 20:52:28 @monitor.py:467]\u001b[0m GAN_loss/gen/final-g-loss: 1.0464\n",
      "\u001b[32m[0114 20:52:28 @monitor.py:467]\u001b[0m GAN_loss/gen/klloss: 0.062573\n",
      "\u001b[32m[0114 20:52:28 @monitor.py:467]\u001b[0m GAN_loss/gen/loss: 0.98382\n",
      "\u001b[32m[0114 20:52:28 @monitor.py:467]\u001b[0m QueueInput/queue_size: 50\n",
      "\u001b[32m[0114 20:52:28 @base.py:275]\u001b[0m Start Epoch 24 ...\n"
     ]
    },
    {
     "name": "stderr",
     "output_type": "stream",
     "text": [
      "100%|#####################################################################################|60/60[01:06<00:00, 0.90it/s]"
     ]
    },
    {
     "name": "stdout",
     "output_type": "stream",
     "text": [
      "\u001b[32m[0114 20:53:35 @base.py:285]\u001b[0m Epoch 24 (global_step 1440) finished, time:1 minute 6 seconds.\n"
     ]
    },
    {
     "name": "stderr",
     "output_type": "stream",
     "text": [
      "\n"
     ]
    },
    {
     "name": "stdout",
     "output_type": "stream",
     "text": [
      "\u001b[32m[0114 20:53:36 @saver.py:79]\u001b[0m Model saved to .//Model//temp_model\\TGAN7\\model\\model-1440.\n",
      "\u001b[32m[0114 20:53:36 @monitor.py:467]\u001b[0m GAN_loss/discrim/accuracy_fake: 0.858\n",
      "\u001b[32m[0114 20:53:36 @monitor.py:467]\u001b[0m GAN_loss/discrim/accuracy_real: 0.234\n",
      "\u001b[32m[0114 20:53:36 @monitor.py:467]\u001b[0m GAN_loss/discrim/loss: 0.64044\n",
      "\u001b[32m[0114 20:53:36 @monitor.py:467]\u001b[0m GAN_loss/gen/final-g-loss: 1.0314\n",
      "\u001b[32m[0114 20:53:36 @monitor.py:467]\u001b[0m GAN_loss/gen/klloss: 0.038677\n",
      "\u001b[32m[0114 20:53:36 @monitor.py:467]\u001b[0m GAN_loss/gen/loss: 0.9927\n",
      "\u001b[32m[0114 20:53:36 @monitor.py:467]\u001b[0m QueueInput/queue_size: 50\n",
      "\u001b[32m[0114 20:53:36 @base.py:275]\u001b[0m Start Epoch 25 ...\n"
     ]
    },
    {
     "name": "stderr",
     "output_type": "stream",
     "text": [
      "100%|#####################################################################################|60/60[01:09<00:00, 0.87it/s]"
     ]
    },
    {
     "name": "stdout",
     "output_type": "stream",
     "text": [
      "\u001b[32m[0114 20:54:45 @base.py:285]\u001b[0m Epoch 25 (global_step 1500) finished, time:1 minute 9 seconds.\n"
     ]
    },
    {
     "name": "stderr",
     "output_type": "stream",
     "text": [
      "\n"
     ]
    },
    {
     "name": "stdout",
     "output_type": "stream",
     "text": [
      "\u001b[32m[0114 20:54:46 @saver.py:79]\u001b[0m Model saved to .//Model//temp_model\\TGAN7\\model\\model-1500.\n",
      "\u001b[32m[0114 20:54:46 @monitor.py:467]\u001b[0m GAN_loss/discrim/accuracy_fake: 0.85\n",
      "\u001b[32m[0114 20:54:46 @monitor.py:467]\u001b[0m GAN_loss/discrim/accuracy_real: 0.27\n",
      "\u001b[32m[0114 20:54:46 @monitor.py:467]\u001b[0m GAN_loss/discrim/loss: 0.62951\n",
      "\u001b[32m[0114 20:54:46 @monitor.py:467]\u001b[0m GAN_loss/gen/final-g-loss: 1.0264\n",
      "\u001b[32m[0114 20:54:46 @monitor.py:467]\u001b[0m GAN_loss/gen/klloss: 0.029816\n",
      "\u001b[32m[0114 20:54:46 @monitor.py:467]\u001b[0m GAN_loss/gen/loss: 0.99659\n",
      "\u001b[32m[0114 20:54:46 @monitor.py:467]\u001b[0m QueueInput/queue_size: 50\n",
      "\u001b[32m[0114 20:54:46 @base.py:275]\u001b[0m Start Epoch 26 ...\n"
     ]
    },
    {
     "name": "stderr",
     "output_type": "stream",
     "text": [
      "100%|#####################################################################################|60/60[01:08<00:00, 0.88it/s]"
     ]
    },
    {
     "name": "stdout",
     "output_type": "stream",
     "text": [
      "\u001b[32m[0114 20:55:54 @base.py:285]\u001b[0m Epoch 26 (global_step 1560) finished, time:1 minute 8 seconds.\n"
     ]
    },
    {
     "name": "stderr",
     "output_type": "stream",
     "text": [
      "\n"
     ]
    },
    {
     "name": "stdout",
     "output_type": "stream",
     "text": [
      "\u001b[32m[0114 20:55:55 @saver.py:79]\u001b[0m Model saved to .//Model//temp_model\\TGAN7\\model\\model-1560.\n",
      "\u001b[32m[0114 20:55:55 @monitor.py:467]\u001b[0m GAN_loss/discrim/accuracy_fake: 0.864\n",
      "\u001b[32m[0114 20:55:55 @monitor.py:467]\u001b[0m GAN_loss/discrim/accuracy_real: 0.28\n",
      "\u001b[32m[0114 20:55:55 @monitor.py:467]\u001b[0m GAN_loss/discrim/loss: 0.63071\n",
      "\u001b[32m[0114 20:55:55 @monitor.py:467]\u001b[0m GAN_loss/gen/final-g-loss: 1.0124\n",
      "\u001b[32m[0114 20:55:55 @monitor.py:467]\u001b[0m GAN_loss/gen/klloss: 0.035301\n",
      "\u001b[32m[0114 20:55:55 @monitor.py:467]\u001b[0m GAN_loss/gen/loss: 0.97705\n",
      "\u001b[32m[0114 20:55:55 @monitor.py:467]\u001b[0m QueueInput/queue_size: 50\n",
      "\u001b[32m[0114 20:55:55 @base.py:275]\u001b[0m Start Epoch 27 ...\n"
     ]
    },
    {
     "name": "stderr",
     "output_type": "stream",
     "text": [
      "100%|#####################################################################################|60/60[01:09<00:00, 0.86it/s]"
     ]
    },
    {
     "name": "stdout",
     "output_type": "stream",
     "text": [
      "\u001b[32m[0114 20:57:05 @base.py:285]\u001b[0m Epoch 27 (global_step 1620) finished, time:1 minute 9 seconds.\n"
     ]
    },
    {
     "name": "stderr",
     "output_type": "stream",
     "text": [
      "\n"
     ]
    },
    {
     "name": "stdout",
     "output_type": "stream",
     "text": [
      "\u001b[32m[0114 20:57:05 @saver.py:79]\u001b[0m Model saved to .//Model//temp_model\\TGAN7\\model\\model-1620.\n",
      "\u001b[32m[0114 20:57:05 @monitor.py:467]\u001b[0m GAN_loss/discrim/accuracy_fake: 0.856\n",
      "\u001b[32m[0114 20:57:05 @monitor.py:467]\u001b[0m GAN_loss/discrim/accuracy_real: 0.214\n",
      "\u001b[32m[0114 20:57:05 @monitor.py:467]\u001b[0m GAN_loss/discrim/loss: 0.64458\n",
      "\u001b[32m[0114 20:57:05 @monitor.py:467]\u001b[0m GAN_loss/gen/final-g-loss: 1.0193\n",
      "\u001b[32m[0114 20:57:05 @monitor.py:467]\u001b[0m GAN_loss/gen/klloss: 0.031936\n",
      "\u001b[32m[0114 20:57:05 @monitor.py:467]\u001b[0m GAN_loss/gen/loss: 0.98739\n",
      "\u001b[32m[0114 20:57:05 @monitor.py:467]\u001b[0m QueueInput/queue_size: 50\n",
      "\u001b[32m[0114 20:57:05 @base.py:275]\u001b[0m Start Epoch 28 ...\n"
     ]
    },
    {
     "name": "stderr",
     "output_type": "stream",
     "text": [
      "100%|#####################################################################################|60/60[01:09<00:00, 0.86it/s]"
     ]
    },
    {
     "name": "stdout",
     "output_type": "stream",
     "text": [
      "\u001b[32m[0114 20:58:15 @base.py:285]\u001b[0m Epoch 28 (global_step 1680) finished, time:1 minute 9 seconds.\n"
     ]
    },
    {
     "name": "stderr",
     "output_type": "stream",
     "text": [
      "\n"
     ]
    },
    {
     "name": "stdout",
     "output_type": "stream",
     "text": [
      "\u001b[32m[0114 20:58:16 @saver.py:79]\u001b[0m Model saved to .//Model//temp_model\\TGAN7\\model\\model-1680.\n",
      "\u001b[32m[0114 20:58:16 @monitor.py:467]\u001b[0m GAN_loss/discrim/accuracy_fake: 0.898\n",
      "\u001b[32m[0114 20:58:16 @monitor.py:467]\u001b[0m GAN_loss/discrim/accuracy_real: 0.222\n",
      "\u001b[32m[0114 20:58:16 @monitor.py:467]\u001b[0m GAN_loss/discrim/loss: 0.63578\n",
      "\u001b[32m[0114 20:58:16 @monitor.py:467]\u001b[0m GAN_loss/gen/final-g-loss: 1.042\n",
      "\u001b[32m[0114 20:58:16 @monitor.py:467]\u001b[0m GAN_loss/gen/klloss: 0.03238\n",
      "\u001b[32m[0114 20:58:16 @monitor.py:467]\u001b[0m GAN_loss/gen/loss: 1.0096\n",
      "\u001b[32m[0114 20:58:16 @monitor.py:467]\u001b[0m QueueInput/queue_size: 50\n",
      "\u001b[32m[0114 20:58:16 @base.py:275]\u001b[0m Start Epoch 29 ...\n"
     ]
    },
    {
     "name": "stderr",
     "output_type": "stream",
     "text": [
      "100%|#####################################################################################|60/60[01:08<00:00, 0.88it/s]"
     ]
    },
    {
     "name": "stdout",
     "output_type": "stream",
     "text": [
      "\u001b[32m[0114 20:59:24 @base.py:285]\u001b[0m Epoch 29 (global_step 1740) finished, time:1 minute 8 seconds.\n"
     ]
    },
    {
     "name": "stderr",
     "output_type": "stream",
     "text": [
      "\n"
     ]
    },
    {
     "name": "stdout",
     "output_type": "stream",
     "text": [
      "\u001b[32m[0114 20:59:25 @saver.py:79]\u001b[0m Model saved to .//Model//temp_model\\TGAN7\\model\\model-1740.\n",
      "\u001b[32m[0114 20:59:25 @monitor.py:467]\u001b[0m GAN_loss/discrim/accuracy_fake: 0.846\n",
      "\u001b[32m[0114 20:59:25 @monitor.py:467]\u001b[0m GAN_loss/discrim/accuracy_real: 0.25\n",
      "\u001b[32m[0114 20:59:25 @monitor.py:467]\u001b[0m GAN_loss/discrim/loss: 0.64534\n",
      "\u001b[32m[0114 20:59:25 @monitor.py:467]\u001b[0m GAN_loss/gen/final-g-loss: 0.9975\n",
      "\u001b[32m[0114 20:59:25 @monitor.py:467]\u001b[0m GAN_loss/gen/klloss: 0.034402\n",
      "\u001b[32m[0114 20:59:25 @monitor.py:467]\u001b[0m GAN_loss/gen/loss: 0.96309\n",
      "\u001b[32m[0114 20:59:25 @monitor.py:467]\u001b[0m QueueInput/queue_size: 50\n",
      "\u001b[32m[0114 20:59:25 @base.py:275]\u001b[0m Start Epoch 30 ...\n"
     ]
    },
    {
     "name": "stderr",
     "output_type": "stream",
     "text": [
      "100%|#####################################################################################|60/60[01:07<00:00, 0.89it/s]"
     ]
    },
    {
     "name": "stdout",
     "output_type": "stream",
     "text": [
      "\u001b[32m[0114 21:00:32 @base.py:285]\u001b[0m Epoch 30 (global_step 1800) finished, time:1 minute 7 seconds.\n"
     ]
    },
    {
     "name": "stderr",
     "output_type": "stream",
     "text": [
      "\n"
     ]
    },
    {
     "name": "stdout",
     "output_type": "stream",
     "text": [
      "\u001b[32m[0114 21:00:33 @saver.py:79]\u001b[0m Model saved to .//Model//temp_model\\TGAN7\\model\\model-1800.\n",
      "\u001b[32m[0114 21:00:33 @monitor.py:467]\u001b[0m GAN_loss/discrim/accuracy_fake: 0.878\n",
      "\u001b[32m[0114 21:00:33 @monitor.py:467]\u001b[0m GAN_loss/discrim/accuracy_real: 0.23\n",
      "\u001b[32m[0114 21:00:33 @monitor.py:467]\u001b[0m GAN_loss/discrim/loss: 0.64546\n",
      "\u001b[32m[0114 21:00:33 @monitor.py:467]\u001b[0m GAN_loss/gen/final-g-loss: 1.0186\n",
      "\u001b[32m[0114 21:00:33 @monitor.py:467]\u001b[0m GAN_loss/gen/klloss: 0.042\n",
      "\u001b[32m[0114 21:00:33 @monitor.py:467]\u001b[0m GAN_loss/gen/loss: 0.97656\n",
      "\u001b[32m[0114 21:00:33 @monitor.py:467]\u001b[0m QueueInput/queue_size: 50\n",
      "\u001b[32m[0114 21:00:33 @base.py:275]\u001b[0m Start Epoch 31 ...\n"
     ]
    },
    {
     "name": "stderr",
     "output_type": "stream",
     "text": [
      "100%|#####################################################################################|60/60[01:07<00:00, 0.90it/s]"
     ]
    },
    {
     "name": "stdout",
     "output_type": "stream",
     "text": [
      "\u001b[32m[0114 21:01:40 @base.py:285]\u001b[0m Epoch 31 (global_step 1860) finished, time:1 minute 7 seconds.\n"
     ]
    },
    {
     "name": "stderr",
     "output_type": "stream",
     "text": [
      "\n"
     ]
    },
    {
     "name": "stdout",
     "output_type": "stream",
     "text": [
      "\u001b[32m[0114 21:01:41 @saver.py:79]\u001b[0m Model saved to .//Model//temp_model\\TGAN7\\model\\model-1860.\n",
      "\u001b[32m[0114 21:01:41 @monitor.py:467]\u001b[0m GAN_loss/discrim/accuracy_fake: 0.86\n",
      "\u001b[32m[0114 21:01:41 @monitor.py:467]\u001b[0m GAN_loss/discrim/accuracy_real: 0.212\n",
      "\u001b[32m[0114 21:01:41 @monitor.py:467]\u001b[0m GAN_loss/discrim/loss: 0.64511\n",
      "\u001b[32m[0114 21:01:41 @monitor.py:467]\u001b[0m GAN_loss/gen/final-g-loss: 1.0224\n",
      "\u001b[32m[0114 21:01:41 @monitor.py:467]\u001b[0m GAN_loss/gen/klloss: 0.051977\n",
      "\u001b[32m[0114 21:01:41 @monitor.py:467]\u001b[0m GAN_loss/gen/loss: 0.97045\n",
      "\u001b[32m[0114 21:01:41 @monitor.py:467]\u001b[0m QueueInput/queue_size: 50\n",
      "\u001b[32m[0114 21:01:41 @base.py:275]\u001b[0m Start Epoch 32 ...\n"
     ]
    },
    {
     "name": "stderr",
     "output_type": "stream",
     "text": [
      "100%|#####################################################################################|60/60[01:07<00:00, 0.89it/s]"
     ]
    },
    {
     "name": "stdout",
     "output_type": "stream",
     "text": [
      "\u001b[32m[0114 21:02:48 @base.py:285]\u001b[0m Epoch 32 (global_step 1920) finished, time:1 minute 7 seconds.\n"
     ]
    },
    {
     "name": "stderr",
     "output_type": "stream",
     "text": [
      "\n"
     ]
    },
    {
     "name": "stdout",
     "output_type": "stream",
     "text": [
      "\u001b[32m[0114 21:02:49 @saver.py:79]\u001b[0m Model saved to .//Model//temp_model\\TGAN7\\model\\model-1920.\n",
      "\u001b[32m[0114 21:02:49 @monitor.py:467]\u001b[0m GAN_loss/discrim/accuracy_fake: 0.874\n",
      "\u001b[32m[0114 21:02:49 @monitor.py:467]\u001b[0m GAN_loss/discrim/accuracy_real: 0.242\n",
      "\u001b[32m[0114 21:02:49 @monitor.py:467]\u001b[0m GAN_loss/discrim/loss: 0.64028\n",
      "\u001b[32m[0114 21:02:49 @monitor.py:467]\u001b[0m GAN_loss/gen/final-g-loss: 0.99106\n",
      "\u001b[32m[0114 21:02:49 @monitor.py:467]\u001b[0m GAN_loss/gen/klloss: 0.029953\n",
      "\u001b[32m[0114 21:02:49 @monitor.py:467]\u001b[0m GAN_loss/gen/loss: 0.9611\n",
      "\u001b[32m[0114 21:02:49 @monitor.py:467]\u001b[0m QueueInput/queue_size: 50\n",
      "\u001b[32m[0114 21:02:49 @base.py:275]\u001b[0m Start Epoch 33 ...\n"
     ]
    },
    {
     "name": "stderr",
     "output_type": "stream",
     "text": [
      "100%|#####################################################################################|60/60[01:08<00:00, 0.87it/s]"
     ]
    },
    {
     "name": "stdout",
     "output_type": "stream",
     "text": [
      "\u001b[32m[0114 21:03:58 @base.py:285]\u001b[0m Epoch 33 (global_step 1980) finished, time:1 minute 8 seconds.\n"
     ]
    },
    {
     "name": "stderr",
     "output_type": "stream",
     "text": [
      "\n"
     ]
    },
    {
     "name": "stdout",
     "output_type": "stream",
     "text": [
      "\u001b[32m[0114 21:03:59 @saver.py:79]\u001b[0m Model saved to .//Model//temp_model\\TGAN7\\model\\model-1980.\n",
      "\u001b[32m[0114 21:03:59 @monitor.py:467]\u001b[0m GAN_loss/discrim/accuracy_fake: 0.87\n",
      "\u001b[32m[0114 21:03:59 @monitor.py:467]\u001b[0m GAN_loss/discrim/accuracy_real: 0.222\n",
      "\u001b[32m[0114 21:03:59 @monitor.py:467]\u001b[0m GAN_loss/discrim/loss: 0.64141\n",
      "\u001b[32m[0114 21:03:59 @monitor.py:467]\u001b[0m GAN_loss/gen/final-g-loss: 1.0023\n",
      "\u001b[32m[0114 21:03:59 @monitor.py:467]\u001b[0m GAN_loss/gen/klloss: 0.040773\n",
      "\u001b[32m[0114 21:03:59 @monitor.py:467]\u001b[0m GAN_loss/gen/loss: 0.96153\n",
      "\u001b[32m[0114 21:03:59 @monitor.py:467]\u001b[0m QueueInput/queue_size: 50\n",
      "\u001b[32m[0114 21:03:59 @base.py:275]\u001b[0m Start Epoch 34 ...\n"
     ]
    },
    {
     "name": "stderr",
     "output_type": "stream",
     "text": [
      "100%|#####################################################################################|60/60[01:11<00:00, 0.84it/s]"
     ]
    },
    {
     "name": "stdout",
     "output_type": "stream",
     "text": [
      "\u001b[32m[0114 21:05:10 @base.py:285]\u001b[0m Epoch 34 (global_step 2040) finished, time:1 minute 11 seconds.\n"
     ]
    },
    {
     "name": "stderr",
     "output_type": "stream",
     "text": [
      "\n"
     ]
    },
    {
     "name": "stdout",
     "output_type": "stream",
     "text": [
      "\u001b[32m[0114 21:05:11 @saver.py:79]\u001b[0m Model saved to .//Model//temp_model\\TGAN7\\model\\model-2040.\n",
      "\u001b[32m[0114 21:05:11 @monitor.py:467]\u001b[0m GAN_loss/discrim/accuracy_fake: 0.89\n",
      "\u001b[32m[0114 21:05:11 @monitor.py:467]\u001b[0m GAN_loss/discrim/accuracy_real: 0.188\n",
      "\u001b[32m[0114 21:05:11 @monitor.py:467]\u001b[0m GAN_loss/discrim/loss: 0.64103\n",
      "\u001b[32m[0114 21:05:11 @monitor.py:467]\u001b[0m GAN_loss/gen/final-g-loss: 1.0027\n",
      "\u001b[32m[0114 21:05:11 @monitor.py:467]\u001b[0m GAN_loss/gen/klloss: 0.036277\n",
      "\u001b[32m[0114 21:05:11 @monitor.py:467]\u001b[0m GAN_loss/gen/loss: 0.96645\n",
      "\u001b[32m[0114 21:05:11 @monitor.py:467]\u001b[0m QueueInput/queue_size: 50\n",
      "\u001b[32m[0114 21:05:11 @base.py:275]\u001b[0m Start Epoch 35 ...\n"
     ]
    },
    {
     "name": "stderr",
     "output_type": "stream",
     "text": [
      "100%|#####################################################################################|60/60[01:09<00:00, 0.86it/s]"
     ]
    },
    {
     "name": "stdout",
     "output_type": "stream",
     "text": [
      "\u001b[32m[0114 21:06:20 @base.py:285]\u001b[0m Epoch 35 (global_step 2100) finished, time:1 minute 9 seconds.\n"
     ]
    },
    {
     "name": "stderr",
     "output_type": "stream",
     "text": [
      "\n"
     ]
    },
    {
     "name": "stdout",
     "output_type": "stream",
     "text": [
      "\u001b[32m[0114 21:06:21 @saver.py:79]\u001b[0m Model saved to .//Model//temp_model\\TGAN7\\model\\model-2100.\n",
      "\u001b[32m[0114 21:06:21 @monitor.py:467]\u001b[0m GAN_loss/discrim/accuracy_fake: 0.878\n",
      "\u001b[32m[0114 21:06:21 @monitor.py:467]\u001b[0m GAN_loss/discrim/accuracy_real: 0.17\n",
      "\u001b[32m[0114 21:06:21 @monitor.py:467]\u001b[0m GAN_loss/discrim/loss: 0.6421\n",
      "\u001b[32m[0114 21:06:21 @monitor.py:467]\u001b[0m GAN_loss/gen/final-g-loss: 0.99824\n",
      "\u001b[32m[0114 21:06:21 @monitor.py:467]\u001b[0m GAN_loss/gen/klloss: 0.038584\n",
      "\u001b[32m[0114 21:06:21 @monitor.py:467]\u001b[0m GAN_loss/gen/loss: 0.95966\n",
      "\u001b[32m[0114 21:06:21 @monitor.py:467]\u001b[0m QueueInput/queue_size: 50\n",
      "\u001b[32m[0114 21:06:21 @base.py:275]\u001b[0m Start Epoch 36 ...\n"
     ]
    },
    {
     "name": "stderr",
     "output_type": "stream",
     "text": [
      "100%|#####################################################################################|60/60[01:10<00:00, 0.85it/s]"
     ]
    },
    {
     "name": "stdout",
     "output_type": "stream",
     "text": [
      "\u001b[32m[0114 21:07:31 @base.py:285]\u001b[0m Epoch 36 (global_step 2160) finished, time:1 minute 10 seconds.\n"
     ]
    },
    {
     "name": "stderr",
     "output_type": "stream",
     "text": [
      "\n"
     ]
    },
    {
     "name": "stdout",
     "output_type": "stream",
     "text": [
      "\u001b[32m[0114 21:07:32 @saver.py:79]\u001b[0m Model saved to .//Model//temp_model\\TGAN7\\model\\model-2160.\n",
      "\u001b[32m[0114 21:07:32 @monitor.py:467]\u001b[0m GAN_loss/discrim/accuracy_fake: 0.876\n",
      "\u001b[32m[0114 21:07:32 @monitor.py:467]\u001b[0m GAN_loss/discrim/accuracy_real: 0.196\n",
      "\u001b[32m[0114 21:07:32 @monitor.py:467]\u001b[0m GAN_loss/discrim/loss: 0.64448\n",
      "\u001b[32m[0114 21:07:32 @monitor.py:467]\u001b[0m GAN_loss/gen/final-g-loss: 0.97924\n",
      "\u001b[32m[0114 21:07:32 @monitor.py:467]\u001b[0m GAN_loss/gen/klloss: 0.029248\n",
      "\u001b[32m[0114 21:07:32 @monitor.py:467]\u001b[0m GAN_loss/gen/loss: 0.95\n",
      "\u001b[32m[0114 21:07:32 @monitor.py:467]\u001b[0m QueueInput/queue_size: 50\n",
      "\u001b[32m[0114 21:07:32 @base.py:275]\u001b[0m Start Epoch 37 ...\n"
     ]
    },
    {
     "name": "stderr",
     "output_type": "stream",
     "text": [
      "100%|#####################################################################################|60/60[01:10<00:00, 0.85it/s]"
     ]
    },
    {
     "name": "stdout",
     "output_type": "stream",
     "text": [
      "\u001b[32m[0114 21:08:42 @base.py:285]\u001b[0m Epoch 37 (global_step 2220) finished, time:1 minute 10 seconds.\n"
     ]
    },
    {
     "name": "stderr",
     "output_type": "stream",
     "text": [
      "\n"
     ]
    },
    {
     "name": "stdout",
     "output_type": "stream",
     "text": [
      "\u001b[32m[0114 21:08:44 @saver.py:79]\u001b[0m Model saved to .//Model//temp_model\\TGAN7\\model\\model-2220.\n",
      "\u001b[32m[0114 21:08:44 @monitor.py:467]\u001b[0m GAN_loss/discrim/accuracy_fake: 0.912\n",
      "\u001b[32m[0114 21:08:44 @monitor.py:467]\u001b[0m GAN_loss/discrim/accuracy_real: 0.19\n",
      "\u001b[32m[0114 21:08:44 @monitor.py:467]\u001b[0m GAN_loss/discrim/loss: 0.63404\n",
      "\u001b[32m[0114 21:08:44 @monitor.py:467]\u001b[0m GAN_loss/gen/final-g-loss: 0.99722\n",
      "\u001b[32m[0114 21:08:44 @monitor.py:467]\u001b[0m GAN_loss/gen/klloss: 0.024859\n",
      "\u001b[32m[0114 21:08:44 @monitor.py:467]\u001b[0m GAN_loss/gen/loss: 0.97236\n",
      "\u001b[32m[0114 21:08:44 @monitor.py:467]\u001b[0m QueueInput/queue_size: 50\n",
      "\u001b[32m[0114 21:08:44 @base.py:275]\u001b[0m Start Epoch 38 ...\n"
     ]
    },
    {
     "name": "stderr",
     "output_type": "stream",
     "text": [
      "100%|#####################################################################################|60/60[01:08<00:00, 0.88it/s]"
     ]
    },
    {
     "name": "stdout",
     "output_type": "stream",
     "text": [
      "\u001b[32m[0114 21:09:52 @base.py:285]\u001b[0m Epoch 38 (global_step 2280) finished, time:1 minute 8 seconds.\n"
     ]
    },
    {
     "name": "stderr",
     "output_type": "stream",
     "text": [
      "\n"
     ]
    },
    {
     "name": "stdout",
     "output_type": "stream",
     "text": [
      "\u001b[32m[0114 21:09:53 @saver.py:79]\u001b[0m Model saved to .//Model//temp_model\\TGAN7\\model\\model-2280.\n",
      "\u001b[32m[0114 21:09:53 @monitor.py:467]\u001b[0m GAN_loss/discrim/accuracy_fake: 0.904\n",
      "\u001b[32m[0114 21:09:53 @monitor.py:467]\u001b[0m GAN_loss/discrim/accuracy_real: 0.17\n",
      "\u001b[32m[0114 21:09:53 @monitor.py:467]\u001b[0m GAN_loss/discrim/loss: 0.64236\n",
      "\u001b[32m[0114 21:09:53 @monitor.py:467]\u001b[0m GAN_loss/gen/final-g-loss: 0.98949\n",
      "\u001b[32m[0114 21:09:53 @monitor.py:467]\u001b[0m GAN_loss/gen/klloss: 0.02835\n",
      "\u001b[32m[0114 21:09:53 @monitor.py:467]\u001b[0m GAN_loss/gen/loss: 0.96114\n",
      "\u001b[32m[0114 21:09:53 @monitor.py:467]\u001b[0m QueueInput/queue_size: 50\n",
      "\u001b[32m[0114 21:09:53 @base.py:275]\u001b[0m Start Epoch 39 ...\n"
     ]
    },
    {
     "name": "stderr",
     "output_type": "stream",
     "text": [
      "100%|#####################################################################################|60/60[01:09<00:00, 0.86it/s]"
     ]
    },
    {
     "name": "stdout",
     "output_type": "stream",
     "text": [
      "\u001b[32m[0114 21:11:03 @base.py:285]\u001b[0m Epoch 39 (global_step 2340) finished, time:1 minute 9 seconds.\n"
     ]
    },
    {
     "name": "stderr",
     "output_type": "stream",
     "text": [
      "\n"
     ]
    },
    {
     "name": "stdout",
     "output_type": "stream",
     "text": [
      "\u001b[32m[0114 21:11:03 @saver.py:79]\u001b[0m Model saved to .//Model//temp_model\\TGAN7\\model\\model-2340.\n",
      "\u001b[32m[0114 21:11:03 @monitor.py:467]\u001b[0m GAN_loss/discrim/accuracy_fake: 0.886\n",
      "\u001b[32m[0114 21:11:03 @monitor.py:467]\u001b[0m GAN_loss/discrim/accuracy_real: 0.16\n",
      "\u001b[32m[0114 21:11:03 @monitor.py:467]\u001b[0m GAN_loss/discrim/loss: 0.64313\n",
      "\u001b[32m[0114 21:11:03 @monitor.py:467]\u001b[0m GAN_loss/gen/final-g-loss: 0.99356\n",
      "\u001b[32m[0114 21:11:03 @monitor.py:467]\u001b[0m GAN_loss/gen/klloss: 0.03506\n",
      "\u001b[32m[0114 21:11:03 @monitor.py:467]\u001b[0m GAN_loss/gen/loss: 0.9585\n",
      "\u001b[32m[0114 21:11:03 @monitor.py:467]\u001b[0m QueueInput/queue_size: 50\n",
      "\u001b[32m[0114 21:11:03 @base.py:275]\u001b[0m Start Epoch 40 ...\n"
     ]
    },
    {
     "name": "stderr",
     "output_type": "stream",
     "text": [
      "100%|#####################################################################################|60/60[01:09<00:00, 0.87it/s]"
     ]
    },
    {
     "name": "stdout",
     "output_type": "stream",
     "text": [
      "\u001b[32m[0114 21:12:12 @base.py:285]\u001b[0m Epoch 40 (global_step 2400) finished, time:1 minute 9 seconds.\n"
     ]
    },
    {
     "name": "stderr",
     "output_type": "stream",
     "text": [
      "\n"
     ]
    },
    {
     "name": "stdout",
     "output_type": "stream",
     "text": [
      "\u001b[32m[0114 21:12:13 @saver.py:79]\u001b[0m Model saved to .//Model//temp_model\\TGAN7\\model\\model-2400.\n",
      "\u001b[32m[0114 21:12:13 @monitor.py:467]\u001b[0m GAN_loss/discrim/accuracy_fake: 0.896\n",
      "\u001b[32m[0114 21:12:13 @monitor.py:467]\u001b[0m GAN_loss/discrim/accuracy_real: 0.154\n",
      "\u001b[32m[0114 21:12:13 @monitor.py:467]\u001b[0m GAN_loss/discrim/loss: 0.64704\n",
      "\u001b[32m[0114 21:12:13 @monitor.py:467]\u001b[0m GAN_loss/gen/final-g-loss: 0.9727\n",
      "\u001b[32m[0114 21:12:13 @monitor.py:467]\u001b[0m GAN_loss/gen/klloss: 0.028945\n",
      "\u001b[32m[0114 21:12:13 @monitor.py:467]\u001b[0m GAN_loss/gen/loss: 0.94375\n",
      "\u001b[32m[0114 21:12:13 @monitor.py:467]\u001b[0m QueueInput/queue_size: 50\n",
      "\u001b[32m[0114 21:12:13 @base.py:289]\u001b[0m Training has finished!\n",
      "\u001b[32m[0114 21:12:13 @input_source.py:178]\u001b[0m EnqueueThread QueueInput/input_queue Exited.\n",
      "\u001b[32m[0114 21:12:14 @collection.py:146]\u001b[0m New collections created in tower : tf.GraphKeys.REGULARIZATION_LOSSES\n",
      "\u001b[32m[0114 21:12:14 @collection.py:165]\u001b[0m These collections were modified but restored in : (tf.GraphKeys.SUMMARIES: 0->2)\n",
      "\u001b[32m[0114 21:12:14 @sessinit.py:87]\u001b[0m \u001b[5m\u001b[31mWRN\u001b[0m The following variables are in the checkpoint, but not found in the graph: global_step, optimize/beta1_power, optimize/beta2_power\n",
      "INFO:tensorflow:Graph was finalized.\n",
      "INFO:tensorflow:Running local_init_op.\n",
      "INFO:tensorflow:Done running local_init_op.\n",
      "\u001b[32m[0114 21:12:15 @sessinit.py:114]\u001b[0m Restoring checkpoint from .//Model//temp_model\\TGAN7\\model\\model-2400 ...\n",
      "INFO:tensorflow:Restoring parameters from .//Model//temp_model\\TGAN7\\model\\model-2400\n"
     ]
    },
    {
     "name": "stderr",
     "output_type": "stream",
     "text": [
      " 12%|#########9                                                                          |59/500[00:16<02:04, 3.54it/s]\n"
     ]
    },
    {
     "name": "stdout",
     "output_type": "stream",
     "text": [
      "\u001b[32m[0114 21:12:32 @input_source.py:222]\u001b[0m Setting up the queue 'QueueInput/input_queue' for CPU prefetching ...\n",
      "\u001b[32m[0114 21:12:37 @logger.py:90]\u001b[0m Argv: C:\\Users\\Arne\\anaconda3\\envs\\tfv1\\lib\\site-packages\\ipykernel_launcher.py -f C:\\Users\\Arne\\AppData\\Roaming\\jupyter\\runtime\\kernel-95c990b4-007f-4c92-b889-4b29f1351785.json\n",
      "\u001b[32m[0114 21:12:37 @model_utils.py:67]\u001b[0m \u001b[36mList of Trainable Variables: \n",
      "\u001b[0mname                              shape           #elements\n",
      "--------------------------------  ------------  -----------\n",
      "gen/LSTM/go:0                     [1, 100]              100\n",
      "gen/LSTM/lstm_cell/kernel:0       [500, 400]         200000\n",
      "gen/LSTM/lstm_cell/bias:0         [400]                 400\n",
      "gen/LSTM/00/FC/W:0                [100, 100]          10000\n",
      "gen/LSTM/00/FC/b:0                [100]                 100\n",
      "gen/LSTM/00/FC2/W:0               [100, 72]            7200\n",
      "gen/LSTM/00/FC2/b:0               [72]                   72\n",
      "gen/LSTM/00/FC3/W:0               [72, 100]            7200\n",
      "gen/LSTM/00/FC3/b:0               [100]                 100\n",
      "gen/LSTM/00/attw:0                [1, 1, 1]               1\n",
      "gen/LSTM/01/FC/W:0                [100, 100]          10000\n",
      "gen/LSTM/01/FC/b:0                [100]                 100\n",
      "gen/LSTM/01/FC2/W:0               [100, 5]              500\n",
      "gen/LSTM/01/FC2/b:0               [5]                     5\n",
      "gen/LSTM/01/FC3/W:0               [5, 100]              500\n",
      "gen/LSTM/01/FC3/b:0               [100]                 100\n",
      "gen/LSTM/01/attw:0                [2, 1, 1]               2\n",
      "gen/LSTM/02/FC/W:0                [100, 100]          10000\n",
      "gen/LSTM/02/FC/b:0                [100]                 100\n",
      "gen/LSTM/02/FC2/W:0               [100, 20263]      2026300\n",
      "gen/LSTM/02/FC2/b:0               [20263]             20263\n",
      "gen/LSTM/02/FC3/W:0               [20263, 100]      2026300\n",
      "gen/LSTM/02/FC3/b:0               [100]                 100\n",
      "gen/LSTM/02/attw:0                [3, 1, 1]               3\n",
      "gen/LSTM/03/FC/W:0                [100, 100]          10000\n",
      "gen/LSTM/03/FC/b:0                [100]                 100\n",
      "gen/LSTM/03/FC2/W:0               [100, 9]              900\n",
      "gen/LSTM/03/FC2/b:0               [9]                     9\n",
      "gen/LSTM/03/FC3/W:0               [9, 100]              900\n",
      "gen/LSTM/03/FC3/b:0               [100]                 100\n",
      "gen/LSTM/03/attw:0                [4, 1, 1]               4\n",
      "gen/LSTM/04/FC/W:0                [100, 100]          10000\n",
      "gen/LSTM/04/FC/b:0                [100]                 100\n",
      "gen/LSTM/04/FC2/W:0               [100, 16]            1600\n",
      "gen/LSTM/04/FC2/b:0               [16]                   16\n",
      "gen/LSTM/04/FC3/W:0               [16, 100]            1600\n",
      "gen/LSTM/04/FC3/b:0               [100]                 100\n",
      "gen/LSTM/04/attw:0                [5, 1, 1]               5\n",
      "gen/LSTM/05/FC/W:0                [100, 100]          10000\n",
      "gen/LSTM/05/FC/b:0                [100]                 100\n",
      "gen/LSTM/05/FC2/W:0               [100, 5]              500\n",
      "gen/LSTM/05/FC2/b:0               [5]                     5\n",
      "gen/LSTM/05/FC3/W:0               [5, 100]              500\n",
      "gen/LSTM/05/FC3/b:0               [100]                 100\n",
      "gen/LSTM/05/attw:0                [6, 1, 1]               6\n",
      "gen/LSTM/06/FC/W:0                [100, 100]          10000\n",
      "gen/LSTM/06/FC/b:0                [100]                 100\n",
      "gen/LSTM/06/FC2/W:0               [100, 14]            1400\n",
      "gen/LSTM/06/FC2/b:0               [14]                   14\n",
      "gen/LSTM/06/FC3/W:0               [14, 100]            1400\n",
      "gen/LSTM/06/FC3/b:0               [100]                 100\n",
      "gen/LSTM/06/attw:0                [7, 1, 1]               7\n",
      "gen/LSTM/07/FC/W:0                [100, 100]          10000\n",
      "gen/LSTM/07/FC/b:0                [100]                 100\n",
      "gen/LSTM/07/FC2/W:0               [100, 5]              500\n",
      "gen/LSTM/07/FC2/b:0               [5]                     5\n",
      "gen/LSTM/07/FC3/W:0               [5, 100]              500\n",
      "gen/LSTM/07/FC3/b:0               [100]                 100\n",
      "gen/LSTM/07/attw:0                [8, 1, 1]               8\n",
      "gen/LSTM/08/FC/W:0                [100, 100]          10000\n",
      "gen/LSTM/08/FC/b:0                [100]                 100\n",
      "gen/LSTM/08/FC2/W:0               [100, 2]              200\n",
      "gen/LSTM/08/FC2/b:0               [2]                     2\n",
      "gen/LSTM/08/FC3/W:0               [2, 100]              200\n",
      "gen/LSTM/08/FC3/b:0               [100]                 100\n",
      "gen/LSTM/08/attw:0                [9, 1, 1]               9\n",
      "gen/LSTM/09/FC/W:0                [100, 100]          10000\n",
      "gen/LSTM/09/FC/b:0                [100]                 100\n",
      "gen/LSTM/09/FC2/W:0               [100, 118]          11800\n",
      "gen/LSTM/09/FC2/b:0               [118]                 118\n",
      "gen/LSTM/09/FC3/W:0               [118, 100]          11800\n",
      "gen/LSTM/09/FC3/b:0               [100]                 100\n",
      "gen/LSTM/09/attw:0                [10, 1, 1]             10\n",
      "gen/LSTM/10/FC/W:0                [100, 100]          10000\n",
      "gen/LSTM/10/FC/b:0                [100]                 100\n",
      "gen/LSTM/10/FC2/W:0               [100, 90]            9000\n",
      "gen/LSTM/10/FC2/b:0               [90]                   90\n",
      "gen/LSTM/10/FC3/W:0               [90, 100]            9000\n",
      "gen/LSTM/10/FC3/b:0               [100]                 100\n",
      "gen/LSTM/10/attw:0                [11, 1, 1]             11\n",
      "gen/LSTM/11/FC/W:0                [100, 100]          10000\n",
      "gen/LSTM/11/FC/b:0                [100]                 100\n",
      "gen/LSTM/11/FC2/W:0               [100, 94]            9400\n",
      "gen/LSTM/11/FC2/b:0               [94]                   94\n",
      "gen/LSTM/11/FC3/W:0               [94, 100]            9400\n",
      "gen/LSTM/11/FC3/b:0               [100]                 100\n",
      "gen/LSTM/11/attw:0                [12, 1, 1]             12\n",
      "gen/LSTM/12/FC/W:0                [100, 100]          10000\n",
      "gen/LSTM/12/FC/b:0                [100]                 100\n",
      "gen/LSTM/12/FC2/W:0               [100, 2]              200\n",
      "gen/LSTM/12/FC2/b:0               [2]                     2\n",
      "gen/LSTM/12/FC3/W:0               [2, 100]              200\n",
      "gen/LSTM/12/FC3/b:0               [100]                 100\n",
      "gen/LSTM/12/attw:0                [13, 1, 1]             13\n",
      "gen/LSTM/13/FC/W:0                [100, 100]          10000\n",
      "gen/LSTM/13/FC/b:0                [100]                 100\n",
      "gen/LSTM/13/FC2/W:0               [100, 2]              200\n",
      "gen/LSTM/13/FC2/b:0               [2]                     2\n",
      "gen/LSTM/13/FC3/W:0               [2, 100]              200\n",
      "gen/LSTM/13/FC3/b:0               [100]                 100\n",
      "gen/LSTM/13/attw:0                [14, 1, 1]             14\n",
      "discrim/dis_fc0/fc/W:0            [20697, 256]      5298432\n",
      "discrim/dis_fc0/fc/b:0            [256]                 256\n",
      "discrim/dis_fc0/fc_diversity/W:0  [256, 100]          25600\n",
      "discrim/dis_fc0/fc_diversity/b:0  [100]                 100\n",
      "discrim/dis_fc0/bn/beta:0         [266]                 266\n",
      "discrim/dis_fc_top/W:0            [266, 1]              266\n",
      "discrim/dis_fc_top/b:0            [1]                     1\u001b[36m\n",
      "Number of trainable variables: 108\n",
      "Number of parameters (elements): 9828423\n",
      "Storage space needed for all trainable variables: 37.49MB\u001b[0m\n",
      "\u001b[32m[0114 21:12:37 @base.py:209]\u001b[0m Setup callbacks graph ...\n",
      "\u001b[32m[0114 21:12:37 @summary.py:46]\u001b[0m [MovingAverageSummary] 6 operations in collection 'MOVING_SUMMARY_OPS' will be run with session hooks.\n",
      "\u001b[32m[0114 21:12:37 @summary.py:93]\u001b[0m Summarizing collection 'summaries' of size 9.\n",
      "\u001b[32m[0114 21:12:37 @graph.py:98]\u001b[0m Applying collection UPDATE_OPS of 4 ops.\n",
      "\u001b[32m[0114 21:12:38 @base.py:230]\u001b[0m Creating the session ...\n",
      "\u001b[32m[0114 21:12:40 @base.py:236]\u001b[0m Initializing the session ...\n",
      "\u001b[32m[0114 21:12:40 @base.py:243]\u001b[0m Graph Finalized.\n",
      "\u001b[32m[0114 21:12:40 @concurrency.py:38]\u001b[0m Starting EnqueueThread QueueInput/input_queue ...\n",
      "\u001b[32m[0114 21:12:40 @base.py:275]\u001b[0m Start Epoch 1 ...\n"
     ]
    },
    {
     "name": "stderr",
     "output_type": "stream",
     "text": [
      "100%|#####################################################################################|60/60[01:11<00:00, 0.84it/s]"
     ]
    },
    {
     "name": "stdout",
     "output_type": "stream",
     "text": [
      "\u001b[32m[0114 21:13:52 @base.py:285]\u001b[0m Epoch 1 (global_step 60) finished, time:1 minute 11 seconds.\n"
     ]
    },
    {
     "name": "stderr",
     "output_type": "stream",
     "text": [
      "\n"
     ]
    },
    {
     "name": "stdout",
     "output_type": "stream",
     "text": [
      "\u001b[32m[0114 21:13:53 @saver.py:79]\u001b[0m Model saved to .//Model//temp_model\\TGAN8\\model\\model-60.\n",
      "\u001b[32m[0114 21:13:53 @monitor.py:467]\u001b[0m GAN_loss/discrim/accuracy_fake: 0.684\n",
      "\u001b[32m[0114 21:13:53 @monitor.py:467]\u001b[0m GAN_loss/discrim/accuracy_real: 0.346\n",
      "\u001b[32m[0114 21:13:53 @monitor.py:467]\u001b[0m GAN_loss/discrim/loss: 0.74355\n",
      "\u001b[32m[0114 21:13:53 @monitor.py:467]\u001b[0m GAN_loss/gen/final-g-loss: 1.141\n",
      "\u001b[32m[0114 21:13:53 @monitor.py:467]\u001b[0m GAN_loss/gen/klloss: 0.020836\n",
      "\u001b[32m[0114 21:13:53 @monitor.py:467]\u001b[0m GAN_loss/gen/loss: 1.1202\n",
      "\u001b[32m[0114 21:13:53 @monitor.py:467]\u001b[0m QueueInput/queue_size: 50\n",
      "\u001b[32m[0114 21:13:53 @base.py:275]\u001b[0m Start Epoch 2 ...\n"
     ]
    },
    {
     "name": "stderr",
     "output_type": "stream",
     "text": [
      "100%|#####################################################################################|60/60[01:07<00:00, 0.88it/s]"
     ]
    },
    {
     "name": "stdout",
     "output_type": "stream",
     "text": [
      "\u001b[32m[0114 21:15:00 @base.py:285]\u001b[0m Epoch 2 (global_step 120) finished, time:1 minute 7 seconds.\n"
     ]
    },
    {
     "name": "stderr",
     "output_type": "stream",
     "text": [
      "\n"
     ]
    },
    {
     "name": "stdout",
     "output_type": "stream",
     "text": [
      "\u001b[32m[0114 21:15:01 @saver.py:79]\u001b[0m Model saved to .//Model//temp_model\\TGAN8\\model\\model-120.\n",
      "\u001b[32m[0114 21:15:01 @monitor.py:467]\u001b[0m GAN_loss/discrim/accuracy_fake: 0.778\n",
      "\u001b[32m[0114 21:15:01 @monitor.py:467]\u001b[0m GAN_loss/discrim/accuracy_real: 0.316\n",
      "\u001b[32m[0114 21:15:01 @monitor.py:467]\u001b[0m GAN_loss/discrim/loss: 0.66732\n",
      "\u001b[32m[0114 21:15:01 @monitor.py:467]\u001b[0m GAN_loss/gen/final-g-loss: 1.0639\n",
      "\u001b[32m[0114 21:15:01 @monitor.py:467]\u001b[0m GAN_loss/gen/klloss: 0.032896\n",
      "\u001b[32m[0114 21:15:01 @monitor.py:467]\u001b[0m GAN_loss/gen/loss: 1.031\n",
      "\u001b[32m[0114 21:15:01 @monitor.py:467]\u001b[0m QueueInput/queue_size: 50\n",
      "\u001b[32m[0114 21:15:01 @base.py:275]\u001b[0m Start Epoch 3 ...\n"
     ]
    },
    {
     "name": "stderr",
     "output_type": "stream",
     "text": [
      "100%|#####################################################################################|60/60[01:09<00:00, 0.86it/s]"
     ]
    },
    {
     "name": "stdout",
     "output_type": "stream",
     "text": [
      "\u001b[32m[0114 21:16:11 @base.py:285]\u001b[0m Epoch 3 (global_step 180) finished, time:1 minute 9 seconds.\n"
     ]
    },
    {
     "name": "stderr",
     "output_type": "stream",
     "text": [
      "\n"
     ]
    },
    {
     "name": "stdout",
     "output_type": "stream",
     "text": [
      "\u001b[32m[0114 21:16:12 @saver.py:79]\u001b[0m Model saved to .//Model//temp_model\\TGAN8\\model\\model-180.\n",
      "\u001b[32m[0114 21:16:12 @monitor.py:467]\u001b[0m GAN_loss/discrim/accuracy_fake: 0.814\n",
      "\u001b[32m[0114 21:16:12 @monitor.py:467]\u001b[0m GAN_loss/discrim/accuracy_real: 0.354\n",
      "\u001b[32m[0114 21:16:12 @monitor.py:467]\u001b[0m GAN_loss/discrim/loss: 0.62566\n",
      "\u001b[32m[0114 21:16:12 @monitor.py:467]\u001b[0m GAN_loss/gen/final-g-loss: 1.0908\n",
      "\u001b[32m[0114 21:16:12 @monitor.py:467]\u001b[0m GAN_loss/gen/klloss: 0.043473\n",
      "\u001b[32m[0114 21:16:12 @monitor.py:467]\u001b[0m GAN_loss/gen/loss: 1.0473\n",
      "\u001b[32m[0114 21:16:12 @monitor.py:467]\u001b[0m QueueInput/queue_size: 50\n",
      "\u001b[32m[0114 21:16:12 @base.py:275]\u001b[0m Start Epoch 4 ...\n"
     ]
    },
    {
     "name": "stderr",
     "output_type": "stream",
     "text": [
      "100%|#####################################################################################|60/60[01:07<00:00, 0.89it/s]"
     ]
    },
    {
     "name": "stdout",
     "output_type": "stream",
     "text": [
      "\u001b[32m[0114 21:17:19 @base.py:285]\u001b[0m Epoch 4 (global_step 240) finished, time:1 minute 7 seconds.\n"
     ]
    },
    {
     "name": "stderr",
     "output_type": "stream",
     "text": [
      "\n"
     ]
    },
    {
     "name": "stdout",
     "output_type": "stream",
     "text": [
      "\u001b[32m[0114 21:17:20 @saver.py:79]\u001b[0m Model saved to .//Model//temp_model\\TGAN8\\model\\model-240.\n",
      "\u001b[32m[0114 21:17:20 @monitor.py:467]\u001b[0m GAN_loss/discrim/accuracy_fake: 0.804\n",
      "\u001b[32m[0114 21:17:20 @monitor.py:467]\u001b[0m GAN_loss/discrim/accuracy_real: 0.366\n",
      "\u001b[32m[0114 21:17:20 @monitor.py:467]\u001b[0m GAN_loss/discrim/loss: 0.62721\n",
      "\u001b[32m[0114 21:17:20 @monitor.py:467]\u001b[0m GAN_loss/gen/final-g-loss: 1.0517\n",
      "\u001b[32m[0114 21:17:20 @monitor.py:467]\u001b[0m GAN_loss/gen/klloss: 0.029853\n",
      "\u001b[32m[0114 21:17:20 @monitor.py:467]\u001b[0m GAN_loss/gen/loss: 1.0218\n",
      "\u001b[32m[0114 21:17:20 @monitor.py:467]\u001b[0m QueueInput/queue_size: 50\n",
      "\u001b[32m[0114 21:17:20 @base.py:275]\u001b[0m Start Epoch 5 ...\n"
     ]
    },
    {
     "name": "stderr",
     "output_type": "stream",
     "text": [
      "100%|#####################################################################################|60/60[01:07<00:00, 0.89it/s]"
     ]
    },
    {
     "name": "stdout",
     "output_type": "stream",
     "text": [
      "\u001b[32m[0114 21:18:27 @base.py:285]\u001b[0m Epoch 5 (global_step 300) finished, time:1 minute 7 seconds.\n"
     ]
    },
    {
     "name": "stderr",
     "output_type": "stream",
     "text": [
      "\n"
     ]
    },
    {
     "name": "stdout",
     "output_type": "stream",
     "text": [
      "\u001b[32m[0114 21:18:27 @saver.py:79]\u001b[0m Model saved to .//Model//temp_model\\TGAN8\\model\\model-300.\n",
      "\u001b[32m[0114 21:18:27 @monitor.py:467]\u001b[0m GAN_loss/discrim/accuracy_fake: 0.842\n",
      "\u001b[32m[0114 21:18:27 @monitor.py:467]\u001b[0m GAN_loss/discrim/accuracy_real: 0.376\n",
      "\u001b[32m[0114 21:18:27 @monitor.py:467]\u001b[0m GAN_loss/discrim/loss: 0.61881\n",
      "\u001b[32m[0114 21:18:27 @monitor.py:467]\u001b[0m GAN_loss/gen/final-g-loss: 1.087\n",
      "\u001b[32m[0114 21:18:27 @monitor.py:467]\u001b[0m GAN_loss/gen/klloss: 0.074199\n",
      "\u001b[32m[0114 21:18:27 @monitor.py:467]\u001b[0m GAN_loss/gen/loss: 1.0128\n",
      "\u001b[32m[0114 21:18:27 @monitor.py:467]\u001b[0m QueueInput/queue_size: 50\n",
      "\u001b[32m[0114 21:18:27 @base.py:275]\u001b[0m Start Epoch 6 ...\n"
     ]
    },
    {
     "name": "stderr",
     "output_type": "stream",
     "text": [
      "100%|#####################################################################################|60/60[01:07<00:00, 0.89it/s]"
     ]
    },
    {
     "name": "stdout",
     "output_type": "stream",
     "text": [
      "\u001b[32m[0114 21:19:35 @base.py:285]\u001b[0m Epoch 6 (global_step 360) finished, time:1 minute 7 seconds.\n"
     ]
    },
    {
     "name": "stderr",
     "output_type": "stream",
     "text": [
      "\n"
     ]
    },
    {
     "name": "stdout",
     "output_type": "stream",
     "text": [
      "\u001b[32m[0114 21:19:35 @saver.py:79]\u001b[0m Model saved to .//Model//temp_model\\TGAN8\\model\\model-360.\n",
      "\u001b[32m[0114 21:19:35 @monitor.py:467]\u001b[0m GAN_loss/discrim/accuracy_fake: 0.832\n",
      "\u001b[32m[0114 21:19:35 @monitor.py:467]\u001b[0m GAN_loss/discrim/accuracy_real: 0.37\n",
      "\u001b[32m[0114 21:19:35 @monitor.py:467]\u001b[0m GAN_loss/discrim/loss: 0.62551\n",
      "\u001b[32m[0114 21:19:35 @monitor.py:467]\u001b[0m GAN_loss/gen/final-g-loss: 1.0802\n",
      "\u001b[32m[0114 21:19:35 @monitor.py:467]\u001b[0m GAN_loss/gen/klloss: 0.057778\n",
      "\u001b[32m[0114 21:19:35 @monitor.py:467]\u001b[0m GAN_loss/gen/loss: 1.0224\n",
      "\u001b[32m[0114 21:19:35 @monitor.py:467]\u001b[0m QueueInput/queue_size: 50\n",
      "\u001b[32m[0114 21:19:35 @base.py:275]\u001b[0m Start Epoch 7 ...\n"
     ]
    },
    {
     "name": "stderr",
     "output_type": "stream",
     "text": [
      "100%|#####################################################################################|60/60[01:07<00:00, 0.89it/s]"
     ]
    },
    {
     "name": "stdout",
     "output_type": "stream",
     "text": [
      "\u001b[32m[0114 21:20:43 @base.py:285]\u001b[0m Epoch 7 (global_step 420) finished, time:1 minute 7 seconds.\n"
     ]
    },
    {
     "name": "stderr",
     "output_type": "stream",
     "text": [
      "\n"
     ]
    },
    {
     "name": "stdout",
     "output_type": "stream",
     "text": [
      "\u001b[32m[0114 21:20:44 @saver.py:79]\u001b[0m Model saved to .//Model//temp_model\\TGAN8\\model\\model-420.\n",
      "\u001b[32m[0114 21:20:44 @monitor.py:467]\u001b[0m GAN_loss/discrim/accuracy_fake: 0.816\n",
      "\u001b[32m[0114 21:20:44 @monitor.py:467]\u001b[0m GAN_loss/discrim/accuracy_real: 0.368\n",
      "\u001b[32m[0114 21:20:44 @monitor.py:467]\u001b[0m GAN_loss/discrim/loss: 0.6293\n",
      "\u001b[32m[0114 21:20:44 @monitor.py:467]\u001b[0m GAN_loss/gen/final-g-loss: 1.0611\n",
      "\u001b[32m[0114 21:20:44 @monitor.py:467]\u001b[0m GAN_loss/gen/klloss: 0.045667\n",
      "\u001b[32m[0114 21:20:44 @monitor.py:467]\u001b[0m GAN_loss/gen/loss: 1.0155\n",
      "\u001b[32m[0114 21:20:44 @monitor.py:467]\u001b[0m QueueInput/queue_size: 50\n",
      "\u001b[32m[0114 21:20:44 @base.py:275]\u001b[0m Start Epoch 8 ...\n"
     ]
    },
    {
     "name": "stderr",
     "output_type": "stream",
     "text": [
      "100%|#####################################################################################|60/60[01:07<00:00, 0.89it/s]"
     ]
    },
    {
     "name": "stdout",
     "output_type": "stream",
     "text": [
      "\u001b[32m[0114 21:21:51 @base.py:285]\u001b[0m Epoch 8 (global_step 480) finished, time:1 minute 7 seconds.\n"
     ]
    },
    {
     "name": "stderr",
     "output_type": "stream",
     "text": [
      "\n"
     ]
    },
    {
     "name": "stdout",
     "output_type": "stream",
     "text": [
      "\u001b[32m[0114 21:21:52 @saver.py:79]\u001b[0m Model saved to .//Model//temp_model\\TGAN8\\model\\model-480.\n",
      "\u001b[32m[0114 21:21:52 @monitor.py:467]\u001b[0m GAN_loss/discrim/accuracy_fake: 0.832\n",
      "\u001b[32m[0114 21:21:52 @monitor.py:467]\u001b[0m GAN_loss/discrim/accuracy_real: 0.278\n",
      "\u001b[32m[0114 21:21:52 @monitor.py:467]\u001b[0m GAN_loss/discrim/loss: 0.64658\n",
      "\u001b[32m[0114 21:21:52 @monitor.py:467]\u001b[0m GAN_loss/gen/final-g-loss: 1.1103\n",
      "\u001b[32m[0114 21:21:52 @monitor.py:467]\u001b[0m GAN_loss/gen/klloss: 0.07489\n",
      "\u001b[32m[0114 21:21:52 @monitor.py:467]\u001b[0m GAN_loss/gen/loss: 1.0355\n",
      "\u001b[32m[0114 21:21:52 @monitor.py:467]\u001b[0m QueueInput/queue_size: 50\n",
      "\u001b[32m[0114 21:21:52 @base.py:275]\u001b[0m Start Epoch 9 ...\n"
     ]
    },
    {
     "name": "stderr",
     "output_type": "stream",
     "text": [
      "100%|#####################################################################################|60/60[01:07<00:00, 0.89it/s]"
     ]
    },
    {
     "name": "stdout",
     "output_type": "stream",
     "text": [
      "\u001b[32m[0114 21:23:00 @base.py:285]\u001b[0m Epoch 9 (global_step 540) finished, time:1 minute 7 seconds.\n"
     ]
    },
    {
     "name": "stderr",
     "output_type": "stream",
     "text": [
      "\n"
     ]
    },
    {
     "name": "stdout",
     "output_type": "stream",
     "text": [
      "\u001b[32m[0114 21:23:01 @saver.py:79]\u001b[0m Model saved to .//Model//temp_model\\TGAN8\\model\\model-540.\n",
      "\u001b[32m[0114 21:23:01 @monitor.py:467]\u001b[0m GAN_loss/discrim/accuracy_fake: 0.862\n",
      "\u001b[32m[0114 21:23:01 @monitor.py:467]\u001b[0m GAN_loss/discrim/accuracy_real: 0.308\n",
      "\u001b[32m[0114 21:23:01 @monitor.py:467]\u001b[0m GAN_loss/discrim/loss: 0.62139\n",
      "\u001b[32m[0114 21:23:01 @monitor.py:467]\u001b[0m GAN_loss/gen/final-g-loss: 1.0839\n",
      "\u001b[32m[0114 21:23:01 @monitor.py:467]\u001b[0m GAN_loss/gen/klloss: 0.026427\n",
      "\u001b[32m[0114 21:23:01 @monitor.py:467]\u001b[0m GAN_loss/gen/loss: 1.0575\n",
      "\u001b[32m[0114 21:23:01 @monitor.py:467]\u001b[0m QueueInput/queue_size: 50\n",
      "\u001b[32m[0114 21:23:01 @base.py:275]\u001b[0m Start Epoch 10 ...\n"
     ]
    },
    {
     "name": "stderr",
     "output_type": "stream",
     "text": [
      "100%|#####################################################################################|60/60[01:08<00:00, 0.88it/s]"
     ]
    },
    {
     "name": "stdout",
     "output_type": "stream",
     "text": [
      "\u001b[32m[0114 21:24:09 @base.py:285]\u001b[0m Epoch 10 (global_step 600) finished, time:1 minute 8 seconds.\n"
     ]
    },
    {
     "name": "stderr",
     "output_type": "stream",
     "text": [
      "\n"
     ]
    },
    {
     "name": "stdout",
     "output_type": "stream",
     "text": [
      "\u001b[32m[0114 21:24:10 @saver.py:79]\u001b[0m Model saved to .//Model//temp_model\\TGAN8\\model\\model-600.\n",
      "\u001b[32m[0114 21:24:10 @monitor.py:467]\u001b[0m GAN_loss/discrim/accuracy_fake: 0.81\n",
      "\u001b[32m[0114 21:24:10 @monitor.py:467]\u001b[0m GAN_loss/discrim/accuracy_real: 0.316\n",
      "\u001b[32m[0114 21:24:10 @monitor.py:467]\u001b[0m GAN_loss/discrim/loss: 0.64197\n",
      "\u001b[32m[0114 21:24:10 @monitor.py:467]\u001b[0m GAN_loss/gen/final-g-loss: 1.0405\n",
      "\u001b[32m[0114 21:24:10 @monitor.py:467]\u001b[0m GAN_loss/gen/klloss: 0.049097\n",
      "\u001b[32m[0114 21:24:10 @monitor.py:467]\u001b[0m GAN_loss/gen/loss: 0.99137\n",
      "\u001b[32m[0114 21:24:10 @monitor.py:467]\u001b[0m QueueInput/queue_size: 50\n",
      "\u001b[32m[0114 21:24:10 @base.py:275]\u001b[0m Start Epoch 11 ...\n"
     ]
    },
    {
     "name": "stderr",
     "output_type": "stream",
     "text": [
      "100%|#####################################################################################|60/60[01:07<00:00, 0.89it/s]"
     ]
    },
    {
     "name": "stdout",
     "output_type": "stream",
     "text": [
      "\u001b[32m[0114 21:25:17 @base.py:285]\u001b[0m Epoch 11 (global_step 660) finished, time:1 minute 7 seconds.\n"
     ]
    },
    {
     "name": "stderr",
     "output_type": "stream",
     "text": [
      "\n"
     ]
    },
    {
     "name": "stdout",
     "output_type": "stream",
     "text": [
      "\u001b[32m[0114 21:25:18 @saver.py:79]\u001b[0m Model saved to .//Model//temp_model\\TGAN8\\model\\model-660.\n",
      "\u001b[32m[0114 21:25:18 @monitor.py:467]\u001b[0m GAN_loss/discrim/accuracy_fake: 0.804\n",
      "\u001b[32m[0114 21:25:18 @monitor.py:467]\u001b[0m GAN_loss/discrim/accuracy_real: 0.29\n",
      "\u001b[32m[0114 21:25:18 @monitor.py:467]\u001b[0m GAN_loss/discrim/loss: 0.65979\n",
      "\u001b[32m[0114 21:25:18 @monitor.py:467]\u001b[0m GAN_loss/gen/final-g-loss: 1.0446\n",
      "\u001b[32m[0114 21:25:18 @monitor.py:467]\u001b[0m GAN_loss/gen/klloss: 0.074865\n",
      "\u001b[32m[0114 21:25:18 @monitor.py:467]\u001b[0m GAN_loss/gen/loss: 0.96973\n",
      "\u001b[32m[0114 21:25:18 @monitor.py:467]\u001b[0m QueueInput/queue_size: 50\n",
      "\u001b[32m[0114 21:25:18 @base.py:275]\u001b[0m Start Epoch 12 ...\n"
     ]
    },
    {
     "name": "stderr",
     "output_type": "stream",
     "text": [
      "100%|#####################################################################################|60/60[01:07<00:00, 0.89it/s]"
     ]
    },
    {
     "name": "stdout",
     "output_type": "stream",
     "text": [
      "\u001b[32m[0114 21:26:25 @base.py:285]\u001b[0m Epoch 12 (global_step 720) finished, time:1 minute 7 seconds.\n"
     ]
    },
    {
     "name": "stderr",
     "output_type": "stream",
     "text": [
      "\n"
     ]
    },
    {
     "name": "stdout",
     "output_type": "stream",
     "text": [
      "\u001b[32m[0114 21:26:26 @saver.py:79]\u001b[0m Model saved to .//Model//temp_model\\TGAN8\\model\\model-720.\n",
      "\u001b[32m[0114 21:26:26 @monitor.py:467]\u001b[0m GAN_loss/discrim/accuracy_fake: 0.852\n",
      "\u001b[32m[0114 21:26:26 @monitor.py:467]\u001b[0m GAN_loss/discrim/accuracy_real: 0.292\n",
      "\u001b[32m[0114 21:26:26 @monitor.py:467]\u001b[0m GAN_loss/discrim/loss: 0.6436\n",
      "\u001b[32m[0114 21:26:26 @monitor.py:467]\u001b[0m GAN_loss/gen/final-g-loss: 1.0459\n",
      "\u001b[32m[0114 21:26:26 @monitor.py:467]\u001b[0m GAN_loss/gen/klloss: 0.071394\n",
      "\u001b[32m[0114 21:26:26 @monitor.py:467]\u001b[0m GAN_loss/gen/loss: 0.97454\n",
      "\u001b[32m[0114 21:26:26 @monitor.py:467]\u001b[0m QueueInput/queue_size: 50\n",
      "\u001b[32m[0114 21:26:26 @base.py:275]\u001b[0m Start Epoch 13 ...\n"
     ]
    },
    {
     "name": "stderr",
     "output_type": "stream",
     "text": [
      "100%|#####################################################################################|60/60[01:07<00:00, 0.89it/s]"
     ]
    },
    {
     "name": "stdout",
     "output_type": "stream",
     "text": [
      "\u001b[32m[0114 21:27:33 @base.py:285]\u001b[0m Epoch 13 (global_step 780) finished, time:1 minute 7 seconds.\n"
     ]
    },
    {
     "name": "stderr",
     "output_type": "stream",
     "text": [
      "\n"
     ]
    },
    {
     "name": "stdout",
     "output_type": "stream",
     "text": [
      "\u001b[32m[0114 21:27:34 @saver.py:79]\u001b[0m Model saved to .//Model//temp_model\\TGAN8\\model\\model-780.\n",
      "\u001b[32m[0114 21:27:34 @monitor.py:467]\u001b[0m GAN_loss/discrim/accuracy_fake: 0.862\n",
      "\u001b[32m[0114 21:27:34 @monitor.py:467]\u001b[0m GAN_loss/discrim/accuracy_real: 0.252\n",
      "\u001b[32m[0114 21:27:34 @monitor.py:467]\u001b[0m GAN_loss/discrim/loss: 0.64265\n",
      "\u001b[32m[0114 21:27:34 @monitor.py:467]\u001b[0m GAN_loss/gen/final-g-loss: 1.0419\n",
      "\u001b[32m[0114 21:27:34 @monitor.py:467]\u001b[0m GAN_loss/gen/klloss: 0.037118\n",
      "\u001b[32m[0114 21:27:34 @monitor.py:467]\u001b[0m GAN_loss/gen/loss: 1.0047\n",
      "\u001b[32m[0114 21:27:34 @monitor.py:467]\u001b[0m QueueInput/queue_size: 50\n",
      "\u001b[32m[0114 21:27:34 @base.py:275]\u001b[0m Start Epoch 14 ...\n"
     ]
    },
    {
     "name": "stderr",
     "output_type": "stream",
     "text": [
      "100%|#####################################################################################|60/60[01:07<00:00, 0.89it/s]"
     ]
    },
    {
     "name": "stdout",
     "output_type": "stream",
     "text": [
      "\u001b[32m[0114 21:28:41 @base.py:285]\u001b[0m Epoch 14 (global_step 840) finished, time:1 minute 7 seconds.\n"
     ]
    },
    {
     "name": "stderr",
     "output_type": "stream",
     "text": [
      "\n"
     ]
    },
    {
     "name": "stdout",
     "output_type": "stream",
     "text": [
      "\u001b[32m[0114 21:28:44 @saver.py:79]\u001b[0m Model saved to .//Model//temp_model\\TGAN8\\model\\model-840.\n",
      "\u001b[32m[0114 21:28:44 @monitor.py:467]\u001b[0m GAN_loss/discrim/accuracy_fake: 0.848\n",
      "\u001b[32m[0114 21:28:44 @monitor.py:467]\u001b[0m GAN_loss/discrim/accuracy_real: 0.306\n",
      "\u001b[32m[0114 21:28:44 @monitor.py:467]\u001b[0m GAN_loss/discrim/loss: 0.63708\n",
      "\u001b[32m[0114 21:28:44 @monitor.py:467]\u001b[0m GAN_loss/gen/final-g-loss: 1.0242\n",
      "\u001b[32m[0114 21:28:44 @monitor.py:467]\u001b[0m GAN_loss/gen/klloss: 0.052026\n",
      "\u001b[32m[0114 21:28:44 @monitor.py:467]\u001b[0m GAN_loss/gen/loss: 0.97213\n",
      "\u001b[32m[0114 21:28:44 @monitor.py:467]\u001b[0m QueueInput/queue_size: 50\n",
      "\u001b[32m[0114 21:28:44 @base.py:275]\u001b[0m Start Epoch 15 ...\n"
     ]
    },
    {
     "name": "stderr",
     "output_type": "stream",
     "text": [
      "100%|#####################################################################################|60/60[01:07<00:00, 0.89it/s]"
     ]
    },
    {
     "name": "stdout",
     "output_type": "stream",
     "text": [
      "\u001b[32m[0114 21:29:51 @base.py:285]\u001b[0m Epoch 15 (global_step 900) finished, time:1 minute 7 seconds.\n"
     ]
    },
    {
     "name": "stderr",
     "output_type": "stream",
     "text": [
      "\n"
     ]
    },
    {
     "name": "stdout",
     "output_type": "stream",
     "text": [
      "\u001b[32m[0114 21:29:51 @saver.py:79]\u001b[0m Model saved to .//Model//temp_model\\TGAN8\\model\\model-900.\n",
      "\u001b[32m[0114 21:29:51 @monitor.py:467]\u001b[0m GAN_loss/discrim/accuracy_fake: 0.846\n",
      "\u001b[32m[0114 21:29:51 @monitor.py:467]\u001b[0m GAN_loss/discrim/accuracy_real: 0.252\n",
      "\u001b[32m[0114 21:29:51 @monitor.py:467]\u001b[0m GAN_loss/discrim/loss: 0.64138\n",
      "\u001b[32m[0114 21:29:51 @monitor.py:467]\u001b[0m GAN_loss/gen/final-g-loss: 1.0021\n",
      "\u001b[32m[0114 21:29:51 @monitor.py:467]\u001b[0m GAN_loss/gen/klloss: 0.025508\n",
      "\u001b[32m[0114 21:29:51 @monitor.py:467]\u001b[0m GAN_loss/gen/loss: 0.9766\n",
      "\u001b[32m[0114 21:29:51 @monitor.py:467]\u001b[0m QueueInput/queue_size: 50\n",
      "\u001b[32m[0114 21:29:51 @base.py:275]\u001b[0m Start Epoch 16 ...\n"
     ]
    },
    {
     "name": "stderr",
     "output_type": "stream",
     "text": [
      "100%|#####################################################################################|60/60[01:07<00:00, 0.89it/s]"
     ]
    },
    {
     "name": "stdout",
     "output_type": "stream",
     "text": [
      "\u001b[32m[0114 21:30:59 @base.py:285]\u001b[0m Epoch 16 (global_step 960) finished, time:1 minute 7 seconds.\n"
     ]
    },
    {
     "name": "stderr",
     "output_type": "stream",
     "text": [
      "\n"
     ]
    },
    {
     "name": "stdout",
     "output_type": "stream",
     "text": [
      "\u001b[32m[0114 21:30:59 @saver.py:79]\u001b[0m Model saved to .//Model//temp_model\\TGAN8\\model\\model-960.\n",
      "\u001b[32m[0114 21:30:59 @monitor.py:467]\u001b[0m GAN_loss/discrim/accuracy_fake: 0.836\n",
      "\u001b[32m[0114 21:30:59 @monitor.py:467]\u001b[0m GAN_loss/discrim/accuracy_real: 0.256\n",
      "\u001b[32m[0114 21:30:59 @monitor.py:467]\u001b[0m GAN_loss/discrim/loss: 0.64551\n",
      "\u001b[32m[0114 21:30:59 @monitor.py:467]\u001b[0m GAN_loss/gen/final-g-loss: 1.0223\n",
      "\u001b[32m[0114 21:30:59 @monitor.py:467]\u001b[0m GAN_loss/gen/klloss: 0.045998\n",
      "\u001b[32m[0114 21:30:59 @monitor.py:467]\u001b[0m GAN_loss/gen/loss: 0.97625\n",
      "\u001b[32m[0114 21:30:59 @monitor.py:467]\u001b[0m QueueInput/queue_size: 50\n",
      "\u001b[32m[0114 21:30:59 @base.py:275]\u001b[0m Start Epoch 17 ...\n"
     ]
    },
    {
     "name": "stderr",
     "output_type": "stream",
     "text": [
      "100%|#####################################################################################|60/60[01:07<00:00, 0.89it/s]"
     ]
    },
    {
     "name": "stdout",
     "output_type": "stream",
     "text": [
      "\u001b[32m[0114 21:32:06 @base.py:285]\u001b[0m Epoch 17 (global_step 1020) finished, time:1 minute 7 seconds.\n"
     ]
    },
    {
     "name": "stderr",
     "output_type": "stream",
     "text": [
      "\n"
     ]
    },
    {
     "name": "stdout",
     "output_type": "stream",
     "text": [
      "\u001b[32m[0114 21:32:07 @saver.py:79]\u001b[0m Model saved to .//Model//temp_model\\TGAN8\\model\\model-1020.\n",
      "\u001b[32m[0114 21:32:07 @monitor.py:467]\u001b[0m GAN_loss/discrim/accuracy_fake: 0.892\n",
      "\u001b[32m[0114 21:32:07 @monitor.py:467]\u001b[0m GAN_loss/discrim/accuracy_real: 0.224\n",
      "\u001b[32m[0114 21:32:07 @monitor.py:467]\u001b[0m GAN_loss/discrim/loss: 0.64321\n",
      "\u001b[32m[0114 21:32:07 @monitor.py:467]\u001b[0m GAN_loss/gen/final-g-loss: 1.0103\n",
      "\u001b[32m[0114 21:32:07 @monitor.py:467]\u001b[0m GAN_loss/gen/klloss: 0.029789\n",
      "\u001b[32m[0114 21:32:07 @monitor.py:467]\u001b[0m GAN_loss/gen/loss: 0.98047\n",
      "\u001b[32m[0114 21:32:07 @monitor.py:467]\u001b[0m QueueInput/queue_size: 50\n",
      "\u001b[32m[0114 21:32:07 @base.py:275]\u001b[0m Start Epoch 18 ...\n"
     ]
    },
    {
     "name": "stderr",
     "output_type": "stream",
     "text": [
      "100%|#####################################################################################|60/60[01:06<00:00, 0.90it/s]"
     ]
    },
    {
     "name": "stdout",
     "output_type": "stream",
     "text": [
      "\u001b[32m[0114 21:33:14 @base.py:285]\u001b[0m Epoch 18 (global_step 1080) finished, time:1 minute 6 seconds.\n"
     ]
    },
    {
     "name": "stderr",
     "output_type": "stream",
     "text": [
      "\n"
     ]
    },
    {
     "name": "stdout",
     "output_type": "stream",
     "text": [
      "\u001b[32m[0114 21:33:15 @saver.py:79]\u001b[0m Model saved to .//Model//temp_model\\TGAN8\\model\\model-1080.\n",
      "\u001b[32m[0114 21:33:15 @monitor.py:467]\u001b[0m GAN_loss/discrim/accuracy_fake: 0.864\n",
      "\u001b[32m[0114 21:33:15 @monitor.py:467]\u001b[0m GAN_loss/discrim/accuracy_real: 0.24\n",
      "\u001b[32m[0114 21:33:15 @monitor.py:467]\u001b[0m GAN_loss/discrim/loss: 0.6438\n",
      "\u001b[32m[0114 21:33:15 @monitor.py:467]\u001b[0m GAN_loss/gen/final-g-loss: 0.99083\n",
      "\u001b[32m[0114 21:33:15 @monitor.py:467]\u001b[0m GAN_loss/gen/klloss: 0.026367\n",
      "\u001b[32m[0114 21:33:15 @monitor.py:467]\u001b[0m GAN_loss/gen/loss: 0.96447\n",
      "\u001b[32m[0114 21:33:15 @monitor.py:467]\u001b[0m QueueInput/queue_size: 50\n",
      "\u001b[32m[0114 21:33:15 @base.py:275]\u001b[0m Start Epoch 19 ...\n"
     ]
    },
    {
     "name": "stderr",
     "output_type": "stream",
     "text": [
      "100%|#####################################################################################|60/60[01:07<00:00, 0.89it/s]"
     ]
    },
    {
     "name": "stdout",
     "output_type": "stream",
     "text": [
      "\u001b[32m[0114 21:34:22 @base.py:285]\u001b[0m Epoch 19 (global_step 1140) finished, time:1 minute 7 seconds.\n"
     ]
    },
    {
     "name": "stderr",
     "output_type": "stream",
     "text": [
      "\n"
     ]
    },
    {
     "name": "stdout",
     "output_type": "stream",
     "text": [
      "\u001b[32m[0114 21:34:24 @saver.py:79]\u001b[0m Model saved to .//Model//temp_model\\TGAN8\\model\\model-1140.\n",
      "\u001b[32m[0114 21:34:24 @monitor.py:467]\u001b[0m GAN_loss/discrim/accuracy_fake: 0.854\n",
      "\u001b[32m[0114 21:34:24 @monitor.py:467]\u001b[0m GAN_loss/discrim/accuracy_real: 0.208\n",
      "\u001b[32m[0114 21:34:24 @monitor.py:467]\u001b[0m GAN_loss/discrim/loss: 0.64854\n",
      "\u001b[32m[0114 21:34:24 @monitor.py:467]\u001b[0m GAN_loss/gen/final-g-loss: 0.98489\n",
      "\u001b[32m[0114 21:34:24 @monitor.py:467]\u001b[0m GAN_loss/gen/klloss: 0.033493\n",
      "\u001b[32m[0114 21:34:24 @monitor.py:467]\u001b[0m GAN_loss/gen/loss: 0.9514\n",
      "\u001b[32m[0114 21:34:24 @monitor.py:467]\u001b[0m QueueInput/queue_size: 50\n",
      "\u001b[32m[0114 21:34:24 @base.py:275]\u001b[0m Start Epoch 20 ...\n"
     ]
    },
    {
     "name": "stderr",
     "output_type": "stream",
     "text": [
      "100%|#####################################################################################|60/60[01:06<00:00, 0.90it/s]"
     ]
    },
    {
     "name": "stdout",
     "output_type": "stream",
     "text": [
      "\u001b[32m[0114 21:35:31 @base.py:285]\u001b[0m Epoch 20 (global_step 1200) finished, time:1 minute 6 seconds.\n"
     ]
    },
    {
     "name": "stderr",
     "output_type": "stream",
     "text": [
      "\n"
     ]
    },
    {
     "name": "stdout",
     "output_type": "stream",
     "text": [
      "\u001b[32m[0114 21:35:33 @saver.py:79]\u001b[0m Model saved to .//Model//temp_model\\TGAN8\\model\\model-1200.\n",
      "\u001b[32m[0114 21:35:33 @monitor.py:467]\u001b[0m GAN_loss/discrim/accuracy_fake: 0.868\n",
      "\u001b[32m[0114 21:35:33 @monitor.py:467]\u001b[0m GAN_loss/discrim/accuracy_real: 0.22\n",
      "\u001b[32m[0114 21:35:33 @monitor.py:467]\u001b[0m GAN_loss/discrim/loss: 0.64804\n",
      "\u001b[32m[0114 21:35:33 @monitor.py:467]\u001b[0m GAN_loss/gen/final-g-loss: 0.98318\n",
      "\u001b[32m[0114 21:35:33 @monitor.py:467]\u001b[0m GAN_loss/gen/klloss: 0.034929\n",
      "\u001b[32m[0114 21:35:33 @monitor.py:467]\u001b[0m GAN_loss/gen/loss: 0.94825\n",
      "\u001b[32m[0114 21:35:33 @monitor.py:467]\u001b[0m QueueInput/queue_size: 50\n",
      "\u001b[32m[0114 21:35:33 @base.py:275]\u001b[0m Start Epoch 21 ...\n"
     ]
    },
    {
     "name": "stderr",
     "output_type": "stream",
     "text": [
      "100%|#####################################################################################|60/60[01:06<00:00, 0.90it/s]"
     ]
    },
    {
     "name": "stdout",
     "output_type": "stream",
     "text": [
      "\u001b[32m[0114 21:36:40 @base.py:285]\u001b[0m Epoch 21 (global_step 1260) finished, time:1 minute 6 seconds.\n"
     ]
    },
    {
     "name": "stderr",
     "output_type": "stream",
     "text": [
      "\n"
     ]
    },
    {
     "name": "stdout",
     "output_type": "stream",
     "text": [
      "\u001b[32m[0114 21:36:41 @saver.py:79]\u001b[0m Model saved to .//Model//temp_model\\TGAN8\\model\\model-1260.\n",
      "\u001b[32m[0114 21:36:41 @monitor.py:467]\u001b[0m GAN_loss/discrim/accuracy_fake: 0.9\n",
      "\u001b[32m[0114 21:36:41 @monitor.py:467]\u001b[0m GAN_loss/discrim/accuracy_real: 0.21\n",
      "\u001b[32m[0114 21:36:41 @monitor.py:467]\u001b[0m GAN_loss/discrim/loss: 0.64599\n",
      "\u001b[32m[0114 21:36:41 @monitor.py:467]\u001b[0m GAN_loss/gen/final-g-loss: 1.0118\n",
      "\u001b[32m[0114 21:36:41 @monitor.py:467]\u001b[0m GAN_loss/gen/klloss: 0.038397\n",
      "\u001b[32m[0114 21:36:41 @monitor.py:467]\u001b[0m GAN_loss/gen/loss: 0.97341\n",
      "\u001b[32m[0114 21:36:41 @monitor.py:467]\u001b[0m QueueInput/queue_size: 50\n",
      "\u001b[32m[0114 21:36:41 @base.py:275]\u001b[0m Start Epoch 22 ...\n"
     ]
    },
    {
     "name": "stderr",
     "output_type": "stream",
     "text": [
      "100%|#####################################################################################|60/60[01:06<00:00, 0.90it/s]"
     ]
    },
    {
     "name": "stdout",
     "output_type": "stream",
     "text": [
      "\u001b[32m[0114 21:37:47 @base.py:285]\u001b[0m Epoch 22 (global_step 1320) finished, time:1 minute 6 seconds.\n"
     ]
    },
    {
     "name": "stderr",
     "output_type": "stream",
     "text": [
      "\n"
     ]
    },
    {
     "name": "stdout",
     "output_type": "stream",
     "text": [
      "\u001b[32m[0114 21:37:48 @saver.py:79]\u001b[0m Model saved to .//Model//temp_model\\TGAN8\\model\\model-1320.\n",
      "\u001b[32m[0114 21:37:48 @monitor.py:467]\u001b[0m GAN_loss/discrim/accuracy_fake: 0.892\n",
      "\u001b[32m[0114 21:37:48 @monitor.py:467]\u001b[0m GAN_loss/discrim/accuracy_real: 0.188\n",
      "\u001b[32m[0114 21:37:48 @monitor.py:467]\u001b[0m GAN_loss/discrim/loss: 0.6402\n",
      "\u001b[32m[0114 21:37:48 @monitor.py:467]\u001b[0m GAN_loss/gen/final-g-loss: 0.99878\n",
      "\u001b[32m[0114 21:37:48 @monitor.py:467]\u001b[0m GAN_loss/gen/klloss: 0.023997\n",
      "\u001b[32m[0114 21:37:48 @monitor.py:467]\u001b[0m GAN_loss/gen/loss: 0.97478\n",
      "\u001b[32m[0114 21:37:48 @monitor.py:467]\u001b[0m QueueInput/queue_size: 50\n",
      "\u001b[32m[0114 21:37:48 @base.py:275]\u001b[0m Start Epoch 23 ...\n"
     ]
    },
    {
     "name": "stderr",
     "output_type": "stream",
     "text": [
      "100%|#####################################################################################|60/60[01:07<00:00, 0.89it/s]"
     ]
    },
    {
     "name": "stdout",
     "output_type": "stream",
     "text": [
      "\u001b[32m[0114 21:38:55 @base.py:285]\u001b[0m Epoch 23 (global_step 1380) finished, time:1 minute 7 seconds.\n"
     ]
    },
    {
     "name": "stderr",
     "output_type": "stream",
     "text": [
      "\n"
     ]
    },
    {
     "name": "stdout",
     "output_type": "stream",
     "text": [
      "\u001b[32m[0114 21:38:56 @saver.py:79]\u001b[0m Model saved to .//Model//temp_model\\TGAN8\\model\\model-1380.\n",
      "\u001b[32m[0114 21:38:56 @monitor.py:467]\u001b[0m GAN_loss/discrim/accuracy_fake: 0.866\n",
      "\u001b[32m[0114 21:38:56 @monitor.py:467]\u001b[0m GAN_loss/discrim/accuracy_real: 0.186\n",
      "\u001b[32m[0114 21:38:56 @monitor.py:467]\u001b[0m GAN_loss/discrim/loss: 0.64609\n",
      "\u001b[32m[0114 21:38:56 @monitor.py:467]\u001b[0m GAN_loss/gen/final-g-loss: 0.97825\n",
      "\u001b[32m[0114 21:38:56 @monitor.py:467]\u001b[0m GAN_loss/gen/klloss: 0.023458\n",
      "\u001b[32m[0114 21:38:56 @monitor.py:467]\u001b[0m GAN_loss/gen/loss: 0.9548\n",
      "\u001b[32m[0114 21:38:56 @monitor.py:467]\u001b[0m QueueInput/queue_size: 50\n",
      "\u001b[32m[0114 21:38:56 @base.py:275]\u001b[0m Start Epoch 24 ...\n"
     ]
    },
    {
     "name": "stderr",
     "output_type": "stream",
     "text": [
      "100%|#####################################################################################|60/60[01:06<00:00, 0.90it/s]"
     ]
    },
    {
     "name": "stdout",
     "output_type": "stream",
     "text": [
      "\u001b[32m[0114 21:40:03 @base.py:285]\u001b[0m Epoch 24 (global_step 1440) finished, time:1 minute 6 seconds.\n"
     ]
    },
    {
     "name": "stderr",
     "output_type": "stream",
     "text": [
      "\n"
     ]
    },
    {
     "name": "stdout",
     "output_type": "stream",
     "text": [
      "\u001b[32m[0114 21:40:03 @saver.py:79]\u001b[0m Model saved to .//Model//temp_model\\TGAN8\\model\\model-1440.\n",
      "\u001b[32m[0114 21:40:03 @monitor.py:467]\u001b[0m GAN_loss/discrim/accuracy_fake: 0.836\n",
      "\u001b[32m[0114 21:40:03 @monitor.py:467]\u001b[0m GAN_loss/discrim/accuracy_real: 0.212\n",
      "\u001b[32m[0114 21:40:03 @monitor.py:467]\u001b[0m GAN_loss/discrim/loss: 0.64716\n",
      "\u001b[32m[0114 21:40:03 @monitor.py:467]\u001b[0m GAN_loss/gen/final-g-loss: 0.97658\n",
      "\u001b[32m[0114 21:40:03 @monitor.py:467]\u001b[0m GAN_loss/gen/klloss: 0.032519\n",
      "\u001b[32m[0114 21:40:03 @monitor.py:467]\u001b[0m GAN_loss/gen/loss: 0.94406\n",
      "\u001b[32m[0114 21:40:03 @monitor.py:467]\u001b[0m QueueInput/queue_size: 50\n",
      "\u001b[32m[0114 21:40:03 @base.py:275]\u001b[0m Start Epoch 25 ...\n"
     ]
    },
    {
     "name": "stderr",
     "output_type": "stream",
     "text": [
      "100%|#####################################################################################|60/60[01:07<00:00, 0.89it/s]"
     ]
    },
    {
     "name": "stdout",
     "output_type": "stream",
     "text": [
      "\u001b[32m[0114 21:41:10 @base.py:285]\u001b[0m Epoch 25 (global_step 1500) finished, time:1 minute 7 seconds.\n"
     ]
    },
    {
     "name": "stderr",
     "output_type": "stream",
     "text": [
      "\n"
     ]
    },
    {
     "name": "stdout",
     "output_type": "stream",
     "text": [
      "\u001b[32m[0114 21:41:11 @saver.py:79]\u001b[0m Model saved to .//Model//temp_model\\TGAN8\\model\\model-1500.\n",
      "\u001b[32m[0114 21:41:11 @monitor.py:467]\u001b[0m GAN_loss/discrim/accuracy_fake: 0.882\n",
      "\u001b[32m[0114 21:41:11 @monitor.py:467]\u001b[0m GAN_loss/discrim/accuracy_real: 0.216\n",
      "\u001b[32m[0114 21:41:11 @monitor.py:467]\u001b[0m GAN_loss/discrim/loss: 0.64335\n",
      "\u001b[32m[0114 21:41:11 @monitor.py:467]\u001b[0m GAN_loss/gen/final-g-loss: 0.98062\n",
      "\u001b[32m[0114 21:41:11 @monitor.py:467]\u001b[0m GAN_loss/gen/klloss: 0.031856\n",
      "\u001b[32m[0114 21:41:11 @monitor.py:467]\u001b[0m GAN_loss/gen/loss: 0.94876\n",
      "\u001b[32m[0114 21:41:11 @monitor.py:467]\u001b[0m QueueInput/queue_size: 50\n",
      "\u001b[32m[0114 21:41:11 @base.py:275]\u001b[0m Start Epoch 26 ...\n"
     ]
    },
    {
     "name": "stderr",
     "output_type": "stream",
     "text": [
      "100%|#####################################################################################|60/60[01:07<00:00, 0.89it/s]"
     ]
    },
    {
     "name": "stdout",
     "output_type": "stream",
     "text": [
      "\u001b[32m[0114 21:42:18 @base.py:285]\u001b[0m Epoch 26 (global_step 1560) finished, time:1 minute 7 seconds.\n"
     ]
    },
    {
     "name": "stderr",
     "output_type": "stream",
     "text": [
      "\n"
     ]
    },
    {
     "name": "stdout",
     "output_type": "stream",
     "text": [
      "\u001b[32m[0114 21:42:19 @saver.py:79]\u001b[0m Model saved to .//Model//temp_model\\TGAN8\\model\\model-1560.\n",
      "\u001b[32m[0114 21:42:19 @monitor.py:467]\u001b[0m GAN_loss/discrim/accuracy_fake: 0.884\n",
      "\u001b[32m[0114 21:42:19 @monitor.py:467]\u001b[0m GAN_loss/discrim/accuracy_real: 0.218\n",
      "\u001b[32m[0114 21:42:19 @monitor.py:467]\u001b[0m GAN_loss/discrim/loss: 0.63887\n",
      "\u001b[32m[0114 21:42:19 @monitor.py:467]\u001b[0m GAN_loss/gen/final-g-loss: 0.9798\n",
      "\u001b[32m[0114 21:42:19 @monitor.py:467]\u001b[0m GAN_loss/gen/klloss: 0.014893\n",
      "\u001b[32m[0114 21:42:19 @monitor.py:467]\u001b[0m GAN_loss/gen/loss: 0.96491\n",
      "\u001b[32m[0114 21:42:19 @monitor.py:467]\u001b[0m QueueInput/queue_size: 50\n",
      "\u001b[32m[0114 21:42:19 @base.py:275]\u001b[0m Start Epoch 27 ...\n"
     ]
    },
    {
     "name": "stderr",
     "output_type": "stream",
     "text": [
      "100%|#####################################################################################|60/60[01:07<00:00, 0.89it/s]"
     ]
    },
    {
     "name": "stdout",
     "output_type": "stream",
     "text": [
      "\u001b[32m[0114 21:43:26 @base.py:285]\u001b[0m Epoch 27 (global_step 1620) finished, time:1 minute 7 seconds.\n"
     ]
    },
    {
     "name": "stderr",
     "output_type": "stream",
     "text": [
      "\n"
     ]
    },
    {
     "name": "stdout",
     "output_type": "stream",
     "text": [
      "\u001b[32m[0114 21:43:28 @saver.py:79]\u001b[0m Model saved to .//Model//temp_model\\TGAN8\\model\\model-1620.\n",
      "\u001b[32m[0114 21:43:28 @monitor.py:467]\u001b[0m GAN_loss/discrim/accuracy_fake: 0.896\n",
      "\u001b[32m[0114 21:43:28 @monitor.py:467]\u001b[0m GAN_loss/discrim/accuracy_real: 0.232\n",
      "\u001b[32m[0114 21:43:28 @monitor.py:467]\u001b[0m GAN_loss/discrim/loss: 0.63604\n",
      "\u001b[32m[0114 21:43:28 @monitor.py:467]\u001b[0m GAN_loss/gen/final-g-loss: 0.99362\n",
      "\u001b[32m[0114 21:43:28 @monitor.py:467]\u001b[0m GAN_loss/gen/klloss: 0.027956\n",
      "\u001b[32m[0114 21:43:28 @monitor.py:467]\u001b[0m GAN_loss/gen/loss: 0.96566\n",
      "\u001b[32m[0114 21:43:28 @monitor.py:467]\u001b[0m QueueInput/queue_size: 50\n",
      "\u001b[32m[0114 21:43:28 @base.py:275]\u001b[0m Start Epoch 28 ...\n"
     ]
    },
    {
     "name": "stderr",
     "output_type": "stream",
     "text": [
      "100%|#####################################################################################|60/60[01:07<00:00, 0.89it/s]"
     ]
    },
    {
     "name": "stdout",
     "output_type": "stream",
     "text": [
      "\u001b[32m[0114 21:44:35 @base.py:285]\u001b[0m Epoch 28 (global_step 1680) finished, time:1 minute 7 seconds.\n"
     ]
    },
    {
     "name": "stderr",
     "output_type": "stream",
     "text": [
      "\n"
     ]
    },
    {
     "name": "stdout",
     "output_type": "stream",
     "text": [
      "\u001b[32m[0114 21:44:35 @saver.py:79]\u001b[0m Model saved to .//Model//temp_model\\TGAN8\\model\\model-1680.\n",
      "\u001b[32m[0114 21:44:35 @monitor.py:467]\u001b[0m GAN_loss/discrim/accuracy_fake: 0.856\n",
      "\u001b[32m[0114 21:44:35 @monitor.py:467]\u001b[0m GAN_loss/discrim/accuracy_real: 0.206\n",
      "\u001b[32m[0114 21:44:35 @monitor.py:467]\u001b[0m GAN_loss/discrim/loss: 0.63994\n",
      "\u001b[32m[0114 21:44:35 @monitor.py:467]\u001b[0m GAN_loss/gen/final-g-loss: 0.99715\n",
      "\u001b[32m[0114 21:44:35 @monitor.py:467]\u001b[0m GAN_loss/gen/klloss: 0.030584\n",
      "\u001b[32m[0114 21:44:35 @monitor.py:467]\u001b[0m GAN_loss/gen/loss: 0.96657\n",
      "\u001b[32m[0114 21:44:35 @monitor.py:467]\u001b[0m QueueInput/queue_size: 50\n",
      "\u001b[32m[0114 21:44:35 @base.py:275]\u001b[0m Start Epoch 29 ...\n"
     ]
    },
    {
     "name": "stderr",
     "output_type": "stream",
     "text": [
      "100%|#####################################################################################|60/60[01:07<00:00, 0.89it/s]"
     ]
    },
    {
     "name": "stdout",
     "output_type": "stream",
     "text": [
      "\u001b[32m[0114 21:45:42 @base.py:285]\u001b[0m Epoch 29 (global_step 1740) finished, time:1 minute 7 seconds.\n"
     ]
    },
    {
     "name": "stderr",
     "output_type": "stream",
     "text": [
      "\n"
     ]
    },
    {
     "name": "stdout",
     "output_type": "stream",
     "text": [
      "\u001b[32m[0114 21:45:43 @saver.py:79]\u001b[0m Model saved to .//Model//temp_model\\TGAN8\\model\\model-1740.\n",
      "\u001b[32m[0114 21:45:43 @monitor.py:467]\u001b[0m GAN_loss/discrim/accuracy_fake: 0.908\n",
      "\u001b[32m[0114 21:45:43 @monitor.py:467]\u001b[0m GAN_loss/discrim/accuracy_real: 0.22\n",
      "\u001b[32m[0114 21:45:43 @monitor.py:467]\u001b[0m GAN_loss/discrim/loss: 0.6369\n",
      "\u001b[32m[0114 21:45:43 @monitor.py:467]\u001b[0m GAN_loss/gen/final-g-loss: 1.0149\n",
      "\u001b[32m[0114 21:45:43 @monitor.py:467]\u001b[0m GAN_loss/gen/klloss: 0.037231\n",
      "\u001b[32m[0114 21:45:43 @monitor.py:467]\u001b[0m GAN_loss/gen/loss: 0.97767\n",
      "\u001b[32m[0114 21:45:43 @monitor.py:467]\u001b[0m QueueInput/queue_size: 50\n",
      "\u001b[32m[0114 21:45:43 @base.py:275]\u001b[0m Start Epoch 30 ...\n"
     ]
    },
    {
     "name": "stderr",
     "output_type": "stream",
     "text": [
      "100%|#####################################################################################|60/60[01:07<00:00, 0.89it/s]"
     ]
    },
    {
     "name": "stdout",
     "output_type": "stream",
     "text": [
      "\u001b[32m[0114 21:46:50 @base.py:285]\u001b[0m Epoch 30 (global_step 1800) finished, time:1 minute 7 seconds.\n"
     ]
    },
    {
     "name": "stderr",
     "output_type": "stream",
     "text": [
      "\n"
     ]
    },
    {
     "name": "stdout",
     "output_type": "stream",
     "text": [
      "\u001b[32m[0114 21:46:51 @saver.py:79]\u001b[0m Model saved to .//Model//temp_model\\TGAN8\\model\\model-1800.\n",
      "\u001b[32m[0114 21:46:51 @monitor.py:467]\u001b[0m GAN_loss/discrim/accuracy_fake: 0.884\n",
      "\u001b[32m[0114 21:46:51 @monitor.py:467]\u001b[0m GAN_loss/discrim/accuracy_real: 0.19\n",
      "\u001b[32m[0114 21:46:51 @monitor.py:467]\u001b[0m GAN_loss/discrim/loss: 0.64449\n",
      "\u001b[32m[0114 21:46:51 @monitor.py:467]\u001b[0m GAN_loss/gen/final-g-loss: 1.0083\n",
      "\u001b[32m[0114 21:46:51 @monitor.py:467]\u001b[0m GAN_loss/gen/klloss: 0.033771\n",
      "\u001b[32m[0114 21:46:51 @monitor.py:467]\u001b[0m GAN_loss/gen/loss: 0.97457\n",
      "\u001b[32m[0114 21:46:51 @monitor.py:467]\u001b[0m QueueInput/queue_size: 50\n",
      "\u001b[32m[0114 21:46:51 @base.py:275]\u001b[0m Start Epoch 31 ...\n"
     ]
    },
    {
     "name": "stderr",
     "output_type": "stream",
     "text": [
      "100%|#####################################################################################|60/60[01:06<00:00, 0.90it/s]"
     ]
    },
    {
     "name": "stdout",
     "output_type": "stream",
     "text": [
      "\u001b[32m[0114 21:47:58 @base.py:285]\u001b[0m Epoch 31 (global_step 1860) finished, time:1 minute 6 seconds.\n"
     ]
    },
    {
     "name": "stderr",
     "output_type": "stream",
     "text": [
      "\n"
     ]
    },
    {
     "name": "stdout",
     "output_type": "stream",
     "text": [
      "\u001b[32m[0114 21:47:58 @saver.py:79]\u001b[0m Model saved to .//Model//temp_model\\TGAN8\\model\\model-1860.\n",
      "\u001b[32m[0114 21:47:58 @monitor.py:467]\u001b[0m GAN_loss/discrim/accuracy_fake: 0.884\n",
      "\u001b[32m[0114 21:47:58 @monitor.py:467]\u001b[0m GAN_loss/discrim/accuracy_real: 0.174\n",
      "\u001b[32m[0114 21:47:58 @monitor.py:467]\u001b[0m GAN_loss/discrim/loss: 0.63845\n",
      "\u001b[32m[0114 21:47:58 @monitor.py:467]\u001b[0m GAN_loss/gen/final-g-loss: 1.0175\n",
      "\u001b[32m[0114 21:47:58 @monitor.py:467]\u001b[0m GAN_loss/gen/klloss: 0.038402\n",
      "\u001b[32m[0114 21:47:58 @monitor.py:467]\u001b[0m GAN_loss/gen/loss: 0.97905\n",
      "\u001b[32m[0114 21:47:58 @monitor.py:467]\u001b[0m QueueInput/queue_size: 50\n",
      "\u001b[32m[0114 21:47:58 @base.py:275]\u001b[0m Start Epoch 32 ...\n"
     ]
    },
    {
     "name": "stderr",
     "output_type": "stream",
     "text": [
      "100%|#####################################################################################|60/60[01:07<00:00, 0.89it/s]"
     ]
    },
    {
     "name": "stdout",
     "output_type": "stream",
     "text": [
      "\u001b[32m[0114 21:49:05 @base.py:285]\u001b[0m Epoch 32 (global_step 1920) finished, time:1 minute 7 seconds.\n"
     ]
    },
    {
     "name": "stderr",
     "output_type": "stream",
     "text": [
      "\n"
     ]
    },
    {
     "name": "stdout",
     "output_type": "stream",
     "text": [
      "\u001b[32m[0114 21:49:06 @saver.py:79]\u001b[0m Model saved to .//Model//temp_model\\TGAN8\\model\\model-1920.\n",
      "\u001b[32m[0114 21:49:06 @monitor.py:467]\u001b[0m GAN_loss/discrim/accuracy_fake: 0.904\n",
      "\u001b[32m[0114 21:49:06 @monitor.py:467]\u001b[0m GAN_loss/discrim/accuracy_real: 0.218\n",
      "\u001b[32m[0114 21:49:06 @monitor.py:467]\u001b[0m GAN_loss/discrim/loss: 0.62525\n",
      "\u001b[32m[0114 21:49:06 @monitor.py:467]\u001b[0m GAN_loss/gen/final-g-loss: 1.0187\n",
      "\u001b[32m[0114 21:49:06 @monitor.py:467]\u001b[0m GAN_loss/gen/klloss: 0.030364\n",
      "\u001b[32m[0114 21:49:06 @monitor.py:467]\u001b[0m GAN_loss/gen/loss: 0.98829\n",
      "\u001b[32m[0114 21:49:06 @monitor.py:467]\u001b[0m QueueInput/queue_size: 50\n",
      "\u001b[32m[0114 21:49:06 @base.py:275]\u001b[0m Start Epoch 33 ...\n"
     ]
    },
    {
     "name": "stderr",
     "output_type": "stream",
     "text": [
      "100%|#####################################################################################|60/60[01:06<00:00, 0.90it/s]"
     ]
    },
    {
     "name": "stdout",
     "output_type": "stream",
     "text": [
      "\u001b[32m[0114 21:50:13 @base.py:285]\u001b[0m Epoch 33 (global_step 1980) finished, time:1 minute 6 seconds.\n"
     ]
    },
    {
     "name": "stderr",
     "output_type": "stream",
     "text": [
      "\n"
     ]
    },
    {
     "name": "stdout",
     "output_type": "stream",
     "text": [
      "\u001b[32m[0114 21:50:14 @saver.py:79]\u001b[0m Model saved to .//Model//temp_model\\TGAN8\\model\\model-1980.\n",
      "\u001b[32m[0114 21:50:14 @monitor.py:467]\u001b[0m GAN_loss/discrim/accuracy_fake: 0.87\n",
      "\u001b[32m[0114 21:50:14 @monitor.py:467]\u001b[0m GAN_loss/discrim/accuracy_real: 0.198\n",
      "\u001b[32m[0114 21:50:14 @monitor.py:467]\u001b[0m GAN_loss/discrim/loss: 0.6387\n",
      "\u001b[32m[0114 21:50:14 @monitor.py:467]\u001b[0m GAN_loss/gen/final-g-loss: 1.019\n",
      "\u001b[32m[0114 21:50:14 @monitor.py:467]\u001b[0m GAN_loss/gen/klloss: 0.0359\n",
      "\u001b[32m[0114 21:50:14 @monitor.py:467]\u001b[0m GAN_loss/gen/loss: 0.98313\n",
      "\u001b[32m[0114 21:50:14 @monitor.py:467]\u001b[0m QueueInput/queue_size: 50\n",
      "\u001b[32m[0114 21:50:14 @base.py:275]\u001b[0m Start Epoch 34 ...\n"
     ]
    },
    {
     "name": "stderr",
     "output_type": "stream",
     "text": [
      "100%|#####################################################################################|60/60[01:06<00:00, 0.90it/s]"
     ]
    },
    {
     "name": "stdout",
     "output_type": "stream",
     "text": [
      "\u001b[32m[0114 21:51:21 @base.py:285]\u001b[0m Epoch 34 (global_step 2040) finished, time:1 minute 6 seconds.\n"
     ]
    },
    {
     "name": "stderr",
     "output_type": "stream",
     "text": [
      "\n"
     ]
    },
    {
     "name": "stdout",
     "output_type": "stream",
     "text": [
      "\u001b[32m[0114 21:51:23 @saver.py:79]\u001b[0m Model saved to .//Model//temp_model\\TGAN8\\model\\model-2040.\n",
      "\u001b[32m[0114 21:51:23 @monitor.py:467]\u001b[0m GAN_loss/discrim/accuracy_fake: 0.87\n",
      "\u001b[32m[0114 21:51:23 @monitor.py:467]\u001b[0m GAN_loss/discrim/accuracy_real: 0.282\n",
      "\u001b[32m[0114 21:51:23 @monitor.py:467]\u001b[0m GAN_loss/discrim/loss: 0.63722\n",
      "\u001b[32m[0114 21:51:23 @monitor.py:467]\u001b[0m GAN_loss/gen/final-g-loss: 0.99248\n",
      "\u001b[32m[0114 21:51:23 @monitor.py:467]\u001b[0m GAN_loss/gen/klloss: 0.028798\n",
      "\u001b[32m[0114 21:51:23 @monitor.py:467]\u001b[0m GAN_loss/gen/loss: 0.96368\n",
      "\u001b[32m[0114 21:51:23 @monitor.py:467]\u001b[0m QueueInput/queue_size: 50\n",
      "\u001b[32m[0114 21:51:23 @base.py:275]\u001b[0m Start Epoch 35 ...\n"
     ]
    },
    {
     "name": "stderr",
     "output_type": "stream",
     "text": [
      "100%|#####################################################################################|60/60[01:07<00:00, 0.89it/s]"
     ]
    },
    {
     "name": "stdout",
     "output_type": "stream",
     "text": [
      "\u001b[32m[0114 21:52:30 @base.py:285]\u001b[0m Epoch 35 (global_step 2100) finished, time:1 minute 7 seconds.\n"
     ]
    },
    {
     "name": "stderr",
     "output_type": "stream",
     "text": [
      "\n"
     ]
    },
    {
     "name": "stdout",
     "output_type": "stream",
     "text": [
      "\u001b[32m[0114 21:52:31 @saver.py:79]\u001b[0m Model saved to .//Model//temp_model\\TGAN8\\model\\model-2100.\n",
      "\u001b[32m[0114 21:52:31 @monitor.py:467]\u001b[0m GAN_loss/discrim/accuracy_fake: 0.872\n",
      "\u001b[32m[0114 21:52:31 @monitor.py:467]\u001b[0m GAN_loss/discrim/accuracy_real: 0.256\n",
      "\u001b[32m[0114 21:52:31 @monitor.py:467]\u001b[0m GAN_loss/discrim/loss: 0.6314\n",
      "\u001b[32m[0114 21:52:31 @monitor.py:467]\u001b[0m GAN_loss/gen/final-g-loss: 1.0111\n",
      "\u001b[32m[0114 21:52:31 @monitor.py:467]\u001b[0m GAN_loss/gen/klloss: 0.036486\n",
      "\u001b[32m[0114 21:52:31 @monitor.py:467]\u001b[0m GAN_loss/gen/loss: 0.97464\n",
      "\u001b[32m[0114 21:52:31 @monitor.py:467]\u001b[0m QueueInput/queue_size: 50\n",
      "\u001b[32m[0114 21:52:31 @base.py:275]\u001b[0m Start Epoch 36 ...\n"
     ]
    },
    {
     "name": "stderr",
     "output_type": "stream",
     "text": [
      "100%|#####################################################################################|60/60[01:06<00:00, 0.90it/s]"
     ]
    },
    {
     "name": "stdout",
     "output_type": "stream",
     "text": [
      "\u001b[32m[0114 21:53:38 @base.py:285]\u001b[0m Epoch 36 (global_step 2160) finished, time:1 minute 6 seconds.\n"
     ]
    },
    {
     "name": "stderr",
     "output_type": "stream",
     "text": [
      "\n"
     ]
    },
    {
     "name": "stdout",
     "output_type": "stream",
     "text": [
      "\u001b[32m[0114 21:53:38 @saver.py:79]\u001b[0m Model saved to .//Model//temp_model\\TGAN8\\model\\model-2160.\n",
      "\u001b[32m[0114 21:53:38 @monitor.py:467]\u001b[0m GAN_loss/discrim/accuracy_fake: 0.874\n",
      "\u001b[32m[0114 21:53:38 @monitor.py:467]\u001b[0m GAN_loss/discrim/accuracy_real: 0.224\n",
      "\u001b[32m[0114 21:53:38 @monitor.py:467]\u001b[0m GAN_loss/discrim/loss: 0.64134\n",
      "\u001b[32m[0114 21:53:38 @monitor.py:467]\u001b[0m GAN_loss/gen/final-g-loss: 1.0151\n",
      "\u001b[32m[0114 21:53:38 @monitor.py:467]\u001b[0m GAN_loss/gen/klloss: 0.043547\n",
      "\u001b[32m[0114 21:53:38 @monitor.py:467]\u001b[0m GAN_loss/gen/loss: 0.97158\n",
      "\u001b[32m[0114 21:53:38 @monitor.py:467]\u001b[0m QueueInput/queue_size: 50\n",
      "\u001b[32m[0114 21:53:38 @base.py:275]\u001b[0m Start Epoch 37 ...\n"
     ]
    },
    {
     "name": "stderr",
     "output_type": "stream",
     "text": [
      "100%|#####################################################################################|60/60[01:07<00:00, 0.89it/s]"
     ]
    },
    {
     "name": "stdout",
     "output_type": "stream",
     "text": [
      "\u001b[32m[0114 21:54:46 @base.py:285]\u001b[0m Epoch 37 (global_step 2220) finished, time:1 minute 7 seconds.\n"
     ]
    },
    {
     "name": "stderr",
     "output_type": "stream",
     "text": [
      "\n"
     ]
    },
    {
     "name": "stdout",
     "output_type": "stream",
     "text": [
      "\u001b[32m[0114 21:54:46 @saver.py:79]\u001b[0m Model saved to .//Model//temp_model\\TGAN8\\model\\model-2220.\n",
      "\u001b[32m[0114 21:54:46 @monitor.py:467]\u001b[0m GAN_loss/discrim/accuracy_fake: 0.88\n",
      "\u001b[32m[0114 21:54:46 @monitor.py:467]\u001b[0m GAN_loss/discrim/accuracy_real: 0.236\n",
      "\u001b[32m[0114 21:54:46 @monitor.py:467]\u001b[0m GAN_loss/discrim/loss: 0.636\n",
      "\u001b[32m[0114 21:54:46 @monitor.py:467]\u001b[0m GAN_loss/gen/final-g-loss: 1.0151\n",
      "\u001b[32m[0114 21:54:46 @monitor.py:467]\u001b[0m GAN_loss/gen/klloss: 0.041763\n",
      "\u001b[32m[0114 21:54:46 @monitor.py:467]\u001b[0m GAN_loss/gen/loss: 0.97333\n",
      "\u001b[32m[0114 21:54:46 @monitor.py:467]\u001b[0m QueueInput/queue_size: 50\n",
      "\u001b[32m[0114 21:54:46 @base.py:275]\u001b[0m Start Epoch 38 ...\n"
     ]
    },
    {
     "name": "stderr",
     "output_type": "stream",
     "text": [
      "100%|#####################################################################################|60/60[01:07<00:00, 0.89it/s]"
     ]
    },
    {
     "name": "stdout",
     "output_type": "stream",
     "text": [
      "\u001b[32m[0114 21:55:54 @base.py:285]\u001b[0m Epoch 38 (global_step 2280) finished, time:1 minute 7 seconds.\n"
     ]
    },
    {
     "name": "stderr",
     "output_type": "stream",
     "text": [
      "\n"
     ]
    },
    {
     "name": "stdout",
     "output_type": "stream",
     "text": [
      "\u001b[32m[0114 21:55:54 @saver.py:79]\u001b[0m Model saved to .//Model//temp_model\\TGAN8\\model\\model-2280.\n",
      "\u001b[32m[0114 21:55:54 @monitor.py:467]\u001b[0m GAN_loss/discrim/accuracy_fake: 0.862\n",
      "\u001b[32m[0114 21:55:54 @monitor.py:467]\u001b[0m GAN_loss/discrim/accuracy_real: 0.222\n",
      "\u001b[32m[0114 21:55:54 @monitor.py:467]\u001b[0m GAN_loss/discrim/loss: 0.64134\n",
      "\u001b[32m[0114 21:55:54 @monitor.py:467]\u001b[0m GAN_loss/gen/final-g-loss: 0.99192\n",
      "\u001b[32m[0114 21:55:54 @monitor.py:467]\u001b[0m GAN_loss/gen/klloss: 0.032696\n",
      "\u001b[32m[0114 21:55:54 @monitor.py:467]\u001b[0m GAN_loss/gen/loss: 0.95922\n",
      "\u001b[32m[0114 21:55:54 @monitor.py:467]\u001b[0m QueueInput/queue_size: 50\n",
      "\u001b[32m[0114 21:55:54 @base.py:275]\u001b[0m Start Epoch 39 ...\n"
     ]
    },
    {
     "name": "stderr",
     "output_type": "stream",
     "text": [
      "100%|#####################################################################################|60/60[01:07<00:00, 0.88it/s]"
     ]
    },
    {
     "name": "stdout",
     "output_type": "stream",
     "text": [
      "\u001b[32m[0114 21:57:02 @base.py:285]\u001b[0m Epoch 39 (global_step 2340) finished, time:1 minute 7 seconds.\n"
     ]
    },
    {
     "name": "stderr",
     "output_type": "stream",
     "text": [
      "\n"
     ]
    },
    {
     "name": "stdout",
     "output_type": "stream",
     "text": [
      "\u001b[32m[0114 21:57:03 @saver.py:79]\u001b[0m Model saved to .//Model//temp_model\\TGAN8\\model\\model-2340.\n",
      "\u001b[32m[0114 21:57:03 @monitor.py:467]\u001b[0m GAN_loss/discrim/accuracy_fake: 0.872\n",
      "\u001b[32m[0114 21:57:03 @monitor.py:467]\u001b[0m GAN_loss/discrim/accuracy_real: 0.234\n",
      "\u001b[32m[0114 21:57:03 @monitor.py:467]\u001b[0m GAN_loss/discrim/loss: 0.63745\n",
      "\u001b[32m[0114 21:57:03 @monitor.py:467]\u001b[0m GAN_loss/gen/final-g-loss: 0.98913\n",
      "\u001b[32m[0114 21:57:03 @monitor.py:467]\u001b[0m GAN_loss/gen/klloss: 0.022871\n",
      "\u001b[32m[0114 21:57:03 @monitor.py:467]\u001b[0m GAN_loss/gen/loss: 0.96626\n",
      "\u001b[32m[0114 21:57:03 @monitor.py:467]\u001b[0m QueueInput/queue_size: 50\n",
      "\u001b[32m[0114 21:57:03 @base.py:275]\u001b[0m Start Epoch 40 ...\n"
     ]
    },
    {
     "name": "stderr",
     "output_type": "stream",
     "text": [
      "100%|#####################################################################################|60/60[01:07<00:00, 0.89it/s]"
     ]
    },
    {
     "name": "stdout",
     "output_type": "stream",
     "text": [
      "\u001b[32m[0114 21:58:10 @base.py:285]\u001b[0m Epoch 40 (global_step 2400) finished, time:1 minute 7 seconds.\n"
     ]
    },
    {
     "name": "stderr",
     "output_type": "stream",
     "text": [
      "\n"
     ]
    },
    {
     "name": "stdout",
     "output_type": "stream",
     "text": [
      "\u001b[32m[0114 21:58:11 @saver.py:79]\u001b[0m Model saved to .//Model//temp_model\\TGAN8\\model\\model-2400.\n",
      "\u001b[32m[0114 21:58:11 @monitor.py:467]\u001b[0m GAN_loss/discrim/accuracy_fake: 0.898\n",
      "\u001b[32m[0114 21:58:11 @monitor.py:467]\u001b[0m GAN_loss/discrim/accuracy_real: 0.182\n",
      "\u001b[32m[0114 21:58:11 @monitor.py:467]\u001b[0m GAN_loss/discrim/loss: 0.64128\n",
      "\u001b[32m[0114 21:58:11 @monitor.py:467]\u001b[0m GAN_loss/gen/final-g-loss: 0.99949\n",
      "\u001b[32m[0114 21:58:11 @monitor.py:467]\u001b[0m GAN_loss/gen/klloss: 0.019715\n",
      "\u001b[32m[0114 21:58:11 @monitor.py:467]\u001b[0m GAN_loss/gen/loss: 0.97977\n",
      "\u001b[32m[0114 21:58:11 @monitor.py:467]\u001b[0m QueueInput/queue_size: 50\n",
      "\u001b[32m[0114 21:58:11 @base.py:289]\u001b[0m Training has finished!\n",
      "\u001b[32m[0114 21:58:12 @input_source.py:178]\u001b[0m EnqueueThread QueueInput/input_queue Exited.\n",
      "\u001b[32m[0114 21:58:12 @collection.py:146]\u001b[0m New collections created in tower : tf.GraphKeys.REGULARIZATION_LOSSES\n",
      "\u001b[32m[0114 21:58:12 @collection.py:165]\u001b[0m These collections were modified but restored in : (tf.GraphKeys.SUMMARIES: 0->2)\n",
      "\u001b[32m[0114 21:58:12 @sessinit.py:87]\u001b[0m \u001b[5m\u001b[31mWRN\u001b[0m The following variables are in the checkpoint, but not found in the graph: global_step, optimize/beta1_power, optimize/beta2_power\n",
      "INFO:tensorflow:Graph was finalized.\n",
      "INFO:tensorflow:Running local_init_op.\n",
      "INFO:tensorflow:Done running local_init_op.\n",
      "\u001b[32m[0114 21:58:13 @sessinit.py:114]\u001b[0m Restoring checkpoint from .//Model//temp_model\\TGAN8\\model\\model-2400 ...\n",
      "INFO:tensorflow:Restoring parameters from .//Model//temp_model\\TGAN8\\model\\model-2400\n"
     ]
    },
    {
     "name": "stderr",
     "output_type": "stream",
     "text": [
      " 12%|#########9                                                                          |59/500[00:16<02:06, 3.50it/s]\n"
     ]
    },
    {
     "name": "stdout",
     "output_type": "stream",
     "text": [
      "\u001b[32m[0114 21:58:31 @input_source.py:222]\u001b[0m Setting up the queue 'QueueInput/input_queue' for CPU prefetching ...\n",
      "\u001b[32m[0114 21:58:35 @logger.py:90]\u001b[0m Argv: C:\\Users\\Arne\\anaconda3\\envs\\tfv1\\lib\\site-packages\\ipykernel_launcher.py -f C:\\Users\\Arne\\AppData\\Roaming\\jupyter\\runtime\\kernel-95c990b4-007f-4c92-b889-4b29f1351785.json\n",
      "\u001b[32m[0114 21:58:35 @model_utils.py:67]\u001b[0m \u001b[36mList of Trainable Variables: \n",
      "\u001b[0mname                              shape           #elements\n",
      "--------------------------------  ------------  -----------\n",
      "gen/LSTM/go:0                     [1, 100]              100\n",
      "gen/LSTM/lstm_cell/kernel:0       [500, 400]         200000\n",
      "gen/LSTM/lstm_cell/bias:0         [400]                 400\n",
      "gen/LSTM/00/FC/W:0                [100, 100]          10000\n",
      "gen/LSTM/00/FC/b:0                [100]                 100\n",
      "gen/LSTM/00/FC2/W:0               [100, 72]            7200\n",
      "gen/LSTM/00/FC2/b:0               [72]                   72\n",
      "gen/LSTM/00/FC3/W:0               [72, 100]            7200\n",
      "gen/LSTM/00/FC3/b:0               [100]                 100\n",
      "gen/LSTM/00/attw:0                [1, 1, 1]               1\n",
      "gen/LSTM/01/FC/W:0                [100, 100]          10000\n",
      "gen/LSTM/01/FC/b:0                [100]                 100\n",
      "gen/LSTM/01/FC2/W:0               [100, 5]              500\n",
      "gen/LSTM/01/FC2/b:0               [5]                     5\n",
      "gen/LSTM/01/FC3/W:0               [5, 100]              500\n",
      "gen/LSTM/01/FC3/b:0               [100]                 100\n",
      "gen/LSTM/01/attw:0                [2, 1, 1]               2\n",
      "gen/LSTM/02/FC/W:0                [100, 100]          10000\n",
      "gen/LSTM/02/FC/b:0                [100]                 100\n",
      "gen/LSTM/02/FC2/W:0               [100, 20263]      2026300\n",
      "gen/LSTM/02/FC2/b:0               [20263]             20263\n",
      "gen/LSTM/02/FC3/W:0               [20263, 100]      2026300\n",
      "gen/LSTM/02/FC3/b:0               [100]                 100\n",
      "gen/LSTM/02/attw:0                [3, 1, 1]               3\n",
      "gen/LSTM/03/FC/W:0                [100, 100]          10000\n",
      "gen/LSTM/03/FC/b:0                [100]                 100\n",
      "gen/LSTM/03/FC2/W:0               [100, 9]              900\n",
      "gen/LSTM/03/FC2/b:0               [9]                     9\n",
      "gen/LSTM/03/FC3/W:0               [9, 100]              900\n",
      "gen/LSTM/03/FC3/b:0               [100]                 100\n",
      "gen/LSTM/03/attw:0                [4, 1, 1]               4\n",
      "gen/LSTM/04/FC/W:0                [100, 100]          10000\n",
      "gen/LSTM/04/FC/b:0                [100]                 100\n",
      "gen/LSTM/04/FC2/W:0               [100, 16]            1600\n",
      "gen/LSTM/04/FC2/b:0               [16]                   16\n",
      "gen/LSTM/04/FC3/W:0               [16, 100]            1600\n",
      "gen/LSTM/04/FC3/b:0               [100]                 100\n",
      "gen/LSTM/04/attw:0                [5, 1, 1]               5\n",
      "gen/LSTM/05/FC/W:0                [100, 100]          10000\n",
      "gen/LSTM/05/FC/b:0                [100]                 100\n",
      "gen/LSTM/05/FC2/W:0               [100, 5]              500\n",
      "gen/LSTM/05/FC2/b:0               [5]                     5\n",
      "gen/LSTM/05/FC3/W:0               [5, 100]              500\n",
      "gen/LSTM/05/FC3/b:0               [100]                 100\n",
      "gen/LSTM/05/attw:0                [6, 1, 1]               6\n",
      "gen/LSTM/06/FC/W:0                [100, 100]          10000\n",
      "gen/LSTM/06/FC/b:0                [100]                 100\n",
      "gen/LSTM/06/FC2/W:0               [100, 14]            1400\n",
      "gen/LSTM/06/FC2/b:0               [14]                   14\n",
      "gen/LSTM/06/FC3/W:0               [14, 100]            1400\n",
      "gen/LSTM/06/FC3/b:0               [100]                 100\n",
      "gen/LSTM/06/attw:0                [7, 1, 1]               7\n",
      "gen/LSTM/07/FC/W:0                [100, 100]          10000\n",
      "gen/LSTM/07/FC/b:0                [100]                 100\n",
      "gen/LSTM/07/FC2/W:0               [100, 5]              500\n",
      "gen/LSTM/07/FC2/b:0               [5]                     5\n",
      "gen/LSTM/07/FC3/W:0               [5, 100]              500\n",
      "gen/LSTM/07/FC3/b:0               [100]                 100\n",
      "gen/LSTM/07/attw:0                [8, 1, 1]               8\n",
      "gen/LSTM/08/FC/W:0                [100, 100]          10000\n",
      "gen/LSTM/08/FC/b:0                [100]                 100\n",
      "gen/LSTM/08/FC2/W:0               [100, 2]              200\n",
      "gen/LSTM/08/FC2/b:0               [2]                     2\n",
      "gen/LSTM/08/FC3/W:0               [2, 100]              200\n",
      "gen/LSTM/08/FC3/b:0               [100]                 100\n",
      "gen/LSTM/08/attw:0                [9, 1, 1]               9\n",
      "gen/LSTM/09/FC/W:0                [100, 100]          10000\n",
      "gen/LSTM/09/FC/b:0                [100]                 100\n",
      "gen/LSTM/09/FC2/W:0               [100, 118]          11800\n",
      "gen/LSTM/09/FC2/b:0               [118]                 118\n",
      "gen/LSTM/09/FC3/W:0               [118, 100]          11800\n",
      "gen/LSTM/09/FC3/b:0               [100]                 100\n",
      "gen/LSTM/09/attw:0                [10, 1, 1]             10\n",
      "gen/LSTM/10/FC/W:0                [100, 100]          10000\n",
      "gen/LSTM/10/FC/b:0                [100]                 100\n",
      "gen/LSTM/10/FC2/W:0               [100, 90]            9000\n",
      "gen/LSTM/10/FC2/b:0               [90]                   90\n",
      "gen/LSTM/10/FC3/W:0               [90, 100]            9000\n",
      "gen/LSTM/10/FC3/b:0               [100]                 100\n",
      "gen/LSTM/10/attw:0                [11, 1, 1]             11\n",
      "gen/LSTM/11/FC/W:0                [100, 100]          10000\n",
      "gen/LSTM/11/FC/b:0                [100]                 100\n",
      "gen/LSTM/11/FC2/W:0               [100, 94]            9400\n",
      "gen/LSTM/11/FC2/b:0               [94]                   94\n",
      "gen/LSTM/11/FC3/W:0               [94, 100]            9400\n",
      "gen/LSTM/11/FC3/b:0               [100]                 100\n",
      "gen/LSTM/11/attw:0                [12, 1, 1]             12\n",
      "gen/LSTM/12/FC/W:0                [100, 100]          10000\n",
      "gen/LSTM/12/FC/b:0                [100]                 100\n",
      "gen/LSTM/12/FC2/W:0               [100, 2]              200\n",
      "gen/LSTM/12/FC2/b:0               [2]                     2\n",
      "gen/LSTM/12/FC3/W:0               [2, 100]              200\n",
      "gen/LSTM/12/FC3/b:0               [100]                 100\n",
      "gen/LSTM/12/attw:0                [13, 1, 1]             13\n",
      "gen/LSTM/13/FC/W:0                [100, 100]          10000\n",
      "gen/LSTM/13/FC/b:0                [100]                 100\n",
      "gen/LSTM/13/FC2/W:0               [100, 2]              200\n",
      "gen/LSTM/13/FC2/b:0               [2]                     2\n",
      "gen/LSTM/13/FC3/W:0               [2, 100]              200\n",
      "gen/LSTM/13/FC3/b:0               [100]                 100\n",
      "gen/LSTM/13/attw:0                [14, 1, 1]             14\n",
      "discrim/dis_fc0/fc/W:0            [20697, 256]      5298432\n",
      "discrim/dis_fc0/fc/b:0            [256]                 256\n",
      "discrim/dis_fc0/fc_diversity/W:0  [256, 100]          25600\n",
      "discrim/dis_fc0/fc_diversity/b:0  [100]                 100\n",
      "discrim/dis_fc0/bn/beta:0         [266]                 266\n",
      "discrim/dis_fc_top/W:0            [266, 1]              266\n",
      "discrim/dis_fc_top/b:0            [1]                     1\u001b[36m\n",
      "Number of trainable variables: 108\n",
      "Number of parameters (elements): 9828423\n",
      "Storage space needed for all trainable variables: 37.49MB\u001b[0m\n",
      "\u001b[32m[0114 21:58:35 @base.py:209]\u001b[0m Setup callbacks graph ...\n",
      "\u001b[32m[0114 21:58:35 @summary.py:46]\u001b[0m [MovingAverageSummary] 6 operations in collection 'MOVING_SUMMARY_OPS' will be run with session hooks.\n",
      "\u001b[32m[0114 21:58:35 @summary.py:93]\u001b[0m Summarizing collection 'summaries' of size 9.\n",
      "\u001b[32m[0114 21:58:35 @graph.py:98]\u001b[0m Applying collection UPDATE_OPS of 4 ops.\n",
      "\u001b[32m[0114 21:58:36 @base.py:230]\u001b[0m Creating the session ...\n",
      "\u001b[32m[0114 21:58:37 @base.py:236]\u001b[0m Initializing the session ...\n",
      "\u001b[32m[0114 21:58:37 @base.py:243]\u001b[0m Graph Finalized.\n",
      "\u001b[32m[0114 21:58:37 @concurrency.py:38]\u001b[0m Starting EnqueueThread QueueInput/input_queue ...\n",
      "\u001b[32m[0114 21:58:38 @base.py:275]\u001b[0m Start Epoch 1 ...\n"
     ]
    },
    {
     "name": "stderr",
     "output_type": "stream",
     "text": [
      "100%|#####################################################################################|60/60[01:11<00:00, 0.84it/s]"
     ]
    },
    {
     "name": "stdout",
     "output_type": "stream",
     "text": [
      "\u001b[32m[0114 21:59:49 @base.py:285]\u001b[0m Epoch 1 (global_step 60) finished, time:1 minute 11 seconds.\n"
     ]
    },
    {
     "name": "stderr",
     "output_type": "stream",
     "text": [
      "\n"
     ]
    },
    {
     "name": "stdout",
     "output_type": "stream",
     "text": [
      "\u001b[32m[0114 21:59:50 @saver.py:79]\u001b[0m Model saved to .//Model//temp_model\\TGAN9\\model\\model-60.\n",
      "\u001b[32m[0114 21:59:50 @monitor.py:467]\u001b[0m GAN_loss/discrim/accuracy_fake: 0.738\n",
      "\u001b[32m[0114 21:59:50 @monitor.py:467]\u001b[0m GAN_loss/discrim/accuracy_real: 0.316\n",
      "\u001b[32m[0114 21:59:50 @monitor.py:467]\u001b[0m GAN_loss/discrim/loss: 0.73112\n",
      "\u001b[32m[0114 21:59:50 @monitor.py:467]\u001b[0m GAN_loss/gen/final-g-loss: 1.1775\n",
      "\u001b[32m[0114 21:59:50 @monitor.py:467]\u001b[0m GAN_loss/gen/klloss: 0.019561\n",
      "\u001b[32m[0114 21:59:50 @monitor.py:467]\u001b[0m GAN_loss/gen/loss: 1.1579\n",
      "\u001b[32m[0114 21:59:50 @monitor.py:467]\u001b[0m QueueInput/queue_size: 50\n",
      "\u001b[32m[0114 21:59:50 @base.py:275]\u001b[0m Start Epoch 2 ...\n"
     ]
    },
    {
     "name": "stderr",
     "output_type": "stream",
     "text": [
      "100%|#####################################################################################|60/60[01:07<00:00, 0.88it/s]"
     ]
    },
    {
     "name": "stdout",
     "output_type": "stream",
     "text": [
      "\u001b[32m[0114 22:00:58 @base.py:285]\u001b[0m Epoch 2 (global_step 120) finished, time:1 minute 7 seconds.\n"
     ]
    },
    {
     "name": "stderr",
     "output_type": "stream",
     "text": [
      "\n"
     ]
    },
    {
     "name": "stdout",
     "output_type": "stream",
     "text": [
      "\u001b[32m[0114 22:00:59 @saver.py:79]\u001b[0m Model saved to .//Model//temp_model\\TGAN9\\model\\model-120.\n",
      "\u001b[32m[0114 22:00:59 @monitor.py:467]\u001b[0m GAN_loss/discrim/accuracy_fake: 0.808\n",
      "\u001b[32m[0114 22:00:59 @monitor.py:467]\u001b[0m GAN_loss/discrim/accuracy_real: 0.31\n",
      "\u001b[32m[0114 22:00:59 @monitor.py:467]\u001b[0m GAN_loss/discrim/loss: 0.64821\n",
      "\u001b[32m[0114 22:00:59 @monitor.py:467]\u001b[0m GAN_loss/gen/final-g-loss: 1.0982\n",
      "\u001b[32m[0114 22:00:59 @monitor.py:467]\u001b[0m GAN_loss/gen/klloss: 0.038781\n",
      "\u001b[32m[0114 22:00:59 @monitor.py:467]\u001b[0m GAN_loss/gen/loss: 1.0594\n",
      "\u001b[32m[0114 22:00:59 @monitor.py:467]\u001b[0m QueueInput/queue_size: 50\n",
      "\u001b[32m[0114 22:00:59 @base.py:275]\u001b[0m Start Epoch 3 ...\n"
     ]
    },
    {
     "name": "stderr",
     "output_type": "stream",
     "text": [
      "100%|#####################################################################################|60/60[01:09<00:00, 0.86it/s]"
     ]
    },
    {
     "name": "stdout",
     "output_type": "stream",
     "text": [
      "\u001b[32m[0114 22:02:09 @base.py:285]\u001b[0m Epoch 3 (global_step 180) finished, time:1 minute 9 seconds.\n"
     ]
    },
    {
     "name": "stderr",
     "output_type": "stream",
     "text": [
      "\n"
     ]
    },
    {
     "name": "stdout",
     "output_type": "stream",
     "text": [
      "\u001b[32m[0114 22:02:10 @saver.py:79]\u001b[0m Model saved to .//Model//temp_model\\TGAN9\\model\\model-180.\n",
      "\u001b[32m[0114 22:02:10 @monitor.py:467]\u001b[0m GAN_loss/discrim/accuracy_fake: 0.82\n",
      "\u001b[32m[0114 22:02:10 @monitor.py:467]\u001b[0m GAN_loss/discrim/accuracy_real: 0.362\n",
      "\u001b[32m[0114 22:02:10 @monitor.py:467]\u001b[0m GAN_loss/discrim/loss: 0.63463\n",
      "\u001b[32m[0114 22:02:10 @monitor.py:467]\u001b[0m GAN_loss/gen/final-g-loss: 1.0266\n",
      "\u001b[32m[0114 22:02:10 @monitor.py:467]\u001b[0m GAN_loss/gen/klloss: 0.014701\n",
      "\u001b[32m[0114 22:02:10 @monitor.py:467]\u001b[0m GAN_loss/gen/loss: 1.0119\n",
      "\u001b[32m[0114 22:02:10 @monitor.py:467]\u001b[0m QueueInput/queue_size: 50\n",
      "\u001b[32m[0114 22:02:10 @base.py:275]\u001b[0m Start Epoch 4 ...\n"
     ]
    },
    {
     "name": "stderr",
     "output_type": "stream",
     "text": [
      "100%|#####################################################################################|60/60[01:07<00:00, 0.89it/s]"
     ]
    },
    {
     "name": "stdout",
     "output_type": "stream",
     "text": [
      "\u001b[32m[0114 22:03:17 @base.py:285]\u001b[0m Epoch 4 (global_step 240) finished, time:1 minute 7 seconds.\n"
     ]
    },
    {
     "name": "stderr",
     "output_type": "stream",
     "text": [
      "\n"
     ]
    },
    {
     "name": "stdout",
     "output_type": "stream",
     "text": [
      "\u001b[32m[0114 22:03:18 @saver.py:79]\u001b[0m Model saved to .//Model//temp_model\\TGAN9\\model\\model-240.\n",
      "\u001b[32m[0114 22:03:18 @monitor.py:467]\u001b[0m GAN_loss/discrim/accuracy_fake: 0.85\n",
      "\u001b[32m[0114 22:03:18 @monitor.py:467]\u001b[0m GAN_loss/discrim/accuracy_real: 0.394\n",
      "\u001b[32m[0114 22:03:18 @monitor.py:467]\u001b[0m GAN_loss/discrim/loss: 0.61264\n",
      "\u001b[32m[0114 22:03:18 @monitor.py:467]\u001b[0m GAN_loss/gen/final-g-loss: 1.085\n",
      "\u001b[32m[0114 22:03:18 @monitor.py:467]\u001b[0m GAN_loss/gen/klloss: 0.028847\n",
      "\u001b[32m[0114 22:03:18 @monitor.py:467]\u001b[0m GAN_loss/gen/loss: 1.0562\n",
      "\u001b[32m[0114 22:03:18 @monitor.py:467]\u001b[0m QueueInput/queue_size: 50\n",
      "\u001b[32m[0114 22:03:18 @base.py:275]\u001b[0m Start Epoch 5 ...\n"
     ]
    },
    {
     "name": "stderr",
     "output_type": "stream",
     "text": [
      "100%|#####################################################################################|60/60[01:07<00:00, 0.89it/s]"
     ]
    },
    {
     "name": "stdout",
     "output_type": "stream",
     "text": [
      "\u001b[32m[0114 22:04:25 @base.py:285]\u001b[0m Epoch 5 (global_step 300) finished, time:1 minute 7 seconds.\n"
     ]
    },
    {
     "name": "stderr",
     "output_type": "stream",
     "text": [
      "\n"
     ]
    },
    {
     "name": "stdout",
     "output_type": "stream",
     "text": [
      "\u001b[32m[0114 22:04:26 @saver.py:79]\u001b[0m Model saved to .//Model//temp_model\\TGAN9\\model\\model-300.\n",
      "\u001b[32m[0114 22:04:26 @monitor.py:467]\u001b[0m GAN_loss/discrim/accuracy_fake: 0.836\n",
      "\u001b[32m[0114 22:04:26 @monitor.py:467]\u001b[0m GAN_loss/discrim/accuracy_real: 0.378\n",
      "\u001b[32m[0114 22:04:26 @monitor.py:467]\u001b[0m GAN_loss/discrim/loss: 0.61539\n",
      "\u001b[32m[0114 22:04:26 @monitor.py:467]\u001b[0m GAN_loss/gen/final-g-loss: 1.0666\n",
      "\u001b[32m[0114 22:04:26 @monitor.py:467]\u001b[0m GAN_loss/gen/klloss: 0.024621\n",
      "\u001b[32m[0114 22:04:26 @monitor.py:467]\u001b[0m GAN_loss/gen/loss: 1.0419\n",
      "\u001b[32m[0114 22:04:26 @monitor.py:467]\u001b[0m QueueInput/queue_size: 50\n",
      "\u001b[32m[0114 22:04:26 @base.py:275]\u001b[0m Start Epoch 6 ...\n"
     ]
    },
    {
     "name": "stderr",
     "output_type": "stream",
     "text": [
      "100%|#####################################################################################|60/60[01:10<00:00, 0.85it/s]"
     ]
    },
    {
     "name": "stdout",
     "output_type": "stream",
     "text": [
      "\u001b[32m[0114 22:05:36 @base.py:285]\u001b[0m Epoch 6 (global_step 360) finished, time:1 minute 10 seconds.\n"
     ]
    },
    {
     "name": "stderr",
     "output_type": "stream",
     "text": [
      "\n"
     ]
    },
    {
     "name": "stdout",
     "output_type": "stream",
     "text": [
      "\u001b[32m[0114 22:05:36 @saver.py:79]\u001b[0m Model saved to .//Model//temp_model\\TGAN9\\model\\model-360.\n",
      "\u001b[32m[0114 22:05:36 @monitor.py:467]\u001b[0m GAN_loss/discrim/accuracy_fake: 0.836\n",
      "\u001b[32m[0114 22:05:36 @monitor.py:467]\u001b[0m GAN_loss/discrim/accuracy_real: 0.352\n",
      "\u001b[32m[0114 22:05:36 @monitor.py:467]\u001b[0m GAN_loss/discrim/loss: 0.62628\n",
      "\u001b[32m[0114 22:05:36 @monitor.py:467]\u001b[0m GAN_loss/gen/final-g-loss: 1.0734\n",
      "\u001b[32m[0114 22:05:36 @monitor.py:467]\u001b[0m GAN_loss/gen/klloss: 0.031869\n",
      "\u001b[32m[0114 22:05:36 @monitor.py:467]\u001b[0m GAN_loss/gen/loss: 1.0415\n",
      "\u001b[32m[0114 22:05:36 @monitor.py:467]\u001b[0m QueueInput/queue_size: 50\n",
      "\u001b[32m[0114 22:05:36 @base.py:275]\u001b[0m Start Epoch 7 ...\n"
     ]
    },
    {
     "name": "stderr",
     "output_type": "stream",
     "text": [
      "100%|#####################################################################################|60/60[01:08<00:00, 0.88it/s]"
     ]
    },
    {
     "name": "stdout",
     "output_type": "stream",
     "text": [
      "\u001b[32m[0114 22:06:45 @base.py:285]\u001b[0m Epoch 7 (global_step 420) finished, time:1 minute 8 seconds.\n"
     ]
    },
    {
     "name": "stderr",
     "output_type": "stream",
     "text": [
      "\n"
     ]
    },
    {
     "name": "stdout",
     "output_type": "stream",
     "text": [
      "\u001b[32m[0114 22:06:46 @saver.py:79]\u001b[0m Model saved to .//Model//temp_model\\TGAN9\\model\\model-420.\n",
      "\u001b[32m[0114 22:06:46 @monitor.py:467]\u001b[0m GAN_loss/discrim/accuracy_fake: 0.852\n",
      "\u001b[32m[0114 22:06:46 @monitor.py:467]\u001b[0m GAN_loss/discrim/accuracy_real: 0.35\n",
      "\u001b[32m[0114 22:06:46 @monitor.py:467]\u001b[0m GAN_loss/discrim/loss: 0.61884\n",
      "\u001b[32m[0114 22:06:46 @monitor.py:467]\u001b[0m GAN_loss/gen/final-g-loss: 1.115\n",
      "\u001b[32m[0114 22:06:46 @monitor.py:467]\u001b[0m GAN_loss/gen/klloss: 0.054328\n",
      "\u001b[32m[0114 22:06:46 @monitor.py:467]\u001b[0m GAN_loss/gen/loss: 1.0606\n",
      "\u001b[32m[0114 22:06:46 @monitor.py:467]\u001b[0m QueueInput/queue_size: 50\n",
      "\u001b[32m[0114 22:06:46 @base.py:275]\u001b[0m Start Epoch 8 ...\n"
     ]
    },
    {
     "name": "stderr",
     "output_type": "stream",
     "text": [
      "100%|#####################################################################################|60/60[01:07<00:00, 0.89it/s]"
     ]
    },
    {
     "name": "stdout",
     "output_type": "stream",
     "text": [
      "\u001b[32m[0114 22:07:53 @base.py:285]\u001b[0m Epoch 8 (global_step 480) finished, time:1 minute 7 seconds.\n"
     ]
    },
    {
     "name": "stderr",
     "output_type": "stream",
     "text": [
      "\n"
     ]
    },
    {
     "name": "stdout",
     "output_type": "stream",
     "text": [
      "\u001b[32m[0114 22:07:54 @saver.py:79]\u001b[0m Model saved to .//Model//temp_model\\TGAN9\\model\\model-480.\n",
      "\u001b[32m[0114 22:07:54 @monitor.py:467]\u001b[0m GAN_loss/discrim/accuracy_fake: 0.832\n",
      "\u001b[32m[0114 22:07:54 @monitor.py:467]\u001b[0m GAN_loss/discrim/accuracy_real: 0.328\n",
      "\u001b[32m[0114 22:07:54 @monitor.py:467]\u001b[0m GAN_loss/discrim/loss: 0.62655\n",
      "\u001b[32m[0114 22:07:54 @monitor.py:467]\u001b[0m GAN_loss/gen/final-g-loss: 1.0821\n",
      "\u001b[32m[0114 22:07:54 @monitor.py:467]\u001b[0m GAN_loss/gen/klloss: 0.042581\n",
      "\u001b[32m[0114 22:07:54 @monitor.py:467]\u001b[0m GAN_loss/gen/loss: 1.0395\n",
      "\u001b[32m[0114 22:07:54 @monitor.py:467]\u001b[0m QueueInput/queue_size: 50\n",
      "\u001b[32m[0114 22:07:54 @base.py:275]\u001b[0m Start Epoch 9 ...\n"
     ]
    },
    {
     "name": "stderr",
     "output_type": "stream",
     "text": [
      "100%|#####################################################################################|60/60[01:07<00:00, 0.89it/s]"
     ]
    },
    {
     "name": "stdout",
     "output_type": "stream",
     "text": [
      "\u001b[32m[0114 22:09:02 @base.py:285]\u001b[0m Epoch 9 (global_step 540) finished, time:1 minute 7 seconds.\n"
     ]
    },
    {
     "name": "stderr",
     "output_type": "stream",
     "text": [
      "\n"
     ]
    },
    {
     "name": "stdout",
     "output_type": "stream",
     "text": [
      "\u001b[32m[0114 22:09:02 @saver.py:79]\u001b[0m Model saved to .//Model//temp_model\\TGAN9\\model\\model-540.\n",
      "\u001b[32m[0114 22:09:02 @monitor.py:467]\u001b[0m GAN_loss/discrim/accuracy_fake: 0.818\n",
      "\u001b[32m[0114 22:09:02 @monitor.py:467]\u001b[0m GAN_loss/discrim/accuracy_real: 0.326\n",
      "\u001b[32m[0114 22:09:02 @monitor.py:467]\u001b[0m GAN_loss/discrim/loss: 0.63935\n",
      "\u001b[32m[0114 22:09:02 @monitor.py:467]\u001b[0m GAN_loss/gen/final-g-loss: 1.0402\n",
      "\u001b[32m[0114 22:09:02 @monitor.py:467]\u001b[0m GAN_loss/gen/klloss: 0.04269\n",
      "\u001b[32m[0114 22:09:02 @monitor.py:467]\u001b[0m GAN_loss/gen/loss: 0.99747\n",
      "\u001b[32m[0114 22:09:02 @monitor.py:467]\u001b[0m QueueInput/queue_size: 50\n",
      "\u001b[32m[0114 22:09:02 @base.py:275]\u001b[0m Start Epoch 10 ...\n"
     ]
    },
    {
     "name": "stderr",
     "output_type": "stream",
     "text": [
      "100%|#####################################################################################|60/60[01:07<00:00, 0.89it/s]"
     ]
    },
    {
     "name": "stdout",
     "output_type": "stream",
     "text": [
      "\u001b[32m[0114 22:10:09 @base.py:285]\u001b[0m Epoch 10 (global_step 600) finished, time:1 minute 7 seconds.\n"
     ]
    },
    {
     "name": "stderr",
     "output_type": "stream",
     "text": [
      "\n"
     ]
    },
    {
     "name": "stdout",
     "output_type": "stream",
     "text": [
      "\u001b[32m[0114 22:10:10 @saver.py:79]\u001b[0m Model saved to .//Model//temp_model\\TGAN9\\model\\model-600.\n",
      "\u001b[32m[0114 22:10:10 @monitor.py:467]\u001b[0m GAN_loss/discrim/accuracy_fake: 0.804\n",
      "\u001b[32m[0114 22:10:10 @monitor.py:467]\u001b[0m GAN_loss/discrim/accuracy_real: 0.306\n",
      "\u001b[32m[0114 22:10:10 @monitor.py:467]\u001b[0m GAN_loss/discrim/loss: 0.64888\n",
      "\u001b[32m[0114 22:10:10 @monitor.py:467]\u001b[0m GAN_loss/gen/final-g-loss: 1.0237\n",
      "\u001b[32m[0114 22:10:10 @monitor.py:467]\u001b[0m GAN_loss/gen/klloss: 0.033925\n",
      "\u001b[32m[0114 22:10:10 @monitor.py:467]\u001b[0m GAN_loss/gen/loss: 0.98982\n",
      "\u001b[32m[0114 22:10:10 @monitor.py:467]\u001b[0m QueueInput/queue_size: 50\n",
      "\u001b[32m[0114 22:10:10 @base.py:275]\u001b[0m Start Epoch 11 ...\n"
     ]
    },
    {
     "name": "stderr",
     "output_type": "stream",
     "text": [
      "100%|#####################################################################################|60/60[01:08<00:00, 0.88it/s]"
     ]
    },
    {
     "name": "stdout",
     "output_type": "stream",
     "text": [
      "\u001b[32m[0114 22:11:18 @base.py:285]\u001b[0m Epoch 11 (global_step 660) finished, time:1 minute 8 seconds.\n"
     ]
    },
    {
     "name": "stderr",
     "output_type": "stream",
     "text": [
      "\n"
     ]
    },
    {
     "name": "stdout",
     "output_type": "stream",
     "text": [
      "\u001b[32m[0114 22:11:19 @saver.py:79]\u001b[0m Model saved to .//Model//temp_model\\TGAN9\\model\\model-660.\n",
      "\u001b[32m[0114 22:11:19 @monitor.py:467]\u001b[0m GAN_loss/discrim/accuracy_fake: 0.826\n",
      "\u001b[32m[0114 22:11:19 @monitor.py:467]\u001b[0m GAN_loss/discrim/accuracy_real: 0.252\n",
      "\u001b[32m[0114 22:11:19 @monitor.py:467]\u001b[0m GAN_loss/discrim/loss: 0.64414\n",
      "\u001b[32m[0114 22:11:19 @monitor.py:467]\u001b[0m GAN_loss/gen/final-g-loss: 1.0701\n",
      "\u001b[32m[0114 22:11:19 @monitor.py:467]\u001b[0m GAN_loss/gen/klloss: 0.051778\n",
      "\u001b[32m[0114 22:11:19 @monitor.py:467]\u001b[0m GAN_loss/gen/loss: 1.0183\n",
      "\u001b[32m[0114 22:11:19 @monitor.py:467]\u001b[0m QueueInput/queue_size: 50\n",
      "\u001b[32m[0114 22:11:19 @base.py:275]\u001b[0m Start Epoch 12 ...\n"
     ]
    },
    {
     "name": "stderr",
     "output_type": "stream",
     "text": [
      "100%|#####################################################################################|60/60[01:09<00:00, 0.86it/s]"
     ]
    },
    {
     "name": "stdout",
     "output_type": "stream",
     "text": [
      "\u001b[32m[0114 22:12:29 @base.py:285]\u001b[0m Epoch 12 (global_step 720) finished, time:1 minute 9 seconds.\n"
     ]
    },
    {
     "name": "stderr",
     "output_type": "stream",
     "text": [
      "\n"
     ]
    },
    {
     "name": "stdout",
     "output_type": "stream",
     "text": [
      "\u001b[32m[0114 22:12:29 @saver.py:79]\u001b[0m Model saved to .//Model//temp_model\\TGAN9\\model\\model-720.\n",
      "\u001b[32m[0114 22:12:29 @monitor.py:467]\u001b[0m GAN_loss/discrim/accuracy_fake: 0.836\n",
      "\u001b[32m[0114 22:12:29 @monitor.py:467]\u001b[0m GAN_loss/discrim/accuracy_real: 0.28\n",
      "\u001b[32m[0114 22:12:29 @monitor.py:467]\u001b[0m GAN_loss/discrim/loss: 0.62963\n",
      "\u001b[32m[0114 22:12:29 @monitor.py:467]\u001b[0m GAN_loss/gen/final-g-loss: 1.0429\n",
      "\u001b[32m[0114 22:12:29 @monitor.py:467]\u001b[0m GAN_loss/gen/klloss: 0.03779\n",
      "\u001b[32m[0114 22:12:29 @monitor.py:467]\u001b[0m GAN_loss/gen/loss: 1.0051\n",
      "\u001b[32m[0114 22:12:29 @monitor.py:467]\u001b[0m QueueInput/queue_size: 50\n",
      "\u001b[32m[0114 22:12:29 @base.py:275]\u001b[0m Start Epoch 13 ...\n"
     ]
    },
    {
     "name": "stderr",
     "output_type": "stream",
     "text": [
      "100%|#####################################################################################|60/60[01:08<00:00, 0.88it/s]"
     ]
    },
    {
     "name": "stdout",
     "output_type": "stream",
     "text": [
      "\u001b[32m[0114 22:13:38 @base.py:285]\u001b[0m Epoch 13 (global_step 780) finished, time:1 minute 8 seconds.\n"
     ]
    },
    {
     "name": "stderr",
     "output_type": "stream",
     "text": [
      "\n"
     ]
    },
    {
     "name": "stdout",
     "output_type": "stream",
     "text": [
      "\u001b[32m[0114 22:13:38 @saver.py:79]\u001b[0m Model saved to .//Model//temp_model\\TGAN9\\model\\model-780.\n",
      "\u001b[32m[0114 22:13:38 @monitor.py:467]\u001b[0m GAN_loss/discrim/accuracy_fake: 0.868\n",
      "\u001b[32m[0114 22:13:38 @monitor.py:467]\u001b[0m GAN_loss/discrim/accuracy_real: 0.246\n",
      "\u001b[32m[0114 22:13:38 @monitor.py:467]\u001b[0m GAN_loss/discrim/loss: 0.63325\n",
      "\u001b[32m[0114 22:13:38 @monitor.py:467]\u001b[0m GAN_loss/gen/final-g-loss: 1.0531\n",
      "\u001b[32m[0114 22:13:38 @monitor.py:467]\u001b[0m GAN_loss/gen/klloss: 0.022328\n",
      "\u001b[32m[0114 22:13:38 @monitor.py:467]\u001b[0m GAN_loss/gen/loss: 1.0308\n",
      "\u001b[32m[0114 22:13:38 @monitor.py:467]\u001b[0m QueueInput/queue_size: 50\n",
      "\u001b[32m[0114 22:13:38 @base.py:275]\u001b[0m Start Epoch 14 ...\n"
     ]
    },
    {
     "name": "stderr",
     "output_type": "stream",
     "text": [
      "100%|#####################################################################################|60/60[01:09<00:00, 0.86it/s]"
     ]
    },
    {
     "name": "stdout",
     "output_type": "stream",
     "text": [
      "\u001b[32m[0114 22:14:48 @base.py:285]\u001b[0m Epoch 14 (global_step 840) finished, time:1 minute 9 seconds.\n"
     ]
    },
    {
     "name": "stderr",
     "output_type": "stream",
     "text": [
      "\n"
     ]
    },
    {
     "name": "stdout",
     "output_type": "stream",
     "text": [
      "\u001b[32m[0114 22:14:49 @saver.py:79]\u001b[0m Model saved to .//Model//temp_model\\TGAN9\\model\\model-840.\n",
      "\u001b[32m[0114 22:14:49 @monitor.py:467]\u001b[0m GAN_loss/discrim/accuracy_fake: 0.84\n",
      "\u001b[32m[0114 22:14:49 @monitor.py:467]\u001b[0m GAN_loss/discrim/accuracy_real: 0.3\n",
      "\u001b[32m[0114 22:14:49 @monitor.py:467]\u001b[0m GAN_loss/discrim/loss: 0.63566\n",
      "\u001b[32m[0114 22:14:49 @monitor.py:467]\u001b[0m GAN_loss/gen/final-g-loss: 1.0431\n",
      "\u001b[32m[0114 22:14:49 @monitor.py:467]\u001b[0m GAN_loss/gen/klloss: 0.040075\n",
      "\u001b[32m[0114 22:14:49 @monitor.py:467]\u001b[0m GAN_loss/gen/loss: 1.003\n",
      "\u001b[32m[0114 22:14:49 @monitor.py:467]\u001b[0m QueueInput/queue_size: 50\n",
      "\u001b[32m[0114 22:14:49 @base.py:275]\u001b[0m Start Epoch 15 ...\n"
     ]
    },
    {
     "name": "stderr",
     "output_type": "stream",
     "text": [
      "100%|#####################################################################################|60/60[01:07<00:00, 0.89it/s]"
     ]
    },
    {
     "name": "stdout",
     "output_type": "stream",
     "text": [
      "\u001b[32m[0114 22:15:56 @base.py:285]\u001b[0m Epoch 15 (global_step 900) finished, time:1 minute 7 seconds.\n"
     ]
    },
    {
     "name": "stderr",
     "output_type": "stream",
     "text": [
      "\n"
     ]
    },
    {
     "name": "stdout",
     "output_type": "stream",
     "text": [
      "\u001b[32m[0114 22:15:56 @saver.py:79]\u001b[0m Model saved to .//Model//temp_model\\TGAN9\\model\\model-900.\n",
      "\u001b[32m[0114 22:15:56 @monitor.py:467]\u001b[0m GAN_loss/discrim/accuracy_fake: 0.856\n",
      "\u001b[32m[0114 22:15:56 @monitor.py:467]\u001b[0m GAN_loss/discrim/accuracy_real: 0.25\n",
      "\u001b[32m[0114 22:15:56 @monitor.py:467]\u001b[0m GAN_loss/discrim/loss: 0.64014\n",
      "\u001b[32m[0114 22:15:56 @monitor.py:467]\u001b[0m GAN_loss/gen/final-g-loss: 1.0508\n",
      "\u001b[32m[0114 22:15:56 @monitor.py:467]\u001b[0m GAN_loss/gen/klloss: 0.054632\n",
      "\u001b[32m[0114 22:15:56 @monitor.py:467]\u001b[0m GAN_loss/gen/loss: 0.99613\n",
      "\u001b[32m[0114 22:15:56 @monitor.py:467]\u001b[0m QueueInput/queue_size: 50\n",
      "\u001b[32m[0114 22:15:56 @base.py:275]\u001b[0m Start Epoch 16 ...\n"
     ]
    },
    {
     "name": "stderr",
     "output_type": "stream",
     "text": [
      "100%|#####################################################################################|60/60[01:07<00:00, 0.89it/s]"
     ]
    },
    {
     "name": "stdout",
     "output_type": "stream",
     "text": [
      "\u001b[32m[0114 22:17:04 @base.py:285]\u001b[0m Epoch 16 (global_step 960) finished, time:1 minute 7 seconds.\n"
     ]
    },
    {
     "name": "stderr",
     "output_type": "stream",
     "text": [
      "\n"
     ]
    },
    {
     "name": "stdout",
     "output_type": "stream",
     "text": [
      "\u001b[32m[0114 22:17:04 @saver.py:79]\u001b[0m Model saved to .//Model//temp_model\\TGAN9\\model\\model-960.\n",
      "\u001b[32m[0114 22:17:04 @monitor.py:467]\u001b[0m GAN_loss/discrim/accuracy_fake: 0.846\n",
      "\u001b[32m[0114 22:17:04 @monitor.py:467]\u001b[0m GAN_loss/discrim/accuracy_real: 0.192\n",
      "\u001b[32m[0114 22:17:04 @monitor.py:467]\u001b[0m GAN_loss/discrim/loss: 0.65252\n",
      "\u001b[32m[0114 22:17:04 @monitor.py:467]\u001b[0m GAN_loss/gen/final-g-loss: 1.0185\n",
      "\u001b[32m[0114 22:17:04 @monitor.py:467]\u001b[0m GAN_loss/gen/klloss: 0.048819\n",
      "\u001b[32m[0114 22:17:04 @monitor.py:467]\u001b[0m GAN_loss/gen/loss: 0.96973\n",
      "\u001b[32m[0114 22:17:04 @monitor.py:467]\u001b[0m QueueInput/queue_size: 50\n",
      "\u001b[32m[0114 22:17:04 @base.py:275]\u001b[0m Start Epoch 17 ...\n"
     ]
    },
    {
     "name": "stderr",
     "output_type": "stream",
     "text": [
      "100%|#####################################################################################|60/60[01:07<00:00, 0.89it/s]"
     ]
    },
    {
     "name": "stdout",
     "output_type": "stream",
     "text": [
      "\u001b[32m[0114 22:18:12 @base.py:285]\u001b[0m Epoch 17 (global_step 1020) finished, time:1 minute 7 seconds.\n"
     ]
    },
    {
     "name": "stderr",
     "output_type": "stream",
     "text": [
      "\n"
     ]
    },
    {
     "name": "stdout",
     "output_type": "stream",
     "text": [
      "\u001b[32m[0114 22:18:12 @saver.py:79]\u001b[0m Model saved to .//Model//temp_model\\TGAN9\\model\\model-1020.\n",
      "\u001b[32m[0114 22:18:12 @monitor.py:467]\u001b[0m GAN_loss/discrim/accuracy_fake: 0.83\n",
      "\u001b[32m[0114 22:18:12 @monitor.py:467]\u001b[0m GAN_loss/discrim/accuracy_real: 0.25\n",
      "\u001b[32m[0114 22:18:12 @monitor.py:467]\u001b[0m GAN_loss/discrim/loss: 0.64217\n",
      "\u001b[32m[0114 22:18:12 @monitor.py:467]\u001b[0m GAN_loss/gen/final-g-loss: 1.0186\n",
      "\u001b[32m[0114 22:18:12 @monitor.py:467]\u001b[0m GAN_loss/gen/klloss: 0.036014\n",
      "\u001b[32m[0114 22:18:12 @monitor.py:467]\u001b[0m GAN_loss/gen/loss: 0.98258\n",
      "\u001b[32m[0114 22:18:12 @monitor.py:467]\u001b[0m QueueInput/queue_size: 50\n",
      "\u001b[32m[0114 22:18:12 @base.py:275]\u001b[0m Start Epoch 18 ...\n"
     ]
    },
    {
     "name": "stderr",
     "output_type": "stream",
     "text": [
      "100%|#####################################################################################|60/60[01:07<00:00, 0.89it/s]"
     ]
    },
    {
     "name": "stdout",
     "output_type": "stream",
     "text": [
      "\u001b[32m[0114 22:19:20 @base.py:285]\u001b[0m Epoch 18 (global_step 1080) finished, time:1 minute 7 seconds.\n"
     ]
    },
    {
     "name": "stderr",
     "output_type": "stream",
     "text": [
      "\n"
     ]
    },
    {
     "name": "stdout",
     "output_type": "stream",
     "text": [
      "\u001b[32m[0114 22:19:20 @saver.py:79]\u001b[0m Model saved to .//Model//temp_model\\TGAN9\\model\\model-1080.\n",
      "\u001b[32m[0114 22:19:20 @monitor.py:467]\u001b[0m GAN_loss/discrim/accuracy_fake: 0.858\n",
      "\u001b[32m[0114 22:19:20 @monitor.py:467]\u001b[0m GAN_loss/discrim/accuracy_real: 0.258\n",
      "\u001b[32m[0114 22:19:20 @monitor.py:467]\u001b[0m GAN_loss/discrim/loss: 0.64011\n",
      "\u001b[32m[0114 22:19:20 @monitor.py:467]\u001b[0m GAN_loss/gen/final-g-loss: 1.0334\n",
      "\u001b[32m[0114 22:19:20 @monitor.py:467]\u001b[0m GAN_loss/gen/klloss: 0.055787\n",
      "\u001b[32m[0114 22:19:20 @monitor.py:467]\u001b[0m GAN_loss/gen/loss: 0.97758\n",
      "\u001b[32m[0114 22:19:20 @monitor.py:467]\u001b[0m QueueInput/queue_size: 50\n",
      "\u001b[32m[0114 22:19:20 @base.py:275]\u001b[0m Start Epoch 19 ...\n"
     ]
    },
    {
     "name": "stderr",
     "output_type": "stream",
     "text": [
      "100%|#####################################################################################|60/60[01:07<00:00, 0.89it/s]"
     ]
    },
    {
     "name": "stdout",
     "output_type": "stream",
     "text": [
      "\u001b[32m[0114 22:20:27 @base.py:285]\u001b[0m Epoch 19 (global_step 1140) finished, time:1 minute 7 seconds.\n"
     ]
    },
    {
     "name": "stderr",
     "output_type": "stream",
     "text": [
      "\n"
     ]
    },
    {
     "name": "stdout",
     "output_type": "stream",
     "text": [
      "\u001b[32m[0114 22:20:28 @saver.py:79]\u001b[0m Model saved to .//Model//temp_model\\TGAN9\\model\\model-1140.\n",
      "\u001b[32m[0114 22:20:28 @monitor.py:467]\u001b[0m GAN_loss/discrim/accuracy_fake: 0.854\n",
      "\u001b[32m[0114 22:20:28 @monitor.py:467]\u001b[0m GAN_loss/discrim/accuracy_real: 0.29\n",
      "\u001b[32m[0114 22:20:28 @monitor.py:467]\u001b[0m GAN_loss/discrim/loss: 0.63526\n",
      "\u001b[32m[0114 22:20:28 @monitor.py:467]\u001b[0m GAN_loss/gen/final-g-loss: 1.0277\n",
      "\u001b[32m[0114 22:20:28 @monitor.py:467]\u001b[0m GAN_loss/gen/klloss: 0.040966\n",
      "\u001b[32m[0114 22:20:28 @monitor.py:467]\u001b[0m GAN_loss/gen/loss: 0.98678\n",
      "\u001b[32m[0114 22:20:28 @monitor.py:467]\u001b[0m QueueInput/queue_size: 50\n",
      "\u001b[32m[0114 22:20:28 @base.py:275]\u001b[0m Start Epoch 20 ...\n"
     ]
    },
    {
     "name": "stderr",
     "output_type": "stream",
     "text": [
      "100%|#####################################################################################|60/60[01:06<00:00, 0.90it/s]"
     ]
    },
    {
     "name": "stdout",
     "output_type": "stream",
     "text": [
      "\u001b[32m[0114 22:21:34 @base.py:285]\u001b[0m Epoch 20 (global_step 1200) finished, time:1 minute 6 seconds.\n"
     ]
    },
    {
     "name": "stderr",
     "output_type": "stream",
     "text": [
      "\n"
     ]
    },
    {
     "name": "stdout",
     "output_type": "stream",
     "text": [
      "\u001b[32m[0114 22:21:35 @saver.py:79]\u001b[0m Model saved to .//Model//temp_model\\TGAN9\\model\\model-1200.\n",
      "\u001b[32m[0114 22:21:35 @monitor.py:467]\u001b[0m GAN_loss/discrim/accuracy_fake: 0.852\n",
      "\u001b[32m[0114 22:21:35 @monitor.py:467]\u001b[0m GAN_loss/discrim/accuracy_real: 0.252\n",
      "\u001b[32m[0114 22:21:35 @monitor.py:467]\u001b[0m GAN_loss/discrim/loss: 0.63352\n",
      "\u001b[32m[0114 22:21:35 @monitor.py:467]\u001b[0m GAN_loss/gen/final-g-loss: 1.0192\n",
      "\u001b[32m[0114 22:21:35 @monitor.py:467]\u001b[0m GAN_loss/gen/klloss: 0.033528\n",
      "\u001b[32m[0114 22:21:35 @monitor.py:467]\u001b[0m GAN_loss/gen/loss: 0.98568\n",
      "\u001b[32m[0114 22:21:35 @monitor.py:467]\u001b[0m QueueInput/queue_size: 50\n",
      "\u001b[32m[0114 22:21:35 @base.py:275]\u001b[0m Start Epoch 21 ...\n"
     ]
    },
    {
     "name": "stderr",
     "output_type": "stream",
     "text": [
      "100%|#####################################################################################|60/60[01:06<00:00, 0.90it/s]"
     ]
    },
    {
     "name": "stdout",
     "output_type": "stream",
     "text": [
      "\u001b[32m[0114 22:22:42 @base.py:285]\u001b[0m Epoch 21 (global_step 1260) finished, time:1 minute 6 seconds.\n"
     ]
    },
    {
     "name": "stderr",
     "output_type": "stream",
     "text": [
      "\n"
     ]
    },
    {
     "name": "stdout",
     "output_type": "stream",
     "text": [
      "\u001b[32m[0114 22:22:43 @saver.py:79]\u001b[0m Model saved to .//Model//temp_model\\TGAN9\\model\\model-1260.\n",
      "\u001b[32m[0114 22:22:43 @monitor.py:467]\u001b[0m GAN_loss/discrim/accuracy_fake: 0.846\n",
      "\u001b[32m[0114 22:22:43 @monitor.py:467]\u001b[0m GAN_loss/discrim/accuracy_real: 0.242\n",
      "\u001b[32m[0114 22:22:43 @monitor.py:467]\u001b[0m GAN_loss/discrim/loss: 0.64816\n",
      "\u001b[32m[0114 22:22:43 @monitor.py:467]\u001b[0m GAN_loss/gen/final-g-loss: 1.0168\n",
      "\u001b[32m[0114 22:22:43 @monitor.py:467]\u001b[0m GAN_loss/gen/klloss: 0.042572\n",
      "\u001b[32m[0114 22:22:43 @monitor.py:467]\u001b[0m GAN_loss/gen/loss: 0.97424\n",
      "\u001b[32m[0114 22:22:43 @monitor.py:467]\u001b[0m QueueInput/queue_size: 50\n",
      "\u001b[32m[0114 22:22:43 @base.py:275]\u001b[0m Start Epoch 22 ...\n"
     ]
    },
    {
     "name": "stderr",
     "output_type": "stream",
     "text": [
      "100%|#####################################################################################|60/60[01:06<00:00, 0.90it/s]"
     ]
    },
    {
     "name": "stdout",
     "output_type": "stream",
     "text": [
      "\u001b[32m[0114 22:23:49 @base.py:285]\u001b[0m Epoch 22 (global_step 1320) finished, time:1 minute 6 seconds.\n"
     ]
    },
    {
     "name": "stderr",
     "output_type": "stream",
     "text": [
      "\n"
     ]
    },
    {
     "name": "stdout",
     "output_type": "stream",
     "text": [
      "\u001b[32m[0114 22:23:50 @saver.py:79]\u001b[0m Model saved to .//Model//temp_model\\TGAN9\\model\\model-1320.\n",
      "\u001b[32m[0114 22:23:50 @monitor.py:467]\u001b[0m GAN_loss/discrim/accuracy_fake: 0.884\n",
      "\u001b[32m[0114 22:23:50 @monitor.py:467]\u001b[0m GAN_loss/discrim/accuracy_real: 0.258\n",
      "\u001b[32m[0114 22:23:50 @monitor.py:467]\u001b[0m GAN_loss/discrim/loss: 0.63598\n",
      "\u001b[32m[0114 22:23:50 @monitor.py:467]\u001b[0m GAN_loss/gen/final-g-loss: 1.0336\n",
      "\u001b[32m[0114 22:23:50 @monitor.py:467]\u001b[0m GAN_loss/gen/klloss: 0.059825\n",
      "\u001b[32m[0114 22:23:50 @monitor.py:467]\u001b[0m GAN_loss/gen/loss: 0.97382\n",
      "\u001b[32m[0114 22:23:50 @monitor.py:467]\u001b[0m QueueInput/queue_size: 50\n",
      "\u001b[32m[0114 22:23:50 @base.py:275]\u001b[0m Start Epoch 23 ...\n"
     ]
    },
    {
     "name": "stderr",
     "output_type": "stream",
     "text": [
      "100%|#####################################################################################|60/60[01:07<00:00, 0.89it/s]"
     ]
    },
    {
     "name": "stdout",
     "output_type": "stream",
     "text": [
      "\u001b[32m[0114 22:24:58 @base.py:285]\u001b[0m Epoch 23 (global_step 1380) finished, time:1 minute 7 seconds.\n"
     ]
    },
    {
     "name": "stderr",
     "output_type": "stream",
     "text": [
      "\n"
     ]
    },
    {
     "name": "stdout",
     "output_type": "stream",
     "text": [
      "\u001b[32m[0114 22:24:59 @saver.py:79]\u001b[0m Model saved to .//Model//temp_model\\TGAN9\\model\\model-1380.\n",
      "\u001b[32m[0114 22:24:59 @monitor.py:467]\u001b[0m GAN_loss/discrim/accuracy_fake: 0.848\n",
      "\u001b[32m[0114 22:24:59 @monitor.py:467]\u001b[0m GAN_loss/discrim/accuracy_real: 0.266\n",
      "\u001b[32m[0114 22:24:59 @monitor.py:467]\u001b[0m GAN_loss/discrim/loss: 0.63255\n",
      "\u001b[32m[0114 22:24:59 @monitor.py:467]\u001b[0m GAN_loss/gen/final-g-loss: 1.0193\n",
      "\u001b[32m[0114 22:24:59 @monitor.py:467]\u001b[0m GAN_loss/gen/klloss: 0.037741\n",
      "\u001b[32m[0114 22:24:59 @monitor.py:467]\u001b[0m GAN_loss/gen/loss: 0.98152\n",
      "\u001b[32m[0114 22:24:59 @monitor.py:467]\u001b[0m QueueInput/queue_size: 50\n",
      "\u001b[32m[0114 22:24:59 @base.py:275]\u001b[0m Start Epoch 24 ...\n"
     ]
    },
    {
     "name": "stderr",
     "output_type": "stream",
     "text": [
      "100%|#####################################################################################|60/60[01:07<00:00, 0.89it/s]"
     ]
    },
    {
     "name": "stdout",
     "output_type": "stream",
     "text": [
      "\u001b[32m[0114 22:26:06 @base.py:285]\u001b[0m Epoch 24 (global_step 1440) finished, time:1 minute 7 seconds.\n"
     ]
    },
    {
     "name": "stderr",
     "output_type": "stream",
     "text": [
      "\n"
     ]
    },
    {
     "name": "stdout",
     "output_type": "stream",
     "text": [
      "\u001b[32m[0114 22:26:07 @saver.py:79]\u001b[0m Model saved to .//Model//temp_model\\TGAN9\\model\\model-1440.\n",
      "\u001b[32m[0114 22:26:07 @monitor.py:467]\u001b[0m GAN_loss/discrim/accuracy_fake: 0.848\n",
      "\u001b[32m[0114 22:26:07 @monitor.py:467]\u001b[0m GAN_loss/discrim/accuracy_real: 0.25\n",
      "\u001b[32m[0114 22:26:07 @monitor.py:467]\u001b[0m GAN_loss/discrim/loss: 0.63653\n",
      "\u001b[32m[0114 22:26:07 @monitor.py:467]\u001b[0m GAN_loss/gen/final-g-loss: 1.0146\n",
      "\u001b[32m[0114 22:26:07 @monitor.py:467]\u001b[0m GAN_loss/gen/klloss: 0.032314\n",
      "\u001b[32m[0114 22:26:07 @monitor.py:467]\u001b[0m GAN_loss/gen/loss: 0.98229\n",
      "\u001b[32m[0114 22:26:07 @monitor.py:467]\u001b[0m QueueInput/queue_size: 50\n",
      "\u001b[32m[0114 22:26:07 @base.py:275]\u001b[0m Start Epoch 25 ...\n"
     ]
    },
    {
     "name": "stderr",
     "output_type": "stream",
     "text": [
      "100%|#####################################################################################|60/60[01:07<00:00, 0.89it/s]"
     ]
    },
    {
     "name": "stdout",
     "output_type": "stream",
     "text": [
      "\u001b[32m[0114 22:27:14 @base.py:285]\u001b[0m Epoch 25 (global_step 1500) finished, time:1 minute 7 seconds.\n"
     ]
    },
    {
     "name": "stderr",
     "output_type": "stream",
     "text": [
      "\n"
     ]
    },
    {
     "name": "stdout",
     "output_type": "stream",
     "text": [
      "\u001b[32m[0114 22:27:15 @saver.py:79]\u001b[0m Model saved to .//Model//temp_model\\TGAN9\\model\\model-1500.\n",
      "\u001b[32m[0114 22:27:15 @monitor.py:467]\u001b[0m GAN_loss/discrim/accuracy_fake: 0.872\n",
      "\u001b[32m[0114 22:27:15 @monitor.py:467]\u001b[0m GAN_loss/discrim/accuracy_real: 0.266\n",
      "\u001b[32m[0114 22:27:15 @monitor.py:467]\u001b[0m GAN_loss/discrim/loss: 0.63513\n",
      "\u001b[32m[0114 22:27:15 @monitor.py:467]\u001b[0m GAN_loss/gen/final-g-loss: 1.0278\n",
      "\u001b[32m[0114 22:27:15 @monitor.py:467]\u001b[0m GAN_loss/gen/klloss: 0.043259\n",
      "\u001b[32m[0114 22:27:15 @monitor.py:467]\u001b[0m GAN_loss/gen/loss: 0.98456\n",
      "\u001b[32m[0114 22:27:15 @monitor.py:467]\u001b[0m QueueInput/queue_size: 50\n",
      "\u001b[32m[0114 22:27:15 @base.py:275]\u001b[0m Start Epoch 26 ...\n"
     ]
    },
    {
     "name": "stderr",
     "output_type": "stream",
     "text": [
      "100%|#####################################################################################|60/60[01:07<00:00, 0.89it/s]"
     ]
    },
    {
     "name": "stdout",
     "output_type": "stream",
     "text": [
      "\u001b[32m[0114 22:28:22 @base.py:285]\u001b[0m Epoch 26 (global_step 1560) finished, time:1 minute 7 seconds.\n"
     ]
    },
    {
     "name": "stderr",
     "output_type": "stream",
     "text": [
      "\n"
     ]
    },
    {
     "name": "stdout",
     "output_type": "stream",
     "text": [
      "\u001b[32m[0114 22:28:23 @saver.py:79]\u001b[0m Model saved to .//Model//temp_model\\TGAN9\\model\\model-1560.\n",
      "\u001b[32m[0114 22:28:23 @monitor.py:467]\u001b[0m GAN_loss/discrim/accuracy_fake: 0.836\n",
      "\u001b[32m[0114 22:28:23 @monitor.py:467]\u001b[0m GAN_loss/discrim/accuracy_real: 0.234\n",
      "\u001b[32m[0114 22:28:23 @monitor.py:467]\u001b[0m GAN_loss/discrim/loss: 0.65099\n",
      "\u001b[32m[0114 22:28:23 @monitor.py:467]\u001b[0m GAN_loss/gen/final-g-loss: 0.98628\n",
      "\u001b[32m[0114 22:28:23 @monitor.py:467]\u001b[0m GAN_loss/gen/klloss: 0.019831\n",
      "\u001b[32m[0114 22:28:23 @monitor.py:467]\u001b[0m GAN_loss/gen/loss: 0.96645\n",
      "\u001b[32m[0114 22:28:23 @monitor.py:467]\u001b[0m QueueInput/queue_size: 50\n",
      "\u001b[32m[0114 22:28:23 @base.py:275]\u001b[0m Start Epoch 27 ...\n"
     ]
    },
    {
     "name": "stderr",
     "output_type": "stream",
     "text": [
      "100%|#####################################################################################|60/60[01:07<00:00, 0.89it/s]"
     ]
    },
    {
     "name": "stdout",
     "output_type": "stream",
     "text": [
      "\u001b[32m[0114 22:29:30 @base.py:285]\u001b[0m Epoch 27 (global_step 1620) finished, time:1 minute 7 seconds.\n"
     ]
    },
    {
     "name": "stderr",
     "output_type": "stream",
     "text": [
      "\n"
     ]
    },
    {
     "name": "stdout",
     "output_type": "stream",
     "text": [
      "\u001b[32m[0114 22:29:31 @saver.py:79]\u001b[0m Model saved to .//Model//temp_model\\TGAN9\\model\\model-1620.\n",
      "\u001b[32m[0114 22:29:31 @monitor.py:467]\u001b[0m GAN_loss/discrim/accuracy_fake: 0.846\n",
      "\u001b[32m[0114 22:29:31 @monitor.py:467]\u001b[0m GAN_loss/discrim/accuracy_real: 0.232\n",
      "\u001b[32m[0114 22:29:31 @monitor.py:467]\u001b[0m GAN_loss/discrim/loss: 0.63918\n",
      "\u001b[32m[0114 22:29:31 @monitor.py:467]\u001b[0m GAN_loss/gen/final-g-loss: 1.001\n",
      "\u001b[32m[0114 22:29:31 @monitor.py:467]\u001b[0m GAN_loss/gen/klloss: 0.02926\n",
      "\u001b[32m[0114 22:29:31 @monitor.py:467]\u001b[0m GAN_loss/gen/loss: 0.97178\n",
      "\u001b[32m[0114 22:29:31 @monitor.py:467]\u001b[0m QueueInput/queue_size: 50\n",
      "\u001b[32m[0114 22:29:31 @base.py:275]\u001b[0m Start Epoch 28 ...\n"
     ]
    },
    {
     "name": "stderr",
     "output_type": "stream",
     "text": [
      "100%|#####################################################################################|60/60[01:07<00:00, 0.89it/s]"
     ]
    },
    {
     "name": "stdout",
     "output_type": "stream",
     "text": [
      "\u001b[32m[0114 22:30:38 @base.py:285]\u001b[0m Epoch 28 (global_step 1680) finished, time:1 minute 7 seconds.\n"
     ]
    },
    {
     "name": "stderr",
     "output_type": "stream",
     "text": [
      "\n"
     ]
    },
    {
     "name": "stdout",
     "output_type": "stream",
     "text": [
      "\u001b[32m[0114 22:30:39 @saver.py:79]\u001b[0m Model saved to .//Model//temp_model\\TGAN9\\model\\model-1680.\n",
      "\u001b[32m[0114 22:30:39 @monitor.py:467]\u001b[0m GAN_loss/discrim/accuracy_fake: 0.858\n",
      "\u001b[32m[0114 22:30:39 @monitor.py:467]\u001b[0m GAN_loss/discrim/accuracy_real: 0.232\n",
      "\u001b[32m[0114 22:30:39 @monitor.py:467]\u001b[0m GAN_loss/discrim/loss: 0.63888\n",
      "\u001b[32m[0114 22:30:39 @monitor.py:467]\u001b[0m GAN_loss/gen/final-g-loss: 0.98952\n",
      "\u001b[32m[0114 22:30:39 @monitor.py:467]\u001b[0m GAN_loss/gen/klloss: 0.02469\n",
      "\u001b[32m[0114 22:30:39 @monitor.py:467]\u001b[0m GAN_loss/gen/loss: 0.96483\n",
      "\u001b[32m[0114 22:30:39 @monitor.py:467]\u001b[0m QueueInput/queue_size: 50\n",
      "\u001b[32m[0114 22:30:39 @base.py:275]\u001b[0m Start Epoch 29 ...\n"
     ]
    },
    {
     "name": "stderr",
     "output_type": "stream",
     "text": [
      "100%|#####################################################################################|60/60[01:07<00:00, 0.89it/s]"
     ]
    },
    {
     "name": "stdout",
     "output_type": "stream",
     "text": [
      "\u001b[32m[0114 22:31:46 @base.py:285]\u001b[0m Epoch 29 (global_step 1740) finished, time:1 minute 7 seconds.\n"
     ]
    },
    {
     "name": "stderr",
     "output_type": "stream",
     "text": [
      "\n"
     ]
    },
    {
     "name": "stdout",
     "output_type": "stream",
     "text": [
      "\u001b[32m[0114 22:31:47 @saver.py:79]\u001b[0m Model saved to .//Model//temp_model\\TGAN9\\model\\model-1740.\n",
      "\u001b[32m[0114 22:31:47 @monitor.py:467]\u001b[0m GAN_loss/discrim/accuracy_fake: 0.848\n",
      "\u001b[32m[0114 22:31:47 @monitor.py:467]\u001b[0m GAN_loss/discrim/accuracy_real: 0.252\n",
      "\u001b[32m[0114 22:31:47 @monitor.py:467]\u001b[0m GAN_loss/discrim/loss: 0.64618\n",
      "\u001b[32m[0114 22:31:47 @monitor.py:467]\u001b[0m GAN_loss/gen/final-g-loss: 1.0089\n",
      "\u001b[32m[0114 22:31:47 @monitor.py:467]\u001b[0m GAN_loss/gen/klloss: 0.043332\n",
      "\u001b[32m[0114 22:31:47 @monitor.py:467]\u001b[0m GAN_loss/gen/loss: 0.96556\n",
      "\u001b[32m[0114 22:31:47 @monitor.py:467]\u001b[0m QueueInput/queue_size: 50\n",
      "\u001b[32m[0114 22:31:47 @base.py:275]\u001b[0m Start Epoch 30 ...\n"
     ]
    },
    {
     "name": "stderr",
     "output_type": "stream",
     "text": [
      "100%|#####################################################################################|60/60[01:08<00:00, 0.88it/s]"
     ]
    },
    {
     "name": "stdout",
     "output_type": "stream",
     "text": [
      "\u001b[32m[0114 22:32:55 @base.py:285]\u001b[0m Epoch 30 (global_step 1800) finished, time:1 minute 8 seconds.\n"
     ]
    },
    {
     "name": "stderr",
     "output_type": "stream",
     "text": [
      "\n"
     ]
    },
    {
     "name": "stdout",
     "output_type": "stream",
     "text": [
      "\u001b[32m[0114 22:32:56 @saver.py:79]\u001b[0m Model saved to .//Model//temp_model\\TGAN9\\model\\model-1800.\n",
      "\u001b[32m[0114 22:32:56 @monitor.py:467]\u001b[0m GAN_loss/discrim/accuracy_fake: 0.89\n",
      "\u001b[32m[0114 22:32:56 @monitor.py:467]\u001b[0m GAN_loss/discrim/accuracy_real: 0.182\n",
      "\u001b[32m[0114 22:32:56 @monitor.py:467]\u001b[0m GAN_loss/discrim/loss: 0.64011\n",
      "\u001b[32m[0114 22:32:56 @monitor.py:467]\u001b[0m GAN_loss/gen/final-g-loss: 1.0251\n",
      "\u001b[32m[0114 22:32:56 @monitor.py:467]\u001b[0m GAN_loss/gen/klloss: 0.044219\n",
      "\u001b[32m[0114 22:32:56 @monitor.py:467]\u001b[0m GAN_loss/gen/loss: 0.98086\n",
      "\u001b[32m[0114 22:32:56 @monitor.py:467]\u001b[0m QueueInput/queue_size: 50\n",
      "\u001b[32m[0114 22:32:56 @base.py:275]\u001b[0m Start Epoch 31 ...\n"
     ]
    },
    {
     "name": "stderr",
     "output_type": "stream",
     "text": [
      "100%|#####################################################################################|60/60[01:08<00:00, 0.87it/s]"
     ]
    },
    {
     "name": "stdout",
     "output_type": "stream",
     "text": [
      "\u001b[32m[0114 22:34:04 @base.py:285]\u001b[0m Epoch 31 (global_step 1860) finished, time:1 minute 8 seconds.\n"
     ]
    },
    {
     "name": "stderr",
     "output_type": "stream",
     "text": [
      "\n"
     ]
    },
    {
     "name": "stdout",
     "output_type": "stream",
     "text": [
      "\u001b[32m[0114 22:34:05 @saver.py:79]\u001b[0m Model saved to .//Model//temp_model\\TGAN9\\model\\model-1860.\n",
      "\u001b[32m[0114 22:34:05 @monitor.py:467]\u001b[0m GAN_loss/discrim/accuracy_fake: 0.89\n",
      "\u001b[32m[0114 22:34:05 @monitor.py:467]\u001b[0m GAN_loss/discrim/accuracy_real: 0.19\n",
      "\u001b[32m[0114 22:34:05 @monitor.py:467]\u001b[0m GAN_loss/discrim/loss: 0.64347\n",
      "\u001b[32m[0114 22:34:05 @monitor.py:467]\u001b[0m GAN_loss/gen/final-g-loss: 0.99298\n",
      "\u001b[32m[0114 22:34:05 @monitor.py:467]\u001b[0m GAN_loss/gen/klloss: 0.024581\n",
      "\u001b[32m[0114 22:34:05 @monitor.py:467]\u001b[0m GAN_loss/gen/loss: 0.96839\n",
      "\u001b[32m[0114 22:34:05 @monitor.py:467]\u001b[0m QueueInput/queue_size: 50\n",
      "\u001b[32m[0114 22:34:05 @base.py:275]\u001b[0m Start Epoch 32 ...\n"
     ]
    },
    {
     "name": "stderr",
     "output_type": "stream",
     "text": [
      "100%|#####################################################################################|60/60[01:06<00:00, 0.90it/s]"
     ]
    },
    {
     "name": "stdout",
     "output_type": "stream",
     "text": [
      "\u001b[32m[0114 22:35:12 @base.py:285]\u001b[0m Epoch 32 (global_step 1920) finished, time:1 minute 6 seconds.\n"
     ]
    },
    {
     "name": "stderr",
     "output_type": "stream",
     "text": [
      "\n"
     ]
    },
    {
     "name": "stdout",
     "output_type": "stream",
     "text": [
      "\u001b[32m[0114 22:35:13 @saver.py:79]\u001b[0m Model saved to .//Model//temp_model\\TGAN9\\model\\model-1920.\n",
      "\u001b[32m[0114 22:35:13 @monitor.py:467]\u001b[0m GAN_loss/discrim/accuracy_fake: 0.922\n",
      "\u001b[32m[0114 22:35:13 @monitor.py:467]\u001b[0m GAN_loss/discrim/accuracy_real: 0.176\n",
      "\u001b[32m[0114 22:35:13 @monitor.py:467]\u001b[0m GAN_loss/discrim/loss: 0.64358\n",
      "\u001b[32m[0114 22:35:13 @monitor.py:467]\u001b[0m GAN_loss/gen/final-g-loss: 1.0049\n",
      "\u001b[32m[0114 22:35:13 @monitor.py:467]\u001b[0m GAN_loss/gen/klloss: 0.032847\n",
      "\u001b[32m[0114 22:35:13 @monitor.py:467]\u001b[0m GAN_loss/gen/loss: 0.97208\n",
      "\u001b[32m[0114 22:35:13 @monitor.py:467]\u001b[0m QueueInput/queue_size: 50\n",
      "\u001b[32m[0114 22:35:13 @base.py:275]\u001b[0m Start Epoch 33 ...\n"
     ]
    },
    {
     "name": "stderr",
     "output_type": "stream",
     "text": [
      "100%|#####################################################################################|60/60[01:07<00:00, 0.88it/s]"
     ]
    },
    {
     "name": "stdout",
     "output_type": "stream",
     "text": [
      "\u001b[32m[0114 22:36:21 @base.py:285]\u001b[0m Epoch 33 (global_step 1980) finished, time:1 minute 7 seconds.\n"
     ]
    },
    {
     "name": "stderr",
     "output_type": "stream",
     "text": [
      "\n"
     ]
    },
    {
     "name": "stdout",
     "output_type": "stream",
     "text": [
      "\u001b[32m[0114 22:36:22 @saver.py:79]\u001b[0m Model saved to .//Model//temp_model\\TGAN9\\model\\model-1980.\n",
      "\u001b[32m[0114 22:36:22 @monitor.py:467]\u001b[0m GAN_loss/discrim/accuracy_fake: 0.912\n",
      "\u001b[32m[0114 22:36:22 @monitor.py:467]\u001b[0m GAN_loss/discrim/accuracy_real: 0.18\n",
      "\u001b[32m[0114 22:36:22 @monitor.py:467]\u001b[0m GAN_loss/discrim/loss: 0.63635\n",
      "\u001b[32m[0114 22:36:22 @monitor.py:467]\u001b[0m GAN_loss/gen/final-g-loss: 1.0021\n",
      "\u001b[32m[0114 22:36:22 @monitor.py:467]\u001b[0m GAN_loss/gen/klloss: 0.025209\n",
      "\u001b[32m[0114 22:36:22 @monitor.py:467]\u001b[0m GAN_loss/gen/loss: 0.97691\n",
      "\u001b[32m[0114 22:36:22 @monitor.py:467]\u001b[0m QueueInput/queue_size: 50\n",
      "\u001b[32m[0114 22:36:22 @base.py:275]\u001b[0m Start Epoch 34 ...\n"
     ]
    },
    {
     "name": "stderr",
     "output_type": "stream",
     "text": [
      "100%|#####################################################################################|60/60[01:07<00:00, 0.89it/s]"
     ]
    },
    {
     "name": "stdout",
     "output_type": "stream",
     "text": [
      "\u001b[32m[0114 22:37:29 @base.py:285]\u001b[0m Epoch 34 (global_step 2040) finished, time:1 minute 7 seconds.\n"
     ]
    },
    {
     "name": "stderr",
     "output_type": "stream",
     "text": [
      "\n"
     ]
    },
    {
     "name": "stdout",
     "output_type": "stream",
     "text": [
      "\u001b[32m[0114 22:37:30 @saver.py:79]\u001b[0m Model saved to .//Model//temp_model\\TGAN9\\model\\model-2040.\n",
      "\u001b[32m[0114 22:37:30 @monitor.py:467]\u001b[0m GAN_loss/discrim/accuracy_fake: 0.908\n",
      "\u001b[32m[0114 22:37:30 @monitor.py:467]\u001b[0m GAN_loss/discrim/accuracy_real: 0.176\n",
      "\u001b[32m[0114 22:37:30 @monitor.py:467]\u001b[0m GAN_loss/discrim/loss: 0.64116\n",
      "\u001b[32m[0114 22:37:30 @monitor.py:467]\u001b[0m GAN_loss/gen/final-g-loss: 1.0038\n",
      "\u001b[32m[0114 22:37:30 @monitor.py:467]\u001b[0m GAN_loss/gen/klloss: 0.034233\n",
      "\u001b[32m[0114 22:37:30 @monitor.py:467]\u001b[0m GAN_loss/gen/loss: 0.96956\n",
      "\u001b[32m[0114 22:37:30 @monitor.py:467]\u001b[0m QueueInput/queue_size: 50\n",
      "\u001b[32m[0114 22:37:30 @base.py:275]\u001b[0m Start Epoch 35 ...\n"
     ]
    },
    {
     "name": "stderr",
     "output_type": "stream",
     "text": [
      "100%|#####################################################################################|60/60[01:07<00:00, 0.89it/s]"
     ]
    },
    {
     "name": "stdout",
     "output_type": "stream",
     "text": [
      "\u001b[32m[0114 22:38:37 @base.py:285]\u001b[0m Epoch 35 (global_step 2100) finished, time:1 minute 7 seconds.\n"
     ]
    },
    {
     "name": "stderr",
     "output_type": "stream",
     "text": [
      "\n"
     ]
    },
    {
     "name": "stdout",
     "output_type": "stream",
     "text": [
      "\u001b[32m[0114 22:38:38 @saver.py:79]\u001b[0m Model saved to .//Model//temp_model\\TGAN9\\model\\model-2100.\n",
      "\u001b[32m[0114 22:38:38 @monitor.py:467]\u001b[0m GAN_loss/discrim/accuracy_fake: 0.898\n",
      "\u001b[32m[0114 22:38:38 @monitor.py:467]\u001b[0m GAN_loss/discrim/accuracy_real: 0.206\n",
      "\u001b[32m[0114 22:38:38 @monitor.py:467]\u001b[0m GAN_loss/discrim/loss: 0.63695\n",
      "\u001b[32m[0114 22:38:38 @monitor.py:467]\u001b[0m GAN_loss/gen/final-g-loss: 0.99568\n",
      "\u001b[32m[0114 22:38:38 @monitor.py:467]\u001b[0m GAN_loss/gen/klloss: 0.03129\n",
      "\u001b[32m[0114 22:38:38 @monitor.py:467]\u001b[0m GAN_loss/gen/loss: 0.96439\n",
      "\u001b[32m[0114 22:38:38 @monitor.py:467]\u001b[0m QueueInput/queue_size: 50\n",
      "\u001b[32m[0114 22:38:38 @base.py:275]\u001b[0m Start Epoch 36 ...\n"
     ]
    },
    {
     "name": "stderr",
     "output_type": "stream",
     "text": [
      "100%|#####################################################################################|60/60[01:07<00:00, 0.90it/s]"
     ]
    },
    {
     "name": "stdout",
     "output_type": "stream",
     "text": [
      "\u001b[32m[0114 22:39:45 @base.py:285]\u001b[0m Epoch 36 (global_step 2160) finished, time:1 minute 7 seconds.\n"
     ]
    },
    {
     "name": "stderr",
     "output_type": "stream",
     "text": [
      "\n"
     ]
    },
    {
     "name": "stdout",
     "output_type": "stream",
     "text": [
      "\u001b[32m[0114 22:39:47 @saver.py:79]\u001b[0m Model saved to .//Model//temp_model\\TGAN9\\model\\model-2160.\n",
      "\u001b[32m[0114 22:39:47 @monitor.py:467]\u001b[0m GAN_loss/discrim/accuracy_fake: 0.888\n",
      "\u001b[32m[0114 22:39:47 @monitor.py:467]\u001b[0m GAN_loss/discrim/accuracy_real: 0.192\n",
      "\u001b[32m[0114 22:39:47 @monitor.py:467]\u001b[0m GAN_loss/discrim/loss: 0.65367\n",
      "\u001b[32m[0114 22:39:47 @monitor.py:467]\u001b[0m GAN_loss/gen/final-g-loss: 1.0005\n",
      "\u001b[32m[0114 22:39:47 @monitor.py:467]\u001b[0m GAN_loss/gen/klloss: 0.056028\n",
      "\u001b[32m[0114 22:39:47 @monitor.py:467]\u001b[0m GAN_loss/gen/loss: 0.94449\n",
      "\u001b[32m[0114 22:39:47 @monitor.py:467]\u001b[0m QueueInput/queue_size: 50\n",
      "\u001b[32m[0114 22:39:47 @base.py:275]\u001b[0m Start Epoch 37 ...\n"
     ]
    },
    {
     "name": "stderr",
     "output_type": "stream",
     "text": [
      "100%|#####################################################################################|60/60[01:07<00:00, 0.89it/s]"
     ]
    },
    {
     "name": "stdout",
     "output_type": "stream",
     "text": [
      "\u001b[32m[0114 22:40:54 @base.py:285]\u001b[0m Epoch 37 (global_step 2220) finished, time:1 minute 7 seconds.\n"
     ]
    },
    {
     "name": "stderr",
     "output_type": "stream",
     "text": [
      "\n"
     ]
    },
    {
     "name": "stdout",
     "output_type": "stream",
     "text": [
      "\u001b[32m[0114 22:40:55 @saver.py:79]\u001b[0m Model saved to .//Model//temp_model\\TGAN9\\model\\model-2220.\n",
      "\u001b[32m[0114 22:40:55 @monitor.py:467]\u001b[0m GAN_loss/discrim/accuracy_fake: 0.91\n",
      "\u001b[32m[0114 22:40:55 @monitor.py:467]\u001b[0m GAN_loss/discrim/accuracy_real: 0.154\n",
      "\u001b[32m[0114 22:40:55 @monitor.py:467]\u001b[0m GAN_loss/discrim/loss: 0.64213\n",
      "\u001b[32m[0114 22:40:55 @monitor.py:467]\u001b[0m GAN_loss/gen/final-g-loss: 0.98867\n",
      "\u001b[32m[0114 22:40:55 @monitor.py:467]\u001b[0m GAN_loss/gen/klloss: 0.025031\n",
      "\u001b[32m[0114 22:40:55 @monitor.py:467]\u001b[0m GAN_loss/gen/loss: 0.96364\n",
      "\u001b[32m[0114 22:40:55 @monitor.py:467]\u001b[0m QueueInput/queue_size: 50\n",
      "\u001b[32m[0114 22:40:55 @base.py:275]\u001b[0m Start Epoch 38 ...\n"
     ]
    },
    {
     "name": "stderr",
     "output_type": "stream",
     "text": [
      "100%|#####################################################################################|60/60[01:07<00:00, 0.89it/s]"
     ]
    },
    {
     "name": "stdout",
     "output_type": "stream",
     "text": [
      "\u001b[32m[0114 22:42:02 @base.py:285]\u001b[0m Epoch 38 (global_step 2280) finished, time:1 minute 7 seconds.\n"
     ]
    },
    {
     "name": "stderr",
     "output_type": "stream",
     "text": [
      "\n"
     ]
    },
    {
     "name": "stdout",
     "output_type": "stream",
     "text": [
      "\u001b[32m[0114 22:42:03 @saver.py:79]\u001b[0m Model saved to .//Model//temp_model\\TGAN9\\model\\model-2280.\n",
      "\u001b[32m[0114 22:42:03 @monitor.py:467]\u001b[0m GAN_loss/discrim/accuracy_fake: 0.922\n",
      "\u001b[32m[0114 22:42:03 @monitor.py:467]\u001b[0m GAN_loss/discrim/accuracy_real: 0.146\n",
      "\u001b[32m[0114 22:42:03 @monitor.py:467]\u001b[0m GAN_loss/discrim/loss: 0.64338\n",
      "\u001b[32m[0114 22:42:03 @monitor.py:467]\u001b[0m GAN_loss/gen/final-g-loss: 1.01\n",
      "\u001b[32m[0114 22:42:03 @monitor.py:467]\u001b[0m GAN_loss/gen/klloss: 0.05466\n",
      "\u001b[32m[0114 22:42:03 @monitor.py:467]\u001b[0m GAN_loss/gen/loss: 0.95535\n",
      "\u001b[32m[0114 22:42:03 @monitor.py:467]\u001b[0m QueueInput/queue_size: 50\n",
      "\u001b[32m[0114 22:42:03 @base.py:275]\u001b[0m Start Epoch 39 ...\n"
     ]
    },
    {
     "name": "stderr",
     "output_type": "stream",
     "text": [
      "100%|#####################################################################################|60/60[01:07<00:00, 0.89it/s]"
     ]
    },
    {
     "name": "stdout",
     "output_type": "stream",
     "text": [
      "\u001b[32m[0114 22:43:10 @base.py:285]\u001b[0m Epoch 39 (global_step 2340) finished, time:1 minute 7 seconds.\n"
     ]
    },
    {
     "name": "stderr",
     "output_type": "stream",
     "text": [
      "\n"
     ]
    },
    {
     "name": "stdout",
     "output_type": "stream",
     "text": [
      "\u001b[32m[0114 22:43:10 @saver.py:79]\u001b[0m Model saved to .//Model//temp_model\\TGAN9\\model\\model-2340.\n",
      "\u001b[32m[0114 22:43:10 @monitor.py:467]\u001b[0m GAN_loss/discrim/accuracy_fake: 0.886\n",
      "\u001b[32m[0114 22:43:10 @monitor.py:467]\u001b[0m GAN_loss/discrim/accuracy_real: 0.13\n",
      "\u001b[32m[0114 22:43:10 @monitor.py:467]\u001b[0m GAN_loss/discrim/loss: 0.65259\n",
      "\u001b[32m[0114 22:43:10 @monitor.py:467]\u001b[0m GAN_loss/gen/final-g-loss: 0.96055\n",
      "\u001b[32m[0114 22:43:10 @monitor.py:467]\u001b[0m GAN_loss/gen/klloss: 0.028046\n",
      "\u001b[32m[0114 22:43:10 @monitor.py:467]\u001b[0m GAN_loss/gen/loss: 0.9325\n",
      "\u001b[32m[0114 22:43:10 @monitor.py:467]\u001b[0m QueueInput/queue_size: 50\n",
      "\u001b[32m[0114 22:43:10 @base.py:275]\u001b[0m Start Epoch 40 ...\n"
     ]
    },
    {
     "name": "stderr",
     "output_type": "stream",
     "text": [
      "100%|#####################################################################################|60/60[01:07<00:00, 0.89it/s]"
     ]
    },
    {
     "name": "stdout",
     "output_type": "stream",
     "text": [
      "\u001b[32m[0114 22:44:18 @base.py:285]\u001b[0m Epoch 40 (global_step 2400) finished, time:1 minute 7 seconds.\n"
     ]
    },
    {
     "name": "stderr",
     "output_type": "stream",
     "text": [
      "\n"
     ]
    },
    {
     "name": "stdout",
     "output_type": "stream",
     "text": [
      "\u001b[32m[0114 22:44:18 @saver.py:79]\u001b[0m Model saved to .//Model//temp_model\\TGAN9\\model\\model-2400.\n",
      "\u001b[32m[0114 22:44:18 @monitor.py:467]\u001b[0m GAN_loss/discrim/accuracy_fake: 0.902\n",
      "\u001b[32m[0114 22:44:18 @monitor.py:467]\u001b[0m GAN_loss/discrim/accuracy_real: 0.19\n",
      "\u001b[32m[0114 22:44:18 @monitor.py:467]\u001b[0m GAN_loss/discrim/loss: 0.64488\n",
      "\u001b[32m[0114 22:44:18 @monitor.py:467]\u001b[0m GAN_loss/gen/final-g-loss: 0.97316\n",
      "\u001b[32m[0114 22:44:18 @monitor.py:467]\u001b[0m GAN_loss/gen/klloss: 0.033301\n",
      "\u001b[32m[0114 22:44:18 @monitor.py:467]\u001b[0m GAN_loss/gen/loss: 0.93986\n",
      "\u001b[32m[0114 22:44:18 @monitor.py:467]\u001b[0m QueueInput/queue_size: 50\n",
      "\u001b[32m[0114 22:44:18 @base.py:289]\u001b[0m Training has finished!\n",
      "\u001b[32m[0114 22:44:19 @input_source.py:178]\u001b[0m EnqueueThread QueueInput/input_queue Exited.\n",
      "\u001b[32m[0114 22:44:20 @collection.py:146]\u001b[0m New collections created in tower : tf.GraphKeys.REGULARIZATION_LOSSES\n",
      "\u001b[32m[0114 22:44:20 @collection.py:165]\u001b[0m These collections were modified but restored in : (tf.GraphKeys.SUMMARIES: 0->2)\n",
      "\u001b[32m[0114 22:44:20 @sessinit.py:87]\u001b[0m \u001b[5m\u001b[31mWRN\u001b[0m The following variables are in the checkpoint, but not found in the graph: global_step, optimize/beta1_power, optimize/beta2_power\n",
      "INFO:tensorflow:Graph was finalized.\n",
      "INFO:tensorflow:Running local_init_op.\n",
      "INFO:tensorflow:Done running local_init_op.\n",
      "\u001b[32m[0114 22:44:20 @sessinit.py:114]\u001b[0m Restoring checkpoint from .//Model//temp_model\\TGAN9\\model\\model-2400 ...\n",
      "INFO:tensorflow:Restoring parameters from .//Model//temp_model\\TGAN9\\model\\model-2400\n"
     ]
    },
    {
     "name": "stderr",
     "output_type": "stream",
     "text": [
      " 12%|#########9                                                                          |59/500[00:17<02:07, 3.46it/s]\n"
     ]
    }
   ],
   "source": [
    "n_synthetic_datasets_existing=3\n",
    "dataset_dir_tgan = os.path.join(dataset_gen_dir, \"TGAN\") \n",
    "model_temp_dir = \".//Model//temp_model\"\n",
    "if os.path.exists(model_temp_dir):\n",
    "    shutil.rmtree(model_temp_dir)\n",
    "os.makedirs(dataset_dir_tgan, exist_ok = True)\n",
    "for i in tqdm(range(n_synthetic_datasets_existing, n_synthetic_datasets), desc = \"Generated datasets\", disable = True):\n",
    "    tf.reset_default_graph()\n",
    "    tgan = TGANModel(columns_num, output = os.path.join(model_temp_dir, f\"TGAN{i}\"), \n",
    "                     max_epoch = 40, steps_per_epoch = data_train.shape[0] / 500, num_dis_hidden = 256,\n",
    "                     batch_size=batch_size,\n",
    "                    restore_session=False)\n",
    "    tgan.fit(data_train.reset_index(drop=True))\n",
    "    fake_train = tgan.sample(data_train.shape[0])\n",
    "    fake_train.to_csv(os.path.join(dataset_dir_tgan, f\"gen{i}.csv\"))\n",
    "    del tgan"
   ]
  },
  {
   "cell_type": "code",
   "execution_count": null,
   "id": "2376e529",
   "metadata": {},
   "outputs": [],
   "source": []
  }
 ],
 "metadata": {
  "kernelspec": {
   "display_name": "tfv1",
   "language": "python",
   "name": "tfv1"
  },
  "language_info": {
   "codemirror_mode": {
    "name": "ipython",
    "version": 3
   },
   "file_extension": ".py",
   "mimetype": "text/x-python",
   "name": "python",
   "nbconvert_exporter": "python",
   "pygments_lexer": "ipython3",
   "version": "3.7.11"
  }
 },
 "nbformat": 4,
 "nbformat_minor": 5
}
