{
 "cells": [
  {
   "cell_type": "code",
   "execution_count": 1,
   "id": "2535dafa",
   "metadata": {},
   "outputs": [],
   "source": [
    "import pathlib\n",
    "import os\n",
    "if not \"changed_working_directory\" in locals():\n",
    "    changed_working_directory = True\n",
    "    os.chdir(pathlib.Path().resolve().parent)\n",
    "    \n",
    "%load_ext autoreload\n",
    "%autoreload 2"
   ]
  },
  {
   "cell_type": "code",
   "execution_count": 2,
   "id": "ff4fd8b9",
   "metadata": {},
   "outputs": [
    {
     "name": "stdout",
     "output_type": "stream",
     "text": [
      "WARNING:tensorflow:From C:\\Users\\Arne\\anaconda3\\envs\\tfv1_gpu\\lib\\site-packages\\tensorpack\\callbacks\\hooks.py:17: The name tf.train.SessionRunHook is deprecated. Please use tf.estimator.SessionRunHook instead.\n",
      "\n",
      "WARNING:tensorflow:From C:\\Users\\Arne\\anaconda3\\envs\\tfv1_gpu\\lib\\site-packages\\tensorpack\\tfutils\\optimizer.py:18: The name tf.train.Optimizer is deprecated. Please use tf.compat.v1.train.Optimizer instead.\n",
      "\n",
      "WARNING:tensorflow:From C:\\Users\\Arne\\anaconda3\\envs\\tfv1_gpu\\lib\\site-packages\\tensorpack\\tfutils\\sesscreate.py:20: The name tf.train.SessionCreator is deprecated. Please use tf.compat.v1.train.SessionCreator instead.\n",
      "\n"
     ]
    }
   ],
   "source": [
    "import pandas as pd\n",
    "import os\n",
    "import pickle\n",
    "import time\n",
    "import tensorflow as tf\n",
    "import shutil\n",
    "import numpy as np\n",
    "from math import ceil\n",
    "from src import constants as const\n",
    "import utils.timer\n",
    "import helpers\n",
    "\n",
    "dataset_train_path = os.path.join(const.dir.data(), \"df_adult_edited_train.csv\")\n",
    "dataset_test_path = os.path.join(const.dir.data(), \"df_adult_edited_test.csv\")\n",
    "\n",
    "data_train = pd.read_csv(dataset_train_path)\n",
    "data_test = pd.read_csv(dataset_test_path)\n",
    "columns_num, = np.where(data_train.dtypes != \"object\")\n",
    "\n",
    "timer_path = os.path.join(const.dir.timers(), \"timer_tgan.pkl\")\n",
    "retrain = True\n",
    "\n",
    "if not os.path.exists(timer_path):\n",
    "    timer = utils.timer.Timer()\n",
    "    timer.save(timer_path)\n",
    "    del timer\n",
    "    \n",
    "from tgan.model import TGANModel\n",
    "\n",
    "dir_data_gen_tgan = os.path.join(const.dir.data_gen(), \"TGAN\")\n",
    "model_dir = os.path.join(const.dir.models(), \"tgan\")\n",
    "\n",
    "batch_size = 500\n",
    "retrain=True"
   ]
  },
  {
   "cell_type": "code",
   "execution_count": 3,
   "id": "14d25b01",
   "metadata": {},
   "outputs": [
    {
     "name": "stdout",
     "output_type": "stream",
     "text": [
      "1.15.5\n"
     ]
    },
    {
     "data": {
      "text/plain": [
       "True"
      ]
     },
     "execution_count": 3,
     "metadata": {},
     "output_type": "execute_result"
    }
   ],
   "source": [
    "print(tf.__version__)\n",
    "tf.test.is_gpu_available()"
   ]
  },
  {
   "cell_type": "code",
   "execution_count": null,
   "id": "df38bdd4",
   "metadata": {},
   "outputs": [
    {
     "name": "stdout",
     "output_type": "stream",
     "text": [
      "\u001b[32m[0316 15:31:55 @input_source.py:222]\u001b[0m Setting up the queue 'QueueInput/input_queue' for CPU prefetching ...\n",
      "\u001b[32m[0316 15:32:01 @logger.py:90]\u001b[0m Argv: C:\\Users\\Arne\\anaconda3\\envs\\tfv1_gpu\\lib\\site-packages\\ipykernel_launcher.py -f C:\\Users\\Arne\\AppData\\Roaming\\jupyter\\runtime\\kernel-621042e5-cafe-43ef-b7bc-e5c120d46132.json\n",
      "\u001b[32m[0316 15:32:01 @model_utils.py:67]\u001b[0m \u001b[36mList of Trainable Variables: \n",
      "\u001b[0mname                              shape         #elements\n",
      "--------------------------------  ----------  -----------\n",
      "gen/LSTM/go:0                     [1, 100]            100\n",
      "gen/LSTM/lstm_cell/kernel:0       [500, 400]       200000\n",
      "gen/LSTM/lstm_cell/bias:0         [400]               400\n",
      "gen/LSTM/00/FC/W:0                [100, 100]        10000\n",
      "gen/LSTM/00/FC/b:0                [100]               100\n",
      "gen/LSTM/00/FC2/W:0               [100, 1]            100\n",
      "gen/LSTM/00/FC2/b:0               [1]                   1\n",
      "gen/LSTM/00/attw:0                [1, 1, 1]             1\n",
      "gen/LSTM/01/FC/W:0                [100, 100]        10000\n",
      "gen/LSTM/01/FC/b:0                [100]               100\n",
      "gen/LSTM/01/FC2/W:0               [100, 5]            500\n",
      "gen/LSTM/01/FC2/b:0               [5]                   5\n",
      "gen/LSTM/01/FC3/W:0               [5, 100]            500\n",
      "gen/LSTM/01/FC3/b:0               [100]               100\n",
      "gen/LSTM/01/attw:0                [2, 1, 1]             2\n",
      "gen/LSTM/02/FC/W:0                [100, 100]        10000\n",
      "gen/LSTM/02/FC/b:0                [100]               100\n",
      "gen/LSTM/02/FC2/W:0               [100, 5]            500\n",
      "gen/LSTM/02/FC2/b:0               [5]                   5\n",
      "gen/LSTM/02/FC3/W:0               [5, 100]            500\n",
      "gen/LSTM/02/FC3/b:0               [100]               100\n",
      "gen/LSTM/02/attw:0                [3, 1, 1]             3\n",
      "gen/LSTM/03/FC/W:0                [100, 100]        10000\n",
      "gen/LSTM/03/FC/b:0                [100]               100\n",
      "gen/LSTM/03/FC2/W:0               [100, 1]            100\n",
      "gen/LSTM/03/FC2/b:0               [1]                   1\n",
      "gen/LSTM/03/attw:0                [4, 1, 1]             4\n",
      "gen/LSTM/04/FC/W:0                [100, 100]        10000\n",
      "gen/LSTM/04/FC/b:0                [100]               100\n",
      "gen/LSTM/04/FC2/W:0               [100, 5]            500\n",
      "gen/LSTM/04/FC2/b:0               [5]                   5\n",
      "gen/LSTM/04/FC3/W:0               [5, 100]            500\n",
      "gen/LSTM/04/FC3/b:0               [100]               100\n",
      "gen/LSTM/04/attw:0                [5, 1, 1]             5\n",
      "gen/LSTM/05/FC/W:0                [100, 100]        10000\n",
      "gen/LSTM/05/FC/b:0                [100]               100\n",
      "gen/LSTM/05/FC2/W:0               [100, 9]            900\n",
      "gen/LSTM/05/FC2/b:0               [9]                   9\n",
      "gen/LSTM/05/FC3/W:0               [9, 100]            900\n",
      "gen/LSTM/05/FC3/b:0               [100]               100\n",
      "gen/LSTM/05/attw:0                [6, 1, 1]             6\n",
      "gen/LSTM/06/FC/W:0                [100, 100]        10000\n",
      "gen/LSTM/06/FC/b:0                [100]               100\n",
      "gen/LSTM/06/FC2/W:0               [100, 1]            100\n",
      "gen/LSTM/06/FC2/b:0               [1]                   1\n",
      "gen/LSTM/06/attw:0                [7, 1, 1]             7\n",
      "gen/LSTM/07/FC/W:0                [100, 100]        10000\n",
      "gen/LSTM/07/FC/b:0                [100]               100\n",
      "gen/LSTM/07/FC2/W:0               [100, 5]            500\n",
      "gen/LSTM/07/FC2/b:0               [5]                   5\n",
      "gen/LSTM/07/FC3/W:0               [5, 100]            500\n",
      "gen/LSTM/07/FC3/b:0               [100]               100\n",
      "gen/LSTM/07/attw:0                [8, 1, 1]             8\n",
      "gen/LSTM/08/FC/W:0                [100, 100]        10000\n",
      "gen/LSTM/08/FC/b:0                [100]               100\n",
      "gen/LSTM/08/FC2/W:0               [100, 5]            500\n",
      "gen/LSTM/08/FC2/b:0               [5]                   5\n",
      "gen/LSTM/08/FC3/W:0               [5, 100]            500\n",
      "gen/LSTM/08/FC3/b:0               [100]               100\n",
      "gen/LSTM/08/attw:0                [9, 1, 1]             9\n",
      "gen/LSTM/09/FC/W:0                [100, 100]        10000\n",
      "gen/LSTM/09/FC/b:0                [100]               100\n",
      "gen/LSTM/09/FC2/W:0               [100, 14]          1400\n",
      "gen/LSTM/09/FC2/b:0               [14]                 14\n",
      "gen/LSTM/09/FC3/W:0               [14, 100]          1400\n",
      "gen/LSTM/09/FC3/b:0               [100]               100\n",
      "gen/LSTM/09/attw:0                [10, 1, 1]           10\n",
      "gen/LSTM/10/FC/W:0                [100, 100]        10000\n",
      "gen/LSTM/10/FC/b:0                [100]               100\n",
      "gen/LSTM/10/FC2/W:0               [100, 5]            500\n",
      "gen/LSTM/10/FC2/b:0               [5]                   5\n",
      "gen/LSTM/10/FC3/W:0               [5, 100]            500\n",
      "gen/LSTM/10/FC3/b:0               [100]               100\n",
      "gen/LSTM/10/attw:0                [11, 1, 1]           11\n",
      "gen/LSTM/11/FC/W:0                [100, 100]        10000\n",
      "gen/LSTM/11/FC/b:0                [100]               100\n",
      "gen/LSTM/11/FC2/W:0               [100, 2]            200\n",
      "gen/LSTM/11/FC2/b:0               [2]                   2\n",
      "gen/LSTM/11/FC3/W:0               [2, 100]            200\n",
      "gen/LSTM/11/FC3/b:0               [100]               100\n",
      "gen/LSTM/11/attw:0                [12, 1, 1]           12\n",
      "gen/LSTM/12/FC/W:0                [100, 100]        10000\n",
      "gen/LSTM/12/FC/b:0                [100]               100\n",
      "gen/LSTM/12/FC2/W:0               [100, 1]            100\n",
      "gen/LSTM/12/FC2/b:0               [1]                   1\n",
      "gen/LSTM/12/attw:0                [13, 1, 1]           13\n",
      "gen/LSTM/13/FC/W:0                [100, 100]        10000\n",
      "gen/LSTM/13/FC/b:0                [100]               100\n",
      "gen/LSTM/13/FC2/W:0               [100, 5]            500\n",
      "gen/LSTM/13/FC2/b:0               [5]                   5\n",
      "gen/LSTM/13/FC3/W:0               [5, 100]            500\n",
      "gen/LSTM/13/FC3/b:0               [100]               100\n",
      "gen/LSTM/13/attw:0                [14, 1, 1]           14\n",
      "gen/LSTM/14/FC/W:0                [100, 100]        10000\n",
      "gen/LSTM/14/FC/b:0                [100]               100\n",
      "gen/LSTM/14/FC2/W:0               [100, 1]            100\n",
      "gen/LSTM/14/FC2/b:0               [1]                   1\n",
      "gen/LSTM/14/attw:0                [15, 1, 1]           15\n",
      "gen/LSTM/15/FC/W:0                [100, 100]        10000\n",
      "gen/LSTM/15/FC/b:0                [100]               100\n",
      "gen/LSTM/15/FC2/W:0               [100, 5]            500\n",
      "gen/LSTM/15/FC2/b:0               [5]                   5\n",
      "gen/LSTM/15/FC3/W:0               [5, 100]            500\n",
      "gen/LSTM/15/FC3/b:0               [100]               100\n",
      "gen/LSTM/15/attw:0                [16, 1, 1]           16\n",
      "gen/LSTM/16/FC/W:0                [100, 100]        10000\n",
      "gen/LSTM/16/FC/b:0                [100]               100\n",
      "gen/LSTM/16/FC2/W:0               [100, 1]            100\n",
      "gen/LSTM/16/FC2/b:0               [1]                   1\n",
      "gen/LSTM/16/attw:0                [17, 1, 1]           17\n",
      "gen/LSTM/17/FC/W:0                [100, 100]        10000\n",
      "gen/LSTM/17/FC/b:0                [100]               100\n",
      "gen/LSTM/17/FC2/W:0               [100, 5]            500\n",
      "gen/LSTM/17/FC2/b:0               [5]                   5\n",
      "gen/LSTM/17/FC3/W:0               [5, 100]            500\n",
      "gen/LSTM/17/FC3/b:0               [100]               100\n",
      "gen/LSTM/17/attw:0                [18, 1, 1]           18\n",
      "gen/LSTM/18/FC/W:0                [100, 100]        10000\n",
      "gen/LSTM/18/FC/b:0                [100]               100\n",
      "gen/LSTM/18/FC2/W:0               [100, 2]            200\n",
      "gen/LSTM/18/FC2/b:0               [2]                   2\n",
      "gen/LSTM/18/FC3/W:0               [2, 100]            200\n",
      "gen/LSTM/18/FC3/b:0               [100]               100\n",
      "gen/LSTM/18/attw:0                [19, 1, 1]           19\n",
      "gen/LSTM/19/FC/W:0                [100, 100]        10000\n",
      "gen/LSTM/19/FC/b:0                [100]               100\n",
      "gen/LSTM/19/FC2/W:0               [100, 2]            200\n",
      "gen/LSTM/19/FC2/b:0               [2]                   2\n",
      "gen/LSTM/19/FC3/W:0               [2, 100]            200\n",
      "gen/LSTM/19/FC3/b:0               [100]               100\n",
      "gen/LSTM/19/attw:0                [20, 1, 1]           20\n",
      "discrim/dis_fc0/fc/W:0            [80, 256]         20480\n",
      "discrim/dis_fc0/fc/b:0            [256]               256\n",
      "discrim/dis_fc0/fc_diversity/W:0  [256, 100]        25600\n",
      "discrim/dis_fc0/fc_diversity/b:0  [100]               100\n",
      "discrim/dis_fc0/bn/beta:0         [266]               266\n",
      "discrim/dis_fc_top/W:0            [266, 1]            266\n",
      "discrim/dis_fc_top/b:0            [1]                   1\u001b[36m\n",
      "Number of trainable variables: 138\n",
      "Number of parameters (elements): 466559\n",
      "Storage space needed for all trainable variables: 1.78MB\u001b[0m\n"
     ]
    },
    {
     "name": "stdout",
     "output_type": "stream",
     "text": [
      "\u001b[32m[0316 15:32:01 @base.py:209]\u001b[0m Setup callbacks graph ...\n",
      "\u001b[32m[0316 15:32:01 @summary.py:46]\u001b[0m [MovingAverageSummary] 6 operations in collection 'MOVING_SUMMARY_OPS' will be run with session hooks.\n",
      "\u001b[32m[0316 15:32:01 @summary.py:93]\u001b[0m Summarizing collection 'summaries' of size 9.\n",
      "\u001b[32m[0316 15:32:01 @graph.py:98]\u001b[0m Applying collection UPDATE_OPS of 4 ops.\n",
      "\u001b[32m[0316 15:32:05 @base.py:230]\u001b[0m Creating the session ...\n",
      "\u001b[32m[0316 15:32:07 @base.py:236]\u001b[0m Initializing the session ...\n",
      "\u001b[32m[0316 15:32:07 @base.py:243]\u001b[0m Graph Finalized.\n",
      "\u001b[32m[0316 15:32:08 @concurrency.py:38]\u001b[0m Starting EnqueueThread QueueInput/input_queue ...\n",
      "\u001b[32m[0316 15:32:09 @base.py:275]\u001b[0m Start Epoch 1 ...\n"
     ]
    },
    {
     "name": "stderr",
     "output_type": "stream",
     "text": [
      "\n",
      "  0%|                                                                                              |0/60[00:00<?,?it/s]\u001b[A\n",
      "  2%|#4                                                                                    |1/60[00:03<02:59, 0.33it/s]\u001b[A\n",
      "  8%|#######1                                                                              |5/60[00:03<00:25, 2.13it/s]\u001b[A\n",
      " 18%|###############5                                                                     |11/60[00:04<00:09, 5.28it/s]\u001b[A\n",
      " 28%|########################                                                             |17/60[00:04<00:05, 7.86it/s]\u001b[A\n",
      " 38%|################################5                                                    |23/60[00:05<00:03, 9.64it/s]\u001b[A\n",
      " 48%|#########################################                                            |29/60[00:05<00:02,10.66it/s]\u001b[A\n",
      " 58%|#################################################5                                   |35/60[00:06<00:02,11.26it/s]\u001b[A\n",
      " 68%|##########################################################                           |41/60[00:06<00:01,11.53it/s]\u001b[A\n",
      " 78%|##################################################################5                  |47/60[00:07<00:01,11.70it/s]\u001b[A\n",
      " 88%|###########################################################################          |53/60[00:07<00:00,11.75it/s]\u001b[A\n",
      "100%|#####################################################################################|60/60[00:10<00:00, 5.54it/s]\u001b[A"
     ]
    },
    {
     "name": "stdout",
     "output_type": "stream",
     "text": [
      "\u001b[32m[0316 15:32:20 @base.py:285]\u001b[0m Epoch 1 (global_step 60) finished, time:10.8 seconds.\n"
     ]
    },
    {
     "name": "stderr",
     "output_type": "stream",
     "text": [
      "\n"
     ]
    },
    {
     "name": "stdout",
     "output_type": "stream",
     "text": [
      "\u001b[32m[0316 15:32:23 @saver.py:79]\u001b[0m Model saved to S:/arneir/Master-thesis-storage/models\\temp_model\\TGAN7\\model\\model-60.\n",
      "\u001b[32m[0316 15:32:23 @monitor.py:467]\u001b[0m GAN_loss/discrim/accuracy_fake: 0.732\n",
      "\u001b[32m[0316 15:32:23 @monitor.py:467]\u001b[0m GAN_loss/discrim/accuracy_real: 0.3\n",
      "\u001b[32m[0316 15:32:23 @monitor.py:467]\u001b[0m GAN_loss/discrim/loss: 0.68543\n",
      "\u001b[32m[0316 15:32:23 @monitor.py:467]\u001b[0m GAN_loss/gen/final-g-loss: 1.0616\n",
      "\u001b[32m[0316 15:32:23 @monitor.py:467]\u001b[0m GAN_loss/gen/klloss: 0.040016\n",
      "\u001b[32m[0316 15:32:23 @monitor.py:467]\u001b[0m GAN_loss/gen/loss: 1.0216\n",
      "\u001b[32m[0316 15:32:23 @monitor.py:467]\u001b[0m QueueInput/queue_size: 50\n",
      "\u001b[32m[0316 15:32:23 @base.py:275]\u001b[0m Start Epoch 2 ...\n"
     ]
    },
    {
     "name": "stderr",
     "output_type": "stream",
     "text": [
      "\n",
      "  0%|                                                                                              |0/60[00:00<?,?it/s]\u001b[A\n",
      "  8%|#######1                                                                              |5/60[00:00<00:06, 9.03it/s]\u001b[A\n",
      " 18%|###############5                                                                     |11/60[00:01<00:04,10.81it/s]\u001b[A\n",
      " 28%|########################                                                             |17/60[00:01<00:03,11.39it/s]\u001b[A\n",
      " 38%|################################5                                                    |23/60[00:02<00:03,11.65it/s]\u001b[A\n",
      " 48%|#########################################                                            |29/60[00:02<00:02,11.76it/s]\u001b[A\n",
      " 60%|###################################################                                  |36/60[00:03<00:02,11.82it/s]\u001b[A\n",
      " 72%|############################################################9                        |43/60[00:03<00:01,11.91it/s]\u001b[A\n",
      " 82%|#####################################################################4               |49/60[00:04<00:00,11.89it/s]\u001b[A\n",
      "100%|#####################################################################################|60/60[00:05<00:00,11.45it/s]\u001b[A"
     ]
    },
    {
     "name": "stdout",
     "output_type": "stream",
     "text": [
      "\u001b[32m[0316 15:32:28 @base.py:285]\u001b[0m Epoch 2 (global_step 120) finished, time:5.24 seconds.\n"
     ]
    },
    {
     "name": "stderr",
     "output_type": "stream",
     "text": [
      "\n"
     ]
    },
    {
     "name": "stdout",
     "output_type": "stream",
     "text": [
      "\u001b[32m[0316 15:32:30 @saver.py:79]\u001b[0m Model saved to S:/arneir/Master-thesis-storage/models\\temp_model\\TGAN7\\model\\model-120.\n",
      "\u001b[32m[0316 15:32:30 @monitor.py:467]\u001b[0m GAN_loss/discrim/accuracy_fake: 0.792\n",
      "\u001b[32m[0316 15:32:30 @monitor.py:467]\u001b[0m GAN_loss/discrim/accuracy_real: 0.248\n",
      "\u001b[32m[0316 15:32:30 @monitor.py:467]\u001b[0m GAN_loss/discrim/loss: 0.66124\n",
      "\u001b[32m[0316 15:32:30 @monitor.py:467]\u001b[0m GAN_loss/gen/final-g-loss: 1.0145\n",
      "\u001b[32m[0316 15:32:30 @monitor.py:467]\u001b[0m GAN_loss/gen/klloss: 0.04188\n",
      "\u001b[32m[0316 15:32:30 @monitor.py:467]\u001b[0m GAN_loss/gen/loss: 0.9726\n",
      "\u001b[32m[0316 15:32:30 @monitor.py:467]\u001b[0m QueueInput/queue_size: 50\n",
      "\u001b[32m[0316 15:32:30 @base.py:275]\u001b[0m Start Epoch 3 ...\n"
     ]
    },
    {
     "name": "stderr",
     "output_type": "stream",
     "text": [
      "\n",
      "  0%|                                                                                              |0/60[00:00<?,?it/s]\u001b[A\n",
      "  7%|#####7                                                                                |4/60[00:00<00:07, 7.91it/s]\u001b[A\n",
      " 17%|##############1                                                                      |10/60[00:01<00:04,10.47it/s]\u001b[A\n",
      " 27%|######################6                                                              |16/60[00:01<00:03,11.28it/s]\u001b[A\n",
      " 37%|###############################1                                                     |22/60[00:02<00:03,11.60it/s]\u001b[A\n",
      " 47%|#######################################6                                             |28/60[00:02<00:02,11.74it/s]\u001b[A\n",
      " 57%|################################################1                                    |34/60[00:03<00:02,11.79it/s]\u001b[A\n",
      " 67%|########################################################6                            |40/60[00:03<00:01,11.81it/s]\u001b[A\n",
      " 77%|#################################################################1                   |46/60[00:04<00:01,11.85it/s]\u001b[A\n",
      " 87%|#########################################################################6           |52/60[00:04<00:00,11.86it/s]\u001b[A\n",
      "100%|#####################################################################################|60/60[00:05<00:00,11.34it/s]\u001b[A"
     ]
    },
    {
     "name": "stdout",
     "output_type": "stream",
     "text": [
      "\u001b[32m[0316 15:32:36 @base.py:285]\u001b[0m Epoch 3 (global_step 180) finished, time:5.29 seconds.\n"
     ]
    },
    {
     "name": "stderr",
     "output_type": "stream",
     "text": [
      "\n"
     ]
    },
    {
     "name": "stdout",
     "output_type": "stream",
     "text": [
      "\u001b[32m[0316 15:32:37 @saver.py:79]\u001b[0m Model saved to S:/arneir/Master-thesis-storage/models\\temp_model\\TGAN7\\model\\model-180.\n",
      "\u001b[32m[0316 15:32:37 @monitor.py:467]\u001b[0m GAN_loss/discrim/accuracy_fake: 0.844\n",
      "\u001b[32m[0316 15:32:37 @monitor.py:467]\u001b[0m GAN_loss/discrim/accuracy_real: 0.27\n",
      "\u001b[32m[0316 15:32:37 @monitor.py:467]\u001b[0m GAN_loss/discrim/loss: 0.6275\n",
      "\u001b[32m[0316 15:32:37 @monitor.py:467]\u001b[0m GAN_loss/gen/final-g-loss: 1.0631\n",
      "\u001b[32m[0316 15:32:37 @monitor.py:467]\u001b[0m GAN_loss/gen/klloss: 0.039723\n",
      "\u001b[32m[0316 15:32:37 @monitor.py:467]\u001b[0m GAN_loss/gen/loss: 1.0234\n",
      "\u001b[32m[0316 15:32:37 @monitor.py:467]\u001b[0m QueueInput/queue_size: 50\n",
      "\u001b[32m[0316 15:32:37 @base.py:275]\u001b[0m Start Epoch 4 ...\n"
     ]
    },
    {
     "name": "stderr",
     "output_type": "stream",
     "text": [
      "\n",
      "  0%|                                                                                              |0/60[00:00<?,?it/s]\u001b[A\n",
      "  7%|#####7                                                                                |4/60[00:00<00:07, 7.75it/s]\u001b[A\n",
      " 17%|##############1                                                                      |10/60[00:01<00:04,10.39it/s]\u001b[A\n",
      " 27%|######################6                                                              |16/60[00:01<00:03,11.19it/s]\u001b[A\n",
      " 37%|###############################1                                                     |22/60[00:02<00:03,11.59it/s]\u001b[A\n",
      " 47%|#######################################6                                             |28/60[00:02<00:02,11.71it/s]\u001b[A\n",
      " 58%|#################################################5                                   |35/60[00:03<00:02,11.85it/s]\u001b[A\n",
      " 68%|##########################################################                           |41/60[00:03<00:01,11.84it/s]\u001b[A\n",
      " 78%|##################################################################5                  |47/60[00:04<00:01,11.89it/s]\u001b[A\n",
      " 88%|###########################################################################          |53/60[00:04<00:00,11.88it/s]\u001b[A\n",
      "100%|#####################################################################################|60/60[00:05<00:00,11.35it/s]\u001b[A"
     ]
    },
    {
     "name": "stdout",
     "output_type": "stream",
     "text": [
      "\u001b[32m[0316 15:32:43 @base.py:285]\u001b[0m Epoch 4 (global_step 240) finished, time:5.29 seconds.\n"
     ]
    },
    {
     "name": "stderr",
     "output_type": "stream",
     "text": [
      "\n"
     ]
    },
    {
     "name": "stdout",
     "output_type": "stream",
     "text": [
      "\u001b[32m[0316 15:32:44 @saver.py:79]\u001b[0m Model saved to S:/arneir/Master-thesis-storage/models\\temp_model\\TGAN7\\model\\model-240.\n",
      "\u001b[32m[0316 15:32:44 @monitor.py:467]\u001b[0m GAN_loss/discrim/accuracy_fake: 0.87\n",
      "\u001b[32m[0316 15:32:44 @monitor.py:467]\u001b[0m GAN_loss/discrim/accuracy_real: 0.262\n",
      "\u001b[32m[0316 15:32:44 @monitor.py:467]\u001b[0m GAN_loss/discrim/loss: 0.63465\n",
      "\u001b[32m[0316 15:32:44 @monitor.py:467]\u001b[0m GAN_loss/gen/final-g-loss: 1.0347\n",
      "\u001b[32m[0316 15:32:44 @monitor.py:467]\u001b[0m GAN_loss/gen/klloss: 0.035678\n",
      "\u001b[32m[0316 15:32:44 @monitor.py:467]\u001b[0m GAN_loss/gen/loss: 0.99898\n",
      "\u001b[32m[0316 15:32:44 @monitor.py:467]\u001b[0m QueueInput/queue_size: 50\n",
      "\u001b[32m[0316 15:32:44 @base.py:275]\u001b[0m Start Epoch 5 ...\n"
     ]
    },
    {
     "name": "stderr",
     "output_type": "stream",
     "text": [
      "\n",
      "  0%|                                                                                              |0/60[00:00<?,?it/s]\u001b[A\n",
      " 10%|########6                                                                             |6/60[00:00<00:05,10.25it/s]\u001b[A\n",
      " 20%|#################                                                                    |12/60[00:01<00:04,11.22it/s]\u001b[A\n",
      " 30%|#########################5                                                           |18/60[00:01<00:03,11.59it/s]\u001b[A\n",
      " 42%|###################################4                                                 |25/60[00:02<00:02,11.78it/s]\u001b[A\n",
      " 52%|###########################################9                                         |31/60[00:02<00:02,11.85it/s]\u001b[A\n",
      " 62%|####################################################4                                |37/60[00:03<00:01,11.83it/s]\u001b[A\n",
      " 72%|############################################################9                        |43/60[00:03<00:01,11.82it/s]\u001b[A\n",
      " 82%|#####################################################################4               |49/60[00:04<00:00,11.87it/s]\u001b[A\n",
      "100%|#####################################################################################|60/60[00:05<00:00,11.55it/s]\u001b[A"
     ]
    },
    {
     "name": "stdout",
     "output_type": "stream",
     "text": [
      "\u001b[32m[0316 15:32:50 @base.py:285]\u001b[0m Epoch 5 (global_step 300) finished, time:5.2 seconds.\n"
     ]
    },
    {
     "name": "stderr",
     "output_type": "stream",
     "text": [
      "\n"
     ]
    },
    {
     "name": "stdout",
     "output_type": "stream",
     "text": [
      "\u001b[32m[0316 15:32:51 @saver.py:79]\u001b[0m Model saved to S:/arneir/Master-thesis-storage/models\\temp_model\\TGAN7\\model\\model-300.\n",
      "\u001b[32m[0316 15:32:51 @monitor.py:467]\u001b[0m GAN_loss/discrim/accuracy_fake: 0.868\n",
      "\u001b[32m[0316 15:32:51 @monitor.py:467]\u001b[0m GAN_loss/discrim/accuracy_real: 0.374\n",
      "\u001b[32m[0316 15:32:51 @monitor.py:467]\u001b[0m GAN_loss/discrim/loss: 0.61526\n",
      "\u001b[32m[0316 15:32:51 @monitor.py:467]\u001b[0m GAN_loss/gen/final-g-loss: 1.0467\n",
      "\u001b[32m[0316 15:32:51 @monitor.py:467]\u001b[0m GAN_loss/gen/klloss: 0.048262\n",
      "\u001b[32m[0316 15:32:51 @monitor.py:467]\u001b[0m GAN_loss/gen/loss: 0.99841\n",
      "\u001b[32m[0316 15:32:51 @monitor.py:467]\u001b[0m QueueInput/queue_size: 50\n",
      "\u001b[32m[0316 15:32:51 @base.py:275]\u001b[0m Start Epoch 6 ...\n"
     ]
    },
    {
     "name": "stderr",
     "output_type": "stream",
     "text": [
      "\n",
      "  0%|                                                                                              |0/60[00:00<?,?it/s]\u001b[A\n",
      "  8%|#######1                                                                              |5/60[00:00<00:05, 9.37it/s]\u001b[A\n",
      " 18%|###############5                                                                     |11/60[00:01<00:04,11.01it/s]\u001b[A\n",
      " 28%|########################                                                             |17/60[00:01<00:03,11.46it/s]\u001b[A\n",
      " 38%|################################5                                                    |23/60[00:02<00:03,11.71it/s]\u001b[A\n",
      " 48%|#########################################                                            |29/60[00:02<00:02,11.75it/s]\u001b[A\n",
      " 58%|#################################################5                                   |35/60[00:03<00:02,11.80it/s]\u001b[A\n",
      " 68%|##########################################################                           |41/60[00:03<00:01,11.89it/s]\u001b[A\n",
      " 78%|##################################################################5                  |47/60[00:04<00:01,11.90it/s]\u001b[A\n",
      " 88%|###########################################################################          |53/60[00:04<00:00,11.88it/s]\u001b[A\n",
      "100%|#####################################################################################|60/60[00:05<00:00,11.48it/s]\u001b[A"
     ]
    },
    {
     "name": "stdout",
     "output_type": "stream",
     "text": [
      "\u001b[32m[0316 15:32:56 @base.py:285]\u001b[0m Epoch 6 (global_step 360) finished, time:5.23 seconds.\n"
     ]
    },
    {
     "name": "stderr",
     "output_type": "stream",
     "text": [
      "\n"
     ]
    },
    {
     "name": "stdout",
     "output_type": "stream",
     "text": [
      "\u001b[32m[0316 15:32:58 @saver.py:79]\u001b[0m Model saved to S:/arneir/Master-thesis-storage/models\\temp_model\\TGAN7\\model\\model-360.\n",
      "\u001b[32m[0316 15:32:58 @monitor.py:467]\u001b[0m GAN_loss/discrim/accuracy_fake: 0.846\n",
      "\u001b[32m[0316 15:32:58 @monitor.py:467]\u001b[0m GAN_loss/discrim/accuracy_real: 0.43\n",
      "\u001b[32m[0316 15:32:58 @monitor.py:467]\u001b[0m GAN_loss/discrim/loss: 0.60439\n",
      "\u001b[32m[0316 15:32:58 @monitor.py:467]\u001b[0m GAN_loss/gen/final-g-loss: 1.0853\n",
      "\u001b[32m[0316 15:32:58 @monitor.py:467]\u001b[0m GAN_loss/gen/klloss: 0.057746\n",
      "\u001b[32m[0316 15:32:58 @monitor.py:467]\u001b[0m GAN_loss/gen/loss: 1.0276\n",
      "\u001b[32m[0316 15:32:58 @monitor.py:467]\u001b[0m QueueInput/queue_size: 50\n",
      "\u001b[32m[0316 15:32:58 @base.py:275]\u001b[0m Start Epoch 7 ...\n"
     ]
    },
    {
     "name": "stderr",
     "output_type": "stream",
     "text": [
      "\n",
      "  0%|                                                                                              |0/60[00:00<?,?it/s]\u001b[A\n",
      " 10%|########6                                                                             |6/60[00:00<00:05,10.60it/s]\u001b[A\n",
      " 20%|#################                                                                    |12/60[00:01<00:04,11.44it/s]\u001b[A\n",
      " 30%|#########################5                                                           |18/60[00:01<00:03,11.68it/s]\u001b[A\n",
      " 40%|##################################                                                   |24/60[00:02<00:03,11.80it/s]\u001b[A\n",
      " 50%|##########################################5                                          |30/60[00:02<00:02,11.82it/s]\u001b[A\n",
      " 60%|###################################################                                  |36/60[00:03<00:02,11.87it/s]\u001b[A\n",
      " 70%|###########################################################4                         |42/60[00:03<00:01,11.88it/s]\u001b[A\n",
      " 80%|####################################################################                 |48/60[00:04<00:01,11.87it/s]\u001b[A\n",
      " 90%|############################################################################5        |54/60[00:04<00:00,11.86it/s]\u001b[A\n",
      "100%|#####################################################################################|60/60[00:05<00:00,11.58it/s]\u001b[A"
     ]
    },
    {
     "name": "stdout",
     "output_type": "stream",
     "text": [
      "\u001b[32m[0316 15:33:03 @base.py:285]\u001b[0m Epoch 7 (global_step 420) finished, time:5.18 seconds.\n"
     ]
    },
    {
     "name": "stderr",
     "output_type": "stream",
     "text": [
      "\n"
     ]
    },
    {
     "name": "stdout",
     "output_type": "stream",
     "text": [
      "\u001b[32m[0316 15:33:04 @saver.py:79]\u001b[0m Model saved to S:/arneir/Master-thesis-storage/models\\temp_model\\TGAN7\\model\\model-420.\n",
      "\u001b[32m[0316 15:33:05 @monitor.py:467]\u001b[0m GAN_loss/discrim/accuracy_fake: 0.852\n",
      "\u001b[32m[0316 15:33:05 @monitor.py:467]\u001b[0m GAN_loss/discrim/accuracy_real: 0.354\n",
      "\u001b[32m[0316 15:33:05 @monitor.py:467]\u001b[0m GAN_loss/discrim/loss: 0.62154\n",
      "\u001b[32m[0316 15:33:05 @monitor.py:467]\u001b[0m GAN_loss/gen/final-g-loss: 1.0976\n",
      "\u001b[32m[0316 15:33:05 @monitor.py:467]\u001b[0m GAN_loss/gen/klloss: 0.060722\n",
      "\u001b[32m[0316 15:33:05 @monitor.py:467]\u001b[0m GAN_loss/gen/loss: 1.0369\n",
      "\u001b[32m[0316 15:33:05 @monitor.py:467]\u001b[0m QueueInput/queue_size: 50\n",
      "\u001b[32m[0316 15:33:05 @base.py:275]\u001b[0m Start Epoch 8 ...\n"
     ]
    },
    {
     "name": "stderr",
     "output_type": "stream",
     "text": [
      "\n",
      "  0%|                                                                                              |0/60[00:00<?,?it/s]\u001b[A\n",
      "  7%|#####7                                                                                |4/60[00:00<00:07, 7.78it/s]\u001b[A\n",
      " 17%|##############1                                                                      |10/60[00:01<00:04,10.33it/s]\u001b[A\n",
      " 27%|######################6                                                              |16/60[00:01<00:03,11.20it/s]\u001b[A\n",
      " 37%|###############################1                                                     |22/60[00:02<00:03,11.49it/s]\u001b[A\n",
      " 47%|#######################################6                                             |28/60[00:02<00:02,11.73it/s]\u001b[A\n",
      " 57%|################################################1                                    |34/60[00:03<00:02,11.84it/s]\u001b[A\n",
      " 67%|########################################################6                            |40/60[00:03<00:01,11.82it/s]\u001b[A\n",
      " 78%|##################################################################5                  |47/60[00:04<00:01,11.87it/s]\u001b[A\n",
      " 90%|############################################################################5        |54/60[00:04<00:00,11.88it/s]\u001b[A\n",
      "100%|#####################################################################################|60/60[00:05<00:00,11.30it/s]\u001b[A"
     ]
    },
    {
     "name": "stdout",
     "output_type": "stream",
     "text": [
      "\u001b[32m[0316 15:33:10 @base.py:285]\u001b[0m Epoch 8 (global_step 480) finished, time:5.31 seconds.\n"
     ]
    },
    {
     "name": "stderr",
     "output_type": "stream",
     "text": [
      "\n"
     ]
    },
    {
     "name": "stdout",
     "output_type": "stream",
     "text": [
      "\u001b[32m[0316 15:33:11 @saver.py:79]\u001b[0m Model saved to S:/arneir/Master-thesis-storage/models\\temp_model\\TGAN7\\model\\model-480.\n",
      "\u001b[32m[0316 15:33:11 @monitor.py:467]\u001b[0m GAN_loss/discrim/accuracy_fake: 0.852\n",
      "\u001b[32m[0316 15:33:11 @monitor.py:467]\u001b[0m GAN_loss/discrim/accuracy_real: 0.386\n",
      "\u001b[32m[0316 15:33:11 @monitor.py:467]\u001b[0m GAN_loss/discrim/loss: 0.60228\n",
      "\u001b[32m[0316 15:33:11 @monitor.py:467]\u001b[0m GAN_loss/gen/final-g-loss: 1.1302\n",
      "\u001b[32m[0316 15:33:11 @monitor.py:467]\u001b[0m GAN_loss/gen/klloss: 0.051024\n",
      "\u001b[32m[0316 15:33:11 @monitor.py:467]\u001b[0m GAN_loss/gen/loss: 1.0791\n",
      "\u001b[32m[0316 15:33:11 @monitor.py:467]\u001b[0m QueueInput/queue_size: 50\n",
      "\u001b[32m[0316 15:33:11 @base.py:275]\u001b[0m Start Epoch 9 ...\n"
     ]
    },
    {
     "name": "stderr",
     "output_type": "stream",
     "text": [
      "\n",
      "  0%|                                                                                              |0/60[00:00<?,?it/s]\u001b[A\n",
      "  8%|#######1                                                                              |5/60[00:00<00:06, 8.56it/s]\u001b[A\n",
      " 18%|###############5                                                                     |11/60[00:01<00:04,10.63it/s]\u001b[A\n",
      " 28%|########################                                                             |17/60[00:01<00:03,11.32it/s]\u001b[A\n",
      " 38%|################################5                                                    |23/60[00:02<00:03,11.62it/s]\u001b[A\n",
      " 48%|#########################################                                            |29/60[00:02<00:02,11.72it/s]\u001b[A\n",
      " 58%|#################################################5                                   |35/60[00:03<00:02,11.82it/s]\u001b[A\n",
      " 68%|##########################################################                           |41/60[00:03<00:01,11.81it/s]\u001b[A\n",
      " 80%|####################################################################                 |48/60[00:04<00:01,11.91it/s]\u001b[A\n",
      " 90%|############################################################################5        |54/60[00:04<00:00,11.93it/s]\u001b[A\n",
      "100%|#####################################################################################|60/60[00:05<00:00,11.41it/s]\u001b[A"
     ]
    },
    {
     "name": "stdout",
     "output_type": "stream",
     "text": [
      "\u001b[32m[0316 15:33:17 @base.py:285]\u001b[0m Epoch 9 (global_step 540) finished, time:5.26 seconds.\n"
     ]
    },
    {
     "name": "stderr",
     "output_type": "stream",
     "text": [
      "\n"
     ]
    },
    {
     "name": "stdout",
     "output_type": "stream",
     "text": [
      "\u001b[32m[0316 15:33:19 @saver.py:79]\u001b[0m Model saved to S:/arneir/Master-thesis-storage/models\\temp_model\\TGAN7\\model\\model-540.\n",
      "\u001b[32m[0316 15:33:19 @monitor.py:467]\u001b[0m GAN_loss/discrim/accuracy_fake: 0.848\n",
      "\u001b[32m[0316 15:33:19 @monitor.py:467]\u001b[0m GAN_loss/discrim/accuracy_real: 0.404\n",
      "\u001b[32m[0316 15:33:19 @monitor.py:467]\u001b[0m GAN_loss/discrim/loss: 0.60641\n",
      "\u001b[32m[0316 15:33:19 @monitor.py:467]\u001b[0m GAN_loss/gen/final-g-loss: 1.1258\n",
      "\u001b[32m[0316 15:33:19 @monitor.py:467]\u001b[0m GAN_loss/gen/klloss: 0.037048\n",
      "\u001b[32m[0316 15:33:19 @monitor.py:467]\u001b[0m GAN_loss/gen/loss: 1.0888\n",
      "\u001b[32m[0316 15:33:19 @monitor.py:467]\u001b[0m QueueInput/queue_size: 50\n",
      "\u001b[32m[0316 15:33:19 @base.py:275]\u001b[0m Start Epoch 10 ...\n"
     ]
    },
    {
     "name": "stderr",
     "output_type": "stream",
     "text": [
      "\n",
      "  0%|                                                                                              |0/60[00:00<?,?it/s]\u001b[A\n",
      " 10%|########6                                                                             |6/60[00:00<00:05,10.27it/s]\u001b[A\n",
      " 20%|#################                                                                    |12/60[00:01<00:04,11.34it/s]\u001b[A\n",
      " 30%|#########################5                                                           |18/60[00:01<00:03,11.64it/s]\u001b[A\n",
      " 40%|##################################                                                   |24/60[00:02<00:03,11.73it/s]\u001b[A\n",
      " 50%|##########################################5                                          |30/60[00:02<00:02,11.86it/s]\u001b[A\n",
      " 60%|###################################################                                  |36/60[00:03<00:02,11.85it/s]\u001b[A\n",
      " 70%|###########################################################4                         |42/60[00:03<00:01,11.86it/s]\u001b[A\n",
      " 80%|####################################################################                 |48/60[00:04<00:01,11.89it/s]\u001b[A\n",
      " 90%|############################################################################5        |54/60[00:04<00:00,11.84it/s]\u001b[A\n",
      "100%|#####################################################################################|60/60[00:05<00:00,11.58it/s]\u001b[A"
     ]
    },
    {
     "name": "stdout",
     "output_type": "stream",
     "text": [
      "\u001b[32m[0316 15:33:24 @base.py:285]\u001b[0m Epoch 10 (global_step 600) finished, time:5.18 seconds.\n"
     ]
    },
    {
     "name": "stderr",
     "output_type": "stream",
     "text": [
      "\n"
     ]
    },
    {
     "name": "stdout",
     "output_type": "stream",
     "text": [
      "\u001b[32m[0316 15:33:25 @saver.py:79]\u001b[0m Model saved to S:/arneir/Master-thesis-storage/models\\temp_model\\TGAN7\\model\\model-600.\n",
      "\u001b[32m[0316 15:33:26 @monitor.py:467]\u001b[0m GAN_loss/discrim/accuracy_fake: 0.86\n",
      "\u001b[32m[0316 15:33:26 @monitor.py:467]\u001b[0m GAN_loss/discrim/accuracy_real: 0.412\n",
      "\u001b[32m[0316 15:33:26 @monitor.py:467]\u001b[0m GAN_loss/discrim/loss: 0.61227\n",
      "\u001b[32m[0316 15:33:26 @monitor.py:467]\u001b[0m GAN_loss/gen/final-g-loss: 1.1537\n",
      "\u001b[32m[0316 15:33:26 @monitor.py:467]\u001b[0m GAN_loss/gen/klloss: 0.076502\n",
      "\u001b[32m[0316 15:33:26 @monitor.py:467]\u001b[0m GAN_loss/gen/loss: 1.0772\n",
      "\u001b[32m[0316 15:33:26 @monitor.py:467]\u001b[0m QueueInput/queue_size: 50\n",
      "\u001b[32m[0316 15:33:26 @base.py:275]\u001b[0m Start Epoch 11 ...\n"
     ]
    },
    {
     "name": "stderr",
     "output_type": "stream",
     "text": [
      "\n",
      "  0%|                                                                                              |0/60[00:00<?,?it/s]\u001b[A\n",
      "  8%|#######1                                                                              |5/60[00:00<00:05, 9.79it/s]\u001b[A\n",
      " 18%|###############5                                                                     |11/60[00:01<00:04,11.15it/s]\u001b[A\n",
      " 28%|########################                                                             |17/60[00:01<00:03,11.56it/s]\u001b[A\n",
      " 38%|################################5                                                    |23/60[00:02<00:03,11.71it/s]\u001b[A\n",
      " 48%|#########################################                                            |29/60[00:02<00:02,11.81it/s]\u001b[A\n",
      " 58%|#################################################5                                   |35/60[00:03<00:02,11.85it/s]\u001b[A\n",
      " 68%|##########################################################                           |41/60[00:03<00:01,11.82it/s]\u001b[A\n",
      " 78%|##################################################################5                  |47/60[00:04<00:01,11.87it/s]\u001b[A\n",
      " 88%|###########################################################################          |53/60[00:04<00:00,11.83it/s]\u001b[A\n",
      "100%|#####################################################################################|60/60[00:05<00:00,11.56it/s]\u001b[A"
     ]
    },
    {
     "name": "stdout",
     "output_type": "stream",
     "text": [
      "\u001b[32m[0316 15:33:31 @base.py:285]\u001b[0m Epoch 11 (global_step 660) finished, time:5.19 seconds.\n"
     ]
    },
    {
     "name": "stderr",
     "output_type": "stream",
     "text": [
      "\n"
     ]
    },
    {
     "name": "stdout",
     "output_type": "stream",
     "text": [
      "\u001b[32m[0316 15:33:32 @saver.py:79]\u001b[0m Model saved to S:/arneir/Master-thesis-storage/models\\temp_model\\TGAN7\\model\\model-660.\n",
      "\u001b[32m[0316 15:33:32 @monitor.py:467]\u001b[0m GAN_loss/discrim/accuracy_fake: 0.836\n",
      "\u001b[32m[0316 15:33:32 @monitor.py:467]\u001b[0m GAN_loss/discrim/accuracy_real: 0.354\n",
      "\u001b[32m[0316 15:33:32 @monitor.py:467]\u001b[0m GAN_loss/discrim/loss: 0.62555\n",
      "\u001b[32m[0316 15:33:32 @monitor.py:467]\u001b[0m GAN_loss/gen/final-g-loss: 1.1043\n",
      "\u001b[32m[0316 15:33:32 @monitor.py:467]\u001b[0m GAN_loss/gen/klloss: 0.06175\n",
      "\u001b[32m[0316 15:33:32 @monitor.py:467]\u001b[0m GAN_loss/gen/loss: 1.0426\n",
      "\u001b[32m[0316 15:33:32 @monitor.py:467]\u001b[0m QueueInput/queue_size: 50\n",
      "\u001b[32m[0316 15:33:32 @base.py:275]\u001b[0m Start Epoch 12 ...\n"
     ]
    },
    {
     "name": "stderr",
     "output_type": "stream",
     "text": [
      "\n",
      "  0%|                                                                                              |0/60[00:00<?,?it/s]\u001b[A\n",
      "  8%|#######1                                                                              |5/60[00:00<00:06, 8.87it/s]\u001b[A\n",
      " 18%|###############5                                                                     |11/60[00:01<00:04,10.78it/s]\u001b[A\n",
      " 28%|########################                                                             |17/60[00:01<00:03,11.39it/s]\u001b[A\n",
      " 38%|################################5                                                    |23/60[00:02<00:03,11.63it/s]\u001b[A\n",
      " 48%|#########################################                                            |29/60[00:02<00:02,11.78it/s]\u001b[A\n",
      " 58%|#################################################5                                   |35/60[00:03<00:02,11.82it/s]\u001b[A\n",
      " 68%|##########################################################                           |41/60[00:03<00:01,11.81it/s]\u001b[A\n",
      " 78%|##################################################################5                  |47/60[00:04<00:01,11.88it/s]\u001b[A\n",
      " 88%|###########################################################################          |53/60[00:04<00:00,11.86it/s]\u001b[A\n",
      "100%|#####################################################################################|60/60[00:05<00:00,11.27it/s]\u001b[A"
     ]
    },
    {
     "name": "stdout",
     "output_type": "stream",
     "text": [
      "\u001b[32m[0316 15:33:38 @base.py:285]\u001b[0m Epoch 12 (global_step 720) finished, time:5.32 seconds.\n"
     ]
    },
    {
     "name": "stderr",
     "output_type": "stream",
     "text": [
      "\n"
     ]
    },
    {
     "name": "stdout",
     "output_type": "stream",
     "text": [
      "\u001b[32m[0316 15:33:41 @saver.py:79]\u001b[0m Model saved to S:/arneir/Master-thesis-storage/models\\temp_model\\TGAN7\\model\\model-720.\n",
      "\u001b[32m[0316 15:33:41 @monitor.py:467]\u001b[0m GAN_loss/discrim/accuracy_fake: 0.836\n",
      "\u001b[32m[0316 15:33:41 @monitor.py:467]\u001b[0m GAN_loss/discrim/accuracy_real: 0.394\n",
      "\u001b[32m[0316 15:33:41 @monitor.py:467]\u001b[0m GAN_loss/discrim/loss: 0.61575\n",
      "\u001b[32m[0316 15:33:41 @monitor.py:467]\u001b[0m GAN_loss/gen/final-g-loss: 1.1006\n",
      "\u001b[32m[0316 15:33:41 @monitor.py:467]\u001b[0m GAN_loss/gen/klloss: 0.046495\n",
      "\u001b[32m[0316 15:33:41 @monitor.py:467]\u001b[0m GAN_loss/gen/loss: 1.0541\n",
      "\u001b[32m[0316 15:33:41 @monitor.py:467]\u001b[0m QueueInput/queue_size: 50\n",
      "\u001b[32m[0316 15:33:42 @group.py:48]\u001b[0m Callbacks took 3.754 sec in total. ModelSaver: 2.96 seconds\n",
      "\u001b[32m[0316 15:33:42 @base.py:275]\u001b[0m Start Epoch 13 ...\n"
     ]
    },
    {
     "name": "stderr",
     "output_type": "stream",
     "text": [
      "\n",
      "  0%|                                                                                              |0/60[00:00<?,?it/s]\u001b[A\n",
      " 10%|########6                                                                             |6/60[00:00<00:05,10.61it/s]\u001b[A\n",
      " 20%|#################                                                                    |12/60[00:01<00:04,11.39it/s]\u001b[A\n",
      " 30%|#########################5                                                           |18/60[00:01<00:03,11.72it/s]\u001b[A\n",
      " 40%|##################################                                                   |24/60[00:02<00:03,11.75it/s]\u001b[A\n",
      " 50%|##########################################5                                          |30/60[00:02<00:02,11.84it/s]\u001b[A\n",
      " 60%|###################################################                                  |36/60[00:03<00:02,11.86it/s]\u001b[A\n",
      " 70%|###########################################################4                         |42/60[00:03<00:01,11.90it/s]\u001b[A\n",
      " 80%|####################################################################                 |48/60[00:04<00:01,11.88it/s]\u001b[A\n",
      " 90%|############################################################################5        |54/60[00:04<00:00,11.86it/s]\u001b[A\n",
      "100%|#####################################################################################|60/60[00:05<00:00,11.60it/s]\u001b[A"
     ]
    },
    {
     "name": "stdout",
     "output_type": "stream",
     "text": [
      "\u001b[32m[0316 15:33:47 @base.py:285]\u001b[0m Epoch 13 (global_step 780) finished, time:5.17 seconds.\n"
     ]
    },
    {
     "name": "stderr",
     "output_type": "stream",
     "text": [
      "\n"
     ]
    },
    {
     "name": "stdout",
     "output_type": "stream",
     "text": [
      "\u001b[32m[0316 15:33:48 @saver.py:79]\u001b[0m Model saved to S:/arneir/Master-thesis-storage/models\\temp_model\\TGAN7\\model\\model-780.\n",
      "\u001b[32m[0316 15:33:48 @monitor.py:467]\u001b[0m GAN_loss/discrim/accuracy_fake: 0.84\n",
      "\u001b[32m[0316 15:33:48 @monitor.py:467]\u001b[0m GAN_loss/discrim/accuracy_real: 0.306\n",
      "\u001b[32m[0316 15:33:48 @monitor.py:467]\u001b[0m GAN_loss/discrim/loss: 0.63914\n",
      "\u001b[32m[0316 15:33:48 @monitor.py:467]\u001b[0m GAN_loss/gen/final-g-loss: 1.1204\n",
      "\u001b[32m[0316 15:33:48 @monitor.py:467]\u001b[0m GAN_loss/gen/klloss: 0.079899\n",
      "\u001b[32m[0316 15:33:48 @monitor.py:467]\u001b[0m GAN_loss/gen/loss: 1.0405\n",
      "\u001b[32m[0316 15:33:48 @monitor.py:467]\u001b[0m QueueInput/queue_size: 50\n",
      "\u001b[32m[0316 15:33:48 @base.py:275]\u001b[0m Start Epoch 14 ...\n"
     ]
    },
    {
     "name": "stderr",
     "output_type": "stream",
     "text": [
      "\n",
      "  0%|                                                                                              |0/60[00:00<?,?it/s]\u001b[A\n",
      "  8%|#######1                                                                              |5/60[00:00<00:05, 9.53it/s]\u001b[A\n",
      " 18%|###############5                                                                     |11/60[00:01<00:04,11.04it/s]\u001b[A\n",
      " 28%|########################                                                             |17/60[00:01<00:03,11.53it/s]\u001b[A\n",
      " 38%|################################5                                                    |23/60[00:02<00:03,11.70it/s]\u001b[A\n",
      " 48%|#########################################                                            |29/60[00:02<00:02,11.76it/s]\u001b[A\n",
      " 58%|#################################################5                                   |35/60[00:03<00:02,11.84it/s]\u001b[A\n",
      " 68%|##########################################################                           |41/60[00:03<00:01,11.83it/s]\u001b[A\n",
      " 78%|##################################################################5                  |47/60[00:04<00:01,11.84it/s]\u001b[A\n",
      " 88%|###########################################################################          |53/60[00:04<00:00,11.89it/s]\u001b[A\n",
      "100%|#####################################################################################|60/60[00:05<00:00,11.47it/s]\u001b[A"
     ]
    },
    {
     "name": "stdout",
     "output_type": "stream",
     "text": [
      "\u001b[32m[0316 15:33:54 @base.py:285]\u001b[0m Epoch 14 (global_step 840) finished, time:5.23 seconds.\n"
     ]
    },
    {
     "name": "stderr",
     "output_type": "stream",
     "text": [
      "\n"
     ]
    },
    {
     "name": "stdout",
     "output_type": "stream",
     "text": [
      "\u001b[32m[0316 15:33:55 @saver.py:79]\u001b[0m Model saved to S:/arneir/Master-thesis-storage/models\\temp_model\\TGAN7\\model\\model-840.\n",
      "\u001b[32m[0316 15:33:56 @monitor.py:467]\u001b[0m GAN_loss/discrim/accuracy_fake: 0.812\n",
      "\u001b[32m[0316 15:33:56 @monitor.py:467]\u001b[0m GAN_loss/discrim/accuracy_real: 0.346\n",
      "\u001b[32m[0316 15:33:56 @monitor.py:467]\u001b[0m GAN_loss/discrim/loss: 0.63197\n",
      "\u001b[32m[0316 15:33:56 @monitor.py:467]\u001b[0m GAN_loss/gen/final-g-loss: 1.1094\n",
      "\u001b[32m[0316 15:33:56 @monitor.py:467]\u001b[0m GAN_loss/gen/klloss: 0.078828\n",
      "\u001b[32m[0316 15:33:56 @monitor.py:467]\u001b[0m GAN_loss/gen/loss: 1.0306\n",
      "\u001b[32m[0316 15:33:56 @monitor.py:467]\u001b[0m QueueInput/queue_size: 50\n",
      "\u001b[32m[0316 15:33:56 @base.py:275]\u001b[0m Start Epoch 15 ...\n"
     ]
    },
    {
     "name": "stderr",
     "output_type": "stream",
     "text": [
      "\n",
      "  0%|                                                                                              |0/60[00:00<?,?it/s]\u001b[A\n",
      " 10%|########6                                                                             |6/60[00:00<00:05,10.71it/s]\u001b[A\n",
      " 20%|#################                                                                    |12/60[00:01<00:04,11.43it/s]\u001b[A\n",
      " 30%|#########################5                                                           |18/60[00:01<00:03,11.72it/s]\u001b[A\n",
      " 40%|##################################                                                   |24/60[00:02<00:03,11.78it/s]\u001b[A\n",
      " 50%|##########################################5                                          |30/60[00:02<00:02,11.81it/s]\u001b[A\n",
      " 60%|###################################################                                  |36/60[00:03<00:02,11.79it/s]\u001b[A\n",
      " 70%|###########################################################4                         |42/60[00:03<00:01,11.84it/s]\u001b[A\n",
      " 80%|####################################################################                 |48/60[00:04<00:01,11.88it/s]\u001b[A\n",
      " 90%|############################################################################5        |54/60[00:04<00:00,11.82it/s]\u001b[A\n",
      "100%|#####################################################################################|60/60[00:05<00:00,11.56it/s]\u001b[A"
     ]
    },
    {
     "name": "stdout",
     "output_type": "stream",
     "text": [
      "\u001b[32m[0316 15:34:01 @base.py:285]\u001b[0m Epoch 15 (global_step 900) finished, time:5.19 seconds.\n"
     ]
    },
    {
     "name": "stderr",
     "output_type": "stream",
     "text": [
      "\n"
     ]
    },
    {
     "name": "stdout",
     "output_type": "stream",
     "text": [
      "\u001b[32m[0316 15:34:02 @saver.py:79]\u001b[0m Model saved to S:/arneir/Master-thesis-storage/models\\temp_model\\TGAN7\\model\\model-900.\n",
      "\u001b[32m[0316 15:34:02 @monitor.py:467]\u001b[0m GAN_loss/discrim/accuracy_fake: 0.838\n",
      "\u001b[32m[0316 15:34:02 @monitor.py:467]\u001b[0m GAN_loss/discrim/accuracy_real: 0.302\n",
      "\u001b[32m[0316 15:34:02 @monitor.py:467]\u001b[0m GAN_loss/discrim/loss: 0.63377\n",
      "\u001b[32m[0316 15:34:02 @monitor.py:467]\u001b[0m GAN_loss/gen/final-g-loss: 1.1055\n",
      "\u001b[32m[0316 15:34:02 @monitor.py:467]\u001b[0m GAN_loss/gen/klloss: 0.078879\n",
      "\u001b[32m[0316 15:34:02 @monitor.py:467]\u001b[0m GAN_loss/gen/loss: 1.0267\n",
      "\u001b[32m[0316 15:34:02 @monitor.py:467]\u001b[0m QueueInput/queue_size: 50\n",
      "\u001b[32m[0316 15:34:02 @base.py:275]\u001b[0m Start Epoch 16 ...\n"
     ]
    },
    {
     "name": "stderr",
     "output_type": "stream",
     "text": [
      "\n",
      "  0%|                                                                                              |0/60[00:00<?,?it/s]\u001b[A\n",
      "  8%|#######1                                                                              |5/60[00:00<00:06, 8.47it/s]\u001b[A\n",
      " 18%|###############5                                                                     |11/60[00:01<00:04,10.47it/s]\u001b[A\n",
      " 28%|########################                                                             |17/60[00:01<00:03,11.31it/s]\u001b[A\n",
      " 38%|################################5                                                    |23/60[00:02<00:03,11.61it/s]\u001b[A\n",
      " 48%|#########################################                                            |29/60[00:02<00:02,11.77it/s]\u001b[A\n",
      " 58%|#################################################5                                   |35/60[00:03<00:02,11.78it/s]\u001b[A\n",
      " 68%|##########################################################                           |41/60[00:03<00:01,11.87it/s]\u001b[A\n",
      " 78%|##################################################################5                  |47/60[00:04<00:01,11.87it/s]\u001b[A\n",
      " 88%|###########################################################################          |53/60[00:04<00:00,11.87it/s]\u001b[A\n",
      "100%|#####################################################################################|60/60[00:05<00:00,11.30it/s]\u001b[A"
     ]
    },
    {
     "name": "stdout",
     "output_type": "stream",
     "text": [
      "\u001b[32m[0316 15:34:08 @base.py:285]\u001b[0m Epoch 16 (global_step 960) finished, time:5.31 seconds.\n"
     ]
    },
    {
     "name": "stderr",
     "output_type": "stream",
     "text": [
      "\n"
     ]
    },
    {
     "name": "stdout",
     "output_type": "stream",
     "text": [
      "\u001b[32m[0316 15:34:09 @saver.py:79]\u001b[0m Model saved to S:/arneir/Master-thesis-storage/models\\temp_model\\TGAN7\\model\\model-960.\n",
      "\u001b[32m[0316 15:34:09 @monitor.py:467]\u001b[0m GAN_loss/discrim/accuracy_fake: 0.864\n",
      "\u001b[32m[0316 15:34:09 @monitor.py:467]\u001b[0m GAN_loss/discrim/accuracy_real: 0.296\n",
      "\u001b[32m[0316 15:34:09 @monitor.py:467]\u001b[0m GAN_loss/discrim/loss: 0.62967\n",
      "\u001b[32m[0316 15:34:09 @monitor.py:467]\u001b[0m GAN_loss/gen/final-g-loss: 1.1297\n",
      "\u001b[32m[0316 15:34:09 @monitor.py:467]\u001b[0m GAN_loss/gen/klloss: 0.10248\n",
      "\u001b[32m[0316 15:34:09 @monitor.py:467]\u001b[0m GAN_loss/gen/loss: 1.0272\n",
      "\u001b[32m[0316 15:34:09 @monitor.py:467]\u001b[0m QueueInput/queue_size: 50\n",
      "\u001b[32m[0316 15:34:09 @base.py:275]\u001b[0m Start Epoch 17 ...\n"
     ]
    },
    {
     "name": "stderr",
     "output_type": "stream",
     "text": [
      "\n",
      "  0%|                                                                                              |0/60[00:00<?,?it/s]\u001b[A\n",
      "  8%|#######1                                                                              |5/60[00:00<00:06, 9.02it/s]\u001b[A\n",
      " 18%|###############5                                                                     |11/60[00:01<00:04,10.82it/s]\u001b[A\n",
      " 28%|########################                                                             |17/60[00:01<00:03,11.43it/s]\u001b[A\n",
      " 38%|################################5                                                    |23/60[00:02<00:03,11.67it/s]\u001b[A\n",
      " 48%|#########################################                                            |29/60[00:02<00:02,11.75it/s]\u001b[A\n",
      " 58%|#################################################5                                   |35/60[00:03<00:02,11.77it/s]\u001b[A\n",
      " 68%|##########################################################                           |41/60[00:03<00:01,11.80it/s]\u001b[A\n",
      " 80%|####################################################################                 |48/60[00:04<00:01,11.89it/s]\u001b[A\n",
      " 90%|############################################################################5        |54/60[00:04<00:00,11.85it/s]\u001b[A\n",
      "100%|#####################################################################################|60/60[00:05<00:00,11.26it/s]\u001b[A"
     ]
    },
    {
     "name": "stdout",
     "output_type": "stream",
     "text": [
      "\u001b[32m[0316 15:34:15 @base.py:285]\u001b[0m Epoch 17 (global_step 1020) finished, time:5.33 seconds.\n"
     ]
    },
    {
     "name": "stderr",
     "output_type": "stream",
     "text": [
      "\n"
     ]
    },
    {
     "name": "stdout",
     "output_type": "stream",
     "text": [
      "\u001b[32m[0316 15:34:16 @saver.py:79]\u001b[0m Model saved to S:/arneir/Master-thesis-storage/models\\temp_model\\TGAN7\\model\\model-1020.\n",
      "\u001b[32m[0316 15:34:16 @monitor.py:467]\u001b[0m GAN_loss/discrim/accuracy_fake: 0.878\n",
      "\u001b[32m[0316 15:34:16 @monitor.py:467]\u001b[0m GAN_loss/discrim/accuracy_real: 0.318\n",
      "\u001b[32m[0316 15:34:16 @monitor.py:467]\u001b[0m GAN_loss/discrim/loss: 0.62286\n",
      "\u001b[32m[0316 15:34:16 @monitor.py:467]\u001b[0m GAN_loss/gen/final-g-loss: 1.1336\n",
      "\u001b[32m[0316 15:34:16 @monitor.py:467]\u001b[0m GAN_loss/gen/klloss: 0.083232\n",
      "\u001b[32m[0316 15:34:16 @monitor.py:467]\u001b[0m GAN_loss/gen/loss: 1.0503\n",
      "\u001b[32m[0316 15:34:16 @monitor.py:467]\u001b[0m QueueInput/queue_size: 50\n",
      "\u001b[32m[0316 15:34:16 @base.py:275]\u001b[0m Start Epoch 18 ...\n"
     ]
    },
    {
     "name": "stderr",
     "output_type": "stream",
     "text": [
      "\n",
      "  0%|                                                                                              |0/60[00:00<?,?it/s]\u001b[A\n",
      " 10%|########6                                                                             |6/60[00:00<00:05,10.53it/s]\u001b[A\n",
      " 20%|#################                                                                    |12/60[00:01<00:04,11.34it/s]\u001b[A\n",
      " 30%|#########################5                                                           |18/60[00:01<00:03,11.59it/s]\u001b[A\n",
      " 40%|##################################                                                   |24/60[00:02<00:03,11.77it/s]\u001b[A\n",
      " 50%|##########################################5                                          |30/60[00:02<00:02,11.80it/s]\u001b[A\n",
      " 60%|###################################################                                  |36/60[00:03<00:02,11.84it/s]\u001b[A\n",
      " 70%|###########################################################4                         |42/60[00:03<00:01,11.89it/s]\u001b[A\n",
      " 80%|####################################################################                 |48/60[00:04<00:01,11.88it/s]\u001b[A\n",
      " 90%|############################################################################5        |54/60[00:04<00:00,11.81it/s]\u001b[A\n",
      "100%|#####################################################################################|60/60[00:05<00:00,11.56it/s]\u001b[A"
     ]
    },
    {
     "name": "stdout",
     "output_type": "stream",
     "text": [
      "\u001b[32m[0316 15:34:22 @base.py:285]\u001b[0m Epoch 18 (global_step 1080) finished, time:5.19 seconds.\n"
     ]
    },
    {
     "name": "stderr",
     "output_type": "stream",
     "text": [
      "\n"
     ]
    },
    {
     "name": "stdout",
     "output_type": "stream",
     "text": [
      "\u001b[32m[0316 15:34:23 @saver.py:79]\u001b[0m Model saved to S:/arneir/Master-thesis-storage/models\\temp_model\\TGAN7\\model\\model-1080.\n",
      "\u001b[32m[0316 15:34:23 @monitor.py:467]\u001b[0m GAN_loss/discrim/accuracy_fake: 0.836\n",
      "\u001b[32m[0316 15:34:23 @monitor.py:467]\u001b[0m GAN_loss/discrim/accuracy_real: 0.32\n",
      "\u001b[32m[0316 15:34:23 @monitor.py:467]\u001b[0m GAN_loss/discrim/loss: 0.62524\n",
      "\u001b[32m[0316 15:34:23 @monitor.py:467]\u001b[0m GAN_loss/gen/final-g-loss: 1.08\n",
      "\u001b[32m[0316 15:34:23 @monitor.py:467]\u001b[0m GAN_loss/gen/klloss: 0.064062\n",
      "\u001b[32m[0316 15:34:23 @monitor.py:467]\u001b[0m GAN_loss/gen/loss: 1.016\n",
      "\u001b[32m[0316 15:34:23 @monitor.py:467]\u001b[0m QueueInput/queue_size: 50\n",
      "\u001b[32m[0316 15:34:23 @base.py:275]\u001b[0m Start Epoch 19 ...\n"
     ]
    },
    {
     "name": "stderr",
     "output_type": "stream",
     "text": [
      "\n",
      "  0%|                                                                                              |0/60[00:00<?,?it/s]\u001b[A\n",
      "  7%|#####7                                                                                |4/60[00:00<00:07, 7.80it/s]\u001b[A\n",
      " 17%|##############1                                                                      |10/60[00:01<00:04,10.40it/s]\u001b[A\n",
      " 27%|######################6                                                              |16/60[00:01<00:03,11.19it/s]\u001b[A\n",
      " 37%|###############################1                                                     |22/60[00:02<00:03,11.59it/s]\u001b[A\n",
      " 47%|#######################################6                                             |28/60[00:02<00:02,11.71it/s]\u001b[A\n",
      " 57%|################################################1                                    |34/60[00:03<00:02,11.79it/s]\u001b[A\n",
      " 67%|########################################################6                            |40/60[00:03<00:01,11.85it/s]\u001b[A\n",
      " 77%|#################################################################1                   |46/60[00:04<00:01,11.79it/s]\u001b[A\n",
      " 87%|#########################################################################6           |52/60[00:04<00:00,11.89it/s]\u001b[A\n",
      "100%|#####################################################################################|60/60[00:05<00:00,11.32it/s]\u001b[A"
     ]
    },
    {
     "name": "stdout",
     "output_type": "stream",
     "text": [
      "\u001b[32m[0316 15:34:29 @base.py:285]\u001b[0m Epoch 19 (global_step 1140) finished, time:5.3 seconds.\n"
     ]
    },
    {
     "name": "stderr",
     "output_type": "stream",
     "text": [
      "\n"
     ]
    },
    {
     "name": "stdout",
     "output_type": "stream",
     "text": [
      "\u001b[32m[0316 15:34:30 @saver.py:79]\u001b[0m Model saved to S:/arneir/Master-thesis-storage/models\\temp_model\\TGAN7\\model\\model-1140.\n",
      "\u001b[32m[0316 15:34:30 @monitor.py:467]\u001b[0m GAN_loss/discrim/accuracy_fake: 0.898\n",
      "\u001b[32m[0316 15:34:30 @monitor.py:467]\u001b[0m GAN_loss/discrim/accuracy_real: 0.268\n",
      "\u001b[32m[0316 15:34:30 @monitor.py:467]\u001b[0m GAN_loss/discrim/loss: 0.62518\n",
      "\u001b[32m[0316 15:34:30 @monitor.py:467]\u001b[0m GAN_loss/gen/final-g-loss: 1.1109\n",
      "\u001b[32m[0316 15:34:30 @monitor.py:467]\u001b[0m GAN_loss/gen/klloss: 0.05349\n",
      "\u001b[32m[0316 15:34:30 @monitor.py:467]\u001b[0m GAN_loss/gen/loss: 1.0574\n",
      "\u001b[32m[0316 15:34:30 @monitor.py:467]\u001b[0m QueueInput/queue_size: 50\n",
      "\u001b[32m[0316 15:34:30 @base.py:275]\u001b[0m Start Epoch 20 ...\n"
     ]
    },
    {
     "name": "stderr",
     "output_type": "stream",
     "text": [
      "\n",
      "  0%|                                                                                              |0/60[00:00<?,?it/s]\u001b[A\n",
      "  8%|#######1                                                                              |5/60[00:00<00:06, 8.98it/s]\u001b[A\n",
      " 18%|###############5                                                                     |11/60[00:01<00:04,10.73it/s]\u001b[A\n",
      " 28%|########################                                                             |17/60[00:01<00:03,11.39it/s]\u001b[A\n",
      " 38%|################################5                                                    |23/60[00:02<00:03,11.63it/s]\u001b[A\n",
      " 48%|#########################################                                            |29/60[00:02<00:02,11.75it/s]\u001b[A\n",
      " 58%|#################################################5                                   |35/60[00:03<00:02,11.80it/s]\u001b[A\n",
      " 68%|##########################################################                           |41/60[00:03<00:01,11.80it/s]\u001b[A\n",
      " 78%|##################################################################5                  |47/60[00:04<00:01,11.84it/s]\u001b[A\n",
      " 88%|###########################################################################          |53/60[00:04<00:00,11.73it/s]\u001b[A\n",
      "100%|#####################################################################################|60/60[00:05<00:00,11.39it/s]\u001b[A"
     ]
    },
    {
     "name": "stdout",
     "output_type": "stream",
     "text": [
      "\u001b[32m[0316 15:34:36 @base.py:285]\u001b[0m Epoch 20 (global_step 1200) finished, time:5.27 seconds.\n"
     ]
    },
    {
     "name": "stderr",
     "output_type": "stream",
     "text": [
      "\n"
     ]
    },
    {
     "name": "stdout",
     "output_type": "stream",
     "text": [
      "\u001b[32m[0316 15:34:37 @saver.py:79]\u001b[0m Model saved to S:/arneir/Master-thesis-storage/models\\temp_model\\TGAN7\\model\\model-1200.\n",
      "\u001b[32m[0316 15:34:37 @monitor.py:467]\u001b[0m GAN_loss/discrim/accuracy_fake: 0.838\n",
      "\u001b[32m[0316 15:34:37 @monitor.py:467]\u001b[0m GAN_loss/discrim/accuracy_real: 0.31\n",
      "\u001b[32m[0316 15:34:37 @monitor.py:467]\u001b[0m GAN_loss/discrim/loss: 0.63825\n",
      "\u001b[32m[0316 15:34:37 @monitor.py:467]\u001b[0m GAN_loss/gen/final-g-loss: 1.1071\n",
      "\u001b[32m[0316 15:34:37 @monitor.py:467]\u001b[0m GAN_loss/gen/klloss: 0.096518\n",
      "\u001b[32m[0316 15:34:37 @monitor.py:467]\u001b[0m GAN_loss/gen/loss: 1.0106\n",
      "\u001b[32m[0316 15:34:37 @monitor.py:467]\u001b[0m QueueInput/queue_size: 50\n",
      "\u001b[32m[0316 15:34:37 @base.py:275]\u001b[0m Start Epoch 21 ...\n"
     ]
    },
    {
     "name": "stderr",
     "output_type": "stream",
     "text": [
      "\n",
      "  0%|                                                                                              |0/60[00:00<?,?it/s]\u001b[A\n",
      "  8%|#######1                                                                              |5/60[00:00<00:06, 8.73it/s]\u001b[A\n",
      " 18%|###############5                                                                     |11/60[00:01<00:04,10.58it/s]\u001b[A\n",
      " 28%|########################                                                             |17/60[00:01<00:03,11.29it/s]\u001b[A\n",
      " 38%|################################5                                                    |23/60[00:02<00:03,11.40it/s]\u001b[A\n",
      " 48%|#########################################                                            |29/60[00:02<00:02,11.40it/s]\u001b[A\n",
      " 58%|#################################################5                                   |35/60[00:03<00:02,11.50it/s]\u001b[A\n",
      " 68%|##########################################################                           |41/60[00:03<00:01,11.49it/s]\u001b[A\n",
      " 78%|##################################################################5                  |47/60[00:04<00:01,11.49it/s]\u001b[A\n",
      " 88%|###########################################################################          |53/60[00:04<00:00,11.35it/s]\u001b[A\n",
      "100%|#####################################################################################|60/60[00:05<00:00,11.09it/s]\u001b[A"
     ]
    },
    {
     "name": "stdout",
     "output_type": "stream",
     "text": [
      "\u001b[32m[0316 15:34:43 @base.py:285]\u001b[0m Epoch 21 (global_step 1260) finished, time:5.43 seconds.\n"
     ]
    },
    {
     "name": "stderr",
     "output_type": "stream",
     "text": [
      "\n"
     ]
    },
    {
     "name": "stdout",
     "output_type": "stream",
     "text": [
      "\u001b[32m[0316 15:34:44 @saver.py:79]\u001b[0m Model saved to S:/arneir/Master-thesis-storage/models\\temp_model\\TGAN7\\model\\model-1260.\n",
      "\u001b[32m[0316 15:34:44 @monitor.py:467]\u001b[0m GAN_loss/discrim/accuracy_fake: 0.85\n",
      "\u001b[32m[0316 15:34:44 @monitor.py:467]\u001b[0m GAN_loss/discrim/accuracy_real: 0.294\n",
      "\u001b[32m[0316 15:34:44 @monitor.py:467]\u001b[0m GAN_loss/discrim/loss: 0.62624\n",
      "\u001b[32m[0316 15:34:44 @monitor.py:467]\u001b[0m GAN_loss/gen/final-g-loss: 1.1014\n",
      "\u001b[32m[0316 15:34:44 @monitor.py:467]\u001b[0m GAN_loss/gen/klloss: 0.059729\n",
      "\u001b[32m[0316 15:34:44 @monitor.py:467]\u001b[0m GAN_loss/gen/loss: 1.0416\n",
      "\u001b[32m[0316 15:34:44 @monitor.py:467]\u001b[0m QueueInput/queue_size: 50\n",
      "\u001b[32m[0316 15:34:44 @base.py:275]\u001b[0m Start Epoch 22 ...\n"
     ]
    },
    {
     "name": "stderr",
     "output_type": "stream",
     "text": [
      "\n",
      "  0%|                                                                                              |0/60[00:00<?,?it/s]\u001b[A\n",
      "  7%|#####7                                                                                |4/60[00:00<00:07, 7.63it/s]\u001b[A\n",
      " 17%|##############1                                                                      |10/60[00:01<00:04,10.31it/s]\u001b[A\n",
      " 27%|######################6                                                              |16/60[00:01<00:03,11.13it/s]\u001b[A\n",
      " 37%|###############################1                                                     |22/60[00:02<00:03,11.41it/s]\u001b[A\n",
      " 47%|#######################################6                                             |28/60[00:02<00:02,11.52it/s]\u001b[A\n",
      " 57%|################################################1                                    |34/60[00:03<00:02,11.58it/s]\u001b[A\n",
      " 67%|########################################################6                            |40/60[00:03<00:01,11.41it/s]\u001b[A\n",
      " 77%|#################################################################1                   |46/60[00:04<00:01,11.40it/s]\u001b[A\n",
      " 87%|#########################################################################6           |52/60[00:04<00:00,11.17it/s]\u001b[A\n",
      "100%|#####################################################################################|60/60[00:05<00:00,10.89it/s]\u001b[A"
     ]
    },
    {
     "name": "stdout",
     "output_type": "stream",
     "text": [
      "\u001b[32m[0316 15:34:50 @base.py:285]\u001b[0m Epoch 22 (global_step 1320) finished, time:5.51 seconds.\n"
     ]
    },
    {
     "name": "stderr",
     "output_type": "stream",
     "text": [
      "\n"
     ]
    },
    {
     "name": "stdout",
     "output_type": "stream",
     "text": [
      "\u001b[32m[0316 15:34:51 @saver.py:79]\u001b[0m Model saved to S:/arneir/Master-thesis-storage/models\\temp_model\\TGAN7\\model\\model-1320.\n",
      "\u001b[32m[0316 15:34:52 @monitor.py:467]\u001b[0m GAN_loss/discrim/accuracy_fake: 0.846\n",
      "\u001b[32m[0316 15:34:52 @monitor.py:467]\u001b[0m GAN_loss/discrim/accuracy_real: 0.32\n",
      "\u001b[32m[0316 15:34:52 @monitor.py:467]\u001b[0m GAN_loss/discrim/loss: 0.63012\n",
      "\u001b[32m[0316 15:34:52 @monitor.py:467]\u001b[0m GAN_loss/gen/final-g-loss: 1.1055\n",
      "\u001b[32m[0316 15:34:52 @monitor.py:467]\u001b[0m GAN_loss/gen/klloss: 0.082383\n",
      "\u001b[32m[0316 15:34:52 @monitor.py:467]\u001b[0m GAN_loss/gen/loss: 1.0231\n",
      "\u001b[32m[0316 15:34:52 @monitor.py:467]\u001b[0m QueueInput/queue_size: 50\n",
      "\u001b[32m[0316 15:34:52 @base.py:275]\u001b[0m Start Epoch 23 ...\n"
     ]
    },
    {
     "name": "stderr",
     "output_type": "stream",
     "text": [
      "\n",
      "  0%|                                                                                              |0/60[00:00<?,?it/s]\u001b[A\n",
      "  8%|#######1                                                                              |5/60[00:00<00:06, 8.48it/s]\u001b[A\n",
      " 18%|###############5                                                                     |11/60[00:01<00:04,10.62it/s]\u001b[A\n",
      " 28%|########################                                                             |17/60[00:01<00:03,10.88it/s]\u001b[A\n",
      " 38%|################################5                                                    |23/60[00:02<00:03,10.99it/s]\u001b[A\n",
      " 48%|#########################################                                            |29/60[00:02<00:02,10.95it/s]\u001b[A\n",
      " 58%|#################################################5                                   |35/60[00:03<00:02,11.00it/s]\u001b[A\n",
      " 68%|##########################################################                           |41/60[00:03<00:01,10.97it/s]\u001b[A\n",
      " 78%|##################################################################5                  |47/60[00:04<00:01,11.05it/s]\u001b[A\n",
      " 88%|###########################################################################          |53/60[00:04<00:00,11.07it/s]\u001b[A\n",
      "100%|#####################################################################################|60/60[00:05<00:00,10.71it/s]\u001b[A"
     ]
    },
    {
     "name": "stdout",
     "output_type": "stream",
     "text": [
      "\u001b[32m[0316 15:34:57 @base.py:285]\u001b[0m Epoch 23 (global_step 1380) finished, time:5.61 seconds.\n"
     ]
    },
    {
     "name": "stderr",
     "output_type": "stream",
     "text": [
      "\n"
     ]
    },
    {
     "name": "stdout",
     "output_type": "stream",
     "text": [
      "\u001b[32m[0316 15:34:59 @saver.py:79]\u001b[0m Model saved to S:/arneir/Master-thesis-storage/models\\temp_model\\TGAN7\\model\\model-1380.\n",
      "\u001b[32m[0316 15:34:59 @monitor.py:467]\u001b[0m GAN_loss/discrim/accuracy_fake: 0.862\n",
      "\u001b[32m[0316 15:34:59 @monitor.py:467]\u001b[0m GAN_loss/discrim/accuracy_real: 0.294\n",
      "\u001b[32m[0316 15:34:59 @monitor.py:467]\u001b[0m GAN_loss/discrim/loss: 0.62805\n",
      "\u001b[32m[0316 15:34:59 @monitor.py:467]\u001b[0m GAN_loss/gen/final-g-loss: 1.106\n",
      "\u001b[32m[0316 15:34:59 @monitor.py:467]\u001b[0m GAN_loss/gen/klloss: 0.043268\n",
      "\u001b[32m[0316 15:34:59 @monitor.py:467]\u001b[0m GAN_loss/gen/loss: 1.0627\n",
      "\u001b[32m[0316 15:34:59 @monitor.py:467]\u001b[0m QueueInput/queue_size: 50\n",
      "\u001b[32m[0316 15:34:59 @base.py:275]\u001b[0m Start Epoch 24 ...\n"
     ]
    },
    {
     "name": "stderr",
     "output_type": "stream",
     "text": [
      "\n",
      "  0%|                                                                                              |0/60[00:00<?,?it/s]\u001b[A\n",
      "  8%|#######1                                                                              |5/60[00:00<00:05, 9.66it/s]\u001b[A\n",
      " 18%|###############5                                                                     |11/60[00:01<00:04,11.14it/s]\u001b[A\n",
      " 28%|########################                                                             |17/60[00:01<00:03,11.57it/s]\u001b[A\n",
      " 38%|################################5                                                    |23/60[00:02<00:03,11.65it/s]\u001b[A\n",
      " 48%|#########################################                                            |29/60[00:02<00:02,11.56it/s]\u001b[A\n",
      " 58%|#################################################5                                   |35/60[00:03<00:02,11.65it/s]\u001b[A\n",
      " 68%|##########################################################                           |41/60[00:03<00:01,11.51it/s]\u001b[A\n",
      " 78%|##################################################################5                  |47/60[00:04<00:01,11.32it/s]\u001b[A\n",
      " 88%|###########################################################################          |53/60[00:04<00:00,11.30it/s]\u001b[A\n",
      "100%|#####################################################################################|60/60[00:05<00:00,11.22it/s]\u001b[A"
     ]
    },
    {
     "name": "stdout",
     "output_type": "stream",
     "text": [
      "\u001b[32m[0316 15:35:04 @base.py:285]\u001b[0m Epoch 24 (global_step 1440) finished, time:5.35 seconds.\n"
     ]
    },
    {
     "name": "stderr",
     "output_type": "stream",
     "text": [
      "\n"
     ]
    },
    {
     "name": "stdout",
     "output_type": "stream",
     "text": [
      "\u001b[32m[0316 15:35:06 @saver.py:79]\u001b[0m Model saved to S:/arneir/Master-thesis-storage/models\\temp_model\\TGAN7\\model\\model-1440.\n",
      "\u001b[32m[0316 15:35:06 @monitor.py:467]\u001b[0m GAN_loss/discrim/accuracy_fake: 0.898\n",
      "\u001b[32m[0316 15:35:06 @monitor.py:467]\u001b[0m GAN_loss/discrim/accuracy_real: 0.31\n",
      "\u001b[32m[0316 15:35:06 @monitor.py:467]\u001b[0m GAN_loss/discrim/loss: 0.61449\n",
      "\u001b[32m[0316 15:35:06 @monitor.py:467]\u001b[0m GAN_loss/gen/final-g-loss: 1.1035\n",
      "\u001b[32m[0316 15:35:06 @monitor.py:467]\u001b[0m GAN_loss/gen/klloss: 0.040409\n",
      "\u001b[32m[0316 15:35:06 @monitor.py:467]\u001b[0m GAN_loss/gen/loss: 1.0631\n",
      "\u001b[32m[0316 15:35:06 @monitor.py:467]\u001b[0m QueueInput/queue_size: 50\n",
      "\u001b[32m[0316 15:35:06 @base.py:275]\u001b[0m Start Epoch 25 ...\n"
     ]
    },
    {
     "name": "stderr",
     "output_type": "stream",
     "text": [
      "\n",
      "  0%|                                                                                              |0/60[00:00<?,?it/s]\u001b[A\n",
      " 10%|########6                                                                             |6/60[00:00<00:05,10.38it/s]\u001b[A\n",
      " 20%|#################                                                                    |12/60[00:01<00:04,11.31it/s]\u001b[A\n",
      " 30%|#########################5                                                           |18/60[00:01<00:03,11.62it/s]\u001b[A\n",
      " 40%|##################################                                                   |24/60[00:02<00:03,11.75it/s]\u001b[A\n",
      " 50%|##########################################5                                          |30/60[00:02<00:02,11.81it/s]\u001b[A\n",
      " 60%|###################################################                                  |36/60[00:03<00:02,11.84it/s]\u001b[A\n",
      " 70%|###########################################################4                         |42/60[00:03<00:01,11.73it/s]\u001b[A\n",
      " 80%|####################################################################                 |48/60[00:04<00:01,11.71it/s]\u001b[A\n",
      " 90%|############################################################################5        |54/60[00:04<00:00,11.70it/s]\u001b[A\n",
      "100%|#####################################################################################|60/60[00:05<00:00,11.47it/s]\u001b[A"
     ]
    },
    {
     "name": "stdout",
     "output_type": "stream",
     "text": [
      "\u001b[32m[0316 15:35:11 @base.py:285]\u001b[0m Epoch 25 (global_step 1500) finished, time:5.23 seconds.\n"
     ]
    },
    {
     "name": "stderr",
     "output_type": "stream",
     "text": [
      "\n"
     ]
    },
    {
     "name": "stdout",
     "output_type": "stream",
     "text": [
      "\u001b[32m[0316 15:35:13 @saver.py:79]\u001b[0m Model saved to S:/arneir/Master-thesis-storage/models\\temp_model\\TGAN7\\model\\model-1500.\n",
      "\u001b[32m[0316 15:35:13 @monitor.py:467]\u001b[0m GAN_loss/discrim/accuracy_fake: 0.854\n",
      "\u001b[32m[0316 15:35:13 @monitor.py:467]\u001b[0m GAN_loss/discrim/accuracy_real: 0.274\n",
      "\u001b[32m[0316 15:35:13 @monitor.py:467]\u001b[0m GAN_loss/discrim/loss: 0.6229\n",
      "\u001b[32m[0316 15:35:13 @monitor.py:467]\u001b[0m GAN_loss/gen/final-g-loss: 1.1395\n",
      "\u001b[32m[0316 15:35:13 @monitor.py:467]\u001b[0m GAN_loss/gen/klloss: 0.082609\n",
      "\u001b[32m[0316 15:35:13 @monitor.py:467]\u001b[0m GAN_loss/gen/loss: 1.0569\n",
      "\u001b[32m[0316 15:35:13 @monitor.py:467]\u001b[0m QueueInput/queue_size: 50\n",
      "\u001b[32m[0316 15:35:13 @base.py:275]\u001b[0m Start Epoch 26 ...\n"
     ]
    },
    {
     "name": "stderr",
     "output_type": "stream",
     "text": [
      "\n",
      "  0%|                                                                                              |0/60[00:00<?,?it/s]\u001b[A\n",
      "  8%|#######1                                                                              |5/60[00:00<00:05, 9.55it/s]\u001b[A\n",
      " 18%|###############5                                                                     |11/60[00:01<00:04,11.03it/s]\u001b[A\n",
      " 28%|########################                                                             |17/60[00:01<00:03,11.53it/s]\u001b[A\n",
      " 38%|################################5                                                    |23/60[00:02<00:03,11.73it/s]\u001b[A\n",
      " 48%|#########################################                                            |29/60[00:02<00:02,11.75it/s]\u001b[A\n",
      " 58%|#################################################5                                   |35/60[00:03<00:02,11.72it/s]\u001b[A\n",
      " 68%|##########################################################                           |41/60[00:03<00:01,11.75it/s]\u001b[A\n",
      " 78%|##################################################################5                  |47/60[00:04<00:01,11.65it/s]\u001b[A\n",
      " 88%|###########################################################################          |53/60[00:04<00:00,11.51it/s]\u001b[A\n",
      "100%|#####################################################################################|60/60[00:05<00:00,11.32it/s]\u001b[A"
     ]
    },
    {
     "name": "stdout",
     "output_type": "stream",
     "text": [
      "\u001b[32m[0316 15:35:18 @base.py:285]\u001b[0m Epoch 26 (global_step 1560) finished, time:5.3 seconds.\n"
     ]
    },
    {
     "name": "stderr",
     "output_type": "stream",
     "text": [
      "\n"
     ]
    },
    {
     "name": "stdout",
     "output_type": "stream",
     "text": [
      "\u001b[32m[0316 15:35:19 @saver.py:79]\u001b[0m Model saved to S:/arneir/Master-thesis-storage/models\\temp_model\\TGAN7\\model\\model-1560.\n",
      "\u001b[32m[0316 15:35:20 @monitor.py:467]\u001b[0m GAN_loss/discrim/accuracy_fake: 0.866\n",
      "\u001b[32m[0316 15:35:20 @monitor.py:467]\u001b[0m GAN_loss/discrim/accuracy_real: 0.326\n",
      "\u001b[32m[0316 15:35:20 @monitor.py:467]\u001b[0m GAN_loss/discrim/loss: 0.60658\n",
      "\u001b[32m[0316 15:35:20 @monitor.py:467]\u001b[0m GAN_loss/gen/final-g-loss: 1.1416\n",
      "\u001b[32m[0316 15:35:20 @monitor.py:467]\u001b[0m GAN_loss/gen/klloss: 0.06759\n",
      "\u001b[32m[0316 15:35:20 @monitor.py:467]\u001b[0m GAN_loss/gen/loss: 1.074\n",
      "\u001b[32m[0316 15:35:20 @monitor.py:467]\u001b[0m QueueInput/queue_size: 50\n",
      "\u001b[32m[0316 15:35:20 @base.py:275]\u001b[0m Start Epoch 27 ...\n"
     ]
    },
    {
     "name": "stderr",
     "output_type": "stream",
     "text": [
      "\n",
      "  0%|                                                                                              |0/60[00:00<?,?it/s]\u001b[A\n",
      "  7%|#####7                                                                                |4/60[00:00<00:07, 7.90it/s]\u001b[A\n",
      " 17%|##############1                                                                      |10/60[00:01<00:04,10.41it/s]\u001b[A\n",
      " 27%|######################6                                                              |16/60[00:01<00:03,11.26it/s]\u001b[A\n",
      " 37%|###############################1                                                     |22/60[00:02<00:03,11.58it/s]\u001b[A\n",
      " 47%|#######################################6                                             |28/60[00:02<00:02,11.67it/s]\u001b[A\n",
      " 57%|################################################1                                    |34/60[00:03<00:02,11.71it/s]\u001b[A\n",
      " 67%|########################################################6                            |40/60[00:03<00:01,11.70it/s]\u001b[A\n",
      " 77%|#################################################################1                   |46/60[00:04<00:01,11.68it/s]\u001b[A\n",
      " 87%|#########################################################################6           |52/60[00:04<00:00,11.67it/s]\u001b[A\n",
      "100%|#####################################################################################|60/60[00:05<00:00,11.18it/s]\u001b[A"
     ]
    },
    {
     "name": "stdout",
     "output_type": "stream",
     "text": [
      "\u001b[32m[0316 15:35:25 @base.py:285]\u001b[0m Epoch 27 (global_step 1620) finished, time:5.37 seconds.\n"
     ]
    },
    {
     "name": "stderr",
     "output_type": "stream",
     "text": [
      "\n"
     ]
    },
    {
     "name": "stdout",
     "output_type": "stream",
     "text": [
      "\u001b[32m[0316 15:35:26 @saver.py:79]\u001b[0m Model saved to S:/arneir/Master-thesis-storage/models\\temp_model\\TGAN7\\model\\model-1620.\n",
      "\u001b[32m[0316 15:35:27 @monitor.py:467]\u001b[0m GAN_loss/discrim/accuracy_fake: 0.866\n",
      "\u001b[32m[0316 15:35:27 @monitor.py:467]\u001b[0m GAN_loss/discrim/accuracy_real: 0.336\n",
      "\u001b[32m[0316 15:35:27 @monitor.py:467]\u001b[0m GAN_loss/discrim/loss: 0.6167\n",
      "\u001b[32m[0316 15:35:27 @monitor.py:467]\u001b[0m GAN_loss/gen/final-g-loss: 1.1258\n",
      "\u001b[32m[0316 15:35:27 @monitor.py:467]\u001b[0m GAN_loss/gen/klloss: 0.054444\n",
      "\u001b[32m[0316 15:35:27 @monitor.py:467]\u001b[0m GAN_loss/gen/loss: 1.0714\n",
      "\u001b[32m[0316 15:35:27 @monitor.py:467]\u001b[0m QueueInput/queue_size: 50\n",
      "\u001b[32m[0316 15:35:27 @base.py:275]\u001b[0m Start Epoch 28 ...\n"
     ]
    },
    {
     "name": "stderr",
     "output_type": "stream",
     "text": [
      "\n",
      "  0%|                                                                                              |0/60[00:00<?,?it/s]\u001b[A\n",
      "  8%|#######1                                                                              |5/60[00:00<00:06, 8.56it/s]\u001b[A\n",
      " 18%|###############5                                                                     |11/60[00:01<00:04,10.62it/s]\u001b[A\n",
      " 28%|########################                                                             |17/60[00:01<00:03,11.35it/s]\u001b[A\n",
      " 38%|################################5                                                    |23/60[00:02<00:03,11.60it/s]\u001b[A\n",
      " 48%|#########################################                                            |29/60[00:02<00:02,11.76it/s]\u001b[A\n",
      " 58%|#################################################5                                   |35/60[00:03<00:02,11.81it/s]\u001b[A\n",
      " 68%|##########################################################                           |41/60[00:03<00:01,11.84it/s]\u001b[A\n",
      " 78%|##################################################################5                  |47/60[00:04<00:01,11.79it/s]\u001b[A\n",
      " 88%|###########################################################################          |53/60[00:04<00:00,11.81it/s]\u001b[A\n",
      "100%|#####################################################################################|60/60[00:05<00:00,11.30it/s]\u001b[A"
     ]
    },
    {
     "name": "stdout",
     "output_type": "stream",
     "text": [
      "\u001b[32m[0316 15:35:32 @base.py:285]\u001b[0m Epoch 28 (global_step 1680) finished, time:5.31 seconds.\n"
     ]
    },
    {
     "name": "stderr",
     "output_type": "stream",
     "text": [
      "\n"
     ]
    },
    {
     "name": "stdout",
     "output_type": "stream",
     "text": [
      "\u001b[32m[0316 15:35:35 @saver.py:79]\u001b[0m Model saved to S:/arneir/Master-thesis-storage/models\\temp_model\\TGAN7\\model\\model-1680.\n",
      "\u001b[32m[0316 15:35:35 @monitor.py:467]\u001b[0m GAN_loss/discrim/accuracy_fake: 0.878\n",
      "\u001b[32m[0316 15:35:35 @monitor.py:467]\u001b[0m GAN_loss/discrim/accuracy_real: 0.314\n",
      "\u001b[32m[0316 15:35:35 @monitor.py:467]\u001b[0m GAN_loss/discrim/loss: 0.62538\n",
      "\u001b[32m[0316 15:35:35 @monitor.py:467]\u001b[0m GAN_loss/gen/final-g-loss: 1.1281\n",
      "\u001b[32m[0316 15:35:35 @monitor.py:467]\u001b[0m GAN_loss/gen/klloss: 0.063505\n",
      "\u001b[32m[0316 15:35:35 @monitor.py:467]\u001b[0m GAN_loss/gen/loss: 1.0646\n",
      "\u001b[32m[0316 15:35:35 @monitor.py:467]\u001b[0m QueueInput/queue_size: 50\n",
      "\u001b[32m[0316 15:35:35 @base.py:275]\u001b[0m Start Epoch 29 ...\n"
     ]
    },
    {
     "name": "stderr",
     "output_type": "stream",
     "text": [
      "\n",
      "  0%|                                                                                              |0/60[00:00<?,?it/s]\u001b[A\n",
      " 10%|########6                                                                             |6/60[00:00<00:05,10.69it/s]\u001b[A\n",
      " 20%|#################                                                                    |12/60[00:01<00:04,11.32it/s]\u001b[A\n",
      " 30%|#########################5                                                           |18/60[00:01<00:03,11.56it/s]\u001b[A\n",
      " 40%|##################################                                                   |24/60[00:02<00:03,11.73it/s]\u001b[A\n",
      " 50%|##########################################5                                          |30/60[00:02<00:02,11.72it/s]\u001b[A\n",
      " 60%|###################################################                                  |36/60[00:03<00:02,11.70it/s]\u001b[A\n",
      " 70%|###########################################################4                         |42/60[00:03<00:01,11.60it/s]\u001b[A\n",
      " 80%|####################################################################                 |48/60[00:04<00:01,11.75it/s]\u001b[A\n",
      " 90%|############################################################################5        |54/60[00:04<00:00,11.79it/s]\u001b[A\n",
      "100%|#####################################################################################|60/60[00:05<00:00,11.36it/s]\u001b[A"
     ]
    },
    {
     "name": "stdout",
     "output_type": "stream",
     "text": [
      "\u001b[32m[0316 15:35:40 @base.py:285]\u001b[0m Epoch 29 (global_step 1740) finished, time:5.28 seconds.\n"
     ]
    },
    {
     "name": "stderr",
     "output_type": "stream",
     "text": [
      "\n"
     ]
    },
    {
     "name": "stdout",
     "output_type": "stream",
     "text": [
      "\u001b[32m[0316 15:35:42 @saver.py:79]\u001b[0m Model saved to S:/arneir/Master-thesis-storage/models\\temp_model\\TGAN7\\model\\model-1740.\n",
      "\u001b[32m[0316 15:35:42 @monitor.py:467]\u001b[0m GAN_loss/discrim/accuracy_fake: 0.862\n",
      "\u001b[32m[0316 15:35:42 @monitor.py:467]\u001b[0m GAN_loss/discrim/accuracy_real: 0.342\n",
      "\u001b[32m[0316 15:35:42 @monitor.py:467]\u001b[0m GAN_loss/discrim/loss: 0.60412\n",
      "\u001b[32m[0316 15:35:42 @monitor.py:467]\u001b[0m GAN_loss/gen/final-g-loss: 1.1885\n",
      "\u001b[32m[0316 15:35:42 @monitor.py:467]\u001b[0m GAN_loss/gen/klloss: 0.058018\n",
      "\u001b[32m[0316 15:35:42 @monitor.py:467]\u001b[0m GAN_loss/gen/loss: 1.1305\n",
      "\u001b[32m[0316 15:35:42 @monitor.py:467]\u001b[0m QueueInput/queue_size: 50\n",
      "\u001b[32m[0316 15:35:42 @base.py:275]\u001b[0m Start Epoch 30 ...\n"
     ]
    },
    {
     "name": "stderr",
     "output_type": "stream",
     "text": [
      "\n",
      "  0%|                                                                                              |0/60[00:00<?,?it/s]\u001b[A\n",
      " 10%|########6                                                                             |6/60[00:00<00:05,10.20it/s]\u001b[A\n",
      " 20%|#################                                                                    |12/60[00:01<00:04,11.13it/s]\u001b[A\n",
      " 30%|#########################5                                                           |18/60[00:01<00:03,11.55it/s]\u001b[A\n",
      " 40%|##################################                                                   |24/60[00:02<00:03,11.69it/s]\u001b[A\n",
      " 50%|##########################################5                                          |30/60[00:02<00:02,11.75it/s]\u001b[A\n",
      " 60%|###################################################                                  |36/60[00:03<00:02,11.77it/s]\u001b[A\n",
      " 70%|###########################################################4                         |42/60[00:03<00:01,11.66it/s]\u001b[A\n",
      " 80%|####################################################################                 |48/60[00:04<00:01,11.68it/s]\u001b[A\n",
      " 90%|############################################################################5        |54/60[00:04<00:00,11.43it/s]\u001b[A\n",
      "100%|#####################################################################################|60/60[00:05<00:00,11.41it/s]\u001b[A"
     ]
    },
    {
     "name": "stdout",
     "output_type": "stream",
     "text": [
      "\u001b[32m[0316 15:35:47 @base.py:285]\u001b[0m Epoch 30 (global_step 1800) finished, time:5.26 seconds.\n"
     ]
    },
    {
     "name": "stderr",
     "output_type": "stream",
     "text": [
      "\n"
     ]
    },
    {
     "name": "stdout",
     "output_type": "stream",
     "text": [
      "\u001b[32m[0316 15:35:49 @saver.py:79]\u001b[0m Model saved to S:/arneir/Master-thesis-storage/models\\temp_model\\TGAN7\\model\\model-1800.\n",
      "\u001b[32m[0316 15:35:49 @monitor.py:467]\u001b[0m GAN_loss/discrim/accuracy_fake: 0.874\n",
      "\u001b[32m[0316 15:35:49 @monitor.py:467]\u001b[0m GAN_loss/discrim/accuracy_real: 0.332\n",
      "\u001b[32m[0316 15:35:49 @monitor.py:467]\u001b[0m GAN_loss/discrim/loss: 0.61684\n",
      "\u001b[32m[0316 15:35:49 @monitor.py:467]\u001b[0m GAN_loss/gen/final-g-loss: 1.1555\n",
      "\u001b[32m[0316 15:35:49 @monitor.py:467]\u001b[0m GAN_loss/gen/klloss: 0.06721\n",
      "\u001b[32m[0316 15:35:49 @monitor.py:467]\u001b[0m GAN_loss/gen/loss: 1.0883\n",
      "\u001b[32m[0316 15:35:49 @monitor.py:467]\u001b[0m QueueInput/queue_size: 50\n",
      "\u001b[32m[0316 15:35:49 @base.py:275]\u001b[0m Start Epoch 31 ...\n"
     ]
    },
    {
     "name": "stderr",
     "output_type": "stream",
     "text": [
      "\n",
      "  0%|                                                                                              |0/60[00:00<?,?it/s]\u001b[A\n",
      "  8%|#######1                                                                              |5/60[00:00<00:06, 8.72it/s]\u001b[A\n",
      " 18%|###############5                                                                     |11/60[00:01<00:04,10.69it/s]\u001b[A\n",
      " 28%|########################                                                             |17/60[00:01<00:03,11.35it/s]\u001b[A\n",
      " 38%|################################5                                                    |23/60[00:02<00:03,11.62it/s]\u001b[A\n",
      " 48%|#########################################                                            |29/60[00:02<00:02,11.74it/s]\u001b[A\n",
      " 58%|#################################################5                                   |35/60[00:03<00:02,11.66it/s]\u001b[A\n",
      " 68%|##########################################################                           |41/60[00:03<00:01,11.71it/s]\u001b[A\n",
      " 80%|####################################################################                 |48/60[00:04<00:01,11.94it/s]\u001b[A\n",
      " 90%|############################################################################5        |54/60[00:04<00:00,11.86it/s]\u001b[A\n",
      "100%|#####################################################################################|60/60[00:05<00:00,11.36it/s]\u001b[A"
     ]
    },
    {
     "name": "stdout",
     "output_type": "stream",
     "text": [
      "\u001b[32m[0316 15:35:55 @base.py:285]\u001b[0m Epoch 31 (global_step 1860) finished, time:5.28 seconds.\n"
     ]
    },
    {
     "name": "stderr",
     "output_type": "stream",
     "text": [
      "\n"
     ]
    },
    {
     "name": "stdout",
     "output_type": "stream",
     "text": [
      "\u001b[32m[0316 15:35:56 @saver.py:79]\u001b[0m Model saved to S:/arneir/Master-thesis-storage/models\\temp_model\\TGAN7\\model\\model-1860.\n",
      "\u001b[32m[0316 15:35:56 @monitor.py:467]\u001b[0m GAN_loss/discrim/accuracy_fake: 0.934\n",
      "\u001b[32m[0316 15:35:56 @monitor.py:467]\u001b[0m GAN_loss/discrim/accuracy_real: 0.38\n",
      "\u001b[32m[0316 15:35:56 @monitor.py:467]\u001b[0m GAN_loss/discrim/loss: 0.58537\n",
      "\u001b[32m[0316 15:35:56 @monitor.py:467]\u001b[0m GAN_loss/gen/final-g-loss: 1.2432\n",
      "\u001b[32m[0316 15:35:56 @monitor.py:467]\u001b[0m GAN_loss/gen/klloss: 0.081637\n",
      "\u001b[32m[0316 15:35:56 @monitor.py:467]\u001b[0m GAN_loss/gen/loss: 1.1615\n",
      "\u001b[32m[0316 15:35:56 @monitor.py:467]\u001b[0m QueueInput/queue_size: 50\n",
      "\u001b[32m[0316 15:35:56 @base.py:275]\u001b[0m Start Epoch 32 ...\n"
     ]
    },
    {
     "name": "stderr",
     "output_type": "stream",
     "text": [
      "\n",
      "  0%|                                                                                              |0/60[00:00<?,?it/s]\u001b[A\n",
      "  8%|#######1                                                                              |5/60[00:00<00:06, 8.95it/s]\u001b[A\n",
      " 18%|###############5                                                                     |11/60[00:01<00:04,10.77it/s]\u001b[A\n",
      " 28%|########################                                                             |17/60[00:01<00:03,11.35it/s]\u001b[A\n",
      " 38%|################################5                                                    |23/60[00:02<00:03,11.64it/s]\u001b[A\n",
      " 48%|#########################################                                            |29/60[00:02<00:02,11.67it/s]\u001b[A\n",
      " 58%|#################################################5                                   |35/60[00:03<00:02,11.65it/s]\u001b[A\n",
      " 68%|##########################################################                           |41/60[00:03<00:01,11.68it/s]\u001b[A\n",
      " 78%|##################################################################5                  |47/60[00:04<00:01,11.61it/s]\u001b[A\n",
      " 88%|###########################################################################          |53/60[00:04<00:00,11.65it/s]\u001b[A\n",
      "100%|#####################################################################################|60/60[00:05<00:00,11.27it/s]\u001b[A"
     ]
    },
    {
     "name": "stdout",
     "output_type": "stream",
     "text": [
      "\u001b[32m[0316 15:36:01 @base.py:285]\u001b[0m Epoch 32 (global_step 1920) finished, time:5.32 seconds.\n"
     ]
    },
    {
     "name": "stderr",
     "output_type": "stream",
     "text": [
      "\n"
     ]
    },
    {
     "name": "stdout",
     "output_type": "stream",
     "text": [
      "\u001b[32m[0316 15:36:02 @saver.py:79]\u001b[0m Model saved to S:/arneir/Master-thesis-storage/models\\temp_model\\TGAN7\\model\\model-1920.\n",
      "\u001b[32m[0316 15:36:03 @monitor.py:467]\u001b[0m GAN_loss/discrim/accuracy_fake: 0.854\n",
      "\u001b[32m[0316 15:36:03 @monitor.py:467]\u001b[0m GAN_loss/discrim/accuracy_real: 0.468\n",
      "\u001b[32m[0316 15:36:03 @monitor.py:467]\u001b[0m GAN_loss/discrim/loss: 0.56558\n",
      "\u001b[32m[0316 15:36:03 @monitor.py:467]\u001b[0m GAN_loss/gen/final-g-loss: 1.2872\n",
      "\u001b[32m[0316 15:36:03 @monitor.py:467]\u001b[0m GAN_loss/gen/klloss: 0.104\n",
      "\u001b[32m[0316 15:36:03 @monitor.py:467]\u001b[0m GAN_loss/gen/loss: 1.1832\n",
      "\u001b[32m[0316 15:36:03 @monitor.py:467]\u001b[0m QueueInput/queue_size: 50\n",
      "\u001b[32m[0316 15:36:03 @base.py:275]\u001b[0m Start Epoch 33 ...\n"
     ]
    },
    {
     "name": "stderr",
     "output_type": "stream",
     "text": [
      "\n",
      "  0%|                                                                                              |0/60[00:00<?,?it/s]\u001b[A\n",
      " 10%|########6                                                                             |6/60[00:00<00:05,10.37it/s]\u001b[A\n",
      " 20%|#################                                                                    |12/60[00:01<00:04,11.28it/s]\u001b[A\n",
      " 30%|#########################5                                                           |18/60[00:01<00:03,11.62it/s]\u001b[A\n",
      " 40%|##################################                                                   |24/60[00:02<00:03,11.70it/s]\u001b[A\n",
      " 50%|##########################################5                                          |30/60[00:02<00:02,11.69it/s]\u001b[A\n",
      " 60%|###################################################                                  |36/60[00:03<00:02,11.57it/s]\u001b[A\n",
      " 70%|###########################################################4                         |42/60[00:03<00:01,11.42it/s]\u001b[A\n",
      " 80%|####################################################################                 |48/60[00:04<00:01,11.30it/s]\u001b[A\n",
      " 90%|############################################################################5        |54/60[00:04<00:00,11.34it/s]\u001b[A\n",
      "100%|#####################################################################################|60/60[00:05<00:00,11.19it/s]\u001b[A"
     ]
    },
    {
     "name": "stdout",
     "output_type": "stream",
     "text": [
      "\u001b[32m[0316 15:36:08 @base.py:285]\u001b[0m Epoch 33 (global_step 1980) finished, time:5.36 seconds.\n"
     ]
    },
    {
     "name": "stderr",
     "output_type": "stream",
     "text": [
      "\n"
     ]
    },
    {
     "name": "stdout",
     "output_type": "stream",
     "text": [
      "\u001b[32m[0316 15:36:09 @saver.py:79]\u001b[0m Model saved to S:/arneir/Master-thesis-storage/models\\temp_model\\TGAN7\\model\\model-1980.\n",
      "\u001b[32m[0316 15:36:09 @monitor.py:467]\u001b[0m GAN_loss/discrim/accuracy_fake: 0.894\n",
      "\u001b[32m[0316 15:36:09 @monitor.py:467]\u001b[0m GAN_loss/discrim/accuracy_real: 0.432\n",
      "\u001b[32m[0316 15:36:09 @monitor.py:467]\u001b[0m GAN_loss/discrim/loss: 0.57664\n",
      "\u001b[32m[0316 15:36:09 @monitor.py:467]\u001b[0m GAN_loss/gen/final-g-loss: 1.2228\n",
      "\u001b[32m[0316 15:36:09 @monitor.py:467]\u001b[0m GAN_loss/gen/klloss: 0.075045\n",
      "\u001b[32m[0316 15:36:09 @monitor.py:467]\u001b[0m GAN_loss/gen/loss: 1.1477\n",
      "\u001b[32m[0316 15:36:09 @monitor.py:467]\u001b[0m QueueInput/queue_size: 50\n",
      "\u001b[32m[0316 15:36:09 @base.py:275]\u001b[0m Start Epoch 34 ...\n"
     ]
    },
    {
     "name": "stderr",
     "output_type": "stream",
     "text": [
      "\n",
      "  0%|                                                                                              |0/60[00:00<?,?it/s]\u001b[A\n",
      " 10%|########6                                                                             |6/60[00:00<00:05,10.28it/s]\u001b[A\n",
      " 20%|#################                                                                    |12/60[00:01<00:04,11.26it/s]\u001b[A\n",
      " 30%|#########################5                                                           |18/60[00:01<00:03,11.64it/s]\u001b[A\n",
      " 40%|##################################                                                   |24/60[00:02<00:03,11.65it/s]\u001b[A\n",
      " 50%|##########################################5                                          |30/60[00:02<00:02,11.69it/s]\u001b[A\n",
      " 60%|###################################################                                  |36/60[00:03<00:02,11.54it/s]\u001b[A\n",
      " 70%|###########################################################4                         |42/60[00:03<00:01,11.54it/s]\u001b[A\n",
      " 80%|####################################################################                 |48/60[00:04<00:01,11.38it/s]\u001b[A\n",
      " 90%|############################################################################5        |54/60[00:04<00:00,11.31it/s]\u001b[A\n",
      "100%|#####################################################################################|60/60[00:05<00:00,11.28it/s]\u001b[A"
     ]
    },
    {
     "name": "stdout",
     "output_type": "stream",
     "text": [
      "\u001b[32m[0316 15:36:15 @base.py:285]\u001b[0m Epoch 34 (global_step 2040) finished, time:5.32 seconds.\n"
     ]
    },
    {
     "name": "stderr",
     "output_type": "stream",
     "text": [
      "\n"
     ]
    },
    {
     "name": "stdout",
     "output_type": "stream",
     "text": [
      "\u001b[32m[0316 15:36:16 @saver.py:79]\u001b[0m Model saved to S:/arneir/Master-thesis-storage/models\\temp_model\\TGAN7\\model\\model-2040.\n",
      "\u001b[32m[0316 15:36:16 @monitor.py:467]\u001b[0m GAN_loss/discrim/accuracy_fake: 0.86\n",
      "\u001b[32m[0316 15:36:16 @monitor.py:467]\u001b[0m GAN_loss/discrim/accuracy_real: 0.406\n",
      "\u001b[32m[0316 15:36:16 @monitor.py:467]\u001b[0m GAN_loss/discrim/loss: 0.59843\n",
      "\u001b[32m[0316 15:36:16 @monitor.py:467]\u001b[0m GAN_loss/gen/final-g-loss: 1.1496\n",
      "\u001b[32m[0316 15:36:16 @monitor.py:467]\u001b[0m GAN_loss/gen/klloss: 0.051333\n",
      "\u001b[32m[0316 15:36:16 @monitor.py:467]\u001b[0m GAN_loss/gen/loss: 1.0982\n",
      "\u001b[32m[0316 15:36:16 @monitor.py:467]\u001b[0m QueueInput/queue_size: 50\n",
      "\u001b[32m[0316 15:36:16 @base.py:275]\u001b[0m Start Epoch 35 ...\n"
     ]
    },
    {
     "name": "stderr",
     "output_type": "stream",
     "text": [
      "\n",
      "  0%|                                                                                              |0/60[00:00<?,?it/s]\u001b[A\n",
      "  8%|#######1                                                                              |5/60[00:00<00:06, 8.99it/s]\u001b[A\n",
      " 18%|###############5                                                                     |11/60[00:01<00:04,10.71it/s]\u001b[A\n",
      " 28%|########################                                                             |17/60[00:01<00:03,11.17it/s]\u001b[A\n",
      " 38%|################################5                                                    |23/60[00:02<00:03,11.32it/s]\u001b[A\n",
      " 48%|#########################################                                            |29/60[00:02<00:02,11.32it/s]\u001b[A\n",
      " 58%|#################################################5                                   |35/60[00:03<00:02,11.13it/s]\u001b[A\n",
      " 68%|##########################################################                           |41/60[00:03<00:01,11.08it/s]\u001b[A\n",
      " 78%|##################################################################5                  |47/60[00:04<00:01,10.50it/s]\u001b[A\n",
      " 88%|###########################################################################          |53/60[00:04<00:00,10.74it/s]\u001b[A\n",
      "100%|#####################################################################################|60/60[00:05<00:00,10.82it/s]\u001b[A"
     ]
    },
    {
     "name": "stdout",
     "output_type": "stream",
     "text": [
      "\u001b[32m[0316 15:36:22 @base.py:285]\u001b[0m Epoch 35 (global_step 2100) finished, time:5.55 seconds.\n"
     ]
    },
    {
     "name": "stderr",
     "output_type": "stream",
     "text": [
      "\n"
     ]
    },
    {
     "name": "stdout",
     "output_type": "stream",
     "text": [
      "\u001b[32m[0316 15:36:24 @saver.py:79]\u001b[0m Model saved to S:/arneir/Master-thesis-storage/models\\temp_model\\TGAN7\\model\\model-2100.\n",
      "\u001b[32m[0316 15:36:24 @monitor.py:467]\u001b[0m GAN_loss/discrim/accuracy_fake: 0.908\n",
      "\u001b[32m[0316 15:36:24 @monitor.py:467]\u001b[0m GAN_loss/discrim/accuracy_real: 0.39\n",
      "\u001b[32m[0316 15:36:24 @monitor.py:467]\u001b[0m GAN_loss/discrim/loss: 0.59743\n",
      "\u001b[32m[0316 15:36:24 @monitor.py:467]\u001b[0m GAN_loss/gen/final-g-loss: 1.2274\n",
      "\u001b[32m[0316 15:36:24 @monitor.py:467]\u001b[0m GAN_loss/gen/klloss: 0.06213\n",
      "\u001b[32m[0316 15:36:24 @monitor.py:467]\u001b[0m GAN_loss/gen/loss: 1.1652\n",
      "\u001b[32m[0316 15:36:24 @monitor.py:467]\u001b[0m QueueInput/queue_size: 50\n",
      "\u001b[32m[0316 15:36:25 @base.py:275]\u001b[0m Start Epoch 36 ...\n"
     ]
    },
    {
     "name": "stderr",
     "output_type": "stream",
     "text": [
      "\n",
      "  0%|                                                                                              |0/60[00:00<?,?it/s]\u001b[A\n",
      "  7%|#####7                                                                                |4/60[00:00<00:07, 7.66it/s]\u001b[A\n",
      " 17%|##############1                                                                      |10/60[00:01<00:04,10.22it/s]\u001b[A\n",
      " 27%|######################6                                                              |16/60[00:01<00:03,11.01it/s]\u001b[A\n",
      " 37%|###############################1                                                     |22/60[00:02<00:03,11.37it/s]\u001b[A\n",
      " 47%|#######################################6                                             |28/60[00:02<00:02,11.52it/s]\u001b[A\n",
      " 57%|################################################1                                    |34/60[00:03<00:02,11.66it/s]\u001b[A\n",
      " 67%|########################################################6                            |40/60[00:03<00:01,11.42it/s]\u001b[A\n",
      " 77%|#################################################################1                   |46/60[00:04<00:01,11.46it/s]\u001b[A\n",
      " 87%|#########################################################################6           |52/60[00:04<00:00,11.46it/s]\u001b[A\n",
      "100%|#####################################################################################|60/60[00:05<00:00,11.09it/s]\u001b[A"
     ]
    },
    {
     "name": "stdout",
     "output_type": "stream",
     "text": [
      "\u001b[32m[0316 15:36:30 @base.py:285]\u001b[0m Epoch 36 (global_step 2160) finished, time:5.41 seconds.\n"
     ]
    },
    {
     "name": "stderr",
     "output_type": "stream",
     "text": [
      "\n"
     ]
    },
    {
     "name": "stdout",
     "output_type": "stream",
     "text": [
      "\u001b[32m[0316 15:36:31 @saver.py:79]\u001b[0m Model saved to S:/arneir/Master-thesis-storage/models\\temp_model\\TGAN7\\model\\model-2160.\n",
      "\u001b[32m[0316 15:36:31 @monitor.py:467]\u001b[0m GAN_loss/discrim/accuracy_fake: 0.882\n",
      "\u001b[32m[0316 15:36:31 @monitor.py:467]\u001b[0m GAN_loss/discrim/accuracy_real: 0.406\n",
      "\u001b[32m[0316 15:36:31 @monitor.py:467]\u001b[0m GAN_loss/discrim/loss: 0.58646\n",
      "\u001b[32m[0316 15:36:31 @monitor.py:467]\u001b[0m GAN_loss/gen/final-g-loss: 1.2873\n",
      "\u001b[32m[0316 15:36:31 @monitor.py:467]\u001b[0m GAN_loss/gen/klloss: 0.063778\n",
      "\u001b[32m[0316 15:36:31 @monitor.py:467]\u001b[0m GAN_loss/gen/loss: 1.2235\n",
      "\u001b[32m[0316 15:36:31 @monitor.py:467]\u001b[0m QueueInput/queue_size: 50\n",
      "\u001b[32m[0316 15:36:31 @base.py:275]\u001b[0m Start Epoch 37 ...\n"
     ]
    },
    {
     "name": "stderr",
     "output_type": "stream",
     "text": [
      "\n",
      "  0%|                                                                                              |0/60[00:00<?,?it/s]\u001b[A\n",
      "  8%|#######1                                                                              |5/60[00:00<00:05, 9.90it/s]\u001b[A\n",
      " 18%|###############5                                                                     |11/60[00:01<00:04,11.04it/s]\u001b[A\n",
      " 28%|########################                                                             |17/60[00:01<00:03,11.37it/s]\u001b[A\n",
      " 38%|################################5                                                    |23/60[00:02<00:03,11.60it/s]\u001b[A\n",
      " 48%|#########################################                                            |29/60[00:02<00:02,11.65it/s]\u001b[A\n",
      " 58%|#################################################5                                   |35/60[00:03<00:02,11.30it/s]\u001b[A\n",
      " 70%|###########################################################4                         |42/60[00:03<00:01,11.60it/s]\u001b[A\n",
      " 80%|####################################################################                 |48/60[00:04<00:01,11.74it/s]\u001b[A\n",
      " 90%|############################################################################5        |54/60[00:04<00:00,11.76it/s]\u001b[A\n",
      "100%|#####################################################################################|60/60[00:05<00:00,11.39it/s]\u001b[A"
     ]
    },
    {
     "name": "stdout",
     "output_type": "stream",
     "text": [
      "\u001b[32m[0316 15:36:37 @base.py:285]\u001b[0m Epoch 37 (global_step 2220) finished, time:5.27 seconds.\n"
     ]
    },
    {
     "name": "stderr",
     "output_type": "stream",
     "text": [
      "\n"
     ]
    },
    {
     "name": "stdout",
     "output_type": "stream",
     "text": [
      "\u001b[32m[0316 15:36:38 @saver.py:79]\u001b[0m Model saved to S:/arneir/Master-thesis-storage/models\\temp_model\\TGAN7\\model\\model-2220.\n",
      "\u001b[32m[0316 15:36:39 @monitor.py:467]\u001b[0m GAN_loss/discrim/accuracy_fake: 0.848\n",
      "\u001b[32m[0316 15:36:39 @monitor.py:467]\u001b[0m GAN_loss/discrim/accuracy_real: 0.468\n",
      "\u001b[32m[0316 15:36:39 @monitor.py:467]\u001b[0m GAN_loss/discrim/loss: 0.59397\n",
      "\u001b[32m[0316 15:36:39 @monitor.py:467]\u001b[0m GAN_loss/gen/final-g-loss: 1.1765\n",
      "\u001b[32m[0316 15:36:39 @monitor.py:467]\u001b[0m GAN_loss/gen/klloss: 0.082566\n",
      "\u001b[32m[0316 15:36:39 @monitor.py:467]\u001b[0m GAN_loss/gen/loss: 1.094\n",
      "\u001b[32m[0316 15:36:39 @monitor.py:467]\u001b[0m QueueInput/queue_size: 50\n",
      "\u001b[32m[0316 15:36:39 @base.py:275]\u001b[0m Start Epoch 38 ...\n"
     ]
    },
    {
     "name": "stderr",
     "output_type": "stream",
     "text": [
      "\n",
      "  0%|                                                                                              |0/60[00:00<?,?it/s]\u001b[A\n",
      "  8%|#######1                                                                              |5/60[00:00<00:05, 9.67it/s]\u001b[A\n",
      " 18%|###############5                                                                     |11/60[00:01<00:04,10.97it/s]\u001b[A\n",
      " 28%|########################                                                             |17/60[00:01<00:03,11.47it/s]\u001b[A\n",
      " 38%|################################5                                                    |23/60[00:02<00:03,11.63it/s]\u001b[A\n",
      " 48%|#########################################                                            |29/60[00:02<00:02,11.72it/s]\u001b[A\n",
      " 58%|#################################################5                                   |35/60[00:03<00:02,11.72it/s]\u001b[A\n",
      " 68%|##########################################################                           |41/60[00:03<00:01,11.79it/s]\u001b[A\n",
      " 78%|##################################################################5                  |47/60[00:04<00:01,11.82it/s]\u001b[A\n",
      " 88%|###########################################################################          |53/60[00:04<00:00,11.75it/s]\u001b[A\n",
      "100%|#####################################################################################|60/60[00:05<00:00,11.46it/s]\u001b[A"
     ]
    },
    {
     "name": "stdout",
     "output_type": "stream",
     "text": [
      "\u001b[32m[0316 15:36:44 @base.py:285]\u001b[0m Epoch 38 (global_step 2280) finished, time:5.24 seconds.\n"
     ]
    },
    {
     "name": "stderr",
     "output_type": "stream",
     "text": [
      "\n"
     ]
    },
    {
     "name": "stdout",
     "output_type": "stream",
     "text": [
      "\u001b[32m[0316 15:36:45 @saver.py:79]\u001b[0m Model saved to S:/arneir/Master-thesis-storage/models\\temp_model\\TGAN7\\model\\model-2280.\n",
      "\u001b[32m[0316 15:36:45 @monitor.py:467]\u001b[0m GAN_loss/discrim/accuracy_fake: 0.896\n",
      "\u001b[32m[0316 15:36:45 @monitor.py:467]\u001b[0m GAN_loss/discrim/accuracy_real: 0.362\n",
      "\u001b[32m[0316 15:36:45 @monitor.py:467]\u001b[0m GAN_loss/discrim/loss: 0.59467\n",
      "\u001b[32m[0316 15:36:45 @monitor.py:467]\u001b[0m GAN_loss/gen/final-g-loss: 1.2789\n",
      "\u001b[32m[0316 15:36:45 @monitor.py:467]\u001b[0m GAN_loss/gen/klloss: 0.080071\n",
      "\u001b[32m[0316 15:36:45 @monitor.py:467]\u001b[0m GAN_loss/gen/loss: 1.1988\n",
      "\u001b[32m[0316 15:36:45 @monitor.py:467]\u001b[0m QueueInput/queue_size: 50\n",
      "\u001b[32m[0316 15:36:45 @base.py:275]\u001b[0m Start Epoch 39 ...\n"
     ]
    },
    {
     "name": "stderr",
     "output_type": "stream",
     "text": [
      "\n",
      "  0%|                                                                                              |0/60[00:00<?,?it/s]\u001b[A\n",
      "  8%|#######1                                                                              |5/60[00:00<00:06, 8.54it/s]\u001b[A\n",
      " 18%|###############5                                                                     |11/60[00:01<00:04,10.36it/s]\u001b[A\n",
      " 28%|########################                                                             |17/60[00:01<00:03,11.18it/s]\u001b[A\n",
      " 40%|##################################                                                   |24/60[00:02<00:03,11.61it/s]\u001b[A\n",
      " 50%|##########################################5                                          |30/60[00:02<00:02,11.66it/s]\u001b[A\n",
      " 60%|###################################################                                  |36/60[00:03<00:02,11.77it/s]\u001b[A\n",
      " 70%|###########################################################4                         |42/60[00:03<00:01,11.75it/s]\u001b[A\n",
      " 80%|####################################################################                 |48/60[00:04<00:01,11.83it/s]\u001b[A\n",
      " 90%|############################################################################5        |54/60[00:04<00:00,11.87it/s]\u001b[A\n",
      "100%|#####################################################################################|60/60[00:05<00:00,11.33it/s]\u001b[A"
     ]
    },
    {
     "name": "stdout",
     "output_type": "stream",
     "text": [
      "\u001b[32m[0316 15:36:51 @base.py:285]\u001b[0m Epoch 39 (global_step 2340) finished, time:5.29 seconds.\n"
     ]
    },
    {
     "name": "stderr",
     "output_type": "stream",
     "text": [
      "\n"
     ]
    },
    {
     "name": "stdout",
     "output_type": "stream",
     "text": [
      "\u001b[32m[0316 15:36:52 @saver.py:79]\u001b[0m Model saved to S:/arneir/Master-thesis-storage/models\\temp_model\\TGAN7\\model\\model-2340.\n",
      "\u001b[32m[0316 15:36:52 @monitor.py:467]\u001b[0m GAN_loss/discrim/accuracy_fake: 0.858\n",
      "\u001b[32m[0316 15:36:52 @monitor.py:467]\u001b[0m GAN_loss/discrim/accuracy_real: 0.528\n",
      "\u001b[32m[0316 15:36:52 @monitor.py:467]\u001b[0m GAN_loss/discrim/loss: 0.58811\n",
      "\u001b[32m[0316 15:36:52 @monitor.py:467]\u001b[0m GAN_loss/gen/final-g-loss: 1.2034\n",
      "\u001b[32m[0316 15:36:52 @monitor.py:467]\u001b[0m GAN_loss/gen/klloss: 0.055352\n",
      "\u001b[32m[0316 15:36:52 @monitor.py:467]\u001b[0m GAN_loss/gen/loss: 1.148\n",
      "\u001b[32m[0316 15:36:52 @monitor.py:467]\u001b[0m QueueInput/queue_size: 50\n",
      "\u001b[32m[0316 15:36:52 @base.py:275]\u001b[0m Start Epoch 40 ...\n"
     ]
    },
    {
     "name": "stderr",
     "output_type": "stream",
     "text": [
      "\n",
      "  0%|                                                                                              |0/60[00:00<?,?it/s]\u001b[A\n",
      "  8%|#######1                                                                              |5/60[00:00<00:05, 9.68it/s]\u001b[A\n",
      " 18%|###############5                                                                     |11/60[00:01<00:04,11.03it/s]\u001b[A\n",
      " 30%|#########################5                                                           |18/60[00:01<00:03,11.60it/s]\u001b[A\n",
      " 40%|##################################                                                   |24/60[00:02<00:03,11.70it/s]\u001b[A\n",
      " 52%|###########################################9                                         |31/60[00:02<00:02,11.82it/s]\u001b[A\n",
      " 62%|####################################################4                                |37/60[00:03<00:01,11.85it/s]\u001b[A\n",
      " 72%|############################################################9                        |43/60[00:03<00:01,11.81it/s]\u001b[A\n",
      " 82%|#####################################################################4               |49/60[00:04<00:00,11.84it/s]\u001b[A\n",
      "100%|#####################################################################################|60/60[00:05<00:00,11.54it/s]\u001b[A"
     ]
    },
    {
     "name": "stdout",
     "output_type": "stream",
     "text": [
      "\u001b[32m[0316 15:36:57 @base.py:285]\u001b[0m Epoch 40 (global_step 2400) finished, time:5.2 seconds.\n"
     ]
    },
    {
     "name": "stderr",
     "output_type": "stream",
     "text": [
      "\n"
     ]
    },
    {
     "name": "stdout",
     "output_type": "stream",
     "text": [
      "\u001b[32m[0316 15:37:00 @saver.py:79]\u001b[0m Model saved to S:/arneir/Master-thesis-storage/models\\temp_model\\TGAN7\\model\\model-2400.\n",
      "\u001b[32m[0316 15:37:00 @monitor.py:467]\u001b[0m GAN_loss/discrim/accuracy_fake: 0.872\n",
      "\u001b[32m[0316 15:37:00 @monitor.py:467]\u001b[0m GAN_loss/discrim/accuracy_real: 0.484\n",
      "\u001b[32m[0316 15:37:00 @monitor.py:467]\u001b[0m GAN_loss/discrim/loss: 0.57502\n",
      "\u001b[32m[0316 15:37:00 @monitor.py:467]\u001b[0m GAN_loss/gen/final-g-loss: 1.218\n",
      "\u001b[32m[0316 15:37:01 @monitor.py:467]\u001b[0m GAN_loss/gen/klloss: 0.080802\n",
      "\u001b[32m[0316 15:37:01 @monitor.py:467]\u001b[0m GAN_loss/gen/loss: 1.1372\n",
      "\u001b[32m[0316 15:37:01 @monitor.py:467]\u001b[0m QueueInput/queue_size: 50\n",
      "\u001b[32m[0316 15:37:01 @group.py:48]\u001b[0m Callbacks took 3.045 sec in total. ModelSaver: 2.23 seconds\n",
      "\u001b[32m[0316 15:37:01 @base.py:275]\u001b[0m Start Epoch 41 ...\n"
     ]
    },
    {
     "name": "stderr",
     "output_type": "stream",
     "text": [
      "\n",
      "  0%|                                                                                              |0/60[00:00<?,?it/s]\u001b[A\n",
      "  8%|#######1                                                                              |5/60[00:00<00:06, 9.17it/s]\u001b[A\n",
      " 18%|###############5                                                                     |11/60[00:01<00:04,10.88it/s]\u001b[A\n",
      " 28%|########################                                                             |17/60[00:01<00:03,11.45it/s]\u001b[A\n",
      " 38%|################################5                                                    |23/60[00:02<00:03,11.67it/s]\u001b[A\n",
      " 48%|#########################################                                            |29/60[00:02<00:02,11.75it/s]\u001b[A\n",
      " 58%|#################################################5                                   |35/60[00:03<00:02,11.83it/s]\u001b[A\n",
      " 68%|##########################################################                           |41/60[00:03<00:01,11.85it/s]\u001b[A\n",
      " 78%|##################################################################5                  |47/60[00:04<00:01,11.87it/s]\u001b[A\n",
      " 88%|###########################################################################          |53/60[00:04<00:00,11.83it/s]\u001b[A\n",
      "100%|#####################################################################################|60/60[00:05<00:00,11.48it/s]\u001b[A"
     ]
    },
    {
     "name": "stdout",
     "output_type": "stream",
     "text": [
      "\u001b[32m[0316 15:37:06 @base.py:285]\u001b[0m Epoch 41 (global_step 2460) finished, time:5.23 seconds.\n"
     ]
    },
    {
     "name": "stderr",
     "output_type": "stream",
     "text": [
      "\n"
     ]
    },
    {
     "name": "stdout",
     "output_type": "stream",
     "text": [
      "\u001b[32m[0316 15:37:07 @saver.py:79]\u001b[0m Model saved to S:/arneir/Master-thesis-storage/models\\temp_model\\TGAN7\\model\\model-2460.\n",
      "\u001b[32m[0316 15:37:08 @monitor.py:467]\u001b[0m GAN_loss/discrim/accuracy_fake: 0.83\n",
      "\u001b[32m[0316 15:37:08 @monitor.py:467]\u001b[0m GAN_loss/discrim/accuracy_real: 0.494\n",
      "\u001b[32m[0316 15:37:08 @monitor.py:467]\u001b[0m GAN_loss/discrim/loss: 0.5724\n",
      "\u001b[32m[0316 15:37:08 @monitor.py:467]\u001b[0m GAN_loss/gen/final-g-loss: 1.2767\n",
      "\u001b[32m[0316 15:37:08 @monitor.py:467]\u001b[0m GAN_loss/gen/klloss: 0.067457\n",
      "\u001b[32m[0316 15:37:08 @monitor.py:467]\u001b[0m GAN_loss/gen/loss: 1.2092\n",
      "\u001b[32m[0316 15:37:08 @monitor.py:467]\u001b[0m QueueInput/queue_size: 50\n",
      "\u001b[32m[0316 15:37:08 @base.py:275]\u001b[0m Start Epoch 42 ...\n"
     ]
    },
    {
     "name": "stderr",
     "output_type": "stream",
     "text": [
      "\n",
      "  0%|                                                                                              |0/60[00:00<?,?it/s]\u001b[A\n",
      "  7%|#####7                                                                                |4/60[00:00<00:07, 7.95it/s]\u001b[A\n",
      " 17%|##############1                                                                      |10/60[00:01<00:04,10.46it/s]\u001b[A\n",
      " 27%|######################6                                                              |16/60[00:01<00:03,11.24it/s]\u001b[A\n",
      " 38%|################################5                                                    |23/60[00:02<00:03,11.61it/s]\u001b[A\n",
      " 48%|#########################################                                            |29/60[00:02<00:02,11.76it/s]\u001b[A\n",
      " 58%|#################################################5                                   |35/60[00:03<00:02,11.80it/s]\u001b[A\n",
      " 68%|##########################################################                           |41/60[00:03<00:01,11.87it/s]\u001b[A\n",
      " 78%|##################################################################5                  |47/60[00:04<00:01,11.88it/s]\u001b[A\n",
      " 88%|###########################################################################          |53/60[00:04<00:00,11.85it/s]\u001b[A\n",
      "100%|#####################################################################################|60/60[00:05<00:00,11.37it/s]\u001b[A"
     ]
    },
    {
     "name": "stdout",
     "output_type": "stream",
     "text": [
      "\u001b[32m[0316 15:37:13 @base.py:285]\u001b[0m Epoch 42 (global_step 2520) finished, time:5.28 seconds.\n"
     ]
    },
    {
     "name": "stderr",
     "output_type": "stream",
     "text": [
      "\n"
     ]
    },
    {
     "name": "stdout",
     "output_type": "stream",
     "text": [
      "\u001b[32m[0316 15:37:14 @saver.py:79]\u001b[0m Model saved to S:/arneir/Master-thesis-storage/models\\temp_model\\TGAN7\\model\\model-2520.\n",
      "\u001b[32m[0316 15:37:14 @monitor.py:467]\u001b[0m GAN_loss/discrim/accuracy_fake: 0.83\n",
      "\u001b[32m[0316 15:37:14 @monitor.py:467]\u001b[0m GAN_loss/discrim/accuracy_real: 0.394\n",
      "\u001b[32m[0316 15:37:14 @monitor.py:467]\u001b[0m GAN_loss/discrim/loss: 0.59804\n",
      "\u001b[32m[0316 15:37:14 @monitor.py:467]\u001b[0m GAN_loss/gen/final-g-loss: 1.2337\n",
      "\u001b[32m[0316 15:37:14 @monitor.py:467]\u001b[0m GAN_loss/gen/klloss: 0.05976\n",
      "\u001b[32m[0316 15:37:14 @monitor.py:467]\u001b[0m GAN_loss/gen/loss: 1.174\n",
      "\u001b[32m[0316 15:37:14 @monitor.py:467]\u001b[0m QueueInput/queue_size: 50\n",
      "\u001b[32m[0316 15:37:14 @base.py:275]\u001b[0m Start Epoch 43 ...\n"
     ]
    },
    {
     "name": "stderr",
     "output_type": "stream",
     "text": [
      "\n",
      "  0%|                                                                                              |0/60[00:00<?,?it/s]\u001b[A\n",
      "  8%|#######1                                                                              |5/60[00:00<00:05, 9.17it/s]\u001b[A\n",
      " 18%|###############5                                                                     |11/60[00:01<00:04,10.79it/s]\u001b[A\n",
      " 28%|########################                                                             |17/60[00:01<00:03,11.39it/s]\u001b[A\n",
      " 38%|################################5                                                    |23/60[00:02<00:03,11.66it/s]\u001b[A\n",
      " 48%|#########################################                                            |29/60[00:02<00:02,11.78it/s]\u001b[A\n",
      " 58%|#################################################5                                   |35/60[00:03<00:02,11.82it/s]\u001b[A\n",
      " 68%|##########################################################                           |41/60[00:03<00:01,11.89it/s]\u001b[A\n",
      " 78%|##################################################################5                  |47/60[00:04<00:01,11.87it/s]\u001b[A\n",
      " 88%|###########################################################################          |53/60[00:04<00:00,11.90it/s]\u001b[A\n",
      "100%|#####################################################################################|60/60[00:05<00:00,11.48it/s]\u001b[A"
     ]
    },
    {
     "name": "stdout",
     "output_type": "stream",
     "text": [
      "\u001b[32m[0316 15:37:20 @base.py:285]\u001b[0m Epoch 43 (global_step 2580) finished, time:5.23 seconds.\n"
     ]
    },
    {
     "name": "stderr",
     "output_type": "stream",
     "text": [
      "\n"
     ]
    },
    {
     "name": "stdout",
     "output_type": "stream",
     "text": [
      "\u001b[32m[0316 15:37:21 @saver.py:79]\u001b[0m Model saved to S:/arneir/Master-thesis-storage/models\\temp_model\\TGAN7\\model\\model-2580.\n",
      "\u001b[32m[0316 15:37:21 @monitor.py:467]\u001b[0m GAN_loss/discrim/accuracy_fake: 0.886\n",
      "\u001b[32m[0316 15:37:21 @monitor.py:467]\u001b[0m GAN_loss/discrim/accuracy_real: 0.574\n",
      "\u001b[32m[0316 15:37:21 @monitor.py:467]\u001b[0m GAN_loss/discrim/loss: 0.54869\n",
      "\u001b[32m[0316 15:37:21 @monitor.py:467]\u001b[0m GAN_loss/gen/final-g-loss: 1.2689\n",
      "\u001b[32m[0316 15:37:21 @monitor.py:467]\u001b[0m GAN_loss/gen/klloss: 0.068543\n",
      "\u001b[32m[0316 15:37:21 @monitor.py:467]\u001b[0m GAN_loss/gen/loss: 1.2004\n",
      "\u001b[32m[0316 15:37:21 @monitor.py:467]\u001b[0m QueueInput/queue_size: 50\n",
      "\u001b[32m[0316 15:37:21 @base.py:275]\u001b[0m Start Epoch 44 ...\n"
     ]
    },
    {
     "name": "stderr",
     "output_type": "stream",
     "text": [
      "\n",
      "  0%|                                                                                              |0/60[00:00<?,?it/s]\u001b[A\n",
      " 10%|########6                                                                             |6/60[00:00<00:05,10.61it/s]\u001b[A\n",
      " 20%|#################                                                                    |12/60[00:01<00:04,11.31it/s]\u001b[A\n",
      " 30%|#########################5                                                           |18/60[00:01<00:03,11.65it/s]\u001b[A\n",
      " 40%|##################################                                                   |24/60[00:02<00:03,11.80it/s]\u001b[A\n",
      " 50%|##########################################5                                          |30/60[00:02<00:02,11.81it/s]\u001b[A\n",
      " 60%|###################################################                                  |36/60[00:03<00:02,11.86it/s]\u001b[A\n",
      " 70%|###########################################################4                         |42/60[00:03<00:01,11.85it/s]\u001b[A\n",
      " 80%|####################################################################                 |48/60[00:04<00:01,11.79it/s]\u001b[A\n",
      " 90%|############################################################################5        |54/60[00:04<00:00,11.86it/s]\u001b[A\n",
      "100%|#####################################################################################|60/60[00:05<00:00,11.61it/s]\u001b[A"
     ]
    },
    {
     "name": "stdout",
     "output_type": "stream",
     "text": [
      "\u001b[32m[0316 15:37:27 @base.py:285]\u001b[0m Epoch 44 (global_step 2640) finished, time:5.17 seconds.\n"
     ]
    },
    {
     "name": "stderr",
     "output_type": "stream",
     "text": [
      "\n"
     ]
    },
    {
     "name": "stdout",
     "output_type": "stream",
     "text": [
      "\u001b[32m[0316 15:37:28 @saver.py:79]\u001b[0m Model saved to S:/arneir/Master-thesis-storage/models\\temp_model\\TGAN7\\model\\model-2640.\n",
      "\u001b[32m[0316 15:37:28 @monitor.py:467]\u001b[0m GAN_loss/discrim/accuracy_fake: 0.822\n",
      "\u001b[32m[0316 15:37:28 @monitor.py:467]\u001b[0m GAN_loss/discrim/accuracy_real: 0.428\n",
      "\u001b[32m[0316 15:37:28 @monitor.py:467]\u001b[0m GAN_loss/discrim/loss: 0.58475\n",
      "\u001b[32m[0316 15:37:28 @monitor.py:467]\u001b[0m GAN_loss/gen/final-g-loss: 1.3115\n",
      "\u001b[32m[0316 15:37:28 @monitor.py:467]\u001b[0m GAN_loss/gen/klloss: 0.06749\n",
      "\u001b[32m[0316 15:37:28 @monitor.py:467]\u001b[0m GAN_loss/gen/loss: 1.244\n",
      "\u001b[32m[0316 15:37:28 @monitor.py:467]\u001b[0m QueueInput/queue_size: 50\n",
      "\u001b[32m[0316 15:37:28 @base.py:275]\u001b[0m Start Epoch 45 ...\n"
     ]
    },
    {
     "name": "stderr",
     "output_type": "stream",
     "text": [
      "\n",
      "  0%|                                                                                              |0/60[00:00<?,?it/s]\u001b[A\n",
      " 10%|########6                                                                             |6/60[00:00<00:05,10.20it/s]\u001b[A\n",
      " 20%|#################                                                                    |12/60[00:01<00:04,11.27it/s]\u001b[A\n",
      " 30%|#########################5                                                           |18/60[00:01<00:03,11.59it/s]\u001b[A\n",
      " 40%|##################################                                                   |24/60[00:02<00:03,11.71it/s]\u001b[A\n",
      " 50%|##########################################5                                          |30/60[00:02<00:02,11.84it/s]\u001b[A\n",
      " 60%|###################################################                                  |36/60[00:03<00:02,11.89it/s]\u001b[A\n",
      " 70%|###########################################################4                         |42/60[00:03<00:01,11.85it/s]\u001b[A\n",
      " 80%|####################################################################                 |48/60[00:04<00:01,11.92it/s]\u001b[A\n",
      " 90%|############################################################################5        |54/60[00:04<00:00,11.85it/s]\u001b[A\n",
      "100%|#####################################################################################|60/60[00:05<00:00,11.44it/s]\u001b[A"
     ]
    },
    {
     "name": "stdout",
     "output_type": "stream",
     "text": [
      "\u001b[32m[0316 15:37:34 @base.py:285]\u001b[0m Epoch 45 (global_step 2700) finished, time:5.25 seconds.\n"
     ]
    },
    {
     "name": "stderr",
     "output_type": "stream",
     "text": [
      "\n"
     ]
    },
    {
     "name": "stdout",
     "output_type": "stream",
     "text": [
      "\u001b[32m[0316 15:37:36 @saver.py:79]\u001b[0m Model saved to S:/arneir/Master-thesis-storage/models\\temp_model\\TGAN7\\model\\model-2700.\n",
      "\u001b[32m[0316 15:37:37 @monitor.py:467]\u001b[0m GAN_loss/discrim/accuracy_fake: 0.844\n",
      "\u001b[32m[0316 15:37:37 @monitor.py:467]\u001b[0m GAN_loss/discrim/accuracy_real: 0.594\n",
      "\u001b[32m[0316 15:37:37 @monitor.py:467]\u001b[0m GAN_loss/discrim/loss: 0.58687\n",
      "\u001b[32m[0316 15:37:37 @monitor.py:467]\u001b[0m GAN_loss/gen/final-g-loss: 1.2645\n",
      "\u001b[32m[0316 15:37:37 @monitor.py:467]\u001b[0m GAN_loss/gen/klloss: 0.1107\n",
      "\u001b[32m[0316 15:37:37 @monitor.py:467]\u001b[0m GAN_loss/gen/loss: 1.1538\n",
      "\u001b[32m[0316 15:37:37 @monitor.py:467]\u001b[0m QueueInput/queue_size: 50\n",
      "\u001b[32m[0316 15:37:37 @group.py:48]\u001b[0m Callbacks took 3.066 sec in total. ModelSaver: 2.16 seconds\n",
      "\u001b[32m[0316 15:37:37 @base.py:275]\u001b[0m Start Epoch 46 ...\n"
     ]
    },
    {
     "name": "stderr",
     "output_type": "stream",
     "text": [
      "\n",
      "  0%|                                                                                              |0/60[00:00<?,?it/s]\u001b[A\n",
      "  7%|#####7                                                                                |4/60[00:00<00:07, 7.67it/s]\u001b[A\n",
      " 17%|##############1                                                                      |10/60[00:01<00:04,10.42it/s]\u001b[A\n",
      " 27%|######################6                                                              |16/60[00:01<00:03,11.22it/s]\u001b[A\n",
      " 37%|###############################1                                                     |22/60[00:02<00:03,11.60it/s]\u001b[A\n",
      " 47%|#######################################6                                             |28/60[00:02<00:02,11.70it/s]\u001b[A\n",
      " 57%|################################################1                                    |34/60[00:03<00:02,11.82it/s]\u001b[A\n",
      " 67%|########################################################6                            |40/60[00:03<00:01,11.84it/s]\u001b[A\n",
      " 77%|#################################################################1                   |46/60[00:04<00:01,11.84it/s]\u001b[A\n",
      " 87%|#########################################################################6           |52/60[00:04<00:00,11.88it/s]\u001b[A\n",
      "100%|#####################################################################################|60/60[00:05<00:00,11.34it/s]\u001b[A"
     ]
    },
    {
     "name": "stdout",
     "output_type": "stream",
     "text": [
      "\u001b[32m[0316 15:37:42 @base.py:285]\u001b[0m Epoch 46 (global_step 2760) finished, time:5.29 seconds.\n"
     ]
    },
    {
     "name": "stderr",
     "output_type": "stream",
     "text": [
      "\n"
     ]
    },
    {
     "name": "stdout",
     "output_type": "stream",
     "text": [
      "\u001b[32m[0316 15:37:44 @saver.py:79]\u001b[0m Model saved to S:/arneir/Master-thesis-storage/models\\temp_model\\TGAN7\\model\\model-2760.\n",
      "\u001b[32m[0316 15:37:44 @monitor.py:467]\u001b[0m GAN_loss/discrim/accuracy_fake: 0.912\n",
      "\u001b[32m[0316 15:37:44 @monitor.py:467]\u001b[0m GAN_loss/discrim/accuracy_real: 0.432\n",
      "\u001b[32m[0316 15:37:45 @monitor.py:467]\u001b[0m GAN_loss/discrim/loss: 0.56248\n",
      "\u001b[32m[0316 15:37:45 @monitor.py:467]\u001b[0m GAN_loss/gen/final-g-loss: 1.3952\n",
      "\u001b[32m[0316 15:37:45 @monitor.py:467]\u001b[0m GAN_loss/gen/klloss: 0.094895\n",
      "\u001b[32m[0316 15:37:45 @monitor.py:467]\u001b[0m GAN_loss/gen/loss: 1.3003\n",
      "\u001b[32m[0316 15:37:45 @monitor.py:467]\u001b[0m QueueInput/queue_size: 50\n",
      "\u001b[32m[0316 15:37:45 @base.py:275]\u001b[0m Start Epoch 47 ...\n"
     ]
    },
    {
     "name": "stderr",
     "output_type": "stream",
     "text": [
      "\n",
      "  0%|                                                                                              |0/60[00:00<?,?it/s]\u001b[A\n",
      "  8%|#######1                                                                              |5/60[00:00<00:06, 8.56it/s]\u001b[A\n",
      " 18%|###############5                                                                     |11/60[00:01<00:04,10.58it/s]\u001b[A\n",
      " 28%|########################                                                             |17/60[00:01<00:03,11.30it/s]\u001b[A\n",
      " 38%|################################5                                                    |23/60[00:02<00:03,11.57it/s]\u001b[A\n",
      " 48%|#########################################                                            |29/60[00:02<00:02,11.76it/s]\u001b[A\n",
      " 58%|#################################################5                                   |35/60[00:03<00:02,11.79it/s]\u001b[A\n",
      " 68%|##########################################################                           |41/60[00:03<00:01,11.84it/s]\u001b[A\n",
      " 78%|##################################################################5                  |47/60[00:04<00:01,11.89it/s]\u001b[A\n",
      " 88%|###########################################################################          |53/60[00:04<00:00,11.84it/s]\u001b[A\n",
      "100%|#####################################################################################|60/60[00:05<00:00,11.37it/s]\u001b[A"
     ]
    },
    {
     "name": "stdout",
     "output_type": "stream",
     "text": [
      "\u001b[32m[0316 15:37:50 @base.py:285]\u001b[0m Epoch 47 (global_step 2820) finished, time:5.28 seconds.\n"
     ]
    },
    {
     "name": "stderr",
     "output_type": "stream",
     "text": [
      "\n"
     ]
    },
    {
     "name": "stdout",
     "output_type": "stream",
     "text": [
      "\u001b[32m[0316 15:37:51 @saver.py:79]\u001b[0m Model saved to S:/arneir/Master-thesis-storage/models\\temp_model\\TGAN7\\model\\model-2820.\n",
      "\u001b[32m[0316 15:37:52 @monitor.py:467]\u001b[0m GAN_loss/discrim/accuracy_fake: 0.826\n",
      "\u001b[32m[0316 15:37:52 @monitor.py:467]\u001b[0m GAN_loss/discrim/accuracy_real: 0.5\n",
      "\u001b[32m[0316 15:37:52 @monitor.py:467]\u001b[0m GAN_loss/discrim/loss: 0.57064\n",
      "\u001b[32m[0316 15:37:52 @monitor.py:467]\u001b[0m GAN_loss/gen/final-g-loss: 1.292\n",
      "\u001b[32m[0316 15:37:52 @monitor.py:467]\u001b[0m GAN_loss/gen/klloss: 0.07319\n",
      "\u001b[32m[0316 15:37:52 @monitor.py:467]\u001b[0m GAN_loss/gen/loss: 1.2188\n",
      "\u001b[32m[0316 15:37:52 @monitor.py:467]\u001b[0m QueueInput/queue_size: 50\n",
      "\u001b[32m[0316 15:37:52 @base.py:275]\u001b[0m Start Epoch 48 ...\n"
     ]
    },
    {
     "name": "stderr",
     "output_type": "stream",
     "text": [
      "\n",
      "  0%|                                                                                              |0/60[00:00<?,?it/s]\u001b[A\n",
      "  7%|#####7                                                                                |4/60[00:00<00:07, 7.93it/s]\u001b[A\n",
      " 17%|##############1                                                                      |10/60[00:01<00:04,10.38it/s]\u001b[A\n",
      " 27%|######################6                                                              |16/60[00:01<00:03,11.21it/s]\u001b[A\n",
      " 37%|###############################1                                                     |22/60[00:02<00:03,11.61it/s]\u001b[A\n",
      " 47%|#######################################6                                             |28/60[00:02<00:02,11.78it/s]\u001b[A\n",
      " 57%|################################################1                                    |34/60[00:03<00:02,11.79it/s]\u001b[A\n",
      " 67%|########################################################6                            |40/60[00:03<00:01,11.89it/s]\u001b[A\n",
      " 77%|#################################################################1                   |46/60[00:04<00:01,11.86it/s]\u001b[A\n",
      " 87%|#########################################################################6           |52/60[00:04<00:00,11.87it/s]\u001b[A\n",
      "100%|#####################################################################################|60/60[00:05<00:00,10.64it/s]\u001b[A"
     ]
    },
    {
     "name": "stdout",
     "output_type": "stream",
     "text": [
      "\u001b[32m[0316 15:37:57 @base.py:285]\u001b[0m Epoch 48 (global_step 2880) finished, time:5.64 seconds.\n"
     ]
    },
    {
     "name": "stderr",
     "output_type": "stream",
     "text": [
      "\n"
     ]
    },
    {
     "name": "stdout",
     "output_type": "stream",
     "text": [
      "\u001b[32m[0316 15:37:58 @saver.py:79]\u001b[0m Model saved to S:/arneir/Master-thesis-storage/models\\temp_model\\TGAN7\\model\\model-2880.\n",
      "\u001b[32m[0316 15:37:59 @monitor.py:467]\u001b[0m GAN_loss/discrim/accuracy_fake: 0.872\n",
      "\u001b[32m[0316 15:37:59 @monitor.py:467]\u001b[0m GAN_loss/discrim/accuracy_real: 0.474\n",
      "\u001b[32m[0316 15:37:59 @monitor.py:467]\u001b[0m GAN_loss/discrim/loss: 0.56437\n",
      "\u001b[32m[0316 15:37:59 @monitor.py:467]\u001b[0m GAN_loss/gen/final-g-loss: 1.3893\n",
      "\u001b[32m[0316 15:37:59 @monitor.py:467]\u001b[0m GAN_loss/gen/klloss: 0.094498\n",
      "\u001b[32m[0316 15:37:59 @monitor.py:467]\u001b[0m GAN_loss/gen/loss: 1.2948\n",
      "\u001b[32m[0316 15:37:59 @monitor.py:467]\u001b[0m QueueInput/queue_size: 50\n",
      "\u001b[32m[0316 15:37:59 @base.py:275]\u001b[0m Start Epoch 49 ...\n"
     ]
    },
    {
     "name": "stderr",
     "output_type": "stream",
     "text": [
      "\n",
      "  0%|                                                                                              |0/60[00:00<?,?it/s]\u001b[A\n",
      " 10%|########6                                                                             |6/60[00:00<00:05,10.49it/s]\u001b[A\n",
      " 20%|#################                                                                    |12/60[00:01<00:04,11.43it/s]\u001b[A\n",
      " 30%|#########################5                                                           |18/60[00:01<00:03,11.64it/s]\u001b[A\n",
      " 40%|##################################                                                   |24/60[00:02<00:03,11.77it/s]\u001b[A\n",
      " 50%|##########################################5                                          |30/60[00:02<00:02,11.83it/s]\u001b[A\n",
      " 60%|###################################################                                  |36/60[00:03<00:02,11.81it/s]\u001b[A\n",
      " 70%|###########################################################4                         |42/60[00:03<00:01,11.89it/s]\u001b[A\n",
      " 80%|####################################################################                 |48/60[00:04<00:01,11.90it/s]\u001b[A\n",
      " 90%|############################################################################5        |54/60[00:04<00:00,11.88it/s]\u001b[A\n",
      "100%|#####################################################################################|60/60[00:05<00:00,11.57it/s]\u001b[A"
     ]
    },
    {
     "name": "stdout",
     "output_type": "stream",
     "text": [
      "\u001b[32m[0316 15:38:04 @base.py:285]\u001b[0m Epoch 49 (global_step 2940) finished, time:5.19 seconds.\n"
     ]
    },
    {
     "name": "stderr",
     "output_type": "stream",
     "text": [
      "\n"
     ]
    },
    {
     "name": "stdout",
     "output_type": "stream",
     "text": [
      "\u001b[32m[0316 15:38:05 @saver.py:79]\u001b[0m Model saved to S:/arneir/Master-thesis-storage/models\\temp_model\\TGAN7\\model\\model-2940.\n",
      "\u001b[32m[0316 15:38:05 @monitor.py:467]\u001b[0m GAN_loss/discrim/accuracy_fake: 0.856\n",
      "\u001b[32m[0316 15:38:05 @monitor.py:467]\u001b[0m GAN_loss/discrim/accuracy_real: 0.606\n",
      "\u001b[32m[0316 15:38:05 @monitor.py:467]\u001b[0m GAN_loss/discrim/loss: 0.54224\n",
      "\u001b[32m[0316 15:38:05 @monitor.py:467]\u001b[0m GAN_loss/gen/final-g-loss: 1.29\n",
      "\u001b[32m[0316 15:38:05 @monitor.py:467]\u001b[0m GAN_loss/gen/klloss: 0.0469\n",
      "\u001b[32m[0316 15:38:05 @monitor.py:467]\u001b[0m GAN_loss/gen/loss: 1.2431\n",
      "\u001b[32m[0316 15:38:05 @monitor.py:467]\u001b[0m QueueInput/queue_size: 50\n",
      "\u001b[32m[0316 15:38:05 @base.py:275]\u001b[0m Start Epoch 50 ...\n"
     ]
    },
    {
     "name": "stderr",
     "output_type": "stream",
     "text": [
      "\n",
      "  0%|                                                                                              |0/60[00:00<?,?it/s]\u001b[A\n",
      "  8%|#######1                                                                              |5/60[00:00<00:05, 9.61it/s]\u001b[A\n",
      " 18%|###############5                                                                     |11/60[00:01<00:04,11.03it/s]\u001b[A\n",
      " 28%|########################                                                             |17/60[00:01<00:03,11.52it/s]\u001b[A\n",
      " 38%|################################5                                                    |23/60[00:02<00:03,11.68it/s]\u001b[A\n",
      " 48%|#########################################                                            |29/60[00:02<00:02,11.79it/s]\u001b[A\n",
      " 58%|#################################################5                                   |35/60[00:03<00:02,11.84it/s]\u001b[A\n",
      " 68%|##########################################################                           |41/60[00:03<00:01,11.83it/s]\u001b[A\n",
      " 78%|##################################################################5                  |47/60[00:04<00:01,11.84it/s]\u001b[A\n",
      " 88%|###########################################################################          |53/60[00:04<00:00,11.87it/s]\u001b[A\n",
      "100%|#####################################################################################|60/60[00:05<00:00,11.43it/s]\u001b[A"
     ]
    },
    {
     "name": "stdout",
     "output_type": "stream",
     "text": [
      "\u001b[32m[0316 15:38:10 @base.py:285]\u001b[0m Epoch 50 (global_step 3000) finished, time:5.25 seconds.\n"
     ]
    },
    {
     "name": "stderr",
     "output_type": "stream",
     "text": [
      "\n"
     ]
    },
    {
     "name": "stdout",
     "output_type": "stream",
     "text": [
      "\u001b[32m[0316 15:38:12 @saver.py:79]\u001b[0m Model saved to S:/arneir/Master-thesis-storage/models\\temp_model\\TGAN7\\model\\model-3000.\n",
      "\u001b[32m[0316 15:38:12 @monitor.py:467]\u001b[0m GAN_loss/discrim/accuracy_fake: 0.832\n",
      "\u001b[32m[0316 15:38:12 @monitor.py:467]\u001b[0m GAN_loss/discrim/accuracy_real: 0.58\n",
      "\u001b[32m[0316 15:38:12 @monitor.py:467]\u001b[0m GAN_loss/discrim/loss: 0.56432\n",
      "\u001b[32m[0316 15:38:12 @monitor.py:467]\u001b[0m GAN_loss/gen/final-g-loss: 1.2904\n",
      "\u001b[32m[0316 15:38:12 @monitor.py:467]\u001b[0m GAN_loss/gen/klloss: 0.047916\n",
      "\u001b[32m[0316 15:38:12 @monitor.py:467]\u001b[0m GAN_loss/gen/loss: 1.2425\n",
      "\u001b[32m[0316 15:38:12 @monitor.py:467]\u001b[0m QueueInput/queue_size: 50\n",
      "\u001b[32m[0316 15:38:12 @base.py:275]\u001b[0m Start Epoch 51 ...\n"
     ]
    },
    {
     "name": "stderr",
     "output_type": "stream",
     "text": [
      "\n",
      "  0%|                                                                                              |0/60[00:00<?,?it/s]\u001b[A\n",
      "  8%|#######1                                                                              |5/60[00:00<00:05, 9.66it/s]\u001b[A\n",
      " 18%|###############5                                                                     |11/60[00:01<00:04,11.06it/s]\u001b[A\n",
      " 28%|########################                                                             |17/60[00:01<00:03,11.48it/s]\u001b[A\n",
      " 38%|################################5                                                    |23/60[00:02<00:03,11.71it/s]\u001b[A\n",
      " 48%|#########################################                                            |29/60[00:02<00:02,11.79it/s]\u001b[A\n",
      " 58%|#################################################5                                   |35/60[00:03<00:02,11.81it/s]\u001b[A\n",
      " 68%|##########################################################                           |41/60[00:03<00:01,11.89it/s]\u001b[A\n",
      " 78%|##################################################################5                  |47/60[00:04<00:01,11.78it/s]\u001b[A\n",
      " 88%|###########################################################################          |53/60[00:04<00:00,11.70it/s]\u001b[A\n",
      "100%|#####################################################################################|60/60[00:05<00:00,11.45it/s]\u001b[A"
     ]
    },
    {
     "name": "stdout",
     "output_type": "stream",
     "text": [
      "\u001b[32m[0316 15:38:17 @base.py:285]\u001b[0m Epoch 51 (global_step 3060) finished, time:5.24 seconds.\n"
     ]
    },
    {
     "name": "stderr",
     "output_type": "stream",
     "text": [
      "\n"
     ]
    },
    {
     "name": "stdout",
     "output_type": "stream",
     "text": [
      "\u001b[32m[0316 15:38:18 @saver.py:79]\u001b[0m Model saved to S:/arneir/Master-thesis-storage/models\\temp_model\\TGAN7\\model\\model-3060.\n",
      "\u001b[32m[0316 15:38:18 @monitor.py:467]\u001b[0m GAN_loss/discrim/accuracy_fake: 0.854\n",
      "\u001b[32m[0316 15:38:18 @monitor.py:467]\u001b[0m GAN_loss/discrim/accuracy_real: 0.442\n",
      "\u001b[32m[0316 15:38:18 @monitor.py:467]\u001b[0m GAN_loss/discrim/loss: 0.57282\n",
      "\u001b[32m[0316 15:38:18 @monitor.py:467]\u001b[0m GAN_loss/gen/final-g-loss: 1.4247\n",
      "\u001b[32m[0316 15:38:18 @monitor.py:467]\u001b[0m GAN_loss/gen/klloss: 0.10013\n",
      "\u001b[32m[0316 15:38:18 @monitor.py:467]\u001b[0m GAN_loss/gen/loss: 1.3245\n",
      "\u001b[32m[0316 15:38:18 @monitor.py:467]\u001b[0m QueueInput/queue_size: 50\n",
      "\u001b[32m[0316 15:38:18 @base.py:275]\u001b[0m Start Epoch 52 ...\n"
     ]
    },
    {
     "name": "stderr",
     "output_type": "stream",
     "text": [
      "\n",
      "  0%|                                                                                              |0/60[00:00<?,?it/s]\u001b[A\n",
      "  8%|#######1                                                                              |5/60[00:00<00:05, 9.64it/s]\u001b[A\n",
      " 18%|###############5                                                                     |11/60[00:01<00:04,11.07it/s]\u001b[A\n",
      " 28%|########################                                                             |17/60[00:01<00:03,11.55it/s]\u001b[A\n",
      " 38%|################################5                                                    |23/60[00:02<00:03,11.72it/s]\u001b[A\n",
      " 48%|#########################################                                            |29/60[00:02<00:02,11.79it/s]\u001b[A\n",
      " 58%|#################################################5                                   |35/60[00:03<00:02,11.77it/s]\u001b[A\n",
      " 68%|##########################################################                           |41/60[00:03<00:01,11.69it/s]\u001b[A\n",
      " 78%|##################################################################5                  |47/60[00:04<00:01,11.66it/s]\u001b[A\n",
      " 88%|###########################################################################          |53/60[00:04<00:00,11.67it/s]\u001b[A\n",
      "100%|#####################################################################################|60/60[00:05<00:00,11.34it/s]\u001b[A"
     ]
    },
    {
     "name": "stdout",
     "output_type": "stream",
     "text": [
      "\u001b[32m[0316 15:38:24 @base.py:285]\u001b[0m Epoch 52 (global_step 3120) finished, time:5.29 seconds.\n"
     ]
    },
    {
     "name": "stderr",
     "output_type": "stream",
     "text": [
      "\n"
     ]
    },
    {
     "name": "stdout",
     "output_type": "stream",
     "text": [
      "\u001b[32m[0316 15:38:25 @saver.py:79]\u001b[0m Model saved to S:/arneir/Master-thesis-storage/models\\temp_model\\TGAN7\\model\\model-3120.\n",
      "\u001b[32m[0316 15:38:25 @monitor.py:467]\u001b[0m GAN_loss/discrim/accuracy_fake: 0.858\n",
      "\u001b[32m[0316 15:38:25 @monitor.py:467]\u001b[0m GAN_loss/discrim/accuracy_real: 0.612\n",
      "\u001b[32m[0316 15:38:25 @monitor.py:467]\u001b[0m GAN_loss/discrim/loss: 0.55231\n",
      "\u001b[32m[0316 15:38:25 @monitor.py:467]\u001b[0m GAN_loss/gen/final-g-loss: 1.3128\n",
      "\u001b[32m[0316 15:38:25 @monitor.py:467]\u001b[0m GAN_loss/gen/klloss: 0.068179\n",
      "\u001b[32m[0316 15:38:25 @monitor.py:467]\u001b[0m GAN_loss/gen/loss: 1.2446\n",
      "\u001b[32m[0316 15:38:25 @monitor.py:467]\u001b[0m QueueInput/queue_size: 50\n",
      "\u001b[32m[0316 15:38:25 @base.py:275]\u001b[0m Start Epoch 53 ...\n"
     ]
    },
    {
     "name": "stderr",
     "output_type": "stream",
     "text": [
      "\n",
      "  0%|                                                                                              |0/60[00:00<?,?it/s]\u001b[A\n",
      " 10%|########6                                                                             |6/60[00:00<00:04,10.86it/s]\u001b[A\n",
      " 20%|#################                                                                    |12/60[00:01<00:04,11.50it/s]\u001b[A\n",
      " 30%|#########################5                                                           |18/60[00:01<00:03,11.70it/s]\u001b[A\n",
      " 40%|##################################                                                   |24/60[00:02<00:03,11.70it/s]\u001b[A\n",
      " 50%|##########################################5                                          |30/60[00:02<00:02,11.80it/s]\u001b[A\n",
      " 60%|###################################################                                  |36/60[00:03<00:02,11.88it/s]\u001b[A\n",
      " 70%|###########################################################4                         |42/60[00:03<00:01,11.77it/s]\u001b[A\n",
      " 80%|####################################################################                 |48/60[00:04<00:01,11.68it/s]\u001b[A\n",
      " 90%|############################################################################5        |54/60[00:04<00:00,11.76it/s]\u001b[A\n",
      "100%|#####################################################################################|60/60[00:05<00:00,11.56it/s]\u001b[A"
     ]
    },
    {
     "name": "stdout",
     "output_type": "stream",
     "text": [
      "\u001b[32m[0316 15:38:30 @base.py:285]\u001b[0m Epoch 53 (global_step 3180) finished, time:5.19 seconds.\n"
     ]
    },
    {
     "name": "stderr",
     "output_type": "stream",
     "text": [
      "\n"
     ]
    },
    {
     "name": "stdout",
     "output_type": "stream",
     "text": [
      "\u001b[32m[0316 15:38:32 @saver.py:79]\u001b[0m Model saved to S:/arneir/Master-thesis-storage/models\\temp_model\\TGAN7\\model\\model-3180.\n",
      "\u001b[32m[0316 15:38:32 @monitor.py:467]\u001b[0m GAN_loss/discrim/accuracy_fake: 0.896\n",
      "\u001b[32m[0316 15:38:32 @monitor.py:467]\u001b[0m GAN_loss/discrim/accuracy_real: 0.492\n",
      "\u001b[32m[0316 15:38:32 @monitor.py:467]\u001b[0m GAN_loss/discrim/loss: 0.55355\n",
      "\u001b[32m[0316 15:38:32 @monitor.py:467]\u001b[0m GAN_loss/gen/final-g-loss: 1.4499\n",
      "\u001b[32m[0316 15:38:32 @monitor.py:467]\u001b[0m GAN_loss/gen/klloss: 0.10467\n",
      "\u001b[32m[0316 15:38:32 @monitor.py:467]\u001b[0m GAN_loss/gen/loss: 1.3452\n",
      "\u001b[32m[0316 15:38:32 @monitor.py:467]\u001b[0m QueueInput/queue_size: 50\n",
      "\u001b[32m[0316 15:38:32 @base.py:275]\u001b[0m Start Epoch 54 ...\n"
     ]
    },
    {
     "name": "stderr",
     "output_type": "stream",
     "text": [
      "\n",
      "  0%|                                                                                              |0/60[00:00<?,?it/s]\u001b[A\n",
      "  8%|#######1                                                                              |5/60[00:00<00:05, 9.64it/s]\u001b[A\n",
      " 18%|###############5                                                                     |11/60[00:01<00:04,10.95it/s]\u001b[A\n",
      " 28%|########################                                                             |17/60[00:01<00:03,11.53it/s]\u001b[A\n",
      " 38%|################################5                                                    |23/60[00:02<00:03,11.72it/s]\u001b[A\n",
      " 48%|#########################################                                            |29/60[00:02<00:02,11.77it/s]\u001b[A\n",
      " 60%|###################################################                                  |36/60[00:03<00:02,11.87it/s]\u001b[A\n",
      " 70%|###########################################################4                         |42/60[00:03<00:01,11.86it/s]\u001b[A\n",
      " 80%|####################################################################                 |48/60[00:04<00:01,11.77it/s]\u001b[A\n",
      " 90%|############################################################################5        |54/60[00:04<00:00,11.67it/s]\u001b[A\n",
      "100%|#####################################################################################|60/60[00:05<00:00,11.45it/s]\u001b[A"
     ]
    },
    {
     "name": "stdout",
     "output_type": "stream",
     "text": [
      "\u001b[32m[0316 15:38:37 @base.py:285]\u001b[0m Epoch 54 (global_step 3240) finished, time:5.24 seconds.\n"
     ]
    },
    {
     "name": "stderr",
     "output_type": "stream",
     "text": [
      "\n"
     ]
    },
    {
     "name": "stdout",
     "output_type": "stream",
     "text": [
      "\u001b[32m[0316 15:38:38 @saver.py:79]\u001b[0m Model saved to S:/arneir/Master-thesis-storage/models\\temp_model\\TGAN7\\model\\model-3240.\n",
      "\u001b[32m[0316 15:38:39 @monitor.py:467]\u001b[0m GAN_loss/discrim/accuracy_fake: 0.852\n",
      "\u001b[32m[0316 15:38:39 @monitor.py:467]\u001b[0m GAN_loss/discrim/accuracy_real: 0.542\n",
      "\u001b[32m[0316 15:38:39 @monitor.py:467]\u001b[0m GAN_loss/discrim/loss: 0.55111\n",
      "\u001b[32m[0316 15:38:39 @monitor.py:467]\u001b[0m GAN_loss/gen/final-g-loss: 1.4832\n",
      "\u001b[32m[0316 15:38:39 @monitor.py:467]\u001b[0m GAN_loss/gen/klloss: 0.07148\n",
      "\u001b[32m[0316 15:38:39 @monitor.py:467]\u001b[0m GAN_loss/gen/loss: 1.4117\n",
      "\u001b[32m[0316 15:38:39 @monitor.py:467]\u001b[0m QueueInput/queue_size: 50\n",
      "\u001b[32m[0316 15:38:39 @base.py:275]\u001b[0m Start Epoch 55 ...\n"
     ]
    },
    {
     "name": "stderr",
     "output_type": "stream",
     "text": [
      "\n",
      "  0%|                                                                                              |0/60[00:00<?,?it/s]\u001b[A\n",
      " 10%|########6                                                                             |6/60[00:00<00:05,10.39it/s]\u001b[A\n",
      " 20%|#################                                                                    |12/60[00:01<00:04,11.29it/s]\u001b[A\n",
      " 30%|#########################5                                                           |18/60[00:01<00:03,11.65it/s]\u001b[A\n",
      " 40%|##################################                                                   |24/60[00:02<00:03,11.70it/s]\u001b[A\n",
      " 50%|##########################################5                                          |30/60[00:02<00:02,11.70it/s]\u001b[A\n",
      " 60%|###################################################                                  |36/60[00:03<00:02,11.59it/s]\u001b[A\n",
      " 70%|###########################################################4                         |42/60[00:03<00:01,11.68it/s]\u001b[A\n",
      " 80%|####################################################################                 |48/60[00:04<00:01,11.64it/s]\u001b[A\n",
      " 90%|############################################################################5        |54/60[00:04<00:00,11.64it/s]\u001b[A\n",
      "100%|#####################################################################################|60/60[00:05<00:00,11.39it/s]\u001b[A"
     ]
    },
    {
     "name": "stdout",
     "output_type": "stream",
     "text": [
      "\u001b[32m[0316 15:38:44 @base.py:285]\u001b[0m Epoch 55 (global_step 3300) finished, time:5.27 seconds.\n"
     ]
    },
    {
     "name": "stderr",
     "output_type": "stream",
     "text": [
      "\n"
     ]
    },
    {
     "name": "stdout",
     "output_type": "stream",
     "text": [
      "\u001b[32m[0316 15:38:45 @saver.py:79]\u001b[0m Model saved to S:/arneir/Master-thesis-storage/models\\temp_model\\TGAN7\\model\\model-3300.\n",
      "\u001b[32m[0316 15:38:45 @monitor.py:467]\u001b[0m GAN_loss/discrim/accuracy_fake: 0.884\n",
      "\u001b[32m[0316 15:38:45 @monitor.py:467]\u001b[0m GAN_loss/discrim/accuracy_real: 0.648\n",
      "\u001b[32m[0316 15:38:45 @monitor.py:467]\u001b[0m GAN_loss/discrim/loss: 0.53028\n",
      "\u001b[32m[0316 15:38:45 @monitor.py:467]\u001b[0m GAN_loss/gen/final-g-loss: 1.4331\n",
      "\u001b[32m[0316 15:38:45 @monitor.py:467]\u001b[0m GAN_loss/gen/klloss: 0.063136\n",
      "\u001b[32m[0316 15:38:45 @monitor.py:467]\u001b[0m GAN_loss/gen/loss: 1.37\n",
      "\u001b[32m[0316 15:38:45 @monitor.py:467]\u001b[0m QueueInput/queue_size: 50\n",
      "\u001b[32m[0316 15:38:45 @base.py:275]\u001b[0m Start Epoch 56 ...\n"
     ]
    },
    {
     "name": "stderr",
     "output_type": "stream",
     "text": [
      "\n",
      "  0%|                                                                                              |0/60[00:00<?,?it/s]\u001b[A\n",
      " 10%|########6                                                                             |6/60[00:00<00:05,10.39it/s]\u001b[A\n",
      " 20%|#################                                                                    |12/60[00:01<00:04,11.26it/s]\u001b[A\n",
      " 30%|#########################5                                                           |18/60[00:01<00:03,11.64it/s]\u001b[A\n",
      " 40%|##################################                                                   |24/60[00:02<00:03,11.65it/s]\u001b[A\n",
      " 50%|##########################################5                                          |30/60[00:02<00:02,11.68it/s]\u001b[A\n",
      " 60%|###################################################                                  |36/60[00:03<00:02,11.64it/s]\u001b[A\n",
      " 70%|###########################################################4                         |42/60[00:03<00:01,11.65it/s]\u001b[A\n",
      " 80%|####################################################################                 |48/60[00:04<00:01,11.59it/s]\u001b[A\n",
      " 90%|############################################################################5        |54/60[00:04<00:00,11.43it/s]\u001b[A\n",
      "100%|#####################################################################################|60/60[00:05<00:00,11.34it/s]\u001b[A"
     ]
    },
    {
     "name": "stdout",
     "output_type": "stream",
     "text": [
      "\u001b[32m[0316 15:38:50 @base.py:285]\u001b[0m Epoch 56 (global_step 3360) finished, time:5.29 seconds.\n"
     ]
    },
    {
     "name": "stderr",
     "output_type": "stream",
     "text": [
      "\n"
     ]
    },
    {
     "name": "stdout",
     "output_type": "stream",
     "text": [
      "\u001b[32m[0316 15:38:51 @saver.py:79]\u001b[0m Model saved to S:/arneir/Master-thesis-storage/models\\temp_model\\TGAN7\\model\\model-3360.\n",
      "\u001b[32m[0316 15:38:52 @monitor.py:467]\u001b[0m GAN_loss/discrim/accuracy_fake: 0.872\n",
      "\u001b[32m[0316 15:38:52 @monitor.py:467]\u001b[0m GAN_loss/discrim/accuracy_real: 0.628\n",
      "\u001b[32m[0316 15:38:52 @monitor.py:467]\u001b[0m GAN_loss/discrim/loss: 0.52256\n",
      "\u001b[32m[0316 15:38:52 @monitor.py:467]\u001b[0m GAN_loss/gen/final-g-loss: 1.5107\n",
      "\u001b[32m[0316 15:38:52 @monitor.py:467]\u001b[0m GAN_loss/gen/klloss: 0.05143\n",
      "\u001b[32m[0316 15:38:52 @monitor.py:467]\u001b[0m GAN_loss/gen/loss: 1.4592\n",
      "\u001b[32m[0316 15:38:52 @monitor.py:467]\u001b[0m QueueInput/queue_size: 50\n",
      "\u001b[32m[0316 15:38:52 @base.py:275]\u001b[0m Start Epoch 57 ...\n"
     ]
    },
    {
     "name": "stderr",
     "output_type": "stream",
     "text": [
      "\n",
      "  0%|                                                                                              |0/60[00:00<?,?it/s]\u001b[A\n",
      "  8%|#######1                                                                              |5/60[00:00<00:05, 9.46it/s]\u001b[A\n",
      " 18%|###############5                                                                     |11/60[00:01<00:04,10.94it/s]\u001b[A\n",
      " 28%|########################                                                             |17/60[00:01<00:03,11.48it/s]\u001b[A\n",
      " 38%|################################5                                                    |23/60[00:02<00:03,11.68it/s]\u001b[A\n",
      " 48%|#########################################                                            |29/60[00:02<00:02,11.67it/s]\u001b[A\n",
      " 58%|#################################################5                                   |35/60[00:03<00:02,11.65it/s]\u001b[A\n",
      " 68%|##########################################################                           |41/60[00:03<00:01,11.67it/s]\u001b[A\n",
      " 78%|##################################################################5                  |47/60[00:04<00:01,11.61it/s]\u001b[A\n",
      " 88%|###########################################################################          |53/60[00:04<00:00,11.58it/s]\u001b[A\n",
      "100%|#####################################################################################|60/60[00:05<00:00,11.30it/s]\u001b[A"
     ]
    },
    {
     "name": "stdout",
     "output_type": "stream",
     "text": [
      "\u001b[32m[0316 15:38:57 @base.py:285]\u001b[0m Epoch 57 (global_step 3420) finished, time:5.31 seconds.\n"
     ]
    },
    {
     "name": "stderr",
     "output_type": "stream",
     "text": [
      "\n"
     ]
    },
    {
     "name": "stdout",
     "output_type": "stream",
     "text": [
      "\u001b[32m[0316 15:38:58 @saver.py:79]\u001b[0m Model saved to S:/arneir/Master-thesis-storage/models\\temp_model\\TGAN7\\model\\model-3420.\n",
      "\u001b[32m[0316 15:38:58 @monitor.py:467]\u001b[0m GAN_loss/discrim/accuracy_fake: 0.916\n",
      "\u001b[32m[0316 15:38:58 @monitor.py:467]\u001b[0m GAN_loss/discrim/accuracy_real: 0.676\n",
      "\u001b[32m[0316 15:38:58 @monitor.py:467]\u001b[0m GAN_loss/discrim/loss: 0.47902\n",
      "\u001b[32m[0316 15:38:58 @monitor.py:467]\u001b[0m GAN_loss/gen/final-g-loss: 1.5894\n",
      "\u001b[32m[0316 15:38:58 @monitor.py:467]\u001b[0m GAN_loss/gen/klloss: 0.0511\n",
      "\u001b[32m[0316 15:38:58 @monitor.py:467]\u001b[0m GAN_loss/gen/loss: 1.5383\n",
      "\u001b[32m[0316 15:38:58 @monitor.py:467]\u001b[0m QueueInput/queue_size: 50\n",
      "\u001b[32m[0316 15:38:58 @base.py:275]\u001b[0m Start Epoch 58 ...\n"
     ]
    },
    {
     "name": "stderr",
     "output_type": "stream",
     "text": [
      "\n",
      "  0%|                                                                                              |0/60[00:00<?,?it/s]\u001b[A\n",
      " 10%|########6                                                                             |6/60[00:00<00:05,10.28it/s]\u001b[A\n",
      " 20%|#################                                                                    |12/60[00:01<00:04,11.27it/s]\u001b[A\n",
      " 30%|#########################5                                                           |18/60[00:01<00:03,11.62it/s]\u001b[A\n",
      " 40%|##################################                                                   |24/60[00:02<00:03,11.71it/s]\u001b[A\n",
      " 50%|##########################################5                                          |30/60[00:02<00:02,11.64it/s]\u001b[A\n",
      " 60%|###################################################                                  |36/60[00:03<00:02,11.67it/s]\u001b[A\n",
      " 70%|###########################################################4                         |42/60[00:03<00:01,11.57it/s]\u001b[A\n",
      " 80%|####################################################################                 |48/60[00:04<00:01,11.63it/s]\u001b[A\n",
      " 90%|############################################################################5        |54/60[00:04<00:00,11.51it/s]\u001b[A\n",
      "100%|#####################################################################################|60/60[00:05<00:00,11.21it/s]\u001b[A"
     ]
    },
    {
     "name": "stdout",
     "output_type": "stream",
     "text": [
      "\u001b[32m[0316 15:39:04 @base.py:285]\u001b[0m Epoch 58 (global_step 3480) finished, time:5.35 seconds.\n"
     ]
    },
    {
     "name": "stderr",
     "output_type": "stream",
     "text": [
      "\n"
     ]
    },
    {
     "name": "stdout",
     "output_type": "stream",
     "text": [
      "\u001b[32m[0316 15:39:05 @saver.py:79]\u001b[0m Model saved to S:/arneir/Master-thesis-storage/models\\temp_model\\TGAN7\\model\\model-3480.\n",
      "\u001b[32m[0316 15:39:05 @monitor.py:467]\u001b[0m GAN_loss/discrim/accuracy_fake: 0.832\n",
      "\u001b[32m[0316 15:39:05 @monitor.py:467]\u001b[0m GAN_loss/discrim/accuracy_real: 0.58\n",
      "\u001b[32m[0316 15:39:05 @monitor.py:467]\u001b[0m GAN_loss/discrim/loss: 0.54918\n",
      "\u001b[32m[0316 15:39:05 @monitor.py:467]\u001b[0m GAN_loss/gen/final-g-loss: 1.3728\n",
      "\u001b[32m[0316 15:39:05 @monitor.py:467]\u001b[0m GAN_loss/gen/klloss: 0.072681\n",
      "\u001b[32m[0316 15:39:05 @monitor.py:467]\u001b[0m GAN_loss/gen/loss: 1.3001\n",
      "\u001b[32m[0316 15:39:05 @monitor.py:467]\u001b[0m QueueInput/queue_size: 50\n",
      "\u001b[32m[0316 15:39:05 @base.py:275]\u001b[0m Start Epoch 59 ...\n"
     ]
    },
    {
     "name": "stderr",
     "output_type": "stream",
     "text": [
      "\n",
      "  0%|                                                                                              |0/60[00:00<?,?it/s]\u001b[A\n",
      "  7%|#####7                                                                                |4/60[00:00<00:07, 7.81it/s]\u001b[A\n",
      " 17%|##############1                                                                      |10/60[00:01<00:04,10.43it/s]\u001b[A\n",
      " 27%|######################6                                                              |16/60[00:01<00:03,11.22it/s]\u001b[A\n",
      " 37%|###############################1                                                     |22/60[00:02<00:03,11.56it/s]\u001b[A\n",
      " 47%|#######################################6                                             |28/60[00:02<00:02,11.76it/s]\u001b[A\n",
      " 57%|################################################1                                    |34/60[00:03<00:02,11.68it/s]\u001b[A\n",
      " 67%|########################################################6                            |40/60[00:03<00:01,11.64it/s]\u001b[A\n",
      " 77%|#################################################################1                   |46/60[00:04<00:01,11.62it/s]\u001b[A\n",
      " 87%|#########################################################################6           |52/60[00:04<00:00,11.61it/s]\u001b[A\n",
      "100%|#####################################################################################|60/60[00:05<00:00,11.16it/s]\u001b[A"
     ]
    },
    {
     "name": "stdout",
     "output_type": "stream",
     "text": [
      "\u001b[32m[0316 15:39:11 @base.py:285]\u001b[0m Epoch 59 (global_step 3540) finished, time:5.38 seconds.\n"
     ]
    },
    {
     "name": "stderr",
     "output_type": "stream",
     "text": [
      "\n"
     ]
    },
    {
     "name": "stdout",
     "output_type": "stream",
     "text": [
      "\u001b[32m[0316 15:39:12 @saver.py:79]\u001b[0m Model saved to S:/arneir/Master-thesis-storage/models\\temp_model\\TGAN7\\model\\model-3540.\n",
      "\u001b[32m[0316 15:39:12 @monitor.py:467]\u001b[0m GAN_loss/discrim/accuracy_fake: 0.774\n",
      "\u001b[32m[0316 15:39:12 @monitor.py:467]\u001b[0m GAN_loss/discrim/accuracy_real: 0.696\n",
      "\u001b[32m[0316 15:39:12 @monitor.py:467]\u001b[0m GAN_loss/discrim/loss: 0.54056\n",
      "\u001b[32m[0316 15:39:12 @monitor.py:467]\u001b[0m GAN_loss/gen/final-g-loss: 1.3559\n",
      "\u001b[32m[0316 15:39:12 @monitor.py:467]\u001b[0m GAN_loss/gen/klloss: 0.081\n",
      "\u001b[32m[0316 15:39:12 @monitor.py:467]\u001b[0m GAN_loss/gen/loss: 1.2749\n",
      "\u001b[32m[0316 15:39:12 @monitor.py:467]\u001b[0m QueueInput/queue_size: 50\n",
      "\u001b[32m[0316 15:39:12 @base.py:275]\u001b[0m Start Epoch 60 ...\n"
     ]
    },
    {
     "name": "stderr",
     "output_type": "stream",
     "text": [
      "\n",
      "  0%|                                                                                              |0/60[00:00<?,?it/s]\u001b[A\n",
      "  7%|#####7                                                                                |4/60[00:00<00:07, 7.64it/s]\u001b[A\n",
      " 17%|##############1                                                                      |10/60[00:01<00:04,10.34it/s]\u001b[A\n",
      " 27%|######################6                                                              |16/60[00:01<00:03,11.13it/s]\u001b[A\n",
      " 37%|###############################1                                                     |22/60[00:02<00:03,11.54it/s]\u001b[A\n",
      " 47%|#######################################6                                             |28/60[00:02<00:02,11.69it/s]\u001b[A\n",
      " 57%|################################################1                                    |34/60[00:03<00:02,11.72it/s]\u001b[A\n",
      " 67%|########################################################6                            |40/60[00:03<00:01,11.72it/s]\u001b[A\n",
      " 77%|#################################################################1                   |46/60[00:04<00:01,11.61it/s]\u001b[A\n",
      " 87%|#########################################################################6           |52/60[00:04<00:00,11.66it/s]\u001b[A\n",
      "100%|#####################################################################################|60/60[00:05<00:00,11.19it/s]\u001b[A"
     ]
    },
    {
     "name": "stdout",
     "output_type": "stream",
     "text": [
      "\u001b[32m[0316 15:39:18 @base.py:285]\u001b[0m Epoch 60 (global_step 3600) finished, time:5.36 seconds.\n"
     ]
    },
    {
     "name": "stderr",
     "output_type": "stream",
     "text": [
      "\n"
     ]
    },
    {
     "name": "stdout",
     "output_type": "stream",
     "text": [
      "\u001b[32m[0316 15:39:19 @saver.py:79]\u001b[0m Model saved to S:/arneir/Master-thesis-storage/models\\temp_model\\TGAN7\\model\\model-3600.\n",
      "\u001b[32m[0316 15:39:19 @monitor.py:467]\u001b[0m GAN_loss/discrim/accuracy_fake: 0.876\n",
      "\u001b[32m[0316 15:39:19 @monitor.py:467]\u001b[0m GAN_loss/discrim/accuracy_real: 0.434\n",
      "\u001b[32m[0316 15:39:19 @monitor.py:467]\u001b[0m GAN_loss/discrim/loss: 0.58545\n",
      "\u001b[32m[0316 15:39:19 @monitor.py:467]\u001b[0m GAN_loss/gen/final-g-loss: 1.4521\n",
      "\u001b[32m[0316 15:39:19 @monitor.py:467]\u001b[0m GAN_loss/gen/klloss: 0.050054\n",
      "\u001b[32m[0316 15:39:19 @monitor.py:467]\u001b[0m GAN_loss/gen/loss: 1.4021\n",
      "\u001b[32m[0316 15:39:19 @monitor.py:467]\u001b[0m QueueInput/queue_size: 50\n",
      "\u001b[32m[0316 15:39:19 @base.py:275]\u001b[0m Start Epoch 61 ...\n"
     ]
    },
    {
     "name": "stderr",
     "output_type": "stream",
     "text": [
      "\n",
      "  0%|                                                                                              |0/60[00:00<?,?it/s]\u001b[A\n",
      " 10%|########6                                                                             |6/60[00:00<00:05,10.35it/s]\u001b[A\n",
      " 20%|#################                                                                    |12/60[00:01<00:04,11.30it/s]\u001b[A\n",
      " 30%|#########################5                                                           |18/60[00:01<00:03,11.49it/s]\u001b[A"
     ]
    }
   ],
   "source": [
    "from tqdm.auto import tqdm\n",
    "from IPython.display import clear_output\n",
    "n_synthetic_datasets = 10\n",
    "n_synthetic_datasets_existing=0\n",
    "\n",
    "dataset_dir_tgan = os.path.join(const.dir.data_gen(), \"TGAN2\") \n",
    "model_temp_dir = os.path.join(const.dir.models(), \"temp_model\")\n",
    "if os.path.exists(model_temp_dir):\n",
    "    shutil.rmtree(model_temp_dir)\n",
    "os.makedirs(dataset_dir_tgan, exist_ok = True)\n",
    "for i in tqdm(range(n_synthetic_datasets_existing, n_synthetic_datasets), desc = \"Generated datasets\", disable = False):\n",
    "    tf.reset_default_graph()\n",
    "    model_temp_dir_i = os.path.join(model_temp_dir, f\"TGAN{i}\")\n",
    "    tgan = TGANModel(columns_num, output = model_temp_dir_i,\n",
    "                     gpu=\"0\",\n",
    "                     max_epoch = 100, steps_per_epoch = data_train.shape[0] / batch_size, batch_size=batch_size,\n",
    "                     num_dis_hidden = 256, #num_dis_layers=1, z_dim=128,\n",
    "                    restore_session = False, save_checkpoints = True)\n",
    "    tgan.fit(data_train.reset_index(drop=True))\n",
    "    fake_train = tgan.sample(ceil(data_train.shape[0] / batch_size) * batch_size).head(data_train.shape[0])\n",
    "    fake_train.to_csv(os.path.join(dataset_dir_tgan, f\"gen{i}.csv\"))\n",
    "    del tgan\n",
    "    clear_output(wait=True)"
   ]
  },
  {
   "cell_type": "code",
   "execution_count": null,
   "id": "8bf88f33",
   "metadata": {},
   "outputs": [],
   "source": [
    "?TGANModel"
   ]
  },
  {
   "cell_type": "code",
   "execution_count": null,
   "id": "822bec8a",
   "metadata": {},
   "outputs": [],
   "source": [
    "dat = pd.read_csv(os.path.join(dataset_dir_tgan, \"gen8.csv\"))\n",
    "print(dat.shape)\n",
    "dat"
   ]
  },
  {
   "cell_type": "code",
   "execution_count": null,
   "id": "7d9653e0",
   "metadata": {},
   "outputs": [],
   "source": []
  }
 ],
 "metadata": {
  "kernelspec": {
   "display_name": "tfv1_gpu",
   "language": "python",
   "name": "tfv1_gpu"
  },
  "language_info": {
   "codemirror_mode": {
    "name": "ipython",
    "version": 3
   },
   "file_extension": ".py",
   "mimetype": "text/x-python",
   "name": "python",
   "nbconvert_exporter": "python",
   "pygments_lexer": "ipython3",
   "version": "3.6.13"
  }
 },
 "nbformat": 4,
 "nbformat_minor": 5
}
