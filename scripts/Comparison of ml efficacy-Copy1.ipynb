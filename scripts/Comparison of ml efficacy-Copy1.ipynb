{
 "cells": [
  {
   "cell_type": "code",
   "execution_count": 38,
   "id": "75facecb",
   "metadata": {},
   "outputs": [
    {
     "name": "stdout",
     "output_type": "stream",
     "text": [
      "The autoreload extension is already loaded. To reload it, use:\n",
      "  %reload_ext autoreload\n"
     ]
    }
   ],
   "source": [
    "import pathlib\n",
    "import os\n",
    "if not \"changed_working_directory\" in locals():\n",
    "    changed_working_directory = True\n",
    "    os.chdir(pathlib.Path().resolve().parent)\n",
    "    \n",
    "%load_ext autoreload\n",
    "%autoreload 2\n",
    "\n",
    "from tabGAN import TabGAN\n",
    "from src import constants as const\n",
    "import helpers\n",
    "from v2_hp_tuning import fetch_hp_info\n",
    "\n",
    "imports_path = \"src//imports.ipynb\"\n",
    "\n",
    "%run \"$imports_path\"\n",
    "\n",
    "if const.dir.project() != os.getcwd():\n",
    "    raise ValueError(\"Project directory not the same as in consts\")"
   ]
  },
  {
   "cell_type": "raw",
   "id": "f2513f81",
   "metadata": {},
   "source": [
    "comparison_output = helpers.comparison.eval_ml_efficacy([\"CopulaGAN\"],\n",
    "                                                        datasets=[\"covtype_edited\", \"creditcard_edited\", \"news_edited\"],\n",
    "                                    n_synthetic_datasets=10,\n",
    "                                   metric_evals=[\"Mean\", \"Median\", \"Percentile10\", \"Percentile90\"],\n",
    "                                                       allow_fewer_synthetic_datasets=True)"
   ]
  },
  {
   "cell_type": "code",
   "execution_count": 28,
   "id": "9f25e6fc",
   "metadata": {},
   "outputs": [
    {
     "data": {
      "application/vnd.jupyter.widget-view+json": {
       "model_id": "0974e23032964729991698c5dac2f0a4",
       "version_major": 2,
       "version_minor": 0
      },
      "text/plain": [
       "Dataset tasks:   0%|          | 0/1 [00:00<?, ?it/s]"
      ]
     },
     "metadata": {},
     "output_type": "display_data"
    },
    {
     "data": {
      "application/vnd.jupyter.widget-view+json": {
       "model_id": "",
       "version_major": 2,
       "version_minor": 0
      },
      "text/plain": [
       "Synthetic datasets:   0%|          | 0/25 [00:00<?, ?it/s]"
      ]
     },
     "metadata": {},
     "output_type": "display_data"
    },
    {
     "data": {
      "application/vnd.jupyter.widget-view+json": {
       "model_id": "",
       "version_major": 2,
       "version_minor": 0
      },
      "text/plain": [
       "Models:   0%|          | 0/7 [00:00<?, ?it/s]"
      ]
     },
     "metadata": {},
     "output_type": "display_data"
    },
    {
     "data": {
      "application/vnd.jupyter.widget-view+json": {
       "model_id": "",
       "version_major": 2,
       "version_minor": 0
      },
      "text/plain": [
       "Models:   0%|          | 0/7 [00:00<?, ?it/s]"
      ]
     },
     "metadata": {},
     "output_type": "display_data"
    },
    {
     "data": {
      "application/vnd.jupyter.widget-view+json": {
       "model_id": "",
       "version_major": 2,
       "version_minor": 0
      },
      "text/plain": [
       "Models:   0%|          | 0/7 [00:00<?, ?it/s]"
      ]
     },
     "metadata": {},
     "output_type": "display_data"
    },
    {
     "data": {
      "application/vnd.jupyter.widget-view+json": {
       "model_id": "",
       "version_major": 2,
       "version_minor": 0
      },
      "text/plain": [
       "Models:   0%|          | 0/7 [00:00<?, ?it/s]"
      ]
     },
     "metadata": {},
     "output_type": "display_data"
    },
    {
     "data": {
      "application/vnd.jupyter.widget-view+json": {
       "model_id": "",
       "version_major": 2,
       "version_minor": 0
      },
      "text/plain": [
       "Models:   0%|          | 0/7 [00:00<?, ?it/s]"
      ]
     },
     "metadata": {},
     "output_type": "display_data"
    },
    {
     "data": {
      "application/vnd.jupyter.widget-view+json": {
       "model_id": "",
       "version_major": 2,
       "version_minor": 0
      },
      "text/plain": [
       "Models:   0%|          | 0/7 [00:00<?, ?it/s]"
      ]
     },
     "metadata": {},
     "output_type": "display_data"
    },
    {
     "data": {
      "application/vnd.jupyter.widget-view+json": {
       "model_id": "",
       "version_major": 2,
       "version_minor": 0
      },
      "text/plain": [
       "Models:   0%|          | 0/7 [00:00<?, ?it/s]"
      ]
     },
     "metadata": {},
     "output_type": "display_data"
    },
    {
     "data": {
      "application/vnd.jupyter.widget-view+json": {
       "model_id": "",
       "version_major": 2,
       "version_minor": 0
      },
      "text/plain": [
       "Models:   0%|          | 0/7 [00:00<?, ?it/s]"
      ]
     },
     "metadata": {},
     "output_type": "display_data"
    },
    {
     "data": {
      "application/vnd.jupyter.widget-view+json": {
       "model_id": "",
       "version_major": 2,
       "version_minor": 0
      },
      "text/plain": [
       "Models:   0%|          | 0/7 [00:00<?, ?it/s]"
      ]
     },
     "metadata": {},
     "output_type": "display_data"
    },
    {
     "data": {
      "application/vnd.jupyter.widget-view+json": {
       "model_id": "",
       "version_major": 2,
       "version_minor": 0
      },
      "text/plain": [
       "Models:   0%|          | 0/7 [00:00<?, ?it/s]"
      ]
     },
     "metadata": {},
     "output_type": "display_data"
    },
    {
     "data": {
      "application/vnd.jupyter.widget-view+json": {
       "model_id": "",
       "version_major": 2,
       "version_minor": 0
      },
      "text/plain": [
       "Models:   0%|          | 0/7 [00:00<?, ?it/s]"
      ]
     },
     "metadata": {},
     "output_type": "display_data"
    },
    {
     "data": {
      "application/vnd.jupyter.widget-view+json": {
       "model_id": "",
       "version_major": 2,
       "version_minor": 0
      },
      "text/plain": [
       "Models:   0%|          | 0/7 [00:00<?, ?it/s]"
      ]
     },
     "metadata": {},
     "output_type": "display_data"
    },
    {
     "data": {
      "application/vnd.jupyter.widget-view+json": {
       "model_id": "",
       "version_major": 2,
       "version_minor": 0
      },
      "text/plain": [
       "Models:   0%|          | 0/7 [00:00<?, ?it/s]"
      ]
     },
     "metadata": {},
     "output_type": "display_data"
    },
    {
     "data": {
      "application/vnd.jupyter.widget-view+json": {
       "model_id": "",
       "version_major": 2,
       "version_minor": 0
      },
      "text/plain": [
       "Models:   0%|          | 0/7 [00:00<?, ?it/s]"
      ]
     },
     "metadata": {},
     "output_type": "display_data"
    },
    {
     "data": {
      "application/vnd.jupyter.widget-view+json": {
       "model_id": "",
       "version_major": 2,
       "version_minor": 0
      },
      "text/plain": [
       "Models:   0%|          | 0/7 [00:00<?, ?it/s]"
      ]
     },
     "metadata": {},
     "output_type": "display_data"
    },
    {
     "data": {
      "application/vnd.jupyter.widget-view+json": {
       "model_id": "",
       "version_major": 2,
       "version_minor": 0
      },
      "text/plain": [
       "Models:   0%|          | 0/7 [00:00<?, ?it/s]"
      ]
     },
     "metadata": {},
     "output_type": "display_data"
    },
    {
     "data": {
      "application/vnd.jupyter.widget-view+json": {
       "model_id": "",
       "version_major": 2,
       "version_minor": 0
      },
      "text/plain": [
       "Models:   0%|          | 0/7 [00:00<?, ?it/s]"
      ]
     },
     "metadata": {},
     "output_type": "display_data"
    },
    {
     "data": {
      "application/vnd.jupyter.widget-view+json": {
       "model_id": "",
       "version_major": 2,
       "version_minor": 0
      },
      "text/plain": [
       "Models:   0%|          | 0/7 [00:00<?, ?it/s]"
      ]
     },
     "metadata": {},
     "output_type": "display_data"
    },
    {
     "data": {
      "application/vnd.jupyter.widget-view+json": {
       "model_id": "",
       "version_major": 2,
       "version_minor": 0
      },
      "text/plain": [
       "Models:   0%|          | 0/7 [00:00<?, ?it/s]"
      ]
     },
     "metadata": {},
     "output_type": "display_data"
    },
    {
     "data": {
      "application/vnd.jupyter.widget-view+json": {
       "model_id": "",
       "version_major": 2,
       "version_minor": 0
      },
      "text/plain": [
       "Models:   0%|          | 0/7 [00:00<?, ?it/s]"
      ]
     },
     "metadata": {},
     "output_type": "display_data"
    },
    {
     "data": {
      "application/vnd.jupyter.widget-view+json": {
       "model_id": "",
       "version_major": 2,
       "version_minor": 0
      },
      "text/plain": [
       "Models:   0%|          | 0/7 [00:00<?, ?it/s]"
      ]
     },
     "metadata": {},
     "output_type": "display_data"
    },
    {
     "data": {
      "application/vnd.jupyter.widget-view+json": {
       "model_id": "",
       "version_major": 2,
       "version_minor": 0
      },
      "text/plain": [
       "Models:   0%|          | 0/7 [00:00<?, ?it/s]"
      ]
     },
     "metadata": {},
     "output_type": "display_data"
    },
    {
     "data": {
      "application/vnd.jupyter.widget-view+json": {
       "model_id": "",
       "version_major": 2,
       "version_minor": 0
      },
      "text/plain": [
       "Models:   0%|          | 0/7 [00:00<?, ?it/s]"
      ]
     },
     "metadata": {},
     "output_type": "display_data"
    },
    {
     "data": {
      "application/vnd.jupyter.widget-view+json": {
       "model_id": "",
       "version_major": 2,
       "version_minor": 0
      },
      "text/plain": [
       "Models:   0%|          | 0/7 [00:00<?, ?it/s]"
      ]
     },
     "metadata": {},
     "output_type": "display_data"
    },
    {
     "data": {
      "application/vnd.jupyter.widget-view+json": {
       "model_id": "",
       "version_major": 2,
       "version_minor": 0
      },
      "text/plain": [
       "Models:   0%|          | 0/7 [00:00<?, ?it/s]"
      ]
     },
     "metadata": {},
     "output_type": "display_data"
    }
   ],
   "source": [
    "comparison_output_adult = helpers.comparison.eval_ml_efficacy([\"tabGAN\", \"tabGAN-qt\", \"tabGAN-qtr\",\n",
    "                                                               \"ctabGAN\", \"ctabGAN-qt\", \"ctabGAN-qtr\"],\n",
    "                                                        datasets=[\"adult_edited\"],\n",
    "                                                        n_synthetic_datasets=25,\n",
    "                                                        metric_evals=[\"Mean\", \"Median\", \"Percentile5\", \"Percentile95\"],\n",
    "                                                        allow_fewer_synthetic_datasets=True)"
   ]
  },
  {
   "cell_type": "code",
   "execution_count": 30,
   "id": "12576b52",
   "metadata": {},
   "outputs": [
    {
     "data": {
      "text/html": [
       "<div>\n",
       "<style scoped>\n",
       "    .dataframe tbody tr th:only-of-type {\n",
       "        vertical-align: middle;\n",
       "    }\n",
       "\n",
       "    .dataframe tbody tr th {\n",
       "        vertical-align: top;\n",
       "    }\n",
       "\n",
       "    .dataframe thead tr th {\n",
       "        text-align: left;\n",
       "    }\n",
       "</style>\n",
       "<table border=\"1\" class=\"dataframe\">\n",
       "  <thead>\n",
       "    <tr>\n",
       "      <th></th>\n",
       "      <th></th>\n",
       "      <th colspan=\"3\" halign=\"left\">Adult</th>\n",
       "    </tr>\n",
       "    <tr>\n",
       "      <th></th>\n",
       "      <th>Model</th>\n",
       "      <th>Test Accuracy</th>\n",
       "      <th>Test AUC</th>\n",
       "      <th>Test F1</th>\n",
       "    </tr>\n",
       "  </thead>\n",
       "  <tbody>\n",
       "    <tr>\n",
       "      <th>0</th>\n",
       "      <td>Train dataset</td>\n",
       "      <td>0.8653 (0.8653, 0.8653)</td>\n",
       "      <td>0.9229 (0.9229, 0.9229)</td>\n",
       "      <td>0.8087 (0.8087, 0.8087)</td>\n",
       "    </tr>\n",
       "    <tr>\n",
       "      <th>1</th>\n",
       "      <td>tabGAN</td>\n",
       "      <td>0.84 (0.8188, 0.8441)</td>\n",
       "      <td>0.8943 (0.8761, 0.8983)</td>\n",
       "      <td>0.7663 (0.738, 0.7816)</td>\n",
       "    </tr>\n",
       "    <tr>\n",
       "      <th>2</th>\n",
       "      <td>tabGAN-qt</td>\n",
       "      <td>0.8429 (0.8384, 0.8452)</td>\n",
       "      <td>0.8975 (0.893, 0.8988)</td>\n",
       "      <td>0.7774 (0.7702, 0.7825)</td>\n",
       "    </tr>\n",
       "    <tr>\n",
       "      <th>3</th>\n",
       "      <td>tabGAN-qtr</td>\n",
       "      <td>0.8432 (0.8407, 0.846)</td>\n",
       "      <td>0.8974 (0.895, 0.9)</td>\n",
       "      <td>0.7791 (0.7746, 0.7837)</td>\n",
       "    </tr>\n",
       "    <tr>\n",
       "      <th>4</th>\n",
       "      <td>ctabGAN</td>\n",
       "      <td>0.8297 (0.8142, 0.8387)</td>\n",
       "      <td>0.8835 (0.8696, 0.8926)</td>\n",
       "      <td>0.7544 (0.695, 0.7688)</td>\n",
       "    </tr>\n",
       "    <tr>\n",
       "      <th>5</th>\n",
       "      <td>ctabGAN-qt</td>\n",
       "      <td>0.838 (0.8325, 0.8409)</td>\n",
       "      <td>0.8896 (0.8859, 0.8921)</td>\n",
       "      <td>0.7676 (0.7633, 0.7729)</td>\n",
       "    </tr>\n",
       "    <tr>\n",
       "      <th>6</th>\n",
       "      <td>ctabGAN-qtr</td>\n",
       "      <td>0.8412 (0.8376, 0.8449)</td>\n",
       "      <td>0.8958 (0.8933, 0.8978)</td>\n",
       "      <td>0.7762 (0.7721, 0.7819)</td>\n",
       "    </tr>\n",
       "  </tbody>\n",
       "</table>\n",
       "</div>"
      ],
      "text/plain": [
       "                                    Adult                           \\\n",
       "           Model            Test Accuracy                 Test AUC   \n",
       "0  Train dataset  0.8653 (0.8653, 0.8653)  0.9229 (0.9229, 0.9229)   \n",
       "1         tabGAN    0.84 (0.8188, 0.8441)  0.8943 (0.8761, 0.8983)   \n",
       "2      tabGAN-qt  0.8429 (0.8384, 0.8452)   0.8975 (0.893, 0.8988)   \n",
       "3     tabGAN-qtr   0.8432 (0.8407, 0.846)      0.8974 (0.895, 0.9)   \n",
       "4        ctabGAN  0.8297 (0.8142, 0.8387)  0.8835 (0.8696, 0.8926)   \n",
       "5     ctabGAN-qt   0.838 (0.8325, 0.8409)  0.8896 (0.8859, 0.8921)   \n",
       "6    ctabGAN-qtr  0.8412 (0.8376, 0.8449)  0.8958 (0.8933, 0.8978)   \n",
       "\n",
       "                            \n",
       "                   Test F1  \n",
       "0  0.8087 (0.8087, 0.8087)  \n",
       "1   0.7663 (0.738, 0.7816)  \n",
       "2  0.7774 (0.7702, 0.7825)  \n",
       "3  0.7791 (0.7746, 0.7837)  \n",
       "4   0.7544 (0.695, 0.7688)  \n",
       "5  0.7676 (0.7633, 0.7729)  \n",
       "6  0.7762 (0.7721, 0.7819)  "
      ]
     },
     "execution_count": 30,
     "metadata": {},
     "output_type": "execute_result"
    }
   ],
   "source": [
    "comparison_output_adult_tidy = helpers.comparison.tidy_ml_efficacy_output(\n",
    "    comparison_output_adult, extract_median_and_percentile=True, round_decimals=4)\n",
    "comparison_output_adult_tidy"
   ]
  },
  {
   "cell_type": "raw",
   "id": "7f11fa35",
   "metadata": {},
   "source": [
    "comparison_output, df_count_nan = helpers.comparison.eval_ml_efficacy(\n",
    "    [],\n",
    "    datasets=[\"covtype_edited\"],\n",
    "    n_synthetic_datasets=20,\n",
    "    metric_evals=[\"Mean\", \"Median\", \"Percentile5\", \"Percentile95\"],\n",
    "    allow_fewer_synthetic_datasets=True,\n",
    "    ignore_nan=True,\n",
    "    ret_count_nan=True\n",
    ")"
   ]
  },
  {
   "cell_type": "code",
   "execution_count": 34,
   "id": "37bad95c",
   "metadata": {},
   "outputs": [
    {
     "data": {
      "application/vnd.jupyter.widget-view+json": {
       "model_id": "011b0f8098b043f8abf616cc6f2eacf0",
       "version_major": 2,
       "version_minor": 0
      },
      "text/plain": [
       "Dataset tasks:   0%|          | 0/3 [00:00<?, ?it/s]"
      ]
     },
     "metadata": {},
     "output_type": "display_data"
    },
    {
     "data": {
      "application/vnd.jupyter.widget-view+json": {
       "model_id": "",
       "version_major": 2,
       "version_minor": 0
      },
      "text/plain": [
       "Synthetic datasets:   0%|          | 0/20 [00:00<?, ?it/s]"
      ]
     },
     "metadata": {},
     "output_type": "display_data"
    },
    {
     "data": {
      "application/vnd.jupyter.widget-view+json": {
       "model_id": "",
       "version_major": 2,
       "version_minor": 0
      },
      "text/plain": [
       "Models:   0%|          | 0/7 [00:00<?, ?it/s]"
      ]
     },
     "metadata": {},
     "output_type": "display_data"
    },
    {
     "data": {
      "application/vnd.jupyter.widget-view+json": {
       "model_id": "",
       "version_major": 2,
       "version_minor": 0
      },
      "text/plain": [
       "Models:   0%|          | 0/7 [00:00<?, ?it/s]"
      ]
     },
     "metadata": {},
     "output_type": "display_data"
    },
    {
     "data": {
      "application/vnd.jupyter.widget-view+json": {
       "model_id": "",
       "version_major": 2,
       "version_minor": 0
      },
      "text/plain": [
       "Models:   0%|          | 0/7 [00:00<?, ?it/s]"
      ]
     },
     "metadata": {},
     "output_type": "display_data"
    },
    {
     "data": {
      "application/vnd.jupyter.widget-view+json": {
       "model_id": "",
       "version_major": 2,
       "version_minor": 0
      },
      "text/plain": [
       "Models:   0%|          | 0/7 [00:00<?, ?it/s]"
      ]
     },
     "metadata": {},
     "output_type": "display_data"
    },
    {
     "data": {
      "application/vnd.jupyter.widget-view+json": {
       "model_id": "",
       "version_major": 2,
       "version_minor": 0
      },
      "text/plain": [
       "Models:   0%|          | 0/7 [00:00<?, ?it/s]"
      ]
     },
     "metadata": {},
     "output_type": "display_data"
    },
    {
     "data": {
      "application/vnd.jupyter.widget-view+json": {
       "model_id": "",
       "version_major": 2,
       "version_minor": 0
      },
      "text/plain": [
       "Models:   0%|          | 0/7 [00:00<?, ?it/s]"
      ]
     },
     "metadata": {},
     "output_type": "display_data"
    },
    {
     "data": {
      "application/vnd.jupyter.widget-view+json": {
       "model_id": "",
       "version_major": 2,
       "version_minor": 0
      },
      "text/plain": [
       "Models:   0%|          | 0/7 [00:00<?, ?it/s]"
      ]
     },
     "metadata": {},
     "output_type": "display_data"
    },
    {
     "data": {
      "application/vnd.jupyter.widget-view+json": {
       "model_id": "",
       "version_major": 2,
       "version_minor": 0
      },
      "text/plain": [
       "Models:   0%|          | 0/7 [00:00<?, ?it/s]"
      ]
     },
     "metadata": {},
     "output_type": "display_data"
    },
    {
     "data": {
      "application/vnd.jupyter.widget-view+json": {
       "model_id": "",
       "version_major": 2,
       "version_minor": 0
      },
      "text/plain": [
       "Models:   0%|          | 0/7 [00:00<?, ?it/s]"
      ]
     },
     "metadata": {},
     "output_type": "display_data"
    },
    {
     "data": {
      "application/vnd.jupyter.widget-view+json": {
       "model_id": "",
       "version_major": 2,
       "version_minor": 0
      },
      "text/plain": [
       "Models:   0%|          | 0/7 [00:00<?, ?it/s]"
      ]
     },
     "metadata": {},
     "output_type": "display_data"
    },
    {
     "data": {
      "application/vnd.jupyter.widget-view+json": {
       "model_id": "",
       "version_major": 2,
       "version_minor": 0
      },
      "text/plain": [
       "Models:   0%|          | 0/7 [00:00<?, ?it/s]"
      ]
     },
     "metadata": {},
     "output_type": "display_data"
    },
    {
     "data": {
      "application/vnd.jupyter.widget-view+json": {
       "model_id": "",
       "version_major": 2,
       "version_minor": 0
      },
      "text/plain": [
       "Models:   0%|          | 0/7 [00:00<?, ?it/s]"
      ]
     },
     "metadata": {},
     "output_type": "display_data"
    },
    {
     "data": {
      "application/vnd.jupyter.widget-view+json": {
       "model_id": "",
       "version_major": 2,
       "version_minor": 0
      },
      "text/plain": [
       "Models:   0%|          | 0/7 [00:00<?, ?it/s]"
      ]
     },
     "metadata": {},
     "output_type": "display_data"
    },
    {
     "data": {
      "application/vnd.jupyter.widget-view+json": {
       "model_id": "",
       "version_major": 2,
       "version_minor": 0
      },
      "text/plain": [
       "Models:   0%|          | 0/7 [00:00<?, ?it/s]"
      ]
     },
     "metadata": {},
     "output_type": "display_data"
    },
    {
     "data": {
      "application/vnd.jupyter.widget-view+json": {
       "model_id": "",
       "version_major": 2,
       "version_minor": 0
      },
      "text/plain": [
       "Models:   0%|          | 0/7 [00:00<?, ?it/s]"
      ]
     },
     "metadata": {},
     "output_type": "display_data"
    },
    {
     "data": {
      "application/vnd.jupyter.widget-view+json": {
       "model_id": "",
       "version_major": 2,
       "version_minor": 0
      },
      "text/plain": [
       "Models:   0%|          | 0/7 [00:00<?, ?it/s]"
      ]
     },
     "metadata": {},
     "output_type": "display_data"
    },
    {
     "data": {
      "application/vnd.jupyter.widget-view+json": {
       "model_id": "",
       "version_major": 2,
       "version_minor": 0
      },
      "text/plain": [
       "Models:   0%|          | 0/7 [00:00<?, ?it/s]"
      ]
     },
     "metadata": {},
     "output_type": "display_data"
    },
    {
     "data": {
      "application/vnd.jupyter.widget-view+json": {
       "model_id": "",
       "version_major": 2,
       "version_minor": 0
      },
      "text/plain": [
       "Models:   0%|          | 0/7 [00:00<?, ?it/s]"
      ]
     },
     "metadata": {},
     "output_type": "display_data"
    },
    {
     "data": {
      "application/vnd.jupyter.widget-view+json": {
       "model_id": "",
       "version_major": 2,
       "version_minor": 0
      },
      "text/plain": [
       "Models:   0%|          | 0/7 [00:00<?, ?it/s]"
      ]
     },
     "metadata": {},
     "output_type": "display_data"
    },
    {
     "data": {
      "application/vnd.jupyter.widget-view+json": {
       "model_id": "",
       "version_major": 2,
       "version_minor": 0
      },
      "text/plain": [
       "Models:   0%|          | 0/7 [00:00<?, ?it/s]"
      ]
     },
     "metadata": {},
     "output_type": "display_data"
    },
    {
     "data": {
      "application/vnd.jupyter.widget-view+json": {
       "model_id": "",
       "version_major": 2,
       "version_minor": 0
      },
      "text/plain": [
       "Synthetic datasets:   0%|          | 0/20 [00:00<?, ?it/s]"
      ]
     },
     "metadata": {},
     "output_type": "display_data"
    },
    {
     "data": {
      "application/vnd.jupyter.widget-view+json": {
       "model_id": "",
       "version_major": 2,
       "version_minor": 0
      },
      "text/plain": [
       "Models:   0%|          | 0/7 [00:00<?, ?it/s]"
      ]
     },
     "metadata": {},
     "output_type": "display_data"
    },
    {
     "data": {
      "application/vnd.jupyter.widget-view+json": {
       "model_id": "",
       "version_major": 2,
       "version_minor": 0
      },
      "text/plain": [
       "Models:   0%|          | 0/7 [00:00<?, ?it/s]"
      ]
     },
     "metadata": {},
     "output_type": "display_data"
    },
    {
     "data": {
      "application/vnd.jupyter.widget-view+json": {
       "model_id": "",
       "version_major": 2,
       "version_minor": 0
      },
      "text/plain": [
       "Models:   0%|          | 0/7 [00:00<?, ?it/s]"
      ]
     },
     "metadata": {},
     "output_type": "display_data"
    },
    {
     "data": {
      "application/vnd.jupyter.widget-view+json": {
       "model_id": "",
       "version_major": 2,
       "version_minor": 0
      },
      "text/plain": [
       "Models:   0%|          | 0/7 [00:00<?, ?it/s]"
      ]
     },
     "metadata": {},
     "output_type": "display_data"
    },
    {
     "data": {
      "application/vnd.jupyter.widget-view+json": {
       "model_id": "",
       "version_major": 2,
       "version_minor": 0
      },
      "text/plain": [
       "Models:   0%|          | 0/7 [00:00<?, ?it/s]"
      ]
     },
     "metadata": {},
     "output_type": "display_data"
    },
    {
     "data": {
      "application/vnd.jupyter.widget-view+json": {
       "model_id": "",
       "version_major": 2,
       "version_minor": 0
      },
      "text/plain": [
       "Models:   0%|          | 0/7 [00:00<?, ?it/s]"
      ]
     },
     "metadata": {},
     "output_type": "display_data"
    },
    {
     "data": {
      "application/vnd.jupyter.widget-view+json": {
       "model_id": "",
       "version_major": 2,
       "version_minor": 0
      },
      "text/plain": [
       "Models:   0%|          | 0/7 [00:00<?, ?it/s]"
      ]
     },
     "metadata": {},
     "output_type": "display_data"
    },
    {
     "data": {
      "application/vnd.jupyter.widget-view+json": {
       "model_id": "",
       "version_major": 2,
       "version_minor": 0
      },
      "text/plain": [
       "Models:   0%|          | 0/7 [00:00<?, ?it/s]"
      ]
     },
     "metadata": {},
     "output_type": "display_data"
    },
    {
     "data": {
      "application/vnd.jupyter.widget-view+json": {
       "model_id": "",
       "version_major": 2,
       "version_minor": 0
      },
      "text/plain": [
       "Models:   0%|          | 0/7 [00:00<?, ?it/s]"
      ]
     },
     "metadata": {},
     "output_type": "display_data"
    },
    {
     "data": {
      "application/vnd.jupyter.widget-view+json": {
       "model_id": "",
       "version_major": 2,
       "version_minor": 0
      },
      "text/plain": [
       "Models:   0%|          | 0/7 [00:00<?, ?it/s]"
      ]
     },
     "metadata": {},
     "output_type": "display_data"
    },
    {
     "data": {
      "application/vnd.jupyter.widget-view+json": {
       "model_id": "",
       "version_major": 2,
       "version_minor": 0
      },
      "text/plain": [
       "Models:   0%|          | 0/7 [00:00<?, ?it/s]"
      ]
     },
     "metadata": {},
     "output_type": "display_data"
    },
    {
     "data": {
      "application/vnd.jupyter.widget-view+json": {
       "model_id": "",
       "version_major": 2,
       "version_minor": 0
      },
      "text/plain": [
       "Models:   0%|          | 0/7 [00:00<?, ?it/s]"
      ]
     },
     "metadata": {},
     "output_type": "display_data"
    },
    {
     "data": {
      "application/vnd.jupyter.widget-view+json": {
       "model_id": "",
       "version_major": 2,
       "version_minor": 0
      },
      "text/plain": [
       "Models:   0%|          | 0/7 [00:00<?, ?it/s]"
      ]
     },
     "metadata": {},
     "output_type": "display_data"
    },
    {
     "data": {
      "application/vnd.jupyter.widget-view+json": {
       "model_id": "",
       "version_major": 2,
       "version_minor": 0
      },
      "text/plain": [
       "Models:   0%|          | 0/7 [00:00<?, ?it/s]"
      ]
     },
     "metadata": {},
     "output_type": "display_data"
    },
    {
     "data": {
      "application/vnd.jupyter.widget-view+json": {
       "model_id": "",
       "version_major": 2,
       "version_minor": 0
      },
      "text/plain": [
       "Models:   0%|          | 0/7 [00:00<?, ?it/s]"
      ]
     },
     "metadata": {},
     "output_type": "display_data"
    },
    {
     "data": {
      "application/vnd.jupyter.widget-view+json": {
       "model_id": "",
       "version_major": 2,
       "version_minor": 0
      },
      "text/plain": [
       "Models:   0%|          | 0/7 [00:00<?, ?it/s]"
      ]
     },
     "metadata": {},
     "output_type": "display_data"
    },
    {
     "data": {
      "application/vnd.jupyter.widget-view+json": {
       "model_id": "",
       "version_major": 2,
       "version_minor": 0
      },
      "text/plain": [
       "Models:   0%|          | 0/7 [00:00<?, ?it/s]"
      ]
     },
     "metadata": {},
     "output_type": "display_data"
    },
    {
     "data": {
      "application/vnd.jupyter.widget-view+json": {
       "model_id": "",
       "version_major": 2,
       "version_minor": 0
      },
      "text/plain": [
       "Models:   0%|          | 0/7 [00:00<?, ?it/s]"
      ]
     },
     "metadata": {},
     "output_type": "display_data"
    },
    {
     "data": {
      "application/vnd.jupyter.widget-view+json": {
       "model_id": "",
       "version_major": 2,
       "version_minor": 0
      },
      "text/plain": [
       "Models:   0%|          | 0/7 [00:00<?, ?it/s]"
      ]
     },
     "metadata": {},
     "output_type": "display_data"
    },
    {
     "data": {
      "application/vnd.jupyter.widget-view+json": {
       "model_id": "",
       "version_major": 2,
       "version_minor": 0
      },
      "text/plain": [
       "Models:   0%|          | 0/7 [00:00<?, ?it/s]"
      ]
     },
     "metadata": {},
     "output_type": "display_data"
    },
    {
     "data": {
      "application/vnd.jupyter.widget-view+json": {
       "model_id": "",
       "version_major": 2,
       "version_minor": 0
      },
      "text/plain": [
       "Synthetic datasets:   0%|          | 0/25 [00:00<?, ?it/s]"
      ]
     },
     "metadata": {},
     "output_type": "display_data"
    },
    {
     "data": {
      "application/vnd.jupyter.widget-view+json": {
       "model_id": "",
       "version_major": 2,
       "version_minor": 0
      },
      "text/plain": [
       "Models:   0%|          | 0/7 [00:00<?, ?it/s]"
      ]
     },
     "metadata": {},
     "output_type": "display_data"
    },
    {
     "data": {
      "application/vnd.jupyter.widget-view+json": {
       "model_id": "",
       "version_major": 2,
       "version_minor": 0
      },
      "text/plain": [
       "Models:   0%|          | 0/7 [00:00<?, ?it/s]"
      ]
     },
     "metadata": {},
     "output_type": "display_data"
    },
    {
     "data": {
      "application/vnd.jupyter.widget-view+json": {
       "model_id": "",
       "version_major": 2,
       "version_minor": 0
      },
      "text/plain": [
       "Models:   0%|          | 0/7 [00:00<?, ?it/s]"
      ]
     },
     "metadata": {},
     "output_type": "display_data"
    },
    {
     "data": {
      "application/vnd.jupyter.widget-view+json": {
       "model_id": "",
       "version_major": 2,
       "version_minor": 0
      },
      "text/plain": [
       "Models:   0%|          | 0/7 [00:00<?, ?it/s]"
      ]
     },
     "metadata": {},
     "output_type": "display_data"
    },
    {
     "data": {
      "application/vnd.jupyter.widget-view+json": {
       "model_id": "",
       "version_major": 2,
       "version_minor": 0
      },
      "text/plain": [
       "Models:   0%|          | 0/7 [00:00<?, ?it/s]"
      ]
     },
     "metadata": {},
     "output_type": "display_data"
    },
    {
     "data": {
      "application/vnd.jupyter.widget-view+json": {
       "model_id": "",
       "version_major": 2,
       "version_minor": 0
      },
      "text/plain": [
       "Models:   0%|          | 0/7 [00:00<?, ?it/s]"
      ]
     },
     "metadata": {},
     "output_type": "display_data"
    },
    {
     "data": {
      "application/vnd.jupyter.widget-view+json": {
       "model_id": "",
       "version_major": 2,
       "version_minor": 0
      },
      "text/plain": [
       "Models:   0%|          | 0/7 [00:00<?, ?it/s]"
      ]
     },
     "metadata": {},
     "output_type": "display_data"
    },
    {
     "data": {
      "application/vnd.jupyter.widget-view+json": {
       "model_id": "",
       "version_major": 2,
       "version_minor": 0
      },
      "text/plain": [
       "Models:   0%|          | 0/7 [00:00<?, ?it/s]"
      ]
     },
     "metadata": {},
     "output_type": "display_data"
    },
    {
     "data": {
      "application/vnd.jupyter.widget-view+json": {
       "model_id": "",
       "version_major": 2,
       "version_minor": 0
      },
      "text/plain": [
       "Models:   0%|          | 0/7 [00:00<?, ?it/s]"
      ]
     },
     "metadata": {},
     "output_type": "display_data"
    },
    {
     "data": {
      "application/vnd.jupyter.widget-view+json": {
       "model_id": "",
       "version_major": 2,
       "version_minor": 0
      },
      "text/plain": [
       "Models:   0%|          | 0/7 [00:00<?, ?it/s]"
      ]
     },
     "metadata": {},
     "output_type": "display_data"
    },
    {
     "data": {
      "application/vnd.jupyter.widget-view+json": {
       "model_id": "",
       "version_major": 2,
       "version_minor": 0
      },
      "text/plain": [
       "Models:   0%|          | 0/7 [00:00<?, ?it/s]"
      ]
     },
     "metadata": {},
     "output_type": "display_data"
    },
    {
     "data": {
      "application/vnd.jupyter.widget-view+json": {
       "model_id": "",
       "version_major": 2,
       "version_minor": 0
      },
      "text/plain": [
       "Models:   0%|          | 0/7 [00:00<?, ?it/s]"
      ]
     },
     "metadata": {},
     "output_type": "display_data"
    },
    {
     "data": {
      "application/vnd.jupyter.widget-view+json": {
       "model_id": "",
       "version_major": 2,
       "version_minor": 0
      },
      "text/plain": [
       "Models:   0%|          | 0/7 [00:00<?, ?it/s]"
      ]
     },
     "metadata": {},
     "output_type": "display_data"
    },
    {
     "data": {
      "application/vnd.jupyter.widget-view+json": {
       "model_id": "",
       "version_major": 2,
       "version_minor": 0
      },
      "text/plain": [
       "Models:   0%|          | 0/7 [00:00<?, ?it/s]"
      ]
     },
     "metadata": {},
     "output_type": "display_data"
    },
    {
     "data": {
      "application/vnd.jupyter.widget-view+json": {
       "model_id": "",
       "version_major": 2,
       "version_minor": 0
      },
      "text/plain": [
       "Models:   0%|          | 0/7 [00:00<?, ?it/s]"
      ]
     },
     "metadata": {},
     "output_type": "display_data"
    },
    {
     "data": {
      "application/vnd.jupyter.widget-view+json": {
       "model_id": "",
       "version_major": 2,
       "version_minor": 0
      },
      "text/plain": [
       "Models:   0%|          | 0/7 [00:00<?, ?it/s]"
      ]
     },
     "metadata": {},
     "output_type": "display_data"
    },
    {
     "data": {
      "application/vnd.jupyter.widget-view+json": {
       "model_id": "",
       "version_major": 2,
       "version_minor": 0
      },
      "text/plain": [
       "Models:   0%|          | 0/7 [00:00<?, ?it/s]"
      ]
     },
     "metadata": {},
     "output_type": "display_data"
    },
    {
     "data": {
      "application/vnd.jupyter.widget-view+json": {
       "model_id": "",
       "version_major": 2,
       "version_minor": 0
      },
      "text/plain": [
       "Models:   0%|          | 0/7 [00:00<?, ?it/s]"
      ]
     },
     "metadata": {},
     "output_type": "display_data"
    },
    {
     "data": {
      "application/vnd.jupyter.widget-view+json": {
       "model_id": "",
       "version_major": 2,
       "version_minor": 0
      },
      "text/plain": [
       "Models:   0%|          | 0/7 [00:00<?, ?it/s]"
      ]
     },
     "metadata": {},
     "output_type": "display_data"
    },
    {
     "data": {
      "application/vnd.jupyter.widget-view+json": {
       "model_id": "",
       "version_major": 2,
       "version_minor": 0
      },
      "text/plain": [
       "Models:   0%|          | 0/7 [00:00<?, ?it/s]"
      ]
     },
     "metadata": {},
     "output_type": "display_data"
    },
    {
     "data": {
      "application/vnd.jupyter.widget-view+json": {
       "model_id": "",
       "version_major": 2,
       "version_minor": 0
      },
      "text/plain": [
       "Models:   0%|          | 0/7 [00:00<?, ?it/s]"
      ]
     },
     "metadata": {},
     "output_type": "display_data"
    },
    {
     "data": {
      "application/vnd.jupyter.widget-view+json": {
       "model_id": "",
       "version_major": 2,
       "version_minor": 0
      },
      "text/plain": [
       "Models:   0%|          | 0/7 [00:00<?, ?it/s]"
      ]
     },
     "metadata": {},
     "output_type": "display_data"
    },
    {
     "data": {
      "application/vnd.jupyter.widget-view+json": {
       "model_id": "",
       "version_major": 2,
       "version_minor": 0
      },
      "text/plain": [
       "Models:   0%|          | 0/7 [00:00<?, ?it/s]"
      ]
     },
     "metadata": {},
     "output_type": "display_data"
    },
    {
     "data": {
      "application/vnd.jupyter.widget-view+json": {
       "model_id": "",
       "version_major": 2,
       "version_minor": 0
      },
      "text/plain": [
       "Models:   0%|          | 0/7 [00:00<?, ?it/s]"
      ]
     },
     "metadata": {},
     "output_type": "display_data"
    },
    {
     "data": {
      "application/vnd.jupyter.widget-view+json": {
       "model_id": "",
       "version_major": 2,
       "version_minor": 0
      },
      "text/plain": [
       "Models:   0%|          | 0/7 [00:00<?, ?it/s]"
      ]
     },
     "metadata": {},
     "output_type": "display_data"
    }
   ],
   "source": [
    "comparison_output, df_count_nan = helpers.comparison.eval_ml_efficacy(\n",
    "    [\"tabGAN\", \"tabGAN-qt\", \"tabGAN-qtr\", \"ctabGAN\", \"ctabGAN-qt\", \"ctabGAN-qtr\"],\n",
    "    datasets=[\"covtype_edited\", \"creditcard_edited\",\"news_edited\"],\n",
    "    n_synthetic_datasets=20,\n",
    "    n_synthetic_datasets_dict={\"news_edited\": 25},\n",
    "    metric_evals=[\"Mean\", \"Median\", \"Percentile5\", \"Percentile95\"],\n",
    "    allow_fewer_synthetic_datasets=True,\n",
    "    ignore_nan=True,\n",
    "    ret_count_nan=True\n",
    ")"
   ]
  },
  {
   "cell_type": "code",
   "execution_count": 35,
   "id": "79b3ddd6",
   "metadata": {},
   "outputs": [
    {
     "data": {
      "text/html": [
       "<div>\n",
       "<style scoped>\n",
       "    .dataframe tbody tr th:only-of-type {\n",
       "        vertical-align: middle;\n",
       "    }\n",
       "\n",
       "    .dataframe tbody tr th {\n",
       "        vertical-align: top;\n",
       "    }\n",
       "\n",
       "    .dataframe thead th {\n",
       "        text-align: right;\n",
       "    }\n",
       "</style>\n",
       "<table border=\"1\" class=\"dataframe\">\n",
       "  <thead>\n",
       "    <tr style=\"text-align: right;\">\n",
       "      <th></th>\n",
       "      <th>Models</th>\n",
       "      <th>covtype_edited</th>\n",
       "      <th>creditcard_edited</th>\n",
       "      <th>news_edited</th>\n",
       "    </tr>\n",
       "  </thead>\n",
       "  <tbody>\n",
       "    <tr>\n",
       "      <th>0</th>\n",
       "      <td>Train dataset</td>\n",
       "      <td>0.0</td>\n",
       "      <td>0.0</td>\n",
       "      <td>0.0</td>\n",
       "    </tr>\n",
       "    <tr>\n",
       "      <th>1</th>\n",
       "      <td>tabGAN</td>\n",
       "      <td>0.0</td>\n",
       "      <td>0.0</td>\n",
       "      <td>0.0</td>\n",
       "    </tr>\n",
       "    <tr>\n",
       "      <th>2</th>\n",
       "      <td>tabGAN-qt</td>\n",
       "      <td>0.0</td>\n",
       "      <td>0.0</td>\n",
       "      <td>0.0</td>\n",
       "    </tr>\n",
       "    <tr>\n",
       "      <th>3</th>\n",
       "      <td>tabGAN-qtr</td>\n",
       "      <td>0.0</td>\n",
       "      <td>0.0</td>\n",
       "      <td>0.0</td>\n",
       "    </tr>\n",
       "    <tr>\n",
       "      <th>4</th>\n",
       "      <td>ctabGAN</td>\n",
       "      <td>0.0</td>\n",
       "      <td>0.0</td>\n",
       "      <td>0.0</td>\n",
       "    </tr>\n",
       "    <tr>\n",
       "      <th>5</th>\n",
       "      <td>ctabGAN-qt</td>\n",
       "      <td>0.0</td>\n",
       "      <td>0.0</td>\n",
       "      <td>0.0</td>\n",
       "    </tr>\n",
       "    <tr>\n",
       "      <th>6</th>\n",
       "      <td>ctabGAN-qtr</td>\n",
       "      <td>0.0</td>\n",
       "      <td>0.0</td>\n",
       "      <td>0.0</td>\n",
       "    </tr>\n",
       "  </tbody>\n",
       "</table>\n",
       "</div>"
      ],
      "text/plain": [
       "          Models  covtype_edited  creditcard_edited  news_edited\n",
       "0  Train dataset             0.0                0.0          0.0\n",
       "1         tabGAN             0.0                0.0          0.0\n",
       "2      tabGAN-qt             0.0                0.0          0.0\n",
       "3     tabGAN-qtr             0.0                0.0          0.0\n",
       "4        ctabGAN             0.0                0.0          0.0\n",
       "5     ctabGAN-qt             0.0                0.0          0.0\n",
       "6    ctabGAN-qtr             0.0                0.0          0.0"
      ]
     },
     "execution_count": 35,
     "metadata": {},
     "output_type": "execute_result"
    }
   ],
   "source": [
    "df_count_nan"
   ]
  },
  {
   "cell_type": "code",
   "execution_count": 36,
   "id": "a460f3ba",
   "metadata": {},
   "outputs": [
    {
     "data": {
      "text/html": [
       "<div>\n",
       "<style scoped>\n",
       "    .dataframe tbody tr th:only-of-type {\n",
       "        vertical-align: middle;\n",
       "    }\n",
       "\n",
       "    .dataframe tbody tr th {\n",
       "        vertical-align: top;\n",
       "    }\n",
       "\n",
       "    .dataframe thead tr th {\n",
       "        text-align: left;\n",
       "    }\n",
       "</style>\n",
       "<table border=\"1\" class=\"dataframe\">\n",
       "  <thead>\n",
       "    <tr>\n",
       "      <th></th>\n",
       "      <th></th>\n",
       "      <th colspan=\"2\" halign=\"left\">Covtype</th>\n",
       "      <th colspan=\"3\" halign=\"left\">Creditcard</th>\n",
       "      <th colspan=\"3\" halign=\"left\">News</th>\n",
       "    </tr>\n",
       "    <tr>\n",
       "      <th></th>\n",
       "      <th>Model</th>\n",
       "      <th>Test Accuracy</th>\n",
       "      <th>Test F1</th>\n",
       "      <th>Test Accuracy</th>\n",
       "      <th>Test AUPRC</th>\n",
       "      <th>Test F1</th>\n",
       "      <th>Test Accuracy</th>\n",
       "      <th>Test AUC</th>\n",
       "      <th>Test F1</th>\n",
       "    </tr>\n",
       "  </thead>\n",
       "  <tbody>\n",
       "    <tr>\n",
       "      <th>0</th>\n",
       "      <td>Train dataset</td>\n",
       "      <td>0.87 (0.868, 0.872)</td>\n",
       "      <td>0.867 (0.865, 0.869)</td>\n",
       "      <td>1.0 (0.999, 1.0)</td>\n",
       "      <td>0.87 (0.841, 0.892)</td>\n",
       "      <td>0.93 (0.917, 0.943)</td>\n",
       "      <td>0.657 (0.65, 0.661)</td>\n",
       "      <td>0.715 (0.709, 0.722)</td>\n",
       "      <td>0.657 (0.65, 0.661)</td>\n",
       "    </tr>\n",
       "    <tr>\n",
       "      <th>1</th>\n",
       "      <td>tabGAN</td>\n",
       "      <td>0.791 (0.788, 0.793)</td>\n",
       "      <td>0.802 (0.798, 0.803)</td>\n",
       "      <td>0.998 (0.998, 0.999)</td>\n",
       "      <td>0.001 (0.001, 0.69)</td>\n",
       "      <td>0.5 (0.499, 0.824)</td>\n",
       "      <td>0.594 (0.545, 0.615)</td>\n",
       "      <td>0.65 (0.602, 0.663)</td>\n",
       "      <td>0.584 (0.508, 0.614)</td>\n",
       "    </tr>\n",
       "    <tr>\n",
       "      <th>2</th>\n",
       "      <td>tabGAN-qt</td>\n",
       "      <td>0.788 (0.785, 0.79)</td>\n",
       "      <td>0.798 (0.796, 0.801)</td>\n",
       "      <td>0.998 (0.998, 0.999)</td>\n",
       "      <td>0.03 (0.001, 0.581)</td>\n",
       "      <td>0.5 (0.5, 0.782)</td>\n",
       "      <td>0.629 (0.622, 0.636)</td>\n",
       "      <td>0.677 (0.668, 0.684)</td>\n",
       "      <td>0.629 (0.622, 0.636)</td>\n",
       "    </tr>\n",
       "    <tr>\n",
       "      <th>3</th>\n",
       "      <td>tabGAN-qtr</td>\n",
       "      <td>0.788 (0.786, 0.79)</td>\n",
       "      <td>0.798 (0.796, 0.8)</td>\n",
       "      <td>0.998 (0.998, 0.998)</td>\n",
       "      <td>0.428 (0.001, 0.501)</td>\n",
       "      <td>0.5 (0.5, 0.566)</td>\n",
       "      <td>0.625 (0.619, 0.635)</td>\n",
       "      <td>0.672 (0.666, 0.685)</td>\n",
       "      <td>0.625 (0.619, 0.635)</td>\n",
       "    </tr>\n",
       "    <tr>\n",
       "      <th>4</th>\n",
       "      <td>ctabGAN</td>\n",
       "      <td>0.795 (0.792, 0.798)</td>\n",
       "      <td>0.8 (0.797, 0.805)</td>\n",
       "      <td>0.999 (0.999, 0.999)</td>\n",
       "      <td>0.752 (0.677, 0.808)</td>\n",
       "      <td>0.874 (0.837, 0.904)</td>\n",
       "      <td>0.589 (0.531, 0.619)</td>\n",
       "      <td>0.644 (0.597, 0.668)</td>\n",
       "      <td>0.575 (0.457, 0.618)</td>\n",
       "    </tr>\n",
       "    <tr>\n",
       "      <th>5</th>\n",
       "      <td>ctabGAN-qt</td>\n",
       "      <td>0.789 (0.788, 0.794)</td>\n",
       "      <td>0.794 (0.793, 0.798)</td>\n",
       "      <td>0.999 (0.999, 0.999)</td>\n",
       "      <td>0.794 (0.742, 0.841)</td>\n",
       "      <td>0.897 (0.87, 0.92)</td>\n",
       "      <td>0.623 (0.617, 0.633)</td>\n",
       "      <td>0.673 (0.663, 0.68)</td>\n",
       "      <td>0.623 (0.617, 0.633)</td>\n",
       "    </tr>\n",
       "    <tr>\n",
       "      <th>6</th>\n",
       "      <td>ctabGAN-qtr</td>\n",
       "      <td>0.791 (0.789, 0.793)</td>\n",
       "      <td>0.796 (0.794, 0.798)</td>\n",
       "      <td>0.999 (0.999, 0.999)</td>\n",
       "      <td>0.792 (0.75, 0.839)</td>\n",
       "      <td>0.895 (0.872, 0.919)</td>\n",
       "      <td>0.625 (0.617, 0.635)</td>\n",
       "      <td>0.673 (0.661, 0.683)</td>\n",
       "      <td>0.624 (0.617, 0.635)</td>\n",
       "    </tr>\n",
       "  </tbody>\n",
       "</table>\n",
       "</div>"
      ],
      "text/plain": [
       "                               Covtype                        \\\n",
       "           Model         Test Accuracy               Test F1   \n",
       "0  Train dataset   0.87 (0.868, 0.872)  0.867 (0.865, 0.869)   \n",
       "1         tabGAN  0.791 (0.788, 0.793)  0.802 (0.798, 0.803)   \n",
       "2      tabGAN-qt   0.788 (0.785, 0.79)  0.798 (0.796, 0.801)   \n",
       "3     tabGAN-qtr   0.788 (0.786, 0.79)    0.798 (0.796, 0.8)   \n",
       "4        ctabGAN  0.795 (0.792, 0.798)    0.8 (0.797, 0.805)   \n",
       "5     ctabGAN-qt  0.789 (0.788, 0.794)  0.794 (0.793, 0.798)   \n",
       "6    ctabGAN-qtr  0.791 (0.789, 0.793)  0.796 (0.794, 0.798)   \n",
       "\n",
       "             Creditcard                                              \\\n",
       "          Test Accuracy            Test AUPRC               Test F1   \n",
       "0      1.0 (0.999, 1.0)   0.87 (0.841, 0.892)   0.93 (0.917, 0.943)   \n",
       "1  0.998 (0.998, 0.999)   0.001 (0.001, 0.69)    0.5 (0.499, 0.824)   \n",
       "2  0.998 (0.998, 0.999)   0.03 (0.001, 0.581)      0.5 (0.5, 0.782)   \n",
       "3  0.998 (0.998, 0.998)  0.428 (0.001, 0.501)      0.5 (0.5, 0.566)   \n",
       "4  0.999 (0.999, 0.999)  0.752 (0.677, 0.808)  0.874 (0.837, 0.904)   \n",
       "5  0.999 (0.999, 0.999)  0.794 (0.742, 0.841)    0.897 (0.87, 0.92)   \n",
       "6  0.999 (0.999, 0.999)   0.792 (0.75, 0.839)  0.895 (0.872, 0.919)   \n",
       "\n",
       "                   News                                              \n",
       "          Test Accuracy              Test AUC               Test F1  \n",
       "0   0.657 (0.65, 0.661)  0.715 (0.709, 0.722)   0.657 (0.65, 0.661)  \n",
       "1  0.594 (0.545, 0.615)   0.65 (0.602, 0.663)  0.584 (0.508, 0.614)  \n",
       "2  0.629 (0.622, 0.636)  0.677 (0.668, 0.684)  0.629 (0.622, 0.636)  \n",
       "3  0.625 (0.619, 0.635)  0.672 (0.666, 0.685)  0.625 (0.619, 0.635)  \n",
       "4  0.589 (0.531, 0.619)  0.644 (0.597, 0.668)  0.575 (0.457, 0.618)  \n",
       "5  0.623 (0.617, 0.633)   0.673 (0.663, 0.68)  0.623 (0.617, 0.633)  \n",
       "6  0.625 (0.617, 0.635)  0.673 (0.661, 0.683)  0.624 (0.617, 0.635)  "
      ]
     },
     "execution_count": 36,
     "metadata": {},
     "output_type": "execute_result"
    }
   ],
   "source": [
    "comparison_output_tidy = helpers.comparison.tidy_ml_efficacy_output(comparison_output, extract_median_and_percentile=True)\n",
    "comparison_output_tidy"
   ]
  },
  {
   "cell_type": "code",
   "execution_count": 181,
   "id": "7407c204",
   "metadata": {},
   "outputs": [
    {
     "data": {
      "text/plain": [
       "10"
      ]
     },
     "execution_count": 181,
     "metadata": {},
     "output_type": "execute_result"
    }
   ],
   "source": [
    "import re\n",
    "int(re.search( \"pac(\\d+)\", \"CTGAN-orig-pac10\").group(0).replace(\"pac\", \"\"))"
   ]
  },
  {
   "cell_type": "code",
   "execution_count": 117,
   "id": "868a6329",
   "metadata": {},
   "outputs": [
    {
     "data": {
      "text/html": [
       "<div>\n",
       "<style scoped>\n",
       "    .dataframe tbody tr th:only-of-type {\n",
       "        vertical-align: middle;\n",
       "    }\n",
       "\n",
       "    .dataframe tbody tr th {\n",
       "        vertical-align: top;\n",
       "    }\n",
       "\n",
       "    .dataframe thead tr th {\n",
       "        text-align: left;\n",
       "    }\n",
       "</style>\n",
       "<table border=\"1\" class=\"dataframe\">\n",
       "  <thead>\n",
       "    <tr>\n",
       "      <th></th>\n",
       "      <th></th>\n",
       "      <th colspan=\"2\" halign=\"left\">Covtype</th>\n",
       "      <th colspan=\"3\" halign=\"left\">Creditcard</th>\n",
       "      <th colspan=\"3\" halign=\"left\">News</th>\n",
       "    </tr>\n",
       "    <tr>\n",
       "      <th></th>\n",
       "      <th>Model</th>\n",
       "      <th>Test Accuracy</th>\n",
       "      <th>Test F1</th>\n",
       "      <th>Test Accuracy</th>\n",
       "      <th>Test AUC</th>\n",
       "      <th>Test F1</th>\n",
       "      <th>Test Accuracy</th>\n",
       "      <th>Test AUC</th>\n",
       "      <th>Test F1</th>\n",
       "    </tr>\n",
       "  </thead>\n",
       "  <tbody>\n",
       "    <tr>\n",
       "      <th>0</th>\n",
       "      <td>Train dataset</td>\n",
       "      <td>0.868 (0.868, 0.868)</td>\n",
       "      <td>0.865 (0.865, 0.865)</td>\n",
       "      <td>0.999 (0.999, 0.999)</td>\n",
       "      <td>0.98 (0.98, 0.98)</td>\n",
       "      <td>0.916 (0.916, 0.916)</td>\n",
       "      <td>0.79 (0.79, 0.79)</td>\n",
       "      <td>0.693 (0.693, 0.693)</td>\n",
       "      <td>0.553 (0.553, 0.553)</td>\n",
       "    </tr>\n",
       "    <tr>\n",
       "      <th>1</th>\n",
       "      <td>tabGAN_example</td>\n",
       "      <td>0.663 (0.663, 0.663)</td>\n",
       "      <td>0.693 (0.693, 0.693)</td>\n",
       "      <td>0.999 (0.999, 0.999)</td>\n",
       "      <td>0.923 (0.923, 0.923)</td>\n",
       "      <td>0.81 (0.81, 0.81)</td>\n",
       "      <td>0.775 (0.775, 0.775)</td>\n",
       "      <td>0.641 (0.641, 0.641)</td>\n",
       "      <td>0.539 (0.539, 0.539)</td>\n",
       "    </tr>\n",
       "  </tbody>\n",
       "</table>\n",
       "</div>"
      ],
      "text/plain": [
       "                                Covtype                        \\\n",
       "            Model         Test Accuracy               Test F1   \n",
       "0   Train dataset  0.868 (0.868, 0.868)  0.865 (0.865, 0.865)   \n",
       "1  tabGAN_example  0.663 (0.663, 0.663)  0.693 (0.693, 0.693)   \n",
       "\n",
       "             Creditcard                                              \\\n",
       "          Test Accuracy              Test AUC               Test F1   \n",
       "0  0.999 (0.999, 0.999)     0.98 (0.98, 0.98)  0.916 (0.916, 0.916)   \n",
       "1  0.999 (0.999, 0.999)  0.923 (0.923, 0.923)     0.81 (0.81, 0.81)   \n",
       "\n",
       "                   News                                              \n",
       "          Test Accuracy              Test AUC               Test F1  \n",
       "0     0.79 (0.79, 0.79)  0.693 (0.693, 0.693)  0.553 (0.553, 0.553)  \n",
       "1  0.775 (0.775, 0.775)  0.641 (0.641, 0.641)  0.539 (0.539, 0.539)  "
      ]
     },
     "execution_count": 117,
     "metadata": {},
     "output_type": "execute_result"
    }
   ],
   "source": [
    "comparison_output_tidy"
   ]
  },
  {
   "cell_type": "code",
   "execution_count": 14,
   "id": "a93ba5a6",
   "metadata": {},
   "outputs": [
    {
     "data": {
      "text/plain": [
       "age                 int64\n",
       "workclass          object\n",
       "fnlwgt              int64\n",
       "education          object\n",
       "educational.num     int64\n",
       "marital.status     object\n",
       "occupation         object\n",
       "race               object\n",
       "gender             object\n",
       "capital.gain        int64\n",
       "capital.loss        int64\n",
       "hours.per.week      int64\n",
       "native.country     object\n",
       "income             object\n",
       "dtype: object"
      ]
     },
     "execution_count": 14,
     "metadata": {},
     "output_type": "execute_result"
    }
   ],
   "source": [
    "pd.read_csv(os.path.join(const.dir.data(), \"df_adult_edited_train.csv\")).dtypes"
   ]
  },
  {
   "cell_type": "code",
   "execution_count": 7,
   "id": "bb89dc42",
   "metadata": {},
   "outputs": [
    {
     "data": {
      "text/plain": [
       "Wilderness_Area                       object\n",
       "Soil_Type                             object\n",
       "Elevation                              int64\n",
       "Aspect                                 int64\n",
       "Slope                                  int64\n",
       "Horizontal_Distance_To_Hydrology       int64\n",
       "Vertical_Distance_To_Hydrology         int64\n",
       "Horizontal_Distance_To_Roadways        int64\n",
       "Hillshade_9am                          int64\n",
       "Hillshade_Noon                         int64\n",
       "Hillshade_3pm                          int64\n",
       "Horizontal_Distance_To_Fire_Points     int64\n",
       "Cover_Type                            object\n",
       "dtype: object"
      ]
     },
     "execution_count": 7,
     "metadata": {},
     "output_type": "execute_result"
    }
   ],
   "source": [
    "pd.read_csv(os.path.join(const.dir.data_comparison(), \"covtype_edited.csv\")).dtypes"
   ]
  },
  {
   "cell_type": "code",
   "execution_count": 9,
   "id": "0bd0e795",
   "metadata": {},
   "outputs": [
    {
     "ename": "AttributeError",
     "evalue": "module 'helpers.eval' has no attribute 'fit_and_evaluate_xgboost_model'",
     "output_type": "error",
     "traceback": [
      "\u001b[1;31m---------------------------------------------------------------------------\u001b[0m",
      "\u001b[1;31mAttributeError\u001b[0m                            Traceback (most recent call last)",
      "\u001b[1;32m~\\AppData\\Local\\Temp\\ipykernel_17964\\3889912758.py\u001b[0m in \u001b[0;36m<module>\u001b[1;34m\u001b[0m\n\u001b[1;32m----> 1\u001b[1;33m \u001b[0mhelpers\u001b[0m\u001b[1;33m.\u001b[0m\u001b[0meval\u001b[0m\u001b[1;33m.\u001b[0m\u001b[0mfit_and_evaluate_xgboost_model\u001b[0m\u001b[1;33m(\u001b[0m\u001b[1;33m)\u001b[0m\u001b[1;33m\u001b[0m\u001b[1;33m\u001b[0m\u001b[0m\n\u001b[0m",
      "\u001b[1;31mAttributeError\u001b[0m: module 'helpers.eval' has no attribute 'fit_and_evaluate_xgboost_model'"
     ]
    }
   ],
   "source": []
  },
  {
   "cell_type": "code",
   "execution_count": 8,
   "id": "ed9c0706",
   "metadata": {},
   "outputs": [
    {
     "data": {
      "text/html": [
       "<div>\n",
       "<style scoped>\n",
       "    .dataframe tbody tr th:only-of-type {\n",
       "        vertical-align: middle;\n",
       "    }\n",
       "\n",
       "    .dataframe tbody tr th {\n",
       "        vertical-align: top;\n",
       "    }\n",
       "\n",
       "    .dataframe thead th {\n",
       "        text-align: right;\n",
       "    }\n",
       "</style>\n",
       "<table border=\"1\" class=\"dataframe\">\n",
       "  <thead>\n",
       "    <tr style=\"text-align: right;\">\n",
       "      <th></th>\n",
       "      <th>Wilderness_Area</th>\n",
       "      <th>Soil_Type</th>\n",
       "      <th>Elevation</th>\n",
       "      <th>Aspect</th>\n",
       "      <th>Slope</th>\n",
       "      <th>Horizontal_Distance_To_Hydrology</th>\n",
       "      <th>Vertical_Distance_To_Hydrology</th>\n",
       "      <th>Horizontal_Distance_To_Roadways</th>\n",
       "      <th>Hillshade_9am</th>\n",
       "      <th>Hillshade_Noon</th>\n",
       "      <th>Hillshade_3pm</th>\n",
       "      <th>Horizontal_Distance_To_Fire_Points</th>\n",
       "      <th>Cover_Type</th>\n",
       "    </tr>\n",
       "  </thead>\n",
       "  <tbody>\n",
       "    <tr>\n",
       "      <th>0</th>\n",
       "      <td>Wilderness_Area1</td>\n",
       "      <td>Soil_Type29</td>\n",
       "      <td>2596</td>\n",
       "      <td>51</td>\n",
       "      <td>3</td>\n",
       "      <td>258</td>\n",
       "      <td>0</td>\n",
       "      <td>510</td>\n",
       "      <td>221</td>\n",
       "      <td>232</td>\n",
       "      <td>148</td>\n",
       "      <td>6279</td>\n",
       "      <td>CoverType5</td>\n",
       "    </tr>\n",
       "    <tr>\n",
       "      <th>1</th>\n",
       "      <td>Wilderness_Area1</td>\n",
       "      <td>Soil_Type29</td>\n",
       "      <td>2590</td>\n",
       "      <td>56</td>\n",
       "      <td>2</td>\n",
       "      <td>212</td>\n",
       "      <td>-6</td>\n",
       "      <td>390</td>\n",
       "      <td>220</td>\n",
       "      <td>235</td>\n",
       "      <td>151</td>\n",
       "      <td>6225</td>\n",
       "      <td>CoverType5</td>\n",
       "    </tr>\n",
       "    <tr>\n",
       "      <th>2</th>\n",
       "      <td>Wilderness_Area1</td>\n",
       "      <td>Soil_Type12</td>\n",
       "      <td>2804</td>\n",
       "      <td>139</td>\n",
       "      <td>9</td>\n",
       "      <td>268</td>\n",
       "      <td>65</td>\n",
       "      <td>3180</td>\n",
       "      <td>234</td>\n",
       "      <td>238</td>\n",
       "      <td>135</td>\n",
       "      <td>6121</td>\n",
       "      <td>CoverType2</td>\n",
       "    </tr>\n",
       "    <tr>\n",
       "      <th>3</th>\n",
       "      <td>Wilderness_Area1</td>\n",
       "      <td>Soil_Type30</td>\n",
       "      <td>2785</td>\n",
       "      <td>155</td>\n",
       "      <td>18</td>\n",
       "      <td>242</td>\n",
       "      <td>118</td>\n",
       "      <td>3090</td>\n",
       "      <td>238</td>\n",
       "      <td>238</td>\n",
       "      <td>122</td>\n",
       "      <td>6211</td>\n",
       "      <td>CoverType2</td>\n",
       "    </tr>\n",
       "    <tr>\n",
       "      <th>4</th>\n",
       "      <td>Wilderness_Area1</td>\n",
       "      <td>Soil_Type29</td>\n",
       "      <td>2595</td>\n",
       "      <td>45</td>\n",
       "      <td>2</td>\n",
       "      <td>153</td>\n",
       "      <td>-1</td>\n",
       "      <td>391</td>\n",
       "      <td>220</td>\n",
       "      <td>234</td>\n",
       "      <td>150</td>\n",
       "      <td>6172</td>\n",
       "      <td>CoverType5</td>\n",
       "    </tr>\n",
       "    <tr>\n",
       "      <th>...</th>\n",
       "      <td>...</td>\n",
       "      <td>...</td>\n",
       "      <td>...</td>\n",
       "      <td>...</td>\n",
       "      <td>...</td>\n",
       "      <td>...</td>\n",
       "      <td>...</td>\n",
       "      <td>...</td>\n",
       "      <td>...</td>\n",
       "      <td>...</td>\n",
       "      <td>...</td>\n",
       "      <td>...</td>\n",
       "      <td>...</td>\n",
       "    </tr>\n",
       "    <tr>\n",
       "      <th>581007</th>\n",
       "      <td>Wilderness_Area3</td>\n",
       "      <td>Soil_Type2</td>\n",
       "      <td>2396</td>\n",
       "      <td>153</td>\n",
       "      <td>20</td>\n",
       "      <td>85</td>\n",
       "      <td>17</td>\n",
       "      <td>108</td>\n",
       "      <td>240</td>\n",
       "      <td>237</td>\n",
       "      <td>118</td>\n",
       "      <td>837</td>\n",
       "      <td>CoverType3</td>\n",
       "    </tr>\n",
       "    <tr>\n",
       "      <th>581008</th>\n",
       "      <td>Wilderness_Area3</td>\n",
       "      <td>Soil_Type2</td>\n",
       "      <td>2391</td>\n",
       "      <td>152</td>\n",
       "      <td>19</td>\n",
       "      <td>67</td>\n",
       "      <td>12</td>\n",
       "      <td>95</td>\n",
       "      <td>240</td>\n",
       "      <td>237</td>\n",
       "      <td>119</td>\n",
       "      <td>845</td>\n",
       "      <td>CoverType3</td>\n",
       "    </tr>\n",
       "    <tr>\n",
       "      <th>581009</th>\n",
       "      <td>Wilderness_Area3</td>\n",
       "      <td>Soil_Type2</td>\n",
       "      <td>2386</td>\n",
       "      <td>159</td>\n",
       "      <td>17</td>\n",
       "      <td>60</td>\n",
       "      <td>7</td>\n",
       "      <td>90</td>\n",
       "      <td>236</td>\n",
       "      <td>241</td>\n",
       "      <td>130</td>\n",
       "      <td>854</td>\n",
       "      <td>CoverType3</td>\n",
       "    </tr>\n",
       "    <tr>\n",
       "      <th>581010</th>\n",
       "      <td>Wilderness_Area3</td>\n",
       "      <td>Soil_Type2</td>\n",
       "      <td>2384</td>\n",
       "      <td>170</td>\n",
       "      <td>15</td>\n",
       "      <td>60</td>\n",
       "      <td>5</td>\n",
       "      <td>90</td>\n",
       "      <td>230</td>\n",
       "      <td>245</td>\n",
       "      <td>143</td>\n",
       "      <td>864</td>\n",
       "      <td>CoverType3</td>\n",
       "    </tr>\n",
       "    <tr>\n",
       "      <th>581011</th>\n",
       "      <td>Wilderness_Area3</td>\n",
       "      <td>Soil_Type2</td>\n",
       "      <td>2383</td>\n",
       "      <td>165</td>\n",
       "      <td>13</td>\n",
       "      <td>60</td>\n",
       "      <td>4</td>\n",
       "      <td>67</td>\n",
       "      <td>231</td>\n",
       "      <td>244</td>\n",
       "      <td>141</td>\n",
       "      <td>875</td>\n",
       "      <td>CoverType3</td>\n",
       "    </tr>\n",
       "  </tbody>\n",
       "</table>\n",
       "<p>581012 rows × 13 columns</p>\n",
       "</div>"
      ],
      "text/plain": [
       "         Wilderness_Area    Soil_Type  Elevation  Aspect  Slope  \\\n",
       "0       Wilderness_Area1  Soil_Type29       2596      51      3   \n",
       "1       Wilderness_Area1  Soil_Type29       2590      56      2   \n",
       "2       Wilderness_Area1  Soil_Type12       2804     139      9   \n",
       "3       Wilderness_Area1  Soil_Type30       2785     155     18   \n",
       "4       Wilderness_Area1  Soil_Type29       2595      45      2   \n",
       "...                  ...          ...        ...     ...    ...   \n",
       "581007  Wilderness_Area3   Soil_Type2       2396     153     20   \n",
       "581008  Wilderness_Area3   Soil_Type2       2391     152     19   \n",
       "581009  Wilderness_Area3   Soil_Type2       2386     159     17   \n",
       "581010  Wilderness_Area3   Soil_Type2       2384     170     15   \n",
       "581011  Wilderness_Area3   Soil_Type2       2383     165     13   \n",
       "\n",
       "        Horizontal_Distance_To_Hydrology  Vertical_Distance_To_Hydrology  \\\n",
       "0                                    258                               0   \n",
       "1                                    212                              -6   \n",
       "2                                    268                              65   \n",
       "3                                    242                             118   \n",
       "4                                    153                              -1   \n",
       "...                                  ...                             ...   \n",
       "581007                                85                              17   \n",
       "581008                                67                              12   \n",
       "581009                                60                               7   \n",
       "581010                                60                               5   \n",
       "581011                                60                               4   \n",
       "\n",
       "        Horizontal_Distance_To_Roadways  Hillshade_9am  Hillshade_Noon  \\\n",
       "0                                   510            221             232   \n",
       "1                                   390            220             235   \n",
       "2                                  3180            234             238   \n",
       "3                                  3090            238             238   \n",
       "4                                   391            220             234   \n",
       "...                                 ...            ...             ...   \n",
       "581007                              108            240             237   \n",
       "581008                               95            240             237   \n",
       "581009                               90            236             241   \n",
       "581010                               90            230             245   \n",
       "581011                               67            231             244   \n",
       "\n",
       "        Hillshade_3pm  Horizontal_Distance_To_Fire_Points  Cover_Type  \n",
       "0                 148                                6279  CoverType5  \n",
       "1                 151                                6225  CoverType5  \n",
       "2                 135                                6121  CoverType2  \n",
       "3                 122                                6211  CoverType2  \n",
       "4                 150                                6172  CoverType5  \n",
       "...               ...                                 ...         ...  \n",
       "581007            118                                 837  CoverType3  \n",
       "581008            119                                 845  CoverType3  \n",
       "581009            130                                 854  CoverType3  \n",
       "581010            143                                 864  CoverType3  \n",
       "581011            141                                 875  CoverType3  \n",
       "\n",
       "[581012 rows x 13 columns]"
      ]
     },
     "execution_count": 8,
     "metadata": {},
     "output_type": "execute_result"
    }
   ],
   "source": [
    "train = pd.read_csv(os.path.join(const.dir.data_comparison(), \"covtype_edited.csv\"))\n",
    "train\n"
   ]
  }
 ],
 "metadata": {
  "kernelspec": {
   "display_name": "tf",
   "language": "python",
   "name": "tf"
  },
  "language_info": {
   "codemirror_mode": {
    "name": "ipython",
    "version": 3
   },
   "file_extension": ".py",
   "mimetype": "text/x-python",
   "name": "python",
   "nbconvert_exporter": "python",
   "pygments_lexer": "ipython3",
   "version": "3.8.12"
  }
 },
 "nbformat": 4,
 "nbformat_minor": 5
}
