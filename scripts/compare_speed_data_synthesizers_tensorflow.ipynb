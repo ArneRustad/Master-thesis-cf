{
 "cells": [
  {
   "cell_type": "code",
   "execution_count": 1,
   "id": "31c6b9af",
   "metadata": {},
   "outputs": [],
   "source": [
    "import pathlib\n",
    "import os\n",
    "if not \"changed_working_directory\" in locals():\n",
    "    changed_working_directory = True\n",
    "    os.chdir(pathlib.Path().resolve().parent)\n",
    "    \n",
    "%load_ext autoreload\n",
    "%autoreload 2\n",
    "\n",
    "from tabGAN import TabGAN\n",
    "from src import constants as const\n",
    "import helpers\n",
    "from v2_hp_tuning import fetch_hp_info\n",
    "\n",
    "imports_path = \"src//imports.ipynb\"\n",
    "\n",
    "%run \"$imports_path\"\n",
    "\n",
    "if const.dir.project() != os.getcwd():\n",
    "    raise ValueError(\"Project directory not the same as in consts\")"
   ]
  },
  {
   "cell_type": "code",
   "execution_count": 2,
   "id": "e523cd7c",
   "metadata": {},
   "outputs": [],
   "source": [
    "import pandas as pd\n",
    "adult_dataset = pd.read_csv(os.path.join(const.dir.data_comparison(), \"adult_edited.csv\"))\n",
    "boolean_train_indices_adult = np.load(\n",
    "    os.path.join(const.dir.data_comparison(), \"indices\", \"adult_edited\", \"bool_indices_0.npy\")\n",
    ")\n",
    "adult_train = adult_dataset.loc[boolean_train_indices_adult,:]"
   ]
  },
  {
   "cell_type": "code",
   "execution_count": 3,
   "id": "26e1f43b",
   "metadata": {},
   "outputs": [],
   "source": [
    "from run_comparison_tensorflow import tabGAN_synthesizer\n",
    "N_RUNS=1"
   ]
  },
  {
   "cell_type": "code",
   "execution_count": 48,
   "id": "101b31a0",
   "metadata": {},
   "outputs": [
    {
     "data": {
      "application/vnd.jupyter.widget-view+json": {
       "model_id": "ea060f7b2faf46f3ba18270567de2207",
       "version_major": 2,
       "version_minor": 0
      },
      "text/plain": [
       "  0%|          | 0/1 [00:00<?, ?it/s]"
      ]
     },
     "metadata": {},
     "output_type": "display_data"
    },
    {
     "name": "stdout",
     "output_type": "stream",
     "text": [
      "Synthesizing with tabGAN\n"
     ]
    }
   ],
   "source": [
    "helpers.measure_synthesizer_speed(lambda: tabGAN_synthesizer(adult_train, qt=False, qtr=False, ctgan=False, pac=1),\n",
    "                       \"tabGAN-sd\", nruns=N_RUNS)"
   ]
  },
  {
   "cell_type": "code",
   "execution_count": 5,
   "id": "2be584ee",
   "metadata": {},
   "outputs": [
    {
     "data": {
      "application/vnd.jupyter.widget-view+json": {
       "model_id": "5191d064a0ce481384c4d6d02e667ce1",
       "version_major": 2,
       "version_minor": 0
      },
      "text/plain": [
       "  0%|          | 0/1 [00:00<?, ?it/s]"
      ]
     },
     "metadata": {},
     "output_type": "display_data"
    }
   ],
   "source": [
    "helpers.measure_synthesizer_speed(lambda: tabGAN_synthesizer(adult_train, qt=True, qtr=False, ctgan=False, pac=1),\n",
    "                       \"tabGAN-qt\", nruns=N_RUNS)"
   ]
  },
  {
   "cell_type": "code",
   "execution_count": 62,
   "id": "acf173b2",
   "metadata": {},
   "outputs": [
    {
     "data": {
      "application/vnd.jupyter.widget-view+json": {
       "model_id": "eb564bf73f8840608e93307977cb1046",
       "version_major": 2,
       "version_minor": 0
      },
      "text/plain": [
       "  0%|          | 0/1 [00:00<?, ?it/s]"
      ]
     },
     "metadata": {},
     "output_type": "display_data"
    },
    {
     "name": "stdout",
     "output_type": "stream",
     "text": [
      "Synthesizing with tabGAN-qtr\n"
     ]
    }
   ],
   "source": [
    "helpers.measure_synthesizer_speed(lambda: tabGAN_synthesizer(adult_train, qt=True, qtr=True, ctgan=False, pac=1),\n",
    "                       \"tabGAN-qtr\", nruns=N_RUNS)"
   ]
  },
  {
   "cell_type": "code",
   "execution_count": 66,
   "id": "36ce81c8",
   "metadata": {},
   "outputs": [
    {
     "data": {
      "application/vnd.jupyter.widget-view+json": {
       "model_id": "aac74fd5b884496fba715fdc97f1459e",
       "version_major": 2,
       "version_minor": 0
      },
      "text/plain": [
       "  0%|          | 0/1 [00:00<?, ?it/s]"
      ]
     },
     "metadata": {},
     "output_type": "display_data"
    },
    {
     "name": "stdout",
     "output_type": "stream",
     "text": [
      "Synthesizing with ctabGAN\n"
     ]
    }
   ],
   "source": [
    "helpers.measure_synthesizer_speed(lambda: tabGAN_synthesizer(adult_train, qt=False, qtr=False, ctgan=True, pac=1,\n",
    "                                                 train_step_critic_same_queries_for_critic_and_gen=True),\n",
    "                       \"ctabGAN-sd\", nruns=N_RUNS)"
   ]
  },
  {
   "cell_type": "code",
   "execution_count": 71,
   "id": "530e74c8",
   "metadata": {},
   "outputs": [
    {
     "data": {
      "application/vnd.jupyter.widget-view+json": {
       "model_id": "e5474e92a7e24d5dbf6d2aca3d66d042",
       "version_major": 2,
       "version_minor": 0
      },
      "text/plain": [
       "  0%|          | 0/1 [00:00<?, ?it/s]"
      ]
     },
     "metadata": {},
     "output_type": "display_data"
    },
    {
     "name": "stdout",
     "output_type": "stream",
     "text": [
      "Synthesizing with ctabGAN-qt\n"
     ]
    }
   ],
   "source": [
    "helpers.measure_synthesizer_speed(lambda: tabGAN_synthesizer(adult_train, qt=True, qtr=False, ctgan=True, pac=1,\n",
    "                                                 train_step_critic_same_queries_for_critic_and_gen=True),\n",
    "                       \"ctabGAN-qt\", nruns=N_RUNS)"
   ]
  },
  {
   "cell_type": "code",
   "execution_count": 72,
   "id": "7d85c3f5",
   "metadata": {},
   "outputs": [
    {
     "data": {
      "application/vnd.jupyter.widget-view+json": {
       "model_id": "01252c4532514abc97a58f4ea69ce2b6",
       "version_major": 2,
       "version_minor": 0
      },
      "text/plain": [
       "  0%|          | 0/1 [00:00<?, ?it/s]"
      ]
     },
     "metadata": {},
     "output_type": "display_data"
    },
    {
     "name": "stdout",
     "output_type": "stream",
     "text": [
      "Synthesizing with ctabGAN-qtr\n"
     ]
    }
   ],
   "source": [
    "helpers.measure_synthesizer_speed(lambda: tabGAN_synthesizer(adult_train, qt=True, qtr=True, ctgan=True, pac=1,\n",
    "                                                 train_step_critic_same_queries_for_critic_and_gen=True),\n",
    "                       \"ctabGAN-qtr\", nruns=N_RUNS)"
   ]
  },
  {
   "cell_type": "code",
   "execution_count": 35,
   "id": "0325f603",
   "metadata": {},
   "outputs": [
    {
     "data": {
      "image/png": "[encoded data removed]",
      "text/plain": [
       "<Figure size 1000x600 with 1 Axes>"
      ]
     },
     "metadata": {},
     "output_type": "display_data"
    },
    {
     "name": "stdout",
     "output_type": "stream",
     "text": [
      "\n"
     ]
    },
    {
     "data": {
      "text/html": [
       "<div>\n",
       "<style scoped>\n",
       "    .dataframe tbody tr th:only-of-type {\n",
       "        vertical-align: middle;\n",
       "    }\n",
       "\n",
       "    .dataframe tbody tr th {\n",
       "        vertical-align: top;\n",
       "    }\n",
       "\n",
       "    .dataframe thead th {\n",
       "        text-align: right;\n",
       "    }\n",
       "</style>\n",
       "<table border=\"1\" class=\"dataframe\">\n",
       "  <thead>\n",
       "    <tr style=\"text-align: right;\">\n",
       "      <th></th>\n",
       "      <th>Method</th>\n",
       "      <th>Time</th>\n",
       "    </tr>\n",
       "  </thead>\n",
       "  <tbody>\n",
       "    <tr>\n",
       "      <th>0</th>\n",
       "      <td>tabGAN-sd</td>\n",
       "      <td>561.346385</td>\n",
       "    </tr>\n",
       "    <tr>\n",
       "      <th>1</th>\n",
       "      <td>tabGAN-qt</td>\n",
       "      <td>548.575309</td>\n",
       "    </tr>\n",
       "    <tr>\n",
       "      <th>2</th>\n",
       "      <td>tabGAN-qtr</td>\n",
       "      <td>604.142579</td>\n",
       "    </tr>\n",
       "    <tr>\n",
       "      <th>3</th>\n",
       "      <td>ctabGAN-sd</td>\n",
       "      <td>941.860568</td>\n",
       "    </tr>\n",
       "    <tr>\n",
       "      <th>4</th>\n",
       "      <td>ctabGAN-qt</td>\n",
       "      <td>956.384398</td>\n",
       "    </tr>\n",
       "    <tr>\n",
       "      <th>5</th>\n",
       "      <td>ctabGAN-qtr</td>\n",
       "      <td>911.929267</td>\n",
       "    </tr>\n",
       "    <tr>\n",
       "      <th>6</th>\n",
       "      <td>GaussianCopula</td>\n",
       "      <td>169.853392</td>\n",
       "    </tr>\n",
       "    <tr>\n",
       "      <th>7</th>\n",
       "      <td>CTGAN-pac1</td>\n",
       "      <td>3801.962512</td>\n",
       "    </tr>\n",
       "    <tr>\n",
       "      <th>8</th>\n",
       "      <td>CTGAN-pac10</td>\n",
       "      <td>3929.697039</td>\n",
       "    </tr>\n",
       "    <tr>\n",
       "      <th>9</th>\n",
       "      <td>CopulaGAN</td>\n",
       "      <td>2861.097259</td>\n",
       "    </tr>\n",
       "    <tr>\n",
       "      <th>10</th>\n",
       "      <td>TVAE-orig</td>\n",
       "      <td>248.595537</td>\n",
       "    </tr>\n",
       "    <tr>\n",
       "      <th>11</th>\n",
       "      <td>TVAE-mod</td>\n",
       "      <td>239.082860</td>\n",
       "    </tr>\n",
       "    <tr>\n",
       "      <th>12</th>\n",
       "      <td>TabFairGAN</td>\n",
       "      <td>829.144123</td>\n",
       "    </tr>\n",
       "  </tbody>\n",
       "</table>\n",
       "</div>"
      ],
      "text/plain": [
       "            Method         Time\n",
       "0        tabGAN-sd   561.346385\n",
       "1        tabGAN-qt   548.575309\n",
       "2       tabGAN-qtr   604.142579\n",
       "3       ctabGAN-sd   941.860568\n",
       "4       ctabGAN-qt   956.384398\n",
       "5      ctabGAN-qtr   911.929267\n",
       "6   GaussianCopula   169.853392\n",
       "7       CTGAN-pac1  3801.962512\n",
       "8      CTGAN-pac10  3929.697039\n",
       "9        CopulaGAN  2861.097259\n",
       "10       TVAE-orig   248.595537\n",
       "11        TVAE-mod   239.082860\n",
       "12      TabFairGAN   829.144123"
      ]
     },
     "execution_count": 35,
     "metadata": {},
     "output_type": "execute_result"
    }
   ],
   "source": [
    "import helpers.eval\n",
    "helpers.eval.synthesizer_speed([\"tabGAN-sd\", \"tabGAN-qt\", \"tabGAN-qtr\", \"ctabGAN-sd\", \"ctabGAN-qt\", \"ctabGAN-qtr\",\n",
    "                               \"GaussianCopula\", \"CTGAN-pac1\", \"CTGAN-pac10\", \"CopulaGAN\", \"TVAE-orig\", \"TVAE-mod\",\n",
    "                               \"TabFairGAN\"],\n",
    "                                rotation_x_axis_labels=75,\n",
    "                               plot=True,\n",
    "                              save_dir=const.dir.images(), save_path=\"total_synthesizer_train_time.pdf\",\n",
    "                              figsize=(10,6))"
   ]
  },
  {
   "cell_type": "code",
   "execution_count": 5,
   "id": "78c96361",
   "metadata": {},
   "outputs": [
    {
     "data": {
      "text/plain": [
       "'3.4.3'"
      ]
     },
     "execution_count": 5,
     "metadata": {},
     "output_type": "execute_result"
    }
   ],
   "source": [
    "matplotlib.__version__"
   ]
  },
  {
   "cell_type": "code",
   "execution_count": null,
   "id": "0bcbb863",
   "metadata": {},
   "outputs": [],
   "source": []
  },
  {
   "cell_type": "code",
   "execution_count": 7,
   "id": "9060f016",
   "metadata": {},
   "outputs": [],
   "source": [
    "??helpers.eval.synthesizer_speed"
   ]
  },
  {
   "cell_type": "code",
   "execution_count": null,
   "id": "52bee0c1",
   "metadata": {},
   "outputs": [],
   "source": []
  }
 ],
 "metadata": {
  "kernelspec": {
   "display_name": "tf2.4",
   "language": "python",
   "name": "tf2.4"
  },
  "language_info": {
   "codemirror_mode": {
    "name": "ipython",
    "version": 3
   },
   "file_extension": ".py",
   "mimetype": "text/x-python",
   "name": "python",
   "nbconvert_exporter": "python",
   "pygments_lexer": "ipython3",
   "version": "3.7.11"
  }
 },
 "nbformat": 4,
 "nbformat_minor": 5
}
