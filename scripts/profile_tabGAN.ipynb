{
 "cells": [
  {
   "cell_type": "code",
   "execution_count": 6,
   "id": "3e44f742",
   "metadata": {},
   "outputs": [
    {
     "name": "stdout",
     "output_type": "stream",
     "text": [
      "The autoreload extension is already loaded. To reload it, use:\n",
      "  %reload_ext autoreload\n"
     ]
    }
   ],
   "source": [
    "import pathlib\n",
    "import os\n",
    "if not \"changed_working_directory\" in locals():\n",
    "    changed_working_directory = True\n",
    "    os.chdir(pathlib.Path().resolve().parent)\n",
    "    \n",
    "%load_ext autoreload\n",
    "%autoreload 2"
   ]
  },
  {
   "cell_type": "code",
   "execution_count": 7,
   "id": "310497c9",
   "metadata": {},
   "outputs": [],
   "source": [
    "from tabGAN.tabGAN import TabGAN\n",
    "from src import constants as const\n",
    "import utils\n",
    "\n",
    "imports_path = \"src//imports.ipynb\"\n",
    "tabGAN_path = \"tabGAN.py\"\n",
    "utils_path = \"utils\\\\utils.ipynb\"\n",
    "\n",
    "%run \"$imports_path\""
   ]
  },
  {
   "cell_type": "code",
   "execution_count": 8,
   "id": "7ef082f2",
   "metadata": {},
   "outputs": [],
   "source": [
    "if const.dir.project() != os.getcwd():\n",
    "    raise ValueError(\"Project directory not the same as in consts\")"
   ]
  },
  {
   "cell_type": "code",
   "execution_count": 9,
   "id": "e98cd836",
   "metadata": {},
   "outputs": [],
   "source": [
    "dataset_train_path = os.path.join(const.dir.data(), \"df_adult_edited_train.csv\")\n",
    "dataset_test_path = os.path.join(const.dir.data(), \"df_adult_edited_test.csv\")\n",
    "\n",
    "data_train = pd.read_csv(dataset_train_path)\n",
    "data_test = pd.read_csv(dataset_test_path)\n",
    "discrete_columns = data_train.columns[data_train.dtypes == \"object\"]"
   ]
  },
  {
   "cell_type": "code",
   "execution_count": 10,
   "id": "5c5af798",
   "metadata": {},
   "outputs": [
    {
     "name": "stdout",
     "output_type": "stream",
     "text": [
      "The line_profiler extension is already loaded. To reload it, use:\n",
      "  %reload_ext line_profiler\n"
     ]
    }
   ],
   "source": [
    "%load_ext line_profiler\n",
    "n_epochs = 100\n",
    "n_critic = 10\n",
    "adam_lr = 0.0002\n",
    "adam_beta1 = 0.5\n",
    "noise_discrete_unif_max = 0\n",
    "\n",
    "batch_size = 500\n",
    "\n",
    "n_synthetic_datasets = 10\n",
    "n_synthetic_datasets_existing = 0\n",
    "\n",
    "retrain = False\n",
    "\n",
    "tg_qtr = TabGAN(data_train, n_critic = n_critic, opt_lr = adam_lr, adam_beta1 = adam_beta1,\n",
    "              quantile_transformation_int = True, quantile_rand_transformation = False,\n",
    "             noise_discrete_unif_max = noise_discrete_unif_max,\n",
    "                gumbel_temperature = 0.5)\n",
    "\n",
    "from utils.tictoc import tic, toc"
   ]
  },
  {
   "cell_type": "code",
   "execution_count": null,
   "id": "5ce6a860",
   "metadata": {},
   "outputs": [],
   "source": [
    "tic()\n",
    "with tf.device('/CPU:0'):\n",
    "    tg_qtr.train(100, restart_training=True, progress_bar=True)\n",
    "toc()"
   ]
  },
  {
   "cell_type": "raw",
   "id": "d9e38bde",
   "metadata": {},
   "source": [
    "tic()\n",
    "%lprun -f tg_qtr.train_step_func tg_qtr.train(100, restart_training=True, progress_bar=True)\n",
    "toc()"
   ]
  },
  {
   "cell_type": "code",
   "execution_count": null,
   "id": "386d1e8d",
   "metadata": {},
   "outputs": [],
   "source": [
    "tic()\n",
    "%lprun -f tg_qtr.train_step_func tg_qtr.train(10, restart_training=True, progress_bar=True, tf_make_train_step_graph=False)\n",
    "toc()"
   ]
  },
  {
   "cell_type": "code",
   "execution_count": null,
   "id": "79cab685",
   "metadata": {},
   "outputs": [],
   "source": [
    "tf.config.list_physical_devices()"
   ]
  },
  {
   "cell_type": "code",
   "execution_count": null,
   "id": "be54186a",
   "metadata": {},
   "outputs": [],
   "source": [
    "model = tf.keras.Sequential(\n",
    "    [\n",
    "        tf.keras.layers.Flatten(input_shape=(28, 28)),\n",
    "        tf.keras.layers.Dense(32, activation=\"relu\"),\n",
    "        tf.keras.layers.Dropout(0.2),\n",
    "        tf.keras.layers.Dense(10, activation=\"softmax\"),\n",
    "    ]\n",
    ")\n",
    "\n",
    "\n",
    "@tf.function\n",
    "def traceme(x):\n",
    "    return model(x)\n",
    "%load_ext tensorboard\n",
    "import time"
   ]
  },
  {
   "cell_type": "code",
   "execution_count": null,
   "id": "8254a79c",
   "metadata": {},
   "outputs": [],
   "source": [
    "a = tf.constant([1, 2, 3, 4, 5, 6], shape=[2, 3])\n",
    "b = tf.constant([7, 8, 9, 10, 11, 12], shape=[3, 2])"
   ]
  },
  {
   "cell_type": "code",
   "execution_count": null,
   "id": "14428bc2",
   "metadata": {},
   "outputs": [],
   "source": []
  },
  {
   "cell_type": "code",
   "execution_count": null,
   "id": "9d0f6679",
   "metadata": {
    "scrolled": false
   },
   "outputs": [],
   "source": [
    "%tensorboard --logdir=logdir"
   ]
  },
  {
   "cell_type": "code",
   "execution_count": null,
   "id": "5bc9561d",
   "metadata": {},
   "outputs": [],
   "source": [
    "tf.profiler.experimental.start('logdir')\n",
    "with tf.profiler.experimental.Trace('train', _r=1):\n",
    "    for i in range(5):\n",
    "        with tf.profiler.experimental.Trace('train_step', step_num=i, _r=1):\n",
    "            test_measure()\n",
    "tf.profiler.experimental.stop()"
   ]
  },
  {
   "cell_type": "code",
   "execution_count": null,
   "id": "e657ba8e",
   "metadata": {},
   "outputs": [],
   "source": [
    "@tf.function\n",
    "def test_measure():\n",
    "    with tf.profiler.experimental.Trace('data_load', _r=1):\n",
    "        for i in range(1000):\n",
    "            c = tf.matmul(a, b)\n",
    "    with tf.profiler.experimental.Trace('model_train', _r=1):\n",
    "        for i in range(1000):\n",
    "            c = tf.matmul(a, b)"
   ]
  },
  {
   "cell_type": "code",
   "execution_count": null,
   "id": "ccb37f85",
   "metadata": {},
   "outputs": [],
   "source": [
    "tf.profiler.experimental.stop()"
   ]
  },
  {
   "cell_type": "code",
   "execution_count": 20,
   "id": "e51f0ada",
   "metadata": {},
   "outputs": [],
   "source": [
    "tg_qtr = TabGAN(data_train, n_critic = 1, opt_lr = adam_lr, adam_beta1 = adam_beta1,\n",
    "              quantile_transformation_int = True, quantile_rand_transformation = False,\n",
    "             noise_discrete_unif_max = noise_discrete_unif_max,\n",
    "                gumbel_temperature = 0.5)"
   ]
  },
  {
   "cell_type": "code",
   "execution_count": 24,
   "id": "fdc5d31d",
   "metadata": {
    "scrolled": true
   },
   "outputs": [
    {
     "name": "stdout",
     "output_type": "stream",
     "text": [
      "The tensorboard extension is already loaded. To reload it, use:\n",
      "  %reload_ext tensorboard\n"
     ]
    },
    {
     "data": {
      "text/plain": [
       "Reusing TensorBoard on port 6006 (pid 26400), started 1:11:55 ago. (Use '!kill 26400' to kill it.)"
      ]
     },
     "metadata": {},
     "output_type": "display_data"
    },
    {
     "data": {
      "text/html": [
       "\n",
       "      <iframe id=\"tensorboard-frame-d8f8e863a0ab83e0\" width=\"100%\" height=\"800\" frameborder=\"0\">\n",
       "      </iframe>\n",
       "      <script>\n",
       "        (function() {\n",
       "          const frame = document.getElementById(\"tensorboard-frame-d8f8e863a0ab83e0\");\n",
       "          const url = new URL(\"/\", window.location);\n",
       "          const port = 6006;\n",
       "          if (port) {\n",
       "            url.port = port;\n",
       "          }\n",
       "          frame.src = url;\n",
       "        })();\n",
       "      </script>\n",
       "    "
      ],
      "text/plain": [
       "<IPython.core.display.HTML object>"
      ]
     },
     "metadata": {},
     "output_type": "display_data"
    }
   ],
   "source": [
    "%load_ext tensorboard\n",
    "%tensorboard --logdir=logdir"
   ]
  },
  {
   "cell_type": "code",
   "execution_count": 23,
   "id": "27945140",
   "metadata": {},
   "outputs": [
    {
     "data": {
      "application/vnd.jupyter.widget-view+json": {
       "model_id": "",
       "version_major": 2,
       "version_minor": 0
      },
      "text/plain": [
       "  0%|          | 0/4 [00:00<?, ?it/s]"
      ]
     },
     "metadata": {},
     "output_type": "display_data"
    }
   ],
   "source": [
    "tg_qtr.train(4, restart_training=True, progress_bar=True,\n",
    "             tf_profile_train_step_range=[2,3], tf_profile_log_dir=\"logdir\")"
   ]
  },
  {
   "cell_type": "code",
   "execution_count": null,
   "id": "a10f48b0",
   "metadata": {},
   "outputs": [],
   "source": []
  }
 ],
 "metadata": {
  "kernelspec": {
   "display_name": "tf",
   "language": "python",
   "name": "tf"
  },
  "language_info": {
   "codemirror_mode": {
    "name": "ipython",
    "version": 3
   },
   "file_extension": ".py",
   "mimetype": "text/x-python",
   "name": "python",
   "nbconvert_exporter": "python",
   "pygments_lexer": "ipython3",
   "version": "3.7.11"
  }
 },
 "nbformat": 4,
 "nbformat_minor": 5
}
