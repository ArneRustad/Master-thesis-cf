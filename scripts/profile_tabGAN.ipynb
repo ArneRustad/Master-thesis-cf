{
 "cells": [
  {
   "cell_type": "code",
   "execution_count": 1,
   "id": "45c4faa9",
   "metadata": {},
   "outputs": [],
   "source": [
    "import pathlib\n",
    "import os\n",
    "if not \"changed_working_directory\" in locals():\n",
    "    changed_working_directory = True\n",
    "    os.chdir(pathlib.Path().resolve().parent)\n",
    "    \n",
    "%load_ext autoreload\n",
    "%autoreload 2"
   ]
  },
  {
   "cell_type": "code",
   "execution_count": 2,
   "id": "36c0f428",
   "metadata": {},
   "outputs": [],
   "source": [
    "from tabGAN.tabGAN import TabGAN\n",
    "from src import constants as const\n",
    "import utils\n",
    "\n",
    "imports_path = \"src//imports.ipynb\"\n",
    "tabGAN_path = \"tabGAN.py\"\n",
    "utils_path = \"utils\\\\utils.ipynb\"\n",
    "\n",
    "%run \"$imports_path\""
   ]
  },
  {
   "cell_type": "code",
   "execution_count": 3,
   "id": "d111406c",
   "metadata": {},
   "outputs": [],
   "source": [
    "if const.dir.project() != os.getcwd():\n",
    "    raise ValueError(\"Project directory not the same as in consts\")"
   ]
  },
  {
   "cell_type": "code",
   "execution_count": 4,
   "id": "53f803e1",
   "metadata": {},
   "outputs": [],
   "source": [
    "dataset_train_path = os.path.join(const.dir.data(), \"df_adult_edited_train.csv\")\n",
    "dataset_test_path = os.path.join(const.dir.data(), \"df_adult_edited_test.csv\")\n",
    "\n",
    "data_train = pd.read_csv(dataset_train_path)\n",
    "data_test = pd.read_csv(dataset_test_path)\n",
    "discrete_columns = data_train.columns[data_train.dtypes == \"object\"]"
   ]
  },
  {
   "cell_type": "code",
   "execution_count": 14,
   "id": "3d8e3fa9",
   "metadata": {},
   "outputs": [
    {
     "name": "stdout",
     "output_type": "stream",
     "text": [
      "The line_profiler extension is already loaded. To reload it, use:\n",
      "  %reload_ext line_profiler\n"
     ]
    }
   ],
   "source": [
    "%load_ext line_profiler\n",
    "n_epochs = 100\n",
    "n_critic = 10\n",
    "adam_lr = 0.0002\n",
    "adam_beta1 = 0.5\n",
    "noise_discrete_unif_max = 0\n",
    "\n",
    "batch_size = 500\n",
    "\n",
    "n_synthetic_datasets = 10\n",
    "n_synthetic_datasets_existing = 0\n",
    "\n",
    "retrain = False\n",
    "\n",
    "tg_qtr = TabGAN(data_train, n_critic = n_critic, opt_lr = adam_lr, adam_beta1 = adam_beta1,\n",
    "              quantile_transformation_int = True, quantile_rand_transformation = False,\n",
    "             noise_discrete_unif_max = noise_discrete_unif_max,\n",
    "                gumbel_temperature = 0.5)\n",
    "\n",
    "from utils.tictoc import tic, toc"
   ]
  },
  {
   "cell_type": "code",
   "execution_count": null,
   "id": "9f2db5fe",
   "metadata": {},
   "outputs": [],
   "source": [
    "tic()\n",
    "with tf.device('/CPU:0'):\n",
    "    tg_qtr.train(100, restart_training=True, progress_bar=True)\n",
    "toc()"
   ]
  },
  {
   "cell_type": "raw",
   "id": "bbd06dac",
   "metadata": {},
   "source": [
    "tic()\n",
    "%lprun -f tg_qtr.train_step_func tg_qtr.train(100, restart_training=True, progress_bar=True)\n",
    "toc()"
   ]
  },
  {
   "cell_type": "code",
   "execution_count": 16,
   "id": "f8553062",
   "metadata": {},
   "outputs": [
    {
     "data": {
      "application/vnd.jupyter.widget-view+json": {
       "model_id": "",
       "version_major": 2,
       "version_minor": 0
      },
      "text/plain": [
       "  0%|          | 0/10 [00:00<?, ?it/s]"
      ]
     },
     "metadata": {},
     "output_type": "display_data"
    },
    {
     "name": "stdout",
     "output_type": "stream",
     "text": [
      "Elapsed time: 634.700985 seconds.\n",
      "\n"
     ]
    }
   ],
   "source": [
    "tic()\n",
    "%lprun -f tg_qtr.train_step_func tg_qtr.train(10, restart_training=True, progress_bar=True, tf_make_train_step_graph=False)\n",
    "toc()"
   ]
  },
  {
   "cell_type": "code",
   "execution_count": null,
   "id": "ccda833e",
   "metadata": {},
   "outputs": [],
   "source": [
    "tf.config.list_physical_devices()"
   ]
  },
  {
   "cell_type": "code",
   "execution_count": 6,
   "id": "5e53e10a",
   "metadata": {},
   "outputs": [],
   "source": [
    "model = tf.keras.Sequential(\n",
    "    [\n",
    "        tf.keras.layers.Flatten(input_shape=(28, 28)),\n",
    "        tf.keras.layers.Dense(32, activation=\"relu\"),\n",
    "        tf.keras.layers.Dropout(0.2),\n",
    "        tf.keras.layers.Dense(10, activation=\"softmax\"),\n",
    "    ]\n",
    ")\n",
    "\n",
    "\n",
    "@tf.function\n",
    "def traceme(x):\n",
    "    return model(x)\n",
    "%load_ext tensorboard"
   ]
  },
  {
   "cell_type": "code",
   "execution_count": 56,
   "id": "fa28e519",
   "metadata": {},
   "outputs": [],
   "source": [
    "tf.profiler.experimental.start('logdir', options = options)\n",
    "## Train the model here\n",
    "for i in range(10000):\n",
    "    with tf.profiler.experimental.Trace('train', step_num=i, _r=0):\n",
    "        traceme(tf.zeros((1, 28, 28, 1)))\n",
    "tf.profiler.experimental.stop()"
   ]
  },
  {
   "cell_type": "code",
   "execution_count": 57,
   "id": "ac057e59",
   "metadata": {},
   "outputs": [
    {
     "data": {
      "text/plain": [
       "Reusing TensorBoard on port 6006 (pid 19040), started 0:36:01 ago. (Use '!kill 19040' to kill it.)"
      ]
     },
     "metadata": {},
     "output_type": "display_data"
    },
    {
     "data": {
      "text/html": [
       "\n",
       "      <iframe id=\"tensorboard-frame-7b4956cbef44882c\" width=\"100%\" height=\"800\" frameborder=\"0\">\n",
       "      </iframe>\n",
       "      <script>\n",
       "        (function() {\n",
       "          const frame = document.getElementById(\"tensorboard-frame-7b4956cbef44882c\");\n",
       "          const url = new URL(\"/\", window.location);\n",
       "          const port = 6006;\n",
       "          if (port) {\n",
       "            url.port = port;\n",
       "          }\n",
       "          frame.src = url;\n",
       "        })();\n",
       "      </script>\n",
       "    "
      ],
      "text/plain": [
       "<IPython.core.display.HTML object>"
      ]
     },
     "metadata": {},
     "output_type": "display_data"
    }
   ],
   "source": [
    "%tensorboard --logdir=logdir"
   ]
  },
  {
   "cell_type": "code",
   "execution_count": 9,
   "id": "83f7a398",
   "metadata": {},
   "outputs": [],
   "source": [
    "tg_qtr = TabGAN(data_train, n_critic = n_critic, opt_lr = adam_lr, adam_beta1 = adam_beta1,\n",
    "              quantile_transformation_int = True, quantile_rand_transformation = False,\n",
    "             noise_discrete_unif_max = noise_discrete_unif_max,\n",
    "                gumbel_temperature = 0.5)"
   ]
  },
  {
   "cell_type": "code",
   "execution_count": 7,
   "id": "9803f2c7",
   "metadata": {
    "scrolled": true
   },
   "outputs": [
    {
     "data": {
      "text/html": [
       "\n",
       "      <iframe id=\"tensorboard-frame-901fa2825fe56289\" width=\"100%\" height=\"800\" frameborder=\"0\">\n",
       "      </iframe>\n",
       "      <script>\n",
       "        (function() {\n",
       "          const frame = document.getElementById(\"tensorboard-frame-901fa2825fe56289\");\n",
       "          const url = new URL(\"/\", window.location);\n",
       "          const port = 6006;\n",
       "          if (port) {\n",
       "            url.port = port;\n",
       "          }\n",
       "          frame.src = url;\n",
       "        })();\n",
       "      </script>\n",
       "    "
      ],
      "text/plain": [
       "<IPython.core.display.HTML object>"
      ]
     },
     "metadata": {},
     "output_type": "display_data"
    }
   ],
   "source": [
    "%tensorboard --logdir=logTabGAN"
   ]
  },
  {
   "cell_type": "code",
   "execution_count": 10,
   "id": "187f9178",
   "metadata": {},
   "outputs": [
    {
     "data": {
      "application/vnd.jupyter.widget-view+json": {
       "model_id": "",
       "version_major": 2,
       "version_minor": 0
      },
      "text/plain": [
       "  0%|          | 0/10 [00:00<?, ?it/s]"
      ]
     },
     "metadata": {},
     "output_type": "display_data"
    }
   ],
   "source": [
    "tg_qtr.train(10, restart_training=True, progress_bar=True, tf_profile_train_step_range=[5,7], tf_profile_log_dir=\"logTabGAN\")"
   ]
  }
 ],
 "metadata": {
  "kernelspec": {
   "display_name": "tf",
   "language": "python",
   "name": "tf"
  },
  "language_info": {
   "codemirror_mode": {
    "name": "ipython",
    "version": 3
   },
   "file_extension": ".py",
   "mimetype": "text/x-python",
   "name": "python",
   "nbconvert_exporter": "python",
   "pygments_lexer": "ipython3",
   "version": "3.7.11"
  }
 },
 "nbformat": 4,
 "nbformat_minor": 5
}
