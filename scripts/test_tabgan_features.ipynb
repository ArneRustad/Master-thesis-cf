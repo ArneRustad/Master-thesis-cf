{
 "cells": [
  {
   "cell_type": "code",
   "execution_count": 1,
   "id": "041b1934",
   "metadata": {},
   "outputs": [],
   "source": [
    "import pathlib\n",
    "import os\n",
    "if not \"changed_working_directory\" in locals():\n",
    "    changed_working_directory = True\n",
    "    os.chdir(pathlib.Path().resolve().parent)\n",
    "    \n",
    "%load_ext autoreload\n",
    "%autoreload 2"
   ]
  },
  {
   "cell_type": "code",
   "execution_count": 2,
   "id": "1846c318",
   "metadata": {},
   "outputs": [],
   "source": [
    "from tabGAN import TabGAN\n",
    "from src import constants as const\n",
    "import helpers\n",
    "\n",
    "imports_path = \"src//imports.ipynb\"\n",
    "\n",
    "%run \"$imports_path\"\n",
    "\n",
    "if const.dir.project() != os.getcwd():\n",
    "    raise ValueError(\"Project directory not the same as in global vars\")"
   ]
  },
  {
   "cell_type": "code",
   "execution_count": 3,
   "id": "42f3956b",
   "metadata": {},
   "outputs": [],
   "source": [
    "dataset_train_path = os.path.join(const.dir.data(), \"df_adult_edited_train.csv\")\n",
    "dataset_test_path = os.path.join(const.dir.data(), \"df_adult_edited_test.csv\")\n",
    "\n",
    "data_train = pd.read_csv(dataset_train_path)\n",
    "data_test = pd.read_csv(dataset_test_path)\n",
    "discrete_columns = data_train.columns[data_train.dtypes == \"object\"]"
   ]
  },
  {
   "cell_type": "code",
   "execution_count": 4,
   "id": "11c200c3",
   "metadata": {},
   "outputs": [],
   "source": [
    "import sys\n",
    "n_epochs = 300\n",
    "n_critic = 10\n",
    "opt_lr = 0.0002\n",
    "adam_beta1 = 0.5\n",
    "noise_discrete_unif_max = 0\n",
    "\n",
    "batch_size = 500\n",
    "\n",
    "n_synthetic_datasets = 10\n",
    "n_synthetic_datasets_existing = 0\n",
    "\n",
    "if sys.platform == \"win32\":\n",
    "    jit_compile=True\n",
    "elif sys.platform == \"linux\":\n",
    "    jit_compile=False\n",
    "else:\n",
    "    raise RuntimeError(\"Did not recognize the system platform and therefore does not know how to initialize the storage directory path.\")\n",
    "\n",
    "retrain = True"
   ]
  },
  {
   "cell_type": "code",
   "execution_count": null,
   "id": "dc458089",
   "metadata": {},
   "outputs": [],
   "source": [
    "ctg_qtr = TabGAN(data_train, n_critic = n_critic, opt_lr = opt_lr, adam_beta1 = adam_beta1,\n",
    "              quantile_transformation_int = True, quantile_rand_transformation = True,\n",
    "             noise_discrete_unif_max = noise_discrete_unif_max, jit_compile=jit_compile,\n",
    "                ctgan=True, ctgan_binomial_loss=True, ctgan_log_frequency=True,\n",
    "                add_connection_discrete_to_num=True, dim_hidden_layer_discrete_to_num=50,\n",
    "                )\n",
    "ctg_qtr.train(300, batch_size=500, restart_training=False, progress_bar=True)"
   ]
  },
  {
   "cell_type": "code",
   "execution_count": null,
   "id": "388660f4",
   "metadata": {},
   "outputs": [],
   "source": [
    "ctg_qtr.sample()"
   ]
  },
  {
   "cell_type": "code",
   "execution_count": null,
   "id": "72b0c85d",
   "metadata": {},
   "outputs": [],
   "source": [
    "metrics, cats = helpers.eval.fit_and_evaluate_xgboost(data_train, data_test, retcats=True)\n",
    "helpers.eval.fit_and_evaluate_xgboost(ctg_qtr.sample(), data_test, categories=cats)"
   ]
  },
  {
   "cell_type": "code",
   "execution_count": 69,
   "id": "42bc39f0",
   "metadata": {},
   "outputs": [],
   "source": [
    "ctabgan_args_dict = {\n",
    "    \"batch_size\": 500,\n",
    "    \"jit_compile\": True,\n",
    "    # WGAN parameters\n",
    "    \"n_critic\": 10,\n",
    "    \"wgan_lambda\": 10,\n",
    "    # Optimizer parameters\n",
    "    \"optimizer\": \"adam\",\n",
    "    \"opt_lr\": 0.0002,\n",
    "    \"adam_beta1\": 0.5,\n",
    "    \"adam_beta2\": 0.999,\n",
    "    # Transformation parameters\n",
    "    \"quantile_rand_transformation\": True,\n",
    "    \"quantile_transformation_int\": True,\n",
    "    \"qtr_spread\": 0.8,\n",
    "    \"qtr_lbound_apply\": 0.05,\n",
    "    \"max_quantile_share\": 1,\n",
    "    \"n_quantiles_int\": 1000,\n",
    "    \"qt_n_subsample\": 1e5,\n",
    "    \"noise_discrete_unif_max\": 0,\n",
    "    # Neural network parameters\n",
    "    \"gumbel_temperature\": 0.5,\n",
    "    \"activation_function\": \"GELU\",\n",
    "    \"gelu_approximate\": True,\n",
    "    \"dim_hidden\": 256,\n",
    "    \"dim_latent\": 128,\n",
    "    # Conditional sampling parameters\n",
    "    \"ctgan\": True,\n",
    "    \"ctgan_binomial_loss\": True,\n",
    "    \"ctgan_log_frequency\": True,\n",
    "    # Packing parameters\n",
    "    \"pac\": 1\n",
    "}\n",
    "ctg_qtr = TabGAN(data_train, **ctabgan_args_dict,\n",
    "                train_step_critic_same_queries_for_critic_and_gen=True,\n",
    "                 train_step_critic_wgan_penalty_query_diversity=True,\n",
    "                train_step_critic_query_wgan_penalty=False,\n",
    "                 query_input_to_critic=False)"
   ]
  },
  {
   "cell_type": "code",
   "execution_count": null,
   "id": "d22774fd",
   "metadata": {},
   "outputs": [
    {
     "data": {
      "application/vnd.jupyter.widget-view+json": {
       "model_id": "48574fac48884a29b670d780204219c0",
       "version_major": 2,
       "version_minor": 0
      },
      "text/plain": [
       "  0%|          | 0/300 [00:00<?, ?it/s]"
      ]
     },
     "metadata": {},
     "output_type": "display_data"
    },
    {
     "name": "stdout",
     "output_type": "stream",
     "text": [
      "[<tf.Tensor 'gradient_tape/model_53/Combining_input/Slice:0' shape=(500, 6) dtype=float32>, <tf.Tensor 'gradient_tape/model_53/Combining_input/Slice_1:0' shape=(500, 44) dtype=float32>]\n",
      "[<tf.Tensor 'gradient_tape/model_53/Combining_input/Slice:0' shape=(500, 6) dtype=float32>, <tf.Tensor 'gradient_tape/model_53/Combining_input/Slice_1:0' shape=(500, 44) dtype=float32>]\n"
     ]
    }
   ],
   "source": [
    "ctg_qtr.train(300, batch_size=500, restart_training=False, progress_bar=True)"
   ]
  },
  {
   "cell_type": "code",
   "execution_count": 57,
   "id": "d1f56483",
   "metadata": {},
   "outputs": [
    {
     "data": {
      "text/plain": [
       "{'accuracy': 0.8362549800796812,\n",
       " 'auc': 0.8906150076132472,\n",
       " 'f1': 0.7689552000801099,\n",
       " 'f1_0': 0.8936518889080559,\n",
       " 'f1_1': 0.6442585112521639}"
      ]
     },
     "execution_count": 57,
     "metadata": {},
     "output_type": "execute_result"
    }
   ],
   "source": [
    "metrics, cats = helpers.eval.fit_and_evaluate_xgboost(data_train, data_test, retcats=True)\n",
    "helpers.eval.fit_and_evaluate_xgboost(ctg_qtr.sample(), data_test, categories=cats)"
   ]
  },
  {
   "cell_type": "code",
   "execution_count": 49,
   "id": "90de3c81",
   "metadata": {},
   "outputs": [],
   "source": [
    "tabgan_args_dict = {\n",
    "    \"batch_size\": 500,\n",
    "    \"jit_compile\": jit_compile,\n",
    "    # WGAN parameters\n",
    "    \"n_critic\": 10,\n",
    "    \"wgan_lambda\": 10,\n",
    "    # Optimizer parameters\n",
    "    \"optimizer\": \"adam\",\n",
    "    \"opt_lr\": 0.0002,\n",
    "    \"adam_beta1\": 0.5,\n",
    "    \"adam_beta2\": 0.999,\n",
    "    # Transformation parameters\n",
    "    \"quantile_rand_transformation\": True,\n",
    "    \"quantile_transformation_int\": True,\n",
    "    \"qtr_spread\": 0.8,\n",
    "    \"qtr_lbound_apply\": 0.05,\n",
    "    \"max_quantile_share\": 1,\n",
    "    \"n_quantiles_int\": 1000,\n",
    "    \"qt_n_subsample\": 1e5,\n",
    "    \"noise_discrete_unif_max\": 0.01,\n",
    "    # Neural network parameters\n",
    "    \"gumbel_temperature\": 0.1,\n",
    "    \"activation_function\": \"GELU\",\n",
    "    \"gelu_approximate\": True,\n",
    "    \"dim_hidden\": 256,\n",
    "    \"dim_latent\": 128,\n",
    "    # Conditional sampling parameters\n",
    "    \"ctgan\": False,\n",
    "    \"ctgan_binomial_loss\": True,\n",
    "    \"ctgan_log_frequency\": True,\n",
    "    # Packing parameters\n",
    "    \"pac\": 1\n",
    "}\n",
    "tg_qtr_hp = TabGAN(data_train, **tabgan_args_dict)"
   ]
  },
  {
   "cell_type": "code",
   "execution_count": 50,
   "id": "c568ea0f",
   "metadata": {},
   "outputs": [
    {
     "data": {
      "application/vnd.jupyter.widget-view+json": {
       "model_id": "0e68dca5effb4d94815a92db6464b3aa",
       "version_major": 2,
       "version_minor": 0
      },
      "text/plain": [
       "  0%|          | 0/300 [00:00<?, ?it/s]"
      ]
     },
     "metadata": {},
     "output_type": "display_data"
    },
    {
     "ename": "KeyboardInterrupt",
     "evalue": "",
     "output_type": "error",
     "traceback": [
      "\u001b[1;31m---------------------------------------------------------------------------\u001b[0m",
      "\u001b[1;31mKeyboardInterrupt\u001b[0m                         Traceback (most recent call last)",
      "\u001b[1;32m~\\AppData\\Local\\Temp/ipykernel_30456/1741263004.py\u001b[0m in \u001b[0;36m<module>\u001b[1;34m\u001b[0m\n\u001b[1;32m----> 1\u001b[1;33m \u001b[0mtg_qtr_hp\u001b[0m\u001b[1;33m.\u001b[0m\u001b[0mtrain\u001b[0m\u001b[1;33m(\u001b[0m\u001b[1;36m300\u001b[0m\u001b[1;33m,\u001b[0m \u001b[0mbatch_size\u001b[0m\u001b[1;33m=\u001b[0m\u001b[1;36m500\u001b[0m\u001b[1;33m,\u001b[0m \u001b[0mrestart_training\u001b[0m\u001b[1;33m=\u001b[0m\u001b[1;32mFalse\u001b[0m\u001b[1;33m,\u001b[0m \u001b[0mprogress_bar\u001b[0m\u001b[1;33m=\u001b[0m\u001b[1;32mTrue\u001b[0m\u001b[1;33m)\u001b[0m\u001b[1;33m\u001b[0m\u001b[1;33m\u001b[0m\u001b[0m\n\u001b[0m",
      "\u001b[1;32m\\\\sambaad.stud.ntnu.no\\arneir\\Master-thesis-cf\\tabGAN\\tabGAN.py\u001b[0m in \u001b[0;36mtrain\u001b[1;34m(self, n_epochs, batch_size, restart_training, progress_bar, progress_bar_desc, plot_loss, plot2D_image, plot2D_image_real_time, plot_time, plot_loss_type, plot_loss_real_time, plot_loss_update_every, plot_loss_title, ckpt_every, tf_make_graph, save_dir, filename_plot_loss, filename_plot2D, save_loss, plot_loss_incl_generator_loss, plot2D_num_cols, plot2D_discrete_col, plot2D_color_opacity, plot2D_n_save_img, plot2D_save_int, plot2D_background_func, plot2D_n_img_horiz, plot2D_inv_scale, plot2D_n_test, tf_profile_train_step_range, tf_profile_log_dir)\u001b[0m\n\u001b[0;32m   1083\u001b[0m                         \u001b[1;32mwith\u001b[0m \u001b[0mtf\u001b[0m\u001b[1;33m.\u001b[0m\u001b[0mprofiler\u001b[0m\u001b[1;33m.\u001b[0m\u001b[0mexperimental\u001b[0m\u001b[1;33m.\u001b[0m\u001b[0mTrace\u001b[0m\u001b[1;33m(\u001b[0m\u001b[1;34m'train_step'\u001b[0m\u001b[1;33m,\u001b[0m \u001b[0mstep_num\u001b[0m\u001b[1;33m=\u001b[0m\u001b[0mepoch\u001b[0m\u001b[1;33m,\u001b[0m \u001b[0m_r\u001b[0m\u001b[1;33m=\u001b[0m\u001b[1;36m1\u001b[0m\u001b[1;33m)\u001b[0m\u001b[1;33m:\u001b[0m\u001b[1;33m\u001b[0m\u001b[1;33m\u001b[0m\u001b[0m\n\u001b[0;32m   1084\u001b[0m                             em_distance_batch, gen_loss_batch = self.train_step(batch_size,\n\u001b[1;32m-> 1085\u001b[1;33m                                                                                 ret_loss=plot_loss_any)\n\u001b[0m\u001b[0;32m   1086\u001b[0m                         \u001b[1;32mif\u001b[0m \u001b[0mplot_loss_any\u001b[0m\u001b[1;33m:\u001b[0m\u001b[1;33m\u001b[0m\u001b[1;33m\u001b[0m\u001b[0m\n\u001b[0;32m   1087\u001b[0m                             \u001b[0mg_loss\u001b[0m \u001b[1;33m+=\u001b[0m \u001b[0mgen_loss_batch\u001b[0m\u001b[1;33m\u001b[0m\u001b[1;33m\u001b[0m\u001b[0m\n",
      "\u001b[1;32m~\\anaconda3\\envs\\tf\\lib\\site-packages\\tensorflow\\python\\eager\\def_function.py\u001b[0m in \u001b[0;36m__call__\u001b[1;34m(self, *args, **kwds)\u001b[0m\n\u001b[0;32m    826\u001b[0m     \u001b[0mtracing_count\u001b[0m \u001b[1;33m=\u001b[0m \u001b[0mself\u001b[0m\u001b[1;33m.\u001b[0m\u001b[0mexperimental_get_tracing_count\u001b[0m\u001b[1;33m(\u001b[0m\u001b[1;33m)\u001b[0m\u001b[1;33m\u001b[0m\u001b[1;33m\u001b[0m\u001b[0m\n\u001b[0;32m    827\u001b[0m     \u001b[1;32mwith\u001b[0m \u001b[0mtrace\u001b[0m\u001b[1;33m.\u001b[0m\u001b[0mTrace\u001b[0m\u001b[1;33m(\u001b[0m\u001b[0mself\u001b[0m\u001b[1;33m.\u001b[0m\u001b[0m_name\u001b[0m\u001b[1;33m)\u001b[0m \u001b[1;32mas\u001b[0m \u001b[0mtm\u001b[0m\u001b[1;33m:\u001b[0m\u001b[1;33m\u001b[0m\u001b[1;33m\u001b[0m\u001b[0m\n\u001b[1;32m--> 828\u001b[1;33m       \u001b[0mresult\u001b[0m \u001b[1;33m=\u001b[0m \u001b[0mself\u001b[0m\u001b[1;33m.\u001b[0m\u001b[0m_call\u001b[0m\u001b[1;33m(\u001b[0m\u001b[1;33m*\u001b[0m\u001b[0margs\u001b[0m\u001b[1;33m,\u001b[0m \u001b[1;33m**\u001b[0m\u001b[0mkwds\u001b[0m\u001b[1;33m)\u001b[0m\u001b[1;33m\u001b[0m\u001b[1;33m\u001b[0m\u001b[0m\n\u001b[0m\u001b[0;32m    829\u001b[0m       \u001b[0mcompiler\u001b[0m \u001b[1;33m=\u001b[0m \u001b[1;34m\"xla\"\u001b[0m \u001b[1;32mif\u001b[0m \u001b[0mself\u001b[0m\u001b[1;33m.\u001b[0m\u001b[0m_experimental_compile\u001b[0m \u001b[1;32melse\u001b[0m \u001b[1;34m\"nonXla\"\u001b[0m\u001b[1;33m\u001b[0m\u001b[1;33m\u001b[0m\u001b[0m\n\u001b[0;32m    830\u001b[0m       \u001b[0mnew_tracing_count\u001b[0m \u001b[1;33m=\u001b[0m \u001b[0mself\u001b[0m\u001b[1;33m.\u001b[0m\u001b[0mexperimental_get_tracing_count\u001b[0m\u001b[1;33m(\u001b[0m\u001b[1;33m)\u001b[0m\u001b[1;33m\u001b[0m\u001b[1;33m\u001b[0m\u001b[0m\n",
      "\u001b[1;32m~\\anaconda3\\envs\\tf\\lib\\site-packages\\tensorflow\\python\\eager\\def_function.py\u001b[0m in \u001b[0;36m_call\u001b[1;34m(self, *args, **kwds)\u001b[0m\n\u001b[0;32m    860\u001b[0m       \u001b[1;31m# In this case we have not created variables on the first call. So we can\u001b[0m\u001b[1;33m\u001b[0m\u001b[1;33m\u001b[0m\u001b[1;33m\u001b[0m\u001b[0m\n\u001b[0;32m    861\u001b[0m       \u001b[1;31m# run the first trace but we should fail if variables are created.\u001b[0m\u001b[1;33m\u001b[0m\u001b[1;33m\u001b[0m\u001b[1;33m\u001b[0m\u001b[0m\n\u001b[1;32m--> 862\u001b[1;33m       \u001b[0mresults\u001b[0m \u001b[1;33m=\u001b[0m \u001b[0mself\u001b[0m\u001b[1;33m.\u001b[0m\u001b[0m_stateful_fn\u001b[0m\u001b[1;33m(\u001b[0m\u001b[1;33m*\u001b[0m\u001b[0margs\u001b[0m\u001b[1;33m,\u001b[0m \u001b[1;33m**\u001b[0m\u001b[0mkwds\u001b[0m\u001b[1;33m)\u001b[0m\u001b[1;33m\u001b[0m\u001b[1;33m\u001b[0m\u001b[0m\n\u001b[0m\u001b[0;32m    863\u001b[0m       \u001b[1;32mif\u001b[0m \u001b[0mself\u001b[0m\u001b[1;33m.\u001b[0m\u001b[0m_created_variables\u001b[0m\u001b[1;33m:\u001b[0m\u001b[1;33m\u001b[0m\u001b[1;33m\u001b[0m\u001b[0m\n\u001b[0;32m    864\u001b[0m         raise ValueError(\"Creating variables on a non-first call to a function\"\n",
      "\u001b[1;32m~\\anaconda3\\envs\\tf\\lib\\site-packages\\tensorflow\\python\\eager\\function.py\u001b[0m in \u001b[0;36m__call__\u001b[1;34m(self, *args, **kwargs)\u001b[0m\n\u001b[0;32m   2941\u001b[0m        filtered_flat_args) = self._maybe_define_function(args, kwargs)\n\u001b[0;32m   2942\u001b[0m     return graph_function._call_flat(\n\u001b[1;32m-> 2943\u001b[1;33m         filtered_flat_args, captured_inputs=graph_function.captured_inputs)  # pylint: disable=protected-access\n\u001b[0m\u001b[0;32m   2944\u001b[0m \u001b[1;33m\u001b[0m\u001b[0m\n\u001b[0;32m   2945\u001b[0m   \u001b[1;33m@\u001b[0m\u001b[0mproperty\u001b[0m\u001b[1;33m\u001b[0m\u001b[1;33m\u001b[0m\u001b[0m\n",
      "\u001b[1;32m~\\anaconda3\\envs\\tf\\lib\\site-packages\\tensorflow\\python\\eager\\function.py\u001b[0m in \u001b[0;36m_call_flat\u001b[1;34m(self, args, captured_inputs, cancellation_manager)\u001b[0m\n\u001b[0;32m   1917\u001b[0m       \u001b[1;31m# No tape is watching; skip to running the function.\u001b[0m\u001b[1;33m\u001b[0m\u001b[1;33m\u001b[0m\u001b[1;33m\u001b[0m\u001b[0m\n\u001b[0;32m   1918\u001b[0m       return self._build_call_outputs(self._inference_function.call(\n\u001b[1;32m-> 1919\u001b[1;33m           ctx, args, cancellation_manager=cancellation_manager))\n\u001b[0m\u001b[0;32m   1920\u001b[0m     forward_backward = self._select_forward_and_backward_functions(\n\u001b[0;32m   1921\u001b[0m         \u001b[0margs\u001b[0m\u001b[1;33m,\u001b[0m\u001b[1;33m\u001b[0m\u001b[1;33m\u001b[0m\u001b[0m\n",
      "\u001b[1;32m~\\anaconda3\\envs\\tf\\lib\\site-packages\\tensorflow\\python\\eager\\function.py\u001b[0m in \u001b[0;36mcall\u001b[1;34m(self, ctx, args, cancellation_manager)\u001b[0m\n\u001b[0;32m    558\u001b[0m               \u001b[0minputs\u001b[0m\u001b[1;33m=\u001b[0m\u001b[0margs\u001b[0m\u001b[1;33m,\u001b[0m\u001b[1;33m\u001b[0m\u001b[1;33m\u001b[0m\u001b[0m\n\u001b[0;32m    559\u001b[0m               \u001b[0mattrs\u001b[0m\u001b[1;33m=\u001b[0m\u001b[0mattrs\u001b[0m\u001b[1;33m,\u001b[0m\u001b[1;33m\u001b[0m\u001b[1;33m\u001b[0m\u001b[0m\n\u001b[1;32m--> 560\u001b[1;33m               ctx=ctx)\n\u001b[0m\u001b[0;32m    561\u001b[0m         \u001b[1;32melse\u001b[0m\u001b[1;33m:\u001b[0m\u001b[1;33m\u001b[0m\u001b[1;33m\u001b[0m\u001b[0m\n\u001b[0;32m    562\u001b[0m           outputs = execute.execute_with_cancellation(\n",
      "\u001b[1;32m~\\anaconda3\\envs\\tf\\lib\\site-packages\\tensorflow\\python\\eager\\execute.py\u001b[0m in \u001b[0;36mquick_execute\u001b[1;34m(op_name, num_outputs, inputs, attrs, ctx, name)\u001b[0m\n\u001b[0;32m     58\u001b[0m     \u001b[0mctx\u001b[0m\u001b[1;33m.\u001b[0m\u001b[0mensure_initialized\u001b[0m\u001b[1;33m(\u001b[0m\u001b[1;33m)\u001b[0m\u001b[1;33m\u001b[0m\u001b[1;33m\u001b[0m\u001b[0m\n\u001b[0;32m     59\u001b[0m     tensors = pywrap_tfe.TFE_Py_Execute(ctx._handle, device_name, op_name,\n\u001b[1;32m---> 60\u001b[1;33m                                         inputs, attrs, num_outputs)\n\u001b[0m\u001b[0;32m     61\u001b[0m   \u001b[1;32mexcept\u001b[0m \u001b[0mcore\u001b[0m\u001b[1;33m.\u001b[0m\u001b[0m_NotOkStatusException\u001b[0m \u001b[1;32mas\u001b[0m \u001b[0me\u001b[0m\u001b[1;33m:\u001b[0m\u001b[1;33m\u001b[0m\u001b[1;33m\u001b[0m\u001b[0m\n\u001b[0;32m     62\u001b[0m     \u001b[1;32mif\u001b[0m \u001b[0mname\u001b[0m \u001b[1;32mis\u001b[0m \u001b[1;32mnot\u001b[0m \u001b[1;32mNone\u001b[0m\u001b[1;33m:\u001b[0m\u001b[1;33m\u001b[0m\u001b[1;33m\u001b[0m\u001b[0m\n",
      "\u001b[1;31mKeyboardInterrupt\u001b[0m: "
     ]
    }
   ],
   "source": [
    "tg_qtr_hp.train(300, batch_size=500, restart_training=False, progress_bar=True)"
   ]
  },
  {
   "cell_type": "code",
   "execution_count": 15,
   "id": "da6b11d9",
   "metadata": {},
   "outputs": [
    {
     "data": {
      "text/plain": [
       "{'accuracy': 0.8422310756972111,\n",
       " 'auc': 0.8958616887133612,\n",
       " 'f1': 0.7819163174408145,\n",
       " 'f1_0': 0.8966057441253265,\n",
       " 'f1_1': 0.6672268907563025}"
      ]
     },
     "execution_count": 15,
     "metadata": {},
     "output_type": "execute_result"
    }
   ],
   "source": [
    "metrics, cats = helpers.eval.fit_and_evaluate_xgboost(data_train, data_test, retcats=True)\n",
    "helpers.eval.fit_and_evaluate_xgboost(tg_qtr_hp.sample(), data_test, categories=cats)"
   ]
  },
  {
   "cell_type": "code",
   "execution_count": null,
   "id": "b74edc96",
   "metadata": {},
   "outputs": [],
   "source": []
  }
 ],
 "metadata": {
  "kernelspec": {
   "display_name": "tf",
   "language": "python",
   "name": "tf"
  },
  "language_info": {
   "codemirror_mode": {
    "name": "ipython",
    "version": 3
   },
   "file_extension": ".py",
   "mimetype": "text/x-python",
   "name": "python",
   "nbconvert_exporter": "python",
   "pygments_lexer": "ipython3",
   "version": "3.7.11"
  }
 },
 "nbformat": 4,
 "nbformat_minor": 5
}
