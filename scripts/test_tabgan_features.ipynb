{
 "cells": [
  {
   "cell_type": "code",
   "execution_count": 1,
   "id": "031a5c63",
   "metadata": {},
   "outputs": [],
   "source": [
    "import pathlib\n",
    "import os\n",
    "if not \"changed_working_directory\" in locals():\n",
    "    changed_working_directory = True\n",
    "    os.chdir(pathlib.Path().resolve().parent)\n",
    "    \n",
    "%load_ext autoreload\n",
    "%autoreload 2"
   ]
  },
  {
   "cell_type": "code",
   "execution_count": 2,
   "id": "fc75e090",
   "metadata": {},
   "outputs": [],
   "source": [
    "from tabGAN import TabGAN\n",
    "from src import constants as const\n",
    "import helpers\n",
    "\n",
    "imports_path = \"src//imports.ipynb\"\n",
    "\n",
    "%run \"$imports_path\"\n",
    "\n",
    "if const.dir.project() != os.getcwd():\n",
    "    raise ValueError(\"Project directory not the same as in global vars\")"
   ]
  },
  {
   "cell_type": "code",
   "execution_count": 3,
   "id": "01e21cd2",
   "metadata": {},
   "outputs": [],
   "source": [
    "dataset_train_path = os.path.join(const.dir.data(), \"df_adult_edited_train.csv\")\n",
    "dataset_test_path = os.path.join(const.dir.data(), \"df_adult_edited_test.csv\")\n",
    "\n",
    "data_train = pd.read_csv(dataset_train_path)\n",
    "data_test = pd.read_csv(dataset_test_path)\n",
    "discrete_columns = data_train.columns[data_train.dtypes == \"object\"]"
   ]
  },
  {
   "cell_type": "code",
   "execution_count": 4,
   "id": "c355830e",
   "metadata": {},
   "outputs": [],
   "source": [
    "import sys\n",
    "n_epochs = 300\n",
    "n_critic = 10\n",
    "opt_lr = 0.0002\n",
    "adam_beta1 = 0.5\n",
    "noise_discrete_unif_max = 0\n",
    "\n",
    "batch_size = 500\n",
    "\n",
    "n_synthetic_datasets = 10\n",
    "n_synthetic_datasets_existing = 0\n",
    "\n",
    "if sys.platform == \"win32\":\n",
    "    jit_compile=True\n",
    "elif sys.platform == \"linux\":\n",
    "    jit_compile=False\n",
    "else:\n",
    "    raise RuntimeError(\"Did not recognize the system platform and therefore does not know how to initialize the storage directory path.\")\n",
    "\n",
    "retrain = True"
   ]
  },
  {
   "cell_type": "code",
   "execution_count": null,
   "id": "57699179",
   "metadata": {},
   "outputs": [],
   "source": [
    "ctg_qtr = TabGAN(data_train, n_critic = n_critic, opt_lr = opt_lr, adam_beta1 = adam_beta1,\n",
    "              quantile_transformation_int = True, quantile_rand_transformation = True,\n",
    "             noise_discrete_unif_max = noise_discrete_unif_max, jit_compile=jit_compile,\n",
    "                ctgan=True, ctgan_binomial_loss=True, ctgan_log_frequency=True,\n",
    "                add_connection_discrete_to_num=True, dim_hidden_layer_discrete_to_num=50,\n",
    "                )\n",
    "ctg_qtr.train(300, batch_size=500, restart_training=False, progress_bar=True)"
   ]
  },
  {
   "cell_type": "code",
   "execution_count": null,
   "id": "2080f52b",
   "metadata": {},
   "outputs": [],
   "source": [
    "ctg_qtr.sample()"
   ]
  },
  {
   "cell_type": "code",
   "execution_count": null,
   "id": "b9dd497a",
   "metadata": {},
   "outputs": [],
   "source": [
    "metrics, cats = helpers.eval.fit_and_evaluate_xgboost(data_train, data_test, retcats=True)\n",
    "helpers.eval.fit_and_evaluate_xgboost(ctg_qtr.sample(), data_test, categories=cats)"
   ]
  },
  {
   "cell_type": "code",
   "execution_count": 36,
   "id": "8857f27e",
   "metadata": {},
   "outputs": [],
   "source": [
    "ctabgan_args_dict = {\n",
    "    \"batch_size\": 500,\n",
    "    \"jit_compile\": True,\n",
    "    # WGAN parameters\n",
    "    \"n_critic\": 10,\n",
    "    \"wgan_lambda\": 10,\n",
    "    # Optimizer parameters\n",
    "    \"optimizer\": \"adam\",\n",
    "    \"opt_lr\": 0.0002,\n",
    "    \"adam_beta1\": 0.5,\n",
    "    \"adam_beta2\": 0.999,\n",
    "    # Transformation parameters\n",
    "    \"quantile_rand_transformation\": True,\n",
    "    \"quantile_transformation_int\": True,\n",
    "    \"qtr_spread\": 0.8,\n",
    "    \"qtr_lbound_apply\": 0.05,\n",
    "    \"max_quantile_share\": 1,\n",
    "    \"n_quantiles_int\": 1000,\n",
    "    \"qt_n_subsample\": 1e5,\n",
    "    \"noise_discrete_unif_max\": 0,\n",
    "    # Neural network parameters\n",
    "    \"gumbel_temperature\": 0.5,\n",
    "    \"activation_function\": \"GELU\",\n",
    "    \"gelu_approximate\": True,\n",
    "    \"dim_hidden\": 256,\n",
    "    \"dim_latent\": 128,\n",
    "    # Conditional sampling parameters\n",
    "    \"ctgan\": True,\n",
    "    \"ctgan_binomial_loss\": True,\n",
    "    \"ctgan_log_frequency\": True,\n",
    "    # Packing parameters\n",
    "    \"pac\": 1\n",
    "}\n",
    "ctg_qtr = TabGAN(data_train, **ctabgan_args_dict,\n",
    "                train_step_critic_same_queries_for_critic_and_gen=True,\n",
    "                 train_step_critic_wgan_penalty_query_diversity=True)"
   ]
  },
  {
   "cell_type": "code",
   "execution_count": 37,
   "id": "abd29628",
   "metadata": {},
   "outputs": [
    {
     "data": {
      "application/vnd.jupyter.widget-view+json": {
       "model_id": "",
       "version_major": 2,
       "version_minor": 0
      },
      "text/plain": [
       "  0%|          | 0/300 [00:00<?, ?it/s]"
      ]
     },
     "metadata": {},
     "output_type": "display_data"
    }
   ],
   "source": [
    "ctg_qtr.train(300, batch_size=500, restart_training=False, progress_bar=True)"
   ]
  },
  {
   "cell_type": "code",
   "execution_count": 38,
   "id": "dc286214",
   "metadata": {},
   "outputs": [
    {
     "data": {
      "text/plain": [
       "{'accuracy': 0.8353917662682603,\n",
       " 'auc': 0.8894423296535974,\n",
       " 'f1': 0.7714221319003893,\n",
       " 'f1_0': 0.892343770356538,\n",
       " 'f1_1': 0.6505004934442408}"
      ]
     },
     "execution_count": 38,
     "metadata": {},
     "output_type": "execute_result"
    }
   ],
   "source": [
    "metrics, cats = helpers.eval.fit_and_evaluate_xgboost(data_train, data_test, retcats=True)\n",
    "helpers.eval.fit_and_evaluate_xgboost(ctg_qtr.sample(), data_test, categories=cats)"
   ]
  },
  {
   "cell_type": "code",
   "execution_count": 20,
   "id": "f81ef3a1",
   "metadata": {},
   "outputs": [],
   "source": [
    "tabgan_args_dict = {\n",
    "    \"batch_size\": 500,\n",
    "    \"jit_compile\": jit_compile,\n",
    "    # WGAN parameters\n",
    "    \"n_critic\": 10,\n",
    "    \"wgan_lambda\": 10,\n",
    "    # Optimizer parameters\n",
    "    \"optimizer\": \"adam\",\n",
    "    \"opt_lr\": 0.0002,\n",
    "    \"adam_beta1\": 0.5,\n",
    "    \"adam_beta2\": 0.999,\n",
    "    # Transformation parameters\n",
    "    \"quantile_rand_transformation\": True,\n",
    "    \"quantile_transformation_int\": True,\n",
    "    \"qtr_spread\": 0.8,\n",
    "    \"qtr_lbound_apply\": 0.05,\n",
    "    \"max_quantile_share\": 1,\n",
    "    \"n_quantiles_int\": 1000,\n",
    "    \"qt_n_subsample\": 1e5,\n",
    "    \"noise_discrete_unif_max\": 0.01,\n",
    "    # Neural network parameters\n",
    "    \"gumbel_temperature\": 0.1,\n",
    "    \"activation_function\": \"GELU\",\n",
    "    \"gelu_approximate\": True,\n",
    "    \"dim_hidden\": 256,\n",
    "    \"dim_latent\": 128,\n",
    "    # Conditional sampling parameters\n",
    "    \"ctgan\": False,\n",
    "    \"ctgan_binomial_loss\": True,\n",
    "    \"ctgan_log_frequency\": True,\n",
    "    # Packing parameters\n",
    "    \"pac\": 1\n",
    "}\n",
    "tg_qtr_hp = TabGAN(data_train, **tabgan_args_dict)"
   ]
  },
  {
   "cell_type": "code",
   "execution_count": null,
   "id": "32e87369",
   "metadata": {},
   "outputs": [],
   "source": [
    "tg_qtr_hp.train(300, batch_size=500, restart_training=False, progress_bar=True)"
   ]
  },
  {
   "cell_type": "code",
   "execution_count": 15,
   "id": "0cdc7285",
   "metadata": {},
   "outputs": [
    {
     "data": {
      "text/plain": [
       "{'accuracy': 0.8422310756972111,\n",
       " 'auc': 0.8958616887133612,\n",
       " 'f1': 0.7819163174408145,\n",
       " 'f1_0': 0.8966057441253265,\n",
       " 'f1_1': 0.6672268907563025}"
      ]
     },
     "execution_count": 15,
     "metadata": {},
     "output_type": "execute_result"
    }
   ],
   "source": [
    "metrics, cats = helpers.eval.fit_and_evaluate_xgboost(data_train, data_test, retcats=True)\n",
    "helpers.eval.fit_and_evaluate_xgboost(tg_qtr_hp.sample(), data_test, categories=cats)"
   ]
  },
  {
   "cell_type": "code",
   "execution_count": null,
   "id": "f3981274",
   "metadata": {},
   "outputs": [],
   "source": []
  }
 ],
 "metadata": {
  "kernelspec": {
   "display_name": "tf",
   "language": "python",
   "name": "tf"
  },
  "language_info": {
   "codemirror_mode": {
    "name": "ipython",
    "version": 3
   },
   "file_extension": ".py",
   "mimetype": "text/x-python",
   "name": "python",
   "nbconvert_exporter": "python",
   "pygments_lexer": "ipython3",
   "version": "3.7.11"
  }
 },
 "nbformat": 4,
 "nbformat_minor": 5
}
