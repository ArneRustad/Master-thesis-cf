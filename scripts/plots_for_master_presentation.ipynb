{
 "cells": [
  {
   "cell_type": "code",
   "execution_count": 19,
   "id": "7ca83d56",
   "metadata": {},
   "outputs": [],
   "source": [
    "import plotnine as p9\n",
    "import matplotlib.pyplot as plt\n",
    "import numpy as np\n",
    "import pandas as pd"
   ]
  },
  {
   "cell_type": "code",
   "execution_count": 336,
   "id": "01eea73d",
   "metadata": {},
   "outputs": [],
   "source": [
    "x = np.array([1,2,2,3,4,4,4,4,5,6,7,8])\n",
    "n = x.shape[0]"
   ]
  },
  {
   "cell_type": "code",
   "execution_count": 21,
   "id": "5c439778",
   "metadata": {},
   "outputs": [
    {
     "data": {
      "text/plain": [
       "array([0.09090909, 0.27272727, 0.27272727, 0.36363636, 0.63636364,\n",
       "       0.63636364, 0.63636364, 0.72727273, 0.81818182, 0.90909091,\n",
       "       1.        ])"
      ]
     },
     "execution_count": 21,
     "metadata": {},
     "output_type": "execute_result"
    }
   ],
   "source": [
    "q = np.array([np.sum(x <= x_i) for x_i in x])\n",
    "q = q / n\n",
    "q"
   ]
  },
  {
   "cell_type": "code",
   "execution_count": 137,
   "id": "fb553bee",
   "metadata": {},
   "outputs": [
    {
     "name": "stdout",
     "output_type": "stream",
     "text": [
      "\n",
      "\n"
     ]
    },
    {
     "data": {
      "image/png": "[encoded data removed]",
      "text/plain": [
       "<Figure size 640x480 with 1 Axes>"
      ]
     },
     "metadata": {},
     "output_type": "display_data"
    }
   ],
   "source": [
    "def plot_qt(x, q):\n",
    "    df = pd.DataFrame({\"x_val\": x, \"q\": q})\n",
    "    p = p9.ggplot(df) + p9.ylab(r\"$\\hat F(x)$\")\n",
    "    \n",
    "    df_quiver = pd.DataFrame({\"x_val\": x.astype(\"float\"), \"y_begin\": 0, \"y_end\": q})\n",
    "    \n",
    "    x_unique, x_count = np.unique(x, return_counts=True)\n",
    "    for x_i, count_i in zip(x_unique[x_count > 1], x_count[x_count > 1]):\n",
    "        print()\n",
    "        df_quiver.loc[df_quiver[\"x_val\"] == x_i, \"x_val\"] += np.linspace(-0.05 * count_i, 0.05 * count_i, count_i) \n",
    "    df_quiver_long = pd.wide_to_long(df_quiver, [\"y\"], i=\"x_val\", j=\"Arrow_part\", sep='_', suffix=\"(begin|end)\").reset_index()\n",
    "    p += p9.geom_line(data=df_quiver_long, mapping=p9.aes(x=\"x_val\", y=\"y\", group=\"x_val\"),\n",
    "                      color=\"grey\", linetype=\"-.\", \n",
    "                      arrow=p9.arrow(angle=15, type=\"closed\"))\n",
    "    p += p9.geom_step(mapping=p9.aes(x = \"x_val\", y = \"q\"))\n",
    "    p.draw()\n",
    "plot_qt(x, q)"
   ]
  },
  {
   "cell_type": "code",
   "execution_count": 124,
   "id": "f10adae9",
   "metadata": {
    "scrolled": true
   },
   "outputs": [
    {
     "data": {
      "text/html": [
       "<div>\n",
       "<style scoped>\n",
       "    .dataframe tbody tr th:only-of-type {\n",
       "        vertical-align: middle;\n",
       "    }\n",
       "\n",
       "    .dataframe tbody tr th {\n",
       "        vertical-align: top;\n",
       "    }\n",
       "\n",
       "    .dataframe thead th {\n",
       "        text-align: right;\n",
       "    }\n",
       "</style>\n",
       "<table border=\"1\" class=\"dataframe\">\n",
       "  <thead>\n",
       "    <tr style=\"text-align: right;\">\n",
       "      <th></th>\n",
       "      <th>x_val</th>\n",
       "      <th>y_begin</th>\n",
       "      <th>y_end</th>\n",
       "    </tr>\n",
       "  </thead>\n",
       "  <tbody>\n",
       "  </tbody>\n",
       "</table>\n",
       "</div>"
      ],
      "text/plain": [
       "Empty DataFrame\n",
       "Columns: [x_val, y_begin, y_end]\n",
       "Index: []"
      ]
     },
     "execution_count": 124,
     "metadata": {},
     "output_type": "execute_result"
    }
   ],
   "source": [
    "df_quiver.loc[df_quiver[\"x_val\"] == 2.057763]"
   ]
  },
  {
   "cell_type": "code",
   "execution_count": 69,
   "id": "17b65def",
   "metadata": {
    "scrolled": true
   },
   "outputs": [
    {
     "data": {
      "text/html": [
       "<div>\n",
       "<style scoped>\n",
       "    .dataframe tbody tr th:only-of-type {\n",
       "        vertical-align: middle;\n",
       "    }\n",
       "\n",
       "    .dataframe tbody tr th {\n",
       "        vertical-align: top;\n",
       "    }\n",
       "\n",
       "    .dataframe thead th {\n",
       "        text-align: right;\n",
       "    }\n",
       "</style>\n",
       "<table border=\"1\" class=\"dataframe\">\n",
       "  <thead>\n",
       "    <tr style=\"text-align: right;\">\n",
       "      <th></th>\n",
       "      <th>x_val</th>\n",
       "      <th>Arrow_part</th>\n",
       "      <th>y</th>\n",
       "    </tr>\n",
       "  </thead>\n",
       "  <tbody>\n",
       "    <tr>\n",
       "      <th>0</th>\n",
       "      <td>0.990003</td>\n",
       "      <td>begin</td>\n",
       "      <td>0.000000</td>\n",
       "    </tr>\n",
       "    <tr>\n",
       "      <th>1</th>\n",
       "      <td>2.057763</td>\n",
       "      <td>begin</td>\n",
       "      <td>0.000000</td>\n",
       "    </tr>\n",
       "    <tr>\n",
       "      <th>2</th>\n",
       "      <td>1.917055</td>\n",
       "      <td>begin</td>\n",
       "      <td>0.000000</td>\n",
       "    </tr>\n",
       "    <tr>\n",
       "      <th>3</th>\n",
       "      <td>3.025090</td>\n",
       "      <td>begin</td>\n",
       "      <td>0.000000</td>\n",
       "    </tr>\n",
       "    <tr>\n",
       "      <th>4</th>\n",
       "      <td>4.081067</td>\n",
       "      <td>begin</td>\n",
       "      <td>0.000000</td>\n",
       "    </tr>\n",
       "    <tr>\n",
       "      <th>5</th>\n",
       "      <td>4.013569</td>\n",
       "      <td>begin</td>\n",
       "      <td>0.000000</td>\n",
       "    </tr>\n",
       "    <tr>\n",
       "      <th>6</th>\n",
       "      <td>4.055853</td>\n",
       "      <td>begin</td>\n",
       "      <td>0.000000</td>\n",
       "    </tr>\n",
       "    <tr>\n",
       "      <th>7</th>\n",
       "      <td>4.997705</td>\n",
       "      <td>begin</td>\n",
       "      <td>0.000000</td>\n",
       "    </tr>\n",
       "    <tr>\n",
       "      <th>8</th>\n",
       "      <td>6.075338</td>\n",
       "      <td>begin</td>\n",
       "      <td>0.000000</td>\n",
       "    </tr>\n",
       "    <tr>\n",
       "      <th>9</th>\n",
       "      <td>7.051365</td>\n",
       "      <td>begin</td>\n",
       "      <td>0.000000</td>\n",
       "    </tr>\n",
       "    <tr>\n",
       "      <th>10</th>\n",
       "      <td>7.903391</td>\n",
       "      <td>begin</td>\n",
       "      <td>0.000000</td>\n",
       "    </tr>\n",
       "    <tr>\n",
       "      <th>11</th>\n",
       "      <td>0.990003</td>\n",
       "      <td>end</td>\n",
       "      <td>0.090909</td>\n",
       "    </tr>\n",
       "    <tr>\n",
       "      <th>12</th>\n",
       "      <td>2.057763</td>\n",
       "      <td>end</td>\n",
       "      <td>0.272727</td>\n",
       "    </tr>\n",
       "    <tr>\n",
       "      <th>13</th>\n",
       "      <td>1.917055</td>\n",
       "      <td>end</td>\n",
       "      <td>0.272727</td>\n",
       "    </tr>\n",
       "    <tr>\n",
       "      <th>14</th>\n",
       "      <td>3.025090</td>\n",
       "      <td>end</td>\n",
       "      <td>0.363636</td>\n",
       "    </tr>\n",
       "    <tr>\n",
       "      <th>15</th>\n",
       "      <td>4.081067</td>\n",
       "      <td>end</td>\n",
       "      <td>0.636364</td>\n",
       "    </tr>\n",
       "    <tr>\n",
       "      <th>16</th>\n",
       "      <td>4.013569</td>\n",
       "      <td>end</td>\n",
       "      <td>0.636364</td>\n",
       "    </tr>\n",
       "    <tr>\n",
       "      <th>17</th>\n",
       "      <td>4.055853</td>\n",
       "      <td>end</td>\n",
       "      <td>0.636364</td>\n",
       "    </tr>\n",
       "    <tr>\n",
       "      <th>18</th>\n",
       "      <td>4.997705</td>\n",
       "      <td>end</td>\n",
       "      <td>0.727273</td>\n",
       "    </tr>\n",
       "    <tr>\n",
       "      <th>19</th>\n",
       "      <td>6.075338</td>\n",
       "      <td>end</td>\n",
       "      <td>0.818182</td>\n",
       "    </tr>\n",
       "    <tr>\n",
       "      <th>20</th>\n",
       "      <td>7.051365</td>\n",
       "      <td>end</td>\n",
       "      <td>0.909091</td>\n",
       "    </tr>\n",
       "    <tr>\n",
       "      <th>21</th>\n",
       "      <td>7.903391</td>\n",
       "      <td>end</td>\n",
       "      <td>1.000000</td>\n",
       "    </tr>\n",
       "  </tbody>\n",
       "</table>\n",
       "</div>"
      ],
      "text/plain": [
       "       x_val Arrow_part         y\n",
       "0   0.990003      begin  0.000000\n",
       "1   2.057763      begin  0.000000\n",
       "2   1.917055      begin  0.000000\n",
       "3   3.025090      begin  0.000000\n",
       "4   4.081067      begin  0.000000\n",
       "5   4.013569      begin  0.000000\n",
       "6   4.055853      begin  0.000000\n",
       "7   4.997705      begin  0.000000\n",
       "8   6.075338      begin  0.000000\n",
       "9   7.051365      begin  0.000000\n",
       "10  7.903391      begin  0.000000\n",
       "11  0.990003        end  0.090909\n",
       "12  2.057763        end  0.272727\n",
       "13  1.917055        end  0.272727\n",
       "14  3.025090        end  0.363636\n",
       "15  4.081067        end  0.636364\n",
       "16  4.013569        end  0.636364\n",
       "17  4.055853        end  0.636364\n",
       "18  4.997705        end  0.727273\n",
       "19  6.075338        end  0.818182\n",
       "20  7.051365        end  0.909091\n",
       "21  7.903391        end  1.000000"
      ]
     },
     "execution_count": 69,
     "metadata": {},
     "output_type": "execute_result"
    }
   ],
   "source": [
    "df_quiver = pd.DataFrame({\"x_val\": x + np.random.uniform(-0.1, 0.1, size=x.shape[0]), \"y_begin\": 0, \"y_end\": q})\n",
    "df_quiver_long = pd.wide_to_long(df_quiver, [\"y\"], i=\"x_val\", j=\"Arrow_part\", sep='_', suffix=\"(begin|end)\").reset_index()\n",
    "df_quiver_long"
   ]
  },
  {
   "cell_type": "code",
   "execution_count": null,
   "id": "e6556b19",
   "metadata": {},
   "outputs": [],
   "source": []
  }
 ],
 "metadata": {
  "kernelspec": {
   "display_name": "tf",
   "language": "python",
   "name": "tf"
  },
  "language_info": {
   "codemirror_mode": {
    "name": "ipython",
    "version": 3
   },
   "file_extension": ".py",
   "mimetype": "text/x-python",
   "name": "python",
   "nbconvert_exporter": "python",
   "pygments_lexer": "ipython3",
   "version": "3.7.11"
  }
 },
 "nbformat": 4,
 "nbformat_minor": 5
}
