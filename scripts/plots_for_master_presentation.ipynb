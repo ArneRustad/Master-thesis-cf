{
 "cells": [
  {
   "cell_type": "code",
   "execution_count": 223,
   "id": "7c2db275",
   "metadata": {},
   "outputs": [
    {
     "name": "stdout",
     "output_type": "stream",
     "text": [
      "The autoreload extension is already loaded. To reload it, use:\n",
      "  %reload_ext autoreload\n"
     ]
    }
   ],
   "source": [
    "import plotnine as p9\n",
    "import matplotlib.pyplot as plt\n",
    "import numpy as np\n",
    "import pandas as pd\n",
    "from src import constants as const\n",
    "\n",
    "import pathlib\n",
    "import os\n",
    "if not \"changed_working_directory\" in locals():\n",
    "    changed_working_directory = True\n",
    "    os.chdir(pathlib.Path().resolve().parent)\n",
    "    \n",
    "%load_ext autoreload\n",
    "%autoreload 2"
   ]
  },
  {
   "cell_type": "code",
   "execution_count": 229,
   "id": "92c0bb76",
   "metadata": {},
   "outputs": [],
   "source": [
    "x = np.array([1,2,2,3,4,4,4,4,4,4,5,7,8,9])\n",
    "n = x.shape[0]"
   ]
  },
  {
   "cell_type": "code",
   "execution_count": null,
   "id": "af0c35fd",
   "metadata": {
    "scrolled": true
   },
   "outputs": [],
   "source": [
    "from sklearn.preprocessing import QuantileTransformer\n",
    "from tabGAN import TabGAN\n",
    "def plot_qt(x, randomized=False, x_margin_percent=0.05, x_margin = 0, distribution=\"uniform\",\n",
    "           save_dir=None, save_path=None, width=6, height=5, qtr_spread=0.5):\n",
    "    x = np.array(x)\n",
    "    qt = QuantileTransformer(n_quantiles = x.shape[0], output_distribution=distribution)\n",
    "    x_boundaries = [np.min(x), np.max(x)]\n",
    "    x_range = x_boundaries[1] - x_boundaries[0]\n",
    "    x_long = np.linspace(x_boundaries[0] - x_margin_percent * x_range - x_margin,\n",
    "                         x_boundaries[1] + x_margin_percent * x_range + x_margin, 1000)\n",
    "    qt.fit(x.reshape((x.shape[0], 1)))\n",
    "    df = pd.DataFrame({\"x_val\": x_long, \"q\": qt.transform(x_long.reshape((x_long.shape[0], 1))).flatten()})\n",
    "    \n",
    "    p = p9.ggplot(df)\n",
    "    tg = TabGAN(pd.DataFrame({\"x\": x}), quantile_transformation_int=True, qt_distribution=distribution,\n",
    "        quantile_rand_transformation=randomized, qtr_lbound_apply=0, qtr_spread=0.5)\n",
    "    y_end = tg.data_num_scaled.flatten()\n",
    "    if distribution == \"uniform\":\n",
    "        ylabel = r\"$\\hat F(x)$\"\n",
    "        y_begin = np.where(y_end == 0, -0.001, 0)\n",
    "    elif distribution == \"normal\":\n",
    "        ylabel = r\"$\\Phi^{-1}(\\hat F(x))$\"\n",
    "        y_begin = np.min(df[\"q\"]) - 1e-7\n",
    "    df_quiver = pd.DataFrame({\"x_val\": x.astype(\"float\"),\n",
    "                              \"y_begin\": y_begin,\n",
    "                              \"y_end\": y_end})\n",
    "    x_unique, x_count = np.unique(x, return_counts=True)\n",
    "    for x_i, count_i in zip(x_unique[x_count > 1], x_count[x_count > 1]):\n",
    "        df_quiver.loc[df_quiver[\"x_val\"] == x_i, \"x_val\"] += np.linspace(-0.05 * count_i, 0.05 * count_i, count_i) \n",
    "    df_quiver_long = pd.wide_to_long(df_quiver, [\"y\"], i=\"x_val\", j=\"Arrow_part\", sep='_', suffix=\"(begin|end)\").reset_index()\n",
    "    p += p9.geom_line(data=df_quiver_long, mapping=p9.aes(x=\"x_val\", y=\"y\", group=\"x_val\"),\n",
    "                      color=\"grey\", linetype=\"-.\", \n",
    "                      arrow=p9.arrow(angle=15, type=\"closed\"))\n",
    "    p += p9.geom_step(mapping=p9.aes(x = \"x_val\", y = \"q\"))\n",
    "    p += p9.scale_x_continuous(expand = [0.01, 0])\n",
    "    p += p9.xlab(\"x\") + p9.ylab(ylabel)\n",
    "    p += p9.theme(figure_size=(width, height))\n",
    "    if save_path is not None:\n",
    "        if save_dir is not None:\n",
    "            save_path = os.path.join(save_dir, save_path)\n",
    "        p.save(filename=save_path, width=width, height=height, verbose=False)\n",
    "    p.draw()\n",
    "               \n",
    "plot_qt(x, distribution=\"uniform\", randomized=True, x_margin_percent=0, x_margin=1, width=6, height=5)"
   ]
  },
  {
   "cell_type": "code",
   "execution_count": null,
   "id": "d1d14c48",
   "metadata": {},
   "outputs": [],
   "source": [
    "plot_qt(x, distribution=\"uniform\", x_margin_percent=0, x_margin=1, width=6, height=5,\n",
    "       save_dir=const.dir.images(), save_path=\"quantile_transform_uniform_example.svg\")"
   ]
  },
  {
   "cell_type": "code",
   "execution_count": null,
   "id": "ca4fa84b",
   "metadata": {
    "scrolled": true
   },
   "outputs": [],
   "source": [
    "plot_qt(x, distribution=\"normal\", x_margin_percent=0, x_margin=1, width=6, height=5,\n",
    "       save_dir=const.dir.images(), save_path=\"quantile_transform_normal_example.svg\")"
   ]
  },
  {
   "cell_type": "code",
   "execution_count": null,
   "id": "09b6b839",
   "metadata": {},
   "outputs": [],
   "source": [
    "plot_qt(x, distribution=\"uniform\", randomized=True, x_margin_percent=0, x_margin=1, width=6, height=5,\n",
    "       save_dir=const.dir.images(), save_path=\"randomized_quantile_transform_uniform_example.svg\")"
   ]
  },
  {
   "cell_type": "code",
   "execution_count": null,
   "id": "1f7f5474",
   "metadata": {},
   "outputs": [],
   "source": [
    "plot_qt(x, distribution=\"normal\", randomized=True, x_margin_percent=0, x_margin=1, width=6, height=5,\n",
    "       save_dir=const.dir.images(), save_path=\"randomized_quantile_transform_normal_example.svg\")"
   ]
  },
  {
   "cell_type": "code",
   "execution_count": 202,
   "id": "6a48c29f",
   "metadata": {},
   "outputs": [
    {
     "name": "stdout",
     "output_type": "stream",
     "text": [
      "[0.07142143 0.10714286 0.14292857]\n",
      "[0.28564286 0.46428571 0.64292857] 0.4642857142857143\n"
     ]
    },
    {
     "name": "stderr",
     "output_type": "stream",
     "text": [
      "C:\\Users\\Arne\\anaconda3\\envs\\tf\\lib\\site-packages\\sklearn\\preprocessing\\_data.py:2593: UserWarning: n_quantiles (1000) is greater than the total number of samples (15). n_quantiles is set to n_samples.\n"
     ]
    }
   ],
   "source": [
    "qt = QuantileTransformer()\n",
    "x = np.array([1,2,2,3,4,4,4,4,4,4,5,7, 8, 9, 10])\n",
    "qt.fit(x.reshape((x.shape[0], 1)))\n",
    "print(qt.transform([[1.9999], [2], [2.001]]).flatten())\n",
    "print(qt.transform([[3.999], [4], [4.001]]).flatten(), np.mean([qt.transform([[4.001]]).flatten(), qt.transform([[3.999]]).flatten()]))"
   ]
  },
  {
   "cell_type": "code",
   "execution_count": 188,
   "id": "1edb3fce",
   "metadata": {},
   "outputs": [
    {
     "name": "stdout",
     "output_type": "stream",
     "text": [
      "[0.16666667]\n",
      "[0.08333333]\n"
     ]
    }
   ],
   "source": [
    "a = np.array([1., 2., 2., 3., 4., 4., 4., 4., 4., 4., 5., 7., 8.])\n",
    "b = np.array(\n",
    "    [0.,  0.08333333, 0.16666667, 0.25, 0.33333333, 0.41666667, 0.5, 0.58333333, 0.66666667, 0.75, 0.83333333, 0.91666667, 1.])\n",
    "print(np.interp([2], a, b))\n",
    "print(-np.interp([-2], -a[::-1], -b[::-1]))\n"
   ]
  },
  {
   "cell_type": "code",
   "execution_count": 142,
   "id": "7ba30349",
   "metadata": {},
   "outputs": [
    {
     "data": {
      "text/plain": [
       "[<matplotlib.lines.Line2D at 0x1d49a008848>]"
      ]
     },
     "execution_count": 142,
     "metadata": {},
     "output_type": "execute_result"
    },
    {
     "data": {
      "image/png": "[encoded data removed]",
      "text/plain": [
       "<Figure size 432x288 with 1 Axes>"
      ]
     },
     "metadata": {
      "needs_background": "light"
     },
     "output_type": "display_data"
    }
   ],
   "source": [
    "plt.plot(a, b)"
   ]
  },
  {
   "cell_type": "code",
   "execution_count": 139,
   "id": "a938c3c5",
   "metadata": {},
   "outputs": [],
   "source": [
    "from sklearn.preprocessing import QuantileTransformer\n",
    "??QuantileTransformer"
   ]
  },
  {
   "cell_type": "code",
   "execution_count": 138,
   "id": "41afb4fb",
   "metadata": {},
   "outputs": [
    {
     "data": {
      "text/plain": [
       "array([0.08333333])"
      ]
     },
     "execution_count": 138,
     "metadata": {},
     "output_type": "execute_result"
    }
   ],
   "source": [
    "-np.interp([-2], -a[::-1], -b[::-1])"
   ]
  },
  {
   "cell_type": "code",
   "execution_count": null,
   "id": "1da7d56b",
   "metadata": {},
   "outputs": [],
   "source": [
    "[1., 2., 2., 3., 4., 4., 4., 4., 4., 4., 5., 7., 8.]"
   ]
  },
  {
   "cell_type": "code",
   "execution_count": 120,
   "id": "66083910",
   "metadata": {},
   "outputs": [
    {
     "data": {
      "text/plain": [
       "array([7.])"
      ]
     },
     "execution_count": 120,
     "metadata": {},
     "output_type": "execute_result"
    }
   ],
   "source": [
    "np.interp([2], np.array([1,2,2,3]), np.array([5,6,7,8]))"
   ]
  },
  {
   "cell_type": "code",
   "execution_count": 118,
   "id": "b34e5ea3",
   "metadata": {},
   "outputs": [
    {
     "data": {
      "text/plain": [
       "[3, 2, 2, 1]"
      ]
     },
     "execution_count": 118,
     "metadata": {},
     "output_type": "execute_result"
    }
   ],
   "source": [
    "[1,2,2,3][::-1]"
   ]
  },
  {
   "cell_type": "code",
   "execution_count": 119,
   "id": "9d34e331",
   "metadata": {},
   "outputs": [
    {
     "data": {
      "text/plain": [
       "[8, 7, 6, 5]"
      ]
     },
     "execution_count": 119,
     "metadata": {},
     "output_type": "execute_result"
    }
   ],
   "source": [
    "[5,6,7,8][::-1]"
   ]
  },
  {
   "cell_type": "code",
   "execution_count": 124,
   "id": "004ea354",
   "metadata": {
    "scrolled": false
   },
   "outputs": [
    {
     "data": {
      "text/html": [
       "<div>\n",
       "<style scoped>\n",
       "    .dataframe tbody tr th:only-of-type {\n",
       "        vertical-align: middle;\n",
       "    }\n",
       "\n",
       "    .dataframe tbody tr th {\n",
       "        vertical-align: top;\n",
       "    }\n",
       "\n",
       "    .dataframe thead th {\n",
       "        text-align: right;\n",
       "    }\n",
       "</style>\n",
       "<table border=\"1\" class=\"dataframe\">\n",
       "  <thead>\n",
       "    <tr style=\"text-align: right;\">\n",
       "      <th></th>\n",
       "      <th>x_val</th>\n",
       "      <th>y_begin</th>\n",
       "      <th>y_end</th>\n",
       "    </tr>\n",
       "  </thead>\n",
       "  <tbody>\n",
       "  </tbody>\n",
       "</table>\n",
       "</div>"
      ],
      "text/plain": [
       "Empty DataFrame\n",
       "Columns: [x_val, y_begin, y_end]\n",
       "Index: []"
      ]
     },
     "execution_count": 124,
     "metadata": {},
     "output_type": "execute_result"
    }
   ],
   "source": [
    "df_quiver.loc[df_quiver[\"x_val\"] == 2.057763]"
   ]
  },
  {
   "cell_type": "code",
   "execution_count": 69,
   "id": "ed31e033",
   "metadata": {
    "scrolled": true
   },
   "outputs": [
    {
     "data": {
      "text/html": [
       "<div>\n",
       "<style scoped>\n",
       "    .dataframe tbody tr th:only-of-type {\n",
       "        vertical-align: middle;\n",
       "    }\n",
       "\n",
       "    .dataframe tbody tr th {\n",
       "        vertical-align: top;\n",
       "    }\n",
       "\n",
       "    .dataframe thead th {\n",
       "        text-align: right;\n",
       "    }\n",
       "</style>\n",
       "<table border=\"1\" class=\"dataframe\">\n",
       "  <thead>\n",
       "    <tr style=\"text-align: right;\">\n",
       "      <th></th>\n",
       "      <th>x_val</th>\n",
       "      <th>Arrow_part</th>\n",
       "      <th>y</th>\n",
       "    </tr>\n",
       "  </thead>\n",
       "  <tbody>\n",
       "    <tr>\n",
       "      <th>0</th>\n",
       "      <td>0.990003</td>\n",
       "      <td>begin</td>\n",
       "      <td>0.000000</td>\n",
       "    </tr>\n",
       "    <tr>\n",
       "      <th>1</th>\n",
       "      <td>2.057763</td>\n",
       "      <td>begin</td>\n",
       "      <td>0.000000</td>\n",
       "    </tr>\n",
       "    <tr>\n",
       "      <th>2</th>\n",
       "      <td>1.917055</td>\n",
       "      <td>begin</td>\n",
       "      <td>0.000000</td>\n",
       "    </tr>\n",
       "    <tr>\n",
       "      <th>3</th>\n",
       "      <td>3.025090</td>\n",
       "      <td>begin</td>\n",
       "      <td>0.000000</td>\n",
       "    </tr>\n",
       "    <tr>\n",
       "      <th>4</th>\n",
       "      <td>4.081067</td>\n",
       "      <td>begin</td>\n",
       "      <td>0.000000</td>\n",
       "    </tr>\n",
       "    <tr>\n",
       "      <th>5</th>\n",
       "      <td>4.013569</td>\n",
       "      <td>begin</td>\n",
       "      <td>0.000000</td>\n",
       "    </tr>\n",
       "    <tr>\n",
       "      <th>6</th>\n",
       "      <td>4.055853</td>\n",
       "      <td>begin</td>\n",
       "      <td>0.000000</td>\n",
       "    </tr>\n",
       "    <tr>\n",
       "      <th>7</th>\n",
       "      <td>4.997705</td>\n",
       "      <td>begin</td>\n",
       "      <td>0.000000</td>\n",
       "    </tr>\n",
       "    <tr>\n",
       "      <th>8</th>\n",
       "      <td>6.075338</td>\n",
       "      <td>begin</td>\n",
       "      <td>0.000000</td>\n",
       "    </tr>\n",
       "    <tr>\n",
       "      <th>9</th>\n",
       "      <td>7.051365</td>\n",
       "      <td>begin</td>\n",
       "      <td>0.000000</td>\n",
       "    </tr>\n",
       "    <tr>\n",
       "      <th>10</th>\n",
       "      <td>7.903391</td>\n",
       "      <td>begin</td>\n",
       "      <td>0.000000</td>\n",
       "    </tr>\n",
       "    <tr>\n",
       "      <th>11</th>\n",
       "      <td>0.990003</td>\n",
       "      <td>end</td>\n",
       "      <td>0.090909</td>\n",
       "    </tr>\n",
       "    <tr>\n",
       "      <th>12</th>\n",
       "      <td>2.057763</td>\n",
       "      <td>end</td>\n",
       "      <td>0.272727</td>\n",
       "    </tr>\n",
       "    <tr>\n",
       "      <th>13</th>\n",
       "      <td>1.917055</td>\n",
       "      <td>end</td>\n",
       "      <td>0.272727</td>\n",
       "    </tr>\n",
       "    <tr>\n",
       "      <th>14</th>\n",
       "      <td>3.025090</td>\n",
       "      <td>end</td>\n",
       "      <td>0.363636</td>\n",
       "    </tr>\n",
       "    <tr>\n",
       "      <th>15</th>\n",
       "      <td>4.081067</td>\n",
       "      <td>end</td>\n",
       "      <td>0.636364</td>\n",
       "    </tr>\n",
       "    <tr>\n",
       "      <th>16</th>\n",
       "      <td>4.013569</td>\n",
       "      <td>end</td>\n",
       "      <td>0.636364</td>\n",
       "    </tr>\n",
       "    <tr>\n",
       "      <th>17</th>\n",
       "      <td>4.055853</td>\n",
       "      <td>end</td>\n",
       "      <td>0.636364</td>\n",
       "    </tr>\n",
       "    <tr>\n",
       "      <th>18</th>\n",
       "      <td>4.997705</td>\n",
       "      <td>end</td>\n",
       "      <td>0.727273</td>\n",
       "    </tr>\n",
       "    <tr>\n",
       "      <th>19</th>\n",
       "      <td>6.075338</td>\n",
       "      <td>end</td>\n",
       "      <td>0.818182</td>\n",
       "    </tr>\n",
       "    <tr>\n",
       "      <th>20</th>\n",
       "      <td>7.051365</td>\n",
       "      <td>end</td>\n",
       "      <td>0.909091</td>\n",
       "    </tr>\n",
       "    <tr>\n",
       "      <th>21</th>\n",
       "      <td>7.903391</td>\n",
       "      <td>end</td>\n",
       "      <td>1.000000</td>\n",
       "    </tr>\n",
       "  </tbody>\n",
       "</table>\n",
       "</div>"
      ],
      "text/plain": [
       "       x_val Arrow_part         y\n",
       "0   0.990003      begin  0.000000\n",
       "1   2.057763      begin  0.000000\n",
       "2   1.917055      begin  0.000000\n",
       "3   3.025090      begin  0.000000\n",
       "4   4.081067      begin  0.000000\n",
       "5   4.013569      begin  0.000000\n",
       "6   4.055853      begin  0.000000\n",
       "7   4.997705      begin  0.000000\n",
       "8   6.075338      begin  0.000000\n",
       "9   7.051365      begin  0.000000\n",
       "10  7.903391      begin  0.000000\n",
       "11  0.990003        end  0.090909\n",
       "12  2.057763        end  0.272727\n",
       "13  1.917055        end  0.272727\n",
       "14  3.025090        end  0.363636\n",
       "15  4.081067        end  0.636364\n",
       "16  4.013569        end  0.636364\n",
       "17  4.055853        end  0.636364\n",
       "18  4.997705        end  0.727273\n",
       "19  6.075338        end  0.818182\n",
       "20  7.051365        end  0.909091\n",
       "21  7.903391        end  1.000000"
      ]
     },
     "execution_count": 69,
     "metadata": {},
     "output_type": "execute_result"
    }
   ],
   "source": [
    "df_quiver = pd.DataFrame({\"x_val\": x + np.random.uniform(-0.1, 0.1, size=x.shape[0]), \"y_begin\": 0, \"y_end\": q})\n",
    "df_quiver_long = pd.wide_to_long(df_quiver, [\"y\"], i=\"x_val\", j=\"Arrow_part\", sep='_', suffix=\"(begin|end)\").reset_index()\n",
    "df_quiver_long"
   ]
  },
  {
   "cell_type": "code",
   "execution_count": null,
   "id": "8aff3b78",
   "metadata": {},
   "outputs": [],
   "source": []
  }
 ],
 "metadata": {
  "kernelspec": {
   "display_name": "tf",
   "language": "python",
   "name": "tf"
  },
  "language_info": {
   "codemirror_mode": {
    "name": "ipython",
    "version": 3
   },
   "file_extension": ".py",
   "mimetype": "text/x-python",
   "name": "python",
   "nbconvert_exporter": "python",
   "pygments_lexer": "ipython3",
   "version": "3.7.11"
  }
 },
 "nbformat": 4,
 "nbformat_minor": 5
}
