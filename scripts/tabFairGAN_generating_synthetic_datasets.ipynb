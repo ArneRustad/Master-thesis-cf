{
 "cells": [
  {
   "cell_type": "code",
   "execution_count": 1,
   "id": "c0f009d2",
   "metadata": {},
   "outputs": [],
   "source": [
    "import pathlib\n",
    "import os\n",
    "if not \"changed_working_directory\" in locals():\n",
    "    changed_working_directory = True\n",
    "    os.chdir(pathlib.Path().resolve().parent)\n",
    "    \n",
    "%load_ext autoreload\n",
    "%autoreload 2"
   ]
  },
  {
   "cell_type": "code",
   "execution_count": 2,
   "id": "69f0ed16",
   "metadata": {},
   "outputs": [],
   "source": [
    "from src import constants as const\n",
    "from utils.timer import load as load_timer\n",
    "from utils.timer import Timer\n",
    "\n",
    "import pandas as pd\n",
    "import numpy as np\n",
    "import torch\n",
    "import os\n",
    "from tqdm.auto import tqdm\n",
    "\n",
    "imports_path = \"src//imports.ipynb\"\n",
    "tabGAN_path = \"tabGAN.py\"\n",
    "utils_path = \"utils\\\\utils.ipynb\"\n",
    "\n",
    "from IPython.display import clear_output"
   ]
  },
  {
   "cell_type": "code",
   "execution_count": 3,
   "id": "bca1dd99",
   "metadata": {},
   "outputs": [],
   "source": [
    "timer_path = os.path.join(const.dir.timers(), \"timer_tgan.pkl\")\n",
    "if not os.path.exists(timer_path):\n",
    "    timer = Timer()\n",
    "    timer.save(timer_path)\n",
    "    del timer\n",
    "\n",
    "data_test_tabfairgan = pd.read_csv(os.path.join(const.dir.data(), \"df_adult_edited_test.csv\"))\n",
    "data_train_tabfairgan = pd.read_csv(os.path.join(const.dir.data(), \"df_adult_edited_train.csv\"))\n",
    "\n",
    "dataset_gen_dir_tabfairgan = os.path.join(const.dir.data_gen(), \"tabFairGAN\")\n",
    "dataset_gen_dir_tabfairgan_mod = os.path.join(const.dir.data_gen(), \"tabFairGAN-mod\")\n",
    "os.makedirs(dataset_gen_dir_tabfairgan, exist_ok=True)\n",
    "os.makedirs(dataset_gen_dir_tabfairgan_mod, exist_ok=True)\n",
    "\n",
    "size_of_fake_data_train = data_train_tabfairgan.shape[0]\n",
    "size_of_fake_data_test = data_test_tabfairgan.shape[0]\n",
    "\n",
    "data_train_tabfairgan.columns = data_train_tabfairgan.columns.str.replace(\".\", \"_\", regex = False)\n",
    "#data_test_tabfairgan.columns = data_test_tabfairgan.columns.str.replace(\".\", \"_\", regex = False)\n",
    "path_data_train_tabfairgan = os.path.join(const.dir.data_temp(), \"df_adult_edited_train_tabFairGAN.csv\")\n",
    "data_train_tabfairgan.to_csv(path_data_train_tabfairgan)\n",
    "#data_test_tabfairgan.to_csv(const.dir.data_temp(), \"/df_adult_edited_test_tabFairGAN.csv\")\n",
    "\n",
    "n_epochs = 300\n",
    "batch_size = 500\n",
    "n_critics = 10\n",
    "n_synthetic_datasets = 10\n",
    "\n",
    "dim_hidden_layer = -1 # same as setting equal to input dim\n",
    "dim_latent_layer = -1 # same as setting equal to input dim\n",
    "dim_hidden_layer_mod = 256\n",
    "dim_latent_layer_mod = 128"
   ]
  },
  {
   "cell_type": "code",
   "execution_count": 4,
   "id": "be7943bb",
   "metadata": {},
   "outputs": [
    {
     "data": {
      "application/vnd.jupyter.widget-view+json": {
       "model_id": "",
       "version_major": 2,
       "version_minor": 0
      },
      "text/plain": [
       "  0%|          | 0/300 [00:00<?, ?it/s]"
      ]
     },
     "metadata": {},
     "output_type": "display_data"
    },
    {
     "name": "stdout",
     "output_type": "stream",
     "text": [
      "Elapsed time for tabFairGAN: 749.747 seconds\n"
     ]
    }
   ],
   "source": [
    "dataset_gen_path_tabfairgan = os.path.join(dataset_gen_dir_tabfairgan, \"gen_train.csv\")\n",
    "timer_tgan = load_timer(timer_path)\n",
    "timer_tgan.start(\"tabFairGAN\")\n",
    "%run \"src\\\\tabFairGAN_nofair.py\" $path_data_train_tabfairgan $n_epochs $batch_size $dataset_gen_path_tabfairgan --critic_repeat=$n_critics --dim_latent_layer=$dim_latent_layer --dim_hidden_layer=$dim_hidden_layer\n",
    "timer_tgan.stop(\"tabFairGAN\")\n",
    "timer_tgan.save(timer_path)\n",
    "data_gen = pd.read_csv(dataset_gen_path_tabfairgan)\n",
    "data_gen.columns = data_gen.columns.str.replace(\"_\", \".\")\n",
    "data_gen.to_csv(dataset_gen_path_tabfairgan, index=True)"
   ]
  },
  {
   "cell_type": "code",
   "execution_count": 5,
   "id": "75bbdf95",
   "metadata": {},
   "outputs": [
    {
     "data": {
      "application/vnd.jupyter.widget-view+json": {
       "model_id": "",
       "version_major": 2,
       "version_minor": 0
      },
      "text/plain": [
       "  0%|          | 0/300 [00:00<?, ?it/s]"
      ]
     },
     "metadata": {},
     "output_type": "display_data"
    },
    {
     "name": "stdout",
     "output_type": "stream",
     "text": [
      "Elapsed time for tabFairGAN-mod: 751.537 seconds\n"
     ]
    }
   ],
   "source": [
    "timer_tgan = load_timer(timer_path)\n",
    "timer_tgan.start(\"tabFairGAN-mod\")\n",
    "dataset_gen_path_tabfairgan_mod = os.path.join(dataset_gen_dir_tabfairgan_mod, \"gen_train.csv\")\n",
    "%run \"src\\\\tabFairGAN_nofair.py\" $path_data_train_tabfairgan $n_epochs $batch_size $dataset_gen_path_tabfairgan_mod --critic_repeat=$n_critics --dim_latent_layer=$dim_latent_layer_mod --dim_hidden_layer=$dim_hidden_layer_mod \n",
    "#--extra_hidden_layer_generator=True\n",
    "timer_tgan.stop(\"tabFairGAN-mod\")\n",
    "timer_tgan.save(timer_path)\n",
    "#clear_output()\n",
    "data_gen_mod = pd.read_csv(dataset_gen_path_tabfairgan_mod)\n",
    "data_gen_mod.columns = data_gen_mod.columns.str.replace(\"_\", \".\")\n",
    "data_gen_mod.to_csv(dataset_gen_path_tabfairgan_mod, index=True)"
   ]
  },
  {
   "cell_type": "code",
   "execution_count": null,
   "id": "be828b39",
   "metadata": {},
   "outputs": [
    {
     "data": {
      "application/vnd.jupyter.widget-view+json": {
       "model_id": "04b7230ced474e1cb4457e5997c4848e",
       "version_major": 2,
       "version_minor": 0
      },
      "text/plain": [
       "Generated datasets:   0%|          | 0/10 [00:00<?, ?it/s]"
      ]
     },
     "metadata": {},
     "output_type": "display_data"
    },
    {
     "data": {
      "application/vnd.jupyter.widget-view+json": {
       "model_id": "",
       "version_major": 2,
       "version_minor": 0
      },
      "text/plain": [
       "  0%|          | 0/300 [00:00<?, ?it/s]"
      ]
     },
     "metadata": {},
     "output_type": "display_data"
    },
    {
     "data": {
      "application/vnd.jupyter.widget-view+json": {
       "model_id": "2f30d01639c34a6cadcde506780aef9d",
       "version_major": 2,
       "version_minor": 0
      },
      "text/plain": [
       "  0%|          | 0/300 [00:00<?, ?it/s]"
      ]
     },
     "metadata": {},
     "output_type": "display_data"
    }
   ],
   "source": [
    "#df_name=\".//Datasets//adult_edited_train.csv\" num_epochs=20 batch_size=500 fake_name=dataset_gen_path_tabfairgan size_of_fake_data=data_train.shape[0]\n",
    "for i in tqdm(range(n_synthetic_datasets), desc = \"Generated datasets\", disable = False):\n",
    "    dataset_train_gen_path_tabfairgan = os.path.join(dataset_gen_dir_tabfairgan, f\"gen{i}.csv\")\n",
    "    %run \"src\\\\tabFairGAN_nofair.py\" $path_data_train_tabfairgan $n_epochs $batch_size $dataset_train_gen_path_tabfairgan --critic_repeat=$n_critics --dim_hidden_layer=$dim_hidden_layer\n",
    "    data_train_gen = pd.read_csv(dataset_train_gen_path_tabfairgan)\n",
    "    data_train_gen.columns = data_train_gen.columns.str.replace(\"_\", \".\")\n",
    "    data_train_gen.to_csv(dataset_train_gen_path_tabfairgan, index=True)"
   ]
  },
  {
   "cell_type": "code",
   "execution_count": 6,
   "id": "9ec24b4d",
   "metadata": {},
   "outputs": [
    {
     "data": {
      "application/vnd.jupyter.widget-view+json": {
       "model_id": "da6da591ca0542979e1ebccbd61f85c4",
       "version_major": 2,
       "version_minor": 0
      },
      "text/plain": [
       "Generated datasets:   0%|          | 0/5 [00:00<?, ?it/s]"
      ]
     },
     "metadata": {},
     "output_type": "display_data"
    },
    {
     "data": {
      "application/vnd.jupyter.widget-view+json": {
       "model_id": "",
       "version_major": 2,
       "version_minor": 0
      },
      "text/plain": [
       "  0%|          | 0/40 [00:00<?, ?it/s]"
      ]
     },
     "metadata": {},
     "output_type": "display_data"
    },
    {
     "name": "stdout",
     "output_type": "stream",
     "text": [
      "        age         workclass      fnlwgt     education  educational_num  \\\n",
      "0      28.0           Private   150122.53       HS-grad              9.0   \n",
      "1      44.0  Self-emp-not-inc    82929.12       HS-grad              9.0   \n",
      "2      34.0        Government    89181.90       Masters             16.0   \n",
      "3      46.0           Private   229944.98       HS-grad              9.0   \n",
      "4      49.0        Government   242753.66       HS-grad              9.0   \n",
      "...     ...               ...         ...           ...              ...   \n",
      "30157  30.0           Private    13769.00     Bachelors             11.0   \n",
      "30158  44.0        Government   177555.60  Some-college             11.0   \n",
      "30159  36.0        Government   203074.58    Assoc-acdm             10.0   \n",
      "30160  17.0           Private  1484705.00       HS-grad             10.0   \n",
      "30161  41.0           Private   195481.28       HS-grad             10.0   \n",
      "\n",
      "      marital_status         occupation   race  gender  capital_gain  \\\n",
      "0      Never-married    Exec-managerial  Other  Female           0.0   \n",
      "1            Married       Craft-repair  White    Male           0.0   \n",
      "2            Married    Exec-managerial  White  Female           0.0   \n",
      "3            Married    Farming-fishing  White    Male           0.0   \n",
      "4           Divorced    Exec-managerial  White  Female           0.0   \n",
      "...              ...                ...    ...     ...           ...   \n",
      "30157       Divorced     Prof-specialty  White    Male           0.0   \n",
      "30158        Married    Protective-serv  White    Male           0.0   \n",
      "30159        Widowed       Adm-clerical  Black  Female           0.0   \n",
      "30160  Never-married  Machine-op-inspct  White  Female           0.0   \n",
      "30161        Married    Exec-managerial  White    Male           0.0   \n",
      "\n",
      "       capital_loss  hours_per_week native_country income  \n",
      "0               0.0            40.0             US   >50K  \n",
      "1               0.0            40.0             US   >50K  \n",
      "2               0.0            45.0             US  <=50K  \n",
      "3               0.0            40.0             US   >50K  \n",
      "4               0.0            42.0             US  <=50K  \n",
      "...             ...             ...            ...    ...  \n",
      "30157           0.0            40.0             US  <=50K  \n",
      "30158           0.0            40.0         Non-US   >50K  \n",
      "30159           0.0            35.0             US  <=50K  \n",
      "30160           0.0            99.0         Non-US  <=50K  \n",
      "30161           0.0            40.0             US   >50K  \n",
      "\n",
      "[30162 rows x 14 columns]\n"
     ]
    },
    {
     "data": {
      "application/vnd.jupyter.widget-view+json": {
       "model_id": "",
       "version_major": 2,
       "version_minor": 0
      },
      "text/plain": [
       "  0%|          | 0/40 [00:00<?, ?it/s]"
      ]
     },
     "metadata": {},
     "output_type": "display_data"
    },
    {
     "name": "stdout",
     "output_type": "stream",
     "text": [
      "             age         workclass      fnlwgt     education  educational_num  \\\n",
      "0      35.000000  Self-emp-not-inc  153955.300       Masters             13.0   \n",
      "1      34.000000           Private  159933.440   Prof-school             13.0   \n",
      "2      39.000000           Private  150585.020       HS-grad              9.0   \n",
      "3      33.000000  Self-emp-not-inc  169958.660       HS-grad              9.0   \n",
      "4      47.000000           Private  255389.750     Bachelors             16.0   \n",
      "...          ...               ...         ...           ...              ...   \n",
      "30157  38.000000        Government   64409.040  Some-college             10.0   \n",
      "30158  29.425226           Private   28173.201     Bachelors             13.0   \n",
      "30159  25.000000        Government  133088.980     Bachelors             13.0   \n",
      "30160  50.000000           Private   35732.195     Bachelors             16.0   \n",
      "30161  37.000000           Private   32876.582     Bachelors             16.0   \n",
      "\n",
      "      marital_status       occupation                race  gender  \\\n",
      "0            Married  Exec-managerial               White    Male   \n",
      "1            Married     Tech-support               White  Female   \n",
      "2           Divorced  Exec-managerial               White    Male   \n",
      "3            Married            Sales               White    Male   \n",
      "4            Married   Prof-specialty               White    Male   \n",
      "...              ...              ...                 ...     ...   \n",
      "30157        Married     Craft-repair               Black    Male   \n",
      "30158        Married     Tech-support               White  Female   \n",
      "30159  Never-married   Prof-specialty  Asian-Pac-Islander    Male   \n",
      "30160        Married   Prof-specialty               White    Male   \n",
      "30161  Never-married  Exec-managerial               White    Male   \n",
      "\n",
      "       capital_gain  capital_loss  hours_per_week native_country income  \n",
      "0               0.0           0.0            99.0             US   >50K  \n",
      "1               0.0           0.0            40.0             US   >50K  \n",
      "2               0.0           0.0            40.0             US  <=50K  \n",
      "3               0.0           0.0            40.0             US  <=50K  \n",
      "4               0.0           0.0            50.0             US   >50K  \n",
      "...             ...           ...             ...            ...    ...  \n",
      "30157           0.0           0.0            45.0             US  <=50K  \n",
      "30158           0.0           0.0            40.0             US  <=50K  \n",
      "30159           0.0           0.0            40.0             US  <=50K  \n",
      "30160       99999.0           0.0            45.0             US   >50K  \n",
      "30161           0.0           0.0             1.0             US  <=50K  \n",
      "\n",
      "[30162 rows x 14 columns]\n"
     ]
    },
    {
     "data": {
      "application/vnd.jupyter.widget-view+json": {
       "model_id": "",
       "version_major": 2,
       "version_minor": 0
      },
      "text/plain": [
       "  0%|          | 0/40 [00:00<?, ?it/s]"
      ]
     },
     "metadata": {},
     "output_type": "display_data"
    },
    {
     "name": "stdout",
     "output_type": "stream",
     "text": [
      "        age         workclass       fnlwgt     education  educational_num  \\\n",
      "0      70.0  Self-emp-not-inc   157414.390  Some-college        10.000000   \n",
      "1      35.0           Private   243149.380  Some-college        11.000000   \n",
      "2      28.0           Private   120246.984       HS-grad         9.000000   \n",
      "3      26.0        Government   194315.550     Bachelors        11.509188   \n",
      "4      52.0           Private    37425.645  Some-college        10.000000   \n",
      "...     ...               ...          ...           ...              ...   \n",
      "30157  45.0           Private   309164.340       HS-grad         9.000000   \n",
      "30158  41.0           Private   188249.080       HS-grad         9.000000   \n",
      "30159  38.0        Government  1484705.000  Some-college        11.000000   \n",
      "30160  21.0           Private   177620.730       HS-grad         9.000000   \n",
      "30161  57.0        Government    46408.750  Some-college        10.000000   \n",
      "\n",
      "      marital_status         occupation   race  gender  capital_gain  \\\n",
      "0            Married  Machine-op-inspct  Black    Male           0.0   \n",
      "1            Married       Craft-repair  White    Male           0.0   \n",
      "2            Married    Farming-fishing  White    Male           0.0   \n",
      "3      Never-married     Prof-specialty  White  Female           0.0   \n",
      "4      Never-married       Craft-repair  White    Male           0.0   \n",
      "...              ...                ...    ...     ...           ...   \n",
      "30157        Married   Transport-moving  White    Male           0.0   \n",
      "30158       Divorced       Adm-clerical  Black  Female           0.0   \n",
      "30159        Married              Sales  White  Female           0.0   \n",
      "30160  Never-married  Machine-op-inspct  White  Female           0.0   \n",
      "30161        Married    Exec-managerial  White    Male        3103.0   \n",
      "\n",
      "       capital_loss  hours_per_week native_country income  \n",
      "0               0.0            40.0             US  <=50K  \n",
      "1               0.0            48.0             US  <=50K  \n",
      "2               0.0            40.0             US  <=50K  \n",
      "3               0.0            50.0             US  <=50K  \n",
      "4               0.0            50.0             US  <=50K  \n",
      "...             ...             ...            ...    ...  \n",
      "30157           0.0            40.0             US  <=50K  \n",
      "30158           0.0            40.0             US  <=50K  \n",
      "30159        4356.0             1.0             US   >50K  \n",
      "30160           0.0             1.0             US  <=50K  \n",
      "30161           0.0            40.0         Non-US  <=50K  \n",
      "\n",
      "[30162 rows x 14 columns]\n"
     ]
    },
    {
     "data": {
      "application/vnd.jupyter.widget-view+json": {
       "model_id": "",
       "version_major": 2,
       "version_minor": 0
      },
      "text/plain": [
       "  0%|          | 0/40 [00:00<?, ?it/s]"
      ]
     },
     "metadata": {},
     "output_type": "display_data"
    },
    {
     "name": "stdout",
     "output_type": "stream",
     "text": [
      "        age     workclass     fnlwgt     education  educational_num  \\\n",
      "0      30.0    Government  105144.84  Some-college             13.0   \n",
      "1      32.0  Self-emp-inc  258387.42        <=12th              9.0   \n",
      "2      43.0    Government  176173.88  Some-college             10.0   \n",
      "3      53.0       Private  170559.83  Some-college             10.0   \n",
      "4      50.0    Government  115486.38    Assoc-acdm             10.0   \n",
      "...     ...           ...        ...           ...              ...   \n",
      "30157  17.0       Private  154102.17       HS-grad              9.0   \n",
      "30158  31.0    Government  183611.06  Some-college             10.0   \n",
      "30159  90.0       Private  138933.86        <=12th              5.0   \n",
      "30160  44.0       Private  231620.66     Bachelors              9.0   \n",
      "30161  38.0       Private  328577.84     Doctorate             12.0   \n",
      "\n",
      "      marital_status         occupation                race  gender  \\\n",
      "0      Never-married       Adm-clerical               White    Male   \n",
      "1            Married  Handlers-cleaners               White    Male   \n",
      "2            Widowed       Adm-clerical               Black  Female   \n",
      "3            Married     Prof-specialty  Amer-Indian-Eskimo    Male   \n",
      "4          Separated    Exec-managerial               Black    Male   \n",
      "...              ...                ...                 ...     ...   \n",
      "30157  Never-married    Exec-managerial               Other  Female   \n",
      "30158        Married    Exec-managerial               White    Male   \n",
      "30159        Married       Craft-repair               Other    Male   \n",
      "30160  Never-married    Exec-managerial               Other    Male   \n",
      "30161  Never-married     Prof-specialty               White  Female   \n",
      "\n",
      "       capital_gain  capital_loss  hours_per_week native_country income  \n",
      "0               0.0           0.0            40.0             US  <=50K  \n",
      "1               0.0           0.0            40.0             US  <=50K  \n",
      "2               0.0           0.0            40.0             US  <=50K  \n",
      "3               0.0           0.0            40.0             US   >50K  \n",
      "4               0.0           0.0            40.0             US  <=50K  \n",
      "...             ...           ...             ...            ...    ...  \n",
      "30157           0.0           0.0             5.0             US  <=50K  \n",
      "30158           0.0           0.0            40.0             US  <=50K  \n",
      "30159           0.0           0.0            75.0             US  <=50K  \n",
      "30160           0.0           0.0            40.0             US  <=50K  \n",
      "30161           0.0           0.0            40.0             US  <=50K  \n",
      "\n",
      "[30162 rows x 14 columns]\n"
     ]
    },
    {
     "data": {
      "application/vnd.jupyter.widget-view+json": {
       "model_id": "",
       "version_major": 2,
       "version_minor": 0
      },
      "text/plain": [
       "  0%|          | 0/40 [00:00<?, ?it/s]"
      ]
     },
     "metadata": {},
     "output_type": "display_data"
    },
    {
     "name": "stdout",
     "output_type": "stream",
     "text": [
      "        age         workclass     fnlwgt     education  educational_num  \\\n",
      "0      29.0           Private   13769.00       HS-grad             10.0   \n",
      "1      47.0           Private  192044.06     Assoc-voc             10.0   \n",
      "2      32.0           Private   13769.00       HS-grad              9.0   \n",
      "3      17.0           Private  132534.89       HS-grad              9.0   \n",
      "4      90.0        Government  160665.77       HS-grad              9.0   \n",
      "...     ...               ...        ...           ...              ...   \n",
      "30157  30.0           Private  173268.23        <=12th              9.0   \n",
      "30158  90.0           Private   79756.81       Masters             13.0   \n",
      "30159  29.0           Private  188901.48  Some-college              9.0   \n",
      "30160  30.0  Self-emp-not-inc   78971.15       HS-grad             10.0   \n",
      "30161  21.0           Private  194113.50     Bachelors             10.0   \n",
      "\n",
      "      marital_status         occupation   race  gender  capital_gain  \\\n",
      "0      Never-married       Adm-clerical  White  Female           0.0   \n",
      "1            Married       Adm-clerical  White  Female           0.0   \n",
      "2           Divorced      Other-service  White  Female           0.0   \n",
      "3      Never-married  Machine-op-inspct  White    Male           0.0   \n",
      "4            Married      Other-service  White    Male           0.0   \n",
      "...              ...                ...    ...     ...           ...   \n",
      "30157  Never-married       Adm-clerical  Black    Male           0.0   \n",
      "30158        Married              Sales  White    Male           0.0   \n",
      "30159  Never-married  Machine-op-inspct  White    Male           0.0   \n",
      "30160        Married       Craft-repair  White    Male           0.0   \n",
      "30161  Never-married       Adm-clerical  White    Male           0.0   \n",
      "\n",
      "       capital_loss  hours_per_week native_country income  \n",
      "0               0.0            36.0             US  <=50K  \n",
      "1               0.0            40.0             US  <=50K  \n",
      "2               0.0            40.0             US  <=50K  \n",
      "3               0.0            40.0             US  <=50K  \n",
      "4               0.0            40.0             US  <=50K  \n",
      "...             ...             ...            ...    ...  \n",
      "30157           0.0            40.0             US  <=50K  \n",
      "30158           0.0            40.0             US  <=50K  \n",
      "30159           0.0            45.0             US  <=50K  \n",
      "30160           0.0            40.0             US  <=50K  \n",
      "30161           0.0            30.0             US  <=50K  \n",
      "\n",
      "[30162 rows x 14 columns]\n"
     ]
    }
   ],
   "source": [
    "for i in tqdm(range(n_synthetic_datasets), desc = \"Generated datasets\", disable = False):\n",
    "    dataset_train_gen_path_tabfairgan_mod = os.path.join(dataset_gen_dir_tabfairgan_mod, f\"gen{i}.csv\")\n",
    "    %run tabFairGAN_nofair.py $path_ $n_epochs $batch_size $dataset_train_gen_path_tabfairgan_mod --critic_repeat=$n_critics --dim_latent_layer=$dim_latent_layer_mod --dim_hidden_layer=$dim_hidden_layer_mod \n",
    "    data_train_gen_mod = pd.read_csv(dataset_train_gen_path_tabfairgan_mod)\n",
    "    data_train_gen_mod.columns = data_train_gen_mod.columns.str.replace(\"_\", \".\")\n",
    "    data_train_gen_mod.to_csv(dataset_train_gen_path_tabfairgan_mod, index=True)"
   ]
  },
  {
   "cell_type": "code",
   "execution_count": null,
   "id": "df27205e",
   "metadata": {},
   "outputs": [],
   "source": []
  }
 ],
 "metadata": {
  "kernelspec": {
   "display_name": "torch",
   "language": "python",
   "name": "torch"
  },
  "language_info": {
   "codemirror_mode": {
    "name": "ipython",
    "version": 3
   },
   "file_extension": ".py",
   "mimetype": "text/x-python",
   "name": "python",
   "nbconvert_exporter": "python",
   "pygments_lexer": "ipython3",
   "version": "3.9.10"
  }
 },
 "nbformat": 4,
 "nbformat_minor": 5
}
