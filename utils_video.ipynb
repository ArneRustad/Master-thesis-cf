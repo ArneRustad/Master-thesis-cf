{
 "cells": [
  {
   "cell_type": "code",
   "execution_count": null,
   "id": "153149c7",
   "metadata": {},
   "outputs": [],
   "source": [
    "def play_gif(filename, fps = None):\n",
    "    if (fps == None):\n",
    "        return(Image(filename))\n",
    "    else:\n",
    "        gif = imageio.mimread(filename)\n",
    "        gif_change_speed = \"temp_gif_change_speed.gif\"\n",
    "        imageio.mimsave(gif_change_speed, gif, fps=fps)\n",
    "        video = Image(gif_change_speed)\n",
    "        os.remove(gif_change_speed)\n",
    "        return(video)\n",
    "\n",
    "def gif_to_mp4(filename_gif, fps = None, new_filename = None):\n",
    "    if(new_filename == None):\n",
    "        new_filename = f\"{filename_gif[:-4]}.mp4\"\n",
    "    \n",
    "    if (fps == None):\n",
    "        gif_changed_speed = filename_gif\n",
    "    else:\n",
    "        gif = imageio.mimread(filename_gif_changed_speed)\n",
    "        gif_changed_speed = \"temp_gif_change_speed.gif\"\n",
    "        imageio.mimsave(gif_change_speed, gif, fps=fps)\n",
    "        video = Image(gif_change_speed)\n",
    "    \n",
    "    clip = moviepy.editor.VideoFileClip(gif_changed_speed)\n",
    "    clip.write_videofile(new_filename)\n",
    "    if(fps != None):\n",
    "        os.remove(gif_changed_speed)\n",
    "    return(new_filename)"
   ]
  }
 ],
 "metadata": {
  "kernelspec": {
   "display_name": "tf",
   "language": "python",
   "name": "tf"
  },
  "language_info": {
   "codemirror_mode": {
    "name": "ipython",
    "version": 3
   },
   "file_extension": ".py",
   "mimetype": "text/x-python",
   "name": "python",
   "nbconvert_exporter": "python",
   "pygments_lexer": "ipython3",
   "version": "3.7.11"
  }
 },
 "nbformat": 4,
 "nbformat_minor": 5
}
