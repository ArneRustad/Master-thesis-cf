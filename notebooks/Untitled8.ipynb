{
 "cells": [
  {
   "cell_type": "code",
   "execution_count": 1,
   "id": "b57795ca",
   "metadata": {},
   "outputs": [],
   "source": [
    "import pathlib\n",
    "import os\n",
    "if not \"changed_working_directory\" in locals():\n",
    "    changed_working_directory = True\n",
    "    os.chdir(pathlib.Path().resolve().parent)\n",
    "%load_ext autoreload\n",
    "%autoreload 2"
   ]
  },
  {
   "cell_type": "code",
   "execution_count": 2,
   "id": "7bc8ba32",
   "metadata": {},
   "outputs": [],
   "source": [
    "import tensorflow as tf\n",
    "import tensorflow_probability as tfp"
   ]
  },
  {
   "cell_type": "code",
   "execution_count": 152,
   "id": "c162fdd1",
   "metadata": {},
   "outputs": [
    {
     "name": "stdout",
     "output_type": "stream",
     "text": [
      "tf.Tensor(0.0, shape=(), dtype=float32)\n"
     ]
    },
    {
     "data": {
      "text/plain": [
       "<tf.Tensor: shape=(), dtype=float32, numpy=0.0>"
      ]
     },
     "execution_count": 152,
     "metadata": {},
     "output_type": "execute_result"
    }
   ],
   "source": [
    "x = tf.Variable(1.)\n",
    "logits = tf.Variable(0.)\n",
    "\n",
    "with tf.GradientTape(persistent=True) as tape:\n",
    "    b = tfp.distributions.Bernoulli(logits=logits, dtype=tf.float32).sample()\n",
    "    print(b)\n",
    "    y = x**2 * b\n",
    "dy_dx = tape.gradient(y, x)\n",
    "dy_dx"
   ]
  },
  {
   "cell_type": "code",
   "execution_count": 151,
   "id": "bccd9a93",
   "metadata": {},
   "outputs": [],
   "source": [
    "dy_dlogits = tape.gradient(y, logits)\n",
    "dy_dlogits"
   ]
  },
  {
   "cell_type": "code",
   "execution_count": 35,
   "id": "b921efcb",
   "metadata": {},
   "outputs": [
    {
     "name": "stdout",
     "output_type": "stream",
     "text": [
      "[[ 9.731071 -9.731071]] \n",
      "\n",
      "[[0.01288797 0.987112  ]\n",
      " [0.48840317 0.5115969 ]\n",
      " [0.57194513 0.4280549 ]] tf.Tensor(\n",
      "[[-4.351461   -0.01297178]\n",
      " [-0.71661407 -0.6702183 ]\n",
      " [-0.55871224 -0.8485038 ]], shape=(3, 2), dtype=float32) [[-1.09896064e-07  4.76837158e-07]] \n",
      "\n",
      "[[9.99987721e-01 1.22596002e-05]\n",
      " [1.00230336e-01 8.99769604e-01]\n",
      " [3.66007984e-01 6.33991957e-01]] [[-1.2278632e-05 -1.1309201e+01]\n",
      " [-2.3002844e+00 -1.0561654e-01]\n",
      " [-1.0051001e+00 -4.5571902e-01]] [[2.6822089e-08 1.4305115e-07]] \n",
      "\n"
     ]
    }
   ],
   "source": [
    "import numpy as np\n",
    "probs = tf.Variable([[.5, .5]])\n",
    "with tf.GradientTape(persistent=True) as tape:\n",
    "  sample = tfp.distributions.ExpRelaxedOneHotCategorical(probs=probs, temperature=[.2, 1., 5]).sample()\n",
    "  sample1 = tf.math.exp(sample)\n",
    "  sample2 = tfp.distributions.RelaxedOneHotCategorical(probs=probs, temperature=[.2, 1., 5]).sample()\n",
    "print(tape.gradient(sample, probs).numpy(),'\\n')\n",
    "print(sample1.numpy(), sample, tape.gradient(sample1, probs).numpy(),'\\n')\n",
    "print(sample2.numpy(), np.log(sample2), tape.gradient(sample2, probs).numpy(),'\\n')"
   ]
  },
  {
   "cell_type": "code",
   "execution_count": 138,
   "id": "840cdb30",
   "metadata": {},
   "outputs": [
    {
     "name": "stdout",
     "output_type": "stream",
     "text": [
      "Gumbel sample: tf.Tensor([0.24288398 0.757116  ], shape=(2,), dtype=float32)\n",
      "Softmax applied: tf.Tensor([0.5 0.5], shape=(2,), dtype=float32)\n",
      "tf.Tensor([0. 0.], shape=(2,), dtype=float32)\n",
      "Gumbel: tf.Tensor([-0.3677827  0.3677827], shape=(2,), dtype=float32)\n",
      "Softmax: tf.Tensor([-0.25  0.25], shape=(2,), dtype=float32)\n"
     ]
    }
   ],
   "source": [
    "logits = tf.Variable([0.5, 0.5])\n",
    "with tf.GradientTape(persistent=True) as tape:\n",
    "    sample = tfp.distributions.RelaxedOneHotCategorical(probs=logits, temperature=1).sample()\n",
    "    sample2 = tf.nn.softmax(logits)\n",
    "    print(\"Gumbel sample:\", sample)\n",
    "    print(\"Softmax applied:\", sample2)\n",
    "    loss = sample[1]\n",
    "    loss2 = sample2[1]\n",
    "print(tape.gradient(sample, logits))\n",
    "print(\"Gumbel:\", tape.gradient(loss, logits))\n",
    "print(\"Softmax:\", tape.gradient(loss2, logits))"
   ]
  },
  {
   "cell_type": "code",
   "execution_count": 279,
   "id": "50fff8fe",
   "metadata": {},
   "outputs": [
    {
     "data": {
      "text/plain": [
       "SVC(probability=True)"
      ]
     },
     "execution_count": 279,
     "metadata": {},
     "output_type": "execute_result"
    },
    {
     "data": {
      "text/plain": [
       "SVC(probability=True)"
      ]
     },
     "execution_count": 279,
     "metadata": {},
     "output_type": "execute_result"
    }
   ],
   "source": []
  },
  {
   "cell_type": "code",
   "execution_count": null,
   "id": "8e56a906",
   "metadata": {},
   "outputs": [],
   "source": []
  },
  {
   "cell_type": "code",
   "execution_count": null,
   "id": "4222b4b7",
   "metadata": {},
   "outputs": [],
   "source": []
  }
 ],
 "metadata": {
  "kernelspec": {
   "display_name": "tf",
   "language": "python",
   "name": "tf"
  },
  "language_info": {
   "codemirror_mode": {
    "name": "ipython",
    "version": 3
   },
   "file_extension": ".py",
   "mimetype": "text/x-python",
   "name": "python",
   "nbconvert_exporter": "python",
   "pygments_lexer": "ipython3",
   "version": "3.7.11"
  }
 },
 "nbformat": 4,
 "nbformat_minor": 5
}
