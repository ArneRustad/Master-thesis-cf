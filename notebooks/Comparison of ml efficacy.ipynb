{
 "cells": [
  {
   "cell_type": "code",
   "execution_count": 1,
   "id": "43b83248",
   "metadata": {},
   "outputs": [],
   "source": [
    "import pathlib\n",
    "import os\n",
    "if not \"changed_working_directory\" in locals():\n",
    "    changed_working_directory = True\n",
    "    os.chdir(pathlib.Path().resolve().parent)\n",
    "    \n",
    "%load_ext autoreload\n",
    "%autoreload 2\n",
    "\n",
    "from tabGAN import TabGAN\n",
    "from src import constants as const\n",
    "import helpers\n",
    "from v2_hp_tuning import fetch_hp_info\n",
    "\n",
    "imports_path = \"src//imports.ipynb\"\n",
    "\n",
    "%run \"$imports_path\"\n",
    "\n",
    "if const.dir.project() != os.getcwd():\n",
    "    raise ValueError(\"Project directory not the same as in consts\")"
   ]
  },
  {
   "cell_type": "code",
   "execution_count": 2,
   "id": "3ab7abb5",
   "metadata": {},
   "outputs": [
    {
     "data": {
      "application/vnd.jupyter.widget-view+json": {
       "model_id": "79da07a19aaf46009d269f243802f3a8",
       "version_major": 2,
       "version_minor": 0
      },
      "text/plain": [
       "Dataset tasks:   0%|          | 0/1 [00:00<?, ?it/s]"
      ]
     },
     "metadata": {},
     "output_type": "display_data"
    },
    {
     "data": {
      "application/vnd.jupyter.widget-view+json": {
       "model_id": "",
       "version_major": 2,
       "version_minor": 0
      },
      "text/plain": [
       "Synthetic datasets:   0%|          | 0/50 [00:00<?, ?it/s]"
      ]
     },
     "metadata": {},
     "output_type": "display_data"
    },
    {
     "data": {
      "application/vnd.jupyter.widget-view+json": {
       "model_id": "",
       "version_major": 2,
       "version_minor": 0
      },
      "text/plain": [
       "Models:   0%|          | 0/14 [00:00<?, ?it/s]"
      ]
     },
     "metadata": {},
     "output_type": "display_data"
    },
    {
     "data": {
      "application/vnd.jupyter.widget-view+json": {
       "model_id": "",
       "version_major": 2,
       "version_minor": 0
      },
      "text/plain": [
       "Models:   0%|          | 0/14 [00:00<?, ?it/s]"
      ]
     },
     "metadata": {},
     "output_type": "display_data"
    },
    {
     "data": {
      "application/vnd.jupyter.widget-view+json": {
       "model_id": "",
       "version_major": 2,
       "version_minor": 0
      },
      "text/plain": [
       "Models:   0%|          | 0/14 [00:00<?, ?it/s]"
      ]
     },
     "metadata": {},
     "output_type": "display_data"
    },
    {
     "data": {
      "application/vnd.jupyter.widget-view+json": {
       "model_id": "",
       "version_major": 2,
       "version_minor": 0
      },
      "text/plain": [
       "Models:   0%|          | 0/14 [00:00<?, ?it/s]"
      ]
     },
     "metadata": {},
     "output_type": "display_data"
    },
    {
     "data": {
      "application/vnd.jupyter.widget-view+json": {
       "model_id": "",
       "version_major": 2,
       "version_minor": 0
      },
      "text/plain": [
       "Models:   0%|          | 0/14 [00:00<?, ?it/s]"
      ]
     },
     "metadata": {},
     "output_type": "display_data"
    },
    {
     "data": {
      "application/vnd.jupyter.widget-view+json": {
       "model_id": "",
       "version_major": 2,
       "version_minor": 0
      },
      "text/plain": [
       "Models:   0%|          | 0/14 [00:00<?, ?it/s]"
      ]
     },
     "metadata": {},
     "output_type": "display_data"
    },
    {
     "data": {
      "application/vnd.jupyter.widget-view+json": {
       "model_id": "",
       "version_major": 2,
       "version_minor": 0
      },
      "text/plain": [
       "Models:   0%|          | 0/14 [00:00<?, ?it/s]"
      ]
     },
     "metadata": {},
     "output_type": "display_data"
    },
    {
     "data": {
      "application/vnd.jupyter.widget-view+json": {
       "model_id": "",
       "version_major": 2,
       "version_minor": 0
      },
      "text/plain": [
       "Models:   0%|          | 0/14 [00:00<?, ?it/s]"
      ]
     },
     "metadata": {},
     "output_type": "display_data"
    },
    {
     "data": {
      "application/vnd.jupyter.widget-view+json": {
       "model_id": "",
       "version_major": 2,
       "version_minor": 0
      },
      "text/plain": [
       "Models:   0%|          | 0/14 [00:00<?, ?it/s]"
      ]
     },
     "metadata": {},
     "output_type": "display_data"
    },
    {
     "data": {
      "application/vnd.jupyter.widget-view+json": {
       "model_id": "",
       "version_major": 2,
       "version_minor": 0
      },
      "text/plain": [
       "Models:   0%|          | 0/14 [00:00<?, ?it/s]"
      ]
     },
     "metadata": {},
     "output_type": "display_data"
    },
    {
     "data": {
      "application/vnd.jupyter.widget-view+json": {
       "model_id": "",
       "version_major": 2,
       "version_minor": 0
      },
      "text/plain": [
       "Models:   0%|          | 0/14 [00:00<?, ?it/s]"
      ]
     },
     "metadata": {},
     "output_type": "display_data"
    },
    {
     "data": {
      "application/vnd.jupyter.widget-view+json": {
       "model_id": "",
       "version_major": 2,
       "version_minor": 0
      },
      "text/plain": [
       "Models:   0%|          | 0/14 [00:00<?, ?it/s]"
      ]
     },
     "metadata": {},
     "output_type": "display_data"
    },
    {
     "data": {
      "application/vnd.jupyter.widget-view+json": {
       "model_id": "",
       "version_major": 2,
       "version_minor": 0
      },
      "text/plain": [
       "Models:   0%|          | 0/14 [00:00<?, ?it/s]"
      ]
     },
     "metadata": {},
     "output_type": "display_data"
    },
    {
     "data": {
      "application/vnd.jupyter.widget-view+json": {
       "model_id": "",
       "version_major": 2,
       "version_minor": 0
      },
      "text/plain": [
       "Models:   0%|          | 0/14 [00:00<?, ?it/s]"
      ]
     },
     "metadata": {},
     "output_type": "display_data"
    },
    {
     "data": {
      "application/vnd.jupyter.widget-view+json": {
       "model_id": "",
       "version_major": 2,
       "version_minor": 0
      },
      "text/plain": [
       "Models:   0%|          | 0/14 [00:00<?, ?it/s]"
      ]
     },
     "metadata": {},
     "output_type": "display_data"
    },
    {
     "data": {
      "application/vnd.jupyter.widget-view+json": {
       "model_id": "",
       "version_major": 2,
       "version_minor": 0
      },
      "text/plain": [
       "Models:   0%|          | 0/14 [00:00<?, ?it/s]"
      ]
     },
     "metadata": {},
     "output_type": "display_data"
    },
    {
     "data": {
      "application/vnd.jupyter.widget-view+json": {
       "model_id": "",
       "version_major": 2,
       "version_minor": 0
      },
      "text/plain": [
       "Models:   0%|          | 0/14 [00:00<?, ?it/s]"
      ]
     },
     "metadata": {},
     "output_type": "display_data"
    },
    {
     "data": {
      "application/vnd.jupyter.widget-view+json": {
       "model_id": "",
       "version_major": 2,
       "version_minor": 0
      },
      "text/plain": [
       "Models:   0%|          | 0/14 [00:00<?, ?it/s]"
      ]
     },
     "metadata": {},
     "output_type": "display_data"
    },
    {
     "data": {
      "application/vnd.jupyter.widget-view+json": {
       "model_id": "",
       "version_major": 2,
       "version_minor": 0
      },
      "text/plain": [
       "Models:   0%|          | 0/14 [00:00<?, ?it/s]"
      ]
     },
     "metadata": {},
     "output_type": "display_data"
    },
    {
     "data": {
      "application/vnd.jupyter.widget-view+json": {
       "model_id": "",
       "version_major": 2,
       "version_minor": 0
      },
      "text/plain": [
       "Models:   0%|          | 0/14 [00:00<?, ?it/s]"
      ]
     },
     "metadata": {},
     "output_type": "display_data"
    },
    {
     "data": {
      "application/vnd.jupyter.widget-view+json": {
       "model_id": "",
       "version_major": 2,
       "version_minor": 0
      },
      "text/plain": [
       "Models:   0%|          | 0/14 [00:00<?, ?it/s]"
      ]
     },
     "metadata": {},
     "output_type": "display_data"
    },
    {
     "data": {
      "application/vnd.jupyter.widget-view+json": {
       "model_id": "",
       "version_major": 2,
       "version_minor": 0
      },
      "text/plain": [
       "Models:   0%|          | 0/14 [00:00<?, ?it/s]"
      ]
     },
     "metadata": {},
     "output_type": "display_data"
    },
    {
     "data": {
      "application/vnd.jupyter.widget-view+json": {
       "model_id": "",
       "version_major": 2,
       "version_minor": 0
      },
      "text/plain": [
       "Models:   0%|          | 0/14 [00:00<?, ?it/s]"
      ]
     },
     "metadata": {},
     "output_type": "display_data"
    },
    {
     "data": {
      "application/vnd.jupyter.widget-view+json": {
       "model_id": "",
       "version_major": 2,
       "version_minor": 0
      },
      "text/plain": [
       "Models:   0%|          | 0/14 [00:00<?, ?it/s]"
      ]
     },
     "metadata": {},
     "output_type": "display_data"
    },
    {
     "data": {
      "application/vnd.jupyter.widget-view+json": {
       "model_id": "",
       "version_major": 2,
       "version_minor": 0
      },
      "text/plain": [
       "Models:   0%|          | 0/14 [00:00<?, ?it/s]"
      ]
     },
     "metadata": {},
     "output_type": "display_data"
    },
    {
     "data": {
      "application/vnd.jupyter.widget-view+json": {
       "model_id": "",
       "version_major": 2,
       "version_minor": 0
      },
      "text/plain": [
       "Models:   0%|          | 0/14 [00:00<?, ?it/s]"
      ]
     },
     "metadata": {},
     "output_type": "display_data"
    },
    {
     "data": {
      "application/vnd.jupyter.widget-view+json": {
       "model_id": "",
       "version_major": 2,
       "version_minor": 0
      },
      "text/plain": [
       "Models:   0%|          | 0/14 [00:00<?, ?it/s]"
      ]
     },
     "metadata": {},
     "output_type": "display_data"
    },
    {
     "data": {
      "application/vnd.jupyter.widget-view+json": {
       "model_id": "",
       "version_major": 2,
       "version_minor": 0
      },
      "text/plain": [
       "Models:   0%|          | 0/14 [00:00<?, ?it/s]"
      ]
     },
     "metadata": {},
     "output_type": "display_data"
    },
    {
     "data": {
      "application/vnd.jupyter.widget-view+json": {
       "model_id": "",
       "version_major": 2,
       "version_minor": 0
      },
      "text/plain": [
       "Models:   0%|          | 0/14 [00:00<?, ?it/s]"
      ]
     },
     "metadata": {},
     "output_type": "display_data"
    },
    {
     "data": {
      "application/vnd.jupyter.widget-view+json": {
       "model_id": "",
       "version_major": 2,
       "version_minor": 0
      },
      "text/plain": [
       "Models:   0%|          | 0/14 [00:00<?, ?it/s]"
      ]
     },
     "metadata": {},
     "output_type": "display_data"
    },
    {
     "data": {
      "application/vnd.jupyter.widget-view+json": {
       "model_id": "",
       "version_major": 2,
       "version_minor": 0
      },
      "text/plain": [
       "Models:   0%|          | 0/14 [00:00<?, ?it/s]"
      ]
     },
     "metadata": {},
     "output_type": "display_data"
    },
    {
     "data": {
      "application/vnd.jupyter.widget-view+json": {
       "model_id": "",
       "version_major": 2,
       "version_minor": 0
      },
      "text/plain": [
       "Models:   0%|          | 0/14 [00:00<?, ?it/s]"
      ]
     },
     "metadata": {},
     "output_type": "display_data"
    },
    {
     "data": {
      "application/vnd.jupyter.widget-view+json": {
       "model_id": "",
       "version_major": 2,
       "version_minor": 0
      },
      "text/plain": [
       "Models:   0%|          | 0/14 [00:00<?, ?it/s]"
      ]
     },
     "metadata": {},
     "output_type": "display_data"
    },
    {
     "name": "stdout",
     "output_type": "stream",
     "text": [
      "Model GaussianCopula only has 32 synthetic datasets for dataset task adult_edited\n"
     ]
    },
    {
     "data": {
      "application/vnd.jupyter.widget-view+json": {
       "model_id": "",
       "version_major": 2,
       "version_minor": 0
      },
      "text/plain": [
       "Models:   0%|          | 0/14 [00:00<?, ?it/s]"
      ]
     },
     "metadata": {},
     "output_type": "display_data"
    },
    {
     "data": {
      "application/vnd.jupyter.widget-view+json": {
       "model_id": "",
       "version_major": 2,
       "version_minor": 0
      },
      "text/plain": [
       "Models:   0%|          | 0/14 [00:00<?, ?it/s]"
      ]
     },
     "metadata": {},
     "output_type": "display_data"
    },
    {
     "data": {
      "application/vnd.jupyter.widget-view+json": {
       "model_id": "",
       "version_major": 2,
       "version_minor": 0
      },
      "text/plain": [
       "Models:   0%|          | 0/14 [00:00<?, ?it/s]"
      ]
     },
     "metadata": {},
     "output_type": "display_data"
    },
    {
     "data": {
      "application/vnd.jupyter.widget-view+json": {
       "model_id": "",
       "version_major": 2,
       "version_minor": 0
      },
      "text/plain": [
       "Models:   0%|          | 0/14 [00:00<?, ?it/s]"
      ]
     },
     "metadata": {},
     "output_type": "display_data"
    },
    {
     "data": {
      "application/vnd.jupyter.widget-view+json": {
       "model_id": "",
       "version_major": 2,
       "version_minor": 0
      },
      "text/plain": [
       "Models:   0%|          | 0/14 [00:00<?, ?it/s]"
      ]
     },
     "metadata": {},
     "output_type": "display_data"
    },
    {
     "data": {
      "application/vnd.jupyter.widget-view+json": {
       "model_id": "",
       "version_major": 2,
       "version_minor": 0
      },
      "text/plain": [
       "Models:   0%|          | 0/14 [00:00<?, ?it/s]"
      ]
     },
     "metadata": {},
     "output_type": "display_data"
    },
    {
     "data": {
      "application/vnd.jupyter.widget-view+json": {
       "model_id": "",
       "version_major": 2,
       "version_minor": 0
      },
      "text/plain": [
       "Models:   0%|          | 0/14 [00:00<?, ?it/s]"
      ]
     },
     "metadata": {},
     "output_type": "display_data"
    },
    {
     "data": {
      "application/vnd.jupyter.widget-view+json": {
       "model_id": "",
       "version_major": 2,
       "version_minor": 0
      },
      "text/plain": [
       "Models:   0%|          | 0/14 [00:00<?, ?it/s]"
      ]
     },
     "metadata": {},
     "output_type": "display_data"
    },
    {
     "data": {
      "application/vnd.jupyter.widget-view+json": {
       "model_id": "",
       "version_major": 2,
       "version_minor": 0
      },
      "text/plain": [
       "Models:   0%|          | 0/14 [00:00<?, ?it/s]"
      ]
     },
     "metadata": {},
     "output_type": "display_data"
    },
    {
     "data": {
      "application/vnd.jupyter.widget-view+json": {
       "model_id": "",
       "version_major": 2,
       "version_minor": 0
      },
      "text/plain": [
       "Models:   0%|          | 0/14 [00:00<?, ?it/s]"
      ]
     },
     "metadata": {},
     "output_type": "display_data"
    },
    {
     "data": {
      "application/vnd.jupyter.widget-view+json": {
       "model_id": "",
       "version_major": 2,
       "version_minor": 0
      },
      "text/plain": [
       "Models:   0%|          | 0/14 [00:00<?, ?it/s]"
      ]
     },
     "metadata": {},
     "output_type": "display_data"
    },
    {
     "data": {
      "application/vnd.jupyter.widget-view+json": {
       "model_id": "",
       "version_major": 2,
       "version_minor": 0
      },
      "text/plain": [
       "Models:   0%|          | 0/14 [00:00<?, ?it/s]"
      ]
     },
     "metadata": {},
     "output_type": "display_data"
    },
    {
     "data": {
      "application/vnd.jupyter.widget-view+json": {
       "model_id": "",
       "version_major": 2,
       "version_minor": 0
      },
      "text/plain": [
       "Models:   0%|          | 0/14 [00:00<?, ?it/s]"
      ]
     },
     "metadata": {},
     "output_type": "display_data"
    },
    {
     "data": {
      "application/vnd.jupyter.widget-view+json": {
       "model_id": "",
       "version_major": 2,
       "version_minor": 0
      },
      "text/plain": [
       "Models:   0%|          | 0/14 [00:00<?, ?it/s]"
      ]
     },
     "metadata": {},
     "output_type": "display_data"
    },
    {
     "data": {
      "application/vnd.jupyter.widget-view+json": {
       "model_id": "",
       "version_major": 2,
       "version_minor": 0
      },
      "text/plain": [
       "Models:   0%|          | 0/14 [00:00<?, ?it/s]"
      ]
     },
     "metadata": {},
     "output_type": "display_data"
    },
    {
     "data": {
      "application/vnd.jupyter.widget-view+json": {
       "model_id": "",
       "version_major": 2,
       "version_minor": 0
      },
      "text/plain": [
       "Models:   0%|          | 0/14 [00:00<?, ?it/s]"
      ]
     },
     "metadata": {},
     "output_type": "display_data"
    },
    {
     "data": {
      "application/vnd.jupyter.widget-view+json": {
       "model_id": "",
       "version_major": 2,
       "version_minor": 0
      },
      "text/plain": [
       "Models:   0%|          | 0/14 [00:00<?, ?it/s]"
      ]
     },
     "metadata": {},
     "output_type": "display_data"
    }
   ],
   "source": [
    "comparison_output_adult = helpers.comparison.eval_ml_efficacy(\n",
    "    [\n",
    "    \"tabGAN\", \"tabGAN-qt\", \"tabGAN-qtr\", \"ctabGAN\", \"ctabGAN-qt\", \"ctabGAN-qtr\",\n",
    "    \"GaussianCopula\", \"CTGAN-pac1\", \"CTGAN-pac10\", \"CopulaGAN\", \"tabFairGAN\", \"TVAE\", \"TVAE-mod\"\n",
    "    ],\n",
    "    datasets=[\"adult_edited\"], \n",
    "    n_synthetic_datasets=50,\n",
    "    metric_evals=[\"Mean\", \"Median\", \"Percentile5\", \"Percentile95\"],\n",
    "    allow_fewer_synthetic_datasets=True)"
   ]
  },
  {
   "cell_type": "code",
   "execution_count": 3,
   "id": "e4df23ad",
   "metadata": {
    "scrolled": true
   },
   "outputs": [
    {
     "data": {
      "text/html": [
       "<div>\n",
       "<style scoped>\n",
       "    .dataframe tbody tr th:only-of-type {\n",
       "        vertical-align: middle;\n",
       "    }\n",
       "\n",
       "    .dataframe tbody tr th {\n",
       "        vertical-align: top;\n",
       "    }\n",
       "\n",
       "    .dataframe thead tr th {\n",
       "        text-align: left;\n",
       "    }\n",
       "</style>\n",
       "<table border=\"1\" class=\"dataframe\">\n",
       "  <thead>\n",
       "    <tr>\n",
       "      <th></th>\n",
       "      <th></th>\n",
       "      <th colspan=\"3\" halign=\"left\">Adult</th>\n",
       "    </tr>\n",
       "    <tr>\n",
       "      <th></th>\n",
       "      <th>Model</th>\n",
       "      <th>Test Accuracy</th>\n",
       "      <th>Test AUC</th>\n",
       "      <th>Test F1</th>\n",
       "    </tr>\n",
       "  </thead>\n",
       "  <tbody>\n",
       "    <tr>\n",
       "      <th>0</th>\n",
       "      <td>Train dataset</td>\n",
       "      <td>0.8653 (0.8653, 0.8653)</td>\n",
       "      <td>0.9229 (0.9229, 0.9229)</td>\n",
       "      <td>0.8087 (0.8087, 0.8087)</td>\n",
       "    </tr>\n",
       "    <tr>\n",
       "      <th>1</th>\n",
       "      <td>tabGAN</td>\n",
       "      <td>0.8395 (0.8167, 0.8444)</td>\n",
       "      <td>0.8941 (0.8789, 0.898)</td>\n",
       "      <td>0.7665 (0.729, 0.7817)</td>\n",
       "    </tr>\n",
       "    <tr>\n",
       "      <th>2</th>\n",
       "      <td>tabGAN-qt</td>\n",
       "      <td>0.8427 (0.8385, 0.8459)</td>\n",
       "      <td>0.8968 (0.8932, 0.8989)</td>\n",
       "      <td>0.7774 (0.77, 0.7835)</td>\n",
       "    </tr>\n",
       "    <tr>\n",
       "      <th>3</th>\n",
       "      <td>tabGAN-qtr</td>\n",
       "      <td>0.843 (0.8401, 0.8458)</td>\n",
       "      <td>0.8976 (0.8951, 0.8999)</td>\n",
       "      <td>0.7789 (0.7739, 0.7835)</td>\n",
       "    </tr>\n",
       "    <tr>\n",
       "      <th>4</th>\n",
       "      <td>ctabGAN</td>\n",
       "      <td>0.8296 (0.809, 0.8386)</td>\n",
       "      <td>0.8838 (0.8685, 0.8924)</td>\n",
       "      <td>0.7542 (0.6817, 0.7701)</td>\n",
       "    </tr>\n",
       "    <tr>\n",
       "      <th>5</th>\n",
       "      <td>ctabGAN-qt</td>\n",
       "      <td>0.8374 (0.8323, 0.8405)</td>\n",
       "      <td>0.8897 (0.886, 0.892)</td>\n",
       "      <td>0.7672 (0.7589, 0.7733)</td>\n",
       "    </tr>\n",
       "    <tr>\n",
       "      <th>6</th>\n",
       "      <td>ctabGAN-qtr</td>\n",
       "      <td>0.8412 (0.8377, 0.8448)</td>\n",
       "      <td>0.8958 (0.8933, 0.8979)</td>\n",
       "      <td>0.7762 (0.7721, 0.7818)</td>\n",
       "    </tr>\n",
       "    <tr>\n",
       "      <th>7</th>\n",
       "      <td>GaussianCopula</td>\n",
       "      <td>0.7557 (0.7549, 0.7566)</td>\n",
       "      <td>0.8248 (0.7843, 0.8489)</td>\n",
       "      <td>0.4364 (0.4325, 0.4413)</td>\n",
       "    </tr>\n",
       "    <tr>\n",
       "      <th>8</th>\n",
       "      <td>CTGAN-pac1</td>\n",
       "      <td>0.8376 (0.8328, 0.8422)</td>\n",
       "      <td>0.8869 (0.8828, 0.8908)</td>\n",
       "      <td>0.7685 (0.7508, 0.7756)</td>\n",
       "    </tr>\n",
       "    <tr>\n",
       "      <th>9</th>\n",
       "      <td>CTGAN-pac10</td>\n",
       "      <td>0.8304 (0.8248, 0.8367)</td>\n",
       "      <td>0.8814 (0.875, 0.8855)</td>\n",
       "      <td>0.7583 (0.7384, 0.7668)</td>\n",
       "    </tr>\n",
       "    <tr>\n",
       "      <th>10</th>\n",
       "      <td>CopulaGAN</td>\n",
       "      <td>0.8272 (0.8202, 0.8319)</td>\n",
       "      <td>0.8678 (0.8581, 0.8745)</td>\n",
       "      <td>0.7474 (0.7258, 0.7568)</td>\n",
       "    </tr>\n",
       "    <tr>\n",
       "      <th>11</th>\n",
       "      <td>tabFairGAN</td>\n",
       "      <td>0.8243 (0.8158, 0.8306)</td>\n",
       "      <td>0.8749 (0.8687, 0.881)</td>\n",
       "      <td>0.7578 (0.7463, 0.7666)</td>\n",
       "    </tr>\n",
       "    <tr>\n",
       "      <th>12</th>\n",
       "      <td>TVAE</td>\n",
       "      <td>0.8177 (0.8046, 0.829)</td>\n",
       "      <td>0.8714 (0.8617, 0.88)</td>\n",
       "      <td>0.751 (0.7362, 0.7611)</td>\n",
       "    </tr>\n",
       "    <tr>\n",
       "      <th>13</th>\n",
       "      <td>TVAE-mod</td>\n",
       "      <td>0.8261 (0.8187, 0.8356)</td>\n",
       "      <td>0.8784 (0.8706, 0.8877)</td>\n",
       "      <td>0.7596 (0.7436, 0.772)</td>\n",
       "    </tr>\n",
       "  </tbody>\n",
       "</table>\n",
       "</div>"
      ],
      "text/plain": [
       "                                      Adult                           \\\n",
       "             Model            Test Accuracy                 Test AUC   \n",
       "0    Train dataset  0.8653 (0.8653, 0.8653)  0.9229 (0.9229, 0.9229)   \n",
       "1           tabGAN  0.8395 (0.8167, 0.8444)   0.8941 (0.8789, 0.898)   \n",
       "2        tabGAN-qt  0.8427 (0.8385, 0.8459)  0.8968 (0.8932, 0.8989)   \n",
       "3       tabGAN-qtr   0.843 (0.8401, 0.8458)  0.8976 (0.8951, 0.8999)   \n",
       "4          ctabGAN   0.8296 (0.809, 0.8386)  0.8838 (0.8685, 0.8924)   \n",
       "5       ctabGAN-qt  0.8374 (0.8323, 0.8405)    0.8897 (0.886, 0.892)   \n",
       "6      ctabGAN-qtr  0.8412 (0.8377, 0.8448)  0.8958 (0.8933, 0.8979)   \n",
       "7   GaussianCopula  0.7557 (0.7549, 0.7566)  0.8248 (0.7843, 0.8489)   \n",
       "8       CTGAN-pac1  0.8376 (0.8328, 0.8422)  0.8869 (0.8828, 0.8908)   \n",
       "9      CTGAN-pac10  0.8304 (0.8248, 0.8367)   0.8814 (0.875, 0.8855)   \n",
       "10       CopulaGAN  0.8272 (0.8202, 0.8319)  0.8678 (0.8581, 0.8745)   \n",
       "11      tabFairGAN  0.8243 (0.8158, 0.8306)   0.8749 (0.8687, 0.881)   \n",
       "12            TVAE   0.8177 (0.8046, 0.829)    0.8714 (0.8617, 0.88)   \n",
       "13        TVAE-mod  0.8261 (0.8187, 0.8356)  0.8784 (0.8706, 0.8877)   \n",
       "\n",
       "                             \n",
       "                    Test F1  \n",
       "0   0.8087 (0.8087, 0.8087)  \n",
       "1    0.7665 (0.729, 0.7817)  \n",
       "2     0.7774 (0.77, 0.7835)  \n",
       "3   0.7789 (0.7739, 0.7835)  \n",
       "4   0.7542 (0.6817, 0.7701)  \n",
       "5   0.7672 (0.7589, 0.7733)  \n",
       "6   0.7762 (0.7721, 0.7818)  \n",
       "7   0.4364 (0.4325, 0.4413)  \n",
       "8   0.7685 (0.7508, 0.7756)  \n",
       "9   0.7583 (0.7384, 0.7668)  \n",
       "10  0.7474 (0.7258, 0.7568)  \n",
       "11  0.7578 (0.7463, 0.7666)  \n",
       "12   0.751 (0.7362, 0.7611)  \n",
       "13   0.7596 (0.7436, 0.772)  "
      ]
     },
     "execution_count": 3,
     "metadata": {},
     "output_type": "execute_result"
    }
   ],
   "source": [
    "comparison_output_adult_tidy = helpers.comparison.tidy_ml_efficacy_output(\n",
    "    comparison_output_adult, extract_median_and_percentile=True, round_decimals=4)\n",
    "comparison_output_adult_tidy"
   ]
  },
  {
   "cell_type": "code",
   "execution_count": 4,
   "id": "901459e2",
   "metadata": {},
   "outputs": [
    {
     "name": "stdout",
     "output_type": "stream",
     "text": [
      "\\begin{tabular}{llll}\n",
      "\\toprule\n",
      "               & \\multicolumn{3}{l}{Adult} \\\\\n",
      "         Model &           Test Accuracy &                Test AUC &                 Test F1 \\\\\n",
      "\\midrule\n",
      " Train dataset & 0.8653 (0.8653, 0.8653) & 0.9229 (0.9229, 0.9229) & 0.8087 (0.8087, 0.8087) \\\\\n",
      "        tabGAN & 0.8395 (0.8167, 0.8444) &  0.8941 (0.8789, 0.898) &  0.7665 (0.729, 0.7817) \\\\\n",
      "     tabGAN-qt & 0.8427 (0.8385, 0.8459) & 0.8968 (0.8932, 0.8989) &   0.7774 (0.77, 0.7835) \\\\\n",
      "    tabGAN-qtr &  0.843 (0.8401, 0.8458) & 0.8976 (0.8951, 0.8999) & 0.7789 (0.7739, 0.7835) \\\\\n",
      "       ctabGAN &  0.8296 (0.809, 0.8386) & 0.8838 (0.8685, 0.8924) & 0.7542 (0.6817, 0.7701) \\\\\n",
      "    ctabGAN-qt & 0.8374 (0.8323, 0.8405) &   0.8897 (0.886, 0.892) & 0.7672 (0.7589, 0.7733) \\\\\n",
      "   ctabGAN-qtr & 0.8412 (0.8377, 0.8448) & 0.8958 (0.8933, 0.8979) & 0.7762 (0.7721, 0.7818) \\\\\n",
      "GaussianCopula & 0.7557 (0.7549, 0.7566) & 0.8248 (0.7843, 0.8489) & 0.4364 (0.4325, 0.4413) \\\\\n",
      "    CTGAN-pac1 & 0.8376 (0.8328, 0.8422) & 0.8869 (0.8828, 0.8908) & 0.7685 (0.7508, 0.7756) \\\\\n",
      "   CTGAN-pac10 & 0.8304 (0.8248, 0.8367) &  0.8814 (0.875, 0.8855) & 0.7583 (0.7384, 0.7668) \\\\\n",
      "     CopulaGAN & 0.8272 (0.8202, 0.8319) & 0.8678 (0.8581, 0.8745) & 0.7474 (0.7258, 0.7568) \\\\\n",
      "    tabFairGAN & 0.8243 (0.8158, 0.8306) &  0.8749 (0.8687, 0.881) & 0.7578 (0.7463, 0.7666) \\\\\n",
      "          TVAE &  0.8177 (0.8046, 0.829) &   0.8714 (0.8617, 0.88) &  0.751 (0.7362, 0.7611) \\\\\n",
      "      TVAE-mod & 0.8261 (0.8187, 0.8356) & 0.8784 (0.8706, 0.8877) &  0.7596 (0.7436, 0.772) \\\\\n",
      "\\bottomrule\n",
      "\\end{tabular}\n",
      "\n"
     ]
    }
   ],
   "source": [
    "print(comparison_output_adult_tidy.to_latex(index=False))"
   ]
  },
  {
   "cell_type": "code",
   "execution_count": 5,
   "id": "7a90e83d",
   "metadata": {},
   "outputs": [
    {
     "data": {
      "application/vnd.jupyter.widget-view+json": {
       "model_id": "a0a8deeebd2840f1a1657470d326e2b5",
       "version_major": 2,
       "version_minor": 0
      },
      "text/plain": [
       "Dataset tasks:   0%|          | 0/3 [00:00<?, ?it/s]"
      ]
     },
     "metadata": {},
     "output_type": "display_data"
    },
    {
     "data": {
      "application/vnd.jupyter.widget-view+json": {
       "model_id": "",
       "version_major": 2,
       "version_minor": 0
      },
      "text/plain": [
       "Synthetic datasets:   0%|          | 0/25 [00:00<?, ?it/s]"
      ]
     },
     "metadata": {},
     "output_type": "display_data"
    },
    {
     "data": {
      "application/vnd.jupyter.widget-view+json": {
       "model_id": "",
       "version_major": 2,
       "version_minor": 0
      },
      "text/plain": [
       "Models:   0%|          | 0/14 [00:00<?, ?it/s]"
      ]
     },
     "metadata": {},
     "output_type": "display_data"
    },
    {
     "data": {
      "application/vnd.jupyter.widget-view+json": {
       "model_id": "",
       "version_major": 2,
       "version_minor": 0
      },
      "text/plain": [
       "Models:   0%|          | 0/14 [00:00<?, ?it/s]"
      ]
     },
     "metadata": {},
     "output_type": "display_data"
    },
    {
     "data": {
      "application/vnd.jupyter.widget-view+json": {
       "model_id": "",
       "version_major": 2,
       "version_minor": 0
      },
      "text/plain": [
       "Models:   0%|          | 0/14 [00:00<?, ?it/s]"
      ]
     },
     "metadata": {},
     "output_type": "display_data"
    },
    {
     "data": {
      "application/vnd.jupyter.widget-view+json": {
       "model_id": "",
       "version_major": 2,
       "version_minor": 0
      },
      "text/plain": [
       "Models:   0%|          | 0/14 [00:00<?, ?it/s]"
      ]
     },
     "metadata": {},
     "output_type": "display_data"
    },
    {
     "data": {
      "application/vnd.jupyter.widget-view+json": {
       "model_id": "",
       "version_major": 2,
       "version_minor": 0
      },
      "text/plain": [
       "Models:   0%|          | 0/14 [00:00<?, ?it/s]"
      ]
     },
     "metadata": {},
     "output_type": "display_data"
    },
    {
     "data": {
      "application/vnd.jupyter.widget-view+json": {
       "model_id": "",
       "version_major": 2,
       "version_minor": 0
      },
      "text/plain": [
       "Models:   0%|          | 0/14 [00:00<?, ?it/s]"
      ]
     },
     "metadata": {},
     "output_type": "display_data"
    },
    {
     "data": {
      "application/vnd.jupyter.widget-view+json": {
       "model_id": "",
       "version_major": 2,
       "version_minor": 0
      },
      "text/plain": [
       "Models:   0%|          | 0/14 [00:00<?, ?it/s]"
      ]
     },
     "metadata": {},
     "output_type": "display_data"
    },
    {
     "data": {
      "application/vnd.jupyter.widget-view+json": {
       "model_id": "",
       "version_major": 2,
       "version_minor": 0
      },
      "text/plain": [
       "Models:   0%|          | 0/14 [00:00<?, ?it/s]"
      ]
     },
     "metadata": {},
     "output_type": "display_data"
    },
    {
     "data": {
      "application/vnd.jupyter.widget-view+json": {
       "model_id": "",
       "version_major": 2,
       "version_minor": 0
      },
      "text/plain": [
       "Models:   0%|          | 0/14 [00:00<?, ?it/s]"
      ]
     },
     "metadata": {},
     "output_type": "display_data"
    },
    {
     "data": {
      "application/vnd.jupyter.widget-view+json": {
       "model_id": "",
       "version_major": 2,
       "version_minor": 0
      },
      "text/plain": [
       "Models:   0%|          | 0/14 [00:00<?, ?it/s]"
      ]
     },
     "metadata": {},
     "output_type": "display_data"
    },
    {
     "data": {
      "application/vnd.jupyter.widget-view+json": {
       "model_id": "",
       "version_major": 2,
       "version_minor": 0
      },
      "text/plain": [
       "Models:   0%|          | 0/14 [00:00<?, ?it/s]"
      ]
     },
     "metadata": {},
     "output_type": "display_data"
    },
    {
     "data": {
      "application/vnd.jupyter.widget-view+json": {
       "model_id": "",
       "version_major": 2,
       "version_minor": 0
      },
      "text/plain": [
       "Models:   0%|          | 0/14 [00:00<?, ?it/s]"
      ]
     },
     "metadata": {},
     "output_type": "display_data"
    },
    {
     "data": {
      "application/vnd.jupyter.widget-view+json": {
       "model_id": "",
       "version_major": 2,
       "version_minor": 0
      },
      "text/plain": [
       "Models:   0%|          | 0/14 [00:00<?, ?it/s]"
      ]
     },
     "metadata": {},
     "output_type": "display_data"
    },
    {
     "data": {
      "application/vnd.jupyter.widget-view+json": {
       "model_id": "",
       "version_major": 2,
       "version_minor": 0
      },
      "text/plain": [
       "Models:   0%|          | 0/14 [00:00<?, ?it/s]"
      ]
     },
     "metadata": {},
     "output_type": "display_data"
    },
    {
     "data": {
      "application/vnd.jupyter.widget-view+json": {
       "model_id": "",
       "version_major": 2,
       "version_minor": 0
      },
      "text/plain": [
       "Models:   0%|          | 0/14 [00:00<?, ?it/s]"
      ]
     },
     "metadata": {},
     "output_type": "display_data"
    },
    {
     "data": {
      "application/vnd.jupyter.widget-view+json": {
       "model_id": "",
       "version_major": 2,
       "version_minor": 0
      },
      "text/plain": [
       "Models:   0%|          | 0/14 [00:00<?, ?it/s]"
      ]
     },
     "metadata": {},
     "output_type": "display_data"
    },
    {
     "data": {
      "application/vnd.jupyter.widget-view+json": {
       "model_id": "",
       "version_major": 2,
       "version_minor": 0
      },
      "text/plain": [
       "Models:   0%|          | 0/14 [00:00<?, ?it/s]"
      ]
     },
     "metadata": {},
     "output_type": "display_data"
    },
    {
     "data": {
      "application/vnd.jupyter.widget-view+json": {
       "model_id": "",
       "version_major": 2,
       "version_minor": 0
      },
      "text/plain": [
       "Models:   0%|          | 0/14 [00:00<?, ?it/s]"
      ]
     },
     "metadata": {},
     "output_type": "display_data"
    },
    {
     "data": {
      "application/vnd.jupyter.widget-view+json": {
       "model_id": "",
       "version_major": 2,
       "version_minor": 0
      },
      "text/plain": [
       "Models:   0%|          | 0/14 [00:00<?, ?it/s]"
      ]
     },
     "metadata": {},
     "output_type": "display_data"
    },
    {
     "data": {
      "application/vnd.jupyter.widget-view+json": {
       "model_id": "",
       "version_major": 2,
       "version_minor": 0
      },
      "text/plain": [
       "Models:   0%|          | 0/14 [00:00<?, ?it/s]"
      ]
     },
     "metadata": {},
     "output_type": "display_data"
    },
    {
     "data": {
      "application/vnd.jupyter.widget-view+json": {
       "model_id": "",
       "version_major": 2,
       "version_minor": 0
      },
      "text/plain": [
       "Models:   0%|          | 0/14 [00:00<?, ?it/s]"
      ]
     },
     "metadata": {},
     "output_type": "display_data"
    },
    {
     "data": {
      "application/vnd.jupyter.widget-view+json": {
       "model_id": "",
       "version_major": 2,
       "version_minor": 0
      },
      "text/plain": [
       "Models:   0%|          | 0/14 [00:00<?, ?it/s]"
      ]
     },
     "metadata": {},
     "output_type": "display_data"
    },
    {
     "data": {
      "application/vnd.jupyter.widget-view+json": {
       "model_id": "",
       "version_major": 2,
       "version_minor": 0
      },
      "text/plain": [
       "Models:   0%|          | 0/14 [00:00<?, ?it/s]"
      ]
     },
     "metadata": {},
     "output_type": "display_data"
    },
    {
     "data": {
      "application/vnd.jupyter.widget-view+json": {
       "model_id": "",
       "version_major": 2,
       "version_minor": 0
      },
      "text/plain": [
       "Models:   0%|          | 0/14 [00:00<?, ?it/s]"
      ]
     },
     "metadata": {},
     "output_type": "display_data"
    },
    {
     "data": {
      "application/vnd.jupyter.widget-view+json": {
       "model_id": "",
       "version_major": 2,
       "version_minor": 0
      },
      "text/plain": [
       "Models:   0%|          | 0/14 [00:00<?, ?it/s]"
      ]
     },
     "metadata": {},
     "output_type": "display_data"
    },
    {
     "name": "stdout",
     "output_type": "stream",
     "text": [
      "Model CopulaGAN only has 24 synthetic datasets for dataset task covtype_edited\n",
      "Model tabFairGAN only has 24 synthetic datasets for dataset task covtype_edited\n",
      "Model TVAE only has 24 synthetic datasets for dataset task covtype_edited\n",
      "Model TVAE-mod only has 24 synthetic datasets for dataset task covtype_edited\n"
     ]
    },
    {
     "ename": "FileNotFoundError",
     "evalue": "[Errno 2] No such file or directory: 'S:arneir\\\\Master-thesis-storage\\\\datasets_comparison\\\\creditcard_edited.csv'",
     "output_type": "error",
     "traceback": [
      "\u001b[1;31m---------------------------------------------------------------------------\u001b[0m",
      "\u001b[1;31mFileNotFoundError\u001b[0m                         Traceback (most recent call last)",
      "\u001b[1;32m~\\AppData\\Local\\Temp\\ipykernel_17072\\2786982895.py\u001b[0m in \u001b[0;36m<module>\u001b[1;34m\u001b[0m\n\u001b[0;32m      7\u001b[0m     \u001b[0mallow_fewer_synthetic_datasets\u001b[0m\u001b[1;33m=\u001b[0m\u001b[1;32mTrue\u001b[0m\u001b[1;33m,\u001b[0m\u001b[1;33m\u001b[0m\u001b[1;33m\u001b[0m\u001b[0m\n\u001b[0;32m      8\u001b[0m     \u001b[0mignore_nan\u001b[0m\u001b[1;33m=\u001b[0m\u001b[1;32mTrue\u001b[0m\u001b[1;33m,\u001b[0m\u001b[1;33m\u001b[0m\u001b[1;33m\u001b[0m\u001b[0m\n\u001b[1;32m----> 9\u001b[1;33m     \u001b[0mret_count_nan\u001b[0m\u001b[1;33m=\u001b[0m\u001b[1;32mTrue\u001b[0m\u001b[1;33m\u001b[0m\u001b[1;33m\u001b[0m\u001b[0m\n\u001b[0m\u001b[0;32m     10\u001b[0m )\n",
      "\u001b[1;32m\\\\sambaad.stud.ntnu.no\\arneir\\Master-thesis-cf\\helpers\\comparison\\eval_ml_efficacy_comparison.py\u001b[0m in \u001b[0;36meval_ml_efficacy_for_synthesizers\u001b[1;34m(synthesizer_names, datasets, n_synthetic_datasets, n_synthetic_datasets_dict, name_true_train_dataset, dataset_dir, gen_dataset_dir, remove_unnamed_cols, metrics_dict, metrics_same_all, metric_evals, ignore_nan, progress_bar_tasks, progress_bar_leave, progress_bar_models, progress_bar_each_model, ret_count_nan, allow_fewer_synthetic_datasets, print_csv_path, print_csv_path_if_fail)\u001b[0m\n",
      "\u001b[1;32m~\\anaconda3\\envs\\tf2.4\\lib\\site-packages\\pandas\\util\\_decorators.py\u001b[0m in \u001b[0;36mwrapper\u001b[1;34m(*args, **kwargs)\u001b[0m\n\u001b[0;32m    309\u001b[0m                     \u001b[0mstacklevel\u001b[0m\u001b[1;33m=\u001b[0m\u001b[0mstacklevel\u001b[0m\u001b[1;33m,\u001b[0m\u001b[1;33m\u001b[0m\u001b[1;33m\u001b[0m\u001b[0m\n\u001b[0;32m    310\u001b[0m                 )\n\u001b[1;32m--> 311\u001b[1;33m             \u001b[1;32mreturn\u001b[0m \u001b[0mfunc\u001b[0m\u001b[1;33m(\u001b[0m\u001b[1;33m*\u001b[0m\u001b[0margs\u001b[0m\u001b[1;33m,\u001b[0m \u001b[1;33m**\u001b[0m\u001b[0mkwargs\u001b[0m\u001b[1;33m)\u001b[0m\u001b[1;33m\u001b[0m\u001b[1;33m\u001b[0m\u001b[0m\n\u001b[0m\u001b[0;32m    312\u001b[0m \u001b[1;33m\u001b[0m\u001b[0m\n\u001b[0;32m    313\u001b[0m         \u001b[1;32mreturn\u001b[0m \u001b[0mwrapper\u001b[0m\u001b[1;33m\u001b[0m\u001b[1;33m\u001b[0m\u001b[0m\n",
      "\u001b[1;32m~\\anaconda3\\envs\\tf2.4\\lib\\site-packages\\pandas\\io\\parsers\\readers.py\u001b[0m in \u001b[0;36mread_csv\u001b[1;34m(filepath_or_buffer, sep, delimiter, header, names, index_col, usecols, squeeze, prefix, mangle_dupe_cols, dtype, engine, converters, true_values, false_values, skipinitialspace, skiprows, skipfooter, nrows, na_values, keep_default_na, na_filter, verbose, skip_blank_lines, parse_dates, infer_datetime_format, keep_date_col, date_parser, dayfirst, cache_dates, iterator, chunksize, compression, thousands, decimal, lineterminator, quotechar, quoting, doublequote, escapechar, comment, encoding, encoding_errors, dialect, error_bad_lines, warn_bad_lines, on_bad_lines, delim_whitespace, low_memory, memory_map, float_precision, storage_options)\u001b[0m\n\u001b[0;32m    584\u001b[0m     \u001b[0mkwds\u001b[0m\u001b[1;33m.\u001b[0m\u001b[0mupdate\u001b[0m\u001b[1;33m(\u001b[0m\u001b[0mkwds_defaults\u001b[0m\u001b[1;33m)\u001b[0m\u001b[1;33m\u001b[0m\u001b[1;33m\u001b[0m\u001b[0m\n\u001b[0;32m    585\u001b[0m \u001b[1;33m\u001b[0m\u001b[0m\n\u001b[1;32m--> 586\u001b[1;33m     \u001b[1;32mreturn\u001b[0m \u001b[0m_read\u001b[0m\u001b[1;33m(\u001b[0m\u001b[0mfilepath_or_buffer\u001b[0m\u001b[1;33m,\u001b[0m \u001b[0mkwds\u001b[0m\u001b[1;33m)\u001b[0m\u001b[1;33m\u001b[0m\u001b[1;33m\u001b[0m\u001b[0m\n\u001b[0m\u001b[0;32m    587\u001b[0m \u001b[1;33m\u001b[0m\u001b[0m\n\u001b[0;32m    588\u001b[0m \u001b[1;33m\u001b[0m\u001b[0m\n",
      "\u001b[1;32m~\\anaconda3\\envs\\tf2.4\\lib\\site-packages\\pandas\\io\\parsers\\readers.py\u001b[0m in \u001b[0;36m_read\u001b[1;34m(filepath_or_buffer, kwds)\u001b[0m\n\u001b[0;32m    480\u001b[0m \u001b[1;33m\u001b[0m\u001b[0m\n\u001b[0;32m    481\u001b[0m     \u001b[1;31m# Create the parser.\u001b[0m\u001b[1;33m\u001b[0m\u001b[1;33m\u001b[0m\u001b[1;33m\u001b[0m\u001b[0m\n\u001b[1;32m--> 482\u001b[1;33m     \u001b[0mparser\u001b[0m \u001b[1;33m=\u001b[0m \u001b[0mTextFileReader\u001b[0m\u001b[1;33m(\u001b[0m\u001b[0mfilepath_or_buffer\u001b[0m\u001b[1;33m,\u001b[0m \u001b[1;33m**\u001b[0m\u001b[0mkwds\u001b[0m\u001b[1;33m)\u001b[0m\u001b[1;33m\u001b[0m\u001b[1;33m\u001b[0m\u001b[0m\n\u001b[0m\u001b[0;32m    483\u001b[0m \u001b[1;33m\u001b[0m\u001b[0m\n\u001b[0;32m    484\u001b[0m     \u001b[1;32mif\u001b[0m \u001b[0mchunksize\u001b[0m \u001b[1;32mor\u001b[0m \u001b[0miterator\u001b[0m\u001b[1;33m:\u001b[0m\u001b[1;33m\u001b[0m\u001b[1;33m\u001b[0m\u001b[0m\n",
      "\u001b[1;32m~\\anaconda3\\envs\\tf2.4\\lib\\site-packages\\pandas\\io\\parsers\\readers.py\u001b[0m in \u001b[0;36m__init__\u001b[1;34m(self, f, engine, **kwds)\u001b[0m\n\u001b[0;32m    809\u001b[0m             \u001b[0mself\u001b[0m\u001b[1;33m.\u001b[0m\u001b[0moptions\u001b[0m\u001b[1;33m[\u001b[0m\u001b[1;34m\"has_index_names\"\u001b[0m\u001b[1;33m]\u001b[0m \u001b[1;33m=\u001b[0m \u001b[0mkwds\u001b[0m\u001b[1;33m[\u001b[0m\u001b[1;34m\"has_index_names\"\u001b[0m\u001b[1;33m]\u001b[0m\u001b[1;33m\u001b[0m\u001b[1;33m\u001b[0m\u001b[0m\n\u001b[0;32m    810\u001b[0m \u001b[1;33m\u001b[0m\u001b[0m\n\u001b[1;32m--> 811\u001b[1;33m         \u001b[0mself\u001b[0m\u001b[1;33m.\u001b[0m\u001b[0m_engine\u001b[0m \u001b[1;33m=\u001b[0m \u001b[0mself\u001b[0m\u001b[1;33m.\u001b[0m\u001b[0m_make_engine\u001b[0m\u001b[1;33m(\u001b[0m\u001b[0mself\u001b[0m\u001b[1;33m.\u001b[0m\u001b[0mengine\u001b[0m\u001b[1;33m)\u001b[0m\u001b[1;33m\u001b[0m\u001b[1;33m\u001b[0m\u001b[0m\n\u001b[0m\u001b[0;32m    812\u001b[0m \u001b[1;33m\u001b[0m\u001b[0m\n\u001b[0;32m    813\u001b[0m     \u001b[1;32mdef\u001b[0m \u001b[0mclose\u001b[0m\u001b[1;33m(\u001b[0m\u001b[0mself\u001b[0m\u001b[1;33m)\u001b[0m\u001b[1;33m:\u001b[0m\u001b[1;33m\u001b[0m\u001b[1;33m\u001b[0m\u001b[0m\n",
      "\u001b[1;32m~\\anaconda3\\envs\\tf2.4\\lib\\site-packages\\pandas\\io\\parsers\\readers.py\u001b[0m in \u001b[0;36m_make_engine\u001b[1;34m(self, engine)\u001b[0m\n\u001b[0;32m   1038\u001b[0m             )\n\u001b[0;32m   1039\u001b[0m         \u001b[1;31m# error: Too many arguments for \"ParserBase\"\u001b[0m\u001b[1;33m\u001b[0m\u001b[1;33m\u001b[0m\u001b[1;33m\u001b[0m\u001b[0m\n\u001b[1;32m-> 1040\u001b[1;33m         \u001b[1;32mreturn\u001b[0m \u001b[0mmapping\u001b[0m\u001b[1;33m[\u001b[0m\u001b[0mengine\u001b[0m\u001b[1;33m]\u001b[0m\u001b[1;33m(\u001b[0m\u001b[0mself\u001b[0m\u001b[1;33m.\u001b[0m\u001b[0mf\u001b[0m\u001b[1;33m,\u001b[0m \u001b[1;33m**\u001b[0m\u001b[0mself\u001b[0m\u001b[1;33m.\u001b[0m\u001b[0moptions\u001b[0m\u001b[1;33m)\u001b[0m  \u001b[1;31m# type: ignore[call-arg]\u001b[0m\u001b[1;33m\u001b[0m\u001b[1;33m\u001b[0m\u001b[0m\n\u001b[0m\u001b[0;32m   1041\u001b[0m \u001b[1;33m\u001b[0m\u001b[0m\n\u001b[0;32m   1042\u001b[0m     \u001b[1;32mdef\u001b[0m \u001b[0m_failover_to_python\u001b[0m\u001b[1;33m(\u001b[0m\u001b[0mself\u001b[0m\u001b[1;33m)\u001b[0m\u001b[1;33m:\u001b[0m\u001b[1;33m\u001b[0m\u001b[1;33m\u001b[0m\u001b[0m\n",
      "\u001b[1;32m~\\anaconda3\\envs\\tf2.4\\lib\\site-packages\\pandas\\io\\parsers\\c_parser_wrapper.py\u001b[0m in \u001b[0;36m__init__\u001b[1;34m(self, src, **kwds)\u001b[0m\n\u001b[0;32m     49\u001b[0m \u001b[1;33m\u001b[0m\u001b[0m\n\u001b[0;32m     50\u001b[0m         \u001b[1;31m# open handles\u001b[0m\u001b[1;33m\u001b[0m\u001b[1;33m\u001b[0m\u001b[1;33m\u001b[0m\u001b[0m\n\u001b[1;32m---> 51\u001b[1;33m         \u001b[0mself\u001b[0m\u001b[1;33m.\u001b[0m\u001b[0m_open_handles\u001b[0m\u001b[1;33m(\u001b[0m\u001b[0msrc\u001b[0m\u001b[1;33m,\u001b[0m \u001b[0mkwds\u001b[0m\u001b[1;33m)\u001b[0m\u001b[1;33m\u001b[0m\u001b[1;33m\u001b[0m\u001b[0m\n\u001b[0m\u001b[0;32m     52\u001b[0m         \u001b[1;32massert\u001b[0m \u001b[0mself\u001b[0m\u001b[1;33m.\u001b[0m\u001b[0mhandles\u001b[0m \u001b[1;32mis\u001b[0m \u001b[1;32mnot\u001b[0m \u001b[1;32mNone\u001b[0m\u001b[1;33m\u001b[0m\u001b[1;33m\u001b[0m\u001b[0m\n\u001b[0;32m     53\u001b[0m \u001b[1;33m\u001b[0m\u001b[0m\n",
      "\u001b[1;32m~\\anaconda3\\envs\\tf2.4\\lib\\site-packages\\pandas\\io\\parsers\\base_parser.py\u001b[0m in \u001b[0;36m_open_handles\u001b[1;34m(self, src, kwds)\u001b[0m\n\u001b[0;32m    227\u001b[0m             \u001b[0mmemory_map\u001b[0m\u001b[1;33m=\u001b[0m\u001b[0mkwds\u001b[0m\u001b[1;33m.\u001b[0m\u001b[0mget\u001b[0m\u001b[1;33m(\u001b[0m\u001b[1;34m\"memory_map\"\u001b[0m\u001b[1;33m,\u001b[0m \u001b[1;32mFalse\u001b[0m\u001b[1;33m)\u001b[0m\u001b[1;33m,\u001b[0m\u001b[1;33m\u001b[0m\u001b[1;33m\u001b[0m\u001b[0m\n\u001b[0;32m    228\u001b[0m             \u001b[0mstorage_options\u001b[0m\u001b[1;33m=\u001b[0m\u001b[0mkwds\u001b[0m\u001b[1;33m.\u001b[0m\u001b[0mget\u001b[0m\u001b[1;33m(\u001b[0m\u001b[1;34m\"storage_options\"\u001b[0m\u001b[1;33m,\u001b[0m \u001b[1;32mNone\u001b[0m\u001b[1;33m)\u001b[0m\u001b[1;33m,\u001b[0m\u001b[1;33m\u001b[0m\u001b[1;33m\u001b[0m\u001b[0m\n\u001b[1;32m--> 229\u001b[1;33m             \u001b[0merrors\u001b[0m\u001b[1;33m=\u001b[0m\u001b[0mkwds\u001b[0m\u001b[1;33m.\u001b[0m\u001b[0mget\u001b[0m\u001b[1;33m(\u001b[0m\u001b[1;34m\"encoding_errors\"\u001b[0m\u001b[1;33m,\u001b[0m \u001b[1;34m\"strict\"\u001b[0m\u001b[1;33m)\u001b[0m\u001b[1;33m,\u001b[0m\u001b[1;33m\u001b[0m\u001b[1;33m\u001b[0m\u001b[0m\n\u001b[0m\u001b[0;32m    230\u001b[0m         )\n\u001b[0;32m    231\u001b[0m \u001b[1;33m\u001b[0m\u001b[0m\n",
      "\u001b[1;32m~\\anaconda3\\envs\\tf2.4\\lib\\site-packages\\pandas\\io\\common.py\u001b[0m in \u001b[0;36mget_handle\u001b[1;34m(path_or_buf, mode, encoding, compression, memory_map, is_text, errors, storage_options)\u001b[0m\n\u001b[0;32m    705\u001b[0m                 \u001b[0mencoding\u001b[0m\u001b[1;33m=\u001b[0m\u001b[0mioargs\u001b[0m\u001b[1;33m.\u001b[0m\u001b[0mencoding\u001b[0m\u001b[1;33m,\u001b[0m\u001b[1;33m\u001b[0m\u001b[1;33m\u001b[0m\u001b[0m\n\u001b[0;32m    706\u001b[0m                 \u001b[0merrors\u001b[0m\u001b[1;33m=\u001b[0m\u001b[0merrors\u001b[0m\u001b[1;33m,\u001b[0m\u001b[1;33m\u001b[0m\u001b[1;33m\u001b[0m\u001b[0m\n\u001b[1;32m--> 707\u001b[1;33m                 \u001b[0mnewline\u001b[0m\u001b[1;33m=\u001b[0m\u001b[1;34m\"\"\u001b[0m\u001b[1;33m,\u001b[0m\u001b[1;33m\u001b[0m\u001b[1;33m\u001b[0m\u001b[0m\n\u001b[0m\u001b[0;32m    708\u001b[0m             )\n\u001b[0;32m    709\u001b[0m         \u001b[1;32melse\u001b[0m\u001b[1;33m:\u001b[0m\u001b[1;33m\u001b[0m\u001b[1;33m\u001b[0m\u001b[0m\n",
      "\u001b[1;31mFileNotFoundError\u001b[0m: [Errno 2] No such file or directory: 'S:arneir\\\\Master-thesis-storage\\\\datasets_comparison\\\\creditcard_edited.csv'"
     ]
    }
   ],
   "source": [
    "comparison_output, df_count_nan = helpers.comparison.eval_ml_efficacy(\n",
    "    [\"tabGAN\", \"tabGAN-qt\", \"tabGAN-qtr\", \"ctabGAN\", \"ctabGAN-qt\", \"ctabGAN-qtr\",\n",
    "    \"GaussianCopula\", \"CTGAN-pac1\", \"CTGAN-pac10\", \"CopulaGAN\", \"tabFairGAN\", \"TVAE\", \"TVAE-mod\"],\n",
    "    datasets=[\"covtype_edited\", \"creditcard_edited\", \"news_edited\"],\n",
    "    n_synthetic_datasets=25,\n",
    "    metric_evals=[\"Mean\", \"Median\", \"Percentile5\", \"Percentile95\"],\n",
    "    allow_fewer_synthetic_datasets=True,\n",
    "    ignore_nan=True,\n",
    "    ret_count_nan=True\n",
    ")"
   ]
  },
  {
   "cell_type": "code",
   "execution_count": 24,
   "id": "123d3c39",
   "metadata": {},
   "outputs": [
    {
     "data": {
      "text/html": [
       "<div>\n",
       "<style scoped>\n",
       "    .dataframe tbody tr th:only-of-type {\n",
       "        vertical-align: middle;\n",
       "    }\n",
       "\n",
       "    .dataframe tbody tr th {\n",
       "        vertical-align: top;\n",
       "    }\n",
       "\n",
       "    .dataframe thead th {\n",
       "        text-align: right;\n",
       "    }\n",
       "</style>\n",
       "<table border=\"1\" class=\"dataframe\">\n",
       "  <thead>\n",
       "    <tr style=\"text-align: right;\">\n",
       "      <th></th>\n",
       "      <th>Models</th>\n",
       "      <th>covtype_edited</th>\n",
       "      <th>creditcard_edited</th>\n",
       "      <th>news_edited</th>\n",
       "    </tr>\n",
       "  </thead>\n",
       "  <tbody>\n",
       "    <tr>\n",
       "      <th>0</th>\n",
       "      <td>Train dataset</td>\n",
       "      <td>0.0</td>\n",
       "      <td>0.0</td>\n",
       "      <td>0.0</td>\n",
       "    </tr>\n",
       "    <tr>\n",
       "      <th>1</th>\n",
       "      <td>tabGAN</td>\n",
       "      <td>0.0</td>\n",
       "      <td>0.0</td>\n",
       "      <td>0.0</td>\n",
       "    </tr>\n",
       "    <tr>\n",
       "      <th>2</th>\n",
       "      <td>tabGAN-qt</td>\n",
       "      <td>0.0</td>\n",
       "      <td>0.0</td>\n",
       "      <td>0.0</td>\n",
       "    </tr>\n",
       "    <tr>\n",
       "      <th>3</th>\n",
       "      <td>tabGAN-qtr</td>\n",
       "      <td>0.0</td>\n",
       "      <td>0.0</td>\n",
       "      <td>0.0</td>\n",
       "    </tr>\n",
       "    <tr>\n",
       "      <th>4</th>\n",
       "      <td>ctabGAN</td>\n",
       "      <td>0.0</td>\n",
       "      <td>0.0</td>\n",
       "      <td>0.0</td>\n",
       "    </tr>\n",
       "    <tr>\n",
       "      <th>5</th>\n",
       "      <td>ctabGAN-qt</td>\n",
       "      <td>0.0</td>\n",
       "      <td>0.0</td>\n",
       "      <td>0.0</td>\n",
       "    </tr>\n",
       "    <tr>\n",
       "      <th>6</th>\n",
       "      <td>ctabGAN-qtr</td>\n",
       "      <td>0.0</td>\n",
       "      <td>0.0</td>\n",
       "      <td>0.0</td>\n",
       "    </tr>\n",
       "    <tr>\n",
       "      <th>7</th>\n",
       "      <td>GaussianCopula</td>\n",
       "      <td>10.0</td>\n",
       "      <td>12.0</td>\n",
       "      <td>0.0</td>\n",
       "    </tr>\n",
       "    <tr>\n",
       "      <th>8</th>\n",
       "      <td>CTGAN-pac1</td>\n",
       "      <td>0.0</td>\n",
       "      <td>0.0</td>\n",
       "      <td>0.0</td>\n",
       "    </tr>\n",
       "    <tr>\n",
       "      <th>9</th>\n",
       "      <td>CTGAN-pac10</td>\n",
       "      <td>0.0</td>\n",
       "      <td>0.0</td>\n",
       "      <td>0.0</td>\n",
       "    </tr>\n",
       "    <tr>\n",
       "      <th>10</th>\n",
       "      <td>CopulaGAN</td>\n",
       "      <td>0.0</td>\n",
       "      <td>0.0</td>\n",
       "      <td>0.0</td>\n",
       "    </tr>\n",
       "    <tr>\n",
       "      <th>11</th>\n",
       "      <td>tabFairGAN</td>\n",
       "      <td>0.0</td>\n",
       "      <td>0.0</td>\n",
       "      <td>0.0</td>\n",
       "    </tr>\n",
       "    <tr>\n",
       "      <th>12</th>\n",
       "      <td>TVAE</td>\n",
       "      <td>0.0</td>\n",
       "      <td>5.0</td>\n",
       "      <td>0.0</td>\n",
       "    </tr>\n",
       "    <tr>\n",
       "      <th>13</th>\n",
       "      <td>TVAE-mod</td>\n",
       "      <td>0.0</td>\n",
       "      <td>5.0</td>\n",
       "      <td>0.0</td>\n",
       "    </tr>\n",
       "  </tbody>\n",
       "</table>\n",
       "</div>"
      ],
      "text/plain": [
       "            Models  covtype_edited  creditcard_edited  news_edited\n",
       "0    Train dataset             0.0                0.0          0.0\n",
       "1           tabGAN             0.0                0.0          0.0\n",
       "2        tabGAN-qt             0.0                0.0          0.0\n",
       "3       tabGAN-qtr             0.0                0.0          0.0\n",
       "4          ctabGAN             0.0                0.0          0.0\n",
       "5       ctabGAN-qt             0.0                0.0          0.0\n",
       "6      ctabGAN-qtr             0.0                0.0          0.0\n",
       "7   GaussianCopula            10.0               12.0          0.0\n",
       "8       CTGAN-pac1             0.0                0.0          0.0\n",
       "9      CTGAN-pac10             0.0                0.0          0.0\n",
       "10       CopulaGAN             0.0                0.0          0.0\n",
       "11      tabFairGAN             0.0                0.0          0.0\n",
       "12            TVAE             0.0                5.0          0.0\n",
       "13        TVAE-mod             0.0                5.0          0.0"
      ]
     },
     "execution_count": 24,
     "metadata": {},
     "output_type": "execute_result"
    }
   ],
   "source": [
    "df_count_nan"
   ]
  },
  {
   "cell_type": "code",
   "execution_count": 32,
   "id": "be3aade3",
   "metadata": {},
   "outputs": [
    {
     "name": "stdout",
     "output_type": "stream",
     "text": [
      "\\begin{tabular}{lrrr}\n",
      "\\toprule\n",
      "        Methods &  Covtype &  Credit Card Fraud &  Online News Popularity \\\\\n",
      "\\midrule\n",
      "         tabGAN &      0.0 &               0.00 &                     0.0 \\\\\n",
      "      tabGAN-qt &      0.0 &               0.00 &                     0.0 \\\\\n",
      "     tabGAN-qtr &      0.0 &               0.00 &                     0.0 \\\\\n",
      "        ctabGAN &      0.0 &               0.00 &                     0.0 \\\\\n",
      "     ctabGAN-qt &      0.0 &               0.00 &                     0.0 \\\\\n",
      "    ctabGAN-qtr &      0.0 &               0.00 &                     0.0 \\\\\n",
      " GaussianCopula &      0.4 &               0.48 &                     0.0 \\\\\n",
      "     CTGAN-pac1 &      0.0 &               0.00 &                     0.0 \\\\\n",
      "    CTGAN-pac10 &      0.0 &               0.00 &                     0.0 \\\\\n",
      "      CopulaGAN &      0.0 &               0.00 &                     0.0 \\\\\n",
      "     tabFairGAN &      0.0 &               0.00 &                     0.0 \\\\\n",
      "           TVAE &      0.0 &               0.20 &                     0.0 \\\\\n",
      "       TVAE-mod &      0.0 &               0.20 &                     0.0 \\\\\n",
      "\\bottomrule\n",
      "\\end{tabular}\n",
      "\n"
     ]
    }
   ],
   "source": [
    "df_count_nan_pretty = df_count_nan.rename(columns={\"covtype_edited\": \"Covtype\", \"creditcard_edited\": \"Credit Card Fraud\",\n",
    "                                                   \"news_edited\": \"Online News Popularity\", \"Models\": \"Methods\"\n",
    "                                                  }).loc[1:,:]\n",
    "df_count_nan_pretty.loc[:, [\"Covtype\", \"Credit Card Fraud\", \"Online News Popularity\"]] = (\n",
    "    df_count_nan_pretty.loc[:, [\"Covtype\", \"Credit Card Fraud\", \"Online News Popularity\"]] / 25\n",
    ")\n",
    "print(df_count_nan_pretty.to_latex(index=False))"
   ]
  },
  {
   "cell_type": "code",
   "execution_count": 6,
   "id": "f826b966",
   "metadata": {},
   "outputs": [
    {
     "data": {
      "text/html": [
       "<div>\n",
       "<style scoped>\n",
       "    .dataframe tbody tr th:only-of-type {\n",
       "        vertical-align: middle;\n",
       "    }\n",
       "\n",
       "    .dataframe tbody tr th {\n",
       "        vertical-align: top;\n",
       "    }\n",
       "\n",
       "    .dataframe thead tr th {\n",
       "        text-align: left;\n",
       "    }\n",
       "</style>\n",
       "<table border=\"1\" class=\"dataframe\">\n",
       "  <thead>\n",
       "    <tr>\n",
       "      <th></th>\n",
       "      <th></th>\n",
       "      <th colspan=\"2\" halign=\"left\">Covtype</th>\n",
       "      <th colspan=\"3\" halign=\"left\">Creditcard</th>\n",
       "      <th colspan=\"3\" halign=\"left\">News</th>\n",
       "    </tr>\n",
       "    <tr>\n",
       "      <th></th>\n",
       "      <th>Model</th>\n",
       "      <th>Test Accuracy</th>\n",
       "      <th>Test F1</th>\n",
       "      <th>Test Accuracy</th>\n",
       "      <th>Test AUPRC</th>\n",
       "      <th>Test F1</th>\n",
       "      <th>Test Accuracy</th>\n",
       "      <th>Test AUC</th>\n",
       "      <th>Test F1</th>\n",
       "    </tr>\n",
       "  </thead>\n",
       "  <tbody>\n",
       "    <tr>\n",
       "      <th>0</th>\n",
       "      <td>Train dataset</td>\n",
       "      <td>0.87 (0.868, 0.872)</td>\n",
       "      <td>0.867 (0.865, 0.869)</td>\n",
       "      <td>1.0 (0.999, 1.0)</td>\n",
       "      <td>0.87 (0.841, 0.892)</td>\n",
       "      <td>0.93 (0.917, 0.943)</td>\n",
       "      <td>0.657 (0.65, 0.661)</td>\n",
       "      <td>0.715 (0.709, 0.722)</td>\n",
       "      <td>0.657 (0.65, 0.661)</td>\n",
       "    </tr>\n",
       "    <tr>\n",
       "      <th>1</th>\n",
       "      <td>tabGAN</td>\n",
       "      <td>0.791 (0.788, 0.793)</td>\n",
       "      <td>0.802 (0.798, 0.803)</td>\n",
       "      <td>0.998 (0.998, 0.999)</td>\n",
       "      <td>0.001 (0.001, 0.69)</td>\n",
       "      <td>0.5 (0.499, 0.824)</td>\n",
       "      <td>0.594 (0.545, 0.615)</td>\n",
       "      <td>0.65 (0.602, 0.663)</td>\n",
       "      <td>0.584 (0.508, 0.614)</td>\n",
       "    </tr>\n",
       "    <tr>\n",
       "      <th>2</th>\n",
       "      <td>tabGAN-qt</td>\n",
       "      <td>0.788 (0.785, 0.79)</td>\n",
       "      <td>0.798 (0.796, 0.801)</td>\n",
       "      <td>0.998 (0.998, 0.999)</td>\n",
       "      <td>0.03 (0.001, 0.581)</td>\n",
       "      <td>0.5 (0.5, 0.782)</td>\n",
       "      <td>0.629 (0.622, 0.636)</td>\n",
       "      <td>0.677 (0.668, 0.684)</td>\n",
       "      <td>0.629 (0.622, 0.636)</td>\n",
       "    </tr>\n",
       "    <tr>\n",
       "      <th>3</th>\n",
       "      <td>tabGAN-qtr</td>\n",
       "      <td>0.788 (0.786, 0.79)</td>\n",
       "      <td>0.798 (0.796, 0.8)</td>\n",
       "      <td>0.998 (0.998, 0.998)</td>\n",
       "      <td>0.428 (0.001, 0.501)</td>\n",
       "      <td>0.5 (0.5, 0.566)</td>\n",
       "      <td>0.625 (0.619, 0.635)</td>\n",
       "      <td>0.672 (0.666, 0.685)</td>\n",
       "      <td>0.625 (0.619, 0.635)</td>\n",
       "    </tr>\n",
       "    <tr>\n",
       "      <th>4</th>\n",
       "      <td>ctabGAN</td>\n",
       "      <td>0.795 (0.792, 0.798)</td>\n",
       "      <td>0.8 (0.797, 0.805)</td>\n",
       "      <td>0.999 (0.999, 0.999)</td>\n",
       "      <td>0.752 (0.677, 0.808)</td>\n",
       "      <td>0.874 (0.837, 0.904)</td>\n",
       "      <td>0.589 (0.531, 0.619)</td>\n",
       "      <td>0.644 (0.597, 0.668)</td>\n",
       "      <td>0.575 (0.457, 0.618)</td>\n",
       "    </tr>\n",
       "    <tr>\n",
       "      <th>5</th>\n",
       "      <td>ctabGAN-qt</td>\n",
       "      <td>0.789 (0.788, 0.794)</td>\n",
       "      <td>0.794 (0.793, 0.798)</td>\n",
       "      <td>0.999 (0.999, 0.999)</td>\n",
       "      <td>0.794 (0.742, 0.841)</td>\n",
       "      <td>0.897 (0.87, 0.92)</td>\n",
       "      <td>0.623 (0.617, 0.633)</td>\n",
       "      <td>0.673 (0.663, 0.68)</td>\n",
       "      <td>0.623 (0.617, 0.633)</td>\n",
       "    </tr>\n",
       "    <tr>\n",
       "      <th>6</th>\n",
       "      <td>ctabGAN-qtr</td>\n",
       "      <td>0.791 (0.789, 0.793)</td>\n",
       "      <td>0.796 (0.794, 0.798)</td>\n",
       "      <td>0.999 (0.999, 0.999)</td>\n",
       "      <td>0.792 (0.75, 0.839)</td>\n",
       "      <td>0.895 (0.872, 0.919)</td>\n",
       "      <td>0.625 (0.617, 0.635)</td>\n",
       "      <td>0.673 (0.661, 0.683)</td>\n",
       "      <td>0.624 (0.617, 0.635)</td>\n",
       "    </tr>\n",
       "    <tr>\n",
       "      <th>7</th>\n",
       "      <td>GaussianCopula</td>\n",
       "      <td>0.513 (0.509, 0.633)</td>\n",
       "      <td>0.337 (0.336, 0.647)</td>\n",
       "      <td>0.999 (0.999, 0.999)</td>\n",
       "      <td>0.787 (0.783, 0.791)</td>\n",
       "      <td>0.893 (0.891, 0.895)</td>\n",
       "      <td>0.585 (0.572, 0.601)</td>\n",
       "      <td>0.619 (0.602, 0.634)</td>\n",
       "      <td>0.582 (0.561, 0.597)</td>\n",
       "    </tr>\n",
       "    <tr>\n",
       "      <th>8</th>\n",
       "      <td>CTGAN-pac1</td>\n",
       "      <td>0.669 (0.656, 0.683)</td>\n",
       "      <td>0.706 (0.694, 0.717)</td>\n",
       "      <td>0.999 (0.999, 0.999)</td>\n",
       "      <td>0.745 (0.701, 0.794)</td>\n",
       "      <td>0.87 (0.847, 0.897)</td>\n",
       "      <td>0.602 (0.579, 0.617)</td>\n",
       "      <td>0.651 (0.637, 0.665)</td>\n",
       "      <td>0.6 (0.568, 0.615)</td>\n",
       "    </tr>\n",
       "    <tr>\n",
       "      <th>9</th>\n",
       "      <td>CTGAN-pac10</td>\n",
       "      <td>0.633 (0.624, 0.639)</td>\n",
       "      <td>0.681 (0.665, 0.687)</td>\n",
       "      <td>0.999 (0.999, 0.999)</td>\n",
       "      <td>0.745 (0.698, 0.792)</td>\n",
       "      <td>0.862 (0.833, 0.892)</td>\n",
       "      <td>0.603 (0.572, 0.616)</td>\n",
       "      <td>0.645 (0.632, 0.653)</td>\n",
       "      <td>0.6 (0.55, 0.615)</td>\n",
       "    </tr>\n",
       "    <tr>\n",
       "      <th>10</th>\n",
       "      <td>CopulaGAN</td>\n",
       "      <td>0.694 (0.69, 0.696)</td>\n",
       "      <td>0.721 (0.716, 0.724)</td>\n",
       "      <td>0.998 (0.997, 0.998)</td>\n",
       "      <td>0.344 (0.116, 0.471)</td>\n",
       "      <td>0.671 (0.556, 0.735)</td>\n",
       "      <td>0.605 (0.592, 0.618)</td>\n",
       "      <td>0.646 (0.632, 0.663)</td>\n",
       "      <td>0.603 (0.589, 0.618)</td>\n",
       "    </tr>\n",
       "    <tr>\n",
       "      <th>11</th>\n",
       "      <td>tabFairGAN</td>\n",
       "      <td>0.717 (0.709, 0.723)</td>\n",
       "      <td>0.737 (0.727, 0.743)</td>\n",
       "      <td>0.998 (0.998, 0.998)</td>\n",
       "      <td>0.501 (0.001, 0.501)</td>\n",
       "      <td>0.5 (0.5, 0.513)</td>\n",
       "      <td>0.592 (0.581, 0.613)</td>\n",
       "      <td>0.63 (0.613, 0.65)</td>\n",
       "      <td>0.591 (0.577, 0.609)</td>\n",
       "    </tr>\n",
       "    <tr>\n",
       "      <th>12</th>\n",
       "      <td>TVAE</td>\n",
       "      <td>0.718 (0.706, 0.728)</td>\n",
       "      <td>0.74 (0.728, 0.748)</td>\n",
       "      <td>0.998 (0.998, 0.999)</td>\n",
       "      <td>0.501 (0.477, 0.704)</td>\n",
       "      <td>0.5 (0.5, 0.829)</td>\n",
       "      <td>0.576 (0.55, 0.596)</td>\n",
       "      <td>0.639 (0.61, 0.658)</td>\n",
       "      <td>0.516 (0.462, 0.567)</td>\n",
       "    </tr>\n",
       "    <tr>\n",
       "      <th>13</th>\n",
       "      <td>TVAE-mod</td>\n",
       "      <td>0.734 (0.72, 0.742)</td>\n",
       "      <td>0.753 (0.743, 0.761)</td>\n",
       "      <td>0.998 (0.998, 0.999)</td>\n",
       "      <td>0.501 (0.356, 0.708)</td>\n",
       "      <td>0.534 (0.5, 0.84)</td>\n",
       "      <td>0.575 (0.557, 0.598)</td>\n",
       "      <td>0.645 (0.631, 0.662)</td>\n",
       "      <td>0.508 (0.471, 0.565)</td>\n",
       "    </tr>\n",
       "  </tbody>\n",
       "</table>\n",
       "</div>"
      ],
      "text/plain": [
       "                                 Covtype                        \\\n",
       "             Model         Test Accuracy               Test F1   \n",
       "0    Train dataset   0.87 (0.868, 0.872)  0.867 (0.865, 0.869)   \n",
       "1           tabGAN  0.791 (0.788, 0.793)  0.802 (0.798, 0.803)   \n",
       "2        tabGAN-qt   0.788 (0.785, 0.79)  0.798 (0.796, 0.801)   \n",
       "3       tabGAN-qtr   0.788 (0.786, 0.79)    0.798 (0.796, 0.8)   \n",
       "4          ctabGAN  0.795 (0.792, 0.798)    0.8 (0.797, 0.805)   \n",
       "5       ctabGAN-qt  0.789 (0.788, 0.794)  0.794 (0.793, 0.798)   \n",
       "6      ctabGAN-qtr  0.791 (0.789, 0.793)  0.796 (0.794, 0.798)   \n",
       "7   GaussianCopula  0.513 (0.509, 0.633)  0.337 (0.336, 0.647)   \n",
       "8       CTGAN-pac1  0.669 (0.656, 0.683)  0.706 (0.694, 0.717)   \n",
       "9      CTGAN-pac10  0.633 (0.624, 0.639)  0.681 (0.665, 0.687)   \n",
       "10       CopulaGAN   0.694 (0.69, 0.696)  0.721 (0.716, 0.724)   \n",
       "11      tabFairGAN  0.717 (0.709, 0.723)  0.737 (0.727, 0.743)   \n",
       "12            TVAE  0.718 (0.706, 0.728)   0.74 (0.728, 0.748)   \n",
       "13        TVAE-mod   0.734 (0.72, 0.742)  0.753 (0.743, 0.761)   \n",
       "\n",
       "              Creditcard                                              \\\n",
       "           Test Accuracy            Test AUPRC               Test F1   \n",
       "0       1.0 (0.999, 1.0)   0.87 (0.841, 0.892)   0.93 (0.917, 0.943)   \n",
       "1   0.998 (0.998, 0.999)   0.001 (0.001, 0.69)    0.5 (0.499, 0.824)   \n",
       "2   0.998 (0.998, 0.999)   0.03 (0.001, 0.581)      0.5 (0.5, 0.782)   \n",
       "3   0.998 (0.998, 0.998)  0.428 (0.001, 0.501)      0.5 (0.5, 0.566)   \n",
       "4   0.999 (0.999, 0.999)  0.752 (0.677, 0.808)  0.874 (0.837, 0.904)   \n",
       "5   0.999 (0.999, 0.999)  0.794 (0.742, 0.841)    0.897 (0.87, 0.92)   \n",
       "6   0.999 (0.999, 0.999)   0.792 (0.75, 0.839)  0.895 (0.872, 0.919)   \n",
       "7   0.999 (0.999, 0.999)  0.787 (0.783, 0.791)  0.893 (0.891, 0.895)   \n",
       "8   0.999 (0.999, 0.999)  0.745 (0.701, 0.794)   0.87 (0.847, 0.897)   \n",
       "9   0.999 (0.999, 0.999)  0.745 (0.698, 0.792)  0.862 (0.833, 0.892)   \n",
       "10  0.998 (0.997, 0.998)  0.344 (0.116, 0.471)  0.671 (0.556, 0.735)   \n",
       "11  0.998 (0.998, 0.998)  0.501 (0.001, 0.501)      0.5 (0.5, 0.513)   \n",
       "12  0.998 (0.998, 0.999)  0.501 (0.477, 0.704)      0.5 (0.5, 0.829)   \n",
       "13  0.998 (0.998, 0.999)  0.501 (0.356, 0.708)     0.534 (0.5, 0.84)   \n",
       "\n",
       "                    News                                              \n",
       "           Test Accuracy              Test AUC               Test F1  \n",
       "0    0.657 (0.65, 0.661)  0.715 (0.709, 0.722)   0.657 (0.65, 0.661)  \n",
       "1   0.594 (0.545, 0.615)   0.65 (0.602, 0.663)  0.584 (0.508, 0.614)  \n",
       "2   0.629 (0.622, 0.636)  0.677 (0.668, 0.684)  0.629 (0.622, 0.636)  \n",
       "3   0.625 (0.619, 0.635)  0.672 (0.666, 0.685)  0.625 (0.619, 0.635)  \n",
       "4   0.589 (0.531, 0.619)  0.644 (0.597, 0.668)  0.575 (0.457, 0.618)  \n",
       "5   0.623 (0.617, 0.633)   0.673 (0.663, 0.68)  0.623 (0.617, 0.633)  \n",
       "6   0.625 (0.617, 0.635)  0.673 (0.661, 0.683)  0.624 (0.617, 0.635)  \n",
       "7   0.585 (0.572, 0.601)  0.619 (0.602, 0.634)  0.582 (0.561, 0.597)  \n",
       "8   0.602 (0.579, 0.617)  0.651 (0.637, 0.665)    0.6 (0.568, 0.615)  \n",
       "9   0.603 (0.572, 0.616)  0.645 (0.632, 0.653)     0.6 (0.55, 0.615)  \n",
       "10  0.605 (0.592, 0.618)  0.646 (0.632, 0.663)  0.603 (0.589, 0.618)  \n",
       "11  0.592 (0.581, 0.613)    0.63 (0.613, 0.65)  0.591 (0.577, 0.609)  \n",
       "12   0.576 (0.55, 0.596)   0.639 (0.61, 0.658)  0.516 (0.462, 0.567)  \n",
       "13  0.575 (0.557, 0.598)  0.645 (0.631, 0.662)  0.508 (0.471, 0.565)  "
      ]
     },
     "execution_count": 6,
     "metadata": {},
     "output_type": "execute_result"
    }
   ],
   "source": [
    "comparison_output_tidy = helpers.comparison.tidy_ml_efficacy_output(comparison_output, extract_median_and_percentile=True)\n",
    "comparison_output_tidy"
   ]
  },
  {
   "cell_type": "code",
   "execution_count": 15,
   "id": "9d312290",
   "metadata": {},
   "outputs": [
    {
     "data": {
      "text/html": [
       "<div>\n",
       "<style scoped>\n",
       "    .dataframe tbody tr th:only-of-type {\n",
       "        vertical-align: middle;\n",
       "    }\n",
       "\n",
       "    .dataframe tbody tr th {\n",
       "        vertical-align: top;\n",
       "    }\n",
       "\n",
       "    .dataframe thead tr th {\n",
       "        text-align: left;\n",
       "    }\n",
       "</style>\n",
       "<table border=\"1\" class=\"dataframe\">\n",
       "  <thead>\n",
       "    <tr>\n",
       "      <th></th>\n",
       "      <th></th>\n",
       "      <th colspan=\"2\" halign=\"left\">Covtype</th>\n",
       "      <th colspan=\"3\" halign=\"left\">Creditcard</th>\n",
       "      <th colspan=\"3\" halign=\"left\">News</th>\n",
       "    </tr>\n",
       "    <tr>\n",
       "      <th></th>\n",
       "      <th>Model</th>\n",
       "      <th>Test Accuracy</th>\n",
       "      <th>Test F1</th>\n",
       "      <th>Test Accuracy</th>\n",
       "      <th>Test AUPRC</th>\n",
       "      <th>Test F1</th>\n",
       "      <th>Test Accuracy</th>\n",
       "      <th>Test AUC</th>\n",
       "      <th>Test F1</th>\n",
       "    </tr>\n",
       "  </thead>\n",
       "  <tbody>\n",
       "    <tr>\n",
       "      <th>0</th>\n",
       "      <td>Train dataset</td>\n",
       "      <td>0.87 (0.868, 0.872)</td>\n",
       "      <td>0.867 (0.865, 0.869)</td>\n",
       "      <td>1.0 (0.999, 1.0)</td>\n",
       "      <td>0.87 (0.841, 0.892)</td>\n",
       "      <td>0.93 (0.917, 0.943)</td>\n",
       "      <td>0.657 (0.65, 0.661)</td>\n",
       "      <td>0.715 (0.709, 0.722)</td>\n",
       "      <td>0.657 (0.65, 0.661)</td>\n",
       "    </tr>\n",
       "    <tr>\n",
       "      <th>4</th>\n",
       "      <td>ctabGAN</td>\n",
       "      <td>0.795 (0.792, 0.798)</td>\n",
       "      <td>0.8 (0.797, 0.805)</td>\n",
       "      <td>0.999 (0.999, 0.999)</td>\n",
       "      <td>0.752 (0.677, 0.808)</td>\n",
       "      <td>0.874 (0.837, 0.904)</td>\n",
       "      <td>0.589 (0.531, 0.619)</td>\n",
       "      <td>0.644 (0.597, 0.668)</td>\n",
       "      <td>0.575 (0.457, 0.618)</td>\n",
       "    </tr>\n",
       "    <tr>\n",
       "      <th>6</th>\n",
       "      <td>ctabGAN-qtr</td>\n",
       "      <td>0.791 (0.789, 0.793)</td>\n",
       "      <td>0.796 (0.794, 0.798)</td>\n",
       "      <td>0.999 (0.999, 0.999)</td>\n",
       "      <td>0.792 (0.75, 0.839)</td>\n",
       "      <td>0.895 (0.872, 0.919)</td>\n",
       "      <td>0.625 (0.617, 0.635)</td>\n",
       "      <td>0.673 (0.661, 0.683)</td>\n",
       "      <td>0.624 (0.617, 0.635)</td>\n",
       "    </tr>\n",
       "    <tr>\n",
       "      <th>1</th>\n",
       "      <td>tabGAN</td>\n",
       "      <td>0.791 (0.788, 0.793)</td>\n",
       "      <td>0.802 (0.798, 0.803)</td>\n",
       "      <td>0.998 (0.998, 0.999)</td>\n",
       "      <td>0.001 (0.001, 0.69)</td>\n",
       "      <td>0.5 (0.499, 0.824)</td>\n",
       "      <td>0.594 (0.545, 0.615)</td>\n",
       "      <td>0.65 (0.602, 0.663)</td>\n",
       "      <td>0.584 (0.508, 0.614)</td>\n",
       "    </tr>\n",
       "    <tr>\n",
       "      <th>5</th>\n",
       "      <td>ctabGAN-qt</td>\n",
       "      <td>0.789 (0.788, 0.794)</td>\n",
       "      <td>0.794 (0.793, 0.798)</td>\n",
       "      <td>0.999 (0.999, 0.999)</td>\n",
       "      <td>0.794 (0.742, 0.841)</td>\n",
       "      <td>0.897 (0.87, 0.92)</td>\n",
       "      <td>0.623 (0.617, 0.633)</td>\n",
       "      <td>0.673 (0.663, 0.68)</td>\n",
       "      <td>0.623 (0.617, 0.633)</td>\n",
       "    </tr>\n",
       "    <tr>\n",
       "      <th>3</th>\n",
       "      <td>tabGAN-qtr</td>\n",
       "      <td>0.788 (0.786, 0.79)</td>\n",
       "      <td>0.798 (0.796, 0.8)</td>\n",
       "      <td>0.998 (0.998, 0.998)</td>\n",
       "      <td>0.428 (0.001, 0.501)</td>\n",
       "      <td>0.5 (0.5, 0.566)</td>\n",
       "      <td>0.625 (0.619, 0.635)</td>\n",
       "      <td>0.672 (0.666, 0.685)</td>\n",
       "      <td>0.625 (0.619, 0.635)</td>\n",
       "    </tr>\n",
       "    <tr>\n",
       "      <th>2</th>\n",
       "      <td>tabGAN-qt</td>\n",
       "      <td>0.788 (0.785, 0.79)</td>\n",
       "      <td>0.798 (0.796, 0.801)</td>\n",
       "      <td>0.998 (0.998, 0.999)</td>\n",
       "      <td>0.03 (0.001, 0.581)</td>\n",
       "      <td>0.5 (0.5, 0.782)</td>\n",
       "      <td>0.629 (0.622, 0.636)</td>\n",
       "      <td>0.677 (0.668, 0.684)</td>\n",
       "      <td>0.629 (0.622, 0.636)</td>\n",
       "    </tr>\n",
       "    <tr>\n",
       "      <th>13</th>\n",
       "      <td>TVAE-mod</td>\n",
       "      <td>0.734 (0.72, 0.742)</td>\n",
       "      <td>0.753 (0.743, 0.761)</td>\n",
       "      <td>0.998 (0.998, 0.999)</td>\n",
       "      <td>0.501 (0.356, 0.708)</td>\n",
       "      <td>0.534 (0.5, 0.84)</td>\n",
       "      <td>0.575 (0.557, 0.598)</td>\n",
       "      <td>0.645 (0.631, 0.662)</td>\n",
       "      <td>0.508 (0.471, 0.565)</td>\n",
       "    </tr>\n",
       "    <tr>\n",
       "      <th>12</th>\n",
       "      <td>TVAE</td>\n",
       "      <td>0.718 (0.706, 0.728)</td>\n",
       "      <td>0.74 (0.728, 0.748)</td>\n",
       "      <td>0.998 (0.998, 0.999)</td>\n",
       "      <td>0.501 (0.477, 0.704)</td>\n",
       "      <td>0.5 (0.5, 0.829)</td>\n",
       "      <td>0.576 (0.55, 0.596)</td>\n",
       "      <td>0.639 (0.61, 0.658)</td>\n",
       "      <td>0.516 (0.462, 0.567)</td>\n",
       "    </tr>\n",
       "    <tr>\n",
       "      <th>11</th>\n",
       "      <td>tabFairGAN</td>\n",
       "      <td>0.717 (0.709, 0.723)</td>\n",
       "      <td>0.737 (0.727, 0.743)</td>\n",
       "      <td>0.998 (0.998, 0.998)</td>\n",
       "      <td>0.501 (0.001, 0.501)</td>\n",
       "      <td>0.5 (0.5, 0.513)</td>\n",
       "      <td>0.592 (0.581, 0.613)</td>\n",
       "      <td>0.63 (0.613, 0.65)</td>\n",
       "      <td>0.591 (0.577, 0.609)</td>\n",
       "    </tr>\n",
       "    <tr>\n",
       "      <th>10</th>\n",
       "      <td>CopulaGAN</td>\n",
       "      <td>0.694 (0.69, 0.696)</td>\n",
       "      <td>0.721 (0.716, 0.724)</td>\n",
       "      <td>0.998 (0.997, 0.998)</td>\n",
       "      <td>0.344 (0.116, 0.471)</td>\n",
       "      <td>0.671 (0.556, 0.735)</td>\n",
       "      <td>0.605 (0.592, 0.618)</td>\n",
       "      <td>0.646 (0.632, 0.663)</td>\n",
       "      <td>0.603 (0.589, 0.618)</td>\n",
       "    </tr>\n",
       "    <tr>\n",
       "      <th>8</th>\n",
       "      <td>CTGAN-pac1</td>\n",
       "      <td>0.669 (0.656, 0.683)</td>\n",
       "      <td>0.706 (0.694, 0.717)</td>\n",
       "      <td>0.999 (0.999, 0.999)</td>\n",
       "      <td>0.745 (0.701, 0.794)</td>\n",
       "      <td>0.87 (0.847, 0.897)</td>\n",
       "      <td>0.602 (0.579, 0.617)</td>\n",
       "      <td>0.651 (0.637, 0.665)</td>\n",
       "      <td>0.6 (0.568, 0.615)</td>\n",
       "    </tr>\n",
       "    <tr>\n",
       "      <th>9</th>\n",
       "      <td>CTGAN-pac10</td>\n",
       "      <td>0.633 (0.624, 0.639)</td>\n",
       "      <td>0.681 (0.665, 0.687)</td>\n",
       "      <td>0.999 (0.999, 0.999)</td>\n",
       "      <td>0.745 (0.698, 0.792)</td>\n",
       "      <td>0.862 (0.833, 0.892)</td>\n",
       "      <td>0.603 (0.572, 0.616)</td>\n",
       "      <td>0.645 (0.632, 0.653)</td>\n",
       "      <td>0.6 (0.55, 0.615)</td>\n",
       "    </tr>\n",
       "    <tr>\n",
       "      <th>7</th>\n",
       "      <td>GaussianCopula</td>\n",
       "      <td>0.513 (0.509, 0.633)</td>\n",
       "      <td>0.337 (0.336, 0.647)</td>\n",
       "      <td>0.999 (0.999, 0.999)</td>\n",
       "      <td>0.787 (0.783, 0.791)</td>\n",
       "      <td>0.893 (0.891, 0.895)</td>\n",
       "      <td>0.585 (0.572, 0.601)</td>\n",
       "      <td>0.619 (0.602, 0.634)</td>\n",
       "      <td>0.582 (0.561, 0.597)</td>\n",
       "    </tr>\n",
       "  </tbody>\n",
       "</table>\n",
       "</div>"
      ],
      "text/plain": [
       "                                 Covtype                        \\\n",
       "             Model         Test Accuracy               Test F1   \n",
       "0    Train dataset   0.87 (0.868, 0.872)  0.867 (0.865, 0.869)   \n",
       "4          ctabGAN  0.795 (0.792, 0.798)    0.8 (0.797, 0.805)   \n",
       "6      ctabGAN-qtr  0.791 (0.789, 0.793)  0.796 (0.794, 0.798)   \n",
       "1           tabGAN  0.791 (0.788, 0.793)  0.802 (0.798, 0.803)   \n",
       "5       ctabGAN-qt  0.789 (0.788, 0.794)  0.794 (0.793, 0.798)   \n",
       "3       tabGAN-qtr   0.788 (0.786, 0.79)    0.798 (0.796, 0.8)   \n",
       "2        tabGAN-qt   0.788 (0.785, 0.79)  0.798 (0.796, 0.801)   \n",
       "13        TVAE-mod   0.734 (0.72, 0.742)  0.753 (0.743, 0.761)   \n",
       "12            TVAE  0.718 (0.706, 0.728)   0.74 (0.728, 0.748)   \n",
       "11      tabFairGAN  0.717 (0.709, 0.723)  0.737 (0.727, 0.743)   \n",
       "10       CopulaGAN   0.694 (0.69, 0.696)  0.721 (0.716, 0.724)   \n",
       "8       CTGAN-pac1  0.669 (0.656, 0.683)  0.706 (0.694, 0.717)   \n",
       "9      CTGAN-pac10  0.633 (0.624, 0.639)  0.681 (0.665, 0.687)   \n",
       "7   GaussianCopula  0.513 (0.509, 0.633)  0.337 (0.336, 0.647)   \n",
       "\n",
       "              Creditcard                                              \\\n",
       "           Test Accuracy            Test AUPRC               Test F1   \n",
       "0       1.0 (0.999, 1.0)   0.87 (0.841, 0.892)   0.93 (0.917, 0.943)   \n",
       "4   0.999 (0.999, 0.999)  0.752 (0.677, 0.808)  0.874 (0.837, 0.904)   \n",
       "6   0.999 (0.999, 0.999)   0.792 (0.75, 0.839)  0.895 (0.872, 0.919)   \n",
       "1   0.998 (0.998, 0.999)   0.001 (0.001, 0.69)    0.5 (0.499, 0.824)   \n",
       "5   0.999 (0.999, 0.999)  0.794 (0.742, 0.841)    0.897 (0.87, 0.92)   \n",
       "3   0.998 (0.998, 0.998)  0.428 (0.001, 0.501)      0.5 (0.5, 0.566)   \n",
       "2   0.998 (0.998, 0.999)   0.03 (0.001, 0.581)      0.5 (0.5, 0.782)   \n",
       "13  0.998 (0.998, 0.999)  0.501 (0.356, 0.708)     0.534 (0.5, 0.84)   \n",
       "12  0.998 (0.998, 0.999)  0.501 (0.477, 0.704)      0.5 (0.5, 0.829)   \n",
       "11  0.998 (0.998, 0.998)  0.501 (0.001, 0.501)      0.5 (0.5, 0.513)   \n",
       "10  0.998 (0.997, 0.998)  0.344 (0.116, 0.471)  0.671 (0.556, 0.735)   \n",
       "8   0.999 (0.999, 0.999)  0.745 (0.701, 0.794)   0.87 (0.847, 0.897)   \n",
       "9   0.999 (0.999, 0.999)  0.745 (0.698, 0.792)  0.862 (0.833, 0.892)   \n",
       "7   0.999 (0.999, 0.999)  0.787 (0.783, 0.791)  0.893 (0.891, 0.895)   \n",
       "\n",
       "                    News                                              \n",
       "           Test Accuracy              Test AUC               Test F1  \n",
       "0    0.657 (0.65, 0.661)  0.715 (0.709, 0.722)   0.657 (0.65, 0.661)  \n",
       "4   0.589 (0.531, 0.619)  0.644 (0.597, 0.668)  0.575 (0.457, 0.618)  \n",
       "6   0.625 (0.617, 0.635)  0.673 (0.661, 0.683)  0.624 (0.617, 0.635)  \n",
       "1   0.594 (0.545, 0.615)   0.65 (0.602, 0.663)  0.584 (0.508, 0.614)  \n",
       "5   0.623 (0.617, 0.633)   0.673 (0.663, 0.68)  0.623 (0.617, 0.633)  \n",
       "3   0.625 (0.619, 0.635)  0.672 (0.666, 0.685)  0.625 (0.619, 0.635)  \n",
       "2   0.629 (0.622, 0.636)  0.677 (0.668, 0.684)  0.629 (0.622, 0.636)  \n",
       "13  0.575 (0.557, 0.598)  0.645 (0.631, 0.662)  0.508 (0.471, 0.565)  \n",
       "12   0.576 (0.55, 0.596)   0.639 (0.61, 0.658)  0.516 (0.462, 0.567)  \n",
       "11  0.592 (0.581, 0.613)    0.63 (0.613, 0.65)  0.591 (0.577, 0.609)  \n",
       "10  0.605 (0.592, 0.618)  0.646 (0.632, 0.663)  0.603 (0.589, 0.618)  \n",
       "8   0.602 (0.579, 0.617)  0.651 (0.637, 0.665)    0.6 (0.568, 0.615)  \n",
       "9   0.603 (0.572, 0.616)  0.645 (0.632, 0.653)     0.6 (0.55, 0.615)  \n",
       "7   0.585 (0.572, 0.601)  0.619 (0.602, 0.634)  0.582 (0.561, 0.597)  "
      ]
     },
     "execution_count": 15,
     "metadata": {},
     "output_type": "execute_result"
    }
   ],
   "source": [
    "comparison_output_tidy.sort_values((\"Covtype\", \"Test Accuracy\"), ascending=False)"
   ]
  },
  {
   "cell_type": "code",
   "execution_count": 22,
   "id": "66af0208",
   "metadata": {},
   "outputs": [
    {
     "data": {
      "text/html": [
       "<div>\n",
       "<style scoped>\n",
       "    .dataframe tbody tr th:only-of-type {\n",
       "        vertical-align: middle;\n",
       "    }\n",
       "\n",
       "    .dataframe tbody tr th {\n",
       "        vertical-align: top;\n",
       "    }\n",
       "\n",
       "    .dataframe thead tr th {\n",
       "        text-align: left;\n",
       "    }\n",
       "</style>\n",
       "<table border=\"1\" class=\"dataframe\">\n",
       "  <thead>\n",
       "    <tr>\n",
       "      <th></th>\n",
       "      <th></th>\n",
       "      <th colspan=\"2\" halign=\"left\">Covtype</th>\n",
       "      <th>Creditcard</th>\n",
       "      <th colspan=\"2\" halign=\"left\">News</th>\n",
       "    </tr>\n",
       "    <tr>\n",
       "      <th></th>\n",
       "      <th>Model</th>\n",
       "      <th>Test Accuracy</th>\n",
       "      <th>Test F1</th>\n",
       "      <th>Test AUPRC</th>\n",
       "      <th>Test Accuracy</th>\n",
       "      <th>Test AUC</th>\n",
       "    </tr>\n",
       "  </thead>\n",
       "  <tbody>\n",
       "    <tr>\n",
       "      <th>0</th>\n",
       "      <td>Train dataset</td>\n",
       "      <td>0.87 (0.868, 0.872)</td>\n",
       "      <td>0.867 (0.865, 0.869)</td>\n",
       "      <td>0.87 (0.841, 0.892)</td>\n",
       "      <td>0.657 (0.65, 0.661)</td>\n",
       "      <td>0.715 (0.709, 0.722)</td>\n",
       "    </tr>\n",
       "    <tr>\n",
       "      <th>1</th>\n",
       "      <td>tabGAN</td>\n",
       "      <td>0.791 (0.788, 0.793)</td>\n",
       "      <td>0.802 (0.798, 0.803)</td>\n",
       "      <td>0.001 (0.001, 0.69)</td>\n",
       "      <td>0.594 (0.545, 0.615)</td>\n",
       "      <td>0.65 (0.602, 0.663)</td>\n",
       "    </tr>\n",
       "    <tr>\n",
       "      <th>2</th>\n",
       "      <td>tabGAN-qt</td>\n",
       "      <td>0.788 (0.785, 0.79)</td>\n",
       "      <td>0.798 (0.796, 0.801)</td>\n",
       "      <td>0.03 (0.001, 0.581)</td>\n",
       "      <td>0.629 (0.622, 0.636)</td>\n",
       "      <td>0.677 (0.668, 0.684)</td>\n",
       "    </tr>\n",
       "    <tr>\n",
       "      <th>3</th>\n",
       "      <td>tabGAN-qtr</td>\n",
       "      <td>0.788 (0.786, 0.79)</td>\n",
       "      <td>0.798 (0.796, 0.8)</td>\n",
       "      <td>0.428 (0.001, 0.501)</td>\n",
       "      <td>0.625 (0.619, 0.635)</td>\n",
       "      <td>0.672 (0.666, 0.685)</td>\n",
       "    </tr>\n",
       "    <tr>\n",
       "      <th>4</th>\n",
       "      <td>ctabGAN</td>\n",
       "      <td>0.795 (0.792, 0.798)</td>\n",
       "      <td>0.8 (0.797, 0.805)</td>\n",
       "      <td>0.752 (0.677, 0.808)</td>\n",
       "      <td>0.589 (0.531, 0.619)</td>\n",
       "      <td>0.644 (0.597, 0.668)</td>\n",
       "    </tr>\n",
       "    <tr>\n",
       "      <th>5</th>\n",
       "      <td>ctabGAN-qt</td>\n",
       "      <td>0.789 (0.788, 0.794)</td>\n",
       "      <td>0.794 (0.793, 0.798)</td>\n",
       "      <td>0.794 (0.742, 0.841)</td>\n",
       "      <td>0.623 (0.617, 0.633)</td>\n",
       "      <td>0.673 (0.663, 0.68)</td>\n",
       "    </tr>\n",
       "    <tr>\n",
       "      <th>6</th>\n",
       "      <td>ctabGAN-qtr</td>\n",
       "      <td>0.791 (0.789, 0.793)</td>\n",
       "      <td>0.796 (0.794, 0.798)</td>\n",
       "      <td>0.792 (0.75, 0.839)</td>\n",
       "      <td>0.625 (0.617, 0.635)</td>\n",
       "      <td>0.673 (0.661, 0.683)</td>\n",
       "    </tr>\n",
       "    <tr>\n",
       "      <th>7</th>\n",
       "      <td>GaussianCopula</td>\n",
       "      <td>0.513 (0.509, 0.633)</td>\n",
       "      <td>0.337 (0.336, 0.647)</td>\n",
       "      <td>0.787 (0.783, 0.791)</td>\n",
       "      <td>0.585 (0.572, 0.601)</td>\n",
       "      <td>0.619 (0.602, 0.634)</td>\n",
       "    </tr>\n",
       "    <tr>\n",
       "      <th>8</th>\n",
       "      <td>CTGAN-pac1</td>\n",
       "      <td>0.669 (0.656, 0.683)</td>\n",
       "      <td>0.706 (0.694, 0.717)</td>\n",
       "      <td>0.745 (0.701, 0.794)</td>\n",
       "      <td>0.602 (0.579, 0.617)</td>\n",
       "      <td>0.651 (0.637, 0.665)</td>\n",
       "    </tr>\n",
       "    <tr>\n",
       "      <th>9</th>\n",
       "      <td>CTGAN-pac10</td>\n",
       "      <td>0.633 (0.624, 0.639)</td>\n",
       "      <td>0.681 (0.665, 0.687)</td>\n",
       "      <td>0.745 (0.698, 0.792)</td>\n",
       "      <td>0.603 (0.572, 0.616)</td>\n",
       "      <td>0.645 (0.632, 0.653)</td>\n",
       "    </tr>\n",
       "    <tr>\n",
       "      <th>10</th>\n",
       "      <td>CopulaGAN</td>\n",
       "      <td>0.694 (0.69, 0.696)</td>\n",
       "      <td>0.721 (0.716, 0.724)</td>\n",
       "      <td>0.344 (0.116, 0.471)</td>\n",
       "      <td>0.605 (0.592, 0.618)</td>\n",
       "      <td>0.646 (0.632, 0.663)</td>\n",
       "    </tr>\n",
       "    <tr>\n",
       "      <th>11</th>\n",
       "      <td>tabFairGAN</td>\n",
       "      <td>0.717 (0.709, 0.723)</td>\n",
       "      <td>0.737 (0.727, 0.743)</td>\n",
       "      <td>0.501 (0.001, 0.501)</td>\n",
       "      <td>0.592 (0.581, 0.613)</td>\n",
       "      <td>0.63 (0.613, 0.65)</td>\n",
       "    </tr>\n",
       "    <tr>\n",
       "      <th>12</th>\n",
       "      <td>TVAE</td>\n",
       "      <td>0.718 (0.706, 0.728)</td>\n",
       "      <td>0.74 (0.728, 0.748)</td>\n",
       "      <td>0.501 (0.477, 0.704)</td>\n",
       "      <td>0.576 (0.55, 0.596)</td>\n",
       "      <td>0.639 (0.61, 0.658)</td>\n",
       "    </tr>\n",
       "    <tr>\n",
       "      <th>13</th>\n",
       "      <td>TVAE-mod</td>\n",
       "      <td>0.734 (0.72, 0.742)</td>\n",
       "      <td>0.753 (0.743, 0.761)</td>\n",
       "      <td>0.501 (0.356, 0.708)</td>\n",
       "      <td>0.575 (0.557, 0.598)</td>\n",
       "      <td>0.645 (0.631, 0.662)</td>\n",
       "    </tr>\n",
       "  </tbody>\n",
       "</table>\n",
       "</div>"
      ],
      "text/plain": [
       "                                 Covtype                        \\\n",
       "             Model         Test Accuracy               Test F1   \n",
       "0    Train dataset   0.87 (0.868, 0.872)  0.867 (0.865, 0.869)   \n",
       "1           tabGAN  0.791 (0.788, 0.793)  0.802 (0.798, 0.803)   \n",
       "2        tabGAN-qt   0.788 (0.785, 0.79)  0.798 (0.796, 0.801)   \n",
       "3       tabGAN-qtr   0.788 (0.786, 0.79)    0.798 (0.796, 0.8)   \n",
       "4          ctabGAN  0.795 (0.792, 0.798)    0.8 (0.797, 0.805)   \n",
       "5       ctabGAN-qt  0.789 (0.788, 0.794)  0.794 (0.793, 0.798)   \n",
       "6      ctabGAN-qtr  0.791 (0.789, 0.793)  0.796 (0.794, 0.798)   \n",
       "7   GaussianCopula  0.513 (0.509, 0.633)  0.337 (0.336, 0.647)   \n",
       "8       CTGAN-pac1  0.669 (0.656, 0.683)  0.706 (0.694, 0.717)   \n",
       "9      CTGAN-pac10  0.633 (0.624, 0.639)  0.681 (0.665, 0.687)   \n",
       "10       CopulaGAN   0.694 (0.69, 0.696)  0.721 (0.716, 0.724)   \n",
       "11      tabFairGAN  0.717 (0.709, 0.723)  0.737 (0.727, 0.743)   \n",
       "12            TVAE  0.718 (0.706, 0.728)   0.74 (0.728, 0.748)   \n",
       "13        TVAE-mod   0.734 (0.72, 0.742)  0.753 (0.743, 0.761)   \n",
       "\n",
       "              Creditcard                  News                        \n",
       "              Test AUPRC         Test Accuracy              Test AUC  \n",
       "0    0.87 (0.841, 0.892)   0.657 (0.65, 0.661)  0.715 (0.709, 0.722)  \n",
       "1    0.001 (0.001, 0.69)  0.594 (0.545, 0.615)   0.65 (0.602, 0.663)  \n",
       "2    0.03 (0.001, 0.581)  0.629 (0.622, 0.636)  0.677 (0.668, 0.684)  \n",
       "3   0.428 (0.001, 0.501)  0.625 (0.619, 0.635)  0.672 (0.666, 0.685)  \n",
       "4   0.752 (0.677, 0.808)  0.589 (0.531, 0.619)  0.644 (0.597, 0.668)  \n",
       "5   0.794 (0.742, 0.841)  0.623 (0.617, 0.633)   0.673 (0.663, 0.68)  \n",
       "6    0.792 (0.75, 0.839)  0.625 (0.617, 0.635)  0.673 (0.661, 0.683)  \n",
       "7   0.787 (0.783, 0.791)  0.585 (0.572, 0.601)  0.619 (0.602, 0.634)  \n",
       "8   0.745 (0.701, 0.794)  0.602 (0.579, 0.617)  0.651 (0.637, 0.665)  \n",
       "9   0.745 (0.698, 0.792)  0.603 (0.572, 0.616)  0.645 (0.632, 0.653)  \n",
       "10  0.344 (0.116, 0.471)  0.605 (0.592, 0.618)  0.646 (0.632, 0.663)  \n",
       "11  0.501 (0.001, 0.501)  0.592 (0.581, 0.613)    0.63 (0.613, 0.65)  \n",
       "12  0.501 (0.477, 0.704)   0.576 (0.55, 0.596)   0.639 (0.61, 0.658)  \n",
       "13  0.501 (0.356, 0.708)  0.575 (0.557, 0.598)  0.645 (0.631, 0.662)  "
      ]
     },
     "execution_count": 22,
     "metadata": {},
     "output_type": "execute_result"
    }
   ],
   "source": [
    "comparison_output_tidy_fewer_columns = comparison_output_tidy\n",
    "comparison_output_tidy_fewer_columns = comparison_output_tidy_fewer_columns.drop(\n",
    "    [(\"Creditcard\", \"Test Accuracy\"), (\"Creditcard\", \"Test F1\"), (\"News\", \"Test F1\")],\n",
    "    axis=1\n",
    ")\n",
    "comparison_output_tidy_fewer_columns"
   ]
  },
  {
   "cell_type": "code",
   "execution_count": 23,
   "id": "a32e140e",
   "metadata": {},
   "outputs": [
    {
     "name": "stdout",
     "output_type": "stream",
     "text": [
      "\\begin{tabular}{llllll}\n",
      "\\toprule\n",
      "                & \\multicolumn{2}{l}{Covtype} &            Creditcard & \\multicolumn{2}{l}{News} \\\\\n",
      "          Model &         Test Accuracy &               Test F1 &            Test AUPRC &         Test Accuracy &              Test AUC \\\\\n",
      "\\midrule\n",
      "  Train dataset &   0.87 (0.868, 0.872) &  0.867 (0.865, 0.869) &   0.87 (0.841, 0.892) &   0.657 (0.65, 0.661) &  0.715 (0.709, 0.722) \\\\\n",
      "         tabGAN &  0.791 (0.788, 0.793) &  0.802 (0.798, 0.803) &   0.001 (0.001, 0.69) &  0.594 (0.545, 0.615) &   0.65 (0.602, 0.663) \\\\\n",
      "      tabGAN-qt &   0.788 (0.785, 0.79) &  0.798 (0.796, 0.801) &   0.03 (0.001, 0.581) &  0.629 (0.622, 0.636) &  0.677 (0.668, 0.684) \\\\\n",
      "     tabGAN-qtr &   0.788 (0.786, 0.79) &    0.798 (0.796, 0.8) &  0.428 (0.001, 0.501) &  0.625 (0.619, 0.635) &  0.672 (0.666, 0.685) \\\\\n",
      "        ctabGAN &  0.795 (0.792, 0.798) &    0.8 (0.797, 0.805) &  0.752 (0.677, 0.808) &  0.589 (0.531, 0.619) &  0.644 (0.597, 0.668) \\\\\n",
      "     ctabGAN-qt &  0.789 (0.788, 0.794) &  0.794 (0.793, 0.798) &  0.794 (0.742, 0.841) &  0.623 (0.617, 0.633) &   0.673 (0.663, 0.68) \\\\\n",
      "    ctabGAN-qtr &  0.791 (0.789, 0.793) &  0.796 (0.794, 0.798) &   0.792 (0.75, 0.839) &  0.625 (0.617, 0.635) &  0.673 (0.661, 0.683) \\\\\n",
      " GaussianCopula &  0.513 (0.509, 0.633) &  0.337 (0.336, 0.647) &  0.787 (0.783, 0.791) &  0.585 (0.572, 0.601) &  0.619 (0.602, 0.634) \\\\\n",
      "     CTGAN-pac1 &  0.669 (0.656, 0.683) &  0.706 (0.694, 0.717) &  0.745 (0.701, 0.794) &  0.602 (0.579, 0.617) &  0.651 (0.637, 0.665) \\\\\n",
      "    CTGAN-pac10 &  0.633 (0.624, 0.639) &  0.681 (0.665, 0.687) &  0.745 (0.698, 0.792) &  0.603 (0.572, 0.616) &  0.645 (0.632, 0.653) \\\\\n",
      "      CopulaGAN &   0.694 (0.69, 0.696) &  0.721 (0.716, 0.724) &  0.344 (0.116, 0.471) &  0.605 (0.592, 0.618) &  0.646 (0.632, 0.663) \\\\\n",
      "     tabFairGAN &  0.717 (0.709, 0.723) &  0.737 (0.727, 0.743) &  0.501 (0.001, 0.501) &  0.592 (0.581, 0.613) &    0.63 (0.613, 0.65) \\\\\n",
      "           TVAE &  0.718 (0.706, 0.728) &   0.74 (0.728, 0.748) &  0.501 (0.477, 0.704) &   0.576 (0.55, 0.596) &   0.639 (0.61, 0.658) \\\\\n",
      "       TVAE-mod &   0.734 (0.72, 0.742) &  0.753 (0.743, 0.761) &  0.501 (0.356, 0.708) &  0.575 (0.557, 0.598) &  0.645 (0.631, 0.662) \\\\\n",
      "\\bottomrule\n",
      "\\end{tabular}\n",
      "\n"
     ]
    }
   ],
   "source": [
    "print(comparison_output_tidy_fewer_columns.to_latex(index=False))"
   ]
  }
 ],
 "metadata": {
  "kernelspec": {
   "display_name": "tf2.4",
   "language": "python",
   "name": "tf2.4"
  },
  "language_info": {
   "codemirror_mode": {
    "name": "ipython",
    "version": 3
   },
   "file_extension": ".py",
   "mimetype": "text/x-python",
   "name": "python",
   "nbconvert_exporter": "python",
   "pygments_lexer": "ipython3",
   "version": "3.7.11"
  }
 },
 "nbformat": 4,
 "nbformat_minor": 5
}
