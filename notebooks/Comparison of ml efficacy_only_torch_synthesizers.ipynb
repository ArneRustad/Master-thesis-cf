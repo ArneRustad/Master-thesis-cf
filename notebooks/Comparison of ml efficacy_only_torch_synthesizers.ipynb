{
 "cells": [
  {
   "cell_type": "code",
   "execution_count": 47,
   "id": "96e86a5d",
   "metadata": {},
   "outputs": [
    {
     "name": "stdout",
     "output_type": "stream",
     "text": [
      "The autoreload extension is already loaded. To reload it, use:\n",
      "  %reload_ext autoreload\n"
     ]
    }
   ],
   "source": [
    "import pathlib\n",
    "import os\n",
    "if not \"changed_working_directory\" in locals():\n",
    "    changed_working_directory = True\n",
    "    os.chdir(pathlib.Path().resolve().parent)\n",
    "    \n",
    "%load_ext autoreload\n",
    "%autoreload 2\n",
    "\n",
    "from tabGAN import TabGAN\n",
    "from src import constants as const\n",
    "import helpers\n",
    "from v2_hp_tuning import fetch_hp_info\n",
    "\n",
    "imports_path = \"src//imports.ipynb\"\n",
    "\n",
    "%run \"$imports_path\"\n",
    "\n",
    "if const.dir.project() != os.getcwd():\n",
    "    raise ValueError(\"Project directory not the same as in consts\")"
   ]
  },
  {
   "cell_type": "raw",
   "id": "b9d9ca3d",
   "metadata": {},
   "source": [
    "comparison_output = helpers.comparison.eval_ml_efficacy([\"CopulaGAN\"],\n",
    "                                                        datasets=[\"covtype_edited\", \"creditcard_edited\", \"news_edited\"],\n",
    "                                    n_synthetic_datasets=10,\n",
    "                                   metric_evals=[\"Mean\", \"Median\", \"Percentile10\", \"Percentile90\"],\n",
    "                                                       allow_fewer_synthetic_datasets=True)"
   ]
  },
  {
   "cell_type": "code",
   "execution_count": null,
   "id": "349833e7",
   "metadata": {},
   "outputs": [],
   "source": [
    "comparison_output_adult = helpers.comparison.eval_ml_efficacy([\n",
    "    \"TVAE\", \"TVAE-mod\", \"TVAESynthesizer\", \"TVAESynthesizer-mod\",\"CTGAN-pac1\", \"CTGAN-pac10\",\n",
    "                                                        \"CTGANSynthesizer-pac1\", \"CTGANSynthesizer-pac10\",\n",
    "                                                        \"GaussianCopula\", \"tabFairGAN\", \"tabFairGAN-mod\", \"tabFairGAN-mod2\",\n",
    "                                                        \"CopulaGAN\"],\n",
    "                                                        datasets=[\"adult_edited\"],\n",
    "                                                        n_synthetic_datasets=25,\n",
    "                                                        metric_evals=[\"Mean\", \"Median\", \"Percentile5\", \"Percentile95\"],\n",
    "                                                        allow_fewer_synthetic_datasets=True)"
   ]
  },
  {
   "cell_type": "code",
   "execution_count": 43,
   "id": "1c17dc24",
   "metadata": {
    "scrolled": true
   },
   "outputs": [
    {
     "data": {
      "text/html": [
       "<div>\n",
       "<style scoped>\n",
       "    .dataframe tbody tr th:only-of-type {\n",
       "        vertical-align: middle;\n",
       "    }\n",
       "\n",
       "    .dataframe tbody tr th {\n",
       "        vertical-align: top;\n",
       "    }\n",
       "\n",
       "    .dataframe thead tr th {\n",
       "        text-align: left;\n",
       "    }\n",
       "</style>\n",
       "<table border=\"1\" class=\"dataframe\">\n",
       "  <thead>\n",
       "    <tr>\n",
       "      <th></th>\n",
       "      <th></th>\n",
       "      <th colspan=\"3\" halign=\"left\">Adult</th>\n",
       "    </tr>\n",
       "    <tr>\n",
       "      <th></th>\n",
       "      <th>Model</th>\n",
       "      <th>Test Accuracy</th>\n",
       "      <th>Test AUC</th>\n",
       "      <th>Test F1</th>\n",
       "    </tr>\n",
       "  </thead>\n",
       "  <tbody>\n",
       "    <tr>\n",
       "      <th>0</th>\n",
       "      <td>Train dataset</td>\n",
       "      <td>0.8653 (0.8653, 0.8653)</td>\n",
       "      <td>0.9229 (0.9229, 0.9229)</td>\n",
       "      <td>0.8087 (0.8087, 0.8087)</td>\n",
       "    </tr>\n",
       "    <tr>\n",
       "      <th>1</th>\n",
       "      <td>TVAE</td>\n",
       "      <td>0.8172 (0.8, 0.8241)</td>\n",
       "      <td>0.87 (0.8629, 0.8781)</td>\n",
       "      <td>0.7507 (0.7419, 0.7596)</td>\n",
       "    </tr>\n",
       "    <tr>\n",
       "      <th>2</th>\n",
       "      <td>TVAE-mod</td>\n",
       "      <td>0.8276 (0.8216, 0.8357)</td>\n",
       "      <td>0.8785 (0.8741, 0.8869)</td>\n",
       "      <td>0.7618 (0.7534, 0.7678)</td>\n",
       "    </tr>\n",
       "    <tr>\n",
       "      <th>3</th>\n",
       "      <td>TVAESynthesizer</td>\n",
       "      <td>0.8155 (0.807, 0.8301)</td>\n",
       "      <td>0.872 (0.8594, 0.8796)</td>\n",
       "      <td>0.7516 (0.7306, 0.7607)</td>\n",
       "    </tr>\n",
       "    <tr>\n",
       "      <th>4</th>\n",
       "      <td>TVAESynthesizer-mod</td>\n",
       "      <td>0.8273 (0.8197, 0.8354)</td>\n",
       "      <td>0.8791 (0.8713, 0.8843)</td>\n",
       "      <td>0.76 (0.7463, 0.7679)</td>\n",
       "    </tr>\n",
       "    <tr>\n",
       "      <th>5</th>\n",
       "      <td>CTGAN-pac1</td>\n",
       "      <td>0.8382 (0.8314, 0.8426)</td>\n",
       "      <td>0.8873 (0.8827, 0.8902)</td>\n",
       "      <td>0.7685 (0.7443, 0.7753)</td>\n",
       "    </tr>\n",
       "    <tr>\n",
       "      <th>6</th>\n",
       "      <td>CTGAN-pac10</td>\n",
       "      <td>0.8303 (0.8246, 0.8353)</td>\n",
       "      <td>0.882 (0.8745, 0.8855)</td>\n",
       "      <td>0.7569 (0.7431, 0.7682)</td>\n",
       "    </tr>\n",
       "    <tr>\n",
       "      <th>7</th>\n",
       "      <td>CTGANSynthesizer-pac1</td>\n",
       "      <td>0.8393 (0.8319, 0.8431)</td>\n",
       "      <td>0.8895 (0.8834, 0.8935)</td>\n",
       "      <td>0.77 (0.7469, 0.7779)</td>\n",
       "    </tr>\n",
       "    <tr>\n",
       "      <th>8</th>\n",
       "      <td>CTGANSynthesizer-pac10</td>\n",
       "      <td>0.8341 (0.8271, 0.8392)</td>\n",
       "      <td>0.8852 (0.8817, 0.8881)</td>\n",
       "      <td>0.7672 (0.7517, 0.7741)</td>\n",
       "    </tr>\n",
       "    <tr>\n",
       "      <th>9</th>\n",
       "      <td>GaussianCopula</td>\n",
       "      <td>0.7556 (0.7549, 0.7564)</td>\n",
       "      <td>0.8247 (0.7836, 0.8492)</td>\n",
       "      <td>0.4354 (0.4327, 0.4401)</td>\n",
       "    </tr>\n",
       "    <tr>\n",
       "      <th>10</th>\n",
       "      <td>tabFairGAN</td>\n",
       "      <td>0.8273 (0.8216, 0.8307)</td>\n",
       "      <td>0.8756 (0.8699, 0.8819)</td>\n",
       "      <td>0.7611 (0.7529, 0.7673)</td>\n",
       "    </tr>\n",
       "    <tr>\n",
       "      <th>11</th>\n",
       "      <td>tabFairGAN-mod</td>\n",
       "      <td>0.7546 (0.5437, 0.7923)</td>\n",
       "      <td>0.7573 (0.5641, 0.8252)</td>\n",
       "      <td>0.6449 (0.4572, 0.7136)</td>\n",
       "    </tr>\n",
       "    <tr>\n",
       "      <th>12</th>\n",
       "      <td>tabFairGAN-mod2</td>\n",
       "      <td>0.7839 (0.6528, 0.7976)</td>\n",
       "      <td>0.7573 (0.634, 0.8278)</td>\n",
       "      <td>0.6689 (0.4358, 0.7251)</td>\n",
       "    </tr>\n",
       "    <tr>\n",
       "      <th>13</th>\n",
       "      <td>CopulaGAN</td>\n",
       "      <td>0.8274 (0.8201, 0.8315)</td>\n",
       "      <td>0.868 (0.8569, 0.8735)</td>\n",
       "      <td>0.7485 (0.7275, 0.7586)</td>\n",
       "    </tr>\n",
       "  </tbody>\n",
       "</table>\n",
       "</div>"
      ],
      "text/plain": [
       "                                              Adult                           \\\n",
       "                     Model            Test Accuracy                 Test AUC   \n",
       "0            Train dataset  0.8653 (0.8653, 0.8653)  0.9229 (0.9229, 0.9229)   \n",
       "1                     TVAE     0.8172 (0.8, 0.8241)    0.87 (0.8629, 0.8781)   \n",
       "2                 TVAE-mod  0.8276 (0.8216, 0.8357)  0.8785 (0.8741, 0.8869)   \n",
       "3          TVAESynthesizer   0.8155 (0.807, 0.8301)   0.872 (0.8594, 0.8796)   \n",
       "4      TVAESynthesizer-mod  0.8273 (0.8197, 0.8354)  0.8791 (0.8713, 0.8843)   \n",
       "5               CTGAN-pac1  0.8382 (0.8314, 0.8426)  0.8873 (0.8827, 0.8902)   \n",
       "6              CTGAN-pac10  0.8303 (0.8246, 0.8353)   0.882 (0.8745, 0.8855)   \n",
       "7    CTGANSynthesizer-pac1  0.8393 (0.8319, 0.8431)  0.8895 (0.8834, 0.8935)   \n",
       "8   CTGANSynthesizer-pac10  0.8341 (0.8271, 0.8392)  0.8852 (0.8817, 0.8881)   \n",
       "9           GaussianCopula  0.7556 (0.7549, 0.7564)  0.8247 (0.7836, 0.8492)   \n",
       "10              tabFairGAN  0.8273 (0.8216, 0.8307)  0.8756 (0.8699, 0.8819)   \n",
       "11          tabFairGAN-mod  0.7546 (0.5437, 0.7923)  0.7573 (0.5641, 0.8252)   \n",
       "12         tabFairGAN-mod2  0.7839 (0.6528, 0.7976)   0.7573 (0.634, 0.8278)   \n",
       "13               CopulaGAN  0.8274 (0.8201, 0.8315)   0.868 (0.8569, 0.8735)   \n",
       "\n",
       "                             \n",
       "                    Test F1  \n",
       "0   0.8087 (0.8087, 0.8087)  \n",
       "1   0.7507 (0.7419, 0.7596)  \n",
       "2   0.7618 (0.7534, 0.7678)  \n",
       "3   0.7516 (0.7306, 0.7607)  \n",
       "4     0.76 (0.7463, 0.7679)  \n",
       "5   0.7685 (0.7443, 0.7753)  \n",
       "6   0.7569 (0.7431, 0.7682)  \n",
       "7     0.77 (0.7469, 0.7779)  \n",
       "8   0.7672 (0.7517, 0.7741)  \n",
       "9   0.4354 (0.4327, 0.4401)  \n",
       "10  0.7611 (0.7529, 0.7673)  \n",
       "11  0.6449 (0.4572, 0.7136)  \n",
       "12  0.6689 (0.4358, 0.7251)  \n",
       "13  0.7485 (0.7275, 0.7586)  "
      ]
     },
     "execution_count": 43,
     "metadata": {},
     "output_type": "execute_result"
    }
   ],
   "source": [
    "comparison_output_adult_tidy = helpers.comparison.tidy_ml_efficacy_output(\n",
    "    comparison_output_adult, extract_median_and_percentile=True, round_decimals=4)\n",
    "comparison_output_adult_tidy"
   ]
  },
  {
   "cell_type": "code",
   "execution_count": 45,
   "id": "969cb97b",
   "metadata": {},
   "outputs": [
    {
     "data": {
      "application/vnd.jupyter.widget-view+json": {
       "model_id": "824b48c65e22459299a3f05d44de75b6",
       "version_major": 2,
       "version_minor": 0
      },
      "text/plain": [
       "Dataset tasks:   0%|          | 0/3 [00:00<?, ?it/s]"
      ]
     },
     "metadata": {},
     "output_type": "display_data"
    },
    {
     "data": {
      "application/vnd.jupyter.widget-view+json": {
       "model_id": "",
       "version_major": 2,
       "version_minor": 0
      },
      "text/plain": [
       "Synthetic datasets:   0%|          | 0/20 [00:00<?, ?it/s]"
      ]
     },
     "metadata": {},
     "output_type": "display_data"
    },
    {
     "data": {
      "application/vnd.jupyter.widget-view+json": {
       "model_id": "",
       "version_major": 2,
       "version_minor": 0
      },
      "text/plain": [
       "Models:   0%|          | 0/4 [00:00<?, ?it/s]"
      ]
     },
     "metadata": {},
     "output_type": "display_data"
    },
    {
     "data": {
      "application/vnd.jupyter.widget-view+json": {
       "model_id": "",
       "version_major": 2,
       "version_minor": 0
      },
      "text/plain": [
       "Models:   0%|          | 0/4 [00:00<?, ?it/s]"
      ]
     },
     "metadata": {},
     "output_type": "display_data"
    },
    {
     "data": {
      "application/vnd.jupyter.widget-view+json": {
       "model_id": "",
       "version_major": 2,
       "version_minor": 0
      },
      "text/plain": [
       "Models:   0%|          | 0/4 [00:00<?, ?it/s]"
      ]
     },
     "metadata": {},
     "output_type": "display_data"
    },
    {
     "data": {
      "application/vnd.jupyter.widget-view+json": {
       "model_id": "",
       "version_major": 2,
       "version_minor": 0
      },
      "text/plain": [
       "Models:   0%|          | 0/4 [00:00<?, ?it/s]"
      ]
     },
     "metadata": {},
     "output_type": "display_data"
    },
    {
     "data": {
      "application/vnd.jupyter.widget-view+json": {
       "model_id": "",
       "version_major": 2,
       "version_minor": 0
      },
      "text/plain": [
       "Models:   0%|          | 0/4 [00:00<?, ?it/s]"
      ]
     },
     "metadata": {},
     "output_type": "display_data"
    },
    {
     "data": {
      "application/vnd.jupyter.widget-view+json": {
       "model_id": "",
       "version_major": 2,
       "version_minor": 0
      },
      "text/plain": [
       "Models:   0%|          | 0/4 [00:00<?, ?it/s]"
      ]
     },
     "metadata": {},
     "output_type": "display_data"
    },
    {
     "data": {
      "application/vnd.jupyter.widget-view+json": {
       "model_id": "",
       "version_major": 2,
       "version_minor": 0
      },
      "text/plain": [
       "Models:   0%|          | 0/4 [00:00<?, ?it/s]"
      ]
     },
     "metadata": {},
     "output_type": "display_data"
    },
    {
     "data": {
      "application/vnd.jupyter.widget-view+json": {
       "model_id": "",
       "version_major": 2,
       "version_minor": 0
      },
      "text/plain": [
       "Models:   0%|          | 0/4 [00:00<?, ?it/s]"
      ]
     },
     "metadata": {},
     "output_type": "display_data"
    },
    {
     "data": {
      "application/vnd.jupyter.widget-view+json": {
       "model_id": "",
       "version_major": 2,
       "version_minor": 0
      },
      "text/plain": [
       "Models:   0%|          | 0/4 [00:00<?, ?it/s]"
      ]
     },
     "metadata": {},
     "output_type": "display_data"
    },
    {
     "data": {
      "application/vnd.jupyter.widget-view+json": {
       "model_id": "",
       "version_major": 2,
       "version_minor": 0
      },
      "text/plain": [
       "Models:   0%|          | 0/4 [00:00<?, ?it/s]"
      ]
     },
     "metadata": {},
     "output_type": "display_data"
    },
    {
     "name": "stdout",
     "output_type": "stream",
     "text": [
      "Model tabFairGAN-mod2 only has 9 synthetic datasets for dataset task covtype_edited\n"
     ]
    },
    {
     "data": {
      "application/vnd.jupyter.widget-view+json": {
       "model_id": "",
       "version_major": 2,
       "version_minor": 0
      },
      "text/plain": [
       "Models:   0%|          | 0/4 [00:00<?, ?it/s]"
      ]
     },
     "metadata": {},
     "output_type": "display_data"
    },
    {
     "data": {
      "application/vnd.jupyter.widget-view+json": {
       "model_id": "",
       "version_major": 2,
       "version_minor": 0
      },
      "text/plain": [
       "Models:   0%|          | 0/4 [00:00<?, ?it/s]"
      ]
     },
     "metadata": {},
     "output_type": "display_data"
    },
    {
     "data": {
      "application/vnd.jupyter.widget-view+json": {
       "model_id": "",
       "version_major": 2,
       "version_minor": 0
      },
      "text/plain": [
       "Models:   0%|          | 0/4 [00:00<?, ?it/s]"
      ]
     },
     "metadata": {},
     "output_type": "display_data"
    },
    {
     "data": {
      "application/vnd.jupyter.widget-view+json": {
       "model_id": "",
       "version_major": 2,
       "version_minor": 0
      },
      "text/plain": [
       "Models:   0%|          | 0/4 [00:00<?, ?it/s]"
      ]
     },
     "metadata": {},
     "output_type": "display_data"
    },
    {
     "data": {
      "application/vnd.jupyter.widget-view+json": {
       "model_id": "",
       "version_major": 2,
       "version_minor": 0
      },
      "text/plain": [
       "Models:   0%|          | 0/4 [00:00<?, ?it/s]"
      ]
     },
     "metadata": {},
     "output_type": "display_data"
    },
    {
     "data": {
      "application/vnd.jupyter.widget-view+json": {
       "model_id": "",
       "version_major": 2,
       "version_minor": 0
      },
      "text/plain": [
       "Models:   0%|          | 0/4 [00:00<?, ?it/s]"
      ]
     },
     "metadata": {},
     "output_type": "display_data"
    },
    {
     "data": {
      "application/vnd.jupyter.widget-view+json": {
       "model_id": "",
       "version_major": 2,
       "version_minor": 0
      },
      "text/plain": [
       "Models:   0%|          | 0/4 [00:00<?, ?it/s]"
      ]
     },
     "metadata": {},
     "output_type": "display_data"
    },
    {
     "data": {
      "application/vnd.jupyter.widget-view+json": {
       "model_id": "",
       "version_major": 2,
       "version_minor": 0
      },
      "text/plain": [
       "Models:   0%|          | 0/4 [00:00<?, ?it/s]"
      ]
     },
     "metadata": {},
     "output_type": "display_data"
    },
    {
     "data": {
      "application/vnd.jupyter.widget-view+json": {
       "model_id": "",
       "version_major": 2,
       "version_minor": 0
      },
      "text/plain": [
       "Models:   0%|          | 0/4 [00:00<?, ?it/s]"
      ]
     },
     "metadata": {},
     "output_type": "display_data"
    },
    {
     "data": {
      "application/vnd.jupyter.widget-view+json": {
       "model_id": "",
       "version_major": 2,
       "version_minor": 0
      },
      "text/plain": [
       "Models:   0%|          | 0/4 [00:00<?, ?it/s]"
      ]
     },
     "metadata": {},
     "output_type": "display_data"
    },
    {
     "data": {
      "application/vnd.jupyter.widget-view+json": {
       "model_id": "",
       "version_major": 2,
       "version_minor": 0
      },
      "text/plain": [
       "Synthetic datasets:   0%|          | 0/20 [00:00<?, ?it/s]"
      ]
     },
     "metadata": {},
     "output_type": "display_data"
    },
    {
     "data": {
      "application/vnd.jupyter.widget-view+json": {
       "model_id": "",
       "version_major": 2,
       "version_minor": 0
      },
      "text/plain": [
       "Models:   0%|          | 0/4 [00:00<?, ?it/s]"
      ]
     },
     "metadata": {},
     "output_type": "display_data"
    },
    {
     "data": {
      "application/vnd.jupyter.widget-view+json": {
       "model_id": "",
       "version_major": 2,
       "version_minor": 0
      },
      "text/plain": [
       "Models:   0%|          | 0/4 [00:00<?, ?it/s]"
      ]
     },
     "metadata": {},
     "output_type": "display_data"
    },
    {
     "data": {
      "application/vnd.jupyter.widget-view+json": {
       "model_id": "",
       "version_major": 2,
       "version_minor": 0
      },
      "text/plain": [
       "Models:   0%|          | 0/4 [00:00<?, ?it/s]"
      ]
     },
     "metadata": {},
     "output_type": "display_data"
    },
    {
     "data": {
      "application/vnd.jupyter.widget-view+json": {
       "model_id": "",
       "version_major": 2,
       "version_minor": 0
      },
      "text/plain": [
       "Models:   0%|          | 0/4 [00:00<?, ?it/s]"
      ]
     },
     "metadata": {},
     "output_type": "display_data"
    },
    {
     "data": {
      "application/vnd.jupyter.widget-view+json": {
       "model_id": "",
       "version_major": 2,
       "version_minor": 0
      },
      "text/plain": [
       "Models:   0%|          | 0/4 [00:00<?, ?it/s]"
      ]
     },
     "metadata": {},
     "output_type": "display_data"
    },
    {
     "data": {
      "application/vnd.jupyter.widget-view+json": {
       "model_id": "",
       "version_major": 2,
       "version_minor": 0
      },
      "text/plain": [
       "Models:   0%|          | 0/4 [00:00<?, ?it/s]"
      ]
     },
     "metadata": {},
     "output_type": "display_data"
    },
    {
     "data": {
      "application/vnd.jupyter.widget-view+json": {
       "model_id": "",
       "version_major": 2,
       "version_minor": 0
      },
      "text/plain": [
       "Models:   0%|          | 0/4 [00:00<?, ?it/s]"
      ]
     },
     "metadata": {},
     "output_type": "display_data"
    },
    {
     "data": {
      "application/vnd.jupyter.widget-view+json": {
       "model_id": "",
       "version_major": 2,
       "version_minor": 0
      },
      "text/plain": [
       "Models:   0%|          | 0/4 [00:00<?, ?it/s]"
      ]
     },
     "metadata": {},
     "output_type": "display_data"
    },
    {
     "data": {
      "application/vnd.jupyter.widget-view+json": {
       "model_id": "",
       "version_major": 2,
       "version_minor": 0
      },
      "text/plain": [
       "Models:   0%|          | 0/4 [00:00<?, ?it/s]"
      ]
     },
     "metadata": {},
     "output_type": "display_data"
    },
    {
     "data": {
      "application/vnd.jupyter.widget-view+json": {
       "model_id": "",
       "version_major": 2,
       "version_minor": 0
      },
      "text/plain": [
       "Models:   0%|          | 0/4 [00:00<?, ?it/s]"
      ]
     },
     "metadata": {},
     "output_type": "display_data"
    },
    {
     "data": {
      "application/vnd.jupyter.widget-view+json": {
       "model_id": "",
       "version_major": 2,
       "version_minor": 0
      },
      "text/plain": [
       "Models:   0%|          | 0/4 [00:00<?, ?it/s]"
      ]
     },
     "metadata": {},
     "output_type": "display_data"
    },
    {
     "data": {
      "application/vnd.jupyter.widget-view+json": {
       "model_id": "",
       "version_major": 2,
       "version_minor": 0
      },
      "text/plain": [
       "Models:   0%|          | 0/4 [00:00<?, ?it/s]"
      ]
     },
     "metadata": {},
     "output_type": "display_data"
    },
    {
     "data": {
      "application/vnd.jupyter.widget-view+json": {
       "model_id": "",
       "version_major": 2,
       "version_minor": 0
      },
      "text/plain": [
       "Models:   0%|          | 0/4 [00:00<?, ?it/s]"
      ]
     },
     "metadata": {},
     "output_type": "display_data"
    },
    {
     "data": {
      "application/vnd.jupyter.widget-view+json": {
       "model_id": "",
       "version_major": 2,
       "version_minor": 0
      },
      "text/plain": [
       "Models:   0%|          | 0/4 [00:00<?, ?it/s]"
      ]
     },
     "metadata": {},
     "output_type": "display_data"
    },
    {
     "data": {
      "application/vnd.jupyter.widget-view+json": {
       "model_id": "",
       "version_major": 2,
       "version_minor": 0
      },
      "text/plain": [
       "Models:   0%|          | 0/4 [00:00<?, ?it/s]"
      ]
     },
     "metadata": {},
     "output_type": "display_data"
    },
    {
     "data": {
      "application/vnd.jupyter.widget-view+json": {
       "model_id": "",
       "version_major": 2,
       "version_minor": 0
      },
      "text/plain": [
       "Models:   0%|          | 0/4 [00:00<?, ?it/s]"
      ]
     },
     "metadata": {},
     "output_type": "display_data"
    },
    {
     "name": "stdout",
     "output_type": "stream",
     "text": [
      "Model tabFairGAN only has 15 synthetic datasets for dataset task creditcard_edited\n"
     ]
    },
    {
     "data": {
      "application/vnd.jupyter.widget-view+json": {
       "model_id": "",
       "version_major": 2,
       "version_minor": 0
      },
      "text/plain": [
       "Models:   0%|          | 0/4 [00:00<?, ?it/s]"
      ]
     },
     "metadata": {},
     "output_type": "display_data"
    },
    {
     "data": {
      "application/vnd.jupyter.widget-view+json": {
       "model_id": "",
       "version_major": 2,
       "version_minor": 0
      },
      "text/plain": [
       "Models:   0%|          | 0/4 [00:00<?, ?it/s]"
      ]
     },
     "metadata": {},
     "output_type": "display_data"
    },
    {
     "data": {
      "application/vnd.jupyter.widget-view+json": {
       "model_id": "",
       "version_major": 2,
       "version_minor": 0
      },
      "text/plain": [
       "Models:   0%|          | 0/4 [00:00<?, ?it/s]"
      ]
     },
     "metadata": {},
     "output_type": "display_data"
    },
    {
     "data": {
      "application/vnd.jupyter.widget-view+json": {
       "model_id": "",
       "version_major": 2,
       "version_minor": 0
      },
      "text/plain": [
       "Models:   0%|          | 0/4 [00:00<?, ?it/s]"
      ]
     },
     "metadata": {},
     "output_type": "display_data"
    },
    {
     "data": {
      "application/vnd.jupyter.widget-view+json": {
       "model_id": "",
       "version_major": 2,
       "version_minor": 0
      },
      "text/plain": [
       "Synthetic datasets:   0%|          | 0/25 [00:00<?, ?it/s]"
      ]
     },
     "metadata": {},
     "output_type": "display_data"
    },
    {
     "data": {
      "application/vnd.jupyter.widget-view+json": {
       "model_id": "",
       "version_major": 2,
       "version_minor": 0
      },
      "text/plain": [
       "Models:   0%|          | 0/4 [00:00<?, ?it/s]"
      ]
     },
     "metadata": {},
     "output_type": "display_data"
    },
    {
     "data": {
      "application/vnd.jupyter.widget-view+json": {
       "model_id": "",
       "version_major": 2,
       "version_minor": 0
      },
      "text/plain": [
       "Models:   0%|          | 0/4 [00:00<?, ?it/s]"
      ]
     },
     "metadata": {},
     "output_type": "display_data"
    },
    {
     "data": {
      "application/vnd.jupyter.widget-view+json": {
       "model_id": "",
       "version_major": 2,
       "version_minor": 0
      },
      "text/plain": [
       "Models:   0%|          | 0/4 [00:00<?, ?it/s]"
      ]
     },
     "metadata": {},
     "output_type": "display_data"
    },
    {
     "data": {
      "application/vnd.jupyter.widget-view+json": {
       "model_id": "",
       "version_major": 2,
       "version_minor": 0
      },
      "text/plain": [
       "Models:   0%|          | 0/4 [00:00<?, ?it/s]"
      ]
     },
     "metadata": {},
     "output_type": "display_data"
    },
    {
     "data": {
      "application/vnd.jupyter.widget-view+json": {
       "model_id": "",
       "version_major": 2,
       "version_minor": 0
      },
      "text/plain": [
       "Models:   0%|          | 0/4 [00:00<?, ?it/s]"
      ]
     },
     "metadata": {},
     "output_type": "display_data"
    },
    {
     "data": {
      "application/vnd.jupyter.widget-view+json": {
       "model_id": "",
       "version_major": 2,
       "version_minor": 0
      },
      "text/plain": [
       "Models:   0%|          | 0/4 [00:00<?, ?it/s]"
      ]
     },
     "metadata": {},
     "output_type": "display_data"
    },
    {
     "data": {
      "application/vnd.jupyter.widget-view+json": {
       "model_id": "",
       "version_major": 2,
       "version_minor": 0
      },
      "text/plain": [
       "Models:   0%|          | 0/4 [00:00<?, ?it/s]"
      ]
     },
     "metadata": {},
     "output_type": "display_data"
    },
    {
     "data": {
      "application/vnd.jupyter.widget-view+json": {
       "model_id": "",
       "version_major": 2,
       "version_minor": 0
      },
      "text/plain": [
       "Models:   0%|          | 0/4 [00:00<?, ?it/s]"
      ]
     },
     "metadata": {},
     "output_type": "display_data"
    },
    {
     "data": {
      "application/vnd.jupyter.widget-view+json": {
       "model_id": "",
       "version_major": 2,
       "version_minor": 0
      },
      "text/plain": [
       "Models:   0%|          | 0/4 [00:00<?, ?it/s]"
      ]
     },
     "metadata": {},
     "output_type": "display_data"
    },
    {
     "data": {
      "application/vnd.jupyter.widget-view+json": {
       "model_id": "",
       "version_major": 2,
       "version_minor": 0
      },
      "text/plain": [
       "Models:   0%|          | 0/4 [00:00<?, ?it/s]"
      ]
     },
     "metadata": {},
     "output_type": "display_data"
    },
    {
     "data": {
      "application/vnd.jupyter.widget-view+json": {
       "model_id": "",
       "version_major": 2,
       "version_minor": 0
      },
      "text/plain": [
       "Models:   0%|          | 0/4 [00:00<?, ?it/s]"
      ]
     },
     "metadata": {},
     "output_type": "display_data"
    },
    {
     "data": {
      "application/vnd.jupyter.widget-view+json": {
       "model_id": "",
       "version_major": 2,
       "version_minor": 0
      },
      "text/plain": [
       "Models:   0%|          | 0/4 [00:00<?, ?it/s]"
      ]
     },
     "metadata": {},
     "output_type": "display_data"
    },
    {
     "data": {
      "application/vnd.jupyter.widget-view+json": {
       "model_id": "",
       "version_major": 2,
       "version_minor": 0
      },
      "text/plain": [
       "Models:   0%|          | 0/4 [00:00<?, ?it/s]"
      ]
     },
     "metadata": {},
     "output_type": "display_data"
    },
    {
     "data": {
      "application/vnd.jupyter.widget-view+json": {
       "model_id": "",
       "version_major": 2,
       "version_minor": 0
      },
      "text/plain": [
       "Models:   0%|          | 0/4 [00:00<?, ?it/s]"
      ]
     },
     "metadata": {},
     "output_type": "display_data"
    },
    {
     "data": {
      "application/vnd.jupyter.widget-view+json": {
       "model_id": "",
       "version_major": 2,
       "version_minor": 0
      },
      "text/plain": [
       "Models:   0%|          | 0/4 [00:00<?, ?it/s]"
      ]
     },
     "metadata": {},
     "output_type": "display_data"
    },
    {
     "data": {
      "application/vnd.jupyter.widget-view+json": {
       "model_id": "",
       "version_major": 2,
       "version_minor": 0
      },
      "text/plain": [
       "Models:   0%|          | 0/4 [00:00<?, ?it/s]"
      ]
     },
     "metadata": {},
     "output_type": "display_data"
    },
    {
     "data": {
      "application/vnd.jupyter.widget-view+json": {
       "model_id": "",
       "version_major": 2,
       "version_minor": 0
      },
      "text/plain": [
       "Models:   0%|          | 0/4 [00:00<?, ?it/s]"
      ]
     },
     "metadata": {},
     "output_type": "display_data"
    },
    {
     "data": {
      "application/vnd.jupyter.widget-view+json": {
       "model_id": "",
       "version_major": 2,
       "version_minor": 0
      },
      "text/plain": [
       "Models:   0%|          | 0/4 [00:00<?, ?it/s]"
      ]
     },
     "metadata": {},
     "output_type": "display_data"
    },
    {
     "data": {
      "application/vnd.jupyter.widget-view+json": {
       "model_id": "",
       "version_major": 2,
       "version_minor": 0
      },
      "text/plain": [
       "Models:   0%|          | 0/4 [00:00<?, ?it/s]"
      ]
     },
     "metadata": {},
     "output_type": "display_data"
    },
    {
     "data": {
      "application/vnd.jupyter.widget-view+json": {
       "model_id": "",
       "version_major": 2,
       "version_minor": 0
      },
      "text/plain": [
       "Models:   0%|          | 0/4 [00:00<?, ?it/s]"
      ]
     },
     "metadata": {},
     "output_type": "display_data"
    },
    {
     "data": {
      "application/vnd.jupyter.widget-view+json": {
       "model_id": "",
       "version_major": 2,
       "version_minor": 0
      },
      "text/plain": [
       "Models:   0%|          | 0/4 [00:00<?, ?it/s]"
      ]
     },
     "metadata": {},
     "output_type": "display_data"
    },
    {
     "data": {
      "application/vnd.jupyter.widget-view+json": {
       "model_id": "",
       "version_major": 2,
       "version_minor": 0
      },
      "text/plain": [
       "Models:   0%|          | 0/4 [00:00<?, ?it/s]"
      ]
     },
     "metadata": {},
     "output_type": "display_data"
    },
    {
     "data": {
      "application/vnd.jupyter.widget-view+json": {
       "model_id": "",
       "version_major": 2,
       "version_minor": 0
      },
      "text/plain": [
       "Models:   0%|          | 0/4 [00:00<?, ?it/s]"
      ]
     },
     "metadata": {},
     "output_type": "display_data"
    },
    {
     "data": {
      "application/vnd.jupyter.widget-view+json": {
       "model_id": "",
       "version_major": 2,
       "version_minor": 0
      },
      "text/plain": [
       "Models:   0%|          | 0/4 [00:00<?, ?it/s]"
      ]
     },
     "metadata": {},
     "output_type": "display_data"
    },
    {
     "data": {
      "application/vnd.jupyter.widget-view+json": {
       "model_id": "",
       "version_major": 2,
       "version_minor": 0
      },
      "text/plain": [
       "Models:   0%|          | 0/4 [00:00<?, ?it/s]"
      ]
     },
     "metadata": {},
     "output_type": "display_data"
    }
   ],
   "source": [
    "comparison_output, df_count_nan = helpers.comparison.eval_ml_efficacy(\n",
    "    [\"tabFairGAN\", \"tabFairGAN-mod\", \"tabFairGAN-mod2\"],\n",
    "    datasets=[\"covtype_edited\", \"creditcard_edited\", \"news_edited\"],\n",
    "    n_synthetic_datasets=20,\n",
    "    n_synthetic_datasets_dict={\"news_edited\": 25},\n",
    "    metric_evals=[\"Mean\", \"Median\", \"Percentile5\", \"Percentile95\"],\n",
    "    allow_fewer_synthetic_datasets=True,\n",
    "    ignore_nan=True,\n",
    "    ret_count_nan=True\n",
    ")"
   ]
  },
  {
   "cell_type": "code",
   "execution_count": 46,
   "id": "484ba47c",
   "metadata": {},
   "outputs": [
    {
     "data": {
      "text/html": [
       "<div>\n",
       "<style scoped>\n",
       "    .dataframe tbody tr th:only-of-type {\n",
       "        vertical-align: middle;\n",
       "    }\n",
       "\n",
       "    .dataframe tbody tr th {\n",
       "        vertical-align: top;\n",
       "    }\n",
       "\n",
       "    .dataframe thead tr th {\n",
       "        text-align: left;\n",
       "    }\n",
       "</style>\n",
       "<table border=\"1\" class=\"dataframe\">\n",
       "  <thead>\n",
       "    <tr>\n",
       "      <th></th>\n",
       "      <th></th>\n",
       "      <th colspan=\"2\" halign=\"left\">Covtype</th>\n",
       "      <th colspan=\"3\" halign=\"left\">Creditcard</th>\n",
       "      <th colspan=\"3\" halign=\"left\">News</th>\n",
       "    </tr>\n",
       "    <tr>\n",
       "      <th></th>\n",
       "      <th>Model</th>\n",
       "      <th>Test Accuracy</th>\n",
       "      <th>Test F1</th>\n",
       "      <th>Test Accuracy</th>\n",
       "      <th>Test AUPRC</th>\n",
       "      <th>Test F1</th>\n",
       "      <th>Test Accuracy</th>\n",
       "      <th>Test AUC</th>\n",
       "      <th>Test F1</th>\n",
       "    </tr>\n",
       "  </thead>\n",
       "  <tbody>\n",
       "    <tr>\n",
       "      <th>0</th>\n",
       "      <td>Train dataset</td>\n",
       "      <td>0.87 (0.868, 0.872)</td>\n",
       "      <td>0.867 (0.865, 0.869)</td>\n",
       "      <td>1.0 (0.999, 1.0)</td>\n",
       "      <td>0.87 (0.841, 0.892)</td>\n",
       "      <td>0.93 (0.917, 0.943)</td>\n",
       "      <td>0.657 (0.65, 0.661)</td>\n",
       "      <td>0.715 (0.709, 0.722)</td>\n",
       "      <td>0.657 (0.65, 0.661)</td>\n",
       "    </tr>\n",
       "    <tr>\n",
       "      <th>1</th>\n",
       "      <td>tabFairGAN</td>\n",
       "      <td>0.717 (0.709, 0.723)</td>\n",
       "      <td>0.737 (0.727, 0.743)</td>\n",
       "      <td>0.998 (0.998, 0.998)</td>\n",
       "      <td>0.501 (0.001, 0.501)</td>\n",
       "      <td>0.5 (0.5, 0.513)</td>\n",
       "      <td>0.592 (0.581, 0.613)</td>\n",
       "      <td>0.63 (0.613, 0.65)</td>\n",
       "      <td>0.591 (0.577, 0.609)</td>\n",
       "    </tr>\n",
       "    <tr>\n",
       "      <th>2</th>\n",
       "      <td>tabFairGAN-mod</td>\n",
       "      <td>0.574 (0.47, 0.641)</td>\n",
       "      <td>0.615 (0.496, 0.687)</td>\n",
       "      <td>0.998 (0.998, 0.998)</td>\n",
       "      <td>0.501 (0.501, 0.501)</td>\n",
       "      <td>0.5 (0.5, 0.5)</td>\n",
       "      <td>0.531 (0.509, 0.593)</td>\n",
       "      <td>0.572 (0.514, 0.629)</td>\n",
       "      <td>0.508 (0.355, 0.592)</td>\n",
       "    </tr>\n",
       "    <tr>\n",
       "      <th>3</th>\n",
       "      <td>tabFairGAN-mod2</td>\n",
       "      <td>0.567 (0.484, 0.613)</td>\n",
       "      <td>0.607 (0.521, 0.656)</td>\n",
       "      <td>0.998 (0.998, 0.998)</td>\n",
       "      <td>0.501 (0.501, 0.501)</td>\n",
       "      <td>0.5 (0.5, 0.5)</td>\n",
       "      <td>0.551 (0.5, 0.585)</td>\n",
       "      <td>0.576 (0.532, 0.613)</td>\n",
       "      <td>0.542 (0.457, 0.585)</td>\n",
       "    </tr>\n",
       "  </tbody>\n",
       "</table>\n",
       "</div>"
      ],
      "text/plain": [
       "                                 Covtype                        \\\n",
       "             Model         Test Accuracy               Test F1   \n",
       "0    Train dataset   0.87 (0.868, 0.872)  0.867 (0.865, 0.869)   \n",
       "1       tabFairGAN  0.717 (0.709, 0.723)  0.737 (0.727, 0.743)   \n",
       "2   tabFairGAN-mod   0.574 (0.47, 0.641)  0.615 (0.496, 0.687)   \n",
       "3  tabFairGAN-mod2  0.567 (0.484, 0.613)  0.607 (0.521, 0.656)   \n",
       "\n",
       "             Creditcard                                             \\\n",
       "          Test Accuracy            Test AUPRC              Test F1   \n",
       "0      1.0 (0.999, 1.0)   0.87 (0.841, 0.892)  0.93 (0.917, 0.943)   \n",
       "1  0.998 (0.998, 0.998)  0.501 (0.001, 0.501)     0.5 (0.5, 0.513)   \n",
       "2  0.998 (0.998, 0.998)  0.501 (0.501, 0.501)       0.5 (0.5, 0.5)   \n",
       "3  0.998 (0.998, 0.998)  0.501 (0.501, 0.501)       0.5 (0.5, 0.5)   \n",
       "\n",
       "                   News                                              \n",
       "          Test Accuracy              Test AUC               Test F1  \n",
       "0   0.657 (0.65, 0.661)  0.715 (0.709, 0.722)   0.657 (0.65, 0.661)  \n",
       "1  0.592 (0.581, 0.613)    0.63 (0.613, 0.65)  0.591 (0.577, 0.609)  \n",
       "2  0.531 (0.509, 0.593)  0.572 (0.514, 0.629)  0.508 (0.355, 0.592)  \n",
       "3    0.551 (0.5, 0.585)  0.576 (0.532, 0.613)  0.542 (0.457, 0.585)  "
      ]
     },
     "execution_count": 46,
     "metadata": {},
     "output_type": "execute_result"
    }
   ],
   "source": [
    "comparison_output_tidy = helpers.comparison.tidy_ml_efficacy_output(comparison_output, extract_median_and_percentile=True)\n",
    "comparison_output_tidy"
   ]
  },
  {
   "cell_type": "code",
   "execution_count": 36,
   "id": "6be5c635",
   "metadata": {},
   "outputs": [
    {
     "data": {
      "application/vnd.jupyter.widget-view+json": {
       "model_id": "752f69abf4354c58bb8d4548ac13e843",
       "version_major": 2,
       "version_minor": 0
      },
      "text/plain": [
       "Dataset tasks:   0%|          | 0/3 [00:00<?, ?it/s]"
      ]
     },
     "metadata": {},
     "output_type": "display_data"
    },
    {
     "data": {
      "application/vnd.jupyter.widget-view+json": {
       "model_id": "",
       "version_major": 2,
       "version_minor": 0
      },
      "text/plain": [
       "Synthetic datasets:   0%|          | 0/20 [00:00<?, ?it/s]"
      ]
     },
     "metadata": {},
     "output_type": "display_data"
    },
    {
     "data": {
      "application/vnd.jupyter.widget-view+json": {
       "model_id": "",
       "version_major": 2,
       "version_minor": 0
      },
      "text/plain": [
       "Models:   0%|          | 0/13 [00:00<?, ?it/s]"
      ]
     },
     "metadata": {},
     "output_type": "display_data"
    },
    {
     "data": {
      "application/vnd.jupyter.widget-view+json": {
       "model_id": "",
       "version_major": 2,
       "version_minor": 0
      },
      "text/plain": [
       "Models:   0%|          | 0/13 [00:00<?, ?it/s]"
      ]
     },
     "metadata": {},
     "output_type": "display_data"
    },
    {
     "data": {
      "application/vnd.jupyter.widget-view+json": {
       "model_id": "",
       "version_major": 2,
       "version_minor": 0
      },
      "text/plain": [
       "Models:   0%|          | 0/13 [00:00<?, ?it/s]"
      ]
     },
     "metadata": {},
     "output_type": "display_data"
    },
    {
     "data": {
      "application/vnd.jupyter.widget-view+json": {
       "model_id": "",
       "version_major": 2,
       "version_minor": 0
      },
      "text/plain": [
       "Models:   0%|          | 0/13 [00:00<?, ?it/s]"
      ]
     },
     "metadata": {},
     "output_type": "display_data"
    },
    {
     "data": {
      "application/vnd.jupyter.widget-view+json": {
       "model_id": "",
       "version_major": 2,
       "version_minor": 0
      },
      "text/plain": [
       "Models:   0%|          | 0/13 [00:00<?, ?it/s]"
      ]
     },
     "metadata": {},
     "output_type": "display_data"
    },
    {
     "data": {
      "application/vnd.jupyter.widget-view+json": {
       "model_id": "",
       "version_major": 2,
       "version_minor": 0
      },
      "text/plain": [
       "Models:   0%|          | 0/13 [00:00<?, ?it/s]"
      ]
     },
     "metadata": {},
     "output_type": "display_data"
    },
    {
     "data": {
      "application/vnd.jupyter.widget-view+json": {
       "model_id": "",
       "version_major": 2,
       "version_minor": 0
      },
      "text/plain": [
       "Models:   0%|          | 0/13 [00:00<?, ?it/s]"
      ]
     },
     "metadata": {},
     "output_type": "display_data"
    },
    {
     "data": {
      "application/vnd.jupyter.widget-view+json": {
       "model_id": "",
       "version_major": 2,
       "version_minor": 0
      },
      "text/plain": [
       "Models:   0%|          | 0/13 [00:00<?, ?it/s]"
      ]
     },
     "metadata": {},
     "output_type": "display_data"
    },
    {
     "data": {
      "application/vnd.jupyter.widget-view+json": {
       "model_id": "",
       "version_major": 2,
       "version_minor": 0
      },
      "text/plain": [
       "Models:   0%|          | 0/13 [00:00<?, ?it/s]"
      ]
     },
     "metadata": {},
     "output_type": "display_data"
    },
    {
     "data": {
      "application/vnd.jupyter.widget-view+json": {
       "model_id": "",
       "version_major": 2,
       "version_minor": 0
      },
      "text/plain": [
       "Models:   0%|          | 0/13 [00:00<?, ?it/s]"
      ]
     },
     "metadata": {},
     "output_type": "display_data"
    },
    {
     "data": {
      "application/vnd.jupyter.widget-view+json": {
       "model_id": "",
       "version_major": 2,
       "version_minor": 0
      },
      "text/plain": [
       "Models:   0%|          | 0/13 [00:00<?, ?it/s]"
      ]
     },
     "metadata": {},
     "output_type": "display_data"
    },
    {
     "data": {
      "application/vnd.jupyter.widget-view+json": {
       "model_id": "",
       "version_major": 2,
       "version_minor": 0
      },
      "text/plain": [
       "Models:   0%|          | 0/13 [00:00<?, ?it/s]"
      ]
     },
     "metadata": {},
     "output_type": "display_data"
    },
    {
     "data": {
      "application/vnd.jupyter.widget-view+json": {
       "model_id": "",
       "version_major": 2,
       "version_minor": 0
      },
      "text/plain": [
       "Models:   0%|          | 0/13 [00:00<?, ?it/s]"
      ]
     },
     "metadata": {},
     "output_type": "display_data"
    },
    {
     "data": {
      "application/vnd.jupyter.widget-view+json": {
       "model_id": "",
       "version_major": 2,
       "version_minor": 0
      },
      "text/plain": [
       "Models:   0%|          | 0/13 [00:00<?, ?it/s]"
      ]
     },
     "metadata": {},
     "output_type": "display_data"
    },
    {
     "data": {
      "application/vnd.jupyter.widget-view+json": {
       "model_id": "",
       "version_major": 2,
       "version_minor": 0
      },
      "text/plain": [
       "Models:   0%|          | 0/13 [00:00<?, ?it/s]"
      ]
     },
     "metadata": {},
     "output_type": "display_data"
    },
    {
     "data": {
      "application/vnd.jupyter.widget-view+json": {
       "model_id": "",
       "version_major": 2,
       "version_minor": 0
      },
      "text/plain": [
       "Models:   0%|          | 0/13 [00:00<?, ?it/s]"
      ]
     },
     "metadata": {},
     "output_type": "display_data"
    },
    {
     "name": "stdout",
     "output_type": "stream",
     "text": [
      "Model CTGAN-pac1 only has 15 synthetic datasets for dataset task covtype_edited\n",
      "Model CTGAN-pac10 only has 15 synthetic datasets for dataset task covtype_edited\n",
      "Model CTGANSynthesizer-pac1 only has 15 synthetic datasets for dataset task covtype_edited\n",
      "Model CTGANSynthesizer-pac10 only has 15 synthetic datasets for dataset task covtype_edited\n",
      "Model CopulaGAN only has 15 synthetic datasets for dataset task covtype_edited\n"
     ]
    },
    {
     "data": {
      "application/vnd.jupyter.widget-view+json": {
       "model_id": "",
       "version_major": 2,
       "version_minor": 0
      },
      "text/plain": [
       "Models:   0%|          | 0/13 [00:00<?, ?it/s]"
      ]
     },
     "metadata": {},
     "output_type": "display_data"
    },
    {
     "data": {
      "application/vnd.jupyter.widget-view+json": {
       "model_id": "",
       "version_major": 2,
       "version_minor": 0
      },
      "text/plain": [
       "Models:   0%|          | 0/13 [00:00<?, ?it/s]"
      ]
     },
     "metadata": {},
     "output_type": "display_data"
    },
    {
     "data": {
      "application/vnd.jupyter.widget-view+json": {
       "model_id": "",
       "version_major": 2,
       "version_minor": 0
      },
      "text/plain": [
       "Models:   0%|          | 0/13 [00:00<?, ?it/s]"
      ]
     },
     "metadata": {},
     "output_type": "display_data"
    },
    {
     "data": {
      "application/vnd.jupyter.widget-view+json": {
       "model_id": "",
       "version_major": 2,
       "version_minor": 0
      },
      "text/plain": [
       "Models:   0%|          | 0/13 [00:00<?, ?it/s]"
      ]
     },
     "metadata": {},
     "output_type": "display_data"
    },
    {
     "data": {
      "application/vnd.jupyter.widget-view+json": {
       "model_id": "",
       "version_major": 2,
       "version_minor": 0
      },
      "text/plain": [
       "Synthetic datasets:   0%|          | 0/20 [00:00<?, ?it/s]"
      ]
     },
     "metadata": {},
     "output_type": "display_data"
    },
    {
     "data": {
      "application/vnd.jupyter.widget-view+json": {
       "model_id": "",
       "version_major": 2,
       "version_minor": 0
      },
      "text/plain": [
       "Models:   0%|          | 0/13 [00:00<?, ?it/s]"
      ]
     },
     "metadata": {},
     "output_type": "display_data"
    },
    {
     "data": {
      "application/vnd.jupyter.widget-view+json": {
       "model_id": "",
       "version_major": 2,
       "version_minor": 0
      },
      "text/plain": [
       "Models:   0%|          | 0/13 [00:00<?, ?it/s]"
      ]
     },
     "metadata": {},
     "output_type": "display_data"
    },
    {
     "data": {
      "application/vnd.jupyter.widget-view+json": {
       "model_id": "",
       "version_major": 2,
       "version_minor": 0
      },
      "text/plain": [
       "Models:   0%|          | 0/13 [00:00<?, ?it/s]"
      ]
     },
     "metadata": {},
     "output_type": "display_data"
    },
    {
     "data": {
      "application/vnd.jupyter.widget-view+json": {
       "model_id": "",
       "version_major": 2,
       "version_minor": 0
      },
      "text/plain": [
       "Models:   0%|          | 0/13 [00:00<?, ?it/s]"
      ]
     },
     "metadata": {},
     "output_type": "display_data"
    },
    {
     "data": {
      "application/vnd.jupyter.widget-view+json": {
       "model_id": "",
       "version_major": 2,
       "version_minor": 0
      },
      "text/plain": [
       "Models:   0%|          | 0/13 [00:00<?, ?it/s]"
      ]
     },
     "metadata": {},
     "output_type": "display_data"
    },
    {
     "data": {
      "application/vnd.jupyter.widget-view+json": {
       "model_id": "",
       "version_major": 2,
       "version_minor": 0
      },
      "text/plain": [
       "Models:   0%|          | 0/13 [00:00<?, ?it/s]"
      ]
     },
     "metadata": {},
     "output_type": "display_data"
    },
    {
     "data": {
      "application/vnd.jupyter.widget-view+json": {
       "model_id": "",
       "version_major": 2,
       "version_minor": 0
      },
      "text/plain": [
       "Models:   0%|          | 0/13 [00:00<?, ?it/s]"
      ]
     },
     "metadata": {},
     "output_type": "display_data"
    },
    {
     "data": {
      "application/vnd.jupyter.widget-view+json": {
       "model_id": "",
       "version_major": 2,
       "version_minor": 0
      },
      "text/plain": [
       "Models:   0%|          | 0/13 [00:00<?, ?it/s]"
      ]
     },
     "metadata": {},
     "output_type": "display_data"
    },
    {
     "data": {
      "application/vnd.jupyter.widget-view+json": {
       "model_id": "",
       "version_major": 2,
       "version_minor": 0
      },
      "text/plain": [
       "Models:   0%|          | 0/13 [00:00<?, ?it/s]"
      ]
     },
     "metadata": {},
     "output_type": "display_data"
    },
    {
     "data": {
      "application/vnd.jupyter.widget-view+json": {
       "model_id": "",
       "version_major": 2,
       "version_minor": 0
      },
      "text/plain": [
       "Models:   0%|          | 0/13 [00:00<?, ?it/s]"
      ]
     },
     "metadata": {},
     "output_type": "display_data"
    },
    {
     "data": {
      "application/vnd.jupyter.widget-view+json": {
       "model_id": "",
       "version_major": 2,
       "version_minor": 0
      },
      "text/plain": [
       "Models:   0%|          | 0/13 [00:00<?, ?it/s]"
      ]
     },
     "metadata": {},
     "output_type": "display_data"
    },
    {
     "data": {
      "application/vnd.jupyter.widget-view+json": {
       "model_id": "",
       "version_major": 2,
       "version_minor": 0
      },
      "text/plain": [
       "Models:   0%|          | 0/13 [00:00<?, ?it/s]"
      ]
     },
     "metadata": {},
     "output_type": "display_data"
    },
    {
     "data": {
      "application/vnd.jupyter.widget-view+json": {
       "model_id": "",
       "version_major": 2,
       "version_minor": 0
      },
      "text/plain": [
       "Models:   0%|          | 0/13 [00:00<?, ?it/s]"
      ]
     },
     "metadata": {},
     "output_type": "display_data"
    },
    {
     "data": {
      "application/vnd.jupyter.widget-view+json": {
       "model_id": "",
       "version_major": 2,
       "version_minor": 0
      },
      "text/plain": [
       "Models:   0%|          | 0/13 [00:00<?, ?it/s]"
      ]
     },
     "metadata": {},
     "output_type": "display_data"
    },
    {
     "data": {
      "application/vnd.jupyter.widget-view+json": {
       "model_id": "",
       "version_major": 2,
       "version_minor": 0
      },
      "text/plain": [
       "Models:   0%|          | 0/13 [00:00<?, ?it/s]"
      ]
     },
     "metadata": {},
     "output_type": "display_data"
    },
    {
     "data": {
      "application/vnd.jupyter.widget-view+json": {
       "model_id": "",
       "version_major": 2,
       "version_minor": 0
      },
      "text/plain": [
       "Models:   0%|          | 0/13 [00:00<?, ?it/s]"
      ]
     },
     "metadata": {},
     "output_type": "display_data"
    },
    {
     "name": "stdout",
     "output_type": "stream",
     "text": [
      "Model CTGAN-pac1 only has 15 synthetic datasets for dataset task creditcard_edited\n",
      "Model CTGAN-pac10 only has 15 synthetic datasets for dataset task creditcard_edited\n",
      "Model CTGANSynthesizer-pac1 only has 15 synthetic datasets for dataset task creditcard_edited\n",
      "Model CTGANSynthesizer-pac10 only has 15 synthetic datasets for dataset task creditcard_edited\n",
      "Model tabFairGAN only has 15 synthetic datasets for dataset task creditcard_edited\n",
      "Model CopulaGAN only has 15 synthetic datasets for dataset task creditcard_edited\n"
     ]
    },
    {
     "data": {
      "application/vnd.jupyter.widget-view+json": {
       "model_id": "",
       "version_major": 2,
       "version_minor": 0
      },
      "text/plain": [
       "Models:   0%|          | 0/13 [00:00<?, ?it/s]"
      ]
     },
     "metadata": {},
     "output_type": "display_data"
    },
    {
     "data": {
      "application/vnd.jupyter.widget-view+json": {
       "model_id": "",
       "version_major": 2,
       "version_minor": 0
      },
      "text/plain": [
       "Models:   0%|          | 0/13 [00:00<?, ?it/s]"
      ]
     },
     "metadata": {},
     "output_type": "display_data"
    },
    {
     "data": {
      "application/vnd.jupyter.widget-view+json": {
       "model_id": "",
       "version_major": 2,
       "version_minor": 0
      },
      "text/plain": [
       "Models:   0%|          | 0/13 [00:00<?, ?it/s]"
      ]
     },
     "metadata": {},
     "output_type": "display_data"
    },
    {
     "data": {
      "application/vnd.jupyter.widget-view+json": {
       "model_id": "",
       "version_major": 2,
       "version_minor": 0
      },
      "text/plain": [
       "Models:   0%|          | 0/13 [00:00<?, ?it/s]"
      ]
     },
     "metadata": {},
     "output_type": "display_data"
    },
    {
     "data": {
      "application/vnd.jupyter.widget-view+json": {
       "model_id": "",
       "version_major": 2,
       "version_minor": 0
      },
      "text/plain": [
       "Synthetic datasets:   0%|          | 0/25 [00:00<?, ?it/s]"
      ]
     },
     "metadata": {},
     "output_type": "display_data"
    },
    {
     "data": {
      "application/vnd.jupyter.widget-view+json": {
       "model_id": "",
       "version_major": 2,
       "version_minor": 0
      },
      "text/plain": [
       "Models:   0%|          | 0/13 [00:00<?, ?it/s]"
      ]
     },
     "metadata": {},
     "output_type": "display_data"
    },
    {
     "data": {
      "application/vnd.jupyter.widget-view+json": {
       "model_id": "",
       "version_major": 2,
       "version_minor": 0
      },
      "text/plain": [
       "Models:   0%|          | 0/13 [00:00<?, ?it/s]"
      ]
     },
     "metadata": {},
     "output_type": "display_data"
    },
    {
     "data": {
      "application/vnd.jupyter.widget-view+json": {
       "model_id": "",
       "version_major": 2,
       "version_minor": 0
      },
      "text/plain": [
       "Models:   0%|          | 0/13 [00:00<?, ?it/s]"
      ]
     },
     "metadata": {},
     "output_type": "display_data"
    },
    {
     "data": {
      "application/vnd.jupyter.widget-view+json": {
       "model_id": "",
       "version_major": 2,
       "version_minor": 0
      },
      "text/plain": [
       "Models:   0%|          | 0/13 [00:00<?, ?it/s]"
      ]
     },
     "metadata": {},
     "output_type": "display_data"
    },
    {
     "data": {
      "application/vnd.jupyter.widget-view+json": {
       "model_id": "1281a52c55aa423888c75853709106c0",
       "version_major": 2,
       "version_minor": 0
      },
      "text/plain": [
       "Models:   0%|          | 0/13 [00:00<?, ?it/s]"
      ]
     },
     "metadata": {},
     "output_type": "display_data"
    },
    {
     "data": {
      "application/vnd.jupyter.widget-view+json": {
       "model_id": "",
       "version_major": 2,
       "version_minor": 0
      },
      "text/plain": [
       "Models:   0%|          | 0/13 [00:00<?, ?it/s]"
      ]
     },
     "metadata": {},
     "output_type": "display_data"
    },
    {
     "data": {
      "application/vnd.jupyter.widget-view+json": {
       "model_id": "",
       "version_major": 2,
       "version_minor": 0
      },
      "text/plain": [
       "Models:   0%|          | 0/13 [00:00<?, ?it/s]"
      ]
     },
     "metadata": {},
     "output_type": "display_data"
    },
    {
     "data": {
      "application/vnd.jupyter.widget-view+json": {
       "model_id": "",
       "version_major": 2,
       "version_minor": 0
      },
      "text/plain": [
       "Models:   0%|          | 0/13 [00:00<?, ?it/s]"
      ]
     },
     "metadata": {},
     "output_type": "display_data"
    },
    {
     "data": {
      "application/vnd.jupyter.widget-view+json": {
       "model_id": "",
       "version_major": 2,
       "version_minor": 0
      },
      "text/plain": [
       "Models:   0%|          | 0/13 [00:00<?, ?it/s]"
      ]
     },
     "metadata": {},
     "output_type": "display_data"
    },
    {
     "data": {
      "application/vnd.jupyter.widget-view+json": {
       "model_id": "",
       "version_major": 2,
       "version_minor": 0
      },
      "text/plain": [
       "Models:   0%|          | 0/13 [00:00<?, ?it/s]"
      ]
     },
     "metadata": {},
     "output_type": "display_data"
    },
    {
     "data": {
      "application/vnd.jupyter.widget-view+json": {
       "model_id": "",
       "version_major": 2,
       "version_minor": 0
      },
      "text/plain": [
       "Models:   0%|          | 0/13 [00:00<?, ?it/s]"
      ]
     },
     "metadata": {},
     "output_type": "display_data"
    },
    {
     "data": {
      "application/vnd.jupyter.widget-view+json": {
       "model_id": "",
       "version_major": 2,
       "version_minor": 0
      },
      "text/plain": [
       "Models:   0%|          | 0/13 [00:00<?, ?it/s]"
      ]
     },
     "metadata": {},
     "output_type": "display_data"
    },
    {
     "data": {
      "application/vnd.jupyter.widget-view+json": {
       "model_id": "",
       "version_major": 2,
       "version_minor": 0
      },
      "text/plain": [
       "Models:   0%|          | 0/13 [00:00<?, ?it/s]"
      ]
     },
     "metadata": {},
     "output_type": "display_data"
    },
    {
     "data": {
      "application/vnd.jupyter.widget-view+json": {
       "model_id": "",
       "version_major": 2,
       "version_minor": 0
      },
      "text/plain": [
       "Models:   0%|          | 0/13 [00:00<?, ?it/s]"
      ]
     },
     "metadata": {},
     "output_type": "display_data"
    },
    {
     "data": {
      "application/vnd.jupyter.widget-view+json": {
       "model_id": "",
       "version_major": 2,
       "version_minor": 0
      },
      "text/plain": [
       "Models:   0%|          | 0/13 [00:00<?, ?it/s]"
      ]
     },
     "metadata": {},
     "output_type": "display_data"
    },
    {
     "data": {
      "application/vnd.jupyter.widget-view+json": {
       "model_id": "",
       "version_major": 2,
       "version_minor": 0
      },
      "text/plain": [
       "Models:   0%|          | 0/13 [00:00<?, ?it/s]"
      ]
     },
     "metadata": {},
     "output_type": "display_data"
    },
    {
     "data": {
      "application/vnd.jupyter.widget-view+json": {
       "model_id": "",
       "version_major": 2,
       "version_minor": 0
      },
      "text/plain": [
       "Models:   0%|          | 0/13 [00:00<?, ?it/s]"
      ]
     },
     "metadata": {},
     "output_type": "display_data"
    },
    {
     "data": {
      "application/vnd.jupyter.widget-view+json": {
       "model_id": "",
       "version_major": 2,
       "version_minor": 0
      },
      "text/plain": [
       "Models:   0%|          | 0/13 [00:00<?, ?it/s]"
      ]
     },
     "metadata": {},
     "output_type": "display_data"
    },
    {
     "data": {
      "application/vnd.jupyter.widget-view+json": {
       "model_id": "",
       "version_major": 2,
       "version_minor": 0
      },
      "text/plain": [
       "Models:   0%|          | 0/13 [00:00<?, ?it/s]"
      ]
     },
     "metadata": {},
     "output_type": "display_data"
    }
   ],
   "source": [
    "comparison_output, df_count_nan = helpers.comparison.eval_ml_efficacy(\n",
    "    [\"TVAE\", \"TVAE-mod\", \"TVAESynthesizer\", \"TVAESynthesizer-mod\", \"CTGAN-pac1\", \"CTGAN-pac10\",\n",
    "     \"CTGANSynthesizer-pac1\", \"CTGANSynthesizer-pac10\",\"GaussianCopula\", \"tabFairGAN\", \"tabFairGAN-mod\", \"CopulaGAN\"],\n",
    "    datasets=[\"covtype_edited\", \"creditcard_edited\", \"news_edited\"],\n",
    "    n_synthetic_datasets=20,\n",
    "    n_synthetic_datasets_dict={\"news_edited\": 25},\n",
    "    metric_evals=[\"Mean\", \"Median\", \"Percentile5\", \"Percentile95\"],\n",
    "    allow_fewer_synthetic_datasets=True,\n",
    "    ignore_nan=True,\n",
    "    ret_count_nan=True\n",
    ")"
   ]
  },
  {
   "cell_type": "code",
   "execution_count": 50,
   "id": "a7a845eb",
   "metadata": {
    "scrolled": false
   },
   "outputs": [
    {
     "data": {
      "text/html": [
       "<div>\n",
       "<style scoped>\n",
       "    .dataframe tbody tr th:only-of-type {\n",
       "        vertical-align: middle;\n",
       "    }\n",
       "\n",
       "    .dataframe tbody tr th {\n",
       "        vertical-align: top;\n",
       "    }\n",
       "\n",
       "    .dataframe thead th {\n",
       "        text-align: right;\n",
       "    }\n",
       "</style>\n",
       "<table border=\"1\" class=\"dataframe\">\n",
       "  <thead>\n",
       "    <tr style=\"text-align: right;\">\n",
       "      <th></th>\n",
       "      <th>Models</th>\n",
       "      <th>covtype_edited</th>\n",
       "      <th>creditcard_edited</th>\n",
       "      <th>news_edited</th>\n",
       "    </tr>\n",
       "  </thead>\n",
       "  <tbody>\n",
       "    <tr>\n",
       "      <th>0</th>\n",
       "      <td>Train dataset</td>\n",
       "      <td>0.0</td>\n",
       "      <td>0.0</td>\n",
       "      <td>0.0</td>\n",
       "    </tr>\n",
       "    <tr>\n",
       "      <th>1</th>\n",
       "      <td>tabFairGAN</td>\n",
       "      <td>0.0</td>\n",
       "      <td>0.0</td>\n",
       "      <td>0.0</td>\n",
       "    </tr>\n",
       "    <tr>\n",
       "      <th>2</th>\n",
       "      <td>tabFairGAN-mod</td>\n",
       "      <td>0.0</td>\n",
       "      <td>6.0</td>\n",
       "      <td>2.0</td>\n",
       "    </tr>\n",
       "    <tr>\n",
       "      <th>3</th>\n",
       "      <td>tabFairGAN-mod2</td>\n",
       "      <td>0.0</td>\n",
       "      <td>10.0</td>\n",
       "      <td>2.0</td>\n",
       "    </tr>\n",
       "  </tbody>\n",
       "</table>\n",
       "</div>"
      ],
      "text/plain": [
       "            Models  covtype_edited  creditcard_edited  news_edited\n",
       "0    Train dataset             0.0                0.0          0.0\n",
       "1       tabFairGAN             0.0                0.0          0.0\n",
       "2   tabFairGAN-mod             0.0                6.0          2.0\n",
       "3  tabFairGAN-mod2             0.0               10.0          2.0"
      ]
     },
     "execution_count": 50,
     "metadata": {},
     "output_type": "execute_result"
    }
   ],
   "source": [
    "df_count_nan"
   ]
  },
  {
   "cell_type": "code",
   "execution_count": 38,
   "id": "258a069d",
   "metadata": {},
   "outputs": [
    {
     "data": {
      "text/html": [
       "<div>\n",
       "<style scoped>\n",
       "    .dataframe tbody tr th:only-of-type {\n",
       "        vertical-align: middle;\n",
       "    }\n",
       "\n",
       "    .dataframe tbody tr th {\n",
       "        vertical-align: top;\n",
       "    }\n",
       "\n",
       "    .dataframe thead tr th {\n",
       "        text-align: left;\n",
       "    }\n",
       "</style>\n",
       "<table border=\"1\" class=\"dataframe\">\n",
       "  <thead>\n",
       "    <tr>\n",
       "      <th></th>\n",
       "      <th></th>\n",
       "      <th colspan=\"2\" halign=\"left\">Covtype</th>\n",
       "      <th colspan=\"3\" halign=\"left\">Creditcard</th>\n",
       "      <th colspan=\"3\" halign=\"left\">News</th>\n",
       "    </tr>\n",
       "    <tr>\n",
       "      <th></th>\n",
       "      <th>Model</th>\n",
       "      <th>Test Accuracy</th>\n",
       "      <th>Test F1</th>\n",
       "      <th>Test Accuracy</th>\n",
       "      <th>Test AUPRC</th>\n",
       "      <th>Test F1</th>\n",
       "      <th>Test Accuracy</th>\n",
       "      <th>Test AUC</th>\n",
       "      <th>Test F1</th>\n",
       "    </tr>\n",
       "  </thead>\n",
       "  <tbody>\n",
       "    <tr>\n",
       "      <th>0</th>\n",
       "      <td>Train dataset</td>\n",
       "      <td>0.87 (0.868, 0.872)</td>\n",
       "      <td>0.867 (0.865, 0.869)</td>\n",
       "      <td>1.0 (0.999, 1.0)</td>\n",
       "      <td>0.87 (0.841, 0.892)</td>\n",
       "      <td>0.93 (0.917, 0.943)</td>\n",
       "      <td>0.657 (0.65, 0.661)</td>\n",
       "      <td>0.715 (0.709, 0.722)</td>\n",
       "      <td>0.657 (0.65, 0.661)</td>\n",
       "    </tr>\n",
       "    <tr>\n",
       "      <th>1</th>\n",
       "      <td>TVAE</td>\n",
       "      <td>0.718 (0.706, 0.728)</td>\n",
       "      <td>0.74 (0.728, 0.748)</td>\n",
       "      <td>0.998 (0.998, 0.999)</td>\n",
       "      <td>0.501 (0.477, 0.704)</td>\n",
       "      <td>0.5 (0.5, 0.829)</td>\n",
       "      <td>0.576 (0.55, 0.596)</td>\n",
       "      <td>0.639 (0.61, 0.658)</td>\n",
       "      <td>0.516 (0.462, 0.567)</td>\n",
       "    </tr>\n",
       "    <tr>\n",
       "      <th>2</th>\n",
       "      <td>TVAE-mod</td>\n",
       "      <td>0.734 (0.72, 0.742)</td>\n",
       "      <td>0.753 (0.743, 0.761)</td>\n",
       "      <td>0.998 (0.998, 0.999)</td>\n",
       "      <td>0.501 (0.356, 0.708)</td>\n",
       "      <td>0.534 (0.5, 0.84)</td>\n",
       "      <td>0.575 (0.557, 0.598)</td>\n",
       "      <td>0.645 (0.631, 0.662)</td>\n",
       "      <td>0.508 (0.471, 0.565)</td>\n",
       "    </tr>\n",
       "    <tr>\n",
       "      <th>3</th>\n",
       "      <td>TVAESynthesizer</td>\n",
       "      <td>0.716 (0.705, 0.732)</td>\n",
       "      <td>0.736 (0.716, 0.748)</td>\n",
       "      <td>0.998 (0.998, 0.999)</td>\n",
       "      <td>0.501 (0.252, 0.723)</td>\n",
       "      <td>0.56 (0.5, 0.849)</td>\n",
       "      <td>0.576 (0.55, 0.59)</td>\n",
       "      <td>0.635 (0.619, 0.657)</td>\n",
       "      <td>0.521 (0.46, 0.558)</td>\n",
       "    </tr>\n",
       "    <tr>\n",
       "      <th>4</th>\n",
       "      <td>TVAESynthesizer-mod</td>\n",
       "      <td>0.737 (0.732, 0.744)</td>\n",
       "      <td>0.757 (0.751, 0.762)</td>\n",
       "      <td>0.998 (0.998, 0.998)</td>\n",
       "      <td>0.501 (0.255, 0.514)</td>\n",
       "      <td>0.5 (0.5, 0.578)</td>\n",
       "      <td>0.576 (0.557, 0.599)</td>\n",
       "      <td>0.649 (0.629, 0.667)</td>\n",
       "      <td>0.524 (0.474, 0.561)</td>\n",
       "    </tr>\n",
       "    <tr>\n",
       "      <th>5</th>\n",
       "      <td>CTGAN-pac1</td>\n",
       "      <td>0.669 (0.656, 0.683)</td>\n",
       "      <td>0.706 (0.694, 0.717)</td>\n",
       "      <td>0.999 (0.999, 0.999)</td>\n",
       "      <td>0.745 (0.701, 0.794)</td>\n",
       "      <td>0.87 (0.847, 0.897)</td>\n",
       "      <td>0.602 (0.579, 0.617)</td>\n",
       "      <td>0.651 (0.637, 0.665)</td>\n",
       "      <td>0.6 (0.568, 0.615)</td>\n",
       "    </tr>\n",
       "    <tr>\n",
       "      <th>6</th>\n",
       "      <td>CTGAN-pac10</td>\n",
       "      <td>0.633 (0.624, 0.639)</td>\n",
       "      <td>0.681 (0.665, 0.687)</td>\n",
       "      <td>0.999 (0.999, 0.999)</td>\n",
       "      <td>0.745 (0.698, 0.792)</td>\n",
       "      <td>0.862 (0.833, 0.892)</td>\n",
       "      <td>0.603 (0.572, 0.616)</td>\n",
       "      <td>0.645 (0.632, 0.653)</td>\n",
       "      <td>0.6 (0.55, 0.615)</td>\n",
       "    </tr>\n",
       "    <tr>\n",
       "      <th>7</th>\n",
       "      <td>CTGANSynthesizer-pac1</td>\n",
       "      <td>0.663 (0.649, 0.676)</td>\n",
       "      <td>0.701 (0.684, 0.71)</td>\n",
       "      <td>0.94 (0.93, 0.965)</td>\n",
       "      <td>0.471 (0.459, 0.488)</td>\n",
       "      <td>0.51 (0.504, 0.534)</td>\n",
       "      <td>0.606 (0.581, 0.621)</td>\n",
       "      <td>0.655 (0.642, 0.667)</td>\n",
       "      <td>0.6 (0.546, 0.619)</td>\n",
       "    </tr>\n",
       "    <tr>\n",
       "      <th>8</th>\n",
       "      <td>CTGANSynthesizer-pac10</td>\n",
       "      <td>0.631 (0.626, 0.642)</td>\n",
       "      <td>0.677 (0.671, 0.689)</td>\n",
       "      <td>0.917 (0.901, 0.936)</td>\n",
       "      <td>0.47 (0.455, 0.483)</td>\n",
       "      <td>0.497 (0.491, 0.507)</td>\n",
       "      <td>0.606 (0.587, 0.614)</td>\n",
       "      <td>0.648 (0.632, 0.661)</td>\n",
       "      <td>0.604 (0.573, 0.613)</td>\n",
       "    </tr>\n",
       "    <tr>\n",
       "      <th>9</th>\n",
       "      <td>GaussianCopula</td>\n",
       "      <td>0.513 (0.509, 0.633)</td>\n",
       "      <td>0.337 (0.336, 0.647)</td>\n",
       "      <td>0.999 (0.999, 0.999)</td>\n",
       "      <td>0.787 (0.783, 0.791)</td>\n",
       "      <td>0.893 (0.891, 0.895)</td>\n",
       "      <td>0.585 (0.572, 0.601)</td>\n",
       "      <td>0.619 (0.602, 0.634)</td>\n",
       "      <td>0.582 (0.561, 0.597)</td>\n",
       "    </tr>\n",
       "    <tr>\n",
       "      <th>10</th>\n",
       "      <td>tabFairGAN</td>\n",
       "      <td>0.717 (0.709, 0.723)</td>\n",
       "      <td>0.737 (0.727, 0.743)</td>\n",
       "      <td>0.998 (0.998, 0.998)</td>\n",
       "      <td>0.501 (0.001, 0.501)</td>\n",
       "      <td>0.5 (0.5, 0.513)</td>\n",
       "      <td>0.592 (0.581, 0.613)</td>\n",
       "      <td>0.63 (0.613, 0.65)</td>\n",
       "      <td>0.591 (0.577, 0.609)</td>\n",
       "    </tr>\n",
       "    <tr>\n",
       "      <th>11</th>\n",
       "      <td>tabFairGAN-mod</td>\n",
       "      <td>0.574 (0.47, 0.641)</td>\n",
       "      <td>0.615 (0.496, 0.687)</td>\n",
       "      <td>0.998 (0.998, 0.998)</td>\n",
       "      <td>0.501 (0.501, 0.501)</td>\n",
       "      <td>0.5 (0.5, 0.5)</td>\n",
       "      <td>0.531 (0.509, 0.593)</td>\n",
       "      <td>0.572 (0.514, 0.629)</td>\n",
       "      <td>0.508 (0.355, 0.592)</td>\n",
       "    </tr>\n",
       "    <tr>\n",
       "      <th>12</th>\n",
       "      <td>CopulaGAN</td>\n",
       "      <td>0.694 (0.69, 0.696)</td>\n",
       "      <td>0.721 (0.716, 0.724)</td>\n",
       "      <td>0.998 (0.997, 0.998)</td>\n",
       "      <td>0.344 (0.116, 0.471)</td>\n",
       "      <td>0.671 (0.556, 0.735)</td>\n",
       "      <td>0.605 (0.592, 0.618)</td>\n",
       "      <td>0.646 (0.632, 0.663)</td>\n",
       "      <td>0.603 (0.589, 0.618)</td>\n",
       "    </tr>\n",
       "  </tbody>\n",
       "</table>\n",
       "</div>"
      ],
      "text/plain": [
       "                                         Covtype                        \\\n",
       "                     Model         Test Accuracy               Test F1   \n",
       "0            Train dataset   0.87 (0.868, 0.872)  0.867 (0.865, 0.869)   \n",
       "1                     TVAE  0.718 (0.706, 0.728)   0.74 (0.728, 0.748)   \n",
       "2                 TVAE-mod   0.734 (0.72, 0.742)  0.753 (0.743, 0.761)   \n",
       "3          TVAESynthesizer  0.716 (0.705, 0.732)  0.736 (0.716, 0.748)   \n",
       "4      TVAESynthesizer-mod  0.737 (0.732, 0.744)  0.757 (0.751, 0.762)   \n",
       "5               CTGAN-pac1  0.669 (0.656, 0.683)  0.706 (0.694, 0.717)   \n",
       "6              CTGAN-pac10  0.633 (0.624, 0.639)  0.681 (0.665, 0.687)   \n",
       "7    CTGANSynthesizer-pac1  0.663 (0.649, 0.676)   0.701 (0.684, 0.71)   \n",
       "8   CTGANSynthesizer-pac10  0.631 (0.626, 0.642)  0.677 (0.671, 0.689)   \n",
       "9           GaussianCopula  0.513 (0.509, 0.633)  0.337 (0.336, 0.647)   \n",
       "10              tabFairGAN  0.717 (0.709, 0.723)  0.737 (0.727, 0.743)   \n",
       "11          tabFairGAN-mod   0.574 (0.47, 0.641)  0.615 (0.496, 0.687)   \n",
       "12               CopulaGAN   0.694 (0.69, 0.696)  0.721 (0.716, 0.724)   \n",
       "\n",
       "              Creditcard                                              \\\n",
       "           Test Accuracy            Test AUPRC               Test F1   \n",
       "0       1.0 (0.999, 1.0)   0.87 (0.841, 0.892)   0.93 (0.917, 0.943)   \n",
       "1   0.998 (0.998, 0.999)  0.501 (0.477, 0.704)      0.5 (0.5, 0.829)   \n",
       "2   0.998 (0.998, 0.999)  0.501 (0.356, 0.708)     0.534 (0.5, 0.84)   \n",
       "3   0.998 (0.998, 0.999)  0.501 (0.252, 0.723)     0.56 (0.5, 0.849)   \n",
       "4   0.998 (0.998, 0.998)  0.501 (0.255, 0.514)      0.5 (0.5, 0.578)   \n",
       "5   0.999 (0.999, 0.999)  0.745 (0.701, 0.794)   0.87 (0.847, 0.897)   \n",
       "6   0.999 (0.999, 0.999)  0.745 (0.698, 0.792)  0.862 (0.833, 0.892)   \n",
       "7     0.94 (0.93, 0.965)  0.471 (0.459, 0.488)   0.51 (0.504, 0.534)   \n",
       "8   0.917 (0.901, 0.936)   0.47 (0.455, 0.483)  0.497 (0.491, 0.507)   \n",
       "9   0.999 (0.999, 0.999)  0.787 (0.783, 0.791)  0.893 (0.891, 0.895)   \n",
       "10  0.998 (0.998, 0.998)  0.501 (0.001, 0.501)      0.5 (0.5, 0.513)   \n",
       "11  0.998 (0.998, 0.998)  0.501 (0.501, 0.501)        0.5 (0.5, 0.5)   \n",
       "12  0.998 (0.997, 0.998)  0.344 (0.116, 0.471)  0.671 (0.556, 0.735)   \n",
       "\n",
       "                    News                                              \n",
       "           Test Accuracy              Test AUC               Test F1  \n",
       "0    0.657 (0.65, 0.661)  0.715 (0.709, 0.722)   0.657 (0.65, 0.661)  \n",
       "1    0.576 (0.55, 0.596)   0.639 (0.61, 0.658)  0.516 (0.462, 0.567)  \n",
       "2   0.575 (0.557, 0.598)  0.645 (0.631, 0.662)  0.508 (0.471, 0.565)  \n",
       "3     0.576 (0.55, 0.59)  0.635 (0.619, 0.657)   0.521 (0.46, 0.558)  \n",
       "4   0.576 (0.557, 0.599)  0.649 (0.629, 0.667)  0.524 (0.474, 0.561)  \n",
       "5   0.602 (0.579, 0.617)  0.651 (0.637, 0.665)    0.6 (0.568, 0.615)  \n",
       "6   0.603 (0.572, 0.616)  0.645 (0.632, 0.653)     0.6 (0.55, 0.615)  \n",
       "7   0.606 (0.581, 0.621)  0.655 (0.642, 0.667)    0.6 (0.546, 0.619)  \n",
       "8   0.606 (0.587, 0.614)  0.648 (0.632, 0.661)  0.604 (0.573, 0.613)  \n",
       "9   0.585 (0.572, 0.601)  0.619 (0.602, 0.634)  0.582 (0.561, 0.597)  \n",
       "10  0.592 (0.581, 0.613)    0.63 (0.613, 0.65)  0.591 (0.577, 0.609)  \n",
       "11  0.531 (0.509, 0.593)  0.572 (0.514, 0.629)  0.508 (0.355, 0.592)  \n",
       "12  0.605 (0.592, 0.618)  0.646 (0.632, 0.663)  0.603 (0.589, 0.618)  "
      ]
     },
     "execution_count": 38,
     "metadata": {},
     "output_type": "execute_result"
    }
   ],
   "source": [
    "comparison_output_tidy = helpers.comparison.tidy_ml_efficacy_output(comparison_output, extract_median_and_percentile=True)\n",
    "comparison_output_tidy"
   ]
  },
  {
   "cell_type": "code",
   "execution_count": 35,
   "id": "e8fae70e",
   "metadata": {},
   "outputs": [
    {
     "data": {
      "text/html": [
       "<div>\n",
       "<style scoped>\n",
       "    .dataframe tbody tr th:only-of-type {\n",
       "        vertical-align: middle;\n",
       "    }\n",
       "\n",
       "    .dataframe tbody tr th {\n",
       "        vertical-align: top;\n",
       "    }\n",
       "\n",
       "    .dataframe thead tr th {\n",
       "        text-align: left;\n",
       "    }\n",
       "</style>\n",
       "<table border=\"1\" class=\"dataframe\">\n",
       "  <thead>\n",
       "    <tr>\n",
       "      <th></th>\n",
       "      <th></th>\n",
       "      <th colspan=\"2\" halign=\"left\">Covtype</th>\n",
       "      <th colspan=\"3\" halign=\"left\">Creditcard</th>\n",
       "      <th colspan=\"3\" halign=\"left\">News</th>\n",
       "    </tr>\n",
       "    <tr>\n",
       "      <th></th>\n",
       "      <th>Model</th>\n",
       "      <th>Test Accuracy</th>\n",
       "      <th>Test F1</th>\n",
       "      <th>Test Accuracy</th>\n",
       "      <th>Test AUPRC</th>\n",
       "      <th>Test F1</th>\n",
       "      <th>Test Accuracy</th>\n",
       "      <th>Test AUC</th>\n",
       "      <th>Test F1</th>\n",
       "    </tr>\n",
       "  </thead>\n",
       "  <tbody>\n",
       "    <tr>\n",
       "      <th>0</th>\n",
       "      <td>Train dataset</td>\n",
       "      <td>0.87 (0.868, 0.872)</td>\n",
       "      <td>0.867 (0.865, 0.869)</td>\n",
       "      <td>1.0 (0.999, 1.0)</td>\n",
       "      <td>0.87 (0.841, 0.892)</td>\n",
       "      <td>0.93 (0.917, 0.943)</td>\n",
       "      <td>0.788 (0.783, 0.793)</td>\n",
       "      <td>0.691 (0.683, 0.697)</td>\n",
       "      <td>0.552 (0.544, 0.557)</td>\n",
       "    </tr>\n",
       "    <tr>\n",
       "      <th>1</th>\n",
       "      <td>TVAE</td>\n",
       "      <td>0.718 (0.706, 0.728)</td>\n",
       "      <td>0.74 (0.728, 0.748)</td>\n",
       "      <td>0.998 (0.998, 0.999)</td>\n",
       "      <td>0.501 (0.477, 0.704)</td>\n",
       "      <td>0.5 (0.5, 0.829)</td>\n",
       "      <td>0.797 (0.791, 0.801)</td>\n",
       "      <td>0.649 (0.623, 0.66)</td>\n",
       "      <td>0.451 (0.446, 0.467)</td>\n",
       "    </tr>\n",
       "    <tr>\n",
       "      <th>2</th>\n",
       "      <td>TVAE-mod</td>\n",
       "      <td>0.734 (0.72, 0.742)</td>\n",
       "      <td>0.753 (0.743, 0.761)</td>\n",
       "      <td>0.998 (0.998, 0.999)</td>\n",
       "      <td>0.501 (0.356, 0.708)</td>\n",
       "      <td>0.534 (0.5, 0.84)</td>\n",
       "      <td>0.797 (0.791, 0.802)</td>\n",
       "      <td>0.649 (0.626, 0.666)</td>\n",
       "      <td>0.45 (0.445, 0.468)</td>\n",
       "    </tr>\n",
       "    <tr>\n",
       "      <th>3</th>\n",
       "      <td>TVAESynthesizer</td>\n",
       "      <td>0.716 (0.705, 0.732)</td>\n",
       "      <td>0.736 (0.716, 0.748)</td>\n",
       "      <td>0.998 (0.998, 0.999)</td>\n",
       "      <td>0.501 (0.252, 0.723)</td>\n",
       "      <td>0.56 (0.5, 0.849)</td>\n",
       "      <td>0.797 (0.791, 0.802)</td>\n",
       "      <td>0.642 (0.631, 0.661)</td>\n",
       "      <td>0.448 (0.445, 0.47)</td>\n",
       "    </tr>\n",
       "    <tr>\n",
       "      <th>4</th>\n",
       "      <td>TVAESynthesizer-mod</td>\n",
       "      <td>0.737 (0.732, 0.744)</td>\n",
       "      <td>0.757 (0.751, 0.762)</td>\n",
       "      <td>0.998 (0.998, 0.998)</td>\n",
       "      <td>0.501 (0.255, 0.514)</td>\n",
       "      <td>0.5 (0.5, 0.578)</td>\n",
       "      <td>0.797 (0.791, 0.801)</td>\n",
       "      <td>0.652 (0.634, 0.667)</td>\n",
       "      <td>0.453 (0.446, 0.472)</td>\n",
       "    </tr>\n",
       "    <tr>\n",
       "      <th>5</th>\n",
       "      <td>CTGAN-pac1</td>\n",
       "      <td>0.669 (0.656, 0.683)</td>\n",
       "      <td>0.706 (0.694, 0.717)</td>\n",
       "      <td>0.999 (0.999, 0.999)</td>\n",
       "      <td>0.745 (0.701, 0.794)</td>\n",
       "      <td>0.87 (0.847, 0.897)</td>\n",
       "      <td>0.779 (0.76, 0.792)</td>\n",
       "      <td>0.644 (0.632, 0.657)</td>\n",
       "      <td>0.526 (0.49, 0.561)</td>\n",
       "    </tr>\n",
       "    <tr>\n",
       "      <th>6</th>\n",
       "      <td>CTGAN-pac10</td>\n",
       "      <td>0.633 (0.624, 0.639)</td>\n",
       "      <td>0.681 (0.665, 0.687)</td>\n",
       "      <td>0.999 (0.999, 0.999)</td>\n",
       "      <td>0.745 (0.698, 0.792)</td>\n",
       "      <td>0.862 (0.833, 0.892)</td>\n",
       "      <td>0.777 (0.763, 0.789)</td>\n",
       "      <td>0.64 (0.627, 0.648)</td>\n",
       "      <td>0.523 (0.504, 0.554)</td>\n",
       "    </tr>\n",
       "    <tr>\n",
       "      <th>7</th>\n",
       "      <td>CTGANSynthesizer-pac1</td>\n",
       "      <td>0.663 (0.649, 0.676)</td>\n",
       "      <td>0.701 (0.684, 0.71)</td>\n",
       "      <td>0.94 (0.93, 0.965)</td>\n",
       "      <td>0.471 (0.459, 0.488)</td>\n",
       "      <td>0.51 (0.504, 0.534)</td>\n",
       "      <td>0.783 (0.758, 0.793)</td>\n",
       "      <td>0.649 (0.629, 0.66)</td>\n",
       "      <td>0.524 (0.487, 0.561)</td>\n",
       "    </tr>\n",
       "    <tr>\n",
       "      <th>8</th>\n",
       "      <td>CTGANSynthesizer-pac10</td>\n",
       "      <td>0.631 (0.626, 0.642)</td>\n",
       "      <td>0.677 (0.671, 0.689)</td>\n",
       "      <td>0.917 (0.901, 0.936)</td>\n",
       "      <td>0.47 (0.455, 0.483)</td>\n",
       "      <td>0.497 (0.491, 0.507)</td>\n",
       "      <td>0.782 (0.766, 0.789)</td>\n",
       "      <td>0.647 (0.631, 0.657)</td>\n",
       "      <td>0.529 (0.492, 0.55)</td>\n",
       "    </tr>\n",
       "    <tr>\n",
       "      <th>9</th>\n",
       "      <td>GaussianCopula</td>\n",
       "      <td>0.513 (0.509, 0.633)</td>\n",
       "      <td>0.337 (0.336, 0.647)</td>\n",
       "      <td>0.999 (0.999, 0.999)</td>\n",
       "      <td>0.787 (0.783, 0.791)</td>\n",
       "      <td>0.893 (0.891, 0.895)</td>\n",
       "      <td>0.792 (0.783, 0.798)</td>\n",
       "      <td>0.613 (0.597, 0.632)</td>\n",
       "      <td>0.475 (0.457, 0.499)</td>\n",
       "    </tr>\n",
       "    <tr>\n",
       "      <th>10</th>\n",
       "      <td>tabFairGAN</td>\n",
       "      <td>0.717 (0.709, 0.723)</td>\n",
       "      <td>0.737 (0.727, 0.743)</td>\n",
       "      <td>0.998 (0.998, 0.998)</td>\n",
       "      <td>0.501 (0.001, 0.501)</td>\n",
       "      <td>0.5 (0.5, 0.513)</td>\n",
       "      <td>0.776 (0.759, 0.784)</td>\n",
       "      <td>0.618 (0.603, 0.63)</td>\n",
       "      <td>0.522 (0.495, 0.545)</td>\n",
       "    </tr>\n",
       "    <tr>\n",
       "      <th>11</th>\n",
       "      <td>tabFairGAN-mod</td>\n",
       "      <td>0.574 (0.47, 0.641)</td>\n",
       "      <td>0.615 (0.496, 0.687)</td>\n",
       "      <td>0.998 (0.998, 0.998)</td>\n",
       "      <td>0.501 (0.501, 0.501)</td>\n",
       "      <td>0.5 (0.5, 0.5)</td>\n",
       "      <td>0.786 (0.534, 0.801)</td>\n",
       "      <td>0.58 (0.505, 0.62)</td>\n",
       "      <td>0.463 (0.444, 0.542)</td>\n",
       "    </tr>\n",
       "    <tr>\n",
       "      <th>12</th>\n",
       "      <td>CopulaGAN</td>\n",
       "      <td>0.694 (0.69, 0.696)</td>\n",
       "      <td>0.721 (0.716, 0.724)</td>\n",
       "      <td>0.998 (0.997, 0.998)</td>\n",
       "      <td>0.344 (0.116, 0.471)</td>\n",
       "      <td>0.671 (0.556, 0.735)</td>\n",
       "      <td>0.783 (0.77, 0.792)</td>\n",
       "      <td>0.631 (0.613, 0.645)</td>\n",
       "      <td>0.516 (0.48, 0.535)</td>\n",
       "    </tr>\n",
       "  </tbody>\n",
       "</table>\n",
       "</div>"
      ],
      "text/plain": [
       "                                         Covtype                        \\\n",
       "                     Model         Test Accuracy               Test F1   \n",
       "0            Train dataset   0.87 (0.868, 0.872)  0.867 (0.865, 0.869)   \n",
       "1                     TVAE  0.718 (0.706, 0.728)   0.74 (0.728, 0.748)   \n",
       "2                 TVAE-mod   0.734 (0.72, 0.742)  0.753 (0.743, 0.761)   \n",
       "3          TVAESynthesizer  0.716 (0.705, 0.732)  0.736 (0.716, 0.748)   \n",
       "4      TVAESynthesizer-mod  0.737 (0.732, 0.744)  0.757 (0.751, 0.762)   \n",
       "5               CTGAN-pac1  0.669 (0.656, 0.683)  0.706 (0.694, 0.717)   \n",
       "6              CTGAN-pac10  0.633 (0.624, 0.639)  0.681 (0.665, 0.687)   \n",
       "7    CTGANSynthesizer-pac1  0.663 (0.649, 0.676)   0.701 (0.684, 0.71)   \n",
       "8   CTGANSynthesizer-pac10  0.631 (0.626, 0.642)  0.677 (0.671, 0.689)   \n",
       "9           GaussianCopula  0.513 (0.509, 0.633)  0.337 (0.336, 0.647)   \n",
       "10              tabFairGAN  0.717 (0.709, 0.723)  0.737 (0.727, 0.743)   \n",
       "11          tabFairGAN-mod   0.574 (0.47, 0.641)  0.615 (0.496, 0.687)   \n",
       "12               CopulaGAN   0.694 (0.69, 0.696)  0.721 (0.716, 0.724)   \n",
       "\n",
       "              Creditcard                                              \\\n",
       "           Test Accuracy            Test AUPRC               Test F1   \n",
       "0       1.0 (0.999, 1.0)   0.87 (0.841, 0.892)   0.93 (0.917, 0.943)   \n",
       "1   0.998 (0.998, 0.999)  0.501 (0.477, 0.704)      0.5 (0.5, 0.829)   \n",
       "2   0.998 (0.998, 0.999)  0.501 (0.356, 0.708)     0.534 (0.5, 0.84)   \n",
       "3   0.998 (0.998, 0.999)  0.501 (0.252, 0.723)     0.56 (0.5, 0.849)   \n",
       "4   0.998 (0.998, 0.998)  0.501 (0.255, 0.514)      0.5 (0.5, 0.578)   \n",
       "5   0.999 (0.999, 0.999)  0.745 (0.701, 0.794)   0.87 (0.847, 0.897)   \n",
       "6   0.999 (0.999, 0.999)  0.745 (0.698, 0.792)  0.862 (0.833, 0.892)   \n",
       "7     0.94 (0.93, 0.965)  0.471 (0.459, 0.488)   0.51 (0.504, 0.534)   \n",
       "8   0.917 (0.901, 0.936)   0.47 (0.455, 0.483)  0.497 (0.491, 0.507)   \n",
       "9   0.999 (0.999, 0.999)  0.787 (0.783, 0.791)  0.893 (0.891, 0.895)   \n",
       "10  0.998 (0.998, 0.998)  0.501 (0.001, 0.501)      0.5 (0.5, 0.513)   \n",
       "11  0.998 (0.998, 0.998)  0.501 (0.501, 0.501)        0.5 (0.5, 0.5)   \n",
       "12  0.998 (0.997, 0.998)  0.344 (0.116, 0.471)  0.671 (0.556, 0.735)   \n",
       "\n",
       "                    News                                              \n",
       "           Test Accuracy              Test AUC               Test F1  \n",
       "0   0.788 (0.783, 0.793)  0.691 (0.683, 0.697)  0.552 (0.544, 0.557)  \n",
       "1   0.797 (0.791, 0.801)   0.649 (0.623, 0.66)  0.451 (0.446, 0.467)  \n",
       "2   0.797 (0.791, 0.802)  0.649 (0.626, 0.666)   0.45 (0.445, 0.468)  \n",
       "3   0.797 (0.791, 0.802)  0.642 (0.631, 0.661)   0.448 (0.445, 0.47)  \n",
       "4   0.797 (0.791, 0.801)  0.652 (0.634, 0.667)  0.453 (0.446, 0.472)  \n",
       "5    0.779 (0.76, 0.792)  0.644 (0.632, 0.657)   0.526 (0.49, 0.561)  \n",
       "6   0.777 (0.763, 0.789)   0.64 (0.627, 0.648)  0.523 (0.504, 0.554)  \n",
       "7   0.783 (0.758, 0.793)   0.649 (0.629, 0.66)  0.524 (0.487, 0.561)  \n",
       "8   0.782 (0.766, 0.789)  0.647 (0.631, 0.657)   0.529 (0.492, 0.55)  \n",
       "9   0.792 (0.783, 0.798)  0.613 (0.597, 0.632)  0.475 (0.457, 0.499)  \n",
       "10  0.776 (0.759, 0.784)   0.618 (0.603, 0.63)  0.522 (0.495, 0.545)  \n",
       "11  0.786 (0.534, 0.801)    0.58 (0.505, 0.62)  0.463 (0.444, 0.542)  \n",
       "12   0.783 (0.77, 0.792)  0.631 (0.613, 0.645)   0.516 (0.48, 0.535)  "
      ]
     },
     "execution_count": 35,
     "metadata": {},
     "output_type": "execute_result"
    }
   ],
   "source": [
    "comparison_output_tidy = helpers.comparison.tidy_ml_efficacy_output(comparison_output, extract_median_and_percentile=True)\n",
    "comparison_output_tidy"
   ]
  },
  {
   "cell_type": "code",
   "execution_count": 181,
   "id": "6fb2f391",
   "metadata": {},
   "outputs": [
    {
     "data": {
      "text/plain": [
       "10"
      ]
     },
     "execution_count": 181,
     "metadata": {},
     "output_type": "execute_result"
    }
   ],
   "source": [
    "import re\n",
    "int(re.search( \"pac(\\d+)\", \"CTGAN-orig-pac10\").group(0).replace(\"pac\", \"\"))"
   ]
  },
  {
   "cell_type": "code",
   "execution_count": 117,
   "id": "73aba1fa",
   "metadata": {},
   "outputs": [
    {
     "data": {
      "text/html": [
       "<div>\n",
       "<style scoped>\n",
       "    .dataframe tbody tr th:only-of-type {\n",
       "        vertical-align: middle;\n",
       "    }\n",
       "\n",
       "    .dataframe tbody tr th {\n",
       "        vertical-align: top;\n",
       "    }\n",
       "\n",
       "    .dataframe thead tr th {\n",
       "        text-align: left;\n",
       "    }\n",
       "</style>\n",
       "<table border=\"1\" class=\"dataframe\">\n",
       "  <thead>\n",
       "    <tr>\n",
       "      <th></th>\n",
       "      <th></th>\n",
       "      <th colspan=\"2\" halign=\"left\">Covtype</th>\n",
       "      <th colspan=\"3\" halign=\"left\">Creditcard</th>\n",
       "      <th colspan=\"3\" halign=\"left\">News</th>\n",
       "    </tr>\n",
       "    <tr>\n",
       "      <th></th>\n",
       "      <th>Model</th>\n",
       "      <th>Test Accuracy</th>\n",
       "      <th>Test F1</th>\n",
       "      <th>Test Accuracy</th>\n",
       "      <th>Test AUC</th>\n",
       "      <th>Test F1</th>\n",
       "      <th>Test Accuracy</th>\n",
       "      <th>Test AUC</th>\n",
       "      <th>Test F1</th>\n",
       "    </tr>\n",
       "  </thead>\n",
       "  <tbody>\n",
       "    <tr>\n",
       "      <th>0</th>\n",
       "      <td>Train dataset</td>\n",
       "      <td>0.868 (0.868, 0.868)</td>\n",
       "      <td>0.865 (0.865, 0.865)</td>\n",
       "      <td>0.999 (0.999, 0.999)</td>\n",
       "      <td>0.98 (0.98, 0.98)</td>\n",
       "      <td>0.916 (0.916, 0.916)</td>\n",
       "      <td>0.79 (0.79, 0.79)</td>\n",
       "      <td>0.693 (0.693, 0.693)</td>\n",
       "      <td>0.553 (0.553, 0.553)</td>\n",
       "    </tr>\n",
       "    <tr>\n",
       "      <th>1</th>\n",
       "      <td>tabGAN_example</td>\n",
       "      <td>0.663 (0.663, 0.663)</td>\n",
       "      <td>0.693 (0.693, 0.693)</td>\n",
       "      <td>0.999 (0.999, 0.999)</td>\n",
       "      <td>0.923 (0.923, 0.923)</td>\n",
       "      <td>0.81 (0.81, 0.81)</td>\n",
       "      <td>0.775 (0.775, 0.775)</td>\n",
       "      <td>0.641 (0.641, 0.641)</td>\n",
       "      <td>0.539 (0.539, 0.539)</td>\n",
       "    </tr>\n",
       "  </tbody>\n",
       "</table>\n",
       "</div>"
      ],
      "text/plain": [
       "                                Covtype                        \\\n",
       "            Model         Test Accuracy               Test F1   \n",
       "0   Train dataset  0.868 (0.868, 0.868)  0.865 (0.865, 0.865)   \n",
       "1  tabGAN_example  0.663 (0.663, 0.663)  0.693 (0.693, 0.693)   \n",
       "\n",
       "             Creditcard                                              \\\n",
       "          Test Accuracy              Test AUC               Test F1   \n",
       "0  0.999 (0.999, 0.999)     0.98 (0.98, 0.98)  0.916 (0.916, 0.916)   \n",
       "1  0.999 (0.999, 0.999)  0.923 (0.923, 0.923)     0.81 (0.81, 0.81)   \n",
       "\n",
       "                   News                                              \n",
       "          Test Accuracy              Test AUC               Test F1  \n",
       "0     0.79 (0.79, 0.79)  0.693 (0.693, 0.693)  0.553 (0.553, 0.553)  \n",
       "1  0.775 (0.775, 0.775)  0.641 (0.641, 0.641)  0.539 (0.539, 0.539)  "
      ]
     },
     "execution_count": 117,
     "metadata": {},
     "output_type": "execute_result"
    }
   ],
   "source": [
    "comparison_output_tidy"
   ]
  },
  {
   "cell_type": "code",
   "execution_count": 14,
   "id": "f710a8e0",
   "metadata": {},
   "outputs": [
    {
     "data": {
      "text/plain": [
       "age                 int64\n",
       "workclass          object\n",
       "fnlwgt              int64\n",
       "education          object\n",
       "educational.num     int64\n",
       "marital.status     object\n",
       "occupation         object\n",
       "race               object\n",
       "gender             object\n",
       "capital.gain        int64\n",
       "capital.loss        int64\n",
       "hours.per.week      int64\n",
       "native.country     object\n",
       "income             object\n",
       "dtype: object"
      ]
     },
     "execution_count": 14,
     "metadata": {},
     "output_type": "execute_result"
    }
   ],
   "source": [
    "pd.read_csv(os.path.join(const.dir.data(), \"df_adult_edited_train.csv\")).dtypes"
   ]
  },
  {
   "cell_type": "code",
   "execution_count": 7,
   "id": "8999f3c2",
   "metadata": {},
   "outputs": [
    {
     "data": {
      "text/plain": [
       "Wilderness_Area                       object\n",
       "Soil_Type                             object\n",
       "Elevation                              int64\n",
       "Aspect                                 int64\n",
       "Slope                                  int64\n",
       "Horizontal_Distance_To_Hydrology       int64\n",
       "Vertical_Distance_To_Hydrology         int64\n",
       "Horizontal_Distance_To_Roadways        int64\n",
       "Hillshade_9am                          int64\n",
       "Hillshade_Noon                         int64\n",
       "Hillshade_3pm                          int64\n",
       "Horizontal_Distance_To_Fire_Points     int64\n",
       "Cover_Type                            object\n",
       "dtype: object"
      ]
     },
     "execution_count": 7,
     "metadata": {},
     "output_type": "execute_result"
    }
   ],
   "source": [
    "pd.read_csv(os.path.join(const.dir.data_comparison(), \"covtype_edited.csv\")).dtypes"
   ]
  },
  {
   "cell_type": "code",
   "execution_count": 9,
   "id": "5d8ba2f8",
   "metadata": {},
   "outputs": [
    {
     "ename": "AttributeError",
     "evalue": "module 'helpers.eval' has no attribute 'fit_and_evaluate_xgboost_model'",
     "output_type": "error",
     "traceback": [
      "\u001b[1;31m---------------------------------------------------------------------------\u001b[0m",
      "\u001b[1;31mAttributeError\u001b[0m                            Traceback (most recent call last)",
      "\u001b[1;32m~\\AppData\\Local\\Temp\\ipykernel_17964\\3889912758.py\u001b[0m in \u001b[0;36m<module>\u001b[1;34m\u001b[0m\n\u001b[1;32m----> 1\u001b[1;33m \u001b[0mhelpers\u001b[0m\u001b[1;33m.\u001b[0m\u001b[0meval\u001b[0m\u001b[1;33m.\u001b[0m\u001b[0mfit_and_evaluate_xgboost_model\u001b[0m\u001b[1;33m(\u001b[0m\u001b[1;33m)\u001b[0m\u001b[1;33m\u001b[0m\u001b[1;33m\u001b[0m\u001b[0m\n\u001b[0m",
      "\u001b[1;31mAttributeError\u001b[0m: module 'helpers.eval' has no attribute 'fit_and_evaluate_xgboost_model'"
     ]
    }
   ],
   "source": []
  },
  {
   "cell_type": "code",
   "execution_count": 8,
   "id": "524213c0",
   "metadata": {},
   "outputs": [
    {
     "data": {
      "text/html": [
       "<div>\n",
       "<style scoped>\n",
       "    .dataframe tbody tr th:only-of-type {\n",
       "        vertical-align: middle;\n",
       "    }\n",
       "\n",
       "    .dataframe tbody tr th {\n",
       "        vertical-align: top;\n",
       "    }\n",
       "\n",
       "    .dataframe thead th {\n",
       "        text-align: right;\n",
       "    }\n",
       "</style>\n",
       "<table border=\"1\" class=\"dataframe\">\n",
       "  <thead>\n",
       "    <tr style=\"text-align: right;\">\n",
       "      <th></th>\n",
       "      <th>Wilderness_Area</th>\n",
       "      <th>Soil_Type</th>\n",
       "      <th>Elevation</th>\n",
       "      <th>Aspect</th>\n",
       "      <th>Slope</th>\n",
       "      <th>Horizontal_Distance_To_Hydrology</th>\n",
       "      <th>Vertical_Distance_To_Hydrology</th>\n",
       "      <th>Horizontal_Distance_To_Roadways</th>\n",
       "      <th>Hillshade_9am</th>\n",
       "      <th>Hillshade_Noon</th>\n",
       "      <th>Hillshade_3pm</th>\n",
       "      <th>Horizontal_Distance_To_Fire_Points</th>\n",
       "      <th>Cover_Type</th>\n",
       "    </tr>\n",
       "  </thead>\n",
       "  <tbody>\n",
       "    <tr>\n",
       "      <th>0</th>\n",
       "      <td>Wilderness_Area1</td>\n",
       "      <td>Soil_Type29</td>\n",
       "      <td>2596</td>\n",
       "      <td>51</td>\n",
       "      <td>3</td>\n",
       "      <td>258</td>\n",
       "      <td>0</td>\n",
       "      <td>510</td>\n",
       "      <td>221</td>\n",
       "      <td>232</td>\n",
       "      <td>148</td>\n",
       "      <td>6279</td>\n",
       "      <td>CoverType5</td>\n",
       "    </tr>\n",
       "    <tr>\n",
       "      <th>1</th>\n",
       "      <td>Wilderness_Area1</td>\n",
       "      <td>Soil_Type29</td>\n",
       "      <td>2590</td>\n",
       "      <td>56</td>\n",
       "      <td>2</td>\n",
       "      <td>212</td>\n",
       "      <td>-6</td>\n",
       "      <td>390</td>\n",
       "      <td>220</td>\n",
       "      <td>235</td>\n",
       "      <td>151</td>\n",
       "      <td>6225</td>\n",
       "      <td>CoverType5</td>\n",
       "    </tr>\n",
       "    <tr>\n",
       "      <th>2</th>\n",
       "      <td>Wilderness_Area1</td>\n",
       "      <td>Soil_Type12</td>\n",
       "      <td>2804</td>\n",
       "      <td>139</td>\n",
       "      <td>9</td>\n",
       "      <td>268</td>\n",
       "      <td>65</td>\n",
       "      <td>3180</td>\n",
       "      <td>234</td>\n",
       "      <td>238</td>\n",
       "      <td>135</td>\n",
       "      <td>6121</td>\n",
       "      <td>CoverType2</td>\n",
       "    </tr>\n",
       "    <tr>\n",
       "      <th>3</th>\n",
       "      <td>Wilderness_Area1</td>\n",
       "      <td>Soil_Type30</td>\n",
       "      <td>2785</td>\n",
       "      <td>155</td>\n",
       "      <td>18</td>\n",
       "      <td>242</td>\n",
       "      <td>118</td>\n",
       "      <td>3090</td>\n",
       "      <td>238</td>\n",
       "      <td>238</td>\n",
       "      <td>122</td>\n",
       "      <td>6211</td>\n",
       "      <td>CoverType2</td>\n",
       "    </tr>\n",
       "    <tr>\n",
       "      <th>4</th>\n",
       "      <td>Wilderness_Area1</td>\n",
       "      <td>Soil_Type29</td>\n",
       "      <td>2595</td>\n",
       "      <td>45</td>\n",
       "      <td>2</td>\n",
       "      <td>153</td>\n",
       "      <td>-1</td>\n",
       "      <td>391</td>\n",
       "      <td>220</td>\n",
       "      <td>234</td>\n",
       "      <td>150</td>\n",
       "      <td>6172</td>\n",
       "      <td>CoverType5</td>\n",
       "    </tr>\n",
       "    <tr>\n",
       "      <th>...</th>\n",
       "      <td>...</td>\n",
       "      <td>...</td>\n",
       "      <td>...</td>\n",
       "      <td>...</td>\n",
       "      <td>...</td>\n",
       "      <td>...</td>\n",
       "      <td>...</td>\n",
       "      <td>...</td>\n",
       "      <td>...</td>\n",
       "      <td>...</td>\n",
       "      <td>...</td>\n",
       "      <td>...</td>\n",
       "      <td>...</td>\n",
       "    </tr>\n",
       "    <tr>\n",
       "      <th>581007</th>\n",
       "      <td>Wilderness_Area3</td>\n",
       "      <td>Soil_Type2</td>\n",
       "      <td>2396</td>\n",
       "      <td>153</td>\n",
       "      <td>20</td>\n",
       "      <td>85</td>\n",
       "      <td>17</td>\n",
       "      <td>108</td>\n",
       "      <td>240</td>\n",
       "      <td>237</td>\n",
       "      <td>118</td>\n",
       "      <td>837</td>\n",
       "      <td>CoverType3</td>\n",
       "    </tr>\n",
       "    <tr>\n",
       "      <th>581008</th>\n",
       "      <td>Wilderness_Area3</td>\n",
       "      <td>Soil_Type2</td>\n",
       "      <td>2391</td>\n",
       "      <td>152</td>\n",
       "      <td>19</td>\n",
       "      <td>67</td>\n",
       "      <td>12</td>\n",
       "      <td>95</td>\n",
       "      <td>240</td>\n",
       "      <td>237</td>\n",
       "      <td>119</td>\n",
       "      <td>845</td>\n",
       "      <td>CoverType3</td>\n",
       "    </tr>\n",
       "    <tr>\n",
       "      <th>581009</th>\n",
       "      <td>Wilderness_Area3</td>\n",
       "      <td>Soil_Type2</td>\n",
       "      <td>2386</td>\n",
       "      <td>159</td>\n",
       "      <td>17</td>\n",
       "      <td>60</td>\n",
       "      <td>7</td>\n",
       "      <td>90</td>\n",
       "      <td>236</td>\n",
       "      <td>241</td>\n",
       "      <td>130</td>\n",
       "      <td>854</td>\n",
       "      <td>CoverType3</td>\n",
       "    </tr>\n",
       "    <tr>\n",
       "      <th>581010</th>\n",
       "      <td>Wilderness_Area3</td>\n",
       "      <td>Soil_Type2</td>\n",
       "      <td>2384</td>\n",
       "      <td>170</td>\n",
       "      <td>15</td>\n",
       "      <td>60</td>\n",
       "      <td>5</td>\n",
       "      <td>90</td>\n",
       "      <td>230</td>\n",
       "      <td>245</td>\n",
       "      <td>143</td>\n",
       "      <td>864</td>\n",
       "      <td>CoverType3</td>\n",
       "    </tr>\n",
       "    <tr>\n",
       "      <th>581011</th>\n",
       "      <td>Wilderness_Area3</td>\n",
       "      <td>Soil_Type2</td>\n",
       "      <td>2383</td>\n",
       "      <td>165</td>\n",
       "      <td>13</td>\n",
       "      <td>60</td>\n",
       "      <td>4</td>\n",
       "      <td>67</td>\n",
       "      <td>231</td>\n",
       "      <td>244</td>\n",
       "      <td>141</td>\n",
       "      <td>875</td>\n",
       "      <td>CoverType3</td>\n",
       "    </tr>\n",
       "  </tbody>\n",
       "</table>\n",
       "<p>581012 rows × 13 columns</p>\n",
       "</div>"
      ],
      "text/plain": [
       "         Wilderness_Area    Soil_Type  Elevation  Aspect  Slope  \\\n",
       "0       Wilderness_Area1  Soil_Type29       2596      51      3   \n",
       "1       Wilderness_Area1  Soil_Type29       2590      56      2   \n",
       "2       Wilderness_Area1  Soil_Type12       2804     139      9   \n",
       "3       Wilderness_Area1  Soil_Type30       2785     155     18   \n",
       "4       Wilderness_Area1  Soil_Type29       2595      45      2   \n",
       "...                  ...          ...        ...     ...    ...   \n",
       "581007  Wilderness_Area3   Soil_Type2       2396     153     20   \n",
       "581008  Wilderness_Area3   Soil_Type2       2391     152     19   \n",
       "581009  Wilderness_Area3   Soil_Type2       2386     159     17   \n",
       "581010  Wilderness_Area3   Soil_Type2       2384     170     15   \n",
       "581011  Wilderness_Area3   Soil_Type2       2383     165     13   \n",
       "\n",
       "        Horizontal_Distance_To_Hydrology  Vertical_Distance_To_Hydrology  \\\n",
       "0                                    258                               0   \n",
       "1                                    212                              -6   \n",
       "2                                    268                              65   \n",
       "3                                    242                             118   \n",
       "4                                    153                              -1   \n",
       "...                                  ...                             ...   \n",
       "581007                                85                              17   \n",
       "581008                                67                              12   \n",
       "581009                                60                               7   \n",
       "581010                                60                               5   \n",
       "581011                                60                               4   \n",
       "\n",
       "        Horizontal_Distance_To_Roadways  Hillshade_9am  Hillshade_Noon  \\\n",
       "0                                   510            221             232   \n",
       "1                                   390            220             235   \n",
       "2                                  3180            234             238   \n",
       "3                                  3090            238             238   \n",
       "4                                   391            220             234   \n",
       "...                                 ...            ...             ...   \n",
       "581007                              108            240             237   \n",
       "581008                               95            240             237   \n",
       "581009                               90            236             241   \n",
       "581010                               90            230             245   \n",
       "581011                               67            231             244   \n",
       "\n",
       "        Hillshade_3pm  Horizontal_Distance_To_Fire_Points  Cover_Type  \n",
       "0                 148                                6279  CoverType5  \n",
       "1                 151                                6225  CoverType5  \n",
       "2                 135                                6121  CoverType2  \n",
       "3                 122                                6211  CoverType2  \n",
       "4                 150                                6172  CoverType5  \n",
       "...               ...                                 ...         ...  \n",
       "581007            118                                 837  CoverType3  \n",
       "581008            119                                 845  CoverType3  \n",
       "581009            130                                 854  CoverType3  \n",
       "581010            143                                 864  CoverType3  \n",
       "581011            141                                 875  CoverType3  \n",
       "\n",
       "[581012 rows x 13 columns]"
      ]
     },
     "execution_count": 8,
     "metadata": {},
     "output_type": "execute_result"
    }
   ],
   "source": [
    "train = pd.read_csv(os.path.join(const.dir.data_comparison(), \"covtype_edited.csv\"))\n",
    "train\n"
   ]
  }
 ],
 "metadata": {
  "kernelspec": {
   "display_name": "tf",
   "language": "python",
   "name": "tf"
  },
  "language_info": {
   "codemirror_mode": {
    "name": "ipython",
    "version": 3
   },
   "file_extension": ".py",
   "mimetype": "text/x-python",
   "name": "python",
   "nbconvert_exporter": "python",
   "pygments_lexer": "ipython3",
   "version": "3.8.12"
  }
 },
 "nbformat": 4,
 "nbformat_minor": 5
}
