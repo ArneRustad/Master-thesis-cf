{
 "cells": [
  {
   "cell_type": "code",
   "execution_count": 1,
   "id": "b9b5cf0e",
   "metadata": {},
   "outputs": [],
   "source": [
    "import pathlib\n",
    "import os\n",
    "if not \"changed_working_directory\" in locals():\n",
    "    changed_working_directory = True\n",
    "    os.chdir(pathlib.Path().resolve().parent)\n",
    "    \n",
    "%load_ext autoreload\n",
    "%load_ext tensorboard\n",
    "%autoreload 2"
   ]
  },
  {
   "cell_type": "code",
   "execution_count": 2,
   "id": "28090688",
   "metadata": {},
   "outputs": [],
   "source": [
    "from tabGAN import TabGAN\n",
    "from src import constants as const\n",
    "import utils\n",
    "import helpers\n",
    "\n",
    "imports_path = \"src//imports.ipynb\"\n",
    "\n",
    "%run \"$imports_path\""
   ]
  },
  {
   "cell_type": "code",
   "execution_count": 3,
   "id": "43d9c835",
   "metadata": {},
   "outputs": [],
   "source": [
    "if const.dir.project() != os.getcwd():\n",
    "    raise ValueError(\"Project directory not the same as in consts\")"
   ]
  },
  {
   "cell_type": "code",
   "execution_count": 4,
   "id": "1c73785d",
   "metadata": {},
   "outputs": [],
   "source": [
    "dataset_train_path = os.path.join(const.dir.data(), \"df_adult_edited_train.csv\")\n",
    "dataset_test_path = os.path.join(const.dir.data(), \"df_adult_edited_test.csv\")\n",
    "\n",
    "data_train = pd.read_csv(dataset_train_path)\n",
    "data_test = pd.read_csv(dataset_test_path)\n",
    "discrete_columns = data_train.columns[data_train.dtypes == \"object\"]"
   ]
  },
  {
   "cell_type": "code",
   "execution_count": 5,
   "id": "9fb77026",
   "metadata": {},
   "outputs": [],
   "source": [
    "n_epochs = 100\n",
    "n_critic = 10\n",
    "adam_lr = 0.0002\n",
    "adam_beta1 = 0.5\n",
    "noise_discrete_unif_max = 0\n",
    "\n",
    "batch_size = 500\n",
    "\n",
    "n_synthetic_datasets = 10\n",
    "n_synthetic_datasets_existing = 0\n",
    "\n",
    "retrain = False\n",
    "\n",
    "from utils.tictoc import tic, toc"
   ]
  },
  {
   "cell_type": "code",
   "execution_count": 17,
   "id": "12ec21c1",
   "metadata": {
    "scrolled": true
   },
   "outputs": [
    {
     "data": {
      "text/plain": [
       "Reusing TensorBoard on port 6006 (pid 14132), started 0:04:40 ago. (Use '!kill 14132' to kill it.)"
      ]
     },
     "metadata": {},
     "output_type": "display_data"
    },
    {
     "data": {
      "text/html": [
       "\n",
       "      <iframe id=\"tensorboard-frame-270886be6d6c5175\" width=\"100%\" height=\"800\" frameborder=\"0\">\n",
       "      </iframe>\n",
       "      <script>\n",
       "        (function() {\n",
       "          const frame = document.getElementById(\"tensorboard-frame-270886be6d6c5175\");\n",
       "          const url = new URL(\"/\", window.location);\n",
       "          const port = 6006;\n",
       "          if (port) {\n",
       "            url.port = port;\n",
       "          }\n",
       "          frame.src = url;\n",
       "        })();\n",
       "      </script>\n",
       "    "
      ],
      "text/plain": [
       "<IPython.core.display.HTML object>"
      ]
     },
     "metadata": {},
     "output_type": "display_data"
    }
   ],
   "source": [
    "%tensorboard --logdir=logdir"
   ]
  },
  {
   "cell_type": "code",
   "execution_count": null,
   "id": "ef93c4a8",
   "metadata": {
    "scrolled": false
   },
   "outputs": [
    {
     "data": {
      "application/vnd.jupyter.widget-view+json": {
       "model_id": "22fa91a5e2af4072bfc17b145097b237",
       "version_major": 2,
       "version_minor": 0
      },
      "text/plain": [
       "  0%|          | 0/31 [00:00<?, ?it/s]"
      ]
     },
     "metadata": {},
     "output_type": "display_data"
    }
   ],
   "source": [
    "tg_qtr = TabGAN(data_train, n_critic = n_critic, opt_lr = adam_lr, adam_beta1 = adam_beta1,\n",
    "              quantile_transformation_int = True, quantile_rand_transformation = False,\n",
    "             noise_discrete_unif_max = noise_discrete_unif_max,\n",
    "                gumbel_temperature = 0.5, jit_compile=True, tf_data_use=True, tf_data_prefetch=True, tf_data_cache=True)\n",
    "tg_qtr.train(31, batch_size=batch_size, restart_training=True, progress_bar=True,\n",
    "             tf_profile_train_step_range=[29,30], tf_profile_log_dir=\"logdir\")"
   ]
  },
  {
   "cell_type": "code",
   "execution_count": 18,
   "id": "9f649d90",
   "metadata": {},
   "outputs": [
    {
     "name": "stdout",
     "output_type": "stream",
     "text": [
      "global\n"
     ]
    }
   ],
   "source": [
    "print(os.environ[\"TF_GPU_THREAD_MODE\"])"
   ]
  },
  {
   "cell_type": "code",
   "execution_count": 19,
   "id": "c014034e",
   "metadata": {},
   "outputs": [],
   "source": [
    "os.environ[\"TF_GPU_THREAD_MODE\"] = \"gpu_private\""
   ]
  }
 ],
 "metadata": {
  "kernelspec": {
   "display_name": "tf",
   "language": "python",
   "name": "tf"
  },
  "language_info": {
   "codemirror_mode": {
    "name": "ipython",
    "version": 3
   },
   "file_extension": ".py",
   "mimetype": "text/x-python",
   "name": "python",
   "nbconvert_exporter": "python",
   "pygments_lexer": "ipython3",
   "version": "3.7.11"
  }
 },
 "nbformat": 4,
 "nbformat_minor": 5
}
