{
 "cells": [
  {
   "cell_type": "code",
   "execution_count": 1,
   "id": "bc9ca76e",
   "metadata": {},
   "outputs": [],
   "source": [
    "import pathlib\n",
    "import os\n",
    "if not \"changed_working_directory\" in locals():\n",
    "    changed_working_directory = True\n",
    "    os.chdir(pathlib.Path().resolve().parent)\n",
    "    \n",
    "%load_ext autoreload\n",
    "%autoreload 2\n",
    "\n",
    "from tabGAN import TabGAN\n",
    "from src import constants as const\n",
    "import helpers\n",
    "from v2_hp_tuning import fetch_hp_info\n",
    "\n",
    "imports_path = \"src//imports.ipynb\"\n",
    "\n",
    "%run \"$imports_path\"\n",
    "\n",
    "if const.dir.project() != os.getcwd():\n",
    "    raise ValueError(\"Project directory not the same as in consts\")"
   ]
  },
  {
   "cell_type": "code",
   "execution_count": 2,
   "id": "ecf1e730",
   "metadata": {},
   "outputs": [
    {
     "data": {
      "application/vnd.jupyter.widget-view+json": {
       "model_id": "",
       "version_major": 2,
       "version_minor": 0
      },
      "text/plain": [
       "Dataset tasks:   0%|          | 0/1 [00:00<?, ?it/s]"
      ]
     },
     "metadata": {},
     "output_type": "display_data"
    },
    {
     "data": {
      "application/vnd.jupyter.widget-view+json": {
       "model_id": "",
       "version_major": 2,
       "version_minor": 0
      },
      "text/plain": [
       "Synthetic datasets:   0%|          | 0/25 [00:00<?, ?it/s]"
      ]
     },
     "metadata": {},
     "output_type": "display_data"
    },
    {
     "data": {
      "application/vnd.jupyter.widget-view+json": {
       "model_id": "",
       "version_major": 2,
       "version_minor": 0
      },
      "text/plain": [
       "Models:   0%|          | 0/14 [00:00<?, ?it/s]"
      ]
     },
     "metadata": {},
     "output_type": "display_data"
    },
    {
     "data": {
      "application/vnd.jupyter.widget-view+json": {
       "model_id": "",
       "version_major": 2,
       "version_minor": 0
      },
      "text/plain": [
       "Models:   0%|          | 0/14 [00:00<?, ?it/s]"
      ]
     },
     "metadata": {},
     "output_type": "display_data"
    },
    {
     "data": {
      "application/vnd.jupyter.widget-view+json": {
       "model_id": "",
       "version_major": 2,
       "version_minor": 0
      },
      "text/plain": [
       "Models:   0%|          | 0/14 [00:00<?, ?it/s]"
      ]
     },
     "metadata": {},
     "output_type": "display_data"
    },
    {
     "data": {
      "application/vnd.jupyter.widget-view+json": {
       "model_id": "",
       "version_major": 2,
       "version_minor": 0
      },
      "text/plain": [
       "Models:   0%|          | 0/14 [00:00<?, ?it/s]"
      ]
     },
     "metadata": {},
     "output_type": "display_data"
    },
    {
     "data": {
      "application/vnd.jupyter.widget-view+json": {
       "model_id": "",
       "version_major": 2,
       "version_minor": 0
      },
      "text/plain": [
       "Models:   0%|          | 0/14 [00:00<?, ?it/s]"
      ]
     },
     "metadata": {},
     "output_type": "display_data"
    },
    {
     "data": {
      "application/vnd.jupyter.widget-view+json": {
       "model_id": "",
       "version_major": 2,
       "version_minor": 0
      },
      "text/plain": [
       "Models:   0%|          | 0/14 [00:00<?, ?it/s]"
      ]
     },
     "metadata": {},
     "output_type": "display_data"
    },
    {
     "data": {
      "application/vnd.jupyter.widget-view+json": {
       "model_id": "",
       "version_major": 2,
       "version_minor": 0
      },
      "text/plain": [
       "Models:   0%|          | 0/14 [00:00<?, ?it/s]"
      ]
     },
     "metadata": {},
     "output_type": "display_data"
    },
    {
     "data": {
      "application/vnd.jupyter.widget-view+json": {
       "model_id": "",
       "version_major": 2,
       "version_minor": 0
      },
      "text/plain": [
       "Models:   0%|          | 0/14 [00:00<?, ?it/s]"
      ]
     },
     "metadata": {},
     "output_type": "display_data"
    },
    {
     "data": {
      "application/vnd.jupyter.widget-view+json": {
       "model_id": "",
       "version_major": 2,
       "version_minor": 0
      },
      "text/plain": [
       "Models:   0%|          | 0/14 [00:00<?, ?it/s]"
      ]
     },
     "metadata": {},
     "output_type": "display_data"
    },
    {
     "data": {
      "application/vnd.jupyter.widget-view+json": {
       "model_id": "",
       "version_major": 2,
       "version_minor": 0
      },
      "text/plain": [
       "Models:   0%|          | 0/14 [00:00<?, ?it/s]"
      ]
     },
     "metadata": {},
     "output_type": "display_data"
    },
    {
     "data": {
      "application/vnd.jupyter.widget-view+json": {
       "model_id": "",
       "version_major": 2,
       "version_minor": 0
      },
      "text/plain": [
       "Models:   0%|          | 0/14 [00:00<?, ?it/s]"
      ]
     },
     "metadata": {},
     "output_type": "display_data"
    },
    {
     "data": {
      "application/vnd.jupyter.widget-view+json": {
       "model_id": "",
       "version_major": 2,
       "version_minor": 0
      },
      "text/plain": [
       "Models:   0%|          | 0/14 [00:00<?, ?it/s]"
      ]
     },
     "metadata": {},
     "output_type": "display_data"
    },
    {
     "data": {
      "application/vnd.jupyter.widget-view+json": {
       "model_id": "",
       "version_major": 2,
       "version_minor": 0
      },
      "text/plain": [
       "Models:   0%|          | 0/14 [00:00<?, ?it/s]"
      ]
     },
     "metadata": {},
     "output_type": "display_data"
    },
    {
     "data": {
      "application/vnd.jupyter.widget-view+json": {
       "model_id": "",
       "version_major": 2,
       "version_minor": 0
      },
      "text/plain": [
       "Models:   0%|          | 0/14 [00:00<?, ?it/s]"
      ]
     },
     "metadata": {},
     "output_type": "display_data"
    },
    {
     "data": {
      "application/vnd.jupyter.widget-view+json": {
       "model_id": "",
       "version_major": 2,
       "version_minor": 0
      },
      "text/plain": [
       "Models:   0%|          | 0/14 [00:00<?, ?it/s]"
      ]
     },
     "metadata": {},
     "output_type": "display_data"
    },
    {
     "data": {
      "application/vnd.jupyter.widget-view+json": {
       "model_id": "",
       "version_major": 2,
       "version_minor": 0
      },
      "text/plain": [
       "Models:   0%|          | 0/14 [00:00<?, ?it/s]"
      ]
     },
     "metadata": {},
     "output_type": "display_data"
    },
    {
     "data": {
      "application/vnd.jupyter.widget-view+json": {
       "model_id": "",
       "version_major": 2,
       "version_minor": 0
      },
      "text/plain": [
       "Models:   0%|          | 0/14 [00:00<?, ?it/s]"
      ]
     },
     "metadata": {},
     "output_type": "display_data"
    },
    {
     "data": {
      "application/vnd.jupyter.widget-view+json": {
       "model_id": "",
       "version_major": 2,
       "version_minor": 0
      },
      "text/plain": [
       "Models:   0%|          | 0/14 [00:00<?, ?it/s]"
      ]
     },
     "metadata": {},
     "output_type": "display_data"
    },
    {
     "data": {
      "application/vnd.jupyter.widget-view+json": {
       "model_id": "",
       "version_major": 2,
       "version_minor": 0
      },
      "text/plain": [
       "Models:   0%|          | 0/14 [00:00<?, ?it/s]"
      ]
     },
     "metadata": {},
     "output_type": "display_data"
    },
    {
     "data": {
      "application/vnd.jupyter.widget-view+json": {
       "model_id": "",
       "version_major": 2,
       "version_minor": 0
      },
      "text/plain": [
       "Models:   0%|          | 0/14 [00:00<?, ?it/s]"
      ]
     },
     "metadata": {},
     "output_type": "display_data"
    },
    {
     "data": {
      "application/vnd.jupyter.widget-view+json": {
       "model_id": "",
       "version_major": 2,
       "version_minor": 0
      },
      "text/plain": [
       "Models:   0%|          | 0/14 [00:00<?, ?it/s]"
      ]
     },
     "metadata": {},
     "output_type": "display_data"
    },
    {
     "data": {
      "application/vnd.jupyter.widget-view+json": {
       "model_id": "",
       "version_major": 2,
       "version_minor": 0
      },
      "text/plain": [
       "Models:   0%|          | 0/14 [00:00<?, ?it/s]"
      ]
     },
     "metadata": {},
     "output_type": "display_data"
    },
    {
     "data": {
      "application/vnd.jupyter.widget-view+json": {
       "model_id": "",
       "version_major": 2,
       "version_minor": 0
      },
      "text/plain": [
       "Models:   0%|          | 0/14 [00:00<?, ?it/s]"
      ]
     },
     "metadata": {},
     "output_type": "display_data"
    },
    {
     "data": {
      "application/vnd.jupyter.widget-view+json": {
       "model_id": "",
       "version_major": 2,
       "version_minor": 0
      },
      "text/plain": [
       "Models:   0%|          | 0/14 [00:00<?, ?it/s]"
      ]
     },
     "metadata": {},
     "output_type": "display_data"
    },
    {
     "data": {
      "application/vnd.jupyter.widget-view+json": {
       "model_id": "",
       "version_major": 2,
       "version_minor": 0
      },
      "text/plain": [
       "Models:   0%|          | 0/14 [00:00<?, ?it/s]"
      ]
     },
     "metadata": {},
     "output_type": "display_data"
    }
   ],
   "source": [
    "comparison_output_adult = helpers.comparison.eval_ml_efficacy(\n",
    "    [\n",
    "    \"tabGAN\", \"tabGAN-qt\", \"tabGAN-qtr\", \"ctabGAN\", \"ctabGAN-qt\", \"ctabGAN-qtr\",\n",
    "    \"GaussianCopula\", \"CTGAN-pac1\", \"CTGAN-pac10\", \"CopulaGAN\", \"tabFairGAN\", \"TVAE\", \"TVAE-mod\"\n",
    "    ],\n",
    "    datasets=[\"adult_edited\"], \n",
    "    n_synthetic_datasets=25,\n",
    "    metric_evals=[\"Mean\", \"Median\", \"Percentile5\", \"Percentile95\"],\n",
    "    allow_fewer_synthetic_datasets=True)"
   ]
  },
  {
   "cell_type": "code",
   "execution_count": 3,
   "id": "d6a00d55",
   "metadata": {
    "scrolled": true
   },
   "outputs": [
    {
     "data": {
      "text/html": [
       "<div>\n",
       "<style scoped>\n",
       "    .dataframe tbody tr th:only-of-type {\n",
       "        vertical-align: middle;\n",
       "    }\n",
       "\n",
       "    .dataframe tbody tr th {\n",
       "        vertical-align: top;\n",
       "    }\n",
       "\n",
       "    .dataframe thead tr th {\n",
       "        text-align: left;\n",
       "    }\n",
       "</style>\n",
       "<table border=\"1\" class=\"dataframe\">\n",
       "  <thead>\n",
       "    <tr>\n",
       "      <th></th>\n",
       "      <th></th>\n",
       "      <th colspan=\"3\" halign=\"left\">Adult</th>\n",
       "    </tr>\n",
       "    <tr>\n",
       "      <th></th>\n",
       "      <th>Model</th>\n",
       "      <th>Test Accuracy</th>\n",
       "      <th>Test AUC</th>\n",
       "      <th>Test F1</th>\n",
       "    </tr>\n",
       "  </thead>\n",
       "  <tbody>\n",
       "    <tr>\n",
       "      <th>0</th>\n",
       "      <td>Train dataset</td>\n",
       "      <td>0.8653 (0.8653, 0.8653)</td>\n",
       "      <td>0.9229 (0.9229, 0.9229)</td>\n",
       "      <td>0.8087 (0.8087, 0.8087)</td>\n",
       "    </tr>\n",
       "    <tr>\n",
       "      <th>1</th>\n",
       "      <td>tabGAN</td>\n",
       "      <td>0.84 (0.8188, 0.8441)</td>\n",
       "      <td>0.8943 (0.8761, 0.8983)</td>\n",
       "      <td>0.7663 (0.738, 0.7816)</td>\n",
       "    </tr>\n",
       "    <tr>\n",
       "      <th>2</th>\n",
       "      <td>tabGAN-qt</td>\n",
       "      <td>0.8429 (0.8384, 0.8452)</td>\n",
       "      <td>0.8975 (0.893, 0.8988)</td>\n",
       "      <td>0.7774 (0.7702, 0.7825)</td>\n",
       "    </tr>\n",
       "    <tr>\n",
       "      <th>3</th>\n",
       "      <td>tabGAN-qtr</td>\n",
       "      <td>0.8432 (0.8407, 0.846)</td>\n",
       "      <td>0.8974 (0.895, 0.9)</td>\n",
       "      <td>0.7791 (0.7746, 0.7837)</td>\n",
       "    </tr>\n",
       "    <tr>\n",
       "      <th>4</th>\n",
       "      <td>ctabGAN</td>\n",
       "      <td>0.8297 (0.8142, 0.8387)</td>\n",
       "      <td>0.8835 (0.8696, 0.8926)</td>\n",
       "      <td>0.7544 (0.695, 0.7688)</td>\n",
       "    </tr>\n",
       "    <tr>\n",
       "      <th>5</th>\n",
       "      <td>ctabGAN-qt</td>\n",
       "      <td>0.838 (0.8325, 0.8409)</td>\n",
       "      <td>0.8896 (0.8859, 0.8921)</td>\n",
       "      <td>0.7676 (0.7633, 0.7729)</td>\n",
       "    </tr>\n",
       "    <tr>\n",
       "      <th>6</th>\n",
       "      <td>ctabGAN-qtr</td>\n",
       "      <td>0.8412 (0.8376, 0.8449)</td>\n",
       "      <td>0.8958 (0.8933, 0.8978)</td>\n",
       "      <td>0.7762 (0.7721, 0.7819)</td>\n",
       "    </tr>\n",
       "    <tr>\n",
       "      <th>7</th>\n",
       "      <td>GaussianCopula</td>\n",
       "      <td>0.7556 (0.7549, 0.7564)</td>\n",
       "      <td>0.8247 (0.7836, 0.8492)</td>\n",
       "      <td>0.4354 (0.4327, 0.4401)</td>\n",
       "    </tr>\n",
       "    <tr>\n",
       "      <th>8</th>\n",
       "      <td>CTGAN-pac1</td>\n",
       "      <td>0.8382 (0.8314, 0.8426)</td>\n",
       "      <td>0.8873 (0.8827, 0.8902)</td>\n",
       "      <td>0.7685 (0.7443, 0.7753)</td>\n",
       "    </tr>\n",
       "    <tr>\n",
       "      <th>9</th>\n",
       "      <td>CTGAN-pac10</td>\n",
       "      <td>0.8303 (0.8246, 0.8353)</td>\n",
       "      <td>0.882 (0.8745, 0.8855)</td>\n",
       "      <td>0.7569 (0.7431, 0.7682)</td>\n",
       "    </tr>\n",
       "    <tr>\n",
       "      <th>10</th>\n",
       "      <td>CopulaGAN</td>\n",
       "      <td>0.8274 (0.8201, 0.8315)</td>\n",
       "      <td>0.868 (0.8569, 0.8735)</td>\n",
       "      <td>0.7485 (0.7275, 0.7586)</td>\n",
       "    </tr>\n",
       "    <tr>\n",
       "      <th>11</th>\n",
       "      <td>tabFairGAN</td>\n",
       "      <td>0.8273 (0.8216, 0.8307)</td>\n",
       "      <td>0.8756 (0.8699, 0.8819)</td>\n",
       "      <td>0.7611 (0.7529, 0.7673)</td>\n",
       "    </tr>\n",
       "    <tr>\n",
       "      <th>12</th>\n",
       "      <td>TVAE</td>\n",
       "      <td>0.8172 (0.8, 0.8241)</td>\n",
       "      <td>0.87 (0.8629, 0.8781)</td>\n",
       "      <td>0.7507 (0.7419, 0.7596)</td>\n",
       "    </tr>\n",
       "    <tr>\n",
       "      <th>13</th>\n",
       "      <td>TVAE-mod</td>\n",
       "      <td>0.8276 (0.8216, 0.8357)</td>\n",
       "      <td>0.8785 (0.8741, 0.8869)</td>\n",
       "      <td>0.7618 (0.7534, 0.7678)</td>\n",
       "    </tr>\n",
       "  </tbody>\n",
       "</table>\n",
       "</div>"
      ],
      "text/plain": [
       "                                      Adult                           \\\n",
       "             Model            Test Accuracy                 Test AUC   \n",
       "0    Train dataset  0.8653 (0.8653, 0.8653)  0.9229 (0.9229, 0.9229)   \n",
       "1           tabGAN    0.84 (0.8188, 0.8441)  0.8943 (0.8761, 0.8983)   \n",
       "2        tabGAN-qt  0.8429 (0.8384, 0.8452)   0.8975 (0.893, 0.8988)   \n",
       "3       tabGAN-qtr   0.8432 (0.8407, 0.846)      0.8974 (0.895, 0.9)   \n",
       "4          ctabGAN  0.8297 (0.8142, 0.8387)  0.8835 (0.8696, 0.8926)   \n",
       "5       ctabGAN-qt   0.838 (0.8325, 0.8409)  0.8896 (0.8859, 0.8921)   \n",
       "6      ctabGAN-qtr  0.8412 (0.8376, 0.8449)  0.8958 (0.8933, 0.8978)   \n",
       "7   GaussianCopula  0.7556 (0.7549, 0.7564)  0.8247 (0.7836, 0.8492)   \n",
       "8       CTGAN-pac1  0.8382 (0.8314, 0.8426)  0.8873 (0.8827, 0.8902)   \n",
       "9      CTGAN-pac10  0.8303 (0.8246, 0.8353)   0.882 (0.8745, 0.8855)   \n",
       "10       CopulaGAN  0.8274 (0.8201, 0.8315)   0.868 (0.8569, 0.8735)   \n",
       "11      tabFairGAN  0.8273 (0.8216, 0.8307)  0.8756 (0.8699, 0.8819)   \n",
       "12            TVAE     0.8172 (0.8, 0.8241)    0.87 (0.8629, 0.8781)   \n",
       "13        TVAE-mod  0.8276 (0.8216, 0.8357)  0.8785 (0.8741, 0.8869)   \n",
       "\n",
       "                             \n",
       "                    Test F1  \n",
       "0   0.8087 (0.8087, 0.8087)  \n",
       "1    0.7663 (0.738, 0.7816)  \n",
       "2   0.7774 (0.7702, 0.7825)  \n",
       "3   0.7791 (0.7746, 0.7837)  \n",
       "4    0.7544 (0.695, 0.7688)  \n",
       "5   0.7676 (0.7633, 0.7729)  \n",
       "6   0.7762 (0.7721, 0.7819)  \n",
       "7   0.4354 (0.4327, 0.4401)  \n",
       "8   0.7685 (0.7443, 0.7753)  \n",
       "9   0.7569 (0.7431, 0.7682)  \n",
       "10  0.7485 (0.7275, 0.7586)  \n",
       "11  0.7611 (0.7529, 0.7673)  \n",
       "12  0.7507 (0.7419, 0.7596)  \n",
       "13  0.7618 (0.7534, 0.7678)  "
      ]
     },
     "execution_count": 3,
     "metadata": {},
     "output_type": "execute_result"
    }
   ],
   "source": [
    "comparison_output_adult_tidy = helpers.comparison.tidy_ml_efficacy_output(\n",
    "    comparison_output_adult, extract_median_and_percentile=True, round_decimals=4)\n",
    "comparison_output_adult_tidy"
   ]
  },
  {
   "cell_type": "code",
   "execution_count": 17,
   "id": "a4ec6c5e",
   "metadata": {},
   "outputs": [
    {
     "name": "stdout",
     "output_type": "stream",
     "text": [
      "\\begin{tabular}{llll}\n",
      "\\toprule\n",
      "                & \\multicolumn{3}{l}{Adult} \\\\\n",
      "          Model &            Test Accuracy &                 Test AUC &                  Test F1 \\\\\n",
      "\\midrule\n",
      "  Train dataset &  0.8653 (0.8653, 0.8653) &  0.9229 (0.9229, 0.9229) &  0.8087 (0.8087, 0.8087) \\\\\n",
      "         tabGAN &    0.84 (0.8188, 0.8441) &  0.8943 (0.8761, 0.8983) &   0.7663 (0.738, 0.7816) \\\\\n",
      "      tabGAN-qt &  0.8429 (0.8384, 0.8452) &   0.8975 (0.893, 0.8988) &  0.7774 (0.7702, 0.7825) \\\\\n",
      "     tabGAN-qtr &   0.8432 (0.8407, 0.846) &      0.8974 (0.895, 0.9) &  0.7791 (0.7746, 0.7837) \\\\\n",
      "        ctabGAN &  0.8297 (0.8142, 0.8387) &  0.8835 (0.8696, 0.8926) &   0.7544 (0.695, 0.7688) \\\\\n",
      "     ctabGAN-qt &   0.838 (0.8325, 0.8409) &  0.8896 (0.8859, 0.8921) &  0.7676 (0.7633, 0.7729) \\\\\n",
      "    ctabGAN-qtr &  0.8412 (0.8376, 0.8449) &  0.8958 (0.8933, 0.8978) &  0.7762 (0.7721, 0.7819) \\\\\n",
      " GaussianCopula &  0.7556 (0.7549, 0.7564) &  0.8247 (0.7836, 0.8492) &  0.4354 (0.4327, 0.4401) \\\\\n",
      "     CTGAN-pac1 &  0.8382 (0.8314, 0.8426) &  0.8873 (0.8827, 0.8902) &  0.7685 (0.7443, 0.7753) \\\\\n",
      "    CTGAN-pac10 &  0.8303 (0.8246, 0.8353) &   0.882 (0.8745, 0.8855) &  0.7569 (0.7431, 0.7682) \\\\\n",
      "      CopulaGAN &  0.8274 (0.8201, 0.8315) &   0.868 (0.8569, 0.8735) &  0.7485 (0.7275, 0.7586) \\\\\n",
      "     tabFairGAN &  0.8273 (0.8216, 0.8307) &  0.8756 (0.8699, 0.8819) &  0.7611 (0.7529, 0.7673) \\\\\n",
      "           TVAE &     0.8172 (0.8, 0.8241) &    0.87 (0.8629, 0.8781) &  0.7507 (0.7419, 0.7596) \\\\\n",
      "       TVAE-mod &  0.8276 (0.8216, 0.8357) &  0.8785 (0.8741, 0.8869) &  0.7618 (0.7534, 0.7678) \\\\\n",
      "\\bottomrule\n",
      "\\end{tabular}\n",
      "\n"
     ]
    }
   ],
   "source": [
    "print(comparison_output_adult_tidy.to_latex(index=False))"
   ]
  },
  {
   "cell_type": "code",
   "execution_count": null,
   "id": "5dd26672",
   "metadata": {},
   "outputs": [
    {
     "data": {
      "application/vnd.jupyter.widget-view+json": {
       "model_id": "93636b4c9ab84430a6bc30c5c6e60139",
       "version_major": 2,
       "version_minor": 0
      },
      "text/plain": [
       "Dataset tasks:   0%|          | 0/3 [00:00<?, ?it/s]"
      ]
     },
     "metadata": {},
     "output_type": "display_data"
    },
    {
     "data": {
      "application/vnd.jupyter.widget-view+json": {
       "model_id": "f932a389eefd464aa84d858484b28119",
       "version_major": 2,
       "version_minor": 0
      },
      "text/plain": [
       "Synthetic datasets:   0%|          | 0/20 [00:00<?, ?it/s]"
      ]
     },
     "metadata": {},
     "output_type": "display_data"
    },
    {
     "data": {
      "application/vnd.jupyter.widget-view+json": {
       "model_id": "",
       "version_major": 2,
       "version_minor": 0
      },
      "text/plain": [
       "Models:   0%|          | 0/14 [00:00<?, ?it/s]"
      ]
     },
     "metadata": {},
     "output_type": "display_data"
    },
    {
     "data": {
      "application/vnd.jupyter.widget-view+json": {
       "model_id": "",
       "version_major": 2,
       "version_minor": 0
      },
      "text/plain": [
       "Models:   0%|          | 0/14 [00:00<?, ?it/s]"
      ]
     },
     "metadata": {},
     "output_type": "display_data"
    },
    {
     "data": {
      "application/vnd.jupyter.widget-view+json": {
       "model_id": "",
       "version_major": 2,
       "version_minor": 0
      },
      "text/plain": [
       "Models:   0%|          | 0/14 [00:00<?, ?it/s]"
      ]
     },
     "metadata": {},
     "output_type": "display_data"
    },
    {
     "data": {
      "application/vnd.jupyter.widget-view+json": {
       "model_id": "8980106738e447b8baceb9ad653ad9f9",
       "version_major": 2,
       "version_minor": 0
      },
      "text/plain": [
       "Models:   0%|          | 0/14 [00:00<?, ?it/s]"
      ]
     },
     "metadata": {},
     "output_type": "display_data"
    }
   ],
   "source": [
    "comparison_output, df_count_nan = helpers.comparison.eval_ml_efficacy(\n",
    "    [\"tabGAN\", \"tabGAN-qt\", \"tabGAN-qtr\", \"ctabGAN\", \"ctabGAN-qt\", \"ctabGAN-qtr\",\n",
    "    \"GaussianCopula\", \"CTGAN-pac1\", \"CTGAN-pac10\", \"CopulaGAN\", \"tabFairGAN\", \"TVAE\", \"TVAE-mod\"],\n",
    "    datasets=[\"covtype_edited\", \"creditcard_edited\", \"news_edited\"],\n",
    "    n_synthetic_datasets=20,\n",
    "    n_synthetic_datasets_dict={\"news_edited\": 25},\n",
    "    metric_evals=[\"Mean\", \"Median\", \"Percentile5\", \"Percentile95\"],\n",
    "    allow_fewer_synthetic_datasets=True,\n",
    "    ignore_nan=True,\n",
    "    ret_count_nan=True\n",
    ")"
   ]
  },
  {
   "cell_type": "code",
   "execution_count": null,
   "id": "20430c99",
   "metadata": {},
   "outputs": [],
   "source": [
    "comparison_output_tidy = helpers.comparison.tidy_ml_efficacy_output(comparison_output, extract_median_and_percentile=True)\n",
    "comparison_output_tidy"
   ]
  }
 ],
 "metadata": {
  "kernelspec": {
   "display_name": "tf",
   "language": "python",
   "name": "tf"
  },
  "language_info": {
   "codemirror_mode": {
    "name": "ipython",
    "version": 3
   },
   "file_extension": ".py",
   "mimetype": "text/x-python",
   "name": "python",
   "nbconvert_exporter": "python",
   "pygments_lexer": "ipython3",
   "version": "3.8.12"
  }
 },
 "nbformat": 4,
 "nbformat_minor": 5
}
