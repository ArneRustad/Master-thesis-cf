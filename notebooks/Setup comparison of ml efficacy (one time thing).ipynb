{
 "cells": [
  {
   "cell_type": "code",
   "execution_count": 2,
   "id": "9f854f37",
   "metadata": {},
   "outputs": [
    {
     "name": "stdout",
     "output_type": "stream",
     "text": [
      "The autoreload extension is already loaded. To reload it, use:\n",
      "  %reload_ext autoreload\n"
     ]
    }
   ],
   "source": [
    "import pathlib\n",
    "import os\n",
    "if not \"changed_working_directory\" in locals():\n",
    "    changed_working_directory = True\n",
    "    os.chdir(pathlib.Path().resolve().parent)\n",
    "    \n",
    "%load_ext autoreload\n",
    "%autoreload 2\n",
    "\n",
    "from tabGAN import TabGAN\n",
    "from src import constants as const\n",
    "import helpers\n",
    "from v2_hp_tuning import fetch_hp_info\n",
    "\n",
    "imports_path = \"src//imports.ipynb\"\n",
    "tabGAN_path = \"tabGAN.py\"\n",
    "utils_path = \"utils\\\\utils.ipynb\"\n",
    "\n",
    "%run \"$imports_path\"\n",
    "\n",
    "if const.dir.project() != os.getcwd():\n",
    "    raise ValueError(\"Project directory not the same as in consts\")"
   ]
  },
  {
   "cell_type": "code",
   "execution_count": 28,
   "id": "657bed16",
   "metadata": {},
   "outputs": [],
   "source": [
    "# adult_train = pd.read_csv(os.path.join(const.dir.data(), \"df_adult_edited_train.csv\"))\n",
    "# adult_test = pd.read_csv(os.path.join(const.dir.data(), \"df_adult_edited_test.csv\"))\n",
    "# adult_combined = pd.concat([adult_train, adult_test], axis=0)\n",
    "# adult_combined.columns = adult_combined.columns.str.replace(\".\", \"_\")\n",
    "# adult_combined.to_csv(os.path.join(const.dir.data_comparison(), \"adult_edited.csv\"), index=False)\n",
    "# boolean_indices_adult_train = np.repeat([True, False], [adult_train.shape[0], adult_test.shape[0]])\n",
    "# for i in tqdm(range(100)):\n",
    "#     dir_boolean_indices_adult = os.path.join(const.dir.data_comparison(), \"indices\", \"adult_edited\")\n",
    "#     os.makedirs(dir_boolean_indices_adult, exist_ok=True)\n",
    "#     np.save(os.path.join(dir_boolean_indices_adult, f\"bool_indices_{i}.npy\"),\n",
    "#             boolean_indices_adult_train)"
   ]
  },
  {
   "cell_type": "code",
   "execution_count": 2,
   "id": "f2949f43",
   "metadata": {},
   "outputs": [
    {
     "data": {
      "application/vnd.jupyter.widget-view+json": {
       "model_id": "e73e62a5ea324090bca00411987adfaf",
       "version_major": 2,
       "version_minor": 0
      },
      "text/plain": [
       "Dataset tasks:   0%|          | 0/3 [00:00<?, ?it/s]"
      ]
     },
     "metadata": {},
     "output_type": "display_data"
    },
    {
     "data": {
      "application/vnd.jupyter.widget-view+json": {
       "model_id": "",
       "version_major": 2,
       "version_minor": 0
      },
      "text/plain": [
       "Train indices generated (covtype_edited):   0%|          | 0/100 [00:00<?, ?it/s]"
      ]
     },
     "metadata": {},
     "output_type": "display_data"
    },
    {
     "data": {
      "application/vnd.jupyter.widget-view+json": {
       "model_id": "",
       "version_major": 2,
       "version_minor": 0
      },
      "text/plain": [
       "Train indices generated (creditcard_edited):   0%|          | 0/100 [00:00<?, ?it/s]"
      ]
     },
     "metadata": {},
     "output_type": "display_data"
    },
    {
     "data": {
      "application/vnd.jupyter.widget-view+json": {
       "model_id": "",
       "version_major": 2,
       "version_minor": 0
      },
      "text/plain": [
       "Train indices generated (news_edited):   0%|          | 0/100 [00:00<?, ?it/s]"
      ]
     },
     "metadata": {},
     "output_type": "display_data"
    }
   ],
   "source": [
    "# helpers.comparison.setup.generate_bool_indices_for_dataset_tasks(overwrite_indices=True,\n",
    "#                                                                 n_synthetic_datasets=100)"
   ]
  },
  {
   "cell_type": "code",
   "execution_count": 31,
   "id": "1640ab62",
   "metadata": {},
   "outputs": [
    {
     "data": {
      "text/plain": [
       "Index(['age', 'workclass', 'fnlwgt', 'education', 'educational_num',\n",
       "       'marital_status', 'occupation', 'race', 'gender', 'capital_gain',\n",
       "       'capital_loss', 'hours_per_week', 'native_country', 'income'],\n",
       "      dtype='object')"
      ]
     },
     "execution_count": 31,
     "metadata": {},
     "output_type": "execute_result"
    }
   ],
   "source": [
    "df = pd.read_csv(os.path.join(const.dir.data_comparison(), \"adult_edited.csv\"))\n",
    "df.columns"
   ]
  },
  {
   "cell_type": "code",
   "execution_count": 32,
   "id": "3b9929a8",
   "metadata": {},
   "outputs": [
    {
     "data": {
      "text/plain": [
       "array(['workclass', 'education', 'marital_status', 'occupation', 'race',\n",
       "       'gender', 'native_country', 'income'], dtype=object)"
      ]
     },
     "execution_count": 32,
     "metadata": {},
     "output_type": "execute_result"
    }
   ],
   "source": [
    "df.select_dtypes(exclude=[np.number]).columns.values"
   ]
  },
  {
   "cell_type": "code",
   "execution_count": 24,
   "id": "9b769091",
   "metadata": {
    "scrolled": true
   },
   "outputs": [
    {
     "data": {
      "text/html": [
       "<div>\n",
       "<style scoped>\n",
       "    .dataframe tbody tr th:only-of-type {\n",
       "        vertical-align: middle;\n",
       "    }\n",
       "\n",
       "    .dataframe tbody tr th {\n",
       "        vertical-align: top;\n",
       "    }\n",
       "\n",
       "    .dataframe thead th {\n",
       "        text-align: right;\n",
       "    }\n",
       "</style>\n",
       "<table border=\"1\" class=\"dataframe\">\n",
       "  <thead>\n",
       "    <tr style=\"text-align: right;\">\n",
       "      <th></th>\n",
       "      <th>Time</th>\n",
       "      <th>V1</th>\n",
       "      <th>V2</th>\n",
       "      <th>V3</th>\n",
       "      <th>V4</th>\n",
       "      <th>V5</th>\n",
       "      <th>V6</th>\n",
       "      <th>V7</th>\n",
       "      <th>V8</th>\n",
       "      <th>V9</th>\n",
       "      <th>...</th>\n",
       "      <th>V21</th>\n",
       "      <th>V22</th>\n",
       "      <th>V23</th>\n",
       "      <th>V24</th>\n",
       "      <th>V25</th>\n",
       "      <th>V26</th>\n",
       "      <th>V27</th>\n",
       "      <th>V28</th>\n",
       "      <th>Amount</th>\n",
       "      <th>Class</th>\n",
       "    </tr>\n",
       "  </thead>\n",
       "  <tbody>\n",
       "    <tr>\n",
       "      <th>0</th>\n",
       "      <td>0.0</td>\n",
       "      <td>-1.359807</td>\n",
       "      <td>-0.072781</td>\n",
       "      <td>2.536347</td>\n",
       "      <td>1.378155</td>\n",
       "      <td>-0.338321</td>\n",
       "      <td>0.462388</td>\n",
       "      <td>0.239599</td>\n",
       "      <td>0.098698</td>\n",
       "      <td>0.363787</td>\n",
       "      <td>...</td>\n",
       "      <td>-0.018307</td>\n",
       "      <td>0.277838</td>\n",
       "      <td>-0.110474</td>\n",
       "      <td>0.066928</td>\n",
       "      <td>0.128539</td>\n",
       "      <td>-0.189115</td>\n",
       "      <td>0.133558</td>\n",
       "      <td>-0.021053</td>\n",
       "      <td>149.62</td>\n",
       "      <td>Class0</td>\n",
       "    </tr>\n",
       "    <tr>\n",
       "      <th>2</th>\n",
       "      <td>1.0</td>\n",
       "      <td>-1.358354</td>\n",
       "      <td>-1.340163</td>\n",
       "      <td>1.773209</td>\n",
       "      <td>0.379780</td>\n",
       "      <td>-0.503198</td>\n",
       "      <td>1.800499</td>\n",
       "      <td>0.791461</td>\n",
       "      <td>0.247676</td>\n",
       "      <td>-1.514654</td>\n",
       "      <td>...</td>\n",
       "      <td>0.247998</td>\n",
       "      <td>0.771679</td>\n",
       "      <td>0.909412</td>\n",
       "      <td>-0.689281</td>\n",
       "      <td>-0.327642</td>\n",
       "      <td>-0.139097</td>\n",
       "      <td>-0.055353</td>\n",
       "      <td>-0.059752</td>\n",
       "      <td>378.66</td>\n",
       "      <td>Class0</td>\n",
       "    </tr>\n",
       "    <tr>\n",
       "      <th>3</th>\n",
       "      <td>1.0</td>\n",
       "      <td>-0.966272</td>\n",
       "      <td>-0.185226</td>\n",
       "      <td>1.792993</td>\n",
       "      <td>-0.863291</td>\n",
       "      <td>-0.010309</td>\n",
       "      <td>1.247203</td>\n",
       "      <td>0.237609</td>\n",
       "      <td>0.377436</td>\n",
       "      <td>-1.387024</td>\n",
       "      <td>...</td>\n",
       "      <td>-0.108300</td>\n",
       "      <td>0.005274</td>\n",
       "      <td>-0.190321</td>\n",
       "      <td>-1.175575</td>\n",
       "      <td>0.647376</td>\n",
       "      <td>-0.221929</td>\n",
       "      <td>0.062723</td>\n",
       "      <td>0.061458</td>\n",
       "      <td>123.50</td>\n",
       "      <td>Class0</td>\n",
       "    </tr>\n",
       "    <tr>\n",
       "      <th>4</th>\n",
       "      <td>2.0</td>\n",
       "      <td>-1.158233</td>\n",
       "      <td>0.877737</td>\n",
       "      <td>1.548718</td>\n",
       "      <td>0.403034</td>\n",
       "      <td>-0.407193</td>\n",
       "      <td>0.095921</td>\n",
       "      <td>0.592941</td>\n",
       "      <td>-0.270533</td>\n",
       "      <td>0.817739</td>\n",
       "      <td>...</td>\n",
       "      <td>-0.009431</td>\n",
       "      <td>0.798278</td>\n",
       "      <td>-0.137458</td>\n",
       "      <td>0.141267</td>\n",
       "      <td>-0.206010</td>\n",
       "      <td>0.502292</td>\n",
       "      <td>0.219422</td>\n",
       "      <td>0.215153</td>\n",
       "      <td>69.99</td>\n",
       "      <td>Class0</td>\n",
       "    </tr>\n",
       "    <tr>\n",
       "      <th>5</th>\n",
       "      <td>2.0</td>\n",
       "      <td>-0.425966</td>\n",
       "      <td>0.960523</td>\n",
       "      <td>1.141109</td>\n",
       "      <td>-0.168252</td>\n",
       "      <td>0.420987</td>\n",
       "      <td>-0.029728</td>\n",
       "      <td>0.476201</td>\n",
       "      <td>0.260314</td>\n",
       "      <td>-0.568671</td>\n",
       "      <td>...</td>\n",
       "      <td>-0.208254</td>\n",
       "      <td>-0.559825</td>\n",
       "      <td>-0.026398</td>\n",
       "      <td>-0.371427</td>\n",
       "      <td>-0.232794</td>\n",
       "      <td>0.105915</td>\n",
       "      <td>0.253844</td>\n",
       "      <td>0.081080</td>\n",
       "      <td>3.67</td>\n",
       "      <td>Class0</td>\n",
       "    </tr>\n",
       "    <tr>\n",
       "      <th>...</th>\n",
       "      <td>...</td>\n",
       "      <td>...</td>\n",
       "      <td>...</td>\n",
       "      <td>...</td>\n",
       "      <td>...</td>\n",
       "      <td>...</td>\n",
       "      <td>...</td>\n",
       "      <td>...</td>\n",
       "      <td>...</td>\n",
       "      <td>...</td>\n",
       "      <td>...</td>\n",
       "      <td>...</td>\n",
       "      <td>...</td>\n",
       "      <td>...</td>\n",
       "      <td>...</td>\n",
       "      <td>...</td>\n",
       "      <td>...</td>\n",
       "      <td>...</td>\n",
       "      <td>...</td>\n",
       "      <td>...</td>\n",
       "      <td>...</td>\n",
       "    </tr>\n",
       "    <tr>\n",
       "      <th>284800</th>\n",
       "      <td>172784.0</td>\n",
       "      <td>2.039560</td>\n",
       "      <td>-0.175233</td>\n",
       "      <td>-1.196825</td>\n",
       "      <td>0.234580</td>\n",
       "      <td>-0.008713</td>\n",
       "      <td>-0.726571</td>\n",
       "      <td>0.017050</td>\n",
       "      <td>-0.118228</td>\n",
       "      <td>0.435402</td>\n",
       "      <td>...</td>\n",
       "      <td>-0.268048</td>\n",
       "      <td>-0.717211</td>\n",
       "      <td>0.297930</td>\n",
       "      <td>-0.359769</td>\n",
       "      <td>-0.315610</td>\n",
       "      <td>0.201114</td>\n",
       "      <td>-0.080826</td>\n",
       "      <td>-0.075071</td>\n",
       "      <td>2.68</td>\n",
       "      <td>Class0</td>\n",
       "    </tr>\n",
       "    <tr>\n",
       "      <th>284801</th>\n",
       "      <td>172785.0</td>\n",
       "      <td>0.120316</td>\n",
       "      <td>0.931005</td>\n",
       "      <td>-0.546012</td>\n",
       "      <td>-0.745097</td>\n",
       "      <td>1.130314</td>\n",
       "      <td>-0.235973</td>\n",
       "      <td>0.812722</td>\n",
       "      <td>0.115093</td>\n",
       "      <td>-0.204064</td>\n",
       "      <td>...</td>\n",
       "      <td>-0.314205</td>\n",
       "      <td>-0.808520</td>\n",
       "      <td>0.050343</td>\n",
       "      <td>0.102800</td>\n",
       "      <td>-0.435870</td>\n",
       "      <td>0.124079</td>\n",
       "      <td>0.217940</td>\n",
       "      <td>0.068803</td>\n",
       "      <td>2.69</td>\n",
       "      <td>Class0</td>\n",
       "    </tr>\n",
       "    <tr>\n",
       "      <th>284802</th>\n",
       "      <td>172786.0</td>\n",
       "      <td>-11.881118</td>\n",
       "      <td>10.071785</td>\n",
       "      <td>-9.834783</td>\n",
       "      <td>-2.066656</td>\n",
       "      <td>-5.364473</td>\n",
       "      <td>-2.606837</td>\n",
       "      <td>-4.918215</td>\n",
       "      <td>7.305334</td>\n",
       "      <td>1.914428</td>\n",
       "      <td>...</td>\n",
       "      <td>0.213454</td>\n",
       "      <td>0.111864</td>\n",
       "      <td>1.014480</td>\n",
       "      <td>-0.509348</td>\n",
       "      <td>1.436807</td>\n",
       "      <td>0.250034</td>\n",
       "      <td>0.943651</td>\n",
       "      <td>0.823731</td>\n",
       "      <td>0.77</td>\n",
       "      <td>Class0</td>\n",
       "    </tr>\n",
       "    <tr>\n",
       "      <th>284804</th>\n",
       "      <td>172788.0</td>\n",
       "      <td>1.919565</td>\n",
       "      <td>-0.301254</td>\n",
       "      <td>-3.249640</td>\n",
       "      <td>-0.557828</td>\n",
       "      <td>2.630515</td>\n",
       "      <td>3.031260</td>\n",
       "      <td>-0.296827</td>\n",
       "      <td>0.708417</td>\n",
       "      <td>0.432454</td>\n",
       "      <td>...</td>\n",
       "      <td>0.232045</td>\n",
       "      <td>0.578229</td>\n",
       "      <td>-0.037501</td>\n",
       "      <td>0.640134</td>\n",
       "      <td>0.265745</td>\n",
       "      <td>-0.087371</td>\n",
       "      <td>0.004455</td>\n",
       "      <td>-0.026561</td>\n",
       "      <td>67.88</td>\n",
       "      <td>Class0</td>\n",
       "    </tr>\n",
       "    <tr>\n",
       "      <th>284806</th>\n",
       "      <td>172792.0</td>\n",
       "      <td>-0.533413</td>\n",
       "      <td>-0.189733</td>\n",
       "      <td>0.703337</td>\n",
       "      <td>-0.506271</td>\n",
       "      <td>-0.012546</td>\n",
       "      <td>-0.649617</td>\n",
       "      <td>1.577006</td>\n",
       "      <td>-0.414650</td>\n",
       "      <td>0.486180</td>\n",
       "      <td>...</td>\n",
       "      <td>0.261057</td>\n",
       "      <td>0.643078</td>\n",
       "      <td>0.376777</td>\n",
       "      <td>0.008797</td>\n",
       "      <td>-0.473649</td>\n",
       "      <td>-0.818267</td>\n",
       "      <td>-0.002415</td>\n",
       "      <td>0.013649</td>\n",
       "      <td>217.00</td>\n",
       "      <td>Class0</td>\n",
       "    </tr>\n",
       "  </tbody>\n",
       "</table>\n",
       "<p>199365 rows × 31 columns</p>\n",
       "</div>"
      ],
      "text/plain": [
       "            Time         V1         V2        V3        V4        V5  \\\n",
       "0            0.0  -1.359807  -0.072781  2.536347  1.378155 -0.338321   \n",
       "2            1.0  -1.358354  -1.340163  1.773209  0.379780 -0.503198   \n",
       "3            1.0  -0.966272  -0.185226  1.792993 -0.863291 -0.010309   \n",
       "4            2.0  -1.158233   0.877737  1.548718  0.403034 -0.407193   \n",
       "5            2.0  -0.425966   0.960523  1.141109 -0.168252  0.420987   \n",
       "...          ...        ...        ...       ...       ...       ...   \n",
       "284800  172784.0   2.039560  -0.175233 -1.196825  0.234580 -0.008713   \n",
       "284801  172785.0   0.120316   0.931005 -0.546012 -0.745097  1.130314   \n",
       "284802  172786.0 -11.881118  10.071785 -9.834783 -2.066656 -5.364473   \n",
       "284804  172788.0   1.919565  -0.301254 -3.249640 -0.557828  2.630515   \n",
       "284806  172792.0  -0.533413  -0.189733  0.703337 -0.506271 -0.012546   \n",
       "\n",
       "              V6        V7        V8        V9  ...       V21       V22  \\\n",
       "0       0.462388  0.239599  0.098698  0.363787  ... -0.018307  0.277838   \n",
       "2       1.800499  0.791461  0.247676 -1.514654  ...  0.247998  0.771679   \n",
       "3       1.247203  0.237609  0.377436 -1.387024  ... -0.108300  0.005274   \n",
       "4       0.095921  0.592941 -0.270533  0.817739  ... -0.009431  0.798278   \n",
       "5      -0.029728  0.476201  0.260314 -0.568671  ... -0.208254 -0.559825   \n",
       "...          ...       ...       ...       ...  ...       ...       ...   \n",
       "284800 -0.726571  0.017050 -0.118228  0.435402  ... -0.268048 -0.717211   \n",
       "284801 -0.235973  0.812722  0.115093 -0.204064  ... -0.314205 -0.808520   \n",
       "284802 -2.606837 -4.918215  7.305334  1.914428  ...  0.213454  0.111864   \n",
       "284804  3.031260 -0.296827  0.708417  0.432454  ...  0.232045  0.578229   \n",
       "284806 -0.649617  1.577006 -0.414650  0.486180  ...  0.261057  0.643078   \n",
       "\n",
       "             V23       V24       V25       V26       V27       V28  Amount  \\\n",
       "0      -0.110474  0.066928  0.128539 -0.189115  0.133558 -0.021053  149.62   \n",
       "2       0.909412 -0.689281 -0.327642 -0.139097 -0.055353 -0.059752  378.66   \n",
       "3      -0.190321 -1.175575  0.647376 -0.221929  0.062723  0.061458  123.50   \n",
       "4      -0.137458  0.141267 -0.206010  0.502292  0.219422  0.215153   69.99   \n",
       "5      -0.026398 -0.371427 -0.232794  0.105915  0.253844  0.081080    3.67   \n",
       "...          ...       ...       ...       ...       ...       ...     ...   \n",
       "284800  0.297930 -0.359769 -0.315610  0.201114 -0.080826 -0.075071    2.68   \n",
       "284801  0.050343  0.102800 -0.435870  0.124079  0.217940  0.068803    2.69   \n",
       "284802  1.014480 -0.509348  1.436807  0.250034  0.943651  0.823731    0.77   \n",
       "284804 -0.037501  0.640134  0.265745 -0.087371  0.004455 -0.026561   67.88   \n",
       "284806  0.376777  0.008797 -0.473649 -0.818267 -0.002415  0.013649  217.00   \n",
       "\n",
       "         Class  \n",
       "0       Class0  \n",
       "2       Class0  \n",
       "3       Class0  \n",
       "4       Class0  \n",
       "5       Class0  \n",
       "...        ...  \n",
       "284800  Class0  \n",
       "284801  Class0  \n",
       "284802  Class0  \n",
       "284804  Class0  \n",
       "284806  Class0  \n",
       "\n",
       "[199365 rows x 31 columns]"
      ]
     },
     "execution_count": 24,
     "metadata": {},
     "output_type": "execute_result"
    }
   ],
   "source": [
    "ix = np.load(\"T:\\\\Master-thesis-cf\\\\data\\\\comparison\\\\indices\\\\creditcard_edited\\\\bool_indices_6.npy\", allow_pickle=True)\n",
    "df.loc[ix,:]"
   ]
  },
  {
   "cell_type": "code",
   "execution_count": 32,
   "id": "02350623",
   "metadata": {},
   "outputs": [],
   "source": [
    "from tabGAN import TabGAN\n",
    "def tabGAN_example_synthesizer(data):\n",
    "    tg_qtr = TabGAN(data, batch_size=500, ctgan=True, n_critic=10, adam_beta1 = 0.5,\n",
    "                 quantile_transformation_int=True, quantile_rand_transformation=True, qtr_spread=1,\n",
    "                 activation_function=\"mish\", jit_compile=True, qt_n_subsample=int(1e5))\n",
    "    tg_qtr.train(100, progress_bar=True)\n",
    "    return tg_qtr.sample()"
   ]
  },
  {
   "cell_type": "code",
   "execution_count": null,
   "id": "bd386192",
   "metadata": {},
   "outputs": [],
   "source": [
    "helpers.comparison.synthesize_multiple_datasets(tabGAN_example_synthesizer, \"tabGAN_example\",\n",
    "                                               n_synthetic_datasets=5,\n",
    "                                                overwrite_dataset=True,\n",
    "                                               datasets=[\"news_edited\"])"
   ]
  },
  {
   "cell_type": "code",
   "execution_count": 25,
   "id": "56ea513a",
   "metadata": {},
   "outputs": [],
   "source": [
    "import tensorflow as tf\n",
    "a = tf.constant(0.01)"
   ]
  },
  {
   "cell_type": "code",
   "execution_count": 26,
   "id": "8512bdb7",
   "metadata": {},
   "outputs": [
    {
     "data": {
      "text/plain": [
       "<tf.Tensor: shape=(), dtype=float32, numpy=0.0>"
      ]
     },
     "execution_count": 26,
     "metadata": {},
     "output_type": "execute_result"
    }
   ],
   "source": [
    "a**100000"
   ]
  },
  {
   "cell_type": "code",
   "execution_count": 4,
   "id": "7303bc95",
   "metadata": {},
   "outputs": [
    {
     "data": {
      "application/vnd.jupyter.widget-view+json": {
       "model_id": "3eef094df9ae4c1baab1ad5c53a89b87",
       "version_major": 2,
       "version_minor": 0
      },
      "text/plain": [
       "Dataset tasks:   0%|          | 0/3 [00:00<?, ?it/s]"
      ]
     },
     "metadata": {},
     "output_type": "display_data"
    },
    {
     "data": {
      "application/vnd.jupyter.widget-view+json": {
       "model_id": "",
       "version_major": 2,
       "version_minor": 0
      },
      "text/plain": [
       "Synthetic datasets:   0%|          | 0/3 [00:00<?, ?it/s]"
      ]
     },
     "metadata": {},
     "output_type": "display_data"
    },
    {
     "data": {
      "application/vnd.jupyter.widget-view+json": {
       "model_id": "",
       "version_major": 2,
       "version_minor": 0
      },
      "text/plain": [
       "Models:   0%|          | 0/2 [00:00<?, ?it/s]"
      ]
     },
     "metadata": {},
     "output_type": "display_data"
    },
    {
     "data": {
      "application/vnd.jupyter.widget-view+json": {
       "model_id": "",
       "version_major": 2,
       "version_minor": 0
      },
      "text/plain": [
       "Models:   0%|          | 0/2 [00:00<?, ?it/s]"
      ]
     },
     "metadata": {},
     "output_type": "display_data"
    },
    {
     "name": "stdout",
     "output_type": "stream",
     "text": [
      "Model CopulaGAN only has 1 synthetic datasets for dataset task covtype_edited\n"
     ]
    },
    {
     "data": {
      "application/vnd.jupyter.widget-view+json": {
       "model_id": "",
       "version_major": 2,
       "version_minor": 0
      },
      "text/plain": [
       "Models:   0%|          | 0/2 [00:00<?, ?it/s]"
      ]
     },
     "metadata": {},
     "output_type": "display_data"
    },
    {
     "data": {
      "application/vnd.jupyter.widget-view+json": {
       "model_id": "",
       "version_major": 2,
       "version_minor": 0
      },
      "text/plain": [
       "Synthetic datasets:   0%|          | 0/3 [00:00<?, ?it/s]"
      ]
     },
     "metadata": {},
     "output_type": "display_data"
    },
    {
     "data": {
      "application/vnd.jupyter.widget-view+json": {
       "model_id": "",
       "version_major": 2,
       "version_minor": 0
      },
      "text/plain": [
       "Models:   0%|          | 0/2 [00:00<?, ?it/s]"
      ]
     },
     "metadata": {},
     "output_type": "display_data"
    },
    {
     "data": {
      "application/vnd.jupyter.widget-view+json": {
       "model_id": "",
       "version_major": 2,
       "version_minor": 0
      },
      "text/plain": [
       "Models:   0%|          | 0/2 [00:00<?, ?it/s]"
      ]
     },
     "metadata": {},
     "output_type": "display_data"
    },
    {
     "name": "stdout",
     "output_type": "stream",
     "text": [
      "Model CopulaGAN only has 1 synthetic datasets for dataset task creditcard_edited\n"
     ]
    },
    {
     "data": {
      "application/vnd.jupyter.widget-view+json": {
       "model_id": "",
       "version_major": 2,
       "version_minor": 0
      },
      "text/plain": [
       "Models:   0%|          | 0/2 [00:00<?, ?it/s]"
      ]
     },
     "metadata": {},
     "output_type": "display_data"
    },
    {
     "data": {
      "application/vnd.jupyter.widget-view+json": {
       "model_id": "",
       "version_major": 2,
       "version_minor": 0
      },
      "text/plain": [
       "Synthetic datasets:   0%|          | 0/3 [00:00<?, ?it/s]"
      ]
     },
     "metadata": {},
     "output_type": "display_data"
    },
    {
     "data": {
      "application/vnd.jupyter.widget-view+json": {
       "model_id": "",
       "version_major": 2,
       "version_minor": 0
      },
      "text/plain": [
       "Models:   0%|          | 0/2 [00:00<?, ?it/s]"
      ]
     },
     "metadata": {},
     "output_type": "display_data"
    },
    {
     "data": {
      "application/vnd.jupyter.widget-view+json": {
       "model_id": "",
       "version_major": 2,
       "version_minor": 0
      },
      "text/plain": [
       "Models:   0%|          | 0/2 [00:00<?, ?it/s]"
      ]
     },
     "metadata": {},
     "output_type": "display_data"
    },
    {
     "data": {
      "application/vnd.jupyter.widget-view+json": {
       "model_id": "",
       "version_major": 2,
       "version_minor": 0
      },
      "text/plain": [
       "Models:   0%|          | 0/2 [00:00<?, ?it/s]"
      ]
     },
     "metadata": {},
     "output_type": "display_data"
    }
   ],
   "source": [
    "comparison_output = helpers.comparison.eval_ml_efficacy([\"CopulaGAN\"],\n",
    "                                                        datasets=[\"covtype_edited\", \"creditcard_edited\", \"news_edited\"],\n",
    "                                    n_synthetic_datasets=3,\n",
    "                                   metric_evals=[\"Mean\", \"Median\", \"Percentile10\", \"Percentile90\"],\n",
    "                                                       allow_fewer_synthetic_datasets=True)"
   ]
  },
  {
   "cell_type": "code",
   "execution_count": 15,
   "id": "0dcc1eea",
   "metadata": {},
   "outputs": [
    {
     "data": {
      "application/vnd.jupyter.widget-view+json": {
       "model_id": "cd1066756395456fac3680ecade9fd02",
       "version_major": 2,
       "version_minor": 0
      },
      "text/plain": [
       "Dataset tasks:   0%|          | 0/3 [00:00<?, ?it/s]"
      ]
     },
     "metadata": {},
     "output_type": "display_data"
    },
    {
     "data": {
      "application/vnd.jupyter.widget-view+json": {
       "model_id": "",
       "version_major": 2,
       "version_minor": 0
      },
      "text/plain": [
       "Synthetic datasets:   0%|          | 0/5 [00:00<?, ?it/s]"
      ]
     },
     "metadata": {},
     "output_type": "display_data"
    },
    {
     "data": {
      "application/vnd.jupyter.widget-view+json": {
       "model_id": "",
       "version_major": 2,
       "version_minor": 0
      },
      "text/plain": [
       "Models:   0%|          | 0/13 [00:00<?, ?it/s]"
      ]
     },
     "metadata": {},
     "output_type": "display_data"
    },
    {
     "data": {
      "application/vnd.jupyter.widget-view+json": {
       "model_id": "",
       "version_major": 2,
       "version_minor": 0
      },
      "text/plain": [
       "Models:   0%|          | 0/13 [00:00<?, ?it/s]"
      ]
     },
     "metadata": {},
     "output_type": "display_data"
    },
    {
     "name": "stdout",
     "output_type": "stream",
     "text": [
      "Model CopulaGAN only has 1 synthetic datasets for dataset task covtype_edited\n"
     ]
    },
    {
     "data": {
      "application/vnd.jupyter.widget-view+json": {
       "model_id": "",
       "version_major": 2,
       "version_minor": 0
      },
      "text/plain": [
       "Models:   0%|          | 0/13 [00:00<?, ?it/s]"
      ]
     },
     "metadata": {},
     "output_type": "display_data"
    },
    {
     "name": "stdout",
     "output_type": "stream",
     "text": [
      "Model CTGAN-pac1 only has 2 synthetic datasets for dataset task covtype_edited\n",
      "Model CTGAN-pac10 only has 2 synthetic datasets for dataset task covtype_edited\n",
      "Model CTGANSynthesizer-pac1 only has 2 synthetic datasets for dataset task covtype_edited\n",
      "Model CTGANSynthesizer-pac10 only has 2 synthetic datasets for dataset task covtype_edited\n"
     ]
    },
    {
     "data": {
      "application/vnd.jupyter.widget-view+json": {
       "model_id": "",
       "version_major": 2,
       "version_minor": 0
      },
      "text/plain": [
       "Models:   0%|          | 0/13 [00:00<?, ?it/s]"
      ]
     },
     "metadata": {},
     "output_type": "display_data"
    },
    {
     "data": {
      "application/vnd.jupyter.widget-view+json": {
       "model_id": "",
       "version_major": 2,
       "version_minor": 0
      },
      "text/plain": [
       "Models:   0%|          | 0/13 [00:00<?, ?it/s]"
      ]
     },
     "metadata": {},
     "output_type": "display_data"
    },
    {
     "data": {
      "application/vnd.jupyter.widget-view+json": {
       "model_id": "",
       "version_major": 2,
       "version_minor": 0
      },
      "text/plain": [
       "Synthetic datasets:   0%|          | 0/5 [00:00<?, ?it/s]"
      ]
     },
     "metadata": {},
     "output_type": "display_data"
    },
    {
     "data": {
      "application/vnd.jupyter.widget-view+json": {
       "model_id": "",
       "version_major": 2,
       "version_minor": 0
      },
      "text/plain": [
       "Models:   0%|          | 0/13 [00:00<?, ?it/s]"
      ]
     },
     "metadata": {},
     "output_type": "display_data"
    },
    {
     "data": {
      "application/vnd.jupyter.widget-view+json": {
       "model_id": "",
       "version_major": 2,
       "version_minor": 0
      },
      "text/plain": [
       "Models:   0%|          | 0/13 [00:00<?, ?it/s]"
      ]
     },
     "metadata": {},
     "output_type": "display_data"
    },
    {
     "name": "stdout",
     "output_type": "stream",
     "text": [
      "Model CopulaGAN only has 1 synthetic datasets for dataset task creditcard_edited\n"
     ]
    },
    {
     "data": {
      "application/vnd.jupyter.widget-view+json": {
       "model_id": "",
       "version_major": 2,
       "version_minor": 0
      },
      "text/plain": [
       "Models:   0%|          | 0/13 [00:00<?, ?it/s]"
      ]
     },
     "metadata": {},
     "output_type": "display_data"
    },
    {
     "name": "stdout",
     "output_type": "stream",
     "text": [
      "Model CTGAN-pac1 only has 2 synthetic datasets for dataset task creditcard_edited\n",
      "Model CTGAN-pac10 only has 2 synthetic datasets for dataset task creditcard_edited\n",
      "Model CTGANSynthesizer-pac1 only has 2 synthetic datasets for dataset task creditcard_edited\n",
      "Model CTGANSynthesizer-pac10 only has 2 synthetic datasets for dataset task creditcard_edited\n"
     ]
    },
    {
     "data": {
      "application/vnd.jupyter.widget-view+json": {
       "model_id": "",
       "version_major": 2,
       "version_minor": 0
      },
      "text/plain": [
       "Models:   0%|          | 0/13 [00:00<?, ?it/s]"
      ]
     },
     "metadata": {},
     "output_type": "display_data"
    },
    {
     "data": {
      "application/vnd.jupyter.widget-view+json": {
       "model_id": "",
       "version_major": 2,
       "version_minor": 0
      },
      "text/plain": [
       "Models:   0%|          | 0/13 [00:00<?, ?it/s]"
      ]
     },
     "metadata": {},
     "output_type": "display_data"
    },
    {
     "data": {
      "application/vnd.jupyter.widget-view+json": {
       "model_id": "",
       "version_major": 2,
       "version_minor": 0
      },
      "text/plain": [
       "Synthetic datasets:   0%|          | 0/5 [00:00<?, ?it/s]"
      ]
     },
     "metadata": {},
     "output_type": "display_data"
    },
    {
     "data": {
      "application/vnd.jupyter.widget-view+json": {
       "model_id": "",
       "version_major": 2,
       "version_minor": 0
      },
      "text/plain": [
       "Models:   0%|          | 0/13 [00:00<?, ?it/s]"
      ]
     },
     "metadata": {},
     "output_type": "display_data"
    },
    {
     "data": {
      "application/vnd.jupyter.widget-view+json": {
       "model_id": "",
       "version_major": 2,
       "version_minor": 0
      },
      "text/plain": [
       "Models:   0%|          | 0/13 [00:00<?, ?it/s]"
      ]
     },
     "metadata": {},
     "output_type": "display_data"
    },
    {
     "data": {
      "application/vnd.jupyter.widget-view+json": {
       "model_id": "",
       "version_major": 2,
       "version_minor": 0
      },
      "text/plain": [
       "Models:   0%|          | 0/13 [00:00<?, ?it/s]"
      ]
     },
     "metadata": {},
     "output_type": "display_data"
    },
    {
     "data": {
      "application/vnd.jupyter.widget-view+json": {
       "model_id": "",
       "version_major": 2,
       "version_minor": 0
      },
      "text/plain": [
       "Models:   0%|          | 0/13 [00:00<?, ?it/s]"
      ]
     },
     "metadata": {},
     "output_type": "display_data"
    },
    {
     "data": {
      "application/vnd.jupyter.widget-view+json": {
       "model_id": "",
       "version_major": 2,
       "version_minor": 0
      },
      "text/plain": [
       "Models:   0%|          | 0/13 [00:00<?, ?it/s]"
      ]
     },
     "metadata": {},
     "output_type": "display_data"
    }
   ],
   "source": [
    "comparison_output = helpers.comparison.eval_ml_efficacy([\"TVAE\", \"TVAE-mod\", \"TVAESynthesizer\", \"TVAESynthesizer-mod\",\n",
    "                                                         \"CTGAN-pac1\", \"CTGAN-pac10\",\n",
    "                                                        \"CTGANSynthesizer-pac1\", \"CTGANSynthesizer-pac10\",\n",
    "                                                        \"GaussianCopula\", \"tabFairGAN\", \"tabFairGAN-mod\",\n",
    "                                                        \"CopulaGAN\"],\n",
    "                                                        datasets=[\"covtype_edited\", \"creditcard_edited\", \"news_edited\"],\n",
    "                                                        n_synthetic_datasets=5,\n",
    "                                                        metric_evals=[\"Mean\", \"Median\", \"Percentile5\", \"Percentile95\"],\n",
    "                                                        allow_fewer_synthetic_datasets=True)"
   ]
  },
  {
   "cell_type": "code",
   "execution_count": 16,
   "id": "ce635839",
   "metadata": {},
   "outputs": [
    {
     "data": {
      "text/html": [
       "<div>\n",
       "<style scoped>\n",
       "    .dataframe tbody tr th:only-of-type {\n",
       "        vertical-align: middle;\n",
       "    }\n",
       "\n",
       "    .dataframe tbody tr th {\n",
       "        vertical-align: top;\n",
       "    }\n",
       "\n",
       "    .dataframe thead tr th {\n",
       "        text-align: left;\n",
       "    }\n",
       "</style>\n",
       "<table border=\"1\" class=\"dataframe\">\n",
       "  <thead>\n",
       "    <tr>\n",
       "      <th></th>\n",
       "      <th></th>\n",
       "      <th colspan=\"2\" halign=\"left\">Covtype</th>\n",
       "      <th colspan=\"3\" halign=\"left\">Creditcard</th>\n",
       "      <th colspan=\"3\" halign=\"left\">News</th>\n",
       "    </tr>\n",
       "    <tr>\n",
       "      <th></th>\n",
       "      <th>Model</th>\n",
       "      <th>Test Accuracy</th>\n",
       "      <th>Test F1</th>\n",
       "      <th>Test Accuracy</th>\n",
       "      <th>Test AUPRC</th>\n",
       "      <th>Test F1</th>\n",
       "      <th>Test Accuracy</th>\n",
       "      <th>Test AUC</th>\n",
       "      <th>Test F1</th>\n",
       "    </tr>\n",
       "  </thead>\n",
       "  <tbody>\n",
       "    <tr>\n",
       "      <th>0</th>\n",
       "      <td>Train dataset</td>\n",
       "      <td>0.87 (0.869, 0.872)</td>\n",
       "      <td>0.867 (0.866, 0.869)</td>\n",
       "      <td>1.0 (0.999, 1.0)</td>\n",
       "      <td>0.862 (0.837, 0.882)</td>\n",
       "      <td>0.927 (0.913, 0.937)</td>\n",
       "      <td>0.791 (0.786, 0.793)</td>\n",
       "      <td>0.693 (0.686, 0.697)</td>\n",
       "      <td>0.552 (0.547, 0.556)</td>\n",
       "    </tr>\n",
       "    <tr>\n",
       "      <th>1</th>\n",
       "      <td>TVAE</td>\n",
       "      <td>0.716 (0.692, 0.723)</td>\n",
       "      <td>0.735 (0.707, 0.744)</td>\n",
       "      <td>nan (nan, nan)</td>\n",
       "      <td>nan (nan, nan)</td>\n",
       "      <td>nan (nan, nan)</td>\n",
       "      <td>0.799 (0.797, 0.802)</td>\n",
       "      <td>0.659 (0.63, 0.66)</td>\n",
       "      <td>0.457 (0.448, 0.462)</td>\n",
       "    </tr>\n",
       "    <tr>\n",
       "      <th>2</th>\n",
       "      <td>TVAE-mod</td>\n",
       "      <td>0.738 (0.723, 0.743)</td>\n",
       "      <td>0.753 (0.747, 0.762)</td>\n",
       "      <td>nan (nan, nan)</td>\n",
       "      <td>nan (nan, nan)</td>\n",
       "      <td>nan (nan, nan)</td>\n",
       "      <td>0.799 (0.798, 0.802)</td>\n",
       "      <td>0.641 (0.639, 0.663)</td>\n",
       "      <td>0.453 (0.449, 0.455)</td>\n",
       "    </tr>\n",
       "    <tr>\n",
       "      <th>3</th>\n",
       "      <td>TVAESynthesizer</td>\n",
       "      <td>0.719 (0.715, 0.731)</td>\n",
       "      <td>0.742 (0.728, 0.751)</td>\n",
       "      <td>0.999 (0.998, 0.999)</td>\n",
       "      <td>0.604 (0.101, 0.693)</td>\n",
       "      <td>0.76 (0.5, 0.832)</td>\n",
       "      <td>0.798 (0.798, 0.802)</td>\n",
       "      <td>0.64 (0.631, 0.658)</td>\n",
       "      <td>0.448 (0.448, 0.464)</td>\n",
       "    </tr>\n",
       "    <tr>\n",
       "      <th>4</th>\n",
       "      <td>TVAESynthesizer-mod</td>\n",
       "      <td>0.741 (0.74, 0.741)</td>\n",
       "      <td>0.758 (0.756, 0.761)</td>\n",
       "      <td>0.998 (0.998, 0.998)</td>\n",
       "      <td>0.501 (0.233, 0.519)</td>\n",
       "      <td>0.516 (0.5, 0.603)</td>\n",
       "      <td>0.798 (0.798, 0.802)</td>\n",
       "      <td>0.649 (0.636, 0.665)</td>\n",
       "      <td>0.459 (0.448, 0.471)</td>\n",
       "    </tr>\n",
       "    <tr>\n",
       "      <th>5</th>\n",
       "      <td>CTGAN-pac1</td>\n",
       "      <td>0.66 (0.657, 0.663)</td>\n",
       "      <td>0.697 (0.696, 0.698)</td>\n",
       "      <td>0.999 (0.999, 0.999)</td>\n",
       "      <td>0.77 (0.726, 0.815)</td>\n",
       "      <td>0.885 (0.862, 0.907)</td>\n",
       "      <td>0.77 (0.752, 0.781)</td>\n",
       "      <td>0.646 (0.638, 0.65)</td>\n",
       "      <td>0.551 (0.536, 0.565)</td>\n",
       "    </tr>\n",
       "    <tr>\n",
       "      <th>6</th>\n",
       "      <td>CTGAN-pac10</td>\n",
       "      <td>0.636 (0.634, 0.638)</td>\n",
       "      <td>0.675 (0.672, 0.679)</td>\n",
       "      <td>0.999 (0.999, 0.999)</td>\n",
       "      <td>0.764 (0.728, 0.799)</td>\n",
       "      <td>0.877 (0.859, 0.896)</td>\n",
       "      <td>0.779 (0.77, 0.788)</td>\n",
       "      <td>0.641 (0.631, 0.647)</td>\n",
       "      <td>0.523 (0.51, 0.535)</td>\n",
       "    </tr>\n",
       "    <tr>\n",
       "      <th>7</th>\n",
       "      <td>CTGANSynthesizer-pac1</td>\n",
       "      <td>0.663 (0.662, 0.663)</td>\n",
       "      <td>0.704 (0.702, 0.706)</td>\n",
       "      <td>0.949 (0.934, 0.964)</td>\n",
       "      <td>0.473 (0.466, 0.481)</td>\n",
       "      <td>0.521 (0.507, 0.535)</td>\n",
       "      <td>0.785 (0.778, 0.792)</td>\n",
       "      <td>0.654 (0.645, 0.66)</td>\n",
       "      <td>0.526 (0.521, 0.542)</td>\n",
       "    </tr>\n",
       "    <tr>\n",
       "      <th>8</th>\n",
       "      <td>CTGANSynthesizer-pac10</td>\n",
       "      <td>0.63 (0.629, 0.631)</td>\n",
       "      <td>0.676 (0.676, 0.677)</td>\n",
       "      <td>0.913 (0.913, 0.914)</td>\n",
       "      <td>0.472 (0.47, 0.473)</td>\n",
       "      <td>0.496 (0.496, 0.497)</td>\n",
       "      <td>0.783 (0.782, 0.787)</td>\n",
       "      <td>0.645 (0.623, 0.656)</td>\n",
       "      <td>0.526 (0.502, 0.539)</td>\n",
       "    </tr>\n",
       "    <tr>\n",
       "      <th>9</th>\n",
       "      <td>GaussianCopula</td>\n",
       "      <td>nan (nan, nan)</td>\n",
       "      <td>nan (nan, nan)</td>\n",
       "      <td>nan (nan, nan)</td>\n",
       "      <td>nan (nan, nan)</td>\n",
       "      <td>nan (nan, nan)</td>\n",
       "      <td>0.793 (0.79, 0.798)</td>\n",
       "      <td>0.609 (0.598, 0.626)</td>\n",
       "      <td>0.469 (0.462, 0.475)</td>\n",
       "    </tr>\n",
       "    <tr>\n",
       "      <th>10</th>\n",
       "      <td>tabFairGAN</td>\n",
       "      <td>0.718 (0.71, 0.72)</td>\n",
       "      <td>0.737 (0.733, 0.742)</td>\n",
       "      <td>0.998 (0.997, 0.998)</td>\n",
       "      <td>0.501 (0.031, 0.501)</td>\n",
       "      <td>0.5 (0.5, 0.526)</td>\n",
       "      <td>0.775 (0.761, 0.782)</td>\n",
       "      <td>0.622 (0.605, 0.639)</td>\n",
       "      <td>0.535 (0.503, 0.565)</td>\n",
       "    </tr>\n",
       "    <tr>\n",
       "      <th>11</th>\n",
       "      <td>tabFairGAN-mod</td>\n",
       "      <td>0.722 (0.721, 0.729)</td>\n",
       "      <td>0.74 (0.731, 0.747)</td>\n",
       "      <td>nan (nan, nan)</td>\n",
       "      <td>nan (nan, nan)</td>\n",
       "      <td>nan (nan, nan)</td>\n",
       "      <td>0.734 (0.683, 0.796)</td>\n",
       "      <td>0.602 (0.599, 0.627)</td>\n",
       "      <td>0.549 (0.458, 0.569)</td>\n",
       "    </tr>\n",
       "    <tr>\n",
       "      <th>12</th>\n",
       "      <td>CopulaGAN</td>\n",
       "      <td>0.689 (0.689, 0.689)</td>\n",
       "      <td>0.716 (0.716, 0.716)</td>\n",
       "      <td>0.997 (0.997, 0.997)</td>\n",
       "      <td>0.308 (0.308, 0.308)</td>\n",
       "      <td>0.65 (0.65, 0.65)</td>\n",
       "      <td>0.792 (0.771, 0.794)</td>\n",
       "      <td>0.622 (0.61, 0.632)</td>\n",
       "      <td>0.484 (0.48, 0.534)</td>\n",
       "    </tr>\n",
       "  </tbody>\n",
       "</table>\n",
       "</div>"
      ],
      "text/plain": [
       "                                         Covtype                        \\\n",
       "                     Model         Test Accuracy               Test F1   \n",
       "0            Train dataset   0.87 (0.869, 0.872)  0.867 (0.866, 0.869)   \n",
       "1                     TVAE  0.716 (0.692, 0.723)  0.735 (0.707, 0.744)   \n",
       "2                 TVAE-mod  0.738 (0.723, 0.743)  0.753 (0.747, 0.762)   \n",
       "3          TVAESynthesizer  0.719 (0.715, 0.731)  0.742 (0.728, 0.751)   \n",
       "4      TVAESynthesizer-mod   0.741 (0.74, 0.741)  0.758 (0.756, 0.761)   \n",
       "5               CTGAN-pac1   0.66 (0.657, 0.663)  0.697 (0.696, 0.698)   \n",
       "6              CTGAN-pac10  0.636 (0.634, 0.638)  0.675 (0.672, 0.679)   \n",
       "7    CTGANSynthesizer-pac1  0.663 (0.662, 0.663)  0.704 (0.702, 0.706)   \n",
       "8   CTGANSynthesizer-pac10   0.63 (0.629, 0.631)  0.676 (0.676, 0.677)   \n",
       "9           GaussianCopula        nan (nan, nan)        nan (nan, nan)   \n",
       "10              tabFairGAN    0.718 (0.71, 0.72)  0.737 (0.733, 0.742)   \n",
       "11          tabFairGAN-mod  0.722 (0.721, 0.729)   0.74 (0.731, 0.747)   \n",
       "12               CopulaGAN  0.689 (0.689, 0.689)  0.716 (0.716, 0.716)   \n",
       "\n",
       "              Creditcard                                              \\\n",
       "           Test Accuracy            Test AUPRC               Test F1   \n",
       "0       1.0 (0.999, 1.0)  0.862 (0.837, 0.882)  0.927 (0.913, 0.937)   \n",
       "1         nan (nan, nan)        nan (nan, nan)        nan (nan, nan)   \n",
       "2         nan (nan, nan)        nan (nan, nan)        nan (nan, nan)   \n",
       "3   0.999 (0.998, 0.999)  0.604 (0.101, 0.693)     0.76 (0.5, 0.832)   \n",
       "4   0.998 (0.998, 0.998)  0.501 (0.233, 0.519)    0.516 (0.5, 0.603)   \n",
       "5   0.999 (0.999, 0.999)   0.77 (0.726, 0.815)  0.885 (0.862, 0.907)   \n",
       "6   0.999 (0.999, 0.999)  0.764 (0.728, 0.799)  0.877 (0.859, 0.896)   \n",
       "7   0.949 (0.934, 0.964)  0.473 (0.466, 0.481)  0.521 (0.507, 0.535)   \n",
       "8   0.913 (0.913, 0.914)   0.472 (0.47, 0.473)  0.496 (0.496, 0.497)   \n",
       "9         nan (nan, nan)        nan (nan, nan)        nan (nan, nan)   \n",
       "10  0.998 (0.997, 0.998)  0.501 (0.031, 0.501)      0.5 (0.5, 0.526)   \n",
       "11        nan (nan, nan)        nan (nan, nan)        nan (nan, nan)   \n",
       "12  0.997 (0.997, 0.997)  0.308 (0.308, 0.308)     0.65 (0.65, 0.65)   \n",
       "\n",
       "                    News                                              \n",
       "           Test Accuracy              Test AUC               Test F1  \n",
       "0   0.791 (0.786, 0.793)  0.693 (0.686, 0.697)  0.552 (0.547, 0.556)  \n",
       "1   0.799 (0.797, 0.802)    0.659 (0.63, 0.66)  0.457 (0.448, 0.462)  \n",
       "2   0.799 (0.798, 0.802)  0.641 (0.639, 0.663)  0.453 (0.449, 0.455)  \n",
       "3   0.798 (0.798, 0.802)   0.64 (0.631, 0.658)  0.448 (0.448, 0.464)  \n",
       "4   0.798 (0.798, 0.802)  0.649 (0.636, 0.665)  0.459 (0.448, 0.471)  \n",
       "5    0.77 (0.752, 0.781)   0.646 (0.638, 0.65)  0.551 (0.536, 0.565)  \n",
       "6    0.779 (0.77, 0.788)  0.641 (0.631, 0.647)   0.523 (0.51, 0.535)  \n",
       "7   0.785 (0.778, 0.792)   0.654 (0.645, 0.66)  0.526 (0.521, 0.542)  \n",
       "8   0.783 (0.782, 0.787)  0.645 (0.623, 0.656)  0.526 (0.502, 0.539)  \n",
       "9    0.793 (0.79, 0.798)  0.609 (0.598, 0.626)  0.469 (0.462, 0.475)  \n",
       "10  0.775 (0.761, 0.782)  0.622 (0.605, 0.639)  0.535 (0.503, 0.565)  \n",
       "11  0.734 (0.683, 0.796)  0.602 (0.599, 0.627)  0.549 (0.458, 0.569)  \n",
       "12  0.792 (0.771, 0.794)   0.622 (0.61, 0.632)   0.484 (0.48, 0.534)  "
      ]
     },
     "execution_count": 16,
     "metadata": {},
     "output_type": "execute_result"
    }
   ],
   "source": [
    "comparison_output_tidy = helpers.comparison.tidy_ml_efficacy_output(comparison_output, extract_median_and_percentile=True)\n",
    "comparison_output_tidy"
   ]
  },
  {
   "cell_type": "code",
   "execution_count": 181,
   "id": "b787fdb4",
   "metadata": {},
   "outputs": [
    {
     "data": {
      "text/plain": [
       "10"
      ]
     },
     "execution_count": 181,
     "metadata": {},
     "output_type": "execute_result"
    }
   ],
   "source": [
    "import re\n",
    "int(re.search( \"pac(\\d+)\", \"CTGAN-orig-pac10\").group(0).replace(\"pac\", \"\"))"
   ]
  },
  {
   "cell_type": "code",
   "execution_count": 117,
   "id": "30dc03a9",
   "metadata": {},
   "outputs": [
    {
     "data": {
      "text/html": [
       "<div>\n",
       "<style scoped>\n",
       "    .dataframe tbody tr th:only-of-type {\n",
       "        vertical-align: middle;\n",
       "    }\n",
       "\n",
       "    .dataframe tbody tr th {\n",
       "        vertical-align: top;\n",
       "    }\n",
       "\n",
       "    .dataframe thead tr th {\n",
       "        text-align: left;\n",
       "    }\n",
       "</style>\n",
       "<table border=\"1\" class=\"dataframe\">\n",
       "  <thead>\n",
       "    <tr>\n",
       "      <th></th>\n",
       "      <th></th>\n",
       "      <th colspan=\"2\" halign=\"left\">Covtype</th>\n",
       "      <th colspan=\"3\" halign=\"left\">Creditcard</th>\n",
       "      <th colspan=\"3\" halign=\"left\">News</th>\n",
       "    </tr>\n",
       "    <tr>\n",
       "      <th></th>\n",
       "      <th>Model</th>\n",
       "      <th>Test Accuracy</th>\n",
       "      <th>Test F1</th>\n",
       "      <th>Test Accuracy</th>\n",
       "      <th>Test AUC</th>\n",
       "      <th>Test F1</th>\n",
       "      <th>Test Accuracy</th>\n",
       "      <th>Test AUC</th>\n",
       "      <th>Test F1</th>\n",
       "    </tr>\n",
       "  </thead>\n",
       "  <tbody>\n",
       "    <tr>\n",
       "      <th>0</th>\n",
       "      <td>Train dataset</td>\n",
       "      <td>0.868 (0.868, 0.868)</td>\n",
       "      <td>0.865 (0.865, 0.865)</td>\n",
       "      <td>0.999 (0.999, 0.999)</td>\n",
       "      <td>0.98 (0.98, 0.98)</td>\n",
       "      <td>0.916 (0.916, 0.916)</td>\n",
       "      <td>0.79 (0.79, 0.79)</td>\n",
       "      <td>0.693 (0.693, 0.693)</td>\n",
       "      <td>0.553 (0.553, 0.553)</td>\n",
       "    </tr>\n",
       "    <tr>\n",
       "      <th>1</th>\n",
       "      <td>tabGAN_example</td>\n",
       "      <td>0.663 (0.663, 0.663)</td>\n",
       "      <td>0.693 (0.693, 0.693)</td>\n",
       "      <td>0.999 (0.999, 0.999)</td>\n",
       "      <td>0.923 (0.923, 0.923)</td>\n",
       "      <td>0.81 (0.81, 0.81)</td>\n",
       "      <td>0.775 (0.775, 0.775)</td>\n",
       "      <td>0.641 (0.641, 0.641)</td>\n",
       "      <td>0.539 (0.539, 0.539)</td>\n",
       "    </tr>\n",
       "  </tbody>\n",
       "</table>\n",
       "</div>"
      ],
      "text/plain": [
       "                                Covtype                        \\\n",
       "            Model         Test Accuracy               Test F1   \n",
       "0   Train dataset  0.868 (0.868, 0.868)  0.865 (0.865, 0.865)   \n",
       "1  tabGAN_example  0.663 (0.663, 0.663)  0.693 (0.693, 0.693)   \n",
       "\n",
       "             Creditcard                                              \\\n",
       "          Test Accuracy              Test AUC               Test F1   \n",
       "0  0.999 (0.999, 0.999)     0.98 (0.98, 0.98)  0.916 (0.916, 0.916)   \n",
       "1  0.999 (0.999, 0.999)  0.923 (0.923, 0.923)     0.81 (0.81, 0.81)   \n",
       "\n",
       "                   News                                              \n",
       "          Test Accuracy              Test AUC               Test F1  \n",
       "0     0.79 (0.79, 0.79)  0.693 (0.693, 0.693)  0.553 (0.553, 0.553)  \n",
       "1  0.775 (0.775, 0.775)  0.641 (0.641, 0.641)  0.539 (0.539, 0.539)  "
      ]
     },
     "execution_count": 117,
     "metadata": {},
     "output_type": "execute_result"
    }
   ],
   "source": [
    "comparison_output_tidy"
   ]
  },
  {
   "cell_type": "code",
   "execution_count": 14,
   "id": "2612936d",
   "metadata": {},
   "outputs": [
    {
     "data": {
      "text/plain": [
       "age                 int64\n",
       "workclass          object\n",
       "fnlwgt              int64\n",
       "education          object\n",
       "educational.num     int64\n",
       "marital.status     object\n",
       "occupation         object\n",
       "race               object\n",
       "gender             object\n",
       "capital.gain        int64\n",
       "capital.loss        int64\n",
       "hours.per.week      int64\n",
       "native.country     object\n",
       "income             object\n",
       "dtype: object"
      ]
     },
     "execution_count": 14,
     "metadata": {},
     "output_type": "execute_result"
    }
   ],
   "source": [
    "pd.read_csv(os.path.join(const.dir.data(), \"df_adult_edited_train.csv\")).dtypes"
   ]
  },
  {
   "cell_type": "code",
   "execution_count": 7,
   "id": "1949cb58",
   "metadata": {},
   "outputs": [
    {
     "data": {
      "text/plain": [
       "Wilderness_Area                       object\n",
       "Soil_Type                             object\n",
       "Elevation                              int64\n",
       "Aspect                                 int64\n",
       "Slope                                  int64\n",
       "Horizontal_Distance_To_Hydrology       int64\n",
       "Vertical_Distance_To_Hydrology         int64\n",
       "Horizontal_Distance_To_Roadways        int64\n",
       "Hillshade_9am                          int64\n",
       "Hillshade_Noon                         int64\n",
       "Hillshade_3pm                          int64\n",
       "Horizontal_Distance_To_Fire_Points     int64\n",
       "Cover_Type                            object\n",
       "dtype: object"
      ]
     },
     "execution_count": 7,
     "metadata": {},
     "output_type": "execute_result"
    }
   ],
   "source": [
    "pd.read_csv(os.path.join(const.dir.data_comparison(), \"covtype_edited.csv\")).dtypes"
   ]
  },
  {
   "cell_type": "code",
   "execution_count": 9,
   "id": "ffff89a6",
   "metadata": {},
   "outputs": [
    {
     "ename": "AttributeError",
     "evalue": "module 'helpers.eval' has no attribute 'fit_and_evaluate_xgboost_model'",
     "output_type": "error",
     "traceback": [
      "\u001b[1;31m---------------------------------------------------------------------------\u001b[0m",
      "\u001b[1;31mAttributeError\u001b[0m                            Traceback (most recent call last)",
      "\u001b[1;32m~\\AppData\\Local\\Temp\\ipykernel_17964\\3889912758.py\u001b[0m in \u001b[0;36m<module>\u001b[1;34m\u001b[0m\n\u001b[1;32m----> 1\u001b[1;33m \u001b[0mhelpers\u001b[0m\u001b[1;33m.\u001b[0m\u001b[0meval\u001b[0m\u001b[1;33m.\u001b[0m\u001b[0mfit_and_evaluate_xgboost_model\u001b[0m\u001b[1;33m(\u001b[0m\u001b[1;33m)\u001b[0m\u001b[1;33m\u001b[0m\u001b[1;33m\u001b[0m\u001b[0m\n\u001b[0m",
      "\u001b[1;31mAttributeError\u001b[0m: module 'helpers.eval' has no attribute 'fit_and_evaluate_xgboost_model'"
     ]
    }
   ],
   "source": []
  },
  {
   "cell_type": "code",
   "execution_count": 8,
   "id": "96305eab",
   "metadata": {},
   "outputs": [
    {
     "data": {
      "text/html": [
       "<div>\n",
       "<style scoped>\n",
       "    .dataframe tbody tr th:only-of-type {\n",
       "        vertical-align: middle;\n",
       "    }\n",
       "\n",
       "    .dataframe tbody tr th {\n",
       "        vertical-align: top;\n",
       "    }\n",
       "\n",
       "    .dataframe thead th {\n",
       "        text-align: right;\n",
       "    }\n",
       "</style>\n",
       "<table border=\"1\" class=\"dataframe\">\n",
       "  <thead>\n",
       "    <tr style=\"text-align: right;\">\n",
       "      <th></th>\n",
       "      <th>Wilderness_Area</th>\n",
       "      <th>Soil_Type</th>\n",
       "      <th>Elevation</th>\n",
       "      <th>Aspect</th>\n",
       "      <th>Slope</th>\n",
       "      <th>Horizontal_Distance_To_Hydrology</th>\n",
       "      <th>Vertical_Distance_To_Hydrology</th>\n",
       "      <th>Horizontal_Distance_To_Roadways</th>\n",
       "      <th>Hillshade_9am</th>\n",
       "      <th>Hillshade_Noon</th>\n",
       "      <th>Hillshade_3pm</th>\n",
       "      <th>Horizontal_Distance_To_Fire_Points</th>\n",
       "      <th>Cover_Type</th>\n",
       "    </tr>\n",
       "  </thead>\n",
       "  <tbody>\n",
       "    <tr>\n",
       "      <th>0</th>\n",
       "      <td>Wilderness_Area1</td>\n",
       "      <td>Soil_Type29</td>\n",
       "      <td>2596</td>\n",
       "      <td>51</td>\n",
       "      <td>3</td>\n",
       "      <td>258</td>\n",
       "      <td>0</td>\n",
       "      <td>510</td>\n",
       "      <td>221</td>\n",
       "      <td>232</td>\n",
       "      <td>148</td>\n",
       "      <td>6279</td>\n",
       "      <td>CoverType5</td>\n",
       "    </tr>\n",
       "    <tr>\n",
       "      <th>1</th>\n",
       "      <td>Wilderness_Area1</td>\n",
       "      <td>Soil_Type29</td>\n",
       "      <td>2590</td>\n",
       "      <td>56</td>\n",
       "      <td>2</td>\n",
       "      <td>212</td>\n",
       "      <td>-6</td>\n",
       "      <td>390</td>\n",
       "      <td>220</td>\n",
       "      <td>235</td>\n",
       "      <td>151</td>\n",
       "      <td>6225</td>\n",
       "      <td>CoverType5</td>\n",
       "    </tr>\n",
       "    <tr>\n",
       "      <th>2</th>\n",
       "      <td>Wilderness_Area1</td>\n",
       "      <td>Soil_Type12</td>\n",
       "      <td>2804</td>\n",
       "      <td>139</td>\n",
       "      <td>9</td>\n",
       "      <td>268</td>\n",
       "      <td>65</td>\n",
       "      <td>3180</td>\n",
       "      <td>234</td>\n",
       "      <td>238</td>\n",
       "      <td>135</td>\n",
       "      <td>6121</td>\n",
       "      <td>CoverType2</td>\n",
       "    </tr>\n",
       "    <tr>\n",
       "      <th>3</th>\n",
       "      <td>Wilderness_Area1</td>\n",
       "      <td>Soil_Type30</td>\n",
       "      <td>2785</td>\n",
       "      <td>155</td>\n",
       "      <td>18</td>\n",
       "      <td>242</td>\n",
       "      <td>118</td>\n",
       "      <td>3090</td>\n",
       "      <td>238</td>\n",
       "      <td>238</td>\n",
       "      <td>122</td>\n",
       "      <td>6211</td>\n",
       "      <td>CoverType2</td>\n",
       "    </tr>\n",
       "    <tr>\n",
       "      <th>4</th>\n",
       "      <td>Wilderness_Area1</td>\n",
       "      <td>Soil_Type29</td>\n",
       "      <td>2595</td>\n",
       "      <td>45</td>\n",
       "      <td>2</td>\n",
       "      <td>153</td>\n",
       "      <td>-1</td>\n",
       "      <td>391</td>\n",
       "      <td>220</td>\n",
       "      <td>234</td>\n",
       "      <td>150</td>\n",
       "      <td>6172</td>\n",
       "      <td>CoverType5</td>\n",
       "    </tr>\n",
       "    <tr>\n",
       "      <th>...</th>\n",
       "      <td>...</td>\n",
       "      <td>...</td>\n",
       "      <td>...</td>\n",
       "      <td>...</td>\n",
       "      <td>...</td>\n",
       "      <td>...</td>\n",
       "      <td>...</td>\n",
       "      <td>...</td>\n",
       "      <td>...</td>\n",
       "      <td>...</td>\n",
       "      <td>...</td>\n",
       "      <td>...</td>\n",
       "      <td>...</td>\n",
       "    </tr>\n",
       "    <tr>\n",
       "      <th>581007</th>\n",
       "      <td>Wilderness_Area3</td>\n",
       "      <td>Soil_Type2</td>\n",
       "      <td>2396</td>\n",
       "      <td>153</td>\n",
       "      <td>20</td>\n",
       "      <td>85</td>\n",
       "      <td>17</td>\n",
       "      <td>108</td>\n",
       "      <td>240</td>\n",
       "      <td>237</td>\n",
       "      <td>118</td>\n",
       "      <td>837</td>\n",
       "      <td>CoverType3</td>\n",
       "    </tr>\n",
       "    <tr>\n",
       "      <th>581008</th>\n",
       "      <td>Wilderness_Area3</td>\n",
       "      <td>Soil_Type2</td>\n",
       "      <td>2391</td>\n",
       "      <td>152</td>\n",
       "      <td>19</td>\n",
       "      <td>67</td>\n",
       "      <td>12</td>\n",
       "      <td>95</td>\n",
       "      <td>240</td>\n",
       "      <td>237</td>\n",
       "      <td>119</td>\n",
       "      <td>845</td>\n",
       "      <td>CoverType3</td>\n",
       "    </tr>\n",
       "    <tr>\n",
       "      <th>581009</th>\n",
       "      <td>Wilderness_Area3</td>\n",
       "      <td>Soil_Type2</td>\n",
       "      <td>2386</td>\n",
       "      <td>159</td>\n",
       "      <td>17</td>\n",
       "      <td>60</td>\n",
       "      <td>7</td>\n",
       "      <td>90</td>\n",
       "      <td>236</td>\n",
       "      <td>241</td>\n",
       "      <td>130</td>\n",
       "      <td>854</td>\n",
       "      <td>CoverType3</td>\n",
       "    </tr>\n",
       "    <tr>\n",
       "      <th>581010</th>\n",
       "      <td>Wilderness_Area3</td>\n",
       "      <td>Soil_Type2</td>\n",
       "      <td>2384</td>\n",
       "      <td>170</td>\n",
       "      <td>15</td>\n",
       "      <td>60</td>\n",
       "      <td>5</td>\n",
       "      <td>90</td>\n",
       "      <td>230</td>\n",
       "      <td>245</td>\n",
       "      <td>143</td>\n",
       "      <td>864</td>\n",
       "      <td>CoverType3</td>\n",
       "    </tr>\n",
       "    <tr>\n",
       "      <th>581011</th>\n",
       "      <td>Wilderness_Area3</td>\n",
       "      <td>Soil_Type2</td>\n",
       "      <td>2383</td>\n",
       "      <td>165</td>\n",
       "      <td>13</td>\n",
       "      <td>60</td>\n",
       "      <td>4</td>\n",
       "      <td>67</td>\n",
       "      <td>231</td>\n",
       "      <td>244</td>\n",
       "      <td>141</td>\n",
       "      <td>875</td>\n",
       "      <td>CoverType3</td>\n",
       "    </tr>\n",
       "  </tbody>\n",
       "</table>\n",
       "<p>581012 rows × 13 columns</p>\n",
       "</div>"
      ],
      "text/plain": [
       "         Wilderness_Area    Soil_Type  Elevation  Aspect  Slope  \\\n",
       "0       Wilderness_Area1  Soil_Type29       2596      51      3   \n",
       "1       Wilderness_Area1  Soil_Type29       2590      56      2   \n",
       "2       Wilderness_Area1  Soil_Type12       2804     139      9   \n",
       "3       Wilderness_Area1  Soil_Type30       2785     155     18   \n",
       "4       Wilderness_Area1  Soil_Type29       2595      45      2   \n",
       "...                  ...          ...        ...     ...    ...   \n",
       "581007  Wilderness_Area3   Soil_Type2       2396     153     20   \n",
       "581008  Wilderness_Area3   Soil_Type2       2391     152     19   \n",
       "581009  Wilderness_Area3   Soil_Type2       2386     159     17   \n",
       "581010  Wilderness_Area3   Soil_Type2       2384     170     15   \n",
       "581011  Wilderness_Area3   Soil_Type2       2383     165     13   \n",
       "\n",
       "        Horizontal_Distance_To_Hydrology  Vertical_Distance_To_Hydrology  \\\n",
       "0                                    258                               0   \n",
       "1                                    212                              -6   \n",
       "2                                    268                              65   \n",
       "3                                    242                             118   \n",
       "4                                    153                              -1   \n",
       "...                                  ...                             ...   \n",
       "581007                                85                              17   \n",
       "581008                                67                              12   \n",
       "581009                                60                               7   \n",
       "581010                                60                               5   \n",
       "581011                                60                               4   \n",
       "\n",
       "        Horizontal_Distance_To_Roadways  Hillshade_9am  Hillshade_Noon  \\\n",
       "0                                   510            221             232   \n",
       "1                                   390            220             235   \n",
       "2                                  3180            234             238   \n",
       "3                                  3090            238             238   \n",
       "4                                   391            220             234   \n",
       "...                                 ...            ...             ...   \n",
       "581007                              108            240             237   \n",
       "581008                               95            240             237   \n",
       "581009                               90            236             241   \n",
       "581010                               90            230             245   \n",
       "581011                               67            231             244   \n",
       "\n",
       "        Hillshade_3pm  Horizontal_Distance_To_Fire_Points  Cover_Type  \n",
       "0                 148                                6279  CoverType5  \n",
       "1                 151                                6225  CoverType5  \n",
       "2                 135                                6121  CoverType2  \n",
       "3                 122                                6211  CoverType2  \n",
       "4                 150                                6172  CoverType5  \n",
       "...               ...                                 ...         ...  \n",
       "581007            118                                 837  CoverType3  \n",
       "581008            119                                 845  CoverType3  \n",
       "581009            130                                 854  CoverType3  \n",
       "581010            143                                 864  CoverType3  \n",
       "581011            141                                 875  CoverType3  \n",
       "\n",
       "[581012 rows x 13 columns]"
      ]
     },
     "execution_count": 8,
     "metadata": {},
     "output_type": "execute_result"
    }
   ],
   "source": [
    "train = pd.read_csv(os.path.join(const.dir.data_comparison(), \"covtype_edited.csv\"))\n",
    "train\n"
   ]
  }
 ],
 "metadata": {
  "kernelspec": {
   "display_name": "tf2.4",
   "language": "python",
   "name": "tf2.4"
  },
  "language_info": {
   "codemirror_mode": {
    "name": "ipython",
    "version": 3
   },
   "file_extension": ".py",
   "mimetype": "text/x-python",
   "name": "python",
   "nbconvert_exporter": "python",
   "pygments_lexer": "ipython3",
   "version": "3.7.11"
  }
 },
 "nbformat": 4,
 "nbformat_minor": 5
}
