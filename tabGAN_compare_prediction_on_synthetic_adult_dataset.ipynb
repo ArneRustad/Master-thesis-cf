{
 "cells": [
  {
   "cell_type": "code",
   "execution_count": 7,
   "id": "42c1725d",
   "metadata": {},
   "outputs": [],
   "source": [
    "imports_path = \".\\\\imports.ipynb\"\n",
    "tableGAN_path = \".\\\\tableGAN.ipynb\"\n",
    "utils_path = \".\\\\utils.ipynb\"\n",
    "\n",
    "%run \"$imports_path\""
   ]
  },
  {
   "cell_type": "code",
   "execution_count": 8,
   "id": "c4cc20a4",
   "metadata": {},
   "outputs": [],
   "source": [
    "%run \"$utils_path\"\n",
    "%run \"$tableGAN_path\"\n",
    "\n",
    "image_dir = \".\\\\Images\"\n",
    "model_dir = \".\\\\Model\\\\tableGAN_ckpt\\\\compare_pred_on_synthetic_adult\\\\\"\n",
    "dataset_dir = \".\\\\Datasets\\\\\"\n",
    "dataset_train_path = os.path.join(dataset_dir, \"df_adult_edited_train.csv\")\n",
    "dataset_test_path = os.path.join(dataset_dir, \"df_adult_edited_test.csv\")\n",
    "dataset_gen_dir = os.path.join(dataset_dir, \"Generated_for_pred_eval_adult//\")\n",
    "\n",
    "data_train = pd.read_csv(dataset_train_path)\n",
    "data_test = pd.read_csv(dataset_test_path)\n",
    "discrete_columns = data_train.columns[data_train.dtypes == \"object\"]"
   ]
  },
  {
   "cell_type": "code",
   "execution_count": 9,
   "id": "7d19b93d",
   "metadata": {},
   "outputs": [],
   "source": [
    "n_epochs = 40\n",
    "n_critic = 10\n",
    "adam_lr = 0.0002\n",
    "adam_beta1 = 0.5\n",
    "noise_discrete_unif_max = 0\n",
    "\n",
    "batch_size = 500\n",
    "\n",
    "n_synthetic_datasets = 5\n",
    "n_synthetic_datasets_existing = 0\n",
    "\n",
    "retrain = False"
   ]
  },
  {
   "cell_type": "code",
   "execution_count": 10,
   "id": "0b761950",
   "metadata": {},
   "outputs": [],
   "source": [
    "%run \"$tableGAN_path\"\n",
    "tg = TableGAN(data_train, n_critic = n_critic, adam_lr = adam_lr, adam_beta1 = adam_beta1,\n",
    "              quantile_transformation_int = False, quantile_rand_transformation = False,\n",
    "             noise_discrete_unif_max = noise_discrete_unif_max)\n",
    "\n",
    "tg_qt = TableGAN(data_train, n_critic = n_critic, adam_lr = adam_lr, adam_beta1 = adam_beta1,\n",
    "              quantile_transformation_int = True, quantile_rand_transformation = False,\n",
    "             noise_discrete_unif_max = noise_discrete_unif_max)\n",
    "\n",
    "tg_qtr = TableGAN(data_train, n_critic = n_critic, adam_lr = adam_lr, adam_beta1 = adam_beta1,\n",
    "              quantile_transformation_int = True, quantile_rand_transformation = True,\n",
    "             noise_discrete_unif_max = noise_discrete_unif_max)\n",
    "\n",
    "# data_train_changed_dtypes = data_train.copy()\n",
    "# data_train_changed_dtypes = data_train_changed_dtypes.astype({\"capital.gain\" : float, \"capital.loss\" : float})\n",
    "# tg_qt_dtype = TableGAN(data_train_changed_dtypes, n_critic = n_critic, adam_lr = adam_lr, adam_beta1 = adam_beta1,\n",
    "#               quantile_transformation_int = True, quantile_rand_transformation = False,\n",
    "#              noise_discrete_unif_max = noise_discrete_unif_max) "
   ]
  },
  {
   "cell_type": "code",
   "execution_count": 11,
   "id": "82873ea6",
   "metadata": {},
   "outputs": [],
   "source": [
    "if retrain:\n",
    "    generate_multiple_datasets(tg, dataset_gen_dir, n_synthetic_datasets, n_epochs, subfolder = \"tabGAN\",\n",
    "                              n_synthetic_datasets_existing=n_synthetic_datasets_existing)"
   ]
  },
  {
   "cell_type": "code",
   "execution_count": 12,
   "id": "34fc7145",
   "metadata": {},
   "outputs": [],
   "source": [
    "if retrain:\n",
    "    generate_multiple_datasets(tg_qt, dataset_gen_dir, n_synthetic_datasets, n_epochs, subfolder = \"tabGAN-qt\",\n",
    "                              n_synthetic_datasets_existing=n_synthetic_datasets_existing)"
   ]
  },
  {
   "cell_type": "code",
   "execution_count": 13,
   "id": "faef2723",
   "metadata": {},
   "outputs": [],
   "source": [
    "if retrain:\n",
    "        generate_multiple_datasets(tg_qt_dtype, dataset_gen_dir, n_synthetic_datasets, n_epochs, subfolder = \"tabGAN-qt_changed_dtype\",\n",
    "                                  n_synthetic_datasets_existing=n_synthetic_datasets_existing)"
   ]
  },
  {
   "cell_type": "code",
   "execution_count": 14,
   "id": "623d794e",
   "metadata": {},
   "outputs": [],
   "source": [
    "if retrain:\n",
    "    generate_multiple_datasets(tg_qtr, dataset_gen_dir, n_synthetic_datasets, n_epochs, subfolder = \"tabGAN-qtr\",\n",
    "                              n_synthetic_datasets_existing=n_synthetic_datasets_existing)"
   ]
  },
  {
   "cell_type": "code",
   "execution_count": 16,
   "id": "75051531",
   "metadata": {},
   "outputs": [
    {
     "data": {
      "application/vnd.jupyter.widget-view+json": {
       "model_id": "762e368ca7684f0ea2157281b0ca769e",
       "version_major": 2,
       "version_minor": 0
      },
      "text/plain": [
       "  0%|          | 0/71 [00:00<?, ?it/s]"
      ]
     },
     "metadata": {},
     "output_type": "display_data"
    },
    {
     "data": {
      "text/html": [
       "<div>\n",
       "<style scoped>\n",
       "    .dataframe tbody tr th:only-of-type {\n",
       "        vertical-align: middle;\n",
       "    }\n",
       "\n",
       "    .dataframe tbody tr th {\n",
       "        vertical-align: top;\n",
       "    }\n",
       "\n",
       "    .dataframe thead th {\n",
       "        text-align: right;\n",
       "    }\n",
       "</style>\n",
       "<table border=\"1\" class=\"dataframe\">\n",
       "  <thead>\n",
       "    <tr style=\"text-align: right;\">\n",
       "      <th></th>\n",
       "      <th>Dataset</th>\n",
       "      <th>Test Accuracy</th>\n",
       "      <th>Test AUC</th>\n",
       "      <th>SD Accuracy</th>\n",
       "      <th>SD AUC</th>\n",
       "    </tr>\n",
       "  </thead>\n",
       "  <tbody>\n",
       "    <tr>\n",
       "      <th>0</th>\n",
       "      <td>Original dataset</td>\n",
       "      <td>0.865803</td>\n",
       "      <td>0.922143</td>\n",
       "      <td>0</td>\n",
       "      <td>0</td>\n",
       "    </tr>\n",
       "    <tr>\n",
       "      <th>1</th>\n",
       "      <td>tabGAN</td>\n",
       "      <td>0.827264</td>\n",
       "      <td>0.875581</td>\n",
       "      <td>0.00607</td>\n",
       "      <td>0.003768</td>\n",
       "    </tr>\n",
       "    <tr>\n",
       "      <th>2</th>\n",
       "      <td>tabGAN-qt</td>\n",
       "      <td>0.822005</td>\n",
       "      <td>0.87225</td>\n",
       "      <td>0.003517</td>\n",
       "      <td>0.003439</td>\n",
       "    </tr>\n",
       "    <tr>\n",
       "      <th>3</th>\n",
       "      <td>tabGAN-qtr</td>\n",
       "      <td>0.822019</td>\n",
       "      <td>0.871999</td>\n",
       "      <td>0.002473</td>\n",
       "      <td>0.003072</td>\n",
       "    </tr>\n",
       "    <tr>\n",
       "      <th>4</th>\n",
       "      <td>TGAN</td>\n",
       "      <td>0.812882</td>\n",
       "      <td>0.854884</td>\n",
       "      <td>0.008462</td>\n",
       "      <td>0.012246</td>\n",
       "    </tr>\n",
       "    <tr>\n",
       "      <th>5</th>\n",
       "      <td>CTGAN</td>\n",
       "      <td>0.825066</td>\n",
       "      <td>0.872641</td>\n",
       "      <td>0.004612</td>\n",
       "      <td>0.002787</td>\n",
       "    </tr>\n",
       "    <tr>\n",
       "      <th>6</th>\n",
       "      <td>tabFairGAN</td>\n",
       "      <td>0.809064</td>\n",
       "      <td>0.848356</td>\n",
       "      <td>0.005419</td>\n",
       "      <td>0.005697</td>\n",
       "    </tr>\n",
       "    <tr>\n",
       "      <th>7</th>\n",
       "      <td>tabFairGAN-mod</td>\n",
       "      <td>0.819489</td>\n",
       "      <td>0.868218</td>\n",
       "      <td>0.00264</td>\n",
       "      <td>0.003226</td>\n",
       "    </tr>\n",
       "  </tbody>\n",
       "</table>\n",
       "</div>"
      ],
      "text/plain": [
       "            Dataset Test Accuracy  Test AUC SD Accuracy    SD AUC\n",
       "0  Original dataset      0.865803  0.922143           0         0\n",
       "1            tabGAN      0.827264  0.875581     0.00607  0.003768\n",
       "2         tabGAN-qt      0.822005   0.87225    0.003517  0.003439\n",
       "3        tabGAN-qtr      0.822019  0.871999    0.002473  0.003072\n",
       "4              TGAN      0.812882  0.854884    0.008462  0.012246\n",
       "5             CTGAN      0.825066  0.872641    0.004612  0.002787\n",
       "6        tabFairGAN      0.809064  0.848356    0.005419  0.005697\n",
       "7    tabFairGAN-mod      0.819489  0.868218     0.00264  0.003226"
      ]
     },
     "execution_count": 16,
     "metadata": {},
     "output_type": "execute_result"
    }
   ],
   "source": [
    "subfolders = [\"tabGAN\", \"tabGAN-qt\", \"tabGAN-qtr\", \"TGAN\", \"CTGAN\", \"tabFairGAN\", \"tabFairGAN-mod\"]\n",
    "efficacy_table_10_epochs = evaluate_tabGAN_through_prediction(data_train, data_test, dataset_gen_dir,\n",
    "                                                              subfolders, n_synthetic_datasets = 10,\n",
    "                                                             name_true_train_dataset=\"Original dataset\")\n",
    "efficacy_table_10_epochs"
   ]
  },
  {
   "cell_type": "code",
   "execution_count": 5,
   "id": "d6b156af",
   "metadata": {},
   "outputs": [
    {
     "data": {
      "application/vnd.jupyter.widget-view+json": {
       "model_id": "6d577b898ec44f45901e4a514dd34e01",
       "version_major": 2,
       "version_minor": 0
      },
      "text/plain": [
       "Generated datasets:   0%|          | 0/5 [00:00<?, ?it/s]"
      ]
     },
     "metadata": {},
     "output_type": "display_data"
    }
   ],
   "source": [
    "n_synthetic_datasets_existing = 5\n",
    "n_synthetic_datasets = 10\n",
    "retrain = True\n",
    "if retrain:\n",
    "    dataset_dir_ctgan = os.path.join(dataset_gen_dir, \"CTGAN\") \n",
    "    os.makedirs(dataset_dir_ctgan, exist_ok = True)\n",
    "    for i in tqdm(range(n_synthetic_datasets_existing, n_synthetic_datasets), desc = \"Generated datasets\"):\n",
    "        ctgan = CTGANSynthesizer(epochs=n_epochs, discriminator_steps=n_critic)\n",
    "        ctgan.fit(data_train, tg.columns_discrete)\n",
    "        fake_train = ctgan.sample(data_train.shape[0])\n",
    "        fake_train.to_csv(os.path.join(dataset_dir_ctgan, f\"gen{i}.csv\"))\n",
    "        del ctgan\n",
    "retrain = False"
   ]
  },
  {
   "cell_type": "code",
   "execution_count": 31,
   "id": "f5eea4b0",
   "metadata": {},
   "outputs": [
    {
     "data": {
      "application/vnd.jupyter.widget-view+json": {
       "model_id": "200bfed0d1b5477abe4e069cab4a0532",
       "version_major": 2,
       "version_minor": 0
      },
      "text/plain": [
       "  0%|          | 0/80 [00:00<?, ?it/s]"
      ]
     },
     "metadata": {},
     "output_type": "display_data"
    },
    {
     "data": {
      "text/html": [
       "<div>\n",
       "<style scoped>\n",
       "    .dataframe tbody tr th:only-of-type {\n",
       "        vertical-align: middle;\n",
       "    }\n",
       "\n",
       "    .dataframe tbody tr th {\n",
       "        vertical-align: top;\n",
       "    }\n",
       "\n",
       "    .dataframe thead th {\n",
       "        text-align: right;\n",
       "    }\n",
       "</style>\n",
       "<table border=\"1\" class=\"dataframe\">\n",
       "  <thead>\n",
       "    <tr style=\"text-align: right;\">\n",
       "      <th></th>\n",
       "      <th>Dataset</th>\n",
       "      <th>Test Accuracy</th>\n",
       "      <th>Test AUC</th>\n",
       "      <th>SD Accuracy</th>\n",
       "      <th>SD AUC</th>\n",
       "    </tr>\n",
       "  </thead>\n",
       "  <tbody>\n",
       "    <tr>\n",
       "      <th>0</th>\n",
       "      <td>Original dataset</td>\n",
       "      <td>0.865803</td>\n",
       "      <td>0.922143</td>\n",
       "      <td>0.0</td>\n",
       "      <td>0.0</td>\n",
       "    </tr>\n",
       "    <tr>\n",
       "      <th>1</th>\n",
       "      <td>tabGAN</td>\n",
       "      <td>0.827264</td>\n",
       "      <td>0.875581</td>\n",
       "      <td>0.00607</td>\n",
       "      <td>0.003768</td>\n",
       "    </tr>\n",
       "    <tr>\n",
       "      <th>2</th>\n",
       "      <td>tabGAN-qt</td>\n",
       "      <td>0.822005</td>\n",
       "      <td>0.87225</td>\n",
       "      <td>0.003517</td>\n",
       "      <td>0.003439</td>\n",
       "    </tr>\n",
       "    <tr>\n",
       "      <th>3</th>\n",
       "      <td>tabGAN-qtr</td>\n",
       "      <td>0.822019</td>\n",
       "      <td>0.871999</td>\n",
       "      <td>0.002473</td>\n",
       "      <td>0.003072</td>\n",
       "    </tr>\n",
       "    <tr>\n",
       "      <th>4</th>\n",
       "      <td>TGAN</td>\n",
       "      <td>0.812882</td>\n",
       "      <td>0.854884</td>\n",
       "      <td>0.008462</td>\n",
       "      <td>0.012246</td>\n",
       "    </tr>\n",
       "    <tr>\n",
       "      <th>5</th>\n",
       "      <td>CTGAN</td>\n",
       "      <td>0.825066</td>\n",
       "      <td>0.872641</td>\n",
       "      <td>0.004612</td>\n",
       "      <td>0.002787</td>\n",
       "    </tr>\n",
       "    <tr>\n",
       "      <th>6</th>\n",
       "      <td>tabFairGAN</td>\n",
       "      <td>0.809064</td>\n",
       "      <td>0.848356</td>\n",
       "      <td>0.005419</td>\n",
       "      <td>0.005697</td>\n",
       "    </tr>\n",
       "    <tr>\n",
       "      <th>7</th>\n",
       "      <td>tabFairGAN-mod</td>\n",
       "      <td>0.819489</td>\n",
       "      <td>0.868218</td>\n",
       "      <td>0.00264</td>\n",
       "      <td>0.003226</td>\n",
       "    </tr>\n",
       "  </tbody>\n",
       "</table>\n",
       "</div>"
      ],
      "text/plain": [
       "            Dataset Test Accuracy  Test AUC SD Accuracy    SD AUC\n",
       "0  Original dataset      0.865803  0.922143         0.0       0.0\n",
       "1            tabGAN      0.827264  0.875581     0.00607  0.003768\n",
       "2         tabGAN-qt      0.822005   0.87225    0.003517  0.003439\n",
       "3        tabGAN-qtr      0.822019  0.871999    0.002473  0.003072\n",
       "4              TGAN      0.812882  0.854884    0.008462  0.012246\n",
       "5             CTGAN      0.825066  0.872641    0.004612  0.002787\n",
       "6        tabFairGAN      0.809064  0.848356    0.005419  0.005697\n",
       "7    tabFairGAN-mod      0.819489  0.868218     0.00264  0.003226"
      ]
     },
     "execution_count": 31,
     "metadata": {},
     "output_type": "execute_result"
    }
   ],
   "source": [
    "%run \"$utils_path\"\n",
    "subfolders = [\"tabGAN\", \"tabGAN-qt\", \"tabGAN-qtr\", \"TGAN\", \"CTGAN\", \"tabFairGAN\", \"tabFairGAN-mod\"]\n",
    "efficacy_table_10_epochs = evaluate_tabGAN_through_prediction(data_train, data_test, dataset_gen_dir,\n",
    "                                                              subfolders, n_synthetic_datasets = 10,\n",
    "                                                             name_true_train_dataset=\"Original dataset\",\n",
    "                                                              eval_sd_true_dataset = True)\n",
    "efficacy_table_10_epochs"
   ]
  },
  {
   "cell_type": "code",
   "execution_count": 23,
   "id": "eb637846",
   "metadata": {},
   "outputs": [
    {
     "name": "stdout",
     "output_type": "stream",
     "text": [
      "\\begin{tabular}{lllll}\n",
      "\\toprule\n",
      "         Dataset & Test Accuracy &  Test AUC & SD Accuracy &    SD AUC \\\\\n",
      "\\midrule\n",
      "Original dataset &      0.865803 &  0.922143 &           0 &         0 \\\\\n",
      "          tabGAN &      0.827264 &  0.875581 &     0.00607 &  0.003768 \\\\\n",
      "       tabGAN-qt &      0.822005 &   0.87225 &    0.003517 &  0.003439 \\\\\n",
      "      tabGAN-qtr &      0.822019 &  0.871999 &    0.002473 &  0.003072 \\\\\n",
      "            TGAN &      0.812882 &  0.854884 &    0.008462 &  0.012246 \\\\\n",
      "           CTGAN &      0.825066 &  0.872641 &    0.004612 &  0.002787 \\\\\n",
      "      tabFairGAN &      0.809064 &  0.848356 &    0.005419 &  0.005697 \\\\\n",
      "  tabFairGAN-mod &      0.819489 &  0.868218 &     0.00264 &  0.003226 \\\\\n",
      "\\bottomrule\n",
      "\\end{tabular}\n",
      "\n"
     ]
    }
   ],
   "source": [
    "print(efficacy_table_10_epochs.to_latex(index=False))"
   ]
  },
  {
   "cell_type": "code",
   "execution_count": 37,
   "id": "f20e9d98",
   "metadata": {},
   "outputs": [
    {
     "data": {
      "text/plain": [
       "array([[0. ],\n",
       "       [0.5],\n",
       "       [0.5],\n",
       "       [1. ]])"
      ]
     },
     "execution_count": 37,
     "metadata": {},
     "output_type": "execute_result"
    }
   ],
   "source": [
    "import numpy as np\n",
    "from sklearn.preprocessing import QuantileTransformer\n",
    "rng = np.random.RandomState(0)\n",
    "X = np.transpose([[5,6,6,8]])\n",
    "qt = QuantileTransformer(n_quantiles=10, random_state=0)\n",
    "qt.fit_transform(X)"
   ]
  },
  {
   "cell_type": "code",
   "execution_count": 32,
   "id": "5bc8d2f1",
   "metadata": {},
   "outputs": [
    {
     "data": {
      "text/plain": [
       "0.625"
      ]
     },
     "execution_count": 32,
     "metadata": {},
     "output_type": "execute_result"
    }
   ],
   "source": [
    "(0.75 + 0.5) / 2"
   ]
  },
  {
   "cell_type": "code",
   "execution_count": 38,
   "id": "fa6aa9fb",
   "metadata": {},
   "outputs": [
    {
     "data": {
      "text/plain": [
       "array([0.        , 0.33333333, 0.66666667, 1.        ])"
      ]
     },
     "execution_count": 38,
     "metadata": {},
     "output_type": "execute_result"
    }
   ],
   "source": [
    "qt.references_"
   ]
  },
  {
   "cell_type": "code",
   "execution_count": 48,
   "id": "8b7ab74f",
   "metadata": {},
   "outputs": [
    {
     "data": {
      "text/plain": [
       "array([[5.3]])"
      ]
     },
     "execution_count": 48,
     "metadata": {},
     "output_type": "execute_result"
    }
   ],
   "source": [
    "qt.inverse_transform([[0.1]])"
   ]
  },
  {
   "cell_type": "code",
   "execution_count": 12,
   "id": "b47070c7",
   "metadata": {},
   "outputs": [
    {
     "name": "stdout",
     "output_type": "stream",
     "text": [
      "\\begin{tabular}{llllll}\n",
      "\\toprule\n",
      "{} &              Dataset & Test Accuracy &  Test AUC & SD Accuracy &    SD AUC \\\\\n",
      "\\midrule\n",
      "0 &  Adult train dataset &      0.825764 &  0.868183 &           0 &         0 \\\\\n",
      "1 &               tabGAN &      0.809982 &  0.849922 &    0.002708 &  0.001738 \\\\\n",
      "2 &            tabGAN-qt &      0.814475 &  0.853481 &    0.002214 &  0.002868 \\\\\n",
      "3 &           tabGAN-qtr &      0.815206 &   0.85484 &    0.000745 &  0.001233 \\\\\n",
      "4 &                 TGAN &      0.817131 &  0.851157 &    0.003062 &  0.003001 \\\\\n",
      "5 &                CTGAN &      0.813524 &  0.846873 &    0.003154 &  0.002347 \\\\\n",
      "6 &           tabFairGAN &        0.8056 &  0.837908 &    0.001732 &  0.001983 \\\\\n",
      "7 &       tabFairGAN-mod &      0.817154 &  0.853283 &    0.002469 &  0.002326 \\\\\n",
      "\\bottomrule\n",
      "\\end{tabular}\n",
      "\n"
     ]
    }
   ],
   "source": [
    "print(efficacy_table_10_epochs.to_latex())"
   ]
  },
  {
   "cell_type": "code",
   "execution_count": null,
   "id": "d851d0ea",
   "metadata": {},
   "outputs": [],
   "source": [
    "tabulate(efficacy_table_10_epochs, headers='keys', tablefmt='psql')"
   ]
  },
  {
   "cell_type": "code",
   "execution_count": null,
   "id": "aee2121f",
   "metadata": {},
   "outputs": [],
   "source": [
    "for i in range(5,10):\n",
    "    path = os.path.join(dataset_gen_dir, f\"tabFairGAN-mod//gen{i}.csv\")\n",
    "    data_temp = pd.read_csv(path)\n",
    "    data_temp.to_csv(path)"
   ]
  },
  {
   "cell_type": "code",
   "execution_count": 13,
   "id": "67bef09e",
   "metadata": {},
   "outputs": [
    {
     "name": "stdout",
     "output_type": "stream",
     "text": [
      "Adam learning rate: 0.0002\n"
     ]
    }
   ],
   "source": [
    "print(\"Adam learning rate:\", adam_lr)\n",
    "%run \"$utils_path\"\n",
    "%run \"$tableGAN_path\"\n",
    "tg_qt = TableGAN(data_train, n_critic = n_critic, adam_lr = adam_lr, adam_beta1 = adam_beta1,\n",
    "              quantile_transformation_int = True, quantile_rand_transformation = False,\n",
    "             noise_discrete_unif_max = noise_discrete_unif_max,\n",
    "                gumbel_temperature = 0.5)\n",
    "\n",
    "dataset_epochs_comparison_dir = os.path.join(dataset_gen_dir, \"epoch_comparison\")\n",
    "n_epochs_vec = np.arange(1, 26, 1).tolist() + np.arange(30, 101, 5).tolist()\n",
    "path_finished_epochs_counter = \".//Python_objects//existing_n_epochs_tracker.pkl\"\n",
    "n_synthetic_datasets_epochs_comparison = 5"
   ]
  },
  {
   "cell_type": "code",
   "execution_count": 11,
   "id": "ec2b5c19",
   "metadata": {},
   "outputs": [
    {
     "data": {
      "application/vnd.jupyter.widget-view+json": {
       "model_id": "100a25ae983448ec86afaa18d19c44c5",
       "version_major": 2,
       "version_minor": 0
      },
      "text/plain": [
       "Generated datasets:   0%|          | 0/5 [00:00<?, ?it/s]"
      ]
     },
     "metadata": {},
     "output_type": "display_data"
    },
    {
     "data": {
      "application/vnd.jupyter.widget-view+json": {
       "model_id": "483b929c80f040a38558a6082b626fca",
       "version_major": 2,
       "version_minor": 0
      },
      "text/plain": [
       "Epoch subfolder creation:   0%|          | 0/31 [00:00<?, ?it/s]"
      ]
     },
     "metadata": {},
     "output_type": "display_data"
    },
    {
     "data": {
      "application/vnd.jupyter.widget-view+json": {
       "model_id": "f582def649484bb5a6fd18223f550530",
       "version_major": 2,
       "version_minor": 0
      },
      "text/plain": [
       "Progress training from epoch 0 to 10:   0%|          | 0/10 [00:00<?, ?it/s]"
      ]
     },
     "metadata": {},
     "output_type": "display_data"
    },
    {
     "ename": "KeyboardInterrupt",
     "evalue": "",
     "output_type": "error",
     "traceback": [
      "\u001b[1;31m---------------------------------------------------------------------------\u001b[0m",
      "\u001b[1;31mKeyboardInterrupt\u001b[0m                         Traceback (most recent call last)",
      "\u001b[1;32m~\\AppData\\Local\\Temp/ipykernel_1540/2421637585.py\u001b[0m in \u001b[0;36m<module>\u001b[1;34m\u001b[0m\n\u001b[0;32m      3\u001b[0m                                                     \u001b[0mn_epochs_vec\u001b[0m \u001b[1;33m=\u001b[0m \u001b[0mn_epochs_vec\u001b[0m\u001b[1;33m,\u001b[0m\u001b[1;33m\u001b[0m\u001b[1;33m\u001b[0m\u001b[0m\n\u001b[0;32m      4\u001b[0m                                               \u001b[0mpath_finished_epochs_counter\u001b[0m \u001b[1;33m=\u001b[0m \u001b[0mpath_finished_epochs_counter\u001b[0m\u001b[1;33m,\u001b[0m\u001b[1;33m\u001b[0m\u001b[1;33m\u001b[0m\u001b[0m\n\u001b[1;32m----> 5\u001b[1;33m                                               redo_n_epochs_vec=[], restart = False)\n\u001b[0m",
      "\u001b[1;32m~\\AppData\\Local\\Temp/ipykernel_1540/1384800673.py\u001b[0m in \u001b[0;36mgenerate_multiple_datasets_for_multiple_epochs_fast\u001b[1;34m(tabGAN, dataset_dir, n_synthetic_datasets, n_epochs_vec, restart, path_finished_epochs_counter, redo_n_epochs_vec, plot_only_new_progress, n_synthetic_datsets_existing, **kwargs)\u001b[0m\n\u001b[0;32m     35\u001b[0m                     \u001b[0mn_epochs_diff\u001b[0m \u001b[1;33m=\u001b[0m \u001b[0mn_epochs\u001b[0m \u001b[1;33m-\u001b[0m \u001b[0mlast_n_epochs\u001b[0m\u001b[1;33m\u001b[0m\u001b[1;33m\u001b[0m\u001b[0m\n\u001b[0;32m     36\u001b[0m                 tabGAN.train(n_epochs_diff, batch_size = batch_size, restart_training = restart_training, plot_loss = False,\n\u001b[1;32m---> 37\u001b[1;33m                 progress_bar = True, progress_bar_desc = f\"Progress training from epoch {last_n_epochs} to {n_epochs}\")\n\u001b[0m\u001b[0;32m     38\u001b[0m                 \u001b[0mfake_train\u001b[0m \u001b[1;33m=\u001b[0m \u001b[0mtabGAN\u001b[0m\u001b[1;33m.\u001b[0m\u001b[0mgenerate_data\u001b[0m\u001b[1;33m(\u001b[0m\u001b[1;33m)\u001b[0m\u001b[1;33m\u001b[0m\u001b[1;33m\u001b[0m\u001b[0m\n\u001b[0;32m     39\u001b[0m                 \u001b[0mfake_train\u001b[0m\u001b[1;33m.\u001b[0m\u001b[0mto_csv\u001b[0m\u001b[1;33m(\u001b[0m\u001b[0mos\u001b[0m\u001b[1;33m.\u001b[0m\u001b[0mpath\u001b[0m\u001b[1;33m.\u001b[0m\u001b[0mjoin\u001b[0m\u001b[1;33m(\u001b[0m\u001b[0mepoch_dataset_dir\u001b[0m\u001b[1;33m,\u001b[0m \u001b[1;34mf\"gen{j}.csv\"\u001b[0m\u001b[1;33m)\u001b[0m\u001b[1;33m)\u001b[0m\u001b[1;33m\u001b[0m\u001b[1;33m\u001b[0m\u001b[0m\n",
      "\u001b[1;32m~\\AppData\\Local\\Temp/ipykernel_1540/1714643697.py\u001b[0m in \u001b[0;36mtrain\u001b[1;34m(self, n_epochs, batch_size, restart_training, plot2D_image, plot2D_num_cols, plot2D_discrete_col, plot2D_color_opacity, tot_save_img, plot2D_save_int, plot2D_background_func, n_img_horiz, plot2D_inv_scale, plot_loss, plot_loss_return, loss_plot_type, loss_plot_update_every, save_path, title_with_loss, progress_bar, progress_bar_desc, n_test, ckpt_every, time_plot, save_dir, filename_train_loss, filename_plot2D, save_loss, plot_train_loss_both)\u001b[0m\n\u001b[0;32m    369\u001b[0m                     \u001b[0mem_distance\u001b[0m \u001b[1;33m=\u001b[0m \u001b[0mg_loss\u001b[0m \u001b[1;33m=\u001b[0m \u001b[1;36m0\u001b[0m\u001b[1;33m\u001b[0m\u001b[1;33m\u001b[0m\u001b[0m\n\u001b[0;32m    370\u001b[0m                     \u001b[1;32mfor\u001b[0m \u001b[0mbatch\u001b[0m \u001b[1;32min\u001b[0m \u001b[0mrange\u001b[0m\u001b[1;33m(\u001b[0m\u001b[0mbatch_per_epoch\u001b[0m\u001b[1;33m)\u001b[0m\u001b[1;33m:\u001b[0m\u001b[1;33m\u001b[0m\u001b[1;33m\u001b[0m\u001b[0m\n\u001b[1;32m--> 371\u001b[1;33m                         \u001b[0mem_distance_batch\u001b[0m\u001b[1;33m,\u001b[0m \u001b[0mgen_loss_batch\u001b[0m \u001b[1;33m=\u001b[0m \u001b[0mself\u001b[0m\u001b[1;33m.\u001b[0m\u001b[0mtrain_step\u001b[0m\u001b[1;33m(\u001b[0m\u001b[0mbatch_size\u001b[0m\u001b[1;33m)\u001b[0m\u001b[1;33m\u001b[0m\u001b[1;33m\u001b[0m\u001b[0m\n\u001b[0m\u001b[0;32m    372\u001b[0m                         \u001b[0mg_loss\u001b[0m \u001b[1;33m+=\u001b[0m \u001b[0mgen_loss_batch\u001b[0m\u001b[1;33m\u001b[0m\u001b[1;33m\u001b[0m\u001b[0m\n\u001b[0;32m    373\u001b[0m                         \u001b[0mem_distance\u001b[0m \u001b[1;33m+=\u001b[0m \u001b[0mem_distance_batch\u001b[0m\u001b[1;33m\u001b[0m\u001b[1;33m\u001b[0m\u001b[0m\n",
      "\u001b[1;32m~\\anaconda3\\envs\\tf\\lib\\site-packages\\tensorflow\\python\\eager\\def_function.py\u001b[0m in \u001b[0;36m__call__\u001b[1;34m(self, *args, **kwds)\u001b[0m\n\u001b[0;32m    826\u001b[0m     \u001b[0mtracing_count\u001b[0m \u001b[1;33m=\u001b[0m \u001b[0mself\u001b[0m\u001b[1;33m.\u001b[0m\u001b[0mexperimental_get_tracing_count\u001b[0m\u001b[1;33m(\u001b[0m\u001b[1;33m)\u001b[0m\u001b[1;33m\u001b[0m\u001b[1;33m\u001b[0m\u001b[0m\n\u001b[0;32m    827\u001b[0m     \u001b[1;32mwith\u001b[0m \u001b[0mtrace\u001b[0m\u001b[1;33m.\u001b[0m\u001b[0mTrace\u001b[0m\u001b[1;33m(\u001b[0m\u001b[0mself\u001b[0m\u001b[1;33m.\u001b[0m\u001b[0m_name\u001b[0m\u001b[1;33m)\u001b[0m \u001b[1;32mas\u001b[0m \u001b[0mtm\u001b[0m\u001b[1;33m:\u001b[0m\u001b[1;33m\u001b[0m\u001b[1;33m\u001b[0m\u001b[0m\n\u001b[1;32m--> 828\u001b[1;33m       \u001b[0mresult\u001b[0m \u001b[1;33m=\u001b[0m \u001b[0mself\u001b[0m\u001b[1;33m.\u001b[0m\u001b[0m_call\u001b[0m\u001b[1;33m(\u001b[0m\u001b[1;33m*\u001b[0m\u001b[0margs\u001b[0m\u001b[1;33m,\u001b[0m \u001b[1;33m**\u001b[0m\u001b[0mkwds\u001b[0m\u001b[1;33m)\u001b[0m\u001b[1;33m\u001b[0m\u001b[1;33m\u001b[0m\u001b[0m\n\u001b[0m\u001b[0;32m    829\u001b[0m       \u001b[0mcompiler\u001b[0m \u001b[1;33m=\u001b[0m \u001b[1;34m\"xla\"\u001b[0m \u001b[1;32mif\u001b[0m \u001b[0mself\u001b[0m\u001b[1;33m.\u001b[0m\u001b[0m_experimental_compile\u001b[0m \u001b[1;32melse\u001b[0m \u001b[1;34m\"nonXla\"\u001b[0m\u001b[1;33m\u001b[0m\u001b[1;33m\u001b[0m\u001b[0m\n\u001b[0;32m    830\u001b[0m       \u001b[0mnew_tracing_count\u001b[0m \u001b[1;33m=\u001b[0m \u001b[0mself\u001b[0m\u001b[1;33m.\u001b[0m\u001b[0mexperimental_get_tracing_count\u001b[0m\u001b[1;33m(\u001b[0m\u001b[1;33m)\u001b[0m\u001b[1;33m\u001b[0m\u001b[1;33m\u001b[0m\u001b[0m\n",
      "\u001b[1;32m~\\anaconda3\\envs\\tf\\lib\\site-packages\\tensorflow\\python\\eager\\def_function.py\u001b[0m in \u001b[0;36m_call\u001b[1;34m(self, *args, **kwds)\u001b[0m\n\u001b[0;32m    853\u001b[0m       \u001b[1;31m# In this case we have created variables on the first call, so we run the\u001b[0m\u001b[1;33m\u001b[0m\u001b[1;33m\u001b[0m\u001b[1;33m\u001b[0m\u001b[0m\n\u001b[0;32m    854\u001b[0m       \u001b[1;31m# defunned version which is guaranteed to never create variables.\u001b[0m\u001b[1;33m\u001b[0m\u001b[1;33m\u001b[0m\u001b[1;33m\u001b[0m\u001b[0m\n\u001b[1;32m--> 855\u001b[1;33m       \u001b[1;32mreturn\u001b[0m \u001b[0mself\u001b[0m\u001b[1;33m.\u001b[0m\u001b[0m_stateless_fn\u001b[0m\u001b[1;33m(\u001b[0m\u001b[1;33m*\u001b[0m\u001b[0margs\u001b[0m\u001b[1;33m,\u001b[0m \u001b[1;33m**\u001b[0m\u001b[0mkwds\u001b[0m\u001b[1;33m)\u001b[0m  \u001b[1;31m# pylint: disable=not-callable\u001b[0m\u001b[1;33m\u001b[0m\u001b[1;33m\u001b[0m\u001b[0m\n\u001b[0m\u001b[0;32m    856\u001b[0m     \u001b[1;32melif\u001b[0m \u001b[0mself\u001b[0m\u001b[1;33m.\u001b[0m\u001b[0m_stateful_fn\u001b[0m \u001b[1;32mis\u001b[0m \u001b[1;32mnot\u001b[0m \u001b[1;32mNone\u001b[0m\u001b[1;33m:\u001b[0m\u001b[1;33m\u001b[0m\u001b[1;33m\u001b[0m\u001b[0m\n\u001b[0;32m    857\u001b[0m       \u001b[1;31m# Release the lock early so that multiple threads can perform the call\u001b[0m\u001b[1;33m\u001b[0m\u001b[1;33m\u001b[0m\u001b[1;33m\u001b[0m\u001b[0m\n",
      "\u001b[1;32m~\\anaconda3\\envs\\tf\\lib\\site-packages\\tensorflow\\python\\eager\\function.py\u001b[0m in \u001b[0;36m__call__\u001b[1;34m(self, *args, **kwargs)\u001b[0m\n\u001b[0;32m   2941\u001b[0m        filtered_flat_args) = self._maybe_define_function(args, kwargs)\n\u001b[0;32m   2942\u001b[0m     return graph_function._call_flat(\n\u001b[1;32m-> 2943\u001b[1;33m         filtered_flat_args, captured_inputs=graph_function.captured_inputs)  # pylint: disable=protected-access\n\u001b[0m\u001b[0;32m   2944\u001b[0m \u001b[1;33m\u001b[0m\u001b[0m\n\u001b[0;32m   2945\u001b[0m   \u001b[1;33m@\u001b[0m\u001b[0mproperty\u001b[0m\u001b[1;33m\u001b[0m\u001b[1;33m\u001b[0m\u001b[0m\n",
      "\u001b[1;32m~\\anaconda3\\envs\\tf\\lib\\site-packages\\tensorflow\\python\\eager\\function.py\u001b[0m in \u001b[0;36m_call_flat\u001b[1;34m(self, args, captured_inputs, cancellation_manager)\u001b[0m\n\u001b[0;32m   1917\u001b[0m       \u001b[1;31m# No tape is watching; skip to running the function.\u001b[0m\u001b[1;33m\u001b[0m\u001b[1;33m\u001b[0m\u001b[1;33m\u001b[0m\u001b[0m\n\u001b[0;32m   1918\u001b[0m       return self._build_call_outputs(self._inference_function.call(\n\u001b[1;32m-> 1919\u001b[1;33m           ctx, args, cancellation_manager=cancellation_manager))\n\u001b[0m\u001b[0;32m   1920\u001b[0m     forward_backward = self._select_forward_and_backward_functions(\n\u001b[0;32m   1921\u001b[0m         \u001b[0margs\u001b[0m\u001b[1;33m,\u001b[0m\u001b[1;33m\u001b[0m\u001b[1;33m\u001b[0m\u001b[0m\n",
      "\u001b[1;32m~\\anaconda3\\envs\\tf\\lib\\site-packages\\tensorflow\\python\\eager\\function.py\u001b[0m in \u001b[0;36mcall\u001b[1;34m(self, ctx, args, cancellation_manager)\u001b[0m\n\u001b[0;32m    558\u001b[0m               \u001b[0minputs\u001b[0m\u001b[1;33m=\u001b[0m\u001b[0margs\u001b[0m\u001b[1;33m,\u001b[0m\u001b[1;33m\u001b[0m\u001b[1;33m\u001b[0m\u001b[0m\n\u001b[0;32m    559\u001b[0m               \u001b[0mattrs\u001b[0m\u001b[1;33m=\u001b[0m\u001b[0mattrs\u001b[0m\u001b[1;33m,\u001b[0m\u001b[1;33m\u001b[0m\u001b[1;33m\u001b[0m\u001b[0m\n\u001b[1;32m--> 560\u001b[1;33m               ctx=ctx)\n\u001b[0m\u001b[0;32m    561\u001b[0m         \u001b[1;32melse\u001b[0m\u001b[1;33m:\u001b[0m\u001b[1;33m\u001b[0m\u001b[1;33m\u001b[0m\u001b[0m\n\u001b[0;32m    562\u001b[0m           outputs = execute.execute_with_cancellation(\n",
      "\u001b[1;32m~\\anaconda3\\envs\\tf\\lib\\site-packages\\tensorflow\\python\\eager\\execute.py\u001b[0m in \u001b[0;36mquick_execute\u001b[1;34m(op_name, num_outputs, inputs, attrs, ctx, name)\u001b[0m\n\u001b[0;32m     58\u001b[0m     \u001b[0mctx\u001b[0m\u001b[1;33m.\u001b[0m\u001b[0mensure_initialized\u001b[0m\u001b[1;33m(\u001b[0m\u001b[1;33m)\u001b[0m\u001b[1;33m\u001b[0m\u001b[1;33m\u001b[0m\u001b[0m\n\u001b[0;32m     59\u001b[0m     tensors = pywrap_tfe.TFE_Py_Execute(ctx._handle, device_name, op_name,\n\u001b[1;32m---> 60\u001b[1;33m                                         inputs, attrs, num_outputs)\n\u001b[0m\u001b[0;32m     61\u001b[0m   \u001b[1;32mexcept\u001b[0m \u001b[0mcore\u001b[0m\u001b[1;33m.\u001b[0m\u001b[0m_NotOkStatusException\u001b[0m \u001b[1;32mas\u001b[0m \u001b[0me\u001b[0m\u001b[1;33m:\u001b[0m\u001b[1;33m\u001b[0m\u001b[1;33m\u001b[0m\u001b[0m\n\u001b[0;32m     62\u001b[0m     \u001b[1;32mif\u001b[0m \u001b[0mname\u001b[0m \u001b[1;32mis\u001b[0m \u001b[1;32mnot\u001b[0m \u001b[1;32mNone\u001b[0m\u001b[1;33m:\u001b[0m\u001b[1;33m\u001b[0m\u001b[1;33m\u001b[0m\u001b[0m\n",
      "\u001b[1;31mKeyboardInterrupt\u001b[0m: "
     ]
    },
    {
     "data": {
      "image/png": "[encoded data removed]",
      "text/plain": [
       "<Figure size 864x432 with 1 Axes>"
      ]
     },
     "metadata": {
      "needs_background": "light"
     },
     "output_type": "display_data"
    }
   ],
   "source": [
    "generate_multiple_datasets_for_multiple_epochs_fast(tg_qt, dataset_dir = dataset_epochs_comparison_dir,\n",
    "                                               n_synthetic_datasets = n_synthetic_datasets_epochs_comparison,\n",
    "                                                    n_epochs_vec = n_epochs_vec,\n",
    "                                              path_finished_epochs_counter = path_finished_epochs_counter,\n",
    "                                              redo_n_epochs_vec=[], restart = False)"
   ]
  },
  {
   "cell_type": "code",
   "execution_count": 14,
   "id": "6d195fbd",
   "metadata": {
    "scrolled": true
   },
   "outputs": [
    {
     "data": {
      "application/vnd.jupyter.widget-view+json": {
       "model_id": "c8dca452ea01488c967b108cf4e23b22",
       "version_major": 2,
       "version_minor": 0
      },
      "text/plain": [
       "  0%|          | 0/200 [00:00<?, ?it/s]"
      ]
     },
     "metadata": {},
     "output_type": "display_data"
    },
    {
     "data": {
      "image/png": "[encoded data removed]",
      "text/plain": [
       "<Figure size 1008x576 with 1 Axes>"
      ]
     },
     "metadata": {
      "needs_background": "light"
     },
     "output_type": "display_data"
    }
   ],
   "source": [
    "result = evaluate_n_epochs_through_prediction(data_train, data_test, dataset_dir = dataset_epochs_comparison_dir,\n",
    "                                     n_epochs_vec = n_epochs_vec, n_synthetic_datasets = n_synthetic_datasets_epochs_comparison,\n",
    "                                    save_dir = image_dir, save_path = \"predictive_performance_against_n_epochs.svg\",\n",
    "                                             legend_pos=\"lower right\")"
   ]
  }
 ],
 "metadata": {
  "kernelspec": {
   "display_name": "tf",
   "language": "python",
   "name": "tf"
  },
  "language_info": {
   "codemirror_mode": {
    "name": "ipython",
    "version": 3
   },
   "file_extension": ".py",
   "mimetype": "text/x-python",
   "name": "python",
   "nbconvert_exporter": "python",
   "pygments_lexer": "ipython3",
   "version": "3.7.11"
  }
 },
 "nbformat": 4,
 "nbformat_minor": 5
}
