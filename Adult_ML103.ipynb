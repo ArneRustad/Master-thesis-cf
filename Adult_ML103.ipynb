{
 "cells": [
  {
   "cell_type": "code",
   "execution_count": 27,
   "metadata": {},
   "outputs": [],
   "source": [
    "# Reading data\n",
    "\n",
    "import pandas as pd\n",
    "\n",
    "train=pd.read_csv(\"C:/Users/HP/Documents/ML103_Kaggle/Data/train.csv\")\n",
    "test=pd.read_csv(\"C:/Users/HP/Documents/ML103_Kaggle/Data/test.csv\")\n"
   ]
  },
  {
   "cell_type": "code",
   "execution_count": 28,
   "metadata": {},
   "outputs": [],
   "source": [
    "# Label Encoding\n",
    "#   Very First I am merging both Test data and Train data then I am encoding them so that we can run most \n",
    "#   of the algorithms on the data. In the end I will divide the data into 4 parts i.e. X_train, Y_train, X_test, Y_test.\n",
    "\n",
    "# 1. Mergind Train and Test Dataset\n",
    "temp=pd.concat([train,test])\n",
    "\n",
    "# 2. Lable Encoding\n",
    "from sklearn import preprocessing\n",
    "\n",
    "LableEn = preprocessing.LabelEncoder()\n",
    "temp.workclass         = LableEn.fit_transform(temp.workclass)\n",
    "temp.education         = LableEn.fit_transform(temp.education)\n",
    "temp.marital_status    = LableEn.fit_transform(temp.marital_status)\n",
    "temp.occupation        = LableEn.fit_transform(temp.occupation)\n",
    "temp.relationship      = LableEn.fit_transform(temp.relationship)\n",
    "temp.race              = LableEn.fit_transform(temp.race)\n",
    "temp.sex               = LableEn.fit_transform(temp.sex)\n",
    "temp.native_country    = LableEn.fit_transform(temp.native_country)\n",
    "temp.income=temp.income.fillna('NA')\n",
    "temp.income    = LableEn.fit_transform(temp.income)\n",
    "\n",
    "\n"
   ]
  },
  {
   "cell_type": "code",
   "execution_count": 29,
   "metadata": {
    "collapsed": true
   },
   "outputs": [],
   "source": [
    "#Import libraries:\n",
    "import pandas as pd\n",
    "import numpy as np\n",
    "import xgboost as xgb\n",
    "from xgboost.sklearn import XGBClassifier\n",
    "from sklearn import cross_validation, metrics   #Additional scklearn functions\n",
    "from sklearn.grid_search import GridSearchCV   #Perforing grid search\n",
    "\n",
    "import matplotlib.pylab as plt\n",
    "%matplotlib inline\n",
    "from matplotlib.pylab import rcParams\n",
    "rcParams['figure.figsize'] = 12, 4\n",
    "\n",
    "#train = pd.read_csv('train_modified.csv')\n",
    "train =temp[['Id','age','workclass','fnlwgt','education','education_num','marital_status',\n",
    "              'occupation','relationship','race','sex','capital_gain','capital_loss','hr_per_week','native_country','income']][(temp.income==1)|(temp.income==0)]\n",
    "test=temp[['Id','age','workclass','fnlwgt','education','education_num','marital_status',\n",
    "              'occupation','relationship','race','sex','capital_gain','capital_loss','hr_per_week','native_country','income']][(temp.income==2)]\n",
    "\n",
    "\n",
    "target = 'income'\n",
    "IDcol = 'Id'\n"
   ]
  },
  {
   "cell_type": "code",
   "execution_count": 31,
   "metadata": {},
   "outputs": [],
   "source": [
    "def modelfit(alg, dtrain, predictors,useTrainCV=True, cv_folds=5, early_stopping_rounds=50):\n",
    "    \n",
    "    if useTrainCV:\n",
    "        xgb_param = alg.get_xgb_params()\n",
    "        xgtrain = xgb.DMatrix(dtrain[predictors].values, label=dtrain[target].values)\n",
    "        cvresult = xgb.cv(xgb_param, xgtrain, num_boost_round=alg.get_params()['n_estimators'], nfold=cv_folds,metrics='auc', early_stopping_rounds=early_stopping_rounds)\n",
    "        alg.set_params(n_estimators=cvresult.shape[0])\n",
    "    \n",
    "    #Fit the algorithm on the data\n",
    "    alg.fit(dtrain[predictors], dtrain['income'],eval_metric='auc')\n",
    "        \n",
    "    #Predict training set:\n",
    "    dtrain_predictions = alg.predict(dtrain[predictors])\n",
    "    dtrain_predprob = alg.predict_proba(dtrain[predictors])[:,1]\n",
    "    \n",
    "    #Print model report:\n",
    "    print(\"\\nModel Report\")\n",
    "    print(\"Accuracy : %.4g\" % metrics.accuracy_score(dtrain['income'].values, dtrain_predictions))\n",
    "    print(\"AUC Score (Train): %f\" % metrics.roc_auc_score(dtrain['income'], dtrain_predprob))\n",
    "\n",
    "    feat_imp = pd.Series(alg.booster().get_fscore()).sort_values(ascending=False)\n",
    "    feat_imp.plot(kind='bar', title='Feature Importances')\n",
    "    plt.ylabel('Feature Importance Score')"
   ]
  },
  {
   "cell_type": "code",
   "execution_count": 38,
   "metadata": {},
   "outputs": [
    {
     "name": "stdout",
     "output_type": "stream",
     "text": [
      "\n",
      "Model Report\n",
      "Accuracy : 0.8913\n",
      "AUC Score (Train): 0.948048\n"
     ]
    },
    {
     "data": {
      "image/png": "[encoded data removed]",
      "text/plain": [
       "<matplotlib.figure.Figure at 0x1c91cd8908>"
      ]
     },
     "metadata": {},
     "output_type": "display_data"
    }
   ],
   "source": [
    "#Choose all predictors except target & IDcols\n",
    "predictors = [x for x in train.columns if x not in [target, IDcol]]\n",
    "xgb1 = XGBClassifier(\n",
    " learning_rate =0.1,\n",
    " n_estimators=1000,\n",
    " max_depth=5,\n",
    " min_child_weight=1,\n",
    " gamma=0,\n",
    " subsample=0.8,\n",
    " colsample_bytree=0.8,\n",
    " objective= 'binary:logistic',\n",
    " nthread=4,\n",
    " scale_pos_weight=1,\n",
    " seed=27)\n",
    "\n",
    "\n",
    "modelfit(xgb1, train, predictors)"
   ]
  },
  {
   "cell_type": "code",
   "execution_count": 35,
   "metadata": {},
   "outputs": [
    {
     "data": {
      "text/plain": [
       "([mean: 0.92287, std: 0.00303, params: {'max_depth': 3, 'min_child_weight': 1},\n",
       "  mean: 0.92270, std: 0.00315, params: {'max_depth': 3, 'min_child_weight': 3},\n",
       "  mean: 0.92248, std: 0.00273, params: {'max_depth': 3, 'min_child_weight': 5},\n",
       "  mean: 0.92739, std: 0.00226, params: {'max_depth': 5, 'min_child_weight': 1},\n",
       "  mean: 0.92675, std: 0.00221, params: {'max_depth': 5, 'min_child_weight': 3},\n",
       "  mean: 0.92630, std: 0.00186, params: {'max_depth': 5, 'min_child_weight': 5},\n",
       "  mean: 0.92723, std: 0.00214, params: {'max_depth': 7, 'min_child_weight': 1},\n",
       "  mean: 0.92693, std: 0.00239, params: {'max_depth': 7, 'min_child_weight': 3},\n",
       "  mean: 0.92640, std: 0.00206, params: {'max_depth': 7, 'min_child_weight': 5},\n",
       "  mean: 0.92503, std: 0.00165, params: {'max_depth': 9, 'min_child_weight': 1},\n",
       "  mean: 0.92519, std: 0.00216, params: {'max_depth': 9, 'min_child_weight': 3},\n",
       "  mean: 0.92491, std: 0.00221, params: {'max_depth': 9, 'min_child_weight': 5}],\n",
       " {'max_depth': 5, 'min_child_weight': 1},\n",
       " 0.92738581952548105)"
      ]
     },
     "execution_count": 35,
     "metadata": {},
     "output_type": "execute_result"
    }
   ],
   "source": [
    "#Parameter Tuning\n",
    "param_test1 = {\n",
    " 'max_depth':list(range(3,10,2)),\n",
    " 'min_child_weight':list(range(1,6,2))\n",
    "}\n",
    "gsearch1 = GridSearchCV(estimator = XGBClassifier( learning_rate =0.1, n_estimators=140, max_depth=5,\n",
    "                                                  min_child_weight=1, gamma=0, subsample=0.8, colsample_bytree=0.8,\n",
    "                                                  objective= 'binary:logistic', nthread=4, scale_pos_weight=1, seed=27),\n",
    "                                                  param_grid = param_test1, scoring='roc_auc',n_jobs=4,iid=False, cv=5)\n",
    "gsearch1.fit(train[predictors],train[target])\n",
    "gsearch1.grid_scores_, gsearch1.best_params_, gsearch1.best_score_"
   ]
  },
  {
   "cell_type": "code",
   "execution_count": 36,
   "metadata": {},
   "outputs": [
    {
     "data": {
      "text/plain": [
       "([mean: 0.92609, std: 0.00240, params: {'max_depth': 4, 'min_child_weight': 0},\n",
       "  mean: 0.92614, std: 0.00254, params: {'max_depth': 4, 'min_child_weight': 1},\n",
       "  mean: 0.92592, std: 0.00237, params: {'max_depth': 4, 'min_child_weight': 2},\n",
       "  mean: 0.92745, std: 0.00179, params: {'max_depth': 5, 'min_child_weight': 0},\n",
       "  mean: 0.92739, std: 0.00226, params: {'max_depth': 5, 'min_child_weight': 1},\n",
       "  mean: 0.92707, std: 0.00199, params: {'max_depth': 5, 'min_child_weight': 2},\n",
       "  mean: 0.92729, std: 0.00214, params: {'max_depth': 6, 'min_child_weight': 0},\n",
       "  mean: 0.92744, std: 0.00209, params: {'max_depth': 6, 'min_child_weight': 1},\n",
       "  mean: 0.92730, std: 0.00232, params: {'max_depth': 6, 'min_child_weight': 2}],\n",
       " {'max_depth': 5, 'min_child_weight': 0},\n",
       " 0.92744881685984593)"
      ]
     },
     "execution_count": 36,
     "metadata": {},
     "output_type": "execute_result"
    }
   ],
   "source": [
    "param_test2 = {\n",
    " 'max_depth':[4,5,6],\n",
    " 'min_child_weight':[0,1,2]\n",
    "}\n",
    "gsearch2 = GridSearchCV(estimator = XGBClassifier( learning_rate=0.1, n_estimators=140, max_depth=5,\n",
    " min_child_weight=2, gamma=0, subsample=0.8, colsample_bytree=0.8,\n",
    " objective= 'binary:logistic', nthread=4, scale_pos_weight=1,seed=27), \n",
    " param_grid = param_test2, scoring='roc_auc',n_jobs=4,iid=False, cv=5)\n",
    "gsearch2.fit(train[predictors],train[target])\n",
    "gsearch2.grid_scores_, gsearch2.best_params_, gsearch2.best_score_"
   ]
  },
  {
   "cell_type": "code",
   "execution_count": 39,
   "metadata": {},
   "outputs": [
    {
     "data": {
      "text/plain": [
       "([mean: 0.92745, std: 0.00179, params: {'gamma': 0.0},\n",
       "  mean: 0.92740, std: 0.00164, params: {'gamma': 0.1},\n",
       "  mean: 0.92723, std: 0.00194, params: {'gamma': 0.2},\n",
       "  mean: 0.92709, std: 0.00201, params: {'gamma': 0.3},\n",
       "  mean: 0.92729, std: 0.00200, params: {'gamma': 0.4}],\n",
       " {'gamma': 0.0},\n",
       " 0.92744881685984593)"
      ]
     },
     "execution_count": 39,
     "metadata": {},
     "output_type": "execute_result"
    }
   ],
   "source": [
    "param_test3 = {\n",
    " 'gamma':[i/10.0 for i in range(0,5)]\n",
    "}\n",
    "gsearch3 = GridSearchCV(estimator = XGBClassifier( learning_rate =0.1, n_estimators=140, max_depth=5,\n",
    " min_child_weight=0, gamma=0, subsample=0.8, colsample_bytree=0.8,\n",
    " objective= 'binary:logistic', nthread=4, scale_pos_weight=1,seed=27), \n",
    " param_grid = param_test3, scoring='roc_auc',n_jobs=4,iid=False, cv=5)\n",
    "gsearch3.fit(train[predictors],train[target])\n",
    "gsearch3.grid_scores_, gsearch3.best_params_, gsearch3.best_score_"
   ]
  },
  {
   "cell_type": "code",
   "execution_count": 40,
   "metadata": {},
   "outputs": [
    {
     "name": "stdout",
     "output_type": "stream",
     "text": [
      "\n",
      "Model Report\n",
      "Accuracy : 0.8932\n",
      "AUC Score (Train): 0.950811\n"
     ]
    },
    {
     "data": {
      "image/png": "[encoded data removed]",
      "text/plain": [
       "<matplotlib.figure.Figure at 0x1c91b8d208>"
      ]
     },
     "metadata": {},
     "output_type": "display_data"
    }
   ],
   "source": [
    "xgb2 = XGBClassifier(\n",
    " learning_rate =0.1,\n",
    " n_estimators=1000,\n",
    " max_depth=5,\n",
    " min_child_weight=0,\n",
    " gamma=0,\n",
    " subsample=0.8,\n",
    " colsample_bytree=0.8,\n",
    " objective= 'binary:logistic',\n",
    " nthread=4,\n",
    " scale_pos_weight=1,\n",
    " seed=27)\n",
    "modelfit(xgb2, train, predictors)"
   ]
  },
  {
   "cell_type": "code",
   "execution_count": 50,
   "metadata": {},
   "outputs": [
    {
     "data": {
      "text/plain": [
       "([mean: 0.92714, std: 0.00198, params: {'colsample_bytree': 0.6, 'subsample': 0.6},\n",
       "  mean: 0.92750, std: 0.00195, params: {'colsample_bytree': 0.6, 'subsample': 0.7},\n",
       "  mean: 0.92772, std: 0.00200, params: {'colsample_bytree': 0.6, 'subsample': 0.8},\n",
       "  mean: 0.92819, std: 0.00199, params: {'colsample_bytree': 0.6, 'subsample': 0.9},\n",
       "  mean: 0.92687, std: 0.00207, params: {'colsample_bytree': 0.7, 'subsample': 0.6},\n",
       "  mean: 0.92752, std: 0.00165, params: {'colsample_bytree': 0.7, 'subsample': 0.7},\n",
       "  mean: 0.92803, std: 0.00232, params: {'colsample_bytree': 0.7, 'subsample': 0.8},\n",
       "  mean: 0.92802, std: 0.00233, params: {'colsample_bytree': 0.7, 'subsample': 0.9},\n",
       "  mean: 0.92649, std: 0.00190, params: {'colsample_bytree': 0.8, 'subsample': 0.6},\n",
       "  mean: 0.92718, std: 0.00170, params: {'colsample_bytree': 0.8, 'subsample': 0.7},\n",
       "  mean: 0.92757, std: 0.00189, params: {'colsample_bytree': 0.8, 'subsample': 0.8},\n",
       "  mean: 0.92784, std: 0.00212, params: {'colsample_bytree': 0.8, 'subsample': 0.9},\n",
       "  mean: 0.92623, std: 0.00187, params: {'colsample_bytree': 0.9, 'subsample': 0.6},\n",
       "  mean: 0.92669, std: 0.00190, params: {'colsample_bytree': 0.9, 'subsample': 0.7},\n",
       "  mean: 0.92767, std: 0.00207, params: {'colsample_bytree': 0.9, 'subsample': 0.8},\n",
       "  mean: 0.92753, std: 0.00197, params: {'colsample_bytree': 0.9, 'subsample': 0.9}],\n",
       " {'colsample_bytree': 0.6, 'subsample': 0.9},\n",
       " 0.92818807274221915)"
      ]
     },
     "execution_count": 50,
     "metadata": {},
     "output_type": "execute_result"
    }
   ],
   "source": [
    "param_test4 = {\n",
    " 'subsample':[i/10.0 for i in range(6,10)],\n",
    " 'colsample_bytree':[i/10.0 for i in range(6,10)]\n",
    "}\n",
    "gsearch4 = GridSearchCV(estimator = XGBClassifier( learning_rate =0.1, n_estimators=177, max_depth=5,\n",
    " min_child_weight=0, gamma=0, subsample=0.8, colsample_bytree=0.8,\n",
    " objective= 'binary:logistic', nthread=4, scale_pos_weight=1,seed=27), \n",
    " param_grid = param_test4, scoring='roc_auc',n_jobs=4,iid=False, cv=5)\n",
    "gsearch4.fit(train[predictors],train[target])\n",
    "gsearch4.grid_scores_, gsearch4.best_params_, gsearch4.best_score_"
   ]
  },
  {
   "cell_type": "code",
   "execution_count": 47,
   "metadata": {},
   "outputs": [
    {
     "data": {
      "text/plain": [
       "([mean: 0.92819, std: 0.00199, params: {'reg_alpha': 1e-05},\n",
       "  mean: 0.92817, std: 0.00219, params: {'reg_alpha': 0.01},\n",
       "  mean: 0.92799, std: 0.00219, params: {'reg_alpha': 0.1},\n",
       "  mean: 0.92801, std: 0.00221, params: {'reg_alpha': 1},\n",
       "  mean: 0.91365, std: 0.00325, params: {'reg_alpha': 100}],\n",
       " {'reg_alpha': 1e-05},\n",
       " 0.92818809854959528)"
      ]
     },
     "execution_count": 47,
     "metadata": {},
     "output_type": "execute_result"
    }
   ],
   "source": [
    "param_test5 = {\n",
    " 'reg_alpha':[1e-5, 1e-2, 0.1, 1, 100]\n",
    "}\n",
    "gsearch5 = GridSearchCV(estimator = XGBClassifier( learning_rate =0.1, n_estimators=177, max_depth=5,\n",
    " min_child_weight=0, gamma=0, subsample=0.9, colsample_bytree=0.6,\n",
    " objective= 'binary:logistic', nthread=4, scale_pos_weight=1,seed=27), \n",
    " param_grid = param_test5, scoring='roc_auc',n_jobs=4,iid=False, cv=5)\n",
    "gsearch5.fit(train[predictors],train[target])\n",
    "gsearch5.grid_scores_, gsearch5.best_params_, gsearch5.best_score_"
   ]
  },
  {
   "cell_type": "code",
   "execution_count": 46,
   "metadata": {},
   "outputs": [
    {
     "data": {
      "text/plain": [
       "([mean: 0.92825, std: 0.00221, params: {'reg_alpha': 5e-07},\n",
       "  mean: 0.92825, std: 0.00221, params: {'reg_alpha': 1e-06},\n",
       "  mean: 0.92825, std: 0.00221, params: {'reg_alpha': 5e-06},\n",
       "  mean: 0.92825, std: 0.00221, params: {'reg_alpha': 1e-05},\n",
       "  mean: 0.92826, std: 0.00222, params: {'reg_alpha': 0.0005}],\n",
       " {'reg_alpha': 0.0005},\n",
       " 0.92825806376863829)"
      ]
     },
     "execution_count": 46,
     "metadata": {},
     "output_type": "execute_result"
    }
   ],
   "source": [
    "param_test6 = {\n",
    " 'reg_alpha':[5e-7, 1e-6, 5e-6, 1e-5,5e-4]\n",
    "}\n",
    "gsearch6 = GridSearchCV(estimator = XGBClassifier( learning_rate =0.1, n_estimators=177, max_depth=5,\n",
    " min_child_weight=0, gamma=0.1, subsample=0.9, colsample_bytree=0.6,\n",
    " objective= 'binary:logistic', nthread=4, scale_pos_weight=1,seed=27), \n",
    " param_grid = param_test6, scoring='roc_auc',n_jobs=4,iid=False, cv=5)\n",
    "gsearch6.fit(train[predictors],train[target])\n",
    "gsearch6.grid_scores_, gsearch6.best_params_, gsearch6.best_score_"
   ]
  },
  {
   "cell_type": "code",
   "execution_count": 49,
   "metadata": {},
   "outputs": [
    {
     "name": "stdout",
     "output_type": "stream",
     "text": [
      "\n",
      "Model Report\n",
      "Accuracy : 0.8909\n",
      "AUC Score (Train): 0.947565\n"
     ]
    },
    {
     "data": {
      "image/png": "[encoded data removed]",
      "text/plain": [
       "<matplotlib.figure.Figure at 0x1c91cc1e48>"
      ]
     },
     "metadata": {},
     "output_type": "display_data"
    }
   ],
   "source": [
    "xgb4 = XGBClassifier(\n",
    " learning_rate =0.01,\n",
    " n_estimators=5000,\n",
    " max_depth=5,\n",
    " min_child_weight=0,\n",
    " gamma=0,\n",
    " subsample=0.9,\n",
    " colsample_bytree=0.6,\n",
    " reg_alpha=0.0005,\n",
    " objective= 'binary:logistic',\n",
    " nthread=4,\n",
    " scale_pos_weight=1,\n",
    " seed=27)\n",
    "modelfit(xgb4, train, predictors)"
   ]
  },
  {
   "cell_type": "code",
   "execution_count": 50,
   "metadata": {},
   "outputs": [
    {
     "name": "stdout",
     "output_type": "stream",
     "text": [
      "Done\n"
     ]
    }
   ],
   "source": [
    "######################## Making predictions\n",
    "alg=xgb4\n",
    "dtrain=train\n",
    "useTrainCV=True\n",
    "cv_folds=5\n",
    "early_stopping_rounds=50\n",
    "    \n",
    "if useTrainCV:\n",
    "    xgb_param = alg.get_xgb_params()\n",
    "    xgtrain = xgb.DMatrix(dtrain[predictors].values, label=dtrain[target].values)\n",
    "    cvresult = xgb.cv(xgb_param, xgtrain, num_boost_round=alg.get_params()['n_estimators'], nfold=cv_folds,metrics='auc', early_stopping_rounds=early_stopping_rounds)\n",
    "    alg.set_params(n_estimators=cvresult.shape[0])\n",
    "\n",
    "#Fit the algorithm on the data\n",
    "alg.fit(dtrain[predictors], dtrain['income'],eval_metric='auc')\n",
    "    \n",
    "#Predict training set:\n",
    "dtrain_predictions = alg.predict(test[predictors])\n",
    "dtrain_predprob = alg.predict_proba(test[predictors])[:,1]\n",
    "\n",
    "output=pd.DataFrame(data={'Id':test['Id'],'Prediction':dtrain_predprob})\n",
    "output.to_csv(\"submission_xgb_final.csv\",index=False)\n",
    "print(\"Done\")\n"
   ]
  }
 ],
 "metadata": {
  "anaconda-cloud": {},
  "kernelspec": {
   "display_name": "tf",
   "language": "python",
   "name": "tf"
  },
  "language_info": {
   "codemirror_mode": {
    "name": "ipython",
    "version": 3
   },
   "file_extension": ".py",
   "mimetype": "text/x-python",
   "name": "python",
   "nbconvert_exporter": "python",
   "pygments_lexer": "ipython3",
   "version": "3.7.11"
  }
 },
 "nbformat": 4,
 "nbformat_minor": 1
}
