{
 "cells": [
  {
   "cell_type": "code",
   "execution_count": null,
   "id": "9b8738e3",
   "metadata": {},
   "outputs": [],
   "source": [
    "imports_path = \".\\\\imports.ipynb\"\n",
    "tableGAN_path = \".\\\\tableGAN.ipynb\"\n",
    "utils_path = \".\\\\utils.ipynb\"\n",
    "\n",
    "%run \"$imports_path\""
   ]
  },
  {
   "cell_type": "code",
   "execution_count": null,
   "id": "ea1b7e21",
   "metadata": {},
   "outputs": [],
   "source": [
    "%run \"$utils_path\"\n",
    "%run \"$tableGAN_path\"\n",
    "\n",
    "image_dir = \".\\\\Images\"\n",
    "model_dir = \".\\\\Model\\\\tableGAN_ckpt\\\\compare_pred_on_synthetic_adult\\\\\"\n",
    "dataset_dir = \".\\\\Datasets\\\\\"\n",
    "dataset_train_path = os.path.join(dataset_dir, \"df_adult_edited_train.csv\")\n",
    "dataset_test_path = os.path.join(dataset_dir, \"df_adult_edited_test.csv\")\n",
    "dataset_gen_dir = os.path.join(dataset_dir, \"Generated_for_pred_eval_adult//\")\n",
    "\n",
    "data= pd.read_csv('Datasets\\\\df_adult_edited.csv')\n",
    "discrete_columns = data.columns[data.dtypes == \"object\"]\n",
    "data_train, data_test = train_test_split(data, test_size=0.4, random_state=1)\n",
    "print(f\"Train size: {data_train.shape[0]}, Test size: {data_test.shape[0]}\")\n",
    "\n",
    "data_train.to_csv(dataset_train_path)\n",
    "data_test.to_csv(dataset_test_path)"
   ]
  },
  {
   "cell_type": "code",
   "execution_count": null,
   "id": "2c73bfd7",
   "metadata": {},
   "outputs": [],
   "source": [
    "n_epochs = 100\n",
    "n_critic = 10\n",
    "adam_lr = 0.002\n",
    "adam_beta1 = 0.5\n",
    "noise_discrete_unif_max = 0\n",
    "\n",
    "batch_size = 500\n",
    "ckpt_every = 1\n",
    "loss_plot_update_every = 10\n",
    "\n",
    "n_synthetic_datasets = 10\n",
    "n_synthetic_datasets_existing = 0\n",
    "\n",
    "retrain = False"
   ]
  },
  {
   "cell_type": "code",
   "execution_count": 4,
   "id": "1c61219f",
   "metadata": {},
   "outputs": [],
   "source": [
    "%run \"$tableGAN_path\"\n",
    "tg = TableGAN(data, n_critic = n_critic, adam_lr = adam_lr, adam_beta1 = adam_beta1,\n",
    "              quantile_transformation_int = False, quantile_rand_transformation = False,\n",
    "             noise_discrete_unif_max = noise_discrete_unif_max)\n",
    "\n",
    "tg_qt = TableGAN(data, n_critic = n_critic, adam_lr = adam_lr, adam_beta1 = adam_beta1,\n",
    "              quantile_transformation_int = True, quantile_rand_transformation = False,\n",
    "             noise_discrete_unif_max = noise_discrete_unif_max)\n",
    "\n",
    "tg_qtr = TableGAN(data, n_critic = n_critic, adam_lr = adam_lr, adam_beta1 = adam_beta1,\n",
    "              quantile_transformation_int = True, quantile_rand_transformation = True,\n",
    "             noise_discrete_unif_max = noise_discrete_unif_max)"
   ]
  },
  {
   "cell_type": "code",
   "execution_count": 5,
   "id": "dc3c6ddb",
   "metadata": {},
   "outputs": [],
   "source": [
    "if retrain:\n",
    "    generate_multiple_datasets(tg, dataset_gen_dir, n_synthetic_datasets, n_epochs, subfolder = \"tabGAN\",\n",
    "                              n_synthetic_datasets_existing=n_synthetic_datasets_existing)"
   ]
  },
  {
   "cell_type": "code",
   "execution_count": 6,
   "id": "42a3fd9e",
   "metadata": {},
   "outputs": [],
   "source": [
    "if retrain:\n",
    "    generate_multiple_datasets(tg_qt, dataset_gen_dir, n_synthetic_datasets, n_epochs, subfolder = \"tabGAN-qt\",\n",
    "                              n_synthetic_datasets_existing=n_synthetic_datasets_existing)"
   ]
  },
  {
   "cell_type": "code",
   "execution_count": 7,
   "id": "d7712278",
   "metadata": {},
   "outputs": [],
   "source": [
    "if retrain:\n",
    "    generate_multiple_datasets(tg_qtr, dataset_gen_dir, n_synthetic_datasets, n_epochs, subfolder = \"tabGAN-qtr\",\n",
    "                              n_synthetic_datasets_existing=n_synthetic_datasets_existing)"
   ]
  },
  {
   "cell_type": "code",
   "execution_count": 8,
   "id": "0e9b8113",
   "metadata": {},
   "outputs": [],
   "source": [
    "if retrain:\n",
    "    dataset_dir_ctgan = os.path.join(dataset_gen_dir, \"CTGAN\") \n",
    "    os.makedirs(dataset_dir_ctgan, exist_ok = True)\n",
    "    for i in tqdm(range(n_synthetic_datasets), desc = \"Generated datasets\"):\n",
    "\n",
    "        ctgan = CTGANSynthesizer(epochs=n_epochs, discriminator_steps=n_critic)\n",
    "        ctgan.fit(data_train, tg.columns_discrete)\n",
    "        fake_train = ctgan.sample(data_train.shape[0])\n",
    "        fake_train.to_csv(os.path.join(dataset_dir_ctgan, f\"gen{i}.csv\"))\n",
    "        del ctgan"
   ]
  },
  {
   "cell_type": "code",
   "execution_count": 9,
   "id": "57c96718",
   "metadata": {},
   "outputs": [
    {
     "data": {
      "application/vnd.jupyter.widget-view+json": {
       "model_id": "8ee644567add44a6997ece7325ebc929",
       "version_major": 2,
       "version_minor": 0
      },
      "text/plain": [
       "  0%|          | 0/36 [00:00<?, ?it/s]"
      ]
     },
     "metadata": {},
     "output_type": "display_data"
    },
    {
     "data": {
      "text/html": [
       "<div>\n",
       "<style scoped>\n",
       "    .dataframe tbody tr th:only-of-type {\n",
       "        vertical-align: middle;\n",
       "    }\n",
       "\n",
       "    .dataframe tbody tr th {\n",
       "        vertical-align: top;\n",
       "    }\n",
       "\n",
       "    .dataframe thead th {\n",
       "        text-align: right;\n",
       "    }\n",
       "</style>\n",
       "<table border=\"1\" class=\"dataframe\">\n",
       "  <thead>\n",
       "    <tr style=\"text-align: right;\">\n",
       "      <th></th>\n",
       "      <th>Model</th>\n",
       "      <th>Accuracy</th>\n",
       "      <th>AUC</th>\n",
       "      <th>SD Accuracy</th>\n",
       "      <th>SD AUC</th>\n",
       "    </tr>\n",
       "  </thead>\n",
       "  <tbody>\n",
       "    <tr>\n",
       "      <th>0</th>\n",
       "      <td>Train dataset</td>\n",
       "      <td>0.82856</td>\n",
       "      <td>0.870968</td>\n",
       "      <td>0</td>\n",
       "      <td>0</td>\n",
       "    </tr>\n",
       "    <tr>\n",
       "      <th>1</th>\n",
       "      <td>tabGAN</td>\n",
       "      <td>0.808614</td>\n",
       "      <td>0.842037</td>\n",
       "      <td>0.008287</td>\n",
       "      <td>0.005719</td>\n",
       "    </tr>\n",
       "    <tr>\n",
       "      <th>2</th>\n",
       "      <td>tabGAN-qt</td>\n",
       "      <td>0.813221</td>\n",
       "      <td>0.839334</td>\n",
       "      <td>0.004017</td>\n",
       "      <td>0.00671</td>\n",
       "    </tr>\n",
       "    <tr>\n",
       "      <th>3</th>\n",
       "      <td>tabGAN-qtr</td>\n",
       "      <td>0.804775</td>\n",
       "      <td>0.828234</td>\n",
       "      <td>0.007455</td>\n",
       "      <td>0.015613</td>\n",
       "    </tr>\n",
       "    <tr>\n",
       "      <th>4</th>\n",
       "      <td>CTGAN</td>\n",
       "      <td>0.806787</td>\n",
       "      <td>0.821325</td>\n",
       "      <td>0.005266</td>\n",
       "      <td>0.004287</td>\n",
       "    </tr>\n",
       "    <tr>\n",
       "      <th>5</th>\n",
       "      <td>TGAN</td>\n",
       "      <td>0.71005</td>\n",
       "      <td>0.529143</td>\n",
       "      <td>0.024137</td>\n",
       "      <td>0.103481</td>\n",
       "    </tr>\n",
       "    <tr>\n",
       "      <th>6</th>\n",
       "      <td>tabFairGAN</td>\n",
       "      <td>0.759432</td>\n",
       "      <td>0.572379</td>\n",
       "      <td>0.004786</td>\n",
       "      <td>0.035611</td>\n",
       "    </tr>\n",
       "    <tr>\n",
       "      <th>7</th>\n",
       "      <td>tabFairGAN-mod</td>\n",
       "      <td>0.798403</td>\n",
       "      <td>0.815467</td>\n",
       "      <td>0.001824</td>\n",
       "      <td>0.005832</td>\n",
       "    </tr>\n",
       "  </tbody>\n",
       "</table>\n",
       "</div>"
      ],
      "text/plain": [
       "            Model  Accuracy       AUC SD Accuracy    SD AUC\n",
       "0   Train dataset   0.82856  0.870968           0         0\n",
       "1          tabGAN  0.808614  0.842037    0.008287  0.005719\n",
       "2       tabGAN-qt  0.813221  0.839334    0.004017   0.00671\n",
       "3      tabGAN-qtr  0.804775  0.828234    0.007455  0.015613\n",
       "4           CTGAN  0.806787  0.821325    0.005266  0.004287\n",
       "5            TGAN   0.71005  0.529143    0.024137  0.103481\n",
       "6      tabFairGAN  0.759432  0.572379    0.004786  0.035611\n",
       "7  tabFairGAN-mod  0.798403  0.815467    0.001824  0.005832"
      ]
     },
     "execution_count": 9,
     "metadata": {},
     "output_type": "execute_result"
    }
   ],
   "source": [
    "%run \"$utils_path\"\n",
    "\n",
    "subfolders = [\"tabGAN\", \"tabGAN-qt\", \"tabGAN-qtr\", \"CTGAN\", \"TGAN\", \"tabFairGAN\", \"tabFairGAN-mod\"]\n",
    "evaluate_tabGAN_through_prediction(data_train, data_test, dataset_gen_dir, subfolders, n_synthetic_datasets = 5)"
   ]
  },
  {
   "cell_type": "code",
   "execution_count": 71,
   "id": "87b19a2c",
   "metadata": {},
   "outputs": [
    {
     "data": {
      "application/vnd.jupyter.widget-view+json": {
       "model_id": "e40dc71772d446af85cf142e8c6938c0",
       "version_major": 2,
       "version_minor": 0
      },
      "text/plain": [
       "  0%|          | 0/11 [00:00<?, ?it/s]"
      ]
     },
     "metadata": {},
     "output_type": "display_data"
    },
    {
     "data": {
      "text/html": [
       "<div>\n",
       "<style scoped>\n",
       "    .dataframe tbody tr th:only-of-type {\n",
       "        vertical-align: middle;\n",
       "    }\n",
       "\n",
       "    .dataframe tbody tr th {\n",
       "        vertical-align: top;\n",
       "    }\n",
       "\n",
       "    .dataframe thead th {\n",
       "        text-align: right;\n",
       "    }\n",
       "</style>\n",
       "<table border=\"1\" class=\"dataframe\">\n",
       "  <thead>\n",
       "    <tr style=\"text-align: right;\">\n",
       "      <th></th>\n",
       "      <th>Model</th>\n",
       "      <th>Accuracy</th>\n",
       "      <th>AUC</th>\n",
       "      <th>SD Accuracy</th>\n",
       "      <th>SD AUC</th>\n",
       "    </tr>\n",
       "  </thead>\n",
       "  <tbody>\n",
       "    <tr>\n",
       "      <th>0</th>\n",
       "      <td>Train dataset</td>\n",
       "      <td>0.82856</td>\n",
       "      <td>0.870968</td>\n",
       "      <td>0</td>\n",
       "      <td>0</td>\n",
       "    </tr>\n",
       "    <tr>\n",
       "      <th>1</th>\n",
       "      <td>tabGAN-qtr</td>\n",
       "      <td>0.806841</td>\n",
       "      <td>0.834713</td>\n",
       "      <td>0.007901</td>\n",
       "      <td>0.013756</td>\n",
       "    </tr>\n",
       "  </tbody>\n",
       "</table>\n",
       "</div>"
      ],
      "text/plain": [
       "           Model  Accuracy       AUC SD Accuracy    SD AUC\n",
       "0  Train dataset   0.82856  0.870968           0         0\n",
       "1     tabGAN-qtr  0.806841  0.834713    0.007901  0.013756"
      ]
     },
     "execution_count": 71,
     "metadata": {},
     "output_type": "execute_result"
    }
   ],
   "source": [
    "evaluate_tabGAN_through_prediction(data_train, data_test, dataset_gen_dir, subfolders = [\"tabGAN-qtr\"], n_synthetic_datasets = 10)"
   ]
  },
  {
   "cell_type": "code",
   "execution_count": 6,
   "id": "06b0fdf0",
   "metadata": {},
   "outputs": [
    {
     "data": {
      "application/vnd.jupyter.widget-view+json": {
       "model_id": "cc2ba6ddc6d541479ca8a19589713926",
       "version_major": 2,
       "version_minor": 0
      },
      "text/plain": [
       "Epoch subfolder creation: 0it [00:00, ?it/s]"
      ]
     },
     "metadata": {},
     "output_type": "display_data"
    }
   ],
   "source": [
    "tg_qt = TableGAN(data, n_critic = n_critic, adam_lr = adam_lr, adam_beta1 = adam_beta1,\n",
    "              quantile_transformation_int = True, quantile_rand_transformation = False,\n",
    "             noise_discrete_unif_max = noise_discrete_unif_max,\n",
    "                gumbel_temperature = 0.5)\n",
    "\n",
    "dataset_epochs_comparison_dir = os.path.join(dataset_gen_dir, \"epoch_comparison\")\n",
    "n_epochs_vec = np.arange(1, 26).tolist() + np.arange(30,101, 10).tolist()\n",
    "path_finished_epochs_counter = \".//Python_objects//existing_n_epochs_tracker.pkl\"\n",
    "generate_multiple_datasets_for_multiple_epochs(tg_qt, dataset_dir = dataset_epochs_comparison_dir,\n",
    "                                               n_synthetic_datasets = 5, n_epochs_vec = n_epochs_vec,\n",
    "                                              path_finished_epochs_counter = path_finished_epochs_counter,\n",
    "                                              redo_n_epochs_vec=[])"
   ]
  },
  {
   "cell_type": "code",
   "execution_count": null,
   "id": "a2509479",
   "metadata": {},
   "outputs": [
    {
     "data": {
      "application/vnd.jupyter.widget-view+json": {
       "model_id": "1a68b35fc3c14e189e75aeb21a25da4b",
       "version_major": 2,
       "version_minor": 0
      },
      "text/plain": [
       "  0%|          | 0/165 [00:00<?, ?it/s]"
      ]
     },
     "metadata": {},
     "output_type": "display_data"
    }
   ],
   "source": [
    "result = evaluate_n_epochs_through_prediction(data_train, data_test, dataset_dir = dataset_epochs_comparison_dir,\n",
    "                                     n_epochs_vec = n_epochs_vec, n_synthetic_datasets = 5,\n",
    "                                    save_dir = image_dir, save_path = \"predictive_performance_against_n_epochs.jpg\")"
   ]
  }
 ],
 "metadata": {
  "kernelspec": {
   "display_name": "tf",
   "language": "python",
   "name": "tf"
  },
  "language_info": {
   "codemirror_mode": {
    "name": "ipython",
    "version": 3
   },
   "file_extension": ".py",
   "mimetype": "text/x-python",
   "name": "python",
   "nbconvert_exporter": "python",
   "pygments_lexer": "ipython3",
   "version": "3.7.11"
  }
 },
 "nbformat": 4,
 "nbformat_minor": 5
}
