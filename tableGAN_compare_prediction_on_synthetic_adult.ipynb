{
 "cells": [
  {
   "cell_type": "code",
   "execution_count": 1,
   "id": "9aa05938",
   "metadata": {},
   "outputs": [],
   "source": [
    "imports_path = \".\\\\imports.ipynb\"\n",
    "tableGAN_path = \".\\\\tableGAN.ipynb\"\n",
    "utils_path = \".\\\\utils.ipynb\"\n",
    "\n",
    "%run \"$imports_path\""
   ]
  },
  {
   "cell_type": "code",
   "execution_count": 2,
   "id": "e19a8a4e",
   "metadata": {},
   "outputs": [
    {
     "name": "stdout",
     "output_type": "stream",
     "text": [
      "Train size: 19536, Test size: 13025\n"
     ]
    }
   ],
   "source": [
    "%run \"$utils_path\"\n",
    "%run \"$tableGAN_path\"\n",
    "\n",
    "image_dir = \".\\\\Images\"\n",
    "model_dir = \".\\\\Model\\\\tableGAN_ckpt\\\\compare_pred_on_synthetic_adult\\\\\"\n",
    "dataset_dir = \".\\\\Datasets\\\\\"\n",
    "dataset_train_path = os.path.join(dataset_dir, \"df_adult_edited_train.csv\")\n",
    "dataset_test_path = os.path.join(dataset_dir, \"df_adult_edited_test.csv\")\n",
    "dataset_gen_dir = os.path.join(dataset_dir, \"Generated_for_pred_eval_adult//\")\n",
    "\n",
    "data= pd.read_csv('Datasets\\\\df_adult_edited.csv')\n",
    "discrete_columns = data.columns[data.dtypes == \"object\"]\n",
    "data_train, data_test = train_test_split(data, test_size=0.4, random_state=1)\n",
    "print(f\"Train size: {data_train.shape[0]}, Test size: {data_test.shape[0]}\")\n",
    "\n",
    "data_train.to_csv(dataset_train_path)\n",
    "data_test.to_csv(dataset_test_path)"
   ]
  },
  {
   "cell_type": "code",
   "execution_count": 3,
   "id": "756a0d5a",
   "metadata": {},
   "outputs": [],
   "source": [
    "n_epochs = 20\n",
    "n_critic = 10\n",
    "adam_lr = 0.002\n",
    "adam_beta1 = 0.5\n",
    "noise_discrete_unif_max = 0\n",
    "\n",
    "batch_size = 500\n",
    "ckpt_every = 1\n",
    "loss_plot_update_every = 10\n",
    "\n",
    "n_synthetic_datasets = 5\n",
    "\n",
    "retrain = False"
   ]
  },
  {
   "cell_type": "code",
   "execution_count": 4,
   "id": "9ae60a15",
   "metadata": {},
   "outputs": [],
   "source": [
    "%run \"$tableGAN_path\"\n",
    "tg = TableGAN(data, n_critic = n_critic, adam_lr = adam_lr, adam_beta1 = adam_beta1,\n",
    "              quantile_transformation_int = False, quantile_rand_transformation = False,\n",
    "             noise_discrete_unif_max = noise_discrete_unif_max)\n",
    "\n",
    "tg_qt = TableGAN(data, n_critic = n_critic, adam_lr = adam_lr, adam_beta1 = adam_beta1,\n",
    "              quantile_transformation_int = True, quantile_rand_transformation = False,\n",
    "             noise_discrete_unif_max = noise_discrete_unif_max)\n",
    "\n",
    "tg_qtr = TableGAN(data, n_critic = n_critic, adam_lr = adam_lr, adam_beta1 = adam_beta1,\n",
    "              quantile_transformation_int = True, quantile_rand_transformation = True,\n",
    "             noise_discrete_unif_max = noise_discrete_unif_max)"
   ]
  },
  {
   "cell_type": "code",
   "execution_count": 5,
   "id": "f3aa2870",
   "metadata": {},
   "outputs": [],
   "source": [
    "%run \"$tableGAN_path\"\n",
    "def generate_multiple_datasets(tgan, dataset_dir, subfolder = None):\n",
    "    if not subfolder is None:\n",
    "        dataset_dir = os.path.join(dataset_dir, subfolder) \n",
    "    os.makedirs(dataset_dir, exist_ok = True)\n",
    "    for i in tqdm(range(n_synthetic_datasets), desc = \"Generated datasets\"):\n",
    "        \n",
    "        tgan.train(n_epochs, batch_size = batch_size, restart_training = True, plot_loss = False,\n",
    "                 progress_bar = True, progress_bar_desc = f\"Progress generating dataset {i+1}\")\n",
    "        fake_train = tgan.generate_data()\n",
    "        fake_train.to_csv(os.path.join(dataset_dir, f\"gen{i}.csv\"))\n",
    "    "
   ]
  },
  {
   "cell_type": "code",
   "execution_count": 6,
   "id": "ff95bb0f",
   "metadata": {},
   "outputs": [],
   "source": [
    "if retrain:\n",
    "    generate_multiple_datasets(tg, dataset_gen_dir, subfolder = \"tabGAN\")"
   ]
  },
  {
   "cell_type": "code",
   "execution_count": 7,
   "id": "f780f0ae",
   "metadata": {},
   "outputs": [],
   "source": [
    "if retrain:\n",
    "    generate_multiple_datasets(tg_qt, dataset_gen_dir, subfolder = \"tabGAN-qt\")"
   ]
  },
  {
   "cell_type": "code",
   "execution_count": 8,
   "id": "10047c03",
   "metadata": {},
   "outputs": [],
   "source": [
    "if retrain:\n",
    "    generate_multiple_datasets(tg_qtr, dataset_gen_dir, subfolder = \"tabGAN-qtr\")"
   ]
  },
  {
   "cell_type": "code",
   "execution_count": 9,
   "id": "af1dca41",
   "metadata": {},
   "outputs": [],
   "source": [
    "if retrain:\n",
    "    dataset_dir_ctgan = os.path.join(dataset_gen_dir, \"CTGAN\") \n",
    "    os.makedirs(dataset_dir_ctgan, exist_ok = True)\n",
    "    for i in tqdm(range(n_synthetic_datasets), desc = \"Generated datasets\"):\n",
    "\n",
    "        ctgan = CTGANSynthesizer(epochs=n_epochs, discriminator_steps=n_critic)\n",
    "        ctgan.fit(data_train, tg.columns_discrete)\n",
    "        fake_train = ctgan.sample(data_train.shape[0])\n",
    "        fake_train.to_csv(os.path.join(dataset_dir_ctgan, f\"gen{i}.csv\"))\n",
    "        del ctgan"
   ]
  },
  {
   "cell_type": "code",
   "execution_count": 6,
   "id": "0403498d",
   "metadata": {},
   "outputs": [
    {
     "data": {
      "application/vnd.jupyter.widget-view+json": {
       "model_id": "5f4dafbe9c714fc29b33cbbec49bcb5c",
       "version_major": 2,
       "version_minor": 0
      },
      "text/plain": [
       "  0%|          | 0/36 [00:00<?, ?it/s]"
      ]
     },
     "metadata": {},
     "output_type": "display_data"
    },
    {
     "data": {
      "text/html": [
       "<div>\n",
       "<style scoped>\n",
       "    .dataframe tbody tr th:only-of-type {\n",
       "        vertical-align: middle;\n",
       "    }\n",
       "\n",
       "    .dataframe tbody tr th {\n",
       "        vertical-align: top;\n",
       "    }\n",
       "\n",
       "    .dataframe thead th {\n",
       "        text-align: right;\n",
       "    }\n",
       "</style>\n",
       "<table border=\"1\" class=\"dataframe\">\n",
       "  <thead>\n",
       "    <tr style=\"text-align: right;\">\n",
       "      <th></th>\n",
       "      <th>Model</th>\n",
       "      <th>Accuracy</th>\n",
       "      <th>AUC</th>\n",
       "      <th>SD Accuracy</th>\n",
       "      <th>SD AUC</th>\n",
       "    </tr>\n",
       "  </thead>\n",
       "  <tbody>\n",
       "    <tr>\n",
       "      <th>0</th>\n",
       "      <td>Train dataset</td>\n",
       "      <td>0.82856</td>\n",
       "      <td>0.870968</td>\n",
       "      <td>0</td>\n",
       "      <td>0</td>\n",
       "    </tr>\n",
       "    <tr>\n",
       "      <th>1</th>\n",
       "      <td>tabGAN</td>\n",
       "      <td>0.808614</td>\n",
       "      <td>0.842037</td>\n",
       "      <td>0.008287</td>\n",
       "      <td>0.005719</td>\n",
       "    </tr>\n",
       "    <tr>\n",
       "      <th>2</th>\n",
       "      <td>tabGAN-qt</td>\n",
       "      <td>0.813221</td>\n",
       "      <td>0.839334</td>\n",
       "      <td>0.004017</td>\n",
       "      <td>0.00671</td>\n",
       "    </tr>\n",
       "    <tr>\n",
       "      <th>3</th>\n",
       "      <td>tabGAN-qtr</td>\n",
       "      <td>0.808384</td>\n",
       "      <td>0.837567</td>\n",
       "      <td>0.006518</td>\n",
       "      <td>0.006155</td>\n",
       "    </tr>\n",
       "    <tr>\n",
       "      <th>4</th>\n",
       "      <td>CTGAN</td>\n",
       "      <td>0.806787</td>\n",
       "      <td>0.821325</td>\n",
       "      <td>0.005266</td>\n",
       "      <td>0.004287</td>\n",
       "    </tr>\n",
       "    <tr>\n",
       "      <th>5</th>\n",
       "      <td>TGAN</td>\n",
       "      <td>0.71005</td>\n",
       "      <td>0.529143</td>\n",
       "      <td>0.024137</td>\n",
       "      <td>0.103481</td>\n",
       "    </tr>\n",
       "    <tr>\n",
       "      <th>6</th>\n",
       "      <td>tabFairGAN</td>\n",
       "      <td>0.798403</td>\n",
       "      <td>0.815467</td>\n",
       "      <td>0.001824</td>\n",
       "      <td>0.005832</td>\n",
       "    </tr>\n",
       "    <tr>\n",
       "      <th>7</th>\n",
       "      <td>tabFairGAN-orig</td>\n",
       "      <td>0.759432</td>\n",
       "      <td>0.572379</td>\n",
       "      <td>0.004786</td>\n",
       "      <td>0.035611</td>\n",
       "    </tr>\n",
       "  </tbody>\n",
       "</table>\n",
       "</div>"
      ],
      "text/plain": [
       "             Model  Accuracy       AUC SD Accuracy    SD AUC\n",
       "0    Train dataset   0.82856  0.870968           0         0\n",
       "1           tabGAN  0.808614  0.842037    0.008287  0.005719\n",
       "2        tabGAN-qt  0.813221  0.839334    0.004017   0.00671\n",
       "3       tabGAN-qtr  0.808384  0.837567    0.006518  0.006155\n",
       "4            CTGAN  0.806787  0.821325    0.005266  0.004287\n",
       "5             TGAN   0.71005  0.529143    0.024137  0.103481\n",
       "6       tabFairGAN  0.798403  0.815467    0.001824  0.005832\n",
       "7  tabFairGAN-orig  0.759432  0.572379    0.004786  0.035611"
      ]
     },
     "execution_count": 6,
     "metadata": {},
     "output_type": "execute_result"
    }
   ],
   "source": [
    "%run \"$utils_path\"\n",
    "\n",
    "subfolders = [\"tabGAN\", \"tabGAN-qt\", \"tabGAN-qtr\", \"CTGAN\", \"TGAN\", \"tabFairGAN\", \"tabFairGAN-orig\"]\n",
    "evaluate_tabGAN_through_prediction(data_train, data_test, dataset_gen_dir, subfolders, n_synthetic_datasets)"
   ]
  },
  {
   "cell_type": "code",
   "execution_count": 3,
   "id": "58fce994",
   "metadata": {},
   "outputs": [],
   "source": []
  },
  {
   "cell_type": "code",
   "execution_count": null,
   "id": "c7ab44b9",
   "metadata": {},
   "outputs": [],
   "source": [
    "def modelfit(alg, dtrain, predictors,useTrainCV=True, cv_folds=5, early_stopping_rounds=50):\n",
    "    \n",
    "    if useTrainCV:\n",
    "        xgb_param = alg.get_xgb_params()\n",
    "        xgtrain = xgb.DMatrix(dtrain[predictors].values, label=dtrain[target].values)\n",
    "        cvresult = xgb.cv(xgb_param, xgtrain, num_boost_round=alg.get_params()['n_estimators'], nfold=cv_folds,metrics='auc', early_stopping_rounds=early_stopping_rounds)\n",
    "        alg.set_params(n_estimators=cvresult.shape[0])\n",
    "    \n",
    "    #Fit the algorithm on the data\n",
    "    alg.fit(dtrain[predictors], dtrain['income'],eval_metric='auc')\n",
    "        \n",
    "    #Predict training set:\n",
    "    dtrain_predictions = alg.predict(dtrain[predictors])\n",
    "    dtrain_predprob = alg.predict_proba(dtrain[predictors])[:,1]\n",
    "    \n",
    "    #Print model report:\n",
    "    print(\"\\nModel Report\")\n",
    "    print(\"Accuracy : %.4g\" % metrics.accuracy_score(dtrain['income'].values, dtrain_predictions))\n",
    "    print(\"AUC Score (Train): %f\" % metrics.roc_auc_score(dtrain['income'], dtrain_predprob))\n",
    "\n",
    "    feat_imp = pd.Series(alg.booster().get_fscore()).sort_values(ascending=False)\n",
    "    feat_imp.plot(kind='bar', title='Feature Importances')\n",
    "    plt.ylabel('Feature Importance Score')"
   ]
  },
  {
   "cell_type": "code",
   "execution_count": null,
   "id": "138f22ec",
   "metadata": {},
   "outputs": [],
   "source": [
    "#Choose all predictors except target & IDcols\n",
    "predictors = [x for x in train.columns if x not in [target, IDcol]]\n",
    "xgb1 = XGBClassifier(\n",
    " learning_rate =0.1,\n",
    " n_estimators=1000,\n",
    " max_depth=5,\n",
    " min_child_weight=1,\n",
    " gamma=0,\n",
    " subsample=0.8,\n",
    " colsample_bytree=0.8,\n",
    " objective= 'binary:logistic',\n",
    " nthread=4,\n",
    " scale_pos_weight=1,\n",
    " seed=27)\n",
    "\n",
    "\n",
    "modelfit(xgb1, train, predictors)"
   ]
  },
  {
   "cell_type": "code",
   "execution_count": null,
   "id": "95df70ae",
   "metadata": {},
   "outputs": [],
   "source": [
    "xgb2 = XGBClassifier(\n",
    " learning_rate =0.1,\n",
    " n_estimators=1000,\n",
    " max_depth=5,\n",
    " min_child_weight=0,\n",
    " gamma=0,\n",
    " subsample=0.8,\n",
    " colsample_bytree=0.8,\n",
    " objective= 'binary:logistic',\n",
    " nthread=4,\n",
    " scale_pos_weight=1,\n",
    " seed=27)\n",
    "modelfit(xgb2, train, predictors)"
   ]
  }
 ],
 "metadata": {
  "kernelspec": {
   "display_name": "tf",
   "language": "python",
   "name": "tf"
  },
  "language_info": {
   "codemirror_mode": {
    "name": "ipython",
    "version": 3
   },
   "file_extension": ".py",
   "mimetype": "text/x-python",
   "name": "python",
   "nbconvert_exporter": "python",
   "pygments_lexer": "ipython3",
   "version": "3.7.11"
  }
 },
 "nbformat": 4,
 "nbformat_minor": 5
}
