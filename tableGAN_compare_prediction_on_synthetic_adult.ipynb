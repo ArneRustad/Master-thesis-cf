{
 "cells": [
  {
   "cell_type": "code",
   "execution_count": 153,
   "id": "9270ae2b",
   "metadata": {},
   "outputs": [],
   "source": [
    "imports_path = \".\\\\imports.ipynb\"\n",
    "tableGAN_path = \".\\\\tableGAN.ipynb\"\n",
    "utils_path = \".\\\\utils.ipynb\"\n",
    "\n",
    "%run \"$imports_path\""
   ]
  },
  {
   "cell_type": "code",
   "execution_count": 188,
   "id": "79cb7d45",
   "metadata": {},
   "outputs": [
    {
     "name": "stdout",
     "output_type": "stream",
     "text": [
      "Train size: 19536, Test size: 13025\n"
     ]
    },
    {
     "data": {
      "text/plain": [
       "'.\\\\Datasets\\\\Generated_for_pred_eval_adult//'"
      ]
     },
     "execution_count": 188,
     "metadata": {},
     "output_type": "execute_result"
    }
   ],
   "source": [
    "%run \"$utils_path\"\n",
    "%run \"$tableGAN_path\"\n",
    "\n",
    "image_dir = \".\\\\Images\"\n",
    "model_dir = \".\\\\Model\\\\tableGAN_ckpt\\\\compare_pred_on_synthetic_adult\\\\\"\n",
    "dataset_dir = \".\\\\Datasets\\\\\"\n",
    "dataset_train_path = os.path.join(dataset_dir, \"df_adult_edited_train.csv\")\n",
    "dataset_test_path = os.path.join(dataset_dir, \"df_adult_edited_test.csv\")\n",
    "dataset_gen_dir = os.path.join(dataset_dir, \"Generated_for_pred_eval_adult//\")\n",
    "\n",
    "data= pd.read_csv('Datasets\\\\df_adult_edited.csv')\n",
    "discrete_columns = data.columns[data.dtypes == \"object\"]\n",
    "data[discrete_columns] = data[discrete_columns].astype(\"category\")\n",
    "data_train, data_test = train_test_split(data, test_size=0.4, random_state=1)\n",
    "print(f\"Train size: {data_train.shape[0]}, Test size: {data_test.shape[0]}\")\n",
    "\n",
    "data_train.to_csv(dataset_train_path)\n",
    "data_test.to_csv(dataset_test_path)"
   ]
  },
  {
   "cell_type": "code",
   "execution_count": 210,
   "id": "e3ba1696",
   "metadata": {},
   "outputs": [],
   "source": [
    "n_epochs = 20\n",
    "n_critic = 10\n",
    "adam_lr = 0.002\n",
    "adam_beta1 = 0.5\n",
    "noise_discrete_unif_max = 0\n",
    "\n",
    "batch_size = 500\n",
    "ckpt_every = 1\n",
    "loss_plot_update_every = 10\n",
    "\n",
    "n_synthetic_datasets = 5\n",
    "\n",
    "retrain = True"
   ]
  },
  {
   "cell_type": "code",
   "execution_count": 211,
   "id": "a437e2f6",
   "metadata": {},
   "outputs": [],
   "source": [
    "%run \"$tableGAN_path\"\n",
    "tg = TableGAN(data, n_critic = n_critic, adam_lr = adam_lr, adam_beta1 = adam_beta1,\n",
    "              quantile_transformation_int = False, quantile_rand_transformation = False,\n",
    "             noise_discrete_unif_max = noise_discrete_unif_max)\n",
    "\n",
    "tg_qt = TableGAN(data, n_critic = n_critic, adam_lr = adam_lr, adam_beta1 = adam_beta1,\n",
    "              quantile_transformation_int = True, quantile_rand_transformation = False,\n",
    "             noise_discrete_unif_max = noise_discrete_unif_max)\n",
    "\n",
    "tg_qtr = TableGAN(data, n_critic = n_critic, adam_lr = adam_lr, adam_beta1 = adam_beta1,\n",
    "              quantile_transformation_int = True, quantile_rand_transformation = True,\n",
    "             noise_discrete_unif_max = noise_discrete_unif_max)"
   ]
  },
  {
   "cell_type": "code",
   "execution_count": 212,
   "id": "95bf041f",
   "metadata": {},
   "outputs": [],
   "source": [
    "%run \"$tableGAN_path\"\n",
    "def generate_multiple_datasets(tgan, dataset_dir, subfolder = None):\n",
    "    if not subfolder is None:\n",
    "        dataset_dir = os.path.join(dataset_dir, subfolder) \n",
    "    os.makedirs(dataset_dir, exist_ok = True)\n",
    "    for i in tqdm(range(n_synthetic_datasets), desc = \"Generated datasets\"):\n",
    "        \n",
    "        tgan.train(n_epochs, batch_size = batch_size, restart_training = True, plot_loss = False,\n",
    "                 progress_bar = True, progress_bar_desc = f\"Progress generating dataset {i+1}\")\n",
    "        fake_train = tgan.generate_data()\n",
    "        fake_train.to_csv(os.path.join(dataset_dir, f\"gen{i}.csv\"))\n",
    "    "
   ]
  },
  {
   "cell_type": "code",
   "execution_count": 213,
   "id": "4de70556",
   "metadata": {},
   "outputs": [
    {
     "data": {
      "application/vnd.jupyter.widget-view+json": {
       "model_id": "f9278f79db6e4316bb89ee28e8b2f29a",
       "version_major": 2,
       "version_minor": 0
      },
      "text/plain": [
       "Generated datasets:   0%|          | 0/5 [00:00<?, ?it/s]"
      ]
     },
     "metadata": {},
     "output_type": "display_data"
    },
    {
     "data": {
      "application/vnd.jupyter.widget-view+json": {
       "model_id": "",
       "version_major": 2,
       "version_minor": 0
      },
      "text/plain": [
       "Progress generating dataset 1:   0%|          | 0/20 [00:00<?, ?it/s]"
      ]
     },
     "metadata": {},
     "output_type": "display_data"
    },
    {
     "data": {
      "application/vnd.jupyter.widget-view+json": {
       "model_id": "",
       "version_major": 2,
       "version_minor": 0
      },
      "text/plain": [
       "Progress generating dataset 2:   0%|          | 0/20 [00:00<?, ?it/s]"
      ]
     },
     "metadata": {},
     "output_type": "display_data"
    },
    {
     "data": {
      "application/vnd.jupyter.widget-view+json": {
       "model_id": "",
       "version_major": 2,
       "version_minor": 0
      },
      "text/plain": [
       "Progress generating dataset 3:   0%|          | 0/20 [00:00<?, ?it/s]"
      ]
     },
     "metadata": {},
     "output_type": "display_data"
    },
    {
     "data": {
      "application/vnd.jupyter.widget-view+json": {
       "model_id": "",
       "version_major": 2,
       "version_minor": 0
      },
      "text/plain": [
       "Progress generating dataset 4:   0%|          | 0/20 [00:00<?, ?it/s]"
      ]
     },
     "metadata": {},
     "output_type": "display_data"
    },
    {
     "data": {
      "application/vnd.jupyter.widget-view+json": {
       "model_id": "",
       "version_major": 2,
       "version_minor": 0
      },
      "text/plain": [
       "Progress generating dataset 5:   0%|          | 0/20 [00:00<?, ?it/s]"
      ]
     },
     "metadata": {},
     "output_type": "display_data"
    }
   ],
   "source": [
    "generate_multiple_datasets(tg, dataset_gen_dir, subfolder = \"tabGAN\")"
   ]
  },
  {
   "cell_type": "code",
   "execution_count": 214,
   "id": "01feda08",
   "metadata": {},
   "outputs": [
    {
     "data": {
      "application/vnd.jupyter.widget-view+json": {
       "model_id": "4e14b3069eff4d9c9c3380d59c7436fb",
       "version_major": 2,
       "version_minor": 0
      },
      "text/plain": [
       "Generated datasets:   0%|          | 0/5 [00:00<?, ?it/s]"
      ]
     },
     "metadata": {},
     "output_type": "display_data"
    },
    {
     "data": {
      "application/vnd.jupyter.widget-view+json": {
       "model_id": "",
       "version_major": 2,
       "version_minor": 0
      },
      "text/plain": [
       "Progress generating dataset 1:   0%|          | 0/20 [00:00<?, ?it/s]"
      ]
     },
     "metadata": {},
     "output_type": "display_data"
    },
    {
     "data": {
      "application/vnd.jupyter.widget-view+json": {
       "model_id": "",
       "version_major": 2,
       "version_minor": 0
      },
      "text/plain": [
       "Progress generating dataset 2:   0%|          | 0/20 [00:00<?, ?it/s]"
      ]
     },
     "metadata": {},
     "output_type": "display_data"
    },
    {
     "data": {
      "application/vnd.jupyter.widget-view+json": {
       "model_id": "",
       "version_major": 2,
       "version_minor": 0
      },
      "text/plain": [
       "Progress generating dataset 3:   0%|          | 0/20 [00:00<?, ?it/s]"
      ]
     },
     "metadata": {},
     "output_type": "display_data"
    },
    {
     "data": {
      "application/vnd.jupyter.widget-view+json": {
       "model_id": "",
       "version_major": 2,
       "version_minor": 0
      },
      "text/plain": [
       "Progress generating dataset 4:   0%|          | 0/20 [00:00<?, ?it/s]"
      ]
     },
     "metadata": {},
     "output_type": "display_data"
    },
    {
     "data": {
      "application/vnd.jupyter.widget-view+json": {
       "model_id": "",
       "version_major": 2,
       "version_minor": 0
      },
      "text/plain": [
       "Progress generating dataset 5:   0%|          | 0/20 [00:00<?, ?it/s]"
      ]
     },
     "metadata": {},
     "output_type": "display_data"
    }
   ],
   "source": [
    "generate_multiple_datasets(tg_qt, dataset_gen_dir, subfolder = \"tabGAN-qt\")"
   ]
  },
  {
   "cell_type": "code",
   "execution_count": 215,
   "id": "fec8aa61",
   "metadata": {},
   "outputs": [
    {
     "data": {
      "application/vnd.jupyter.widget-view+json": {
       "model_id": "e0599e7842004fa983c5b3f40d17b0b5",
       "version_major": 2,
       "version_minor": 0
      },
      "text/plain": [
       "Generated datasets:   0%|          | 0/5 [00:00<?, ?it/s]"
      ]
     },
     "metadata": {},
     "output_type": "display_data"
    },
    {
     "data": {
      "application/vnd.jupyter.widget-view+json": {
       "model_id": "",
       "version_major": 2,
       "version_minor": 0
      },
      "text/plain": [
       "Progress generating dataset 1:   0%|          | 0/20 [00:00<?, ?it/s]"
      ]
     },
     "metadata": {},
     "output_type": "display_data"
    },
    {
     "data": {
      "application/vnd.jupyter.widget-view+json": {
       "model_id": "",
       "version_major": 2,
       "version_minor": 0
      },
      "text/plain": [
       "Progress generating dataset 2:   0%|          | 0/20 [00:00<?, ?it/s]"
      ]
     },
     "metadata": {},
     "output_type": "display_data"
    },
    {
     "data": {
      "application/vnd.jupyter.widget-view+json": {
       "model_id": "",
       "version_major": 2,
       "version_minor": 0
      },
      "text/plain": [
       "Progress generating dataset 3:   0%|          | 0/20 [00:00<?, ?it/s]"
      ]
     },
     "metadata": {},
     "output_type": "display_data"
    },
    {
     "data": {
      "application/vnd.jupyter.widget-view+json": {
       "model_id": "",
       "version_major": 2,
       "version_minor": 0
      },
      "text/plain": [
       "Progress generating dataset 4:   0%|          | 0/20 [00:00<?, ?it/s]"
      ]
     },
     "metadata": {},
     "output_type": "display_data"
    },
    {
     "data": {
      "application/vnd.jupyter.widget-view+json": {
       "model_id": "",
       "version_major": 2,
       "version_minor": 0
      },
      "text/plain": [
       "Progress generating dataset 5:   0%|          | 0/20 [00:00<?, ?it/s]"
      ]
     },
     "metadata": {},
     "output_type": "display_data"
    }
   ],
   "source": [
    "generate_multiple_datasets(tg_qtr, dataset_gen_dir, subfolder = \"tabGAN-qtr\")"
   ]
  },
  {
   "cell_type": "code",
   "execution_count": null,
   "id": "5d6bf4b4",
   "metadata": {},
   "outputs": [],
   "source": [
    "\n",
    "dataset_dir_ctgan = os.path.join(dataset_gen_dir, \"CTGAN\") \n",
    "os.makedirs(dataset_dir_ctgan, exist_ok = True)\n",
    "for i in tqdm(range(n_synthetic_datasets), desc = \"Generated datasets\"):\n",
    "\n",
    "    ctgan = CTGANSynthesizer(epochs=n_epochs, discriminator_steps=n_critic)\n",
    "    ctgan.fit(data_train, tg.columns_discrete)\n",
    "    fake_train = ctgan.sample(data_train.shape[0])\n",
    "    fake_train.to_csv(os.path.join(dataset_dir_ctgan, f\"gen{i}.csv\"))"
   ]
  },
  {
   "cell_type": "code",
   "execution_count": 257,
   "id": "fd0dde5c",
   "metadata": {},
   "outputs": [
    {
     "data": {
      "text/plain": [
       "Age                  int64\n",
       "Workclass         category\n",
       "fnlwgt               int64\n",
       "Education         category\n",
       "Education.Num        int64\n",
       "Marital.Status    category\n",
       "Occupation        category\n",
       "Race              category\n",
       "Sex               category\n",
       "Capital.Gain         int64\n",
       "Hours.per.week       int64\n",
       "Country           category\n",
       "Salary            category\n",
       "dtype: object"
      ]
     },
     "execution_count": 257,
     "metadata": {},
     "output_type": "execute_result"
    }
   ],
   "source": [
    "data_train.dtypes"
   ]
  },
  {
   "cell_type": "code",
   "execution_count": 301,
   "id": "59a4bf6d",
   "metadata": {},
   "outputs": [
    {
     "data": {
      "application/vnd.jupyter.widget-view+json": {
       "model_id": "439c7c1a18a34e6da05e090f4dab6b84",
       "version_major": 2,
       "version_minor": 0
      },
      "text/plain": [
       "  0%|          | 0/16 [00:00<?, ?it/s]"
      ]
     },
     "metadata": {},
     "output_type": "display_data"
    },
    {
     "data": {
      "text/html": [
       "<div>\n",
       "<style scoped>\n",
       "    .dataframe tbody tr th:only-of-type {\n",
       "        vertical-align: middle;\n",
       "    }\n",
       "\n",
       "    .dataframe tbody tr th {\n",
       "        vertical-align: top;\n",
       "    }\n",
       "\n",
       "    .dataframe thead th {\n",
       "        text-align: right;\n",
       "    }\n",
       "</style>\n",
       "<table border=\"1\" class=\"dataframe\">\n",
       "  <thead>\n",
       "    <tr style=\"text-align: right;\">\n",
       "      <th></th>\n",
       "      <th>Model</th>\n",
       "      <th>Accuracy</th>\n",
       "      <th>AUC</th>\n",
       "      <th>SD Accuracy</th>\n",
       "      <th>SD AUC</th>\n",
       "    </tr>\n",
       "  </thead>\n",
       "  <tbody>\n",
       "    <tr>\n",
       "      <th>0</th>\n",
       "      <td>Train dataset</td>\n",
       "      <td>0.82856</td>\n",
       "      <td>0.870968</td>\n",
       "      <td>0</td>\n",
       "      <td>0</td>\n",
       "    </tr>\n",
       "    <tr>\n",
       "      <th>1</th>\n",
       "      <td>tabGAN</td>\n",
       "      <td>0.808614</td>\n",
       "      <td>0.842037</td>\n",
       "      <td>0.008287</td>\n",
       "      <td>0.005719</td>\n",
       "    </tr>\n",
       "    <tr>\n",
       "      <th>2</th>\n",
       "      <td>tabGAN-qt</td>\n",
       "      <td>0.813221</td>\n",
       "      <td>0.839334</td>\n",
       "      <td>0.004017</td>\n",
       "      <td>0.00671</td>\n",
       "    </tr>\n",
       "    <tr>\n",
       "      <th>3</th>\n",
       "      <td>tabGAN-qtr</td>\n",
       "      <td>0.808384</td>\n",
       "      <td>0.837567</td>\n",
       "      <td>0.006518</td>\n",
       "      <td>0.006155</td>\n",
       "    </tr>\n",
       "  </tbody>\n",
       "</table>\n",
       "</div>"
      ],
      "text/plain": [
       "           Model  Accuracy       AUC SD Accuracy    SD AUC\n",
       "0  Train dataset   0.82856  0.870968           0         0\n",
       "1         tabGAN  0.808614  0.842037    0.008287  0.005719\n",
       "2      tabGAN-qt  0.813221  0.839334    0.004017   0.00671\n",
       "3     tabGAN-qtr  0.808384  0.837567    0.006518  0.006155"
      ]
     },
     "execution_count": 301,
     "metadata": {},
     "output_type": "execute_result"
    }
   ],
   "source": [
    "%run \"$utils_path\"\n",
    "def evaluate_tabGAN_through_prediction(data_train, data_test, dataset_dir, subfolders, n_synthetic_datasets,\n",
    "                                      name_true_train_dataset = \"Train dataset\"):\n",
    "    with tqdm(total=len(subfolders)*n_synthetic_datasets + 1) as pbar:\n",
    "        models = [name_true_train_dataset] + subfolders\n",
    "        result = pd.DataFrame({\"Model\" : models, \"Accuracy\" : None, \"AUC\" : None,\n",
    "                              \"SD Accuracy\" : None, \"SD AUC\" : None})\n",
    "        accuracy, auc, categories = fit_and_evaluate_xgboost(data_train, data_test, retcats = True)\n",
    "        result.loc[0, 1:] = [accuracy, auc, 0, 0]\n",
    "        pbar.update(1)\n",
    "\n",
    "        for i, subfolder in enumerate(subfolders, start=1):\n",
    "            accuracy_vec = np.zeros(n_synthetic_datasets)\n",
    "            auc_vec = np.zeros(n_synthetic_datasets)\n",
    "            curr_dataset_dir = os.path.join(dataset_dir, subfolder)\n",
    "            for j in range(n_synthetic_datasets):\n",
    "                path = os.path.join(curr_dataset_dir, f\"gen{j}.csv\")\n",
    "                fake_train = pd.read_csv(path, index_col = 0)\n",
    "                eval_result = fit_and_evaluate_xgboost(fake_train, data_test, categories = categories)\n",
    "                accuracy_vec[j] = eval_result[0]\n",
    "                auc_vec[j] = eval_result[1]\n",
    "                pbar.update(1)\n",
    "            accuracy = np.mean(accuracy_vec)\n",
    "            auc = np.mean(auc_vec)\n",
    "            accuracy_std = np.std(accuracy_vec)\n",
    "            auc_std = np.std(auc_vec)\n",
    "            result.loc[i,1:] = [accuracy, auc, accuracy_std, auc_std]\n",
    "        return result\n",
    "\n",
    "subfolders = [\"tabGAN\", \"tabGAN-qt\", \"tabGAN-qtr\"]\n",
    "evaluate_tabGAN_through_prediction(data_train, data_test, dataset_gen_dir, subfolders, n_synthetic_datasets)"
   ]
  },
  {
   "cell_type": "code",
   "execution_count": 240,
   "id": "c8b42c1a",
   "metadata": {},
   "outputs": [
    {
     "data": {
      "text/plain": [
       "(0.8588867562380038, 0.9130059479831407)"
      ]
     },
     "execution_count": 240,
     "metadata": {},
     "output_type": "execute_result"
    }
   ],
   "source": [
    "fit_and_evaluate_xgboost(data_train, data_test)"
   ]
  },
  {
   "cell_type": "code",
   "execution_count": 80,
   "id": "5dde7b68",
   "metadata": {},
   "outputs": [
    {
     "data": {
      "text/plain": [
       "array([[9.6925890e-01, 3.0741094e-02],\n",
       "       [9.9993169e-01, 6.8289570e-05],\n",
       "       [1.1990845e-02, 9.8800915e-01],\n",
       "       ...,\n",
       "       [6.2051153e-01, 3.7948847e-01],\n",
       "       [2.2474742e-01, 7.7525258e-01],\n",
       "       [8.6652040e-01, 1.3347962e-01]], dtype=float32)"
      ]
     },
     "execution_count": 80,
     "metadata": {},
     "output_type": "execute_result"
    }
   ],
   "source": []
  },
  {
   "cell_type": "code",
   "execution_count": 3,
   "id": "176c7e9c",
   "metadata": {},
   "outputs": [],
   "source": []
  },
  {
   "cell_type": "code",
   "execution_count": null,
   "id": "3301dae0",
   "metadata": {},
   "outputs": [],
   "source": [
    "def modelfit(alg, dtrain, predictors,useTrainCV=True, cv_folds=5, early_stopping_rounds=50):\n",
    "    \n",
    "    if useTrainCV:\n",
    "        xgb_param = alg.get_xgb_params()\n",
    "        xgtrain = xgb.DMatrix(dtrain[predictors].values, label=dtrain[target].values)\n",
    "        cvresult = xgb.cv(xgb_param, xgtrain, num_boost_round=alg.get_params()['n_estimators'], nfold=cv_folds,metrics='auc', early_stopping_rounds=early_stopping_rounds)\n",
    "        alg.set_params(n_estimators=cvresult.shape[0])\n",
    "    \n",
    "    #Fit the algorithm on the data\n",
    "    alg.fit(dtrain[predictors], dtrain['income'],eval_metric='auc')\n",
    "        \n",
    "    #Predict training set:\n",
    "    dtrain_predictions = alg.predict(dtrain[predictors])\n",
    "    dtrain_predprob = alg.predict_proba(dtrain[predictors])[:,1]\n",
    "    \n",
    "    #Print model report:\n",
    "    print(\"\\nModel Report\")\n",
    "    print(\"Accuracy : %.4g\" % metrics.accuracy_score(dtrain['income'].values, dtrain_predictions))\n",
    "    print(\"AUC Score (Train): %f\" % metrics.roc_auc_score(dtrain['income'], dtrain_predprob))\n",
    "\n",
    "    feat_imp = pd.Series(alg.booster().get_fscore()).sort_values(ascending=False)\n",
    "    feat_imp.plot(kind='bar', title='Feature Importances')\n",
    "    plt.ylabel('Feature Importance Score')"
   ]
  },
  {
   "cell_type": "code",
   "execution_count": null,
   "id": "75590925",
   "metadata": {},
   "outputs": [],
   "source": [
    "#Choose all predictors except target & IDcols\n",
    "predictors = [x for x in train.columns if x not in [target, IDcol]]\n",
    "xgb1 = XGBClassifier(\n",
    " learning_rate =0.1,\n",
    " n_estimators=1000,\n",
    " max_depth=5,\n",
    " min_child_weight=1,\n",
    " gamma=0,\n",
    " subsample=0.8,\n",
    " colsample_bytree=0.8,\n",
    " objective= 'binary:logistic',\n",
    " nthread=4,\n",
    " scale_pos_weight=1,\n",
    " seed=27)\n",
    "\n",
    "\n",
    "modelfit(xgb1, train, predictors)"
   ]
  },
  {
   "cell_type": "code",
   "execution_count": null,
   "id": "b298e202",
   "metadata": {},
   "outputs": [],
   "source": [
    "xgb2 = XGBClassifier(\n",
    " learning_rate =0.1,\n",
    " n_estimators=1000,\n",
    " max_depth=5,\n",
    " min_child_weight=0,\n",
    " gamma=0,\n",
    " subsample=0.8,\n",
    " colsample_bytree=0.8,\n",
    " objective= 'binary:logistic',\n",
    " nthread=4,\n",
    " scale_pos_weight=1,\n",
    " seed=27)\n",
    "modelfit(xgb2, train, predictors)"
   ]
  }
 ],
 "metadata": {
  "kernelspec": {
   "display_name": "tf",
   "language": "python",
   "name": "tf"
  },
  "language_info": {
   "codemirror_mode": {
    "name": "ipython",
    "version": 3
   },
   "file_extension": ".py",
   "mimetype": "text/x-python",
   "name": "python",
   "nbconvert_exporter": "python",
   "pygments_lexer": "ipython3",
   "version": "3.7.11"
  }
 },
 "nbformat": 4,
 "nbformat_minor": 5
}
